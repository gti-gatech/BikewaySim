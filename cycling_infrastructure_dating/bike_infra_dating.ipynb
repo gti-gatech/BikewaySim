{
 "cells": [
  {
   "cell_type": "markdown",
   "metadata": {},
   "source": [
    "# Bicycle Infrastructure Dating\n",
    "This notebook is for determining the approximate build date (when facility was available for use) of bike facilities."
   ]
  },
  {
   "cell_type": "code",
   "execution_count": null,
   "metadata": {},
   "outputs": [],
   "source": [
    "import geopandas as gpd\n",
    "import pandas as pd\n",
    "from pathlib import Path\n",
    "import matching_script\n",
    "import json\n",
    "\n",
    "config = json.load((Path.cwd().parent / 'config.json').open('rb'))\n",
    "export_fp = Path(config['project_directory']) / 'Cycling_Infra_Dating'"
   ]
  },
  {
   "cell_type": "markdown",
   "metadata": {},
   "source": [
    "## Import the 2023 OSM bicycle network\n"
   ]
  },
  {
   "cell_type": "code",
   "execution_count": null,
   "metadata": {},
   "outputs": [],
   "source": [
    "cycleways_osm = gpd.read_file(export_fp/'osm_cycleways.gpkg')\n",
    "cycleways_osm = cycleways_osm.loc[cycleways_osm['year']=='2023',['osmid','highway','name','facility_fwd','facility_rev','geometry']]"
   ]
  },
  {
   "cell_type": "markdown",
   "metadata": {},
   "source": [
    "# Suggested Matches Script\n",
    "Buffers the OSM cycleways and intersects it with the other bicycle inventory file. Check the names and the similarity of the intersected features to the original features. Results should be manually verified in QGIS."
   ]
  },
  {
   "cell_type": "markdown",
   "metadata": {},
   "source": [
    "### Settings"
   ]
  },
  {
   "cell_type": "code",
   "execution_count": null,
   "metadata": {},
   "outputs": [],
   "source": [
    "buffer_ft = 100 # buffer the osm cycleways by this much\n",
    "max_hausdorff_dist_ft = 3000 # if above this, reject a match"
   ]
  },
  {
   "cell_type": "code",
   "execution_count": null,
   "metadata": {},
   "outputs": [],
   "source": [
    "#import processed versions\n",
    "coa = gpd.read_file(export_fp/'reference_layers.gpkg',layer='coa')\n",
    "arc = gpd.read_file(export_fp/'reference_layers.gpkg',layer='arc')\n",
    "\n",
    "#perform overlap\n",
    "coa_overlap = matching_script.suggested_matches(cycleways_osm,coa,'coa',buffer_ft,max_hausdorff_dist_ft)\n",
    "arc_overlap = matching_script.suggested_matches(cycleways_osm,arc,'arc',buffer_ft,max_hausdorff_dist_ft)\n",
    "\n",
    "#export\n",
    "coa_overlap.to_file(export_fp/'suggested_matches.gpkg',layer='coa')\n",
    "arc_overlap.to_file(export_fp/'suggested_matches.gpkg',layer='arc')"
   ]
  },
  {
   "cell_type": "code",
   "execution_count": null,
   "metadata": {},
   "outputs": [],
   "source": [
    "print('Total Matches:')\n",
    "print('coa:',coa_overlap.shape[0],'arc:',arc_overlap.shape[0])\n",
    "print('Undecided:')\n",
    "print('coa:',coa_overlap['accept_match'].isna().sum(),'arc:',arc_overlap['accept_match'].isna().sum())\n",
    "print('Accept:')\n",
    "print('coa:',(coa_overlap['accept_match']==1).sum(),'arc:',(arc_overlap['accept_match']==1).sum())\n",
    "print('Reject:')\n",
    "print('coa:',(coa_overlap['accept_match']==0).sum(),'arc:',(arc_overlap['accept_match']==0).sum())"
   ]
  },
  {
   "cell_type": "markdown",
   "metadata": {},
   "source": [
    "# Missing Infrastructure (ID version)\n",
    "Find the coa/arc features that were not considered in the overlap step"
   ]
  },
  {
   "cell_type": "code",
   "execution_count": null,
   "metadata": {},
   "outputs": [],
   "source": [
    "#load the suggested infra\n",
    "coa_overlap = gpd.read_file(export_fp/'suggested_matches.gpkg',layer='coa')\n",
    "arc_overlap = gpd.read_file(export_fp/'suggested_matches.gpkg',layer='arc')\n",
    "\n",
    "#get ids of accepted matches\n",
    "suggested_coa_ids = coa_overlap.loc[coa_overlap['accept_match'] == '1','coa_id'].unique().tolist()\n",
    "suggested_arc_ids = arc_overlap.loc[arc_overlap['accept_match'] == '1','arc_id'].unique().tolist()"
   ]
  },
  {
   "cell_type": "code",
   "execution_count": null,
   "metadata": {},
   "outputs": [],
   "source": [
    "#import raw versions\n",
    "coa = gpd.read_file(export_fp/'reference_layers.gpkg',layer='coa')\n",
    "arc = gpd.read_file(export_fp/'reference_layers.gpkg',layer='arc')\n",
    "#garber = gpd.read_file(export_fp/'reference_layers.gpkg',layer='garber')"
   ]
  },
  {
   "cell_type": "code",
   "execution_count": null,
   "metadata": {},
   "outputs": [],
   "source": [
    "#what's not covered\n",
    "coa_inv = coa[coa['coa_id'].isin(suggested_coa_ids) == False].copy()\n",
    "arc_inv = arc[arc['arc_id'].isin(suggested_arc_ids) == False].copy()\n",
    "print(coa_inv.shape[0],arc_inv.shape[0],'not covered by osm cycleways')"
   ]
  },
  {
   "cell_type": "code",
   "execution_count": null,
   "metadata": {},
   "outputs": [],
   "source": [
    "coa_inv['examined'] = None\n",
    "coa_inv['include'] = None\n",
    "coa_inv['suggested_osmid'] = None\n",
    "coa_inv['notes'] = None\n",
    "coa_inv.to_file(export_fp/'missing.gpkg',layer='coa')\n",
    "\n",
    "arc_inv['examined'] = None\n",
    "arc_inv['include'] = None\n",
    "arc_inv['suggested_osmid'] = None\n",
    "arc_inv['notes'] = None\n",
    "arc_inv.to_file(export_fp/'missing.gpkg',layer='arc')"
   ]
  },
  {
   "cell_type": "markdown",
   "metadata": {},
   "source": [
    "# Add dates to OSM cycleways network"
   ]
  },
  {
   "cell_type": "code",
   "execution_count": null,
   "metadata": {},
   "outputs": [],
   "source": [
    "cycleways_osm = gpd.read_file(export_fp/'osm_cycleways.gpkg')\n",
    "cycleways_osm = cycleways_osm.loc[cycleways_osm['year']=='2023',['osmid','highway','name','facility_fwd','facility_rev','geometry']]"
   ]
  },
  {
   "cell_type": "code",
   "execution_count": null,
   "metadata": {},
   "outputs": [],
   "source": [
    "coa_overlap.columns"
   ]
  },
  {
   "cell_type": "code",
   "execution_count": null,
   "metadata": {},
   "outputs": [],
   "source": [
    "# merge_cols = ['coa_id', 'coa_facilitytype', 'coa_builtby', 'coa_name',\n",
    "#        'coa_onroad', 'coa_bothside', 'coa_year', 'coa_need_date',\n",
    "#        'coa_osm_type', 'osmid']\n",
    "accepted_coa = coa_overlap.loc[coa_overlap['accept_match']=='1',['osmid','coa_year']]\n",
    "cycleways_osm_coa = pd.merge(cycleways_osm,accepted_coa,on='osmid',how='left')"
   ]
  },
  {
   "cell_type": "code",
   "execution_count": null,
   "metadata": {},
   "outputs": [],
   "source": [
    "# merge_cols = ['arc_id', 'arc_name', 'arc_spec', 'arc_width', 'arc_material',\n",
    "#        'arc_year', 'arc_need_date', 'arc_osm_type', 'osmid']\n",
    "accepted_arc = arc_overlap.loc[arc_overlap['accept_match']=='1',['osmid','arc_year']]\n",
    "cycleways_osm_coa_arc = pd.merge(cycleways_osm_coa,accepted_arc,on='osmid',how='left')"
   ]
  },
  {
   "cell_type": "code",
   "execution_count": null,
   "metadata": {},
   "outputs": [],
   "source": [
    "cycleways_osm_coa_arc[cycleways_osm_coa_arc[['arc_year','coa_year']].notnull().any(axis=1)].explore()"
   ]
  },
  {
   "cell_type": "code",
   "execution_count": null,
   "metadata": {},
   "outputs": [],
   "source": [
    "import numpy as np\n",
    "\n",
    "#if both coa and arc date, take the coa date, otherwise arc\n",
    "def date_fix(row):\n",
    "    if row['coa_year'] != row['arc_year']:\n",
    "        return row['coa_year']\n",
    "    else:\n",
    "        return row['arc_year']\n",
    "cycleways_osm_coa_arc['year'] = cycleways_osm_coa_arc.apply(lambda row: date_fix(row),axis=1)\n",
    "cycleways_osm_coa_arc.loc[cycleways_osm_coa_arc['year'].isna(),'year'] = np.nan"
   ]
  },
  {
   "cell_type": "code",
   "execution_count": null,
   "metadata": {},
   "outputs": [],
   "source": [
    "# find the osm earliest appearance, if it's post 2020 then it definitely wasn't in the study area"
   ]
  },
  {
   "cell_type": "code",
   "execution_count": null,
   "metadata": {},
   "outputs": [],
   "source": [
    "#TODO Set certain facilities to year=0 if it's not a bike lane or PATH trail (i.e., facilities not present in the newer data sources)\n",
    "cycleways_osm_coa_arc.columns"
   ]
  },
  {
   "cell_type": "code",
   "execution_count": null,
   "metadata": {},
   "outputs": [],
   "source": [
    "# cycleways_osm_coa_arc['min_date'] = cycleways_osm_coa_arc[['arc_year','coa_year']].min(axis=1)\n",
    "# cycleways_osm_coa_arc['max_date'] = cycleways_osm_coa_arc[['arc_year','coa_year']].max(axis=1)\n",
    "\n",
    "# #set null value\n",
    "# cycleways_osm_coa_arc.loc[cycleways_osm_coa_arc['min_date'].isna(),'min_date'] = 0\n",
    "# cycleways_osm_coa_arc.loc[cycleways_osm_coa_arc['max_date'].isna(),'max_date'] = 0"
   ]
  },
  {
   "cell_type": "code",
   "execution_count": null,
   "metadata": {},
   "outputs": [],
   "source": [
    "#network_osm = gpd.read_file(Path(config['project_directory'])/f\"Network/networks.gpkg\",layer='osm_links')"
   ]
  },
  {
   "cell_type": "markdown",
   "metadata": {},
   "source": [
    "# Export final"
   ]
  },
  {
   "cell_type": "code",
   "execution_count": null,
   "metadata": {},
   "outputs": [],
   "source": [
    "cycleways_osm_coa_arc.to_file(export_fp/'osm_cycleways_w_dates.gpkg',layer='test_dates')"
   ]
  },
  {
   "cell_type": "markdown",
   "metadata": {},
   "source": [
    "# Add reference osm files"
   ]
  },
  {
   "cell_type": "code",
   "execution_count": null,
   "metadata": {},
   "outputs": [],
   "source": [
    "# years = [2014,2015,2016,2023]\n",
    "\n",
    "# for year in years:\n",
    "#     raw_osm = gpd.read_file(Path(config['project_directory'])/f\"OSM_Download/osm_{year}.gpkg\",layer='raw')\n",
    "#     raw_osm.to_file(export_fp/'reference_layers.gpkg',layer=f\"osm_{year}\")\n",
    "#     del raw_osm"
   ]
  },
  {
   "cell_type": "markdown",
   "metadata": {},
   "source": [
    "# Create a version of OSM for editing and adding data to (only run once)"
   ]
  },
  {
   "cell_type": "code",
   "execution_count": null,
   "metadata": {},
   "outputs": [],
   "source": [
    "# osm = gpd.read_file(export_fp/'reference_layers.gpkg',layer='osm_2023')\n",
    "# overwrite = False\n",
    "# if overwrite:\n",
    "#     osm.to_file(export_fp/'osm_edit.gpkg')"
   ]
  },
  {
   "cell_type": "code",
   "execution_count": null,
   "metadata": {},
   "outputs": [],
   "source": [
    "# <!-- # Missing Infrastructure (Geometry Version)\n",
    "# buffer_ft = 100\n",
    "# overwrite_diff = False\n",
    "# confirm_diff = False\n",
    "# # import the 2023 OSM bicycle network\n",
    "# cycleways_osm = gpd.read_file(export_fp/'osm_cycleways.gpkg')\n",
    "# cycleways_osm = cycleways_osm.loc[cycleways_osm['year']=='2023']\n",
    "\n",
    "# # get unary union of all features after buffering\n",
    "# cycleways_osm_all = cycleways_osm.buffer(buffer_ft).unary_union\n",
    "# arc_diff = arc[arc.geometry.intersects(cycleways_osm_all) == False]\n",
    "# coa_diff = coa[coa.geometry.intersects(cycleways_osm_all) == False]\n",
    "# garber_diff = garber[garber.geometry.intersects(cycleways_osm_all) == False]\n",
    "# overwrite = False\n",
    "# if overwrite:\n",
    "#     coa_diff['valid_difference'] = None\n",
    "#     coa_diff['notes'] = None\n",
    "#     coa_diff.to_file(export_fp/'differences.gpkg',layer='coa')\n",
    "    \n",
    "#     arc_diff['valid_difference'] = None\n",
    "#     arc_diff['notes'] = None\n",
    "#     arc_diff.to_file(export_fp/'differences.gpkg',layer='arc')\n",
    "\n",
    "#     garber_diff['valid_difference'] = None\n",
    "#     garber_diff['notes'] = None\n",
    "#     garber_diff.to_file(export_fp/'differences.gpkg',layer='garber')\n",
    "\n",
    "# raw_osm = gpd.read_file(Path(config['project_directory'])/f\"OSM_Download/osm_{config['geofabrik_year']}.gpkg\",layer='raw')\n",
    "# raw_osm.to_crs(config['projected_crs_epsg'],inplace=True)\n",
    "# final_confirm = False\n",
    "# if (overwrite_check(overwrite_diff,confirm_diff) == True) & (final_confirm == True):\n",
    "#     raw_osm['arc_feature_id'] = None\n",
    "#     raw_osm['coa_feature_id'] = None\n",
    "#     raw_osm['garber_feature_id'] = None\n",
    "#     raw_osm.to_file(export_fp/'differences.gpkg',layer='osm_edit')\n",
    "# # raw_osm = gpd.read_file(Path(config['project_directory'])/f\"OSM_Download/osm_{config['geofabrik_year']}.gpkg\",layer='raw')\n",
    "# # raw_osm.to_crs(config['projected_crs_epsg'],inplace=True)\n",
    "# # final_confirm = True\n",
    "# # if (overwrite_check(overwrite_diff,confirm_diff) == True) & (final_confirm == True):\n",
    "# #     raw_osm['arc_feature_id'] = None\n",
    "# #     raw_osm['coa_feature_id'] = None\n",
    "# #     raw_osm['garber_feature_id'] = None\n",
    "# #     raw_osm.to_file(export_fp/'differences.gpkg',layer='osm_edit')\n",
    "# # #based on the 2023-01-01 Geofabrik Georgia Extract\n",
    "# # #osm = gpd.read_file(Path(config['project_directory'])/'Network/networks.gpkg',layer='osm_links')\n",
    "# # osm = gpd.read_file(Path(config['project_directory'])/f\"OSM_Download/osm_2023.gpkg\",layer='raw',ignore_geometry=True)\n",
    "# # #osm = pd.merge(osm,raw_osm,on='osmid',how='left')\n",
    "\n",
    "# # #create new fields for install dates\n",
    "# # osm['install_year'] = None\n",
    "# # osm['install_month'] = None\n",
    "# # osm['install_day'] = None\n",
    "\n",
    "# # #create new fields for updated fwd and rev infra types\n",
    "# # osm['facility_fwd'] = None\n",
    "# # osm['facility_rev'] = None\n",
    "\n",
    "# # #create field for notes\n",
    "# # osm['notes'] = None\n",
    "\n",
    "# # #create field for edit date\n",
    "# # osm['last_edited'] = None -->"
   ]
  }
 ],
 "metadata": {
  "kernelspec": {
   "display_name": "Python 3",
   "language": "python",
   "name": "python3"
  },
  "language_info": {
   "codemirror_mode": {
    "name": "ipython",
    "version": 3
   },
   "file_extension": ".py",
   "mimetype": "text/x-python",
   "name": "python",
   "nbconvert_exporter": "python",
   "pygments_lexer": "ipython3",
   "version": "3.9.13"
  }
 },
 "nbformat": 4,
 "nbformat_minor": 2
}

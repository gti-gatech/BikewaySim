{
 "cells": [
  {
   "cell_type": "markdown",
   "id": "5311b73e",
   "metadata": {},
   "source": [
    "## Step 3 Create final network graph and calculate link costs\n",
    "\n",
    "1. Process network spatial data into a routable network graph format\n",
    "2. Reconcile networks into one through node and link overlap conflation\n",
    "3. __Create final network graph and calculate link costs__\n",
    "4. Create OD tables\n",
    "5. Run BikewaySim"
   ]
  },
  {
   "cell_type": "code",
   "execution_count": 5,
   "id": "98e273eb",
   "metadata": {},
   "outputs": [],
   "source": [
    "from pathlib import Path"
   ]
  },
  {
   "cell_type": "code",
   "execution_count": 6,
   "id": "76508cbc",
   "metadata": {},
   "outputs": [],
   "source": [
    "from prepare_network import *"
   ]
  },
  {
   "attachments": {},
   "cell_type": "markdown",
   "id": "14c75001",
   "metadata": {},
   "source": [
    "## Export Filepath"
   ]
  },
  {
   "cell_type": "code",
   "execution_count": null,
   "id": "69497cb8",
   "metadata": {},
   "outputs": [],
   "source": [
    "export_fp = Path.home() / Path('Documents/BikewaySimData/trb2023')"
   ]
  },
  {
   "attachments": {},
   "cell_type": "markdown",
   "id": "b32740cb",
   "metadata": {},
   "source": [
    "#### Retrieve Relevant Attributes for Specifying Link Costs\n",
    "In the network attributes folder there are several '.py' files. These were used to format the network file."
   ]
  },
  {
   "cell_type": "code",
   "execution_count": null,
   "id": "d8228409",
   "metadata": {},
   "outputs": [],
   "source": []
  },
  {
   "cell_type": "code",
   "execution_count": null,
   "id": "8b7f5205",
   "metadata": {},
   "outputs": [],
   "source": []
  },
  {
   "cell_type": "code",
   "execution_count": null,
   "id": "2ac1c6c7",
   "metadata": {},
   "outputs": [],
   "source": []
  },
  {
   "attachments": {},
   "cell_type": "markdown",
   "id": "7ef79a47",
   "metadata": {},
   "source": [
    "## Link Costs Dictionary\n",
    "Dict keys must correspond to column names in links GeoDataFrame.\n",
    "The links cost funciton is off this format:\n",
    "$$ linkcost = linkdistance * (1-\\sum \\beta x) $$\n",
    "\n",
    "Negative attributes **decrease** impedance  \n",
    "Positive attributes **increase** impedance"
   ]
  },
  {
   "cell_type": "code",
   "execution_count": 7,
   "id": "65a05805",
   "metadata": {},
   "outputs": [],
   "source": [
    "costs = {\n",
    "    'bl':-0.05,\n",
    "    'pbl':-0.25,#0.95,\n",
    "    'mu':-0.25,\n",
    "    'below25':0,\n",
    "    '25-30':0.30,\n",
    "    'above30':1,\n",
    "    '1laneper':0,\n",
    "    '2to3lanesper':0.50,\n",
    "    '4ormorelanesper':1,\n",
    "    'wrongway':2       \n",
    "    }"
   ]
  },
  {
   "cell_type": "code",
   "execution_count": null,
   "id": "1eea69ed",
   "metadata": {},
   "outputs": [],
   "source": [
    "#%% TRB 2023 Code bring in links and nodes\n",
    "\n",
    "fp = Path.home() / Path('Documents/BikewaySimData/processed_shapefiles/conflation/finalized_networks/here_trb.gpkg')\n",
    "links = gpd.read_file(fp,layer='links')\n",
    "fp = Path.home() / Path('Documents/BikewaySimData/processed_shapefiles/here/here_bikewaysim_network.gpkg')\n",
    "nodes = gpd.read_file(fp,layer='roadbike_nodes')\n",
    "\n",
    "#prepare network\n",
    "links, nodes = prepare_network(links,nodes,costs,'imp')\n",
    "\n",
    "#export\n",
    "nodes.to_file(export_fp/Path('network.gpkg'),layer='nodes',driver='GPKG')\n",
    "links.to_file(export_fp/Path('network.gpkg'),layer='links',driver='GPKG')"
   ]
  },
  {
   "attachments": {},
   "cell_type": "markdown",
   "id": "6f3b6985",
   "metadata": {},
   "source": [
    "## See effects of link costs"
   ]
  },
  {
   "cell_type": "code",
   "execution_count": null,
   "id": "9355bd86",
   "metadata": {},
   "outputs": [],
   "source": [
    "#where did link costs go up?\n",
    "links[links['imp'] > links['dist']].to_file('link_cost_changes.gpkg',layer='increased')\n",
    "\n",
    "#where did they decrease?\n",
    "links[links['imp'] < links['dist']].to_file('link_cost_changes.gpkg',layer='decreased')"
   ]
  },
  {
   "cell_type": "code",
   "execution_count": null,
   "id": "e6285a5c",
   "metadata": {},
   "outputs": [],
   "source": [
    "#make improvements\n",
    "improvements = links.copy()\n",
    "changes = '10TH ST NW'\n",
    "#add mu\n",
    "improvements.loc[improvements['ST_NAME']==changes,'mu'] = 1\n",
    "\n",
    "#bring in new feature\n",
    "new = gpd.read_file('trb2023/network_improvements.gpkg',layer='new')\n",
    "\n",
    "#make reverse\n",
    "new = create_reverse_links(new)\n",
    "\n",
    "#add to network\n",
    "improvements = improvements.append(new)\n",
    "\n",
    "#add impr cost\n",
    "improvements['imp_dist'] = link_costs(improvements)\n",
    "\n",
    "#export\n",
    "improvements.to_file('trb2023/network.gpkg',layer='new_links',driver='GPKG')"
   ]
  },
  {
   "attachments": {},
   "cell_type": "markdown",
   "id": "a0c133a7",
   "metadata": {},
   "source": []
  },
  {
   "cell_type": "code",
   "execution_count": null,
   "id": "a62c313e",
   "metadata": {},
   "outputs": [],
   "source": []
  },
  {
   "cell_type": "code",
   "execution_count": null,
   "id": "c1cbdefa",
   "metadata": {},
   "outputs": [],
   "source": [
    "#%% NCST Project\n",
    "road_links = gpd.read_file(Path('processed_shapefiles/osm/osm_marta_network.gpkg'),layer='road_links')\n",
    "road_nodes = gpd.read_file(Path('processed_shapefiles/osm/osm_marta_network.gpkg'),layer='road_nodes')\n",
    "\n",
    "bike_links = gpd.read_file(Path('processed_shapefiles/osm/osm_marta_network.gpkg'),layer='bike_links')\n",
    "bike_nodes = gpd.read_file(Path('processed_shapefiles/osm/osm_marta_network.gpkg'),layer='bike_nodes')\n",
    "\n",
    "roadbike_links = road_links.append(bike_links)\n",
    "roadbike_nodes = road_nodes.append(bike_nodes).drop_duplicates()\n",
    "\n",
    "roadbike_links.rename(columns={'osm_A':'A','osm_B':'B'},inplace=True)\n",
    "\n",
    "links, nodes = prepare_network(roadbike_links,roadbike_nodes,link_costs=True)\n",
    "\n",
    "print('exporting...')\n",
    "links.to_file(Path.home() / Path('Documents/TransitSimData/Data/osm_network.gpkg'),layer='links',driver='GPKG')\n",
    "nodes.to_file(Path.home() / Path('Documents/TransitSimData/Data/osm_network.gpkg'),layer='nodes',driver='GPKG')\n",
    "print('done.')"
   ]
  }
 ],
 "metadata": {
  "kernelspec": {
   "display_name": "Python 3 (ipykernel)",
   "language": "python",
   "name": "python3"
  },
  "language_info": {
   "codemirror_mode": {
    "name": "ipython",
    "version": 3
   },
   "file_extension": ".py",
   "mimetype": "text/x-python",
   "name": "python",
   "nbconvert_exporter": "python",
   "pygments_lexer": "ipython3",
   "version": "3.9.13"
  },
  "varInspector": {
   "cols": {
    "lenName": 16,
    "lenType": 16,
    "lenVar": 40
   },
   "kernels_config": {
    "python": {
     "delete_cmd_postfix": "",
     "delete_cmd_prefix": "del ",
     "library": "var_list.py",
     "varRefreshCmd": "print(var_dic_list())"
    },
    "r": {
     "delete_cmd_postfix": ") ",
     "delete_cmd_prefix": "rm(",
     "library": "var_list.r",
     "varRefreshCmd": "cat(var_dic_list()) "
    }
   },
   "types_to_exclude": [
    "module",
    "function",
    "builtin_function_or_method",
    "instance",
    "_Feature"
   ],
   "window_display": false
  }
 },
 "nbformat": 4,
 "nbformat_minor": 5
}

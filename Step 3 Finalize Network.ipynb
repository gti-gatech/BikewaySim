{
 "cells": [
  {
   "cell_type": "markdown",
   "id": "5311b73e",
   "metadata": {},
   "source": [
    "## Step 3 Create final network graph and calculate link costs\n",
    "\n",
    "1. Process network spatial data into a routable network graph format\n",
    "2. Reconcile networks into one through node and link overlap conflation\n",
    "3. __Create final network graph and calculate link costs__\n",
    "4. Create OD tables\n",
    "5. Run BikewaySim"
   ]
  },
  {
   "cell_type": "code",
   "execution_count": 5,
   "id": "98e273eb",
   "metadata": {},
   "outputs": [],
   "source": [
    "from pathlib import Path"
   ]
  },
  {
   "cell_type": "code",
   "execution_count": 6,
   "id": "76508cbc",
   "metadata": {},
   "outputs": [],
   "source": [
    "from prepare_network import *\n"
   ]
  },
  {
   "attachments": {},
   "cell_type": "markdown",
   "id": "7ef79a47",
   "metadata": {},
   "source": [
    "## Link Costs Dictionary\n",
    "Dict keys must correspond to column names in links GeoDataFrame.\n",
    "The links cost funciton is off this format:\n",
    "$$ linkcost = linkdistance * (1-\\sum \\beta x) $$\n",
    "\n",
    "Negative attributes **decrease** impedance  \n",
    "Positive attributes **increase** impedance"
   ]
  },
  {
   "cell_type": "code",
   "execution_count": 7,
   "id": "65a05805",
   "metadata": {},
   "outputs": [],
   "source": [
    "costs = {\n",
    "    'bl':-0.05,\n",
    "    'pbl':-0.25,#0.95,\n",
    "    'mu':-0.25,\n",
    "    'below25':0,\n",
    "    '25-30':0.30,\n",
    "    'above30':1,\n",
    "    '1laneper':0,\n",
    "    '2to3lanesper':0.50,\n",
    "    '4ormorelanesper':1,\n",
    "    'wrongway':2       \n",
    "    }"
   ]
  },
  {
   "cell_type": "code",
   "execution_count": 9,
   "id": "1eea69ed",
   "metadata": {},
   "outputs": [
    {
     "ename": "AttributeError",
     "evalue": "'set' object has no attribute 'graph'",
     "output_type": "error",
     "traceback": [
      "\u001b[1;31m---------------------------------------------------------------------------\u001b[0m",
      "\u001b[1;31mAttributeError\u001b[0m                            Traceback (most recent call last)",
      "\u001b[1;32mc:\\Users\\tpassmore6\\Documents\\GitHub\\BikewaySimDev\\Step 3 Finalize Network.ipynb Cell 6\u001b[0m in \u001b[0;36m9\n\u001b[0;32m      <a href='vscode-notebook-cell:/c%3A/Users/tpassmore6/Documents/GitHub/BikewaySimDev/Step%203%20Finalize%20Network.ipynb#W2sZmlsZQ%3D%3D?line=5'>6</a>\u001b[0m nodes \u001b[39m=\u001b[39m gpd\u001b[39m.\u001b[39mread_file(fp,layer\u001b[39m=\u001b[39m\u001b[39m'\u001b[39m\u001b[39mroadbike_nodes\u001b[39m\u001b[39m'\u001b[39m)\n\u001b[0;32m      <a href='vscode-notebook-cell:/c%3A/Users/tpassmore6/Documents/GitHub/BikewaySimDev/Step%203%20Finalize%20Network.ipynb#W2sZmlsZQ%3D%3D?line=7'>8</a>\u001b[0m \u001b[39m#prepare network\u001b[39;00m\n\u001b[1;32m----> <a href='vscode-notebook-cell:/c%3A/Users/tpassmore6/Documents/GitHub/BikewaySimDev/Step%203%20Finalize%20Network.ipynb#W2sZmlsZQ%3D%3D?line=8'>9</a>\u001b[0m links, nodes \u001b[39m=\u001b[39m prepare_network(links,nodes,costs)\n\u001b[0;32m     <a href='vscode-notebook-cell:/c%3A/Users/tpassmore6/Documents/GitHub/BikewaySimDev/Step%203%20Finalize%20Network.ipynb#W2sZmlsZQ%3D%3D?line=10'>11</a>\u001b[0m \u001b[39m#export\u001b[39;00m\n\u001b[0;32m     <a href='vscode-notebook-cell:/c%3A/Users/tpassmore6/Documents/GitHub/BikewaySimDev/Step%203%20Finalize%20Network.ipynb#W2sZmlsZQ%3D%3D?line=11'>12</a>\u001b[0m nodes\u001b[39m.\u001b[39mto_file(Path\u001b[39m.\u001b[39mhome()\u001b[39m/\u001b[39mPath(\u001b[39m'\u001b[39m\u001b[39mDocuments/BikewaySimData/trb2023/network.gpkg\u001b[39m\u001b[39m'\u001b[39m),layer\u001b[39m=\u001b[39m\u001b[39m'\u001b[39m\u001b[39mnodes\u001b[39m\u001b[39m'\u001b[39m,driver\u001b[39m=\u001b[39m\u001b[39m'\u001b[39m\u001b[39mGPKG\u001b[39m\u001b[39m'\u001b[39m)\n",
      "File \u001b[1;32mc:\\Users\\tpassmore6\\Documents\\GitHub\\BikewaySimDev\\prepare_network.py:26\u001b[0m, in \u001b[0;36mprepare_network\u001b[1;34m(links, nodes, costs)\u001b[0m\n\u001b[0;32m     23\u001b[0m links \u001b[39m=\u001b[39m create_bws_links(links)\n\u001b[0;32m     25\u001b[0m \u001b[39m#drop unconnected links and remove interstitial nodes\u001b[39;00m\n\u001b[1;32m---> 26\u001b[0m links,nodes \u001b[39m=\u001b[39m largest_comp_and_simplify(links,nodes)\n\u001b[0;32m     28\u001b[0m \u001b[39m#create reverse streets\u001b[39;00m\n\u001b[0;32m     29\u001b[0m links \u001b[39m=\u001b[39m create_reverse_links(links)\n",
      "File \u001b[1;32mc:\\Users\\tpassmore6\\Documents\\GitHub\\BikewaySimDev\\prepare_network.py:127\u001b[0m, in \u001b[0;36mlargest_comp_and_simplify\u001b[1;34m(links, nodes)\u001b[0m\n\u001b[0;32m    124\u001b[0m largest_cc \u001b[39m=\u001b[39m \u001b[39mmax\u001b[39m(nx\u001b[39m.\u001b[39mconnected_components(G), key\u001b[39m=\u001b[39m\u001b[39mlen\u001b[39m)\n\u001b[0;32m    126\u001b[0m \u001b[39m#simplify graph connect links connect with nodes of degree 2\u001b[39;00m\n\u001b[1;32m--> 127\u001b[0m simple_graph \u001b[39m=\u001b[39m ox\u001b[39m.\u001b[39;49msimplification\u001b[39m.\u001b[39;49msimplify_graph(largest_cc)\n\u001b[0;32m    129\u001b[0m \u001b[39m#get nodes\u001b[39;00m\n\u001b[0;32m    130\u001b[0m nodes \u001b[39m=\u001b[39m nodes[nodes[\u001b[39m'\u001b[39m\u001b[39mN\u001b[39m\u001b[39m'\u001b[39m]\u001b[39m.\u001b[39misin(simple_graph)]\n",
      "File \u001b[1;32mc:\\Users\\tpassmore6\\Anaconda3\\envs\\geo-env\\lib\\site-packages\\osmnx\\simplification.py:224\u001b[0m, in \u001b[0;36msimplify_graph\u001b[1;34m(G, strict, remove_rings)\u001b[0m\n\u001b[0;32m    194\u001b[0m \u001b[39mdef\u001b[39;00m \u001b[39msimplify_graph\u001b[39m(G, strict\u001b[39m=\u001b[39m\u001b[39mTrue\u001b[39;00m, remove_rings\u001b[39m=\u001b[39m\u001b[39mTrue\u001b[39;00m):\n\u001b[0;32m    195\u001b[0m     \u001b[39m\"\"\"\u001b[39;00m\n\u001b[0;32m    196\u001b[0m \u001b[39m    Simplify a graph's topology by removing interstitial nodes.\u001b[39;00m\n\u001b[0;32m    197\u001b[0m \n\u001b[1;32m   (...)\u001b[0m\n\u001b[0;32m    222\u001b[0m \u001b[39m        each simplified edge\u001b[39;00m\n\u001b[0;32m    223\u001b[0m \u001b[39m    \"\"\"\u001b[39;00m\n\u001b[1;32m--> 224\u001b[0m     \u001b[39mif\u001b[39;00m \u001b[39m\"\u001b[39m\u001b[39msimplified\u001b[39m\u001b[39m\"\u001b[39m \u001b[39min\u001b[39;00m G\u001b[39m.\u001b[39;49mgraph \u001b[39mand\u001b[39;00m G\u001b[39m.\u001b[39mgraph[\u001b[39m\"\u001b[39m\u001b[39msimplified\u001b[39m\u001b[39m\"\u001b[39m]:  \u001b[39m# pragma: no cover\u001b[39;00m\n\u001b[0;32m    225\u001b[0m         \u001b[39mraise\u001b[39;00m \u001b[39mException\u001b[39;00m(\u001b[39m\"\u001b[39m\u001b[39mThis graph has already been simplified, cannot simplify it again.\u001b[39m\u001b[39m\"\u001b[39m)\n\u001b[0;32m    227\u001b[0m     utils\u001b[39m.\u001b[39mlog(\u001b[39m\"\u001b[39m\u001b[39mBegin topologically simplifying the graph...\u001b[39m\u001b[39m\"\u001b[39m)\n",
      "\u001b[1;31mAttributeError\u001b[0m: 'set' object has no attribute 'graph'"
     ]
    }
   ],
   "source": [
    "#%% TRB 2023 Code bring in links and nodes\n",
    "\n",
    "fp = Path.home() / Path('Documents/BikewaySimData/processed_shapefiles/conflation/finalized_networks/here_trb.gpkg')\n",
    "links = gpd.read_file(fp,layer='links')\n",
    "fp = Path.home() / Path('Documents/BikewaySimData/processed_shapefiles/here/here_bikewaysim_network.gpkg')\n",
    "nodes = gpd.read_file(fp,layer='roadbike_nodes')\n",
    "\n",
    "#prepare network\n",
    "links, nodes = prepare_network(links,nodes,costs)\n",
    "\n",
    "#export\n",
    "nodes.to_file(Path.home()/Path('Documents/BikewaySimData/trb2023/network.gpkg'),layer='nodes',driver='GPKG')\n",
    "links.to_file(Path.home()/Path('Documents/BikewaySimData/trb2023/network.gpkg'),layer='links',driver='GPKG')"
   ]
  },
  {
   "cell_type": "code",
   "execution_count": null,
   "id": "e6285a5c",
   "metadata": {},
   "outputs": [],
   "source": [
    "#make improvements\n",
    "improvements = links.copy()\n",
    "changes = '10TH ST NW'\n",
    "#add mu\n",
    "improvements.loc[improvements['ST_NAME']==changes,'mu'] = 1\n",
    "\n",
    "#bring in new feature\n",
    "new = gpd.read_file('trb2023/network_improvements.gpkg',layer='new')\n",
    "\n",
    "#make reverse\n",
    "new = create_reverse_links(new)\n",
    "\n",
    "#add to network\n",
    "improvements = improvements.append(new)\n",
    "\n",
    "#add impr cost\n",
    "improvements['imp_dist'] = link_costs(improvements)\n",
    "\n",
    "#export\n",
    "improvements.to_file('trb2023/network.gpkg',layer='new_links',driver='GPKG')"
   ]
  },
  {
   "cell_type": "code",
   "execution_count": null,
   "id": "c1cbdefa",
   "metadata": {},
   "outputs": [],
   "source": [
    "#%% NCST Project\n",
    "road_links = gpd.read_file(Path('processed_shapefiles/osm/osm_marta_network.gpkg'),layer='road_links')\n",
    "road_nodes = gpd.read_file(Path('processed_shapefiles/osm/osm_marta_network.gpkg'),layer='road_nodes')\n",
    "\n",
    "bike_links = gpd.read_file(Path('processed_shapefiles/osm/osm_marta_network.gpkg'),layer='bike_links')\n",
    "bike_nodes = gpd.read_file(Path('processed_shapefiles/osm/osm_marta_network.gpkg'),layer='bike_nodes')\n",
    "\n",
    "roadbike_links = road_links.append(bike_links)\n",
    "roadbike_nodes = road_nodes.append(bike_nodes).drop_duplicates()\n",
    "\n",
    "roadbike_links.rename(columns={'osm_A':'A','osm_B':'B'},inplace=True)\n",
    "\n",
    "links, nodes = prepare_network(roadbike_links,roadbike_nodes,link_costs=True)\n",
    "\n",
    "print('exporting...')\n",
    "links.to_file(Path.home() / Path('Documents/TransitSimData/Data/osm_network.gpkg'),layer='links',driver='GPKG')\n",
    "nodes.to_file(Path.home() / Path('Documents/TransitSimData/Data/osm_network.gpkg'),layer='nodes',driver='GPKG')\n",
    "print('done.')"
   ]
  }
 ],
 "metadata": {
  "kernelspec": {
   "display_name": "Python 3 (ipykernel)",
   "language": "python",
   "name": "python3"
  },
  "language_info": {
   "codemirror_mode": {
    "name": "ipython",
    "version": 3
   },
   "file_extension": ".py",
   "mimetype": "text/x-python",
   "name": "python",
   "nbconvert_exporter": "python",
   "pygments_lexer": "ipython3",
   "version": "3.9.13"
  },
  "varInspector": {
   "cols": {
    "lenName": 16,
    "lenType": 16,
    "lenVar": 40
   },
   "kernels_config": {
    "python": {
     "delete_cmd_postfix": "",
     "delete_cmd_prefix": "del ",
     "library": "var_list.py",
     "varRefreshCmd": "print(var_dic_list())"
    },
    "r": {
     "delete_cmd_postfix": ") ",
     "delete_cmd_prefix": "rm(",
     "library": "var_list.r",
     "varRefreshCmd": "cat(var_dic_list()) "
    }
   },
   "types_to_exclude": [
    "module",
    "function",
    "builtin_function_or_method",
    "instance",
    "_Feature"
   ],
   "window_display": false
  }
 },
 "nbformat": 4,
 "nbformat_minor": 5
}

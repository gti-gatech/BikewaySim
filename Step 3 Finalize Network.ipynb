{
 "cells": [
  {
   "attachments": {},
   "cell_type": "markdown",
   "id": "5311b73e",
   "metadata": {},
   "source": [
    "## Step 4 Create Final Network Graph and Assign Link Costs\n",
    "---\n",
    "In this notebook, the reconciled network is finalized and link costs are assigned based on link attributes."
   ]
  },
  {
   "attachments": {},
   "cell_type": "markdown",
   "id": "e0b1e63a",
   "metadata": {},
   "source": [
    "## Import modules"
   ]
  },
  {
   "cell_type": "code",
   "execution_count": 1,
   "id": "98e273eb",
   "metadata": {},
   "outputs": [],
   "source": [
    "from pathlib import Path\n",
    "import geopandas as gpd\n",
    "from prepare_network import *\n",
    "from network_filter import *"
   ]
  },
  {
   "attachments": {},
   "cell_type": "markdown",
   "id": "d52c02ec",
   "metadata": {},
   "source": [
    "## Prepare network by removing isolates and creating a directed network graph"
   ]
  },
  {
   "attachments": {},
   "cell_type": "markdown",
   "id": "e4838632",
   "metadata": {},
   "source": [
    "### NCST Transit Portion"
   ]
  },
  {
   "cell_type": "code",
   "execution_count": 2,
   "id": "073f8225",
   "metadata": {},
   "outputs": [],
   "source": [
    "export_fp = Path.home() / 'Documents/TransitSimData/networks'\n",
    "\n",
    "#bring in network\n",
    "links = gpd.read_file(export_fp / 'reconciled_network.gpkg',layer='links')\n",
    "nodes = gpd.read_file(export_fp / 'reconciled_network.gpkg',layer='nodes')\n",
    "\n",
    "#prepare network\n",
    "links, nodes = prepare_network(links,nodes,spd_mph=8)\n",
    "\n",
    "#if just using time impedance, export as is\n",
    "nodes.to_file(export_fp/'final_network.gpkg',layer='nodes',driver='GPKG')\n",
    "links.to_file(export_fp/'final_network.gpkg',layer='links',driver='GPKG')\n",
    "\n",
    "#repeat for low stress network\n",
    "links = gpd.read_file(export_fp / 'lowstress_network.gpkg',layer='links')\n",
    "nodes = gpd.read_file(export_fp / 'lowstress_network.gpkg',layer='nodes')\n",
    "\n",
    "#prepare network\n",
    "links, nodes = prepare_network(links,nodes,spd_mph=8)\n",
    "\n",
    "#if just using time impedance, export as is\n",
    "nodes.to_file(export_fp/'final_network.gpkg',layer='lowstress_nodes',driver='GPKG')\n",
    "links.to_file(export_fp/'final_network.gpkg',layer='lowstress_links',driver='GPKG')"
   ]
  },
  {
   "attachments": {},
   "cell_type": "markdown",
   "id": "82ccb4bf",
   "metadata": {},
   "source": [
    "### NCST Bike Portion (continues on to applying link costs)"
   ]
  },
  {
   "cell_type": "code",
   "execution_count": 3,
   "id": "c1013399",
   "metadata": {},
   "outputs": [
    {
     "ename": "NameError",
     "evalue": "name 'studyarea_name' is not defined",
     "output_type": "error",
     "traceback": [
      "\u001b[1;31m---------------------------------------------------------------------------\u001b[0m",
      "\u001b[1;31mNameError\u001b[0m                                 Traceback (most recent call last)",
      "\u001b[1;32mc:\\Users\\tpassmore6\\Documents\\GitHub\\BikewaySimDev\\Step 3 Finalize Network.ipynb Cell 8\u001b[0m in \u001b[0;36m1\n\u001b[1;32m----> <a href='vscode-notebook-cell:/c%3A/Users/tpassmore6/Documents/GitHub/BikewaySimDev/Step%203%20Finalize%20Network.ipynb#X10sZmlsZQ%3D%3D?line=0'>1</a>\u001b[0m export_fp \u001b[39m=\u001b[39m Path\u001b[39m.\u001b[39mhome() \u001b[39m/\u001b[39m Path(\u001b[39mf\u001b[39m\u001b[39m'\u001b[39m\u001b[39mDocuments/NewBikewaySimData/\u001b[39m\u001b[39m{\u001b[39;00mstudyarea_name\u001b[39m}\u001b[39;00m\u001b[39m'\u001b[39m)\n\u001b[0;32m      <a href='vscode-notebook-cell:/c%3A/Users/tpassmore6/Documents/GitHub/BikewaySimDev/Step%203%20Finalize%20Network.ipynb#X10sZmlsZQ%3D%3D?line=2'>3</a>\u001b[0m \u001b[39m#bring in network\u001b[39;00m\n\u001b[0;32m      <a href='vscode-notebook-cell:/c%3A/Users/tpassmore6/Documents/GitHub/BikewaySimDev/Step%203%20Finalize%20Network.ipynb#X10sZmlsZQ%3D%3D?line=3'>4</a>\u001b[0m links \u001b[39m=\u001b[39m gpd\u001b[39m.\u001b[39mread_file(export_fp \u001b[39m/\u001b[39m \u001b[39m'\u001b[39m\u001b[39mreconciled_network.gpkg\u001b[39m\u001b[39m'\u001b[39m,layer\u001b[39m=\u001b[39m\u001b[39m'\u001b[39m\u001b[39mlinks\u001b[39m\u001b[39m'\u001b[39m)\n",
      "\u001b[1;31mNameError\u001b[0m: name 'studyarea_name' is not defined"
     ]
    }
   ],
   "source": [
    "export_fp = Path.home() / Path(f'Documents/NewBikewaySimData/bikewaysim')\n",
    "\n",
    "#bring in network\n",
    "links = gpd.read_file(export_fp / 'reconciled_network.gpkg',layer='links')\n",
    "nodes = gpd.read_file(export_fp / 'reconciled_network.gpkg',layer='nodes')\n",
    "\n",
    "#prepare network\n",
    "links, nodes = prepare_network(links,nodes,spd_mph=8)"
   ]
  },
  {
   "attachments": {},
   "cell_type": "markdown",
   "id": "7ef79a47",
   "metadata": {},
   "source": [
    "## Applying Link Costs\n",
    "---\n",
    "Dict keys must correspond to column names in links GeoDataFrame. Multiple dicts can be passed to test the impacts of changing impedances. The links cost function is of this format:\n",
    "$$ C_e = \\frac{l_e*60^2}{s*5280} * (1-\\sum \\beta_i x_{i,e}) $$\n",
    "\n",
    "where:\n",
    "- $e$ is an edge/link in network graph $G$ with V vertices/nodes and E edges/links\n",
    "- $l_e$ is the length of the link in feet\n",
    "- $\\beta$ is the impedance coefficient for attribute $i$\n",
    "- $X_{i,e}$ is the value of attribute $i$ for link $e$\n",
    "- $s$ is the assumed average speed of the cyclist in mph\n",
    "\n",
    "Notes:\n",
    "- Negative attributes **decrease** impedance  \n",
    "- Positive attributes **increase** impedance\n",
    "- **Negative link costs are not allowed**\n",
    "- Time to traverse a link has already been calculated in the prepare_network function"
   ]
  },
  {
   "cell_type": "code",
   "execution_count": null,
   "id": "65a05805",
   "metadata": {},
   "outputs": [],
   "source": [
    "costs0 = {\n",
    "    'bl':-0.05,\n",
    "    'pbl':-0.95,\n",
    "    'mu':-0.95,\n",
    "    '<25mph':0,\n",
    "    '25-30mph':0.30,\n",
    "    '>30mph':1,\n",
    "    '1lpd':0,\n",
    "    '2-3lpd':0.50,\n",
    "    '>4lpd':1     \n",
    "    }"
   ]
  },
  {
   "cell_type": "code",
   "execution_count": null,
   "id": "75542417",
   "metadata": {},
   "outputs": [],
   "source": [
    "costs1 = {\n",
    "    'bl':-0.25,\n",
    "    'pbl':-0.60,\n",
    "    'mu':-0.60,\n",
    "    '<25mph':0,\n",
    "    '25-30mph':0.50,\n",
    "    '>30mph':1.5,\n",
    "    '1lpd':0,\n",
    "    '2-3lpd':0.50,\n",
    "    '>4lpd':1.5     \n",
    "    }"
   ]
  },
  {
   "cell_type": "code",
   "execution_count": null,
   "id": "a51dd8e5",
   "metadata": {},
   "outputs": [],
   "source": [
    "costs2 = {\n",
    "    'bl':-0.05,\n",
    "    'pbl':-0.5,\n",
    "    'mu':-0.5,\n",
    "    '<25mph':0,\n",
    "    '25-30mph':0.5,\n",
    "    '>30mph':4,\n",
    "    '1lpd':0,\n",
    "    '2-3lpd':1,\n",
    "    '>4lpd':4     \n",
    "    }"
   ]
  },
  {
   "cell_type": "code",
   "execution_count": null,
   "id": "d32ed6b9",
   "metadata": {},
   "outputs": [],
   "source": [
    "cost_dicts = {\n",
    "    'costs0':costs0,\n",
    "    'costs1':costs1,\n",
    "    'costs2':costs2\n",
    "}"
   ]
  },
  {
   "attachments": {},
   "cell_type": "markdown",
   "id": "da105706",
   "metadata": {},
   "source": [
    "### Calculate link costs and export results (i.e. where did link impedances increase/decrease/both/stay the same) for visualization"
   ]
  },
  {
   "cell_type": "code",
   "execution_count": null,
   "id": "e3ff5246",
   "metadata": {},
   "outputs": [],
   "source": [
    "for key in cost_dicts.keys():\n",
    "\n",
    "    #other costs to test\n",
    "    links = link_costs(links, cost_dicts[key], key)\n",
    "\n",
    "    #make fp organizing\n",
    "    if not (export_fp / Path(key)).exists():\n",
    "        (export_fp / Path(key)).mkdir()\n",
    "\n",
    "    positive_cols = [x for x in cost_dicts[key].keys() if cost_dicts[key][x] < 0]\n",
    "    nochange_cols = [x for x in cost_dicts[key].keys() if cost_dicts[key][x] == 0]\n",
    "    negative_cols = [x for x in cost_dicts[key].keys() if cost_dicts[key][x] > 0]\n",
    "\n",
    "    positive = (links[positive_cols] == 1).any(axis=1)\n",
    "    negative = (links[negative_cols] == 1).any(axis=1)\n",
    "    no_change = (links[nochange_cols] == 1).any(axis=1)\n",
    "\n",
    "    only_positive = positive & -negative\n",
    "    only_negative = -positive & negative\n",
    "    mixed = positive & negative #& -no_change\n",
    "    only_no_change = no_change & -positive & -negative\n",
    "\n",
    "    only_positive = links[only_positive]\n",
    "    only_negative = links[only_negative]\n",
    "    mixed = links[mixed]\n",
    "    no_change = links[only_no_change]\n",
    "\n",
    "    only_positive.to_file(export_fp / key / 'link_cost_changes.gpkg',layer='Only Decreased')\n",
    "    only_negative.to_file(export_fp / key / 'link_cost_changes.gpkg',layer='Only Increased')\n",
    "    mixed.to_file(export_fp / key / 'link_cost_changes.gpkg',layer='Mixed')\n",
    "    no_change.to_file(export_fp / key / 'link_cost_changes.gpkg',layer='No Change')\n",
    "\n",
    "#export network with costs to file\n",
    "nodes.to_file(export_fp/'final_network.gpkg',layer='nodes',driver='GPKG')\n",
    "links.to_file(export_fp/'final_network.gpkg',layer='links',driver='GPKG')"
   ]
  },
  {
   "attachments": {},
   "cell_type": "markdown",
   "id": "6f3b6985",
   "metadata": {},
   "source": [
    "## Network Improvements\n",
    "---\n",
    "Use this section to add new links or improve existing ones. New links should be drawn in a GIS program. Functions for adding reference columns and splitting existing links will be added in the future, but need to be manually added for now. If wanting to see the impacts of only one improvement/new link, be sure to export that as a separate network."
   ]
  },
  {
   "attachments": {},
   "cell_type": "markdown",
   "id": "df512261",
   "metadata": {},
   "source": [
    "### Improving an existing link with a protected bike lane"
   ]
  },
  {
   "cell_type": "code",
   "execution_count": null,
   "id": "34886b2c",
   "metadata": {},
   "outputs": [],
   "source": [
    "#extend protected bike lane on 10th st\n",
    "improvements = links.copy()\n",
    "changes = ['10th Street Northwest','10th Street Northeast']\n",
    "improvements.loc[improvements['name'].isin(changes),'pbl'] = 1\n",
    "\n",
    "#change a specific link back\n",
    "improvements.loc[improvements['A_B']=='9543446970_69614574','pbl'] = 0\n",
    "improvements.loc[improvements['A_B']=='69614574_9543446970','pbl'] = 0\n",
    "\n",
    "#export the new improvement for mapping/visualizations\n",
    "tenth_st  = improvements[improvements['pbl'] != links['pbl']].copy()\n",
    "tenth_st.geometry = tenth_st.buffer(300)\n",
    "tenth_st = tenth_st.dissolve()\n",
    "tenth_st.to_file(export_fp/'network_improvements.gpkg',layer='New Protected Bike Lane')\n",
    "\n",
    "#create a copy so the improvement from the protected bike lane can be tested separately\n",
    "just_pbl = improvements.copy()"
   ]
  },
  {
   "attachments": {},
   "cell_type": "markdown",
   "id": "0d457912",
   "metadata": {},
   "source": [
    "### Bring in feature(s) drawn in GIS and add to network"
   ]
  },
  {
   "cell_type": "code",
   "execution_count": null,
   "id": "e6285a5c",
   "metadata": {},
   "outputs": [
    {
     "name": "stderr",
     "output_type": "stream",
     "text": [
      "c:\\Users\\tpassmore6\\Anaconda3\\envs\\geo-env\\lib\\site-packages\\pandas\\core\\dtypes\\cast.py:118: ShapelyDeprecationWarning: The array interface is deprecated and will no longer work in Shapely 2.0. Convert the '.coords' to a numpy array instead.\n",
      "  arr = construct_1d_object_array_from_listlike(values)\n",
      "c:\\Users\\tpassmore6\\Anaconda3\\envs\\geo-env\\lib\\site-packages\\pandas\\core\\dtypes\\cast.py:118: ShapelyDeprecationWarning: The array interface is deprecated and will no longer work in Shapely 2.0. Convert the '.coords' to a numpy array instead.\n",
      "  arr = construct_1d_object_array_from_listlike(values)\n"
     ]
    },
    {
     "name": "stdout",
     "output_type": "stream",
     "text": [
      "Reference IDs successfully added to links.\n"
     ]
    }
   ],
   "source": [
    "#bring in new feature and add to old links\n",
    "new = gpd.read_file(export_fp/'network_improvements.gpkg',layer='morningside_path')\n",
    "morningside_path = new.copy()\n",
    "morningside_path.geometry = morningside_path.buffer(300)\n",
    "morningside_path = morningside_path.dissolve()\n",
    "morningside_path.to_file(export_fp / \"network_improvements.gpkg\", layer = 'New Multi-Use Path')\n",
    "\n",
    "#add ref ids ONLY if no new nodes are added\n",
    "new = add_ref_ids(new,nodes)\n",
    "\n",
    "#make reverse links if they are two way features\n",
    "new = create_reverse_links(new)\n",
    "new['dist'] = new.length\n",
    "new['mins'] = new['dist'] / 5280 / 8 * 60\n",
    "\n",
    "#add to network with 10st pbl\n",
    "improvements = pd.concat([improvements,new],ignore_index=True)\n",
    "\n",
    "#just add path\n",
    "just_path = links.copy()\n",
    "just_path = pd.concat([just_path,new],ignore_index=True)"
   ]
  },
  {
   "attachments": {},
   "cell_type": "markdown",
   "id": "3a83b85a",
   "metadata": {},
   "source": [
    "### Apply new costs after improvements and export"
   ]
  },
  {
   "cell_type": "code",
   "execution_count": null,
   "id": "c5e333e4",
   "metadata": {},
   "outputs": [],
   "source": [
    "#redo costs\n",
    "for key in cost_dicts.keys():\n",
    "    #other costs to test\n",
    "    just_pbl = link_costs(just_pbl, cost_dicts[key], key)\n",
    "    just_path = link_costs(just_path, cost_dicts[key], key)\n",
    "    improvements = link_costs(improvements, cost_dicts[key], key)\n",
    "\n",
    "#export\n",
    "just_pbl.to_file(export_fp / 'final_network.gpkg',layer='just_pbl_links')\n",
    "just_path.to_file(export_fp / 'final_network.gpkg',layer='just_path_links')\n",
    "improvements.to_file(export_fp / 'final_network.gpkg',layer='improved_links')"
   ]
  },
  {
   "cell_type": "code",
   "execution_count": null,
   "id": "1ea2d5dd",
   "metadata": {},
   "outputs": [],
   "source": []
  }
 ],
 "metadata": {
  "kernelspec": {
   "display_name": "Python 3 (ipykernel)",
   "language": "python",
   "name": "python3"
  },
  "language_info": {
   "codemirror_mode": {
    "name": "ipython",
    "version": 3
   },
   "file_extension": ".py",
   "mimetype": "text/x-python",
   "name": "python",
   "nbconvert_exporter": "python",
   "pygments_lexer": "ipython3",
   "version": "3.9.13"
  },
  "varInspector": {
   "cols": {
    "lenName": 16,
    "lenType": 16,
    "lenVar": 40
   },
   "kernels_config": {
    "python": {
     "delete_cmd_postfix": "",
     "delete_cmd_prefix": "del ",
     "library": "var_list.py",
     "varRefreshCmd": "print(var_dic_list())"
    },
    "r": {
     "delete_cmd_postfix": ") ",
     "delete_cmd_prefix": "rm(",
     "library": "var_list.r",
     "varRefreshCmd": "cat(var_dic_list()) "
    }
   },
   "types_to_exclude": [
    "module",
    "function",
    "builtin_function_or_method",
    "instance",
    "_Feature"
   ],
   "window_display": false
  }
 },
 "nbformat": 4,
 "nbformat_minor": 5
}

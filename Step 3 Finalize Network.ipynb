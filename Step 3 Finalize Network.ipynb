{
 "cells": [
  {
   "attachments": {},
   "cell_type": "markdown",
   "id": "5311b73e",
   "metadata": {},
   "source": [
    "## Step 4 Create Network Graph, Assign Link Costs, and Run BikewaySim\n",
    "\n",
    "1. Process network spatial data into a routable network graph format\n",
    "2. Reconcile networks into one through node and link overlap conflation\n",
    "3. __Create final network graph and calculate link costs__\n",
    "4. Create OD tables\n",
    "5. Run BikewaySim"
   ]
  },
  {
   "cell_type": "code",
   "execution_count": 1,
   "id": "98e273eb",
   "metadata": {},
   "outputs": [],
   "source": [
    "from pathlib import Path\n",
    "import geopandas as gpd\n",
    "\n",
    "from network_filter import *\n",
    "from prepare_network import *"
   ]
  },
  {
   "attachments": {},
   "cell_type": "markdown",
   "id": "14c75001",
   "metadata": {},
   "source": [
    "## Export Filepath"
   ]
  },
  {
   "cell_type": "code",
   "execution_count": 2,
   "id": "69497cb8",
   "metadata": {},
   "outputs": [],
   "source": [
    "#transitsim\n",
    "studyarea_name = 'transitsim'\n",
    "export_fp = Path.home() / 'Documents/TransitSimData/networks'\n",
    "\n",
    "# studyarea_name = 'bikewaysim'\n",
    "# export_fp = Path.home() / Path(f'Documents/NewBikewaySimData/{studyarea_name}')\n"
   ]
  },
  {
   "attachments": {},
   "cell_type": "markdown",
   "id": "7ef79a47",
   "metadata": {},
   "source": [
    "## Link Costs Dictionary\n",
    "Dict keys must correspond to column names in links GeoDataFrame.\n",
    "The links cost funciton is off this format:\n",
    "$$ linkcost = linkdistance * (1-\\sum \\beta x) $$\n",
    "\n",
    "Negative attributes **decrease** impedance  \n",
    "Positive attributes **increase** impedance"
   ]
  },
  {
   "cell_type": "code",
   "execution_count": 3,
   "id": "65a05805",
   "metadata": {},
   "outputs": [],
   "source": [
    "costs0 = {\n",
    "    'bl':-0.05,\n",
    "    'pbl':-0.95,\n",
    "    'mu':-0.95,\n",
    "    '<25mph':0,\n",
    "    '25-30mph':0.30,\n",
    "    '>30mph':1,\n",
    "    '1lpd':0,\n",
    "    '2-3lpd':0.50,\n",
    "    '>4lpd':1     \n",
    "    }"
   ]
  },
  {
   "cell_type": "code",
   "execution_count": 4,
   "id": "75542417",
   "metadata": {},
   "outputs": [],
   "source": [
    "costs1 = {\n",
    "    'bl':-0.25,\n",
    "    'pbl':-0.60,\n",
    "    'mu':-0.60,\n",
    "    '<25mph':0,\n",
    "    '25-30mph':0.50,\n",
    "    '>30mph':1.5,\n",
    "    '1lpd':0,\n",
    "    '2-3lpd':0.50,\n",
    "    '>4lpd':1.5     \n",
    "    }"
   ]
  },
  {
   "cell_type": "code",
   "execution_count": 5,
   "id": "a51dd8e5",
   "metadata": {},
   "outputs": [],
   "source": [
    "costs2 = {\n",
    "    'bl':-0.05,\n",
    "    'pbl':-0.5,\n",
    "    'mu':-0.5,\n",
    "    '<25mph':0,\n",
    "    '25-30mph':0.5,\n",
    "    '>30mph':4,\n",
    "    '1lpd':0,\n",
    "    '2-3lpd':1,\n",
    "    '>4lpd':4     \n",
    "    }"
   ]
  },
  {
   "cell_type": "code",
   "execution_count": 6,
   "id": "d32ed6b9",
   "metadata": {},
   "outputs": [],
   "source": [
    "cost_dicts = {\n",
    "    'costs0':costs0,\n",
    "    'costs1':costs1,\n",
    "    'costs2':costs2\n",
    "}"
   ]
  },
  {
   "cell_type": "code",
   "execution_count": 7,
   "id": "1eea69ed",
   "metadata": {},
   "outputs": [],
   "source": [
    "#import links you want to use (these are the trb 2023 links)\n",
    "#links = gpd.read_file(export_fp / Path('reconciled_network.gpkg'),layer='here_trb')\n",
    "#nodes = gpd.read_file(export_fp / Path('reconciled_network.gpkg'),layer='here_trb_nodes')\n",
    "\n",
    "links = gpd.read_file(export_fp / 'reconciled_network.gpkg',layer='links')\n",
    "nodes = gpd.read_file(export_fp / 'reconciled_network.gpkg',layer='nodes')\n",
    "\n",
    "#prepare network\n",
    "links, nodes = prepare_network(links,nodes,spd_mph=8)\n"
   ]
  },
  {
   "cell_type": "code",
   "execution_count": 8,
   "id": "60d448d8",
   "metadata": {},
   "outputs": [],
   "source": [
    "#if just time impedance, export as is\n",
    "nodes.to_file(export_fp/'final_network.gpkg',layer='nodes',driver='GPKG')\n",
    "links.to_file(export_fp/'final_network.gpkg',layer='links',driver='GPKG')"
   ]
  },
  {
   "cell_type": "code",
   "execution_count": 9,
   "id": "1aa68aea",
   "metadata": {},
   "outputs": [],
   "source": [
    "#repeat for low stress network\n",
    "links = gpd.read_file(export_fp / 'lowstress_reconciled_network.gpkg',layer='links')\n",
    "nodes = gpd.read_file(export_fp / 'lowstress_reconciled_network.gpkg',layer='nodes')\n",
    "\n",
    "#prepare network\n",
    "links, nodes = prepare_network(links,nodes,spd_mph=8)\n",
    "\n",
    "#if just time impedance, export as is\n",
    "nodes.to_file(export_fp/'final_network.gpkg',layer='lowstress_nodes',driver='GPKG')\n",
    "links.to_file(export_fp/'final_network.gpkg',layer='lowstress_links',driver='GPKG')"
   ]
  },
  {
   "cell_type": "code",
   "execution_count": 22,
   "id": "e3ff5246",
   "metadata": {},
   "outputs": [],
   "source": [
    "for key in cost_dicts.keys():\n",
    "\n",
    "    #other costs to test\n",
    "    links = link_costs(links, cost_dicts[key], key)\n",
    "\n",
    "    #make fp organizing\n",
    "    if not (export_fp / Path(key)).exists():\n",
    "        (export_fp / Path(key)).mkdir()\n",
    "\n",
    "    positive_cols = [x for x in cost_dicts[key].keys() if cost_dicts[key][x] < 0]\n",
    "    nochange_cols = [x for x in cost_dicts[key].keys() if cost_dicts[key][x] == 0]\n",
    "    negative_cols = [x for x in cost_dicts[key].keys() if cost_dicts[key][x] > 0]\n",
    "\n",
    "    positive = (links[positive_cols] == 1).any(axis=1)\n",
    "    negative = (links[negative_cols] == 1).any(axis=1)\n",
    "    no_change = (links[nochange_cols] == 1).any(axis=1)\n",
    "\n",
    "    only_positive = positive & -negative\n",
    "    only_negative = -positive & negative\n",
    "    mixed = positive & negative #& -no_change\n",
    "    only_no_change = no_change & -positive & -negative\n",
    "\n",
    "    only_positive = links[only_positive]\n",
    "    only_negative = links[only_negative]\n",
    "    mixed = links[mixed]\n",
    "    no_change = links[only_no_change]\n",
    "\n",
    "    only_positive.to_file(export_fp / key / 'link_cost_changes.gpkg',layer='Only Decreased')\n",
    "    only_negative.to_file(export_fp / key / 'link_cost_changes.gpkg',layer='Only Increased')\n",
    "    mixed.to_file(export_fp / key / 'link_cost_changes.gpkg',layer='Mixed')\n",
    "    no_change.to_file(export_fp / key / 'link_cost_changes.gpkg',layer='No Change')\n",
    "\n",
    "#export\n",
    "nodes.to_file(export_fp/'final_network.gpkg',layer='nodes',driver='GPKG')\n",
    "links.to_file(export_fp/'final_network.gpkg',layer='links',driver='GPKG')"
   ]
  },
  {
   "cell_type": "code",
   "execution_count": 23,
   "id": "327680ee",
   "metadata": {},
   "outputs": [],
   "source": [
    "#links[-links['A_B'].isin(pd.concat([only_positive,only_negative,mixed,no_change])['A_B'])][list(costs0.keys())]#.drop_duplicates()"
   ]
  },
  {
   "attachments": {},
   "cell_type": "markdown",
   "id": "6f3b6985",
   "metadata": {},
   "source": [
    "## Improvements"
   ]
  },
  {
   "cell_type": "code",
   "execution_count": 24,
   "id": "34886b2c",
   "metadata": {},
   "outputs": [],
   "source": [
    "#extend protected bike lane on 10th st\n",
    "improvements = links.copy()\n",
    "changes = ['10th Street Northwest','10th Street Northeast']\n",
    "improvements.loc[improvements['name'].isin(changes),'pbl'] = 1\n",
    "\n",
    "#change that one link back\n",
    "improvements.loc[improvements['A_B']=='9543446970_69614574','pbl'] = 0\n",
    "improvements.loc[improvements['A_B']=='69614574_9543446970','pbl'] = 0\n",
    "\n",
    "\n",
    "#export that one\n",
    "tenth_st  = improvements[improvements['pbl'] != links['pbl']].copy()\n",
    "\n",
    "tenth_st.geometry = tenth_st.buffer(300)\n",
    "tenth_st = tenth_st.dissolve()\n",
    "tenth_st.to_file(export_fp/'network_improvements.gpkg',layer='New Protected Bike Lane')\n",
    "\n",
    "#just pbl\n",
    "just_pbl = improvements.copy()\n"
   ]
  },
  {
   "cell_type": "code",
   "execution_count": 25,
   "id": "3ebabf23",
   "metadata": {},
   "outputs": [],
   "source": [
    "def add_ref_ids(links,nodes):\n",
    "    '''\n",
    "    This function adds reference columns to links from the nodes id column\n",
    "    '''\n",
    "    for_matching = links.copy()\n",
    "    #make the first point the active geometry\n",
    "    for_matching['pt_geometry'] = for_matching.apply(start_node_geo, geom='geometry', axis=1)\n",
    "    for_matching.set_geometry('pt_geometry',inplace=True)\n",
    "    for_matching.drop(columns='geometry',inplace=True)\n",
    "    #find nearest node from starting node and add to column\n",
    "    links['A'] = ckdnearest(for_matching,nodes,return_dist=False)['N']\n",
    "    \n",
    "    #repeat for end point\n",
    "    for_matching = links.copy()\n",
    "    #make the first point the active geometry\n",
    "    for_matching['pt_geometry'] = for_matching.apply(end_node_geo, geom='geometry', axis=1)\n",
    "    for_matching.set_geometry('pt_geometry',inplace=True)\n",
    "    for_matching.drop(columns='geometry',inplace=True)\n",
    "    #find nearest node from starting node and add to column\n",
    "    links['B'] = ckdnearest(for_matching,nodes,return_dist=False)['N']\n",
    "\n",
    "    #check for missing reference ids\n",
    "    if links['A'].isnull().any() | links['B'].isnull().any():\n",
    "        print(\"There are missing reference ids\")\n",
    "    else:\n",
    "        print(\"Reference IDs successfully added to links.\")\n",
    "    return links"
   ]
  },
  {
   "cell_type": "code",
   "execution_count": 26,
   "id": "e6285a5c",
   "metadata": {},
   "outputs": [
    {
     "name": "stderr",
     "output_type": "stream",
     "text": [
      "c:\\Users\\tpassmore6\\Anaconda3\\envs\\geo-env\\lib\\site-packages\\pandas\\core\\dtypes\\cast.py:118: ShapelyDeprecationWarning: The array interface is deprecated and will no longer work in Shapely 2.0. Convert the '.coords' to a numpy array instead.\n",
      "  arr = construct_1d_object_array_from_listlike(values)\n",
      "c:\\Users\\tpassmore6\\Anaconda3\\envs\\geo-env\\lib\\site-packages\\pandas\\core\\dtypes\\cast.py:118: ShapelyDeprecationWarning: The array interface is deprecated and will no longer work in Shapely 2.0. Convert the '.coords' to a numpy array instead.\n",
      "  arr = construct_1d_object_array_from_listlike(values)\n"
     ]
    },
    {
     "name": "stdout",
     "output_type": "stream",
     "text": [
      "Reference IDs successfully added to links.\n"
     ]
    }
   ],
   "source": [
    "#bring in new feature and add to old links\n",
    "new = gpd.read_file(export_fp/'network_improvements.gpkg',layer='morningside_path')\n",
    "morningside_path = new.copy()\n",
    "morningside_path.geometry = morningside_path.buffer(300)\n",
    "morningside_path = morningside_path.dissolve()\n",
    "morningside_path.to_file(export_fp / \"network_improvements.gpkg\", layer = 'New Multi-Use Path')\n",
    "\n",
    "#add ref ids ONLY if no new nodes are added\n",
    "new = add_ref_ids(new,nodes)\n",
    "\n",
    "#make reverse\n",
    "new = create_reverse_links(new)\n",
    "new['dist'] = new.length\n",
    "new['mins'] = new['dist'] / 5280 / 8 * 60\n",
    "\n",
    "#add to network with 10st pbl\n",
    "improvements = pd.concat([improvements,new],ignore_index=True).reset_index()\n",
    "\n",
    "#just add path\n",
    "just_path = links.copy()\n",
    "just_path = pd.concat([just_path,new],ignore_index=False).reset_index()\n",
    "\n",
    "#TODO incorporate other methods for adding new links quickly\n",
    "#needs to be able to split existing links by line ends\n",
    "#new ids for new nodes keep ids for split"
   ]
  },
  {
   "cell_type": "code",
   "execution_count": 27,
   "id": "c5e333e4",
   "metadata": {},
   "outputs": [],
   "source": [
    "#redo costs\n",
    "for key in cost_dicts.keys():\n",
    "    #other costs to test\n",
    "    just_pbl = link_costs(just_pbl, cost_dicts[key], key)\n",
    "    just_path = link_costs(just_path, cost_dicts[key], key)\n",
    "    improvements = link_costs(improvements, cost_dicts[key], key)\n",
    "\n",
    "#export\n",
    "just_pbl.to_file(export_fp / 'final_network.gpkg',layer='just_pbl_links')\n",
    "just_path.to_file(export_fp / 'final_network.gpkg',layer='just_path_links')\n",
    "improvements.to_file(export_fp / 'final_network.gpkg',layer='improved_links')"
   ]
  },
  {
   "cell_type": "code",
   "execution_count": 28,
   "id": "c1cbdefa",
   "metadata": {},
   "outputs": [],
   "source": [
    "# #%% NCST Project\n",
    "# road_links = gpd.read_file(Path('processed_shapefiles/osm/osm_marta_network.gpkg'),layer='road_links')\n",
    "# road_nodes = gpd.read_file(Path('processed_shapefiles/osm/osm_marta_network.gpkg'),layer='road_nodes')\n",
    "\n",
    "# bike_links = gpd.read_file(Path('processed_shapefiles/osm/osm_marta_network.gpkg'),layer='bike_links')\n",
    "# bike_nodes = gpd.read_file(Path('processed_shapefiles/osm/osm_marta_network.gpkg'),layer='bike_nodes')\n",
    "\n",
    "# roadbike_links = road_links.append(bike_links)\n",
    "# roadbike_nodes = road_nodes.append(bike_nodes).drop_duplicates()\n",
    "\n",
    "# roadbike_links.rename(columns={'osm_A':'A','osm_B':'B'},inplace=True)\n",
    "\n",
    "# links, nodes = prepare_network(roadbike_links,roadbike_nodes,link_costs=True)\n",
    "\n",
    "# print('exporting...')\n",
    "# links.to_file(Path.home() / Path('Documents/TransitSimData/Data/osm_network.gpkg'),layer='links',driver='GPKG')\n",
    "# nodes.to_file(Path.home() / Path('Documents/TransitSimData/Data/osm_network.gpkg'),layer='nodes',driver='GPKG')\n",
    "# print('done.')"
   ]
  }
 ],
 "metadata": {
  "kernelspec": {
   "display_name": "Python 3 (ipykernel)",
   "language": "python",
   "name": "python3"
  },
  "language_info": {
   "codemirror_mode": {
    "name": "ipython",
    "version": 3
   },
   "file_extension": ".py",
   "mimetype": "text/x-python",
   "name": "python",
   "nbconvert_exporter": "python",
   "pygments_lexer": "ipython3",
   "version": "3.9.13"
  },
  "varInspector": {
   "cols": {
    "lenName": 16,
    "lenType": 16,
    "lenVar": 40
   },
   "kernels_config": {
    "python": {
     "delete_cmd_postfix": "",
     "delete_cmd_prefix": "del ",
     "library": "var_list.py",
     "varRefreshCmd": "print(var_dic_list())"
    },
    "r": {
     "delete_cmd_postfix": ") ",
     "delete_cmd_prefix": "rm(",
     "library": "var_list.r",
     "varRefreshCmd": "cat(var_dic_list()) "
    }
   },
   "types_to_exclude": [
    "module",
    "function",
    "builtin_function_or_method",
    "instance",
    "_Feature"
   ],
   "window_display": false
  }
 },
 "nbformat": 4,
 "nbformat_minor": 5
}

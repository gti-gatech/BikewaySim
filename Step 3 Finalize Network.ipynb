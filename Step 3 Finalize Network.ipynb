{
 "cells": [
  {
   "attachments": {},
   "cell_type": "markdown",
   "id": "5311b73e",
   "metadata": {},
   "source": [
    "## Step 3 Create Final Network Graph and Assign Link Costs\n",
    "---\n",
    "In this notebook, the reconciled network is finalized and link costs are assigned based on link attributes."
   ]
  },
  {
   "attachments": {},
   "cell_type": "markdown",
   "id": "e0b1e63a",
   "metadata": {},
   "source": [
    "## Import modules"
   ]
  },
  {
   "cell_type": "code",
   "execution_count": 1,
   "id": "98e273eb",
   "metadata": {},
   "outputs": [],
   "source": [
    "from pathlib import Path\n",
    "import geopandas as gpd\n",
    "from prepare_network import *\n",
    "from network_filter import *"
   ]
  },
  {
   "attachments": {},
   "cell_type": "markdown",
   "id": "d52c02ec",
   "metadata": {},
   "source": [
    "## Prepare network by removing isolates and creating a directed network graph"
   ]
  },
  {
   "cell_type": "markdown",
   "id": "893bb249",
   "metadata": {},
   "source": [
    "## GDOT Project"
   ]
  },
  {
   "cell_type": "code",
   "execution_count": 2,
   "id": "0de29c91",
   "metadata": {},
   "outputs": [],
   "source": [
    "project_dir = Path.home() / 'Documents/GitHub/BikewaysimDev/networks'\n",
    "\n",
    "#bring in network\n",
    "links = gpd.read_file(project_dir / 'reconciled_network.gpkg',layer='links')\n",
    "nodes = gpd.read_file(project_dir / 'reconciled_network.gpkg',layer='nodes')\n",
    "\n",
    "#prepare network \n",
    "links, nodes = prepare_network(links,nodes,spd_mph=8)\n",
    "\n",
    "#if just using time impedance, export as is\n",
    "nodes.to_file(project_dir/'final_network.gpkg',layer='nodes',driver='GPKG')\n",
    "links.to_file(project_dir/'final_network.gpkg',layer='links',driver='GPKG')"
   ]
  }
 ],
 "metadata": {
  "kernelspec": {
   "display_name": "Python 3 (ipykernel)",
   "language": "python",
   "name": "python3"
  },
  "language_info": {
   "codemirror_mode": {
    "name": "ipython",
    "version": 3
   },
   "file_extension": ".py",
   "mimetype": "text/x-python",
   "name": "python",
   "nbconvert_exporter": "python",
   "pygments_lexer": "ipython3",
   "version": "3.9.13"
  },
  "varInspector": {
   "cols": {
    "lenName": 16,
    "lenType": 16,
    "lenVar": 40
   },
   "kernels_config": {
    "python": {
     "delete_cmd_postfix": "",
     "delete_cmd_prefix": "del ",
     "library": "var_list.py",
     "varRefreshCmd": "print(var_dic_list())"
    },
    "r": {
     "delete_cmd_postfix": ") ",
     "delete_cmd_prefix": "rm(",
     "library": "var_list.r",
     "varRefreshCmd": "cat(var_dic_list()) "
    }
   },
   "types_to_exclude": [
    "module",
    "function",
    "builtin_function_or_method",
    "instance",
    "_Feature"
   ],
   "window_display": false
  }
 },
 "nbformat": 4,
 "nbformat_minor": 5
}

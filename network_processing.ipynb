{
 "cells": [
  {
   "cell_type": "markdown",
   "id": "38567b57",
   "metadata": {},
   "source": [
    "# Network Processing\n",
    "---\n",
    "\n",
    "#### Run this code block by block to convert a road network(s) in ESRI Shapefile or GeoJSON format into a routable and conflated network graph to use in BikewaySim.\n",
    "\n",
    "Note that three networks were used in this project. While code to obtain OSM GeoJSONs has been included with osm_processing notebook, the ABM and HERE networks need to be sourced from the Atlanta Regional Commission and HERE respectively. You can run most of this code with only OSM data, but you'll need to skip and/or modify some sections."
   ]
  },
  {
   "cell_type": "markdown",
   "id": "b88b22d1",
   "metadata": {},
   "source": [
    "## Import/install the following packages:\n"
   ]
  },
  {
   "cell_type": "code",
   "execution_count": 9,
   "id": "81ad7abf",
   "metadata": {},
   "outputs": [],
   "source": [
    "import os\n",
    "from pathlib import Path\n",
    "import time\n",
    "import geopandas as gpd\n",
    "import pickle"
   ]
  },
  {
   "cell_type": "markdown",
   "id": "b03212d3",
   "metadata": {},
   "source": [
    "## Import Network Filter Module:"
   ]
  },
  {
   "cell_type": "code",
   "execution_count": 10,
   "id": "b9828c49",
   "metadata": {},
   "outputs": [],
   "source": [
    "from network_filter import *"
   ]
  },
  {
   "cell_type": "markdown",
   "id": "4715c76b",
   "metadata": {},
   "source": [
    "## Set Directory:\n",
    "### Modify this directory to where you stored your network shapefiles."
   ]
  },
  {
   "cell_type": "code",
   "execution_count": 11,
   "id": "1fbb0f7f",
   "metadata": {},
   "outputs": [],
   "source": [
    "#make directory/pathing more intuitive later\n",
    "file_dir = r\"C:\\Users\\tpassmore6\\Documents\\BikewaySimData\" #directory of bikewaysim network processing code\n",
    "\n",
    "#change this to where you stored this folder\n",
    "os.chdir(file_dir)"
   ]
  },
  {
   "cell_type": "markdown",
   "id": "4b8199e3",
   "metadata": {},
   "source": [
    "## Choose study area:\n",
    "#### Specify what area you want to mask the spatial data by. Only network links that are partially within the study area will be imported. Note: Network links are NOT clipped, any links that are at least partially within the study area are brought in."
   ]
  },
  {
   "cell_type": "code",
   "execution_count": 12,
   "id": "64370402",
   "metadata": {},
   "outputs": [
    {
     "name": "stdout",
     "output_type": "stream",
     "text": [
      "The area of the bikewaysim boundary is 12.4 square miles.\n"
     ]
    },
    {
     "data": {
      "image/png": "[encoded data removed]",
      "text/plain": [
       "<Figure size 432x288 with 1 Axes>"
      ]
     },
     "metadata": {
      "needs_background": "light"
     },
     "output_type": "display_data"
    }
   ],
   "source": [
    "studyareafp = r'base_shapefiles/bikewaysim_study_area/bikewaysim_study_area.shp'\n",
    "studyarea_name = 'bikewaysim'\n",
    "#city_of_atlantafp = r'base_shapefiles/coa/Atlanta_City_Limits.shp'\n",
    "#atlanta_regional_commissionfp = r'base_shapefiles/arc/arc_bounds.shp'\n",
    "\n",
    "desired_crs = \"EPSG:2240\"\n",
    "\n",
    "#add new study areas if desired\n",
    "studyarea = import_study_area(studyareafp, studyarea_name, desired_crs)"
   ]
  },
  {
   "cell_type": "markdown",
   "id": "c91a615f",
   "metadata": {},
   "source": [
    "## Network Mapper\n",
    "This is how network node ID's will be identified and coded\n",
    "- the first number in the node ID represents its origin network\n",
    "- all numbers after that are the original network ID "
   ]
  },
  {
   "cell_type": "code",
   "execution_count": 13,
   "id": "bd6f7839",
   "metadata": {},
   "outputs": [],
   "source": [
    "network_mapper = {\n",
    "    \"abm\": \"1\",\n",
    "    \"here\": \"2\",\n",
    "    \"osm\": \"3\",\n",
    "    \"original\": \"0\",\n",
    "    \"generated\": \"1\"\n",
    "}"
   ]
  },
  {
   "cell_type": "markdown",
   "id": "49506ea4",
   "metadata": {},
   "source": [
    "## Network Data Filepaths:"
   ]
  },
  {
   "cell_type": "code",
   "execution_count": 14,
   "id": "cee736d7",
   "metadata": {},
   "outputs": [],
   "source": [
    "abmfp = r'base_shapefiles/arc/ABM2020-TIP20-2020-150kShapefiles-outputs.gdb'\n",
    "abmnodesfp = r'base_shapefiles/arc/ABM2020-TIP20-2020-150kShapefiles-outputs.gdb'\n",
    "herefp = r'base_shapefiles/here/Streets.shp'\n",
    "osmfp = r'base_shapefiles/osm/osm_network_bikewaysim.gpkg'\n",
    "osmnodesfp = r'base_shapefiles/osm/osm_network_bikewaysim.gpkg'"
   ]
  },
  {
   "cell_type": "code",
   "execution_count": 15,
   "id": "bd25ffaf",
   "metadata": {},
   "outputs": [
    {
     "data": {
      "text/plain": [
       "['DAILY_Node',\n",
       " 'DAILY_Link',\n",
       " 'EA_Node',\n",
       " 'EA_Link',\n",
       " 'AM_Node',\n",
       " 'AM_Link',\n",
       " 'MD_Node',\n",
       " 'MD_Link',\n",
       " 'PM_Node',\n",
       " 'PM_Link',\n",
       " 'EV_Node',\n",
       " 'EV_Link']"
      ]
     },
     "execution_count": 15,
     "metadata": {},
     "output_type": "execute_result"
    }
   ],
   "source": [
    "#Use to list layers if needed\n",
    "import fiona\n",
    "fiona.listlayers('base_shapefiles/arc/ABM2020-TIP20-2020-150kShapefiles-outputs.gdb')"
   ]
  },
  {
   "cell_type": "markdown",
   "id": "16726331",
   "metadata": {},
   "source": [
    "## Set Network Import Settings\n",
    "#### Create a dictionary for use in filter networks function. \n",
    "#### For new networks follow this format:\n",
    "```python\n",
    "network = {\n",
    "       \"studyarea\": studyarea, #geodataframe of the study area\n",
    "       \"studyarea_name\": studyarea_name, #name for the study area\n",
    "       \"networkfp\": networkfp, #filepath for the network, specified earlier\n",
    "       \"network_name\": 'abm', #name for the network being evaluated\n",
    "       \"network_mapper\": network_mapper, #leave this, edit in the block before\n",
    "       \"A\": \"A\", #column with the starting node id; replace with None if there isn't a column\n",
    "       \"B\": \"B\", #column with the ending node id; replace with None if there isn't a column\n",
    "       \"layer\": 0 #if network has layers, then specify which layer to look at; if no layers then leave as 0 \n",
    "       }\n",
    "```"
   ]
  },
  {
   "cell_type": "code",
   "execution_count": 16,
   "id": "79467d56",
   "metadata": {},
   "outputs": [],
   "source": [
    "#abm inputs\n",
    "abm = {\n",
    "       \"studyarea\": studyarea,\n",
    "       \"studyarea_name\": studyarea_name,\n",
    "       \"networkfp\": abmfp,\n",
    "       \"network_name\": 'abm',\n",
    "       \"network_mapper\": network_mapper,\n",
    "       \"layer\": \"DAILY_Link\",\n",
    "       \"desired_crs\": \"epsg:2240\",\n",
    "       \"nodesfp\": abmnodesfp,\n",
    "       \"nodes_layer\":\"DAILY_Node\",\n",
    "       \"node_id\": 'N',\n",
    "       \"A\": \"A\",\n",
    "       \"B\": \"B\"\n",
    "       }\n",
    "\n",
    "#here inputs\n",
    "here = {\n",
    "       \"studyarea\": studyarea,\n",
    "       \"studyarea_name\": studyarea_name,\n",
    "       \"networkfp\": herefp,\n",
    "       \"network_name\": 'here',\n",
    "       \"network_mapper\": network_mapper,\n",
    "       \"layer\":None,\n",
    "       \"desired_crs\":\"epsg:2240\",\n",
    "       \"nodesfp\":None,\n",
    "       \"nodes_layer\":None,\n",
    "       \"node_id\": None,\n",
    "       \"A\": \"REF_IN_ID\",\n",
    "       \"B\": \"NREF_IN_ID\"\n",
    "       }\n",
    "\n",
    "osm = {\n",
    "      \"studyarea\": studyarea,\n",
    "       \"studyarea_name\": studyarea_name,\n",
    "       \"networkfp\": osmfp,\n",
    "       \"network_name\": 'osm',\n",
    "       \"network_mapper\": network_mapper,\n",
    "       \"layer\":\"links\",\n",
    "       \"desired_crs\":\"epsg:2240\",\n",
    "       \"nodesfp\":osmnodesfp,\n",
    "       \"nodes_layer\":\"nodes\",\n",
    "       \"node_id\": \"osmid\",\n",
    "       \"A\": \"A\",\n",
    "       \"B\": \"B\"\n",
    "       }"
   ]
  },
  {
   "cell_type": "markdown",
   "id": "b0afe599",
   "metadata": {},
   "source": [
    "## Run Network Filter Module to Create Initial Subnetworks\n",
    "From the network_filter.py file run the filter networks function. This will first import the spatial data and then filter the data into a base, road, bike, or serivce link. \n",
    "**Note: If this is the a new network that is not OSM, HERE, or ABM then specify a new filter method by going into the network_filter.py file.** Otherwise, none of the links will be filtered into road/bike/service links. **Also note: all spatial files are being projected to EPSG 2240 right now.** Need to modify later.\n"
   ]
  },
  {
   "cell_type": "markdown",
   "id": "8274c1ce",
   "metadata": {},
   "source": [
    "## Filter ABM"
   ]
  },
  {
   "cell_type": "code",
   "execution_count": 19,
   "id": "d880d7a4",
   "metadata": {},
   "outputs": [
    {
     "name": "stderr",
     "output_type": "stream",
     "text": [
      "C:\\Users\\tpassmore6\\Documents\\GitHub\\BikewaySimDev\\network_filter.py:77: FutureWarning: Currently, index_parts defaults to True, but in the future, it will default to False to be consistent with Pandas. Use `index_parts=True` to keep the current behavior and True/False to silence the warning.\n",
      "  links = gpd.read_file(networkfp, mask = studyarea, layer = layer).explode().droplevel(level=1).to_crs(desired_crs)\n"
     ]
    },
    {
     "name": "stdout",
     "output_type": "stream",
     "text": [
      "Cleaning measures applied for abm...\n",
      "No further filter needed for abm\n",
      "No bike links present for abm\n",
      "No service links present for abm\n",
      "abm imported... took 0.44 minutes\n"
     ]
    }
   ],
   "source": [
    "filter_networks(**abm)"
   ]
  },
  {
   "cell_type": "markdown",
   "id": "b53c4b2a",
   "metadata": {},
   "source": [
    "## Filter HERE"
   ]
  },
  {
   "cell_type": "code",
   "execution_count": 20,
   "id": "a0ff8c53",
   "metadata": {},
   "outputs": [
    {
     "name": "stderr",
     "output_type": "stream",
     "text": [
      "C:\\Users\\tpassmore6\\Documents\\GitHub\\BikewaySimDev\\network_filter.py:74: FutureWarning: Currently, index_parts defaults to True, but in the future, it will default to False to be consistent with Pandas. Use `index_parts=True` to keep the current behavior and True/False to silence the warning.\n",
      "  links = gpd.read_file(networkfp, mask = studyarea).explode().droplevel(level=1).to_crs(desired_crs)\n",
      "C:\\Users\\tpassmore6\\Anaconda3\\envs\\geo-env\\lib\\site-packages\\pandas\\core\\dtypes\\cast.py:118: ShapelyDeprecationWarning: The array interface is deprecated and will no longer work in Shapely 2.0. Convert the '.coords' to a numpy array instead.\n",
      "  arr = construct_1d_object_array_from_listlike(values)\n"
     ]
    },
    {
     "name": "stdout",
     "output_type": "stream",
     "text": [
      "here road filter applied...\n",
      "here bike filter applied...\n",
      "here service filter applied...\n",
      "here imported... took 1.23 minutes\n"
     ]
    }
   ],
   "source": [
    "filter_networks(**here)"
   ]
  },
  {
   "cell_type": "markdown",
   "id": "3c52d3cb",
   "metadata": {},
   "source": [
    "## Filter OSM"
   ]
  },
  {
   "cell_type": "code",
   "execution_count": 21,
   "id": "0ec22fc8",
   "metadata": {},
   "outputs": [
    {
     "name": "stderr",
     "output_type": "stream",
     "text": [
      "C:\\Users\\tpassmore6\\Documents\\GitHub\\BikewaySimDev\\network_filter.py:77: FutureWarning: Currently, index_parts defaults to True, but in the future, it will default to False to be consistent with Pandas. Use `index_parts=True` to keep the current behavior and True/False to silence the warning.\n",
      "  links = gpd.read_file(networkfp, mask = studyarea, layer = layer).explode().droplevel(level=1).to_crs(desired_crs)\n"
     ]
    },
    {
     "name": "stdout",
     "output_type": "stream",
     "text": [
      "Cleaning measures applied for osm...\n",
      "osm road filter applied...\n",
      "osm bike filter applied...\n",
      "osm service filter applied...\n",
      "osm imported... took 0.21 minutes\n"
     ]
    }
   ],
   "source": [
    "filter_networks(**osm)"
   ]
  },
  {
   "cell_type": "markdown",
   "id": "b2b87e35",
   "metadata": {},
   "source": [
    "## Summurize filtered networks\n",
    "#### Prints out:\n",
    "- Number of nodes\n",
    "- Number of links\n",
    "- Total length of all links\n",
    "- Average link length"
   ]
  },
  {
   "cell_type": "code",
   "execution_count": null,
   "id": "573a85c8",
   "metadata": {},
   "outputs": [],
   "source": [
    "from network_summary_stats import * \n",
    "\n",
    "#network names to look for, will search your directory for network name\n",
    "networks = [\"abm\",\"here\",\"osm\"]\n",
    "studyarea_name = \"bikewaysim\"\n",
    "\n",
    "#summurize networks and export summary as \"network_summary.csv in the working directory\n",
    "sum_all_networks(networks, studyarea_name)"
   ]
  },
  {
   "cell_type": "markdown",
   "id": "68d38476",
   "metadata": {},
   "source": [
    "## Conflation Process\n",
    "In this step, the networks are conflated to each other by utilizing functions in the network_conflation.py module"
   ]
  },
  {
   "cell_type": "markdown",
   "id": "c09507c7",
   "metadata": {},
   "source": [
    "i like to remove all of the columns that aren't related to node_id or geometry for this step. To make sure we preserve link information I also make a A_B column\n",
    "\n",
    "\n",
    "there are three main function in conflation module. The first just matches nearest points.\n",
    "\n",
    "The second will find the nearest spot on a link and create new points\n",
    "\n",
    "The last is a function that deals with removing links/nodes that have already been considered"
   ]
  },
  {
   "cell_type": "markdown",
   "id": "afffb025",
   "metadata": {},
   "source": [
    "\n",
    "#only select columns that correspond to A, B, and geo\n",
    "\n",
    "#create an A_B column\n",
    "\n",
    "#determine what you want the base network to be, and which order you want to conflate in\n",
    "#for this project, ABM was the base with HERE followed by OSM as the joining ones.\n",
    "\n",
    "\n",
    "\n",
    "\n",
    "#do this step outside of the function\n",
    "\n",
    "#Filter joining network\n",
    "This should make it so that the only joining nodes that the base nodes can join to represent real intersections\n",
    "<code>joining_nodes = joining_nodes[joining_nodes[f'{joining_name}_num_links'] != 2 ].reset_index(drop=True)<code>\n"
   ]
  },
  {
   "cell_type": "code",
   "execution_count": null,
   "id": "0e8f2161",
   "metadata": {},
   "outputs": [],
   "source": [
    "from conflation_tools import *"
   ]
  },
  {
   "cell_type": "markdown",
   "id": "7b3e48ea",
   "metadata": {},
   "source": [
    "### Links and Nodes to Conflate"
   ]
  },
  {
   "cell_type": "code",
   "execution_count": null,
   "id": "a02c827f",
   "metadata": {},
   "outputs": [],
   "source": [
    "base_name = \"abm\"\n",
    "join_name = \"here\"\n",
    "\n",
    "#road layers\n",
    "base_links = gpd.read_file(r\"processed_shapefiles/abm/abm_bikewaysim_road_links.geojson\")\n",
    "base_nodes = gpd.read_file(r\"processed_shapefiles/abm/abm_bikewaysim_road_nodes.geojson\")\n",
    "join_links = gpd.read_file(r\"processed_shapefiles/here/here_bikewaysim_road_links.geojson\")\n",
    "join_nodes = gpd.read_file(r\"processed_shapefiles/here/here_bikewaysim_road_nodes.geojson\")"
   ]
  },
  {
   "cell_type": "markdown",
   "id": "c352c106",
   "metadata": {},
   "source": [
    "### Cleaning to get rid of excess columns"
   ]
  },
  {
   "cell_type": "code",
   "execution_count": null,
   "id": "e6a033c5",
   "metadata": {},
   "outputs": [],
   "source": [
    "base_links, base_nodes = cleaning_process(base_links,base_nodes,base_name)\n",
    "join_links, join_nodes = cleaning_process(join_links,join_nodes,join_name)"
   ]
  },
  {
   "cell_type": "markdown",
   "id": "f22be951",
   "metadata": {},
   "source": [
    "### Node Matching"
   ]
  },
  {
   "cell_type": "code",
   "execution_count": null,
   "id": "250cbead",
   "metadata": {},
   "outputs": [],
   "source": [
    "#first match the nodes, can repeat this by adding in previously matched_nodes\n",
    "tolerance_ft = 25\n",
    "matched_nodes, unmatched_base_nodes, unmatched_join_nodes = match_nodes(base_nodes, base_name, join_nodes, join_name, tolerance_ft, prev_matched_nodes=None)\n",
    "\n",
    "#join the matched nodes to the base nodes once done with matching\n",
    "matched_nodes_final = pd.merge(base_nodes, matched_nodes, on = f'{base_name}_ID', how = \"left\")"
   ]
  },
  {
   "cell_type": "markdown",
   "id": "9a78fd0c",
   "metadata": {},
   "source": [
    "### Link Splitting and Add New Links and Nodes"
   ]
  },
  {
   "cell_type": "code",
   "execution_count": null,
   "id": "502d1457",
   "metadata": {},
   "outputs": [],
   "source": [
    "#create new node and lines from the base links by splitting lines can repeat after the add_new_links_nodes function\n",
    "tolerance_ft = 25\n",
    "split_lines, split_nodes, unmatched_join_nodes = split_lines_create_points(unmatched_join_nodes, join_name, base_links, base_name, tolerance_ft, export = False)\n",
    "split_lines.head()"
   ]
  },
  {
   "cell_type": "code",
   "execution_count": null,
   "id": "28112007",
   "metadata": {},
   "outputs": [],
   "source": [
    "#add new links and nodes to the base links and nodes created from split_lines_create_points function\n",
    "new_links, new_nodes = add_new_links_nodes(base_links, matched_nodes_final, split_lines, split_nodes, base_name)\n",
    "new_links.head()"
   ]
  },
  {
   "cell_type": "markdown",
   "id": "7f88f580",
   "metadata": {},
   "source": [
    "### Attribute Add"
   ]
  },
  {
   "cell_type": "code",
   "execution_count": null,
   "id": "665c4987",
   "metadata": {},
   "outputs": [],
   "source": [
    "#match attribute information with greatest overlap from joining links\n",
    "new_base_links_w_attr = add_attributes(new_links, base_name, join_links, join_name)\n",
    "new_base_links_w_attr.head()"
   ]
  },
  {
   "cell_type": "markdown",
   "id": "1491c88d",
   "metadata": {},
   "source": [
    "### Add rest of features"
   ]
  },
  {
   "cell_type": "code",
   "execution_count": null,
   "id": "ac75302e",
   "metadata": {},
   "outputs": [],
   "source": [
    "#add unrepresented features from joining by looking at the attributes added in prevoius step for links and the list of matched nodes\n",
    "added_base_links, added_base_nodes = add_rest_of_features(new_base_links_w_attr,new_nodes,base_name,join_links,join_nodes,join_name)"
   ]
  },
  {
   "cell_type": "markdown",
   "id": "a57f17a6",
   "metadata": {},
   "source": [
    "### Save as pickle"
   ]
  },
  {
   "cell_type": "code",
   "execution_count": null,
   "id": "7fc36d8d",
   "metadata": {},
   "outputs": [],
   "source": [
    "pickle.dump(added_base_links, open(\"processed_shapefiles/conflation/inter/abm_here_road.p\",\"wb\"))\n",
    "pickle.dump(added_base_nodes, open(\"processed_shapefiles/conflation/inter/abm_here_road.p\",\"wb\"))"
   ]
  },
  {
   "cell_type": "markdown",
   "id": "98878a6f",
   "metadata": {},
   "source": [
    "### Repeat for OSM"
   ]
  },
  {
   "cell_type": "code",
   "execution_count": null,
   "id": "8751288d",
   "metadata": {},
   "outputs": [],
   "source": [
    "added_base_links.head()"
   ]
  },
  {
   "cell_type": "code",
   "execution_count": null,
   "id": "463d2233",
   "metadata": {},
   "outputs": [],
   "source": [
    "added_base_nodes.head()"
   ]
  },
  {
   "cell_type": "code",
   "execution_count": null,
   "id": "adf8cc04",
   "metadata": {},
   "outputs": [],
   "source": [
    "base_name = \"abm\"\n",
    "join_name = \"osm\"\n",
    "\n",
    "#road layers\n",
    "base_links = added_base_links.rename(columns={'abm_line_geo':'geometry'})\n",
    "base_nodes = added_base_nodes\n",
    "join_links = gpd.read_file(r\"processed_shapefiles/osm/osm_bikewaysim_road_links.geojson\")\n",
    "join_nodes = gpd.read_file(r\"processed_shapefiles/osm/osm_bikewaysim_road_nodes.geojson\")"
   ]
  },
  {
   "cell_type": "code",
   "execution_count": null,
   "id": "7a9d5ea2",
   "metadata": {},
   "outputs": [],
   "source": [
    "base_links.head()"
   ]
  },
  {
   "cell_type": "code",
   "execution_count": null,
   "id": "6c519f39",
   "metadata": {},
   "outputs": [],
   "source": [
    "join_links.head()"
   ]
  },
  {
   "cell_type": "code",
   "execution_count": null,
   "id": "2dee157e",
   "metadata": {},
   "outputs": [],
   "source": [
    "join_nodes.head()"
   ]
  },
  {
   "cell_type": "code",
   "execution_count": null,
   "id": "c7808da7",
   "metadata": {},
   "outputs": [],
   "source": [
    "## Note need to change cleaning process to not kick out here column"
   ]
  },
  {
   "cell_type": "code",
   "execution_count": null,
   "id": "12dcfbf6",
   "metadata": {},
   "outputs": [],
   "source": [
    "base_links, base_nodes = cleaning_process(base_links,base_nodes,base_name)\n",
    "join_links, join_nodes = cleaning_process(join_links,join_nodes,join_name)\n"
   ]
  },
  {
   "cell_type": "code",
   "execution_count": null,
   "id": "9087f8a8",
   "metadata": {},
   "outputs": [],
   "source": [
    "base_links.head()"
   ]
  },
  {
   "cell_type": "code",
   "execution_count": null,
   "id": "4fe661ad",
   "metadata": {},
   "outputs": [],
   "source": [
    "#first match the nodes, can repeat this by adding in previously matched_nodes\n",
    "tolerance_ft = 25\n",
    "matched_nodes, unmatched_base_nodes, unmatched_join_nodes = match_nodes(base_nodes, base_name, join_nodes, join_name, tolerance_ft, prev_matched_nodes=None)\n",
    "\n",
    "#join the matched nodes to the base nodes once done with matching\n",
    "matched_nodes_final = pd.merge(base_nodes, matched_nodes, on = f'{base_name}_ID', how = \"left\")"
   ]
  },
  {
   "cell_type": "markdown",
   "id": "29262bc7",
   "metadata": {},
   "source": [
    "# Bike Subnetworks"
   ]
  },
  {
   "cell_type": "code",
   "execution_count": null,
   "id": "aa9a2042",
   "metadata": {},
   "outputs": [],
   "source": [
    "#bike layers\n",
    "bike_links = gpd.read_file(r'processed_shapefiles/here/here_bikewaysim_bike_links.geojson')\n",
    "bike_nodes = gpd.read_file(r'processed_shapefiles/here/here_bikewaysim_bike_nodes.geojson')\n",
    "bike_name = 'here'"
   ]
  },
  {
   "cell_type": "code",
   "execution_count": null,
   "id": "5ffa772c",
   "metadata": {},
   "outputs": [],
   "source": [
    "#clean excess columns\n",
    "bike_links, bike_nodes = cleaning_process(bike_links,bike_nodes,bike_name)"
   ]
  },
  {
   "cell_type": "markdown",
   "id": "894883dd",
   "metadata": {},
   "source": [
    "### Merge with other networks"
   ]
  },
  {
   "cell_type": "code",
   "execution_count": null,
   "id": "5d474276",
   "metadata": {},
   "outputs": [],
   "source": [
    "tolerance_ft = 25\n",
    "merged_links, merged_nodes = merge_diff_networks(added_base_links, added_base_nodes, 'road', bike_links, bike_nodes, 'bike', tolerance_ft)"
   ]
  },
  {
   "cell_type": "markdown",
   "id": "9566e2a8",
   "metadata": {},
   "source": [
    "### Add reference IDs"
   ]
  },
  {
   "cell_type": "code",
   "execution_count": null,
   "id": "f57ea721",
   "metadata": {},
   "outputs": [],
   "source": [
    "# match reference IDs based on all the id in the nodes\n",
    "refid_base_links = add_reference_ids(merged_links, merged_nodes)"
   ]
  },
  {
   "cell_type": "code",
   "execution_count": null,
   "id": "0e1a1a5c",
   "metadata": {},
   "outputs": [],
   "source": [
    "refid_base_links.head()"
   ]
  },
  {
   "cell_type": "markdown",
   "id": "6c3f350e",
   "metadata": {},
   "source": [
    "### Export"
   ]
  },
  {
   "cell_type": "code",
   "execution_count": null,
   "id": "238351f7",
   "metadata": {},
   "outputs": [],
   "source": [
    "refid_base_links.to_file(r'processed_shapefiles\\conflation\\final_links.geojson', driver = 'GeoJSON')\n",
    "merged_nodes.to_file(r'processed_shapefiles\\conflation\\final_nodes.geojson', driver = 'GeoJSON')"
   ]
  },
  {
   "cell_type": "markdown",
   "id": "0679bb5c",
   "metadata": {},
   "source": [
    "## Convert for use in BikewaySim\n",
    "\n",
    "This last section focusses on making sure that the conflated network is readable by BikewaySim. After this is completed, you can run the Running BikwaySim notebook."
   ]
  },
  {
   "cell_type": "code",
   "execution_count": null,
   "id": "b515e7d7",
   "metadata": {},
   "outputs": [],
   "source": [
    "import os\n",
    "from pathlib import Path\n",
    "import time\n",
    "import pandas as pd\n",
    "import geopandas as gpd\n",
    "import pickle\n",
    "\n",
    "#make directory/pathing more intuitive later\n",
    "file_dir = r\"C:\\Users\\tpassmore6\\Documents\\BikewaySimData\" #directory of bikewaysim network processing code\n",
    "\n",
    "#change this to where you stored this folder\n",
    "os.chdir(file_dir)"
   ]
  },
  {
   "cell_type": "markdown",
   "id": "a6cc0b46",
   "metadata": {},
   "source": [
    "### Specify filepaths"
   ]
  },
  {
   "cell_type": "code",
   "execution_count": null,
   "id": "7b157ae9",
   "metadata": {},
   "outputs": [],
   "source": [
    "#filepath for just OSM network\n",
    "conflated_linksfp\n",
    "conflated_nodesfp\n",
    "\n",
    "#filepath for conflated network\n",
    "#conflated_linksfp = r'processed_shapefiles\\conflation\\final_links.geojson'\n",
    "#conflated_nodesfp = r'processed_shapefiles\\conflation\\final_nodes.geojson'\n",
    "\n",
    "#filepaths for network attribute data (doesn't have to be a shapefile)\n",
    "abm_linksfp = r'processed_shapefiles\\abm\\abm_bikewaysim_base_links.geojson'\n",
    "here_linksfp = r'processed_shapefiles\\here\\here_bikewaysim_base_links.geojson'\n",
    "osm_linksfp = r'base_shapefiles\\osm\\osm_links_attr.p'"
   ]
  },
  {
   "cell_type": "markdown",
   "id": "4da76942",
   "metadata": {},
   "source": [
    "#### Node cleaning and export"
   ]
  },
  {
   "cell_type": "code",
   "execution_count": null,
   "id": "5c8c0521",
   "metadata": {},
   "outputs": [],
   "source": [
    "#import conflated nodes\n",
    "conflated_nodes = gpd.read_file(conflated_nodesfp)\n",
    "\n",
    "#drop the num links columns\n",
    "conflated_nodes = conflated_nodes.drop(columns=['abm_num_links','here_num_links'])\n",
    "\n",
    "#create an N column that takes the abm_id if avaiable followed by the here_id\n",
    "func = lambda row: row['here_ID'] if row['abm_ID'] == None else row['abm_ID']\n",
    "conflated_nodes['N'] = conflated_nodes.apply(func,axis=1)\n",
    "\n",
    "#create UTM coords columns\n",
    "conflated_nodes['X'] = conflated_nodes.geometry.x\n",
    "conflated_nodes['Y'] = conflated_nodes.geometry.y\n",
    "\n",
    "#reproject and find latlon\n",
    "conflated_nodes = conflated_nodes.to_crs(epsg=4326)\n",
    "conflated_nodes['lon'] = conflated_nodes.geometry.x\n",
    "conflated_nodes['lat'] = conflated_nodes.geometry.y\n",
    "\n",
    "#filter\n",
    "conflated_nodes = conflated_nodes[['N','X','Y','lon','lat','geometry']]\n",
    "\n",
    "#export\n",
    "conflated_nodes.to_file(r'processed_shapefiles\\prepared_network\\nodes\\nodes.geojson',driver='GeoJSON')\n",
    "conlfated_nodes = conflated_nodes.drop(columns=['geometry'])\n",
    "conflated_nodes.to_csv(r'processed_shapefiles\\prepared_network\\nodes\\nodes.csv')"
   ]
  },
  {
   "cell_type": "markdown",
   "id": "d853787a",
   "metadata": {},
   "source": [
    "### Link cleaning and export"
   ]
  },
  {
   "cell_type": "code",
   "execution_count": null,
   "id": "fb2ed80a",
   "metadata": {},
   "outputs": [],
   "source": [
    "#import conflated network\n",
    "conflated_links = gpd.read_file(conflated_linksfp)"
   ]
  },
  {
   "cell_type": "markdown",
   "id": "a9f73aec",
   "metadata": {},
   "source": [
    "#### Merging function"
   ]
  },
  {
   "cell_type": "code",
   "execution_count": null,
   "id": "6ea37fab",
   "metadata": {},
   "outputs": [],
   "source": [
    "def merge_network_and_attributes(conflated_links,attr_network,cols_to_keep):\n",
    "    #find the shared columns between conflated network and attribute network\n",
    "    shared_cols = list(conflated_links.columns[conflated_links.columns.isin(attr_network.columns)])\n",
    "\n",
    "    if len(shared_cols) > 2:\n",
    "        #merge based on shared columns\n",
    "        conflated_links = pd.merge(conflated_links,attr_network[cols_to_keep + shared_cols],on=shared_cols,how='left')\n",
    "        print(conflated_links.head(20))\n",
    "    else:\n",
    "        print(f'Attr_network columns not in conflated network')\n",
    "    return conflated_links"
   ]
  },
  {
   "cell_type": "code",
   "execution_count": null,
   "id": "83f5be50",
   "metadata": {},
   "outputs": [],
   "source": [
    "#import data with attributes, don't bring in geometry\n",
    "abm_links = gpd.read_file(abm_linksfp,ignore_geometry=True)\n",
    "\n",
    "#specify which columns you need\n",
    "cols_to_keep = ['NAME','SPEEDLIMIT','two_way']\n",
    "\n",
    "#perform the merge\n",
    "conflated_links = merge_network_and_attributes(conflated_links,abm_links,cols_to_keep)\n",
    "\n",
    "#delete data with attributes to free up memory\n",
    "del(abm_links)"
   ]
  },
  {
   "cell_type": "code",
   "execution_count": null,
   "id": "03ea9b67",
   "metadata": {},
   "outputs": [],
   "source": [
    "here_links = gpd.read_file(here_linksfp,ignore_geometry=True)\n",
    "\n",
    "cols_to_keep = ['ST_NAME','DIR_TRAVEL']\n",
    "\n",
    "conflated_links = merge_network_and_attributes(conflated_links,here_links,cols_to_keep)\n",
    "del(here_links)"
   ]
  },
  {
   "cell_type": "code",
   "execution_count": null,
   "id": "be1ba1e3",
   "metadata": {},
   "outputs": [],
   "source": [
    "osm_links = pickle.load(open(osm_linksfp,\"rb\"))\n",
    "\n",
    "cols_to_keep = ['name']\n",
    "\n",
    "conflated_links = merge_network_and_attributes(conflated_links,osm_links,cols_to_keep)\n",
    "del(osm_links)"
   ]
  },
  {
   "cell_type": "code",
   "execution_count": null,
   "id": "7e66608a",
   "metadata": {},
   "outputs": [],
   "source": [
    "conflated_links.head()"
   ]
  },
  {
   "cell_type": "markdown",
   "id": "74bf9121",
   "metadata": {},
   "source": [
    "### Data Merging\n",
    "In this case we're just using street names and speed limit, but this section is dedicated for dealing with duplicate and/or missing data."
   ]
  },
  {
   "cell_type": "code",
   "execution_count": null,
   "id": "b85a5f3b",
   "metadata": {},
   "outputs": [],
   "source": [
    "#streetnames\n",
    "#if abm name is present use that, else use the HERE name\n",
    "conflated_links['name'] = conflated_links.apply(lambda row: row['ST_NAME'] if row['NAME'] == None else row['NAME'], axis=1)\n",
    "#if no streetname exists then put in \"placeholder\" as the streetname\n",
    "conflated_links['name'] = conflated_links.apply(lambda row: 'placeholder' if pd.isna(row['name']) else row['name'], axis=1)\n",
    "\n",
    "#speed limits\n",
    "#use the ABM speed limit, if none present assume 30mph\n",
    "conflated_links['speedlimit'] = conflated_links['SPEEDLIMIT'].apply(lambda row: row if row == row else 30)\n",
    "\n",
    "#drop old columns\n",
    "conflated_links = conflated_links.drop(columns=['NAME','SPEEDLIMIT','ST_NAME'])"
   ]
  },
  {
   "cell_type": "markdown",
   "id": "f79e1f65",
   "metadata": {},
   "source": [
    "### Create A and B column\n",
    "If ABM ID in A column then go with that, else go with HERE ID."
   ]
  },
  {
   "cell_type": "code",
   "execution_count": null,
   "id": "187fa963",
   "metadata": {},
   "outputs": [],
   "source": [
    "conflated_links['A'] = conflated_links.apply(lambda row: row['here_A'] if row['abm_A'] == None else row['abm_A'], axis=1)\n",
    "conflated_links['B'] = conflated_links.apply(lambda row: row['here_B'] if row['abm_B'] == None else row['abm_B'], axis=1)\n",
    "conflated_links.head()"
   ]
  },
  {
   "cell_type": "markdown",
   "id": "39007741",
   "metadata": {},
   "source": [
    "### Create reverse links for two way streets and calculate distance"
   ]
  },
  {
   "cell_type": "code",
   "execution_count": null,
   "id": "33a1791b",
   "metadata": {},
   "outputs": [],
   "source": [
    "conflated_links_rev = conflated_links.copy().rename(columns={'A':'B','B':'A'})\n",
    "\n",
    "#filter to those that are two way\n",
    "conflated_links_rev = conflated_links_rev[(conflated_links_rev['two_way'] != False) &\n",
    "                                            (conflated_links_rev['DIR_TRAVEL'] != 'F') &\n",
    "                                            (conflated_links_rev['DIR_TRAVEL'] != 'T')                            \n",
    "                                            ]\n",
    "\n",
    "conflated_links = conflated_links.append(conflated_links_rev).reset_index()\n",
    "\n",
    "#create A_B column\n",
    "conflated_links['A_B'] = conflated_links['A'] + '_' + conflated_links['B']\n",
    "\n",
    "#drop uneeded cols\n",
    "conflated_links = conflated_links.drop(columns=['two_way','DIR_TRAVEL'])\n",
    "\n",
    "#calculate distance\n",
    "conflated_links['distance'] = conflated_links.length\n",
    "\n",
    "conflated_links.head()"
   ]
  },
  {
   "cell_type": "markdown",
   "id": "574ceff5",
   "metadata": {},
   "source": [
    "### Export"
   ]
  },
  {
   "cell_type": "code",
   "execution_count": null,
   "id": "15192d04",
   "metadata": {},
   "outputs": [],
   "source": [
    "conflated_links.to_file(r'processed_shapefiles\\prepared_network\\links\\links.geojson',driver='GeoJSON')"
   ]
  },
  {
   "cell_type": "code",
   "execution_count": null,
   "id": "3890daed",
   "metadata": {},
   "outputs": [],
   "source": []
  },
  {
   "cell_type": "code",
   "execution_count": null,
   "id": "0ec0fafe",
   "metadata": {},
   "outputs": [],
   "source": []
  }
 ],
 "metadata": {
  "kernelspec": {
   "display_name": "Python 3 (ipykernel)",
   "language": "python",
   "name": "python3"
  },
  "language_info": {
   "codemirror_mode": {
    "name": "ipython",
    "version": 3
   },
   "file_extension": ".py",
   "mimetype": "text/x-python",
   "name": "python",
   "nbconvert_exporter": "python",
   "pygments_lexer": "ipython3",
   "version": "3.9.7"
  },
  "varInspector": {
   "cols": {
    "lenName": 16,
    "lenType": 16,
    "lenVar": 40
   },
   "kernels_config": {
    "python": {
     "delete_cmd_postfix": "",
     "delete_cmd_prefix": "del ",
     "library": "var_list.py",
     "varRefreshCmd": "print(var_dic_list())"
    },
    "r": {
     "delete_cmd_postfix": ") ",
     "delete_cmd_prefix": "rm(",
     "library": "var_list.r",
     "varRefreshCmd": "cat(var_dic_list()) "
    }
   },
   "position": {
    "height": "488.85px",
    "left": "1510px",
    "right": "20px",
    "top": "112px",
    "width": "329px"
   },
   "types_to_exclude": [
    "module",
    "function",
    "builtin_function_or_method",
    "instance",
    "_Feature"
   ],
   "window_display": false
  }
 },
 "nbformat": 4,
 "nbformat_minor": 5
}

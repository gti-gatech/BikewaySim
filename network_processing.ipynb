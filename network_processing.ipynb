{
 "cells": [
  {
   "cell_type": "markdown",
   "id": "38567b57",
   "metadata": {},
   "source": [
    "# Network Processing\n",
    "---\n",
    "\n",
    "#### Run this code block by block to convert a road network(s) in ESRI Shapefile or GeoJSON format into a routable and conflated network graph to use in BikewaySim."
   ]
  },
  {
   "cell_type": "markdown",
   "id": "b88b22d1",
   "metadata": {},
   "source": [
    "## Import/install the following packages:\n"
   ]
  },
  {
   "cell_type": "code",
   "execution_count": 1,
   "id": "81ad7abf",
   "metadata": {},
   "outputs": [],
   "source": [
    "import os\n",
    "from pathlib import Path\n",
    "import time\n",
    "import geopandas as gpd"
   ]
  },
  {
   "cell_type": "markdown",
   "id": "b03212d3",
   "metadata": {},
   "source": [
    "## Import Network Filter Module:"
   ]
  },
  {
   "cell_type": "code",
   "execution_count": null,
   "id": "b9828c49",
   "metadata": {},
   "outputs": [],
   "source": [
    "from network_filter import *"
   ]
  },
  {
   "cell_type": "markdown",
   "id": "4715c76b",
   "metadata": {},
   "source": [
    "## Set Directory:\n",
    "### Need to modify this"
   ]
  },
  {
   "cell_type": "code",
   "execution_count": null,
   "id": "1fbb0f7f",
   "metadata": {},
   "outputs": [],
   "source": [
    "#make directory/pathing more intuitive later\n",
    "file_dir = r\"C:\\Users\\tpassmore6\\Documents\\GitHub\\BikewaySimDevv\" #directory of bikewaysim network processing code\n",
    "\n",
    "#change this to where you stored this folder\n",
    "os.chdir(file_dir)"
   ]
  },
  {
   "cell_type": "markdown",
   "id": "4b8199e3",
   "metadata": {},
   "source": [
    "## Choose study area:\n",
    "#### Specify what area you want to mask the spatial data by. Only network links that are partially within the study area will be imported. Note: Network links are NOT clipped or split apart.\n",
    "\n",
    "### Try any polygon. Just don't pick something bigger than the ARC metro region"
   ]
  },
  {
   "cell_type": "code",
   "execution_count": null,
   "id": "64370402",
   "metadata": {},
   "outputs": [],
   "source": [
    "studyareafp = r'base_shapefiles/bikewaysim_study_area/bikewaysim_study_area.shp'\n",
    "studyarea_name = 'bikewaysim'\n",
    "#city_of_atlantafp = r'base_shapefiles/coa/Atlanta_City_Limits.shp'\n",
    "#atlanta_regional_commissionfp = r'base_shapefiles/arc/arc_bounds.shp'\n",
    "\n",
    "desired_crs = \"EPSG:2240\"\n",
    "\n",
    "#add new study areas if desired\n",
    "studyarea = import_study_area(studyareafp, studyarea_name, desired_crs)"
   ]
  },
  {
   "cell_type": "code",
   "execution_count": null,
   "id": "6ed537dd",
   "metadata": {},
   "outputs": [],
   "source": [
    "studyarea.explore()"
   ]
  },
  {
   "cell_type": "markdown",
   "id": "c91a615f",
   "metadata": {},
   "source": [
    "## Network Mapper\n",
    "- this is how network node ID's will be identified and coded\n",
    "- the first letter in the network ID represents its origin network\n",
    "- the second letter in the network ID represent its link type\n",
    "- all numbers after that are the original network ID "
   ]
  },
  {
   "cell_type": "code",
   "execution_count": null,
   "id": "bd6f7839",
   "metadata": {},
   "outputs": [],
   "source": [
    "network_mapper = {\n",
    "    \"abm\": \"1\",\n",
    "    \"here\": \"2\",\n",
    "    \"osm\": \"3\",\n",
    "    \"original\": \"0\",\n",
    "    \"generated\": \"1\"\n",
    "}"
   ]
  },
  {
   "cell_type": "markdown",
   "id": "49506ea4",
   "metadata": {},
   "source": [
    "## Network Data Filepaths:"
   ]
  },
  {
   "cell_type": "code",
   "execution_count": null,
   "id": "cee736d7",
   "metadata": {},
   "outputs": [],
   "source": [
    "abmfp = r'base_shapefiles/arc/ABM2020-TIP20-2020-150kShapefiles-outputs.gdb'\n",
    "herefp = r'base_shapefiles/here/Streets.shp'\n",
    "osmfp = r'base_shapefiles/osm/studyarea_links_attr.gpkg'"
   ]
  },
  {
   "cell_type": "markdown",
   "id": "16726331",
   "metadata": {},
   "source": [
    "## Set Network Import Settings\n",
    "#### Create a dictionary for use in filter networks function. \n",
    "**Should not have have to modify as is.**"
   ]
  },
  {
   "cell_type": "code",
   "execution_count": null,
   "id": "79467d56",
   "metadata": {},
   "outputs": [],
   "source": [
    "#defined networks\n",
    "networks = [\"abm\",\"here\",\"osm\"]\n",
    "\n",
    "#abm inputs\n",
    "abm = {\n",
    "       \"studyarea\": studyarea,\n",
    "       \"studyarea_name\": studyarea_name,\n",
    "       \"networkfp\": abmfp,\n",
    "       \"network_name\": 'abm',\n",
    "       \"network_mapper\": network_mapper,\n",
    "       \"A\": \"A\",\n",
    "       \"B\": \"B\",\n",
    "       \"layer\": \"DAILY_LINK\"\n",
    "       }\n",
    "\n",
    "#here inputs\n",
    "here = {\n",
    "       \"studyarea\": studyarea,\n",
    "       \"studyarea_name\": studyarea_name,\n",
    "       \"networkfp\": herefp,\n",
    "       \"network_name\": 'here',\n",
    "       \"network_mapper\": network_mapper,\n",
    "       \"A\": \"REF_IN_ID\",\n",
    "       \"B\": \"NREF_IN_ID\",\n",
    "       \"layer\": 0,\n",
    "       \"network_mapper\": network_mapper\n",
    "       }\n",
    "\n",
    "osm = {\n",
    "      \"studyarea\": studyarea,\n",
    "       \"studyarea_name\": studyarea_name,\n",
    "       \"networkfp\": osmfp,\n",
    "       \"network_name\": 'osm',\n",
    "       \"network_mapper\": network_mapper,\n",
    "       \"A\": 'A',\n",
    "       \"B\": 'B',\n",
    "       \"layer\": 0,\n",
    "       }"
   ]
  },
  {
   "cell_type": "markdown",
   "id": "b0afe599",
   "metadata": {},
   "source": [
    "## Run Network Filter Module to Create Initial Subnetworks\n",
    "From the network_filter.py file run the filter networks function. This will first import the spatial data and then filter the data into a base, road, bike, or serivce link. \n",
    "**Note: If this is the a new network that is not OSM, HERE, or ABM then specify a new filter method by going into the network_filter.py file.** Otherwise, none of the links will be filtered into road/bike/service links. **Also note: all spatial files are being projected to EPSG 2240 right now.** Need to modify later.\n"
   ]
  },
  {
   "cell_type": "markdown",
   "id": "8274c1ce",
   "metadata": {},
   "source": [
    "## Filter ABM"
   ]
  },
  {
   "cell_type": "code",
   "execution_count": null,
   "id": "d880d7a4",
   "metadata": {},
   "outputs": [],
   "source": [
    "filter_networks(**abm)"
   ]
  },
  {
   "cell_type": "markdown",
   "id": "b53c4b2a",
   "metadata": {},
   "source": [
    "## Filter HERE"
   ]
  },
  {
   "cell_type": "code",
   "execution_count": null,
   "id": "a0ff8c53",
   "metadata": {},
   "outputs": [],
   "source": [
    "filter_networks(**here)"
   ]
  },
  {
   "cell_type": "markdown",
   "id": "3c52d3cb",
   "metadata": {},
   "source": [
    "## Filter OSM (just run this one Juwon)"
   ]
  },
  {
   "cell_type": "code",
   "execution_count": null,
   "id": "0ec22fc8",
   "metadata": {},
   "outputs": [],
   "source": [
    "filter_networks(**osm)"
   ]
  },
  {
   "cell_type": "markdown",
   "id": "fb8f7dad",
   "metadata": {},
   "source": [
    "# Everything below here still in progress"
   ]
  },
  {
   "cell_type": "markdown",
   "id": "b2b87e35",
   "metadata": {},
   "source": [
    "## Summurize Network Results (work in progress)"
   ]
  },
  {
   "cell_type": "code",
   "execution_count": null,
   "id": "573a85c8",
   "metadata": {},
   "outputs": [],
   "source": [
    "from attribute_summary import * \n",
    "\n",
    "abm_road = import_geojson('abm', 'study_area', 'road')\n",
    "osm_road = import_geojson('osm','study_area','road')\n",
    "here_road = import_geojson('here', 'study_area', 'road')\n",
    "\n",
    "#filter to only functional class, lane, and speed limit columns\n",
    "abm_filt = ['NAME','FACTYPE', 'FCLASS', 'SPEED', 'SPEEDLIMIT', 'LANESTOTAL', 'LANES', 'geometry']\n",
    "osm_filt = ['name', 'highway', 'maxspeed', 'lanes', 'lanes:backward', 'lanes:forward', 'geometry']\n",
    "here_filt = ['ST_NAME','FUNC_CLASS', 'SPEED_CAT', 'LANE_CAT', 'PHYS_LANES' , 'TO_LANES', 'FROM_LANES', 'geometry']\n",
    "\n",
    "abm_road = abm_road[abm_filt]\n",
    "osm_road = osm_road[osm_filt]\n",
    "here_road = here_road[here_filt]"
   ]
  },
  {
   "cell_type": "markdown",
   "id": "68d38476",
   "metadata": {},
   "source": [
    "## Conflation Process (work in progress)\n",
    "In this step, the networks are conflated to each other by utilizing functions in the network_conflation.py module"
   ]
  },
  {
   "cell_type": "markdown",
   "id": "c09507c7",
   "metadata": {},
   "source": [
    "i like to remove all of the columns that aren't related to node_id or geometry for this step. To make sure we preserve link information I also make a A_B column\n",
    "\n",
    "\n",
    "there are three main function in conflation module. The first just matches nearest points.\n",
    "\n",
    "The second will find the nearest spot on a link and create new points\n",
    "\n",
    "The last is a function that deals with removing links/nodes that have already been considered"
   ]
  },
  {
   "cell_type": "markdown",
   "id": "afffb025",
   "metadata": {},
   "source": [
    "\n",
    "#only select columns that correspond to A, B, and geo\n",
    "\n",
    "#create an A_B column\n",
    "\n",
    "#determine what you want the base network to be, and which order you want to conflate in\n",
    "#for this project, ABM was the base with HERE followed by OSM as the joining ones.\n",
    "\n",
    "\n",
    "\n",
    "\n",
    "#do this step outside of the function\n",
    "\n",
    "#Filter joining network\n",
    "This should make it so that the only joining nodes that the base nodes can join to represent real intersections\n",
    "<code>joining_nodes = joining_nodes[joining_nodes[f'{joining_name}_num_links'] != 2 ].reset_index(drop=True)<code>\n"
   ]
  },
  {
   "cell_type": "code",
   "execution_count": 2,
   "id": "0e8f2161",
   "metadata": {},
   "outputs": [],
   "source": [
    "from conflation_tools import *"
   ]
  },
  {
   "cell_type": "markdown",
   "id": "7b3e48ea",
   "metadata": {},
   "source": [
    "### Links and Nodes to Conflate"
   ]
  },
  {
   "cell_type": "code",
   "execution_count": 3,
   "id": "a02c827f",
   "metadata": {},
   "outputs": [],
   "source": [
    "base_name = \"abm\"\n",
    "join_name = \"here\"\n",
    "\n",
    "#road layers\n",
    "base_links = gpd.read_file(r\"C:/Users/tpassmore6/Documents/GitHub/BikewaySimDev/processed_shapefiles/abm/abm_bikewaysim_road_links.geojson\")\n",
    "base_nodes = gpd.read_file(r\"C:/Users/tpassmore6/Documents/GitHub/BikewaySimDev/processed_shapefiles/abm/abm_bikewaysim_road_nodes.geojson\")\n",
    "join_links = gpd.read_file(r\"C:/Users/tpassmore6/Documents/GitHub/BikewaySimDev/processed_shapefiles/here/here_bikewaysim_road_links.geojson\")\n",
    "join_nodes = gpd.read_file(r\"C:/Users/tpassmore6/Documents/GitHub/BikewaySimDev/processed_shapefiles/here/here_bikewaysim_road_nodes.geojson\")\n",
    "\n",
    "#bike layers\n",
    "bike_links = gpd.read_file(r'C:/Users/tpassmore6/Documents/GitHub/BikewaySimDev/processed_shapefiles/here/here_bikewaysim_bike_links.geojson')\n",
    "bike_nodes = gpd.read_file(r'C:/Users/tpassmore6/Documents/GitHub/BikewaySimDev/processed_shapefiles/here/here_bikewaysim_bike_nodes.geojson')\n",
    "bike_name = 'here'\n"
   ]
  },
  {
   "cell_type": "markdown",
   "id": "c352c106",
   "metadata": {},
   "source": [
    "### Cleaning to get rid of excess columns"
   ]
  },
  {
   "cell_type": "code",
   "execution_count": 4,
   "id": "e6a033c5",
   "metadata": {},
   "outputs": [],
   "source": [
    "base_links, base_nodes = cleaning_process(base_links,base_nodes,base_name)\n",
    "join_links, join_nodes = cleaning_process(join_links,join_nodes,join_name)\n",
    "\n",
    "#clean excess columns\n",
    "bike_links, bike_nodes = cleaning_process(bike_links,bike_nodes,bike_name)"
   ]
  },
  {
   "cell_type": "markdown",
   "id": "f22be951",
   "metadata": {},
   "source": [
    "### Node Matching"
   ]
  },
  {
   "cell_type": "code",
   "execution_count": 5,
   "id": "250cbead",
   "metadata": {},
   "outputs": [
    {
     "name": "stdout",
     "output_type": "stream",
     "text": [
      "1422 initial matches\n",
      "There were 12 duplicates, now there are 1416 matches.\n",
      "There are 103 abm nodes and 3355 here nodes remaining\n",
      "1416 node pairs have been matched so far.\n"
     ]
    }
   ],
   "source": [
    "#first match the nodes, can repeat this by adding in previously matched_nodes\n",
    "tolerance_ft = 25\n",
    "matched_nodes, unmatched_base_nodes, unmatched_join_nodes = match_nodes(base_nodes, base_name, join_nodes, join_name, tolerance_ft, prev_matched_nodes=None)\n",
    "\n",
    "#join the matched nodes to the base nodes once done with matching\n",
    "matched_nodes_final = pd.merge(base_nodes, matched_nodes, on = f'{base_name}_ID', how = \"left\")"
   ]
  },
  {
   "cell_type": "markdown",
   "id": "9a78fd0c",
   "metadata": {},
   "source": [
    "### Link Splitting and Add New Links and Nodes"
   ]
  },
  {
   "cell_type": "code",
   "execution_count": 6,
   "id": "502d1457",
   "metadata": {},
   "outputs": [
    {
     "name": "stdout",
     "output_type": "stream",
     "text": [
      "There are 1369 here points matching to 680 abm links\n",
      "There are 1986 here nodes remaining\n",
      "There were 2005 new lines created.\n"
     ]
    },
    {
     "name": "stderr",
     "output_type": "stream",
     "text": [
      "C:\\Users\\tpassmore6\\Documents\\GitHub\\BikewaySimDev\\conflation_tools.py:231: FutureWarning: Currently, index_parts defaults to True, but in the future, it will default to False to be consistent with Pandas. Use `index_parts=True` to keep the current behavior and True/False to silence the warning.\n",
      "  df_split = df_split.explode().reset_index(drop=True)\n"
     ]
    }
   ],
   "source": [
    "#create new node and lines from the base links by splitting lines can repeat after the add_new_links_nodes function\n",
    "tolerance_ft = 25\n",
    "split_lines, split_nodes, unmatched_join_nodes = split_lines_create_points(unmatched_join_nodes, join_name, base_links, base_name, tolerance_ft, export = False)\n",
    "\n",
    "#add new links and nodes to the base links and nodes created from split_lines_create_points function\n",
    "new_links, new_nodes = add_new_links_nodes(base_links, matched_nodes_final, split_lines, split_nodes, base_name)"
   ]
  },
  {
   "cell_type": "markdown",
   "id": "7f88f580",
   "metadata": {},
   "source": [
    "### Attribute Add"
   ]
  },
  {
   "cell_type": "code",
   "execution_count": 7,
   "id": "665c4987",
   "metadata": {},
   "outputs": [],
   "source": [
    "#match attribute information with greatest overlap from joining links\n",
    "new_base_links_w_attr = add_attributes(new_links, base_name, join_links, join_name)"
   ]
  },
  {
   "cell_type": "markdown",
   "id": "1491c88d",
   "metadata": {},
   "source": [
    "### Add rest of features"
   ]
  },
  {
   "cell_type": "code",
   "execution_count": 8,
   "id": "ac75302e",
   "metadata": {},
   "outputs": [
    {
     "name": "stderr",
     "output_type": "stream",
     "text": [
      "C:\\Users\\tpassmore6\\Anaconda3\\envs\\geo-env\\lib\\site-packages\\pandas\\core\\dtypes\\cast.py:118: ShapelyDeprecationWarning: The array interface is deprecated and will no longer work in Shapely 2.0. Convert the '.coords' to a numpy array instead.\n",
      "  arr = construct_1d_object_array_from_listlike(values)\n",
      "C:\\Users\\tpassmore6\\Anaconda3\\envs\\geo-env\\lib\\site-packages\\pandas\\core\\dtypes\\cast.py:118: ShapelyDeprecationWarning: The array interface is deprecated and will no longer work in Shapely 2.0. Convert the '.coords' to a numpy array instead.\n",
      "  arr = construct_1d_object_array_from_listlike(values)\n"
     ]
    }
   ],
   "source": [
    "#add unrepresented features from joining by looking at the attributes added in prevoius step for links and the list of matched nodes\n",
    "added_base_links, added_base_nodes = add_rest_of_features(new_base_links_w_attr,new_nodes,base_name,join_links,join_nodes,join_name)"
   ]
  },
  {
   "cell_type": "code",
   "execution_count": 9,
   "id": "fee1fdf3",
   "metadata": {},
   "outputs": [
    {
     "data": {
      "text/html": [
       "<div>\n",
       "<style scoped>\n",
       "    .dataframe tbody tr th:only-of-type {\n",
       "        vertical-align: middle;\n",
       "    }\n",
       "\n",
       "    .dataframe tbody tr th {\n",
       "        vertical-align: top;\n",
       "    }\n",
       "\n",
       "    .dataframe thead th {\n",
       "        text-align: right;\n",
       "    }\n",
       "</style>\n",
       "<table border=\"1\" class=\"dataframe\">\n",
       "  <thead>\n",
       "    <tr style=\"text-align: right;\">\n",
       "      <th></th>\n",
       "      <th>abm_A_B</th>\n",
       "      <th>abm_line_geo</th>\n",
       "      <th>here_A_B</th>\n",
       "      <th>original_length</th>\n",
       "    </tr>\n",
       "  </thead>\n",
       "  <tbody>\n",
       "    <tr>\n",
       "      <th>0</th>\n",
       "      <td>1010848_10340018</td>\n",
       "      <td>LINESTRING (2233265.865 1384662.528, 2233329.3...</td>\n",
       "      <td>201063859187_2017289087</td>\n",
       "      <td>NaN</td>\n",
       "    </tr>\n",
       "    <tr>\n",
       "      <th>1</th>\n",
       "      <td>1010854_1010856</td>\n",
       "      <td>LINESTRING (2231248.476 1375719.070, 2231166.4...</td>\n",
       "      <td>2017289109_2017289100</td>\n",
       "      <td>NaN</td>\n",
       "    </tr>\n",
       "    <tr>\n",
       "      <th>2</th>\n",
       "      <td>1013524_1053435</td>\n",
       "      <td>LINESTRING (2239431.313 1375903.192, 2239373.5...</td>\n",
       "      <td>2044584013_2030636889</td>\n",
       "      <td>NaN</td>\n",
       "    </tr>\n",
       "    <tr>\n",
       "      <th>3</th>\n",
       "      <td>1013524_10299911</td>\n",
       "      <td>LINESTRING (2239431.313 1375903.192, 2239452.5...</td>\n",
       "      <td>2030636889_2044584017</td>\n",
       "      <td>NaN</td>\n",
       "    </tr>\n",
       "    <tr>\n",
       "      <th>4</th>\n",
       "      <td>1013525_1053438</td>\n",
       "      <td>LINESTRING (2239619.442 1375764.578, 2239568.0...</td>\n",
       "      <td>201181585260_2044584017</td>\n",
       "      <td>NaN</td>\n",
       "    </tr>\n",
       "  </tbody>\n",
       "</table>\n",
       "</div>"
      ],
      "text/plain": [
       "            abm_A_B                                       abm_line_geo  \\\n",
       "0  1010848_10340018  LINESTRING (2233265.865 1384662.528, 2233329.3...   \n",
       "1   1010854_1010856  LINESTRING (2231248.476 1375719.070, 2231166.4...   \n",
       "2   1013524_1053435  LINESTRING (2239431.313 1375903.192, 2239373.5...   \n",
       "3  1013524_10299911  LINESTRING (2239431.313 1375903.192, 2239452.5...   \n",
       "4   1013525_1053438  LINESTRING (2239619.442 1375764.578, 2239568.0...   \n",
       "\n",
       "                  here_A_B  original_length  \n",
       "0  201063859187_2017289087              NaN  \n",
       "1    2017289109_2017289100              NaN  \n",
       "2    2044584013_2030636889              NaN  \n",
       "3    2030636889_2044584017              NaN  \n",
       "4  201181585260_2044584017              NaN  "
      ]
     },
     "execution_count": 9,
     "metadata": {},
     "output_type": "execute_result"
    }
   ],
   "source": [
    "added_base_links.head()"
   ]
  },
  {
   "cell_type": "code",
   "execution_count": 10,
   "id": "3060a16f",
   "metadata": {},
   "outputs": [
    {
     "data": {
      "text/plain": [
       "'here_point_geo'"
      ]
     },
     "execution_count": 10,
     "metadata": {},
     "output_type": "execute_result"
    }
   ],
   "source": [
    "bike_nodes.geometry.geometry.name"
   ]
  },
  {
   "cell_type": "markdown",
   "id": "a57f17a6",
   "metadata": {},
   "source": [
    "### Merge with other networks"
   ]
  },
  {
   "cell_type": "code",
   "execution_count": 11,
   "id": "7fc36d8d",
   "metadata": {},
   "outputs": [
    {
     "name": "stdout",
     "output_type": "stream",
     "text": [
      "390 nodes already in the base network\n",
      "True\n",
      "here_ID_bike           False\n",
      "here_num_links_bike    False\n",
      "here_point_geo_bike    False\n",
      "dtype: bool\n"
     ]
    },
    {
     "ename": "UnboundLocalError",
     "evalue": "local variable 'connections' referenced before assignment",
     "output_type": "error",
     "traceback": [
      "\u001b[1;31m---------------------------------------------------------------------------\u001b[0m",
      "\u001b[1;31mUnboundLocalError\u001b[0m                         Traceback (most recent call last)",
      "\u001b[1;32mC:\\Users\\TPASSM~1\\AppData\\Local\\Temp/ipykernel_216020/2810792056.py\u001b[0m in \u001b[0;36m<module>\u001b[1;34m\u001b[0m\n\u001b[0;32m      1\u001b[0m \u001b[1;31m#merge diff netwrks\u001b[0m\u001b[1;33m\u001b[0m\u001b[1;33m\u001b[0m\u001b[0m\n\u001b[0;32m      2\u001b[0m \u001b[0mtolerance_ft\u001b[0m \u001b[1;33m=\u001b[0m \u001b[1;36m25\u001b[0m\u001b[1;33m\u001b[0m\u001b[1;33m\u001b[0m\u001b[0m\n\u001b[1;32m----> 3\u001b[1;33m \u001b[0mmerged_links\u001b[0m\u001b[1;33m,\u001b[0m \u001b[0mmerged_nodes\u001b[0m\u001b[1;33m,\u001b[0m \u001b[0mconnections\u001b[0m \u001b[1;33m=\u001b[0m \u001b[0mmerge_diff_networks\u001b[0m\u001b[1;33m(\u001b[0m\u001b[0madded_base_links\u001b[0m\u001b[1;33m,\u001b[0m \u001b[0madded_base_nodes\u001b[0m\u001b[1;33m,\u001b[0m \u001b[1;34m'road'\u001b[0m\u001b[1;33m,\u001b[0m \u001b[0mbike_links\u001b[0m\u001b[1;33m,\u001b[0m \u001b[0mbike_nodes\u001b[0m\u001b[1;33m,\u001b[0m \u001b[1;34m'bike'\u001b[0m\u001b[1;33m,\u001b[0m \u001b[0mtolerance_ft\u001b[0m\u001b[1;33m)\u001b[0m\u001b[1;33m\u001b[0m\u001b[1;33m\u001b[0m\u001b[0m\n\u001b[0m",
      "\u001b[1;32m~\\Documents\\GitHub\\BikewaySimDev\\conflation_tools.py\u001b[0m in \u001b[0;36mmerge_diff_networks\u001b[1;34m(base_links, base_nodes, base_type, join_links, join_nodes, join_type, tolerance_ft)\u001b[0m\n\u001b[0;32m    405\u001b[0m     \u001b[1;31m#only keep connections if there is not already a connection in respective column\u001b[0m\u001b[1;33m\u001b[0m\u001b[1;33m\u001b[0m\u001b[0m\n\u001b[0;32m    406\u001b[0m     \u001b[1;32mfor\u001b[0m \u001b[0mname\u001b[0m \u001b[1;32min\u001b[0m \u001b[0mcommon_ids\u001b[0m\u001b[1;33m:\u001b[0m\u001b[1;33m\u001b[0m\u001b[1;33m\u001b[0m\u001b[0m\n\u001b[1;32m--> 407\u001b[1;33m         \u001b[0mrem_cond\u001b[0m \u001b[1;33m=\u001b[0m \u001b[0mconnections\u001b[0m\u001b[1;33m[\u001b[0m\u001b[1;34mf'{name}_{base_type}'\u001b[0m\u001b[1;33m]\u001b[0m \u001b[1;33m==\u001b[0m \u001b[0mconnections\u001b[0m\u001b[1;33m[\u001b[0m\u001b[1;34mf'{name}_{join_type}'\u001b[0m\u001b[1;33m]\u001b[0m\u001b[1;33m\u001b[0m\u001b[1;33m\u001b[0m\u001b[0m\n\u001b[0m\u001b[0;32m    408\u001b[0m         \u001b[0mconnections\u001b[0m \u001b[1;33m=\u001b[0m \u001b[0mconnections\u001b[0m\u001b[1;33m[\u001b[0m\u001b[1;33m-\u001b[0m\u001b[0mrem_cond\u001b[0m\u001b[1;33m]\u001b[0m\u001b[1;33m\u001b[0m\u001b[1;33m\u001b[0m\u001b[0m\n\u001b[0;32m    409\u001b[0m \u001b[1;33m\u001b[0m\u001b[0m\n",
      "\u001b[1;31mUnboundLocalError\u001b[0m: local variable 'connections' referenced before assignment"
     ]
    }
   ],
   "source": [
    "#merge diff netwrks\n",
    "tolerance_ft = 25\n",
    "merged_links, merged_nodes, connections = merge_diff_networks(added_base_links, added_base_nodes, 'road', bike_links, bike_nodes, 'bike', tolerance_ft)"
   ]
  },
  {
   "cell_type": "markdown",
   "id": "9566e2a8",
   "metadata": {},
   "source": [
    "### Add reference IDs"
   ]
  },
  {
   "cell_type": "code",
   "execution_count": null,
   "id": "f57ea721",
   "metadata": {},
   "outputs": [],
   "source": [
    "# match reference IDs based on all the id in the nodes\n",
    "refid_base_links = add_reference_ids(merged_links, merged_nodes)"
   ]
  },
  {
   "cell_type": "markdown",
   "id": "6c3f350e",
   "metadata": {},
   "source": [
    "### Export"
   ]
  },
  {
   "cell_type": "code",
   "execution_count": null,
   "id": "238351f7",
   "metadata": {},
   "outputs": [],
   "source": [
    "refid_base_links.to_file(r'C:\\Users\\tpassmore6\\Documents\\GitHub\\BikewaySimDev\\processed_shapefiles\\final_links.geojson', driver = 'GeoJSON')\n",
    "merged_nodes.to_file(r'C:\\Users\\tpassmore6\\Documents\\GitHub\\BikewaySimDev\\processed_shapefiles\\final_nodes.geojson', driver = 'GeoJSON')"
   ]
  },
  {
   "cell_type": "markdown",
   "id": "0679bb5c",
   "metadata": {},
   "source": [
    "## Convert for use in BikewaySim"
   ]
  },
  {
   "cell_type": "code",
   "execution_count": null,
   "id": "a7ac46dd",
   "metadata": {},
   "outputs": [],
   "source": [
    "import convert_to_bikeway_sim_network"
   ]
  },
  {
   "cell_type": "code",
   "execution_count": null,
   "id": "f6c4b3be",
   "metadata": {},
   "outputs": [],
   "source": []
  },
  {
   "cell_type": "code",
   "execution_count": null,
   "id": "7b157ae9",
   "metadata": {},
   "outputs": [],
   "source": [
    "#filepaths for networks\n",
    "base_linksfp = r\"\"\n",
    "base_nodesfp = r\"\"\n",
    "join_linksfp = r\"\"\n",
    "join_nodesfp = r\"\"\n",
    "\n",
    "#column names for A, B, and/or linkID\n",
    "base_mask = ['abm_A','abm_B','abm_A_B','geometry']\n",
    "join_mask = ['here_A','here_B','here_A_B','geometry']"
   ]
  },
  {
   "cell_type": "code",
   "execution_count": null,
   "id": "ccd5e8d6",
   "metadata": {},
   "outputs": [],
   "source": [
    "#import base network\n",
    "base_links = gpd.read_file(base_linksfp)\n",
    "base_nodes = gpd.read_file(base_nodesfp)\n",
    "\n",
    "#import joining network 1\n",
    "join_links = gpd.read_file(join_linksfp)\n",
    "join_nodes = gpd.read_file(join_nodesfp)\n",
    "\n",
    "#import joining network 2 if applicable\n",
    "#join_links2 = gpd.read_file(join_links2fp)\n",
    "#join_nodes2 = gpd.read_file(join_nodes2fp)\n",
    "\n",
    "#can add more if needed"
   ]
  },
  {
   "cell_type": "code",
   "execution_count": null,
   "id": "4f09e31e",
   "metadata": {},
   "outputs": [],
   "source": [
    "#use mask to only keep neccessary columns\n",
    "base_links = base_links[base_mask]\n",
    "join_links = join_links[join_mask]\n",
    "\n",
    "#rename geometry columns\n",
    "base_links = base_links.rename(columns={'geometry':'abm_geometry'})\n",
    "join_links = join_links.rename(columns={'geometry':'here_geometry'})"
   ]
  },
  {
   "cell_type": "code",
   "execution_count": null,
   "id": "bfd7cd66",
   "metadata": {},
   "outputs": [],
   "source": [
    "#match points\n"
   ]
  },
  {
   "cell_type": "code",
   "execution_count": null,
   "id": "20e52386",
   "metadata": {},
   "outputs": [],
   "source": [
    "from network_conflation import *\n",
    "\n",
    "#%% Conflating HERE to OSM\n",
    "# Import Links and Nodes\n",
    "\n",
    "import matplotlib.pyplot as plt\n",
    "\n",
    "#filepaths\n",
    "abm_road, abm_road_nodes = import_links_and_nodes('abm','study_area','road')\n",
    "osm_road, osm_road_nodes = import_links_and_nodes('osm','study_area','road')\n",
    "\n",
    "here_road, here_road_nodes = import_links_and_nodes('here', 'study_area','road')\n",
    "\n",
    "\n",
    "#%% filter out nodes with two connecting links\n",
    "\n",
    "#remove nodes with only 2 connecting links\n",
    "osm_filt = osm_road_nodes[osm_road_nodes[f'osm_num_links'] != 2 ]\n",
    "here_filt = here_road_nodes[here_road_nodes[f'here_num_links'] != 2 ]\n",
    "\n",
    "#intersection matching\n",
    "#tolerances\n",
    "tolerances = list(range(5,36,10))\n",
    "\n",
    "#use for iterating through tolerances\n",
    "matched_intersections_here = {}\n",
    "matches_here = []\n",
    "dup_here = []\n",
    "rem_here = []\n",
    "rem_2_link_here = []\n",
    "\n",
    "matched_intersections_osm = {}\n",
    "matches_osm = []\n",
    "dup_osm = []\n",
    "rem_osm = []\n",
    "rem_2_link_osm = []\n",
    "\n",
    "for x in tolerances:\n",
    "    matched_intersections_here[x], dup_matched, matched = match_intersections(abm_road_nodes, 'abm', here_filt, 'here', x)\n",
    "    matches_here.append(matched)\n",
    "    dup_here.append(dup_matched)\n",
    "    unmatched_abm_nodes, unmatched_here_nodes = remaining_intersections(matched_intersections_here[x], abm_road_nodes, 'abm', here_road_nodes, 'here')\n",
    "    rem_here.append(len(unmatched_abm_nodes))\n",
    "    rem_2_link_here.append(len(unmatched_abm_nodes[unmatched_abm_nodes['abm_num_links'] != 2]))\n",
    "    \n",
    "    matched_intersections_osm[x], dup_matched, matched = match_intersections(abm_road_nodes, 'abm', osm_filt, 'osm', x)\n",
    "    matches_osm.append(matched)\n",
    "    dup_osm.append(dup_matched)\n",
    "    unmatched_abm_nodes, unmatched_osm_nodes = remaining_intersections(matched_intersections_osm[x], abm_road_nodes, 'abm', osm_road_nodes, 'osm')\n",
    "    rem_osm.append(len(unmatched_abm_nodes))\n",
    "    rem_2_link_osm.append(len(unmatched_abm_nodes[unmatched_abm_nodes['abm_num_links'] != 2]))\n",
    "\n",
    "df = pd.DataFrame(list(zip(tolerances,matches_here,dup_here,rem_here,rem_2_link_here,matches_osm,dup_osm,rem_osm,rem_2_link_osm)), \n",
    "                  columns = ['tolerance', 'here match', 'here dup','here_rem','here_rem_2', 'osm match', 'osm dup', 'osm rem', 'osm rem 2'])\n",
    "\n",
    "#plot relationship between tolerance and matches and dup_matches\n",
    "plt.plot(tolerances, matches_osm) \n",
    "plt.plot(tolerances, matches_here)\n",
    "\n",
    "#find remaining nodes and match these\n",
    "unmatched_abm_nodes, unmatched_osm_nodes  = remaining_intersections(matched_intersections_here[35], abm_road_nodes, 'abm', here_road_nodes, 'here')\n",
    "\n",
    "#%%\n",
    "\n",
    "matched_intersections, dup_matched, matched = match_intersections(here_filt, 'here', osm_filt, 'osm', 30)\n",
    "matched_intersections.to_file(r'Processed_Shapefiles/conflation_redux/matched_intersection.geojson', driver = 'GeoJSON')\n",
    "\n",
    "#find remaining nodes and match these\n",
    "unmatched_here_nodes, unmatched_osm_nodes  = remaining_intersections(matched_intersections, here_road_nodes, 'here', osm_road_nodes, 'osm')\n",
    "\n",
    "matched_intersections_2, dup_matched, matched = match_intersections(unmatched_here_nodes, 'here', unmatched_osm_nodes, 'osm', 20)\n",
    "matched_intersections_2.to_file('Processed_Shapefiles/conflation_redux/other_matched_nodes.geojson', driver = 'GeoJSON')\n",
    "\n",
    "# add matched nodes to intersection matches\n",
    "bikewaysim_nodes_v1 = matched_intersections.append(matched_intersections_2).reset_index()\n",
    "\n",
    "# splitting link\n",
    "unmatched_here_nodes, unmatched_osm_nodes  = remaining_intersections(bikewaysim_nodes_v1, here_road_nodes, 'here', osm_road_nodes, 'osm')\n",
    "\n",
    "# find unmatched here nodes that lie on abm, find correspoding interpolated abm node, find corresponding abm link        \n",
    "unmatched_osm_on, corre_here_point, corre_here_link, osm_nodes_remaining = point_on_line(unmatched_osm_nodes, \"osm\", here_road, \"here\", tolerance_ft = 20)\n",
    "\n",
    "\n",
    "print(f'{len(corre_here_point)} split points found.')\n",
    "\n",
    "here_split_multi_lines = split_by_node_to_multilinestring(corre_here_link, \"here_ip_line\", corre_here_point, \"here_ip_point\", \"here\")\n",
    "here_split_lines, here_rest_of_lines = transform_multilinestring_to_segment(here_split_multi_lines, here_road, \"here\")\n",
    "print(f'{len(here_split_lines)} here split lines were added.')\n",
    " \n",
    "#it seems like the remaining OSM nodes either are just links that are represented in the here service network,\n",
    "# dead end streets, feature difference, or a result of how the boundary was clipped\n",
    "\n",
    "\n",
    "\n",
    "\n",
    "\n",
    "# add these split nodes and links into the conflated network\n",
    "#create new ids for split nodes\n",
    "new_nodes = new_ids(corre_here_point, bikewaysim_nodes_v1, 'here', 'osm')\n",
    "#add split links into conflated network\n",
    "bikewaysim_links_v1 = add_split_links_into_network(here_road, here_split_lines, new_nodes, 'here', 'osm')\n",
    "\n",
    "#%%\n",
    "#transfer attributes\n",
    "\n",
    "#get ones with ref node pairs\n",
    "test = (bikewaysim_links_v1['osm_A'].isna() == False) & (bikewaysim_links_v1['osm_B'].isna() == False)\n",
    "\n",
    "#[ for x in joining_node_ids]\n",
    "\n",
    "\n",
    "\n",
    "\n",
    "\n",
    "  \n",
    "\n",
    "#%%\n",
    "\n",
    "# bring in A_B id for joining network for overlapping links so that overlapping links can be brought in\n",
    "# bring in any links that don't overlap with base networ\n",
    "bikewaysim_links_v2 = add_in_other_links(bikewaysim_links_v1, osm_road, new_nodes, 'here', 'osm')\n",
    "\n",
    "#future method\n",
    "#transfer attribute\n",
    "#test = attribute_transfer(osm_road, 'osm', new_nodes, bikewaysim_links_v1)\n",
    "\n",
    "\n",
    "# add in nodes\n",
    "bikewaysim_nodes_v3 = node_create_bikewaysim(bikewaysim_links_v2, osm_road_nodes, bikewaysim_nodes_v2, 'here', 'osm')\n",
    "\n",
    "#add in bike nodes\n",
    "osm_bike, osm_bike_nodes = import_links_and_nodes('osm','study_area','bike')\n",
    "\n",
    "bikewaysim_nodes_v4 = add_bike_nodes(bikewaysim_nodes_v3, 'bikewaysim', osm_bike_nodes, 'osm', 35)\n",
    "\n",
    "#add in bike links (this one isn't working yet)\n",
    "bikewaysim_links_v3 = add_bike_links(bikewaysim_nodes_v4, bikewaysim_links_v2, 'bikewaysim', osm_bike, 'osm')\n"
   ]
  }
 ],
 "metadata": {
  "kernelspec": {
   "display_name": "Python 3 (ipykernel)",
   "language": "python",
   "name": "python3"
  },
  "language_info": {
   "codemirror_mode": {
    "name": "ipython",
    "version": 3
   },
   "file_extension": ".py",
   "mimetype": "text/x-python",
   "name": "python",
   "nbconvert_exporter": "python",
   "pygments_lexer": "ipython3",
   "version": "3.9.7"
  },
  "varInspector": {
   "cols": {
    "lenName": 16,
    "lenType": 16,
    "lenVar": 40
   },
   "kernels_config": {
    "python": {
     "delete_cmd_postfix": "",
     "delete_cmd_prefix": "del ",
     "library": "var_list.py",
     "varRefreshCmd": "print(var_dic_list())"
    },
    "r": {
     "delete_cmd_postfix": ") ",
     "delete_cmd_prefix": "rm(",
     "library": "var_list.r",
     "varRefreshCmd": "cat(var_dic_list()) "
    }
   },
   "position": {
    "height": "488.85px",
    "left": "1510px",
    "right": "20px",
    "top": "112px",
    "width": "329px"
   },
   "types_to_exclude": [
    "module",
    "function",
    "builtin_function_or_method",
    "instance",
    "_Feature"
   ],
   "window_display": false
  }
 },
 "nbformat": 4,
 "nbformat_minor": 5
}

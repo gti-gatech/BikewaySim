{
 "cells": [
  {
   "cell_type": "markdown",
   "metadata": {},
   "source": [
    "# Prepare Data for Map Matching"
   ]
  },
  {
   "cell_type": "code",
   "execution_count": null,
   "metadata": {},
   "outputs": [],
   "source": [
    "import pandas as pd\n",
    "import numpy as np\n",
    "import geopandas as gpd\n",
    "from leuvenmapmatching.matcher.distance import DistanceMatcher\n",
    "from leuvenmapmatching.map.inmem import InMemMap\n",
    "#from leuvenmapmatching import visualization as mmviz\n",
    "import pickle\n",
    "import time\n",
    "import datetime\n",
    "from pathlib import Path\n",
    "\n",
    "from tqdm import tqdm\n",
    "from shapely.ops import Point, LineString\n",
    "import matplotlib.pyplot as plt\n",
    "\n",
    "from importlib import reload\n",
    "\n",
    "from bikewaysim.paths import config\n",
    "from bikewaysim import map_match\n",
    "from bikewaysim.network import prepare_network\n",
    "\n",
    "fps = config['matching_fp'].glob(\"match_dict_*.pkl\")\n",
    "\n",
    "with (config['matching_fp'] / 'match_settings.pkl').open('rb') as fh:\n",
    "    matching_index, _ = pickle.load(fh)\n",
    "print(matching_index)\n",
    "match_dict = {}\n",
    "i = 0\n",
    "for fp in fps:\n",
    "    if fp.parts[-1] == 'match_dict_full.pkl':\n",
    "        continue\n",
    "    with fp.open('rb') as fh:\n",
    "        small_match_dict = pickle.load(fh)\n",
    "    match_dict.update(small_match_dict)\n",
    "    i += len(small_match_dict)\n",
    "    del small_match_dict\n",
    "\n",
    "\n",
    "with (config['matching_fp'] / f'match_dict_full_{matching_index}.pkl').open('wb') as fh:\n",
    "    pickle.dump(match_dict,fh)"
   ]
  },
  {
   "cell_type": "code",
   "execution_count": null,
   "metadata": {},
   "outputs": [],
   "source": []
  }
 ],
 "metadata": {
  "kernelspec": {
   "display_name": "Python 3",
   "language": "python",
   "name": "python3"
  },
  "language_info": {
   "codemirror_mode": {
    "name": "ipython",
    "version": 3
   },
   "file_extension": ".py",
   "mimetype": "text/x-python",
   "name": "python",
   "nbconvert_exporter": "python",
   "pygments_lexer": "ipython3",
   "version": "3.9.13"
  }
 },
 "nbformat": 4,
 "nbformat_minor": 2
}

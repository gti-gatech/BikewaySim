{
 "cells": [
  {
   "cell_type": "markdown",
   "metadata": {},
   "source": [
    "# Map Match QAQC"
   ]
  },
  {
   "cell_type": "code",
   "execution_count": null,
   "metadata": {},
   "outputs": [],
   "source": [
    "import pandas as pd\n",
    "import numpy as np\n",
    "import geopandas as gpd\n",
    "from leuvenmapmatching.matcher.distance import DistanceMatcher\n",
    "from leuvenmapmatching.map.inmem import InMemMap\n",
    "from leuvenmapmatching import visualization as mmviz\n",
    "import pickle\n",
    "import time\n",
    "import datetime\n",
    "from pathlib import Path\n",
    "from tqdm import tqdm\n",
    "from shapely.ops import Point, LineString\n",
    "import matplotlib.pyplot as plt\n",
    "\n",
    "from importlib import reload\n",
    "\n",
    "import map_match"
   ]
  },
  {
   "cell_type": "code",
   "execution_count": null,
   "metadata": {},
   "outputs": [],
   "source": [
    "import json\n",
    "config = json.load((Path.cwd().parent / 'config.json').open('rb'))\n",
    "export_fp = Path(config['project_directory']) / 'Calibration'\n",
    "cycleatl_fp = Path(config['project_directory']) / 'CycleAtlanta'\n",
    "matching_fp = Path(config['project_directory']) / 'Map_Matching'\n",
    "network_fp = Path(config['project_directory']) / 'Network'\n",
    "if export_fp.exists() == False:\n",
    "    export_fp.mkdir()"
   ]
  },
  {
   "cell_type": "code",
   "execution_count": null,
   "metadata": {},
   "outputs": [],
   "source": [
    "matching_index = 0\n",
    "\n",
    "# export \n",
    "with (matching_fp/f'matched_0.pkl').open('rb') as fh:\n",
    "    match_dict = pickle.load(fh)\n",
    "\n",
    "# # export the matching settings tested\n",
    "# with (export_fp/'matching_settings_df.pkl').open('wb') as fh:\n",
    "#     pickle.dump(matching_settings_df,fh)"
   ]
  },
  {
   "cell_type": "code",
   "execution_count": null,
   "metadata": {},
   "outputs": [],
   "source": [
    "#for exmamining trips \n",
    "if (matching_fp/'qaqc.pkl').exists():\n",
    "    with (matching_fp/'qaqc.pkl').open('rb') as fh:\n",
    "        qaqc_dict = pickle.load(fh)\n",
    "else:\n",
    "    qaqc_dict = {}"
   ]
  },
  {
   "cell_type": "code",
   "execution_count": null,
   "metadata": {},
   "outputs": [],
   "source": [
    "qaqc_dict"
   ]
  },
  {
   "cell_type": "code",
   "execution_count": null,
   "metadata": {},
   "outputs": [],
   "source": [
    "with (network_fp.parent / 'chosen.pkl').open('rb') as fh:\n",
    "    df_edges,pseudo_df,pseudo_G = pickle.load(fh)"
   ]
  },
  {
   "cell_type": "code",
   "execution_count": null,
   "metadata": {},
   "outputs": [],
   "source": [
    "#add the geometry \n",
    "fp = Path.home() / \"Documents/BikewaySimData/Projects/gdot\"\n",
    "edges = gpd.read_file(fp/'networks/elevation_added.gpkg',layer=\"links\")\n",
    "edges.to_crs('epsg:2240',inplace=True)\n",
    "df_edges = df_edges.merge(edges[['linkid','geometry']],on=['linkid'])\n",
    "df_edges = gpd.GeoDataFrame(df_edges,geometry='geometry',crs=edges.crs)\n",
    "df_edges = df_edges.loc[:,~df_edges.columns.duplicated()].copy()\n",
    "df_edges.reset_index(drop=True,inplace=True)"
   ]
  },
  {
   "cell_type": "code",
   "execution_count": null,
   "metadata": {},
   "outputs": [],
   "source": [
    "import time\n",
    "from IPython.display import display, clear_output\n",
    "\n",
    "from importlib import reload\n",
    "reload(map_match)\n",
    "\n",
    "for tripid in match_dict.keys():\n",
    "\n",
    "    if isinstance(match_dict.get(tripid,0),str):\n",
    "        qaqc_dict[(tripid,matching_index)] = 'failed match'\n",
    "        continue\n",
    "\n",
    "\n",
    "#TODO get condition that won't write to dict if a trip is skipped\n",
    "\n",
    "    if qaqc_dict.get((tripid,matching_index),0) == 0:\n",
    "\n",
    "        html_map = map_match.visualize_match(tripid, match_dict, df_edges)\n",
    "        clear_output(wait=True)\n",
    "        display(html_map)\n",
    "        \n",
    "        # Wait for user input to proceed to the next trip\n",
    "        user_input = input(\"Rate from 1-5 with 1 being no match to 5 being perfect match (press 'enter' to skip or 'q' to quit)\")\n",
    "        \n",
    "        if user_input.lower() == 'q':\n",
    "            break  # Exit the loop if the user enters 'q'\n",
    "        if user_input == '':\n",
    "            continue\n",
    "\n",
    "        notes = input(\"Input notes if desired and press enter\")\n",
    "\n",
    "        #save user input for that matching index\n",
    "        qaqc_dict[(tripid,matching_index)] = {\n",
    "            'rating': user_input,\n",
    "            'notes': notes,\n",
    "            'last_reviewed': datetime.datetime.today().strftime('%Y-%m-%d %H:%M:%S')\n",
    "        }\n",
    "    \n",
    "    #prev_qaqc = qaqc_dict.get((tripid,matching_index))\n",
    "    #html_map = map_match.visualize_match(tripid, match_dict, edges, {'prev_qaqc':prev_qaqc})\n",
    "\n",
    "#TODO add the trip date to viz\n",
    "        \n",
    "\n",
    "# Additional cleanup or actions after examining all trips can be added here\n",
    "print(\"Finished examining trips.\")"
   ]
  },
  {
   "cell_type": "code",
   "execution_count": null,
   "metadata": {},
   "outputs": [],
   "source": [
    "550"
   ]
  },
  {
   "cell_type": "code",
   "execution_count": null,
   "metadata": {},
   "outputs": [],
   "source": [
    "match_dict[tripid]['trace']"
   ]
  },
  {
   "cell_type": "code",
   "execution_count": null,
   "metadata": {},
   "outputs": [],
   "source": [
    "df_edges.columns"
   ]
  },
  {
   "cell_type": "code",
   "execution_count": null,
   "metadata": {},
   "outputs": [],
   "source": [
    "with (export_fp/'qaqc.pkl').open('wb') as fh:\n",
    "    pickle.dump(qaqc_dict,fh)"
   ]
  }
 ],
 "metadata": {
  "kernelspec": {
   "display_name": "Python 3",
   "language": "python",
   "name": "python3"
  },
  "language_info": {
   "codemirror_mode": {
    "name": "ipython",
    "version": 3
   },
   "file_extension": ".py",
   "mimetype": "text/x-python",
   "name": "python",
   "nbconvert_exporter": "python",
   "pygments_lexer": "ipython3",
   "version": "3.9.13"
  }
 },
 "nbformat": 4,
 "nbformat_minor": 2
}

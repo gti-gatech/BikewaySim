{
 "cells": [
  {
   "cell_type": "markdown",
   "metadata": {},
   "source": [
    "# Map Match QAQC"
   ]
  },
  {
   "cell_type": "code",
   "execution_count": null,
   "metadata": {},
   "outputs": [],
   "source": [
    "import pandas as pd\n",
    "import numpy as np\n",
    "import geopandas as gpd\n",
    "import pickle\n",
    "from tqdm import tqdm\n",
    "from shapely.ops import Point, LineString\n",
    "import random\n",
    "from importlib import reload\n",
    "\n",
    "from bikewaysim.paths import config\n",
    "from bikewaysim import map_match"
   ]
  },
  {
   "cell_type": "code",
   "execution_count": null,
   "metadata": {},
   "outputs": [],
   "source": [
    "# print the available match dicts\n",
    "print([x.stem for x in config['matching_fp'].glob('match_dict_full_*.pkl')])\n",
    "# pick the match result you want\n",
    "matching_index = 5"
   ]
  },
  {
   "cell_type": "code",
   "execution_count": null,
   "metadata": {},
   "outputs": [],
   "source": [
    "# if not created already, create a dict for keeping track of the best possible match so far\n",
    "if (config['matching_fp']/f'matches_qaqc.pkl').exists() == False:\n",
    "    # import the trips file\n",
    "    trips = pd.read_pickle(config['cycleatl_fp']/'trips_2.pkl')[['tripid']]\n",
    "    # initialize empty columns for QAQC inputs\n",
    "    trips['matching_index'] = np.nan\n",
    "    trips['match_rating'] = np.nan\n",
    "    \n"
   ]
  },
  {
   "cell_type": "code",
   "execution_count": null,
   "metadata": {},
   "outputs": [],
   "source": [
    "keep_cols = ['tripid','start_time', 'end_time', 'start_lon', 'start_lat', 'end_lon',\n",
    "       'end_lat', 'start_X', 'start_Y', 'end_X', 'end_Y', 'duration',\n",
    "       'total_points', 'avg_accuracy', 'max_delta_time', 'mean_delta_time',\n",
    "       'max_distance_ft', 'avg_distance_ft', 'total_distance_ft',\n",
    "       'first_to_last_ft', 'max_speed_mph', 'min_speed_mph', 'avg_speed_mph',\n",
    "       'userid', 'trip_type', 'description', 'old_userid'"
   ]
  },
  {
   "cell_type": "code",
   "execution_count": null,
   "metadata": {},
   "outputs": [],
   "source": [
    "trips.columns"
   ]
  },
  {
   "cell_type": "code",
   "execution_count": null,
   "metadata": {},
   "outputs": [],
   "source": [
    "#import specific match results\n",
    "with (config['matching_fp']/f'match_dict_full_{matching_index}.pkl').open('rb') as fh:\n",
    "    match_dict = pickle.load(fh)\n",
    "\n",
    "#load the traces\n",
    "with (config['cycleatl_fp']/'reduced_spacing.pkl').open('rb') as fh:\n",
    "    coords_dict = pickle.load(fh)\n",
    "\n",
    "# import matching settings tested for referencing\n",
    "with (config['matching_fp']/'matching_settings_df.pkl').open('rb') as fh:\n",
    "    matching_settings_df = pickle.load(fh)\n",
    "\n",
    "# import matching network\n",
    "with (config['matching_fp'] / 'map_con.pkl').open('rb') as fh:\n",
    "    exploded_links, exploded_nodes = pickle.load(fh)\n",
    "map_con = map_match.make_network(exploded_links,exploded_nodes)\n",
    "link_types_allowed = exploded_links['link_type'].unique().tolist()\n",
    "\n",
    "# load the coords dict because it has the GPS recording attributes\n",
    "with (config['matching_fp'] / f'coords_dict.pkl').open('rb') as fh:\n",
    "    coords_dict0 = pickle.load(fh)\n",
    "\n",
    "# load network for visualizations\n",
    "links = gpd.read_file(config['network_fp']/'final_network.gpkg',layer='edges')\n",
    "nodes = gpd.read_file(config['network_fp']/'final_network.gpkg',layer='nodes')\n",
    "links.rename(columns={'osm_linkid':'linkid','osm_A':'A','osm_B':'B'},inplace=True)\n",
    "nodes.rename(columns={'osm_N':'N'},inplace=True)"
   ]
  },
  {
   "cell_type": "code",
   "execution_count": null,
   "metadata": {},
   "outputs": [],
   "source": [
    "matching_settings_df"
   ]
  },
  {
   "cell_type": "markdown",
   "metadata": {},
   "source": [
    "# Map Matching Settings\n",
    "Check the [Leueven Documentation](https://github.com/wannesm/LeuvenMapMatching/blob/9ca9f0b73665252f2ee492fae9dd243feef2f39d/leuvenmapmatching/matcher/distance.py) for more information."
   ]
  },
  {
   "cell_type": "markdown",
   "metadata": {},
   "source": [
    "Basic Stats"
   ]
  },
  {
   "cell_type": "code",
   "execution_count": null,
   "metadata": {},
   "outputs": [],
   "source": [
    "cutoff = 0.9\n",
    "successful, substandard, failed, match_ratios = map_match.mapmatch_results(match_dict,cutoff)\n",
    "\n",
    "#remove failed matches from match_dict\n",
    "match_dict = {key:item for key,item in match_dict.items() if key in successful + substandard}\n",
    "\n",
    "#only keep full traces for the failed matches\n",
    "coords_dict = {key:item for key,item in coords_dict.items() if key in failed}"
   ]
  },
  {
   "cell_type": "markdown",
   "metadata": {},
   "source": [
    "# Examine a match"
   ]
  },
  {
   "cell_type": "code",
   "execution_count": null,
   "metadata": {},
   "outputs": [],
   "source": [
    "tripid = 1488\n",
    "if tripid in match_dict.keys():\n",
    "    m = map_match.visualize_match(tripid, match_dict, links, config)\n",
    "else:\n",
    "    m = map_match.visualize_failed_match(tripid, coords_dict, links, config)\n",
    "m"
   ]
  },
  {
   "cell_type": "markdown",
   "metadata": {},
   "source": [
    "# Re-match"
   ]
  },
  {
   "cell_type": "code",
   "execution_count": null,
   "metadata": {},
   "outputs": [],
   "source": [
    "coords_dict = {key:item for key,item in coords_dict0.items() if key==tripid}\n",
    "matching_settings = {\n",
    "        'obs_noise': 50, #Standard deviation of noise\n",
    "        'obs_noise_ne': 100, #Standard deviation of noise for non-emitting states (is set to obs_noise if not given)\n",
    "        'max_dist_init': 2000, #Maximum distance from start location (if not given, uses max_dist)\n",
    "        'max_dist': 1000, #Maximum distance from path (this is a hard cut, min_prob_norm should be better)\n",
    "        'min_prob_norm': 0.005, #Minimum normalized probability of observations (ema)\n",
    "        'non_emitting_states': False, #Allow non-emitting states\n",
    "        'non_emitting_length_factor': 0.75, #Reduce the probability of a sequence of non-emitting states the longer it is.\n",
    "        'max_lattice_width': 50, #Restrict the lattice (or possible candidate states per observation) to this value.\n",
    "        'dist_noise': 50, #Standard deviation of difference between distance between states and distance between observations.\n",
    "        'dist_noise_ne': 200, #for no emitting If not given, set to dist_noise\n",
    "        'restrained_ne': True, #Avoid non-emitting states if the distance between states and between observations is close to each other.\n",
    "        'avoid_goingback': True, #If true, the probability is lowered for a transition that returns back to a previous edges or returns to a position on an edge.\n",
    "        'increase_max_lattice_width': False,\n",
    "        'export_graph': False,\n",
    "        'link_types': str(np.sort(link_types_allowed)),\n",
    "        'allow_wrongway': False\n",
    "    }\n",
    "match_dict = {tripid:map_match.leuven_match(trace,matching_settings,map_con,exploded_links) for tripid, trace in tqdm(coords_dict.items(),total=len(coords_dict))}\n",
    "map_match.visualize_match(tripid, match_dict, links, config)"
   ]
  },
  {
   "cell_type": "markdown",
   "metadata": {},
   "source": [
    "# Examine failed Matches"
   ]
  },
  {
   "cell_type": "code",
   "execution_count": null,
   "metadata": {},
   "outputs": [],
   "source": [
    "import random\n",
    "tripid = random.choice(failed)\n",
    "# tripid = 1637\n",
    "print(tripid)\n",
    "map_match.visualize_failed_match(tripid, coords_dict, links, config)"
   ]
  },
  {
   "cell_type": "markdown",
   "metadata": {},
   "source": [
    "# Examine suboptimal matches"
   ]
  },
  {
   "cell_type": "code",
   "execution_count": null,
   "metadata": {},
   "outputs": [],
   "source": [
    "tripid = random.choice(substandard)\n",
    "print(tripid)\n",
    "map_match.visualize_match(tripid, match_dict, links, config)"
   ]
  },
  {
   "cell_type": "markdown",
   "metadata": {},
   "source": [
    "# Examine successful matches"
   ]
  },
  {
   "cell_type": "code",
   "execution_count": null,
   "metadata": {},
   "outputs": [],
   "source": [
    "tripid = random.choice(successful)\n",
    "print(tripid)\n",
    "map_match.visualize_match(tripid, match_dict, links, config)"
   ]
  },
  {
   "cell_type": "markdown",
   "metadata": {},
   "source": [
    "# Examine matches around points"
   ]
  },
  {
   "cell_type": "code",
   "execution_count": null,
   "metadata": {},
   "outputs": [],
   "source": [
    "# input a point and it'll retrieve all of the trips that had points near there\n",
    "# useful for figuring out failed matches"
   ]
  },
  {
   "cell_type": "code",
   "execution_count": null,
   "metadata": {},
   "outputs": [],
   "source": []
  },
  {
   "cell_type": "markdown",
   "metadata": {},
   "source": [
    "# Examine other"
   ]
  },
  {
   "cell_type": "code",
   "execution_count": null,
   "metadata": {},
   "outputs": [],
   "source": [
    "links"
   ]
  },
  {
   "cell_type": "code",
   "execution_count": null,
   "metadata": {},
   "outputs": [],
   "source": [
    "links.loc[links['oneway']==True,'link_type'].value_counts()"
   ]
  },
  {
   "cell_type": "code",
   "execution_count": null,
   "metadata": {},
   "outputs": [],
   "source": [
    "tripid = 3767\n",
    "print(tripid)\n",
    "map_match.visualize_match(tripid, match_dict, links, config)"
   ]
  },
  {
   "cell_type": "code",
   "execution_count": null,
   "metadata": {},
   "outputs": [],
   "source": [
    "#TODO find all trips with some sort of backtracking\n",
    "backtracking = []\n",
    "for tripid, item in match_dict.items():\n",
    "    if item['edges']['linkid'].duplicated().any():\n",
    "        backtracking.append(tripid)"
   ]
  },
  {
   "cell_type": "code",
   "execution_count": null,
   "metadata": {},
   "outputs": [],
   "source": [
    "reload(map_match)\n",
    "tripid = random.choice(backtracking)\n",
    "print(tripid)\n",
    "map_match.visualize_match(tripid, match_dict, links, config)"
   ]
  },
  {
   "cell_type": "code",
   "execution_count": null,
   "metadata": {},
   "outputs": [],
   "source": [
    "tripid = 25874\n",
    "test = match_dict[tripid]['edges']\n",
    "test = test[test['linkid'].duplicated(keep=False)==False]\n",
    "test0 = {tripid:match_dict[tripid]}\n",
    "test0[tripid]['edges'] = test\n",
    "print(tripid)\n",
    "map_match.visualize_match(tripid, test0, links, config)"
   ]
  },
  {
   "cell_type": "code",
   "execution_count": null,
   "metadata": {},
   "outputs": [],
   "source": []
  },
  {
   "cell_type": "markdown",
   "metadata": {},
   "source": [
    "# QAQC Process\n",
    "- Keyed by the tripid + match settings so that we can map match trip according to the best settings possible\n",
    "- Assign a match rating (1-5)\n",
    "- Add notes (e.g., enable one way, missing links, etc.)"
   ]
  },
  {
   "cell_type": "code",
   "execution_count": null,
   "metadata": {},
   "outputs": [],
   "source": [
    "from importlib import reload\n",
    "reload(map_match)\n",
    "map_match.qaqc_mapmatches(failed,match_dict,matching_index,matching_settings_df,coords_dict,links,config)"
   ]
  },
  {
   "cell_type": "code",
   "execution_count": null,
   "metadata": {},
   "outputs": [],
   "source": [
    "from importlib import reload\n",
    "reload(map_match)\n",
    "map_match.qaqc_mapmatches(substandard,match_dict,matching_index,matching_settings_df,coords_dict,links,config)"
   ]
  },
  {
   "cell_type": "code",
   "execution_count": null,
   "metadata": {},
   "outputs": [],
   "source": [
    "from importlib import reload\n",
    "reload(map_match)\n",
    "map_match.qaqc_mapmatches(successful,match_dict,matching_index,matching_settings_df,coords_dict,links,config)"
   ]
  }
 ],
 "metadata": {
  "kernelspec": {
   "display_name": "Python 3",
   "language": "python",
   "name": "python3"
  },
  "language_info": {
   "codemirror_mode": {
    "name": "ipython",
    "version": 3
   },
   "file_extension": ".py",
   "mimetype": "text/x-python",
   "name": "python",
   "nbconvert_exporter": "python",
   "pygments_lexer": "ipython3",
   "version": "3.9.13"
  }
 },
 "nbformat": 4,
 "nbformat_minor": 2
}

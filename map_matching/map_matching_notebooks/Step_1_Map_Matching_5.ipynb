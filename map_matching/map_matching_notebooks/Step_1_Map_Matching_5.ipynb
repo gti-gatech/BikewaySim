{
 "cells": [
  {
   "cell_type": "markdown",
   "metadata": {},
   "source": [
    "# Prepare Data for Map Matching"
   ]
  },
  {
   "cell_type": "code",
   "execution_count": null,
   "metadata": {},
   "outputs": [],
   "source": [
    "import pandas as pd\n",
    "import numpy as np\n",
    "import geopandas as gpd\n",
    "from leuvenmapmatching.matcher.distance import DistanceMatcher\n",
    "from leuvenmapmatching.map.inmem import InMemMap\n",
    "#from leuvenmapmatching import visualization as mmviz\n",
    "import pickle\n",
    "import time\n",
    "import datetime\n",
    "from pathlib import Path\n",
    "\n",
    "from tqdm import tqdm\n",
    "from shapely.ops import Point, LineString\n",
    "import matplotlib.pyplot as plt\n",
    "\n",
    "from importlib import reload\n",
    "\n",
    "from bikewaysim.paths import config\n",
    "from bikewaysim import map_match\n",
    "from bikewaysim.network import prepare_network\n",
    "\n",
    "# import network\n",
    "with (config['matching_fp'] / 'map_con.pkl').open('rb') as fh:\n",
    "    exploded_links, exploded_nodes = pickle.load(fh)\n",
    "map_con = map_match.make_network(exploded_links,exploded_nodes)\n",
    "link_types_allowed = exploded_links['link_type'].unique().tolist()\n",
    "\n",
    "idx = 5\n",
    "with (config['matching_fp'] / f'coords_dict_{idx}.pkl').open('rb') as fh:\n",
    "    coords_dict = pickle.load(fh)\n",
    "\n",
    "with (config['matching_fp']/'match_settings.pkl').open('rb') as fh:\n",
    "    matching_settings = pickle.load(fh)\n",
    "\n",
    "match_dict = {tripid:map_match.leuven_match(trace,matching_settings,map_con,exploded_links) for tripid, trace in tqdm(coords_dict.items(),total=len(coords_dict))}\n",
    "\n",
    "# Now match_dict contains the processed results\n",
    "with (config['matching_fp'] / f'match_dict_{idx}.pkl').open('wb') as fh:\n",
    "    pickle.dump(match_dict,fh)"
   ]
  }
 ],
 "metadata": {
  "kernelspec": {
   "display_name": "Python 3",
   "language": "python",
   "name": "python3"
  },
  "language_info": {
   "codemirror_mode": {
    "name": "ipython",
    "version": 3
   },
   "file_extension": ".py",
   "mimetype": "text/x-python",
   "name": "python",
   "nbconvert_exporter": "python",
   "pygments_lexer": "ipython3",
   "version": "3.9.13"
  }
 },
 "nbformat": 4,
 "nbformat_minor": 2
}

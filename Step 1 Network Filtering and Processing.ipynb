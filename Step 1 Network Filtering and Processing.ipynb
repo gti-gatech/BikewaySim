{
 "cells": [
  {
   "cell_type": "markdown",
   "id": "301e49a0",
   "metadata": {},
   "source": [
    "# Step 1: Network Filtering and Processing\n",
    "---\n",
    "\n",
    "## Run this code block by block to convert a road network shapefile in ESRI Shapefile, GeoJSON, or GeoPackage format into a routable and conflated network graph to use in BikewaySim.\n",
    "\n",
    "### This the first of five steps to running BikewaySim\n",
    "\n",
    "1. __Process network spatial data into a routable network graph format__\n",
    "2. Reconcile networks into one through node and link overlap conflation\n",
    "3. Calculate link costs\n",
    "4. Create OD tables\n",
    "5. Run BikewaySim\n",
    "\n",
    "Note that three networks were used in this project. While code to obtain OSM GeoJSONs has been included with osm_processing notebook, the ABM and HERE networks need to be sourced from the Atlanta Regional Commission and HERE respectively. You can run most of this code with only OSM data, but you'll need to skip the conflation section."
   ]
  },
  {
   "cell_type": "markdown",
   "id": "e87f928d",
   "metadata": {},
   "source": [
    "## Import/install the following packages:"
   ]
  },
  {
   "cell_type": "code",
   "execution_count": 1,
   "id": "bc1d9dd7",
   "metadata": {},
   "outputs": [],
   "source": [
    "import os\n",
    "from pathlib import Path\n",
    "import time\n",
    "import geopandas as gpd\n",
    "import pickle"
   ]
  },
  {
   "cell_type": "markdown",
   "id": "8a5c469e",
   "metadata": {},
   "source": [
    "## Import Network Filter Module:"
   ]
  },
  {
   "cell_type": "code",
   "execution_count": 2,
   "id": "13a88da3",
   "metadata": {},
   "outputs": [],
   "source": [
    "from network_filter import *"
   ]
  },
  {
   "cell_type": "markdown",
   "id": "22ab851b",
   "metadata": {},
   "source": [
    "## Set Directory:\n",
    "Modify this directory to where you stored your network shapefiles."
   ]
  },
  {
   "cell_type": "code",
   "execution_count": 3,
   "id": "3298b3df",
   "metadata": {},
   "outputs": [],
   "source": [
    "user_directory = os.fspath(Path.home()) #get home directory and convert to path string\n",
    "file_directory = r\"/Documents/BikewaySimData\" #directory of bikewaysim outputs\n",
    "os.chdir(user_directory+file_directory)"
   ]
  },
  {
   "cell_type": "markdown",
   "id": "b8b32f2b",
   "metadata": {},
   "source": [
    "### Choose projected coordinate reference system (CRS)\n",
    "This needs to be set to check that all the data is in the same CRS. The one used for this study was EPSG 2240 (https://spatialreference.org/ref/epsg/nad83-georgia-west-ftus/)."
   ]
  },
  {
   "cell_type": "code",
   "execution_count": 4,
   "id": "9638ac66",
   "metadata": {},
   "outputs": [],
   "source": [
    "desired_crs = \"EPSG:2240\""
   ]
  },
  {
   "cell_type": "markdown",
   "id": "51bd52fb",
   "metadata": {},
   "source": [
    "## Choose study area:\n",
    "Specify what area you want to mask the network data by. Only network links that are partially or fully within the study area will be imported. Note: network links are NOT clipped (because this cuts off nodes)."
   ]
  },
  {
   "cell_type": "code",
   "execution_count": 5,
   "id": "0a65a19f",
   "metadata": {},
   "outputs": [
    {
     "name": "stdout",
     "output_type": "stream",
     "text": [
      "The area of the bikewaysim study area is 12.4 square miles.\n"
     ]
    },
    {
     "data": {
      "image/png": "[encoded data removed]",
      "text/plain": [
       "<Figure size 432x288 with 1 Axes>"
      ]
     },
     "metadata": {
      "needs_background": "light"
     },
     "output_type": "display_data"
    }
   ],
   "source": [
    "studyareafp = r'base_shapefiles/bikewaysim_study_area/bikewaysim_study_area.shp'\n",
    "studyarea_name = 'bikewaysim'\n",
    "#city_of_atlantafp = r'base_shapefiles/coa/Atlanta_City_Limits.shp'\n",
    "#atlanta_regional_commissionfp = r'base_shapefiles/arc/arc_bounds.shp'\n",
    "\n",
    "#add new study areas if desired\n",
    "studyarea = import_study_area(studyareafp, studyarea_name, desired_crs)"
   ]
  },
  {
   "cell_type": "markdown",
   "id": "52d7b76b",
   "metadata": {},
   "source": [
    "## Network Mapper\n",
    "This is how network node ID's will be identified and coded\n",
    "- the first number in the node ID represents its origin network\n",
    "- all numbers after that are the original network ID. we did this to make sure that there are no duplicate network ids and to make it easy to retreive the original network id."
   ]
  },
  {
   "cell_type": "code",
   "execution_count": 6,
   "id": "6cdcaead",
   "metadata": {},
   "outputs": [],
   "source": [
    "network_mapper = {\n",
    "    \"abm\": \"1\",\n",
    "    \"here\": \"2\",\n",
    "    \"osm\": \"3\",\n",
    "    \"original\": \"0\",\n",
    "    \"generated\": \"1\"\n",
    "}"
   ]
  },
  {
   "cell_type": "markdown",
   "id": "d2c388a2",
   "metadata": {},
   "source": [
    "## Network Data Filepaths:\n",
    "Use this to specify the filepath of your network's links and/or nodes. Only links are required because nodes can be created from the links."
   ]
  },
  {
   "cell_type": "code",
   "execution_count": 7,
   "id": "6e155b04",
   "metadata": {},
   "outputs": [],
   "source": [
    "abmfp = r'base_shapefiles/arc/ABM2020-TIP20-2020-150kShapefiles-outputs.gdb'\n",
    "abmnodesfp = r'base_shapefiles/arc/ABM2020-TIP20-2020-150kShapefiles-outputs.gdb'\n",
    "herefp = r'base_shapefiles/here/Streets.shp'\n",
    "osmfp = r'base_shapefiles/osm/osm_network_bikewaysim.gpkg'\n",
    "osmnodesfp = r'base_shapefiles/osm/osm_network_bikewaysim.gpkg'"
   ]
  },
  {
   "cell_type": "markdown",
   "id": "0fee174d",
   "metadata": {},
   "source": [
    "If your network file has layers, you can use this code snippet to print them out:\n",
    "```\n",
    "import fiona\n",
    "fiona.listlayers('base_shapefiles/arc/ABM2020-TIP20-2020-150kShapefiles-outputs.gdb')\n",
    "```"
   ]
  },
  {
   "cell_type": "markdown",
   "id": "2ae145c8",
   "metadata": {},
   "source": [
    "## Set Network Import Settings\n",
    "Creates a dictionary to specify inputs for the filter networks function. For new networks follow this format:\n",
    "\n",
    "```python\n",
    "network = {\n",
    "       \"studyarea\": studyarea, #geodataframe of the study area\n",
    "       \"studyarea_name\": studyarea_name, #name for the study area\n",
    "       \"networkfp\": networkfp, #filepath for the network, specified earlier\n",
    "       \"network_name\": 'abm', #name for the network being evaluated\n",
    "       \"network_mapper\": network_mapper, #leave this, edit in the block above\n",
    "       \"layer\": 0 #if network has layers, then specify which layer to look at; if no layers then leave as 0 \n",
    "       \"desired_crs\": \"desired_crs\", # leave this, edit in the CRS block\n",
    "       \"nodesfp\":None, # specify the nodes path if available, otherwise leave as None\n",
    "       \"node_id\": None, # specify the column in the nodes file that has the node id information, if not available leave as 0\n",
    "       \"A\": \"A\", #column with the starting node id; replace with None if there isn't a column\n",
    "       \"B\": \"B\", #column with the ending node id; replace with None if there isn't a column\n",
    "\n",
    "       }\n",
    "```"
   ]
  },
  {
   "cell_type": "code",
   "execution_count": 8,
   "id": "2e6e2344",
   "metadata": {},
   "outputs": [],
   "source": [
    "#abm inputs\n",
    "abm = {\n",
    "       \"studyarea\": studyarea,\n",
    "       \"studyarea_name\": studyarea_name,\n",
    "       \"networkfp\": abmfp,\n",
    "       \"network_name\": 'abm',\n",
    "       \"network_mapper\": network_mapper,\n",
    "       \"layer\": \"DAILY_Link\",\n",
    "       \"desired_crs\": \"epsg:2240\",\n",
    "       \"nodesfp\": abmnodesfp,\n",
    "       \"nodes_layer\":\"DAILY_Node\",\n",
    "       \"node_id\": 'N',\n",
    "       \"A\": \"A\",\n",
    "       \"B\": \"B\"\n",
    "       }\n",
    "\n",
    "#here inputs\n",
    "here = {\n",
    "       \"studyarea\": studyarea,\n",
    "       \"studyarea_name\": studyarea_name,\n",
    "       \"networkfp\": herefp,\n",
    "       \"network_name\": 'here',\n",
    "       \"network_mapper\": network_mapper,\n",
    "       \"layer\":None,\n",
    "       \"desired_crs\":\"epsg:2240\",\n",
    "       \"nodesfp\":None,\n",
    "       \"nodes_layer\":None,\n",
    "       \"node_id\": None,\n",
    "       \"A\": \"REF_IN_ID\",\n",
    "       \"B\": \"NREF_IN_ID\"\n",
    "       }\n",
    "\n",
    "osm = {\n",
    "      \"studyarea\": studyarea,\n",
    "       \"studyarea_name\": studyarea_name,\n",
    "       \"networkfp\": osmfp,\n",
    "       \"network_name\": 'osm',\n",
    "       \"network_mapper\": network_mapper,\n",
    "       \"layer\":\"links\",\n",
    "       \"desired_crs\":\"epsg:2240\",\n",
    "       \"nodesfp\":osmnodesfp,\n",
    "       \"nodes_layer\":\"nodes\",\n",
    "       \"node_id\": \"osmid\",\n",
    "       \"A\": \"A\",\n",
    "       \"B\": \"B\"\n",
    "       }"
   ]
  },
  {
   "cell_type": "markdown",
   "id": "4b17093a",
   "metadata": {},
   "source": [
    "## Run Network Filter Module to Create Initial Subnetworks\n",
    "From the network_filter.py file run the filter networks function. This will first import the spatial data and then filter the data into a base, road, bike, or serivce link. \n",
    "**Note: If this is the a new network that is not OSM, HERE, or ABM then specify a new filter method by going into the network_filter.py file.** Otherwise, none of the links will be filtered into road/bike/service links. **Also note: all spatial files are being projected to EPSG 2240 right now.** Need to modify later."
   ]
  },
  {
   "cell_type": "markdown",
   "id": "0203634a",
   "metadata": {},
   "source": [
    "### Filter ABM"
   ]
  },
  {
   "cell_type": "code",
   "execution_count": 9,
   "id": "1d052a79",
   "metadata": {},
   "outputs": [
    {
     "name": "stderr",
     "output_type": "stream",
     "text": [
      "C:\\Users\\tpassmore6\\Documents\\GitHub\\BikewaySimDev\\network_filter.py:152: FutureWarning: Currently, index_parts defaults to True, but in the future, it will default to False to be consistent with Pandas. Use `index_parts=True` to keep the current behavior and True/False to silence the warning.\n",
      "  links = gpd.read_file(networkfp, mask = studyarea, layer = layer).explode().droplevel(level=1).to_crs(desired_crs)\n"
     ]
    },
    {
     "name": "stdout",
     "output_type": "stream",
     "text": [
      "Cleaning measures applied for abm...\n",
      "No further filter needed for abm\n",
      "No bike links present for abm\n",
      "No service links present for abm\n",
      "abm imported... took 0.27 minutes\n"
     ]
    }
   ],
   "source": [
    "filter_networks(**abm)"
   ]
  },
  {
   "cell_type": "markdown",
   "id": "a3a70143",
   "metadata": {},
   "source": [
    "### Filter HERE"
   ]
  },
  {
   "cell_type": "code",
   "execution_count": 10,
   "id": "ee6999b8",
   "metadata": {},
   "outputs": [
    {
     "name": "stderr",
     "output_type": "stream",
     "text": [
      "C:\\Users\\tpassmore6\\Documents\\GitHub\\BikewaySimDev\\network_filter.py:149: FutureWarning: Currently, index_parts defaults to True, but in the future, it will default to False to be consistent with Pandas. Use `index_parts=True` to keep the current behavior and True/False to silence the warning.\n",
      "  links = gpd.read_file(networkfp, mask = studyarea).explode().droplevel(level=1).to_crs(desired_crs)\n",
      "C:\\Users\\tpassmore6\\Anaconda3\\envs\\geo-env\\lib\\site-packages\\pandas\\core\\dtypes\\cast.py:118: ShapelyDeprecationWarning: The array interface is deprecated and will no longer work in Shapely 2.0. Convert the '.coords' to a numpy array instead.\n",
      "  arr = construct_1d_object_array_from_listlike(values)\n"
     ]
    },
    {
     "name": "stdout",
     "output_type": "stream",
     "text": [
      "here road filter applied...\n",
      "here bike filter applied...\n",
      "here service filter applied...\n",
      "here imported... took 0.82 minutes\n"
     ]
    }
   ],
   "source": [
    "filter_networks(**here)"
   ]
  },
  {
   "cell_type": "markdown",
   "id": "d3f8b178",
   "metadata": {},
   "source": [
    "### Filter OSM"
   ]
  },
  {
   "cell_type": "code",
   "execution_count": 11,
   "id": "29ccefd2",
   "metadata": {},
   "outputs": [
    {
     "name": "stderr",
     "output_type": "stream",
     "text": [
      "C:\\Users\\tpassmore6\\Documents\\GitHub\\BikewaySimDev\\network_filter.py:152: FutureWarning: Currently, index_parts defaults to True, but in the future, it will default to False to be consistent with Pandas. Use `index_parts=True` to keep the current behavior and True/False to silence the warning.\n",
      "  links = gpd.read_file(networkfp, mask = studyarea, layer = layer).explode().droplevel(level=1).to_crs(desired_crs)\n"
     ]
    },
    {
     "name": "stdout",
     "output_type": "stream",
     "text": [
      "Cleaning measures applied for osm...\n",
      "osm road filter applied...\n",
      "osm bike filter applied...\n",
      "osm service filter applied...\n",
      "osm imported... took 0.18 minutes\n"
     ]
    }
   ],
   "source": [
    "filter_networks(**osm)"
   ]
  },
  {
   "cell_type": "markdown",
   "id": "4ceba96b",
   "metadata": {},
   "source": [
    "## Summurize filtered networks\n",
    "#### Prints out:\n",
    "- Number of nodes\n",
    "- Number of links\n",
    "- Total length of all links\n",
    "- Average link length\n",
    "\n",
    "#### Exports:\n",
    "- CSV file with all the network statistics."
   ]
  },
  {
   "cell_type": "code",
   "execution_count": 5,
   "id": "68d3fab7",
   "metadata": {},
   "outputs": [
    {
     "ename": "DriverError",
     "evalue": "processed_shapefiles/abm/abm_bikewaysim_base_network.gpkg: No such file or directory",
     "output_type": "error",
     "traceback": [
      "\u001b[1;31m---------------------------------------------------------------------------\u001b[0m",
      "\u001b[1;31mCPLE_OpenFailedError\u001b[0m                      Traceback (most recent call last)",
      "\u001b[1;32mfiona/_shim.pyx\u001b[0m in \u001b[0;36mfiona._shim.gdal_open_vector\u001b[1;34m()\u001b[0m\n",
      "\u001b[1;32mfiona/_err.pyx\u001b[0m in \u001b[0;36mfiona._err.exc_wrap_pointer\u001b[1;34m()\u001b[0m\n",
      "\u001b[1;31mCPLE_OpenFailedError\u001b[0m: processed_shapefiles/abm/abm_bikewaysim_base_network.gpkg: No such file or directory",
      "\nDuring handling of the above exception, another exception occurred:\n",
      "\u001b[1;31mDriverError\u001b[0m                               Traceback (most recent call last)",
      "\u001b[1;32mC:\\Users\\TPASSM~1\\AppData\\Local\\Temp/ipykernel_82792/1396701889.py\u001b[0m in \u001b[0;36m<module>\u001b[1;34m\u001b[0m\n\u001b[0;32m      6\u001b[0m \u001b[1;33m\u001b[0m\u001b[0m\n\u001b[0;32m      7\u001b[0m \u001b[1;31m#summurize networks and export summary as \"network_summary.csv in the working directory\u001b[0m\u001b[1;33m\u001b[0m\u001b[1;33m\u001b[0m\u001b[0m\n\u001b[1;32m----> 8\u001b[1;33m \u001b[0msum_all_networks\u001b[0m\u001b[1;33m(\u001b[0m\u001b[0mnetworks\u001b[0m\u001b[1;33m,\u001b[0m \u001b[0mstudyarea_name\u001b[0m\u001b[1;33m)\u001b[0m\u001b[1;33m\u001b[0m\u001b[1;33m\u001b[0m\u001b[0m\n\u001b[0m",
      "\u001b[1;32m~\\Documents\\GitHub\\BikewaySimDev\\network_summary_stats.py\u001b[0m in \u001b[0;36msum_all_networks\u001b[1;34m(networks, studyarea_name)\u001b[0m\n\u001b[0;32m     17\u001b[0m \u001b[1;33m\u001b[0m\u001b[0m\n\u001b[0;32m     18\u001b[0m     \u001b[1;32mfor\u001b[0m \u001b[0mi\u001b[0m \u001b[1;32min\u001b[0m \u001b[0mnetworks\u001b[0m\u001b[1;33m:\u001b[0m\u001b[1;33m\u001b[0m\u001b[1;33m\u001b[0m\u001b[0m\n\u001b[1;32m---> 19\u001b[1;33m         \u001b[0msummary_table\u001b[0m \u001b[1;33m=\u001b[0m \u001b[0mrun_sum_function\u001b[0m\u001b[1;33m(\u001b[0m\u001b[0msummary_table\u001b[0m\u001b[1;33m,\u001b[0m \u001b[0mstudyarea_name\u001b[0m\u001b[1;33m,\u001b[0m \u001b[0mi\u001b[0m\u001b[1;33m)\u001b[0m\u001b[1;33m\u001b[0m\u001b[1;33m\u001b[0m\u001b[0m\n\u001b[0m\u001b[0;32m     20\u001b[0m \u001b[1;33m\u001b[0m\u001b[0m\n\u001b[0;32m     21\u001b[0m     \u001b[1;31m#export summary table\u001b[0m\u001b[1;33m\u001b[0m\u001b[1;33m\u001b[0m\u001b[0m\n",
      "\u001b[1;32m~\\Documents\\GitHub\\BikewaySimDev\\network_summary_stats.py\u001b[0m in \u001b[0;36mrun_sum_function\u001b[1;34m(summary_table, studyarea_name, network_name)\u001b[0m\n\u001b[0;32m     27\u001b[0m         \u001b[1;31m#certain link type shapefile exists, then add node ids to it and create node shapefile\u001b[0m\u001b[1;33m\u001b[0m\u001b[1;33m\u001b[0m\u001b[0m\n\u001b[0;32m     28\u001b[0m     \u001b[1;32mif\u001b[0m \u001b[0mos\u001b[0m\u001b[1;33m.\u001b[0m\u001b[0mpath\u001b[0m\u001b[1;33m.\u001b[0m\u001b[0mexists\u001b[0m\u001b[1;33m(\u001b[0m\u001b[1;34mrf'processed_shapefiles/{network_name}/{network_name}_{studyarea_name}_network.gpkg'\u001b[0m\u001b[1;33m)\u001b[0m\u001b[1;33m:\u001b[0m\u001b[1;33m\u001b[0m\u001b[1;33m\u001b[0m\u001b[0m\n\u001b[1;32m---> 29\u001b[1;33m         \u001b[0mlinks\u001b[0m\u001b[1;33m,\u001b[0m \u001b[0mnodes\u001b[0m \u001b[1;33m=\u001b[0m \u001b[0mimport_links_and_nodes\u001b[0m\u001b[1;33m(\u001b[0m\u001b[0mnetwork_name\u001b[0m\u001b[1;33m,\u001b[0m \u001b[0mstudyarea_name\u001b[0m\u001b[1;33m,\u001b[0m \u001b[1;34m\"base\"\u001b[0m\u001b[1;33m)\u001b[0m\u001b[1;33m\u001b[0m\u001b[1;33m\u001b[0m\u001b[0m\n\u001b[0m\u001b[0;32m     30\u001b[0m         \u001b[0msummary_table\u001b[0m \u001b[1;33m=\u001b[0m \u001b[0msummurize_network\u001b[0m\u001b[1;33m(\u001b[0m\u001b[0msummary_table\u001b[0m\u001b[1;33m,\u001b[0m \u001b[0mlinks\u001b[0m\u001b[1;33m,\u001b[0m \u001b[0mnodes\u001b[0m\u001b[1;33m,\u001b[0m \u001b[0mnetwork_name\u001b[0m\u001b[1;33m,\u001b[0m \u001b[0mstudyarea_name\u001b[0m\u001b[1;33m,\u001b[0m \u001b[1;34m\"base\"\u001b[0m\u001b[1;33m)\u001b[0m\u001b[1;33m\u001b[0m\u001b[1;33m\u001b[0m\u001b[0m\n\u001b[0;32m     31\u001b[0m \u001b[1;33m\u001b[0m\u001b[0m\n",
      "\u001b[1;32m~\\Documents\\GitHub\\BikewaySimDev\\network_summary_stats.py\u001b[0m in \u001b[0;36mimport_links_and_nodes\u001b[1;34m(network_name, studyarea_name, link_type)\u001b[0m\n\u001b[0;32m     48\u001b[0m \u001b[1;33m\u001b[0m\u001b[0m\n\u001b[0;32m     49\u001b[0m \u001b[1;32mdef\u001b[0m \u001b[0mimport_links_and_nodes\u001b[0m\u001b[1;33m(\u001b[0m\u001b[0mnetwork_name\u001b[0m\u001b[1;33m,\u001b[0m \u001b[0mstudyarea_name\u001b[0m\u001b[1;33m,\u001b[0m \u001b[0mlink_type\u001b[0m\u001b[1;33m)\u001b[0m\u001b[1;33m:\u001b[0m\u001b[1;33m\u001b[0m\u001b[1;33m\u001b[0m\u001b[0m\n\u001b[1;32m---> 50\u001b[1;33m     \u001b[0mlinks\u001b[0m \u001b[1;33m=\u001b[0m \u001b[0mgpd\u001b[0m\u001b[1;33m.\u001b[0m\u001b[0mread_file\u001b[0m\u001b[1;33m(\u001b[0m\u001b[1;34mrf'processed_shapefiles/{network_name}/{network_name}_{studyarea_name}_{link_type}_network.gpkg'\u001b[0m\u001b[1;33m,\u001b[0m\u001b[0mlayer\u001b[0m\u001b[1;33m=\u001b[0m\u001b[1;34mf'{link_type}_links'\u001b[0m\u001b[1;33m)\u001b[0m\u001b[1;33m.\u001b[0m\u001b[0mset_crs\u001b[0m\u001b[1;33m(\u001b[0m\u001b[0mepsg\u001b[0m\u001b[1;33m=\u001b[0m\u001b[1;36m2240\u001b[0m\u001b[1;33m,\u001b[0m \u001b[0mallow_override\u001b[0m \u001b[1;33m=\u001b[0m \u001b[1;32mTrue\u001b[0m\u001b[1;33m)\u001b[0m\u001b[1;33m\u001b[0m\u001b[1;33m\u001b[0m\u001b[0m\n\u001b[0m\u001b[0;32m     51\u001b[0m     \u001b[0mnodes\u001b[0m \u001b[1;33m=\u001b[0m \u001b[0mgpd\u001b[0m\u001b[1;33m.\u001b[0m\u001b[0mread_file\u001b[0m\u001b[1;33m(\u001b[0m\u001b[1;34mrf'processed_shapefiles/{network_name}/{network_name}_{studyarea_name}_{link_type}_network.gpkg'\u001b[0m\u001b[1;33m,\u001b[0m\u001b[0mlayer\u001b[0m\u001b[1;33m=\u001b[0m\u001b[1;34mf'{link_type}_nodes'\u001b[0m\u001b[1;33m)\u001b[0m\u001b[1;33m.\u001b[0m\u001b[0mset_crs\u001b[0m\u001b[1;33m(\u001b[0m\u001b[0mepsg\u001b[0m\u001b[1;33m=\u001b[0m\u001b[1;36m2240\u001b[0m\u001b[1;33m,\u001b[0m \u001b[0mallow_override\u001b[0m \u001b[1;33m=\u001b[0m \u001b[1;32mTrue\u001b[0m\u001b[1;33m)\u001b[0m\u001b[1;33m\u001b[0m\u001b[1;33m\u001b[0m\u001b[0m\n\u001b[0;32m     52\u001b[0m     \u001b[1;32mreturn\u001b[0m \u001b[0mlinks\u001b[0m\u001b[1;33m,\u001b[0m \u001b[0mnodes\u001b[0m\u001b[1;33m\u001b[0m\u001b[1;33m\u001b[0m\u001b[0m\n",
      "\u001b[1;32m~\\Anaconda3\\envs\\geo-env\\lib\\site-packages\\geopandas\\io\\file.py\u001b[0m in \u001b[0;36m_read_file\u001b[1;34m(filename, bbox, mask, rows, **kwargs)\u001b[0m\n\u001b[0;32m    199\u001b[0m \u001b[1;33m\u001b[0m\u001b[0m\n\u001b[0;32m    200\u001b[0m     \u001b[1;32mwith\u001b[0m \u001b[0mfiona_env\u001b[0m\u001b[1;33m(\u001b[0m\u001b[1;33m)\u001b[0m\u001b[1;33m:\u001b[0m\u001b[1;33m\u001b[0m\u001b[1;33m\u001b[0m\u001b[0m\n\u001b[1;32m--> 201\u001b[1;33m         \u001b[1;32mwith\u001b[0m \u001b[0mreader\u001b[0m\u001b[1;33m(\u001b[0m\u001b[0mpath_or_bytes\u001b[0m\u001b[1;33m,\u001b[0m \u001b[1;33m**\u001b[0m\u001b[0mkwargs\u001b[0m\u001b[1;33m)\u001b[0m \u001b[1;32mas\u001b[0m \u001b[0mfeatures\u001b[0m\u001b[1;33m:\u001b[0m\u001b[1;33m\u001b[0m\u001b[1;33m\u001b[0m\u001b[0m\n\u001b[0m\u001b[0;32m    202\u001b[0m \u001b[1;33m\u001b[0m\u001b[0m\n\u001b[0;32m    203\u001b[0m             \u001b[1;31m# In a future Fiona release the crs attribute of features will\u001b[0m\u001b[1;33m\u001b[0m\u001b[1;33m\u001b[0m\u001b[0m\n",
      "\u001b[1;32m~\\Anaconda3\\envs\\geo-env\\lib\\site-packages\\fiona\\env.py\u001b[0m in \u001b[0;36mwrapper\u001b[1;34m(*args, **kwargs)\u001b[0m\n\u001b[0;32m    406\u001b[0m     \u001b[1;32mdef\u001b[0m \u001b[0mwrapper\u001b[0m\u001b[1;33m(\u001b[0m\u001b[1;33m*\u001b[0m\u001b[0margs\u001b[0m\u001b[1;33m,\u001b[0m \u001b[1;33m**\u001b[0m\u001b[0mkwargs\u001b[0m\u001b[1;33m)\u001b[0m\u001b[1;33m:\u001b[0m\u001b[1;33m\u001b[0m\u001b[1;33m\u001b[0m\u001b[0m\n\u001b[0;32m    407\u001b[0m         \u001b[1;32mif\u001b[0m \u001b[0mlocal\u001b[0m\u001b[1;33m.\u001b[0m\u001b[0m_env\u001b[0m\u001b[1;33m:\u001b[0m\u001b[1;33m\u001b[0m\u001b[1;33m\u001b[0m\u001b[0m\n\u001b[1;32m--> 408\u001b[1;33m             \u001b[1;32mreturn\u001b[0m \u001b[0mf\u001b[0m\u001b[1;33m(\u001b[0m\u001b[1;33m*\u001b[0m\u001b[0margs\u001b[0m\u001b[1;33m,\u001b[0m \u001b[1;33m**\u001b[0m\u001b[0mkwargs\u001b[0m\u001b[1;33m)\u001b[0m\u001b[1;33m\u001b[0m\u001b[1;33m\u001b[0m\u001b[0m\n\u001b[0m\u001b[0;32m    409\u001b[0m         \u001b[1;32melse\u001b[0m\u001b[1;33m:\u001b[0m\u001b[1;33m\u001b[0m\u001b[1;33m\u001b[0m\u001b[0m\n\u001b[0;32m    410\u001b[0m             \u001b[1;32mif\u001b[0m \u001b[0misinstance\u001b[0m\u001b[1;33m(\u001b[0m\u001b[0margs\u001b[0m\u001b[1;33m[\u001b[0m\u001b[1;36m0\u001b[0m\u001b[1;33m]\u001b[0m\u001b[1;33m,\u001b[0m \u001b[0mstr\u001b[0m\u001b[1;33m)\u001b[0m\u001b[1;33m:\u001b[0m\u001b[1;33m\u001b[0m\u001b[1;33m\u001b[0m\u001b[0m\n",
      "\u001b[1;32m~\\Anaconda3\\envs\\geo-env\\lib\\site-packages\\fiona\\__init__.py\u001b[0m in \u001b[0;36mopen\u001b[1;34m(fp, mode, driver, schema, crs, encoding, layer, vfs, enabled_drivers, crs_wkt, **kwargs)\u001b[0m\n\u001b[0;32m    254\u001b[0m \u001b[1;33m\u001b[0m\u001b[0m\n\u001b[0;32m    255\u001b[0m         \u001b[1;32mif\u001b[0m \u001b[0mmode\u001b[0m \u001b[1;32min\u001b[0m \u001b[1;33m(\u001b[0m\u001b[1;34m'a'\u001b[0m\u001b[1;33m,\u001b[0m \u001b[1;34m'r'\u001b[0m\u001b[1;33m)\u001b[0m\u001b[1;33m:\u001b[0m\u001b[1;33m\u001b[0m\u001b[1;33m\u001b[0m\u001b[0m\n\u001b[1;32m--> 256\u001b[1;33m             c = Collection(path, mode, driver=driver, encoding=encoding,\n\u001b[0m\u001b[0;32m    257\u001b[0m                            layer=layer, enabled_drivers=enabled_drivers, **kwargs)\n\u001b[0;32m    258\u001b[0m         \u001b[1;32melif\u001b[0m \u001b[0mmode\u001b[0m \u001b[1;33m==\u001b[0m \u001b[1;34m'w'\u001b[0m\u001b[1;33m:\u001b[0m\u001b[1;33m\u001b[0m\u001b[1;33m\u001b[0m\u001b[0m\n",
      "\u001b[1;32m~\\Anaconda3\\envs\\geo-env\\lib\\site-packages\\fiona\\collection.py\u001b[0m in \u001b[0;36m__init__\u001b[1;34m(self, path, mode, driver, schema, crs, encoding, layer, vsi, archive, enabled_drivers, crs_wkt, ignore_fields, ignore_geometry, **kwargs)\u001b[0m\n\u001b[0;32m    160\u001b[0m             \u001b[1;32mif\u001b[0m \u001b[0mself\u001b[0m\u001b[1;33m.\u001b[0m\u001b[0mmode\u001b[0m \u001b[1;33m==\u001b[0m \u001b[1;34m'r'\u001b[0m\u001b[1;33m:\u001b[0m\u001b[1;33m\u001b[0m\u001b[1;33m\u001b[0m\u001b[0m\n\u001b[0;32m    161\u001b[0m                 \u001b[0mself\u001b[0m\u001b[1;33m.\u001b[0m\u001b[0msession\u001b[0m \u001b[1;33m=\u001b[0m \u001b[0mSession\u001b[0m\u001b[1;33m(\u001b[0m\u001b[1;33m)\u001b[0m\u001b[1;33m\u001b[0m\u001b[1;33m\u001b[0m\u001b[0m\n\u001b[1;32m--> 162\u001b[1;33m                 \u001b[0mself\u001b[0m\u001b[1;33m.\u001b[0m\u001b[0msession\u001b[0m\u001b[1;33m.\u001b[0m\u001b[0mstart\u001b[0m\u001b[1;33m(\u001b[0m\u001b[0mself\u001b[0m\u001b[1;33m,\u001b[0m \u001b[1;33m**\u001b[0m\u001b[0mkwargs\u001b[0m\u001b[1;33m)\u001b[0m\u001b[1;33m\u001b[0m\u001b[1;33m\u001b[0m\u001b[0m\n\u001b[0m\u001b[0;32m    163\u001b[0m             \u001b[1;32melif\u001b[0m \u001b[0mself\u001b[0m\u001b[1;33m.\u001b[0m\u001b[0mmode\u001b[0m \u001b[1;32min\u001b[0m \u001b[1;33m(\u001b[0m\u001b[1;34m'a'\u001b[0m\u001b[1;33m,\u001b[0m \u001b[1;34m'w'\u001b[0m\u001b[1;33m)\u001b[0m\u001b[1;33m:\u001b[0m\u001b[1;33m\u001b[0m\u001b[1;33m\u001b[0m\u001b[0m\n\u001b[0;32m    164\u001b[0m                 \u001b[0mself\u001b[0m\u001b[1;33m.\u001b[0m\u001b[0msession\u001b[0m \u001b[1;33m=\u001b[0m \u001b[0mWritingSession\u001b[0m\u001b[1;33m(\u001b[0m\u001b[1;33m)\u001b[0m\u001b[1;33m\u001b[0m\u001b[1;33m\u001b[0m\u001b[0m\n",
      "\u001b[1;32mfiona/ogrext.pyx\u001b[0m in \u001b[0;36mfiona.ogrext.Session.start\u001b[1;34m()\u001b[0m\n",
      "\u001b[1;32mfiona/_shim.pyx\u001b[0m in \u001b[0;36mfiona._shim.gdal_open_vector\u001b[1;34m()\u001b[0m\n",
      "\u001b[1;31mDriverError\u001b[0m: processed_shapefiles/abm/abm_bikewaysim_base_network.gpkg: No such file or directory"
     ]
    }
   ],
   "source": [
    "from network_summary_stats import * \n",
    "\n",
    "#network names to look for, will search your directory for network name\n",
    "networks = [\"abm\",\"here\",\"osm\"]\n",
    "studyarea_name = \"bikewaysim\"\n",
    "\n",
    "#summurize networks and export summary as \"network_summary.csv in the working directory\n",
    "sum_all_networks(networks, studyarea_name)"
   ]
  },
  {
   "cell_type": "code",
   "execution_count": null,
   "id": "eba47681",
   "metadata": {},
   "outputs": [],
   "source": []
  }
 ],
 "metadata": {
  "kernelspec": {
   "display_name": "Python 3 (ipykernel)",
   "language": "python",
   "name": "python3"
  },
  "language_info": {
   "codemirror_mode": {
    "name": "ipython",
    "version": 3
   },
   "file_extension": ".py",
   "mimetype": "text/x-python",
   "name": "python",
   "nbconvert_exporter": "python",
   "pygments_lexer": "ipython3",
   "version": "3.9.7"
  },
  "varInspector": {
   "cols": {
    "lenName": 16,
    "lenType": 16,
    "lenVar": 40
   },
   "kernels_config": {
    "python": {
     "delete_cmd_postfix": "",
     "delete_cmd_prefix": "del ",
     "library": "var_list.py",
     "varRefreshCmd": "print(var_dic_list())"
    },
    "r": {
     "delete_cmd_postfix": ") ",
     "delete_cmd_prefix": "rm(",
     "library": "var_list.r",
     "varRefreshCmd": "cat(var_dic_list()) "
    }
   },
   "types_to_exclude": [
    "module",
    "function",
    "builtin_function_or_method",
    "instance",
    "_Feature"
   ],
   "window_display": false
  }
 },
 "nbformat": 4,
 "nbformat_minor": 5
}

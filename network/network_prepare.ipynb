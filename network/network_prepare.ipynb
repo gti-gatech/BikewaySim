{
 "cells": [
  {
   "cell_type": "markdown",
   "metadata": {},
   "source": [
    "# Network Preperation\n",
    "This notebook proceses the network to get it ready for routing/matching/etc."
   ]
  },
  {
   "cell_type": "code",
   "execution_count": 48,
   "metadata": {},
   "outputs": [],
   "source": [
    "from pathlib import Path\n",
    "import time\n",
    "import geopandas as gpd\n",
    "import pandas as pd\n",
    "import numpy as np\n",
    "import pickle\n",
    "from shapely.ops import MultiLineString\n",
    "\n",
    "import src.modeling_turns as modeling_turns"
   ]
  },
  {
   "cell_type": "code",
   "execution_count": 49,
   "metadata": {},
   "outputs": [],
   "source": [
    "network_filepath = Path.home() / 'Documents/BikewaySimData/Projects/gdot/networks'\n",
    "\n",
    "#bikewaysim_studyarea = gpd.read_file(Path.home()/'Documents/BikewaySimData/Data/Study Areas/bikewaysim_studyarea.geojson')\n",
    "\n",
    "#import network links\n",
    "#nodes = gpd.read_file(fp/'reconciled_network.gpkg',layer='nodes')\n",
    "links = gpd.read_file(network_filepath/'reconciled_network.gpkg',layer='links_w_signals_elevation')\n",
    "#links = gpd.read_file(network_filepath/'filtered.gpkg',layer='osm_links')"
   ]
  },
  {
   "cell_type": "markdown",
   "metadata": {},
   "source": [
    "### Explore links with the same start/end node id and decide what to do with them\n",
    "We could try to retain these, but at the moment it may make more sense to choose the shorter one and drop the other."
   ]
  },
  {
   "cell_type": "code",
   "execution_count": 50,
   "metadata": {},
   "outputs": [],
   "source": [
    "# import numpy as np\n",
    "# test = np.array(links[['osm_A','osm_B']])#.sort(axis=0)\n",
    "# duplicated = pd.DataFrame(np.sort(test)).duplicated(keep=False)\n",
    "# duplicated_links = links[duplicated]\n",
    "# duplicated_links.to_file(network_filepath/'duplicated_links.gpkg')"
   ]
  },
  {
   "cell_type": "markdown",
   "metadata": {},
   "source": [
    "Binary Variables get turned to 1/0s, so gotta change back to true/false"
   ]
  },
  {
   "cell_type": "code",
   "execution_count": 51,
   "metadata": {},
   "outputs": [],
   "source": [
    "links['oneway'] = links['oneway'] == \"1\"\n",
    "links['length_ft'] = links.length"
   ]
  },
  {
   "cell_type": "markdown",
   "metadata": {},
   "source": [
    "# Create new link variables"
   ]
  },
  {
   "cell_type": "code",
   "execution_count": 52,
   "metadata": {},
   "outputs": [],
   "source": [
    "#vehicle seperation\n",
    "links.loc[(links['pbl']==1) | (links['mu']==1),'vehicle_separation'] = 3\n",
    "links.loc[links['bl'] == 1,'vehicle_separation'] = 2\n",
    "links.loc[links['vehicle_separation'].isna(),'vehicle_separation'] = 1"
   ]
  },
  {
   "cell_type": "markdown",
   "metadata": {},
   "source": [
    "### Create pseudo graph for modeling turns"
   ]
  },
  {
   "cell_type": "code",
   "execution_count": 53,
   "metadata": {},
   "outputs": [],
   "source": [
    "links.reset_index(inplace=True)\n",
    "links.rename(columns={'index':'linkid'},inplace=True)"
   ]
  },
  {
   "cell_type": "code",
   "execution_count": null,
   "metadata": {},
   "outputs": [],
   "source": [
    "edges_df, pseudo_df, pseudo_G = modeling_turns.create_pseudo_dual_graph_linkid(links,'A','B','linkid','oneway')"
   ]
  },
  {
   "cell_type": "code",
   "execution_count": 54,
   "metadata": {},
   "outputs": [],
   "source": [
    "edges_df, pseudo_df, pseudo_G = modeling_turns.create_pseudo_dual_graph(links,'A','B','linkid','oneway')"
   ]
  },
  {
   "cell_type": "markdown",
   "metadata": {},
   "source": [
    "## Pick out desired attributes"
   ]
  },
  {
   "cell_type": "code",
   "execution_count": 55,
   "metadata": {},
   "outputs": [],
   "source": [
    "attrs = ['linkid', 'osmid', 'link_type', 'name', 'highway',\n",
    "       'bridge', 'tunnel', 'bl', 'pbl', 'mu','speedlimit_range_mph',\n",
    "       'lanes_per_direction', 'up_grade', 'rise_m', 'down_grade', 'down_m', 'length_ft',\n",
    "       'vehicle_separation']\n",
    "edges_df = edges_df.merge(links[attrs],on='linkid',how='left')"
   ]
  },
  {
   "cell_type": "markdown",
   "metadata": {},
   "source": [
    "## Deal with grade\n",
    "Need to flip sign of grade for reverse links"
   ]
  },
  {
   "cell_type": "code",
   "execution_count": 56,
   "metadata": {},
   "outputs": [],
   "source": [
    "edges_df['rise_m'] = np.where(edges_df['reverse_link'], edges_df['down_m'].abs(), edges_df['up_grade'])\n",
    "edges_df['up_grade'] = np.where(edges_df['reverse_link'], edges_df['down_grade'].abs(), edges_df['up_grade'])\n",
    "edges_df.drop(columns=['down_m','down_grade'],inplace=True)"
   ]
  },
  {
   "cell_type": "markdown",
   "metadata": {},
   "source": [
    "## Turns and Signals"
   ]
  },
  {
   "cell_type": "code",
   "execution_count": 57,
   "metadata": {},
   "outputs": [],
   "source": [
    "#add additional attributes needed for processing\n",
    "source_links = links[['linkid','osmid','link_type','name','highway']]\n",
    "target_links = links[['linkid','osmid','link_type','name','highway']]\n",
    "source_links.columns = 'source_' + source_links.columns\n",
    "target_links.columns = 'target_' + target_links.columns\n",
    "pseudo_df = pseudo_df.merge(source_links,on='source_linkid',how='left')\n",
    "pseudo_df = pseudo_df.merge(target_links,on='target_linkid',how='left')"
   ]
  },
  {
   "cell_type": "markdown",
   "metadata": {},
   "source": [
    "## Turn Restrictions\n",
    "Two types in OSM (represented as OSM relations):\n",
    "- No (blank) turns\n",
    "- Only this turn allowed"
   ]
  },
  {
   "cell_type": "code",
   "execution_count": 58,
   "metadata": {},
   "outputs": [
    {
     "ename": "NameError",
     "evalue": "name 'fp' is not defined",
     "output_type": "error",
     "traceback": [
      "\u001b[1;31m---------------------------------------------------------------------------\u001b[0m",
      "\u001b[1;31mNameError\u001b[0m                                 Traceback (most recent call last)",
      "Cell \u001b[1;32mIn [58], line 1\u001b[0m\n\u001b[1;32m----> 1\u001b[0m turn_restrictions \u001b[38;5;241m=\u001b[39m pd\u001b[38;5;241m.\u001b[39mread_csv(\u001b[43mfp\u001b[49m\u001b[38;5;241m.\u001b[39mparent\u001b[38;5;241m/\u001b[39m\u001b[38;5;124m'\u001b[39m\u001b[38;5;124mosm_turn_restrictions.csv\u001b[39m\u001b[38;5;124m'\u001b[39m)\n\u001b[0;32m      2\u001b[0m pseudo_df \u001b[38;5;241m=\u001b[39m pseudo_df\u001b[38;5;241m.\u001b[39mmerge(turn_restrictions,left_on\u001b[38;5;241m=\u001b[39m[\u001b[38;5;124m'\u001b[39m\u001b[38;5;124msource_osmid\u001b[39m\u001b[38;5;124m'\u001b[39m,\u001b[38;5;124m'\u001b[39m\u001b[38;5;124mtarget_osmid\u001b[39m\u001b[38;5;124m'\u001b[39m],right_on\u001b[38;5;241m=\u001b[39m[\u001b[38;5;124m'\u001b[39m\u001b[38;5;124mfrom_way_id\u001b[39m\u001b[38;5;124m'\u001b[39m,\u001b[38;5;124m'\u001b[39m\u001b[38;5;124mto_way_id\u001b[39m\u001b[38;5;124m'\u001b[39m],how\u001b[38;5;241m=\u001b[39m\u001b[38;5;124m'\u001b[39m\u001b[38;5;124mleft\u001b[39m\u001b[38;5;124m'\u001b[39m)\n\u001b[0;32m      3\u001b[0m road_cond \u001b[38;5;241m=\u001b[39m (pseudo_df[\u001b[38;5;124m'\u001b[39m\u001b[38;5;124msource_link_type\u001b[39m\u001b[38;5;124m'\u001b[39m] \u001b[38;5;241m==\u001b[39m \u001b[38;5;124m'\u001b[39m\u001b[38;5;124mroad\u001b[39m\u001b[38;5;124m'\u001b[39m) \u001b[38;5;241m&\u001b[39m (pseudo_df[\u001b[38;5;124m'\u001b[39m\u001b[38;5;124mtarget_link_type\u001b[39m\u001b[38;5;124m'\u001b[39m] \u001b[38;5;241m==\u001b[39m \u001b[38;5;124m'\u001b[39m\u001b[38;5;124mroad\u001b[39m\u001b[38;5;124m'\u001b[39m)\n",
      "\u001b[1;31mNameError\u001b[0m: name 'fp' is not defined"
     ]
    }
   ],
   "source": [
    "turn_restrictions = pd.read_csv(fp.parent/'osm_turn_restrictions.csv')\n",
    "pseudo_df = pseudo_df.merge(turn_restrictions,left_on=['source_osmid','target_osmid'],right_on=['from_way_id','to_way_id'],how='left')\n",
    "road_cond = (pseudo_df['source_link_type'] == 'road') & (pseudo_df['target_link_type'] == 'road')\n",
    "no_restr = pseudo_df['type'] == 'no'\n",
    "only_restr = pseudo_df['type'] == 'only'\n",
    "\n",
    "#add a remove column\n",
    "pseudo_df['remove'] = False\n",
    "\n",
    "#remove the no turns\n",
    "pseudo_df.loc[road_cond & no_restr,'remove'] = True\n",
    "\n",
    "#for only, find all instances road_cond + from source and set to True\n",
    "sources = set(turn_restrictions.loc[turn_restrictions['type']=='only','from_way_id'].tolist())\n",
    "pseudo_df.loc[road_cond & pseudo_df['source_osmid'].isin(sources) & pseudo_df['type'].isna(),'remove'] = True\n",
    "\n",
    "#Remove these turns and drop the added columns\n",
    "print((pseudo_df['remove']==True).sum(),'turns removed')\n",
    "pseudo_df = pseudo_df[pseudo_df['remove']==False]\n",
    "pseudo_df.drop(columns=['relation_id', 'restriction', 'from_way_id',\n",
    "       'to_way_id', 'type', 'remove'],inplace=True)"
   ]
  },
  {
   "cell_type": "markdown",
   "metadata": {},
   "source": [
    "# Deal with signals\n",
    "Perform two merges and use the source/target reverse link columns to determine which signal ID to keep.\n",
    "- For the source link, use signal_B if reverse == False else signal_A\n",
    "- For the target link, use signal_A if reverse == False else signal_B"
   ]
  },
  {
   "cell_type": "code",
   "execution_count": null,
   "metadata": {},
   "outputs": [],
   "source": [
    "source = pseudo_df[['source_linkid','source_reverse_link']].merge(links,left_on='source_linkid',right_on='linkid',how='left')\n",
    "pseudo_df['source_signal'] = np.where(source['source_reverse_link'], source['signal_A'], source['signal_B'])\n",
    "\n",
    "target = pseudo_df[['target_linkid','target_reverse_link']].merge(links,left_on='target_linkid',right_on='linkid',how='left')\n",
    "pseudo_df['target_signal'] = np.where(target['target_reverse_link']==False, target['signal_A'], target['signal_B'])"
   ]
  },
  {
   "cell_type": "markdown",
   "metadata": {},
   "source": [
    "## Identifying signalized/unsignalized turns\n",
    "- Only look at roads for now\n",
    "- Filter to left/right turns per source linkid per direction\n",
    "- Take the highest road classification and assign it as the cross street road classification"
   ]
  },
  {
   "cell_type": "code",
   "execution_count": null,
   "metadata": {},
   "outputs": [],
   "source": [
    "highway_order = {\n",
    "    'trunk': 0,\n",
    "    'trunk_link': 1,\n",
    "    'primary': 2,\n",
    "    'primary_link': 3,\n",
    "    'secondary': 4,\n",
    "    'secondary_link': 5,\n",
    "    'tertiary': 6,\n",
    "    'tertiary_link': 7,\n",
    "    'unclassified': 8,\n",
    "    'residential': 9\n",
    "}\n",
    "highway_order = pd.Series(highway_order)\n",
    "highway_order = highway_order.reset_index()\n",
    "highway_order.columns = ['highway','order']"
   ]
  },
  {
   "cell_type": "code",
   "execution_count": null,
   "metadata": {},
   "outputs": [],
   "source": [
    "#add highway ranking based on the above\n",
    "pseudo_df['target_highway_order'] = pseudo_df['target_highway'].map(highway_order.set_index('highway')['order'])\n",
    "pseudo_df['source_highway_order'] = pseudo_df['source_highway'].map(highway_order.set_index('highway')['order'])"
   ]
  },
  {
   "cell_type": "code",
   "execution_count": null,
   "metadata": {},
   "outputs": [],
   "source": [
    "#remove straight and uturn\n",
    "cond1 = pseudo_df['turn_type'].isin(['left','right'])\n",
    "#only road to road for now\n",
    "cond2 = (pseudo_df['source_link_type'] == 'road') & (pseudo_df['target_link_type'] == 'road')\n",
    "cross_streets = pseudo_df[cond1 & cond2]\n",
    "\n",
    "#use groupby to find the max target_highway order\n",
    "cross_streets = cross_streets.groupby(['source_linkid','source_A','source_B'])['target_highway_order'].min()\n",
    "cross_streets.name = 'cross_street'\n",
    "\n",
    "#add to main df\n",
    "pseudo_df = pd.merge(pseudo_df,cross_streets,left_on=['source_linkid','source_A','source_B'],right_index=True,how='left')\n",
    "\n",
    "#change numbers back to normal\n",
    "pseudo_df['cross_street_order'] = pseudo_df['cross_street']\n",
    "pseudo_df['cross_street'] = pseudo_df['cross_street'].map(highway_order.set_index('order')['highway'])"
   ]
  },
  {
   "cell_type": "code",
   "execution_count": null,
   "metadata": {},
   "outputs": [],
   "source": [
    "signalized = pseudo_df['source_signal'] == pseudo_df['target_signal']\n",
    "left_or_straight =  pseudo_df['turn_type'].isin(['left','straight'])\n",
    "both_road = (pseudo_df['source_link_type'] == 'road') & (pseudo_df['target_link_type'] == 'road')\n",
    "stressful_cross_street = pseudo_df['cross_street_order'] <= 5\n",
    "\n",
    "pseudo_df.loc[signalized & left_or_straight & both_road,'signalized_left_straight'] = True\n",
    "pseudo_df.loc[pseudo_df['signalized_left_straight'].isna(),'signalized_left_straight'] = False\n",
    "\n",
    "pseudo_df.loc[-signalized & left_or_straight & both_road & stressful_cross_street,'unsignalized_left_straight_nonlocal'] = True\n",
    "pseudo_df.loc[pseudo_df['unsignalized_left_straight_nonlocal'].isna(),'unsignalized_left_straight_nonlocal'] = False\n",
    "\n",
    "#clean up\n",
    "rem =  ['source_osmid', 'source_link_type', 'source_name',\n",
    "       'source_highway', 'target_osmid', 'target_link_type', 'target_name',\n",
    "       'target_highway', 'source_signal', 'target_signal',\n",
    "       'target_highway_order', 'source_highway_order', 'cross_street',\n",
    "       'cross_street_order']\n",
    "pseudo_df.drop(columns=rem,inplace=True)"
   ]
  },
  {
   "cell_type": "markdown",
   "metadata": {},
   "source": [
    "# Export for impedance calibration\n"
   ]
  },
  {
   "cell_type": "code",
   "execution_count": null,
   "metadata": {},
   "outputs": [],
   "source": [
    "with (network_filepath.parent / 'impedance_calibration.pkl').open('wb') as fh:\n",
    "    export = (edges_df,pseudo_df,pseudo_G)\n",
    "    pickle.dump(export,fh)"
   ]
  },
  {
   "cell_type": "markdown",
   "metadata": {},
   "source": [
    "## Add geometry to examine results in QGIS"
   ]
  },
  {
   "cell_type": "code",
   "execution_count": 125,
   "metadata": {},
   "outputs": [],
   "source": [
    "#add geo\n",
    "link_geo = dict(zip(links['linkid'],links['geometry']))\n",
    "pseudo_df['src_geo'] = pseudo_df['source_linkid'].map(link_geo)\n",
    "pseudo_df['trgt_geo'] = pseudo_df['target_linkid'].map(link_geo)\n",
    "pseudo_df['geometry'] = pseudo_df[['src_geo','trgt_geo']].apply(lambda row: MultiLineString([row['src_geo'],row['trgt_geo']]),axis=1)\n",
    "\n",
    "pseudo_df.drop(columns=['src_geo','trgt_geo'],inplace=True)\n",
    "pseudo_df = gpd.GeoDataFrame(pseudo_df,crs=links.crs)\n",
    "\n",
    "pseudo_df['source'] = pseudo_df['source'].astype(str)\n",
    "pseudo_df['target'] = pseudo_df['target'].astype(str)\n",
    "\n",
    "#check results (may need a smaller road network to test on)\n",
    "pseudo_df.to_file(Path.home()/'Downloads/testing.gpkg',layer='cross_streets')"
   ]
  }
 ],
 "metadata": {
  "kernelspec": {
   "display_name": "Python 3",
   "language": "python",
   "name": "python3"
  },
  "language_info": {
   "codemirror_mode": {
    "name": "ipython",
    "version": 3
   },
   "file_extension": ".py",
   "mimetype": "text/x-python",
   "name": "python",
   "nbconvert_exporter": "python",
   "pygments_lexer": "ipython3",
   "version": "3.9.13"
  }
 },
 "nbformat": 4,
 "nbformat_minor": 2
}

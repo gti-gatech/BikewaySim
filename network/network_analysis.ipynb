{
 "cells": [
  {
   "cell_type": "code",
   "execution_count": 9,
   "metadata": {},
   "outputs": [],
   "source": [
    "import geopandas as gpd\n",
    "from pathlib import Path\n",
    "import numpy as np\n",
    "import pandas as pd\n",
    "\n",
    "import pickle\n",
    "import src.modeling_turns as modeling_turns\n",
    "import src.add_attributes as add_attributes\n",
    "import src.prepare_network as prepare_network\n",
    "\n",
    "import sys\n",
    "sys.path.insert(0,str(Path.cwd().parent))\n",
    "import file_structure_setup\n",
    "config = file_structure_setup.filepaths()"
   ]
  },
  {
   "cell_type": "code",
   "execution_count": 10,
   "metadata": {},
   "outputs": [],
   "source": [
    "unfiltered_turns = pd.read_parquet(config['network_fp']/'turns_df.parquet')\n",
    "unfiltered_directed_links = pd.read_parquet(config['network_fp']/'directed_edges.parquet')\n",
    "unfiltered_links = gpd.read_file(config['network_fp']/'final_network.gpkg',layer='edges')\n",
    "unfiltered_nodes = gpd.read_file(config['network_fp']/'final_network.gpkg',layer='nodes')"
   ]
  },
  {
   "cell_type": "code",
   "execution_count": 11,
   "metadata": {},
   "outputs": [],
   "source": [
    "# Remove wrongway from directed links and turns\n",
    "oneway_dict = dict(zip(unfiltered_links['linkid'],unfiltered_links['oneway']))\n",
    "unfiltered_directed_links['wrongway'] = (unfiltered_directed_links['linkid'].map(oneway_dict) == True) & (unfiltered_directed_links['reverse_link']==True)\n",
    "directed_links = unfiltered_directed_links[unfiltered_directed_links['wrongway']==False]\n",
    "unfiltered_turns['source_oneway'] = unfiltered_turns['source_linkid'].map(oneway_dict)\n",
    "unfiltered_turns['target_oneway'] = unfiltered_turns['target_linkid'].map(oneway_dict)\n",
    "source_wrongway = ((unfiltered_turns['source_oneway'] == True) & (unfiltered_turns['source_reverse_link'] == True)) == False\n",
    "target_wrongway = ((unfiltered_turns['target_oneway'] == True) & (unfiltered_turns['target_reverse_link'] == True)) == False\n",
    "unfiltered_turns = unfiltered_turns[source_wrongway & target_wrongway]"
   ]
  },
  {
   "cell_type": "code",
   "execution_count": 12,
   "metadata": {},
   "outputs": [
    {
     "name": "stdout",
     "output_type": "stream",
     "text": [
      "107397 links\n",
      "214794 directed links\n",
      "91820 nodes\n",
      "350746 turns\n"
     ]
    }
   ],
   "source": [
    "print(unfiltered_links.shape[0],'links')\n",
    "node_count = unfiltered_links['A'].append(unfiltered_links['B']).nunique()\n",
    "print(unfiltered_directed_links.shape[0],'directed links')\n",
    "print(node_count,'nodes')\n",
    "print(unfiltered_turns.shape[0],'turns')"
   ]
  },
  {
   "cell_type": "markdown",
   "metadata": {},
   "source": [
    "# Filtered Network"
   ]
  },
  {
   "cell_type": "code",
   "execution_count": 13,
   "metadata": {},
   "outputs": [],
   "source": [
    "#export calibration network\n",
    "with (config['calibration_fp']/\"calibration_network.pkl\").open('rb') as fh:\n",
    "    links, turns = pickle.load(fh)\n",
    "undirected_links = links[links['reverse_link']==False]"
   ]
  },
  {
   "cell_type": "code",
   "execution_count": 14,
   "metadata": {},
   "outputs": [
    {
     "name": "stdout",
     "output_type": "stream",
     "text": [
      "59112 links\n",
      "111192 directed links\n",
      "56084 nodes\n",
      "149047 turns\n"
     ]
    }
   ],
   "source": [
    "print(links['linkid'].nunique(),'links')\n",
    "node_count = links['A'].append(links['B']).nunique()\n",
    "print(links.shape[0],'directed links')\n",
    "print(node_count,'nodes')\n",
    "print(turns.shape[0],'turns')"
   ]
  },
  {
   "cell_type": "markdown",
   "metadata": {},
   "source": [
    "Undirected Attributes"
   ]
  },
  {
   "cell_type": "code",
   "execution_count": 15,
   "metadata": {},
   "outputs": [],
   "source": [
    "undirected_links.to_file(config['network_fp']/'network_stats.gpkg',layer='undirected_attributes')"
   ]
  },
  {
   "cell_type": "code",
   "execution_count": 16,
   "metadata": {},
   "outputs": [
    {
     "data": {
      "text/plain": [
       "0         0.53\n",
       "2         0.63\n",
       "4         0.58\n",
       "7         0.31\n",
       "9         0.33\n",
       "          ... \n",
       "118214    0.03\n",
       "118216    0.04\n",
       "118219    0.09\n",
       "118221    0.08\n",
       "118222    0.13\n",
       "Name: length_mi, Length: 59112, dtype: float64"
      ]
     },
     "execution_count": 16,
     "metadata": {},
     "output_type": "execute_result"
    }
   ],
   "source": [
    "undirected_links['length_mi']"
   ]
  },
  {
   "cell_type": "code",
   "execution_count": 17,
   "metadata": {},
   "outputs": [
    {
     "data": {
      "text/html": [
       "<div>\n",
       "<style scoped>\n",
       "    .dataframe tbody tr th:only-of-type {\n",
       "        vertical-align: middle;\n",
       "    }\n",
       "\n",
       "    .dataframe tbody tr th {\n",
       "        vertical-align: top;\n",
       "    }\n",
       "\n",
       "    .dataframe thead th {\n",
       "        text-align: right;\n",
       "    }\n",
       "</style>\n",
       "<table border=\"1\" class=\"dataframe\">\n",
       "  <thead>\n",
       "    <tr style=\"text-align: right;\">\n",
       "      <th></th>\n",
       "      <th>lanes</th>\n",
       "      <th>length_mi</th>\n",
       "      <th>pct</th>\n",
       "    </tr>\n",
       "  </thead>\n",
       "  <tbody>\n",
       "    <tr>\n",
       "      <th>1</th>\n",
       "      <td>45151</td>\n",
       "      <td>1673.0</td>\n",
       "      <td>78.0</td>\n",
       "    </tr>\n",
       "    <tr>\n",
       "      <th>0</th>\n",
       "      <td>8922</td>\n",
       "      <td>225.0</td>\n",
       "      <td>10.0</td>\n",
       "    </tr>\n",
       "    <tr>\n",
       "      <th>2</th>\n",
       "      <td>4533</td>\n",
       "      <td>233.0</td>\n",
       "      <td>11.0</td>\n",
       "    </tr>\n",
       "    <tr>\n",
       "      <th>3</th>\n",
       "      <td>506</td>\n",
       "      <td>22.0</td>\n",
       "      <td>1.0</td>\n",
       "    </tr>\n",
       "  </tbody>\n",
       "</table>\n",
       "</div>"
      ],
      "text/plain": [
       "   lanes  length_mi   pct\n",
       "1  45151     1673.0  78.0\n",
       "0   8922      225.0  10.0\n",
       "2   4533      233.0  11.0\n",
       "3    506       22.0   1.0"
      ]
     },
     "execution_count": 17,
     "metadata": {},
     "output_type": "execute_result"
    }
   ],
   "source": [
    "miles = undirected_links.groupby('lanes')['length_mi'].sum().round(0)\n",
    "counts = undirected_links['lanes'].value_counts()\n",
    "pct = (miles / undirected_links['length_mi'].sum() * 100).round(0)\n",
    "pct.name = 'pct'\n",
    "pd.concat([counts,miles,pct],axis=1)"
   ]
  },
  {
   "cell_type": "code",
   "execution_count": 18,
   "metadata": {},
   "outputs": [],
   "source": [
    "undirected_links.loc[undirected_links['speed']==0,'speed'] = 1"
   ]
  },
  {
   "cell_type": "code",
   "execution_count": 19,
   "metadata": {},
   "outputs": [
    {
     "data": {
      "text/html": [
       "<div>\n",
       "<style scoped>\n",
       "    .dataframe tbody tr th:only-of-type {\n",
       "        vertical-align: middle;\n",
       "    }\n",
       "\n",
       "    .dataframe tbody tr th {\n",
       "        vertical-align: top;\n",
       "    }\n",
       "\n",
       "    .dataframe thead th {\n",
       "        text-align: right;\n",
       "    }\n",
       "</style>\n",
       "<table border=\"1\" class=\"dataframe\">\n",
       "  <thead>\n",
       "    <tr style=\"text-align: right;\">\n",
       "      <th></th>\n",
       "      <th>speed</th>\n",
       "      <th>length_mi</th>\n",
       "      <th>pct</th>\n",
       "    </tr>\n",
       "  </thead>\n",
       "  <tbody>\n",
       "    <tr>\n",
       "      <th>1</th>\n",
       "      <td>59112</td>\n",
       "      <td>2152.0</td>\n",
       "      <td>100.0</td>\n",
       "    </tr>\n",
       "  </tbody>\n",
       "</table>\n",
       "</div>"
      ],
      "text/plain": [
       "   speed  length_mi    pct\n",
       "1  59112     2152.0  100.0"
      ]
     },
     "execution_count": 19,
     "metadata": {},
     "output_type": "execute_result"
    }
   ],
   "source": [
    "miles = undirected_links.groupby('speed')['length_mi'].sum().round(0)\n",
    "counts = undirected_links['speed'].value_counts()\n",
    "pct = (miles / undirected_links['length_mi'].sum() * 100).round(0)\n",
    "pct.name = 'pct'\n",
    "pd.concat([counts,miles,pct],axis=1)"
   ]
  },
  {
   "cell_type": "code",
   "execution_count": 20,
   "metadata": {},
   "outputs": [
    {
     "data": {
      "text/plain": [
       "1    59112\n",
       "Name: speed, dtype: int64"
      ]
     },
     "execution_count": 20,
     "metadata": {},
     "output_type": "execute_result"
    }
   ],
   "source": [
    "undirected_links['speed'].value_counts()"
   ]
  },
  {
   "cell_type": "code",
   "execution_count": 21,
   "metadata": {},
   "outputs": [
    {
     "data": {
      "text/plain": [
       "count    59112.000000\n",
       "mean      3407.183059\n",
       "std       6801.933972\n",
       "min          0.000000\n",
       "25%          0.000000\n",
       "50%       2107.000000\n",
       "75%       2107.000000\n",
       "max      63900.000000\n",
       "Name: AADT, dtype: float64"
      ]
     },
     "execution_count": 21,
     "metadata": {},
     "output_type": "execute_result"
    }
   ],
   "source": [
    "undirected_links['AADT'].describe()"
   ]
  },
  {
   "cell_type": "code",
   "execution_count": 22,
   "metadata": {},
   "outputs": [
    {
     "data": {
      "text/plain": [
       "count    59112.000000\n",
       "mean         0.637722\n",
       "std          4.225946\n",
       "min          0.000000\n",
       "25%          0.000000\n",
       "50%          0.000000\n",
       "75%          0.000000\n",
       "max        270.000000\n",
       "Name: truck_pct, dtype: float64"
      ]
     },
     "execution_count": 22,
     "metadata": {},
     "output_type": "execute_result"
    }
   ],
   "source": [
    "undirected_links['truck_pct'].describe()"
   ]
  },
  {
   "cell_type": "markdown",
   "metadata": {},
   "source": [
    "Directed"
   ]
  },
  {
   "cell_type": "code",
   "execution_count": 23,
   "metadata": {},
   "outputs": [],
   "source": [
    "min_grade = links.groupby('linkid')['ascent_grade_%'].idxmax()\n",
    "links.loc[min_grade,['linkid','name','highway','ascent_grade_%','geometry']].to_file(config['network_fp']/'network_stats.gpkg',layer='elevation')"
   ]
  },
  {
   "cell_type": "code",
   "execution_count": 24,
   "metadata": {},
   "outputs": [],
   "source": [
    "ranking = {\n",
    "    'multi use path':0,\n",
    "    'bike lane':3,\n",
    "    'buffered bike lane':2,\n",
    "    'cycletrack':1\n",
    "}\n",
    "bicycle_facilities = links.loc[links['facility_fwd'].notna(),['linkid','name','highway','facility_fwd','geometry']].copy()\n",
    "bicycle_facilities = bicycle_facilities[bicycle_facilities.drop(columns=['geometry']).duplicated()==False]\n",
    "bicycle_facilities['facility_ranking'] = bicycle_facilities['facility_fwd'].map(ranking)\n",
    "bicycle_facilities_idx = bicycle_facilities.groupby('linkid')['facility_ranking'].idxmin()\n",
    "bicycle_facilities = bicycle_facilities.loc[bicycle_facilities_idx]\n",
    "bicycle_facilities.to_file(config['network_fp']/'network_stats.gpkg',layer='bicycle_facilities')"
   ]
  },
  {
   "cell_type": "code",
   "execution_count": null,
   "metadata": {},
   "outputs": [],
   "source": []
  }
 ],
 "metadata": {
  "kernelspec": {
   "display_name": "Python 3",
   "language": "python",
   "name": "python3"
  },
  "language_info": {
   "codemirror_mode": {
    "name": "ipython",
    "version": 3
   },
   "file_extension": ".py",
   "mimetype": "text/x-python",
   "name": "python",
   "nbconvert_exporter": "python",
   "pygments_lexer": "ipython3",
   "version": "3.11.0"
  }
 },
 "nbformat": 4,
 "nbformat_minor": 2
}

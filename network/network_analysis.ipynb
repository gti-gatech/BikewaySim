{
 "cells": [
  {
   "cell_type": "code",
   "execution_count": 111,
   "metadata": {},
   "outputs": [],
   "source": [
    "import geopandas as gpd\n",
    "from pathlib import Path\n",
    "import numpy as np\n",
    "import pandas as pd\n",
    "\n",
    "import pickle\n",
    "import src.modeling_turns as modeling_turns\n",
    "import src.add_attributes as add_attributes\n",
    "import src.prepare_network as prepare_network\n",
    "\n",
    "import sys\n",
    "sys.path.insert(0,str(Path.cwd().parent))\n",
    "import file_structure_setup\n",
    "config = file_structure_setup.filepaths()"
   ]
  },
  {
   "cell_type": "code",
   "execution_count": 112,
   "metadata": {},
   "outputs": [],
   "source": [
    "unfiltered_turns = pd.read_parquet(config['network_fp']/'turns_df.parquet')\n",
    "unfiltered_directed_links = pd.read_parquet(config['network_fp']/'directed_edges.parquet')\n",
    "unfiltered_links = gpd.read_file(config['network_fp']/'final_network.gpkg',layer='edges')\n",
    "unfiltered_nodes = gpd.read_file(config['network_fp']/'final_network.gpkg',layer='nodes')"
   ]
  },
  {
   "cell_type": "code",
   "execution_count": 113,
   "metadata": {},
   "outputs": [
    {
     "data": {
      "text/plain": [
       "False"
      ]
     },
     "execution_count": 113,
     "metadata": {},
     "output_type": "execute_result"
    }
   ],
   "source": [
    "unfiltered_links['oneway'].isna().any()"
   ]
  },
  {
   "cell_type": "code",
   "execution_count": 114,
   "metadata": {},
   "outputs": [],
   "source": [
    "# Remove wrongway from directed links and turns\n",
    "oneway_dict = dict(zip(links['linkid'],links['oneway']))\n",
    "unfiltered_directed_links['wrongway'] = (unfiltered_directed_links['linkid'].map(oneway_dict) == True) & (directed_links['reverse_link']==True)\n",
    "directed_links = unfiltered_directed_links[unfiltered_directed_links['wrongway']==False]\n",
    "unfiltered_turns['source_oneway'] = unfiltered_turns['source_linkid'].map(oneway_dict)\n",
    "unfiltered_turns['target_oneway'] = unfiltered_turns['target_linkid'].map(oneway_dict)\n",
    "source_wrongway = ((unfiltered_turns['source_oneway'] == True) & (unfiltered_turns['source_reverse_link'] == True)) == False\n",
    "target_wrongway = ((unfiltered_turns['target_oneway'] == True) & (unfiltered_turns['target_reverse_link'] == True)) == False\n",
    "unfiltered_turns = unfiltered_turns[source_wrongway & target_wrongway]"
   ]
  },
  {
   "cell_type": "code",
   "execution_count": 115,
   "metadata": {},
   "outputs": [
    {
     "name": "stdout",
     "output_type": "stream",
     "text": [
      "153157 links\n",
      "306314 directed links\n",
      "123628 nodes\n",
      "514193 turns\n"
     ]
    }
   ],
   "source": [
    "print(unfiltered_links.shape[0],'links')\n",
    "node_count = unfiltered_links['A'].append(unfiltered_links['B']).nunique()\n",
    "print(unfiltered_directed_links.shape[0],'directed links')\n",
    "print(node_count,'nodes')\n",
    "print(unfiltered_turns.shape[0],'turns')"
   ]
  },
  {
   "cell_type": "markdown",
   "metadata": {},
   "source": [
    "# Filtered Network"
   ]
  },
  {
   "cell_type": "code",
   "execution_count": 116,
   "metadata": {},
   "outputs": [],
   "source": [
    "#export calibration network\n",
    "with (config['calibration_fp']/\"calibration_network.pkl\").open('rb') as fh:\n",
    "    links, turns = pickle.load(fh)\n",
    "undirected_links = links[links['reverse_link']==False]"
   ]
  },
  {
   "cell_type": "code",
   "execution_count": 117,
   "metadata": {},
   "outputs": [
    {
     "name": "stdout",
     "output_type": "stream",
     "text": [
      "76912 links\n",
      "144458 directed links\n",
      "66151 nodes\n",
      "222764 turns\n"
     ]
    }
   ],
   "source": [
    "print(links['linkid'].nunique(),'links')\n",
    "node_count = links['A'].append(links['B']).nunique()\n",
    "print(links.shape[0],'directed links')\n",
    "print(node_count,'nodes')\n",
    "print(turns.shape[0],'turns')"
   ]
  },
  {
   "cell_type": "markdown",
   "metadata": {},
   "source": [
    "Undirected Attributes"
   ]
  },
  {
   "cell_type": "code",
   "execution_count": 118,
   "metadata": {},
   "outputs": [],
   "source": [
    "undirected_links.to_file(config['network_fp']/'network_stats.gpkg',layer='undirected_attributes')"
   ]
  },
  {
   "cell_type": "code",
   "execution_count": 133,
   "metadata": {},
   "outputs": [
    {
     "data": {
      "text/plain": [
       "0         0.03\n",
       "3         0.21\n",
       "4         0.07\n",
       "6         0.02\n",
       "8         0.07\n",
       "          ... \n",
       "153814    0.09\n",
       "153817    0.06\n",
       "153819    0.22\n",
       "153820    0.01\n",
       "153823    0.07\n",
       "Name: length_mi, Length: 76912, dtype: float64"
      ]
     },
     "execution_count": 133,
     "metadata": {},
     "output_type": "execute_result"
    }
   ],
   "source": [
    "undirected_links['length_mi']"
   ]
  },
  {
   "cell_type": "code",
   "execution_count": 148,
   "metadata": {},
   "outputs": [
    {
     "data": {
      "text/html": [
       "<div>\n",
       "<style scoped>\n",
       "    .dataframe tbody tr th:only-of-type {\n",
       "        vertical-align: middle;\n",
       "    }\n",
       "\n",
       "    .dataframe tbody tr th {\n",
       "        vertical-align: top;\n",
       "    }\n",
       "\n",
       "    .dataframe thead th {\n",
       "        text-align: right;\n",
       "    }\n",
       "</style>\n",
       "<table border=\"1\" class=\"dataframe\">\n",
       "  <thead>\n",
       "    <tr style=\"text-align: right;\">\n",
       "      <th></th>\n",
       "      <th>lanes</th>\n",
       "      <th>length_mi</th>\n",
       "      <th>pct</th>\n",
       "    </tr>\n",
       "  </thead>\n",
       "  <tbody>\n",
       "    <tr>\n",
       "      <th>0.0</th>\n",
       "      <td>11775</td>\n",
       "      <td>332.0</td>\n",
       "      <td>10.0</td>\n",
       "    </tr>\n",
       "    <tr>\n",
       "      <th>1.0</th>\n",
       "      <td>52570</td>\n",
       "      <td>2700.0</td>\n",
       "      <td>79.0</td>\n",
       "    </tr>\n",
       "    <tr>\n",
       "      <th>2.0</th>\n",
       "      <td>8445</td>\n",
       "      <td>257.0</td>\n",
       "      <td>8.0</td>\n",
       "    </tr>\n",
       "    <tr>\n",
       "      <th>3.0</th>\n",
       "      <td>4122</td>\n",
       "      <td>112.0</td>\n",
       "      <td>3.0</td>\n",
       "    </tr>\n",
       "  </tbody>\n",
       "</table>\n",
       "</div>"
      ],
      "text/plain": [
       "     lanes  length_mi   pct\n",
       "0.0  11775      332.0  10.0\n",
       "1.0  52570     2700.0  79.0\n",
       "2.0   8445      257.0   8.0\n",
       "3.0   4122      112.0   3.0"
      ]
     },
     "execution_count": 148,
     "metadata": {},
     "output_type": "execute_result"
    }
   ],
   "source": [
    "miles = undirected_links.groupby('lanes')['length_mi'].sum().round(0)\n",
    "counts = undirected_links['lanes'].value_counts()\n",
    "pct = (miles / undirected_links['length_mi'].sum() * 100).round(0)\n",
    "pct.name = 'pct'\n",
    "pd.concat([counts,miles,pct],axis=1)"
   ]
  },
  {
   "cell_type": "code",
   "execution_count": 150,
   "metadata": {},
   "outputs": [],
   "source": [
    "undirected_links.loc[undirected_links['speed']==0,'speed'] = 1"
   ]
  },
  {
   "cell_type": "code",
   "execution_count": 151,
   "metadata": {},
   "outputs": [
    {
     "data": {
      "text/html": [
       "<div>\n",
       "<style scoped>\n",
       "    .dataframe tbody tr th:only-of-type {\n",
       "        vertical-align: middle;\n",
       "    }\n",
       "\n",
       "    .dataframe tbody tr th {\n",
       "        vertical-align: top;\n",
       "    }\n",
       "\n",
       "    .dataframe thead th {\n",
       "        text-align: right;\n",
       "    }\n",
       "</style>\n",
       "<table border=\"1\" class=\"dataframe\">\n",
       "  <thead>\n",
       "    <tr style=\"text-align: right;\">\n",
       "      <th></th>\n",
       "      <th>speed</th>\n",
       "      <th>length_mi</th>\n",
       "      <th>pct</th>\n",
       "    </tr>\n",
       "  </thead>\n",
       "  <tbody>\n",
       "    <tr>\n",
       "      <th>1.0</th>\n",
       "      <td>18632</td>\n",
       "      <td>588.0</td>\n",
       "      <td>17.0</td>\n",
       "    </tr>\n",
       "    <tr>\n",
       "      <th>2.0</th>\n",
       "      <td>40680</td>\n",
       "      <td>2176.0</td>\n",
       "      <td>64.0</td>\n",
       "    </tr>\n",
       "    <tr>\n",
       "      <th>3.0</th>\n",
       "      <td>14902</td>\n",
       "      <td>525.0</td>\n",
       "      <td>15.0</td>\n",
       "    </tr>\n",
       "    <tr>\n",
       "      <th>4.0</th>\n",
       "      <td>2698</td>\n",
       "      <td>112.0</td>\n",
       "      <td>3.0</td>\n",
       "    </tr>\n",
       "  </tbody>\n",
       "</table>\n",
       "</div>"
      ],
      "text/plain": [
       "     speed  length_mi   pct\n",
       "1.0  18632      588.0  17.0\n",
       "2.0  40680     2176.0  64.0\n",
       "3.0  14902      525.0  15.0\n",
       "4.0   2698      112.0   3.0"
      ]
     },
     "execution_count": 151,
     "metadata": {},
     "output_type": "execute_result"
    }
   ],
   "source": [
    "miles = undirected_links.groupby('speed')['length_mi'].sum().round(0)\n",
    "counts = undirected_links['speed'].value_counts()\n",
    "pct = (miles / undirected_links['length_mi'].sum() * 100).round(0)\n",
    "pct.name = 'pct'\n",
    "pd.concat([counts,miles,pct],axis=1)"
   ]
  },
  {
   "cell_type": "code",
   "execution_count": 120,
   "metadata": {},
   "outputs": [
    {
     "data": {
      "text/plain": [
       "2.0    40680\n",
       "3.0    14902\n",
       "0.0    11775\n",
       "1.0     6857\n",
       "4.0     2698\n",
       "Name: speed, dtype: int64"
      ]
     },
     "execution_count": 120,
     "metadata": {},
     "output_type": "execute_result"
    }
   ],
   "source": [
    "undirected_links['speed'].value_counts()"
   ]
  },
  {
   "cell_type": "code",
   "execution_count": 121,
   "metadata": {},
   "outputs": [
    {
     "data": {
      "text/plain": [
       "count     76912.000000\n",
       "mean       5214.421521\n",
       "std        8508.487765\n",
       "min           0.000000\n",
       "25%         406.000000\n",
       "50%        2107.000000\n",
       "75%        4690.000000\n",
       "max      131000.000000\n",
       "Name: AADT, dtype: float64"
      ]
     },
     "execution_count": 121,
     "metadata": {},
     "output_type": "execute_result"
    }
   ],
   "source": [
    "undirected_links['AADT'].describe()"
   ]
  },
  {
   "cell_type": "code",
   "execution_count": 122,
   "metadata": {},
   "outputs": [
    {
     "data": {
      "text/plain": [
       "count    76912.000000\n",
       "mean         0.175343\n",
       "std          0.876012\n",
       "min          0.000000\n",
       "25%          0.000000\n",
       "50%          0.000000\n",
       "75%          0.000000\n",
       "max         28.000000\n",
       "Name: truck_pct, dtype: float64"
      ]
     },
     "execution_count": 122,
     "metadata": {},
     "output_type": "execute_result"
    }
   ],
   "source": [
    "undirected_links['truck_pct'].describe()"
   ]
  },
  {
   "cell_type": "markdown",
   "metadata": {},
   "source": [
    "Directed"
   ]
  },
  {
   "cell_type": "code",
   "execution_count": 123,
   "metadata": {},
   "outputs": [],
   "source": [
    "min_grade = links.groupby('linkid')['ascent_grade_%'].idxmax()\n",
    "links.loc[min_grade,['linkid','name','highway','ascent_grade_%','geometry']].to_file(config['network_fp']/'network_stats.gpkg',layer='elevation')"
   ]
  },
  {
   "cell_type": "code",
   "execution_count": 124,
   "metadata": {},
   "outputs": [],
   "source": [
    "ranking = {\n",
    "    'multi use path':0,\n",
    "    'bike lane':3,\n",
    "    'buffered bike lane':2,\n",
    "    'cycletrack':1\n",
    "}\n",
    "bicycle_facilities = links.loc[links['facility_fwd'].notna(),['linkid','name','highway','facility_fwd','geometry']].copy()\n",
    "bicycle_facilities = bicycle_facilities[bicycle_facilities.drop(columns=['geometry']).duplicated()==False]\n",
    "bicycle_facilities['facility_ranking'] = bicycle_facilities['facility_fwd'].map(ranking)\n",
    "bicycle_facilities_idx = bicycle_facilities.groupby('linkid')['facility_ranking'].idxmin()\n",
    "bicycle_facilities = bicycle_facilities.loc[bicycle_facilities_idx]\n",
    "bicycle_facilities.to_file(config['network_fp']/'network_stats.gpkg',layer='bicycle_facilities')"
   ]
  },
  {
   "cell_type": "code",
   "execution_count": null,
   "metadata": {},
   "outputs": [],
   "source": []
  }
 ],
 "metadata": {
  "kernelspec": {
   "display_name": "Python 3",
   "language": "python",
   "name": "python3"
  },
  "language_info": {
   "codemirror_mode": {
    "name": "ipython",
    "version": 3
   },
   "file_extension": ".py",
   "mimetype": "text/x-python",
   "name": "python",
   "nbconvert_exporter": "python",
   "pygments_lexer": "ipython3",
   "version": "3.9.13"
  }
 },
 "nbformat": 4,
 "nbformat_minor": 2
}

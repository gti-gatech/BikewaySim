{
 "cells": [
  {
   "cell_type": "markdown",
   "id": "7a4c6032",
   "metadata": {},
   "source": [
    "# Step 2 Network Reconciliation\n",
    "---\n",
    "New version meant to add network attributes from other networks to OSM network."
   ]
  },
  {
   "cell_type": "markdown",
   "id": "0bc5837e",
   "metadata": {},
   "source": [
    "## Import Modules"
   ]
  },
  {
   "cell_type": "code",
   "execution_count": 1,
   "id": "8c0e9253",
   "metadata": {},
   "outputs": [],
   "source": [
    "from pathlib import Path\n",
    "import geopandas as gpd\n",
    "import pandas as pd\n",
    "import numpy as np\n",
    "\n",
    "import networkx as nx\n",
    "from tqdm import tqdm\n",
    "\n",
    "import sys\n",
    "sys.path.insert(0,str(Path.cwd().parent))\n",
    "import file_structure_setup\n",
    "config = file_structure_setup.filepaths()\n",
    "\n",
    "import src.conflation_tools as conflation_tools\n",
    "import src.add_attributes as add_attributes"
   ]
  },
  {
   "cell_type": "markdown",
   "id": "02d7096b",
   "metadata": {},
   "source": [
    "# HERE Attributes (ignore if HERE data not available)\n",
    "Want to add HERE road attributes, speed limit and number of lanes categories, to OSM\n"
   ]
  },
  {
   "cell_type": "markdown",
   "id": "c4d62d75",
   "metadata": {},
   "source": [
    "## Import OSM"
   ]
  },
  {
   "cell_type": "code",
   "execution_count": 2,
   "id": "51a93cf4",
   "metadata": {},
   "outputs": [],
   "source": [
    "osm = gpd.read_file(config['network_fp'] / 'networks.gpkg',layer='osm_links')\n",
    "\n",
    "# filter to roads\n",
    "osm = osm[osm['link_type']=='road']\n",
    "\n",
    "#add street names back to osm\n",
    "#add attributes back (especially the oneway column)\n",
    "osm_attrs = gpd.read_file(config['osmdwnld_fp'] / f\"osm_{config['geofabrik_year']}.gpkg\",layer='raw',ignore_geometry=True)\n",
    "cols_to_keep = ['osmid','highway','name']\n",
    "osm = pd.merge(osm,osm_attrs[cols_to_keep],on='osmid')\n",
    "del osm_attrs\n",
    "\n",
    "#format name attrbute\n",
    "osm['name2'] = osm['name'].apply(lambda row: conflation_tools.remove_suffix(row))"
   ]
  },
  {
   "cell_type": "markdown",
   "id": "21f88be9",
   "metadata": {},
   "source": [
    "## Import HERE\n"
   ]
  },
  {
   "cell_type": "code",
   "execution_count": 3,
   "id": "19a086df",
   "metadata": {},
   "outputs": [],
   "source": [
    "studyarea = gpd.read_file(config['network_fp'] / \"base_layers.gpkg\",layer='studyarea_bounds')\n",
    "here = gpd.read_file(Path(config['here_fp']),mask=studyarea).to_crs(config['projected_crs_epsg'])\n",
    "\n",
    "#lowercase street names\n",
    "here['ST_NM_BASE'] = here['ST_NM_BASE'].str.lower()\n",
    "\n",
    "#turn lanes to int\n",
    "here['LANE_CAT'] = here['LANE_CAT'].astype(int)\n",
    "\n",
    "#filter to just roads (no interstates)\n",
    "controlled_access = (here['CONTRACC'].str.contains('Y')) | (here['RAMP'].str.contains('Y'))\n",
    "road = (here['AR_AUTO'].str.contains('Y')) & (here['SPEED_CAT'].astype(int) < 7)\n",
    "here = here[(controlled_access==False) & road]\n",
    "\n",
    "#create unequal lanes column\n",
    "#here['unequal_lanes'] = (here['FROM_LANES'] != here['TO_LANES']) & (here['FROM_LANES']!=0) & (here['TO_LANES']!=0)"
   ]
  },
  {
   "cell_type": "markdown",
   "id": "bd98ec88",
   "metadata": {},
   "source": [
    "### Modify the HERE lanes attributes\n",
    "Lane category is supposed to represent the lanes per direction but occasionally it doesn't in HERE for oneway streets. \n"
   ]
  },
  {
   "cell_type": "code",
   "execution_count": 4,
   "id": "5881ac6c",
   "metadata": {},
   "outputs": [],
   "source": [
    "nonzero = (here['TO_LANES'] != 0) | (here['FROM_LANES'] != 0)\n",
    "\n",
    "one_lane_per_direction = nonzero & (here[['FROM_LANES','TO_LANES']].max(axis=1) == 1)\n",
    "two_lanes_per_direction = nonzero & (here[['FROM_LANES','TO_LANES']].max(axis=1) == 2)\n",
    "three_or_more_lanes_per_direction = nonzero & (here[['FROM_LANES','TO_LANES']].max(axis=1) >= 3)\n",
    "\n",
    "here['here_lanes'] = here['LANE_CAT']\n",
    "here.loc[one_lane_per_direction,'here_lanes'] = 1\n",
    "here.loc[two_lanes_per_direction,'here_lanes'] = 2\n",
    "here.loc[three_or_more_lanes_per_direction,'here_lanes'] = 3\n",
    "\n",
    "#for examining\n",
    "#here.loc[here['LANE_CAT'] != here['here_lanes'],['ST_NAME','FROM_LANES','TO_LANES','LANE_CAT','here_lanes','geometry']].explore()"
   ]
  },
  {
   "cell_type": "markdown",
   "id": "2e7899d1",
   "metadata": {},
   "source": [
    "### Modify the HERE speed limit attribute"
   ]
  },
  {
   "cell_type": "code",
   "execution_count": 5,
   "id": "ed8e8d07",
   "metadata": {},
   "outputs": [],
   "source": [
    "# here['SPEED_CAT'].value_counts()\n",
    "# based on the distribution of speed categories, four categories makes sense\n",
    "# first column of comments is the new range while the second is original range\n",
    "# here says these don't neccessarily represent the legal speed limit\n",
    "new_here_speed_bins = {\n",
    "    '1': 4, #'41+ MPH', #'> 80 MPH',\n",
    "    '2': 4, #'41+ MPH', #'65-80 MPH',\n",
    "    '3': 4, #'41+ MPH', #'55-64 MPH',\n",
    "    '4': 4, #'41+ MPH', #'41-54 MPH',\n",
    "    '5': 3, #'31-40 MPH',\n",
    "    '6': 2, #'21-30 MPH', #'21-30 MPH',\n",
    "    '7': 1, #'<= 20 MPH', #'6-20 MPH',\n",
    "    '8': 1 #'<= 20 MPH' #'< 6 MPH'\n",
    "}\n",
    "here['here_speed'] = here['SPEED_CAT'].map(new_here_speed_bins)"
   ]
  },
  {
   "cell_type": "code",
   "execution_count": 6,
   "id": "7108847b",
   "metadata": {},
   "outputs": [],
   "source": [
    "#clean up column\n",
    "cols_to_keep = ['LINK_ID','ST_NM_BASE', 'here_speed','here_lanes','geometry']\n",
    "here = here[cols_to_keep]"
   ]
  },
  {
   "cell_type": "markdown",
   "id": "0808afe7",
   "metadata": {},
   "source": [
    "## Conflate HERE Speed and Lanes"
   ]
  },
  {
   "cell_type": "code",
   "execution_count": 7,
   "id": "866f2302",
   "metadata": {},
   "outputs": [
    {
     "name": "stdout",
     "output_type": "stream",
     "text": [
      "314862 initial matches\n",
      "11\n",
      "58338 final matches\n"
     ]
    }
   ],
   "source": [
    "# buffer here\n",
    "here_buffer = here.copy()\n",
    "here_buffer.geometry = here_buffer.buffer(100)\n",
    "\n",
    "# intersect with osm\n",
    "intersect = gpd.overlay(osm,here_buffer)\n",
    "print(intersect.shape[0],'initial matches')\n",
    "\n",
    "# name check\n",
    "intersect['name_check'] = intersect.apply(lambda row: conflation_tools.name_check(row['ST_NM_BASE'],row['name2']),axis=1)\n",
    "intersect.loc[intersect['name2'].isna() & intersect['ST_NM_BASE'].isna(),'name_check'] = None # If both are none change from false to None\n",
    "\n",
    "# calculate hausdorff between intersected feature and original feature\n",
    "merged = pd.merge(intersect,osm[['osm_linkid','geometry']],on='osm_linkid')\n",
    "merged['hausdorff_dist'] = merged.apply(lambda row: row['geometry_x'].hausdorff_distance(row['geometry_y']),axis=1)\n",
    "merged.drop(columns=['geometry_x'],inplace=True)\n",
    "merged.rename(columns={'geometry_y':'geometry'},inplace=True)\n",
    "merged.set_geometry('geometry',inplace=True)\n",
    "\n",
    "# eliminate matches where the name doesn't match\n",
    "export = merged[merged['name_check']!=False]\n",
    "\n",
    "# take match with minimum hausdorff distance\n",
    "min_hausdorff = export.groupby('osm_linkid')['hausdorff_dist'].idxmin()\n",
    "export = export.loc[min_hausdorff]\n",
    "exceed = export['hausdorff_dist'] < 1500\n",
    "print((exceed==False).sum())\n",
    "export = export[exceed]\n",
    "\n",
    "# export to add later\n",
    "cols = ['osm_linkid','here_speed','here_lanes','geometry']\n",
    "export[cols].to_file(config['network_fp']/\"conflation.gpkg\",layer=\"here\")\n",
    "print(export.shape[0],'final matches')"
   ]
  },
  {
   "cell_type": "code",
   "execution_count": 8,
   "id": "ff3f5cfc",
   "metadata": {},
   "outputs": [
    {
     "name": "stdout",
     "output_type": "stream",
     "text": [
      "58338 / 65292 assigned HERE attributes\n",
      "35856 / 73866 assigned to OSM links\n"
     ]
    }
   ],
   "source": [
    "print(export['osm_linkid'].nunique(),'/',osm['osm_linkid'].nunique(),'assigned HERE attributes')\n",
    "print(export['LINK_ID'].nunique(),'/',here['LINK_ID'].nunique(),'assigned to OSM links')"
   ]
  },
  {
   "cell_type": "markdown",
   "id": "8686abbb",
   "metadata": {},
   "source": [
    "# GDOT\n",
    "Either download and store locally or read directly from the website.\n",
    "- Downloads Website: https://www.dot.ga.gov/GDOT/Pages/RoadTrafficData.aspx\n",
    "- Road Inventory: https://www.dot.ga.gov/DriveSmart/Data/Documents/Road_Inventory_Geodatabase.zip\n",
    "- Traffic Data: https://www.dot.ga.gov/DriveSmart/Data/Documents/Traffic_GeoDatabase.zip"
   ]
  },
  {
   "cell_type": "markdown",
   "id": "9faa5739",
   "metadata": {},
   "source": [
    "## Reimport OSM"
   ]
  },
  {
   "cell_type": "code",
   "execution_count": 9,
   "id": "c508c46f",
   "metadata": {},
   "outputs": [],
   "source": [
    "osm = gpd.read_file(config['network_fp'] / 'networks.gpkg',layer='osm_links')\n",
    "osm = osm[osm['link_type']=='road']\n",
    "osm_attrs = gpd.read_file(config['osmdwnld_fp'] / f\"osm_{config['geofabrik_year']}.gpkg\",layer='raw',ignore_geometry=True)\n",
    "cols_to_keep = ['osmid','highway','oneway','name']\n",
    "osm_attrs = osm_attrs[cols_to_keep]\n",
    "osm = pd.merge(osm,osm_attrs[cols_to_keep],on='osmid')\n",
    "del osm_attrs"
   ]
  },
  {
   "cell_type": "markdown",
   "id": "d3a37965",
   "metadata": {},
   "source": [
    "## Import GDOT data"
   ]
  },
  {
   "cell_type": "code",
   "execution_count": 11,
   "id": "68e6d568",
   "metadata": {},
   "outputs": [],
   "source": [
    "studyarea = gpd.read_file(config['network_fp'] / \"base_layers.gpkg\",layer='studyarea_bounds')\n",
    "\n",
    "# gdot lanes\n",
    "gdot_lanes = gpd.read_file(config['gdot_road_inventory_fp'],layer='THROUGH_LANE',mask=studyarea).to_crs(config['projected_crs_epsg']).reset_index()\n",
    "gdot_lanes.rename(columns={'ValueNumeric':'lanes'},inplace=True)\n",
    "gdot_lanes = gdot_lanes[['index','RouteID','lanes','geometry']]\n",
    "\n",
    "# gdot traffic\n",
    "gdot_traffic = gpd.read_file(config['gdot_traffic_fp'],mask=studyarea).to_crs(config['projected_crs_epsg']).reset_index()\n",
    "gdot_traffic['truck_pct'] = ((gdot_traffic['AADTT_CU_T']) / gdot_traffic['AADT'] * 100).round() # took out single unit because the pcts were too high\n",
    "gdot_traffic = gdot_traffic[['index','RouteID','STATISTICS','AADT','truck_pct','geometry']]\n",
    "# in the future look at whether we need to do further processing of the aadt data\n",
    "\n",
    "# add route type\n",
    "gdot_ownership = gpd.read_file(config['gdot_road_inventory_fp'],layer='GA_2021_ROUTES',ignore_geometry=True)[['RouteID','Comments']]\n",
    "gdot_ownership.rename(columns={'Comments':'route_type'},inplace=True)\n",
    "\n",
    "gdot_lanes = pd.merge(gdot_lanes,gdot_ownership,on='RouteID',how='left')\n",
    "gdot_traffic = pd.merge(gdot_traffic,gdot_ownership,on='RouteID',how='left')\n",
    "\n",
    "# drop interstates/ramps\n",
    "gdot_lanes = gdot_lanes[gdot_lanes['route_type'].isin(['Interstate','Ramp'])==False]\n",
    "gdot_traffic = gdot_traffic[gdot_traffic['route_type'].isin(['Interstate','Ramp'])==False]"
   ]
  },
  {
   "cell_type": "markdown",
   "id": "eab68938",
   "metadata": {},
   "source": [
    "## Conflate GDOT Lanes"
   ]
  },
  {
   "cell_type": "code",
   "execution_count": 12,
   "id": "f569c3ea",
   "metadata": {},
   "outputs": [],
   "source": [
    "#for gdot features, it's better to use the full osm way rather than the network version\n",
    "osm = osm.dissolve('osmid').reset_index()"
   ]
  },
  {
   "cell_type": "code",
   "execution_count": 13,
   "id": "b0dc6040",
   "metadata": {},
   "outputs": [
    {
     "name": "stdout",
     "output_type": "stream",
     "text": [
      "63074 initial matches\n",
      "133\n"
     ]
    }
   ],
   "source": [
    "osm_buffer = osm.copy()\n",
    "osm_buffer.geometry = osm_buffer.buffer(100)\n",
    "\n",
    "# intersect with osm\n",
    "intersect = gpd.overlay(gdot_lanes,osm_buffer)\n",
    "print(intersect.shape[0],'initial matches')\n",
    "\n",
    "# calculate hausdorff between intersected feature and original feature\n",
    "merged = pd.merge(intersect,osm[['osmid','geometry']],on='osmid')\n",
    "merged['hausdorff_dist'] = merged.apply(lambda row: row['geometry_x'].hausdorff_distance(row['geometry_y']),axis=1)\n",
    "merged.drop(columns=['geometry_x'],inplace=True)\n",
    "merged.rename(columns={'geometry_y':'geometry'},inplace=True)\n",
    "merged.set_geometry('geometry',inplace=True)\n",
    "\n",
    "# take match with minimum hausdorff distance\n",
    "min_hausdorff = merged.groupby('osmid')['hausdorff_dist'].idxmin()\n",
    "export = merged.loc[min_hausdorff]\n",
    "exceed = export['hausdorff_dist'] < 1500\n",
    "print((exceed==False).sum())\n",
    "export = export[exceed]"
   ]
  },
  {
   "cell_type": "markdown",
   "id": "d2cd55ce",
   "metadata": {},
   "source": [
    "### simplify gdot lanes into lane categories\n"
   ]
  },
  {
   "cell_type": "code",
   "execution_count": 14,
   "id": "64f0abda",
   "metadata": {},
   "outputs": [],
   "source": [
    "# for one way links\n",
    "oneway = export['oneway'] == True\n",
    "oneway_one_lane_per_direction = (export['lanes'] == 1) & oneway\n",
    "oneway_two_lanes_per_direction = (export['lanes'] == 2) & oneway\n",
    "oneway_three_or_more_lanes_per_direction = (export['lanes'] >= 3) & oneway\n",
    "\n",
    "# for two way links\n",
    "twoway_one_lane_per_direction = (export['lanes'] <= 2) & (oneway == False)\n",
    "twoway_two_lanes_per_direction = (export['lanes'] >= 3) & (export['lanes'] <= 4) & (oneway == False)\n",
    "twoway_three_or_more_lanes_per_direction = (export['lanes'] > 5) & (oneway == False)\n",
    "\n",
    "# assign to a new column\n",
    "export['gdot_lanes'] = np.nan\n",
    "export.loc[oneway_one_lane_per_direction | twoway_one_lane_per_direction, 'gdot_lanes'] = 1\n",
    "export.loc[oneway_two_lanes_per_direction | twoway_two_lanes_per_direction, 'gdot_lanes'] = 2\n",
    "export.loc[oneway_three_or_more_lanes_per_direction | twoway_three_or_more_lanes_per_direction, 'gdot_lanes'] = 3"
   ]
  },
  {
   "cell_type": "code",
   "execution_count": 15,
   "id": "929f8fa9",
   "metadata": {},
   "outputs": [
    {
     "name": "stdout",
     "output_type": "stream",
     "text": [
      "18551 final matches\n"
     ]
    }
   ],
   "source": [
    "# export to add back in the export network step\n",
    "cols = ['osmid','route_type','gdot_lanes','geometry']\n",
    "export[cols].to_file(config['network_fp']/\"conflation.gpkg\",layer=\"gdot_lanes\")\n",
    "print(export.shape[0],'final matches')"
   ]
  },
  {
   "cell_type": "code",
   "execution_count": 16,
   "id": "32e58dbc",
   "metadata": {},
   "outputs": [
    {
     "name": "stdout",
     "output_type": "stream",
     "text": [
      "18551 / 20176 assigned GDOT attributes\n",
      "8935 / 13410 assigned to OSM links\n"
     ]
    }
   ],
   "source": [
    "print(export['osmid'].nunique(),'/',osm['osmid'].nunique(),'assigned GDOT attributes')\n",
    "print(export['index'].nunique(),'/',gdot_lanes['index'].nunique(),'assigned to OSM links')"
   ]
  },
  {
   "cell_type": "markdown",
   "id": "3323c005",
   "metadata": {},
   "source": [
    "## Conflate GDOT Traffic"
   ]
  },
  {
   "cell_type": "code",
   "execution_count": 17,
   "id": "c9c4e689",
   "metadata": {},
   "outputs": [
    {
     "name": "stdout",
     "output_type": "stream",
     "text": [
      "61006 initial matches\n",
      "102\n",
      "18578 final matches\n"
     ]
    }
   ],
   "source": [
    "osm_buffer = osm.copy()\n",
    "osm_buffer.geometry = osm_buffer.buffer(100)\n",
    "\n",
    "# intersect with osm\n",
    "intersect = gpd.overlay(gdot_traffic,osm_buffer)\n",
    "print(intersect.shape[0],'initial matches')\n",
    "\n",
    "# calculate hausdorff between intersected feature and original feature\n",
    "merged = pd.merge(intersect,osm[['osmid','geometry']],on='osmid')\n",
    "merged['hausdorff_dist'] = merged.apply(lambda row: row['geometry_x'].hausdorff_distance(row['geometry_y']),axis=1)\n",
    "merged.drop(columns=['geometry_x'],inplace=True)\n",
    "merged.rename(columns={'geometry_y':'geometry'},inplace=True)\n",
    "merged.set_geometry('geometry',inplace=True)\n",
    "\n",
    "# take match with minimum hausdorff distance\n",
    "min_hausdorff = merged.groupby('osmid')['hausdorff_dist'].idxmin()\n",
    "export2 = merged.loc[min_hausdorff]\n",
    "exceed = export2['hausdorff_dist'] < 1500\n",
    "print((exceed==False).sum())\n",
    "export2 = export2[exceed]\n",
    "\n",
    "# export to add back in the export network step\n",
    "cols = ['osmid','AADT','truck_pct','geometry']\n",
    "export2[cols].to_file(config['network_fp']/\"conflation.gpkg\",layer=\"gdot_traffic\")\n",
    "print(export2.shape[0],'final matches')"
   ]
  },
  {
   "cell_type": "code",
   "execution_count": 18,
   "id": "01841af5",
   "metadata": {},
   "outputs": [
    {
     "name": "stdout",
     "output_type": "stream",
     "text": [
      "18578 / 20176 assigned GDOT traffic attributes\n",
      "8358 / 12017 assigned to OSM links\n"
     ]
    }
   ],
   "source": [
    "print(export2['osmid'].nunique(),'/',osm['osmid'].nunique(),'assigned GDOT traffic attributes')\n",
    "print(export2['index'].nunique(),'/',gdot_traffic['index'].nunique(),'assigned to OSM links')"
   ]
  },
  {
   "cell_type": "code",
   "execution_count": 19,
   "id": "2a198a91",
   "metadata": {},
   "outputs": [],
   "source": [
    "#export.hist('AADT',bins=100)\n",
    "#export['AADT'].describe()"
   ]
  },
  {
   "cell_type": "code",
   "execution_count": 20,
   "id": "84c68efe",
   "metadata": {},
   "outputs": [],
   "source": [
    "#arc = gpd.read_file(config['abm_fp'],layer='DAILY')"
   ]
  },
  {
   "cell_type": "code",
   "execution_count": null,
   "id": "9d6d813f",
   "metadata": {},
   "outputs": [],
   "source": [
    "# # OLD CODE\n",
    "# ## Step 2 Network Reconciliation (In Development, skip for now)\n",
    "# ---\n",
    "# Use this notebook to setup a semi-automated reconciliation process between networks using functions available in 'conflation_tools.py' and 'network_reconcile.py.'\n",
    "\n",
    "# In general, you want to select one network to act as the base network (ground-truth) and add network data/attributes from the other networks.\n",
    "\n",
    "# These are the main functions in the conflation_tools module (type help(function_name) for a detailed description):\n",
    "# - match_nodes: finds node pairs between base and join network\n",
    "# - split_lines_create_points: Uses points from the join network to split links in the base network\n",
    "# - add_split_links: add the split links\n",
    "\n",
    "# From network_filter\n",
    "# - add_ref_ids: adds new reference ids from the nodes layer\n",
    "\n",
    "# Once finished reconciling, network can be exported for further manual reconciling or it can be prepped for network routing in BikewaySim.\n",
    "\n",
    "# type \"help(insert_name_of_function)\" to get more information about what the function does.\n",
    "# ## Adding and processing attribute data\n",
    "# These functions add in relevant attributes from the '.pkl' created in Step 1, or process supplemental data such as bicycle inventories.\n",
    "\n",
    "# The following three functions add attribute data back into the network and pre-processes it to match up with the desired impedance columns. These are custom network specific functions, so if adding a new network, will need to make another specific function.\n",
    "# - add_osm_attr\n",
    "# - add_here_attr\n",
    "# - add_abm_attr\n",
    "# # GDOT Project\n",
    "# ---\n",
    "# ### Add HERE road data to the OSM road data\n",
    "# # project directory\n",
    "# project_dir = Path.home() / 'Documents/BikewaySimData/Projects/gdot/networks'\n",
    "# osm_links = gpd.read_file(project_dir / 'filtered.gpkg',layer='osm_links')\n",
    "# osm_nodes = gpd.read_file(project_dir / 'filtered.gpkg',layer='osm_nodes')\n",
    "\n",
    "# osm_links = add_attributes.add_osm_attr(osm_links,project_dir / 'osm_attr.pkl')\n",
    "# # filter to roads\n",
    "# osm_road_links = osm_links[osm_links['link_type']=='road']\n",
    "# #osm_road_links = add_attributes.add_osm_attr(osm_road_links,project_dir / 'osm_attr.pkl')\n",
    "# osm_road_nodes = osm_nodes[osm_nodes['osm_N'].isin(osm_road_links['osm_A'].append(osm_road_links['osm_B']))]\n",
    "# #import here road layer\n",
    "# here_links = gpd.read_file(project_dir / 'filtered.gpkg',layer='here_links')\n",
    "# here_road_links = here_links[here_links['link_type']=='road']\n",
    "\n",
    "# #add attributes back\n",
    "# here_road_links = add_attributes.add_here_attr(here_road_links,project_dir / 'here_attr.pkl')\n",
    "# #function for adding attributes of one network network to another\n",
    "# road_links, overlapping = conflation_tools.add_attributes(\n",
    "#     osm_road_links, here_road_links, 'here', 100, 5, True)\n",
    "# This block modifies the street name attribute to compare the OSM street name vs the HERE assigned street name\n",
    "# street_names = dict(zip(osm_road_links['temp_ID'],osm_road_links['name']))\n",
    "# overlapping['name'] = overlapping['temp_ID'].map(street_names)\n",
    "\n",
    "# overlapping['match name'] = overlapping['ST_NAME'].apply(lambda row: conflation_tools.simplify_names(row))\n",
    "# overlapping['name'] = overlapping['name'].str.lower()\n",
    "\n",
    "# ## Use these columns to examine the match quality\n",
    "# #check name\n",
    "# overlapping['name_check'] = overlapping['match name'] == overlapping['name']\n",
    "\n",
    "# #check overlap\n",
    "# overlapping['overlap_check'] = overlapping['percent_overlap'] > 0.9\n",
    "\n",
    "# #check bearing diff\n",
    "# overlapping['bearing_check'] = overlapping['bearing_diff'] < 5\n",
    "\n",
    "# #final check\n",
    "# overlapping['final_check'] = overlapping.apply(lambda row: row['name_check']+row['overlap_check']+row['bearing_check'],axis=1)\n",
    "\n",
    "# #drop 0s\n",
    "# overlapping = overlapping[overlapping['final_check'] >= 1]\n",
    "\n",
    "# #only keep max for each max\n",
    "# keep = overlapping.groupby('temp_ID')['final_check'].idxmax().to_list()\n",
    "# keep = overlapping.loc[keep]\n",
    "# ## Add the here link id and export\n",
    "# #only keep here cols\n",
    "# remove_cols = set(osm_road_links.columns.tolist())\n",
    "# remove_cols.remove('temp_ID')\n",
    "# remove_cols = remove_cols & set(keep.columns.tolist())\n",
    "# keep.drop(columns=remove_cols,inplace=True)\n",
    "# # replace temp_id with the linkid\n",
    "# replace_temp_id = dict(zip(osm_road_links['temp_ID'],osm_road_links['osm_linkid']))\n",
    "# keep['osm_linkid'] = keep['temp_ID'].map(replace_temp_id)\n",
    "# keep.drop(columns=['temp_ID'],inplace=True)\n",
    "# osm_links = pd.merge(osm_links,keep,on='osm_linkid')\n",
    "\n",
    "# # osm_links.rename(columns={'osm_A':'A','osm_B':'B','osm_linkid':'linkid'},inplace=True)\n",
    "# # osm_nodes.rename(columns={'osm_N':'N'},inplace=True)\n",
    "# osm_links.to_file(project_dir/'reconciled.gpkg',layer='links')\n",
    "# #osm_nodes.to_file(project_dir/'reconciled.gpkg',layer='nodes')\n",
    "# # #import bike layer\n",
    "# # bike_links = merged[merged['link_type']=='bike']\n",
    "# # bike_nodes = gpd.read_file(project_dir / 'filtered.gpkg',layer='osm_nodes')\n",
    "# # bike_nodes = bike_nodes[bike_nodes['osm_N'].isin(bike_links['osm_A'].append(bike_links['osm_B']))]\n",
    "# # Hold off on this until the right before routing, this should only be for speeding up routing\n",
    "# #simplify the graph by removing interstital nodes\n",
    "# #merged = conflation_tools.remove_interstitial_nodes(osm_links,'osm_A','osm_B','osmid','osm_linkid',ignore_id=False)\n",
    "# # #Re-calculate the azimuth/bearing\n",
    "# # import pyproj\n",
    "# # prev_crs = merged.crs\n",
    "# # merged.to_crs('epsg:4326',inplace=True)\n",
    "# # merged[['fwd_azimuth','bck_azimuth']] = merged.apply(lambda row: modeling_turns.find_azimuth(row), axis=1)\n",
    "# # merged.to_crs(prev_crs,inplace=True)\n",
    "\n",
    "# # import network_filter\n",
    "\n",
    "# # nodes = gpd.read_file(project_dir / 'filtered.gpkg',layer='osm_nodes')\n",
    "\n",
    "# # #reassign link node ids\n",
    "# # ref_nodes_added = network_filter.add_ref_ids(merged,nodes,'osm')\n",
    "# # #get node count to find dead ends\n",
    "# # bike_nodes['num_links'] = bike_nodes['osm_N'].map(pd.concat([bike_links['osm_A'],bike_links['osm_B']],ignore_index=True).value_counts())\n",
    "# # dead_ends = bike_nodes[bike_nodes['num_links']==1]\n",
    "\n",
    "# # #remove dead ends already connected to road network\n",
    "# # dead_ends = dead_ends[-dead_ends['osm_N'].isin(osm_road_nodes['osm_N'])]\n",
    "\n",
    "# # #use full network to fix disconnected links from dead ends (road crossing breaks etc)\n",
    "# # osm_links = gpd.read_file(project_dir / 'filtered.gpkg',layer='osm_links')\n",
    "# # osm_nodes = gpd.read_file(project_dir / 'filtered.gpkg',layer='osm_nodes')\n",
    "# # connectors = conflation_tools.find_path(osm_links,osm_nodes,'osm',osm_road_nodes,dead_ends,100)\n",
    "# # connectors.explore()\n",
    "# # links = pd.concat([osm_road_links,connectors,bike_links],ignore_index=True).drop_duplicates()\n",
    "# # nodes = pd.concat([osm_road_nodes,bike_nodes],ignore_index=True)\n",
    "# # #create unique link id column (make sure to find the max linkid using the full dataset)\n",
    "# # max_linkid = int(links['osm_linkid'].max())\n",
    "# # links.loc[links['osm_linkid'].isna(),'osm_linkid'] = range(max_linkid+1,max_linkid+links['osm_linkid'].isna().sum()+1)\n",
    "# ## Remove isolated nodes/links\n",
    "# # before_links = links.shape[0]\n",
    "# # before_nodes = nodes.shape[0]\n",
    "\n",
    "# # #create undirected graph\n",
    "# # G = nx.Graph()  # create directed graph\n",
    "# # for row in links[['osm_A','osm_B']].itertuples(index=False):\n",
    "# #     # forward graph, time stored as minutes\n",
    "# #     G.add_edges_from([(row[0],row[1])])\n",
    "\n",
    "# # #only keep largest component\n",
    "# # largest_cc = max(nx.connected_components(G), key=len)\n",
    "\n",
    "# # #get nodes\n",
    "# # nodes = nodes[nodes['osm_N'].isin(largest_cc)]\n",
    "# # #get links\n",
    "# # links = links[links['osm_A'].isin(largest_cc) & links['osm_B'].isin(largest_cc)]\n",
    "\n",
    "# # print('Links removed:',before_links-links.shape[0],'Nodes removed:',before_nodes-nodes.shape[0])\n",
    "# # links.rename(columns={'osm_A':'A','osm_B':'B','osm_linkid':'linkid'},inplace=True)\n",
    "# # nodes.rename(columns={'osm_N':'N'},inplace=True)\n",
    "# # #export\n",
    "# # links.to_file(project_dir / 'reconciled_network.gpkg',layer='links')\n",
    "# # nodes.to_file(project_dir / 'reconciled_network.gpkg',layer='nodes')\n",
    "# # Assessing Bike-Transit Accessibility\n",
    "# ---\n",
    "# The code blocks below this are for creating a network to use for transitsim. Only uses OSM.\n",
    "# # # project directory\n",
    "# # project_dir = Path.home() / 'Documents/TransitSimData/Data/networks'\n",
    "\n",
    "# # #import osm road layer\n",
    "# # osm_road_links = gpd.read_file(project_dir / 'filtered.gpkg',layer='osm_links')\n",
    "# # osm_road_links = osm_road_links[osm_road_links['link_type']=='road']\n",
    "# # osm_road_nodes = gpd.read_file(project_dir / 'filtered.gpkg',layer='osm_nodes')\n",
    "# # osm_road_nodes = osm_road_nodes[osm_road_nodes['osm_N'].isin(osm_road_links['osm_A'].append(osm_road_links['osm_B']))]\n",
    "\n",
    "# # #import bike layer\n",
    "# # bike_links = gpd.read_file(project_dir / 'filtered.gpkg',layer='osm_links')\n",
    "# # bike_links = bike_links[bike_links['link_type']=='bike']\n",
    "# # bike_nodes = gpd.read_file(project_dir / 'filtered.gpkg',layer='osm_nodes')\n",
    "# # bike_nodes = bike_nodes[bike_nodes['osm_N'].isin(bike_links['osm_A'].append(bike_links['osm_B']))]\n",
    "\n",
    "# # #get node count to find dead ends\n",
    "# # bike_nodes['num_links'] = bike_nodes['osm_N'].map(pd.concat([bike_links['osm_A'],bike_links['osm_B']],ignore_index=True).value_counts())\n",
    "# # dead_ends = bike_nodes[bike_nodes['num_links']==1]\n",
    "\n",
    "# # #remove dead ends already connected to road network\n",
    "# # dead_ends = dead_ends[-dead_ends['osm_N'].isin(osm_road_nodes['osm_N'])]\n",
    "\n",
    "# # #use full network to fix disconnected links from dead ends (road crossing breaks etc)\n",
    "# # #connectors are assigned a new unique link id before export\n",
    "# # osm_links = gpd.read_file(project_dir / 'filtered.gpkg',layer='osm_links')\n",
    "# # osm_nodes = gpd.read_file(project_dir / 'filtered.gpkg',layer='osm_nodes')\n",
    "# # connectors = conflation_tools.find_path(osm_links,osm_nodes,'osm',osm_road_nodes,dead_ends,50)\n",
    "\n",
    "# # #add connectors, bike links, and the new nodes\n",
    "# # links = pd.concat([osm_road_links,connectors,bike_links],ignore_index=True).drop_duplicates()\n",
    "# # nodes = pd.concat([osm_road_nodes,bike_nodes],ignore_index=True).drop_duplicates()\n",
    "# # #create unique link id column (make sure to find the max linkid using the full dataset)\n",
    "# # max_linkid = int(osm_links['osm_linkid'].max())\n",
    "# # links.loc[links['osm_linkid'].isna(),'osm_linkid'] = range(max_linkid+1,max_linkid+links['osm_linkid'].isna().sum()+1)\n",
    "# # #add attributes\n",
    "# # links = add_osm_attr(links, project_dir / 'osm_attr.pkl')\n",
    "\n",
    "# # #export\n",
    "# # links.to_file(project_dir / 'reconciled_network.gpkg',layer='links')\n",
    "# # nodes.to_file(project_dir / 'reconciled_network.gpkg',layer='nodes')\n"
   ]
  }
 ],
 "metadata": {
  "kernelspec": {
   "display_name": "Python 3 (ipykernel)",
   "language": "python",
   "name": "python3"
  },
  "language_info": {
   "codemirror_mode": {
    "name": "ipython",
    "version": 3
   },
   "file_extension": ".py",
   "mimetype": "text/x-python",
   "name": "python",
   "nbconvert_exporter": "python",
   "pygments_lexer": "ipython3",
   "version": "3.9.13"
  },
  "varInspector": {
   "cols": {
    "lenName": 16,
    "lenType": 16,
    "lenVar": 40
   },
   "kernels_config": {
    "python": {
     "delete_cmd_postfix": "",
     "delete_cmd_prefix": "del ",
     "library": "var_list.py",
     "varRefreshCmd": "print(var_dic_list())"
    },
    "r": {
     "delete_cmd_postfix": ") ",
     "delete_cmd_prefix": "rm(",
     "library": "var_list.r",
     "varRefreshCmd": "cat(var_dic_list()) "
    }
   },
   "types_to_exclude": [
    "module",
    "function",
    "builtin_function_or_method",
    "instance",
    "_Feature"
   ],
   "window_display": false
  }
 },
 "nbformat": 4,
 "nbformat_minor": 5
}

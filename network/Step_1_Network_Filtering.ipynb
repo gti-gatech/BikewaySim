{
 "cells": [
  {
   "attachments": {},
   "cell_type": "markdown",
   "id": "80a640f3",
   "metadata": {},
   "source": [
    "# Step 1: Network Filtering and Processing\n",
    "---\n",
    "Run this code block by block to convert a street network in ESRI Shapefile, GeoJSON, or GeoPackage format into a routable and conflated network graph to use in BikewaySim.\n",
    "\n",
    "Three networks were used in this project. While code to obtain OSM GeoJSONs has been included with downloading OSM notebook, the ABM and HERE networks need to be sourced from the Atlanta Regional Commission and HERE respectively."
   ]
  },
  {
   "attachments": {},
   "cell_type": "markdown",
   "id": "e87f928d",
   "metadata": {},
   "source": [
    "#### Import Modules"
   ]
  },
  {
   "cell_type": "code",
   "execution_count": 1,
   "id": "bc1d9dd7",
   "metadata": {},
   "outputs": [],
   "source": [
    "from pathlib import Path\n",
    "import geopandas as gpd\n",
    "import numpy as np\n",
    "\n",
    "import src.network_filter as network_filter"
   ]
  },
  {
   "attachments": {},
   "cell_type": "markdown",
   "id": "22ab851b",
   "metadata": {},
   "source": [
    "# General Settings Dictionary\n",
    "---\n",
    "The only input needed for this code is the project directory and the settings dictionary. The settings dictionary has 6 inputs that are commented out below. Note that subsequent code blocks were used for other runs, and should be left commented out so it doesn't overwrite the settings dictionary."
   ]
  },
  {
   "cell_type": "code",
   "execution_count": 2,
   "id": "3298b3df",
   "metadata": {},
   "outputs": [],
   "source": [
    "settings = {\n",
    "    'project_filepath': Path.home() / 'Documents/BikewaySimData/Projects/gdot', # will create a networks folder in this directory\n",
    "    'project_crs': \"epsg:2240\", # output CRS that all exported files will be in\n",
    "    'studyarea_filepath': Path.home()/'Documents/BikewaySimData/Data/Study Areas/itp.gpkg',\n",
    "    'studyarea_layer': None, # use if a gpkg or gdb file with multiple layers\n",
    "    'use_bbox': True # use bounding box of the study area rather than the perimeter\n",
    "}"
   ]
  },
  {
   "attachments": {},
   "cell_type": "markdown",
   "id": "51bd52fb",
   "metadata": {},
   "source": [
    "#### Import study area:\n",
    "Specify what area you want to mask the network data by. Only network links that are partially or fully within the study area will be imported. Note: network links are NOT clipped (because this cuts off nodes)."
   ]
  },
  {
   "cell_type": "code",
   "execution_count": 3,
   "id": "54c799d1",
   "metadata": {},
   "outputs": [
    {
     "name": "stdout",
     "output_type": "stream",
     "text": [
      "The study area is 251.23 square miles.\n"
     ]
    }
   ],
   "source": [
    "#Adds study area geodataframe to settings dictionary\n",
    "settings['studyarea'] = network_filter.import_study_area(settings)"
   ]
  },
  {
   "attachments": {},
   "cell_type": "markdown",
   "id": "4b17093a",
   "metadata": {},
   "source": [
    "# Run Network Filter Module to Create General, Road, Bike, and Service Layers\n",
    "---\n",
    "From the network_filter.py file run the filter networks function. This will first import the spatial data and then filter the data into a raw, general, road, bike, and serivce layer as long as the filters have been pre-defined within the respective function within 'network_filter.py.'\n",
    "\n",
    "**Note: If this is the a new network that is not OSM, HERE, or ABM then specify a new filter method by going into the 'network_filter.py' script. Otherwise, none of the links will be filtered into road/bike/service layers.**\n",
    "\n",
    "**Imported networks will be projected to CRS defined in the settings dictionary**\n",
    "\n",
    "When entering a new filter, search for the following functions: 'filter_to_general', 'filter_to_road', 'filter_to_bike', and 'filter_to_service.' Then add the network name as a new if statement.\n",
    "\n",
    "If the filters have been specified (by default there are filters for networks that are named 'osm', 'here', and 'osm') then fill in the dictionary and run the 'filter_networks' function with settings dictionary and network dictionary. The network dictionary has the following keys.\n",
    "\n",
    "- 'network_name': text name of the network (by defualt accepts 'abm','here','here')\n",
    "- 'links_fp': the filepath of the original links network data (must have a value)\n",
    "- 'links_layer': if the file is a geopackage or geodatabase then use this to specify the layer to import\n",
    "- 'nodes_fp': the filepath of the nodes data if available (replace with None if not available)\n",
    "- 'nodes_layer': if the file is a geopackage or geodatabase then use this to specify the layer to import\n",
    "- 'nodes_id': indicates the column name that contains the unique ids for each node (replace with None if not available)\n",
    "- 'A': indicates the starting node id column name for the links (replace with None if not available)\n",
    "- 'B': indicates the ending node id column name for the links (replace with None if not available)"
   ]
  },
  {
   "attachments": {},
   "cell_type": "markdown",
   "id": "0e57b811",
   "metadata": {},
   "source": [
    "# OpenStreetMap (OSM) Filtering\n",
    "---\n",
    "OSM is an open-source mapping project (see www.openstreetmap.org). OSM network data can be downloaded using the \"Step 0 Downloading OSM.ipynb\" Jupyter Notebook.\n",
    "\n",
    "#### General Layer Filtering\n",
    "- Remove interstates and interstate ramps (highway = motorway | motorway_link)\n",
    "- Remove sidewalks unless bicycles explicitly allowed (footway = sidewalk | crossing unless bicycle = yes)\n",
    "\n",
    "#### Road Layer Filtering\n",
    "- Keep service roads that have a street name (highway = service and name is not null)\n",
    "- Keep links with the following keys for the highway tag: 'primary','primary_link','residential','secondary','secondary_link','tertiary','tertiary_link','trunk','trunk_link'\n",
    "\n",
    "#### Bike Layer Filtering\n",
    "- Include links with the following keys for the 'highway' tag: 'cycleway','footway','path','pedestrian','steps'\n",
    "\n",
    "#### Service Layer Filtering\n",
    "- Include links with the key of 'service' for the 'highway' tag unless they have a name"
   ]
  },
  {
   "cell_type": "code",
   "execution_count": 4,
   "id": "8439eb41",
   "metadata": {},
   "outputs": [
    {
     "name": "stdout",
     "output_type": "stream",
     "text": [
      "Filtering the osm network.\n",
      "Provided linkid is not unique.\n",
      "Generating unique link ids.\n",
      "There is a nodes layer...\n",
      "but no reference ids for links.\n"
     ]
    },
    {
     "name": "stderr",
     "output_type": "stream",
     "text": [
      "c:\\Users\\tpassmore6\\Anaconda3\\envs\\geo-env\\lib\\site-packages\\pandas\\core\\dtypes\\cast.py:118: ShapelyDeprecationWarning: The array interface is deprecated and will no longer work in Shapely 2.0. Convert the '.coords' to a numpy array instead.\n",
      "  arr = construct_1d_object_array_from_listlike(values)\n",
      "c:\\Users\\tpassmore6\\Anaconda3\\envs\\geo-env\\lib\\site-packages\\pandas\\core\\dtypes\\cast.py:118: ShapelyDeprecationWarning: The array interface is deprecated and will no longer work in Shapely 2.0. Convert the '.coords' to a numpy array instead.\n",
      "  arr = construct_1d_object_array_from_listlike(values)\n"
     ]
    },
    {
     "name": "stdout",
     "output_type": "stream",
     "text": [
      "Reference IDs successfully added to links.\n",
      "osm imported... took 1.21 minutes\n"
     ]
    }
   ],
   "source": [
    "osm = {\n",
    "       \"network_name\": 'osm',\n",
    "       \"edges_filepath\": settings['project_filepath'] / \"networks/osm_links.pkl\", \n",
    "       \"edges_layer\": None, \n",
    "       \"nodes_filepath\": settings['project_filepath'] / \"networks/osm_nodes.pkl\", \n",
    "       \"nodes_layer\": None,\n",
    "       \"nodes_id\": \"osmid\",\n",
    "       \"A\": None,\n",
    "       \"B\": None,\n",
    "       \"linkid\": 'osmid'\n",
    "       }\n",
    "\n",
    "links, nodes = network_filter.filter_networks(settings,osm)"
   ]
  },
  {
   "cell_type": "code",
   "execution_count": 5,
   "id": "1a0bfa08",
   "metadata": {},
   "outputs": [],
   "source": [
    "#drop anything with highway == na\n",
    "links = links[~links['highway'].isna()]"
   ]
  },
  {
   "cell_type": "markdown",
   "metadata": {},
   "source": [
    "## Define link types"
   ]
  },
  {
   "cell_type": "markdown",
   "metadata": {},
   "source": [
    "#### Remove types\n",
    "- Remove interstates and interstate ramps\n",
    "- Remove sidewalks unless bicycles explicitly allowed\n",
    "- Remove anything with access = \"no\"\n",
    "- Remove any unpaved footways or paths surface = \"dirt\""
   ]
  },
  {
   "cell_type": "code",
   "execution_count": 6,
   "id": "7877754a",
   "metadata": {},
   "outputs": [],
   "source": [
    "#initialize an empty column to populate\n",
    "links['link_type'] = np.nan\n"
   ]
  },
  {
   "cell_type": "markdown",
   "id": "bd0d22d5",
   "metadata": {},
   "source": [
    "## Restricted access"
   ]
  },
  {
   "cell_type": "code",
   "execution_count": 7,
   "id": "ad567649",
   "metadata": {},
   "outputs": [],
   "source": [
    "#remove restricted access roads\n",
    "restr_access = links['highway'].isin(['motorway','motorway_link'])\n",
    "links.loc[restr_access & links['link_type'].isna(),'link_type'] = 'restricted_access_road'\n",
    "\n",
    "#private/no access or closed road\n",
    "no_access = (links['access'].isin(['no','private','permit'])) | (links['highway'] == 'disused')\n",
    "links.loc[no_access & links['link_type'].isna(),'link_type'] = 'no_access_or_private'\n"
   ]
  },
  {
   "cell_type": "markdown",
   "id": "8aef675d",
   "metadata": {},
   "source": [
    "## Bike and Pedestrian Links (no cars allowed)\n"
   ]
  },
  {
   "cell_type": "code",
   "execution_count": 8,
   "id": "832db6e2",
   "metadata": {},
   "outputs": [],
   "source": [
    "#bicycle riding is allowed (no implies bike can still be walked)\n",
    "bike_allowed = links['bicycle'].isin(['yes','permitted','designated'])\n",
    "\n",
    "#sidewalks and crossings (helpful to identify these seperately so they can be removed)\n",
    "sidewalks = links['footway'].isin(['sidewalk','crossing'])\n",
    "links.loc[(~bike_allowed & sidewalks) & links['link_type'].isna(),'link_type'] = 'sidewalk_or_crossing'\n",
    "\n",
    "#ped only links that still provide additional connectivity\n",
    "#also dirt trails/paths\n",
    "#we probably don't want these but they might be essential for connectivity\n",
    "pedestrian = links['highway'].isin(['path','track','pedestrian','steps','corridor','footway'])\n",
    "links.loc[(pedestrian & ~bike_allowed) & links['link_type'].isna(),'link_type'] = 'pedestrian'\n",
    "\n",
    "#bike specific and ped links where cycling is explicictly tagged as allowed\n",
    "conditions = links[\"highway\"]=='cycleway'\n",
    "links.loc[(conditions | bike_allowed) & links['link_type'].isna() ,'link_type'] = 'bike'"
   ]
  },
  {
   "cell_type": "markdown",
   "metadata": {},
   "source": [
    "#### Public and service roads"
   ]
  },
  {
   "cell_type": "code",
   "execution_count": 9,
   "id": "b77c2d35",
   "metadata": {},
   "outputs": [],
   "source": [
    "#parking lot aisles and driveways\n",
    "parking_and_driveways = links['service'].isin(['parking_aisle','driveway'])\n",
    "links.loc[parking_and_driveways & links['link_type'].isna(),'link_type'] = 'parking_and_driveways'\n",
    "\n",
    "#service roads that aren't parking lots or driveways (and don't have names)\n",
    "conditions = (links['highway'] == 'service') & (links['name'].isnull())\n",
    "links.loc[conditions & links['link_type'].isna(),'link_type'] = 'service'\n",
    "\n",
    "#find service links that still have a name\n",
    "service_links_with_name = (links['highway'] == 'service') & (links['name'].isnull() == False)\n",
    "\n",
    "#unclassified added 8/14/23 because there are several roads in Atlanta region marked this despite being public roads\n",
    "osm_filter_method = ['primary','primary_link','residential','secondary','secondary_link',\n",
    "                    'tertiary','tertiary_link','trunk','trunk_link','unclassified','living_street'\n",
    "                    'service','living_street'] \n",
    "osm_filter_method = links[\"highway\"].isin(osm_filter_method)\n",
    "\n",
    "#add back in service links with a name\n",
    "conditions = osm_filter_method | service_links_with_name\n",
    "links.loc[conditions & links['link_type'].isna(),'link_type'] = 'road'"
   ]
  },
  {
   "cell_type": "markdown",
   "metadata": {},
   "source": [
    "### NAs\n",
    "Be sure to check if all links have been classified. Some OSM highway tags aren't clear and might need to be added on a case by case basis (e.g., track, construction, living_street)."
   ]
  },
  {
   "cell_type": "code",
   "execution_count": 10,
   "id": "3762d468",
   "metadata": {},
   "outputs": [
    {
     "data": {
      "text/plain": [
       "0"
      ]
     },
     "execution_count": 10,
     "metadata": {},
     "output_type": "execute_result"
    }
   ],
   "source": [
    "links['link_type'].isna().sum()"
   ]
  },
  {
   "cell_type": "markdown",
   "metadata": {},
   "source": [
    "### Export"
   ]
  },
  {
   "cell_type": "code",
   "execution_count": 11,
   "metadata": {},
   "outputs": [
    {
     "name": "stdout",
     "output_type": "stream",
     "text": [
      "Export took 0.56 minutes\n"
     ]
    }
   ],
   "source": [
    "network_filter.export(links,nodes,'osm',settings)\n",
    "del links, nodes"
   ]
  },
  {
   "cell_type": "markdown",
   "id": "a4890115",
   "metadata": {},
   "source": [
    "# HERE Filtering\n",
    "---\n",
    "HERE is licensed data typically used for logistics.\n",
    "\n",
    "#### General Layer Filtering\n",
    "- Remove interstates and interstate ramps (controlled access = yes or ramp = yes) that don't allow bikes\n",
    "\n",
    "#### Road Layer Filtering\n",
    "- Keep all links that allow automobile access (ar_auto = yes)\n",
    "- Remove links with a speed limit < 6 mph (speed_cat = 8) as these are driveways\n",
    "\n",
    "#### Bike Layer Filtering\n",
    "- All links that do not allow auto access (ar_auto = no)\n",
    "\n",
    "#### Service Layer Filtering\n",
    "- All links that allow auto access with a speed limit < 6mph (ar_auto = y and speed_cat = 8)"
   ]
  },
  {
   "cell_type": "code",
   "execution_count": 12,
   "id": "6d14d786",
   "metadata": {},
   "outputs": [
    {
     "name": "stdout",
     "output_type": "stream",
     "text": [
      "Filtering the here network.\n",
      "no nodes layer\n",
      "but links have reference ids\n"
     ]
    },
    {
     "name": "stderr",
     "output_type": "stream",
     "text": [
      "c:\\Users\\tpassmore6\\Anaconda3\\envs\\geo-env\\lib\\site-packages\\pandas\\core\\dtypes\\cast.py:118: ShapelyDeprecationWarning: The array interface is deprecated and will no longer work in Shapely 2.0. Convert the '.coords' to a numpy array instead.\n",
      "  arr = construct_1d_object_array_from_listlike(values)\n",
      "c:\\Users\\tpassmore6\\Anaconda3\\envs\\geo-env\\lib\\site-packages\\pandas\\core\\dtypes\\cast.py:118: ShapelyDeprecationWarning: The array interface is deprecated and will no longer work in Shapely 2.0. Convert the '.coords' to a numpy array instead.\n",
      "  arr = construct_1d_object_array_from_listlike(values)\n"
     ]
    },
    {
     "name": "stdout",
     "output_type": "stream",
     "text": [
      "here imported... took 1.18 minutes\n"
     ]
    }
   ],
   "source": [
    "here = {\n",
    "       \"network_name\": 'here', # name for network\n",
    "       \"edges_filepath\": Path.home() / 'Documents/BikewaySimData/Data/HERE/Streets.shp', #filepath for the links\n",
    "       \"edges_layer\":None, # layer name for links if gpkg or gdb\n",
    "       \"nodes_filepath\": None, # if there is not a nodes file put None\n",
    "       \"nodes_layer\": None, # layer name for nodes if gpkg or gdb (put none if no nodes)\n",
    "       \"nodes_id\": None, # column name of node id (put none if no node id)\n",
    "       \"A\": \"REF_IN_ID\", # starting node id reference column on links (put none if no reference links)\n",
    "       \"B\": \"NREF_IN_ID\", # starting node id reference column on links (put none if no reference links)\n",
    "       \"linkid\": 'LINK_ID'\n",
    "       }\n",
    "\n",
    "links, nodes = network_filter.filter_networks(settings,here)"
   ]
  },
  {
   "cell_type": "code",
   "execution_count": 13,
   "id": "d3a97c82",
   "metadata": {},
   "outputs": [],
   "source": [
    "#initialize an empty column to populate\n",
    "links['link_type'] = np.nan"
   ]
  },
  {
   "cell_type": "code",
   "execution_count": 14,
   "id": "b3b03c88",
   "metadata": {},
   "outputs": [
    {
     "name": "stdout",
     "output_type": "stream",
     "text": [
      "Export took 0.54 minutes\n"
     ]
    }
   ],
   "source": [
    "#remove controlled access roads and ramps\n",
    "controlled_access = (links['CONTRACC'].str.contains('Y')) | (links['RAMP'].str.contains('Y'))\n",
    "links.loc[controlled_access & links['link_type'].isna(),'link_type'] = 'restricted_access_road'\n",
    "\n",
    "# road filters\n",
    "road_links = (links['AR_AUTO'].str.contains('Y')) & (links['SPEED_CAT'].str.contains('8') == False)\n",
    "links.loc[road_links & links['link_type'].isna(),'link_type'] = 'road'\n",
    "\n",
    "# bike filters\n",
    "bike_links = links['AR_AUTO'].str.contains('N')\n",
    "links.loc[bike_links & links['link_type'].isna(),'link_type'] = 'bike'\n",
    "\n",
    "# service filters\n",
    "service_links = (links['AR_AUTO'].str.contains('Y')) & (links['SPEED_CAT'].str.contains('8'))\n",
    "links.loc[service_links & links['link_type'].isna(),'link_type'] = 'service'\n",
    "\n",
    "network_filter.export(links,nodes,'here',settings)\n",
    "del links, nodes"
   ]
  },
  {
   "cell_type": "markdown",
   "id": "70c97937",
   "metadata": {},
   "source": [
    "# ABM Filtering\n",
    "---\n",
    "This is the modeling network used in the Atlanta Regional Commission's Activity Based Model. It was provided by the ARC and is available on request.\n",
    "\n",
    "#### General Layer Filtering\n",
    "- Remove all links except for principal arterials, minor arterials, collectors, and local roads (FACTYPE = 10, 11, or 14)\n",
    "\n",
    "#### Road Layer Filtering\n",
    "- The filtering done in the previous step was enough, no further filtering needed\n",
    "\n",
    "#### Bike Layer Filtering\n",
    "- No bike links present\n",
    "\n",
    "#### Service Layer Filtering\n",
    "- No service links present"
   ]
  },
  {
   "cell_type": "code",
   "execution_count": 15,
   "id": "618ba9d0",
   "metadata": {},
   "outputs": [
    {
     "name": "stdout",
     "output_type": "stream",
     "text": [
      "Filtering the abm network.\n",
      "There is a nodes layer...\n",
      "and links and nodes have reference ids.\n",
      "abm imported... took 0.21 minutes\n"
     ]
    }
   ],
   "source": [
    "abm = {\n",
    "       \"network_name\": 'abm',\n",
    "       \"edges_filepath\": Path.home() / 'Documents/BikewaySimData/Data/ARC/rtp_amd6_2030_network.gdb',\n",
    "       \"edges_layer\":\"DAILY_Link\",\n",
    "       \"nodes_filepath\": Path.home() / 'Documents/BikewaySimData/Data/ARC/rtp_amd6_2030_network.gdb',\n",
    "       \"nodes_layer\":\"DAILY_Node\",\n",
    "       \"nodes_id\": \"N\",\n",
    "       \"A\": \"A\",\n",
    "       \"B\": \"B\",\n",
    "       \"linkid\": \"A_B\"\n",
    "       }\n",
    "\n",
    "links, nodes = network_filter.filter_networks(settings,abm)"
   ]
  },
  {
   "cell_type": "code",
   "execution_count": 16,
   "metadata": {},
   "outputs": [
    {
     "name": "stderr",
     "output_type": "stream",
     "text": [
      "C:\\Users\\tpassmore6\\AppData\\Local\\Temp\\ipykernel_28480\\2704670523.py:5: FutureWarning: Currently, index_parts defaults to True, but in the future, it will default to False to be consistent with Pandas. Use `index_parts=True` to keep the current behavior and True/False to silence the warning.\n",
      "  links = links.explode().reset_index(drop=True)\n"
     ]
    },
    {
     "name": "stdout",
     "output_type": "stream",
     "text": [
      "Export took 0.17 minutes\n"
     ]
    }
   ],
   "source": [
    "#need new way to identify these?\n",
    "#links = remove_directed_links(links,'abm')\n",
    "\n",
    "#explode and drop level to get rid of multi-index in abm layer\n",
    "links = links.explode().reset_index(drop=True)\n",
    "\n",
    "#remove interstates and centroid connectors\n",
    "abm_road = [10,11,14]\n",
    "controlled_access_and_centroids = links[\"FACTYPE\"].isin(abm_road)\n",
    "links.loc[controlled_access_and_centroids,'link_type'] = 'centroids_and_access_links'\n",
    "\n",
    "network_filter.export(links,nodes,'abm',settings)\n",
    "del links, nodes"
   ]
  },
  {
   "cell_type": "code",
   "execution_count": null,
   "id": "47041e8b",
   "metadata": {},
   "outputs": [],
   "source": []
  }
 ],
 "metadata": {
  "kernelspec": {
   "display_name": "Python 3 (ipykernel)",
   "language": "python",
   "name": "python3"
  },
  "language_info": {
   "codemirror_mode": {
    "name": "ipython",
    "version": 3
   },
   "file_extension": ".py",
   "mimetype": "text/x-python",
   "name": "python",
   "nbconvert_exporter": "python",
   "pygments_lexer": "ipython3",
   "version": "3.9.13"
  },
  "varInspector": {
   "cols": {
    "lenName": 16,
    "lenType": 16,
    "lenVar": 40
   },
   "kernels_config": {
    "python": {
     "delete_cmd_postfix": "",
     "delete_cmd_prefix": "del ",
     "library": "var_list.py",
     "varRefreshCmd": "print(var_dic_list())"
    },
    "r": {
     "delete_cmd_postfix": ") ",
     "delete_cmd_prefix": "rm(",
     "library": "var_list.r",
     "varRefreshCmd": "cat(var_dic_list()) "
    }
   },
   "types_to_exclude": [
    "module",
    "function",
    "builtin_function_or_method",
    "instance",
    "_Feature"
   ],
   "window_display": false
  }
 },
 "nbformat": 4,
 "nbformat_minor": 5
}

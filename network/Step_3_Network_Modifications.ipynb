{
 "cells": [
  {
   "attachments": {},
   "cell_type": "markdown",
   "id": "6f3b6985",
   "metadata": {},
   "source": [
    "## Network Improvements\n",
    "---\n",
    "Use this section to add new links or improve existing ones. New links should be drawn in a GIS program. Functions for adding reference columns and splitting existing links will be added in the future, but need to be manually added for now. If wanting to see the impacts of only one improvement/new link, be sure to export that as a separate network."
   ]
  },
  {
   "cell_type": "code",
   "execution_count": null,
   "id": "ad073da1",
   "metadata": {},
   "outputs": [],
   "source": [
    "from pathlib import Path\n",
    "import geopandas as gpd\n",
    "import pandas as pd\n",
    "import numpy as np\n",
    "\n",
    "import networkx as nx\n",
    "from tqdm import tqdm\n",
    "import pickle\n",
    "\n",
    "import src.conflation_tools as conflation_tools\n",
    "import src.add_attributes as add_attributes\n",
    "\n",
    "import sys\n",
    "sys.path.insert(0,str(Path.cwd().parent))\n",
    "import file_structure_setup\n",
    "config = file_structure_setup.filepaths()\n",
    "\n",
    "import bicycle_facilities.matching_script as matching_script"
   ]
  },
  {
   "cell_type": "code",
   "execution_count": null,
   "id": "ed20f786",
   "metadata": {},
   "outputs": [],
   "source": [
    "#import routing network  \n",
    "# import test case/ base case (think of a better word) network\n",
    "with (config['calibration_fp']/\"calibration_network.pkl\").open('rb') as fh:\n",
    "    links,turns = pickle.load(fh)\n",
    "del turns\n",
    "links['facility_rev'] = None\n",
    "\n",
    "#format name attrbute\n",
    "links['name2'] = links['name'].apply(lambda row: conflation_tools.remove_suffix(row))"
   ]
  },
  {
   "cell_type": "code",
   "execution_count": null,
   "id": "16160093",
   "metadata": {},
   "outputs": [],
   "source": [
    "# import improvements\n",
    "improvements = gpd.read_file(config['bicycle_facilities_fp']/\"network_modifications.gpkg\",layer='coa')[['coa_id','coa_name','coa_osm_type','geometry']]"
   ]
  },
  {
   "cell_type": "code",
   "execution_count": null,
   "id": "6fa0a838",
   "metadata": {},
   "outputs": [],
   "source": [
    "buffer_ft = 100\n",
    "max_hausdorff_dist = 500\n",
    "other_name = 'coa'\n",
    "\n",
    "# copy to prevent modification\n",
    "links_buffered = links.copy()\n",
    "other_source = improvements.copy()\n",
    "\n",
    "# buffer the osm cycleways\n",
    "links_buffered.geometry = links_buffered.buffer(buffer_ft)\n",
    "\n",
    "# intersect with coa/arc (returns coa/arc linestrings)\n",
    "overlap = gpd.overlay(other_source,links_buffered)\n",
    "\n",
    "#street name check if for bike lanes / sharrows / cycletracks\n",
    "overlap['name'] = overlap['name'].apply(lambda row: matching_script.remove_suffix(row))\n",
    "overlap[f\"{other_name}_name\"] = overlap[f\"{other_name}_name\"].apply(lambda row: matching_script.remove_suffix(row))\n",
    "overlap['name_check'] = overlap.apply(lambda row: matching_script.name_check(row['name'],row[f\"{other_name}_name\"]),axis=1)"
   ]
  },
  {
   "cell_type": "code",
   "execution_count": null,
   "id": "db8c1104",
   "metadata": {},
   "outputs": [],
   "source": [
    "# only accept matching names\n",
    "overlap = overlap[(overlap['name_check']==True)]"
   ]
  },
  {
   "cell_type": "code",
   "execution_count": null,
   "id": "8710e4ce",
   "metadata": {},
   "outputs": [],
   "source": [
    "overlap.drop_duplicates(inplace=True)"
   ]
  },
  {
   "cell_type": "code",
   "execution_count": null,
   "id": "decf7cef",
   "metadata": {},
   "outputs": [],
   "source": [
    "### HAUSDORFF DISTANCE CHECK ###\n",
    "# add osm geometry to compare against arc/coa geometry\n",
    "overlap = pd.merge(overlap,links[['linkid','geometry']],on='linkid')\n",
    "overlap['hausdorff_dist'] = overlap.apply(lambda row: row['geometry_x'].hausdorff_distance(row['geometry_y']),axis=1)\n",
    "overlap.drop(columns=['geometry_x'],inplace=True)\n",
    "overlap.rename(columns={'geometry_y':'geometry'},inplace=True)\n",
    "\n",
    "# replace intersected geometry with the original geometry\n",
    "overlap = gpd.GeoDataFrame(overlap,geometry='geometry')"
   ]
  },
  {
   "cell_type": "code",
   "execution_count": null,
   "id": "9085078e",
   "metadata": {},
   "outputs": [],
   "source": [
    "# for remaining multi matches choose match with the lowest hausdorff distance\n",
    "min_hausdorff = overlap.groupby('linkid')['hausdorff_dist'].idxmin()\n",
    "overlap = overlap.loc[min_hausdorff]"
   ]
  },
  {
   "cell_type": "code",
   "execution_count": null,
   "id": "58f5ed81",
   "metadata": {},
   "outputs": [],
   "source": [
    "overlap.explore()"
   ]
  },
  {
   "cell_type": "markdown",
   "id": "ffac20cd",
   "metadata": {},
   "source": [
    "# Visually, it looks like most of the improvements were properly assigned"
   ]
  },
  {
   "cell_type": "code",
   "execution_count": null,
   "id": "a657fe2e",
   "metadata": {},
   "outputs": [],
   "source": [
    "improvements_buffer = improvements.copy()\n",
    "improvements_buffer.geometry = improvements_buffer.buffer(200)\n",
    "m = improvements_buffer.explore('coa_osm_type')\n",
    "overlap[['linkid','coa_osm_type','coa_name','name','name_check','hausdorff_dist','geometry']].explore(color='red',m=m)#.sort_values('hausdorff_dist')"
   ]
  },
  {
   "cell_type": "markdown",
   "id": "5814ea10",
   "metadata": {},
   "source": [
    "# Clean Up"
   ]
  },
  {
   "cell_type": "code",
   "execution_count": null,
   "id": "0f04d6b3",
   "metadata": {},
   "outputs": [],
   "source": [
    "needed_cols = ['coa_id', 'coa_osm_type', 'linkid', 'geometry']"
   ]
  },
  {
   "cell_type": "code",
   "execution_count": null,
   "id": "b52db8b6",
   "metadata": {},
   "outputs": [],
   "source": [
    "#replace\n",
    "overlap[['coa_osm_type','facility_fwd']].value_counts(dropna=False)"
   ]
  },
  {
   "cell_type": "code",
   "execution_count": null,
   "id": "3c40bc76",
   "metadata": {},
   "outputs": [],
   "source": [
    "overlap.loc[(overlap['coa_osm_type']=='cycletrack') & (overlap['facility_fwd']=='bike lane'),needed_cols+['facility_fwd']].explore(m=m)"
   ]
  },
  {
   "cell_type": "code",
   "execution_count": null,
   "id": "993137b1",
   "metadata": {},
   "outputs": [],
   "source": [
    "overlap = overlap[needed_cols]\n",
    "overlap.rename(columns={'coa_osm_type':'improvement'},inplace=True)"
   ]
  },
  {
   "cell_type": "code",
   "execution_count": null,
   "id": "07989c62",
   "metadata": {},
   "outputs": [],
   "source": [
    "overlap.to_file(config['bicycle_facilities_fp']/\"network_improvements.gpkg\",layer='coa')"
   ]
  }
 ],
 "metadata": {
  "kernelspec": {
   "display_name": "Python 3 (ipykernel)",
   "language": "python",
   "name": "python3"
  },
  "language_info": {
   "codemirror_mode": {
    "name": "ipython",
    "version": 3
   },
   "file_extension": ".py",
   "mimetype": "text/x-python",
   "name": "python",
   "nbconvert_exporter": "python",
   "pygments_lexer": "ipython3",
   "version": "3.9.13"
  },
  "varInspector": {
   "cols": {
    "lenName": 16,
    "lenType": 16,
    "lenVar": 40
   },
   "kernels_config": {
    "python": {
     "delete_cmd_postfix": "",
     "delete_cmd_prefix": "del ",
     "library": "var_list.py",
     "varRefreshCmd": "print(var_dic_list())"
    },
    "r": {
     "delete_cmd_postfix": ") ",
     "delete_cmd_prefix": "rm(",
     "library": "var_list.r",
     "varRefreshCmd": "cat(var_dic_list()) "
    }
   },
   "types_to_exclude": [
    "module",
    "function",
    "builtin_function_or_method",
    "instance",
    "_Feature"
   ],
   "window_display": false
  }
 },
 "nbformat": 4,
 "nbformat_minor": 5
}

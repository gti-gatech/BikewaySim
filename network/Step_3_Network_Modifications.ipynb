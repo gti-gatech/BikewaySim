{
 "cells": [
  {
   "attachments": {},
   "cell_type": "markdown",
   "id": "6f3b6985",
   "metadata": {},
   "source": [
    "## Network Improvements (in development, skip for now)\n",
    "---\n",
    "Use this section to add new links or improve existing ones. New links should be drawn in a GIS program. Functions for adding reference columns and splitting existing links will be added in the future, but need to be manually added for now. If wanting to see the impacts of only one improvement/new link, be sure to export that as a separate network."
   ]
  },
  {
   "attachments": {},
   "cell_type": "markdown",
   "id": "df512261",
   "metadata": {},
   "source": [
    "### Improving an existing link with a protected bike lane"
   ]
  },
  {
   "cell_type": "code",
   "execution_count": null,
   "id": "34886b2c",
   "metadata": {},
   "outputs": [],
   "source": [
    "#extend protected bike lane on 10th st\n",
    "improvements = links.copy()\n",
    "changes = ['10th Street Northwest','10th Street Northeast']\n",
    "improvements.loc[improvements['name'].isin(changes),'pbl'] = 1\n",
    "\n",
    "#change a specific link back\n",
    "improvements.loc[improvements['A_B']=='9543446970_69614574','pbl'] = 0\n",
    "improvements.loc[improvements['A_B']=='69614574_9543446970','pbl'] = 0\n",
    "\n",
    "#export the new improvement for mapping/visualizations\n",
    "tenth_st  = improvements[improvements['pbl'] != links['pbl']].copy()\n",
    "tenth_st.geometry = tenth_st.buffer(300)\n",
    "tenth_st = tenth_st.dissolve()\n",
    "tenth_st.to_file(export_fp/'network_improvements.gpkg',layer='New Protected Bike Lane')\n",
    "\n",
    "#create a copy so the improvement from the protected bike lane can be tested separately\n",
    "just_pbl = improvements.copy()"
   ]
  },
  {
   "attachments": {},
   "cell_type": "markdown",
   "id": "0d457912",
   "metadata": {},
   "source": [
    "### Bring in feature(s) drawn in GIS and add to network"
   ]
  },
  {
   "cell_type": "code",
   "execution_count": null,
   "id": "e6285a5c",
   "metadata": {},
   "outputs": [
    {
     "name": "stderr",
     "output_type": "stream",
     "text": [
      "c:\\Users\\tpassmore6\\Anaconda3\\envs\\geo-env\\lib\\site-packages\\pandas\\core\\dtypes\\cast.py:118: ShapelyDeprecationWarning: The array interface is deprecated and will no longer work in Shapely 2.0. Convert the '.coords' to a numpy array instead.\n",
      "  arr = construct_1d_object_array_from_listlike(values)\n",
      "c:\\Users\\tpassmore6\\Anaconda3\\envs\\geo-env\\lib\\site-packages\\pandas\\core\\dtypes\\cast.py:118: ShapelyDeprecationWarning: The array interface is deprecated and will no longer work in Shapely 2.0. Convert the '.coords' to a numpy array instead.\n",
      "  arr = construct_1d_object_array_from_listlike(values)\n"
     ]
    },
    {
     "name": "stdout",
     "output_type": "stream",
     "text": [
      "Reference IDs successfully added to links.\n"
     ]
    }
   ],
   "source": [
    "#bring in new feature and add to old links\n",
    "new = gpd.read_file(export_fp/'network_improvements.gpkg',layer='morningside_path')\n",
    "morningside_path = new.copy()\n",
    "morningside_path.geometry = morningside_path.buffer(300)\n",
    "morningside_path = morningside_path.dissolve()\n",
    "morningside_path.to_file(export_fp / \"network_improvements.gpkg\", layer = 'New Multi-Use Path')\n",
    "\n",
    "#add ref ids ONLY if no new nodes are added\n",
    "new = add_ref_ids(new,nodes)\n",
    "\n",
    "#make reverse links if they are two way features\n",
    "new = create_reverse_links(new)\n",
    "new['dist'] = new.length\n",
    "new['mins'] = new['dist'] / 5280 / 8 * 60\n",
    "\n",
    "#add to network with 10st pbl\n",
    "improvements = pd.concat([improvements,new],ignore_index=True)\n",
    "\n",
    "#just add path\n",
    "just_path = links.copy()\n",
    "just_path = pd.concat([just_path,new],ignore_index=True)"
   ]
  }
 ],
 "metadata": {
  "kernelspec": {
   "display_name": "Python 3 (ipykernel)",
   "language": "python",
   "name": "python3"
  },
  "language_info": {
   "codemirror_mode": {
    "name": "ipython",
    "version": 3
   },
   "file_extension": ".py",
   "mimetype": "text/x-python",
   "name": "python",
   "nbconvert_exporter": "python",
   "pygments_lexer": "ipython3",
   "version": "3.9.13"
  },
  "varInspector": {
   "cols": {
    "lenName": 16,
    "lenType": 16,
    "lenVar": 40
   },
   "kernels_config": {
    "python": {
     "delete_cmd_postfix": "",
     "delete_cmd_prefix": "del ",
     "library": "var_list.py",
     "varRefreshCmd": "print(var_dic_list())"
    },
    "r": {
     "delete_cmd_postfix": ") ",
     "delete_cmd_prefix": "rm(",
     "library": "var_list.r",
     "varRefreshCmd": "cat(var_dic_list()) "
    }
   },
   "types_to_exclude": [
    "module",
    "function",
    "builtin_function_or_method",
    "instance",
    "_Feature"
   ],
   "window_display": false
  }
 },
 "nbformat": 4,
 "nbformat_minor": 5
}

{
 "cells": [
  {
   "cell_type": "markdown",
   "metadata": {},
   "source": [
    "# Extra Notebook for Exploring Data and Producing Some Visualizations"
   ]
  },
  {
   "cell_type": "code",
   "execution_count": null,
   "metadata": {},
   "outputs": [],
   "source": [
    "import geopandas as gpd\n",
    "from pathlib import Path\n",
    "import numpy as np\n",
    "import pandas as pd\n",
    "\n",
    "import pickle\n",
    "\n",
    "from bikewaysim.paths import config\n",
    "from bikewaysim.network import modeling_turns, add_attributes, prepare_network"
   ]
  },
  {
   "cell_type": "markdown",
   "metadata": {},
   "source": [
    "# Explore adding sidewalks and bike paths as variables to the streets"
   ]
  },
  {
   "cell_type": "code",
   "execution_count": null,
   "metadata": {},
   "outputs": [],
   "source": [
    "osm = gpd.read_file(config['network_fp']/'networks.gpkg',layer='osm_links')"
   ]
  },
  {
   "cell_type": "code",
   "execution_count": null,
   "metadata": {},
   "outputs": [],
   "source": [
    "osm['link_type'].unique()"
   ]
  },
  {
   "cell_type": "code",
   "execution_count": null,
   "metadata": {},
   "outputs": [],
   "source": [
    "roads = osm[osm['link_type']=='road']\n",
    "sidewalks = osm[osm['link_type']=='sidewalks']"
   ]
  },
  {
   "cell_type": "code",
   "execution_count": null,
   "metadata": {},
   "outputs": [],
   "source": [
    "raw_links = gpd.read_file(config['osmdwnld_fp']/'networks.gpkg',layer='osm_links')"
   ]
  },
  {
   "cell_type": "markdown",
   "metadata": {},
   "source": [
    "Visualize network splitting process"
   ]
  },
  {
   "cell_type": "code",
   "execution_count": null,
   "metadata": {},
   "outputs": [],
   "source": [
    "config.keys()"
   ]
  },
  {
   "cell_type": "code",
   "execution_count": null,
   "metadata": {},
   "outputs": [],
   "source": [
    "osmid = 9277340\n",
    "osm_links = gpd.read_file(config['network_fp']/'networks.gpkg',layer=\"osm_links\")\n",
    "osm_nodes = gpd.read_file(config['network_fp']/'networks.gpkg',layer=\"osm_nodes\")\n",
    "raw_osm_links = gpd.read_file(config['osmdwnld_fp']/f\"osm_{config['geofabrik_year']}.gpkg\",layer=\"raw\")\n",
    "osm_links = osm_links[osm_links['osmid']==osmid]\n",
    "osm_nodes = osm_nodes[osm_nodes['osm_N'].isin(set(pd.concat([osm_links['osm_A'],osm_links['osm_B']]).tolist()))]\n",
    "osm_links.to_file(config['network_fp']/'scratch.gpkg',layer='network_breakdown_links')\n",
    "osm_nodes.to_file(config['network_fp']/'scratch.gpkg',layer='network_breakdown_nodes')"
   ]
  },
  {
   "cell_type": "code",
   "execution_count": null,
   "metadata": {},
   "outputs": [],
   "source": [
    "unfiltered_turns = pd.read_parquet(config['network_fp']/'turns_df.parquet')\n",
    "unfiltered_directed_links = pd.read_parquet(config['network_fp']/'directed_edges.parquet')\n",
    "unfiltered_links = gpd.read_file(config['network_fp']/'final_network.gpkg',layer='edges')\n",
    "unfiltered_nodes = gpd.read_file(config['network_fp']/'final_network.gpkg',layer='nodes')"
   ]
  },
  {
   "cell_type": "code",
   "execution_count": null,
   "metadata": {},
   "outputs": [],
   "source": [
    "# Remove wrongway from directed links and turns\n",
    "oneway_dict = dict(zip(unfiltered_links['linkid'],unfiltered_links['oneway']))\n",
    "unfiltered_directed_links['wrongway'] = (unfiltered_directed_links['linkid'].map(oneway_dict) == True) & (unfiltered_directed_links['reverse_link']==True)\n",
    "directed_links = unfiltered_directed_links[unfiltered_directed_links['wrongway']==False]\n",
    "unfiltered_turns['source_oneway'] = unfiltered_turns['source_linkid'].map(oneway_dict)\n",
    "unfiltered_turns['target_oneway'] = unfiltered_turns['target_linkid'].map(oneway_dict)\n",
    "source_wrongway = ((unfiltered_turns['source_oneway'] == True) & (unfiltered_turns['source_reverse_link'] == True)) == False\n",
    "target_wrongway = ((unfiltered_turns['target_oneway'] == True) & (unfiltered_turns['target_reverse_link'] == True)) == False\n",
    "unfiltered_turns = unfiltered_turns[source_wrongway & target_wrongway]"
   ]
  },
  {
   "cell_type": "code",
   "execution_count": null,
   "metadata": {},
   "outputs": [],
   "source": [
    "print(unfiltered_links.shape[0],'links')\n",
    "node_count = unfiltered_links['A'].append(unfiltered_links['B']).nunique()\n",
    "print(unfiltered_directed_links.shape[0],'directed links')\n",
    "print(node_count,'nodes')\n",
    "print(unfiltered_turns.shape[0],'turns')"
   ]
  },
  {
   "cell_type": "markdown",
   "metadata": {},
   "source": [
    "# Filtered Network"
   ]
  },
  {
   "cell_type": "code",
   "execution_count": null,
   "metadata": {},
   "outputs": [],
   "source": [
    "#export calibration network\n",
    "with (config['calibration_fp']/\"calibration_network.pkl\").open('rb') as fh:\n",
    "    links, turns = pickle.load(fh)\n",
    "undirected_links = links[links['reverse_link']==False]"
   ]
  },
  {
   "cell_type": "code",
   "execution_count": null,
   "metadata": {},
   "outputs": [],
   "source": [
    "print(links['linkid'].nunique(),'links')\n",
    "node_count = links['A'].append(links['B']).nunique()\n",
    "print(links.shape[0],'directed links')\n",
    "print(node_count,'nodes')\n",
    "print(turns.shape[0],'turns')"
   ]
  },
  {
   "cell_type": "markdown",
   "metadata": {},
   "source": [
    "Undirected Attributes"
   ]
  },
  {
   "cell_type": "code",
   "execution_count": null,
   "metadata": {},
   "outputs": [],
   "source": [
    "undirected_links.to_file(config['network_fp']/'network_stats.gpkg',layer='undirected_attributes')"
   ]
  },
  {
   "cell_type": "code",
   "execution_count": null,
   "metadata": {},
   "outputs": [],
   "source": [
    "undirected_links['length_mi']"
   ]
  },
  {
   "cell_type": "code",
   "execution_count": null,
   "metadata": {},
   "outputs": [],
   "source": [
    "miles = undirected_links.groupby('lanes')['length_mi'].sum().round(0)\n",
    "counts = undirected_links['lanes'].value_counts()\n",
    "pct = (miles / undirected_links['length_mi'].sum() * 100).round(0)\n",
    "pct.name = 'pct'\n",
    "pd.concat([counts,miles,pct],axis=1)"
   ]
  },
  {
   "cell_type": "code",
   "execution_count": null,
   "metadata": {},
   "outputs": [],
   "source": [
    "undirected_links.loc[undirected_links['speed']==0,'speed'] = 1"
   ]
  },
  {
   "cell_type": "code",
   "execution_count": null,
   "metadata": {},
   "outputs": [],
   "source": [
    "miles = undirected_links.groupby('speed')['length_mi'].sum().round(0)\n",
    "counts = undirected_links['speed'].value_counts()\n",
    "pct = (miles / undirected_links['length_mi'].sum() * 100).round(0)\n",
    "pct.name = 'pct'\n",
    "pd.concat([counts,miles,pct],axis=1)"
   ]
  },
  {
   "cell_type": "code",
   "execution_count": null,
   "metadata": {},
   "outputs": [],
   "source": [
    "undirected_links['speed'].value_counts()"
   ]
  },
  {
   "cell_type": "code",
   "execution_count": null,
   "metadata": {},
   "outputs": [],
   "source": [
    "undirected_links['AADT'].describe()"
   ]
  },
  {
   "cell_type": "code",
   "execution_count": null,
   "metadata": {},
   "outputs": [],
   "source": [
    "undirected_links['truck_pct'].describe()"
   ]
  },
  {
   "cell_type": "markdown",
   "metadata": {},
   "source": [
    "Directed"
   ]
  },
  {
   "cell_type": "code",
   "execution_count": null,
   "metadata": {},
   "outputs": [],
   "source": [
    "min_grade = links.groupby('linkid')['ascent_grade_%'].idxmax()\n",
    "links.loc[min_grade,['linkid','name','highway','ascent_grade_%','geometry']].to_file(config['network_fp']/'network_stats.gpkg',layer='elevation')"
   ]
  },
  {
   "cell_type": "code",
   "execution_count": null,
   "metadata": {},
   "outputs": [],
   "source": [
    "ranking = {\n",
    "    'multi use path':0,\n",
    "    'bike lane':3,\n",
    "    'buffered bike lane':2,\n",
    "    'cycletrack':1\n",
    "}\n",
    "bicycle_facilities = links.loc[links['facility_fwd'].notna(),['linkid','name','highway','facility_fwd','geometry']].copy()\n",
    "bicycle_facilities = bicycle_facilities[bicycle_facilities.drop(columns=['geometry']).duplicated()==False]\n",
    "bicycle_facilities['facility_ranking'] = bicycle_facilities['facility_fwd'].map(ranking)\n",
    "bicycle_facilities_idx = bicycle_facilities.groupby('linkid')['facility_ranking'].idxmin()\n",
    "bicycle_facilities = bicycle_facilities.loc[bicycle_facilities_idx]\n",
    "bicycle_facilities.to_file(config['network_fp']/'network_stats.gpkg',layer='bicycle_facilities')"
   ]
  },
  {
   "cell_type": "code",
   "execution_count": null,
   "metadata": {},
   "outputs": [],
   "source": [
    "# links.columns\n",
    "# correlation_variables = ['bike_facility','AADT','truck_pct','lanes','speed','maxgrade_%','length_ft']\n",
    "# test = links.loc[links['link_type']=='road',correlation_variables]\n",
    "# test\n",
    "# #links[network_variables].value_counts()\n",
    "# #links.groupby(['lanes','here_speed']).apply(lambda x: np.round(x.length.sum() / 5280,1)).sort_values(ascending=False)\n",
    "# #correlation matrix\n",
    "# import numpy as np\n",
    "# import pandas as pd\n",
    "# import seaborn as sns\n",
    "# import matplotlib.pyplot as plt\n",
    "\n",
    "# # Calculate the correlation matrix\n",
    "# correlation_matrix = test.corr()\n",
    "\n",
    "# # Display the correlation matrix\n",
    "# print(\"Correlation Matrix:\")\n",
    "# print(correlation_matrix)\n",
    "\n",
    "# # Plot the correlation matrix using seaborn heatmap\n",
    "# plt.figure(figsize=(8, 6))\n",
    "# sns.heatmap(correlation_matrix, annot=True, cmap='coolwarm', vmin=-1, vmax=1)\n",
    "# plt.title('Correlation Matrix Heatmap')\n",
    "# plt.show()\n",
    "# #correlation matrix for roads with bicycle facilities\n",
    "# import numpy as np\n",
    "# import pandas as pd\n",
    "# import seaborn as sns\n",
    "# import matplotlib.pyplot as plt\n",
    "\n",
    "# # Generate a random 80000x3 matrix\n",
    "# # For a real scenario, you would load your data here\n",
    "# #data = links[categorical_variables].values #np.random.rand(80000, 3)\n",
    "\n",
    "# # Convert the data to a pandas DataFrame for easier manipulation\n",
    "# #df = links[['lanes','here_speed']]#pd.DataFrame(data, columns=['Feature1', 'Feature2', 'Feature3'])\n",
    "# df = test[test['bike_facility']>0]\n",
    "\n",
    "# # Calculate the correlation matrix\n",
    "# correlation_matrix = df.corr()\n",
    "\n",
    "# # Display the correlation matrix\n",
    "# print(\"Correlation Matrix:\")\n",
    "# print(correlation_matrix)\n",
    "\n",
    "# # Plot the correlation matrix using seaborn heatmap\n",
    "# plt.figure(figsize=(8, 6))\n",
    "# sns.heatmap(correlation_matrix, annot=True, cmap='coolwarm', vmin=-1, vmax=1)\n",
    "# plt.title('Correlation Matrix Heatmap')\n",
    "# plt.show()"
   ]
  },
  {
   "cell_type": "code",
   "execution_count": null,
   "metadata": {},
   "outputs": [],
   "source": [
    "# import numpy as np\n",
    "# from sklearn.decomposition import PCA\n",
    "\n",
    "# # Generate a random 80000x3 matrix\n",
    "# # For a real scenario, you would load your data here\n",
    "# data = np.random.rand(80000, 3)\n",
    "\n",
    "# # Initialize PCA\n",
    "# pca = PCA(n_components=2)  # Reduce to 2 dimensions for visualization purposes\n",
    "\n",
    "# # Fit PCA on the data\n",
    "# principal_components = pca.fit_transform(data)\n",
    "\n",
    "# # Display the explained variance ratio\n",
    "# print(\"Explained variance ratio:\", pca.explained_variance_ratio_)\n",
    "\n",
    "# # Display the principal components\n",
    "# print(\"Principal components shape:\", principal_components.shape)\n",
    "\n",
    "# # Optionally, save the principal components to a file\n",
    "# np.savetxt(\"principal_components.csv\", principal_components, delimiter=\",\")\n",
    "\n",
    "# # Plot the first two principal components if you want to visualize\n",
    "# import matplotlib.pyplot as plt\n",
    "\n",
    "# plt.scatter(principal_components[:, 0], principal_components[:, 1], alpha=0.5)\n",
    "# plt.xlabel('Principal Component 1')\n",
    "# plt.ylabel('Principal Component 2')\n",
    "# plt.title('PCA of 80000x3 matrix')\n",
    "# plt.show()\n"
   ]
  }
 ],
 "metadata": {
  "kernelspec": {
   "display_name": "Python 3",
   "language": "python",
   "name": "python3"
  },
  "language_info": {
   "codemirror_mode": {
    "name": "ipython",
    "version": 3
   },
   "file_extension": ".py",
   "mimetype": "text/x-python",
   "name": "python",
   "nbconvert_exporter": "python",
   "pygments_lexer": "ipython3",
   "version": "3.9.13"
  }
 },
 "nbformat": 4,
 "nbformat_minor": 2
}

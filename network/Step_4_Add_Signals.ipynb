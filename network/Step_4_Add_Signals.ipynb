{
 "cells": [
  {
   "cell_type": "markdown",
   "metadata": {},
   "source": [
    "# Add Traffic Signals to Network\n",
    "In this case we already have a traffic signal inventory from the Georgia Department of Transportation, but code for downloading existing traffic signal data from OpenStreetMap (OSM) is also included. This code also retrieves crossings from OSM.\n",
    "\n",
    "First, we'll find signals in the GDOT data that are not covered in the OSM data. Then we'll take these intersect the them with OSM nodes. Using the reference ID columns on the OSM links, these signals can be added to the links. A turn dataframe is then constructed with all of the links that contain at least one signal.\n",
    "\n",
    "Once this happens, the link street name will be cross-referenced to validate the match.\n",
    "\n",
    "- If signals are both road links, check the road name on each to see if it matches the GDOT name\n",
    "- If non-road link just set it to null for now. Some of these may be crosswalks at the intersection, but they could also be walkways further away from the intersection.\n",
    "\n",
    "This final result should be QAQC'd."
   ]
  },
  {
   "cell_type": "code",
   "execution_count": 12,
   "metadata": {},
   "outputs": [],
   "source": [
    "from pathlib import Path \n",
    "import geopandas as gpd\n",
    "import pandas as pd\n",
    "import requests\n",
    "\n",
    "import sys\n",
    "sys.path.insert(0,str(Path.cwd().parent))\n",
    "import file_structure_setup\n",
    "config = file_structure_setup.filepaths()"
   ]
  },
  {
   "cell_type": "code",
   "execution_count": 13,
   "metadata": {},
   "outputs": [],
   "source": [
    "links = gpd.read_file(config['network_fp']/'networks.gpkg',layer='osm_links')\n",
    "nodes = gpd.read_file(config['network_fp']/'networks.gpkg',layer='osm_nodes')"
   ]
  },
  {
   "cell_type": "code",
   "execution_count": 14,
   "metadata": {},
   "outputs": [],
   "source": [
    "raw = gpd.read_file(config['osmdwnld_fp']/f\"osm_{config['geofabrik_year']}.gpkg\",layer=\"raw\",ignore_geometry=True)\n",
    "links = pd.merge(links,raw[['osmid','name','oneway']],how='left',on='osmid')"
   ]
  },
  {
   "cell_type": "code",
   "execution_count": 15,
   "metadata": {},
   "outputs": [],
   "source": [
    "links['oneway'] = links['oneway'].isin(['yes','-1'])"
   ]
  },
  {
   "cell_type": "code",
   "execution_count": 16,
   "metadata": {},
   "outputs": [],
   "source": [
    "#buffer function\n",
    "def buffer_signals(signal_gdf,buffer_ft):\n",
    "    '''\n",
    "    Use to create a copy of a gdf and buffer the point geometry\n",
    "    '''\n",
    "    signal_gdf = signal_gdf.copy()\n",
    "    signal_gdf.geometry = signal_gdf.buffer(buffer_ft)\n",
    "    return signal_gdf"
   ]
  },
  {
   "cell_type": "markdown",
   "metadata": {},
   "source": [
    "# Get OSM traffic signals"
   ]
  },
  {
   "cell_type": "code",
   "execution_count": 17,
   "metadata": {},
   "outputs": [],
   "source": [
    "osm_signals = gpd.read_file(config['osmdwnld_fp']/f\"osm_{config['geofabrik_year']}.gpkg\",layer='highway_nodes')\n",
    "osm_signals = osm_signals[osm_signals['highway']=='traffic_signals']\n",
    "osm_signals.to_crs(config['projected_crs_epsg'],inplace=True)\n",
    "osm_signal_ids = set(osm_signals['osmid'].tolist())"
   ]
  },
  {
   "cell_type": "code",
   "execution_count": 18,
   "metadata": {},
   "outputs": [],
   "source": [
    "signalized_links = links[(links['osm_A'].isin(osm_signal_ids)) | (links['osm_B'].isin(osm_signal_ids))]\n",
    "import src.modeling_turns as modeling_turns\n",
    "#TODO change this to not create the turn graph (just make it an extra optional step)\n",
    "## Create turn graph dataframe\n",
    "_, turns_df = modeling_turns.create_pseudo_dual_graph(signalized_links,'osm_A','osm_B','osm_linkid','oneway')\n",
    "\n",
    "#add signals ids back in\n",
    "turns_df['signalized'] = turns_df['source_B'].isin(osm_signal_ids)"
   ]
  },
  {
   "cell_type": "code",
   "execution_count": 19,
   "metadata": {},
   "outputs": [],
   "source": [
    "turns_df.drop(columns=['source','target'],inplace=True)"
   ]
  },
  {
   "cell_type": "code",
   "execution_count": 20,
   "metadata": {},
   "outputs": [
    {
     "data": {
      "text/html": [
       "<div>\n",
       "<style scoped>\n",
       "    .dataframe tbody tr th:only-of-type {\n",
       "        vertical-align: middle;\n",
       "    }\n",
       "\n",
       "    .dataframe tbody tr th {\n",
       "        vertical-align: top;\n",
       "    }\n",
       "\n",
       "    .dataframe thead th {\n",
       "        text-align: right;\n",
       "    }\n",
       "</style>\n",
       "<table border=\"1\" class=\"dataframe\">\n",
       "  <thead>\n",
       "    <tr style=\"text-align: right;\">\n",
       "      <th></th>\n",
       "      <th>source_A</th>\n",
       "      <th>source_B</th>\n",
       "      <th>target_A</th>\n",
       "      <th>target_B</th>\n",
       "      <th>source_reverse_link</th>\n",
       "      <th>source_linkid</th>\n",
       "      <th>source_azimuth</th>\n",
       "      <th>target_reverse_link</th>\n",
       "      <th>target_linkid</th>\n",
       "      <th>target_azimuth</th>\n",
       "      <th>azimuth_change</th>\n",
       "      <th>turn_type</th>\n",
       "      <th>signalized</th>\n",
       "    </tr>\n",
       "  </thead>\n",
       "  <tbody>\n",
       "    <tr>\n",
       "      <th>2</th>\n",
       "      <td>7241384374</td>\n",
       "      <td>6813435859</td>\n",
       "      <td>6813435859</td>\n",
       "      <td>67088140</td>\n",
       "      <td>True</td>\n",
       "      <td>1125566338</td>\n",
       "      <td>350.6</td>\n",
       "      <td>False</td>\n",
       "      <td>1125566335</td>\n",
       "      <td>291.6</td>\n",
       "      <td>301.0</td>\n",
       "      <td>left</td>\n",
       "      <td>True</td>\n",
       "    </tr>\n",
       "    <tr>\n",
       "      <th>3</th>\n",
       "      <td>6813435879</td>\n",
       "      <td>6813435859</td>\n",
       "      <td>6813435859</td>\n",
       "      <td>67088140</td>\n",
       "      <td>False</td>\n",
       "      <td>1125566339</td>\n",
       "      <td>204.3</td>\n",
       "      <td>False</td>\n",
       "      <td>1125566335</td>\n",
       "      <td>291.6</td>\n",
       "      <td>87.3</td>\n",
       "      <td>right</td>\n",
       "      <td>True</td>\n",
       "    </tr>\n",
       "    <tr>\n",
       "      <th>4</th>\n",
       "      <td>67051717</td>\n",
       "      <td>6813435859</td>\n",
       "      <td>6813435859</td>\n",
       "      <td>67088140</td>\n",
       "      <td>False</td>\n",
       "      <td>1125566340</td>\n",
       "      <td>291.3</td>\n",
       "      <td>False</td>\n",
       "      <td>1125566335</td>\n",
       "      <td>291.6</td>\n",
       "      <td>0.3</td>\n",
       "      <td>straight</td>\n",
       "      <td>True</td>\n",
       "    </tr>\n",
       "    <tr>\n",
       "      <th>5</th>\n",
       "      <td>67088140</td>\n",
       "      <td>6813435859</td>\n",
       "      <td>6813435859</td>\n",
       "      <td>7241384374</td>\n",
       "      <td>True</td>\n",
       "      <td>1125566335</td>\n",
       "      <td>111.6</td>\n",
       "      <td>False</td>\n",
       "      <td>1125566338</td>\n",
       "      <td>170.6</td>\n",
       "      <td>59.0</td>\n",
       "      <td>right</td>\n",
       "      <td>True</td>\n",
       "    </tr>\n",
       "    <tr>\n",
       "      <th>7</th>\n",
       "      <td>6813435879</td>\n",
       "      <td>6813435859</td>\n",
       "      <td>6813435859</td>\n",
       "      <td>7241384374</td>\n",
       "      <td>False</td>\n",
       "      <td>1125566339</td>\n",
       "      <td>204.3</td>\n",
       "      <td>False</td>\n",
       "      <td>1125566338</td>\n",
       "      <td>170.6</td>\n",
       "      <td>326.3</td>\n",
       "      <td>left</td>\n",
       "      <td>True</td>\n",
       "    </tr>\n",
       "    <tr>\n",
       "      <th>...</th>\n",
       "      <td>...</td>\n",
       "      <td>...</td>\n",
       "      <td>...</td>\n",
       "      <td>...</td>\n",
       "      <td>...</td>\n",
       "      <td>...</td>\n",
       "      <td>...</td>\n",
       "      <td>...</td>\n",
       "      <td>...</td>\n",
       "      <td>...</td>\n",
       "      <td>...</td>\n",
       "      <td>...</td>\n",
       "      <td>...</td>\n",
       "    </tr>\n",
       "    <tr>\n",
       "      <th>3767</th>\n",
       "      <td>67115158</td>\n",
       "      <td>67072782</td>\n",
       "      <td>67072782</td>\n",
       "      <td>67072781</td>\n",
       "      <td>False</td>\n",
       "      <td>1125695120</td>\n",
       "      <td>195.3</td>\n",
       "      <td>False</td>\n",
       "      <td>1125695118</td>\n",
       "      <td>108.0</td>\n",
       "      <td>272.7</td>\n",
       "      <td>left</td>\n",
       "      <td>True</td>\n",
       "    </tr>\n",
       "    <tr>\n",
       "      <th>3768</th>\n",
       "      <td>67072781</td>\n",
       "      <td>67072782</td>\n",
       "      <td>67072782</td>\n",
       "      <td>8214887671</td>\n",
       "      <td>True</td>\n",
       "      <td>1125695118</td>\n",
       "      <td>288.0</td>\n",
       "      <td>True</td>\n",
       "      <td>1125695119</td>\n",
       "      <td>286.7</td>\n",
       "      <td>358.7</td>\n",
       "      <td>straight</td>\n",
       "      <td>True</td>\n",
       "    </tr>\n",
       "    <tr>\n",
       "      <th>3770</th>\n",
       "      <td>67115158</td>\n",
       "      <td>67072782</td>\n",
       "      <td>67072782</td>\n",
       "      <td>8214887671</td>\n",
       "      <td>False</td>\n",
       "      <td>1125695120</td>\n",
       "      <td>195.3</td>\n",
       "      <td>True</td>\n",
       "      <td>1125695119</td>\n",
       "      <td>286.7</td>\n",
       "      <td>91.4</td>\n",
       "      <td>right</td>\n",
       "      <td>True</td>\n",
       "    </tr>\n",
       "    <tr>\n",
       "      <th>3771</th>\n",
       "      <td>67072781</td>\n",
       "      <td>67072782</td>\n",
       "      <td>67072782</td>\n",
       "      <td>67115158</td>\n",
       "      <td>True</td>\n",
       "      <td>1125695118</td>\n",
       "      <td>288.0</td>\n",
       "      <td>True</td>\n",
       "      <td>1125695120</td>\n",
       "      <td>15.3</td>\n",
       "      <td>87.3</td>\n",
       "      <td>right</td>\n",
       "      <td>True</td>\n",
       "    </tr>\n",
       "    <tr>\n",
       "      <th>3772</th>\n",
       "      <td>8214887671</td>\n",
       "      <td>67072782</td>\n",
       "      <td>67072782</td>\n",
       "      <td>67115158</td>\n",
       "      <td>False</td>\n",
       "      <td>1125695119</td>\n",
       "      <td>106.7</td>\n",
       "      <td>True</td>\n",
       "      <td>1125695120</td>\n",
       "      <td>15.3</td>\n",
       "      <td>268.6</td>\n",
       "      <td>left</td>\n",
       "      <td>True</td>\n",
       "    </tr>\n",
       "  </tbody>\n",
       "</table>\n",
       "<p>2348 rows × 13 columns</p>\n",
       "</div>"
      ],
      "text/plain": [
       "        source_A    source_B    target_A    target_B  source_reverse_link  \\\n",
       "2     7241384374  6813435859  6813435859    67088140                 True   \n",
       "3     6813435879  6813435859  6813435859    67088140                False   \n",
       "4       67051717  6813435859  6813435859    67088140                False   \n",
       "5       67088140  6813435859  6813435859  7241384374                 True   \n",
       "7     6813435879  6813435859  6813435859  7241384374                False   \n",
       "...          ...         ...         ...         ...                  ...   \n",
       "3767    67115158    67072782    67072782    67072781                False   \n",
       "3768    67072781    67072782    67072782  8214887671                 True   \n",
       "3770    67115158    67072782    67072782  8214887671                False   \n",
       "3771    67072781    67072782    67072782    67115158                 True   \n",
       "3772  8214887671    67072782    67072782    67115158                False   \n",
       "\n",
       "      source_linkid  source_azimuth  target_reverse_link  target_linkid  \\\n",
       "2        1125566338           350.6                False     1125566335   \n",
       "3        1125566339           204.3                False     1125566335   \n",
       "4        1125566340           291.3                False     1125566335   \n",
       "5        1125566335           111.6                False     1125566338   \n",
       "7        1125566339           204.3                False     1125566338   \n",
       "...             ...             ...                  ...            ...   \n",
       "3767     1125695120           195.3                False     1125695118   \n",
       "3768     1125695118           288.0                 True     1125695119   \n",
       "3770     1125695120           195.3                 True     1125695119   \n",
       "3771     1125695118           288.0                 True     1125695120   \n",
       "3772     1125695119           106.7                 True     1125695120   \n",
       "\n",
       "      target_azimuth  azimuth_change turn_type  signalized  \n",
       "2              291.6           301.0      left        True  \n",
       "3              291.6            87.3     right        True  \n",
       "4              291.6             0.3  straight        True  \n",
       "5              170.6            59.0     right        True  \n",
       "7              170.6           326.3      left        True  \n",
       "...              ...             ...       ...         ...  \n",
       "3767           108.0           272.7      left        True  \n",
       "3768           286.7           358.7  straight        True  \n",
       "3770           286.7            91.4     right        True  \n",
       "3771            15.3            87.3     right        True  \n",
       "3772            15.3           268.6      left        True  \n",
       "\n",
       "[2348 rows x 13 columns]"
      ]
     },
     "execution_count": 20,
     "metadata": {},
     "output_type": "execute_result"
    }
   ],
   "source": [
    "turns_df"
   ]
  },
  {
   "cell_type": "code",
   "execution_count": 22,
   "metadata": {},
   "outputs": [],
   "source": [
    "turns_df.to_parquet(config['network_fp']/'osm_signals.parquet')"
   ]
  },
  {
   "cell_type": "markdown",
   "metadata": {},
   "source": [
    "## GDOT Signals"
   ]
  },
  {
   "cell_type": "code",
   "execution_count": null,
   "metadata": {},
   "outputs": [],
   "source": [
    "gdot_signals_fp = Path('D:/RAW/GDOT/traffic_signals.geojson')\n",
    "keep = ['signalID','mainStreetName','sideStreetName','geometry']\n",
    "gdot_signals = gpd.read_file(gdot_signals_fp).to_crs(links.crs)[keep]\n",
    "#remove gdot_signals that are beyond the network boundaries\n",
    "gdot_signals = gdot_signals.clip(links.total_bounds)\n",
    "gdot_signals.head()"
   ]
  },
  {
   "cell_type": "markdown",
   "metadata": {},
   "source": [
    "## Symmetric Difference\n",
    "Find GDOT signals that are not already covered by OSM. Maybe ask an undergrad to add these into OSM later."
   ]
  },
  {
   "cell_type": "code",
   "execution_count": null,
   "metadata": {},
   "outputs": [],
   "source": [
    "print(gdot_signals.shape[0],'GDOT signals and',osm_signals.shape[0],'OSM signals')"
   ]
  },
  {
   "cell_type": "code",
   "execution_count": null,
   "metadata": {},
   "outputs": [],
   "source": [
    "# #try the buffer in 50 ft intervals to see results\n",
    "# for buffer_ft in range(50,501,50):\n",
    "#     #buffer_ft = 100\n",
    "#     buffered_signals = osm_signals.copy()\n",
    "#     buffered_signals.geometry = buffered_signals.buffer(buffer_ft)\n",
    "#     difference = gdot_signals.overlay(buffered_signals,how='difference')\n",
    "#     print(buffer_ft,difference.shape[0])\n",
    "buffer_ft = 100 #selecting 100 ft based on city block sizes and that's about where the number of gdot signals not represented by osm signals drops\n",
    "buffered_osm_signals = buffer_signals(osm_signals,buffer_ft)\n",
    "difference = gdot_signals.overlay(buffered_osm_signals,how='difference')\n",
    "difference = difference.drop_duplicates()\n",
    "# plot if desired\n",
    "# m = difference.explore()\n",
    "# osm_signals.explore(m=m,style_kwds={'color':'red'})"
   ]
  },
  {
   "cell_type": "code",
   "execution_count": null,
   "metadata": {},
   "outputs": [],
   "source": [
    "difference.shape[0]"
   ]
  },
  {
   "cell_type": "code",
   "execution_count": null,
   "metadata": {},
   "outputs": [],
   "source": [
    "# difference.to_file(Path.home()/'testing.gpkg')"
   ]
  },
  {
   "cell_type": "markdown",
   "metadata": {},
   "source": [
    "## Add these new GDOT signals into the OSM network\n",
    "Set a buffer for each signal and find all candidate nodes associated\n",
    "- First we set a buffer distance around each signal to find all candidate nodes associated with the traffic signal."
   ]
  },
  {
   "cell_type": "code",
   "execution_count": null,
   "metadata": {},
   "outputs": [],
   "source": [
    "buffer_ft = 100\n",
    "gdot_buffered = buffer_signals(difference,buffer_ft)\n",
    "candidate_signals = gpd.overlay(nodes,gdot_buffered,how=\"intersection\")"
   ]
  },
  {
   "cell_type": "code",
   "execution_count": null,
   "metadata": {},
   "outputs": [],
   "source": [
    "#To\n",
    "#candidate_signals.explore()"
   ]
  },
  {
   "cell_type": "code",
   "execution_count": null,
   "metadata": {},
   "outputs": [],
   "source": [
    "links['link_type'].unique()"
   ]
  },
  {
   "cell_type": "code",
   "execution_count": null,
   "metadata": {},
   "outputs": [],
   "source": [
    "#only consider road nodes\n",
    "only_roads = links['link_type'].isin(['road'])\n",
    "road_nodes = links['osm_A'].append(links['osm_B']).value_counts()\n",
    "# and remove matches where degree is 2 or less\n",
    "road_nodes = road_nodes[road_nodes>2].index.tolist()"
   ]
  },
  {
   "cell_type": "code",
   "execution_count": null,
   "metadata": {},
   "outputs": [],
   "source": [
    "candidate_signals = candidate_signals[candidate_signals['osm_N'].isin(road_nodes)]"
   ]
  },
  {
   "cell_type": "code",
   "execution_count": null,
   "metadata": {},
   "outputs": [],
   "source": [
    "test_dict = dict(zip(candidate_signals['osm_N'],candidate_signals['signalID']))\n",
    "\n",
    "links['signal_A'] = links['osm_A'].map(test_dict)\n",
    "links['signal_B'] = links['osm_B'].map(test_dict)"
   ]
  },
  {
   "cell_type": "code",
   "execution_count": null,
   "metadata": {},
   "outputs": [],
   "source": [
    "candidate_signals_links = links[(links['signal_A'] != links['signal_B']) & (links['signal_A'].notna() | links['signal_B'].notna()) & (links['link_type']=='road')]"
   ]
  },
  {
   "cell_type": "code",
   "execution_count": null,
   "metadata": {},
   "outputs": [],
   "source": [
    "#candidate_signals_links.explore()"
   ]
  },
  {
   "cell_type": "code",
   "execution_count": null,
   "metadata": {},
   "outputs": [],
   "source": [
    "candidate_signals_links.columns"
   ]
  },
  {
   "cell_type": "code",
   "execution_count": null,
   "metadata": {},
   "outputs": [],
   "source": [
    "import src.modeling_turns as modeling_turns\n",
    "#TODO change this to not create the turn graph (just make it an extra optional step)\n",
    "## Create turn graph dataframe\n",
    "_, turns_df = modeling_turns.create_pseudo_dual_graph(candidate_signals_links,'osm_A','osm_B','osm_linkid','oneway')"
   ]
  },
  {
   "cell_type": "code",
   "execution_count": null,
   "metadata": {},
   "outputs": [],
   "source": [
    "#add signals ids back in\n",
    "test_dict = dict(zip(candidate_signals['osm_N'],candidate_signals['signalID']))\n",
    "\n",
    "turns_df['source_signal_A'] = turns_df['source_A'].map(test_dict)\n",
    "turns_df['source_signal_B'] = turns_df['source_B'].map(test_dict)\n",
    "turns_df['target_signal_A'] = turns_df['target_A'].map(test_dict)\n",
    "turns_df['target_signal_B'] = turns_df['target_B'].map(test_dict)\n",
    "#assign the source signal and target signal parts based on the link directions\n",
    "import numpy as np\n",
    "turns_df['source_signal'] = np.where(turns_df['source_reverse_link'], turns_df['source_signal_A'], turns_df['source_signal_B'])\n",
    "turns_df['target_signal'] = np.where(turns_df['target_reverse_link']==False, turns_df['source_signal_B'], turns_df['source_signal_A'])\n",
    "turns_df.drop(columns=['source_signal_A','source_signal_B','target_signal_A','target_signal_B'],inplace=True)"
   ]
  },
  {
   "cell_type": "code",
   "execution_count": null,
   "metadata": {},
   "outputs": [],
   "source": [
    "#signal ids must be the same to be considered a signalized turn\n",
    "turns_df = turns_df[turns_df['source_signal'] == turns_df['target_signal']]"
   ]
  },
  {
   "cell_type": "code",
   "execution_count": null,
   "metadata": {},
   "outputs": [],
   "source": [
    "#add name and the signal cross street names back\n",
    "name_dict = dict(zip(links['osm_linkid'],links['name']))\n",
    "\n",
    "turns_df['source_name'] = turns_df['source_linkid'].map(name_dict)\n",
    "turns_df['target_name'] = turns_df['target_linkid'].map(name_dict)"
   ]
  },
  {
   "cell_type": "code",
   "execution_count": null,
   "metadata": {},
   "outputs": [],
   "source": [
    "candidate_signals"
   ]
  },
  {
   "cell_type": "code",
   "execution_count": null,
   "metadata": {},
   "outputs": [],
   "source": [
    "candidate_signals_links = links[(links['signal_A'] == links['signal_B']) & (links['link_type']=='road')]"
   ]
  },
  {
   "cell_type": "code",
   "execution_count": null,
   "metadata": {},
   "outputs": [],
   "source": [
    "#add name\n",
    "pd.merge(candidate_signals_links,candidate_signals.drop(columns=['geometry']),on='')"
   ]
  },
  {
   "cell_type": "code",
   "execution_count": null,
   "metadata": {},
   "outputs": [],
   "source": [
    "A = pd.merge(links[['osm_A']],candidate_signals.drop(columns=['geometry']),left_on='osm_A',right_on='osm_N',how='left')\n",
    "# A.drop(columns=['osm_A','osm_N'],inplace=True)\n",
    "# A.columns = A.columns + '_A'\n",
    "\n",
    "B = pd.merge(links[['osm_B']],candidate_signals.drop(columns=['mainStreetName','sideStreetName','geometry']),left_on='osm_B',right_on='osm_N',how='left')\n",
    "# B.drop(columns=['osm_B','osm_N'],inplace=True)\n",
    "# B.rename(columns={'signalID':'signalID_B'},inplace=True)\n"
   ]
  },
  {
   "cell_type": "code",
   "execution_count": null,
   "metadata": {},
   "outputs": [],
   "source": [
    "links[['osm_A']]"
   ]
  },
  {
   "cell_type": "code",
   "execution_count": null,
   "metadata": {},
   "outputs": [],
   "source": []
  },
  {
   "cell_type": "code",
   "execution_count": null,
   "metadata": {},
   "outputs": [],
   "source": [
    "B.shape[0]"
   ]
  },
  {
   "cell_type": "code",
   "execution_count": null,
   "metadata": {},
   "outputs": [],
   "source": [
    "A.shape[0] "
   ]
  },
  {
   "cell_type": "code",
   "execution_count": null,
   "metadata": {},
   "outputs": [],
   "source": [
    "\n",
    "test = pd.concat([links,A,B],axis=1)\n"
   ]
  },
  {
   "cell_type": "code",
   "execution_count": null,
   "metadata": {},
   "outputs": [],
   "source": []
  },
  {
   "cell_type": "code",
   "execution_count": null,
   "metadata": {},
   "outputs": [],
   "source": []
  },
  {
   "cell_type": "code",
   "execution_count": null,
   "metadata": {},
   "outputs": [],
   "source": [
    "test"
   ]
  },
  {
   "cell_type": "code",
   "execution_count": null,
   "metadata": {},
   "outputs": [],
   "source": [
    "candidate_signals"
   ]
  },
  {
   "cell_type": "code",
   "execution_count": null,
   "metadata": {},
   "outputs": [],
   "source": [
    "\n",
    "intersect = {key:item for key, item in intersect.items() if key in road_nodes}"
   ]
  },
  {
   "cell_type": "code",
   "execution_count": null,
   "metadata": {},
   "outputs": [],
   "source": [
    "\n",
    "signals['buffered_geo'] = signals.buffer(buffer_ft)\n",
    "signals.set_geometry('buffered_geo',inplace=True)\n",
    "#signals.explore()"
   ]
  },
  {
   "cell_type": "markdown",
   "metadata": {},
   "source": [
    "## Next, we intersect these bufferred signals with the street nodes"
   ]
  },
  {
   "cell_type": "code",
   "execution_count": null,
   "metadata": {},
   "outputs": [],
   "source": [
    "intersect = gpd.overlay(nodes,signals,how='intersection')\n",
    "intersect.head()\n",
    "# intersect = intersect[['N','signalID']]#,'mainStreetName','sideStreetName']]\n",
    "# intersect = dict(zip(intersect['N'],intersect['signalID']))"
   ]
  },
  {
   "cell_type": "markdown",
   "metadata": {},
   "source": [
    "## First identify public road intersections \n",
    "Most signals should only be at the intersection of public roads (and maybe some major parking lot/service road entrances), knowing this subset to only look at public roads and then calculate the degree of the road nodes. Remove signal id matches for links with degree of 2 or less."
   ]
  },
  {
   "cell_type": "code",
   "execution_count": null,
   "metadata": {},
   "outputs": [],
   "source": [
    "links['link_type'].unique()"
   ]
  },
  {
   "cell_type": "code",
   "execution_count": null,
   "metadata": {},
   "outputs": [],
   "source": [
    "only_roads = links['link_type'].isin(['road','service'])\n",
    "road_nodes = links['A'].append(links['B']).value_counts()\n",
    "#remove matches where degree is 2 or less\n",
    "road_nodes = road_nodes[road_nodes>2].index.tolist()\n",
    "intersect = {key:item for key, item in intersect.items() if key in road_nodes}"
   ]
  },
  {
   "cell_type": "markdown",
   "metadata": {},
   "source": []
  },
  {
   "cell_type": "code",
   "execution_count": null,
   "metadata": {},
   "outputs": [],
   "source": [
    "only_roads = links['link_type']=='road'\n",
    "road_nodes = links['A'].append(links['B']).value_counts()\n",
    "#remove matches where degree is 2 or less\n",
    "road_nodes = road_nodes[road_nodes>2].index.tolist()\n",
    "intersect = {key:item for key, item in intersect.items() if key in road_nodes}"
   ]
  },
  {
   "cell_type": "markdown",
   "metadata": {},
   "source": [
    "### With that done, we assign the signal ID to the node and add it as an attribute in links"
   ]
  },
  {
   "cell_type": "code",
   "execution_count": null,
   "metadata": {},
   "outputs": [],
   "source": [
    "links['signal_A'] = links['A'].map(intersect)\n",
    "links['signal_B'] = links['B'].map(intersect)\n",
    "nodes['signalid'] = nodes['N'].map(intersect)"
   ]
  },
  {
   "cell_type": "markdown",
   "metadata": {},
   "source": [
    "Drop null values"
   ]
  },
  {
   "cell_type": "code",
   "execution_count": null,
   "metadata": {},
   "outputs": [],
   "source": [
    "links = links[~links[['signal_A','signal_B']].isna().all(axis=1)]\n",
    "nodes = nodes[~nodes['N'].isna()]"
   ]
  },
  {
   "cell_type": "markdown",
   "metadata": {},
   "source": [
    "## In the Export Network notebook, we'll process this data further"
   ]
  },
  {
   "cell_type": "code",
   "execution_count": null,
   "metadata": {},
   "outputs": [],
   "source": [
    "links.to_file(network_fp/'signals_added.gpkg',layer='links')\n",
    "nodes.to_file(network_fp/'signals_added.gpkg',layer='nodes')"
   ]
  }
 ],
 "metadata": {
  "kernelspec": {
   "display_name": "Python 3",
   "language": "python",
   "name": "python3"
  },
  "language_info": {
   "codemirror_mode": {
    "name": "ipython",
    "version": 3
   },
   "file_extension": ".py",
   "mimetype": "text/x-python",
   "name": "python",
   "nbconvert_exporter": "python",
   "pygments_lexer": "ipython3",
   "version": "3.11.0"
  }
 },
 "nbformat": 4,
 "nbformat_minor": 2
}

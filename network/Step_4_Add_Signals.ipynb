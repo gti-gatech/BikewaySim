{
 "cells": [
  {
   "cell_type": "markdown",
   "metadata": {},
   "source": [
    "# Add Traffic Signals to Network\n",
    "In this case we already have a traffic signal inventory from the Georgia Department of Transportation, but code for downloading existing traffic signal data from OpenStreetMap (OSM) is also included. This code also retrieves crossings from OSM.\n",
    "\n",
    "First, we'll find signals in the GDOT data that are not covered in the OSM data. Then we'll take these intersect the them with OSM nodes. Using the reference ID columns on the OSM links, these signals can be added to the links. A turn dataframe is then constructed with all of the links that contain at least one signal.\n",
    "\n",
    "Once this happens, the link street name will be cross-referenced to validate the match.\n",
    "\n",
    "- If signals are both road links, check the road name on each to see if it matches the GDOT name\n",
    "- If non-road link just set it to null for now. Some of these may be crosswalks at the intersection, but they could also be walkways further away from the intersection.\n",
    "\n",
    "This final result should be QAQC'd."
   ]
  },
  {
   "cell_type": "code",
   "execution_count": 60,
   "metadata": {},
   "outputs": [],
   "source": [
    "from pathlib import Path \n",
    "import geopandas as gpd\n",
    "import pandas as pd\n",
    "import requests"
   ]
  },
  {
   "cell_type": "code",
   "execution_count": 61,
   "metadata": {},
   "outputs": [],
   "source": [
    "import json\n",
    "config = json.load((Path.cwd().parent / 'config.json').open('rb'))\n",
    "osm_download_fp = Path(config['project_directory']) / 'OSM_Download'\n",
    "network_fp = Path(config['project_directory']) / 'Network'\n",
    "if network_fp.exists() == False:\n",
    "    network_fp.mkdir()"
   ]
  },
  {
   "cell_type": "code",
   "execution_count": 62,
   "metadata": {},
   "outputs": [],
   "source": [
    "links = gpd.read_file(network_fp/'networks.gpkg',layer='osm_links')\n",
    "nodes = gpd.read_file(network_fp/'networks.gpkg',layer='osm_nodes')"
   ]
  },
  {
   "cell_type": "code",
   "execution_count": 63,
   "metadata": {},
   "outputs": [],
   "source": [
    "raw = gpd.read_file(osm_download_fp/f\"osm_{config['geofabrik_year']}.gpkg\",layer=\"raw\",ignore_geometry=True)\n",
    "links = pd.merge(links,raw[['osmid','name','oneway']],how='left',on='osmid')"
   ]
  },
  {
   "cell_type": "code",
   "execution_count": 64,
   "metadata": {},
   "outputs": [],
   "source": [
    "links['oneway'] = links['oneway'].isin(['yes','-1'])"
   ]
  },
  {
   "cell_type": "code",
   "execution_count": 65,
   "metadata": {},
   "outputs": [],
   "source": [
    "#buffer function\n",
    "def buffer_signals(signal_gdf,buffer_ft):\n",
    "    '''\n",
    "    Use to create a copy of a gdf and buffer the point geometry\n",
    "    '''\n",
    "    signal_gdf = signal_gdf.copy()\n",
    "    signal_gdf.geometry = signal_gdf.buffer(buffer_ft)\n",
    "    return signal_gdf"
   ]
  },
  {
   "cell_type": "markdown",
   "metadata": {},
   "source": [
    "# Get OSM traffic signals"
   ]
  },
  {
   "cell_type": "code",
   "execution_count": 66,
   "metadata": {},
   "outputs": [],
   "source": [
    "osm_signals = gpd.read_file(osm_download_fp/f\"osm_{config['geofabrik_year']}.gpkg\",layer='highway_nodes')\n",
    "osm_signals = osm_signals[osm_signals['highway']=='traffic_signals']\n",
    "osm_signals.to_crs(config['projected_crs_epsg'],inplace=True)\n",
    "osm_signal_ids = set(osm_signals['osmid'].tolist())"
   ]
  },
  {
   "cell_type": "code",
   "execution_count": 67,
   "metadata": {},
   "outputs": [],
   "source": [
    "signalized_links = links[(links['osm_A'].isin(osm_signal_ids)) | (links['osm_B'].isin(osm_signal_ids))]\n",
    "import src.modeling_turns as modeling_turns\n",
    "#TODO change this to not create the turn graph (just make it an extra optional step)\n",
    "## Create turn graph dataframe\n",
    "_, turns_df = modeling_turns.create_pseudo_dual_graph(signalized_links,'osm_A','osm_B','osm_linkid','oneway')\n",
    "\n",
    "#add signals ids back in\n",
    "turns_df['signalized'] = turns_df['source_B'].isin(osm_signal_ids)"
   ]
  },
  {
   "cell_type": "code",
   "execution_count": 69,
   "metadata": {},
   "outputs": [],
   "source": [
    "turns_df.drop(columns=['source','target'],inplace=True)"
   ]
  },
  {
   "cell_type": "code",
   "execution_count": 71,
   "metadata": {},
   "outputs": [],
   "source": [
    "turns_df.to_parquet(network_fp/'osm_signals.parquet')"
   ]
  },
  {
   "cell_type": "markdown",
   "metadata": {},
   "source": [
    "## GDOT Signals"
   ]
  },
  {
   "cell_type": "code",
   "execution_count": null,
   "metadata": {},
   "outputs": [],
   "source": [
    "gdot_signals_fp = Path('D:/RAW/GDOT/traffic_signals.geojson')\n",
    "keep = ['signalID','mainStreetName','sideStreetName','geometry']\n",
    "gdot_signals = gpd.read_file(gdot_signals_fp).to_crs(links.crs)[keep]\n",
    "#remove gdot_signals that are beyond the network boundaries\n",
    "gdot_signals = gdot_signals.clip(links.total_bounds)\n",
    "gdot_signals.head()"
   ]
  },
  {
   "cell_type": "markdown",
   "metadata": {},
   "source": [
    "## Symmetric Difference\n",
    "Find GDOT signals that are not already covered by OSM. Maybe ask an undergrad to add these into OSM later."
   ]
  },
  {
   "cell_type": "code",
   "execution_count": null,
   "metadata": {},
   "outputs": [],
   "source": [
    "print(gdot_signals.shape[0],'GDOT signals and',osm_signals.shape[0],'OSM signals')"
   ]
  },
  {
   "cell_type": "code",
   "execution_count": null,
   "metadata": {},
   "outputs": [],
   "source": [
    "# #try the buffer in 50 ft intervals to see results\n",
    "# for buffer_ft in range(50,501,50):\n",
    "#     #buffer_ft = 100\n",
    "#     buffered_signals = osm_signals.copy()\n",
    "#     buffered_signals.geometry = buffered_signals.buffer(buffer_ft)\n",
    "#     difference = gdot_signals.overlay(buffered_signals,how='difference')\n",
    "#     print(buffer_ft,difference.shape[0])\n",
    "buffer_ft = 100 #selecting 100 ft based on city block sizes and that's about where the number of gdot signals not represented by osm signals drops\n",
    "buffered_osm_signals = buffer_signals(osm_signals,buffer_ft)\n",
    "difference = gdot_signals.overlay(buffered_osm_signals,how='difference')\n",
    "difference = difference.drop_duplicates()\n",
    "# plot if desired\n",
    "# m = difference.explore()\n",
    "# osm_signals.explore(m=m,style_kwds={'color':'red'})"
   ]
  },
  {
   "cell_type": "code",
   "execution_count": null,
   "metadata": {},
   "outputs": [],
   "source": [
    "difference.shape[0]"
   ]
  },
  {
   "cell_type": "code",
   "execution_count": null,
   "metadata": {},
   "outputs": [],
   "source": [
    "# difference.to_file(Path.home()/'testing.gpkg')"
   ]
  },
  {
   "cell_type": "markdown",
   "metadata": {},
   "source": [
    "## Add these new GDOT signals into the OSM network\n",
    "Set a buffer for each signal and find all candidate nodes associated\n",
    "- First we set a buffer distance around each signal to find all candidate nodes associated with the traffic signal."
   ]
  },
  {
   "cell_type": "code",
   "execution_count": null,
   "metadata": {},
   "outputs": [],
   "source": [
    "buffer_ft = 100\n",
    "gdot_buffered = buffer_signals(difference,buffer_ft)\n",
    "candidate_signals = gpd.overlay(nodes,gdot_buffered,how=\"intersection\")"
   ]
  },
  {
   "cell_type": "code",
   "execution_count": null,
   "metadata": {},
   "outputs": [],
   "source": [
    "#To\n",
    "#candidate_signals.explore()"
   ]
  },
  {
   "cell_type": "code",
   "execution_count": null,
   "metadata": {},
   "outputs": [],
   "source": [
    "links['link_type'].unique()"
   ]
  },
  {
   "cell_type": "code",
   "execution_count": null,
   "metadata": {},
   "outputs": [],
   "source": [
    "#only consider road nodes\n",
    "only_roads = links['link_type'].isin(['road'])\n",
    "road_nodes = links['osm_A'].append(links['osm_B']).value_counts()\n",
    "# and remove matches where degree is 2 or less\n",
    "road_nodes = road_nodes[road_nodes>2].index.tolist()"
   ]
  },
  {
   "cell_type": "code",
   "execution_count": null,
   "metadata": {},
   "outputs": [],
   "source": [
    "candidate_signals = candidate_signals[candidate_signals['osm_N'].isin(road_nodes)]"
   ]
  },
  {
   "cell_type": "code",
   "execution_count": null,
   "metadata": {},
   "outputs": [],
   "source": [
    "test_dict = dict(zip(candidate_signals['osm_N'],candidate_signals['signalID']))\n",
    "\n",
    "links['signal_A'] = links['osm_A'].map(test_dict)\n",
    "links['signal_B'] = links['osm_B'].map(test_dict)"
   ]
  },
  {
   "cell_type": "code",
   "execution_count": null,
   "metadata": {},
   "outputs": [],
   "source": [
    "candidate_signals_links = links[(links['signal_A'] != links['signal_B']) & (links['signal_A'].notna() | links['signal_B'].notna()) & (links['link_type']=='road')]"
   ]
  },
  {
   "cell_type": "code",
   "execution_count": null,
   "metadata": {},
   "outputs": [],
   "source": [
    "#candidate_signals_links.explore()"
   ]
  },
  {
   "cell_type": "code",
   "execution_count": null,
   "metadata": {},
   "outputs": [],
   "source": [
    "candidate_signals_links.columns"
   ]
  },
  {
   "cell_type": "code",
   "execution_count": null,
   "metadata": {},
   "outputs": [],
   "source": [
    "import src.modeling_turns as modeling_turns\n",
    "#TODO change this to not create the turn graph (just make it an extra optional step)\n",
    "## Create turn graph dataframe\n",
    "_, turns_df = modeling_turns.create_pseudo_dual_graph(candidate_signals_links,'osm_A','osm_B','osm_linkid','oneway')"
   ]
  },
  {
   "cell_type": "code",
   "execution_count": null,
   "metadata": {},
   "outputs": [],
   "source": [
    "#add signals ids back in\n",
    "test_dict = dict(zip(candidate_signals['osm_N'],candidate_signals['signalID']))\n",
    "\n",
    "turns_df['source_signal_A'] = turns_df['source_A'].map(test_dict)\n",
    "turns_df['source_signal_B'] = turns_df['source_B'].map(test_dict)\n",
    "turns_df['target_signal_A'] = turns_df['target_A'].map(test_dict)\n",
    "turns_df['target_signal_B'] = turns_df['target_B'].map(test_dict)\n",
    "#assign the source signal and target signal parts based on the link directions\n",
    "import numpy as np\n",
    "turns_df['source_signal'] = np.where(turns_df['source_reverse_link'], turns_df['source_signal_A'], turns_df['source_signal_B'])\n",
    "turns_df['target_signal'] = np.where(turns_df['target_reverse_link']==False, turns_df['source_signal_B'], turns_df['source_signal_A'])\n",
    "turns_df.drop(columns=['source_signal_A','source_signal_B','target_signal_A','target_signal_B'],inplace=True)"
   ]
  },
  {
   "cell_type": "code",
   "execution_count": null,
   "metadata": {},
   "outputs": [],
   "source": [
    "#signal ids must be the same to be considered a signalized turn\n",
    "turns_df = turns_df[turns_df['source_signal'] == turns_df['target_signal']]"
   ]
  },
  {
   "cell_type": "code",
   "execution_count": null,
   "metadata": {},
   "outputs": [],
   "source": [
    "#add name and the signal cross street names back\n",
    "name_dict = dict(zip(links['osm_linkid'],links['name']))\n",
    "\n",
    "turns_df['source_name'] = turns_df['source_linkid'].map(name_dict)\n",
    "turns_df['target_name'] = turns_df['target_linkid'].map(name_dict)"
   ]
  },
  {
   "cell_type": "code",
   "execution_count": 31,
   "metadata": {},
   "outputs": [
    {
     "data": {
      "text/html": [
       "<div>\n",
       "<style scoped>\n",
       "    .dataframe tbody tr th:only-of-type {\n",
       "        vertical-align: middle;\n",
       "    }\n",
       "\n",
       "    .dataframe tbody tr th {\n",
       "        vertical-align: top;\n",
       "    }\n",
       "\n",
       "    .dataframe thead th {\n",
       "        text-align: right;\n",
       "    }\n",
       "</style>\n",
       "<table border=\"1\" class=\"dataframe\">\n",
       "  <thead>\n",
       "    <tr style=\"text-align: right;\">\n",
       "      <th></th>\n",
       "      <th>osm_N</th>\n",
       "      <th>signalID</th>\n",
       "      <th>mainStreetName</th>\n",
       "      <th>sideStreetName</th>\n",
       "      <th>geometry</th>\n",
       "    </tr>\n",
       "  </thead>\n",
       "  <tbody>\n",
       "    <tr>\n",
       "      <th>0</th>\n",
       "      <td>68143554</td>\n",
       "      <td>11143</td>\n",
       "      <td>Columbia Drive</td>\n",
       "      <td>I-20 Eastbound Ramps</td>\n",
       "      <td>POINT (2270509.745 1351548.335)</td>\n",
       "    </tr>\n",
       "    <tr>\n",
       "      <th>2</th>\n",
       "      <td>68143562</td>\n",
       "      <td>11140</td>\n",
       "      <td>Columbia Drive</td>\n",
       "      <td>Columbia Woods Drive</td>\n",
       "      <td>POINT (2270522.535 1352561.540)</td>\n",
       "    </tr>\n",
       "    <tr>\n",
       "      <th>3</th>\n",
       "      <td>5428164501</td>\n",
       "      <td>11140</td>\n",
       "      <td>Columbia Drive</td>\n",
       "      <td>Columbia Woods Drive</td>\n",
       "      <td>POINT (2270534.436 1352686.444)</td>\n",
       "    </tr>\n",
       "    <tr>\n",
       "      <th>4</th>\n",
       "      <td>5428164507</td>\n",
       "      <td>11140</td>\n",
       "      <td>Columbia Drive</td>\n",
       "      <td>Columbia Woods Drive</td>\n",
       "      <td>POINT (2270521.833 1352521.806)</td>\n",
       "    </tr>\n",
       "    <tr>\n",
       "      <th>5</th>\n",
       "      <td>5428164513</td>\n",
       "      <td>11140</td>\n",
       "      <td>Columbia Drive</td>\n",
       "      <td>Columbia Woods Drive</td>\n",
       "      <td>POINT (2270456.593 1352611.008)</td>\n",
       "    </tr>\n",
       "    <tr>\n",
       "      <th>...</th>\n",
       "      <td>...</td>\n",
       "      <td>...</td>\n",
       "      <td>...</td>\n",
       "      <td>...</td>\n",
       "      <td>...</td>\n",
       "    </tr>\n",
       "    <tr>\n",
       "      <th>3122</th>\n",
       "      <td>7283536973</td>\n",
       "      <td>7647</td>\n",
       "      <td>SR 3 / US 41 / US 19 / Old Dixie Rd</td>\n",
       "      <td>Conley Rd</td>\n",
       "      <td>POINT (2228586.088 1324866.505)</td>\n",
       "    </tr>\n",
       "    <tr>\n",
       "      <th>3123</th>\n",
       "      <td>9664493623</td>\n",
       "      <td>7647</td>\n",
       "      <td>SR 3 / US 41 / US 19 / Old Dixie Rd</td>\n",
       "      <td>Conley Rd</td>\n",
       "      <td>POINT (2228678.400 1324869.616)</td>\n",
       "    </tr>\n",
       "    <tr>\n",
       "      <th>3124</th>\n",
       "      <td>9664493626</td>\n",
       "      <td>7647</td>\n",
       "      <td>SR 3 / US 41 / US 19 / Old Dixie Rd</td>\n",
       "      <td>Conley Rd</td>\n",
       "      <td>POINT (2228589.603 1324944.364)</td>\n",
       "    </tr>\n",
       "    <tr>\n",
       "      <th>3125</th>\n",
       "      <td>8481516245</td>\n",
       "      <td>336</td>\n",
       "      <td>Briarcliff Rd</td>\n",
       "      <td>Briarcliff Pl</td>\n",
       "      <td>POINT (2241713.051 1374037.160)</td>\n",
       "    </tr>\n",
       "    <tr>\n",
       "      <th>3126</th>\n",
       "      <td>9992827133</td>\n",
       "      <td>8725</td>\n",
       "      <td>SR 3/Metropolitan Pkwy</td>\n",
       "      <td>PHB-Beltline</td>\n",
       "      <td>POINT (2223246.783 1353388.490)</td>\n",
       "    </tr>\n",
       "  </tbody>\n",
       "</table>\n",
       "<p>2621 rows × 5 columns</p>\n",
       "</div>"
      ],
      "text/plain": [
       "           osm_N  signalID                       mainStreetName  \\\n",
       "0       68143554     11143                       Columbia Drive   \n",
       "2       68143562     11140                       Columbia Drive   \n",
       "3     5428164501     11140                       Columbia Drive   \n",
       "4     5428164507     11140                       Columbia Drive   \n",
       "5     5428164513     11140                       Columbia Drive   \n",
       "...          ...       ...                                  ...   \n",
       "3122  7283536973      7647  SR 3 / US 41 / US 19 / Old Dixie Rd   \n",
       "3123  9664493623      7647  SR 3 / US 41 / US 19 / Old Dixie Rd   \n",
       "3124  9664493626      7647  SR 3 / US 41 / US 19 / Old Dixie Rd   \n",
       "3125  8481516245       336                        Briarcliff Rd   \n",
       "3126  9992827133      8725               SR 3/Metropolitan Pkwy   \n",
       "\n",
       "            sideStreetName                         geometry  \n",
       "0     I-20 Eastbound Ramps  POINT (2270509.745 1351548.335)  \n",
       "2     Columbia Woods Drive  POINT (2270522.535 1352561.540)  \n",
       "3     Columbia Woods Drive  POINT (2270534.436 1352686.444)  \n",
       "4     Columbia Woods Drive  POINT (2270521.833 1352521.806)  \n",
       "5     Columbia Woods Drive  POINT (2270456.593 1352611.008)  \n",
       "...                    ...                              ...  \n",
       "3122             Conley Rd  POINT (2228586.088 1324866.505)  \n",
       "3123             Conley Rd  POINT (2228678.400 1324869.616)  \n",
       "3124             Conley Rd  POINT (2228589.603 1324944.364)  \n",
       "3125         Briarcliff Pl  POINT (2241713.051 1374037.160)  \n",
       "3126          PHB-Beltline  POINT (2223246.783 1353388.490)  \n",
       "\n",
       "[2621 rows x 5 columns]"
      ]
     },
     "execution_count": 31,
     "metadata": {},
     "output_type": "execute_result"
    }
   ],
   "source": [
    "candidate_signals"
   ]
  },
  {
   "cell_type": "code",
   "execution_count": null,
   "metadata": {},
   "outputs": [],
   "source": [
    "candidate_signals_links = links[(links['signal_A'] == links['signal_B']) & (links['link_type']=='road')]"
   ]
  },
  {
   "cell_type": "code",
   "execution_count": null,
   "metadata": {},
   "outputs": [],
   "source": [
    "#add name\n",
    "pd.merge(candidate_signals_links,candidate_signals.drop(columns=['geometry']),on='')"
   ]
  },
  {
   "cell_type": "code",
   "execution_count": null,
   "metadata": {},
   "outputs": [],
   "source": [
    "A = pd.merge(links[['osm_A']],candidate_signals.drop(columns=['geometry']),left_on='osm_A',right_on='osm_N',how='left')\n",
    "# A.drop(columns=['osm_A','osm_N'],inplace=True)\n",
    "# A.columns = A.columns + '_A'\n",
    "\n",
    "B = pd.merge(links[['osm_B']],candidate_signals.drop(columns=['mainStreetName','sideStreetName','geometry']),left_on='osm_B',right_on='osm_N',how='left')\n",
    "# B.drop(columns=['osm_B','osm_N'],inplace=True)\n",
    "# B.rename(columns={'signalID':'signalID_B'},inplace=True)\n"
   ]
  },
  {
   "cell_type": "code",
   "execution_count": null,
   "metadata": {},
   "outputs": [],
   "source": [
    "links[['osm_A']]"
   ]
  },
  {
   "cell_type": "code",
   "execution_count": null,
   "metadata": {},
   "outputs": [],
   "source": []
  },
  {
   "cell_type": "code",
   "execution_count": null,
   "metadata": {},
   "outputs": [],
   "source": [
    "B.shape[0]"
   ]
  },
  {
   "cell_type": "code",
   "execution_count": null,
   "metadata": {},
   "outputs": [],
   "source": [
    "A.shape[0] "
   ]
  },
  {
   "cell_type": "code",
   "execution_count": null,
   "metadata": {},
   "outputs": [],
   "source": [
    "\n",
    "test = pd.concat([links,A,B],axis=1)\n"
   ]
  },
  {
   "cell_type": "code",
   "execution_count": null,
   "metadata": {},
   "outputs": [],
   "source": []
  },
  {
   "cell_type": "code",
   "execution_count": null,
   "metadata": {},
   "outputs": [],
   "source": []
  },
  {
   "cell_type": "code",
   "execution_count": null,
   "metadata": {},
   "outputs": [],
   "source": [
    "test"
   ]
  },
  {
   "cell_type": "code",
   "execution_count": null,
   "metadata": {},
   "outputs": [],
   "source": [
    "candidate_signals"
   ]
  },
  {
   "cell_type": "code",
   "execution_count": null,
   "metadata": {},
   "outputs": [],
   "source": [
    "\n",
    "intersect = {key:item for key, item in intersect.items() if key in road_nodes}"
   ]
  },
  {
   "cell_type": "code",
   "execution_count": null,
   "metadata": {},
   "outputs": [],
   "source": [
    "\n",
    "signals['buffered_geo'] = signals.buffer(buffer_ft)\n",
    "signals.set_geometry('buffered_geo',inplace=True)\n",
    "#signals.explore()"
   ]
  },
  {
   "cell_type": "markdown",
   "metadata": {},
   "source": [
    "## Next, we intersect these bufferred signals with the street nodes"
   ]
  },
  {
   "cell_type": "code",
   "execution_count": null,
   "metadata": {},
   "outputs": [],
   "source": [
    "intersect = gpd.overlay(nodes,signals,how='intersection')\n",
    "intersect.head()\n",
    "# intersect = intersect[['N','signalID']]#,'mainStreetName','sideStreetName']]\n",
    "# intersect = dict(zip(intersect['N'],intersect['signalID']))"
   ]
  },
  {
   "cell_type": "markdown",
   "metadata": {},
   "source": [
    "## First identify public road intersections \n",
    "Most signals should only be at the intersection of public roads (and maybe some major parking lot/service road entrances), knowing this subset to only look at public roads and then calculate the degree of the road nodes. Remove signal id matches for links with degree of 2 or less."
   ]
  },
  {
   "cell_type": "code",
   "execution_count": null,
   "metadata": {},
   "outputs": [],
   "source": [
    "links['link_type'].unique()"
   ]
  },
  {
   "cell_type": "code",
   "execution_count": null,
   "metadata": {},
   "outputs": [],
   "source": [
    "only_roads = links['link_type'].isin(['road','service'])\n",
    "road_nodes = links['A'].append(links['B']).value_counts()\n",
    "#remove matches where degree is 2 or less\n",
    "road_nodes = road_nodes[road_nodes>2].index.tolist()\n",
    "intersect = {key:item for key, item in intersect.items() if key in road_nodes}"
   ]
  },
  {
   "cell_type": "markdown",
   "metadata": {},
   "source": []
  },
  {
   "cell_type": "code",
   "execution_count": null,
   "metadata": {},
   "outputs": [],
   "source": [
    "only_roads = links['link_type']=='road'\n",
    "road_nodes = links['A'].append(links['B']).value_counts()\n",
    "#remove matches where degree is 2 or less\n",
    "road_nodes = road_nodes[road_nodes>2].index.tolist()\n",
    "intersect = {key:item for key, item in intersect.items() if key in road_nodes}"
   ]
  },
  {
   "cell_type": "markdown",
   "metadata": {},
   "source": [
    "### With that done, we assign the signal ID to the node and add it as an attribute in links"
   ]
  },
  {
   "cell_type": "code",
   "execution_count": null,
   "metadata": {},
   "outputs": [],
   "source": [
    "links['signal_A'] = links['A'].map(intersect)\n",
    "links['signal_B'] = links['B'].map(intersect)\n",
    "nodes['signalid'] = nodes['N'].map(intersect)"
   ]
  },
  {
   "cell_type": "markdown",
   "metadata": {},
   "source": [
    "Drop null values"
   ]
  },
  {
   "cell_type": "code",
   "execution_count": null,
   "metadata": {},
   "outputs": [],
   "source": [
    "links = links[~links[['signal_A','signal_B']].isna().all(axis=1)]\n",
    "nodes = nodes[~nodes['N'].isna()]"
   ]
  },
  {
   "cell_type": "markdown",
   "metadata": {},
   "source": [
    "## In the Export Network notebook, we'll process this data further"
   ]
  },
  {
   "cell_type": "code",
   "execution_count": null,
   "metadata": {},
   "outputs": [],
   "source": [
    "links.to_file(network_fp/'signals_added.gpkg',layer='links')\n",
    "nodes.to_file(network_fp/'signals_added.gpkg',layer='nodes')"
   ]
  }
 ],
 "metadata": {
  "kernelspec": {
   "display_name": "Python 3",
   "language": "python",
   "name": "python3"
  },
  "language_info": {
   "codemirror_mode": {
    "name": "ipython",
    "version": 3
   },
   "file_extension": ".py",
   "mimetype": "text/x-python",
   "name": "python",
   "nbconvert_exporter": "python",
   "pygments_lexer": "ipython3",
   "version": "3.9.13"
  }
 },
 "nbformat": 4,
 "nbformat_minor": 2
}

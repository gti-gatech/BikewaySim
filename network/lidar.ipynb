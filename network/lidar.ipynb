{
 "cells": [
  {
   "cell_type": "markdown",
   "metadata": {},
   "source": [
    "Turn this into a script"
   ]
  },
  {
   "cell_type": "code",
   "execution_count": 1,
   "metadata": {},
   "outputs": [],
   "source": [
    "import laspy\n",
    "import lazrs\n",
    "from pathlib import Path\n",
    "from shapely.ops import Point\n",
    "import numpy as np\n",
    "import rasterio\n",
    "import geopandas as gpd\n",
    "\n",
    "import rasterio\n",
    "from rasterio.transform import from_origin\n",
    "import rasterio\n",
    "from rasterio import features\n",
    "from rasterio.enums import MergeAlg\n",
    "from rasterio.plot import show\n",
    "from numpy import int16, float32\n",
    "\n",
    "import pandas as pd\n",
    "from tqdm import tqdm"
   ]
  },
  {
   "cell_type": "code",
   "execution_count": 2,
   "metadata": {},
   "outputs": [],
   "source": [
    "laz_fp = Path('D:/lidar_files')\n",
    "export_fp = Path('D:/bridge_tif')\n",
    "export_fp2 = Path('D:/bridge_points')"
   ]
  },
  {
   "cell_type": "code",
   "execution_count": 3,
   "metadata": {},
   "outputs": [
    {
     "name": "stderr",
     "output_type": "stream",
     "text": [
      "  0%|          | 0/1390 [00:00<?, ?it/s]"
     ]
    },
    {
     "name": "stderr",
     "output_type": "stream",
     "text": [
      "100%|██████████| 1390/1390 [09:58<00:00,  2.32it/s]\n"
     ]
    }
   ],
   "source": [
    "test = []\n",
    "\n",
    "for fp in tqdm(list(laz_fp.glob('*.laz'))):\n",
    "    \n",
    "    las = laspy.read(fp)\n",
    "    # 17 is the code for bridge decks\n",
    "    x = np.array(las.x[las.classification == 17])\n",
    "    y = np.array(las.y[las.classification == 17])\n",
    "    z = np.array(las.z[las.classification == 17])\n",
    "    geometry = [Point(x1,y1) for x1, y1 in zip(x,y)]\n",
    "    geom_value = list(zip(geometry,z))\n",
    "\n",
    "    if len(geom_value) == 0:\n",
    "        continue\n",
    "\n",
    "    test = test + geom_value"
   ]
  },
  {
   "cell_type": "code",
   "execution_count": 9,
   "metadata": {},
   "outputs": [
    {
     "data": {
      "text/plain": [
       "7397694"
      ]
     },
     "execution_count": 9,
     "metadata": {},
     "output_type": "execute_result"
    }
   ],
   "source": [
    "len(test)"
   ]
  },
  {
   "cell_type": "code",
   "execution_count": 8,
   "metadata": {},
   "outputs": [],
   "source": [
    "gdf = gpd.GeoDataFrame(test,columns=['geometry','elevation_m'],geometry='geometry',crs=las.header.parse_crs())"
   ]
  },
  {
   "cell_type": "code",
   "execution_count": 11,
   "metadata": {},
   "outputs": [],
   "source": [
    "gdf.to_crs('epsg:4326',inplace=True)"
   ]
  },
  {
   "cell_type": "code",
   "execution_count": 14,
   "metadata": {},
   "outputs": [
    {
     "data": {
      "text/html": [
       "<div>\n",
       "<style scoped>\n",
       "    .dataframe tbody tr th:only-of-type {\n",
       "        vertical-align: middle;\n",
       "    }\n",
       "\n",
       "    .dataframe tbody tr th {\n",
       "        vertical-align: top;\n",
       "    }\n",
       "\n",
       "    .dataframe thead th {\n",
       "        text-align: right;\n",
       "    }\n",
       "</style>\n",
       "<table border=\"1\" class=\"dataframe\">\n",
       "  <thead>\n",
       "    <tr style=\"text-align: right;\">\n",
       "      <th></th>\n",
       "      <th>geometry</th>\n",
       "      <th>elevation_m</th>\n",
       "    </tr>\n",
       "  </thead>\n",
       "  <tbody>\n",
       "    <tr>\n",
       "      <th>0</th>\n",
       "      <td>POINT (-84.46475 33.62046)</td>\n",
       "      <td>310.917</td>\n",
       "    </tr>\n",
       "    <tr>\n",
       "      <th>1</th>\n",
       "      <td>POINT (-84.46475 33.62046)</td>\n",
       "      <td>310.808</td>\n",
       "    </tr>\n",
       "    <tr>\n",
       "      <th>2</th>\n",
       "      <td>POINT (-84.46475 33.62047)</td>\n",
       "      <td>309.291</td>\n",
       "    </tr>\n",
       "    <tr>\n",
       "      <th>3</th>\n",
       "      <td>POINT (-84.46474 33.62046)</td>\n",
       "      <td>307.006</td>\n",
       "    </tr>\n",
       "    <tr>\n",
       "      <th>4</th>\n",
       "      <td>POINT (-84.46474 33.62046)</td>\n",
       "      <td>307.242</td>\n",
       "    </tr>\n",
       "    <tr>\n",
       "      <th>...</th>\n",
       "      <td>...</td>\n",
       "      <td>...</td>\n",
       "    </tr>\n",
       "    <tr>\n",
       "      <th>7397689</th>\n",
       "      <td>POINT (-84.18918 33.75984)</td>\n",
       "      <td>258.450</td>\n",
       "    </tr>\n",
       "    <tr>\n",
       "      <th>7397690</th>\n",
       "      <td>POINT (-84.18918 33.75983)</td>\n",
       "      <td>258.540</td>\n",
       "    </tr>\n",
       "    <tr>\n",
       "      <th>7397691</th>\n",
       "      <td>POINT (-84.18918 33.75983)</td>\n",
       "      <td>258.540</td>\n",
       "    </tr>\n",
       "    <tr>\n",
       "      <th>7397692</th>\n",
       "      <td>POINT (-84.18917 33.75983)</td>\n",
       "      <td>258.500</td>\n",
       "    </tr>\n",
       "    <tr>\n",
       "      <th>7397693</th>\n",
       "      <td>POINT (-84.18917 33.75984)</td>\n",
       "      <td>258.400</td>\n",
       "    </tr>\n",
       "  </tbody>\n",
       "</table>\n",
       "<p>7397694 rows × 2 columns</p>\n",
       "</div>"
      ],
      "text/plain": [
       "                           geometry  elevation_m\n",
       "0        POINT (-84.46475 33.62046)      310.917\n",
       "1        POINT (-84.46475 33.62046)      310.808\n",
       "2        POINT (-84.46475 33.62047)      309.291\n",
       "3        POINT (-84.46474 33.62046)      307.006\n",
       "4        POINT (-84.46474 33.62046)      307.242\n",
       "...                             ...          ...\n",
       "7397689  POINT (-84.18918 33.75984)      258.450\n",
       "7397690  POINT (-84.18918 33.75983)      258.540\n",
       "7397691  POINT (-84.18918 33.75983)      258.540\n",
       "7397692  POINT (-84.18917 33.75983)      258.500\n",
       "7397693  POINT (-84.18917 33.75984)      258.400\n",
       "\n",
       "[7397694 rows x 2 columns]"
      ]
     },
     "execution_count": 14,
     "metadata": {},
     "output_type": "execute_result"
    }
   ],
   "source": [
    "gdf"
   ]
  },
  {
   "cell_type": "code",
   "execution_count": 13,
   "metadata": {},
   "outputs": [],
   "source": [
    "import pickle\n",
    "with Path('D:/lidar_points.pkl').open('wb') as fh:\n",
    "    pickle.dump(gdf,fh)"
   ]
  },
  {
   "cell_type": "markdown",
   "metadata": {},
   "source": [
    "Trim off after this "
   ]
  },
  {
   "cell_type": "code",
   "execution_count": null,
   "metadata": {},
   "outputs": [],
   "source": [
    "    geom_value = list(zip(geometry,z))\n",
    "    count_value = list(zip(geometry,np.ones_like(z)))\n",
    "\n",
    "    if len(geom_value) == 0:\n",
    "        continue\n",
    "\n",
    "    # Example extent calculation based on geometry extents\n",
    "    xmin, ymin, xmax, ymax = las.x.min(), las.y.min(), las.x.max(), las.y.max()\n",
    "\n",
    "    # resolution in meters\n",
    "    pixel_size = 15\n",
    "\n",
    "    # Calculate the width and height of the raster\n",
    "    width = int((xmax - xmin) / pixel_size)\n",
    "    height = int((ymax - ymin) / pixel_size)\n",
    "\n",
    "    # Create a transformation\n",
    "    transform = from_origin(xmin, ymax, pixel_size, pixel_size)\n",
    "\n",
    "    #rasterize data\n",
    "    count_raster = features.rasterize(count_value,\n",
    "                                    out_shape=(height,width),\n",
    "                                    fill = 0,#np.nan,\n",
    "                                    transform=transform,\n",
    "                                    all_touched=True,\n",
    "                                    merge_alg = rasterio.enums.MergeAlg.add,#MergeAlg.add,#.replace,\n",
    "                                    dtype=float32)\n",
    "\n",
    "    #rasterize data\n",
    "    rasterized = features.rasterize(geom_value,\n",
    "                                    out_shape=(height,width),\n",
    "                                    fill = 0,#np.nan,\n",
    "                                    transform=transform,\n",
    "                                    all_touched=True,\n",
    "                                    merge_alg = rasterio.enums.MergeAlg.add,#MergeAlg.add,#.replace,\n",
    "                                    dtype=float32)\n",
    "\n",
    "    #averaged\n",
    "    averaged = rasterized / count_raster\n",
    "\n",
    "\n",
    "    #create directory\n",
    "    if export_fp.exists() == False:\n",
    "        export_fp.mkdir()\n",
    "\n",
    "    new_fp = fp.name.split('.laz')[0] + \".tif\"\n",
    "\n",
    "    with rasterio.open(\n",
    "            export_fp / new_fp,\n",
    "            \"w\",\n",
    "            driver = \"GTiff\",\n",
    "            crs = las.header.parse_crs(),\n",
    "            transform = transform,\n",
    "            dtype = rasterio.float32,\n",
    "            count = 1,\n",
    "            width = width,\n",
    "            height = height) as dst:\n",
    "        dst.write(averaged, indexes = 1)"
   ]
  },
  {
   "cell_type": "code",
   "execution_count": null,
   "metadata": {},
   "outputs": [],
   "source": [
    "for fp in list(laz_fp.glob('*.laz')):\n",
    "    \n",
    "#fp = Path.cwd() / 'lidar_files/USGS_LPC_GA_Statewide_2018_B18_DRRA_e1067n1254.laz'\n",
    "\n",
    "    las = laspy.read(fp)\n",
    "    # 17 is the code for bridge decks\n",
    "    x = np.array(las.x[las.classification == 17])\n",
    "    y = np.array(las.y[las.classification == 17])\n",
    "    z = np.array(las.z[las.classification == 17])\n",
    "    geometry = [Point(x1,y1) for x1, y1 in zip(x,y)]\n",
    "    geom_value = list(zip(geometry,z))\n",
    "    count_value = list(zip(geometry,np.ones_like(z)))\n",
    "\n",
    "    if len(geom_value) == 0:\n",
    "        continue\n",
    "\n",
    "    # Example extent calculation based on geometry extents\n",
    "    xmin, ymin, xmax, ymax = las.x.min(), las.y.min(), las.x.max(), las.y.max()\n",
    "\n",
    "    # resolution in meters\n",
    "    pixel_size = 15\n",
    "\n",
    "    # Calculate the width and height of the raster\n",
    "    width = int((xmax - xmin) / pixel_size)\n",
    "    height = int((ymax - ymin) / pixel_size)\n",
    "\n",
    "    # Create a transformation\n",
    "    transform = from_origin(xmin, ymax, pixel_size, pixel_size)\n",
    "\n",
    "    #rasterize data\n",
    "    count_raster = features.rasterize(count_value,\n",
    "                                    out_shape=(height,width),\n",
    "                                    fill = 0,#np.nan,\n",
    "                                    transform=transform,\n",
    "                                    all_touched=True,\n",
    "                                    merge_alg = rasterio.enums.MergeAlg.add,#MergeAlg.add,#.replace,\n",
    "                                    dtype=float32)\n",
    "\n",
    "    #rasterize data\n",
    "    rasterized = features.rasterize(geom_value,\n",
    "                                    out_shape=(height,width),\n",
    "                                    fill = 0,#np.nan,\n",
    "                                    transform=transform,\n",
    "                                    all_touched=True,\n",
    "                                    merge_alg = rasterio.enums.MergeAlg.add,#MergeAlg.add,#.replace,\n",
    "                                    dtype=float32)\n",
    "\n",
    "    #averaged\n",
    "    averaged = rasterized / count_raster\n",
    "\n",
    "\n",
    "    #create directory\n",
    "    if export_fp.exists() == False:\n",
    "        export_fp.mkdir()\n",
    "\n",
    "    new_fp = fp.name.split('.laz')[0] + \".tif\"\n",
    "\n",
    "    with rasterio.open(\n",
    "            export_fp / new_fp,\n",
    "            \"w\",\n",
    "            driver = \"GTiff\",\n",
    "            crs = las.header.parse_crs(),\n",
    "            transform = transform,\n",
    "            dtype = rasterio.float32,\n",
    "            count = 1,\n",
    "            width = width,\n",
    "            height = height) as dst:\n",
    "        dst.write(averaged, indexes = 1)"
   ]
  },
  {
   "cell_type": "code",
   "execution_count": null,
   "metadata": {},
   "outputs": [],
   "source": []
  },
  {
   "cell_type": "code",
   "execution_count": null,
   "metadata": {},
   "outputs": [],
   "source": [
    "las = laspy.read(Path.cwd() / 'lidar_files/USGS_LPC_GA_Statewide_2018_B18_DRRA_e1067n1254.laz')\n",
    "lasa"
   ]
  },
  {
   "cell_type": "code",
   "execution_count": null,
   "metadata": {},
   "outputs": [],
   "source": [
    "x = np.array(las.x[las.classification == 17])\n",
    "y = np.array(las.y[las.classification == 17])\n",
    "z = np.array(las.z[las.classification == 17])\n",
    "shapes = {\n",
    "    'coordinates': list(zip(x,y)),\n",
    "    'type': 'Point',\n",
    "    'data': z\n",
    "}"
   ]
  },
  {
   "cell_type": "code",
   "execution_count": null,
   "metadata": {},
   "outputs": [],
   "source": [
    "geometry = [Point(x1,y1) for x1, y1 in zip(x,y)]\n",
    "geometry"
   ]
  },
  {
   "cell_type": "code",
   "execution_count": null,
   "metadata": {},
   "outputs": [],
   "source": [
    "gdf = gpd.GeoDataFrame({'elevation_m':z,'geometry':geometry},crs=las.header.parse_crs())\n",
    "#gdf.to_crs('epsg:26916',inplace=True)"
   ]
  },
  {
   "cell_type": "code",
   "execution_count": null,
   "metadata": {},
   "outputs": [],
   "source": [
    "import rasterio\n",
    "from rasterio.transform import from_origin\n",
    "import rasterio\n",
    "from rasterio import features\n",
    "from rasterio.enums import MergeAlg\n",
    "from rasterio.plot import show\n",
    "from numpy import int16, float32\n",
    "\n",
    "# Assuming 'shapes' is a list of geometries\n",
    "# You need to determine the extent and other parameters based on your data\n",
    "\n",
    "# Example extent calculation based on shapes\n",
    "xmin, ymin, xmax, ymax = x.min(), y.min(), x.max(), y.max()\n",
    "\n",
    "# Example pixel size (adjust according to your preference)\n",
    "pixel_size = 1\n",
    "\n",
    "# Calculate the width and height of the raster\n",
    "width = int((xmax - xmin) / pixel_size)\n",
    "height = int((ymax - ymin) / pixel_size)\n",
    "\n",
    "# Create a transformation\n",
    "transform = from_origin(xmin, ymax, pixel_size, pixel_size)\n",
    "\n",
    "# Define the CRS (Coordinate Reference System)\n",
    "#crs = 'EPSG:4326'  # Adjust according to your data CRS\n",
    "\n",
    "# Create the src object\n",
    "src = rasterio.open(\n",
    "    'output_raster.tif',\n",
    "    'w',\n",
    "    driver='GTiff',\n",
    "    height=height,\n",
    "    width=width,\n",
    "    count=1,  # Number of bands\n",
    "    dtype='uint8',  # Data type\n",
    "    crs=las.header.parse_crs(),\n",
    "    transform=transform\n",
    ")\n"
   ]
  },
  {
   "cell_type": "code",
   "execution_count": null,
   "metadata": {},
   "outputs": [],
   "source": [
    "geom_value = list(zip(gdf.geometry,gdf['elevation_m']))"
   ]
  },
  {
   "cell_type": "code",
   "execution_count": null,
   "metadata": {},
   "outputs": [],
   "source": [
    "rasterized = features.rasterize(geom_value,\n",
    "                                out_shape=src.shape,\n",
    "                                fill = np.nan,\n",
    "                                transform=src.transform,\n",
    "                                all_touched=True,\n",
    "                                merge_alg = MergeAlg.replace,\n",
    "                                dtype=float32)"
   ]
  },
  {
   "cell_type": "code",
   "execution_count": null,
   "metadata": {},
   "outputs": [],
   "source": [
    "import matplotlib.pyplot as plt\n",
    "# Plot raster\n",
    "fig, ax = plt.subplots(1, figsize = (10, 10))\n",
    "show(rasterized, ax = ax)\n",
    "plt.gca().invert_yaxis()"
   ]
  },
  {
   "cell_type": "code",
   "execution_count": null,
   "metadata": {},
   "outputs": [],
   "source": [
    "rasterized.max()"
   ]
  },
  {
   "cell_type": "code",
   "execution_count": null,
   "metadata": {},
   "outputs": [],
   "source": [
    "with rasterio.open(\n",
    "        Path.cwd() / \"rasterized_vector.tif\", \"w\",\n",
    "        driver = \"GTiff\",\n",
    "        crs = src.crs,\n",
    "        transform = src.transform,\n",
    "        dtype = rasterio.float32,\n",
    "        count = 1,\n",
    "        width = src.width,\n",
    "        height = src.height) as dst:\n",
    "    dst.write(rasterized, indexes = 1)"
   ]
  }
 ],
 "metadata": {
  "kernelspec": {
   "display_name": "Python 3",
   "language": "python",
   "name": "python3"
  },
  "language_info": {
   "codemirror_mode": {
    "name": "ipython",
    "version": 3
   },
   "file_extension": ".py",
   "mimetype": "text/x-python",
   "name": "python",
   "nbconvert_exporter": "python",
   "pygments_lexer": "ipython3",
   "version": "3.12.1"
  }
 },
 "nbformat": 4,
 "nbformat_minor": 2
}

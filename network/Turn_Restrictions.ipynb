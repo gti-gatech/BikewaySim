{
 "cells": [
  {
   "cell_type": "markdown",
   "metadata": {},
   "source": [
    "# Turn Restrictions\n",
    "This notebook is for donwloading OSM's turn restriction data which are stored as relations."
   ]
  },
  {
   "cell_type": "code",
   "execution_count": null,
   "metadata": {},
   "outputs": [],
   "source": [
    "import requests\n",
    "import json\n",
    "from pathlib import Path \n",
    "import geopandas as gpd\n",
    "import pandas as pd\n",
    "\n",
    "import sys\n",
    "path = Path.cwd().parent\n",
    "sys.path.insert(0,str(path))\n",
    "import file_structure_setup\n",
    "config = file_structure_setup.filepaths(path)"
   ]
  },
  {
   "cell_type": "code",
   "execution_count": null,
   "metadata": {},
   "outputs": [],
   "source": [
    "fp = Path.home() / 'Documents/BikewaySimData/Projects/gdot/networks'\n",
    "\n",
    "bikewaysim_studyarea = gpd.read_file(Path.home()/'Documents/BikewaySimData/Data/Study Areas/bikewaysim_studyarea.geojson')\n",
    "\n",
    "links = gpd.read_file(fp/'reconciled_network.gpkg',layer='links_w_signals_elevation',mask=bikewaysim_studyarea)\n",
    "links.to_crs('epsg:4326',inplace=True)\n",
    "\n",
    "minx, miny, maxx, maxy = links.total_bounds"
   ]
  },
  {
   "cell_type": "markdown",
   "metadata": {},
   "source": [
    "# Query"
   ]
  },
  {
   "cell_type": "code",
   "execution_count": null,
   "metadata": {},
   "outputs": [],
   "source": [
    "query = f\"\"\"\n",
    "    [out:json]\n",
    "    [timeout:30]\n",
    "    ;\n",
    "    (relation\n",
    "        [\"restriction\"=\"no_u_turn\"]\n",
    "        ({miny},{minx},{maxy},{maxx});\n",
    "    relation\n",
    "        [\"restriction\"=\"no_left_turn\"]\n",
    "        ({miny},{minx},{maxy},{maxx});\n",
    "    relation\n",
    "        [\"restriction\"=\"only_straight_on\"]\n",
    "        ({miny},{minx},{maxy},{maxx});\n",
    "    relation\n",
    "        [\"restriction\"=\"no_right_turn\"]\n",
    "        ({miny},{minx},{maxy},{maxx});\n",
    "    relation\n",
    "        [\"restriction\"=\"only_left_turn\"]\n",
    "        ({miny},{minx},{maxy},{maxx});\n",
    "    relation\n",
    "        [\"restriction\"=\"no_straight_on\"]\n",
    "        ({miny},{minx},{maxy},{maxx});\n",
    "    );\n",
    "    out geom;\n",
    "    \"\"\"\n",
    "\n",
    "url = \"http://overpass-api.de/api/interpreter\"\n",
    "r = requests.get(url, params={'data': query})\n",
    "result = r.json()"
   ]
  },
  {
   "cell_type": "markdown",
   "metadata": {},
   "source": [
    "Desired format is: \n",
    "| Relation ID | From linkid | To linkid | restriction type |\n",
    "| --- | --- | --- | --- |\n",
    "| test | test | test | test |"
   ]
  },
  {
   "cell_type": "code",
   "execution_count": null,
   "metadata": {},
   "outputs": [],
   "source": [
    "turn_restrictions = []\n",
    "\n",
    "for element in result['elements']:\n",
    "    relation_id = element['id']\n",
    "    restriction = element['tags']['restriction']\n",
    "\n",
    "    #there can be multiple to restrictions\n",
    "    to_way_ids = []\n",
    "\n",
    "    for member in element['members']:\n",
    "        if member['type'] == 'way':\n",
    "            if member['role'] == 'from':\n",
    "                from_way_id = member['ref']\n",
    "            else:\n",
    "                to_way_ids.append(member['ref'])\n",
    "\n",
    "    turn_restrictions.append({\n",
    "        'relation_id': relation_id,\n",
    "        'restriction': restriction,\n",
    "        'from_way_id': from_way_id,\n",
    "        'to_way_id': to_way_ids\n",
    "    })\n",
    "\n",
    "turn_restrictions = pd.DataFrame().from_dict(turn_restrictions).explode('to_way_id')\n",
    "turn_restrictions\n"
   ]
  },
  {
   "cell_type": "code",
   "execution_count": null,
   "metadata": {},
   "outputs": [],
   "source": [
    "turn_restrictions['type'] = turn_restrictions['restriction'].apply(lambda text: text.split('_')[0])\n",
    "turn_restrictions"
   ]
  },
  {
   "cell_type": "code",
   "execution_count": null,
   "metadata": {},
   "outputs": [],
   "source": [
    "turn_restrictions.to_csv(fp.parent/'osm_turn_restrictions.csv',index=False)"
   ]
  }
 ],
 "metadata": {
  "kernelspec": {
   "display_name": "Python 3",
   "language": "python",
   "name": "python3"
  },
  "language_info": {
   "codemirror_mode": {
    "name": "ipython",
    "version": 3
   },
   "file_extension": ".py",
   "mimetype": "text/x-python",
   "name": "python",
   "nbconvert_exporter": "python",
   "pygments_lexer": "ipython3",
   "version": "3.9.13"
  }
 },
 "nbformat": 4,
 "nbformat_minor": 2
}

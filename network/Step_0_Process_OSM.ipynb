{
 "cells": [
  {
   "cell_type": "markdown",
   "metadata": {},
   "source": [
    "# Step 0: OSM Network Download\n",
    "Start here. OSM data is downloaded from Geofabrik in the '.pbf' format to ensure that all tags are retrieved. The OSM data is then turned into network routing format. Lastly, OSM cycling infrastructure is extracted."
   ]
  },
  {
   "cell_type": "code",
   "execution_count": null,
   "metadata": {},
   "outputs": [],
   "source": [
    "from pathlib import Path\n",
    "import geopandas as gpd\n",
    "import osmnx as ox\n",
    "import json\n",
    "from shapely.ops import LineString, Point\n",
    "import pandas as pd\n",
    "import numpy as np\n",
    "import pickle"
   ]
  },
  {
   "cell_type": "code",
   "execution_count": null,
   "metadata": {},
   "outputs": [],
   "source": [
    "#custom\n",
    "from bikewaysim.paths import config\n",
    "from bikewaysim.network import osm_download_functions"
   ]
  },
  {
   "cell_type": "markdown",
   "metadata": {},
   "source": [
    "# Download Geofabrik Extract(s)\n",
    "Use `download_geofabrik` to download Geofabrik '.pbf' extract(s) for desired US state(s) for the specified year provided in 'YY' format. Type 'current' instead of year to get the most current extract. Alternatively, provide your own extract.\n",
    "\n",
    "**NOTE:**\n",
    "- If you change which year you used or downloaded a more current extract, be sure to delete the old ones\n",
    "- If downloading multiple states put the names in all lowercase (full name) seperated by commas\n",
    "\n",
    "## TODO:\n",
    "- Get turn restrictions from the extracts\n",
    "- Add a merging feature if multiple states are needed\n",
    "- Finish .bat scripts"
   ]
  },
  {
   "cell_type": "code",
   "execution_count": null,
   "metadata": {},
   "outputs": [],
   "source": [
    "# osm_download_functions.download_geofabrik(config['geofabrik_state'],config['geofabrik_year'],config['geofabrik_fp'])"
   ]
  },
  {
   "cell_type": "markdown",
   "metadata": {},
   "source": [
    "## Import / export the study area for osmium script"
   ]
  },
  {
   "cell_type": "code",
   "execution_count": null,
   "metadata": {},
   "outputs": [],
   "source": [
    "studyarea_geo = gpd.read_file(config['studyarea_fp']).to_crs('epsg:4326')\n",
    "\n",
    "#export to geojson for the script steps\n",
    "studyarea_geo.to_file(config['geofabrik_fp']/'studyarea.geojson')"
   ]
  },
  {
   "cell_type": "markdown",
   "metadata": {},
   "source": [
    "# Osmium Scripts\n",
    "In these next steps, we'll have to exit the notebook to run some lines of code on conda command line interface. A example \".bat\" and \".sh\" script have been prepared for running all the years/locations downloaded.\n",
    "\n",
    "- Install osmium in its own conda environment:\n",
    "    - `conda create --name osmium && conda install -c conda-forge osmium-tool`\n",
    "\n",
    "- Change directory to where you downloaded the geofrabrik extracts:\n",
    "    - On Windows: `chdir /D D:\\RAW\\OSM\\Geofabrik_GA_Extracts`\n",
    "    - On MacOS/Linux: `cd /D D:\\RAW\\OSM\\Geofabrik_GA_Extracts`\n",
    "\n",
    "- If windows run the osmium.bat script\n",
    "\n",
    "- If mac/linux run the osmium.sh script (make sure to make them executable)"
   ]
  },
  {
   "cell_type": "markdown",
   "metadata": {},
   "source": [
    "# Use OSMnx to process the raw '.osm' version into a network graph"
   ]
  },
  {
   "cell_type": "code",
   "execution_count": null,
   "metadata": {},
   "outputs": [],
   "source": [
    "G = ox.graph.graph_from_xml(config['geofabrik_fp']/'osm_data.osm',simplify=False,retain_all=False)\n",
    "#simplify graph unless different osm ids\n",
    "#can change columns to change this behavior (i.e., )\n",
    "G = ox.simplification.simplify_graph(G, edge_attrs_differ=['osmid'])\n",
    "\n",
    "# Experimenting with the consolidate intersections feature\n",
    "# G_proj = ox.projection.project_graph(G,to_crs=config['projected_crs_epsg'])\n",
    "# G_consolidate = ox.simplification.consolidate_intersections(G_proj,tolerance=25,rebuild_graph=True,reconnect_edges=True)\n",
    "# nodes_consolidate, links_consolidate = ox.convert.graph_to_gdfs(G_consolidate)\n",
    "# links_consolidate.to_file(Path.home()/'Downloads/consolidate.gpkg',layer='links')\n",
    "# nodes_consolidate.to_file(Path.home()/'Downloads/consolidate.gpkg',layer='nodes')"
   ]
  },
  {
   "cell_type": "markdown",
   "metadata": {},
   "source": [
    "# Convert graph to links\n",
    "Note that OSMnx creates three columns to identify the new links: u, v, key.\n",
    "- u: starting node\n",
    "- v: ending node\n",
    "- key: number assigned if are multiple links with the same u and v"
   ]
  },
  {
   "cell_type": "code",
   "execution_count": null,
   "metadata": {},
   "outputs": [],
   "source": [
    "links = ox.convert.graph_to_gdfs(G,nodes=False)\n",
    "links.reset_index(inplace=True)\n",
    "\n",
    "#project links\n",
    "links.to_crs(config['projected_crs_epsg'],inplace=True)\n",
    "\n",
    "#drop reverse links\n",
    "links = links[links['reversed']==False]\n",
    "\n",
    "# re-calculate the length of the links using the new geometry\n",
    "links['length_ft'] = links.length\n",
    "\n",
    "#remove loops as we can't use these for routing unless we split the self loop in half\n",
    "print((links['u'] == links['v']).sum(),'self-loops in the network')\n",
    "links = links[links['u'] != links['v']]"
   ]
  },
  {
   "cell_type": "code",
   "execution_count": null,
   "metadata": {},
   "outputs": [],
   "source": [
    "# examining sidewalks\n",
    "# sidewalks = raw_links[raw_links['all_tags'].apply(lambda x: x.get('footway',None)).notna()]\n",
    "# sidewalks = sidewalks[sidewalks['footway'] == 'sidewalk']\n",
    "# sidewalks.explore()\n",
    "# # links[links['highway']=='footway'].columns"
   ]
  },
  {
   "cell_type": "markdown",
   "metadata": {},
   "source": [
    "# Create a raw gpkg version of the OSM data."
   ]
  },
  {
   "cell_type": "code",
   "execution_count": null,
   "metadata": {},
   "outputs": [],
   "source": [
    "osm_extract = config['geofabrik_fp']/'osm_data.geojson'\n",
    "#include these in the main dataframe columns\n",
    "include_tags = ['@id','@timestamp','@version','@type',\n",
    "                'highway','oneway','name',\n",
    "                'bridge','tunnel',\n",
    "                'cycleway','service',\n",
    "                'footway','sidewalk',\n",
    "                'bicycle','foot','access','area','surface']\n",
    "#remove these from the all tags dict\n",
    "remove_tags = ['@id','@timestamp','@version','@type']\n",
    "raw_links, raw_nodes = osm_download_functions.import_raw_osm_from_geojson(osm_extract,include_tags,remove_tags)\n",
    "\n",
    "# returns a dict of the node sequence for each way (used for elevation)\n",
    "line_node_ids = osm_download_functions.get_way_node_seq(raw_links)\n",
    "\n",
    "# deletes the node sequence from the all tags field\n",
    "raw_links['all_tags'] = raw_links['all_tags'].apply(lambda x: {key:item for key,item in x.items() if key != '@way_nodes'})"
   ]
  },
  {
   "cell_type": "markdown",
   "metadata": {},
   "source": [
    "# Filter the raw links to remove disconnected features and self-loops"
   ]
  },
  {
   "cell_type": "code",
   "execution_count": null,
   "metadata": {},
   "outputs": [],
   "source": [
    "raw_links = raw_links[raw_links['osmid'].isin(set(links['osmid'].tolist()))]"
   ]
  },
  {
   "cell_type": "markdown",
   "metadata": {},
   "source": [
    "# Get start and end node distances\n",
    "Get distance from start of OSM way for the start node and end node of each new OSM edge. In a few cases, the end point will start before the start point because the edge loops back on itself."
   ]
  },
  {
   "cell_type": "code",
   "execution_count": null,
   "metadata": {},
   "outputs": [],
   "source": [
    "links = osm_download_functions.add_start_end_dists(links,raw_links,line_node_ids)"
   ]
  },
  {
   "cell_type": "markdown",
   "metadata": {},
   "source": [
    "# Add attributes from raw links to osmnx links"
   ]
  },
  {
   "cell_type": "code",
   "execution_count": null,
   "metadata": {},
   "outputs": [],
   "source": [
    "# add attributes from the raw links\n",
    "links = pd.merge(links[['u','v','osmid','length_ft','start_dist','end_dist','geometry']],raw_links.drop(columns=['geometry']),on=\"osmid\")\n",
    "\n",
    "# sort values so it's the same order everytime we import\n",
    "links.sort_values(['u','v','osmid','length_ft'],inplace=True)\n",
    "\n",
    "# assign a unique linkid in sequential order\n",
    "links['linkid'] = range(0,len(links))\n"
   ]
  },
  {
   "cell_type": "markdown",
   "metadata": {},
   "source": [
    "# Export"
   ]
  },
  {
   "cell_type": "code",
   "execution_count": null,
   "metadata": {},
   "outputs": [],
   "source": [
    "links.to_file(config['osmdwnld_fp']/f\"osm.gpkg\",layer='edges')\n",
    "raw_links.to_file(config['osmdwnld_fp']/f'osm.gpkg',layer='raw')\n",
    "raw_nodes.to_file(config['osmdwnld_fp']/f'osm.gpkg',layer='highway_nodes')"
   ]
  },
  {
   "cell_type": "code",
   "execution_count": null,
   "metadata": {},
   "outputs": [],
   "source": [
    "# #get the last two digits for year\n",
    "# year = config['geofabrik_year'][-2::]\n",
    "# extract_fp = list(Path(config['geofabrik_fp']).glob(f'*-{year}0101.osm.pbf'))[0]\n",
    "# extract_fp\n",
    "# fileyear = extract_fp.stem.split('-')[1][0:2]\n",
    "# print(f\"Processing 20{fileyear} data\")\n",
    "# osm = OSM(str(extract_fp), bounding_box=studyarea_geo)\n",
    "\n",
    "# #OSMNX Simplification Next\n",
    "# nodes, edges = osm.get_network(network_type='all',nodes=True)\n",
    "# G = osm.to_graph(nodes,edges,graph_type='networkx')\n",
    "\n",
    "# #simplify graph unless different osm ids\n",
    "# #can change columns to change this behavior (i.e., )\n",
    "# G = ox.simplification.simplify_graph(G, edge_attrs_differ=['osmid'])\n",
    "\n",
    "# #remove directed links (do this seperately)\n",
    "# #this doesn't seem to be working at the moment\n",
    "# #G = ox.convert.to_undirected(G)\n",
    "\n",
    "# #this will create an unsimplified graph\n",
    "# nodes, links = ox.convert.graph_to_gdfs(G)\n",
    "# del G\n",
    "\n",
    "# links.reset_index(inplace=True)\n",
    "# nodes.reset_index(drop=True,inplace=True)\n",
    "#add attributes from raw?\n",
    "# raw = gpd.read_file(config['osmdwnld_fp']/f\"osm_{config['geofabrik_year']}.gpkg\",layer=\"raw\",ignore_geometry=True)\n",
    "#raw.drop(columns=[\"length\"],inplace=True)\n",
    "# import sys\n",
    "# sys.path.insert(0,str(Path.cwd().parent))\n",
    "# from network.src import network_filter\n",
    "# nodes['osm_N'] = nodes['osmid']\n",
    "# import pandas as pd\n",
    "# links = pd.merge(links[['osmid','geometry']],raw,on=\"osmid\")\n",
    "# links = network_filter.add_ref_ids(links,nodes,'osm')\n",
    "# #remove loops can't use these for routing\n",
    "# print((links['osm_A'] == links['osm_B']).sum(),'loops in the network')\n",
    "# links = links[links['osm_A'] != links['osm_B']]\n",
    "# import numpy as np\n",
    "# non_reverse_link = []\n",
    "\n",
    "# for row in links.itertuples():\n",
    "#     a = row.osm_A\n",
    "#     b = row.osm_B\n",
    "#     node_ids = np.array(json.loads(row.all_tags)['@way_nodes'])\n",
    "\n",
    "#     a_check = (node_ids == a).sum()\n",
    "#     b_check = (node_ids == b).sum()\n",
    "\n",
    "#     a_idx = (node_ids == a).argmax()\n",
    "#     b_idx = (node_ids == b).argmax()\n",
    "    \n",
    "#     if a_idx < b_idx:\n",
    "#         non_reverse_link.append(row.Index)\n",
    "# len(non_reverse_link)\n",
    "# links = links.loc[non_reverse_link]\n",
    "# Remove duplicated links using the assigned start and end nodes and linkid\n",
    "# # import sys\n",
    "# # sys.path.append(config[\"code_directory\"])\n",
    "# # from network.src.network_filter import remove_directed_links\n",
    "\n",
    "# # links = remove_directed_links(links,\"u\",\"v\",\"osmid\")\n",
    "# links.drop(columns=['osm_A','osm_B'],inplace=True)\n",
    "# nodes.drop(columns=['osm_N'],inplace=True)\n",
    "\n",
    "#deprecated version that use pyrosm but ditched becuase it edited the osm geometry\n",
    "# extract_fps = list(Path(config['geofabrik_fp']).glob('*.osm.pbf'))\n",
    "# extract_fps\n",
    "# osm = OSM(str(extract_fps[-2]), bounding_box=studyarea_geo)\n",
    "\n",
    "# #6 mins for current network\n",
    "# #older versions take less time\n",
    "# raw_edges = osm.get_network(network_type='all')\n",
    "\n",
    "# #export raw ways\n",
    "# raw_edges.to_file(config['osmdwnld_fp']/f\"osm_2023.gpkg\",layer=\"raw\")\n",
    "# this function appears to modify the osm geometry somewhat\n",
    "# for extract_fp in extract_fps:\n",
    "#     fileyear = extract_fp.stem.split('-')[1][0:2]\n",
    "#     print(f\"Processing 20{fileyear} data\")\n",
    "#     osm = OSM(str(extract_fp), bounding_box=studyarea_geo)\n",
    "    \n",
    "#     #6 mins for current network\n",
    "#     #older versions take less time\n",
    "#     raw_edges = osm.get_network(network_type='all')\n",
    "\n",
    "#     #export raw ways\n",
    "#     raw_edges.to_file(config['osmdwnld_fp']/f\"osm_20{fileyear}.gpkg\",layer=\"raw\")\n",
    "    \n",
    "#     del raw_edges\n",
    "#     del osm"
   ]
  }
 ],
 "metadata": {
  "kernelspec": {
   "display_name": "Python 3",
   "language": "python",
   "name": "python3"
  },
  "language_info": {
   "codemirror_mode": {
    "name": "ipython",
    "version": 3
   },
   "file_extension": ".py",
   "mimetype": "text/x-python",
   "name": "python",
   "nbconvert_exporter": "python",
   "pygments_lexer": "ipython3",
   "version": "3.12.6"
  }
 },
 "nbformat": 4,
 "nbformat_minor": 2
}

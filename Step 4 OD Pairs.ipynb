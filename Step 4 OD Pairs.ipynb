{
 "cells": [
  {
   "attachments": {},
   "cell_type": "markdown",
   "id": "b3a0e84c",
   "metadata": {},
   "source": [
    "## Step 4 Network Reconciliation\n",
    "---\n",
    "### This the second of five steps to running BikewaySim\n",
    "1. Process network spatial data into a routable network graph format\n",
    "2. Reconcile networks into one through node and link overlap conflation\n",
    "3. Create final network graph and calculate link costs\n",
    "4. __Create OD tables__\n",
    "5. Run BikewaySim\n",
    "\n",
    "In this step, the networks are conflated to each other by utilizing functions in the network_conflation.py module. \n",
    "\n",
    "There are five main functions in the conflation tools module:\n",
    "1. Match nearest points between base and join networks\n",
    "1. Split base links by joining network node\n",
    "1. Add network attributes by link overlap\n",
    "1. Add join links/nodes that aren't in base network\n",
    "1. Resolve reference IDs\n",
    "\n",
    "The final step combines the different types of networks."
   ]
  },
  {
   "cell_type": "markdown",
   "id": "31b74c49",
   "metadata": {},
   "source": [
    "## Import/install the following packages:"
   ]
  },
  {
   "cell_type": "code",
   "execution_count": 1,
   "id": "a7001d7f",
   "metadata": {},
   "outputs": [],
   "source": [
    "from pathlib import Path\n",
    "import time\n",
    "import geopandas as gpd\n",
    "import pickle"
   ]
  },
  {
   "cell_type": "code",
   "execution_count": null,
   "id": "70eab618",
   "metadata": {},
   "outputs": [],
   "source": [
    "## custom"
   ]
  },
  {
   "cell_type": "code",
   "execution_count": null,
   "id": "c1e0d357",
   "metadata": {},
   "outputs": [],
   "source": []
  },
  {
   "cell_type": "code",
   "execution_count": null,
   "id": "8ca1dfd4",
   "metadata": {},
   "outputs": [],
   "source": [
    "## settings"
   ]
  },
  {
   "cell_type": "code",
   "execution_count": null,
   "id": "c9a2c93a",
   "metadata": {},
   "outputs": [],
   "source": [
    "working_dir = Path.home() / Path('Documents/NewBikewaySimData')\n",
    "\n",
    "settings = {\n",
    "    'studyarea_name': 'bikewaysim',\n",
    "    'studyarea_fp': working_dir,\n",
    "    'tazs_fp': working_dir / Path('Data/ARC/2023tazs'),\n",
    "    'tazs_id_col': 'FID_1',\n",
    "    'centroid': False\n",
    "}"
   ]
  },
  {
   "cell_type": "code",
   "execution_count": null,
   "id": "c4568a84",
   "metadata": {},
   "outputs": [],
   "source": [
    "## examine tazs"
   ]
  },
  {
   "cell_type": "code",
   "execution_count": null,
   "id": "a6dff21a",
   "metadata": {},
   "outputs": [],
   "source": []
  },
  {
   "cell_type": "code",
   "execution_count": null,
   "id": "74237860",
   "metadata": {},
   "outputs": [],
   "source": [
    "## All possible pairs"
   ]
  },
  {
   "cell_type": "code",
   "execution_count": null,
   "id": "58b48270",
   "metadata": {},
   "outputs": [],
   "source": [
    "all_pairs(settings):"
   ]
  },
  {
   "cell_type": "code",
   "execution_count": null,
   "id": "0d988651",
   "metadata": {},
   "outputs": [],
   "source": []
  }
 ],
 "metadata": {
  "kernelspec": {
   "display_name": "Python 3 (ipykernel)",
   "language": "python",
   "name": "python3"
  },
  "language_info": {
   "codemirror_mode": {
    "name": "ipython",
    "version": 3
   },
   "file_extension": ".py",
   "mimetype": "text/x-python",
   "name": "python",
   "nbconvert_exporter": "python",
   "pygments_lexer": "ipython3",
   "version": "3.9.13"
  },
  "varInspector": {
   "cols": {
    "lenName": 16,
    "lenType": 16,
    "lenVar": 40
   },
   "kernels_config": {
    "python": {
     "delete_cmd_postfix": "",
     "delete_cmd_prefix": "del ",
     "library": "var_list.py",
     "varRefreshCmd": "print(var_dic_list())"
    },
    "r": {
     "delete_cmd_postfix": ") ",
     "delete_cmd_prefix": "rm(",
     "library": "var_list.r",
     "varRefreshCmd": "cat(var_dic_list()) "
    }
   },
   "types_to_exclude": [
    "module",
    "function",
    "builtin_function_or_method",
    "instance",
    "_Feature"
   ],
   "window_display": false
  }
 },
 "nbformat": 4,
 "nbformat_minor": 5
}

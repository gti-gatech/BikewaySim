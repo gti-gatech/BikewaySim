{
 "cells": [
  {
   "cell_type": "markdown",
   "metadata": {},
   "source": [
    "# Retrieving OSM Historical Data\n",
    "Some features needed for map matching may not exist anymore, so we might need to query for older osm data to get accurate matches. ohsome seems like an easy way to do this.\n",
    "\n",
    "Steps:\n",
    "- Plot distribution of trip start times\n",
    "- Decide on several cutoff dates\n"
   ]
  },
  {
   "cell_type": "code",
   "execution_count": null,
   "metadata": {},
   "outputs": [],
   "source": [
    "import requests\n",
    "import geopandas as gpd\n",
    "from pathlib import Path\n"
   ]
  },
  {
   "cell_type": "code",
   "execution_count": null,
   "metadata": {},
   "outputs": [],
   "source": [
    "\n",
    "URL = 'https://api.ohsome.org/v1/elements/geometry'\n",
    "\n",
    "data = {\"bboxes\": \"-84.365784,33.762191,-84.357171,33.774961\", \"time\": \"2017-09-01\", \"filter\": \"highway=* and type:way\"}\n",
    "response = requests.post(URL, data=data)\n",
    "print(response.json())"
   ]
  },
  {
   "cell_type": "markdown",
   "metadata": {},
   "source": [
    "# Used to be a ramp here before the current version"
   ]
  },
  {
   "cell_type": "code",
   "execution_count": null,
   "metadata": {},
   "outputs": [],
   "source": [
    "gpd.GeoDataFrame.from_features(response.json()['features'],crs='EPSG:4326').explore()"
   ]
  },
  {
   "cell_type": "markdown",
   "metadata": {},
   "source": [
    "# Full history (so we only need to do one download)\n"
   ]
  },
  {
   "cell_type": "code",
   "execution_count": null,
   "metadata": {},
   "outputs": [],
   "source": [
    "import requests\n",
    "URL = 'https://api.ohsome.org/v1/elementsFullHistory/geometry'\n",
    "data = {\"bboxes\": \"-84.365784,33.762191,-84.357171,33.774961\", \"time\": \"2008-01-01,2016-01-01\", \"filter\": \"highway=* and type:way\"}\n",
    "response = requests.post(URL, data=data)\n",
    "full_history = gpd.GeoDataFrame.from_features(response.json()['features'],crs='EPSG:4326')\n",
    "full_history.to_file(Path.home()/'Downloads/test.gpkg',layer='full_history')"
   ]
  },
  {
   "cell_type": "code",
   "execution_count": null,
   "metadata": {},
   "outputs": [],
   "source": []
  }
 ],
 "metadata": {
  "kernelspec": {
   "display_name": "Python 3",
   "language": "python",
   "name": "python3"
  },
  "language_info": {
   "codemirror_mode": {
    "name": "ipython",
    "version": 3
   },
   "file_extension": ".py",
   "mimetype": "text/x-python",
   "name": "python",
   "nbconvert_exporter": "python",
   "pygments_lexer": "ipython3",
   "version": "3.9.13"
  }
 },
 "nbformat": 4,
 "nbformat_minor": 2
}

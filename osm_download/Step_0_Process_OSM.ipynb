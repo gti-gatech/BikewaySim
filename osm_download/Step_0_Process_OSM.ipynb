{
 "cells": [
  {
   "cell_type": "markdown",
   "metadata": {},
   "source": [
    "# Step 0: OSM Network Download\n",
    "Usually best to start here. OSM data is downloaded from Geofabrik in the '.pbf' format to ensure that all tags are retrieved. The OSM data is then turned into network routing format. Lastly, OSM cycling infrastructure is extracted."
   ]
  },
  {
   "cell_type": "code",
   "execution_count": 1,
   "metadata": {},
   "outputs": [],
   "source": [
    "from pathlib import Path\n",
    "import geopandas as gpd\n",
    "import osmnx as ox\n",
    "import json\n",
    "import fiona\n",
    "from shapely.ops import LineString, Point\n",
    "import pandas as pd\n",
    "\n",
    "config = json.load((Path.cwd().parent / 'config.json').open('rb'))\n",
    "\n",
    "#notebook variables\n",
    "export_fp = Path(config['project_directory']) / 'OSM_Download'\n",
    "if export_fp.exists() == False:\n",
    "    export_fp.mkdir()"
   ]
  },
  {
   "cell_type": "markdown",
   "metadata": {},
   "source": [
    "# Download\n",
    "Download all available Geofabrik '.pbf' extracts for desired US states. Dowloads all availble '.pbf' files with filename pattern statename-YY0101.osm.pbf because these are the versions that are archived by Geofabrik. Use * to specify all years, provide a list of years, or just enter one year.\n",
    "\n",
    "https://download.geofabrik.de/north-america/us/georgia.html"
   ]
  },
  {
   "cell_type": "code",
   "execution_count": 2,
   "metadata": {},
   "outputs": [],
   "source": [
    "#TODO script this section"
   ]
  },
  {
   "cell_type": "markdown",
   "metadata": {},
   "source": [
    "Specify Download Location of Geofabrik Extracts"
   ]
  },
  {
   "cell_type": "markdown",
   "metadata": {},
   "source": [
    "## Import the Study area"
   ]
  },
  {
   "cell_type": "code",
   "execution_count": 3,
   "metadata": {},
   "outputs": [],
   "source": [
    "studyarea_geo = gpd.read_file(config['studyarea']).to_crs('epsg:4326')#.unary_union\n",
    "\n",
    "#export to geojson\n",
    "studyarea_geo.to_file(Path(config['geofabrik_fp'])/'studyarea.geojson')"
   ]
  },
  {
   "cell_type": "markdown",
   "metadata": {},
   "source": [
    "# Osmnium Scripts\n",
    "In these next steps, we'll have to exit the notebook to run some lines of code on conda command line interface. A example \".bat\" and \".sh\" script have been prepared for running all the years/locations downloaded.\n",
    "\n",
    "- Install osmium in its own conda environment:\n",
    "    - `conda create --name osmium && conda install -c conda-forge osmium-tool`\n",
    "\n",
    "- Change directory to where you downloaded the geofrabrik extracts:\n",
    "    - `cd /D D:\\RAW\\OSM\\Geofabrik_GA_Extracts` (for windows/mac/linux)\n",
    "\n",
    "- If windows run the osmium.bat script\n",
    "\n",
    "- If mac/linux run the osmium.sh script"
   ]
  },
  {
   "cell_type": "markdown",
   "metadata": {},
   "source": [
    "## For each downloaded extract, clip by study area, then create a raw gpkg version. This takes a while."
   ]
  },
  {
   "cell_type": "code",
   "execution_count": 4,
   "metadata": {},
   "outputs": [],
   "source": [
    "osm_extracts = list(Path(config['geofabrik_fp']).glob('georgia-*.geojson'))"
   ]
  },
  {
   "cell_type": "code",
   "execution_count": 5,
   "metadata": {},
   "outputs": [
    {
     "data": {
      "text/plain": [
       "[WindowsPath('D:/RAW/OSM/Geofabrik_GA_Extracts/georgia-140101.geojson'),\n",
       " WindowsPath('D:/RAW/OSM/Geofabrik_GA_Extracts/georgia-150101.geojson'),\n",
       " WindowsPath('D:/RAW/OSM/Geofabrik_GA_Extracts/georgia-160101.geojson'),\n",
       " WindowsPath('D:/RAW/OSM/Geofabrik_GA_Extracts/georgia-170101.geojson'),\n",
       " WindowsPath('D:/RAW/OSM/Geofabrik_GA_Extracts/georgia-180101.geojson'),\n",
       " WindowsPath('D:/RAW/OSM/Geofabrik_GA_Extracts/georgia-200101.geojson'),\n",
       " WindowsPath('D:/RAW/OSM/Geofabrik_GA_Extracts/georgia-210101.geojson'),\n",
       " WindowsPath('D:/RAW/OSM/Geofabrik_GA_Extracts/georgia-220101.geojson'),\n",
       " WindowsPath('D:/RAW/OSM/Geofabrik_GA_Extracts/georgia-230101.geojson'),\n",
       " WindowsPath('D:/RAW/OSM/Geofabrik_GA_Extracts/georgia-240101.geojson')]"
      ]
     },
     "execution_count": 5,
     "metadata": {},
     "output_type": "execute_result"
    }
   ],
   "source": [
    "osm_extracts"
   ]
  },
  {
   "cell_type": "code",
   "execution_count": 6,
   "metadata": {},
   "outputs": [],
   "source": [
    "for osm_extract in osm_extracts:\n",
    "\n",
    "    #get the date\n",
    "    extract_date = osm_extract.parts[-1].split('-')[1].split('.')[0][0:2]\n",
    "\n",
    "    #import the geojson file\n",
    "    with osm_extract.open('rb') as fh:\n",
    "        file_contents = fh.read()\n",
    "        raw_links = json.loads(file_contents)['features']\n",
    "\n",
    "    #list for compiling the geodataframe\n",
    "    gpkg = []\n",
    "\n",
    "    included_tags = ['@id','@timestamp','@version','@type',\n",
    "                    'highway','oneway','name',\n",
    "                    'bridge','tunnel',\n",
    "                    'cycleway','service',\n",
    "                    'footway','sidewalk',\n",
    "                    'bicycle','foot','access','area']\n",
    "\n",
    "    for item in raw_links:\n",
    "        all_tags = item['properties'].copy()\n",
    "        \n",
    "        tag_values = []\n",
    "        \n",
    "        for tag in included_tags:\n",
    "            tag_value = all_tags.get(tag,None)     \n",
    "            tag_values.append(tag_value)\n",
    "            if tag_value is not None:\n",
    "                all_tags.pop(tag)\n",
    "        geom = item['geometry']['coordinates']\n",
    "        geom_type = item['geometry']['type']\n",
    "\n",
    "        if geom_type == 'LineString':\n",
    "            geom = LineString(geom)\n",
    "        elif geom_type == 'MultiPolygon':\n",
    "            geom = LineString(geom[0][0])\n",
    "        elif geom_type == 'Point':\n",
    "            geom = Point(geom)\n",
    "        \n",
    "        gpkg.append([*tag_values,all_tags,geom_type,geom])\n",
    "\n",
    "    raw_df = pd.DataFrame(gpkg,columns=[*included_tags,'all_tags','geom_type','geometry'])   \n",
    "    raw_gdf = gpd.GeoDataFrame(raw_df,crs='epsg:4326')\n",
    "\n",
    "    raw_gdf.rename(columns={\n",
    "        '@id':'osmid',\n",
    "        '@timestamp':'timestamp',\n",
    "        '@version':'version',\n",
    "        '@type':'type',\n",
    "    },inplace=True)\n",
    "\n",
    "    #seperate ways from nodes\n",
    "    raw_links = raw_gdf[raw_gdf['type']=='way']\n",
    "    raw_nodes = raw_gdf[raw_gdf['type']=='node']\n",
    "\n",
    "    #drop duplicate ways (when a way forms a polygon it seems to keep both?)\n",
    "    raw_links = raw_links[(raw_links['osmid'].duplicated(keep=False) & (raw_links['geom_type']=='MultiPolygon'))==False]\n",
    "\n",
    "    #remove the areas (pedestrian plazas, not needed for routing)\n",
    "    raw_links = raw_links[raw_links['area']!='yes']\n",
    "\n",
    "    #export\n",
    "    raw_links.to_file(export_fp/f'osm_20{extract_date}.gpkg',layer='raw')\n",
    "    raw_nodes.to_file(export_fp/f'osm_20{extract_date}.gpkg',layer='highway_nodes')"
   ]
  },
  {
   "cell_type": "markdown",
   "metadata": {},
   "source": [
    "## Now for the network version"
   ]
  },
  {
   "cell_type": "markdown",
   "metadata": {},
   "source": [
    "Now use osmnx to import and simplify"
   ]
  },
  {
   "cell_type": "code",
   "execution_count": 5,
   "metadata": {},
   "outputs": [],
   "source": [
    "# DONT USE: doesn't compile the full way correctly\n",
    "# G = ox.graph.graph_from_xml(Path(config['geofabrik_fp'])/'studyarea_roads.osm',simplify=False)\n",
    "# G = ox.convert.to_undirected(G)\n",
    "# nodes, links = ox.convert.graph_to_gdfs(G)\n",
    "\n",
    "# links.to_file(export_fp/f\"osm_{config['geofabrik_year']}.gpkg\",layer='raw')\n",
    "# del nodes\n",
    "# del links"
   ]
  },
  {
   "cell_type": "code",
   "execution_count": 6,
   "metadata": {},
   "outputs": [],
   "source": [
    "G = ox.graph.graph_from_xml(Path(config['geofabrik_fp'])/'georgia-230101.osm',simplify=False)\n",
    "\n",
    "#simplify graph unless different osm ids\n",
    "#can change columns to change this behavior (i.e., )\n",
    "G = ox.simplification.simplify_graph(G, edge_attrs_differ=['osmid'])"
   ]
  },
  {
   "cell_type": "markdown",
   "metadata": {},
   "source": [
    "# Bug:\n",
    "When converting to undirected, it doesn't retain the original direction of the OSM way which poses an issue later on in the elevation assignment step.\n",
    "\n",
    "Proposed fix: if we had a list of the osm node ids, we could figure out the sequence used and know whether to reverse the link or not. Can we read the XML to do this?\n",
    "\n",
    "Easier fix: It only matters for elevation, so maybe just try reversing the link order first"
   ]
  },
  {
   "cell_type": "code",
   "execution_count": 7,
   "metadata": {},
   "outputs": [],
   "source": [
    "G = ox.convert.to_undirected(G)"
   ]
  },
  {
   "cell_type": "code",
   "execution_count": 8,
   "metadata": {},
   "outputs": [],
   "source": [
    "nodes, links = ox.convert.graph_to_gdfs(G)\n",
    "links.reset_index(inplace=True)\n",
    "nodes.reset_index(inplace=True)"
   ]
  },
  {
   "cell_type": "markdown",
   "metadata": {},
   "source": [
    "Fix link direction: we want to make sure that the network links follow the same geoemtry as the original links. Use the start and ending points to do this."
   ]
  },
  {
   "cell_type": "code",
   "execution_count": 9,
   "metadata": {},
   "outputs": [],
   "source": [
    "#add attributes from raw?\n",
    "raw = gpd.read_file(export_fp/f\"osm_{config['geofabrik_year']}.gpkg\",layer=\"raw\",ignore_geometry=True)\n",
    "#raw.drop(columns=[\"length\"],inplace=True)"
   ]
  },
  {
   "cell_type": "code",
   "execution_count": 10,
   "metadata": {},
   "outputs": [],
   "source": [
    "import pandas as pd\n",
    "links = pd.merge(links[['osmid','geometry']],raw,on=\"osmid\")"
   ]
  },
  {
   "cell_type": "markdown",
   "metadata": {},
   "source": [
    "Remove duplicated links using the assigned start and end nodes and linkid"
   ]
  },
  {
   "cell_type": "code",
   "execution_count": 11,
   "metadata": {},
   "outputs": [],
   "source": [
    "# import sys\n",
    "# sys.path.append(config[\"code_directory\"])\n",
    "# from network.src.network_filter import remove_directed_links\n",
    "\n",
    "# links = remove_directed_links(links,\"u\",\"v\",\"osmid\")"
   ]
  },
  {
   "cell_type": "code",
   "execution_count": 12,
   "metadata": {},
   "outputs": [],
   "source": [
    "links.to_file(export_fp/f\"osm_{config['geofabrik_year']}.gpkg\",layer='edges')\n",
    "nodes.to_file(export_fp/f\"osm_{config['geofabrik_year']}.gpkg\",layer='nodes')\n"
   ]
  },
  {
   "cell_type": "code",
   "execution_count": null,
   "metadata": {},
   "outputs": [],
   "source": []
  },
  {
   "cell_type": "code",
   "execution_count": 13,
   "metadata": {},
   "outputs": [],
   "source": [
    "# #get the last two digits for year\n",
    "# year = config['geofabrik_year'][-2::]\n",
    "# extract_fp = list(Path(config['geofabrik_fp']).glob(f'*-{year}0101.osm.pbf'))[0]\n",
    "# extract_fp\n",
    "# fileyear = extract_fp.stem.split('-')[1][0:2]\n",
    "# print(f\"Processing 20{fileyear} data\")\n",
    "# osm = OSM(str(extract_fp), bounding_box=studyarea_geo)\n",
    "\n",
    "# #OSMNX Simplification Next\n",
    "# nodes, edges = osm.get_network(network_type='all',nodes=True)\n",
    "# G = osm.to_graph(nodes,edges,graph_type='networkx')\n",
    "\n",
    "# #simplify graph unless different osm ids\n",
    "# #can change columns to change this behavior (i.e., )\n",
    "# G = ox.simplification.simplify_graph(G, edge_attrs_differ=['osmid'])\n",
    "\n",
    "# #remove directed links (do this seperately)\n",
    "# #this doesn't seem to be working at the moment\n",
    "# #G = ox.convert.to_undirected(G)\n",
    "\n",
    "# #this will create an unsimplified graph\n",
    "# nodes, links = ox.convert.graph_to_gdfs(G)\n",
    "# del G\n",
    "\n",
    "# links.reset_index(inplace=True)\n",
    "# nodes.reset_index(drop=True,inplace=True)"
   ]
  },
  {
   "cell_type": "code",
   "execution_count": 14,
   "metadata": {},
   "outputs": [],
   "source": [
    "#deprecated version that use pyrosm but ditched becuase it edited the osm geometry\n",
    "# extract_fps = list(Path(config['geofabrik_fp']).glob('*.osm.pbf'))\n",
    "# extract_fps\n",
    "# osm = OSM(str(extract_fps[-2]), bounding_box=studyarea_geo)\n",
    "\n",
    "# #6 mins for current network\n",
    "# #older versions take less time\n",
    "# raw_edges = osm.get_network(network_type='all')\n",
    "\n",
    "# #export raw ways\n",
    "# raw_edges.to_file(export_fp/f\"osm_2023.gpkg\",layer=\"raw\")\n",
    "# this function appears to modify the osm geometry somewhat\n",
    "# for extract_fp in extract_fps:\n",
    "#     fileyear = extract_fp.stem.split('-')[1][0:2]\n",
    "#     print(f\"Processing 20{fileyear} data\")\n",
    "#     osm = OSM(str(extract_fp), bounding_box=studyarea_geo)\n",
    "    \n",
    "#     #6 mins for current network\n",
    "#     #older versions take less time\n",
    "#     raw_edges = osm.get_network(network_type='all')\n",
    "\n",
    "#     #export raw ways\n",
    "#     raw_edges.to_file(export_fp/f\"osm_20{fileyear}.gpkg\",layer=\"raw\")\n",
    "    \n",
    "#     del raw_edges\n",
    "#     del osm"
   ]
  }
 ],
 "metadata": {
  "kernelspec": {
   "display_name": "Python 3",
   "language": "python",
   "name": "python3"
  },
  "language_info": {
   "codemirror_mode": {
    "name": "ipython",
    "version": 3
   },
   "file_extension": ".py",
   "mimetype": "text/x-python",
   "name": "python",
   "nbconvert_exporter": "python",
   "pygments_lexer": "ipython3",
   "version": "3.12.3"
  }
 },
 "nbformat": 4,
 "nbformat_minor": 2
}

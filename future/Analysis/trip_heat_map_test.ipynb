{
 "cells": [
  {
   "cell_type": "markdown",
   "id": "f98a6ab2",
   "metadata": {},
   "source": [
    "## Import cell"
   ]
  },
  {
   "cell_type": "code",
   "execution_count": null,
   "id": "ee64d90b",
   "metadata": {},
   "outputs": [],
   "source": [
    "#%%Import modules and import CSV data\n",
    "import pandas as pd\n",
    "import geopandas as gpd\n",
    "from shapely.geometry import Point, LineString, shape\n",
    "import os\n",
    "from pathlib import Path\n",
    "import seaborn as sns\n",
    "import matplotlib.pyplot as plt\n",
    "\n",
    "#make directory/pathing more intuitive later\n",
    "user_directory = os.fspath(Path.home()) #get home directory and convert to path string\n",
    "file_directory = \"\\Documents\\GitHub\\BikewaySim\\TransportSim\" #directory of bikewaysim network processing code\n",
    "\n",
    "#change this to where you stored this folder\n",
    "os.chdir(user_directory+file_directory)"
   ]
  },
  {
   "cell_type": "markdown",
   "id": "24d05d98",
   "metadata": {},
   "source": [
    "## File paths for paths"
   ]
  },
  {
   "cell_type": "code",
   "execution_count": null,
   "id": "14bb5eac",
   "metadata": {},
   "outputs": [],
   "source": [
    "bikewaysim_fp_nodes = 'bikewaysim_network/2020 nodes with latlon/2020_nodes_latlon.geojson'\n",
    "bikewaysim_fp_links = 'bikewaysim_network/2020 links/2020_links.geojson'\n",
    "bikewaysim_date_name = '062221_072540' #for bikewaysim\n",
    "bikewaysim_pref_date_name = '062421_092503' #for bikewaysim but with preferences, instead of distances\n",
    "\n",
    "abm_fp_nodes = 'abm/2020 nodes with latlon/2020_nodes_latlon.geojson'\n",
    "abm_fp_links = 'abm/2020 links/2020_links.geojson'\n",
    "abm_date_name = '062121_200336' # for abm\n"
   ]
  },
  {
   "cell_type": "markdown",
   "id": "885a4bc5",
   "metadata": {},
   "source": [
    "## Read in files"
   ]
  },
  {
   "cell_type": "code",
   "execution_count": null,
   "id": "aa76ec01",
   "metadata": {},
   "outputs": [],
   "source": [
    "def map_trips(fp_nodes, fp_links, date_name):\n",
    "    #NOTE need to change this filepath everytime, integrate this into the existing bikewaysim code\n",
    "    fp_results_csv = fr'trips_bws\\results\\{date_name}\\paths_bike.csv'\n",
    "\n",
    "    #read in CSV files and set index to N and A\n",
    "    df_node_csv = gpd.read_file(fp_nodes, ignore_geometry = True)\n",
    "    df_links = gpd.read_file(fp_links)\n",
    "\n",
    "    df_results_csv = pd.read_csv(fp_results_csv)\n",
    "\n",
    "    #not implemented yet\n",
    "    #read in OD file to get coordinates for OD pair\n",
    "    #df_samples_in_csv = pd.read_csv(r'trips_bws/samples_in/od_pairs.csv')\n",
    "\n",
    "\n",
    "    # Join data frames using N in the node csv to the A comlumn in the result csv then plot\n",
    "    #drop\n",
    "    df_node_csv = df_node_csv.drop_duplicates()\n",
    "    \n",
    "    #joined_results = df_results_csv.join(df_node_csv)\n",
    "    joined_results = pd.merge(df_results_csv,df_node_csv, left_on='A', right_on='N', how='inner')\n",
    "    \n",
    "    #take out trips with less than two points\n",
    "    test = joined_results.groupby(['trip_id'])['trip_id'].count()\n",
    "    joined_results = pd.merge(joined_results, test, left_on = 'trip_id', right_index=True, how = 'left', suffixes=(None,'_count'))\n",
    "    joined_results = joined_results[joined_results['trip_id_count'] > 1 ]\n",
    "    \n",
    "    \n",
    "    joined_results = joined_results.sort_values(by=['trip_id','sequence'], axis=0, ascending = True)\n",
    "\n",
    "\n",
    "    # Zip the coordinates into a point object and convert to a GeoDataFrame\n",
    "    geometry = [Point(xy) for xy in zip(joined_results.X, joined_results.Y)]\n",
    "    gdf = gpd.GeoDataFrame(joined_results, geometry=geometry)\n",
    "    \n",
    "    # Aggregate these points with the GroupBy\n",
    "    gdf = joined_results.groupby(['trip_id'])['geometry'].apply(lambda x: LineString(x.to_list()))\n",
    "    gdf = gpd.GeoDataFrame(gdf, geometry='geometry').set_crs(epsg=2240)\n",
    "    \n",
    "    #export to geojson\n",
    "    gdf.to_file(rf\"Analysis/{date_name}_trips.geojson\", driver = 'GeoJSON')\n",
    "\n",
    "    # Find num of trips on links\n",
    "    trips_on_links = df_results_csv[['A','B']]\n",
    "    trips_on_links = trips_on_links[-trips_on_links.isin(['origin','destination'])]\n",
    "    trips_on_links['trips'] = 1\n",
    "    trips_on_links['A_B'] = trips_on_links['A'] + \"_\" + trips_on_links['B']\n",
    "    trips_on_links = trips_on_links.groupby(['A_B'])['trips'].sum()\n",
    "    \n",
    "    df_links_w_trips = pd.merge(df_links,trips_on_links, left_on = 'A_B', right_on = 'A_B' )\n",
    "    df_links_w_trips.to_file(rf\"Analysis/{date_name}_trips_on_links.geojson\", driver = 'GeoJSON')\n",
    "    \n",
    "    return gdf, df_links_w_trips"
   ]
  },
  {
   "cell_type": "code",
   "execution_count": null,
   "id": "066d681d",
   "metadata": {},
   "outputs": [],
   "source": []
  }
 ],
 "metadata": {
  "kernelspec": {
   "display_name": "Python 3",
   "language": "python",
   "name": "python3"
  },
  "language_info": {
   "codemirror_mode": {
    "name": "ipython",
    "version": 3
   },
   "file_extension": ".py",
   "mimetype": "text/x-python",
   "name": "python",
   "nbconvert_exporter": "python",
   "pygments_lexer": "ipython3",
   "version": "3.8.10"
  }
 },
 "nbformat": 4,
 "nbformat_minor": 5
}

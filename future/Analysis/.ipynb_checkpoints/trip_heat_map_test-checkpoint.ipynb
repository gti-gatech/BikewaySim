{
 "cells": [
  {
   "cell_type": "markdown",
   "id": "d184fea4",
   "metadata": {},
   "source": [
    "## Import cell"
   ]
  },
  {
   "cell_type": "code",
   "execution_count": null,
   "id": "b1c93af4",
   "metadata": {},
   "outputs": [],
   "source": [
    "#%%Import modules and import CSV data\n",
    "import pandas as pd\n",
    "import geopandas as gpd\n",
    "from shapely.geometry import Point, LineString, shape\n",
    "import os\n",
    "from pathlib import Path\n",
    "import seaborn as sns\n",
    "import matplotlib.pyplot as plt\n",
    "\n",
    "#make directory/pathing more intuitive later\n",
    "user_directory = os.fspath(Path.home()) #get home directory and convert to path string\n",
    "file_directory = \"\\Documents\\GitHub\\BikewaySim\\TransportSim\" #directory of bikewaysim network processing code\n",
    "\n",
    "#change this to where you stored this folder\n",
    "os.chdir(user_directory+file_directory)"
   ]
  },
  {
   "cell_type": "markdown",
   "id": "b8c546cd",
   "metadata": {},
   "source": [
    "## File paths for paths"
   ]
  }
 ],
 "metadata": {
  "kernelspec": {
   "display_name": "Python 3",
   "language": "python",
   "name": "python3"
  },
  "language_info": {
   "codemirror_mode": {
    "name": "ipython",
    "version": 3
   },
   "file_extension": ".py",
   "mimetype": "text/x-python",
   "name": "python",
   "nbconvert_exporter": "python",
   "pygments_lexer": "ipython3",
   "version": "3.8.10"
  }
 },
 "nbformat": 4,
 "nbformat_minor": 5
}

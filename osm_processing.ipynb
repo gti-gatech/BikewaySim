{
 "cells": [
  {
   "cell_type": "markdown",
   "id": "27c63a10",
   "metadata": {},
   "source": [
    "# OSM Processing"
   ]
  },
  {
   "cell_type": "markdown",
   "id": "5dc15aaa",
   "metadata": {},
   "source": [
    "## Import Packages"
   ]
  },
  {
   "cell_type": "code",
   "execution_count": 2,
   "id": "259b1425",
   "metadata": {},
   "outputs": [],
   "source": [
    "import os\n",
    "import geopandas as gpd\n",
    "import pandas as pd\n",
    "import pickle\n",
    "from pathlib import Path"
   ]
  },
  {
   "cell_type": "markdown",
   "id": "67011fbd",
   "metadata": {},
   "source": [
    "# Set Directory:"
   ]
  },
  {
   "cell_type": "code",
   "execution_count": 3,
   "id": "71a84fa9",
   "metadata": {},
   "outputs": [],
   "source": [
    "user_directory = os.fspath(Path.home()) #get home directory and convert to path string\n",
    "file_directory = r\"/Documents/BikewaySimData\" #directory of bikewaysim outputs\n",
    "os.chdir(user_directory+file_directory)"
   ]
  },
  {
   "cell_type": "markdown",
   "id": "a134c74c",
   "metadata": {},
   "source": [
    "## Import custom modules"
   ]
  },
  {
   "cell_type": "code",
   "execution_count": 4,
   "id": "c578881d",
   "metadata": {},
   "outputs": [],
   "source": [
    "from osm_dwnld import * #contains functions for downloaded data from OSMnx and Overpass API"
   ]
  },
  {
   "cell_type": "markdown",
   "id": "35042208",
   "metadata": {},
   "source": [
    "## Choose Study Area"
   ]
  },
  {
   "cell_type": "code",
   "execution_count": 5,
   "id": "7f7976bc",
   "metadata": {},
   "outputs": [
    {
     "data": {
      "text/plain": [
       "<AxesSubplot:>"
      ]
     },
     "execution_count": 5,
     "metadata": {},
     "output_type": "execute_result"
    },
    {
     "data": {
      "image/png": "[encoded data removed]",
      "text/plain": [
       "<Figure size 432x288 with 1 Axes>"
      ]
     },
     "metadata": {
      "needs_background": "light"
     },
     "output_type": "display_data"
    }
   ],
   "source": [
    "#give filepath of a shapefile/geojson/geopackage\n",
    "#studyareafp = r'base_shapefiles/bikewaysim_study_area/bikewaysim_study_area.shp'\n",
    "studyareafp = r'base_shapefiles/studyareas/district5.geojson'\n",
    "#studyareafp = r'base_shapefiles/coa/Atlanta_City_Limits.shp'\n",
    "#studyareafp = r'base_shapefiles/arc/arc_bounds.shp'\n",
    "#studyareafp = r'processed_shapefiles\\bike_transit\\all_stops_buffer.geojson'\n",
    "\n",
    "#give study area a name for exporting\n",
    "studyareaname = 'district5'\n",
    "#studyareaname = 'bikewaysim'\n",
    "#studyareaname = 'coa'\n",
    "#studyareaname = 'arc'\n",
    "#studyareaname = 'marta'\n",
    "\n",
    "#read in study area polygon and convert to WGS 84\n",
    "gdf = gpd.read_file(studyareafp).to_crs(epsg=4326)\n",
    "gdf.plot()"
   ]
  },
  {
   "cell_type": "markdown",
   "id": "401d88cf",
   "metadata": {},
   "source": [
    "## Download OSM geometry using OSMnx and attribute data using Overpass API\n",
    "### More info about OSMnx: https://geoffboeing.com/2016/11/osmnx-python-street-networks/\n",
    "### OSMnx documentation: https://osmnx.readthedocs.io/en/stable/index.html"
   ]
  },
  {
   "cell_type": "code",
   "execution_count": null,
   "id": "ff22a237",
   "metadata": {},
   "outputs": [],
   "source": [
    "osm_nodes, osm_links = download_osm(gdf)"
   ]
  },
  {
   "cell_type": "code",
   "execution_count": null,
   "id": "52e7b949",
   "metadata": {},
   "outputs": [],
   "source": [
    "osm_nodes.head()"
   ]
  },
  {
   "cell_type": "code",
   "execution_count": null,
   "id": "5c50401e",
   "metadata": {},
   "outputs": [],
   "source": [
    "osm_links.head()"
   ]
  },
  {
   "cell_type": "code",
   "execution_count": 8,
   "id": "52fea2a9",
   "metadata": {},
   "outputs": [],
   "source": [
    "copyof =osm_links"
   ]
  },
  {
   "cell_type": "markdown",
   "id": "0f6e9c0a",
   "metadata": {},
   "source": [
    "Create a pickle file to store all the attributes"
   ]
  },
  {
   "cell_type": "code",
   "execution_count": 9,
   "id": "6c14b333",
   "metadata": {},
   "outputs": [],
   "source": [
    "with open('processed_shapefiles/osm/attr.pkl', 'wb') as fh:\n",
    "        pickle.dump(osm_links,fh)"
   ]
  },
  {
   "cell_type": "markdown",
   "id": "2d9548e6",
   "metadata": {},
   "source": [
    "Remove columns with unsupported datatypes"
   ]
  },
  {
   "cell_type": "code",
   "execution_count": null,
   "id": "8ec95647",
   "metadata": {},
   "outputs": [],
   "source": [
    "for col in osm_links.columns.tolist():\n",
    "    if list in [type(x) for x in osm_links.loc[:,col]]:\n",
    "        osm_links.drop(columns=col,inplace=True)\n",
    "        print(f\"{col} column removed...\")        "
   ]
  },
  {
   "cell_type": "markdown",
   "id": "638a7cf3",
   "metadata": {},
   "source": [
    "#### Preprocess\n",
    "- Remove controlled access roads\n",
    "- Remove sidewalks and crosswalks unless they explicitly allow bikes"
   ]
  },
  {
   "cell_type": "markdown",
   "id": "fe23f719",
   "metadata": {},
   "source": [
    "##used this for lime\n",
    "#create filtered links\n",
    "osm_links_filt = osm_links\n",
    "\n",
    "#remove restricted access roads + sidewalks\n",
    "restr_access = osm_links_filt['highway'].isin(['motorway','motorway_link'])\n",
    "osm_links_filt = osm_links_filt[-restr_access]\n",
    "        \n",
    "#remove sidewalks unless bikes explicitly allowed\n",
    "remove_sidewalks = (osm_links_filt['footway'].isin(['sidewalk','crossing'])) & (osm_links_filt['bicycle'] != 'yes')\n",
    "osm_links_filt = osm_links_filt[-remove_sidewalks]\n",
    "\n",
    "osm_links_filt = gpd.read_file('osm/for_lime/osm_links_lime_032222.geojson')\n",
    "\n",
    "#remove nodes that aren't in filtered links\n",
    "nodes = osm_links_filt['A'].append(osm_links_filt['B']).unique()\n",
    "osm_nodes_filt = osm_nodes[osm_nodes['osmid'].isin(nodes)]\n",
    "\n",
    "#export\n",
    "cols = ['A','B','osmid','highway','geometry']\n",
    "osm_nodes_filt.to_file('osm/for_lime/osm_nodes_lime.geojson',driver='GeoJSON')\n",
    "osm_links_filt[cols].to_file('osm/for_lime/osm_links_lime.geojson',driver='GeoJSON')\n",
    "osm_nodes_filt.to_file('osm/for_lime/osm_nodes_lime.shp')\n",
    "osm_links_filt[cols].to_file('osm/for_lime/osm_links_lime.shp')"
   ]
  },
  {
   "cell_type": "markdown",
   "id": "0569e9ea",
   "metadata": {},
   "source": [
    "osm_links_filt = gpd.read_file('osm/for_lime/osm_links_lime_032222.geojson')\n",
    "\n",
    "#remove nodes that aren't in filtered links\n",
    "nodes = osm_links_filt['A'].append(osm_links_filt['B']).unique()\n",
    "osm_nodes_filt = osm_nodes[osm_nodes['osmid'].isin(nodes)]\n",
    "\n",
    "osm_nodes_filt.to_file('osm/for_lime/osm_nodes_lime_032222.geojson',driver='GeoJSON')\n",
    "osm_nodes_filt.to_file('osm/for_lime/osm_nodes_lime_032222.shp')\n",
    "osm_links_filt.to_file('osm/for_lime/osm_links_lime_032222.shp')"
   ]
  },
  {
   "cell_type": "markdown",
   "id": "1d1d5e53",
   "metadata": {},
   "source": [
    "OPTIONAL: Only keep necessary columns for filtering (will speed up writing process)"
   ]
  },
  {
   "cell_type": "markdown",
   "id": "41d0d1a0",
   "metadata": {},
   "source": [
    "### Export as GeoJSON (not ideal but can keep all attributes)"
   ]
  },
  {
   "cell_type": "code",
   "execution_count": 11,
   "id": "788386ee",
   "metadata": {},
   "outputs": [],
   "source": [
    "#osm_nodes.to_file(f'base_shapefiles/osm/osm_nodes_{studyareaname}.geojson',driver='GeoJSON')"
   ]
  },
  {
   "cell_type": "code",
   "execution_count": 12,
   "id": "2ea936aa",
   "metadata": {},
   "outputs": [],
   "source": [
    "#osm_links.to_file(f'base_shapefiles/osm/osm_links_{studyareaname}.geojson',driver='GeoJSON')"
   ]
  },
  {
   "cell_type": "markdown",
   "id": "0fedec32",
   "metadata": {},
   "source": [
    "### Export as GPKG (have issues with doing this because of the attributes data)"
   ]
  },
  {
   "cell_type": "code",
   "execution_count": null,
   "id": "dab3d00d",
   "metadata": {},
   "outputs": [],
   "source": [
    "cols = ['A','B','osmid','name','highway','highway_1','oneway','bicycle','footway','geometry']\n",
    "osm_links = osm_links[cols]"
   ]
  },
  {
   "cell_type": "code",
   "execution_count": null,
   "id": "36726d52",
   "metadata": {},
   "outputs": [],
   "source": [
    "osm_nodes.to_file(f'processed_shapefiles/osm/osm_network_{studyareaname}.gpkg',layer='nodes',driver='GPKG')"
   ]
  },
  {
   "cell_type": "code",
   "execution_count": null,
   "id": "6fe16659",
   "metadata": {},
   "outputs": [],
   "source": [
    "osm_links.to_file(f'processed_shapefiles/osm/osm_network_{studyareaname}.gpkg',layer='links',driver='GPKG')"
   ]
  },
  {
   "cell_type": "markdown",
   "id": "d6aab63f",
   "metadata": {},
   "source": [
    "Sometimes, there are duplicate attribute names in OSM. The below code drops duplicate column names by first appearance"
   ]
  },
  {
   "cell_type": "code",
   "execution_count": 16,
   "id": "096c0b84",
   "metadata": {},
   "outputs": [],
   "source": [
    "#get rid of duplicate columns names\n",
    "#overpass_links = overpass_links.iloc[:,overpass_links.columns.str.lower().duplicated(keep='first') == False]\n"
   ]
  }
 ],
 "metadata": {
  "kernelspec": {
   "display_name": "Python 3 (ipykernel)",
   "language": "python",
   "name": "python3"
  },
  "language_info": {
   "codemirror_mode": {
    "name": "ipython",
    "version": 3
   },
   "file_extension": ".py",
   "mimetype": "text/x-python",
   "name": "python",
   "nbconvert_exporter": "python",
   "pygments_lexer": "ipython3",
   "version": "3.9.7"
  },
  "varInspector": {
   "cols": {
    "lenName": 16,
    "lenType": 16,
    "lenVar": 40
   },
   "kernels_config": {
    "python": {
     "delete_cmd_postfix": "",
     "delete_cmd_prefix": "del ",
     "library": "var_list.py",
     "varRefreshCmd": "print(var_dic_list())"
    },
    "r": {
     "delete_cmd_postfix": ") ",
     "delete_cmd_prefix": "rm(",
     "library": "var_list.r",
     "varRefreshCmd": "cat(var_dic_list()) "
    }
   },
   "types_to_exclude": [
    "module",
    "function",
    "builtin_function_or_method",
    "instance",
    "_Feature"
   ],
   "window_display": false
  }
 },
 "nbformat": 4,
 "nbformat_minor": 5
}

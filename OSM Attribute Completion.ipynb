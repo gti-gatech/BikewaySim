{
 "cells": [
  {
   "cell_type": "markdown",
   "metadata": {},
   "source": [
    "# Figure for OSM State of the Map Conference\n",
    "---"
   ]
  },
  {
   "cell_type": "code",
   "execution_count": 140,
   "metadata": {},
   "outputs": [],
   "source": [
    "from pathlib import Path\n",
    "import geopandas as gpd\n",
    "import matplotlib.pyplot as plt\n",
    "import numpy as np\n",
    "import pickle\n",
    "import pandas as pd"
   ]
  },
  {
   "cell_type": "code",
   "execution_count": 143,
   "metadata": {},
   "outputs": [],
   "source": [
    "fp = Path.home() / 'Documents/TransitSimData/networks'\n",
    "#fp = Path.home() / 'Downloads/cleaned_trips/networks'\n",
    "\n",
    "with (fp/'osm.pkl').open('rb') as fh:\n",
    "    osm = pickle.load(fh)"
   ]
  },
  {
   "cell_type": "code",
   "execution_count": 144,
   "metadata": {},
   "outputs": [
    {
     "data": {
      "text/plain": [
       "467"
      ]
     },
     "execution_count": 144,
     "metadata": {},
     "output_type": "execute_result"
    }
   ],
   "source": [
    "len(osm.columns)"
   ]
  },
  {
   "cell_type": "markdown",
   "metadata": {},
   "source": [
    "Public roads not including Interstates"
   ]
  },
  {
   "cell_type": "code",
   "execution_count": 145,
   "metadata": {},
   "outputs": [],
   "source": [
    "public_roads = ['primary','primary_link','residential','secondary','secondary_link',\n",
    "                            'tertiary','tertiary_link','trunk','trunk_link']\n",
    "osm = osm[osm['highway'].isin(public_roads)].copy()"
   ]
  },
  {
   "cell_type": "markdown",
   "metadata": {},
   "source": [
    "Drop completely empty columns"
   ]
  },
  {
   "cell_type": "code",
   "execution_count": 157,
   "metadata": {},
   "outputs": [
    {
     "name": "stdout",
     "output_type": "stream",
     "text": [
      "293\n"
     ]
    }
   ],
   "source": [
    "osm = osm.loc[:,~osm.isna().all()].copy()\n",
    "print(osm.shape[1])"
   ]
  },
  {
   "cell_type": "code",
   "execution_count": 158,
   "metadata": {},
   "outputs": [
    {
     "data": {
      "image/png": "[encoded data removed]",
      "text/plain": [
       "<Figure size 1000x500 with 1 Axes>"
      ]
     },
     "metadata": {},
     "output_type": "display_data"
    }
   ],
   "source": [
    "# Get the network length and total network length\n",
    "network_length = osm.length\n",
    "total_network_length = osm.length.sum()\n",
    "\n",
    "# Calculate attribute completion percentage\n",
    "attr_completion = osm.notna().apply(lambda col: col * network_length, axis=0).sum() / total_network_length * 100\n",
    "attr_completion.name = 'pct_complete'\n",
    "\n",
    "# Define intervals and labels\n",
    "intervals = list(range(0,110,10))\n",
    "labels = list(range(0,100,10))\n",
    "labels = [f'{x+1}-{x+10}' for x in labels]\n",
    "labels[0] = '0-10'\n",
    "\n",
    "# Create categories using .cut\n",
    "categories = pd.cut(attr_completion, bins=intervals, labels=labels)\n",
    "category_counts = categories.value_counts().sort_index()\n",
    "\n",
    "# Create bar chart\n",
    "plt.figure(figsize=(10, 5))\n",
    "bar_plot = category_counts.plot(kind='bar', color='maroon')\n",
    "bar_plot.set_xticklabels(bar_plot.get_xticklabels(), rotation=0)\n",
    "plt.xlabel('Percent of Attribute Complete (%)')\n",
    "plt.ylabel('Number of Attributes')\n",
    "plt.show()"
   ]
  },
  {
   "cell_type": "code",
   "execution_count": 124,
   "metadata": {},
   "outputs": [
    {
     "data": {
      "text/plain": [
       "array([nan])"
      ]
     },
     "execution_count": 124,
     "metadata": {},
     "output_type": "execute_result"
    }
   ],
   "source": []
  },
  {
   "cell_type": "code",
   "execution_count": null,
   "metadata": {},
   "outputs": [],
   "source": [
    "osm['length_ft'] = osm.length"
   ]
  },
  {
   "cell_type": "markdown",
   "metadata": {},
   "source": [
    "Speed Limit"
   ]
  },
  {
   "cell_type": "code",
   "execution_count": 26,
   "metadata": {},
   "outputs": [
    {
     "data": {
      "text/plain": [
       "['maxspeed:advisory',\n",
       " 'maxspeed',\n",
       " 'minspeed',\n",
       " 'source:maxspeed',\n",
       " 'maxspeed:type',\n",
       " 'maxspeed:bicycle',\n",
       " 'maxspeed:variable',\n",
       " 'maxspeed:practical']"
      ]
     },
     "execution_count": 26,
     "metadata": {},
     "output_type": "execute_result"
    }
   ],
   "source": [
    "speed_limit_cols = [col for col in osm.columns if 'speed' in col]\n",
    "speed_limit_cols"
   ]
  },
  {
   "cell_type": "code",
   "execution_count": 27,
   "metadata": {},
   "outputs": [],
   "source": [
    "# speed_limit = osm[['name','highway']+speed_limit_cols+['geometry']].copy()\n",
    "# speed_limit.loc[~speed_limit['speed_limit_cols'].isna().all(axis=1),:].explore()"
   ]
  },
  {
   "cell_type": "code",
   "execution_count": 28,
   "metadata": {},
   "outputs": [],
   "source": [
    "osm['has_speed_limit'] = False\n",
    "osm.loc[osm['maxspeed'].notna(),'has_speed_limit'] = True"
   ]
  },
  {
   "cell_type": "markdown",
   "metadata": {},
   "source": [
    "Lanes"
   ]
  },
  {
   "cell_type": "code",
   "execution_count": 29,
   "metadata": {},
   "outputs": [
    {
     "data": {
      "text/plain": [
       "['lanes',\n",
       " 'destination:lanes',\n",
       " 'turn:lanes',\n",
       " 'maxheight:lane',\n",
       " 'lanes:backward',\n",
       " 'lanes:both_ways',\n",
       " 'lanes:forward',\n",
       " 'turn:lanes:backward',\n",
       " 'hov:lanes',\n",
       " 'destination:ref:lanes',\n",
       " 'destination:ref:to:lanes',\n",
       " 'lane_markings',\n",
       " 'access:lanes',\n",
       " 'turn:lanes:both_ways',\n",
       " 'turn:lanes:forward',\n",
       " 'centre_turn_lane',\n",
       " 'taxi:lanes',\n",
       " 'parking:lane:both',\n",
       " 'parking:lane:right',\n",
       " 'cycleway:both:lane',\n",
       " 'parking:lane:both:parallel',\n",
       " 'parking:lane:left',\n",
       " 'change:lanes:backward',\n",
       " 'parking:lane:left:parallel',\n",
       " 'destination:lanes:forward',\n",
       " 'bus:lanes',\n",
       " 'motor_vehicle:lanes',\n",
       " 'hgv:lanes',\n",
       " 'note:lanes',\n",
       " 'center_turn_lane',\n",
       " 'parking:lanes:both',\n",
       " 'parking:lane:left:capacity',\n",
       " 'motorcycle:lanes',\n",
       " 'source:turn:lanes',\n",
       " 'change:lanes',\n",
       " 'change:lanes:forward',\n",
       " 'destination:ref:lanes:forward',\n",
       " 'bicycle:lanes:backward',\n",
       " 'bicycle:lanes:forward',\n",
       " 'parking:lane',\n",
       " 'limousine:lanes']"
      ]
     },
     "execution_count": 29,
     "metadata": {},
     "output_type": "execute_result"
    }
   ],
   "source": [
    "lane_cols = [col for col in osm.columns if 'lane' in col]\n",
    "lane_cols"
   ]
  },
  {
   "cell_type": "code",
   "execution_count": 30,
   "metadata": {},
   "outputs": [],
   "source": [
    "# lanes = osm[['name','highway']+lane_cols+['geometry']].copy()\n",
    "# lanes.loc[~lanes[lane_cols].isna().all(axis=1),:].explore()"
   ]
  },
  {
   "cell_type": "code",
   "execution_count": 31,
   "metadata": {},
   "outputs": [],
   "source": [
    "osm['has_lanes'] = False\n",
    "osm.loc[osm['lanes'].notna(),'has_lanes'] = True"
   ]
  },
  {
   "cell_type": "markdown",
   "metadata": {},
   "source": [
    "Sidewalks"
   ]
  },
  {
   "cell_type": "code",
   "execution_count": 32,
   "metadata": {},
   "outputs": [
    {
     "data": {
      "text/plain": [
       "['sidewalk',\n",
       " 'sidewalk:both:surface',\n",
       " 'sidewalk:both',\n",
       " 'sidewalk:left',\n",
       " 'sidewalk:right',\n",
       " 'sidewalk:right:surface',\n",
       " 'sidewalk_1']"
      ]
     },
     "execution_count": 32,
     "metadata": {},
     "output_type": "execute_result"
    }
   ],
   "source": [
    "sidewalk_cols = [col for col in osm.columns if 'sidewalk' in col]\n",
    "sidewalk_cols"
   ]
  },
  {
   "cell_type": "code",
   "execution_count": 33,
   "metadata": {},
   "outputs": [],
   "source": [
    "sidewalk_cols = ['sidewalk',\n",
    " 'sidewalk:both',\n",
    " 'sidewalk:left',\n",
    " 'sidewalk:right',\n",
    " 'sidewalk_1']"
   ]
  },
  {
   "cell_type": "code",
   "execution_count": 34,
   "metadata": {},
   "outputs": [],
   "source": [
    "#osm.loc[osm['sidewalk'].isna() & osm[sidewalk_cols].notna().any(axis=1),sidewalk_cols+['sidewalk','geometry']].explore()"
   ]
  },
  {
   "cell_type": "code",
   "execution_count": 35,
   "metadata": {},
   "outputs": [],
   "source": [
    "#osm.loc[osm['sidewalk_1'].notna(),['sidewalk_1','geometry']].explore()"
   ]
  },
  {
   "cell_type": "code",
   "execution_count": 36,
   "metadata": {},
   "outputs": [],
   "source": [
    "osm['has_sidewalk'] = False\n",
    "osm.loc[osm[sidewalk_cols].notna().all(axis=1),'has_sidewalk'] = True"
   ]
  },
  {
   "cell_type": "markdown",
   "metadata": {},
   "source": [
    "Parking"
   ]
  },
  {
   "cell_type": "code",
   "execution_count": 37,
   "metadata": {},
   "outputs": [
    {
     "data": {
      "text/plain": [
       "['parking:lane:both',\n",
       " 'parking:lane:right',\n",
       " 'parking',\n",
       " 'parking:lane:both:parallel',\n",
       " 'parking:lane:left',\n",
       " 'parking:lane:left:parallel',\n",
       " 'parking:lanes:both',\n",
       " 'parking:lane:left:capacity',\n",
       " 'parking:both',\n",
       " 'parking:lane',\n",
       " 'parking:left',\n",
       " 'parking:left:orientation',\n",
       " 'parking:right']"
      ]
     },
     "execution_count": 37,
     "metadata": {},
     "output_type": "execute_result"
    }
   ],
   "source": [
    "parking_cols = [col for col in osm.columns if 'parking' in col]\n",
    "parking_cols"
   ]
  },
  {
   "cell_type": "code",
   "execution_count": 38,
   "metadata": {},
   "outputs": [],
   "source": [
    "#osm.loc[osm[parking_cols].notna().any(axis=1),['name','geometry']+parking_cols].explore()"
   ]
  },
  {
   "cell_type": "code",
   "execution_count": 39,
   "metadata": {},
   "outputs": [],
   "source": [
    "osm['has_parking'] = False\n",
    "osm.loc[osm[parking_cols].notna().any(axis=1),'has_parking'] = True"
   ]
  },
  {
   "cell_type": "code",
   "execution_count": 52,
   "metadata": {},
   "outputs": [],
   "source": [
    "presence_cols = ['has_lanes','has_speed_limit','has_sidewalk','has_parking']\n",
    "presence_df = osm[presence_cols+['length_ft']]\n",
    "\n",
    "test = {}\n",
    "for col in presence_cols:\n",
    "    test[col] = osm.loc[osm[col]==True,'length_ft'].sum() / osm['length_ft'].sum() * 100\n",
    "test = pd.Series(test)"
   ]
  },
  {
   "cell_type": "code",
   "execution_count": 55,
   "metadata": {},
   "outputs": [
    {
     "data": {
      "text/plain": [
       "has_lanes          15.8\n",
       "has_speed_limit    12.7\n",
       "has_sidewalk        0.0\n",
       "has_parking         0.1\n",
       "dtype: float64"
      ]
     },
     "execution_count": 55,
     "metadata": {},
     "output_type": "execute_result"
    }
   ],
   "source": [
    "test.rename('attribute completion')\n",
    "test.round(1)"
   ]
  },
  {
   "cell_type": "markdown",
   "metadata": {},
   "source": [
    "Important variables in figure: lanes, speed limit, sidewalk presence, parking (then mention grade)"
   ]
  },
  {
   "cell_type": "code",
   "execution_count": null,
   "metadata": {},
   "outputs": [],
   "source": [
    "#get length and total length\n",
    "network_length = osm_links.length\n",
    "total_network_length = osm_links.length.sum()\n",
    "attr_completion = osm.notna().apply(lambda col: col*network_length,axis=0).sum() / total_network_length * 100\n",
    "attr_completion.name = 'pct_complete'\n",
    "\n",
    "# Make boxplot of attribute completion\n",
    "marks = np.array(attr_completion)\n",
    "\n",
    "fig, axis = plt.subplots(figsize =(10, 5))\n",
    "axis.hist(marks, bins = np.array([x for x in range(0, 110, 10)]) / 100)\n",
    "plt.xlabel('Percent of Attribute Complete')\n",
    "plt.ylabel('Frequency')\n",
    "# Displaying the graph\n",
    "plt.show()"
   ]
  }
 ],
 "metadata": {
  "kernelspec": {
   "display_name": "Python 3",
   "language": "python",
   "name": "python3"
  },
  "language_info": {
   "codemirror_mode": {
    "name": "ipython",
    "version": 3
   },
   "file_extension": ".py",
   "mimetype": "text/x-python",
   "name": "python",
   "nbconvert_exporter": "python",
   "pygments_lexer": "ipython3",
   "version": "3.9.13"
  }
 },
 "nbformat": 4,
 "nbformat_minor": 2
}

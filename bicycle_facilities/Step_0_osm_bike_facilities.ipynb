{
 "cells": [
  {
   "cell_type": "markdown",
   "metadata": {},
   "source": [
    "# Extract Cycling Infrastructure from OSM\n",
    "Run this notebook to get all of the potential bicycling infrastructure in the study area.\n"
   ]
  },
  {
   "cell_type": "code",
   "execution_count": null,
   "metadata": {},
   "outputs": [],
   "source": [
    "import geopandas as gpd\n",
    "import pandas as pd\n",
    "import ast\n",
    "from pathlib import Path\n",
    "\n",
    "from bikewaysim.paths import config, root"
   ]
  },
  {
   "cell_type": "markdown",
   "metadata": {},
   "source": [
    "Import network"
   ]
  },
  {
   "cell_type": "code",
   "execution_count": null,
   "metadata": {},
   "outputs": [],
   "source": [
    "links = gpd.read_file(config['osmdwnld_fp'] / f\"osm.gpkg\",layer='raw')\n",
    "links0 = gpd.read_file(config['network_fp']/'networks.gpkg',layer='osm_links',ignore_geometry=True)\n",
    "links = links[links['osmid'].isin(set(links0['osmid'].tolist()))]\n",
    "link_type = dict(zip(links0['osmid'],links0['link_type']))\n",
    "links['link_type'] = links['osmid'].map(link_type)\n",
    "del links0"
   ]
  },
  {
   "cell_type": "markdown",
   "metadata": {},
   "source": [
    "Modify manually identified features"
   ]
  },
  {
   "cell_type": "code",
   "execution_count": null,
   "metadata": {},
   "outputs": [],
   "source": [
    "# turns a feature into a multi use path\n",
    "change_to_designated = [int(x) for x in (root / 'bicycle_facilities/change_to_designated.txt').read_text().splitlines()]\n",
    "# links.loc[links['osmid'].isin(change_to_designated)].explore()\n",
    "#links.loc[links['osmid'].isin(change_to_designated)].to_file(config['bicycle_facilities_fp']/'scratch.gpkg',layer='change_to_designated')"
   ]
  },
  {
   "cell_type": "code",
   "execution_count": null,
   "metadata": {},
   "outputs": [],
   "source": [
    "# removes a feature from being considered a multi use path\n",
    "exclude = [int(x) for x in (root/'bicycle_facilities/exclude_facilities.txt').read_text().splitlines()]\n",
    "# links[links['osmid'].isin(exclude)].explore()\n",
    "#links.loc[links['osmid'].isin(exclude)].to_file(config['bicycle_facilities_fp']/'scratch.gpkg',layer='exclude')"
   ]
  },
  {
   "cell_type": "code",
   "execution_count": null,
   "metadata": {},
   "outputs": [],
   "source": [
    "links.loc[links['osmid'].isin(change_to_designated),'bicycle'] = 'designated'\n",
    "links = links[links['osmid'].isin(exclude)==False]"
   ]
  },
  {
   "cell_type": "markdown",
   "metadata": {},
   "source": [
    "Get every feature with a cycleway related tag"
   ]
  },
  {
   "cell_type": "code",
   "execution_count": null,
   "metadata": {},
   "outputs": [],
   "source": [
    "links.drop(columns='cycleway',inplace=True)\n",
    "\n",
    "# retrieve cycleway columns\n",
    "all_cycleway_tags = {}\n",
    "for idx, row in links.iterrows():\n",
    "    #read the tags column as a dict\n",
    "    tags = ast.literal_eval(row['all_tags'])\n",
    "    #check for keys with cycleway mentioned\n",
    "    cycleway_tags = {key:tags[key] for key in tags.keys() if \"cycleway\" in key}\n",
    "\n",
    "    if len(cycleway_tags) > 0:\n",
    "        all_cycleway_tags[idx] = cycleway_tags\n",
    "\n",
    "#add as columns to the main dataframe\n",
    "all_cycleway_tags_df = pd.DataFrame.from_dict(all_cycleway_tags,orient='index')\n",
    "\n",
    "links = pd.merge(links, all_cycleway_tags_df, left_index=True, right_index=True, how='left')\n",
    "\n",
    "\n",
    "is_cycleway = links['highway'].isin(['cycleway'])\n",
    "cycleway_tags = (links['cycleway'].notna()) | (links.index.isin(all_cycleway_tags.keys()))\n",
    "# NOTE removed permissive and permitted\n",
    "peds_allowed = links['foot'].isin(['yes','designated'])\n",
    "bikes_allowed = links['bicycle'].isin(['yes','designated'])\n",
    "\n",
    "# reduce to features that are most likely to be cycleways\n",
    "cycleways = links[is_cycleway | cycleway_tags | bikes_allowed].copy()\n",
    "\n",
    "print('These are the cycleway tags used in the study area')\n",
    "print(all_cycleway_tags_df.columns.tolist())\n",
    "\n",
    "needed_cols = ['cycleway','cycleway:both','cycleway:right','cycleway:left']\n",
    "for col in needed_cols:\n",
    "    if col not in cycleways.columns.tolist():\n",
    "        cycleways[col] = None"
   ]
  },
  {
   "cell_type": "markdown",
   "metadata": {},
   "source": [
    "# Classify Cycling Infrastructure Types\n",
    "Heavily inspired from [People for Bikes](https://drive.google.com/file/d/1iJtlhDbTMEPdoUngrCKL-rfSK84ib081/view)\n",
    "\n",
    "Cycling infrastructure was categorized into the following types by direction:\n",
    "- Sharrow (Class III)\n",
    "- Bicycle Lanes (Class II):\n",
    "    - None (Class II)\n",
    "    - Buffered (Class II)\n",
    "    - Flex posts (Class II)\n",
    "- Cycletracks or Bike Lanes with Physical Separation (Class IV)\n",
    "- Multi-Use Trails (Class I)\n",
    "    - Includes side paths and wide sidewalks\n",
    "    - Multi-use trails/shared-use paths that don't follow a road"
   ]
  },
  {
   "cell_type": "markdown",
   "metadata": {},
   "source": [
    "## Directional bike facilities"
   ]
  },
  {
   "cell_type": "code",
   "execution_count": null,
   "metadata": {},
   "outputs": [],
   "source": [
    "cycleways['facility_fwd'] = None #facility type for the forward direction (if any)\n",
    "cycleways['facility_rev'] = None #facility type for the reverse direction (if any)\n",
    "\n",
    "right_cols = cycleways.columns[cycleways.columns.str.startswith(\"cycleway:right\")].tolist()\n",
    "left_cols = cycleways.columns[cycleways.columns.str.startswith(\"cycleway:left\")].tolist()"
   ]
  },
  {
   "cell_type": "markdown",
   "metadata": {},
   "source": [
    "## No facility\n",
    "Pre-assign ways that don't have a bicycle facility. If there is a seperate way (cycleway=seperate) then mark as no facility because there should be a corresponding cycletrack or multi-use path next to that way. Note if your study area does not have the requisite tags, black columns are added.\n"
   ]
  },
  {
   "cell_type": "code",
   "execution_count": null,
   "metadata": {},
   "outputs": [],
   "source": [
    "#mark all private access as no facility\n",
    "cycleways.loc[cycleways['access'].isin(['no','private','customers']),['facility_fwd','facility_rev']] = 'no facility'\n",
    "\n",
    "#mark any null or tags with no facility keywords as false\n",
    "no_facility_keywords = ['no','separate','none']\n",
    "not_cycleway = cycleways['link_type'] != 'bike' #cycleways['highway'].isin(['cycleway','path']) == False\n",
    "not_both = cycleways[['cycleway','cycleway:both']].isna().all(axis=1) | cycleways[['cycleway','cycleway:both']].isin(no_facility_keywords).any(axis=1)\n",
    "no_right = (cycleways['cycleway:right'].isna() | cycleways['cycleway:right'].isin(no_facility_keywords))\n",
    "no_left = (cycleways['cycleway:left'].isna() | cycleways['cycleway:left'].isin(no_facility_keywords)) \n",
    "\n",
    "cycleways.loc[not_cycleway & not_both & no_right & cycleways['facility_fwd'].isna(),'facility_fwd'] = 'no facility'\n",
    "cycleways.loc[not_cycleway & not_both & no_left & cycleways['facility_rev'].isna(),'facility_rev'] = 'no facility'"
   ]
  },
  {
   "cell_type": "markdown",
   "metadata": {},
   "source": [
    "## Multi-use paths and cycletracks (Class I and Class IV)\n",
    "OSM doesn't have a good way to distinguish between multi-use paths and cycletracks bike facilities. Sometimes a segregation tag will be used but many of the class iv bike facilities in Atlanta are bi-directional and thus are typically drawn as separate geometries. Because of this they look identical to side-paths and multi-use trails (class i). In the older data, there are a few occurances of highway=cycleway being accompanied by cycleway=lane. Cycleway should take precedent in these cases."
   ]
  },
  {
   "cell_type": "markdown",
   "metadata": {},
   "source": [
    "**Cycletracks (aka Class IV Bike Lanes) Should Have \"foot = no\" OR \"foot IS NULL\" AND be \"highway=cycleway\" but this isn't always consistent**"
   ]
  },
  {
   "cell_type": "code",
   "execution_count": null,
   "metadata": {},
   "outputs": [],
   "source": [
    "cycleways['highway'].unique()"
   ]
  },
  {
   "cell_type": "markdown",
   "metadata": {},
   "source": [
    "\n",
    "Cycletracks"
   ]
  },
  {
   "cell_type": "code",
   "execution_count": null,
   "metadata": {},
   "outputs": [],
   "source": [
    "no_peds = (peds_allowed==False) | cycleways['foot'].isna()\n",
    "cycleways.loc[((cycleways['highway'].isin(['cycleway']) & no_peds)) & cycleways['facility_fwd'].isna(),'facility_fwd'] = 'cycletrack'\n",
    "cycleways.loc[((cycleways['highway'].isin(['cycleway']) & no_peds)) & cycleways['facility_rev'].isna() & (cycleways['oneway']!='yes'),'facility_rev'] = 'cycletrack'\n",
    "\n",
    "# NOTE: there are going to be cases in which there will be a bike facility on the left side of the road that's actually the forward direction facility\n",
    "cycleways.loc[(cycleways['cycleway:right'] == 'track') & cycleways['facility_fwd'].isna(),'facility_fwd'] = 'cycletrack'\n",
    "cycleways.loc[(cycleways['cycleway:left'] == 'track') & cycleways['facility_rev'].isna() & (cycleways['oneway']!='yes'),'facility_rev'] = 'cycletrack'\n",
    "\n",
    "# for manual override\n",
    "other_cycletracks = [179237451]\n",
    "cycleways.loc[cycleways['osmid'].isin(other_cycletracks),'facility_fwd'] = 'cycletrack'\n",
    "cycleways.loc[cycleways['osmid'].isin(other_cycletracks) & (cycleways['oneway']!='yes'),'facility_rev'] = 'cycletrack'"
   ]
  },
  {
   "cell_type": "markdown",
   "metadata": {},
   "source": [
    "Multi-Use Paths"
   ]
  },
  {
   "cell_type": "code",
   "execution_count": null,
   "metadata": {},
   "outputs": [],
   "source": [
    "# anything in cycleway or path\n",
    "cycleways.loc[(cycleways['highway'].isin(['cycleway'])) & cycleways['facility_fwd'].isna(),'facility_fwd'] = 'multi use path'\n",
    "cycleways.loc[(cycleways['highway'].isin(['cycleway'])) & cycleways['facility_rev'].isna(),'facility_rev'] = 'multi use path'\n",
    "\n",
    "# add links that are non motorized but still have a bike access tag\n",
    "non_motorized = []\n",
    "cycleways.loc[cycleways['link_type'].isin(['bike']) & cycleways['facility_fwd'].isna(),'facility_fwd'] = 'multi use path'\n",
    "cycleways.loc[cycleways['link_type'].isin(['bike']) & cycleways['facility_rev'].isna(),'facility_rev'] = 'multi use path'"
   ]
  },
  {
   "cell_type": "markdown",
   "metadata": {},
   "source": [
    "## Sharrows"
   ]
  },
  {
   "cell_type": "code",
   "execution_count": null,
   "metadata": {},
   "outputs": [],
   "source": [
    "#sharrows will have a shared_lane attribute value in the cycleway or cycleway:both column\n",
    "sharrow = (cycleways[['cycleway','cycleway:both']] == 'shared_lane').any(axis=1)\n",
    "cycleways.loc[sharrow & cycleways['facility_fwd'].isna(),'facility_fwd'] = 'sharrow'\n",
    "cycleways.loc[sharrow & cycleways['facility_rev'].isna(),'facility_rev'] = 'sharrow'\n",
    "\n",
    "#assume left = opposing direction and right = forward direction\n",
    "sharrow_right = (cycleways[\"cycleway:right\"] == 'shared_lane')\n",
    "sharrow_left = (cycleways[\"cycleway:left\"] == 'shared_lane')\n",
    "cycleways.loc[sharrow_right & cycleways['facility_fwd'].isna(),'facility_fwd'] = 'sharrow'\n",
    "cycleways.loc[sharrow_left & cycleways['facility_rev'].isna(),'facility_rev'] = 'sharrow'"
   ]
  },
  {
   "cell_type": "markdown",
   "metadata": {},
   "source": [
    "## Buffered Bike Lanes"
   ]
  },
  {
   "cell_type": "code",
   "execution_count": null,
   "metadata": {},
   "outputs": [],
   "source": [
    "#buffered bike lanes\n",
    "cycleways.loc[cycleways[right_cols+left_cols].isna().all(axis=1) & (cycleways['cycleway:both:buffer']=='yes') & cycleways['facility_fwd'].isna(),'facility_fwd'] = \"buffered bike lane\"\n",
    "cycleways.loc[cycleways[right_cols+left_cols].isna().all(axis=1) & (cycleways['cycleway:both:buffer']=='yes') & cycleways['facility_rev'].isna(),'facility_rev'] = \"buffered bike lane\"\n",
    "\n",
    "# left / assume to be the reverse direction\n",
    "# buffered bike lanes\n",
    "cycleways.loc[(cycleways['cycleway:left'] == 'lane') & (cycleways['cycleway:left:buffer'] == 'yes') & cycleways['facility_rev'].isna(),'facility_rev'] = 'buffered bike lane'\n",
    "\n",
    "# right / assume to be the forward direction\n",
    "# buffered bike lanes\n",
    "cycleways.loc[(cycleways['cycleway:right'] == 'lane') & (cycleways['cycleway:right:buffer'] == 'yes') & cycleways['facility_fwd'].isna(),'facility_fwd'] = 'buffered bike lane'"
   ]
  },
  {
   "cell_type": "markdown",
   "metadata": {},
   "source": [
    "## Traditional Bike Lanes"
   ]
  },
  {
   "cell_type": "code",
   "execution_count": null,
   "metadata": {},
   "outputs": [],
   "source": [
    "#traditional painted bike lanes (shouldn't have to worry about the buffered part now)\n",
    "no_left_right_attrs = (cycleways[right_cols+left_cols].isna().all(axis=1)) | (cycleways[right_cols+left_cols] == 'no').any(axis=1)\n",
    "cycleways.loc[\n",
    "    no_left_right_attrs & (cycleways[['cycleway:both','cycleway']].isin(['lane','yes'])).any(axis=1) & cycleways['facility_fwd'].isna(),'facility_fwd'] = \"bike lane\"\n",
    "cycleways.loc[\n",
    "    no_left_right_attrs & (cycleways[['cycleway:both','cycleway']].isin(['lane','yes'])).any(axis=1) & cycleways['facility_rev'].isna(),'facility_rev'] = \"bike lane\"\n",
    "\n",
    "#left bike lanes\n",
    "cycleways.loc[(cycleways['cycleway:left'].isin(['lane','yes'])) & cycleways['facility_rev'].isna(),'facility_rev'] = 'bike lane'\n",
    "cycleways.loc[(cycleways['cycleway:left'] == 'opposite_lane') & cycleways['facility_rev'].isna(),'facility_rev'] = 'bike lane' #'contra flow bike lane'\n",
    "\n",
    "#right bike lanes\n",
    "cycleways.loc[(cycleways['cycleway:right'].isin(['lane','yes'])) & cycleways['facility_fwd'].isna(),'facility_fwd'] = 'bike lane'\n",
    "cycleways.loc[(cycleways['cycleway:right'] == 'opposite_lane') & cycleways['facility_fwd'].isna(),'facility_fwd'] = 'bike lane'"
   ]
  },
  {
   "cell_type": "markdown",
   "metadata": {},
   "source": [
    "Check: what's still unclassified?"
   ]
  },
  {
   "cell_type": "code",
   "execution_count": null,
   "metadata": {},
   "outputs": [],
   "source": [
    "unclassifed = cycleways[cycleways['facility_fwd'].isna() | cycleways['facility_rev'].isna()]\n",
    "unclassifed\n",
    "#unclassifed.drop(columns='all_tags').explore()"
   ]
  },
  {
   "cell_type": "markdown",
   "metadata": {},
   "source": [
    "# Drop no facility options"
   ]
  },
  {
   "cell_type": "code",
   "execution_count": null,
   "metadata": {},
   "outputs": [],
   "source": [
    "no_facility = (cycleways[['facility_fwd','facility_rev']] == 'no facility').all(axis=1)\n",
    "cycleways = cycleways[no_facility==False]"
   ]
  },
  {
   "cell_type": "markdown",
   "metadata": {},
   "source": [
    "# Remove Dirt Trails and Hiking Trails (included in routing but will have to mess around with speed)\n",
    "- highway=path but bicycle=no or null\n",
    "- OR surface=dirt/sand/unpaved (etc)"
   ]
  },
  {
   "cell_type": "code",
   "execution_count": null,
   "metadata": {},
   "outputs": [],
   "source": [
    "#filter out some of the dirt trails\n",
    "def get_surface_tag(item):\n",
    "    tags = ast.literal_eval(item)\n",
    "    surface_tag = tags.get('surface',0)\n",
    "    if surface_tag != 0:\n",
    "        return surface_tag\n",
    "    else:\n",
    "        return None\n",
    "cycleways['surface'] = cycleways['all_tags'].apply(get_surface_tag)\n",
    "\n",
    "#all_cycleways['surface'].unique()\n",
    "remove = ['gravel','log','wood','ground', 'grass', 'unpaved', 'dirt',\n",
    "       'mud', 'stepping_stones', 'fine_gravel', 'brick', 'dirt/sand']\n",
    "cycleways = cycleways[cycleways['surface'].isin(remove)==False]\n",
    "\n",
    "#remove if bike is not allowed\n",
    "bike_not_allowed = ['no','private','unkwown']\n",
    "cycleways = cycleways[cycleways['bicycle'].isin(bike_not_allowed)==False]\n",
    "\n",
    "#remove if highway=path and bike is na \n",
    "cycleways = cycleways[((cycleways['highway']=='path') & (cycleways['bicycle'].isna()))==False]"
   ]
  },
  {
   "cell_type": "markdown",
   "metadata": {},
   "source": [
    "# Identify the cycletracks"
   ]
  },
  {
   "cell_type": "code",
   "execution_count": null,
   "metadata": {},
   "outputs": [],
   "source": [
    "# excl = gpd.read_file(Path(\"D:/PROJECTS/GDOT/GDOT/Bicycle_Facilities/scratch.gpkg\"),layer='exclude')\n",
    "# excl.osmid.tolist()"
   ]
  },
  {
   "cell_type": "code",
   "execution_count": null,
   "metadata": {},
   "outputs": [],
   "source": [
    "\n",
    "exclude = [\n",
    " ]\n",
    "cycleways = cycleways[cycleways['osmid'].isin(exclude)==False]"
   ]
  },
  {
   "cell_type": "markdown",
   "metadata": {},
   "source": [
    "# Export"
   ]
  },
  {
   "cell_type": "code",
   "execution_count": null,
   "metadata": {},
   "outputs": [],
   "source": [
    "final_cycleways = cycleways[~cycleways['facility_fwd'].isna() & ~cycleways['facility_rev'].isna()]\n",
    "final_cycleways\n",
    "#create both directions column for simpliciity "
   ]
  },
  {
   "cell_type": "code",
   "execution_count": null,
   "metadata": {},
   "outputs": [],
   "source": [
    "final_cycleways[['facility_fwd','facility_rev']].value_counts()"
   ]
  },
  {
   "cell_type": "code",
   "execution_count": null,
   "metadata": {},
   "outputs": [],
   "source": [
    "order = {\n",
    "    'sharrow': 0,\n",
    "    'bike lane': 1,\n",
    "    'buffered bike lane': 2,\n",
    "    'cycletrack': 3,\n",
    "    'multi use path': 4\n",
    "}\n",
    "rev_order = {item:key for key,item in order.items()}\n",
    "import numpy as np\n",
    "array = pd.concat([final_cycleways['facility_fwd'].map(order),final_cycleways['facility_rev'].map(order)],axis=1)\n",
    "final_cycleways['facility'] = array.max(axis=1).map(rev_order)"
   ]
  },
  {
   "cell_type": "code",
   "execution_count": null,
   "metadata": {},
   "outputs": [],
   "source": [
    "final_cycleways['facility'].value_counts()"
   ]
  },
  {
   "cell_type": "code",
   "execution_count": null,
   "metadata": {},
   "outputs": [],
   "source": [
    "# NOTE nevermind these probaly aren't going to impact much\n",
    "## Remove cycletrack connnectors\n",
    "# These are really short features tagged as cycleways that serve to connect cycletracks/mups back to the road network. These should still be included for routing purposes but I wouldn't call them infrastructure. After experimenting, 100 feet seemed like a good threshold to capture these.?\n",
    "# final_cycleways[(final_cycleways['facility']=='cycletrack') & (final_cycleways['highway']=='cycleway') & (final_cycleways.length < 100)].explore()"
   ]
  },
  {
   "cell_type": "code",
   "execution_count": null,
   "metadata": {},
   "outputs": [],
   "source": [
    "final_cycleways[final_cycleways['highway']=='path']['surface'].unique()"
   ]
  },
  {
   "cell_type": "code",
   "execution_count": null,
   "metadata": {},
   "outputs": [],
   "source": [
    "#remove sharrows for now\n",
    "final_cycleways = final_cycleways[final_cycleways['facility']!='sharrow']\n",
    "\n",
    "final_cycleways.loc[final_cycleways['facility_fwd']=='no facility','facility_fwd'] = None\n",
    "final_cycleways.loc[final_cycleways['facility_rev']=='no facility','facility_rev'] = None\n",
    "final_cycleways.loc[final_cycleways['facility']=='no facility','facility'] = None"
   ]
  },
  {
   "cell_type": "code",
   "execution_count": null,
   "metadata": {},
   "outputs": [],
   "source": [
    "cols_needed = ['osmid','name','all_tags','facility_fwd','facility_rev','facility']\n",
    "final_cycleways.to_file(config['bicycle_facilities_fp']/'reference_layers.gpkg',layer='osm_cycleways_full')\n",
    "\n",
    "osm_network = gpd.read_file(config['network_fp']/'networks.gpkg',layer='osm_links')\n",
    "merged = pd.merge(osm_network,final_cycleways[cols_needed],on='osmid')\n",
    "merged.to_file(config['bicycle_facilities_fp']/'reference_layers.gpkg',layer='osm_cycleways_network')"
   ]
  },
  {
   "cell_type": "code",
   "execution_count": null,
   "metadata": {},
   "outputs": [],
   "source": []
  }
 ],
 "metadata": {
  "kernelspec": {
   "display_name": "Python 3",
   "language": "python",
   "name": "python3"
  },
  "language_info": {
   "codemirror_mode": {
    "name": "ipython",
    "version": 3
   },
   "file_extension": ".py",
   "mimetype": "text/x-python",
   "name": "python",
   "nbconvert_exporter": "python",
   "pygments_lexer": "ipython3",
   "version": "3.9.13"
  }
 },
 "nbformat": 4,
 "nbformat_minor": 2
}

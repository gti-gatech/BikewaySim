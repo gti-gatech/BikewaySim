{
 "cells": [
  {
   "cell_type": "markdown",
   "metadata": {},
   "source": [
    "# Process other cycling infrastructure sources"
   ]
  },
  {
   "cell_type": "code",
   "execution_count": 1,
   "metadata": {},
   "outputs": [],
   "source": [
    "import geopandas as gpd\n",
    "import pandas as pd\n",
    "from pathlib import Path\n",
    "\n",
    "import sys\n",
    "sys.path.insert(0,str(Path.cwd().parent))\n",
    "import file_structure_setup\n",
    "config = file_structure_setup.filepaths()"
   ]
  },
  {
   "cell_type": "code",
   "execution_count": 2,
   "metadata": {},
   "outputs": [],
   "source": [
    "studyarea_geo = gpd.read_file(config['studyarea_fp']).to_crs('epsg:4326')"
   ]
  },
  {
   "cell_type": "markdown",
   "metadata": {},
   "source": [
    "# City of Atlanta / Atlanta Regional Commission / Garber Processing\n",
    "NOTE: There are some data quality issues with the CoA and ARC datasets in that sometimes facilities are marked as there when they aren't. Refine this in the future."
   ]
  },
  {
   "cell_type": "markdown",
   "metadata": {},
   "source": [
    "## City of Atlanta \n",
    "Has year installed date and other notes. Contains sharrows. Also contains \"planned\" infrastructure that may not have actually been completed. Some street names have changed like \"Confederate\" to \"United\"\n",
    "\n",
    "Links to Infra Installation Dates (move to an excel sheet):\n",
    "- https://www.letspropelatl.org/infra-tracker\n",
    "- https://services2.arcgis.com/zLeajbicrDRLQcny/arcgis/rest/services/Bike_Facilities_Public_View/FeatureServer/0?f=pjson\n"
   ]
  },
  {
   "cell_type": "code",
   "execution_count": 3,
   "metadata": {},
   "outputs": [],
   "source": [
    "#TODO, resolve difference between the old inventory and the old as some streets had their facilities upgraded recently (Edgewood) and (Confederate/United)\n",
    "coa = gpd.read_file('D:/RAW/City_of_Atlanta/coa_bike_facilities_new.geojson',mask=studyarea_geo)\n",
    "coa.to_crs(config['projected_crs_epsg'],inplace=True)\n",
    "\n",
    "# only keep existing and funded ones where the year is defined\n",
    "coa = coa[(coa['Status'].isin(['Existing'])) & coa['YearInstalled'].notna()]\n",
    "\n",
    "# remove uncessary columns\n",
    "coa.drop(columns=['GlobalID','Shape__Length','LengthMi','CrossSectionNotes','Status'],inplace=True)\n",
    "\n",
    "#rename the id/year column\n",
    "coa.rename(columns={'OBJECTID':'id','YearInstalled':'year'},inplace=True)\n",
    "\n",
    "#mark facilities that need to be dated\n",
    "coa['need_date'] = (coa['year'] >= 2012) & (coa['year'] <= 2016)\n",
    "\n",
    "# rename columns for consistency\n",
    "coa.columns = ['coa_'+col.lower() if col != 'geometry' else 'geometry' for col in coa.columns.tolist()]\n",
    "\n",
    "# convert facility type to OSM (use highest protection if two different types)\n",
    "osm_types = ['sharrow','bike lane','buffered bike lane','cycletrack','multi use path']\n",
    "coa_conversion = {\n",
    "       'Protected Bike Lane': osm_types[3], \n",
    "       'Protected Bike Lane / Bike Lane': osm_types[3],\n",
    "       'Two-Way Cycle Track': osm_types[3], \n",
    "       'Uphill Bike Lane / Downhill Sharrows': osm_types[1],\n",
    "       'Sharrows': osm_types[0], \n",
    "       'Bike Lane': osm_types[1], \n",
    "       'Bike Lane ': osm_types[1],\n",
    "       'Uphill Buffered Bike Lane / Downhill Sharrows': osm_types[2],\n",
    "       'Buffered Bike Lane': osm_types[2], \n",
    "       'Buffered Contraflow Bike Lane / Bike Lane': osm_types[1],\n",
    "       'Shared-Use Path': osm_types[4], \n",
    "       'Neighborhood Greenway': osm_types[0], \n",
    "       'Bike Lane / Sharrows': osm_types[1],\n",
    "       'Shared-Use Path / Bike Lane': osm_types[4], \n",
    "       'Buffered Bike Lane / Bike Lane': osm_types[2],\n",
    "       'Buffered Bike Lane / Shared-Use Path': osm_types[4],\n",
    "       'Shared-Use Path / Sharrows': osm_types[4],\n",
    "       'Uphill Protected Bike Lane / Downhill Sharrows': osm_types[3], \n",
    "       'Shared Path': osm_types[4]\n",
    "}\n",
    "coa['coa_osm_type'] = coa['coa_facilitytype'].map(coa_conversion)\n",
    "\n",
    "#export\n",
    "coa.to_file(config['bicycle_facilities_fp']/'reference_layers.gpkg',layer='coa')"
   ]
  },
  {
   "cell_type": "markdown",
   "metadata": {},
   "source": [
    "## Atlanta Regional Commission"
   ]
  },
  {
   "cell_type": "code",
   "execution_count": 4,
   "metadata": {},
   "outputs": [],
   "source": [
    "arc = gpd.read_file('D:\\RAW\\Atlanta_Regional_Comission\\Bike_Ped_Trail_Inventory_January2024.geojson',mask=studyarea_geo)\n",
    "arc.to_crs(config['projected_crs_epsg'],inplace=True)\n",
    "\n",
    "# the only na values are OTP\n",
    "#arc[arc['Year_2'].isna()].explore()\n",
    "\n",
    "# remove post 2016\n",
    "arc = arc[arc['Year_2'] < 2016]\n",
    "\n",
    "#clean the columns\n",
    "arc = arc[['OBJECTID_1','Name', 'spec','Width', 'Material', 'Year_2', 'geometry']]\n",
    "\n",
    "#rename the id column\n",
    "arc.rename(columns={'OBJECTID_1':'id','Year_2':'year'},inplace=True)\n",
    "\n",
    "#mark facilities that need to be dated\n",
    "arc['need_date'] = (arc['year'] >= 2012) & (arc['year'] <= 2016)\n",
    "\n",
    "# rename columns for consistency\n",
    "arc.columns = ['arc_'+col.lower() if col != 'geometry' else 'geometry' for col in arc.columns.tolist()]\n",
    "\n",
    "# remove these facilities\n",
    "remove = ['Paved shoulder','Park Trail','Campus Path']\n",
    "arc = arc[arc['arc_spec'].isin(remove)==False]\n",
    "\n",
    "# convert to osm name\n",
    "arc_conversion = {\n",
    "    'Hard surface multi-use path': 'multi use path',\n",
    "    'Protected bike lane': 'cycletrack',\n",
    "    'Uphill bike lanes / downhill sharrows': 'bike lane',\n",
    "    'Conventional bike lane': 'bike lane',\n",
    "    'Buffered bike lane': 'buffered bike lane',\n",
    "    'Bike lane with parking': 'bike lane',\n",
    "    'Buffered bike lane (BUS ONLY lane)': 'buffered bike lane',\n",
    "    #'Paved shoulder': 'bike lane', # consider dumping these\n",
    "    'Two way cycle track': 'cycletrack',\n",
    "    'Bike lane': 'bike lane',\n",
    "    'Buffered/bike lane': 'buffered bike lane',\n",
    "    'Shared use path or greenway': 'multi use path',\n",
    "    'Side path': 'multi use path',\n",
    "    'Bike lane and Side path': 'bike lane',\n",
    "    'Uphill bike lane/downhill sharrow': 'bike lane',\n",
    "    'Side Path': 'multi use path',\n",
    "    'Climbing lane': 'bike lane',\n",
    "    'Sidepath': 'multi use path',\n",
    "    #'Park Trail': 'multi use path',\n",
    "    'Bike Lane with parking': 'bike lane',\n",
    "    #'Campus Path': 'multi use path',\n",
    "    'Bike Lane': 'bike lane'\n",
    "    #'Park Path': 'multi use path'\n",
    "}\n",
    "arc['arc_osm_type'] = arc['arc_spec'].map(arc_conversion)\n",
    "\n",
    "#export\n",
    "arc.to_file(config['bicycle_facilities_fp']/'reference_layers.gpkg',layer='arc')"
   ]
  },
  {
   "cell_type": "markdown",
   "metadata": {},
   "source": [
    "## Michael Garber (come back to later for the osm conversion)"
   ]
  },
  {
   "cell_type": "code",
   "execution_count": 5,
   "metadata": {},
   "outputs": [],
   "source": [
    "garber = gpd.read_file('D:/RAW/Michael Garber/data_for_reid.shp',mask=studyarea_geo)\n",
    "garber.to_crs(config['projected_crs_epsg'],inplace=True)\n",
    "\n",
    "# remove post 2016\n",
    "garber = garber[(pd.to_datetime(garber['rbbn_dt']).apply(lambda row: row.year) <= 2016) | (garber['rbbn_dt'].isna())]\n",
    "\n",
    "#clean the columns\n",
    "garber = garber[['edge_id','infr_6_', 'in_6___', 'osm_nm_sm',\n",
    "       'rbbn_dt', 'geometry']]\n",
    "\n",
    "#rename\n",
    "garber.columns = ['id','Infra1','Infra2','Name','Ribbon Date','geometry']\n",
    "\n",
    "#mark facilities that need to be dated\n",
    "garber['need_date'] = (pd.to_datetime(garber['Ribbon Date']).apply(lambda row: row.year) >= 2012) | (garber['Ribbon Date'].isna())\n",
    "\n",
    "# rename columns for consistency\n",
    "garber.columns = ['garber_'+col.lower() if col != 'geometry' else 'geometry' for col in garber.columns.tolist()]\n",
    "\n",
    "#export\n",
    "garber.to_file(config['bicycle_facilities_fp']/'reference_layers.gpkg',layer='garber')"
   ]
  },
  {
   "cell_type": "code",
   "execution_count": 6,
   "metadata": {},
   "outputs": [],
   "source": [
    "# garber['garber_infra1'].append(garber['garber_infra2']).unique().tolist()\n",
    "# garber[garber['garber_infra1']=='off_street_trail_dirt'].explore()\n",
    "# cycleways_osm['facility_fwd'].append(cycleways_osm['facility_rev']).unique().tolist()"
   ]
  }
 ],
 "metadata": {
  "kernelspec": {
   "display_name": "Python 3",
   "language": "python",
   "name": "python3"
  },
  "language_info": {
   "codemirror_mode": {
    "name": "ipython",
    "version": 3
   },
   "file_extension": ".py",
   "mimetype": "text/x-python",
   "name": "python",
   "nbconvert_exporter": "python",
   "pygments_lexer": "ipython3",
   "version": "3.9.13"
  }
 },
 "nbformat": 4,
 "nbformat_minor": 2
}

{
 "cells": [
  {
   "cell_type": "markdown",
   "metadata": {},
   "source": [
    "# Extract Cycling Infrastructure from OSM"
   ]
  },
  {
   "cell_type": "code",
   "execution_count": null,
   "metadata": {},
   "outputs": [],
   "source": [
    "from pathlib import Path\n",
    "import geopandas as gpd\n",
    "import pandas as pd\n",
    "import json\n",
    "\n",
    "import sys\n",
    "sys.path.insert(0,str(Path.cwd().parent))\n",
    "import file_structure_setup\n",
    "config = file_structure_setup.filepaths()"
   ]
  },
  {
   "cell_type": "markdown",
   "metadata": {},
   "source": [
    "## Import each year and find potential cycling infrastructure"
   ]
  },
  {
   "cell_type": "code",
   "execution_count": null,
   "metadata": {},
   "outputs": [],
   "source": [
    "# osm_years = list(config['bicycle_facilities_fp'].glob(\"osm_*.gpkg\"))\n",
    "osm_years = list(config['osmdwnld_fp'].glob(\"osm_2023.gpkg\"))\n",
    "for osm_year in osm_years:\n",
    "    print(\"Creating cycleway layer for\",osm_year.stem)\n",
    "    links = gpd.read_file(osm_year,layer='raw')\n",
    "\n",
    "    # retrieve cycleway columns\n",
    "    all_cycleway_tags = {}\n",
    "    for idx, row in links.iterrows():\n",
    "        #read the tags column as a dict\n",
    "        tags = json.loads(row['all_tags'])\n",
    "        #check for keys with cycleway mentioned\n",
    "        cycleway_tags = {key:tags[key] for key in tags.keys() if \"cycleway\" in key}\n",
    "\n",
    "        if len(cycleway_tags) > 0:\n",
    "            all_cycleway_tags[idx] = cycleway_tags\n",
    "\n",
    "    #add as columns to the main dataframe\n",
    "    all_cycleway_tags_df = pd.DataFrame.from_dict(all_cycleway_tags,orient='index')\n",
    "    links = pd.merge(links, all_cycleway_tags_df, left_index=True, right_index=True, how='left')\n",
    "\n",
    "    # reduce to features that are most likely to be cycleways\n",
    "    cycleway_or_path = links['highway'].isin(['path','cycleway'])\n",
    "    cycleway_tags = (links['cycleway'].notna()) | (links.index.isin(all_cycleway_tags.keys()))\n",
    "    bikes_allowed = (links['bicycle'] != 'no') & (links['bicycle'].notna())\n",
    "    cycleways = links[cycleway_or_path | cycleway_tags | bikes_allowed]\n",
    "    \n",
    "    cycleways.to_file(osm_year,layer='cycleways')\n"
   ]
  },
  {
   "cell_type": "markdown",
   "metadata": {},
   "source": [
    "# Classify Cycling Infrastructure Types\n",
    "Heavily inspired from [People for Bikes](https://drive.google.com/file/d/1iJtlhDbTMEPdoUngrCKL-rfSK84ib081/view)"
   ]
  },
  {
   "cell_type": "code",
   "execution_count": null,
   "metadata": {},
   "outputs": [],
   "source": [
    "list_of_df = []\n",
    "gpkgs = list(config['osmdwnld_fp'].glob(\"osm_2023.gpkg\"))\n",
    "for gpkg in gpkgs:\n",
    "    cycleways = gpd.read_file(gpkg,layer='cycleways')\n",
    "    cycleways['year'] = gpkg.stem.split('_')[-1]\n",
    "    list_of_df.append(cycleways)\n",
    "all_cycleways = pd.concat(list_of_df,ignore_index=True)   \n",
    "all_cycleways.to_crs(config['projected_crs_epsg'],inplace=True)\n",
    "\n",
    "# cols_to_remove = ['access', 'area', 'bridge', 'footway','junction', 'lanes', 'lit', 'maxspeed', 'motorcar',\n",
    "#        'motor_vehicle', 'psv', 'ref', 'service',\n",
    "#        'segregated', 'sidewalk', 'smoothness', 'surface', 'tunnel', 'width','tags', 'osm_type', 'length', 'turn',\n",
    "#        'passing_places', 'tracktype']\n",
    "# all_cycleways.drop(columns=cols_to_remove,inplace=True)\n",
    "#all_cycleways.to_file(config['bicycle_facilities_fp']/'cycleways.gpkg') "
   ]
  },
  {
   "cell_type": "markdown",
   "metadata": {},
   "source": [
    "Cycling infrastructure was categorized into the following types by direction:\n",
    "- Sharrow (Class III)\n",
    "- Bicycle Lanes (Class II):\n",
    "    - None (Class II)\n",
    "    - Buffered (Class II)\n",
    "    - Flex posts (Class II)\n",
    "- Cycletracks or Bike Lanes with Physical Separation (Class IV)\n",
    "- Multi-Use Trails (Class I)\n",
    "    - Includes side paths and wide sidewalks\n",
    "    - Multi-use trails/shared-use paths that don't follow a road"
   ]
  },
  {
   "cell_type": "markdown",
   "metadata": {},
   "source": [
    "Do by direction like the PFB methodology"
   ]
  },
  {
   "cell_type": "code",
   "execution_count": null,
   "metadata": {},
   "outputs": [],
   "source": [
    "all_cycleways['facility_fwd'] = None #facility type for the forward direction (if any)\n",
    "all_cycleways['facility_rev'] = None #facility type for the reverse direction (if any)"
   ]
  },
  {
   "cell_type": "markdown",
   "metadata": {},
   "source": [
    "left and right cycleway columns\n"
   ]
  },
  {
   "cell_type": "code",
   "execution_count": null,
   "metadata": {},
   "outputs": [],
   "source": [
    "right_cols = all_cycleways.columns[all_cycleways.columns.str.startswith(\"cycleway:right\")].tolist()\n",
    "left_cols = all_cycleways.columns[all_cycleways.columns.str.startswith(\"cycleway:left\")].tolist()"
   ]
  },
  {
   "cell_type": "markdown",
   "metadata": {},
   "source": [
    "## No Facility\n",
    "Pre-assign ways that don't have a bicycle facility. If there is a seperate way (cycleway=seperate) then mark as no facility because there should be a corresponding cyclepath way.\n"
   ]
  },
  {
   "cell_type": "code",
   "execution_count": null,
   "metadata": {},
   "outputs": [],
   "source": [
    "no_facility_keywords = ['no','separate','none']"
   ]
  },
  {
   "cell_type": "code",
   "execution_count": null,
   "metadata": {},
   "outputs": [],
   "source": [
    "#mark all private access as no facility\n",
    "all_cycleways.loc[all_cycleways['access'].isin(['no','private','customers']),['facility_fwd','facility_rev']] = 'no facility'"
   ]
  },
  {
   "cell_type": "code",
   "execution_count": null,
   "metadata": {},
   "outputs": [],
   "source": [
    "not_cycleway = all_cycleways['highway'].isin(['cycleway','path']) == False\n",
    "not_both = all_cycleways[['cycleway','cycleway:both']].isna().all(axis=1) | all_cycleways[['cycleway','cycleway:both']].isin(no_facility_keywords).any(axis=1)\n",
    "no_right = (all_cycleways['cycleway:right'].isna() | all_cycleways['cycleway:right'].isin(no_facility_keywords))\n",
    "no_left = (all_cycleways['cycleway:left'].isna() | all_cycleways['cycleway:left'].isin(no_facility_keywords)) \n",
    "\n",
    "all_cycleways.loc[not_cycleway & not_both & no_right & all_cycleways['facility_fwd'].isna(),'facility_fwd'] = 'no facility'\n",
    "all_cycleways.loc[not_cycleway & not_both & no_left & all_cycleways['facility_rev'].isna(),'facility_rev'] = 'no facility'"
   ]
  },
  {
   "cell_type": "markdown",
   "metadata": {},
   "source": [
    "## Multi-use paths and cycletracks (Class I and Class IV)\n",
    "OSM doesn't have a good way to distinguish between multi-use paths and cycletracks bike facilities. Sometimes a segregation tag will be used but many of the class iv bike facilities in Atlanta are bi-directional and thus are typically drawn as separate geometries. Because of this they look identical to side-paths and multi-use trails (class i). In the older data, there are a few occurances of highway=cycleway being accompanied by cycleway=lane. Cycleway should take precedent in these cases."
   ]
  },
  {
   "cell_type": "markdown",
   "metadata": {},
   "source": [
    "**Cycletracks (aka Class IV Bike Lanes) Should Have \"foot = no\" OR be on a street but this isn't always consistent**"
   ]
  },
  {
   "cell_type": "code",
   "execution_count": null,
   "metadata": {},
   "outputs": [],
   "source": [
    "no_peds = all_cycleways['foot'] == 'no'\n",
    "all_cycleways.loc[((all_cycleways['highway'].isin(['cycleway','path']) & no_peds) | all_cycleways['cycleway'].isin(['track','both'])) & all_cycleways['facility_fwd'].isna(),'facility_fwd'] = 'cycletrack'\n",
    "all_cycleways.loc[((all_cycleways['highway'].isin(['cycleway','path']) & no_peds) | all_cycleways['cycleway'].isin(['track','both'])) & all_cycleways['facility_rev'].isna(),'facility_rev'] = 'cycletrack'\n",
    "\n",
    "all_cycleways.loc[(all_cycleways['cycleway:left'] == 'track') & all_cycleways['facility_rev'].isna(),'facility_rev'] = 'cycletrack'\n",
    "all_cycleways.loc[(all_cycleways['cycleway:right'] == 'track') & all_cycleways['facility_fwd'].isna(),'facility_fwd'] = 'cycletrack'"
   ]
  },
  {
   "cell_type": "code",
   "execution_count": null,
   "metadata": {},
   "outputs": [],
   "source": [
    "all_cycleways.loc[(all_cycleways['highway'].isin(['cycleway','path'])) & all_cycleways['facility_fwd'].isna(),'facility_fwd'] = 'multi use path'\n",
    "all_cycleways.loc[(all_cycleways['highway'].isin(['cycleway','path'])) & all_cycleways['facility_rev'].isna(),'facility_rev'] = 'multi use path'"
   ]
  },
  {
   "cell_type": "markdown",
   "metadata": {},
   "source": [
    "## Sharrows"
   ]
  },
  {
   "cell_type": "code",
   "execution_count": null,
   "metadata": {},
   "outputs": [],
   "source": [
    "#sharrows will have a shared_lane attribute value in the cycleway or cycleway:both column\n",
    "sharrow = (all_cycleways[['cycleway','cycleway:both']] == 'shared_lane').any(axis=1)\n",
    "all_cycleways.loc[sharrow & all_cycleways['facility_fwd'].isna(),'facility_fwd'] = 'sharrow'\n",
    "all_cycleways.loc[sharrow & all_cycleways['facility_rev'].isna(),'facility_rev'] = 'sharrow'\n",
    "\n",
    "#assume left = opposing direction and right = forward direction\n",
    "sharrow_right = (all_cycleways[\"cycleway:right\"] == 'shared_lane')\n",
    "sharrow_left = (all_cycleways[\"cycleway:left\"] == 'shared_lane')\n",
    "all_cycleways.loc[sharrow_right & all_cycleways['facility_fwd'].isna(),'facility_fwd'] = 'sharrow'\n",
    "all_cycleways.loc[sharrow_left & all_cycleways['facility_rev'].isna(),'facility_rev'] = 'sharrow'"
   ]
  },
  {
   "cell_type": "markdown",
   "metadata": {},
   "source": [
    "## Buffered Bike Lanes"
   ]
  },
  {
   "cell_type": "code",
   "execution_count": null,
   "metadata": {},
   "outputs": [],
   "source": [
    "#buffered bike lanes\n",
    "all_cycleways.loc[all_cycleways[right_cols+left_cols].isna().all(axis=1) & (all_cycleways['cycleway:both:buffer']=='yes') & all_cycleways['facility_fwd'].isna(),'facility_fwd'] = \"buffered bike lane\"\n",
    "all_cycleways.loc[all_cycleways[right_cols+left_cols].isna().all(axis=1) & (all_cycleways['cycleway:both:buffer']=='yes') & all_cycleways['facility_rev'].isna(),'facility_rev'] = \"buffered bike lane\"\n",
    "\n",
    "# left / assume to be the reverse direction\n",
    "# buffered bike lanes\n",
    "all_cycleways.loc[(all_cycleways['cycleway:left'] == 'lane') & (all_cycleways['cycleway:left:buffer'] == 'yes') & all_cycleways['facility_rev'].isna(),'facility_rev'] = 'buffered bike lane'\n",
    "\n",
    "\n",
    "# right / assume to be the forward direction\n",
    "# buffered bike lanes\n",
    "all_cycleways.loc[(all_cycleways['cycleway:right'] == 'lane') & (all_cycleways['cycleway:right:buffer'] == 'yes') & all_cycleways['facility_fwd'].isna(),'facility_fwd'] = 'buffered bike lane'\n"
   ]
  },
  {
   "cell_type": "markdown",
   "metadata": {},
   "source": [
    "## Traditional Bike Lanes"
   ]
  },
  {
   "cell_type": "code",
   "execution_count": null,
   "metadata": {},
   "outputs": [],
   "source": [
    "#traditional painted bike lanes (shouldn't have to worry about the buffered part now)\n",
    "no_left_right_attrs = (all_cycleways[right_cols+left_cols].isna().all(axis=1)) | (all_cycleways[right_cols+left_cols] == 'no').any(axis=1)\n",
    "all_cycleways.loc[\n",
    "    no_left_right_attrs & (all_cycleways[['cycleway:both','cycleway']].isin(['lane','yes'])).any(axis=1) & all_cycleways['facility_fwd'].isna(),'facility_fwd'] = \"bike lane\"\n",
    "all_cycleways.loc[\n",
    "    no_left_right_attrs & (all_cycleways[['cycleway:both','cycleway']].isin(['lane','yes'])).any(axis=1) & all_cycleways['facility_rev'].isna(),'facility_rev'] = \"bike lane\"\n",
    "\n",
    "#left bike lanes\n",
    "all_cycleways.loc[(all_cycleways['cycleway:left'].isin(['lane','yes'])) & all_cycleways['facility_rev'].isna(),'facility_rev'] = 'bike lane'\n",
    "all_cycleways.loc[(all_cycleways['cycleway:left'] == 'opposite_lane') & all_cycleways['facility_rev'].isna(),'facility_rev'] = 'bike lane' #'contra flow bike lane'\n",
    "\n",
    "#right bike lanes\n",
    "all_cycleways.loc[(all_cycleways['cycleway:right'].isin(['lane','yes'])) & all_cycleways['facility_fwd'].isna(),'facility_fwd'] = 'bike lane'\n",
    "all_cycleways.loc[(all_cycleways['cycleway:right'] == 'opposite_lane') & all_cycleways['facility_fwd'].isna(),'facility_fwd'] = 'bike lane'"
   ]
  },
  {
   "cell_type": "markdown",
   "metadata": {},
   "source": [
    "Check: what's still unclassified?"
   ]
  },
  {
   "cell_type": "code",
   "execution_count": null,
   "metadata": {},
   "outputs": [],
   "source": [
    "unclassifed = all_cycleways[all_cycleways['facility_fwd'].isna() | all_cycleways['facility_rev'].isna()]\n",
    "unclassifed\n",
    "#unclassifed.drop(columns='all_tags').explore()"
   ]
  },
  {
   "cell_type": "markdown",
   "metadata": {},
   "source": [
    "# Drop no facility options"
   ]
  },
  {
   "cell_type": "code",
   "execution_count": null,
   "metadata": {},
   "outputs": [],
   "source": [
    "no_facility = (all_cycleways[['facility_fwd','facility_rev']] == 'no facility').all(axis=1)\n",
    "all_cycleways = all_cycleways[no_facility==False]"
   ]
  },
  {
   "cell_type": "markdown",
   "metadata": {},
   "source": [
    "# Remove Dirt Trails and Hiking Trails (included in routing but will have to mess around with speed)\n",
    "- highway=path but bicycle=no or null\n",
    "- OR surface=dirt/sand/unpaved (etc)"
   ]
  },
  {
   "cell_type": "code",
   "execution_count": null,
   "metadata": {},
   "outputs": [],
   "source": [
    "#filter out some of the dirt trails\n",
    "def get_surface_tag(item):\n",
    "    tags = json.loads(item)\n",
    "    surface_tag = tags.get('surface',0)\n",
    "    if surface_tag != 0:\n",
    "        return surface_tag\n",
    "    else:\n",
    "        return None\n",
    "all_cycleways['surface'] = all_cycleways['all_tags'].apply(get_surface_tag)\n",
    "\n",
    "#all_cycleways['surface'].unique()\n",
    "remove = ['gravel','log','wood','ground', 'grass', 'unpaved', 'dirt',\n",
    "       'mud', 'stepping_stones', 'fine_gravel', 'brick', 'dirt/sand']\n",
    "all_cycleways = all_cycleways[all_cycleways['surface'].isin([remove])==False]\n",
    "\n",
    "#remove if bike is not allowed\n",
    "bike_not_allowed = ['no','private','unkwown']\n",
    "all_cycleways = all_cycleways[all_cycleways['bicycle'].isin(bike_not_allowed)==False]\n",
    "\n",
    "#remove if highway=path and bike is na \n",
    "all_cycleways = all_cycleways[((all_cycleways['highway']=='path') & (all_cycleways['bicycle'].isna()))==False]"
   ]
  },
  {
   "cell_type": "markdown",
   "metadata": {},
   "source": [
    "# Export"
   ]
  },
  {
   "cell_type": "code",
   "execution_count": null,
   "metadata": {},
   "outputs": [],
   "source": [
    "final_cycleways = all_cycleways[~all_cycleways['facility_fwd'].isna() & ~all_cycleways['facility_rev'].isna()]\n",
    "final_cycleways.to_file(config['bicycle_facilities_fp'] / 'reference_layers.gpkg',layer='osm_cycleways')"
   ]
  },
  {
   "cell_type": "code",
   "execution_count": null,
   "metadata": {},
   "outputs": [],
   "source": [
    "final_cycleways[['facility_fwd','facility_rev']].value_counts()"
   ]
  }
 ],
 "metadata": {
  "kernelspec": {
   "display_name": "Python 3",
   "language": "python",
   "name": "python3"
  },
  "language_info": {
   "codemirror_mode": {
    "name": "ipython",
    "version": 3
   },
   "file_extension": ".py",
   "mimetype": "text/x-python",
   "name": "python",
   "nbconvert_exporter": "python",
   "pygments_lexer": "ipython3",
   "version": "3.9.13"
  }
 },
 "nbformat": 4,
 "nbformat_minor": 2
}

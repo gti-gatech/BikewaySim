{
 "cells": [
  {
   "cell_type": "markdown",
   "metadata": {},
   "source": [
    "# Savannah Bikeways\n",
    "- GIS File: https://data-sagis.opendata.arcgis.com/datasets/SAGIS::bikeways/about\n",
    "- Plan: https://www.thempc.org/Core/Bpp#gsc.tab=0\n",
    "---\n",
    "This notebook is for processing and cleaning the Savannah bikeways data. This layer will be used for assigning improvements the Savannah network so that they can be assessed with BikewaySim"
   ]
  },
  {
   "cell_type": "code",
   "execution_count": null,
   "metadata": {},
   "outputs": [],
   "source": [
    "import geopandas as gpd\n",
    "import pandas as pd\n",
    "from pathlib import Path\n",
    "import json\n",
    "\n",
    "import sys\n",
    "sys.path.insert(0,str(Path.cwd().parent))\n",
    "import file_structure_setup\n",
    "config = file_structure_setup.filepaths()"
   ]
  },
  {
   "cell_type": "code",
   "execution_count": null,
   "metadata": {},
   "outputs": [],
   "source": [
    "bikeways = gpd.read_file(Path.home()/\"Documents/BikewaySim/RAW/SAGIS/Bikeways.geojson\").to_crs(config['projected_crs_epsg'])\n",
    "bikeways.columns"
   ]
  },
  {
   "cell_type": "code",
   "execution_count": null,
   "metadata": {},
   "outputs": [],
   "source": [
    "drop_cols = ['OBJECTID','RtA', 'RtB', 'RtC', 'SegA', 'SegB',\n",
    "            'SegC','Route_Nums','History', 'Avg_Daily_Traffic', 'Directional_Factor',\n",
    "            'Peak_to_Daily_Factor', 'Peak_Hr_Factor', 'Peak_15_Min',\n",
    "            'Total_Directional_Thru_Lanes', 'Speed_Posted', 'Speed_Effective',\n",
    "            'Heavy_Veh_Percent', 'Pave_Rating_FHWA', 'Total_Width_Outlane_Shldr',\n",
    "            'Occ_On_St_Park', 'Width_Pave_Outstripe_to_Edge', 'Width_On_St_Park',\n",
    "            'Width_Function_of_Vol', 'St_Undivided_Unstriped',\n",
    "            'Ln_Width_Avg_Effective', 'LOS_Score', 'LOS_Category', 'EXIST_CD',\n",
    "       'GlobalID', 'SHAPESTLength','Signed_Rt']\n",
    "bikeways.drop(columns=drop_cols,inplace=True)"
   ]
  },
  {
   "cell_type": "markdown",
   "metadata": {},
   "source": [
    "Existing or EXIST_CD (Existing Type) field:\n",
    "- BL or 101 = Bike Lane\n",
    "- CT or 102 = Cycle Track\n",
    "- BP or 103 = Bike Path (i.e. Shared Use Path)\n",
    "- PS or 104 = Paved Shoulder\n",
    "- Narrow PS or 105 = Narrow Paved Shoulder\n",
    "- SL or 106 = Shared Lane\n",
    "- WCL or 107 = Wide Curb Lane\n",
    "- 108 = Unopened"
   ]
  },
  {
   "cell_type": "code",
   "execution_count": null,
   "metadata": {},
   "outputs": [],
   "source": [
    "data_dictionary = {\n",
    "    'BL': 'Bike Lane',\n",
    "    101: 'Bike Lane',\n",
    "    'CT': 'Cycle Track',\n",
    "    102: 'Cycle Track',\n",
    "    'BP': 'Shared Use Path',#'Bike Path (i.e. Share Use Path)',\n",
    "    103: 'Shared Use Path',#'Bike Path (i.e. Share Use Path)',\n",
    "    'PS': 'Paved Shoulder',\n",
    "    104: 'Paved Shoulder',\n",
    "    'NarrowPS': 'Narrow Paved Shoulder',\n",
    "    105: 'Narrow Paved Shoulder',\n",
    "    'SL': 'Shared Lane',\n",
    "    106: 'Shared Lane',\n",
    "    'WCL': 'Wide Curb Lane',\n",
    "    107: 'Wide Curb Lane',\n",
    "    108: 'Unopened'\n",
    "}\n",
    "\n",
    "#bikeways['EXIST_CD'] = bikeways['EXIST_CD'].map(data_dictionary)\n",
    "bikeways['Existing'] = bikeways['Existing'].map(data_dictionary)"
   ]
  },
  {
   "cell_type": "markdown",
   "metadata": {},
   "source": [
    "Status_by_Type (Status of Plan) field:\n",
    "- 0 = Existing Bike Lane\n",
    "- 1 = Existing Shared Use Path\n",
    "- 2 = Existing Paved Shoulder\n",
    "- 3 = Existing Shared Lane\n",
    "- 4 = Existing Wide Curb Lane\n",
    "- 5 = Recommended Bike Lane\n",
    "- 6 = Recommended Shared Use Path\n",
    "- 7 = Recommended Paved Shoulder\n",
    "- 8 = Recommended Wide Curb Lane\n",
    "- 9 = Existing Cycle Track\n",
    "- 10 = Recommended Cycle Track\n",
    "- 11 = Existing Narrow Paved Shoulder\n",
    "- 12 = Recommended Narrow Paved Shoulder\n",
    "- 13 = Recommended Shared Lane"
   ]
  },
  {
   "cell_type": "code",
   "execution_count": null,
   "metadata": {},
   "outputs": [],
   "source": [
    "data_dictionary = {\n",
    "    0 : \"Existing Bike Lane\",\n",
    "    1 : \"Existing Shared Use Path\",\n",
    "    2 : \"Existing Paved Shoulder\",\n",
    "    3 : \"Existing Shared Lane\",\n",
    "    4 : \"Existing Wide Curb Lane\",\n",
    "    5 : \"Recommended Bike Lane\",\n",
    "    6 : \"Recommended Shared Use Path\",\n",
    "    7 : \"Recommended Paved Shoulder\",\n",
    "    8 : \"Recommended Wide Curb Lane\",\n",
    "    9 : \"Existing Cycle Track\",\n",
    "    10 : \"Recommended Cycle Track\",\n",
    "    11 : \"Existing Narrow Paved Shoulder\",\n",
    "    12 : \"Recommended Narrow Paved Shoulder\",\n",
    "    13 : \"Recommended Shared Lane\"\n",
    "}"
   ]
  },
  {
   "cell_type": "code",
   "execution_count": null,
   "metadata": {},
   "outputs": [],
   "source": [
    "bikeways['Status_Type'] = bikeways['Status_Type'].map(data_dictionary)"
   ]
  },
  {
   "cell_type": "code",
   "execution_count": null,
   "metadata": {},
   "outputs": [],
   "source": [
    "improvements = bikeways[bikeways['Status_Type'].str.contains('Recommended')].copy()\n",
    "improvements.loc[:,'Recommended'] = improvements['Status_Type'].apply(lambda x: x.split('Recommended ')[-1])\n",
    "\n",
    "#drop when not improved\n",
    "drop_no_improvement = improvements['Existing'] != improvements['Recommended']\n",
    "improvements = improvements[drop_no_improvement]\n",
    "\n",
    "#drop features that aren't bicycle facilities\n",
    "drop_facils = ['Shared Lane','Paved Shoulder','Narrow Paved Shoulder','Wide Curb Lane']\n",
    "improvements = improvements[improvements['Recommended'].isin(drop_facils)==False]\n",
    "\n",
    "improvements[['Existing','Recommended']].value_counts(dropna=False)"
   ]
  },
  {
   "cell_type": "code",
   "execution_count": null,
   "metadata": {},
   "outputs": [],
   "source": [
    "#convert to osm type\n",
    "osm_types = ['sharrow','bike lane','buffered bike lane','cycletrack','multi use path']\n",
    "savannah_conversion = {\n",
    "    'Bike Lane': osm_types[1],\n",
    "    'Shared Use Path': osm_types[4],\n",
    "    'Cycle Track': osm_types[3]\n",
    "}\n",
    "improvements['savannah_osm_type'] = improvements['Recommended'].map(savannah_conversion)\n",
    "improvements"
   ]
  },
  {
   "cell_type": "code",
   "execution_count": null,
   "metadata": {},
   "outputs": [],
   "source": [
    "improvements.columns"
   ]
  },
  {
   "cell_type": "code",
   "execution_count": null,
   "metadata": {},
   "outputs": [],
   "source": [
    "improvements.rename(columns={\n",
    "    'Rt_Name':'savannah_id',\n",
    "    'St_Name':'savannah_name',\n",
    "},inplace=True)\n",
    "improvements = improvements[['savannah_id','savannah_name','savannah_osm_type','geometry']]"
   ]
  },
  {
   "cell_type": "markdown",
   "metadata": {},
   "source": [
    "It looks like the features with null street names are new mups that wouldn't be connected, so remove until the script for adding them is available"
   ]
  },
  {
   "cell_type": "code",
   "execution_count": null,
   "metadata": {},
   "outputs": [],
   "source": [
    "improvements[improvements['savannah_name'].isna()].explore()"
   ]
  },
  {
   "cell_type": "code",
   "execution_count": null,
   "metadata": {},
   "outputs": [],
   "source": [
    "improvements = improvements[improvements['savannah_name'].notna()]"
   ]
  },
  {
   "cell_type": "markdown",
   "metadata": {},
   "source": [
    "# Export"
   ]
  },
  {
   "cell_type": "code",
   "execution_count": null,
   "metadata": {},
   "outputs": [],
   "source": [
    "improvements.to_file(config['bicycle_facilities_fp']/'network_modifications.gpkg',layer='savannah')"
   ]
  },
  {
   "cell_type": "code",
   "execution_count": null,
   "metadata": {},
   "outputs": [],
   "source": [
    "m = improvements.explore('savannah_osm_type',tiles='CartoDBpositron')\n",
    "m"
   ]
  },
  {
   "cell_type": "code",
   "execution_count": null,
   "metadata": {},
   "outputs": [],
   "source": [
    "m.save(config['bicycle_facilities_fp']/'savannah_improvements.html')"
   ]
  }
 ],
 "metadata": {
  "kernelspec": {
   "display_name": "geo-env",
   "language": "python",
   "name": "python3"
  },
  "language_info": {
   "codemirror_mode": {
    "name": "ipython",
    "version": 3
   },
   "file_extension": ".py",
   "mimetype": "text/x-python",
   "name": "python",
   "nbconvert_exporter": "python",
   "pygments_lexer": "ipython3",
   "version": "3.12.0"
  }
 },
 "nbformat": 4,
 "nbformat_minor": 2
}

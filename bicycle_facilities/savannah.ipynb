{
 "cells": [
  {
   "cell_type": "markdown",
   "metadata": {},
   "source": [
    "# Savannah Bikeways\n",
    "- GIS File: https://data-sagis.opendata.arcgis.com/datasets/SAGIS::bikeways/about\n",
    "- Plan: https://www.thempc.org/Core/Bpp#gsc.tab=0\n",
    "---\n",
    "This notebook is for processing and cleaning the Savannah bikeways data. This layer will be used for assigning improvements the Savannah network so that they can be assessed with BikewaySim"
   ]
  },
  {
   "cell_type": "code",
   "execution_count": null,
   "metadata": {},
   "outputs": [],
   "source": [
    "import geopandas as gpd\n",
    "import pandas as pd\n",
    "from pathlib import Path\n",
    "import json\n",
    "\n",
    "config = json.load((Path.cwd().parent / 'config.json').open('rb'))\n",
    "network_fp = Path(config['project_directory']) / \"Network\"\n",
    "osmdwnld_fp = Path(config['project_directory']) / \"OSM_Download\"\n",
    "elevation_fp = Path(config['project_directory']) / \"Elevation\"\n",
    "cyclinginfra_fp = Path(config['project_directory']) / \"Cycling_Infra_Dating\"\n",
    "calibration_fp = Path(config['project_directory']) / \"Calibration\""
   ]
  },
  {
   "cell_type": "code",
   "execution_count": null,
   "metadata": {},
   "outputs": [],
   "source": [
    "bikeways = gpd.read_file(Path.home()/\"Documents/BikewaySim/RAW/SAGIS/Bikeways.geojson\")\n",
    "bikeways.columns"
   ]
  },
  {
   "cell_type": "code",
   "execution_count": null,
   "metadata": {},
   "outputs": [],
   "source": [
    "bikeways.crs"
   ]
  },
  {
   "cell_type": "code",
   "execution_count": null,
   "metadata": {},
   "outputs": [],
   "source": [
    "drop_cols = ['OBJECTID','RtA', 'RtB', 'RtC', 'SegA', 'SegB',\n",
    "            'SegC','Route_Nums','History', 'Avg_Daily_Traffic', 'Directional_Factor',\n",
    "            'Peak_to_Daily_Factor', 'Peak_Hr_Factor', 'Peak_15_Min',\n",
    "            'Total_Directional_Thru_Lanes', 'Speed_Posted', 'Speed_Effective',\n",
    "            'Heavy_Veh_Percent', 'Pave_Rating_FHWA', 'Total_Width_Outlane_Shldr',\n",
    "            'Occ_On_St_Park', 'Width_Pave_Outstripe_to_Edge', 'Width_On_St_Park',\n",
    "            'Width_Function_of_Vol', 'St_Undivided_Unstriped',\n",
    "            'Ln_Width_Avg_Effective', 'LOS_Score', 'LOS_Category', 'EXIST_CD',\n",
    "       'GlobalID', 'SHAPESTLength','Signed_Rt']\n",
    "bikeways.drop(columns=drop_cols,inplace=True)"
   ]
  },
  {
   "cell_type": "markdown",
   "metadata": {},
   "source": [
    "Existing or EXIST_CD (Existing Type) field:\n",
    "- BL or 101 = Bike Lane\n",
    "- CT or 102 = Cycle Track\n",
    "- BP or 103 = Bike Path (i.e. Shared Use Path)\n",
    "- PS or 104 = Paved Shoulder\n",
    "- Narrow PS or 105 = Narrow Paved Shoulder\n",
    "- SL or 106 = Shared Lane\n",
    "- WCL or 107 = Wide Curb Lane\n",
    "- 108 = Unopened"
   ]
  },
  {
   "cell_type": "code",
   "execution_count": null,
   "metadata": {},
   "outputs": [],
   "source": [
    "data_dictionary = {\n",
    "    'BL': 'Bike Lane',\n",
    "    101: 'Bike Lane',\n",
    "    'CT': 'Cycle Track',\n",
    "    102: 'Cycle Track',\n",
    "    'BP': 'Shared Use Path',#'Bike Path (i.e. Share Use Path)',\n",
    "    103: 'Shared Use Path',#'Bike Path (i.e. Share Use Path)',\n",
    "    'PS': 'Paved Shoulder',\n",
    "    104: 'Paved Shoulder',\n",
    "    'NarrowPS': 'Narrow Paved Shoulder',\n",
    "    105: 'Narrow Paved Shoulder',\n",
    "    'SL': 'Shared Lane',\n",
    "    106: 'Shared Lane',\n",
    "    'WCL': 'Wide Curb Lane',\n",
    "    107: 'Wide Curb Lane',\n",
    "    108: 'Unopened'\n",
    "}\n",
    "\n",
    "#bikeways['EXIST_CD'] = bikeways['EXIST_CD'].map(data_dictionary)\n",
    "bikeways['Existing'] = bikeways['Existing'].map(data_dictionary)"
   ]
  },
  {
   "cell_type": "markdown",
   "metadata": {},
   "source": [
    "Status_by_Type (Status of Plan) field:\n",
    "- 0 = Existing Bike Lane\n",
    "- 1 = Existing Shared Use Path\n",
    "- 2 = Existing Paved Shoulder\n",
    "- 3 = Existing Shared Lane\n",
    "- 4 = Existing Wide Curb Lane\n",
    "- 5 = Recommended Bike Lane\n",
    "- 6 = Recommended Shared Use Path\n",
    "- 7 = Recommended Paved Shoulder\n",
    "- 8 = Recommended Wide Curb Lane\n",
    "- 9 = Existing Cycle Track\n",
    "- 10 = Recommended Cycle Track\n",
    "- 11 = Existing Narrow Paved Shoulder\n",
    "- 12 = Recommended Narrow Paved Shoulder\n",
    "- 13 = Recommended Shared Lane"
   ]
  },
  {
   "cell_type": "code",
   "execution_count": null,
   "metadata": {},
   "outputs": [],
   "source": [
    "data_dictionary = {\n",
    "    0 : \"Existing Bike Lane\",\n",
    "    1 : \"Existing Shared Use Path\",\n",
    "    2 : \"Existing Paved Shoulder\",\n",
    "    3 : \"Existing Shared Lane\",\n",
    "    4 : \"Existing Wide Curb Lane\",\n",
    "    5 : \"Recommended Bike Lane\",\n",
    "    6 : \"Recommended Shared Use Path\",\n",
    "    7 : \"Recommended Paved Shoulder\",\n",
    "    8 : \"Recommended Wide Curb Lane\",\n",
    "    9 : \"Existing Cycle Track\",\n",
    "    10 : \"Recommended Cycle Track\",\n",
    "    11 : \"Existing Narrow Paved Shoulder\",\n",
    "    12 : \"Recommended Narrow Paved Shoulder\",\n",
    "    13 : \"Recommended Shared Lane\"\n",
    "}"
   ]
  },
  {
   "cell_type": "code",
   "execution_count": null,
   "metadata": {},
   "outputs": [],
   "source": [
    "bikeways['Status_Type'] = bikeways['Status_Type'].map(data_dictionary)"
   ]
  },
  {
   "cell_type": "code",
   "execution_count": null,
   "metadata": {},
   "outputs": [],
   "source": [
    "improvements = bikeways[bikeways['Status_Type'].str.contains('Recommended')].copy()\n",
    "improvements.loc[:,'Recommended'] = improvements['Status_Type'].apply(lambda x: x.split('Recommended ')[-1])\n",
    "\n",
    "drop_no_improvement = improvements['Existing'] != improvements['Recommended']\n",
    "improvements = improvements[drop_no_improvement]\n",
    "\n",
    "drop_facils = ['Shared Lane','Paved Shoulder','Narrow Paved Shoulder','Wide Curb Lane']\n",
    "improvements = improvements[improvements['Recommended'].isin(drop_facils)==False]"
   ]
  },
  {
   "cell_type": "code",
   "execution_count": null,
   "metadata": {},
   "outputs": [],
   "source": [
    "improvements[['Existing','Recommended']].value_counts(dropna=False)"
   ]
  },
  {
   "cell_type": "code",
   "execution_count": null,
   "metadata": {},
   "outputs": [],
   "source": [
    "m = improvements.explore('Status_Type',tiles='CartoDBpositron')\n",
    "m.save(cyclinginfra_fp/'savannah_improvements.html')"
   ]
  },
  {
   "cell_type": "code",
   "execution_count": null,
   "metadata": {},
   "outputs": [],
   "source": [
    "cyclinginfra_fp"
   ]
  },
  {
   "cell_type": "code",
   "execution_count": null,
   "metadata": {},
   "outputs": [],
   "source": [
    "\n",
    "\n",
    "\n",
    "paved_shoulders_and_curb_lanes = improvements['Status_Type'].str.contains('Paved Shoulder') | improvements['Status_Type'].str.contains('Wide Curb Lane')\n",
    "sharrow\n",
    "\n",
    "\n",
    "improvements = improvements[paved_shoulders_and_curb_lanes==False]\n",
    "\n",
    "\n",
    "\n",
    "\n"
   ]
  },
  {
   "cell_type": "code",
   "execution_count": null,
   "metadata": {},
   "outputs": [],
   "source": []
  },
  {
   "cell_type": "code",
   "execution_count": null,
   "metadata": {},
   "outputs": [],
   "source": []
  },
  {
   "cell_type": "code",
   "execution_count": null,
   "metadata": {},
   "outputs": [],
   "source": [
    "#take out paved shoulders and wide curb lanes\n",
    "#just focus on cycle tracks, bike lanes, and sups"
   ]
  },
  {
   "cell_type": "code",
   "execution_count": null,
   "metadata": {},
   "outputs": [],
   "source": [
    "bikeways[['Existing','Status_Type']]"
   ]
  }
 ],
 "metadata": {
  "kernelspec": {
   "display_name": "geo-env",
   "language": "python",
   "name": "python3"
  },
  "language_info": {
   "codemirror_mode": {
    "name": "ipython",
    "version": 3
   },
   "file_extension": ".py",
   "mimetype": "text/x-python",
   "name": "python",
   "nbconvert_exporter": "python",
   "pygments_lexer": "ipython3",
   "version": "3.11.0"
  }
 },
 "nbformat": 4,
 "nbformat_minor": 2
}

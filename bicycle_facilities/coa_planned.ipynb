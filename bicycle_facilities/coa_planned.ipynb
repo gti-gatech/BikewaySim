{
 "cells": [
  {
   "cell_type": "code",
   "execution_count": null,
   "metadata": {},
   "outputs": [],
   "source": [
    "import geopandas as gpd\n",
    "import pandas as pd\n",
    "from pathlib import Path\n",
    "import matching_script\n",
    "import json\n",
    "\n",
    "import sys\n",
    "sys.path.insert(0,str(Path.cwd().parent))\n",
    "import file_structure_setup\n",
    "config = file_structure_setup.filepaths()"
   ]
  },
  {
   "cell_type": "code",
   "execution_count": null,
   "metadata": {},
   "outputs": [],
   "source": [
    "#TODO, resolve difference between the old inventory and the old as some streets had their facilities upgraded recently (Edgewood) and (Confederate/United)\n",
    "coa = gpd.read_file('D:/RAW/City_of_Atlanta/coa_bike_facilities_new.geojson')\n",
    "coa.to_crs(config['projected_crs_epsg'],inplace=True)"
   ]
  },
  {
   "cell_type": "markdown",
   "metadata": {},
   "source": [
    "Only keep funded infrastructure for now because the planned projects include ones that probably aren't happening soon. Have a talk with Rebecca Serna about which facilities in this plan to include."
   ]
  },
  {
   "cell_type": "code",
   "execution_count": null,
   "metadata": {},
   "outputs": [],
   "source": [
    "# only keep funded ones for now\n",
    "coa = coa[(coa['Status']=='Funded')]"
   ]
  },
  {
   "cell_type": "code",
   "execution_count": null,
   "metadata": {},
   "outputs": [],
   "source": [
    "# remove uncessary columns\n",
    "coa.drop(columns=['GlobalID','Shape__Length','LengthMi','CrossSectionNotes','Status','YearInstalled'],inplace=True)\n",
    "\n",
    "#rename the id/year column\n",
    "coa.rename(columns={'OBJECTID':'id'},inplace=True)\n",
    "\n",
    "# rename columns for consistency\n",
    "coa.columns = ['coa_'+col.lower() if col != 'geometry' else 'geometry' for col in coa.columns.tolist()]\n",
    "\n",
    "# convert facility type to OSM (use highest protection if two different types)\n",
    "osm_types = ['sharrow','bike lane','buffered bike lane','cycletrack','multi use path']\n",
    "coa_conversion = {\n",
    "       'Protected Bike Lane': osm_types[3], \n",
    "       'Protected Bike Lane / Bike Lane': osm_types[3],\n",
    "       'Two-Way Cycle Track': osm_types[3], \n",
    "       'Uphill Bike Lane / Downhill Sharrows': osm_types[1],\n",
    "       'Sharrows': osm_types[0], \n",
    "       'Bike Lane': osm_types[1], \n",
    "       'Bike Lane ': osm_types[1],\n",
    "       'Uphill Buffered Bike Lane / Downhill Sharrows': osm_types[2],\n",
    "       'Buffered Bike Lane': osm_types[2], \n",
    "       'Buffered Contraflow Bike Lane / Bike Lane': osm_types[1],\n",
    "       'Shared-Use Path': osm_types[4], \n",
    "       'Neighborhood Greenway': osm_types[0], \n",
    "       'Bike Lane / Sharrows': osm_types[1],\n",
    "       'Shared-Use Path / Bike Lane': osm_types[4], \n",
    "       'Buffered Bike Lane / Bike Lane': osm_types[2],\n",
    "       'Buffered Bike Lane / Shared-Use Path': osm_types[4],\n",
    "       'Shared-Use Path / Sharrows': osm_types[4],\n",
    "       'Uphill Protected Bike Lane / Downhill Sharrows': osm_types[3], \n",
    "       'Shared Path': osm_types[4],\n",
    "       'Seperated Bike Lane': osm_types[3],\n",
    "       'Contraflow Bike Lane': osm_types[1], \n",
    "       'Bike Boulevard': osm_types[0],\n",
    "       'Contraflow Bike Lane / Sharrows': osm_types[2], \n",
    "       'Separated Bike Lane / Buffered Bike Lane': osm_types[3],\n",
    "       'Separated Bike Lane / Bike Lane': osm_types[3], \n",
    "       'Separated Bike Lane': osm_types[3],\n",
    "       'Neighborhood Greenway / Bike Lane': osm_types[1], \n",
    "       'Buffered Bike Lanes': osm_types[2],\n",
    "       'Raised Bike Lane': osm_types[3], \n",
    "}\n",
    "coa['coa_osm_type'] = coa['coa_facilitytype'].map(coa_conversion)"
   ]
  },
  {
   "cell_type": "code",
   "execution_count": null,
   "metadata": {},
   "outputs": [],
   "source": [
    "# remove sharrows and nas\n",
    "coa = coa[(coa['coa_osm_type'] != 'sharrow') & coa['coa_osm_type'].notna()]"
   ]
  },
  {
   "cell_type": "code",
   "execution_count": null,
   "metadata": {},
   "outputs": [],
   "source": [
    "coa['coa_osm_type'].value_counts(dropna=False)"
   ]
  },
  {
   "cell_type": "code",
   "execution_count": null,
   "metadata": {},
   "outputs": [],
   "source": [
    "coa.head()"
   ]
  },
  {
   "cell_type": "code",
   "execution_count": null,
   "metadata": {},
   "outputs": [],
   "source": [
    "#export\n",
    "coa.to_file(config['bicycle_facilities_fp']/'network_modifications.gpkg',layer='coa')"
   ]
  },
  {
   "cell_type": "code",
   "execution_count": null,
   "metadata": {},
   "outputs": [],
   "source": [
    "# m = coa.explore('coa_osm_type',tiles=\"CartoDBpositron\")\n",
    "# m"
   ]
  }
 ],
 "metadata": {
  "kernelspec": {
   "display_name": "Python 3",
   "language": "python",
   "name": "python3"
  },
  "language_info": {
   "codemirror_mode": {
    "name": "ipython",
    "version": 3
   },
   "file_extension": ".py",
   "mimetype": "text/x-python",
   "name": "python",
   "nbconvert_exporter": "python",
   "pygments_lexer": "ipython3",
   "version": "3.9.13"
  }
 },
 "nbformat": 4,
 "nbformat_minor": 2
}

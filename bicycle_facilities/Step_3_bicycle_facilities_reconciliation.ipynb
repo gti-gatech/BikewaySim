{
 "cells": [
  {
   "cell_type": "markdown",
   "metadata": {},
   "source": [
    "# Bicycle Facilities Reconciliation\n",
    "This notebook is for determining the approximate build date (when facility was available for use) of bike facilities. See `readme.md` for a full explanation.\n",
    "\n",
    "- Need to also conflate OSM off-street bike facilities with on street ones"
   ]
  },
  {
   "cell_type": "code",
   "execution_count": null,
   "metadata": {},
   "outputs": [],
   "source": [
    "import geopandas as gpd\n",
    "import pandas as pd\n",
    "from pathlib import Path\n",
    "import bikewaysim.network.matching_script as matching_script\n",
    "import numpy as np\n"
   ]
  },
  {
   "cell_type": "code",
   "execution_count": null,
   "metadata": {},
   "outputs": [],
   "source": []
  },
  {
   "cell_type": "code",
   "execution_count": null,
   "metadata": {},
   "outputs": [],
   "source": [
    "from pyprojroot import here\n",
    "here()\n"
   ]
  },
  {
   "cell_type": "code",
   "execution_count": null,
   "metadata": {},
   "outputs": [],
   "source": [
    "import pyprojroot\n",
    "\n",
    "\n",
    "root = pyprojroot.find_root(pyprojroot.has_dir(\".git\"))\n",
    "# import sys\n",
    "# sys.path.insert(0,str(Path.cwd().parent))\n",
    "# import file_structure_setup\n",
    "# config = file_structure_setup.filepaths()"
   ]
  },
  {
   "cell_type": "markdown",
   "metadata": {},
   "source": [
    "## Import the 2023 OSM, ARC, and CoA bicycle networks"
   ]
  },
  {
   "cell_type": "code",
   "execution_count": null,
   "metadata": {},
   "outputs": [],
   "source": [
    "coa = gpd.read_file(config['bicycle_facilities_fp']/'reference_layers.gpkg',layer='coa')\n",
    "arc = gpd.read_file(config['bicycle_facilities_fp']/'reference_layers.gpkg',layer='arc')\n",
    "cycleways_osm = gpd.read_file(config['bicycle_facilities_fp']/'reference_layers.gpkg',layer='osm_cycleways_network')\n",
    "# cycleways_osm = cycleways_osm.loc[cycleways_osm['year']=='2023',['osmid','highway','name','facility_fwd','facility_rev','geometry']]"
   ]
  },
  {
   "cell_type": "markdown",
   "metadata": {},
   "source": [
    "## Experimenting with adding multi-use paths and cycletracks to adjacent roads "
   ]
  },
  {
   "cell_type": "code",
   "execution_count": null,
   "metadata": {},
   "outputs": [],
   "source": [
    "# TODO come back to this part at the end, focus on infra now\n",
    "# multi_use_paths = cycleways_osm[cycleways_osm['facility_fwd']=='multi use path'].copy()\n",
    "# multi_use_paths.geometry = multi_use_paths.buffer(100)\n",
    "# # multi_use_paths.explore(popup=True)\n",
    "# osmid = 123367987\n",
    "# smt = multi_use_paths[multi_use_paths['osmid']==osmid]\n",
    "# links = gpd.read_file(config['network_fp'] /'networks.gpkg',layer='osm_links')\n",
    "# nodes = gpd.read_file(config['network_fp'] /'networks.gpkg',layer='osm_nodes')\n",
    "# #try out the raw version instead\n",
    "# links = links[links['link_type']=='road']"
   ]
  },
  {
   "cell_type": "markdown",
   "metadata": {},
   "source": [
    "- identify features within 100 feet\n",
    "- project start and end point of network link onto bike path\n",
    "- clip line accordingly\n",
    "- calculate hausdorff distance to judge similarity between features"
   ]
  },
  {
   "cell_type": "code",
   "execution_count": null,
   "metadata": {},
   "outputs": [],
   "source": [
    "#todo turn this into a loop and see what the outputs look like\n",
    "# osm_f = 1125692554#1125692531\n",
    "\n",
    "# #1125692544#1125692426\n",
    "# test = links[links['osm_linkid']==osm_f]\n",
    "# start = list(test.geometry.item().coords)[0]\n",
    "# end = list(test.geometry.item().coords)[-1]\n",
    "\n",
    "# from shapely.ops import Point, LineString\n",
    "\n",
    "\n",
    "# start = Point(start)\n",
    "# end = Point(end)\n",
    "\n",
    "# start = smt_geo.project(start)\n",
    "# end = smt_geo.project(end)\n",
    "\n",
    "# print(start)\n",
    "# print(end)\n",
    "\n",
    "# start_geo = smt_geo.interpolate(start)\n",
    "# end_geo = smt_geo.interpolate(end)\n",
    "\n",
    "# import numpy as np\n",
    "\n",
    "# points = [smt_geo.project(Point(x)) for x in list(smt_geo.coords)]\n",
    "\n",
    "# A = (np.array(points) > start).argmax()\n",
    "# B = (np.array(points) < end).argmin()\n",
    "# points = list(start_geo.coords) + list(smt_geo.coords)[A:B] + list(end_geo.coords)\n",
    "# #start\n",
    "# LineString(points).hausdorff_distance(test.geometry.item())\n",
    "\n",
    "\n",
    "# candidate = links[links.geometry.intersects(smt.geometry.item())]#.explore()\n",
    "\n",
    "# smt_geo = cycleways_osm.loc[cycleways_osm['osmid']==osmid,'geometry'].item()\n",
    "\n",
    "# candidate['hausdorff_distance'] = candidate['geometry'].apply(lambda x: x.hausdorff_distance(smt_geo))\n",
    "\n",
    "# m = smt.explore(style_kwds={'color':'red','fillOpacity':0})\n",
    "# candidate.explore(m=m,popup=True)"
   ]
  },
  {
   "cell_type": "markdown",
   "metadata": {},
   "source": [
    "# Suggested Matches Script\n",
    "Buffers the OSM cycleways and intersect it with the other bicycle inventory files. Check the names and the similarity of the intersected features to the original features. Results should be manually verified in QGIS."
   ]
  },
  {
   "cell_type": "markdown",
   "metadata": {},
   "source": [
    "### Settings"
   ]
  },
  {
   "cell_type": "code",
   "execution_count": null,
   "metadata": {},
   "outputs": [],
   "source": [
    "buffer_ft = 100 # buffer the osm cycleways by this much\n",
    "max_hausdorff_dist_ft = 1500 # if above this, reject a match"
   ]
  },
  {
   "cell_type": "code",
   "execution_count": null,
   "metadata": {},
   "outputs": [],
   "source": [
    "cycleways_osm"
   ]
  },
  {
   "cell_type": "code",
   "execution_count": null,
   "metadata": {},
   "outputs": [],
   "source": [
    "#perform overlap\n",
    "from importlib import reload\n",
    "reload(matching_script)\n",
    "coa_overlap = matching_script.suggested_matches(cycleways_osm,coa,'coa',buffer_ft,max_hausdorff_dist_ft,'osm_linkid')\n",
    "arc_overlap = matching_script.suggested_matches(cycleways_osm,arc,'arc',buffer_ft,max_hausdorff_dist_ft,'osm_linkid')\n",
    "\n",
    "print('Total Matches:')\n",
    "print('coa:',coa_overlap.shape[0],'arc:',arc_overlap.shape[0])\n",
    "print('Undecided:')\n",
    "print('coa:',coa_overlap['auto_match'].isna().sum(),'arc:',arc_overlap['auto_match'].isna().sum())\n",
    "print('Accept:')\n",
    "print('coa:',(coa_overlap['auto_match']==1).sum(),'arc:',(arc_overlap['auto_match']==1).sum())\n",
    "print('Reject:')\n",
    "print('coa:',(coa_overlap['auto_match']==0).sum(),'arc:',(arc_overlap['auto_match']==0).sum())\n",
    "\n",
    "#drop all the false matches\n",
    "coa_overlap = coa_overlap[coa_overlap['auto_match']!=False]\n",
    "arc_overlap = arc_overlap[arc_overlap['auto_match']!=False]\n",
    "\n",
    "#use this to force select feature to false\n",
    "coa_exceptions = [426,1]\n",
    "arc_exceptions = []\n",
    "#TODO add code to remove these"
   ]
  },
  {
   "cell_type": "code",
   "execution_count": null,
   "metadata": {},
   "outputs": [],
   "source": [
    "#export\n",
    "coa_overlap.to_file(config['bicycle_facilities_fp']/'suggested_matches.gpkg',layer='coa')\n",
    "arc_overlap.to_file(config['bicycle_facilities_fp']/'suggested_matches.gpkg',layer='arc')"
   ]
  },
  {
   "cell_type": "markdown",
   "metadata": {},
   "source": [
    "# Missing Infrastructure (ID version)\n",
    "Find the coa/arc features that were not considered in the overlap step"
   ]
  },
  {
   "cell_type": "code",
   "execution_count": null,
   "metadata": {},
   "outputs": [],
   "source": [
    "#load the suggested infra\n",
    "coa_overlap = gpd.read_file(config['bicycle_facilities_fp']/'suggested_matches.gpkg',layer='coa')\n",
    "arc_overlap = gpd.read_file(config['bicycle_facilities_fp']/'suggested_matches.gpkg',layer='arc')"
   ]
  },
  {
   "cell_type": "code",
   "execution_count": null,
   "metadata": {},
   "outputs": [],
   "source": [
    "#get ids of accepted matches\n",
    "suggested_coa_ids = coa_overlap['coa_id'].unique().tolist()\n",
    "suggested_arc_ids = arc_overlap['arc_id'].unique().tolist()"
   ]
  },
  {
   "cell_type": "code",
   "execution_count": null,
   "metadata": {},
   "outputs": [],
   "source": [
    "#import raw versions\n",
    "coa = gpd.read_file(config['bicycle_facilities_fp']/'reference_layers.gpkg',layer='coa')\n",
    "arc = gpd.read_file(config['bicycle_facilities_fp']/'reference_layers.gpkg',layer='arc')\n",
    "#garber = gpd.read_file(config['bicycle_facilities_fp']/'reference_layers.gpkg',layer='garber')"
   ]
  },
  {
   "cell_type": "code",
   "execution_count": null,
   "metadata": {},
   "outputs": [],
   "source": [
    "#what's not covered\n",
    "coa_inv = coa[coa['coa_id'].isin(suggested_coa_ids) == False].copy()\n",
    "arc_inv = arc[arc['arc_id'].isin(suggested_arc_ids) == False].copy()\n",
    "print(coa_inv.shape[0],'CoA and',arc_inv.shape[0],'ARC features not covered by osm cycleways')"
   ]
  },
  {
   "cell_type": "code",
   "execution_count": null,
   "metadata": {},
   "outputs": [],
   "source": [
    "coa_inv['include'] = None\n",
    "coa_inv['suggested_osmid'] = None # used to indicate which osmid this should be assigned to\n",
    "coa_inv['notes'] = None\n",
    "coa_inv.to_file(config['bicycle_facilities_fp']/'missing.gpkg',layer='coa')\n",
    "\n",
    "arc_inv['include'] = None\n",
    "arc_inv['suggested_osmid'] = None\n",
    "arc_inv['notes'] = None\n",
    "arc_inv.to_file(config['bicycle_facilities_fp']/'missing.gpkg',layer='arc')"
   ]
  },
  {
   "cell_type": "markdown",
   "metadata": {},
   "source": [
    "# Reference OSM network if suggested matches is incorrect"
   ]
  },
  {
   "cell_type": "code",
   "execution_count": null,
   "metadata": {},
   "outputs": [],
   "source": [
    "# raw_osm = gpd.read_file(config['project_fp']/\"OSM_Download/osm_2023.gpkg\",layer='raw')\n",
    "\n",
    "# raw_osm['suggested_arc_match'] = None\n",
    "# raw_osm['suggested_coa_match'] = None\n",
    "# raw_osm['notes'] = None\n",
    "\n",
    "# raw_osm.to_file(config['bicycle_facilities_fp']/'reference_layers.gpkg',layer=\"osm_2023\")\n",
    "# del raw_osm"
   ]
  },
  {
   "cell_type": "code",
   "execution_count": null,
   "metadata": {},
   "outputs": [],
   "source": [
    "# network_osm = gpd.read_file(config['project_fp']/\"Network/networks.gpkg\",layer='osm_links')\n",
    "\n",
    "# network_osm['suggested_arc_match'] = None\n",
    "# network_osm['suggested_coa_match'] = None\n",
    "# network_osm['notes'] = None\n",
    "\n",
    "# network_osm.to_file(config['bicycle_facilities_fp']/'reference_layers.gpkg',layer=\"osm_network_2023\")\n",
    "# del network_osm"
   ]
  },
  {
   "cell_type": "markdown",
   "metadata": {},
   "source": [
    "# Add dates to OSM cycleways network"
   ]
  },
  {
   "cell_type": "code",
   "execution_count": null,
   "metadata": {},
   "outputs": [],
   "source": [
    "coa_overlap = gpd.read_file(config['bicycle_facilities_fp']/'suggested_matches.gpkg',layer='coa')\n",
    "arc_overlap = gpd.read_file(config['bicycle_facilities_fp']/'suggested_matches.gpkg',layer='arc')\n",
    "\n",
    "coa_cols = [x for x in coa_overlap.columns if 'coa_' in x] + [\n",
    "    'osm_linkid','auto_match', 'manual_match',\n",
    "    'notes', 'name_check', 'one_to_many', 'hausdorff_dist']\n",
    "\n",
    "# arc_cols = [x for x in coa_overlap.columns if 'arc_' in x]\n",
    "merged = pd.merge(coa_overlap[coa_cols],arc_overlap,on='osm_linkid',how='outer')\n",
    "# merged.columns = ['coa_'+ x.split('_x')[0] if '_x' in x else x for x in merged.columns]\n",
    "# merged.columns = ['arc_'+ x.split('_y')[0] if '_y' in x else x for x in merged.columns]\n",
    "\n",
    "merged = gpd.GeoDataFrame(merged,crs=config['projected_crs_epsg'])\n",
    "# coa_cols = [ x if ('coa_' in x) & (x != 'osmid') else 'coa_' + x for x in coa_cols]\n",
    "\n",
    "#initialize year column\n",
    "merged['year'] = np.nan\n",
    "\n",
    "# if both years are the same then assign that year\n",
    "same_years= merged['coa_year'] == merged['arc_year']\n",
    "merged.loc[same_years,'year'] = merged['coa_year']\n",
    "\n",
    "# if difference between facility types, choose the one that matches up to OSM\n",
    "mismatch =  (merged['coa_osm_type'] != merged['arc_osm_type'])\n",
    "coa_matches = merged['coa_osm_type'] == merged['facility']\n",
    "arc_matches = merged['arc_osm_type'] == merged['facility']\n",
    "merged.loc[mismatch & coa_matches & merged['year'].isna(),'year'] = merged['coa_year']\n",
    "merged.loc[mismatch & arc_matches & merged['year'].isna(),'year'] = merged['arc_year']\n",
    "\n",
    "# figuring out the right date\n",
    "# if available, take the coa date (they tend to be more accurate)\n",
    "coa_notna = merged['coa_year'].notna()\n",
    "arc_notna = merged['arc_year'].notna()\n",
    "merged.loc[merged['coa_year'].notna() & merged['year'].isna(),'year'] = merged['coa_year']\n",
    "merged.loc[merged['arc_year'].notna() & merged['year'].isna(),'year'] = merged['arc_year']\n",
    "\n",
    "# merge with the osm data\n",
    "cycleways_osm = gpd.read_file(config['bicycle_facilities_fp']/'reference_layers.gpkg',layer='osm_cycleways_network')\n",
    "cycleways_osm = pd.merge(cycleways_osm,merged[['osm_linkid','year']],how='left')"
   ]
  },
  {
   "cell_type": "code",
   "execution_count": null,
   "metadata": {},
   "outputs": [],
   "source": [
    "cycleways_osm.columns"
   ]
  },
  {
   "cell_type": "code",
   "execution_count": null,
   "metadata": {},
   "outputs": [],
   "source": [
    "date_override = {\n",
    "    22939: 2019,\n",
    "    162250: 2019\n",
    "}\n",
    "date_override = cycleways_osm['osm_linkid'].map(date_override).dropna()\n",
    "cycleways_osm.loc[date_override.index.tolist(),'year'] = date_override"
   ]
  },
  {
   "cell_type": "code",
   "execution_count": null,
   "metadata": {},
   "outputs": [],
   "source": [
    "# date override\n",
    "missing_dates_dict = {\n",
    "    9183807: 2013,#'2/2013', # maybe put month and date if available?\n",
    "    1118729510: 2017,\n",
    "    1118729511: 2017,  \n",
    "}\n",
    "missing_dates = cycleways_osm.loc[cycleways_osm['year'].isna(),'osmid']\n",
    "missing_dates = missing_dates.map(missing_dates_dict).dropna()\n",
    "cycleways_osm.loc[missing_dates.index.tolist(),'year'] = missing_dates\n",
    "\n",
    "#use this to find what osm features still need dates\n",
    "cycleways_osm_full = gpd.read_file(config['bicycle_facilities_fp']/'reference_layers.gpkg',layer='osm_cycleways_full')\n",
    "nodate = set(cycleways_osm.loc[cycleways_osm['year'].isna(),'osmid'].tolist())\n",
    "hasdate = set(cycleways_osm.loc[cycleways_osm['year'].notna(),'osmid'].tolist())\n",
    "# remove features that have at least one date\n",
    "# nodate = nodate - hasdate\n",
    "cycleways_osm_full = cycleways_osm_full[cycleways_osm_full['osmid'].isin(nodate)]"
   ]
  },
  {
   "cell_type": "code",
   "execution_count": null,
   "metadata": {},
   "outputs": [],
   "source": [
    "# connector links\n",
    "# these connect off-street infra back to the street (not really infra)\n",
    "connector_links = [903328316,903328313]"
   ]
  },
  {
   "cell_type": "markdown",
   "metadata": {},
   "source": [
    "# export\n"
   ]
  },
  {
   "cell_type": "code",
   "execution_count": null,
   "metadata": {},
   "outputs": [],
   "source": [
    "from importlib import reload\n",
    "reload(matching_script)\n",
    "matching_script.remove_suffix('M.L.K. Jr.')"
   ]
  },
  {
   "cell_type": "code",
   "execution_count": null,
   "metadata": {},
   "outputs": [],
   "source": [
    "cycleways_osm.to_file(config['bicycle_facilities_fp']/'osm_cycleways_w_dates.gpkg',layer='dates_network')\n",
    "cycleways_osm_full.to_file(config['bicycle_facilities_fp']/'osm_cycleways_w_dates.gpkg',layer='no_dates')"
   ]
  },
  {
   "cell_type": "code",
   "execution_count": null,
   "metadata": {},
   "outputs": [],
   "source": [
    "cycleways_osm[cycleways_osm['year'].isna()].explore()"
   ]
  },
  {
   "cell_type": "code",
   "execution_count": null,
   "metadata": {},
   "outputs": [],
   "source": [
    "# TODO use this to add in new dates\n"
   ]
  },
  {
   "cell_type": "code",
   "execution_count": null,
   "metadata": {},
   "outputs": [],
   "source": [
    "coa_overlap[['coa_osm_type','facility']].value_counts()"
   ]
  },
  {
   "cell_type": "code",
   "execution_count": null,
   "metadata": {},
   "outputs": [],
   "source": [
    "#mismatching\n",
    "# reorder = ['coa_osm_type','arc_osm_type','coa_year','arc_year','osmid','name','facility','hausdorff_dist_x','hausdorff_dist_y','geometry']\n",
    "# merged.loc[(merged['coa_osm_type'] != merged['arc_osm_type']) & merged[['coa_osm_type','arc_osm_type']].notna().all(axis=1),reorder].to_file(config['bicycle_facilities_fp']/'scratch.gpkg',layer='mismatch')\n",
    "# merged[reorder].to_file(config['bicycle_facilities_fp']/'scratch.gpkg',layer='test')"
   ]
  },
  {
   "cell_type": "code",
   "execution_count": null,
   "metadata": {},
   "outputs": [],
   "source": [
    "# cycleways_osm_coa_arc[cycleways_osm_coa_arc[['arc_year','coa_year']].notnull().any(axis=1)].explore()"
   ]
  },
  {
   "cell_type": "markdown",
   "metadata": {},
   "source": [
    "# Add reference osm files"
   ]
  },
  {
   "cell_type": "code",
   "execution_count": null,
   "metadata": {},
   "outputs": [],
   "source": [
    "# years = [2014,2015,2016,2023]\n",
    "\n",
    "# for year in years:\n",
    "#     raw_osm = gpd.read_file(Path(config['project_directory'])/f\"OSM_Download/osm_{year}.gpkg\",layer='raw')\n",
    "#     raw_osm.to_file(config['bicycle_facilities_fp']/'reference_layers.gpkg',layer=f\"osm_{year}\")\n",
    "#     del raw_osm"
   ]
  },
  {
   "cell_type": "markdown",
   "metadata": {},
   "source": [
    "# Create a version of OSM for editing and adding data to (only run once)"
   ]
  },
  {
   "cell_type": "code",
   "execution_count": null,
   "metadata": {},
   "outputs": [],
   "source": [
    "# osm = gpd.read_file(config['bicycle_facilities_fp']/'reference_layers.gpkg',layer='osm_2023')\n",
    "# overwrite = False\n",
    "# if overwrite:\n",
    "#     osm.to_file(config['bicycle_facilities_fp']/'osm_edit.gpkg')"
   ]
  },
  {
   "cell_type": "code",
   "execution_count": null,
   "metadata": {},
   "outputs": [],
   "source": [
    "# <!-- # Missing Infrastructure (Geometry Version)\n",
    "# buffer_ft = 100\n",
    "# overwrite_diff = False\n",
    "# confirm_diff = False\n",
    "# # import the 2023 OSM bicycle network\n",
    "# cycleways_osm = gpd.read_file(config['bicycle_facilities_fp']/'osm_cycleways.gpkg')\n",
    "# cycleways_osm = cycleways_osm.loc[cycleways_osm['year']=='2023']\n",
    "\n",
    "# # get unary union of all features after buffering\n",
    "# cycleways_osm_all = cycleways_osm.buffer(buffer_ft).unary_union\n",
    "# arc_diff = arc[arc.geometry.intersects(cycleways_osm_all) == False]\n",
    "# coa_diff = coa[coa.geometry.intersects(cycleways_osm_all) == False]\n",
    "# garber_diff = garber[garber.geometry.intersects(cycleways_osm_all) == False]\n",
    "# overwrite = False\n",
    "# if overwrite:\n",
    "#     coa_diff['valid_difference'] = None\n",
    "#     coa_diff['notes'] = None\n",
    "#     coa_diff.to_file(config['bicycle_facilities_fp']/'differences.gpkg',layer='coa')\n",
    "    \n",
    "#     arc_diff['valid_difference'] = None\n",
    "#     arc_diff['notes'] = None\n",
    "#     arc_diff.to_file(config['bicycle_facilities_fp']/'differences.gpkg',layer='arc')\n",
    "\n",
    "#     garber_diff['valid_difference'] = None\n",
    "#     garber_diff['notes'] = None\n",
    "#     garber_diff.to_file(config['bicycle_facilities_fp']/'differences.gpkg',layer='garber')\n",
    "\n",
    "# raw_osm = gpd.read_file(Path(config['project_directory'])/f\"OSM_Download/osm_{config['geofabrik_year']}.gpkg\",layer='raw')\n",
    "# raw_osm.to_crs(config['projected_crs_epsg'],inplace=True)\n",
    "# final_confirm = False\n",
    "# if (overwrite_check(overwrite_diff,confirm_diff) == True) & (final_confirm == True):\n",
    "#     raw_osm['arc_feature_id'] = None\n",
    "#     raw_osm['coa_feature_id'] = None\n",
    "#     raw_osm['garber_feature_id'] = None\n",
    "#     raw_osm.to_file(config['bicycle_facilities_fp']/'differences.gpkg',layer='osm_edit')\n",
    "# # raw_osm = gpd.read_file(Path(config['project_directory'])/f\"OSM_Download/osm_{config['geofabrik_year']}.gpkg\",layer='raw')\n",
    "# # raw_osm.to_crs(config['projected_crs_epsg'],inplace=True)\n",
    "# # final_confirm = True\n",
    "# # if (overwrite_check(overwrite_diff,confirm_diff) == True) & (final_confirm == True):\n",
    "# #     raw_osm['arc_feature_id'] = None\n",
    "# #     raw_osm['coa_feature_id'] = None\n",
    "# #     raw_osm['garber_feature_id'] = None\n",
    "# #     raw_osm.to_file(config['bicycle_facilities_fp']/'differences.gpkg',layer='osm_edit')\n",
    "# # #based on the 2023-01-01 Geofabrik Georgia Extract\n",
    "# # #osm = gpd.read_file(Path(config['project_directory'])/'Network/networks.gpkg',layer='osm_links')\n",
    "# # osm = gpd.read_file(Path(config['project_directory'])/f\"OSM_Download/osm_2023.gpkg\",layer='raw',ignore_geometry=True)\n",
    "# # #osm = pd.merge(osm,raw_osm,on='osmid',how='left')\n",
    "\n",
    "# # #create new fields for install dates\n",
    "# # osm['install_year'] = None\n",
    "# # osm['install_month'] = None\n",
    "# # osm['install_day'] = None\n",
    "\n",
    "# # #create new fields for updated fwd and rev infra types\n",
    "# # osm['facility_fwd'] = None\n",
    "# # osm['facility_rev'] = None\n",
    "\n",
    "# # #create field for notes\n",
    "# # osm['notes'] = None\n",
    "\n",
    "# # #create field for edit date\n",
    "# # osm['last_edited'] = None -->"
   ]
  }
 ],
 "metadata": {
  "kernelspec": {
   "display_name": "Python 3",
   "language": "python",
   "name": "python3"
  },
  "language_info": {
   "codemirror_mode": {
    "name": "ipython",
    "version": 3
   },
   "file_extension": ".py",
   "mimetype": "text/x-python",
   "name": "python",
   "nbconvert_exporter": "python",
   "pygments_lexer": "ipython3",
   "version": "3.9.13"
  }
 },
 "nbformat": 4,
 "nbformat_minor": 2
}

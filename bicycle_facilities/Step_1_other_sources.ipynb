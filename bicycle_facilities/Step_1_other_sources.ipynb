{
 "cells": [
  {
   "cell_type": "markdown",
   "metadata": {},
   "source": [
    "# Process other cycling infrastructure sources"
   ]
  },
  {
   "cell_type": "code",
   "execution_count": null,
   "metadata": {},
   "outputs": [],
   "source": [
    "import geopandas as gpd\n",
    "import pandas as pd\n",
    "from pathlib import Path\n",
    "\n",
    "import sys\n",
    "sys.path.insert(0,str(Path.cwd().parent))\n",
    "import file_structure_setup\n",
    "config = file_structure_setup.filepaths()"
   ]
  },
  {
   "cell_type": "code",
   "execution_count": null,
   "metadata": {},
   "outputs": [],
   "source": [
    "studyarea_geo = gpd.read_file(config['studyarea_fp']).to_crs('epsg:4326')"
   ]
  },
  {
   "cell_type": "markdown",
   "metadata": {},
   "source": [
    "# City of Atlanta / Atlanta Regional Commission / Garber Processing\n",
    "NOTE: There are some data quality issues with the CoA and ARC datasets in that sometimes facilities are marked as there when they aren't. Refine this in the future."
   ]
  },
  {
   "cell_type": "markdown",
   "metadata": {},
   "source": [
    "## City of Atlanta \n",
    "Has year installed date and other notes. Contains sharrows. Also contains \"planned\" infrastructure that may not have actually been completed. Some street names have changed like \"Confederate\" to \"United\"\n",
    "\n",
    "Links to Infra Installation Dates (move to an excel sheet):\n",
    "- https://www.letspropelatl.org/infra-tracker\n",
    "- https://services2.arcgis.com/zLeajbicrDRLQcny/arcgis/rest/services/Bike_Facilities_Public_View/FeatureServer/0?f=pjson\n"
   ]
  },
  {
   "cell_type": "code",
   "execution_count": null,
   "metadata": {},
   "outputs": [],
   "source": [
    "#TODO, resolve difference between the old inventory and the old as some streets had their facilities upgraded recently (Edgewood) and (Confederate/United)\n",
    "coa = gpd.read_file('D:/RAW/City_of_Atlanta/coa_bike_facilities_new.geojson',mask=studyarea_geo)\n",
    "coa.to_crs(config['projected_crs_epsg'],inplace=True)\n",
    "\n",
    "# only keep existing and funded ones where the year is defined\n",
    "coa = coa[(coa['Status'].isin(['Existing'])) & coa['YearInstalled'].notna()]\n",
    "\n",
    "# remove uncessary columns\n",
    "coa.drop(columns=['GlobalID','Shape__Length','LengthMi','CrossSectionNotes','Status'],inplace=True)\n",
    "\n",
    "#rename the id/year column\n",
    "coa.rename(columns={'OBJECTID':'id','YearInstalled':'year'},inplace=True)\n",
    "\n",
    "#mark facilities that need to be dated\n",
    "coa['need_date'] = (coa['year'] >= 2012) & (coa['year'] <= 2016)\n",
    "\n",
    "# rename columns for consistency\n",
    "coa.columns = ['coa_'+col.lower() if col != 'geometry' else 'geometry' for col in coa.columns.tolist()]\n",
    "\n",
    "# convert facility type to OSM (use highest protection if two different types)\n",
    "osm_types = ['sharrow','bike lane','buffered bike lane','cycletrack','multi use path']\n",
    "coa_conversion = {\n",
    "       'Protected Bike Lane': osm_types[3], \n",
    "       'Protected Bike Lane / Bike Lane': osm_types[3],\n",
    "       'Two-Way Cycle Track': osm_types[3], \n",
    "       'Uphill Bike Lane / Downhill Sharrows': osm_types[1],\n",
    "       'Sharrows': osm_types[0], \n",
    "       'Bike Lane': osm_types[1], \n",
    "       'Bike Lane ': osm_types[1],\n",
    "       'Uphill Buffered Bike Lane / Downhill Sharrows': osm_types[2],\n",
    "       'Buffered Bike Lane': osm_types[2], \n",
    "       'Buffered Contraflow Bike Lane / Bike Lane': osm_types[1],\n",
    "       'Shared-Use Path': osm_types[4], \n",
    "       'Neighborhood Greenway': osm_types[0], \n",
    "       'Bike Lane / Sharrows': osm_types[1],\n",
    "       'Shared-Use Path / Bike Lane': osm_types[4], \n",
    "       'Buffered Bike Lane / Bike Lane': osm_types[2],\n",
    "       'Buffered Bike Lane / Shared-Use Path': osm_types[4],\n",
    "       'Shared-Use Path / Sharrows': osm_types[4],\n",
    "       'Uphill Protected Bike Lane / Downhill Sharrows': osm_types[3], \n",
    "       'Shared Path': osm_types[4]\n",
    "}\n",
    "coa['coa_osm_type'] = coa['coa_facilitytype'].map(coa_conversion)\n",
    "\n",
    "# drop sharrow only facilities\n",
    "coa = coa[coa['coa_osm_type']!=osm_types[0]]\n",
    "\n",
    "#export\n",
    "coa.to_file(config['bicycle_facilities_fp']/'reference_layers.gpkg',layer='coa')"
   ]
  },
  {
   "cell_type": "markdown",
   "metadata": {},
   "source": [
    "## Atlanta Regional Commission"
   ]
  },
  {
   "cell_type": "code",
   "execution_count": null,
   "metadata": {},
   "outputs": [],
   "source": [
    "arc = gpd.read_file('D:\\RAW\\Atlanta_Regional_Comission\\Bike_Ped_Trail_Inventory_January2024.geojson',mask=studyarea_geo)\n",
    "arc.to_crs(config['projected_crs_epsg'],inplace=True)\n",
    "\n",
    "# the only na values are OTP\n",
    "#arc[arc['Year_2'].isna()].explore()\n",
    "\n",
    "# remove post 2016\n",
    "# arc = arc[arc['Year_2'] < 2016]\n",
    "\n",
    "#clean the columns\n",
    "arc = arc[['OBJECTID_1','Name', 'spec','Width', 'Material', 'Year_2', 'geometry']]\n",
    "\n",
    "#rename the id column\n",
    "arc.rename(columns={'OBJECTID_1':'id','Year_2':'year'},inplace=True)\n",
    "\n",
    "#mark facilities that need to be dated\n",
    "arc['need_date'] = (arc['year'] >= 2012) & (arc['year'] <= 2016)\n",
    "\n",
    "# rename columns for consistency\n",
    "arc.columns = ['arc_'+col.lower() if col != 'geometry' else 'geometry' for col in arc.columns.tolist()]\n",
    "\n",
    "# remove these facilities\n",
    "remove = ['Paved shoulder','Park Trail','Park Path','Campus Path']\n",
    "arc = arc[arc['arc_spec'].isin(remove)==False]\n",
    "\n",
    "# convert to osm name\n",
    "osm_types = ['sharrow','bike lane','buffered bike lane','cycletrack','multi use path']\n",
    "arc_conversion = {\n",
    "    'Hard surface multi-use path':osm_types[4],\n",
    "    'Protected bike lane':osm_types[3],\n",
    "    'Two way cycle track':osm_types[3],\n",
    "    'Uphill bike lanes / downhill sharrows':osm_types[1],\n",
    "    'Conventional bike lane':osm_types[1],\n",
    "    'Bike lane':osm_types[1],\n",
    "    'Bike lane/w parking':osm_types[1],\n",
    "    'Buffered bike lane':osm_types[2],\n",
    "    'Bike lane with parking':osm_types[1],\n",
    "    'Buffered bike lane (BUS ONLY lane)':osm_types[2],\n",
    "    # 'Paved shoulder':osm_types[1], #drop these\n",
    "    'Buffered/bike lane':osm_types[2],\n",
    "    'Shared use path or greenway':osm_types[4],\n",
    "    'Buffered bike lane on north side':osm_types[2],\n",
    "    'Uphill bike lane / dowhill sharrow':osm_types[1],\n",
    "    'Two way cycletrack':osm_types[3],\n",
    "    'Side path':osm_types[4],\n",
    "    'Protected cycle track':osm_types[3],\n",
    "    'Two way raised cycletrack':osm_types[3],\n",
    "    'Raised cycle track':osm_types[3],\n",
    "    # 'Closed bridge':osm_types[4],\n",
    "    'Bike lane and Side path':osm_types[1],\n",
    "    'Uphill bike lane/downhill sharrow':osm_types[1],\n",
    "    # 'Parking lot connection':osm_types[4],\n",
    "    'Side Path':osm_types[4],\n",
    "    'Climbing lane':osm_types[1],\n",
    "    ' Hard surface multi-use path':osm_types[4],\n",
    "    'Cycle Track':osm_types[3],\n",
    "    'Sidepath':osm_types[4],\n",
    "    'Uphill bike land/downhill sharrow':osm_types[1],\n",
    "    'Uphill bike lane / downhill sharrow':osm_types[1],\n",
    "    'Park Trail':osm_types[4],\n",
    "    'Bike Lane with parking':osm_types[1],\n",
    "    'Buffered Bike Lane':osm_types[2],\n",
    "    'Protected Bike Lane':osm_types[3],\n",
    "    'Campus Path':osm_types[4],\n",
    "    'On-street 2-way Cycle Track':osm_types[3],\n",
    "    'Bike Lane':osm_types[1],\n",
    "    'Park Path':osm_types[4],\n",
    "    'shared path or greenway':osm_types[4],\n",
    "    'side path':osm_types[4] \n",
    "}\n",
    "arc['arc_osm_type'] = arc['arc_spec'].map(arc_conversion)\n",
    "arc = arc[arc['arc_osm_type'].notna()] # drop any unidentified features\n",
    "\n",
    "# drop these specific features\n",
    "drop = [503]\n",
    "arc = arc[arc['arc_id'].isin(drop)==False]\n",
    "\n",
    "#export\n",
    "arc.to_file(config['bicycle_facilities_fp']/'reference_layers.gpkg',layer='arc')"
   ]
  },
  {
   "cell_type": "markdown",
   "metadata": {},
   "source": [
    "## Michael Garber (come back to later for the osm conversion)"
   ]
  },
  {
   "cell_type": "code",
   "execution_count": null,
   "metadata": {},
   "outputs": [],
   "source": [
    "# garber = gpd.read_file('D:/RAW/Michael Garber/data_for_reid.shp',mask=studyarea_geo)\n",
    "# garber.to_crs(config['projected_crs_epsg'],inplace=True)\n",
    "\n",
    "# # remove post 2016\n",
    "# garber = garber[(pd.to_datetime(garber['rbbn_dt']).apply(lambda row: row.year) <= 2016) | (garber['rbbn_dt'].isna())]\n",
    "\n",
    "# #clean the columns\n",
    "# garber = garber[['edge_id','infr_6_', 'in_6___', 'osm_nm_sm',\n",
    "#        'rbbn_dt', 'geometry']]\n",
    "\n",
    "# #rename\n",
    "# garber.columns = ['id','Infra1','Infra2','Name','Ribbon Date','geometry']\n",
    "\n",
    "# #mark facilities that need to be dated\n",
    "# garber['need_date'] = (pd.to_datetime(garber['Ribbon Date']).apply(lambda row: row.year) >= 2012) | (garber['Ribbon Date'].isna())\n",
    "\n",
    "# # rename columns for consistency\n",
    "# garber.columns = ['garber_'+col.lower() if col != 'geometry' else 'geometry' for col in garber.columns.tolist()]\n",
    "\n",
    "# #export\n",
    "# garber.to_file(config['bicycle_facilities_fp']/'reference_layers.gpkg',layer='garber')"
   ]
  },
  {
   "cell_type": "code",
   "execution_count": null,
   "metadata": {},
   "outputs": [],
   "source": [
    "# garber['garber_infra1'].append(garber['garber_infra2']).unique().tolist()\n",
    "# garber[garber['garber_infra1']=='off_street_trail_dirt'].explore()\n",
    "# cycleways_osm['facility_fwd'].append(cycleways_osm['facility_rev']).unique().tolist()"
   ]
  }
 ],
 "metadata": {
  "kernelspec": {
   "display_name": "Python 3",
   "language": "python",
   "name": "python3"
  },
  "language_info": {
   "codemirror_mode": {
    "name": "ipython",
    "version": 3
   },
   "file_extension": ".py",
   "mimetype": "text/x-python",
   "name": "python",
   "nbconvert_exporter": "python",
   "pygments_lexer": "ipython3",
   "version": "3.9.13"
  }
 },
 "nbformat": 4,
 "nbformat_minor": 2
}

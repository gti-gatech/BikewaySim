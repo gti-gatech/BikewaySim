{
 "cells": [
  {
   "cell_type": "markdown",
   "metadata": {},
   "source": [
    "# Post Match"
   ]
  },
  {
   "cell_type": "code",
   "execution_count": 158,
   "metadata": {},
   "outputs": [],
   "source": [
    "import sys\n",
    "from pathlib import Path\n",
    "import pickle\n",
    "import pandas as pd\n",
    "import geopandas as gpd\n",
    "import numpy as np\n",
    "\n",
    "import src.bikewaysim_functions as bikewaysim_functions\n",
    "\n",
    "import sys\n",
    "sys.path.insert(0,str(Path.cwd().parent))\n",
    "import file_structure_setup\n",
    "config = file_structure_setup.filepaths()\n",
    "\n",
    "import impedance_calibration.stochastic_optimization as stochastic_optimization\n",
    "from network.src import modeling_turns"
   ]
  },
  {
   "cell_type": "markdown",
   "metadata": {},
   "source": [
    "## ODS"
   ]
  },
  {
   "cell_type": "code",
   "execution_count": 159,
   "metadata": {},
   "outputs": [],
   "source": [
    "# import matched ODS (i.e. already have the correct network nodes)\n",
    "od_matrix = pd.read_csv(config['bikewaysim_fp']/'od_matrix.csv')\n",
    "ods = list(set(zip(od_matrix['orig_N'],od_matrix['dest_N'])))"
   ]
  },
  {
   "cell_type": "markdown",
   "metadata": {},
   "source": [
    "# Network Import"
   ]
  },
  {
   "cell_type": "code",
   "execution_count": 160,
   "metadata": {},
   "outputs": [
    {
     "name": "stdout",
     "output_type": "stream",
     "text": [
      "(144458, 6)\n",
      "(144458, 5)\n",
      "(145064, 10)\n",
      "(939, 3)\n"
     ]
    }
   ],
   "source": [
    "current_links = gpd.read_file(config['bikewaysim_fp']/'framework_results.gpkg',layer='current_network') \n",
    "improvements = gpd.read_file(config['bikewaysim_fp']/'framework_results.gpkg',layer='improvements',ignore_geometry=True)\n",
    "future_links = gpd.read_file(config['bikewaysim_fp']/'framework_results.gpkg',layer='future_network',ignore_geometry=True)\n",
    "#TODO can only do this because no new network links were added\n",
    "links = pd.merge(current_links,future_links[['linkid','reverse_link','multiplier','link_cost']],on=['linkid','reverse_link'])\n",
    "links.rename(columns={'link_cost_x':'current_link_cost','link_cost_y':'future_link_cost','multiplier_x':'current_multiplier','multiplier_y':'future_multiplier'},inplace=True)\n",
    "links = pd.merge(links,improvements,on='linkid',how='left')\n",
    "\n",
    "print(current_links.shape)\n",
    "print(future_links.shape)\n",
    "print(links.shape)\n",
    "print(improvements.shape)"
   ]
  },
  {
   "cell_type": "code",
   "execution_count": 161,
   "metadata": {},
   "outputs": [],
   "source": [
    "# del current_links\n",
    "# del improvements\n",
    "# del future_links"
   ]
  },
  {
   "cell_type": "code",
   "execution_count": 162,
   "metadata": {},
   "outputs": [
    {
     "data": {
      "text/plain": [
       "multi use path    654\n",
       "bike lane         285\n",
       "Name: facility_fwd_new, dtype: int64"
      ]
     },
     "execution_count": 162,
     "metadata": {},
     "output_type": "execute_result"
    }
   ],
   "source": [
    "improvements.facility_fwd_new.value_counts()"
   ]
  },
  {
   "cell_type": "markdown",
   "metadata": {},
   "source": [
    "# Get link impedance reduction from improvements"
   ]
  },
  {
   "cell_type": "code",
   "execution_count": 163,
   "metadata": {},
   "outputs": [
    {
     "name": "stdout",
     "output_type": "stream",
     "text": [
      "38 unique projects\n"
     ]
    }
   ],
   "source": [
    "print(links['coa_id'].nunique(),'unique projects')"
   ]
  },
  {
   "cell_type": "code",
   "execution_count": 164,
   "metadata": {},
   "outputs": [
    {
     "data": {
      "text/plain": [
       "<AxesSubplot: >"
      ]
     },
     "execution_count": 164,
     "metadata": {},
     "output_type": "execute_result"
    },
    {
     "data": {
      "image/png": "[encoded data removed]",
      "text/plain": [
       "<Figure size 640x480 with 1 Axes>"
      ]
     },
     "metadata": {},
     "output_type": "display_data"
    }
   ],
   "source": [
    "links[links['coa_id'].notna()].plot()"
   ]
  },
  {
   "cell_type": "code",
   "execution_count": 165,
   "metadata": {},
   "outputs": [],
   "source": [
    "links['impedance_reduction'] = links['future_multiplier'] - links['current_multiplier']"
   ]
  },
  {
   "cell_type": "code",
   "execution_count": 166,
   "metadata": {},
   "outputs": [
    {
     "data": {
      "text/plain": [
       "count    145064.000000\n",
       "mean         -0.004423\n",
       "std           0.043853\n",
       "min          -0.562000\n",
       "25%           0.000000\n",
       "50%           0.000000\n",
       "75%           0.000000\n",
       "max           0.000000\n",
       "Name: impedance_reduction, dtype: float64"
      ]
     },
     "execution_count": 166,
     "metadata": {},
     "output_type": "execute_result"
    }
   ],
   "source": [
    "#take the one with the max reduction\n",
    "links['impedance_reduction'].describe()"
   ]
  },
  {
   "cell_type": "code",
   "execution_count": 167,
   "metadata": {},
   "outputs": [],
   "source": [
    "max_impedance_reduction = links[links['impedance_reduction']<0].groupby('linkid')['impedance_reduction'].idxmin()\n",
    "link_impedance_reduction = links.loc[max_impedance_reduction]\n",
    "link_impedance_reduction.to_file(config['bikewaysim_fp']/'framework_results.gpkg',layer='link_impedance_reduction')"
   ]
  },
  {
   "cell_type": "code",
   "execution_count": 168,
   "metadata": {},
   "outputs": [],
   "source": [
    "undirected_links = links[links['reverse_link']==False]"
   ]
  },
  {
   "cell_type": "markdown",
   "metadata": {},
   "source": [
    "# Import Routing Results"
   ]
  },
  {
   "cell_type": "code",
   "execution_count": 169,
   "metadata": {},
   "outputs": [],
   "source": [
    "with (config['bikewaysim_fp']/\"current_shortest_results.pkl\").open('rb') as fh:\n",
    "    shortest_results_dict = pickle.load(fh)\n",
    "\n",
    "with (config['bikewaysim_fp']/\"current_results.pkl\").open('rb') as fh:\n",
    "    current_results_dict = pickle.load(fh)\n",
    "\n",
    "with (config['bikewaysim_fp']/\"future_results.pkl\").open('rb') as fh:\n",
    "    future_results_dict = pickle.load(fh)"
   ]
  },
  {
   "cell_type": "code",
   "execution_count": 170,
   "metadata": {},
   "outputs": [],
   "source": [
    "travel_time_dict = dict(zip(links['linkid'],links['travel_time_min']))\n",
    "\n",
    "current_tt = {key: np.sum([travel_time_dict.get(edge[0],0) for edge in item['edge_list']]) for key, item in current_results_dict.items()}\n",
    "future_tt = {key: np.sum([travel_time_dict.get(edge[0],0) for edge in item['edge_list']]) for key, item in future_results_dict.items()}\n",
    "shortest_tt = {key: np.sum([travel_time_dict.get(edge[0],0) for edge in item['edge_list']]) for key, item in shortest_results_dict.items()}\n",
    "\n",
    "od_matrix['current_tt_min'] = [current_tt.get(x,np.nan) for x in list((zip(od_matrix['orig_N'],od_matrix['dest_N'])))]\n",
    "od_matrix['future_tt_min'] = [future_tt.get(x,np.nan) for x in list((zip(od_matrix['orig_N'],od_matrix['dest_N'])))]\n",
    "od_matrix['shortest_tt_min'] = [shortest_tt.get(x,np.nan) for x in list((zip(od_matrix['orig_N'],od_matrix['dest_N'])))]"
   ]
  },
  {
   "cell_type": "markdown",
   "metadata": {},
   "source": [
    "## Impedance Change for trips"
   ]
  },
  {
   "cell_type": "code",
   "execution_count": 171,
   "metadata": {},
   "outputs": [],
   "source": [
    "current_impedance = {key:item['length'] for key, item in current_results_dict.items()}\n",
    "future_impedance = {key:item['length'] for key, item in future_results_dict.items()}\n",
    "\n",
    "od_matrix['current_impedance'] = [current_impedance.get(x,np.nan) for x in list((zip(od_matrix['orig_N'],od_matrix['dest_N'])))]\n",
    "od_matrix['future_impedance'] = [future_impedance.get(x,np.nan) for x in list((zip(od_matrix['orig_N'],od_matrix['dest_N'])))]"
   ]
  },
  {
   "cell_type": "code",
   "execution_count": 172,
   "metadata": {},
   "outputs": [],
   "source": [
    "reduction = (od_matrix['current_impedance'] - od_matrix['future_impedance'])"
   ]
  },
  {
   "cell_type": "code",
   "execution_count": 173,
   "metadata": {},
   "outputs": [
    {
     "name": "stdout",
     "output_type": "stream",
     "text": [
      "The average reduction in impedance was 0.15 minutes\n"
     ]
    }
   ],
   "source": [
    "maen_reduction = (reduction * od_matrix['trips']).sum() / od_matrix['trips'].sum()\n",
    "print(f'The average reduction in impedance was {round(maen_reduction,2)} minutes')"
   ]
  },
  {
   "cell_type": "code",
   "execution_count": 174,
   "metadata": {},
   "outputs": [
    {
     "name": "stdout",
     "output_type": "stream",
     "text": [
      "The max reduction in impedance was 6.9 minutes\n"
     ]
    }
   ],
   "source": [
    "max_reduction = reduction.max() #* od_matrix['trips']).sum() / od_matrix['trips'].sum()\n",
    "print(f\"The max reduction in impedance was {round(max_reduction,2)} minutes\")"
   ]
  },
  {
   "cell_type": "code",
   "execution_count": 175,
   "metadata": {},
   "outputs": [
    {
     "data": {
      "text/plain": [
       "<AxesSubplot: >"
      ]
     },
     "execution_count": 175,
     "metadata": {},
     "output_type": "execute_result"
    },
    {
     "data": {
      "image/png": "[encoded data removed]",
      "text/plain": [
       "<Figure size 640x480 with 1 Axes>"
      ]
     },
     "metadata": {},
     "output_type": "display_data"
    }
   ],
   "source": [
    "test = od_matrix.groupby('orig_taz').apply(lambda x: (x.current_impedance-x.future_impedance).mean())\n",
    "studyarea = gpd.read_file(config['studyarea_fp'])\n",
    "tazs = gpd.read_file(config['bikewaysim_fp']/'map_layers.gpkg',layer='taz_polygons',mask=studyarea)\n",
    "tazs['impedance_change'] = tazs['tazid'].map(test)\n",
    "tazs.plot('impedance_change')"
   ]
  },
  {
   "cell_type": "code",
   "execution_count": 176,
   "metadata": {},
   "outputs": [],
   "source": [
    "tazs.to_file(config['bikewaysim_fp']/'framework_results.gpkg',layer='impedance_change')"
   ]
  },
  {
   "cell_type": "markdown",
   "metadata": {},
   "source": [
    "# Percent Detour"
   ]
  },
  {
   "cell_type": "code",
   "execution_count": 185,
   "metadata": {},
   "outputs": [
    {
     "data": {
      "text/plain": [
       "0         0.000000\n",
       "1         0.000000\n",
       "2         0.000000\n",
       "3         0.000000\n",
       "4         0.000000\n",
       "            ...   \n",
       "126636    0.000000\n",
       "126637    0.000000\n",
       "126638    1.886626\n",
       "126639    0.000000\n",
       "126640    0.000000\n",
       "Name: percent_detour, Length: 126641, dtype: float64"
      ]
     },
     "execution_count": 185,
     "metadata": {},
     "output_type": "execute_result"
    }
   ],
   "source": [
    "od_matrix['percent_detour'] = ((od_matrix['current_tt_min'] - od_matrix['shortest_tt_min']) / od_matrix['shortest_tt_min'] * 100)#.round(1)\n",
    "od_matrix['percent_detour']"
   ]
  },
  {
   "cell_type": "code",
   "execution_count": null,
   "metadata": {},
   "outputs": [],
   "source": []
  },
  {
   "cell_type": "code",
   "execution_count": 187,
   "metadata": {},
   "outputs": [
    {
     "data": {
      "text/plain": [
       "orig_taz\n",
       "222     0.772294\n",
       "229     1.105470\n",
       "230     0.229399\n",
       "235     0.238541\n",
       "236     0.087121\n",
       "          ...   \n",
       "2374    0.338137\n",
       "3387    0.692108\n",
       "3389    0.284636\n",
       "3390    0.092758\n",
       "3467    0.258056\n",
       "Length: 1135, dtype: float64"
      ]
     },
     "execution_count": 187,
     "metadata": {},
     "output_type": "execute_result"
    }
   ],
   "source": [
    "percent_detour = od_matrix.groupby('orig_taz').apply(lambda x: (x.percent_detour * x.trips).sum() / x.trips.sum())\n",
    "percent_detour"
   ]
  },
  {
   "cell_type": "markdown",
   "metadata": {},
   "source": [
    "## Betweenness Centrality\n",
    "We need this to visualize how trips shifted and to detemrine the impedance reduction contribution of each project."
   ]
  },
  {
   "cell_type": "code",
   "execution_count": null,
   "metadata": {},
   "outputs": [],
   "source": [
    "#directed is number of trips by direction, undirected is combined number of trips\n",
    "current_undirected_btw_centrality = {key:0 for key in links['linkid'].tolist()}\n",
    "current_directed_btw_centrality = {key:0 for key in list(zip(links['linkid'],links['reverse_link']))}\n",
    "future_undirected_btw_centrality = {key:0 for key in links['linkid'].tolist()}\n",
    "future_directed_btw_centrality = {key:0 for key in list(zip(links['linkid'],links['reverse_link']))}\n",
    "\n",
    "dict_keys = list(set.union(set(current_results_dict.keys()),set(future_results_dict.keys())))\n",
    "for od_pair in dict_keys:\n",
    "    #get number of trips for that origin node and destinnation node\n",
    "    o_check = od_matrix['orig_N']==od_pair[0]\n",
    "    d_check = od_matrix['dest_N']==od_pair[1]\n",
    "    num_trips = od_matrix.loc[o_check & d_check,'trips'].sum()\n",
    "    \n",
    "    #retreive the edge list\n",
    "    current_modeled_edges = current_results_dict.get(od_pair,0)\n",
    "    future_modeled_edges = future_results_dict.get(od_pair,0)\n",
    "    \n",
    "    #current\n",
    "    if current_modeled_edges != 0:\n",
    "        #retrieve the edge list\n",
    "        current_modeled_edges = [tuple(x) for x in current_modeled_edges['edge_list']]\n",
    "        #now add the num trips for each edge in the edge list\n",
    "        for edge in current_modeled_edges:\n",
    "            current_directed_btw_centrality[edge] += num_trips\n",
    "            current_undirected_btw_centrality[edge[0]] += num_trips\n",
    "    #future\n",
    "    if future_modeled_edges != 0:\n",
    "        #retrieve the edge list\n",
    "        future_modeled_edges = [tuple(x) for x in future_modeled_edges['edge_list']]\n",
    "        #now add the num trips for each edge in the edge list\n",
    "        for edge in future_modeled_edges:\n",
    "            future_directed_btw_centrality[edge] += num_trips\n",
    "            future_undirected_btw_centrality[edge[0]] += num_trips\n",
    "\n",
    "#only keep non_zero entries\n",
    "current_undirected_btw_centrality = {key:item for key,item in current_undirected_btw_centrality.items() if item > 0}\n",
    "current_directed_btw_centrality = {key:item for key,item in current_directed_btw_centrality.items() if item > 0}\n",
    "future_undirected_btw_centrality = {key:item for key,item in future_undirected_btw_centrality.items() if item > 0}\n",
    "future_directed_btw_centrality = {key:item for key,item in future_directed_btw_centrality.items() if item > 0}            \n",
    "\n",
    "#turn to dataframe\n",
    "# directed btw centrality useful for directed bike facilities\n",
    "df1 = pd.DataFrame.from_dict(current_directed_btw_centrality,orient='index',columns=['current_btw_centrality'])\n",
    "df2 = pd.DataFrame.from_dict(future_directed_btw_centrality,orient='index',columns=['future_btw_centrality'])\n",
    "directed_btw_centrality = pd.concat([df1,df2],ignore_index=False,axis=1)\n",
    "directed_btw_centrality.fillna(0,inplace=True)\n",
    "\n",
    "df1 = pd.DataFrame.from_dict(current_undirected_btw_centrality,orient='index',columns=['current_btw_centrality'])\n",
    "df2 = pd.DataFrame.from_dict(future_undirected_btw_centrality,orient='index',columns=['future_btw_centrality'])\n",
    "undirected_btw_centrality = pd.concat([df1,df2],ignore_index=False,axis=1)\n",
    "undirected_btw_centrality.fillna(0,inplace=True)\n",
    "undirected_btw_centrality.reset_index(inplace=True)\n",
    "undirected_btw_centrality.rename(columns={'index':'linkid'},inplace=True)\n",
    "\n",
    "#calculate the change\n",
    "directed_btw_centrality['change'] = directed_btw_centrality['future_btw_centrality'] - directed_btw_centrality['current_btw_centrality']\n",
    "undirected_btw_centrality['change'] = undirected_btw_centrality['future_btw_centrality'] - undirected_btw_centrality['current_btw_centrality']\n",
    "\n",
    "#and pct change\n",
    "undirected_btw_centrality['pct_change'] = undirected_btw_centrality['change'] / undirected_btw_centrality['current_btw_centrality'] * 100\n"
   ]
  },
  {
   "cell_type": "code",
   "execution_count": null,
   "metadata": {},
   "outputs": [],
   "source": [
    "#add geometry data\n",
    "undirected_btw_centrality_gdf = pd.merge(undirected_btw_centrality,undirected_links,on='linkid')\n",
    "undirected_btw_centrality_gdf = gpd.GeoDataFrame(undirected_btw_centrality_gdf,geometry='geometry',crs=config['projected_crs_epsg'])"
   ]
  },
  {
   "cell_type": "markdown",
   "metadata": {},
   "source": [
    "### Layer 1: Links with no trips"
   ]
  },
  {
   "cell_type": "code",
   "execution_count": null,
   "metadata": {},
   "outputs": [],
   "source": [
    "no_trips = undirected_links.loc[undirected_links['linkid'].isin(set(undirected_btw_centrality_gdf['linkid'].tolist()))==False]\n",
    "no_trips.to_file(config['bikewaysim_fp']/'framework_results.gpkg',layer='no betweenness centrality')"
   ]
  },
  {
   "cell_type": "markdown",
   "metadata": {},
   "source": [
    "### Layer 2: Links with no change in trips"
   ]
  },
  {
   "cell_type": "code",
   "execution_count": null,
   "metadata": {},
   "outputs": [],
   "source": [
    "no_change = undirected_btw_centrality_gdf[undirected_btw_centrality_gdf['change']==0]\n",
    "no_change.to_file(config['bikewaysim_fp']/'framework_results.gpkg',layer='no change betweenness centrality')"
   ]
  },
  {
   "cell_type": "markdown",
   "metadata": {},
   "source": [
    "### Layer 3: Change in btwn centrality"
   ]
  },
  {
   "cell_type": "code",
   "execution_count": null,
   "metadata": {},
   "outputs": [],
   "source": [
    "undirected_btw_centrality_gdf[undirected_btw_centrality_gdf['change']!=0].plot('change')"
   ]
  },
  {
   "cell_type": "code",
   "execution_count": null,
   "metadata": {},
   "outputs": [],
   "source": [
    "undirected_btw_centrality_gdf[undirected_btw_centrality_gdf['pct']!=0].plot('change')"
   ]
  },
  {
   "cell_type": "code",
   "execution_count": null,
   "metadata": {},
   "outputs": [],
   "source": [
    "undirected_btw_centrality_gdf[undirected_btw_centrality_gdf['change']!=0].to_file(config['bikewaysim_fp']/'framework_results.gpkg',layer='change_btwn_centrality')"
   ]
  },
  {
   "cell_type": "markdown",
   "metadata": {},
   "source": [
    "## Impedance Reduction Contribution "
   ]
  },
  {
   "cell_type": "markdown",
   "metadata": {},
   "source": [
    "### Method 1: Multiply Link Impedance Reduction by Betweenness Centrality for the Improved Links"
   ]
  },
  {
   "cell_type": "code",
   "execution_count": null,
   "metadata": {},
   "outputs": [],
   "source": [
    "links.columns"
   ]
  },
  {
   "cell_type": "code",
   "execution_count": null,
   "metadata": {},
   "outputs": [],
   "source": [
    "# need impedance change"
   ]
  },
  {
   "cell_type": "code",
   "execution_count": null,
   "metadata": {},
   "outputs": [],
   "source": [
    "undirected_links"
   ]
  },
  {
   "cell_type": "code",
   "execution_count": null,
   "metadata": {},
   "outputs": [],
   "source": [
    "improvements.head()"
   ]
  },
  {
   "cell_type": "code",
   "execution_count": null,
   "metadata": {},
   "outputs": [],
   "source": [
    "undirected_btw_centrality_gdf.head()"
   ]
  },
  {
   "cell_type": "code",
   "execution_count": null,
   "metadata": {},
   "outputs": [],
   "source": [
    "test = pd.merge(test,facility_ids,on='linkid',how='left')"
   ]
  },
  {
   "cell_type": "code",
   "execution_count": null,
   "metadata": {},
   "outputs": [],
   "source": [
    "test['impedance_change_cont'] = test['counts'] * test['impedance_change']"
   ]
  },
  {
   "cell_type": "code",
   "execution_count": null,
   "metadata": {},
   "outputs": [],
   "source": [
    "#import the coa id back in so that we can aggregate by the faciility\n",
    "facility_ids = gpd.read_file(config['bicycle_facilities_fp']/\"network_improvements.gpkg\",layer='coa')[['coa_id','linkid']]"
   ]
  },
  {
   "cell_type": "code",
   "execution_count": null,
   "metadata": {},
   "outputs": [],
   "source": []
  },
  {
   "cell_type": "code",
   "execution_count": null,
   "metadata": {},
   "outputs": [],
   "source": [
    "result = test[test['impedance_change_cont']>0].groupby(['coa_id','improvement'])['impedance_change_cont'].sum().sort_values(ascending=False)\n",
    "result.reset_index(inplace=True)"
   ]
  },
  {
   "cell_type": "code",
   "execution_count": null,
   "metadata": {},
   "outputs": [],
   "source": [
    "facility_ids = gpd.read_file(config['bicycle_facilities_fp']/\"network_improvements.gpkg\",layer='coa')\n",
    "facility_ids = facility_ids.dissolve('coa_id').reset_index()"
   ]
  },
  {
   "cell_type": "code",
   "execution_count": null,
   "metadata": {},
   "outputs": [],
   "source": [
    "facility_ids = pd.merge(facility_ids,result,on='coa_id')\n",
    "facility_ids.explore('impedance_change_cont')"
   ]
  },
  {
   "cell_type": "code",
   "execution_count": null,
   "metadata": {},
   "outputs": [],
   "source": [
    "results_dict"
   ]
  },
  {
   "cell_type": "code",
   "execution_count": null,
   "metadata": {},
   "outputs": [],
   "source": []
  },
  {
   "cell_type": "code",
   "execution_count": null,
   "metadata": {},
   "outputs": [],
   "source": [
    "#od_matrix['current_impedance'] = \n",
    "results_dict.apply(lambda x: current_results_dict.get((x['origin_N'],),axis=1)"
   ]
  },
  {
   "cell_type": "code",
   "execution_count": null,
   "metadata": {},
   "outputs": [],
   "source": [
    "# find the impedance for each trip"
   ]
  },
  {
   "cell_type": "code",
   "execution_count": null,
   "metadata": {},
   "outputs": [],
   "source": [
    "results_dict[(6846937343, 5416049647)].keys()"
   ]
  },
  {
   "cell_type": "code",
   "execution_count": null,
   "metadata": {},
   "outputs": [],
   "source": [
    "#figure out why this is na\n",
    "pd.Series([item['length'] for key, item in results_dict.items()]).isna().sum()"
   ]
  },
  {
   "cell_type": "code",
   "execution_count": null,
   "metadata": {},
   "outputs": [],
   "source": [
    "pd.Series([item['length'] for key, item in results_dict.items()]).isna().sum()"
   ]
  },
  {
   "cell_type": "code",
   "execution_count": null,
   "metadata": {},
   "outputs": [],
   "source": [
    "len(results_dict)"
   ]
  },
  {
   "cell_type": "code",
   "execution_count": null,
   "metadata": {},
   "outputs": [],
   "source": [
    "# get the results and assigned to ods (store edge sequence in a dict soemwehre)\n",
    "ods.map(results_dict)"
   ]
  },
  {
   "cell_type": "code",
   "execution_count": null,
   "metadata": {},
   "outputs": [],
   "source": []
  },
  {
   "cell_type": "code",
   "execution_count": null,
   "metadata": {},
   "outputs": [],
   "source": [
    "# calculate btwn centrality\n",
    "\n"
   ]
  },
  {
   "cell_type": "code",
   "execution_count": null,
   "metadata": {},
   "outputs": [],
   "source": [
    "# import test case/ base case (think of a better word) network\n",
    "with (config['calibration_fp']/\"calibration_network.pkl\").open('rb') as fh:\n",
    "    links,turns = pickle.load(fh)\n",
    "# import the calibration results\n",
    "with (config['calibration_fp']/\"calibration_results.pkl\").open('rb') as fh:\n",
    "    calibration_results = pickle.load(fh)\n",
    "turn_G = modeling_turns.make_turn_graph(turns)"
   ]
  }
 ],
 "metadata": {
  "kernelspec": {
   "display_name": "Python 3",
   "language": "python",
   "name": "python3"
  },
  "language_info": {
   "codemirror_mode": {
    "name": "ipython",
    "version": 3
   },
   "file_extension": ".py",
   "mimetype": "text/x-python",
   "name": "python",
   "nbconvert_exporter": "python",
   "pygments_lexer": "ipython3",
   "version": "3.9.13"
  }
 },
 "nbformat": 4,
 "nbformat_minor": 2
}

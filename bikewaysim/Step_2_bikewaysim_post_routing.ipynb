{
 "cells": [
  {
   "cell_type": "code",
   "execution_count": null,
   "metadata": {},
   "outputs": [],
   "source": [
    "import sys\n",
    "from pathlib import Path\n",
    "import pickle\n",
    "import pandas as pd\n",
    "import geopandas as gpd\n",
    "\n",
    "import src.bikewaysim_functions as bikewaysim_functions\n",
    "\n",
    "import sys\n",
    "sys.path.insert(0,str(Path.cwd().parent))\n",
    "import file_structure_setup\n",
    "config = file_structure_setup.filepaths()\n",
    "\n",
    "import impedance_calibration.stochastic_optimization as stochastic_optimization\n",
    "from network.src import modeling_turns"
   ]
  },
  {
   "cell_type": "code",
   "execution_count": null,
   "metadata": {},
   "outputs": [],
   "source": [
    "# import matched ODS (i.e. already have the correct network nodes)\n",
    "od_matrix = pd.read_csv(config['bikewaysim_fp']/'od_matrix.csv')\n",
    "ods = list(set(zip(od_matrix['orig_N'],od_matrix['dest_N'])))"
   ]
  },
  {
   "cell_type": "code",
   "execution_count": null,
   "metadata": {},
   "outputs": [],
   "source": [
    "# import test case/ base case (think of a better word) network\n",
    "with (config['calibration_fp']/\"calibration_network.pkl\").open('rb') as fh:\n",
    "    links,turns = pickle.load(fh)\n",
    "# import the calibration results\n",
    "with (config['calibration_fp']/\"calibration_results.pkl\").open('rb') as fh:\n",
    "    calibration_results = pickle.load(fh)\n",
    "turn_G = modeling_turns.make_turn_graph(turns)"
   ]
  },
  {
   "cell_type": "code",
   "execution_count": null,
   "metadata": {},
   "outputs": [],
   "source": [
    "#remove imporvements that aren't improvements\n",
    "links.loc[links['facility_fwd']==links['improvement'],'improvement'] = None\n",
    "links.loc[links['improvement'].notna(),['facility_fwd','improvement']]\n",
    "\n",
    "#change cycletracks to multi use paths for now\n",
    "change_infra = {\n",
    "    'buffered bike lane': 'bike lane',\n",
    "    'cycletrack': 'multi use path'\n",
    "}\n",
    "links['improvement'] = links['improvement'].apply(lambda x: change_infra.get(x,x))\n",
    "links['facility_fwd'] = links['facility_fwd'].apply(lambda x: change_infra.get(x,x))\n",
    "\n",
    "#combine facilities into one\n",
    "import numpy as np\n",
    "links['facility_fwd_new'] = np.where(links['improvement'].notna(),links['improvement'],links['facility_fwd'])"
   ]
  },
  {
   "cell_type": "code",
   "execution_count": null,
   "metadata": {},
   "outputs": [],
   "source": [
    "# create the neccessary attributes\n",
    "links['bike lane'] = (links['facility_fwd'] == 'bike lane').astype(int)\n",
    "links['multi use path'] = (links['facility_fwd'] == 'multi use path').astype(int)\n",
    "links.loc[links['multi use path']==1,'lanes'] = 0"
   ]
  },
  {
   "cell_type": "code",
   "execution_count": null,
   "metadata": {},
   "outputs": [],
   "source": [
    "#choose the calibration coefficients to use\n",
    "calibration_results"
   ]
  },
  {
   "cell_type": "code",
   "execution_count": null,
   "metadata": {},
   "outputs": [],
   "source": [
    "calibration_result = calibration_results[-1]\n",
    "calibration_result"
   ]
  },
  {
   "cell_type": "code",
   "execution_count": null,
   "metadata": {},
   "outputs": [],
   "source": [
    "betas = list(calibration_result.values())[0:-3]\n",
    "betas_links = calibration_result['beta_links']\n",
    "betas_turns = calibration_result['beta_turns']\n",
    "betas"
   ]
  },
  {
   "cell_type": "markdown",
   "metadata": {},
   "source": [
    "# Post Match"
   ]
  },
  {
   "cell_type": "code",
   "execution_count": null,
   "metadata": {},
   "outputs": [],
   "source": [
    "with (config['bikewaysim_fp']/\"current_results.pkl\").open('rb') as fh:\n",
    "    current_results_dict = pickle.load(fh)\n",
    "\n",
    "with (config['bikewaysim_fp']/\"future_results.pkl\").open('rb') as fh:\n",
    "    future_results_dict = pickle.load(fh)"
   ]
  },
  {
   "cell_type": "markdown",
   "metadata": {},
   "source": [
    "## Impedance Change"
   ]
  },
  {
   "cell_type": "code",
   "execution_count": null,
   "metadata": {},
   "outputs": [],
   "source": [
    "current_impedance = {key:item['length'] for key, item in current_results_dict.items()}\n",
    "future_impedance = {key:item['length'] for key, item in future_results_dict.items()}\n",
    "\n",
    "od_matrix['current_impedance'] = [current_impedance.get(x,np.nan) for x in list((zip(od_matrix['orig_N'],od_matrix['dest_N'])))]\n",
    "od_matrix['future_impedance'] = [future_impedance.get(x,np.nan) for x in list((zip(od_matrix['orig_N'],od_matrix['dest_N'])))]"
   ]
  },
  {
   "cell_type": "markdown",
   "metadata": {},
   "source": [
    "## Betweenness Centrality\n",
    "We need this to visualize how trips shifted and to detemrine the impedance reduction contribution of each project."
   ]
  },
  {
   "cell_type": "code",
   "execution_count": null,
   "metadata": {},
   "outputs": [],
   "source": [
    "undirected_btw_centrality = {key:0 for key in links['linkid'].tolist()}\n",
    "directed_btw_centrality = {key:0 for key in list(zip(links['linkid'],links['reverse_link']))}"
   ]
  },
  {
   "cell_type": "code",
   "execution_count": null,
   "metadata": {},
   "outputs": [],
   "source": [
    "od_matrix"
   ]
  },
  {
   "cell_type": "code",
   "execution_count": null,
   "metadata": {},
   "outputs": [],
   "source": [
    "for od_pair, item in results_dict.items():\n",
    "    #get number of trips for that od pair\n",
    "    o_check = od_matrix['orig_N']==od_pair[0]\n",
    "    d_check = od_matrix['dest_N']==od_pair[1]\n",
    "    num_trips = od_matrix.loc[o_check & d_check,'trips'].sum()\n",
    "    \n",
    "    modeled_edges = item['edge_list']\n",
    "    modeled_edges = [tuple(x) for x in modeled_edges]\n",
    "    \n",
    "    for edge in modeled_edges:\n",
    "        directed_btw_centrality[edge] += num_trips\n",
    "    \n",
    "    modeled_edges = item['edge_list']\n",
    "    modeled_edges = [x[0] for x in modeled_edges]\n",
    "\n",
    "    for edge in modeled_edges:\n",
    "        undirected_btw_centrality[edge] += num_trips"
   ]
  },
  {
   "cell_type": "code",
   "execution_count": null,
   "metadata": {},
   "outputs": [],
   "source": [
    "#filter\n",
    "undirected_btw_centrality = {key:item for key,item in undirected_btw_centrality.items() if item > 0}\n",
    "directed_btw_centrality = {key:item for key,item in directed_btw_centrality.items() if item > 0}"
   ]
  },
  {
   "cell_type": "code",
   "execution_count": null,
   "metadata": {},
   "outputs": [],
   "source": [
    "test = links[links['reverse_link']==False].copy()\n",
    "test['counts'] = test['linkid'].map(undirected_btw_centrality)\n",
    "test.plot('counts')"
   ]
  },
  {
   "cell_type": "code",
   "execution_count": null,
   "metadata": {},
   "outputs": [],
   "source": [
    "test = links.copy()#[links['reverse_link']==False].copy()\n",
    "test['counts'] = test.apply(lambda x: directed_btw_centrality.get((x['linkid'],x['reverse_link'])),axis=1)"
   ]
  },
  {
   "cell_type": "code",
   "execution_count": null,
   "metadata": {},
   "outputs": [],
   "source": [
    "test['impedance_change'] = current_links['link_cost'] - future_links['link_cost']"
   ]
  },
  {
   "cell_type": "code",
   "execution_count": null,
   "metadata": {},
   "outputs": [],
   "source": [
    "#should be change in btw centrality? assuming that "
   ]
  },
  {
   "cell_type": "code",
   "execution_count": null,
   "metadata": {},
   "outputs": [],
   "source": [
    "test['impedance_change_cont'] = test['counts'] * test['impedance_change']"
   ]
  },
  {
   "cell_type": "code",
   "execution_count": null,
   "metadata": {},
   "outputs": [],
   "source": [
    "#import the coa id back in so that we can aggregate by the faciility\n",
    "facility_ids = gpd.read_file(config['bicycle_facilities_fp']/\"network_improvements.gpkg\",layer='coa')[['coa_id','linkid']]"
   ]
  },
  {
   "cell_type": "code",
   "execution_count": null,
   "metadata": {},
   "outputs": [],
   "source": [
    "test = pd.merge(test,facility_ids,on='linkid',how='left')"
   ]
  },
  {
   "cell_type": "code",
   "execution_count": null,
   "metadata": {},
   "outputs": [],
   "source": [
    "result = test[test['impedance_change_cont']>0].groupby(['coa_id','improvement'])['impedance_change_cont'].sum().sort_values(ascending=False)\n",
    "result.reset_index(inplace=True)"
   ]
  },
  {
   "cell_type": "code",
   "execution_count": null,
   "metadata": {},
   "outputs": [],
   "source": [
    "facility_ids = gpd.read_file(config['bicycle_facilities_fp']/\"network_improvements.gpkg\",layer='coa')\n",
    "facility_ids = facility_ids.dissolve('coa_id').reset_index()"
   ]
  },
  {
   "cell_type": "code",
   "execution_count": null,
   "metadata": {},
   "outputs": [],
   "source": [
    "facility_ids = pd.merge(facility_ids,result,on='coa_id')\n",
    "facility_ids.explore('impedance_change_cont')"
   ]
  },
  {
   "cell_type": "code",
   "execution_count": null,
   "metadata": {},
   "outputs": [],
   "source": [
    "results_dict"
   ]
  },
  {
   "cell_type": "code",
   "execution_count": null,
   "metadata": {},
   "outputs": [],
   "source": []
  },
  {
   "cell_type": "code",
   "execution_count": null,
   "metadata": {},
   "outputs": [],
   "source": [
    "#od_matrix['current_impedance'] = \n",
    "results_dict.apply(lambda x: current_results_dict.get((x['origin_N'],),axis=1)"
   ]
  },
  {
   "cell_type": "code",
   "execution_count": null,
   "metadata": {},
   "outputs": [],
   "source": [
    "# find the impedance for each trip"
   ]
  },
  {
   "cell_type": "code",
   "execution_count": null,
   "metadata": {},
   "outputs": [],
   "source": [
    "results_dict[(6846937343, 5416049647)].keys()"
   ]
  },
  {
   "cell_type": "code",
   "execution_count": null,
   "metadata": {},
   "outputs": [],
   "source": [
    "#figure out why this is na\n",
    "pd.Series([item['length'] for key, item in results_dict.items()]).isna().sum()"
   ]
  },
  {
   "cell_type": "code",
   "execution_count": null,
   "metadata": {},
   "outputs": [],
   "source": [
    "pd.Series([item['length'] for key, item in results_dict.items()]).isna().sum()"
   ]
  },
  {
   "cell_type": "code",
   "execution_count": null,
   "metadata": {},
   "outputs": [],
   "source": [
    "len(results_dict)"
   ]
  },
  {
   "cell_type": "code",
   "execution_count": null,
   "metadata": {},
   "outputs": [],
   "source": [
    "# get the results and assigned to ods (store edge sequence in a dict soemwehre)\n",
    "ods.map(results_dict)"
   ]
  },
  {
   "cell_type": "code",
   "execution_count": null,
   "metadata": {},
   "outputs": [],
   "source": []
  },
  {
   "cell_type": "code",
   "execution_count": null,
   "metadata": {},
   "outputs": [],
   "source": [
    "# calculate btwn centrality\n",
    "\n"
   ]
  },
  {
   "cell_type": "code",
   "execution_count": null,
   "metadata": {},
   "outputs": [],
   "source": [
    "# import test case/ base case (think of a better word) network\n",
    "with (config['calibration_fp']/\"calibration_network.pkl\").open('rb') as fh:\n",
    "    links,turns = pickle.load(fh)\n",
    "# import the calibration results\n",
    "with (config['calibration_fp']/\"calibration_results.pkl\").open('rb') as fh:\n",
    "    calibration_results = pickle.load(fh)\n",
    "turn_G = modeling_turns.make_turn_graph(turns)"
   ]
  }
 ],
 "metadata": {
  "kernelspec": {
   "display_name": "Python 3",
   "language": "python",
   "name": "python3"
  },
  "language_info": {
   "codemirror_mode": {
    "name": "ipython",
    "version": 3
   },
   "file_extension": ".py",
   "mimetype": "text/x-python",
   "name": "python",
   "nbconvert_exporter": "python",
   "pygments_lexer": "ipython3",
   "version": "3.9.13"
  }
 },
 "nbformat": 4,
 "nbformat_minor": 2
}

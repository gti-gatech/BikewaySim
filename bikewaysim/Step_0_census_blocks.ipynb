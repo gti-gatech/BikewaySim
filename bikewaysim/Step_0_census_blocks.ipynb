{
 "cells": [
  {
   "cell_type": "markdown",
   "metadata": {},
   "source": [
    "# Prepare Census Block OD Data"
   ]
  },
  {
   "cell_type": "code",
   "execution_count": 2,
   "metadata": {},
   "outputs": [],
   "source": [
    "import geopandas as gpd\n",
    "import pandas as pd\n",
    "from pathlib import Path\n",
    "import json\n",
    "import requests\n",
    "import pickle\n",
    "\n",
    "import src.bikewaysim_functions as bikewaysim_functions\n",
    "\n",
    "import sys\n",
    "sys.path.insert(0,str(Path.cwd().parent))\n",
    "import file_structure_setup\n",
    "config = file_structure_setup.filepaths()"
   ]
  },
  {
   "cell_type": "markdown",
   "metadata": {},
   "source": [
    "# Retrieve LODES7 data"
   ]
  },
  {
   "cell_type": "code",
   "execution_count": 3,
   "metadata": {},
   "outputs": [],
   "source": [
    "state_two_letter = \"ga\"\n",
    "YYYY = 2010\n",
    "lodes_url_base = f\"https://lehd.ces.census.gov/data/lodes/LODES7/{state_two_letter}/od/{state_two_letter}_od_main_JT00_{YYYY}.csv.gz\"\n",
    "lodes = pd.read_csv(lodes_url_base)\n",
    "\n",
    "#processs df\n",
    "rename_dict = {\n",
    "    'w_geocode':'work_blockid',\n",
    "    'h_geocode':'home_blockid',\n",
    "    'S000': 'total_jobs'  \n",
    "}\n",
    "lodes.rename(columns=rename_dict, inplace=True)\n",
    "lodes = lodes[['work_blockid','home_blockid','total_jobs']]\n"
   ]
  },
  {
   "cell_type": "markdown",
   "metadata": {},
   "source": [
    "# Census Blocks"
   ]
  },
  {
   "cell_type": "code",
   "execution_count": 4,
   "metadata": {},
   "outputs": [],
   "source": [
    "#study area for masking blocks\n",
    "studyarea = gpd.read_file(config['studyarea_fp'])#.to_crs(config['projected_crs_epsg'])\n",
    "studyarea = studyarea.unary_union.envelope"
   ]
  },
  {
   "cell_type": "code",
   "execution_count": 5,
   "metadata": {},
   "outputs": [],
   "source": [
    "#bring in census blocks (get from https://www.census.gov/cgi-bin/geo/shapefiles/index.php)\n",
    "#TODO script downloading the blocks\n",
    "blocks = gpd.read_file(\"/Users/tannerpassmore/Documents/BikewaySim/Savannah/OD Creation/tl_2010_13_tabblock10.shp\",mask=studyarea).to_crs(config['projected_crs_epsg'])\n",
    "blocks.rename(columns={'GEOID10':'blockid'},inplace=True)\n",
    "blocks = blocks[['blockid','geometry']]"
   ]
  },
  {
   "cell_type": "markdown",
   "metadata": {},
   "source": [
    "# Data Wrangling"
   ]
  },
  {
   "cell_type": "code",
   "execution_count": 6,
   "metadata": {},
   "outputs": [],
   "source": [
    "#make sure type are the same\n",
    "lodes['work_blockid'] = lodes['work_blockid'].astype(int)\n",
    "lodes['home_blockid'] = lodes['home_blockid'].astype(int)\n",
    "blocks['blockid'] = blocks['blockid'].astype(int)"
   ]
  },
  {
   "cell_type": "code",
   "execution_count": 7,
   "metadata": {},
   "outputs": [
    {
     "name": "stdout",
     "output_type": "stream",
     "text": [
      "lodes: 3196531 blocks: 8640\n",
      "lodes: 71265 blocks: 5140\n"
     ]
    }
   ],
   "source": [
    "#filter lodes data\n",
    "print('lodes:',lodes.shape[0],'blocks:',blocks.shape[0])\n",
    "lodes = lodes[lodes['work_blockid'].isin(blocks['blockid']) & lodes['home_blockid'].isin(blocks['blockid'])]\n",
    "blocks = blocks[blocks['blockid'].isin(lodes['work_blockid']) | blocks['blockid'].isin(lodes['home_blockid'])]\n",
    "print('lodes:',lodes.shape[0],'blocks:',blocks.shape[0])"
   ]
  },
  {
   "cell_type": "markdown",
   "metadata": {},
   "source": [
    "Only 3 mile trips"
   ]
  },
  {
   "cell_type": "code",
   "execution_count": 8,
   "metadata": {},
   "outputs": [],
   "source": [
    "block_geo = dict(zip(blocks['blockid'],blocks['geometry'].centroid))\n",
    "home = gpd.GeoSeries(lodes['home_blockid'].map(block_geo),crs=blocks.crs)\n",
    "work = gpd.GeoSeries(lodes['work_blockid'].map(block_geo),crs=blocks.crs)\n",
    "lodes = lodes[home.distance(work) <= 3 * 5280]"
   ]
  },
  {
   "cell_type": "code",
   "execution_count": 9,
   "metadata": {},
   "outputs": [],
   "source": [
    "#rename to make it easier to work with teh code for tazs\n",
    "#assume home is the origin\n",
    "lodes.columns = ['dest_taz','orig_taz','trips']\n",
    "blocks.columns = ['tazid','geometry']"
   ]
  },
  {
   "cell_type": "markdown",
   "metadata": {},
   "source": [
    "# Snap to network"
   ]
  },
  {
   "cell_type": "code",
   "execution_count": 10,
   "metadata": {},
   "outputs": [
    {
     "name": "stderr",
     "output_type": "stream",
     "text": [
      "/var/folders/66/68r0k8s534v4gf9flsfnxnsr0000gn/T/ipykernel_4082/2413887731.py:8: FutureWarning: The series.append method is deprecated and will be removed from pandas in a future version. Use pandas.concat instead.\n",
      "  nodes0 = links['A'].append(links['B'])\n"
     ]
    }
   ],
   "source": [
    "# import network nodes\n",
    "nodes = gpd.read_file(config['network_fp']/\"final_network.gpkg\",layer=\"nodes\")\n",
    "\n",
    "with (config['calibration_fp']/\"calibration_network.pkl\").open('rb') as fh:\n",
    "    links,turns = pickle.load(fh)\n",
    "del turns\n",
    "\n",
    "nodes0 = links['A'].append(links['B'])\n",
    "nodes = nodes[nodes['N'].isin(nodes0)]"
   ]
  },
  {
   "cell_type": "code",
   "execution_count": 11,
   "metadata": {},
   "outputs": [],
   "source": [
    "blocks = bikewaysim_functions.snap_ods_to_network(blocks,nodes)\n",
    "\n",
    "#knock out if over 1000 feet\n",
    "blocks = blocks[blocks['dist']<=500]"
   ]
  },
  {
   "cell_type": "code",
   "execution_count": 12,
   "metadata": {},
   "outputs": [],
   "source": [
    "snapped_ods = dict(zip(blocks['tazid'],blocks['N']))\n",
    "lodes['orig_N'] = lodes['orig_taz'].map(snapped_ods)\n",
    "lodes['dest_N'] = lodes['dest_taz'].map(snapped_ods)"
   ]
  },
  {
   "cell_type": "code",
   "execution_count": 13,
   "metadata": {},
   "outputs": [],
   "source": [
    "lodes.dropna(inplace=True)"
   ]
  },
  {
   "cell_type": "code",
   "execution_count": 14,
   "metadata": {},
   "outputs": [],
   "source": [
    "trip_origins_per_taz = lodes.groupby('orig_taz')['trips'].sum().reset_index()\n",
    "trip_origins_per_taz.columns = ['tazid','trip_origins']"
   ]
  },
  {
   "cell_type": "code",
   "execution_count": 15,
   "metadata": {},
   "outputs": [
    {
     "data": {
      "text/html": [
       "<div>\n",
       "<style scoped>\n",
       "    .dataframe tbody tr th:only-of-type {\n",
       "        vertical-align: middle;\n",
       "    }\n",
       "\n",
       "    .dataframe tbody tr th {\n",
       "        vertical-align: top;\n",
       "    }\n",
       "\n",
       "    .dataframe thead th {\n",
       "        text-align: right;\n",
       "    }\n",
       "</style>\n",
       "<table border=\"1\" class=\"dataframe\">\n",
       "  <thead>\n",
       "    <tr style=\"text-align: right;\">\n",
       "      <th></th>\n",
       "      <th>tazid</th>\n",
       "      <th>geometry</th>\n",
       "      <th>N</th>\n",
       "      <th>dist</th>\n",
       "    </tr>\n",
       "  </thead>\n",
       "  <tbody>\n",
       "    <tr>\n",
       "      <th>8</th>\n",
       "      <td>130299203051048</td>\n",
       "      <td>POLYGON ((924076.267 714687.008, 923659.531 71...</td>\n",
       "      <td>9736791851</td>\n",
       "      <td>341.448365</td>\n",
       "    </tr>\n",
       "    <tr>\n",
       "      <th>89</th>\n",
       "      <td>130299203051046</td>\n",
       "      <td>POLYGON ((922405.218 711398.390, 922519.073 71...</td>\n",
       "      <td>7043179808</td>\n",
       "      <td>473.338498</td>\n",
       "    </tr>\n",
       "    <tr>\n",
       "      <th>292</th>\n",
       "      <td>130510107001011</td>\n",
       "      <td>POLYGON ((956846.142 814724.090, 957250.393 81...</td>\n",
       "      <td>7121913821</td>\n",
       "      <td>134.657264</td>\n",
       "    </tr>\n",
       "    <tr>\n",
       "      <th>293</th>\n",
       "      <td>130510107001333</td>\n",
       "      <td>POLYGON ((963674.415 774060.936, 963712.464 77...</td>\n",
       "      <td>7145108741</td>\n",
       "      <td>393.557860</td>\n",
       "    </tr>\n",
       "    <tr>\n",
       "      <th>294</th>\n",
       "      <td>130510107001332</td>\n",
       "      <td>POLYGON ((965142.334 772786.191, 964958.141 77...</td>\n",
       "      <td>7043486419</td>\n",
       "      <td>265.257549</td>\n",
       "    </tr>\n",
       "    <tr>\n",
       "      <th>...</th>\n",
       "      <td>...</td>\n",
       "      <td>...</td>\n",
       "      <td>...</td>\n",
       "      <td>...</td>\n",
       "    </tr>\n",
       "    <tr>\n",
       "      <th>4872</th>\n",
       "      <td>130510111043005</td>\n",
       "      <td>POLYGON ((1023527.623 734639.328, 1023398.036 ...</td>\n",
       "      <td>7037948160</td>\n",
       "      <td>96.933749</td>\n",
       "    </tr>\n",
       "    <tr>\n",
       "      <th>4874</th>\n",
       "      <td>130510111062003</td>\n",
       "      <td>POLYGON ((1014486.901 745048.383, 1014505.173 ...</td>\n",
       "      <td>7044041576</td>\n",
       "      <td>302.139345</td>\n",
       "    </tr>\n",
       "    <tr>\n",
       "      <th>4875</th>\n",
       "      <td>130510111032032</td>\n",
       "      <td>POLYGON ((1064910.788 731024.981, 1065084.134 ...</td>\n",
       "      <td>8341193998</td>\n",
       "      <td>120.971893</td>\n",
       "    </tr>\n",
       "    <tr>\n",
       "      <th>4876</th>\n",
       "      <td>130510111062007</td>\n",
       "      <td>POLYGON ((1013146.405 743843.929, 1012898.541 ...</td>\n",
       "      <td>8596723941</td>\n",
       "      <td>57.215628</td>\n",
       "    </tr>\n",
       "    <tr>\n",
       "      <th>4916</th>\n",
       "      <td>131030304011043</td>\n",
       "      <td>POLYGON ((915445.977 780095.339, 915578.842 78...</td>\n",
       "      <td>68527474</td>\n",
       "      <td>257.429943</td>\n",
       "    </tr>\n",
       "  </tbody>\n",
       "</table>\n",
       "<p>1151 rows × 4 columns</p>\n",
       "</div>"
      ],
      "text/plain": [
       "                tazid                                           geometry  \\\n",
       "8     130299203051048  POLYGON ((924076.267 714687.008, 923659.531 71...   \n",
       "89    130299203051046  POLYGON ((922405.218 711398.390, 922519.073 71...   \n",
       "292   130510107001011  POLYGON ((956846.142 814724.090, 957250.393 81...   \n",
       "293   130510107001333  POLYGON ((963674.415 774060.936, 963712.464 77...   \n",
       "294   130510107001332  POLYGON ((965142.334 772786.191, 964958.141 77...   \n",
       "...               ...                                                ...   \n",
       "4872  130510111043005  POLYGON ((1023527.623 734639.328, 1023398.036 ...   \n",
       "4874  130510111062003  POLYGON ((1014486.901 745048.383, 1014505.173 ...   \n",
       "4875  130510111032032  POLYGON ((1064910.788 731024.981, 1065084.134 ...   \n",
       "4876  130510111062007  POLYGON ((1013146.405 743843.929, 1012898.541 ...   \n",
       "4916  131030304011043  POLYGON ((915445.977 780095.339, 915578.842 78...   \n",
       "\n",
       "               N        dist  \n",
       "8     9736791851  341.448365  \n",
       "89    7043179808  473.338498  \n",
       "292   7121913821  134.657264  \n",
       "293   7145108741  393.557860  \n",
       "294   7043486419  265.257549  \n",
       "...          ...         ...  \n",
       "4872  7037948160   96.933749  \n",
       "4874  7044041576  302.139345  \n",
       "4875  8341193998  120.971893  \n",
       "4876  8596723941   57.215628  \n",
       "4916    68527474  257.429943  \n",
       "\n",
       "[1151 rows x 4 columns]"
      ]
     },
     "execution_count": 15,
     "metadata": {},
     "output_type": "execute_result"
    }
   ],
   "source": [
    "# no trips\n",
    "no_trips = blocks[blocks['tazid'].isin(trip_origins_per_taz['tazid'])==False]\n",
    "no_trips"
   ]
  },
  {
   "cell_type": "code",
   "execution_count": 16,
   "metadata": {},
   "outputs": [],
   "source": [
    "blocks = blocks.merge(trip_origins_per_taz,on='tazid')"
   ]
  },
  {
   "cell_type": "code",
   "execution_count": 30,
   "metadata": {},
   "outputs": [],
   "source": [
    "blocks.to_file(config['bikewaysim_fp']/'ods.gpkg',layer='trip_origins')"
   ]
  },
  {
   "cell_type": "code",
   "execution_count": 17,
   "metadata": {},
   "outputs": [],
   "source": [
    "# trip origins per TAZ\n",
    "#export the taz areas\n",
    "blocks.to_crs(config['projected_crs_epsg']).to_file(config['bikewaysim_fp']/'map_layers.gpkg',layer='taz_polygons')\n",
    "#export the taz centroids\n",
    "taz_centroids = blocks.copy().to_crs(config['projected_crs_epsg'])\n",
    "taz_centroids.geometry = taz_centroids.geometry.centroid\n",
    "taz_centroids.to_crs(config['projected_crs_epsg']).to_file(config['bikewaysim_fp']/'map_layers.gpkg',layer='taz_centroids')"
   ]
  },
  {
   "cell_type": "code",
   "execution_count": 28,
   "metadata": {},
   "outputs": [
    {
     "data": {
      "text/plain": [
       "<Axes: >"
      ]
     },
     "execution_count": 28,
     "metadata": {},
     "output_type": "execute_result"
    },
    {
     "data": {
      "image/png": "[encoded data removed]",
      "text/plain": [
       "<Figure size 640x480 with 1 Axes>"
      ]
     },
     "metadata": {},
     "output_type": "display_data"
    }
   ],
   "source": [
    "studyarea = gpd.read_file(config['studyarea_fp'])\n",
    "blocks0 = gpd.read_file(\"/Users/tannerpassmore/Documents/BikewaySim/Savannah/OD Creation/tl_2010_13_tabblock10.shp\",mask=studyarea).to_crs(config['projected_crs_epsg'])\n",
    "blocks0.rename(columns={'GEOID10':'tazid'},inplace=True)\n",
    "blocks0['tazid'] = blocks0['tazid'].astype(int)\n",
    "blocks0 = blocks0[['tazid','geometry']]\n",
    "blocks0 = blocks0[blocks0['tazid'].isin(blocks['tazid'])==False]\n",
    "blocks0.plot()"
   ]
  },
  {
   "cell_type": "code",
   "execution_count": 29,
   "metadata": {},
   "outputs": [],
   "source": [
    "blocks0.to_file(config['bikewaysim_fp']/'ods.gpkg',layer='filtered_out_or_zero')"
   ]
  },
  {
   "cell_type": "markdown",
   "metadata": {},
   "source": [
    "# Export"
   ]
  },
  {
   "cell_type": "code",
   "execution_count": 118,
   "metadata": {},
   "outputs": [
    {
     "name": "stdout",
     "output_type": "stream",
     "text": [
      "17856 trips across 15275 unique OD pairs\n",
      "and 2921 census blocks\n"
     ]
    }
   ],
   "source": [
    "print(lodes['trips'].sum(),'trips across',lodes.shape[0],'unique OD pairs')#,tripData['hh_id'].nunique(),'persons')\n",
    "print('and',blocks.shape[0],'census blocks')"
   ]
  },
  {
   "cell_type": "code",
   "execution_count": 119,
   "metadata": {},
   "outputs": [],
   "source": [
    "# #export the taz areas\n",
    "# blocks.to_file(config['bikewaysim_fp']/'map_layers.gpkg',layer='block_polygons')\n",
    "\n",
    "# #export the taz centroids\n",
    "# blocks_centroids = blocks.copy()\n",
    "# blocks_centroids.geometry = blocks_centroids.geometry.centroid\n",
    "# blocks_centroids.to_crs(config['projected_crs_epsg']).to_file(config['bikewaysim_fp']/'map_layers.gpkg',layer='block_centroids')\n",
    "\n",
    "#export the ods\n",
    "lodes.to_csv(config['bikewaysim_fp']/'od_matrix.csv',index=False)"
   ]
  },
  {
   "cell_type": "code",
   "execution_count": null,
   "metadata": {},
   "outputs": [],
   "source": []
  },
  {
   "cell_type": "markdown",
   "metadata": {},
   "source": [
    "Exploring past here"
   ]
  },
  {
   "cell_type": "code",
   "execution_count": 120,
   "metadata": {},
   "outputs": [
    {
     "data": {
      "text/html": [
       "<div>\n",
       "<style scoped>\n",
       "    .dataframe tbody tr th:only-of-type {\n",
       "        vertical-align: middle;\n",
       "    }\n",
       "\n",
       "    .dataframe tbody tr th {\n",
       "        vertical-align: top;\n",
       "    }\n",
       "\n",
       "    .dataframe thead th {\n",
       "        text-align: right;\n",
       "    }\n",
       "</style>\n",
       "<table border=\"1\" class=\"dataframe\">\n",
       "  <thead>\n",
       "    <tr style=\"text-align: right;\">\n",
       "      <th></th>\n",
       "      <th>dest_taz</th>\n",
       "      <th>orig_taz</th>\n",
       "      <th>trips</th>\n",
       "      <th>orig_N</th>\n",
       "      <th>dest_N</th>\n",
       "    </tr>\n",
       "  </thead>\n",
       "  <tbody>\n",
       "    <tr>\n",
       "      <th>239231</th>\n",
       "      <td>130510001001004</td>\n",
       "      <td>130510011002033</td>\n",
       "      <td>1</td>\n",
       "      <td>8.918424e+09</td>\n",
       "      <td>8.092881e+09</td>\n",
       "    </tr>\n",
       "    <tr>\n",
       "      <th>239232</th>\n",
       "      <td>130510001001004</td>\n",
       "      <td>130510027004012</td>\n",
       "      <td>1</td>\n",
       "      <td>5.432307e+09</td>\n",
       "      <td>8.092881e+09</td>\n",
       "    </tr>\n",
       "    <tr>\n",
       "      <th>239233</th>\n",
       "      <td>130510001001004</td>\n",
       "      <td>130510028001005</td>\n",
       "      <td>1</td>\n",
       "      <td>6.714626e+07</td>\n",
       "      <td>8.092881e+09</td>\n",
       "    </tr>\n",
       "    <tr>\n",
       "      <th>239241</th>\n",
       "      <td>130510001001004</td>\n",
       "      <td>130510114002000</td>\n",
       "      <td>1</td>\n",
       "      <td>6.714431e+07</td>\n",
       "      <td>8.092881e+09</td>\n",
       "    </tr>\n",
       "    <tr>\n",
       "      <th>239242</th>\n",
       "      <td>130510001001004</td>\n",
       "      <td>130510116002009</td>\n",
       "      <td>1</td>\n",
       "      <td>6.708073e+07</td>\n",
       "      <td>8.092881e+09</td>\n",
       "    </tr>\n",
       "    <tr>\n",
       "      <th>...</th>\n",
       "      <td>...</td>\n",
       "      <td>...</td>\n",
       "      <td>...</td>\n",
       "      <td>...</td>\n",
       "      <td>...</td>\n",
       "    </tr>\n",
       "    <tr>\n",
       "      <th>342431</th>\n",
       "      <td>130519800001057</td>\n",
       "      <td>130510116001016</td>\n",
       "      <td>1</td>\n",
       "      <td>7.860268e+09</td>\n",
       "      <td>8.080005e+09</td>\n",
       "    </tr>\n",
       "    <tr>\n",
       "      <th>342432</th>\n",
       "      <td>130519800001057</td>\n",
       "      <td>130510116001018</td>\n",
       "      <td>1</td>\n",
       "      <td>8.879344e+09</td>\n",
       "      <td>8.080005e+09</td>\n",
       "    </tr>\n",
       "    <tr>\n",
       "      <th>342433</th>\n",
       "      <td>130519800001057</td>\n",
       "      <td>130510116001028</td>\n",
       "      <td>1</td>\n",
       "      <td>7.622715e+09</td>\n",
       "      <td>8.080005e+09</td>\n",
       "    </tr>\n",
       "    <tr>\n",
       "      <th>342660</th>\n",
       "      <td>130519800001058</td>\n",
       "      <td>130510033012006</td>\n",
       "      <td>1</td>\n",
       "      <td>6.710322e+07</td>\n",
       "      <td>7.257544e+09</td>\n",
       "    </tr>\n",
       "    <tr>\n",
       "      <th>342864</th>\n",
       "      <td>130519800001079</td>\n",
       "      <td>130510012001015</td>\n",
       "      <td>1</td>\n",
       "      <td>2.566288e+09</td>\n",
       "      <td>1.023623e+10</td>\n",
       "    </tr>\n",
       "  </tbody>\n",
       "</table>\n",
       "<p>15275 rows × 5 columns</p>\n",
       "</div>"
      ],
      "text/plain": [
       "               dest_taz         orig_taz  trips        orig_N        dest_N\n",
       "239231  130510001001004  130510011002033      1  8.918424e+09  8.092881e+09\n",
       "239232  130510001001004  130510027004012      1  5.432307e+09  8.092881e+09\n",
       "239233  130510001001004  130510028001005      1  6.714626e+07  8.092881e+09\n",
       "239241  130510001001004  130510114002000      1  6.714431e+07  8.092881e+09\n",
       "239242  130510001001004  130510116002009      1  6.708073e+07  8.092881e+09\n",
       "...                 ...              ...    ...           ...           ...\n",
       "342431  130519800001057  130510116001016      1  7.860268e+09  8.080005e+09\n",
       "342432  130519800001057  130510116001018      1  8.879344e+09  8.080005e+09\n",
       "342433  130519800001057  130510116001028      1  7.622715e+09  8.080005e+09\n",
       "342660  130519800001058  130510033012006      1  6.710322e+07  7.257544e+09\n",
       "342864  130519800001079  130510012001015      1  2.566288e+09  1.023623e+10\n",
       "\n",
       "[15275 rows x 5 columns]"
      ]
     },
     "execution_count": 120,
     "metadata": {},
     "output_type": "execute_result"
    }
   ],
   "source": [
    "lodes"
   ]
  },
  {
   "cell_type": "code",
   "execution_count": 121,
   "metadata": {},
   "outputs": [],
   "source": [
    "# works = lodes[['work_blockid','total_jobs']].copy()\n",
    "# works = works.groupby('work_blockid')['total_jobs'].sum().reset_index()\n",
    "# works = pd.merge(works,blocks[['blockid','geometry']],left_on=\"work_blockid\",right_on='blockid')\n",
    "# works = gpd.GeoDataFrame(works,geometry='geometry')\n",
    "# works.explore('total_jobs')\n",
    "# merged = pd.merge(lodes,blocks[['blockid','geometry']],left_on=\"work_blockid\",right_on='blockid',how='left')\n",
    "# merged.drop(columns=['blockid'],inplace=True)\n",
    "# merged.rename(columns={'geometry':'work_geo'},inplace=True)\n",
    "# merged = pd.merge(merged,blocks[['blockid','geometry']],left_on=\"home_blockid\",right_on='blockid',how='left')\n",
    "# merged.drop(columns=['blockid'],inplace=True)\n",
    "# merged.rename(columns={'geometry':'home_geo'},inplace=True)\n",
    "# merged = merged[merged['home_geo'].notna() & merged['work_geo'].notna()]\n",
    "# random_id = merged['work_blockid'].sample(1).item()\n",
    "# subset = merged.loc[merged['work_blockid']==random_id].copy()\n",
    "# subset = gpd.GeoDataFrame(subset,geometry='home_geo')\n",
    "# m = subset.explore()\n",
    "# blocks.loc[blocks['blockid']==random_id,'geometry'].explore()\n",
    "# work = blocks.loc[blocks['blockid']==random_id,'geometry'].to_crs('epsg:4326').item().centroid\n",
    "# x, y = list(work.coords)[0]\n",
    "# import folium\n",
    "# folium.Circle((y,x),radius=100,tooltip='WORK',kwargs={'color':'green'}).add_to(m)\n",
    "# m\n",
    "# merged['work_geo'] = gpd.GeoSeries(merged['work_geo']).centroid\n",
    "# merged['home_geo'] = gpd.GeoSeries(merged['home_geo']).centroid\n",
    "# # import geopandas as gpd\n",
    "# # import pandas as pd\n",
    "# # from pathlib import Path\n",
    "# # import json\n",
    "\n",
    "# # config = json.load((Path.cwd().parent / 'config.json').open('rb'))\n",
    "# # network_fp = Path(config['project_directory']) / \"Network\"\n",
    "# # osmdwnld_fp = Path(config['project_directory']) / \"OSM_Download\"\n",
    "# # elevation_fp = Path(config['project_directory']) / \"Elevation\"\n",
    "# # cyclinginfra_fp = Path(config['project_directory']) / \"Cycling_Infra_Dating\"\n",
    "# # calibration_fp = Path(config['project_directory']) / \"Calibration\"\n",
    "\n",
    "\n",
    "\n",
    "# #'foot' in blocks.crs.axis_info[0].unit_name\n",
    "\n",
    "# #df.crs.axis_info[0].unit_name"
   ]
  }
 ],
 "metadata": {
  "kernelspec": {
   "display_name": "geo-env",
   "language": "python",
   "name": "python3"
  },
  "language_info": {
   "codemirror_mode": {
    "name": "ipython",
    "version": 3
   },
   "file_extension": ".py",
   "mimetype": "text/x-python",
   "name": "python",
   "nbconvert_exporter": "python",
   "pygments_lexer": "ipython3",
   "version": "3.11.0"
  }
 },
 "nbformat": 4,
 "nbformat_minor": 2
}

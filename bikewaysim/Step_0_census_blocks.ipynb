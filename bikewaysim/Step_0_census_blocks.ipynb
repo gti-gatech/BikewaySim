{
 "cells": [
  {
   "cell_type": "code",
   "execution_count": null,
   "metadata": {},
   "outputs": [],
   "source": [
    "import geopandas as gpd\n",
    "import pandas as pd\n",
    "from pathlib import Path\n",
    "import json\n",
    "\n",
    "config = json.load((Path.cwd().parent / 'config.json').open('rb'))\n",
    "network_fp = Path(config['project_directory']) / \"Network\"\n",
    "osmdwnld_fp = Path(config['project_directory']) / \"OSM_Download\"\n",
    "elevation_fp = Path(config['project_directory']) / \"Elevation\"\n",
    "cyclinginfra_fp = Path(config['project_directory']) / \"Cycling_Infra_Dating\"\n",
    "calibration_fp = Path(config['project_directory']) / \"Calibration\"\n"
   ]
  },
  {
   "cell_type": "code",
   "execution_count": null,
   "metadata": {},
   "outputs": [],
   "source": [
    "import requests\n",
    "\n",
    "state_two_letter = \"ga\"\n",
    "YYYY = 2010\n",
    "\n",
    "lodes_url_base = f\"https://lehd.ces.census.gov/data/lodes/LODES7/{state_two_letter}/od/{state_two_letter}_od_main_JT00_{YYYY}.csv.gz\""
   ]
  },
  {
   "cell_type": "code",
   "execution_count": null,
   "metadata": {},
   "outputs": [],
   "source": [
    "import pandas as pd\n",
    "test = pd.read_csv(lodes_url_base)\n"
   ]
  },
  {
   "cell_type": "code",
   "execution_count": null,
   "metadata": {},
   "outputs": [],
   "source": [
    "rename_dict = {\n",
    "    'w_geocode':'Work Block ID',\n",
    "    'h_geocode':'Home Block ID',\n",
    "    'S000': 'Total Jobs'  \n",
    "}\n",
    "test.rename(columns=rename_dict, inplace=True)\n",
    "test = test[['Work Block ID','Home Block ID','Total Jobs']]"
   ]
  },
  {
   "cell_type": "code",
   "execution_count": null,
   "metadata": {},
   "outputs": [],
   "source": [
    "import geopandas as gpd\n",
    "studyarea = gpd.read_file(\"/Users/tannerpassmore/Documents/BikewaySim/RAW/SAGIS/savannah_metro.geojson\")#.to_crs(config['projected_crs_epsg'])\n",
    "studyarea = studyarea.unary_union.envelope"
   ]
  },
  {
   "cell_type": "code",
   "execution_count": null,
   "metadata": {},
   "outputs": [],
   "source": [
    "blocks = gpd.read_file(\"/Users/tannerpassmore/Documents/BikewaySim/Savannah/OD Creation/tl_2010_13_tabblock10.shp\",mask=studyarea).to_crs(config['projected_crs_epsg'])"
   ]
  },
  {
   "cell_type": "code",
   "execution_count": null,
   "metadata": {},
   "outputs": [],
   "source": [
    "#turn to int\n",
    "test['Work Block ID'] = test['Work Block ID'].astype(int)\n",
    "test['Home Block ID'] = test['Home Block ID'].astype(int)\n",
    "blocks['GEOID10'] = blocks['GEOID10'].astype(int)"
   ]
  },
  {
   "cell_type": "code",
   "execution_count": null,
   "metadata": {},
   "outputs": [],
   "source": [
    "works = test[['Work Block ID','Total Jobs']].copy()\n",
    "works = works.groupby('Work Block ID')['Total Jobs'].sum().reset_index()\n",
    "works = pd.merge(works,blocks[['GEOID10','geometry']],left_on=\"Work Block ID\",right_on='GEOID10')\n",
    "works = gpd.GeoDataFrame(works,geometry='geometry')"
   ]
  },
  {
   "cell_type": "code",
   "execution_count": null,
   "metadata": {},
   "outputs": [],
   "source": [
    "works.explore('Total Jobs')"
   ]
  },
  {
   "cell_type": "code",
   "execution_count": null,
   "metadata": {},
   "outputs": [],
   "source": [
    "merged = pd.merge(test,blocks[['GEOID10','geometry']],left_on=\"Work Block ID\",right_on='GEOID10',how='left')\n",
    "merged.drop(columns=['GEOID10'],inplace=True)\n",
    "merged.rename(columns={'geometry':'work_geo'},inplace=True)\n",
    "merged = pd.merge(merged,blocks[['GEOID10','geometry']],left_on=\"Home Block ID\",right_on='GEOID10',how='left')\n",
    "merged.drop(columns=['GEOID10'],inplace=True)\n",
    "merged.rename(columns={'geometry':'home_geo'},inplace=True)\n",
    "merged = merged[merged['home_geo'].notna() & merged['work_geo'].notna()]"
   ]
  },
  {
   "cell_type": "code",
   "execution_count": null,
   "metadata": {},
   "outputs": [],
   "source": []
  },
  {
   "cell_type": "code",
   "execution_count": null,
   "metadata": {},
   "outputs": [],
   "source": [
    "random_id = merged['Work Block ID'].sample(1).item()\n",
    "subset = merged.loc[merged['Work Block ID']==random_id].copy()\n",
    "subset = gpd.GeoDataFrame(subset,geometry='home_geo')\n",
    "m = subset.explore()"
   ]
  },
  {
   "cell_type": "code",
   "execution_count": null,
   "metadata": {},
   "outputs": [],
   "source": [
    "blocks.loc[blocks['GEOID10']==random_id,'geometry'].explore()"
   ]
  },
  {
   "cell_type": "code",
   "execution_count": null,
   "metadata": {},
   "outputs": [],
   "source": [
    "work = blocks.loc[blocks['GEOID10']==random_id,'geometry'].to_crs('epsg:4326').item().centroid"
   ]
  },
  {
   "cell_type": "code",
   "execution_count": null,
   "metadata": {},
   "outputs": [],
   "source": [
    "x, y = list(work.coords)[0]"
   ]
  },
  {
   "cell_type": "code",
   "execution_count": null,
   "metadata": {},
   "outputs": [],
   "source": [
    "import folium\n",
    "folium.Circle((y,x),radius=100,tooltip='WORK',kwargs={'color':'green'}).add_to(m)\n",
    "m"
   ]
  },
  {
   "cell_type": "code",
   "execution_count": null,
   "metadata": {},
   "outputs": [],
   "source": [
    "merged['work_geo'] = gpd.GeoSeries(merged['work_geo']).centroid\n",
    "merged['home_geo'] = gpd.GeoSeries(merged['home_geo']).centroid"
   ]
  },
  {
   "cell_type": "code",
   "execution_count": null,
   "metadata": {},
   "outputs": [],
   "source": [
    "# import geopandas as gpd\n",
    "# import pandas as pd\n",
    "# from pathlib import Path\n",
    "# import json\n",
    "\n",
    "# config = json.load((Path.cwd().parent / 'config.json').open('rb'))\n",
    "# network_fp = Path(config['project_directory']) / \"Network\"\n",
    "# osmdwnld_fp = Path(config['project_directory']) / \"OSM_Download\"\n",
    "# elevation_fp = Path(config['project_directory']) / \"Elevation\"\n",
    "# cyclinginfra_fp = Path(config['project_directory']) / \"Cycling_Infra_Dating\"\n",
    "# calibration_fp = Path(config['project_directory']) / \"Calibration\""
   ]
  },
  {
   "cell_type": "code",
   "execution_count": null,
   "metadata": {},
   "outputs": [],
   "source": [
    "\n",
    "\n",
    "\n",
    "#'foot' in blocks.crs.axis_info[0].unit_name\n",
    "\n",
    "#df.crs.axis_info[0].unit_name"
   ]
  }
 ],
 "metadata": {
  "kernelspec": {
   "display_name": "geo-env",
   "language": "python",
   "name": "python3"
  },
  "language_info": {
   "codemirror_mode": {
    "name": "ipython",
    "version": 3
   },
   "file_extension": ".py",
   "mimetype": "text/x-python",
   "name": "python",
   "nbconvert_exporter": "python",
   "pygments_lexer": "ipython3",
   "version": "3.11.0"
  }
 },
 "nbformat": 4,
 "nbformat_minor": 2
}

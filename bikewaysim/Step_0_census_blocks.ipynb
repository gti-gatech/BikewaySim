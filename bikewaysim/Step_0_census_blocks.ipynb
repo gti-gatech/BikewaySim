{
 "cells": [
  {
   "cell_type": "code",
   "execution_count": 1,
   "metadata": {},
   "outputs": [],
   "source": [
    "import geopandas as gpd\n",
    "import pandas as pd\n",
    "from pathlib import Path\n",
    "import json\n",
    "import requests\n",
    "\n",
    "\n",
    "import sys\n",
    "sys.path.insert(0,str(Path.cwd().parent))\n",
    "import file_structure_setup\n",
    "config = file_structure_setup.filepaths()"
   ]
  },
  {
   "cell_type": "markdown",
   "metadata": {},
   "source": [
    "# Retrieve LODES7 data"
   ]
  },
  {
   "cell_type": "code",
   "execution_count": 2,
   "metadata": {},
   "outputs": [
    {
     "data": {
      "text/html": [
       "<div>\n",
       "<style scoped>\n",
       "    .dataframe tbody tr th:only-of-type {\n",
       "        vertical-align: middle;\n",
       "    }\n",
       "\n",
       "    .dataframe tbody tr th {\n",
       "        vertical-align: top;\n",
       "    }\n",
       "\n",
       "    .dataframe thead th {\n",
       "        text-align: right;\n",
       "    }\n",
       "</style>\n",
       "<table border=\"1\" class=\"dataframe\">\n",
       "  <thead>\n",
       "    <tr style=\"text-align: right;\">\n",
       "      <th></th>\n",
       "      <th>work_blockid</th>\n",
       "      <th>home_blockid</th>\n",
       "      <th>total_jobs</th>\n",
       "    </tr>\n",
       "  </thead>\n",
       "  <tbody>\n",
       "    <tr>\n",
       "      <th>0</th>\n",
       "      <td>130019501001011</td>\n",
       "      <td>131619601003016</td>\n",
       "      <td>1</td>\n",
       "    </tr>\n",
       "    <tr>\n",
       "      <th>1</th>\n",
       "      <td>130019501001011</td>\n",
       "      <td>132799705003044</td>\n",
       "      <td>1</td>\n",
       "    </tr>\n",
       "    <tr>\n",
       "      <th>2</th>\n",
       "      <td>130019501001015</td>\n",
       "      <td>133097802001051</td>\n",
       "      <td>1</td>\n",
       "    </tr>\n",
       "    <tr>\n",
       "      <th>3</th>\n",
       "      <td>130019501001028</td>\n",
       "      <td>130019501002104</td>\n",
       "      <td>1</td>\n",
       "    </tr>\n",
       "    <tr>\n",
       "      <th>4</th>\n",
       "      <td>130019501001028</td>\n",
       "      <td>130019502003096</td>\n",
       "      <td>1</td>\n",
       "    </tr>\n",
       "  </tbody>\n",
       "</table>\n",
       "</div>"
      ],
      "text/plain": [
       "      work_blockid     home_blockid  total_jobs\n",
       "0  130019501001011  131619601003016           1\n",
       "1  130019501001011  132799705003044           1\n",
       "2  130019501001015  133097802001051           1\n",
       "3  130019501001028  130019501002104           1\n",
       "4  130019501001028  130019502003096           1"
      ]
     },
     "execution_count": 2,
     "metadata": {},
     "output_type": "execute_result"
    }
   ],
   "source": [
    "state_two_letter = \"ga\"\n",
    "YYYY = 2010\n",
    "lodes_url_base = f\"https://lehd.ces.census.gov/data/lodes/LODES7/{state_two_letter}/od/{state_two_letter}_od_main_JT00_{YYYY}.csv.gz\"\n",
    "lodes = pd.read_csv(lodes_url_base)\n",
    "\n",
    "#processs df\n",
    "rename_dict = {\n",
    "    'w_geocode':'work_blockid',\n",
    "    'h_geocode':'home_blockid',\n",
    "    'S000': 'total_jobs'  \n",
    "}\n",
    "lodes.rename(columns=rename_dict, inplace=True)\n",
    "lodes = lodes[['work_blockid','home_blockid','total_jobs']]\n",
    "lodes.head()\n"
   ]
  },
  {
   "cell_type": "markdown",
   "metadata": {},
   "source": [
    "# Census Blocks"
   ]
  },
  {
   "cell_type": "code",
   "execution_count": 4,
   "metadata": {},
   "outputs": [],
   "source": [
    "#study area for masking blocks\n",
    "studyarea = gpd.read_file(config['studyarea_fp'])#.to_crs(config['projected_crs_epsg'])\n",
    "studyarea = studyarea.unary_union.envelope"
   ]
  },
  {
   "cell_type": "code",
   "execution_count": 5,
   "metadata": {},
   "outputs": [],
   "source": [
    "#bring in census blocks (get from https://www.census.gov/cgi-bin/geo/shapefiles/index.php)\n",
    "#TODO script downloading the blocks\n",
    "blocks = gpd.read_file(\"/Users/tannerpassmore/Documents/BikewaySim/Savannah/OD Creation/tl_2010_13_tabblock10.shp\",mask=studyarea).to_crs(config['projected_crs_epsg'])\n",
    "blocks.rename(columns={'GEOID10':'blockid'},inplace=True)\n",
    "blocks = blocks[['blockid','geometry']]"
   ]
  },
  {
   "cell_type": "markdown",
   "metadata": {},
   "source": [
    "# Data Wrangling"
   ]
  },
  {
   "cell_type": "code",
   "execution_count": 6,
   "metadata": {},
   "outputs": [],
   "source": [
    "#make sure type are the same\n",
    "lodes['work_blockid'] = lodes['work_blockid'].astype(int)\n",
    "lodes['home_blockid'] = lodes['home_blockid'].astype(int)\n",
    "blocks['blockid'] = blocks['blockid'].astype(int)"
   ]
  },
  {
   "cell_type": "code",
   "execution_count": 7,
   "metadata": {},
   "outputs": [],
   "source": [
    "#filter lodes data\n",
    "lodes = lodes[lodes['work_blockid'].isin(blocks['blockid']) & lodes['home_blockid'].isin(blocks['blockid'])]"
   ]
  },
  {
   "cell_type": "markdown",
   "metadata": {},
   "source": [
    "# Export"
   ]
  },
  {
   "cell_type": "code",
   "execution_count": 8,
   "metadata": {},
   "outputs": [
    {
     "data": {
      "text/html": [
       "<div>\n",
       "<style scoped>\n",
       "    .dataframe tbody tr th:only-of-type {\n",
       "        vertical-align: middle;\n",
       "    }\n",
       "\n",
       "    .dataframe tbody tr th {\n",
       "        vertical-align: top;\n",
       "    }\n",
       "\n",
       "    .dataframe thead th {\n",
       "        text-align: right;\n",
       "    }\n",
       "</style>\n",
       "<table border=\"1\" class=\"dataframe\">\n",
       "  <thead>\n",
       "    <tr style=\"text-align: right;\">\n",
       "      <th></th>\n",
       "      <th>blockid</th>\n",
       "      <th>geometry</th>\n",
       "    </tr>\n",
       "  </thead>\n",
       "  <tbody>\n",
       "    <tr>\n",
       "      <th>0</th>\n",
       "      <td>130299203063082</td>\n",
       "      <td>POLYGON ((968769.370 631469.073, 968761.138 63...</td>\n",
       "    </tr>\n",
       "    <tr>\n",
       "      <th>1</th>\n",
       "      <td>130299800001187</td>\n",
       "      <td>POLYGON ((907321.761 743495.668, 907325.636 74...</td>\n",
       "    </tr>\n",
       "    <tr>\n",
       "      <th>2</th>\n",
       "      <td>130299201022119</td>\n",
       "      <td>POLYGON ((892581.561 767199.806, 892585.605 76...</td>\n",
       "    </tr>\n",
       "    <tr>\n",
       "      <th>3</th>\n",
       "      <td>130299800001183</td>\n",
       "      <td>POLYGON ((902700.375 751678.882, 902718.539 75...</td>\n",
       "    </tr>\n",
       "    <tr>\n",
       "      <th>4</th>\n",
       "      <td>130299203052012</td>\n",
       "      <td>POLYGON ((935276.699 695680.643, 935375.519 69...</td>\n",
       "    </tr>\n",
       "  </tbody>\n",
       "</table>\n",
       "</div>"
      ],
      "text/plain": [
       "           blockid                                           geometry\n",
       "0  130299203063082  POLYGON ((968769.370 631469.073, 968761.138 63...\n",
       "1  130299800001187  POLYGON ((907321.761 743495.668, 907325.636 74...\n",
       "2  130299201022119  POLYGON ((892581.561 767199.806, 892585.605 76...\n",
       "3  130299800001183  POLYGON ((902700.375 751678.882, 902718.539 75...\n",
       "4  130299203052012  POLYGON ((935276.699 695680.643, 935375.519 69..."
      ]
     },
     "execution_count": 8,
     "metadata": {},
     "output_type": "execute_result"
    }
   ],
   "source": [
    "blocks.head()"
   ]
  },
  {
   "cell_type": "code",
   "execution_count": 9,
   "metadata": {},
   "outputs": [
    {
     "data": {
      "text/html": [
       "<div>\n",
       "<style scoped>\n",
       "    .dataframe tbody tr th:only-of-type {\n",
       "        vertical-align: middle;\n",
       "    }\n",
       "\n",
       "    .dataframe tbody tr th {\n",
       "        vertical-align: top;\n",
       "    }\n",
       "\n",
       "    .dataframe thead th {\n",
       "        text-align: right;\n",
       "    }\n",
       "</style>\n",
       "<table border=\"1\" class=\"dataframe\">\n",
       "  <thead>\n",
       "    <tr style=\"text-align: right;\">\n",
       "      <th></th>\n",
       "      <th>work_blockid</th>\n",
       "      <th>home_blockid</th>\n",
       "      <th>total_jobs</th>\n",
       "    </tr>\n",
       "  </thead>\n",
       "  <tbody>\n",
       "    <tr>\n",
       "      <th>239231</th>\n",
       "      <td>130510001001004</td>\n",
       "      <td>130510011002033</td>\n",
       "      <td>1</td>\n",
       "    </tr>\n",
       "    <tr>\n",
       "      <th>239232</th>\n",
       "      <td>130510001001004</td>\n",
       "      <td>130510027004012</td>\n",
       "      <td>1</td>\n",
       "    </tr>\n",
       "    <tr>\n",
       "      <th>239233</th>\n",
       "      <td>130510001001004</td>\n",
       "      <td>130510028001005</td>\n",
       "      <td>1</td>\n",
       "    </tr>\n",
       "    <tr>\n",
       "      <th>239234</th>\n",
       "      <td>130510001001004</td>\n",
       "      <td>130510036012013</td>\n",
       "      <td>1</td>\n",
       "    </tr>\n",
       "    <tr>\n",
       "      <th>239235</th>\n",
       "      <td>130510001001004</td>\n",
       "      <td>130510036024025</td>\n",
       "      <td>1</td>\n",
       "    </tr>\n",
       "  </tbody>\n",
       "</table>\n",
       "</div>"
      ],
      "text/plain": [
       "           work_blockid     home_blockid  total_jobs\n",
       "239231  130510001001004  130510011002033           1\n",
       "239232  130510001001004  130510027004012           1\n",
       "239233  130510001001004  130510028001005           1\n",
       "239234  130510001001004  130510036012013           1\n",
       "239235  130510001001004  130510036024025           1"
      ]
     },
     "execution_count": 9,
     "metadata": {},
     "output_type": "execute_result"
    }
   ],
   "source": [
    "lodes.head()"
   ]
  },
  {
   "cell_type": "code",
   "execution_count": 10,
   "metadata": {},
   "outputs": [],
   "source": [
    "#export the taz areas\n",
    "blocks.to_file(config['bikewaysim_fp']/'map_layers.gpkg',layer='taz_polygons')\n",
    "\n",
    "#export the taz centroids\n",
    "blocks_centroids = blocks.copy()\n",
    "blocks_centroids.geometry = blocks_centroids.geometry.centroid\n",
    "blocks_centroids.to_crs(config['projected_crs_epsg']).to_file(config['bikewaysim_fp']/'map_layers.gpkg',layer='block_centroids')\n",
    "\n",
    "#export the ods\n",
    "lodes.to_csv(config['bikewaysim_fp']/'od_matrix.csv',index=False)"
   ]
  },
  {
   "cell_type": "markdown",
   "metadata": {},
   "source": [
    "Exploring past here"
   ]
  },
  {
   "cell_type": "code",
   "execution_count": 11,
   "metadata": {},
   "outputs": [],
   "source": [
    "# works = lodes[['work_blockid','total_jobs']].copy()\n",
    "# works = works.groupby('work_blockid')['total_jobs'].sum().reset_index()\n",
    "# works = pd.merge(works,blocks[['blockid','geometry']],left_on=\"work_blockid\",right_on='blockid')\n",
    "# works = gpd.GeoDataFrame(works,geometry='geometry')\n",
    "# works.explore('total_jobs')\n",
    "# merged = pd.merge(lodes,blocks[['blockid','geometry']],left_on=\"work_blockid\",right_on='blockid',how='left')\n",
    "# merged.drop(columns=['blockid'],inplace=True)\n",
    "# merged.rename(columns={'geometry':'work_geo'},inplace=True)\n",
    "# merged = pd.merge(merged,blocks[['blockid','geometry']],left_on=\"home_blockid\",right_on='blockid',how='left')\n",
    "# merged.drop(columns=['blockid'],inplace=True)\n",
    "# merged.rename(columns={'geometry':'home_geo'},inplace=True)\n",
    "# merged = merged[merged['home_geo'].notna() & merged['work_geo'].notna()]\n",
    "# random_id = merged['work_blockid'].sample(1).item()\n",
    "# subset = merged.loc[merged['work_blockid']==random_id].copy()\n",
    "# subset = gpd.GeoDataFrame(subset,geometry='home_geo')\n",
    "# m = subset.explore()\n",
    "# blocks.loc[blocks['blockid']==random_id,'geometry'].explore()\n",
    "# work = blocks.loc[blocks['blockid']==random_id,'geometry'].to_crs('epsg:4326').item().centroid\n",
    "# x, y = list(work.coords)[0]\n",
    "# import folium\n",
    "# folium.Circle((y,x),radius=100,tooltip='WORK',kwargs={'color':'green'}).add_to(m)\n",
    "# m\n",
    "# merged['work_geo'] = gpd.GeoSeries(merged['work_geo']).centroid\n",
    "# merged['home_geo'] = gpd.GeoSeries(merged['home_geo']).centroid\n",
    "# # import geopandas as gpd\n",
    "# # import pandas as pd\n",
    "# # from pathlib import Path\n",
    "# # import json\n",
    "\n",
    "# # config = json.load((Path.cwd().parent / 'config.json').open('rb'))\n",
    "# # network_fp = Path(config['project_directory']) / \"Network\"\n",
    "# # osmdwnld_fp = Path(config['project_directory']) / \"OSM_Download\"\n",
    "# # elevation_fp = Path(config['project_directory']) / \"Elevation\"\n",
    "# # cyclinginfra_fp = Path(config['project_directory']) / \"Cycling_Infra_Dating\"\n",
    "# # calibration_fp = Path(config['project_directory']) / \"Calibration\"\n",
    "\n",
    "\n",
    "\n",
    "# #'foot' in blocks.crs.axis_info[0].unit_name\n",
    "\n",
    "# #df.crs.axis_info[0].unit_name"
   ]
  }
 ],
 "metadata": {
  "kernelspec": {
   "display_name": "geo-env",
   "language": "python",
   "name": "python3"
  },
  "language_info": {
   "codemirror_mode": {
    "name": "ipython",
    "version": 3
   },
   "file_extension": ".py",
   "mimetype": "text/x-python",
   "name": "python",
   "nbconvert_exporter": "python",
   "pygments_lexer": "ipython3",
   "version": "3.11.0"
  }
 },
 "nbformat": 4,
 "nbformat_minor": 2
}

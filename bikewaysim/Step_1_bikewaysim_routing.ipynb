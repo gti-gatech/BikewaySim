{
 "cells": [
  {
   "cell_type": "markdown",
   "metadata": {},
   "source": [
    "# BikewaySim Routing"
   ]
  },
  {
   "cell_type": "code",
   "execution_count": 1,
   "metadata": {},
   "outputs": [],
   "source": [
    "import sys\n",
    "from pathlib import Path\n",
    "import pickle\n",
    "import pandas as pd\n",
    "import geopandas as gpd\n",
    "\n",
    "import src.bikewaysim_functions as bikewaysim_functions\n",
    "\n",
    "import sys\n",
    "sys.path.insert(0,str(Path.cwd().parent))\n",
    "import file_structure_setup\n",
    "config = file_structure_setup.filepaths()\n",
    "\n",
    "import impedance_calibration.stochastic_optimization as stochastic_optimization\n",
    "from network.src import modeling_turns\n"
   ]
  },
  {
   "cell_type": "markdown",
   "metadata": {},
   "source": [
    "# Import ODs"
   ]
  },
  {
   "cell_type": "code",
   "execution_count": 2,
   "metadata": {},
   "outputs": [
    {
     "data": {
      "text/html": [
       "<div>\n",
       "<style scoped>\n",
       "    .dataframe tbody tr th:only-of-type {\n",
       "        vertical-align: middle;\n",
       "    }\n",
       "\n",
       "    .dataframe tbody tr th {\n",
       "        vertical-align: top;\n",
       "    }\n",
       "\n",
       "    .dataframe thead th {\n",
       "        text-align: right;\n",
       "    }\n",
       "</style>\n",
       "<table border=\"1\" class=\"dataframe\">\n",
       "  <thead>\n",
       "    <tr style=\"text-align: right;\">\n",
       "      <th></th>\n",
       "      <th>dest_taz</th>\n",
       "      <th>orig_taz</th>\n",
       "      <th>trips</th>\n",
       "      <th>orig_N</th>\n",
       "      <th>dest_N</th>\n",
       "    </tr>\n",
       "  </thead>\n",
       "  <tbody>\n",
       "    <tr>\n",
       "      <th>0</th>\n",
       "      <td>130510001001004</td>\n",
       "      <td>130510011002033</td>\n",
       "      <td>1</td>\n",
       "      <td>8.918424e+09</td>\n",
       "      <td>8.092881e+09</td>\n",
       "    </tr>\n",
       "    <tr>\n",
       "      <th>1</th>\n",
       "      <td>130510001001004</td>\n",
       "      <td>130510027004012</td>\n",
       "      <td>1</td>\n",
       "      <td>5.432307e+09</td>\n",
       "      <td>8.092881e+09</td>\n",
       "    </tr>\n",
       "    <tr>\n",
       "      <th>2</th>\n",
       "      <td>130510001001004</td>\n",
       "      <td>130510028001005</td>\n",
       "      <td>1</td>\n",
       "      <td>6.714626e+07</td>\n",
       "      <td>8.092881e+09</td>\n",
       "    </tr>\n",
       "    <tr>\n",
       "      <th>3</th>\n",
       "      <td>130510001001004</td>\n",
       "      <td>130510114002000</td>\n",
       "      <td>1</td>\n",
       "      <td>6.714431e+07</td>\n",
       "      <td>8.092881e+09</td>\n",
       "    </tr>\n",
       "    <tr>\n",
       "      <th>4</th>\n",
       "      <td>130510001001004</td>\n",
       "      <td>130510116002009</td>\n",
       "      <td>1</td>\n",
       "      <td>6.708073e+07</td>\n",
       "      <td>8.092881e+09</td>\n",
       "    </tr>\n",
       "    <tr>\n",
       "      <th>...</th>\n",
       "      <td>...</td>\n",
       "      <td>...</td>\n",
       "      <td>...</td>\n",
       "      <td>...</td>\n",
       "      <td>...</td>\n",
       "    </tr>\n",
       "    <tr>\n",
       "      <th>15270</th>\n",
       "      <td>130519800001057</td>\n",
       "      <td>130510116001016</td>\n",
       "      <td>1</td>\n",
       "      <td>7.860268e+09</td>\n",
       "      <td>8.080005e+09</td>\n",
       "    </tr>\n",
       "    <tr>\n",
       "      <th>15271</th>\n",
       "      <td>130519800001057</td>\n",
       "      <td>130510116001018</td>\n",
       "      <td>1</td>\n",
       "      <td>8.879344e+09</td>\n",
       "      <td>8.080005e+09</td>\n",
       "    </tr>\n",
       "    <tr>\n",
       "      <th>15272</th>\n",
       "      <td>130519800001057</td>\n",
       "      <td>130510116001028</td>\n",
       "      <td>1</td>\n",
       "      <td>7.622715e+09</td>\n",
       "      <td>8.080005e+09</td>\n",
       "    </tr>\n",
       "    <tr>\n",
       "      <th>15273</th>\n",
       "      <td>130519800001058</td>\n",
       "      <td>130510033012006</td>\n",
       "      <td>1</td>\n",
       "      <td>6.710322e+07</td>\n",
       "      <td>7.257544e+09</td>\n",
       "    </tr>\n",
       "    <tr>\n",
       "      <th>15274</th>\n",
       "      <td>130519800001079</td>\n",
       "      <td>130510012001015</td>\n",
       "      <td>1</td>\n",
       "      <td>2.566288e+09</td>\n",
       "      <td>1.023623e+10</td>\n",
       "    </tr>\n",
       "  </tbody>\n",
       "</table>\n",
       "<p>15275 rows × 5 columns</p>\n",
       "</div>"
      ],
      "text/plain": [
       "              dest_taz         orig_taz  trips        orig_N        dest_N\n",
       "0      130510001001004  130510011002033      1  8.918424e+09  8.092881e+09\n",
       "1      130510001001004  130510027004012      1  5.432307e+09  8.092881e+09\n",
       "2      130510001001004  130510028001005      1  6.714626e+07  8.092881e+09\n",
       "3      130510001001004  130510114002000      1  6.714431e+07  8.092881e+09\n",
       "4      130510001001004  130510116002009      1  6.708073e+07  8.092881e+09\n",
       "...                ...              ...    ...           ...           ...\n",
       "15270  130519800001057  130510116001016      1  7.860268e+09  8.080005e+09\n",
       "15271  130519800001057  130510116001018      1  8.879344e+09  8.080005e+09\n",
       "15272  130519800001057  130510116001028      1  7.622715e+09  8.080005e+09\n",
       "15273  130519800001058  130510033012006      1  6.710322e+07  7.257544e+09\n",
       "15274  130519800001079  130510012001015      1  2.566288e+09  1.023623e+10\n",
       "\n",
       "[15275 rows x 5 columns]"
      ]
     },
     "execution_count": 2,
     "metadata": {},
     "output_type": "execute_result"
    }
   ],
   "source": [
    "# import matched ODS (i.e. already have the correct network nodes)\n",
    "od_matrix = pd.read_csv(config['bikewaysim_fp']/'od_matrix.csv')\n",
    "od_matrix\n"
   ]
  },
  {
   "cell_type": "code",
   "execution_count": 3,
   "metadata": {},
   "outputs": [],
   "source": [
    "ods = list(set(zip(od_matrix['orig_N'],od_matrix['dest_N'])))\n"
   ]
  },
  {
   "cell_type": "markdown",
   "metadata": {},
   "source": [
    "# Select Calibration Results to Get Coefficients"
   ]
  },
  {
   "cell_type": "code",
   "execution_count": 4,
   "metadata": {},
   "outputs": [],
   "source": [
    "#set calibration results\n",
    "if bool(config['use_default_calibration']) == True:\n",
    "    #calibration_result = calibration_results[-1]\n",
    "    betas = [-0.184, -0.398, 0.126, 0.325, 0.324]#list(calibration_result.values())[0:-3]\n",
    "    betas_links = {0:'multi use path',1:'bike lane',2:'lanes',3:'above_4'}\n",
    "    betas_turns = {4:'unsig_major_road_crossing'}\n",
    "else:\n",
    "    # import the calibration results\n",
    "    with (config['calibration_fp']/\"calibration_results.pkl\").open('rb') as fh:\n",
    "        calibration_results = pickle.load(fh)\n",
    "\n",
    "    #BUG saved calibration coefficients are wrong\n",
    "    calibration_result = calibration_results[-1]\n",
    "    betas = [-0.184, -0.398, 0.126, 0.325, 0.324]#list(calibration_result.values())[0:-3]\n",
    "    betas_links = calibration_result['beta_links']\n",
    "    betas_turns = calibration_result['beta_turns']\n",
    "    "
   ]
  },
  {
   "cell_type": "markdown",
   "metadata": {},
   "source": [
    "# Import Network"
   ]
  },
  {
   "cell_type": "code",
   "execution_count": 5,
   "metadata": {},
   "outputs": [],
   "source": [
    "# import test case/ base case (think of a better word) network\n",
    "with (config['calibration_fp']/\"calibration_network.pkl\").open('rb') as fh:\n",
    "    links,turns = pickle.load(fh)\n",
    "\n",
    "turn_G = modeling_turns.make_turn_graph(turns)"
   ]
  },
  {
   "cell_type": "markdown",
   "metadata": {},
   "source": [
    "## Process the improvements"
   ]
  },
  {
   "cell_type": "code",
   "execution_count": 6,
   "metadata": {},
   "outputs": [],
   "source": [
    "#remove improvements that aren't improvements\n",
    "links.loc[links['facility_fwd']==links['improvement'],'improvement'] = None\n",
    "# links.loc[links['improvement'].notna(),['facility_fwd','improvement']]\n",
    "\n",
    "#change cycletracks to multi use paths for now\n",
    "change_infra = {\n",
    "    'buffered bike lane': 'bike lane',\n",
    "    'cycletrack': 'multi use path'\n",
    "}\n",
    "links['improvement'] = links['improvement'].apply(lambda x: change_infra.get(x,x))\n",
    "links['facility_fwd'] = links['facility_fwd'].apply(lambda x: change_infra.get(x,x))\n",
    "\n",
    "#combine facilities into one\n",
    "import numpy as np\n",
    "links['facility_fwd_new'] = np.where(links['improvement'].notna(),links['improvement'],links['facility_fwd'])"
   ]
  },
  {
   "cell_type": "code",
   "execution_count": 7,
   "metadata": {},
   "outputs": [
    {
     "data": {
      "text/plain": [
       "<Axes: >"
      ]
     },
     "execution_count": 7,
     "metadata": {},
     "output_type": "execute_result"
    },
    {
     "data": {
      "image/png": "[encoded data removed]",
      "text/plain": [
       "<Figure size 640x480 with 1 Axes>"
      ]
     },
     "metadata": {},
     "output_type": "display_data"
    }
   ],
   "source": [
    "links[links['facility_fwd_new'].notna()].plot()"
   ]
  },
  {
   "cell_type": "code",
   "execution_count": 8,
   "metadata": {},
   "outputs": [],
   "source": [
    "#TODO fix this by modifying network modifications step 3\n",
    "facility_ids = gpd.read_file(config['bicycle_facilities_fp']/\"network_improvements.gpkg\",layer=config['improvement_name'])\n",
    "facility_ids.rename(columns={'osm_linkid':'linkid'},inplace=True)\n",
    "facility_ids = facility_ids[[f\"{config['improvement_name']}_id\",'linkid']]"
   ]
  },
  {
   "cell_type": "code",
   "execution_count": 9,
   "metadata": {},
   "outputs": [],
   "source": [
    "#import the coa id back in so that we can aggregate by the faciility\n",
    "#facility_ids = gpd.read_file(config['bicycle_facilities_fp']/\"network_improvements.gpkg\",layer=config['improvement_name'])[[f\"{config['improvement_name']}_id\",'linkid']]\n",
    "improvements = links.loc[links['improvement'].notna()].copy()\n",
    "improvements = pd.merge(improvements[['linkid','facility_fwd_new','geometry']],facility_ids,on='linkid')\n",
    "improvements.to_file(config['bikewaysim_fp']/'framework_results.gpkg',layer='improvements')"
   ]
  },
  {
   "cell_type": "code",
   "execution_count": 10,
   "metadata": {},
   "outputs": [],
   "source": [
    "improvements_buffer = improvements.copy()\n",
    "improvements_buffer.geometry = improvements_buffer.buffer(400)\n",
    "improvements_buffer = improvements_buffer.dissolve([f\"{config['improvement_name']}_id\",'facility_fwd_new']).reset_index()\n",
    "improvements_buffer.to_file(config['bikewaysim_fp']/'framework_results.gpkg',layer='improvements_buffer')"
   ]
  },
  {
   "cell_type": "markdown",
   "metadata": {},
   "source": [
    "# Travel Time Routing"
   ]
  },
  {
   "cell_type": "code",
   "execution_count": 11,
   "metadata": {},
   "outputs": [],
   "source": [
    "from importlib import reload\n",
    "reload(stochastic_optimization)\n",
    "\n",
    "# run impedance routing on all the provided ODs 170 mins\n",
    "base_impedance_col = \"travel_time_min\"\n",
    "stochastic_optimization.back_to_base_impedance(base_impedance_col,links,turns,turn_G)\n"
   ]
  },
  {
   "cell_type": "code",
   "execution_count": 12,
   "metadata": {},
   "outputs": [],
   "source": [
    "results_dict = {(start_node,end_node):stochastic_optimization.impedance_path(turns,turn_G,links,start_node,end_node) for start_node, end_node in ods}\n",
    "with (config['bikewaysim_fp']/\"current_shortest_results.pkl\").open('wb') as fh:\n",
    "    pickle.dump(results_dict,fh)"
   ]
  },
  {
   "cell_type": "markdown",
   "metadata": {},
   "source": [
    "# Shortest Path Routing\n"
   ]
  },
  {
   "cell_type": "code",
   "execution_count": 13,
   "metadata": {},
   "outputs": [],
   "source": [
    "# create the neccessary attributes for impednaces\n",
    "links['bike lane'] = (links['facility_fwd'] == 'bike lane').astype(int)\n",
    "links['multi use path'] = (links['facility_fwd'] == 'multi use path').astype(int)\n",
    "links.loc[links['multi use path']==1,'lanes'] = 0"
   ]
  },
  {
   "cell_type": "code",
   "execution_count": 14,
   "metadata": {},
   "outputs": [
    {
     "name": "stdout",
     "output_type": "stream",
     "text": [
      "[-0.184, -0.398, 0.126, 0.325, 0.324]\n"
     ]
    }
   ],
   "source": [
    "from importlib import reload\n",
    "reload(stochastic_optimization)\n",
    " \n",
    "# run impedance routing on all the provided ODs\n",
    "base_impedance_col = \"travel_time_min\"\n",
    "stochastic_optimization.back_to_base_impedance(base_impedance_col,links,turns,turn_G)\n",
    "\n",
    "#update impedances\n",
    "print(betas)\n",
    "stochastic_optimization.impedance_update(betas,betas_links,betas_turns,\n",
    "                          stochastic_optimization.link_impedance_function,\n",
    "                          base_impedance_col,\n",
    "                          stochastic_optimization.turn_impedance_function,\n",
    "                          links,turns,turn_G)\n",
    "current_links = links.copy()"
   ]
  },
  {
   "cell_type": "code",
   "execution_count": 15,
   "metadata": {},
   "outputs": [],
   "source": [
    "#export the current network\n",
    "current_links[['linkid','reverse_link','travel_time_min','multiplier','link_cost','geometry']].to_file(config['bikewaysim_fp']/'framework_results.gpkg',layer='current_network')"
   ]
  },
  {
   "cell_type": "code",
   "execution_count": 16,
   "metadata": {},
   "outputs": [],
   "source": [
    "#170 minutes\n",
    "results_dict = {(start_node,end_node):stochastic_optimization.impedance_path(turns,turn_G,links,start_node,end_node) for start_node, end_node in ods}\n",
    "\n",
    "with (config['bikewaysim_fp']/\"current_results.pkl\").open('wb') as fh:\n",
    "    pickle.dump(results_dict,fh)\n"
   ]
  },
  {
   "cell_type": "markdown",
   "metadata": {},
   "source": [
    "# Repeat with Network Improvements\n"
   ]
  },
  {
   "cell_type": "code",
   "execution_count": 17,
   "metadata": {},
   "outputs": [],
   "source": [
    "#update the bike lane, multi use path, and lanes attributes\n",
    "links['bike lane'] = (links['facility_fwd_new']=='bike lane').astype(int)\n",
    "links['multi use path'] = (links['facility_fwd_new']=='multi use path').astype(int)\n",
    "\n",
    "#for multiuse paths, make sure to set the lanes attribute to zero\n",
    "links.loc[links['multi use path']==1,'lanes'] = 0"
   ]
  },
  {
   "cell_type": "code",
   "execution_count": 18,
   "metadata": {},
   "outputs": [
    {
     "name": "stdout",
     "output_type": "stream",
     "text": [
      "[-0.184, -0.398, 0.126, 0.325, 0.324]\n"
     ]
    }
   ],
   "source": [
    "from importlib import reload\n",
    "reload(stochastic_optimization)\n",
    "\n",
    "# run impedance routing on all the provided ODs\n",
    "base_impedance_col = \"travel_time_min\"\n",
    "stochastic_optimization.back_to_base_impedance(base_impedance_col,links,turns,turn_G)\n",
    "\n",
    "#update impedances\n",
    "#betas = #past_betas[np.array(past_vals).argmin()]#x.x\n",
    "print(betas)\n",
    "stochastic_optimization.impedance_update(betas,betas_links,betas_turns,\n",
    "                          stochastic_optimization.link_impedance_function,\n",
    "                          base_impedance_col,\n",
    "                          stochastic_optimization.turn_impedance_function,\n",
    "                          links,turns,turn_G)\n",
    "future_links = links.copy()\n"
   ]
  },
  {
   "cell_type": "code",
   "execution_count": 19,
   "metadata": {},
   "outputs": [],
   "source": [
    "#export the current network\n",
    "future_links[['linkid','reverse_link','travel_time_min','multiplier','link_cost','geometry']].to_file(config['bikewaysim_fp']/'framework_results.gpkg',layer='future_network')"
   ]
  },
  {
   "cell_type": "code",
   "execution_count": 20,
   "metadata": {},
   "outputs": [],
   "source": [
    "results_dict = {(start_node,end_node):stochastic_optimization.impedance_path(turns,turn_G,links,start_node,end_node) for start_node, end_node in ods}\n",
    "with (config['bikewaysim_fp']/\"future_results.pkl\").open('wb') as fh:\n",
    "    pickle.dump(results_dict,fh)"
   ]
  },
  {
   "cell_type": "code",
   "execution_count": null,
   "metadata": {},
   "outputs": [],
   "source": [
    "\n"
   ]
  }
 ],
 "metadata": {
  "kernelspec": {
   "display_name": "Python 3",
   "language": "python",
   "name": "python3"
  },
  "language_info": {
   "codemirror_mode": {
    "name": "ipython",
    "version": 3
   },
   "file_extension": ".py",
   "mimetype": "text/x-python",
   "name": "python",
   "nbconvert_exporter": "python",
   "pygments_lexer": "ipython3",
   "version": "3.11.0"
  }
 },
 "nbformat": 4,
 "nbformat_minor": 2
}

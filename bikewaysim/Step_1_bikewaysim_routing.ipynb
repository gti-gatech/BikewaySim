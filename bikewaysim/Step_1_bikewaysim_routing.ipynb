{
 "cells": [
  {
   "cell_type": "code",
   "execution_count": null,
   "metadata": {},
   "outputs": [],
   "source": [
    "import sys\n",
    "from pathlib import Path\n",
    "import pickle\n",
    "import pandas as pd\n",
    "import geopandas as gpd\n",
    "\n",
    "import src.bikewaysim_functions as bikewaysim_functions\n",
    "\n",
    "import sys\n",
    "sys.path.insert(0,str(Path.cwd().parent))\n",
    "import file_structure_setup\n",
    "config = file_structure_setup.filepaths()\n",
    "\n",
    "import impedance_calibration.stochastic_optimization as stochastic_optimization\n",
    "from network.src import modeling_turns\n"
   ]
  },
  {
   "cell_type": "code",
   "execution_count": null,
   "metadata": {},
   "outputs": [],
   "source": [
    "# import matched ODS (i.e. already have the correct network nodes)\n",
    "od_matrix = pd.read_csv(config['bikewaysim_fp']/'od_matrix.csv')\n",
    "ods = list(set(zip(od_matrix['orig_N'],od_matrix['dest_N'])))\n"
   ]
  },
  {
   "cell_type": "code",
   "execution_count": null,
   "metadata": {},
   "outputs": [],
   "source": [
    "# import test case/ base case (think of a better word) network\n",
    "with (config['calibration_fp']/\"calibration_network.pkl\").open('rb') as fh:\n",
    "    links,turns = pickle.load(fh)\n",
    "# import the calibration results\n",
    "with (config['calibration_fp']/\"calibration_results.pkl\").open('rb') as fh:\n",
    "    calibration_results = pickle.load(fh)\n",
    "turn_G = modeling_turns.make_turn_graph(turns)"
   ]
  },
  {
   "cell_type": "code",
   "execution_count": null,
   "metadata": {},
   "outputs": [],
   "source": [
    "#remove imporvements that aren't improvements\n",
    "links.loc[links['facility_fwd']==links['improvement'],'improvement'] = None\n",
    "links.loc[links['improvement'].notna(),['facility_fwd','improvement']]"
   ]
  },
  {
   "cell_type": "code",
   "execution_count": null,
   "metadata": {},
   "outputs": [],
   "source": [
    "#change cycletracks to multi use paths for now\n",
    "change_infra = {\n",
    "    'buffered bike lane': 'bike lane',\n",
    "    'cycletrack': 'multi use path'\n",
    "}\n",
    "links['improvement'] = links['improvement'].apply(lambda x: change_infra.get(x,x))\n",
    "links['facility_fwd'] = links['facility_fwd'].apply(lambda x: change_infra.get(x,x))"
   ]
  },
  {
   "cell_type": "code",
   "execution_count": null,
   "metadata": {},
   "outputs": [],
   "source": [
    "#combine facilities into one\n",
    "import numpy as np\n",
    "links['facility_fwd_new'] = np.where(links['improvement'].notna(),links['improvement'],links['facility_fwd'])\n",
    "# create the neccessary attributes\n",
    "links['bike lane'] = (links['facility_fwd'] == 'bike lane').astype(int)\n",
    "links['multi use path'] = (links['facility_fwd'] == 'multi use path').astype(int)\n",
    "links.loc[links['multi use path']==1,'lanes'] = 0"
   ]
  },
  {
   "cell_type": "code",
   "execution_count": null,
   "metadata": {},
   "outputs": [],
   "source": [
    "#choose the calibration coefficients to use\n",
    "calibration_results\n"
   ]
  },
  {
   "cell_type": "code",
   "execution_count": null,
   "metadata": {},
   "outputs": [],
   "source": [
    "calibration_result = calibration_results[-1]\n",
    "calibration_result"
   ]
  },
  {
   "cell_type": "code",
   "execution_count": null,
   "metadata": {},
   "outputs": [],
   "source": [
    "betas = list(calibration_result.values())[0:-3]\n",
    "betas_links = calibration_result['beta_links']\n",
    "betas_turns = calibration_result['beta_turns']\n",
    "betas\n"
   ]
  },
  {
   "cell_type": "markdown",
   "metadata": {},
   "source": [
    "# Shortest Path Routing\n"
   ]
  },
  {
   "cell_type": "code",
   "execution_count": null,
   "metadata": {},
   "outputs": [],
   "source": [
    "from importlib import reload\n",
    "reload(stochastic_optimization)\n",
    "\n",
    "# run impedance routing on all the provided ODs\n",
    "base_impedance_col = \"travel_time_min\"\n",
    "stochastic_optimization.back_to_base_impedance(base_impedance_col,links,turns,turn_G)\n",
    "\n",
    "#update impedances\n",
    "print(betas)\n",
    "stochastic_optimization.impedance_update(betas,betas_links,betas_turns,\n",
    "                          stochastic_optimization.link_impedance_function,\n",
    "                          base_impedance_col,\n",
    "                          stochastic_optimization.turn_impedance_function,\n",
    "                          links,turns,turn_G)\n",
    "current_links = links.copy()\n"
   ]
  },
  {
   "cell_type": "code",
   "execution_count": null,
   "metadata": {},
   "outputs": [],
   "source": [
    "results_dict = {(start_node,end_node):stochastic_optimization.impedance_path(turns,turn_G,links,start_node,end_node) for start_node, end_node in ods}\n"
   ]
  },
  {
   "cell_type": "code",
   "execution_count": null,
   "metadata": {},
   "outputs": [],
   "source": [
    "with (config['bikewaysim_fp']/\"current_results.pkl\").open('wb') as fh:\n",
    "    pickle.dump(results_dict,fh)\n"
   ]
  },
  {
   "cell_type": "markdown",
   "metadata": {},
   "source": [
    "# Repeat with Network Improvements\n"
   ]
  },
  {
   "cell_type": "code",
   "execution_count": null,
   "metadata": {},
   "outputs": [],
   "source": [
    "#update the bike lane, multi use path, and lanes attributes\n",
    "links['bike lane'] = (links['facility_fwd_new']=='bike lane').astype(int)\n",
    "links['multi use path'] = (links['facility_fwd_new']=='multi use path').astype(int)\n",
    "\n",
    "#for multiuse paths, make sure to set the lanes attribute to zero\n",
    "links.loc[links['multi use path']==1,'lanes'] = 0\n"
   ]
  },
  {
   "cell_type": "code",
   "execution_count": null,
   "metadata": {},
   "outputs": [],
   "source": [
    "from importlib import reload\n",
    "reload(stochastic_optimization)\n",
    "\n",
    "# run impedance routing on all the provided ODs\n",
    "base_impedance_col = \"travel_time_min\"\n",
    "stochastic_optimization.back_to_base_impedance(base_impedance_col,links,turns,turn_G)\n",
    "\n",
    "#update impedances\n",
    "#betas = #past_betas[np.array(past_vals).argmin()]#x.x\n",
    "print(betas)\n",
    "stochastic_optimization.impedance_update(betas,betas_links,betas_turns,\n",
    "                          stochastic_optimization.link_impedance_function,\n",
    "                          base_impedance_col,\n",
    "                          stochastic_optimization.turn_impedance_function,\n",
    "                          links,turns,turn_G)\n",
    "future_links = links.copy()\n"
   ]
  },
  {
   "cell_type": "code",
   "execution_count": null,
   "metadata": {},
   "outputs": [],
   "source": [
    "results_dict = {(start_node,end_node):stochastic_optimization.impedance_path(turns,turn_G,links,start_node,end_node) for start_node, end_node in ods}\n"
   ]
  },
  {
   "cell_type": "code",
   "execution_count": null,
   "metadata": {},
   "outputs": [],
   "source": [
    "\n",
    "with (config['bikewaysim_fp']/\"future_results.pkl\").open('wb') as fh:\n",
    "    pickle.dump(results_dict,fh)"
   ]
  }
 ],
 "metadata": {
  "language_info": {
   "name": "python"
  }
 },
 "nbformat": 4,
 "nbformat_minor": 2
}

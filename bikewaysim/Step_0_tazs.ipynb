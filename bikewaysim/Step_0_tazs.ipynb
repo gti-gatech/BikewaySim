{
 "cells": [
  {
   "cell_type": "code",
   "execution_count": 15,
   "metadata": {},
   "outputs": [],
   "source": [
    "import geopandas as gpd\n",
    "import pandas as pd\n",
    "from pathlib import Path\n",
    "import json\n",
    "import pickle\n",
    "\n",
    "import src.bikewaysim_functions as bikewaysim_functions\n",
    "\n",
    "import sys\n",
    "sys.path.insert(0,str(Path.cwd().parent))\n",
    "import file_structure_setup\n",
    "config = file_structure_setup.filepaths()"
   ]
  },
  {
   "cell_type": "code",
   "execution_count": 16,
   "metadata": {},
   "outputs": [
    {
     "name": "stdout",
     "output_type": "stream",
     "text": [
      "1327 out of the 5922 TAZs\n"
     ]
    }
   ],
   "source": [
    "#study area\n",
    "studyarea = gpd.read_file(config['studyarea_fp'])\n",
    "\n",
    "arc_fp = Path(\"D:\\RAW\\Atlanta_Regional_Comission\")\n",
    "\n",
    "# how many tazs\n",
    "all_tazs = gpd.read_file(arc_fp/\"Model_Traffic_Analysis_Zones_2020.geojson\",ignore_geometry=True).shape[0]\n",
    "\n",
    "#import taz geo\n",
    "tazs = gpd.read_file(arc_fp/\"Model_Traffic_Analysis_Zones_2020.geojson\",mask=studyarea)[['MTAZ10','geometry']]\n",
    "tazs.rename(columns={'MTAZ10':'tazid'},inplace=True)\n",
    "print(tazs.shape[0],'out of the',all_tazs,'TAZs')\n",
    "tazs_original = tazs.copy()\n",
    "# tazs['centroid_geo'] = tazs.geometry.centroid\n",
    "# tazs.set_geometry('centroid_geo',inplace=True)"
   ]
  },
  {
   "cell_type": "code",
   "execution_count": 17,
   "metadata": {},
   "outputs": [],
   "source": [
    "# import network nodes\n",
    "nodes = gpd.read_file(config['network_fp']/\"final_network.gpkg\",layer=\"nodes\")\n",
    "\n",
    "with (config['calibration_fp']/\"calibration_network.pkl\").open('rb') as fh:\n",
    "    links,turns = pickle.load(fh)\n",
    "del turns\n",
    "\n",
    "nodes0 = links['A'].append(links['B'])\n",
    "nodes = nodes[nodes['N'].isin(nodes0)]"
   ]
  },
  {
   "cell_type": "code",
   "execution_count": 18,
   "metadata": {},
   "outputs": [],
   "source": [
    "# snap tazs to network\n",
    "tazs = bikewaysim_functions.snap_ods_to_network(tazs,nodes)\n",
    "\n",
    "# only keep if dist is less than or equal to 500 feet\n",
    "tazs = tazs[tazs['dist']<=500]"
   ]
  },
  {
   "cell_type": "code",
   "execution_count": 19,
   "metadata": {},
   "outputs": [],
   "source": [
    "#import arc trip data\n",
    "tripData0 = pd.read_csv(arc_fp/\"rtp_amd6_2030_tripData/tripData.csv\",usecols=['orig_taz','dest_taz','distance'])\n",
    "tripData1 = pd.read_csv(arc_fp/\"rtp_amd6_2030_tripData/tripData_1.csv\",usecols=['orig_taz','dest_taz','distance'])\n",
    "tripData2 = pd.read_csv(arc_fp/\"rtp_amd6_2030_tripData/tripData_2.csv\",usecols=['orig_taz','dest_taz','distance'])\n",
    "tripData = pd.concat([tripData0,tripData1,tripData2])\n",
    "del tripData0, tripData1, tripData2"
   ]
  },
  {
   "cell_type": "code",
   "execution_count": 20,
   "metadata": {},
   "outputs": [],
   "source": [
    "#remove trips above 3 miles\n",
    "tripData = tripData[tripData['distance'] <= 3]\n",
    "tripData = tripData.groupby(['orig_taz','dest_taz']).size().reset_index()\n",
    "tripData.columns = ['orig_taz','dest_taz','trips']\n",
    "tripData = tripData[tripData['orig_taz'].isin(tazs['tazid']) & tripData['dest_taz'].isin(tazs['tazid'])]\n",
    "#remove intrazonal trilps\n",
    "tripData = tripData[tripData['orig_taz'] != tripData['dest_taz']]"
   ]
  },
  {
   "cell_type": "code",
   "execution_count": 21,
   "metadata": {},
   "outputs": [
    {
     "name": "stdout",
     "output_type": "stream",
     "text": [
      "3579964 trips across 126641 unique OD pairs\n"
     ]
    }
   ],
   "source": [
    "print(tripData['trips'].sum(),'trips across',tripData.shape[0],'unique OD pairs')#,tripData['hh_id'].nunique(),'persons')"
   ]
  },
  {
   "cell_type": "code",
   "execution_count": 22,
   "metadata": {},
   "outputs": [],
   "source": [
    "snapped_ods = dict(zip(tazs['tazid'],tazs['N']))\n",
    "tripData['orig_N'] = tripData['orig_taz'].map(snapped_ods)\n",
    "tripData['dest_N'] = tripData['dest_taz'].map(snapped_ods)"
   ]
  },
  {
   "cell_type": "code",
   "execution_count": 23,
   "metadata": {},
   "outputs": [],
   "source": [
    "trip_origins_per_taz = tripData.groupby('orig_taz')['trips'].sum().reset_index()\n",
    "trip_origins_per_taz.columns = ['tazid','trip_origins']"
   ]
  },
  {
   "cell_type": "code",
   "execution_count": 25,
   "metadata": {},
   "outputs": [
    {
     "data": {
      "text/html": [
       "<div>\n",
       "<style scoped>\n",
       "    .dataframe tbody tr th:only-of-type {\n",
       "        vertical-align: middle;\n",
       "    }\n",
       "\n",
       "    .dataframe tbody tr th {\n",
       "        vertical-align: top;\n",
       "    }\n",
       "\n",
       "    .dataframe thead th {\n",
       "        text-align: right;\n",
       "    }\n",
       "</style>\n",
       "<table border=\"1\" class=\"dataframe\">\n",
       "  <thead>\n",
       "    <tr style=\"text-align: right;\">\n",
       "      <th></th>\n",
       "      <th>tazid</th>\n",
       "      <th>geometry</th>\n",
       "      <th>N</th>\n",
       "      <th>dist</th>\n",
       "    </tr>\n",
       "  </thead>\n",
       "  <tbody>\n",
       "    <tr>\n",
       "      <th>409</th>\n",
       "      <td>661.0</td>\n",
       "      <td>MULTIPOLYGON (((2230772.488 1363811.126, 22307...</td>\n",
       "      <td>1581270430</td>\n",
       "      <td>184.028907</td>\n",
       "    </tr>\n",
       "    <tr>\n",
       "      <th>689</th>\n",
       "      <td>942.0</td>\n",
       "      <td>MULTIPOLYGON (((2217757.384 1350921.300, 22176...</td>\n",
       "      <td>10231260073</td>\n",
       "      <td>212.632775</td>\n",
       "    </tr>\n",
       "    <tr>\n",
       "      <th>846</th>\n",
       "      <td>1134.0</td>\n",
       "      <td>MULTIPOLYGON (((2210898.541 1324704.872, 22108...</td>\n",
       "      <td>69154389</td>\n",
       "      <td>335.047867</td>\n",
       "    </tr>\n",
       "    <tr>\n",
       "      <th>948</th>\n",
       "      <td>1389.0</td>\n",
       "      <td>MULTIPOLYGON (((2253129.620 1413387.880, 22530...</td>\n",
       "      <td>5426565661</td>\n",
       "      <td>120.181199</td>\n",
       "    </tr>\n",
       "  </tbody>\n",
       "</table>\n",
       "</div>"
      ],
      "text/plain": [
       "      tazid                                           geometry            N  \\\n",
       "409   661.0  MULTIPOLYGON (((2230772.488 1363811.126, 22307...   1581270430   \n",
       "689   942.0  MULTIPOLYGON (((2217757.384 1350921.300, 22176...  10231260073   \n",
       "846  1134.0  MULTIPOLYGON (((2210898.541 1324704.872, 22108...     69154389   \n",
       "948  1389.0  MULTIPOLYGON (((2253129.620 1413387.880, 22530...   5426565661   \n",
       "\n",
       "           dist  \n",
       "409  184.028907  \n",
       "689  212.632775  \n",
       "846  335.047867  \n",
       "948  120.181199  "
      ]
     },
     "execution_count": 25,
     "metadata": {},
     "output_type": "execute_result"
    }
   ],
   "source": [
    "# no trips\n",
    "no_trips = tazs[tazs['tazid'].isin(trip_origins_per_taz['tazid'])==False]\n",
    "no_trips"
   ]
  },
  {
   "cell_type": "code",
   "execution_count": 26,
   "metadata": {},
   "outputs": [],
   "source": [
    "# too few to matter\n",
    "# no_trips.to_crs(config['projected_crs_epsg']).to_file(config['bikewaysim_fp']/'map_layers.gpkg',layer='no_trip_tazs')"
   ]
  },
  {
   "cell_type": "code",
   "execution_count": 10,
   "metadata": {},
   "outputs": [],
   "source": [
    "tazs = tazs.merge(trip_origins_per_taz,on='tazid')"
   ]
  },
  {
   "cell_type": "code",
   "execution_count": 11,
   "metadata": {},
   "outputs": [],
   "source": [
    "# trip origins per TAZ\n",
    "\n",
    "#export the taz areas\n",
    "tazs.to_crs(config['projected_crs_epsg']).to_file(config['bikewaysim_fp']/'map_layers.gpkg',layer='taz_polygons')\n",
    "#export the taz centroids\n",
    "taz_centroids = tazs.copy().to_crs(config['projected_crs_epsg'])\n",
    "taz_centroids.geometry = taz_centroids.geometry.centroid\n",
    "taz_centroids.to_crs(config['projected_crs_epsg']).to_file(config['bikewaysim_fp']/'map_layers.gpkg',layer='taz_centroids')"
   ]
  },
  {
   "cell_type": "code",
   "execution_count": 12,
   "metadata": {},
   "outputs": [],
   "source": [
    "#export\n",
    "tripData.to_csv(config['bikewaysim_fp']/'od_matrix.csv',index=False)"
   ]
  },
  {
   "cell_type": "code",
   "execution_count": 13,
   "metadata": {},
   "outputs": [],
   "source": [
    "tripData0 = pd.read_csv(arc_fp/\"rtp_amd6_2030_tripData/tripData.csv\",nrows=10)"
   ]
  },
  {
   "cell_type": "code",
   "execution_count": 14,
   "metadata": {},
   "outputs": [
    {
     "data": {
      "text/plain": [
       "Index(['hh_id', 'person_id', 'person_num', 'tour_id', 'stop_id', 'inbound',\n",
       "       'tour_category', 'tour_purpose', 'orig_purpose', 'dest_purpose',\n",
       "       'orig_taz', 'dest_taz', 'orig_walk_segment', 'dest_walk_segment',\n",
       "       'parking_taz', 'depart_period', 'trip_mode', 'tour_mode',\n",
       "       'num_participants', 'tour_participants', 'tour_start_period',\n",
       "       'tour_id_uniq', 'trip_id', 'orig_purpose_start_period', 'home_taz',\n",
       "       'hh_income', 'hh_autos', 'hh_fp_choice', 'hh_inc_bin', 'hh_size',\n",
       "       'hh_wkrs', 'hh_auto_suff', 'age', 'gender', 'person_type',\n",
       "       'activity_pattern', 'tour_mode_name', 'trip_mode_name', 'travel_time',\n",
       "       'distance', 'cost', 'first_wait_time', 'xfer_wait_time',\n",
       "       'walk_aux_time', 'auto_aux_time', 'boardings', 'ivt_local_bus',\n",
       "       'ivt_premium_modes'],\n",
       "      dtype='object')"
      ]
     },
     "execution_count": 14,
     "metadata": {},
     "output_type": "execute_result"
    }
   ],
   "source": [
    "tripData0.columns"
   ]
  },
  {
   "cell_type": "code",
   "execution_count": null,
   "metadata": {},
   "outputs": [],
   "source": []
  }
 ],
 "metadata": {
  "kernelspec": {
   "display_name": "Python 3",
   "language": "python",
   "name": "python3"
  },
  "language_info": {
   "codemirror_mode": {
    "name": "ipython",
    "version": 3
   },
   "file_extension": ".py",
   "mimetype": "text/x-python",
   "name": "python",
   "nbconvert_exporter": "python",
   "pygments_lexer": "ipython3",
   "version": "3.9.13"
  }
 },
 "nbformat": 4,
 "nbformat_minor": 2
}

{
 "cells": [
  {
   "cell_type": "code",
   "execution_count": null,
   "metadata": {},
   "outputs": [],
   "source": [
    "import geopandas as gpd\n",
    "import pandas as pd\n",
    "from pathlib import Path\n",
    "import json\n",
    "import pickle\n",
    "\n",
    "import src.bikewaysim_functions as bikewaysim_functions\n",
    "\n",
    "import sys\n",
    "sys.path.insert(0,str(Path.cwd().parent))\n",
    "import file_structure_setup\n",
    "config = file_structure_setup.filepaths()"
   ]
  },
  {
   "cell_type": "code",
   "execution_count": null,
   "metadata": {},
   "outputs": [],
   "source": [
    "#study area\n",
    "studyarea = gpd.read_file(config['studyarea_fp'])\n",
    "\n",
    "arc_fp = Path(\"D:\\RAW\\Atlanta_Regional_Comission\")\n",
    "\n",
    "# how many tazs\n",
    "print(gpd.read_file(arc_fp/\"Model_Traffic_Analysis_Zones_2020.geojson\",ignore_geometry=True).shape[0])\n",
    "\n",
    "#import taz geo\n",
    "tazs = gpd.read_file(arc_fp/\"Model_Traffic_Analysis_Zones_2020.geojson\",mask=studyarea)[['MTAZ10','geometry']]\n",
    "print(tazs.shape[0])\n",
    "# tazs['centroid_geo'] = tazs.geometry.centroid\n",
    "# tazs.set_geometry('centroid_geo',inplace=True)"
   ]
  },
  {
   "cell_type": "code",
   "execution_count": null,
   "metadata": {},
   "outputs": [],
   "source": [
    "#export the taz areas\n",
    "tazs.to_crs(config['projected_crs_epsg']).to_file(config['calibration_fp']/'map_layers.gpkg',layer='taz_polygons')\n",
    "#export the taz centroids\n",
    "taz_centroids = tazs.copy()\n",
    "taz_centroids.geometry = taz_centroids.geometry.centroid\n",
    "taz_centroids.to_crs(config['projected_crs_epsg']).to_file(config['calibration_fp']/'map_layers.gpkg',layer='taz_centroids')"
   ]
  },
  {
   "cell_type": "code",
   "execution_count": null,
   "metadata": {},
   "outputs": [],
   "source": [
    "# import network nodes\n",
    "nodes = gpd.read_file(config['network_fp']/\"final_network.gpkg\",layer=\"nodes\")\n",
    "\n",
    "with (config['calibration_fp']/\"calibration_network.pkl\").open('rb') as fh:\n",
    "    links,turns = pickle.load(fh)\n",
    "del turns\n",
    "\n",
    "nodes0 = links['A'].append(links['B'])\n",
    "nodes = nodes[nodes['N'].isin(nodes0)]"
   ]
  },
  {
   "cell_type": "code",
   "execution_count": null,
   "metadata": {},
   "outputs": [],
   "source": [
    "# snap tazs to network\n",
    "tazs = bikewaysim_functions.snap_ods_to_network(tazs,nodes)\n",
    "\n",
    "# only keep if dist is less than or equal to 500 feet\n",
    "tazs = tazs[tazs['dist']<=500]"
   ]
  },
  {
   "cell_type": "code",
   "execution_count": null,
   "metadata": {},
   "outputs": [],
   "source": [
    "#import arc trip data\n",
    "tripData0 = pd.read_csv(arc_fp/\"rtp_amd6_2030_tripData/tripData.csv\",usecols=['orig_taz','dest_taz','distance'])\n",
    "tripData1 = pd.read_csv(arc_fp/\"rtp_amd6_2030_tripData/tripData_1.csv\",usecols=['orig_taz','dest_taz','distance'])\n",
    "tripData2 = pd.read_csv(arc_fp/\"rtp_amd6_2030_tripData/tripData_2.csv\",usecols=['orig_taz','dest_taz','distance'])\n",
    "tripData = pd.concat([tripData0,tripData1,tripData2])\n",
    "del tripData0, tripData1, tripData2\n",
    "tripData = tripData[tripData['distance'] <= 3]\n",
    "tripData = tripData.groupby(['orig_taz','dest_taz']).size().reset_index()\n",
    "tripData.columns = ['orig_taz','dest_taz','trips']\n",
    "tripData = tripData[tripData['orig_taz'].isin(tazs['MTAZ10']) & tripData['dest_taz'].isin(tazs['MTAZ10'])]\n",
    "tripData = tripData[tripData['orig_taz'] != tripData['dest_taz']]"
   ]
  },
  {
   "cell_type": "code",
   "execution_count": null,
   "metadata": {},
   "outputs": [],
   "source": [
    "print(tripData['trips'].sum(),'trips across',tripData.shape[0],'unique OD pairs')"
   ]
  },
  {
   "cell_type": "code",
   "execution_count": null,
   "metadata": {},
   "outputs": [],
   "source": [
    "snapped_ods = dict(zip(tazs['MTAZ10'],tazs['N']))\n",
    "\n",
    "tripData['orig_N'] = tripData['orig_taz'].map(snapped_ods)\n",
    "tripData['dest_N'] = tripData['dest_taz'].map(snapped_ods)"
   ]
  },
  {
   "cell_type": "code",
   "execution_count": null,
   "metadata": {},
   "outputs": [],
   "source": [
    "tripData"
   ]
  },
  {
   "cell_type": "code",
   "execution_count": null,
   "metadata": {},
   "outputs": [],
   "source": [
    "#export\n",
    "tripData.to_csv(config['bikewaysim_fp']/'od_matrix.csv',index=False)\n",
    "#tazs.to_file(bikewaysim_fp/'snapped_ods.gpkg')\n",
    "\n",
    "#export the centroid version too"
   ]
  },
  {
   "cell_type": "code",
   "execution_count": null,
   "metadata": {},
   "outputs": [],
   "source": [
    "tripData0 = pd.read_csv(arc_fp/\"rtp_amd6_2030_tripData/tripData.csv\",nrows=10)"
   ]
  },
  {
   "cell_type": "code",
   "execution_count": null,
   "metadata": {},
   "outputs": [],
   "source": [
    "tripData0.columns"
   ]
  },
  {
   "cell_type": "code",
   "execution_count": null,
   "metadata": {},
   "outputs": [],
   "source": []
  }
 ],
 "metadata": {
  "kernelspec": {
   "display_name": "Python 3",
   "language": "python",
   "name": "python3"
  },
  "language_info": {
   "codemirror_mode": {
    "name": "ipython",
    "version": 3
   },
   "file_extension": ".py",
   "mimetype": "text/x-python",
   "name": "python",
   "nbconvert_exporter": "python",
   "pygments_lexer": "ipython3",
   "version": "3.9.13"
  }
 },
 "nbformat": 4,
 "nbformat_minor": 2
}

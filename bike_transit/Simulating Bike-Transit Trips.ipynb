{
 "cells": [
  {
   "attachments": {},
   "cell_type": "markdown",
   "metadata": {},
   "source": [
    "# Simulating Bike-Transit Trips\n"
   ]
  },
  {
   "cell_type": "code",
   "execution_count": null,
   "metadata": {},
   "outputs": [],
   "source": [
    "#import packages\n",
    "import sys\n",
    "from pathlib import Path\n",
    "import os\n",
    "from datetime import datetime, timedelta, date\n",
    "\n",
    "#import custom modules\n",
    "import find_candidate_stops\n",
    "import process_gtfs\n",
    "import raptor_mapping\n",
    "import viz_and_metrics\n",
    "\n",
    "#import transit-routing from the transit-routing sub module\n",
    "sys.path.insert(0,str(Path.cwd() / 'transit-routing'))"
   ]
  },
  {
   "cell_type": "markdown",
   "metadata": {},
   "source": [
    "## Transit Schedule\n",
    "This block processes a zipped GTFS file using transit-routing's \"GTFS_wrapper.py\" function. Zipped GTFS data can be retrieved directly from transit agencies or from GTFS aggregators like [Transitland](https://www.transit.land). As an example, GTFS data representing MARTA service between [2022-12-17 and 2023-04-21](https://transitfeeds.com/p/marta/65/20221215) is provided."
   ]
  },
  {
   "cell_type": "code",
   "execution_count": null,
   "metadata": {},
   "outputs": [],
   "source": [
    "gtfs_wrapper_inputs = {\n",
    "    \"gtfs_name\": 'marta', # gtfs file must be in the transit-routing directory with the name {gtfs_name}_gtfs.zip\n",
    "    \"service_date\": 20230301, # analysis date in YYYYMMDD format (must be within the service range of the GTFS data)\n",
    "    \"modes\": [1,3], # transit modes to include (1 = heavy rail/metro, 2 = light rail/trams, 3 = buses)\n",
    "}\n",
    "process_gtfs.process_gtfs(gtfs_wrapper_inputs)"
   ]
  },
  {
   "attachments": {},
   "cell_type": "markdown",
   "metadata": {},
   "source": [
    "## Settings Dictionary\n",
    "This dictionary is used to specify filepaths for the GTFS data, network data, and specify raptor settings."
   ]
  },
  {
   "cell_type": "code",
   "execution_count": null,
   "metadata": {},
   "outputs": [],
   "source": [
    "Path.cwd()"
   ]
  },
  {
   "cell_type": "code",
   "execution_count": null,
   "metadata": {},
   "outputs": [],
   "source": [
    "settings = {\n",
    "    'gtfs_fp': Path.cwd() / 'transit-routing/GTFS/marta', #filepath for processed GTFS files\n",
    "    'gtfs_zip': Path.cwd() / 'transit-routing/marta_gtfs.zip', #filepath for original zipped GTFS files\n",
    "    'service_date': date(2023,3,1), #select day to get service, a weekday was used for this study\n",
    "    'crs': 'epsg:2240', # the desired projected CRS to use\n",
    "    'thresh': 2 * 5280, #set candidate stop threshold distance in units of CRS (using bike service area from tcqsm page 5-20)\n",
    "    'tazs_fp': Path.home() / 'Documents/BikewaySimData/Data/ARC/Model_Traffic_Analysis_Zones_2020.geojson', # filepath of TAZs or origins/POIs (see below)\n",
    "    'keyid': 'OBJECTID', #column with the unique taz/origin id in it\n",
    "    \n",
    "    #this for making the transfers.txt file need for raptor\n",
    "    'transfer_time': 2, # allowed transfer time in minutes (DOES NOT INLCUDE WAIT TIME)\n",
    "    'walk_spd': 2.5, # assumed walking speed for transfers in miles per hour\n",
    "    \n",
    "    #these are specific to RAPTOR\n",
    "    'NETWORK_NAME': 'marta',\n",
    "    'MAX_TRANSFER': 2, # number of transfers allowed = max_transfer - 1\n",
    "    'WALKING_FROM_SOURCE': 0, # if true (1), person can walk to a different transit station from start station\n",
    "    'CHANGE_TIME_SEC': 30, # time to enter/exit vehicle in seconds (NOT WAIT TIME)\n",
    "    'PRINT_ITINERARY': 0, # if running individual raptor trips, this prints the outputs to console\n",
    "    'OPTIMIZED': 0, # read transit-routing documentation, set to 0 for this project\n",
    "    \n",
    "    #times to test, datetime(YYYY,MM,DD,HH,MM,SS,MS)\n",
    "    'first_time': datetime(2023, 3, 1, 8, 0, 0, 0), # original start time is 9am\n",
    "    'end_time': datetime(2023, 3, 1, 10, 0, 0, 0), # original end time is 10am\n",
    "    'timestep': timedelta(minutes=15), # time increments to test (original is 9am,9:20am,9:40am,10am)\n",
    "    'timelimit': timedelta(hours=1), # set the max allowed total travel time in hours\n",
    "    'output_fp': Path.home() / 'Documents/TransitSimData/Data' #path where you want things to output \n",
    "    }\n",
    "           "
   ]
  },
  {
   "attachments": {},
   "cell_type": "markdown",
   "metadata": {},
   "source": [
    "## Pre-processing Steps (only run this block once,  unless changing settings)\n",
    "- Prepare Study Area\n",
    "- Find Candidate Stops: \n",
    "- Create RAPTOR files"
   ]
  },
  {
   "cell_type": "code",
   "execution_count": null,
   "metadata": {},
   "outputs": [],
   "source": [
    "# create transfers.txt (needed for RAPTOR)\n",
    "process_gtfs.create_transfers(settings)\n",
    "\n",
    "# function that creates the study area and various base layers\n",
    "find_candidate_stops.process_studyarea(settings)"
   ]
  },
  {
   "cell_type": "markdown",
   "metadata": {},
   "source": [
    "## Use outputted study area polygon to create network data\n",
    "Follow instructions in the [Downloading_OSM.ipynb](../osm_download/Downloading_OSM.ipynb), [Step_1 Network_Filtering_and_Processing.ipynb](../network/Step_1_Network_Filtering.ipynb), and [Step_2_Network_Reconciliation.ipynb](../network/Step_2_Network_Reconciliation.ipynb) using the study area polygon created in previous block.\n",
    "\n",
    "The filepath to the study area will be: \"settings['output_fp'] / 'base_layers.gpkg'\" in the \"study area\" layer."
   ]
  },
  {
   "cell_type": "code",
   "execution_count": null,
   "metadata": {},
   "outputs": [],
   "source": [
    "#replace with filepath to network data\n",
    "settings['network_fp'] = Path.home() / 'Documents/TransitSimData/networks/final_network.gpkg'\n",
    "settings['links_layer'] = 'links' # name of links layer (default is links)\n",
    "settings['nodes_layer'] = 'nodes', # name of nodes layer (default is nodes)\n",
    "settings['impedance'] = 'length_ft', # specify which column of the links data should be used for shortest path routing weights\n",
    "\n",
    "#writes your network files to the gpkg for referencing later\n",
    "find_candidate_stops.write_network_to_base_layers(settings)"
   ]
  },
  {
   "attachments": {},
   "cell_type": "markdown",
   "metadata": {},
   "source": [
    "## Get candidate stops\n",
    "Finds all transit stops that are within specificed threshold and are a unique route"
   ]
  },
  {
   "cell_type": "code",
   "execution_count": null,
   "metadata": {},
   "outputs": [],
   "source": [
    "candidate_stops_by_taz, centroids = find_candidate_stops.candidate_stops(settings)"
   ]
  },
  {
   "cell_type": "code",
   "execution_count": null,
   "metadata": {},
   "outputs": [],
   "source": [
    "candidate_stops_by_taz.loc[candidate_stops_by_taz['stop_id']=='8753']"
   ]
  },
  {
   "cell_type": "code",
   "execution_count": null,
   "metadata": {},
   "outputs": [],
   "source": [
    "candidate_stops_by_taz['taz_snapdist']"
   ]
  },
  {
   "cell_type": "code",
   "execution_count": null,
   "metadata": {},
   "outputs": [],
   "source": [
    "candidate_stops_by_taz['stops_snapdist']"
   ]
  },
  {
   "attachments": {},
   "cell_type": "markdown",
   "metadata": {},
   "source": [
    "## Select source TAZ/census block IDs\n",
    "For this report, one-to-all-possible TAZs from the Atlanta Regional Commission's [Traffic Analysis Zones TAZs](https://opendata.atlantaregional.com/maps/5d5ae31b66a94464be1a0539936ab764/about) were used. If using a different shapefile/geopackage/geojson, ensure that there is a unuique ID column and that the geometry is unprojected.\n",
    "\n",
    "NOTE: At this time, the input geometry must be a polygon, but the centroid of each polygon will determine distance from the road network. For POI data suchs as grocery stores, buffer the points to turn them into polygons."
   ]
  },
  {
   "cell_type": "code",
   "execution_count": null,
   "metadata": {},
   "outputs": [],
   "source": [
    "# replace with ['*'] to do all tazs (not recommened due to run time)\n",
    "select_tazs = [553,1071,1377]"
   ]
  },
  {
   "attachments": {},
   "cell_type": "markdown",
   "metadata": {},
   "source": [
    "## Specify Mode Specific Routing Settings\n",
    "If doing a combination of modes (bike then walk, walk then bike), provide a tuple for the 'thresh' and 'spd' values."
   ]
  },
  {
   "cell_type": "code",
   "execution_count": null,
   "metadata": {},
   "outputs": [],
   "source": [
    "bike_settings = {\n",
    "    'thresh': 5280 * 2, # set access/egress thresh in units of CRS\n",
    "    'max_thresh': 5280 * 2 * 2, # set the max biking/walking amount in units of CRS\n",
    "    'spd': 8, # miles per hour\n",
    "    'mode':'bike',\n",
    "    'impedance':'dist', # column to use for impedance/weights\n",
    "    'allow_wrongway':False,\n",
    "    'allow_bus_to_bus':False,\n",
    "    'overwrite_existing': True,\n",
    "    'rail_start':False # only allow trips to start near rail stations\n",
    "    }\n",
    "\n",
    "walk_settings = {\n",
    "    'thresh': 5280 * 0.625, # set \n",
    "    'max_thresh': 5280 * 0.625 * 2, \n",
    "    'spd': 2.5,\n",
    "    'mode':'walk',\n",
    "    'impedance':'dist',\n",
    "    'allow_wrongway':True,\n",
    "    'allow_bus_to_bus':False,\n",
    "    'overwrite_existing': True,\n",
    "    'rail_start':False\n",
    "    }\n",
    "\n",
    "#this one assumes bike will be parked at start (does not consider availability of parking)\n",
    "bikewalk_settings = {\n",
    "    'thresh': (5280 * 2, 5280 * 0.625),\n",
    "    'max_thresh': 5280 * (2+0.625),\n",
    "    'spd': (8,2.5),\n",
    "    'mode':'bikewalk',\n",
    "    'impedance':'dist',\n",
    "    'allow_wrongway':(False,True),\n",
    "    'allow_bus_to_bus':False,\n",
    "    'overwrite_existing': True,\n",
    "    'rail_start':False\n",
    "    }"
   ]
  },
  {
   "attachments": {},
   "cell_type": "markdown",
   "metadata": {},
   "source": [
    "## Create RAPTOR trip files"
   ]
  },
  {
   "cell_type": "code",
   "execution_count": null,
   "metadata": {},
   "outputs": [],
   "source": [
    "%load_ext autoreload\n",
    "%autoreload 2"
   ]
  },
  {
   "cell_type": "code",
   "execution_count": null,
   "metadata": {},
   "outputs": [],
   "source": [
    "# create bike trip files\n",
    "find_candidate_stops.raptor_preprocessing(settings,bike_settings,select_tazs)"
   ]
  },
  {
   "cell_type": "code",
   "execution_count": null,
   "metadata": {},
   "outputs": [],
   "source": [
    "# create walk trip files\n",
    "find_candidate_stops.raptor_preprocessing(settings,walk_settings,select_tazs)"
   ]
  },
  {
   "cell_type": "code",
   "execution_count": null,
   "metadata": {},
   "outputs": [],
   "source": [
    "# create bikewalk trip files\n",
    "find_candidate_stops.raptor_preprocessing(settings,bikewalk_settings,select_tazs)\n",
    "# can add more or comment out as needed"
   ]
  },
  {
   "attachments": {},
   "cell_type": "markdown",
   "metadata": {},
   "source": [
    "## Specify RAPTOR Settings and Run"
   ]
  },
  {
   "cell_type": "code",
   "execution_count": null,
   "metadata": {},
   "outputs": [],
   "source": [
    "help(run_raptor)"
   ]
  },
  {
   "cell_type": "code",
   "execution_count": null,
   "metadata": {},
   "outputs": [],
   "source": [
    "#410 minutes\n",
    "#transit-routing uses current working directory to make \n",
    "cwd = os.getcwd()\n",
    "os.chdir(Path.home()/'Documents/GitHub/BikewaySimDev/transitsim/transit-routing')"
   ]
  },
  {
   "cell_type": "code",
   "execution_count": null,
   "metadata": {
    "scrolled": true
   },
   "outputs": [],
   "source": [
    "run_raptor(select_tazs,settings,bike_settings)"
   ]
  },
  {
   "cell_type": "code",
   "execution_count": null,
   "metadata": {},
   "outputs": [],
   "source": [
    "#160 minutes??\n",
    "run_raptor(select_tazs,settings,walk_settings)"
   ]
  },
  {
   "cell_type": "code",
   "execution_count": null,
   "metadata": {},
   "outputs": [],
   "source": [
    "#430minutes\n",
    "run_raptor(select_tazs,settings,bikewalk_settings)"
   ]
  },
  {
   "cell_type": "code",
   "execution_count": null,
   "metadata": {},
   "outputs": [],
   "source": [
    "#change back\n",
    "os.chdir(cwd)"
   ]
  },
  {
   "attachments": {},
   "cell_type": "markdown",
   "metadata": {},
   "source": [
    "## Mapping and Visualizing RAPTOR Outputs\n",
    "Map out each trip, accessibility, travel time, and modes utilized."
   ]
  },
  {
   "cell_type": "code",
   "execution_count": null,
   "metadata": {},
   "outputs": [],
   "source": [
    "impedance = 'dist'\n",
    "modes = ['bike','walk','bikewalk']\n",
    "\n",
    "for mode in modes:\n",
    "    #map_routes(settings,impedance,mode,select_tazs,timedelta(hours=1))\n",
    "    viz_and_metrics(settings,impedance,mode,select_tazs,timedelta(hours=1))"
   ]
  },
  {
   "attachments": {},
   "cell_type": "markdown",
   "metadata": {},
   "source": [
    "# Compact View (LTS)"
   ]
  },
  {
   "cell_type": "code",
   "execution_count": null,
   "metadata": {},
   "outputs": [],
   "source": [
    "stop"
   ]
  },
  {
   "cell_type": "code",
   "execution_count": null,
   "metadata": {},
   "outputs": [],
   "source": [
    "settings = {\n",
    "    #changed network from marta to martalatest\n",
    "    \n",
    "    #these are for the pre-processing steps\n",
    "    'gtfs_fp': Path.home() / 'Documents/GitHub/transit-routing/GTFS/martalatest', #filepath for processed GTFS files\n",
    "    'gtfs_zip': Path.home() / 'Documents/GitHub/transit-routing/martalatest_gtfs.zip', #filepath for original zipped GTFS files\n",
    "    'network_fp': Path.home() / 'Documents/TransitSimData/networks/final_network.gpkg', #fp to geopackage with a links and nodes layer\n",
    "    'links_layer': 'lowstress_links', # name of links layer\n",
    "    'nodes_layer': 'lowstress_nodes', # name of nodes layer\n",
    "    'impedance': 'dist', # specify which column of the links data should be used for shortest path routing\n",
    "    'service_date': date(2023,3,1),#date(2022, 11, 24), #select day to get service, a weekday was used for this study\n",
    "    'crs': 'epsg:2240', # the desired projected CRS to use\n",
    "    'thresh': 2 * 5280, #set candidate stop threshold distance in units of CRS (using bike service area from tcqsm page 5-20)\n",
    "    'tazs_fp': Path.home() / 'Documents/NewBikewaySimData/Data/ARC/Model_Traffic_Analysis_Zones_2020.geojson', # filepath of TAZs or origins/POIs\n",
    "    'keyid': 'OBJECTID', #column with the unique taz/origin id in it\n",
    "    \n",
    "    #this for making the transfers.txt file need for raptor\n",
    "    'transfer_time': 2, # allowed transfer time in minutes (DOES NOT INLCUDE WAIT TIME)\n",
    "    'walk_spd': 2.5, # assumed walking speed for transfers in miles per hour\n",
    "    \n",
    "    #these are specific to RAPTOR\n",
    "    'NETWORK_NAME': 'martalatest',#'marta',\n",
    "    'MAX_TRANSFER': 2, # no more than 1 transfer\n",
    "    'WALKING_FROM_SOURCE': 0, # if true (1), person can walk to a different transit station from start station\n",
    "    'CHANGE_TIME_SEC': 30, # time to enter/exit vehicle (NOT WAIT TIME)\n",
    "    'PRINT_ITINERARY': 0, # if running individual raptor trips, this prints the outputs\n",
    "    'OPTIMIZED': 0, # read transit-routing documentation, set to 0 for this project\n",
    "    \n",
    "    #times to test, datetime(YYYY,MM,DD,HH,MM,SS,MS)\n",
    "    'first_time': datetime(2023, 3, 1, 8, 0, 0, 0), # original start time is 9am\n",
    "    'end_time': datetime(2023, 3, 1, 10, 0, 0, 0), # original end time is 10am\n",
    "    'timestep': timedelta(minutes=15), # time increments to test (original is 9am,9:20am,9:40am,10am)\n",
    "    'timelimit': timedelta(hours=1), # set the max allowed total travel time in hours\n",
    "    'output_fp': Path.home() / 'Documents/TransitSimData/LTS' #path where you want things to output \n",
    "    }\n",
    "\n",
    "#select_tazs = ['1071']#['288','553','411','1071']\n",
    "\n",
    "bikelts_settings = {\n",
    "    'thresh': (5280 * 2, 5280 * 0.625),\n",
    "    'max_thresh': 5280 * (2+0.625),\n",
    "    'spd': (8,2.5),\n",
    "    'mode':'bikewalk',\n",
    "    'impedance':'dist',\n",
    "    'allow_wrongway':(False,True),\n",
    "    'allow_bus_to_bus':False,\n",
    "    'overwrite_existing': True,\n",
    "    'rail_start':True\n",
    "    }\n"
   ]
  },
  {
   "cell_type": "code",
   "execution_count": null,
   "metadata": {},
   "outputs": [],
   "source": [
    "\n",
    "#create transfers.txt\n",
    "create_transfers(settings)\n",
    "\n",
    "# function that creates the study area and various base layers\n",
    "process_studyarea(settings)\n",
    "\n",
    "candidate_stops_by_taz, centroids = candidate_stops(settings)\n",
    "\n",
    "raptor_preprocessing(settings,bikelts_settings,select_tazs)\n",
    "\n",
    "#change cwd Fix this later\n",
    "cwd = os.getcwd()\n",
    "os.chdir(Path.home()/'Documents/GitHub/transit-routing')\n",
    "\n",
    "run_raptor(select_tazs,settings,bikelts_settings)\n",
    "\n",
    "#change back\n",
    "os.chdir(cwd)\n"
   ]
  },
  {
   "cell_type": "code",
   "execution_count": null,
   "metadata": {},
   "outputs": [],
   "source": [
    "\n",
    "impedance = 'dist'\n",
    "modes = ['bikewalk']\n",
    "\n",
    "for mode in modes:\n",
    "    map_routes(settings,impedance,mode,select_tazs,timedelta(hours=1))\n",
    "    viz_and_metrics(settings,impedance,mode,select_tazs,timedelta(hours=1))"
   ]
  },
  {
   "attachments": {},
   "cell_type": "markdown",
   "metadata": {},
   "source": [
    "# Using model OD data"
   ]
  },
  {
   "cell_type": "code",
   "execution_count": null,
   "metadata": {},
   "outputs": [],
   "source": [
    "settings = {\n",
    "    #changed network from marta to martalatest\n",
    "    \n",
    "    #these are for the pre-processing steps\n",
    "    'gtfs_fp': Path.home() / 'Documents/GitHub/transit-routing/GTFS/martalatest', #filepath for processed GTFS files\n",
    "    'gtfs_zip': Path.home() / 'Documents/GitHub/transit-routing/martalatest_gtfs.zip', #filepath for original zipped GTFS files\n",
    "    'network_fp': Path.home() / 'Documents/TransitSimData/networks/final_network.gpkg', #fp to geopackage with a links and nodes layer\n",
    "    'links_layer': 'links', # name of links layer\n",
    "    'nodes_layer': 'nodes', # name of nodes layer\n",
    "    'impedance': 'dist', # specify which column of the links data should be used for shortest path routing\n",
    "    'service_date': date(2023,3,1),#date(2022, 11, 24), #select day to get service, a weekday was used for this study\n",
    "    'crs': 'epsg:2240', # the desired projected CRS to use\n",
    "    'thresh': 2.5 * 5280, #set candidate stop threshold distance in units of CRS (using bike service area from tcqsm page 5-20)\n",
    "    'tazs_fp': Path.home() / 'Documents/NewBikewaySimData/Data/ARC/Model_Traffic_Analysis_Zones_2020.geojson', # filepath of TAZs or origins/POIs\n",
    "    'keyid': 'OBJECTID', #column with the unique taz/origin id in it\n",
    "    \n",
    "    #this for making the transfers.txt file need for raptor\n",
    "    'transfer_time': 2, # allowed transfer time in minutes (DOES NOT INLCUDE WAIT TIME)\n",
    "    'walk_spd': 3, # assumed walking speed for transfers in miles per hour\n",
    "    \n",
    "    #these are specific to RAPTOR\n",
    "    'NETWORK_NAME': 'martalatest',#'marta',\n",
    "    'MAX_TRANSFER': 2, # no more than 1 transfer\n",
    "    'WALKING_FROM_SOURCE': 0, # if true (1), person can walk to a different transit station from start station\n",
    "    'CHANGE_TIME_SEC': 30, # time to enter/exit vehicle (NOT WAIT TIME)\n",
    "    'PRINT_ITINERARY': 0, # if running individual raptor trips, this prints the outputs\n",
    "    'OPTIMIZED': 0, # read transit-routing documentation, set to 0 for this project\n",
    "    \n",
    "    #times to test, datetime(YYYY,MM,DD,HH,MM,SS,MS)\n",
    "    'first_time': datetime(2023, 3, 1, 4, 30, 0, 0), # original start time is 9am\n",
    "    'end_time': datetime(2023, 3, 2, 00, 30, 0, 0), # original end time is 10am\n",
    "    'timestep': timedelta(minutes=15), # time increments to test (original is 9am,9:20am,9:40am,10am)\n",
    "    'timelimit': timedelta(hours=1), # set the max allowed total travel time in hours\n",
    "    'output_fp': Path.home() / 'Documents/TransitSimData/ABM', #path where you want things to output \n",
    "\n",
    "    #restrict to only starting at rail station\n",
    "    'rail_start' : True\n",
    "    }\n",
    "\n",
    "#bring in od data\n",
    "ods = pd.read_csv(settings['output_fp']/'ods.csv')\n",
    "ods['origin'] = ods['origin'].astype(str)\n",
    "ods['destination'] = ods['destination'].astype(str)\n",
    "#all tazs\n",
    "select_tazs = ods['origin'].unique().tolist()#['1071']#['288','553','411','1071']\n",
    "\n",
    "#check if trip is within 1 hr of the departure time (ABM specific)\n",
    "ods['year'] = settings['service_date'].year\n",
    "ods['month'] = settings['service_date'].month\n",
    "ods['day'] = settings['service_date'].day\n",
    "ods['adj_time'] = pd.to_datetime(ods[['year','month','day','hour','minute']])\n",
    "ods['adjusted'] = ods['adj_time'] + pd.to_timedelta(ods['depart_time'])\n",
    "\n",
    "# bike_settings = {\n",
    "#     'thresh': 5280 * 2.5, # set access/egress thresh\n",
    "#     'max_thresh': 5280 * 2.5 * 2, # set the max biking/walking amount\n",
    "#     'spd': 8,\n",
    "#     'mode':'bike',\n",
    "#     'impedance':'dist',\n",
    "#     'allow_wrongway':False,\n",
    "#     'allow_bus_to_bus':False,\n",
    "#     'overwrite_existing': False\n",
    "#     }\n",
    "\n",
    "walk_settings = {\n",
    "    'thresh': 5280 * 0.5,\n",
    "    'max_thresh': 5280 * 0.5 * 2, #set to twice\n",
    "    'spd': 3,\n",
    "    'mode':'walk',\n",
    "    'impedance':'dist',\n",
    "    'allow_wrongway':True,\n",
    "    'allow_bus_to_bus':True,\n",
    "    'overwrite_existing': True\n",
    "    }\n",
    "\n",
    "#this one assumes bike will be parked at start (removes bus stops from first mile that aren't next to rail)\n",
    "bikewalk_settings = {\n",
    "    'thresh': (5280 * 2.5, 5280 * 0.5),\n",
    "    'max_thresh': 5280 * (3),\n",
    "    'spd': (8,2.5),\n",
    "    'mode':'bikewalk',\n",
    "    'impedance':'dist',\n",
    "    'allow_wrongway':(False,True),\n",
    "    'allow_bus_to_bus':True,\n",
    "    'overwrite_existing': True\n",
    "    }\n"
   ]
  },
  {
   "cell_type": "code",
   "execution_count": null,
   "metadata": {},
   "outputs": [],
   "source": [
    "\n",
    "#create transfers.txt\n",
    "create_transfers(settings)\n",
    "\n",
    "# function that creates the study area and various base layers\n",
    "process_studyarea(settings)\n",
    "\n",
    "candidate_stops_by_taz, centroids = candidate_stops(settings)\n",
    "\n",
    "raptor_preprocessing(settings,bikewalk_settings,select_tazs,ods)\n",
    "raptor_preprocessing(settings,walk_settings,select_tazs,ods)\n"
   ]
  },
  {
   "cell_type": "code",
   "execution_count": null,
   "metadata": {},
   "outputs": [],
   "source": [
    "\n",
    "#change cwd Fix this later\n",
    "cwd = os.getcwd()\n",
    "os.chdir(Path.home()/'Documents/GitHub/transit-routing')\n",
    "\n",
    "#run_raptor(select_tazs,settings,bikewalk_settings,ods)\n",
    "run_raptor(select_tazs,settings,walk_settings,ods)\n",
    "\n",
    "#change back\n",
    "os.chdir(cwd)\n"
   ]
  },
  {
   "cell_type": "code",
   "execution_count": null,
   "metadata": {},
   "outputs": [],
   "source": [
    "\n",
    "impedance = 'dist'\n",
    "modes = ['walk','bikewalk']\n",
    "\n",
    "for mode in modes:#\n",
    "    map_routes(settings,impedance,mode,select_tazs)\n",
    "    viz_and_metrics(settings,impedance,mode,select_tazs)\n"
   ]
  },
  {
   "cell_type": "code",
   "execution_count": null,
   "metadata": {},
   "outputs": [],
   "source": []
  }
 ],
 "metadata": {
  "kernelspec": {
   "display_name": "Python 3 (ipykernel)",
   "language": "python",
   "name": "python3"
  },
  "language_info": {
   "codemirror_mode": {
    "name": "ipython",
    "version": 3
   },
   "file_extension": ".py",
   "mimetype": "text/x-python",
   "name": "python",
   "nbconvert_exporter": "python",
   "pygments_lexer": "ipython3",
   "version": "3.12.3"
  },
  "varInspector": {
   "cols": {
    "lenName": 16,
    "lenType": 16,
    "lenVar": 40
   },
   "kernels_config": {
    "python": {
     "delete_cmd_postfix": "",
     "delete_cmd_prefix": "del ",
     "library": "var_list.py",
     "varRefreshCmd": "print(var_dic_list())"
    },
    "r": {
     "delete_cmd_postfix": ") ",
     "delete_cmd_prefix": "rm(",
     "library": "var_list.r",
     "varRefreshCmd": "cat(var_dic_list()) "
    }
   },
   "types_to_exclude": [
    "module",
    "function",
    "builtin_function_or_method",
    "instance",
    "_Feature"
   ],
   "window_display": false
  },
  "vscode": {
   "interpreter": {
    "hash": "aee8b7b246df8f9039afb4144a1f6fd8d2ca17a180786b69acc140d282b71a49"
   }
  }
 },
 "nbformat": 4,
 "nbformat_minor": 2
}

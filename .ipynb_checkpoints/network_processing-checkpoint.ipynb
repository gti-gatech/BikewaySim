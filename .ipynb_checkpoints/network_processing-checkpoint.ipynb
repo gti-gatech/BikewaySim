{
 "cells": [
  {
   "cell_type": "markdown",
   "id": "38567b57",
   "metadata": {},
   "source": [
    "# Network Processing\n",
    "---\n",
    "\n",
    "#### Run this code block by block to convert a road network(s) in ESRI Shapefile or GeoJSON format into a routable and conflated network graph to use in BikewaySim.\n",
    "\n",
    "Note that three networks were used in this project. While code to obtain OSM GeoJSONs has been included with osm_processing notebook, the ABM and HERE networks need to be sourced from the Atlanta Regional Commission and HERE respectively. You can run most of this code with only OSM data, but you'll need to skip and/or modify some sections."
   ]
  },
  {
   "cell_type": "markdown",
   "id": "b88b22d1",
   "metadata": {},
   "source": [
    "## Import/install the following packages:\n"
   ]
  },
  {
   "cell_type": "code",
   "execution_count": null,
   "id": "81ad7abf",
   "metadata": {},
   "outputs": [],
   "source": [
    "import os\n",
    "from pathlib import Path\n",
    "import time\n",
    "import geopandas as gpd"
   ]
  },
  {
   "cell_type": "markdown",
   "id": "b03212d3",
   "metadata": {},
   "source": [
    "## Import Network Filter Module:"
   ]
  },
  {
   "cell_type": "code",
   "execution_count": null,
   "id": "b9828c49",
   "metadata": {},
   "outputs": [],
   "source": [
    "from network_filter import *"
   ]
  },
  {
   "cell_type": "markdown",
   "id": "4715c76b",
   "metadata": {},
   "source": [
    "## Set Directory:\n",
    "### Modify this directory to where you stored your network shapefiles."
   ]
  },
  {
   "cell_type": "code",
   "execution_count": null,
   "id": "1fbb0f7f",
   "metadata": {},
   "outputs": [],
   "source": [
    "#make directory/pathing more intuitive later\n",
    "file_dir = r\"C:\\Users\\tpassmore6\\Documents\\BikewaySimData\" #directory of bikewaysim network processing code\n",
    "\n",
    "#change this to where you stored this folder\n",
    "os.chdir(file_dir)"
   ]
  },
  {
   "cell_type": "markdown",
   "id": "4b8199e3",
   "metadata": {},
   "source": [
    "## Choose study area:\n",
    "#### Specify what area you want to mask the spatial data by. Only network links that are partially within the study area will be imported. Note: Network links are NOT clipped or split apart."
   ]
  },
  {
   "cell_type": "code",
   "execution_count": null,
   "id": "64370402",
   "metadata": {},
   "outputs": [],
   "source": [
    "studyareafp = r'base_shapefiles/bikewaysim_study_area/bikewaysim_study_area.shp'\n",
    "studyarea_name = 'bikewaysim'\n",
    "#city_of_atlantafp = r'base_shapefiles/coa/Atlanta_City_Limits.shp'\n",
    "#atlanta_regional_commissionfp = r'base_shapefiles/arc/arc_bounds.shp'\n",
    "\n",
    "desired_crs = \"EPSG:2240\"\n",
    "\n",
    "#add new study areas if desired\n",
    "studyarea = import_study_area(studyareafp, studyarea_name, desired_crs)"
   ]
  },
  {
   "cell_type": "markdown",
   "id": "c91a615f",
   "metadata": {},
   "source": [
    "## Network Mapper\n",
    "This is how network node ID's will be identified and coded\n",
    "- the first number in the node ID represents its origin network\n",
    "- all numbers after that are the original network ID "
   ]
  },
  {
   "cell_type": "code",
   "execution_count": null,
   "id": "bd6f7839",
   "metadata": {},
   "outputs": [],
   "source": [
    "network_mapper = {\n",
    "    \"abm\": \"1\",\n",
    "    \"here\": \"2\",\n",
    "    \"osm\": \"3\",\n",
    "    \"original\": \"0\",\n",
    "    \"generated\": \"1\"\n",
    "}"
   ]
  },
  {
   "cell_type": "markdown",
   "id": "49506ea4",
   "metadata": {},
   "source": [
    "## Network Data Filepaths:"
   ]
  },
  {
   "cell_type": "code",
   "execution_count": null,
   "id": "cee736d7",
   "metadata": {},
   "outputs": [],
   "source": [
    "abmfp = r'base_shapefiles/arc/ABM2020-TIP20-2020-150kShapefiles-outputs.gdb'\n",
    "herefp = r'base_shapefiles/here/Streets.shp'\n",
    "osmfp = r'base_shapefiles/osm/osm_links.geojson'"
   ]
  },
  {
   "cell_type": "markdown",
   "id": "16726331",
   "metadata": {},
   "source": [
    "## Set Network Import Settings\n",
    "#### Create a dictionary for use in filter networks function. \n",
    "#### For new networks follow this format:\n",
    "```python\n",
    "network = {\n",
    "       \"studyarea\": studyarea, #geodataframe of the study area\n",
    "       \"studyarea_name\": studyarea_name, #name for the study area\n",
    "       \"networkfp\": networkfp, #filepath for the network, specified earlier\n",
    "       \"network_name\": 'abm', #name for the network being evaluated\n",
    "       \"network_mapper\": network_mapper, #leave this, edit in the block before\n",
    "       \"A\": \"A\", #column with the starting node id; replace with None if there isn't a column\n",
    "       \"B\": \"B\", #column with the ending node id; replace with None if there isn't a column\n",
    "       \"layer\": 0 #if network has layers, then specify which layer to look at; if no layers then leave as 0 \n",
    "       }\n",
    "```"
   ]
  },
  {
   "cell_type": "code",
   "execution_count": null,
   "id": "79467d56",
   "metadata": {},
   "outputs": [],
   "source": [
    "#abm inputs\n",
    "abm = {\n",
    "       \"studyarea\": studyarea,\n",
    "       \"studyarea_name\": studyarea_name,\n",
    "       \"networkfp\": abmfp,\n",
    "       \"network_name\": 'abm',\n",
    "       \"network_mapper\": network_mapper,\n",
    "       \"A\": \"A\",\n",
    "       \"B\": \"B\",\n",
    "       \"layer\": \"DAILY_LINK\"\n",
    "       }\n",
    "\n",
    "#here inputs\n",
    "here = {\n",
    "       \"studyarea\": studyarea,\n",
    "       \"studyarea_name\": studyarea_name,\n",
    "       \"networkfp\": herefp,\n",
    "       \"network_name\": 'here',\n",
    "       \"network_mapper\": network_mapper,\n",
    "       \"A\": \"REF_IN_ID\",\n",
    "       \"B\": \"NREF_IN_ID\",\n",
    "       \"layer\": 0,\n",
    "       \"network_mapper\": network_mapper\n",
    "       }\n",
    "\n",
    "osm = {\n",
    "      \"studyarea\": studyarea,\n",
    "       \"studyarea_name\": studyarea_name,\n",
    "       \"networkfp\": osmfp,\n",
    "       \"network_name\": 'osm',\n",
    "       \"network_mapper\": network_mapper,\n",
    "       \"A\": 'A',\n",
    "       \"B\": 'B',\n",
    "       \"layer\": 0,\n",
    "       }"
   ]
  },
  {
   "cell_type": "markdown",
   "id": "b0afe599",
   "metadata": {},
   "source": [
    "## Run Network Filter Module to Create Initial Subnetworks\n",
    "From the network_filter.py file run the filter networks function. This will first import the spatial data and then filter the data into a base, road, bike, or serivce link. \n",
    "**Note: If this is the a new network that is not OSM, HERE, or ABM then specify a new filter method by going into the network_filter.py file.** Otherwise, none of the links will be filtered into road/bike/service links. **Also note: all spatial files are being projected to EPSG 2240 right now.** Need to modify later.\n"
   ]
  },
  {
   "cell_type": "markdown",
   "id": "8274c1ce",
   "metadata": {},
   "source": [
    "## Filter ABM"
   ]
  },
  {
   "cell_type": "code",
   "execution_count": null,
   "id": "d880d7a4",
   "metadata": {},
   "outputs": [],
   "source": [
    "filter_networks(**abm)"
   ]
  },
  {
   "cell_type": "markdown",
   "id": "b53c4b2a",
   "metadata": {},
   "source": [
    "## Filter HERE"
   ]
  },
  {
   "cell_type": "code",
   "execution_count": null,
   "id": "a0ff8c53",
   "metadata": {},
   "outputs": [],
   "source": [
    "filter_networks(**here)"
   ]
  },
  {
   "cell_type": "markdown",
   "id": "3c52d3cb",
   "metadata": {},
   "source": [
    "## Filter OSM"
   ]
  },
  {
   "cell_type": "code",
   "execution_count": null,
   "id": "0ec22fc8",
   "metadata": {},
   "outputs": [],
   "source": [
    "filter_networks(**osm)"
   ]
  },
  {
   "cell_type": "markdown",
   "id": "b2b87e35",
   "metadata": {},
   "source": [
    "## Summurize filtered networks\n",
    "#### Prints out:\n",
    "- Number of nodes\n",
    "- Number of links\n",
    "- Total length of all links\n",
    "- Average link length"
   ]
  },
  {
   "cell_type": "code",
   "execution_count": null,
   "id": "573a85c8",
   "metadata": {},
   "outputs": [],
   "source": [
    "from network_summary_stats import * \n",
    "\n",
    "#network names to look for, will search your directory for network name\n",
    "networks = [\"abm\",\"here\",\"osm\"]\n",
    "studyarea_name = \"bikewaysim\"\n",
    "\n",
    "#summurize networks and export summary as \"network_summary.csv in the working directory\n",
    "sum_all_networks(networks, studyarea_name)"
   ]
  },
  {
   "cell_type": "markdown",
   "id": "68d38476",
   "metadata": {},
   "source": [
    "## Conflation Process\n",
    "In this step, the networks are conflated to each other by utilizing functions in the network_conflation.py module"
   ]
  },
  {
   "cell_type": "markdown",
   "id": "c09507c7",
   "metadata": {},
   "source": [
    "i like to remove all of the columns that aren't related to node_id or geometry for this step. To make sure we preserve link information I also make a A_B column\n",
    "\n",
    "\n",
    "there are three main function in conflation module. The first just matches nearest points.\n",
    "\n",
    "The second will find the nearest spot on a link and create new points\n",
    "\n",
    "The last is a function that deals with removing links/nodes that have already been considered"
   ]
  },
  {
   "cell_type": "markdown",
   "id": "afffb025",
   "metadata": {},
   "source": [
    "\n",
    "#only select columns that correspond to A, B, and geo\n",
    "\n",
    "#create an A_B column\n",
    "\n",
    "#determine what you want the base network to be, and which order you want to conflate in\n",
    "#for this project, ABM was the base with HERE followed by OSM as the joining ones.\n",
    "\n",
    "\n",
    "\n",
    "\n",
    "#do this step outside of the function\n",
    "\n",
    "#Filter joining network\n",
    "This should make it so that the only joining nodes that the base nodes can join to represent real intersections\n",
    "<code>joining_nodes = joining_nodes[joining_nodes[f'{joining_name}_num_links'] != 2 ].reset_index(drop=True)<code>\n"
   ]
  },
  {
   "cell_type": "code",
   "execution_count": null,
   "id": "0e8f2161",
   "metadata": {},
   "outputs": [],
   "source": [
    "from conflation_tools import *\n",
    "\n",
    "#import importlib\n",
    "#importlib.reload(conflation_tools)"
   ]
  },
  {
   "cell_type": "markdown",
   "id": "7b3e48ea",
   "metadata": {},
   "source": [
    "### Links and Nodes to Conflate"
   ]
  },
  {
   "cell_type": "code",
   "execution_count": null,
   "id": "a02c827f",
   "metadata": {},
   "outputs": [],
   "source": [
    "base_name = \"abm\"\n",
    "join_name = \"here\"\n",
    "\n",
    "#road layers\n",
    "base_links = gpd.read_file(r\"processed_shapefiles/abm/abm_bikewaysim_road_links.geojson\")\n",
    "base_nodes = gpd.read_file(r\"processed_shapefiles/abm/abm_bikewaysim_road_nodes.geojson\")\n",
    "join_links = gpd.read_file(r\"processed_shapefiles/here/here_bikewaysim_road_links.geojson\")\n",
    "join_nodes = gpd.read_file(r\"processed_shapefiles/here/here_bikewaysim_road_nodes.geojson\")\n",
    "\n",
    "#bike layers\n",
    "bike_links = gpd.read_file(r'processed_shapefiles/here/here_bikewaysim_bike_links.geojson')\n",
    "bike_nodes = gpd.read_file(r'processed_shapefiles/here/here_bikewaysim_bike_nodes.geojson')\n",
    "bike_name = 'here'\n"
   ]
  },
  {
   "cell_type": "markdown",
   "id": "c352c106",
   "metadata": {},
   "source": [
    "### Cleaning to get rid of excess columns"
   ]
  },
  {
   "cell_type": "code",
   "execution_count": null,
   "id": "e6a033c5",
   "metadata": {},
   "outputs": [],
   "source": [
    "base_links, base_nodes = cleaning_process(base_links,base_nodes,base_name)\n",
    "join_links, join_nodes = cleaning_process(join_links,join_nodes,join_name)\n",
    "\n",
    "#clean excess columns\n",
    "bike_links, bike_nodes = cleaning_process(bike_links,bike_nodes,bike_name)"
   ]
  },
  {
   "cell_type": "markdown",
   "id": "f22be951",
   "metadata": {},
   "source": [
    "### Node Matching"
   ]
  },
  {
   "cell_type": "code",
   "execution_count": null,
   "id": "250cbead",
   "metadata": {},
   "outputs": [],
   "source": [
    "#first match the nodes, can repeat this by adding in previously matched_nodes\n",
    "tolerance_ft = 25\n",
    "matched_nodes, unmatched_base_nodes, unmatched_join_nodes = match_nodes(base_nodes, base_name, join_nodes, join_name, tolerance_ft, prev_matched_nodes=None)\n",
    "\n",
    "#join the matched nodes to the base nodes once done with matching\n",
    "matched_nodes_final = pd.merge(base_nodes, matched_nodes, on = f'{base_name}_ID', how = \"left\")"
   ]
  },
  {
   "cell_type": "markdown",
   "id": "9a78fd0c",
   "metadata": {},
   "source": [
    "### Link Splitting and Add New Links and Nodes"
   ]
  },
  {
   "cell_type": "code",
   "execution_count": null,
   "id": "502d1457",
   "metadata": {},
   "outputs": [],
   "source": [
    "#create new node and lines from the base links by splitting lines can repeat after the add_new_links_nodes function\n",
    "tolerance_ft = 25\n",
    "split_lines, split_nodes, unmatched_join_nodes = split_lines_create_points(unmatched_join_nodes, join_name, base_links, base_name, tolerance_ft, export = False)\n",
    "split_lines.head()"
   ]
  },
  {
   "cell_type": "code",
   "execution_count": null,
   "id": "28112007",
   "metadata": {},
   "outputs": [],
   "source": [
    "#add new links and nodes to the base links and nodes created from split_lines_create_points function\n",
    "new_links, new_nodes = add_new_links_nodes(base_links, matched_nodes_final, split_lines, split_nodes, base_name)\n",
    "new_links.head()"
   ]
  },
  {
   "cell_type": "markdown",
   "id": "7f88f580",
   "metadata": {},
   "source": [
    "### Attribute Add"
   ]
  },
  {
   "cell_type": "code",
   "execution_count": null,
   "id": "665c4987",
   "metadata": {},
   "outputs": [],
   "source": [
    "#match attribute information with greatest overlap from joining links\n",
    "new_base_links_w_attr = add_attributes(new_links, base_name, join_links, join_name)\n",
    "new_base_links_w_attr.head()"
   ]
  },
  {
   "cell_type": "markdown",
   "id": "1491c88d",
   "metadata": {},
   "source": [
    "### Add rest of features"
   ]
  },
  {
   "cell_type": "code",
   "execution_count": null,
   "id": "ac75302e",
   "metadata": {},
   "outputs": [],
   "source": [
    "#add unrepresented features from joining by looking at the attributes added in prevoius step for links and the list of matched nodes\n",
    "added_base_links, added_base_nodes = add_rest_of_features(new_base_links_w_attr,new_nodes,base_name,join_links,join_nodes,join_name)"
   ]
  },
  {
   "cell_type": "markdown",
   "id": "a57f17a6",
   "metadata": {},
   "source": [
    "### Merge with other networks"
   ]
  },
  {
   "cell_type": "code",
   "execution_count": null,
   "id": "7fc36d8d",
   "metadata": {},
   "outputs": [],
   "source": [
    "tolerance_ft = 25\n",
    "merged_links, merged_nodes = merge_diff_networks(added_base_links, added_base_nodes, 'road', bike_links, bike_nodes, 'bike', tolerance_ft)"
   ]
  },
  {
   "cell_type": "markdown",
   "id": "39afc6e5",
   "metadata": {},
   "source": [
    "### Repeat for OSM"
   ]
  },
  {
   "cell_type": "code",
   "execution_count": null,
   "id": "b8bed4fe",
   "metadata": {},
   "outputs": [],
   "source": [
    "base_name = \"abm\"\n",
    "join_name = \"osm\"\n",
    "\n",
    "#road layers\n",
    "base_links = merged\n",
    "base_nodes = merged_nodes\n",
    "join_links = gpd.read_file(r\"processed_shapefiles/here/here_bikewaysim_road_links.geojson\")\n",
    "join_nodes = gpd.read_file(r\"processed_shapefiles/here/here_bikewaysim_road_nodes.geojson\")\n",
    "\n",
    "#bike layers\n",
    "bike_links = gpd.read_file(r'processed_shapefiles/here/here_bikewaysim_bike_links.geojson')\n",
    "bike_nodes = gpd.read_file(r'processed_shapefiles/here/here_bikewaysim_bike_nodes.geojson')\n",
    "bike_name = 'here'"
   ]
  },
  {
   "cell_type": "code",
   "execution_count": null,
   "id": "a9c4edc7",
   "metadata": {},
   "outputs": [],
   "source": []
  },
  {
   "cell_type": "code",
   "execution_count": null,
   "id": "a409ca3c",
   "metadata": {},
   "outputs": [],
   "source": []
  },
  {
   "cell_type": "code",
   "execution_count": null,
   "id": "70db1bb4",
   "metadata": {},
   "outputs": [],
   "source": []
  },
  {
   "cell_type": "markdown",
   "id": "9566e2a8",
   "metadata": {},
   "source": [
    "### Add reference"
   ]
  },
  {
   "cell_type": "code",
   "execution_count": null,
   "id": "f57ea721",
   "metadata": {},
   "outputs": [],
   "source": [
    "# match reference IDs based on all the id in the nodes\n",
    "refid_base_links = add_reference_ids(merged_links, merged_nodes)"
   ]
  },
  {
   "cell_type": "code",
   "execution_count": null,
   "id": "0e1a1a5c",
   "metadata": {},
   "outputs": [],
   "source": [
    "refid_base_links.head()"
   ]
  },
  {
   "cell_type": "markdown",
   "id": "6c3f350e",
   "metadata": {},
   "source": [
    "### Export"
   ]
  },
  {
   "cell_type": "code",
   "execution_count": null,
   "id": "238351f7",
   "metadata": {},
   "outputs": [],
   "source": [
    "refid_base_links.to_file(r'processed_shapefiles\\conflation\\final_links.geojson', driver = 'GeoJSON')\n",
    "merged_nodes.to_file(r'processed_shapefiles\\conflation\\final_nodes.geojson', driver = 'GeoJSON')"
   ]
  },
  {
   "cell_type": "markdown",
   "id": "0679bb5c",
   "metadata": {},
   "source": [
    "## Convert for use in BikewaySim\n",
    "\n",
    "This last section focusses on making sure that the conflated network is readable by BikewaySim. After this is completed, you can run the Running BikwaySim notebook."
   ]
  },
  {
   "cell_type": "code",
   "execution_count": 23,
   "id": "b515e7d7",
   "metadata": {},
   "outputs": [],
   "source": [
    "import os\n",
    "from pathlib import Path\n",
    "import time\n",
    "import pandas as pd\n",
    "import geopandas as gpd\n",
    "import pickle\n",
    "\n",
    "#make directory/pathing more intuitive later\n",
    "file_dir = r\"C:\\Users\\tpassmore6\\Documents\\BikewaySimData\" #directory of bikewaysim network processing code\n",
    "\n",
    "#change this to where you stored this folder\n",
    "os.chdir(file_dir)"
   ]
  },
  {
   "cell_type": "markdown",
   "id": "a6cc0b46",
   "metadata": {},
   "source": [
    "### Specify filepaths"
   ]
  },
  {
   "cell_type": "code",
   "execution_count": 24,
   "id": "7b157ae9",
   "metadata": {},
   "outputs": [],
   "source": [
    "#filepath for conflated network\n",
    "conflated_linksfp = r'processed_shapefiles\\conflation\\final_links.geojson'\n",
    "conflated_nodesfp = r'processed_shapefiles\\conflation\\final_nodes.geojson'\n",
    "\n",
    "#filepaths for network attribute data (doesn't have to be a shapefile)\n",
    "abm_linksfp = r'processed_shapefiles\\abm\\abm_bikewaysim_base_links.geojson'\n",
    "here_linksfp = r'processed_shapefiles\\here\\here_bikewaysim_base_links.geojson'\n",
    "osm_linksfp = r'base_shapefiles\\osm\\osm_links_attr.p'"
   ]
  },
  {
   "cell_type": "markdown",
   "id": "4da76942",
   "metadata": {},
   "source": [
    "#### Node cleaning and export"
   ]
  },
  {
   "cell_type": "code",
   "execution_count": 37,
   "id": "5c8c0521",
   "metadata": {},
   "outputs": [
    {
     "data": {
      "text/html": [
       "<div>\n",
       "<style scoped>\n",
       "    .dataframe tbody tr th:only-of-type {\n",
       "        vertical-align: middle;\n",
       "    }\n",
       "\n",
       "    .dataframe tbody tr th {\n",
       "        vertical-align: top;\n",
       "    }\n",
       "\n",
       "    .dataframe thead th {\n",
       "        text-align: right;\n",
       "    }\n",
       "</style>\n",
       "<table border=\"1\" class=\"dataframe\">\n",
       "  <thead>\n",
       "    <tr style=\"text-align: right;\">\n",
       "      <th></th>\n",
       "      <th>N</th>\n",
       "      <th>X</th>\n",
       "      <th>Y</th>\n",
       "      <th>lon</th>\n",
       "      <th>lat</th>\n",
       "      <th>geometry</th>\n",
       "    </tr>\n",
       "  </thead>\n",
       "  <tbody>\n",
       "    <tr>\n",
       "      <th>0</th>\n",
       "      <td>1010848</td>\n",
       "      <td>2.233266e+06</td>\n",
       "      <td>1.384663e+06</td>\n",
       "      <td>-84.375115</td>\n",
       "      <td>33.806352</td>\n",
       "      <td>POINT (-84.37512 33.80635)</td>\n",
       "    </tr>\n",
       "    <tr>\n",
       "      <th>1</th>\n",
       "      <td>1010851</td>\n",
       "      <td>2.230980e+06</td>\n",
       "      <td>1.375203e+06</td>\n",
       "      <td>-84.382575</td>\n",
       "      <td>33.780342</td>\n",
       "      <td>POINT (-84.38258 33.78034)</td>\n",
       "    </tr>\n",
       "    <tr>\n",
       "      <th>2</th>\n",
       "      <td>1010854</td>\n",
       "      <td>2.231248e+06</td>\n",
       "      <td>1.375719e+06</td>\n",
       "      <td>-84.381695</td>\n",
       "      <td>33.781762</td>\n",
       "      <td>POINT (-84.38170 33.78176)</td>\n",
       "    </tr>\n",
       "    <tr>\n",
       "      <th>3</th>\n",
       "      <td>1010856</td>\n",
       "      <td>2.231166e+06</td>\n",
       "      <td>1.375716e+06</td>\n",
       "      <td>-84.381965</td>\n",
       "      <td>33.781752</td>\n",
       "      <td>POINT (-84.38197 33.78175)</td>\n",
       "    </tr>\n",
       "    <tr>\n",
       "      <th>4</th>\n",
       "      <td>10125456</td>\n",
       "      <td>2.226988e+06</td>\n",
       "      <td>1.374225e+06</td>\n",
       "      <td>-84.395705</td>\n",
       "      <td>33.777632</td>\n",
       "      <td>POINT (-84.39570 33.77763)</td>\n",
       "    </tr>\n",
       "  </tbody>\n",
       "</table>\n",
       "</div>"
      ],
      "text/plain": [
       "          N             X             Y        lon        lat  \\\n",
       "0   1010848  2.233266e+06  1.384663e+06 -84.375115  33.806352   \n",
       "1   1010851  2.230980e+06  1.375203e+06 -84.382575  33.780342   \n",
       "2   1010854  2.231248e+06  1.375719e+06 -84.381695  33.781762   \n",
       "3   1010856  2.231166e+06  1.375716e+06 -84.381965  33.781752   \n",
       "4  10125456  2.226988e+06  1.374225e+06 -84.395705  33.777632   \n",
       "\n",
       "                     geometry  \n",
       "0  POINT (-84.37512 33.80635)  \n",
       "1  POINT (-84.38258 33.78034)  \n",
       "2  POINT (-84.38170 33.78176)  \n",
       "3  POINT (-84.38197 33.78175)  \n",
       "4  POINT (-84.39570 33.77763)  "
      ]
     },
     "execution_count": 37,
     "metadata": {},
     "output_type": "execute_result"
    }
   ],
   "source": [
    "#import conflated nodes\n",
    "conflated_nodes = gpd.read_file(conflated_nodesfp)\n",
    "\n",
    "#drop the num links columns\n",
    "conflated_nodes = conflated_nodes.drop(columns=['abm_num_links','here_num_links'])\n",
    "\n",
    "#create an N column that takes the abm_id if avaiable followed by the here_id\n",
    "func = lambda row: row['here_ID'] if row['abm_ID'] == None else row['abm_ID']\n",
    "conflated_nodes['N'] = conflated_nodes.apply(func,axis=1)\n",
    "\n",
    "#create UTM coords columns\n",
    "conflated_nodes['X'] = conflated_nodes.geometry.x\n",
    "conflated_nodes['Y'] = conflated_nodes.geometry.y\n",
    "\n",
    "#reproject and find latlon\n",
    "conflated_nodes = conflated_nodes.to_crs(epsg=4326)\n",
    "conflated_nodes['lon'] = conflated_nodes.geometry.x\n",
    "conflated_nodes['lat'] = conflated_nodes.geometry.y\n",
    "\n",
    "#filter\n",
    "conflated_nodes = conflated_nodes[['N','X','Y','lon','lat','geometry']]\n",
    "\n",
    "#export\n",
    "conflated_nodes.to_file(r'processed_shapefiles\\prepared_network\\nodes\\nodes.geojson',driver='GeoJSON')\n",
    "conlfated_nodes = conflated_nodes.drop(columns=['geometry'])\n",
    "conflated_nodes.to_csv(r'processed_shapefiles\\prepared_network\\nodes\\nodes.csv')"
   ]
  },
  {
   "cell_type": "markdown",
   "id": "d853787a",
   "metadata": {},
   "source": [
    "### Link cleaning and export"
   ]
  },
  {
   "cell_type": "code",
   "execution_count": 26,
   "id": "fb2ed80a",
   "metadata": {},
   "outputs": [],
   "source": [
    "#import conflated network\n",
    "conflated_links = gpd.read_file(conflated_linksfp)"
   ]
  },
  {
   "cell_type": "markdown",
   "id": "a9f73aec",
   "metadata": {},
   "source": [
    "#### Merging function"
   ]
  },
  {
   "cell_type": "code",
   "execution_count": 27,
   "id": "6ea37fab",
   "metadata": {},
   "outputs": [],
   "source": [
    "def merge_network_and_attributes(conflated_links,attr_network,cols_to_keep):\n",
    "    #find the shared columns between conflated network and attribute network\n",
    "    shared_cols = list(conflated_links.columns[conflated_links.columns.isin(attr_network.columns)])\n",
    "\n",
    "    if len(shared_cols) > 2:\n",
    "        #merge based on shared columns\n",
    "        conflated_links = pd.merge(conflated_links,attr_network[cols_to_keep + shared_cols],on=shared_cols,how='left')\n",
    "        print(conflated_links.head(20))\n",
    "    else:\n",
    "        print(f'Attr_network columns not in conflated network')\n",
    "    return conflated_links"
   ]
  },
  {
   "cell_type": "code",
   "execution_count": 28,
   "id": "83f5be50",
   "metadata": {},
   "outputs": [
    {
     "name": "stdout",
     "output_type": "stream",
     "text": [
      "             abm_A_B                  here_A_B    abm_A      here_A     abm_B  \\\n",
      "0   1010848_10340018   201063859187_2017289087  1010848  2017289087  10340018   \n",
      "1    1010854_1010856     2017289109_2017289100  1010854  2017289100   1010856   \n",
      "2    1013524_1053435     2044584013_2030636889  1013524  2030636889   1053435   \n",
      "3   1013524_10299911     2030636889_2044584017  1013524  2030636889  10299911   \n",
      "4    1013525_1053438   201181585260_2044584017  1013525  2030636890   1053438   \n",
      "5   1013594_10299904    2030638752_20979715708  1013594  2030638752  10299904   \n",
      "6   1013595_10300685    20979791869_2030638844  1013595  2030638844  10300685   \n",
      "7   1013595_10300687    2030638844_20979791871  1013595  2030638844  10300687   \n",
      "8   1048680_10300690    20979792205_2044571513  1048680  2044571513  10300690   \n",
      "9   1048681_10300690    2044571517_20979792205  1048681  2044571517  10300690   \n",
      "10   1048684_1048699     2044571548_2044571524  1048684  2044571524   1048699   \n",
      "11  1048684_10202745    2044571524_20304621068  1048684  2044571524  10202745   \n",
      "12  1048684_10280694  20916207116_201156245885  1048684  2044571524  10280694   \n",
      "13  1048687_10233385    20810377134_2044571530  1048687  2044571530  10233385   \n",
      "14   1048688_1048687     2044571530_2044571531  1048688  2044571531   1048687   \n",
      "15  1048695_10202750    2044571540_20304621155  1048695  2044571540  10202750   \n",
      "16   1048696_1048697     2044571541_2044571546  1048696  2044571541   1048697   \n",
      "17  1048697_10202750    20304621155_2044571546  1048697  2044571546  10202750   \n",
      "18   1048700_1048696     2044571561_2044571541  1048700  2044571561   1048696   \n",
      "19  1048706_10276787   201181681236_2044571576  1048706  2044571576  10276787   \n",
      "\n",
      "          here_B                                           geometry  \\\n",
      "0   201063859187  LINESTRING (2233265.865 1384662.528, 2233329.3...   \n",
      "1     2017289109  LINESTRING (2231248.476 1375719.070, 2231166.4...   \n",
      "2     2044584013  LINESTRING (2239431.313 1375903.192, 2239373.5...   \n",
      "3           None  LINESTRING (2239431.313 1375903.192, 2239452.5...   \n",
      "4     2044584017  LINESTRING (2239619.442 1375764.578, 2239568.0...   \n",
      "5    20979715708  LINESTRING (2239159.792 1378614.526, 2239162.8...   \n",
      "6    20979791869  LINESTRING (2240398.489 1379823.968, 2240374.1...   \n",
      "7    20979791871  LINESTRING (2240398.489 1379823.968, 2240441.1...   \n",
      "8    20979792205  LINESTRING (2223786.066 1373104.741, 2223813.3...   \n",
      "9    20979792205  LINESTRING (2223858.775 1373009.966, 2223813.3...   \n",
      "10    2044571548  LINESTRING (2223553.208 1373585.593, 2223610.6...   \n",
      "11   20304621068  LINESTRING (2223553.208 1373585.593, 2223629.3...   \n",
      "12   20916207116  LINESTRING (2223553.208 1373585.593, 2223422.1...   \n",
      "13   20810377134  LINESTRING (2223448.343 1374222.613, 2223463.3...   \n",
      "14    2044571530  LINESTRING (2223430.426 1374357.287, 2223448.3...   \n",
      "15   20304621155  LINESTRING (2223394.593 1374626.636, 2223404.0...   \n",
      "16    2044571546  LINESTRING (2223655.661 1374520.504, 2223522.3...   \n",
      "17   20304621155  LINESTRING (2223413.623 1374968.631, 2223404.0...   \n",
      "18    2044571541  LINESTRING (2223767.714 1374360.140, 2223719.2...   \n",
      "19          None  LINESTRING (2224812.507 1372825.830, 2224691.1...   \n",
      "\n",
      "                                      NAME  SPEEDLIMIT two_way  \n",
      "0                             MONROE DR NE        30.0    True  \n",
      "1                               10TH ST NE        35.0    True  \n",
      "2                          VIRGINIA AVE NE        30.0    True  \n",
      "3                          VIRGINIA AVE NE        30.0    True  \n",
      "4                        N HIGHLAND AVE NE        30.0    True  \n",
      "5                        N HIGHLAND AVE NE        30.0    True  \n",
      "6                        N HIGHLAND AVE NE        30.0    True  \n",
      "7                        N HIGHLAND AVE NE        30.0    True  \n",
      "8                           MARIETTA ST NW        30.0    True  \n",
      "9                           MARIETTA ST NW        30.0    True  \n",
      "10                          MARIETTA ST NW        30.0    True  \n",
      "11  GA-3 / US-19 / US-41 (NORTHSIDE DR NW)        35.0   False  \n",
      "12  GA-3 / US-19 / US-41 (NORTHSIDE DR NW)        35.0    True  \n",
      "13  GA-3 / US-19 / US-41 (NORTHSIDE DR NW)        35.0   False  \n",
      "14  GA-3 / US-19 / US-41 (NORTHSIDE DR NW)        35.0   False  \n",
      "15  GA-3 / US-19 / US-41 (NORTHSIDE DR NW)        35.0    True  \n",
      "16  GA-3 / US-19 / US-41 (NORTHSIDE DR NW)        35.0   False  \n",
      "17  GA-3 / US-19 / US-41 (NORTHSIDE DR NW)        35.0    True  \n",
      "18  GA-3 / US-19 / US-41 (NORTHSIDE DR NW)        35.0   False  \n",
      "19                            TECH PKWY NW        30.0    True  \n"
     ]
    }
   ],
   "source": [
    "#import data with attributes, don't bring in geometry\n",
    "abm_links = gpd.read_file(abm_linksfp,ignore_geometry=True)\n",
    "\n",
    "#specify which columns you need\n",
    "cols_to_keep = ['NAME','SPEEDLIMIT','two_way']\n",
    "\n",
    "#perform the merge\n",
    "conflated_links = merge_network_and_attributes(conflated_links,abm_links,cols_to_keep)\n",
    "\n",
    "#delete data with attributes to free up memory\n",
    "del(abm_links)"
   ]
  },
  {
   "cell_type": "code",
   "execution_count": 29,
   "id": "03ea9b67",
   "metadata": {},
   "outputs": [
    {
     "name": "stdout",
     "output_type": "stream",
     "text": [
      "             abm_A_B                  here_A_B    abm_A      here_A     abm_B  \\\n",
      "0   1010848_10340018   201063859187_2017289087  1010848  2017289087  10340018   \n",
      "1    1010854_1010856     2017289109_2017289100  1010854  2017289100   1010856   \n",
      "2    1013524_1053435     2044584013_2030636889  1013524  2030636889   1053435   \n",
      "3   1013524_10299911     2030636889_2044584017  1013524  2030636889  10299911   \n",
      "4    1013525_1053438   201181585260_2044584017  1013525  2030636890   1053438   \n",
      "5   1013594_10299904    2030638752_20979715708  1013594  2030638752  10299904   \n",
      "6   1013595_10300685    20979791869_2030638844  1013595  2030638844  10300685   \n",
      "7   1013595_10300687    2030638844_20979791871  1013595  2030638844  10300687   \n",
      "8   1048680_10300690    20979792205_2044571513  1048680  2044571513  10300690   \n",
      "9   1048681_10300690    2044571517_20979792205  1048681  2044571517  10300690   \n",
      "10   1048684_1048699     2044571548_2044571524  1048684  2044571524   1048699   \n",
      "11  1048684_10202745    2044571524_20304621068  1048684  2044571524  10202745   \n",
      "12  1048684_10280694  20916207116_201156245885  1048684  2044571524  10280694   \n",
      "13  1048687_10233385    20810377134_2044571530  1048687  2044571530  10233385   \n",
      "14   1048688_1048687     2044571530_2044571531  1048688  2044571531   1048687   \n",
      "15  1048695_10202750    2044571540_20304621155  1048695  2044571540  10202750   \n",
      "16   1048696_1048697     2044571541_2044571546  1048696  2044571541   1048697   \n",
      "17  1048697_10202750    20304621155_2044571546  1048697  2044571546  10202750   \n",
      "18   1048700_1048696     2044571561_2044571541  1048700  2044571561   1048696   \n",
      "19  1048706_10276787   201181681236_2044571576  1048706  2044571576  10276787   \n",
      "\n",
      "          here_B                                           geometry  \\\n",
      "0   201063859187  LINESTRING (2233265.865 1384662.528, 2233329.3...   \n",
      "1     2017289109  LINESTRING (2231248.476 1375719.070, 2231166.4...   \n",
      "2     2044584013  LINESTRING (2239431.313 1375903.192, 2239373.5...   \n",
      "3           None  LINESTRING (2239431.313 1375903.192, 2239452.5...   \n",
      "4     2044584017  LINESTRING (2239619.442 1375764.578, 2239568.0...   \n",
      "5    20979715708  LINESTRING (2239159.792 1378614.526, 2239162.8...   \n",
      "6    20979791869  LINESTRING (2240398.489 1379823.968, 2240374.1...   \n",
      "7    20979791871  LINESTRING (2240398.489 1379823.968, 2240441.1...   \n",
      "8    20979792205  LINESTRING (2223786.066 1373104.741, 2223813.3...   \n",
      "9    20979792205  LINESTRING (2223858.775 1373009.966, 2223813.3...   \n",
      "10    2044571548  LINESTRING (2223553.208 1373585.593, 2223610.6...   \n",
      "11   20304621068  LINESTRING (2223553.208 1373585.593, 2223629.3...   \n",
      "12   20916207116  LINESTRING (2223553.208 1373585.593, 2223422.1...   \n",
      "13   20810377134  LINESTRING (2223448.343 1374222.613, 2223463.3...   \n",
      "14    2044571530  LINESTRING (2223430.426 1374357.287, 2223448.3...   \n",
      "15   20304621155  LINESTRING (2223394.593 1374626.636, 2223404.0...   \n",
      "16    2044571546  LINESTRING (2223655.661 1374520.504, 2223522.3...   \n",
      "17   20304621155  LINESTRING (2223413.623 1374968.631, 2223404.0...   \n",
      "18    2044571541  LINESTRING (2223767.714 1374360.140, 2223719.2...   \n",
      "19          None  LINESTRING (2224812.507 1372825.830, 2224691.1...   \n",
      "\n",
      "                                      NAME  SPEEDLIMIT two_way  \\\n",
      "0                             MONROE DR NE        30.0    True   \n",
      "1                               10TH ST NE        35.0    True   \n",
      "2                          VIRGINIA AVE NE        30.0    True   \n",
      "3                          VIRGINIA AVE NE        30.0    True   \n",
      "4                        N HIGHLAND AVE NE        30.0    True   \n",
      "5                        N HIGHLAND AVE NE        30.0    True   \n",
      "6                        N HIGHLAND AVE NE        30.0    True   \n",
      "7                        N HIGHLAND AVE NE        30.0    True   \n",
      "8                           MARIETTA ST NW        30.0    True   \n",
      "9                           MARIETTA ST NW        30.0    True   \n",
      "10                          MARIETTA ST NW        30.0    True   \n",
      "11  GA-3 / US-19 / US-41 (NORTHSIDE DR NW)        35.0   False   \n",
      "12  GA-3 / US-19 / US-41 (NORTHSIDE DR NW)        35.0    True   \n",
      "13  GA-3 / US-19 / US-41 (NORTHSIDE DR NW)        35.0   False   \n",
      "14  GA-3 / US-19 / US-41 (NORTHSIDE DR NW)        35.0   False   \n",
      "15  GA-3 / US-19 / US-41 (NORTHSIDE DR NW)        35.0    True   \n",
      "16  GA-3 / US-19 / US-41 (NORTHSIDE DR NW)        35.0   False   \n",
      "17  GA-3 / US-19 / US-41 (NORTHSIDE DR NW)        35.0    True   \n",
      "18  GA-3 / US-19 / US-41 (NORTHSIDE DR NW)        35.0   False   \n",
      "19                            TECH PKWY NW        30.0    True   \n",
      "\n",
      "              ST_NAME DIR_TRAVEL  \n",
      "0                 NaN        NaN  \n",
      "1                 NaN        NaN  \n",
      "2                 NaN        NaN  \n",
      "3                 NaN        NaN  \n",
      "4                 NaN        NaN  \n",
      "5   N HIGHLAND AVE NE          B  \n",
      "6                 NaN        NaN  \n",
      "7   N HIGHLAND AVE NE          B  \n",
      "8                 NaN        NaN  \n",
      "9      MARIETTA ST NW          B  \n",
      "10                NaN        NaN  \n",
      "11    NORTHSIDE DR NW          F  \n",
      "12                NaN        NaN  \n",
      "13                NaN        NaN  \n",
      "14                NaN        NaN  \n",
      "15    NORTHSIDE DR NW          T  \n",
      "16    NORTHSIDE DR NW          F  \n",
      "17                NaN        NaN  \n",
      "18    NORTHSIDE DR NW          F  \n",
      "19                NaN        NaN  \n"
     ]
    }
   ],
   "source": [
    "here_links = gpd.read_file(here_linksfp,ignore_geometry=True)\n",
    "\n",
    "cols_to_keep = ['ST_NAME','DIR_TRAVEL']\n",
    "\n",
    "conflated_links = merge_network_and_attributes(conflated_links,here_links,cols_to_keep)\n",
    "del(here_links)"
   ]
  },
  {
   "cell_type": "code",
   "execution_count": null,
   "id": "be1ba1e3",
   "metadata": {},
   "outputs": [],
   "source": [
    "osm_links = pickle.load(open(osm_linksfp,\"rb\"))\n",
    "\n",
    "cols_to_keep = ['name']\n",
    "\n",
    "conflated_links = merge_network_and_attributes(conflated_links,osm_links,cols_to_keep)\n",
    "del(osm_links)"
   ]
  },
  {
   "cell_type": "code",
   "execution_count": 30,
   "id": "7e66608a",
   "metadata": {},
   "outputs": [
    {
     "data": {
      "text/html": [
       "<div>\n",
       "<style scoped>\n",
       "    .dataframe tbody tr th:only-of-type {\n",
       "        vertical-align: middle;\n",
       "    }\n",
       "\n",
       "    .dataframe tbody tr th {\n",
       "        vertical-align: top;\n",
       "    }\n",
       "\n",
       "    .dataframe thead th {\n",
       "        text-align: right;\n",
       "    }\n",
       "</style>\n",
       "<table border=\"1\" class=\"dataframe\">\n",
       "  <thead>\n",
       "    <tr style=\"text-align: right;\">\n",
       "      <th></th>\n",
       "      <th>abm_A_B</th>\n",
       "      <th>here_A_B</th>\n",
       "      <th>abm_A</th>\n",
       "      <th>here_A</th>\n",
       "      <th>abm_B</th>\n",
       "      <th>here_B</th>\n",
       "      <th>geometry</th>\n",
       "      <th>NAME</th>\n",
       "      <th>SPEEDLIMIT</th>\n",
       "      <th>two_way</th>\n",
       "      <th>ST_NAME</th>\n",
       "      <th>DIR_TRAVEL</th>\n",
       "    </tr>\n",
       "  </thead>\n",
       "  <tbody>\n",
       "    <tr>\n",
       "      <th>0</th>\n",
       "      <td>1010848_10340018</td>\n",
       "      <td>201063859187_2017289087</td>\n",
       "      <td>1010848</td>\n",
       "      <td>2017289087</td>\n",
       "      <td>10340018</td>\n",
       "      <td>201063859187</td>\n",
       "      <td>LINESTRING (2233265.865 1384662.528, 2233329.3...</td>\n",
       "      <td>MONROE DR NE</td>\n",
       "      <td>30.0</td>\n",
       "      <td>True</td>\n",
       "      <td>NaN</td>\n",
       "      <td>NaN</td>\n",
       "    </tr>\n",
       "    <tr>\n",
       "      <th>1</th>\n",
       "      <td>1010854_1010856</td>\n",
       "      <td>2017289109_2017289100</td>\n",
       "      <td>1010854</td>\n",
       "      <td>2017289100</td>\n",
       "      <td>1010856</td>\n",
       "      <td>2017289109</td>\n",
       "      <td>LINESTRING (2231248.476 1375719.070, 2231166.4...</td>\n",
       "      <td>10TH ST NE</td>\n",
       "      <td>35.0</td>\n",
       "      <td>True</td>\n",
       "      <td>NaN</td>\n",
       "      <td>NaN</td>\n",
       "    </tr>\n",
       "    <tr>\n",
       "      <th>2</th>\n",
       "      <td>1013524_1053435</td>\n",
       "      <td>2044584013_2030636889</td>\n",
       "      <td>1013524</td>\n",
       "      <td>2030636889</td>\n",
       "      <td>1053435</td>\n",
       "      <td>2044584013</td>\n",
       "      <td>LINESTRING (2239431.313 1375903.192, 2239373.5...</td>\n",
       "      <td>VIRGINIA AVE NE</td>\n",
       "      <td>30.0</td>\n",
       "      <td>True</td>\n",
       "      <td>NaN</td>\n",
       "      <td>NaN</td>\n",
       "    </tr>\n",
       "    <tr>\n",
       "      <th>3</th>\n",
       "      <td>1013524_10299911</td>\n",
       "      <td>2030636889_2044584017</td>\n",
       "      <td>1013524</td>\n",
       "      <td>2030636889</td>\n",
       "      <td>10299911</td>\n",
       "      <td>None</td>\n",
       "      <td>LINESTRING (2239431.313 1375903.192, 2239452.5...</td>\n",
       "      <td>VIRGINIA AVE NE</td>\n",
       "      <td>30.0</td>\n",
       "      <td>True</td>\n",
       "      <td>NaN</td>\n",
       "      <td>NaN</td>\n",
       "    </tr>\n",
       "    <tr>\n",
       "      <th>4</th>\n",
       "      <td>1013525_1053438</td>\n",
       "      <td>201181585260_2044584017</td>\n",
       "      <td>1013525</td>\n",
       "      <td>2030636890</td>\n",
       "      <td>1053438</td>\n",
       "      <td>2044584017</td>\n",
       "      <td>LINESTRING (2239619.442 1375764.578, 2239568.0...</td>\n",
       "      <td>N HIGHLAND AVE NE</td>\n",
       "      <td>30.0</td>\n",
       "      <td>True</td>\n",
       "      <td>NaN</td>\n",
       "      <td>NaN</td>\n",
       "    </tr>\n",
       "  </tbody>\n",
       "</table>\n",
       "</div>"
      ],
      "text/plain": [
       "            abm_A_B                 here_A_B    abm_A      here_A     abm_B  \\\n",
       "0  1010848_10340018  201063859187_2017289087  1010848  2017289087  10340018   \n",
       "1   1010854_1010856    2017289109_2017289100  1010854  2017289100   1010856   \n",
       "2   1013524_1053435    2044584013_2030636889  1013524  2030636889   1053435   \n",
       "3  1013524_10299911    2030636889_2044584017  1013524  2030636889  10299911   \n",
       "4   1013525_1053438  201181585260_2044584017  1013525  2030636890   1053438   \n",
       "\n",
       "         here_B                                           geometry  \\\n",
       "0  201063859187  LINESTRING (2233265.865 1384662.528, 2233329.3...   \n",
       "1    2017289109  LINESTRING (2231248.476 1375719.070, 2231166.4...   \n",
       "2    2044584013  LINESTRING (2239431.313 1375903.192, 2239373.5...   \n",
       "3          None  LINESTRING (2239431.313 1375903.192, 2239452.5...   \n",
       "4    2044584017  LINESTRING (2239619.442 1375764.578, 2239568.0...   \n",
       "\n",
       "                NAME  SPEEDLIMIT two_way ST_NAME DIR_TRAVEL  \n",
       "0       MONROE DR NE        30.0    True     NaN        NaN  \n",
       "1         10TH ST NE        35.0    True     NaN        NaN  \n",
       "2    VIRGINIA AVE NE        30.0    True     NaN        NaN  \n",
       "3    VIRGINIA AVE NE        30.0    True     NaN        NaN  \n",
       "4  N HIGHLAND AVE NE        30.0    True     NaN        NaN  "
      ]
     },
     "execution_count": 30,
     "metadata": {},
     "output_type": "execute_result"
    }
   ],
   "source": [
    "conflated_links.head()"
   ]
  },
  {
   "cell_type": "markdown",
   "id": "74bf9121",
   "metadata": {},
   "source": [
    "### Data Merging\n",
    "In this case we're just using street names and speed limit, but this section is dedicated for dealing with duplicate and/or missing data."
   ]
  },
  {
   "cell_type": "code",
   "execution_count": 31,
   "id": "b85a5f3b",
   "metadata": {},
   "outputs": [],
   "source": [
    "#streetnames\n",
    "#if abm name is present use that, else use the HERE name\n",
    "conflated_links['name'] = conflated_links.apply(lambda row: row['ST_NAME'] if row['NAME'] == None else row['NAME'], axis=1)\n",
    "#if no streetname exists then put in \"placeholder\" as the streetname\n",
    "conflated_links['name'] = conflated_links.apply(lambda row: 'placeholder' if pd.isna(row['name']) else row['name'], axis=1)\n",
    "\n",
    "#speed limits\n",
    "#use the ABM speed limit, if none present assume 30mph\n",
    "conflated_links['speedlimit'] = conflated_links['SPEEDLIMIT'].apply(lambda row: row if row == row else 30)\n",
    "\n",
    "#drop old columns\n",
    "conflated_links = conflated_links.drop(columns=['NAME','SPEEDLIMIT','ST_NAME'])"
   ]
  },
  {
   "cell_type": "markdown",
   "id": "f79e1f65",
   "metadata": {},
   "source": [
    "### Create A and B column\n",
    "If ABM ID in A column then go with that, else go with HERE ID."
   ]
  },
  {
   "cell_type": "code",
   "execution_count": 32,
   "id": "187fa963",
   "metadata": {},
   "outputs": [
    {
     "data": {
      "text/html": [
       "<div>\n",
       "<style scoped>\n",
       "    .dataframe tbody tr th:only-of-type {\n",
       "        vertical-align: middle;\n",
       "    }\n",
       "\n",
       "    .dataframe tbody tr th {\n",
       "        vertical-align: top;\n",
       "    }\n",
       "\n",
       "    .dataframe thead th {\n",
       "        text-align: right;\n",
       "    }\n",
       "</style>\n",
       "<table border=\"1\" class=\"dataframe\">\n",
       "  <thead>\n",
       "    <tr style=\"text-align: right;\">\n",
       "      <th></th>\n",
       "      <th>abm_A_B</th>\n",
       "      <th>here_A_B</th>\n",
       "      <th>abm_A</th>\n",
       "      <th>here_A</th>\n",
       "      <th>abm_B</th>\n",
       "      <th>here_B</th>\n",
       "      <th>geometry</th>\n",
       "      <th>two_way</th>\n",
       "      <th>DIR_TRAVEL</th>\n",
       "      <th>name</th>\n",
       "      <th>speedlimit</th>\n",
       "      <th>A</th>\n",
       "      <th>B</th>\n",
       "    </tr>\n",
       "  </thead>\n",
       "  <tbody>\n",
       "    <tr>\n",
       "      <th>0</th>\n",
       "      <td>1010848_10340018</td>\n",
       "      <td>201063859187_2017289087</td>\n",
       "      <td>1010848</td>\n",
       "      <td>2017289087</td>\n",
       "      <td>10340018</td>\n",
       "      <td>201063859187</td>\n",
       "      <td>LINESTRING (2233265.865 1384662.528, 2233329.3...</td>\n",
       "      <td>True</td>\n",
       "      <td>NaN</td>\n",
       "      <td>MONROE DR NE</td>\n",
       "      <td>30.0</td>\n",
       "      <td>1010848</td>\n",
       "      <td>10340018</td>\n",
       "    </tr>\n",
       "    <tr>\n",
       "      <th>1</th>\n",
       "      <td>1010854_1010856</td>\n",
       "      <td>2017289109_2017289100</td>\n",
       "      <td>1010854</td>\n",
       "      <td>2017289100</td>\n",
       "      <td>1010856</td>\n",
       "      <td>2017289109</td>\n",
       "      <td>LINESTRING (2231248.476 1375719.070, 2231166.4...</td>\n",
       "      <td>True</td>\n",
       "      <td>NaN</td>\n",
       "      <td>10TH ST NE</td>\n",
       "      <td>35.0</td>\n",
       "      <td>1010854</td>\n",
       "      <td>1010856</td>\n",
       "    </tr>\n",
       "    <tr>\n",
       "      <th>2</th>\n",
       "      <td>1013524_1053435</td>\n",
       "      <td>2044584013_2030636889</td>\n",
       "      <td>1013524</td>\n",
       "      <td>2030636889</td>\n",
       "      <td>1053435</td>\n",
       "      <td>2044584013</td>\n",
       "      <td>LINESTRING (2239431.313 1375903.192, 2239373.5...</td>\n",
       "      <td>True</td>\n",
       "      <td>NaN</td>\n",
       "      <td>VIRGINIA AVE NE</td>\n",
       "      <td>30.0</td>\n",
       "      <td>1013524</td>\n",
       "      <td>1053435</td>\n",
       "    </tr>\n",
       "    <tr>\n",
       "      <th>3</th>\n",
       "      <td>1013524_10299911</td>\n",
       "      <td>2030636889_2044584017</td>\n",
       "      <td>1013524</td>\n",
       "      <td>2030636889</td>\n",
       "      <td>10299911</td>\n",
       "      <td>None</td>\n",
       "      <td>LINESTRING (2239431.313 1375903.192, 2239452.5...</td>\n",
       "      <td>True</td>\n",
       "      <td>NaN</td>\n",
       "      <td>VIRGINIA AVE NE</td>\n",
       "      <td>30.0</td>\n",
       "      <td>1013524</td>\n",
       "      <td>10299911</td>\n",
       "    </tr>\n",
       "    <tr>\n",
       "      <th>4</th>\n",
       "      <td>1013525_1053438</td>\n",
       "      <td>201181585260_2044584017</td>\n",
       "      <td>1013525</td>\n",
       "      <td>2030636890</td>\n",
       "      <td>1053438</td>\n",
       "      <td>2044584017</td>\n",
       "      <td>LINESTRING (2239619.442 1375764.578, 2239568.0...</td>\n",
       "      <td>True</td>\n",
       "      <td>NaN</td>\n",
       "      <td>N HIGHLAND AVE NE</td>\n",
       "      <td>30.0</td>\n",
       "      <td>1013525</td>\n",
       "      <td>1053438</td>\n",
       "    </tr>\n",
       "  </tbody>\n",
       "</table>\n",
       "</div>"
      ],
      "text/plain": [
       "            abm_A_B                 here_A_B    abm_A      here_A     abm_B  \\\n",
       "0  1010848_10340018  201063859187_2017289087  1010848  2017289087  10340018   \n",
       "1   1010854_1010856    2017289109_2017289100  1010854  2017289100   1010856   \n",
       "2   1013524_1053435    2044584013_2030636889  1013524  2030636889   1053435   \n",
       "3  1013524_10299911    2030636889_2044584017  1013524  2030636889  10299911   \n",
       "4   1013525_1053438  201181585260_2044584017  1013525  2030636890   1053438   \n",
       "\n",
       "         here_B                                           geometry two_way  \\\n",
       "0  201063859187  LINESTRING (2233265.865 1384662.528, 2233329.3...    True   \n",
       "1    2017289109  LINESTRING (2231248.476 1375719.070, 2231166.4...    True   \n",
       "2    2044584013  LINESTRING (2239431.313 1375903.192, 2239373.5...    True   \n",
       "3          None  LINESTRING (2239431.313 1375903.192, 2239452.5...    True   \n",
       "4    2044584017  LINESTRING (2239619.442 1375764.578, 2239568.0...    True   \n",
       "\n",
       "  DIR_TRAVEL               name  speedlimit        A         B  \n",
       "0        NaN       MONROE DR NE        30.0  1010848  10340018  \n",
       "1        NaN         10TH ST NE        35.0  1010854   1010856  \n",
       "2        NaN    VIRGINIA AVE NE        30.0  1013524   1053435  \n",
       "3        NaN    VIRGINIA AVE NE        30.0  1013524  10299911  \n",
       "4        NaN  N HIGHLAND AVE NE        30.0  1013525   1053438  "
      ]
     },
     "execution_count": 32,
     "metadata": {},
     "output_type": "execute_result"
    }
   ],
   "source": [
    "conflated_links['A'] = conflated_links.apply(lambda row: row['here_A'] if row['abm_A'] == None else row['abm_A'], axis=1)\n",
    "conflated_links['B'] = conflated_links.apply(lambda row: row['here_B'] if row['abm_B'] == None else row['abm_B'], axis=1)\n",
    "conflated_links.head()"
   ]
  },
  {
   "cell_type": "markdown",
   "id": "39007741",
   "metadata": {},
   "source": [
    "### Create reverse links for two way streets and calculate distance"
   ]
  },
  {
   "cell_type": "code",
   "execution_count": 33,
   "id": "33a1791b",
   "metadata": {},
   "outputs": [
    {
     "data": {
      "text/html": [
       "<div>\n",
       "<style scoped>\n",
       "    .dataframe tbody tr th:only-of-type {\n",
       "        vertical-align: middle;\n",
       "    }\n",
       "\n",
       "    .dataframe tbody tr th {\n",
       "        vertical-align: top;\n",
       "    }\n",
       "\n",
       "    .dataframe thead th {\n",
       "        text-align: right;\n",
       "    }\n",
       "</style>\n",
       "<table border=\"1\" class=\"dataframe\">\n",
       "  <thead>\n",
       "    <tr style=\"text-align: right;\">\n",
       "      <th></th>\n",
       "      <th>index</th>\n",
       "      <th>abm_A_B</th>\n",
       "      <th>here_A_B</th>\n",
       "      <th>abm_A</th>\n",
       "      <th>here_A</th>\n",
       "      <th>abm_B</th>\n",
       "      <th>here_B</th>\n",
       "      <th>geometry</th>\n",
       "      <th>name</th>\n",
       "      <th>speedlimit</th>\n",
       "      <th>A</th>\n",
       "      <th>B</th>\n",
       "      <th>A_B</th>\n",
       "      <th>distance</th>\n",
       "    </tr>\n",
       "  </thead>\n",
       "  <tbody>\n",
       "    <tr>\n",
       "      <th>0</th>\n",
       "      <td>0</td>\n",
       "      <td>1010848_10340018</td>\n",
       "      <td>201063859187_2017289087</td>\n",
       "      <td>1010848</td>\n",
       "      <td>2017289087</td>\n",
       "      <td>10340018</td>\n",
       "      <td>201063859187</td>\n",
       "      <td>LINESTRING (2233265.865 1384662.528, 2233329.3...</td>\n",
       "      <td>MONROE DR NE</td>\n",
       "      <td>30.0</td>\n",
       "      <td>1010848</td>\n",
       "      <td>10340018</td>\n",
       "      <td>1010848_10340018</td>\n",
       "      <td>148.979670</td>\n",
       "    </tr>\n",
       "    <tr>\n",
       "      <th>1</th>\n",
       "      <td>1</td>\n",
       "      <td>1010854_1010856</td>\n",
       "      <td>2017289109_2017289100</td>\n",
       "      <td>1010854</td>\n",
       "      <td>2017289100</td>\n",
       "      <td>1010856</td>\n",
       "      <td>2017289109</td>\n",
       "      <td>LINESTRING (2231248.476 1375719.070, 2231166.4...</td>\n",
       "      <td>10TH ST NE</td>\n",
       "      <td>35.0</td>\n",
       "      <td>1010854</td>\n",
       "      <td>1010856</td>\n",
       "      <td>1010854_1010856</td>\n",
       "      <td>82.118032</td>\n",
       "    </tr>\n",
       "    <tr>\n",
       "      <th>2</th>\n",
       "      <td>2</td>\n",
       "      <td>1013524_1053435</td>\n",
       "      <td>2044584013_2030636889</td>\n",
       "      <td>1013524</td>\n",
       "      <td>2030636889</td>\n",
       "      <td>1053435</td>\n",
       "      <td>2044584013</td>\n",
       "      <td>LINESTRING (2239431.313 1375903.192, 2239373.5...</td>\n",
       "      <td>VIRGINIA AVE NE</td>\n",
       "      <td>30.0</td>\n",
       "      <td>1013524</td>\n",
       "      <td>1053435</td>\n",
       "      <td>1013524_1053435</td>\n",
       "      <td>57.844133</td>\n",
       "    </tr>\n",
       "    <tr>\n",
       "      <th>3</th>\n",
       "      <td>3</td>\n",
       "      <td>1013524_10299911</td>\n",
       "      <td>2030636889_2044584017</td>\n",
       "      <td>1013524</td>\n",
       "      <td>2030636889</td>\n",
       "      <td>10299911</td>\n",
       "      <td>None</td>\n",
       "      <td>LINESTRING (2239431.313 1375903.192, 2239452.5...</td>\n",
       "      <td>VIRGINIA AVE NE</td>\n",
       "      <td>30.0</td>\n",
       "      <td>1013524</td>\n",
       "      <td>10299911</td>\n",
       "      <td>1013524_10299911</td>\n",
       "      <td>21.577605</td>\n",
       "    </tr>\n",
       "    <tr>\n",
       "      <th>4</th>\n",
       "      <td>4</td>\n",
       "      <td>1013525_1053438</td>\n",
       "      <td>201181585260_2044584017</td>\n",
       "      <td>1013525</td>\n",
       "      <td>2030636890</td>\n",
       "      <td>1053438</td>\n",
       "      <td>2044584017</td>\n",
       "      <td>LINESTRING (2239619.442 1375764.578, 2239568.0...</td>\n",
       "      <td>N HIGHLAND AVE NE</td>\n",
       "      <td>30.0</td>\n",
       "      <td>1013525</td>\n",
       "      <td>1053438</td>\n",
       "      <td>1013525_1053438</td>\n",
       "      <td>168.229104</td>\n",
       "    </tr>\n",
       "  </tbody>\n",
       "</table>\n",
       "</div>"
      ],
      "text/plain": [
       "   index           abm_A_B                 here_A_B    abm_A      here_A  \\\n",
       "0      0  1010848_10340018  201063859187_2017289087  1010848  2017289087   \n",
       "1      1   1010854_1010856    2017289109_2017289100  1010854  2017289100   \n",
       "2      2   1013524_1053435    2044584013_2030636889  1013524  2030636889   \n",
       "3      3  1013524_10299911    2030636889_2044584017  1013524  2030636889   \n",
       "4      4   1013525_1053438  201181585260_2044584017  1013525  2030636890   \n",
       "\n",
       "      abm_B        here_B                                           geometry  \\\n",
       "0  10340018  201063859187  LINESTRING (2233265.865 1384662.528, 2233329.3...   \n",
       "1   1010856    2017289109  LINESTRING (2231248.476 1375719.070, 2231166.4...   \n",
       "2   1053435    2044584013  LINESTRING (2239431.313 1375903.192, 2239373.5...   \n",
       "3  10299911          None  LINESTRING (2239431.313 1375903.192, 2239452.5...   \n",
       "4   1053438    2044584017  LINESTRING (2239619.442 1375764.578, 2239568.0...   \n",
       "\n",
       "                name  speedlimit        A         B               A_B  \\\n",
       "0       MONROE DR NE        30.0  1010848  10340018  1010848_10340018   \n",
       "1         10TH ST NE        35.0  1010854   1010856   1010854_1010856   \n",
       "2    VIRGINIA AVE NE        30.0  1013524   1053435   1013524_1053435   \n",
       "3    VIRGINIA AVE NE        30.0  1013524  10299911  1013524_10299911   \n",
       "4  N HIGHLAND AVE NE        30.0  1013525   1053438   1013525_1053438   \n",
       "\n",
       "     distance  \n",
       "0  148.979670  \n",
       "1   82.118032  \n",
       "2   57.844133  \n",
       "3   21.577605  \n",
       "4  168.229104  "
      ]
     },
     "execution_count": 33,
     "metadata": {},
     "output_type": "execute_result"
    }
   ],
   "source": [
    "conflated_links_rev = conflated_links.copy().rename(columns={'A':'B','B':'A'})\n",
    "\n",
    "#filter to those that are two way\n",
    "conflated_links_rev = conflated_links_rev[(conflated_links_rev['two_way'] != False) &\n",
    "                                            (conflated_links_rev['DIR_TRAVEL'] != 'F') &\n",
    "                                            (conflated_links_rev['DIR_TRAVEL'] != 'T')                            \n",
    "                                            ]\n",
    "\n",
    "conflated_links = conflated_links.append(conflated_links_rev).reset_index()\n",
    "\n",
    "#create A_B column\n",
    "conflated_links['A_B'] = conflated_links['A'] + '_' + conflated_links['B']\n",
    "\n",
    "#drop uneeded cols\n",
    "conflated_links = conflated_links.drop(columns=['two_way','DIR_TRAVEL'])\n",
    "\n",
    "#calculate distance\n",
    "conflated_links['distance'] = conflated_links.length\n",
    "\n",
    "conflated_links.head()"
   ]
  },
  {
   "cell_type": "markdown",
   "id": "574ceff5",
   "metadata": {},
   "source": [
    "### Export"
   ]
  },
  {
   "cell_type": "code",
   "execution_count": 34,
   "id": "15192d04",
   "metadata": {},
   "outputs": [],
   "source": [
    "conflated_links.to_file(r'processed_shapefiles\\prepared_network\\links\\links.geojson',driver='GeoJSON')"
   ]
  },
  {
   "cell_type": "code",
   "execution_count": null,
   "id": "3890daed",
   "metadata": {},
   "outputs": [],
   "source": []
  },
  {
   "cell_type": "code",
   "execution_count": null,
   "id": "0ec0fafe",
   "metadata": {},
   "outputs": [],
   "source": []
  }
 ],
 "metadata": {
  "kernelspec": {
   "display_name": "Python 3 (ipykernel)",
   "language": "python",
   "name": "python3"
  },
  "language_info": {
   "codemirror_mode": {
    "name": "ipython",
    "version": 3
   },
   "file_extension": ".py",
   "mimetype": "text/x-python",
   "name": "python",
   "nbconvert_exporter": "python",
   "pygments_lexer": "ipython3",
   "version": "3.9.7"
  },
  "varInspector": {
   "cols": {
    "lenName": 16,
    "lenType": 16,
    "lenVar": 40
   },
   "kernels_config": {
    "python": {
     "delete_cmd_postfix": "",
     "delete_cmd_prefix": "del ",
     "library": "var_list.py",
     "varRefreshCmd": "print(var_dic_list())"
    },
    "r": {
     "delete_cmd_postfix": ") ",
     "delete_cmd_prefix": "rm(",
     "library": "var_list.r",
     "varRefreshCmd": "cat(var_dic_list()) "
    }
   },
   "position": {
    "height": "488.85px",
    "left": "1510px",
    "right": "20px",
    "top": "112px",
    "width": "329px"
   },
   "types_to_exclude": [
    "module",
    "function",
    "builtin_function_or_method",
    "instance",
    "_Feature"
   ],
   "window_display": false
  }
 },
 "nbformat": 4,
 "nbformat_minor": 5
}

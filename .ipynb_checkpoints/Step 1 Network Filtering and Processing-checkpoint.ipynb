{
 "cells": [
  {
   "cell_type": "markdown",
   "id": "301e49a0",
   "metadata": {},
   "source": [
    "# Step 1: Network Filtering and Processing\n",
    "---\n",
    "\n",
    "## Run this code block by block to convert a road network shapefile in ESRI Shapefile, GeoJSON, or GeoPackage format into a routable and conflated network graph to use in BikewaySim.\n",
    "\n",
    "### This the first of five steps to running BikewaySim\n",
    "\n",
    "1. __Process network spatial data into a routable network graph format__\n",
    "2. Reconcile networks into one through node and link overlap conflation\n",
    "3. Calculate link costs and finalize network\n",
    "4. Create OD tables\n",
    "5. Run BikewaySim\n",
    "\n",
    "Note that three networks were used in this project. While code to obtain OSM GeoJSONs has been included with osm_processing notebook, the ABM and HERE networks need to be sourced from the Atlanta Regional Commission and HERE respectively. You can run most of this code with only OSM data, but you'll need to skip the conflation section."
   ]
  },
  {
   "cell_type": "markdown",
   "id": "e87f928d",
   "metadata": {},
   "source": [
    "## Import/install the following packages:"
   ]
  },
  {
   "cell_type": "code",
   "execution_count": 1,
   "id": "bc1d9dd7",
   "metadata": {},
   "outputs": [],
   "source": [
    "import os\n",
    "from pathlib import Path\n",
    "import time\n",
    "import geopandas as gpd\n",
    "import pickle"
   ]
  },
  {
   "cell_type": "markdown",
   "id": "8a5c469e",
   "metadata": {},
   "source": [
    "## Import Network Filter Module:"
   ]
  },
  {
   "cell_type": "code",
   "execution_count": 2,
   "id": "13a88da3",
   "metadata": {},
   "outputs": [],
   "source": [
    "from network_filter import *"
   ]
  },
  {
   "cell_type": "markdown",
   "id": "22ab851b",
   "metadata": {},
   "source": [
    "## Set Directory:\n",
    "Modify this directory to where you stored your network shapefiles."
   ]
  },
  {
   "cell_type": "code",
   "execution_count": 3,
   "id": "3298b3df",
   "metadata": {},
   "outputs": [],
   "source": [
    "user_directory = os.fspath(Path.home()) #get home directory and convert to path string\n",
    "file_directory = r\"/Documents/BikewaySimData\" #directory of bikewaysim outputs\n",
    "os.chdir(user_directory+file_directory)"
   ]
  },
  {
   "cell_type": "markdown",
   "id": "b8b32f2b",
   "metadata": {},
   "source": [
    "### Choose projected coordinate reference system (CRS)\n",
    "This needs to be set to check that all the data is in the same CRS. The one used for this study was EPSG 2240 (https://spatialreference.org/ref/epsg/nad83-georgia-west-ftus/)."
   ]
  },
  {
   "cell_type": "code",
   "execution_count": 4,
   "id": "9638ac66",
   "metadata": {},
   "outputs": [],
   "source": [
    "desired_crs = \"EPSG:2240\""
   ]
  },
  {
   "cell_type": "markdown",
   "id": "51bd52fb",
   "metadata": {},
   "source": [
    "## Choose study area:\n",
    "Specify what area you want to mask the network data by. Only network links that are partially or fully within the study area will be imported. Note: network links are NOT clipped (because this cuts off nodes)."
   ]
  },
  {
   "cell_type": "code",
   "execution_count": 11,
   "id": "0a65a19f",
   "metadata": {},
   "outputs": [
    {
     "name": "stdout",
     "output_type": "stream",
     "text": [
      "The area of the marta study area is 1028.32 square miles.\n"
     ]
    },
    {
     "data": {
      "image/png": "[encoded data removed]",
      "text/plain": [
       "<Figure size 432x288 with 1 Axes>"
      ]
     },
     "metadata": {
      "needs_background": "light"
     },
     "output_type": "display_data"
    }
   ],
   "source": [
    "\n",
    "studyareafp = r'base_shapefiles/studyareas/marta.gpkg'\n",
    "studyarea_name = 'marta'\n",
    "\n",
    "#other filepaths\n",
    "#studyareafp = r'base_shapefiles/studyareas/atl_district5.gpkg'\n",
    "#studyarea_name = 'atl_district5'\n",
    "#studyareafp = r'base_shapefiles/studyareas/ITS4US_StudyBoundary.shp'\n",
    "#studyarea_name = 'its4us'\n",
    "#studyareafp = r'base_shapefiles/studyareas/district5.geojson'\n",
    "#studyarea_name = 'district5'\n",
    "#studyareafp = r'base_shapefiles/bikewaysim_study_area/bikewaysim_study_area.shp'\n",
    "#studyarea_name = 'bikewaysim'\n",
    "#city_of_atlantafp = r'base_shapefiles/coa/Atlanta_City_Limits.shp'\n",
    "#atlanta_regional_commissionfp = r'base_shapefiles/arc/arc_bounds.shp'\n",
    "\n",
    "studyarea = import_study_area(studyareafp, studyarea_name, desired_crs)"
   ]
  },
  {
   "cell_type": "markdown",
   "id": "52d7b76b",
   "metadata": {},
   "source": [
    "## Network Mapper\n",
    "This is how network node ID's will be identified and coded\n",
    "- the first number in the node ID represents its origin network\n",
    "- all numbers after that are the original network ID. we did this to make sure that there are no duplicate network ids and to make it easy to retreive the original network id."
   ]
  },
  {
   "cell_type": "code",
   "execution_count": 7,
   "id": "6cdcaead",
   "metadata": {},
   "outputs": [],
   "source": [
    "network_mapper = {\n",
    "    \"abm\": \"1\",\n",
    "    \"here\": \"2\",\n",
    "    \"osm\": \"3\",\n",
    "    \"original\": \"0\",\n",
    "    \"generated\": \"1\"\n",
    "}"
   ]
  },
  {
   "cell_type": "markdown",
   "id": "d2c388a2",
   "metadata": {},
   "source": [
    "## Network Data Filepaths:\n",
    "Use this to specify the filepath of your network's links and/or nodes. Only links are required because nodes can be created from the links."
   ]
  },
  {
   "cell_type": "code",
   "execution_count": 9,
   "id": "6e155b04",
   "metadata": {},
   "outputs": [],
   "source": [
    "abmfp = r'base_shapefiles/arc/ABM2020-TIP20-2020-150kShapefiles-outputs.gdb'\n",
    "abmnodesfp = r'base_shapefiles/arc/ABM2020-TIP20-2020-150kShapefiles-outputs.gdb'\n",
    "herefp = r'base_shapefiles/here/Streets.shp'\n",
    "osmfp = rf'base_shapefiles/osm/osm_network_{studyarea_name}.gpkg'\n",
    "osmnodesfp = rf'base_shapefiles/osm/osm_network_{studyarea_name}.gpkg'"
   ]
  },
  {
   "cell_type": "markdown",
   "id": "0fee174d",
   "metadata": {},
   "source": [
    "If your network file has layers, you can use this code snippet to print them out:\n",
    "```\n",
    "import fiona\n",
    "fiona.listlayers('base_shapefiles/arc/ABM2020-TIP20-2020-150kShapefiles-outputs.gdb')\n",
    "```"
   ]
  },
  {
   "cell_type": "markdown",
   "id": "2ae145c8",
   "metadata": {},
   "source": [
    "## Set Network Import Settings\n",
    "Creates a dictionary to specify inputs for the filter networks function. For new networks follow this format:\n",
    "\n",
    "```python\n",
    "network = {\n",
    "       \"studyarea\": studyarea, #geodataframe of the study area\n",
    "       \"studyarea_name\": studyarea_name, #name for the study area\n",
    "       \"networkfp\": networkfp, #filepath for the network, specified earlier\n",
    "       \"network_name\": 'abm', #name for the network being evaluated\n",
    "       \"network_mapper\": network_mapper, #leave this, edit in the block above\n",
    "       \"layer\": 0 #if network has layers, then specify which layer to look at; if no layers then leave as 0 \n",
    "       \"desired_crs\": \"desired_crs\", # leave this, edit in the CRS block\n",
    "       \"nodesfp\":None, # specify the nodes path if available, otherwise leave as None\n",
    "       \"node_id\": None, # specify the column in the nodes file that has the node id information, if not available leave as 0\n",
    "       \"A\": \"A\", #column with the starting node id; replace with None if there isn't a column\n",
    "       \"B\": \"B\", #column with the ending node id; replace with None if there isn't a column\n",
    "       \"bbox\": True, #use the bounding box of the study area as the mask for bringing in features instead of the polygon boundaries\n",
    "       }\n",
    "```"
   ]
  },
  {
   "cell_type": "code",
   "execution_count": 15,
   "id": "2e6e2344",
   "metadata": {},
   "outputs": [
    {
     "ename": "NameError",
     "evalue": "name 'abmfp' is not defined",
     "output_type": "error",
     "traceback": [
      "\u001b[1;31m---------------------------------------------------------------------------\u001b[0m",
      "\u001b[1;31mNameError\u001b[0m                                 Traceback (most recent call last)",
      "\u001b[1;32mC:\\Users\\TPASSM~1\\AppData\\Local\\Temp/ipykernel_224308/640142951.py\u001b[0m in \u001b[0;36m<module>\u001b[1;34m\u001b[0m\n\u001b[0;32m      3\u001b[0m        \u001b[1;34m\"studyarea\"\u001b[0m\u001b[1;33m:\u001b[0m \u001b[0mstudyarea\u001b[0m\u001b[1;33m,\u001b[0m\u001b[1;33m\u001b[0m\u001b[1;33m\u001b[0m\u001b[0m\n\u001b[0;32m      4\u001b[0m        \u001b[1;34m\"studyarea_name\"\u001b[0m\u001b[1;33m:\u001b[0m \u001b[0mstudyarea_name\u001b[0m\u001b[1;33m,\u001b[0m\u001b[1;33m\u001b[0m\u001b[1;33m\u001b[0m\u001b[0m\n\u001b[1;32m----> 5\u001b[1;33m        \u001b[1;34m\"networkfp\"\u001b[0m\u001b[1;33m:\u001b[0m \u001b[0mabmfp\u001b[0m\u001b[1;33m,\u001b[0m\u001b[1;33m\u001b[0m\u001b[1;33m\u001b[0m\u001b[0m\n\u001b[0m\u001b[0;32m      6\u001b[0m        \u001b[1;34m\"network_name\"\u001b[0m\u001b[1;33m:\u001b[0m \u001b[1;34m'abm'\u001b[0m\u001b[1;33m,\u001b[0m\u001b[1;33m\u001b[0m\u001b[1;33m\u001b[0m\u001b[0m\n\u001b[0;32m      7\u001b[0m        \u001b[1;34m\"network_mapper\"\u001b[0m\u001b[1;33m:\u001b[0m \u001b[0mnetwork_mapper\u001b[0m\u001b[1;33m,\u001b[0m\u001b[1;33m\u001b[0m\u001b[1;33m\u001b[0m\u001b[0m\n",
      "\u001b[1;31mNameError\u001b[0m: name 'abmfp' is not defined"
     ]
    }
   ],
   "source": [
    "abm = {\n",
    "       \"studyarea\": studyarea,\n",
    "       \"studyarea_name\": studyarea_name,\n",
    "       \"networkfp\": abmfp,\n",
    "       \"network_name\": 'abm',\n",
    "       \"network_mapper\": network_mapper,\n",
    "       \"layer\": \"DAILY_Link\",\n",
    "       \"desired_crs\": \"epsg:2240\",\n",
    "       \"nodesfp\": abmnodesfp,\n",
    "       \"nodes_layer\":\"DAILY_Node\",\n",
    "       \"node_id\": 'N',\n",
    "       \"A\": \"A\",\n",
    "       \"B\": \"B\",\n",
    "       \"bbox\":True\n",
    "        }"
   ]
  },
  {
   "cell_type": "code",
   "execution_count": null,
   "id": "36141fd0",
   "metadata": {},
   "outputs": [],
   "source": [
    "here = {\n",
    "       \"studyarea\": studyarea,\n",
    "       \"studyarea_name\": studyarea_name,\n",
    "       \"networkfp\": herefp,\n",
    "       \"network_name\": 'here',\n",
    "       \"network_mapper\": network_mapper,\n",
    "       \"layer\":None,\n",
    "       \"desired_crs\":\"epsg:2240\",\n",
    "       \"nodesfp\":None,\n",
    "       \"nodes_layer\":None,\n",
    "       \"node_id\": None,\n",
    "       \"A\": \"REF_IN_ID\",\n",
    "       \"B\": \"NREF_IN_ID\",\n",
    "       \"bbox\":True\n",
    "       }"
   ]
  },
  {
   "cell_type": "code",
   "execution_count": null,
   "id": "07439bef",
   "metadata": {},
   "outputs": [],
   "source": [
    "osm = {\n",
    "      \"studyarea\": studyarea,\n",
    "       \"studyarea_name\": studyarea_name,\n",
    "       \"networkfp\": osmfp,\n",
    "       \"network_name\": 'osm',\n",
    "       \"network_mapper\": network_mapper,\n",
    "       \"layer\":\"links\",\n",
    "       \"desired_crs\":\"epsg:2240\",\n",
    "       \"nodesfp\":osmnodesfp,\n",
    "       \"nodes_layer\":\"nodes\",\n",
    "       \"node_id\": \"osmid\",\n",
    "       \"A\": \"A\",\n",
    "       \"B\": \"B\",\n",
    "       \"bbox\":True\n",
    "       }"
   ]
  },
  {
   "cell_type": "markdown",
   "id": "4b17093a",
   "metadata": {},
   "source": [
    "## Run Network Filter Module to Create Initial Subnetworks\n",
    "From the network_filter.py file run the filter networks function. This will first import the spatial data and then filter the data into a base, road, bike, or serivce link. \n",
    "**Note: If this is the a new network that is not OSM, HERE, or ABM then specify a new filter method by going into the network_filter.py file.** Otherwise, none of the links will be filtered into road/bike/service links. **Also note: all spatial files are being projected to EPSG 2240 right now.** Need to modify later."
   ]
  },
  {
   "cell_type": "markdown",
   "id": "0203634a",
   "metadata": {},
   "source": [
    "### Filter ABM"
   ]
  },
  {
   "cell_type": "code",
   "execution_count": 11,
   "id": "1d052a79",
   "metadata": {},
   "outputs": [
    {
     "name": "stderr",
     "output_type": "stream",
     "text": [
      "C:\\Users\\tpassmore6\\Documents\\GitHub\\BikewaySimDev\\network_filter.py:152: FutureWarning: Currently, index_parts defaults to True, but in the future, it will default to False to be consistent with Pandas. Use `index_parts=True` to keep the current behavior and True/False to silence the warning.\n",
      "  links = gpd.read_file(networkfp, mask = studyarea, layer = layer).explode().droplevel(level=1).to_crs(desired_crs)\n"
     ]
    },
    {
     "name": "stdout",
     "output_type": "stream",
     "text": [
      "Cleaning measures applied for abm...\n",
      "No further filter needed for abm\n",
      "No bike links present for abm\n",
      "No service links present for abm\n",
      "abm imported... took 2.91 minutes\n"
     ]
    }
   ],
   "source": [
    "filter_networks(**abm)"
   ]
  },
  {
   "cell_type": "markdown",
   "id": "a3a70143",
   "metadata": {},
   "source": [
    "### Filter HERE"
   ]
  },
  {
   "cell_type": "code",
   "execution_count": 12,
   "id": "ee6999b8",
   "metadata": {},
   "outputs": [
    {
     "name": "stderr",
     "output_type": "stream",
     "text": [
      "C:\\Users\\tpassmore6\\Documents\\GitHub\\BikewaySimDev\\network_filter.py:149: FutureWarning: Currently, index_parts defaults to True, but in the future, it will default to False to be consistent with Pandas. Use `index_parts=True` to keep the current behavior and True/False to silence the warning.\n",
      "  links = gpd.read_file(networkfp, mask = studyarea).explode().droplevel(level=1).to_crs(desired_crs)\n",
      "C:\\Users\\tpassmore6\\Anaconda3\\envs\\geo-env\\lib\\site-packages\\pandas\\core\\dtypes\\cast.py:118: ShapelyDeprecationWarning: The array interface is deprecated and will no longer work in Shapely 2.0. Convert the '.coords' to a numpy array instead.\n",
      "  arr = construct_1d_object_array_from_listlike(values)\n"
     ]
    },
    {
     "name": "stdout",
     "output_type": "stream",
     "text": [
      "here road filter applied...\n",
      "here bike filter applied...\n",
      "here service filter applied...\n",
      "here imported... took 17.02 minutes\n"
     ]
    }
   ],
   "source": [
    "filter_networks(**here)"
   ]
  },
  {
   "cell_type": "markdown",
   "id": "d3f8b178",
   "metadata": {},
   "source": [
    "### Filter OSM"
   ]
  },
  {
   "cell_type": "code",
   "execution_count": 13,
   "id": "29ccefd2",
   "metadata": {},
   "outputs": [
    {
     "name": "stderr",
     "output_type": "stream",
     "text": [
      "C:\\Users\\tpassmore6\\Documents\\GitHub\\BikewaySimDev\\network_filter.py:152: FutureWarning: Currently, index_parts defaults to True, but in the future, it will default to False to be consistent with Pandas. Use `index_parts=True` to keep the current behavior and True/False to silence the warning.\n",
      "  links = gpd.read_file(networkfp, mask = studyarea, layer = layer).explode().droplevel(level=1).to_crs(desired_crs)\n"
     ]
    },
    {
     "name": "stdout",
     "output_type": "stream",
     "text": [
      "Cleaning measures applied for osm...\n",
      "osm road filter applied...\n",
      "osm bike filter applied...\n",
      "osm service filter applied...\n",
      "osm imported... took 3.99 minutes\n"
     ]
    }
   ],
   "source": [
    "filter_networks(**osm)"
   ]
  },
  {
   "cell_type": "markdown",
   "id": "4ceba96b",
   "metadata": {},
   "source": [
    "## Summurize filtered networks\n",
    "#### Prints out:\n",
    "- Number of nodes\n",
    "- Number of links\n",
    "- Total length of all links\n",
    "- Average link length\n",
    "\n",
    "#### Exports:\n",
    "- CSV file with all the network statistics."
   ]
  },
  {
   "cell_type": "code",
   "execution_count": 14,
   "id": "68d3fab7",
   "metadata": {},
   "outputs": [
    {
     "name": "stdout",
     "output_type": "stream",
     "text": [
      "  network link_type num_links num_nodes  tot_link_length  avg_link_length\n",
      "0     abm      base     25578     23737           2544.0            525.2\n",
      "1     abm      road     25578     23737           2544.0            525.2\n",
      "2    here      base    362571    286253          15985.0            232.8\n",
      "3    here      road    182343    159958          10682.0            309.3\n",
      "4    here      bike     13090     14219            400.0            161.2\n",
      "5    here   service    167138    152164           4903.0            154.9\n",
      "6     osm      base    446772    360436          18415.0            217.6\n",
      "7     osm      road    188165    164991          10501.0            294.7\n",
      "8     osm      bike     18649     18133            718.0            203.4\n",
      "9     osm   service    235755    245617           7005.0            156.9\n"
     ]
    }
   ],
   "source": [
    "from network_summary_stats import * \n",
    "\n",
    "#network names to look for, will search your directory for network name\n",
    "networks = [\"abm\",\"here\",\"osm\"]\n",
    "\n",
    "#summurize networks and export summary as \"network_summary.csv in the working directory\n",
    "sum_all_networks(networks, studyarea_name)"
   ]
  },
  {
   "cell_type": "code",
   "execution_count": null,
   "id": "d965460d",
   "metadata": {},
   "outputs": [],
   "source": []
  },
  {
   "cell_type": "code",
   "execution_count": 15,
   "id": "8552bd9b",
   "metadata": {},
   "outputs": [
    {
     "data": {
      "text/plain": [
       "'marta'"
      ]
     },
     "execution_count": 15,
     "metadata": {},
     "output_type": "execute_result"
    }
   ],
   "source": [
    "studyarea_name"
   ]
  },
  {
   "cell_type": "code",
   "execution_count": null,
   "id": "c4a21831",
   "metadata": {},
   "outputs": [],
   "source": []
  },
  {
   "cell_type": "code",
   "execution_count": null,
   "id": "ab25b409",
   "metadata": {},
   "outputs": [],
   "source": []
  },
  {
   "cell_type": "code",
   "execution_count": null,
   "id": "ad5ead50",
   "metadata": {},
   "outputs": [],
   "source": []
  },
  {
   "cell_type": "code",
   "execution_count": null,
   "id": "036fa065",
   "metadata": {},
   "outputs": [],
   "source": []
  },
  {
   "cell_type": "code",
   "execution_count": null,
   "id": "fbd587c5",
   "metadata": {},
   "outputs": [],
   "source": []
  },
  {
   "cell_type": "code",
   "execution_count": null,
   "id": "2ae09e23",
   "metadata": {},
   "outputs": [],
   "source": []
  },
  {
   "cell_type": "code",
   "execution_count": null,
   "id": "58c9655f",
   "metadata": {},
   "outputs": [],
   "source": []
  }
 ],
 "metadata": {
  "kernelspec": {
   "display_name": "Python 3 (ipykernel)",
   "language": "python",
   "name": "python3"
  },
  "language_info": {
   "codemirror_mode": {
    "name": "ipython",
    "version": 3
   },
   "file_extension": ".py",
   "mimetype": "text/x-python",
   "name": "python",
   "nbconvert_exporter": "python",
   "pygments_lexer": "ipython3",
   "version": "3.9.7"
  },
  "varInspector": {
   "cols": {
    "lenName": 16,
    "lenType": 16,
    "lenVar": 40
   },
   "kernels_config": {
    "python": {
     "delete_cmd_postfix": "",
     "delete_cmd_prefix": "del ",
     "library": "var_list.py",
     "varRefreshCmd": "print(var_dic_list())"
    },
    "r": {
     "delete_cmd_postfix": ") ",
     "delete_cmd_prefix": "rm(",
     "library": "var_list.r",
     "varRefreshCmd": "cat(var_dic_list()) "
    }
   },
   "types_to_exclude": [
    "module",
    "function",
    "builtin_function_or_method",
    "instance",
    "_Feature"
   ],
   "window_display": false
  }
 },
 "nbformat": 4,
 "nbformat_minor": 5
}

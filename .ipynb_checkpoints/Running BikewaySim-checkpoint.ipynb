{
 "cells": [
  {
   "cell_type": "markdown",
   "metadata": {},
   "source": [
    "# BikewaySim\n",
    "\n",
    "Use this jupyter notebook to run BikewaySim. BikewaySim finds the shortest path between any origin and destination using Dijkstra's algorithm. \n",
    "\n",
    "BikewaySim requires the following before running:\n",
    "\n",
    "- A nodes shapefile/geojson with node ids.\n",
    "- A links shapefile/geojson with refrences ids (i.e. column that specifies the starting and ending node id)\n",
    "- A csv with origin and destination pairs\n",
    "\n",
    "Notes:\n",
    "- Run the convert_to_bikewaysim_network script before running bikewaysim to make sure your network is compatible\n",
    "- The desired link cost should be specifed in the \"distance\" column of the links. If you want to specify your own link costs using link attributes, then modify the \"distance\" column before using the network in BikewaySim\n",
    "\n",
    "Other Notes:\n",
    "\n",
    "Use Python 3.7+\n",
    "\n",
    "\n",
    "The following third-party packages are used in the BikewaySim module:\n",
    "```python\n",
    "import pandas as pd\n",
    "import numpy as np\n",
    "import geopandas as gpd\n",
    "from shapely.geometry import Point\n",
    "\n",
    "import networkx as nx\n",
    "\n",
    "import matplotlib.pyplot as plt\n",
    "```"
   ]
  },
  {
   "cell_type": "markdown",
   "metadata": {},
   "source": [
    "# Preparation\n",
    "\n",
    "Import modules/packages required for this notebook."
   ]
  },
  {
   "cell_type": "code",
   "execution_count": 1,
   "metadata": {},
   "outputs": [],
   "source": [
    "import os\n",
    "from pathlib import Path\n",
    "\n",
    "import numpy as np\n",
    "import pandas as pd\n",
    "import geopandas as gpdui\n",
    "\n",
    "# for auto-reloading external modules\n",
    "# see http://stackoverflow.com/questions/1907993/%autoreload-of-modules-in-ipython\n",
    "%load_ext autoreload\n",
    "%autoreload 2\n",
    "pd.options.display.max_columns = None  # display all columns"
   ]
  },
  {
   "cell_type": "code",
   "execution_count": 2,
   "metadata": {},
   "outputs": [],
   "source": [
    "# import TransportSim module\n",
    "from core_script.getPaths_transportSim import *"
   ]
  },
  {
   "cell_type": "markdown",
   "metadata": {},
   "source": [
    "### Setting the directory"
   ]
  },
  {
   "cell_type": "code",
   "execution_count": 3,
   "metadata": {
    "scrolled": true
   },
   "outputs": [
    {
     "name": "stdout",
     "output_type": "stream",
     "text": [
      "Initialize BikewaySim object to process sidewalk graph and pre-process trip queries!\n",
      "Set/Update BikewaySim dict_settings!\n"
     ]
    }
   ],
   "source": [
    "# need to set this environmental path for network data and query data at separate locations\n",
    "user_directory = os.fspath(Path.home()) #get home directory and convert to path string\n",
    "\n",
    "# set path variable for BikewaySim\n",
    "os.environ['PROJ_LIB'] = user_directory + \"/Documents/GitHub/BikewaySimDev\"\n",
    "\n",
    "# network shapefile data path directory\n",
    "os.environ['bws_NETWORK'] = r'C:\\Users\\tpassmore6\\Documents\\BikewaySimData\\processed_shapefiles\\prepared_network'\n",
    "\n",
    "# OD Pairs directory\n",
    "os.environ['bws_TRIPS'] = os.environ['PROJ_LIB'] + \"/trips_bws\"\n",
    "\n",
    "# create BikewaySim object for running 'bikewaysim' option\n",
    "bws = BikewaySim(os.environ['PROJ_LIB'], os.environ['bws_NETWORK'], os.environ['bws_TRIPS'])"
   ]
  },
  {
   "cell_type": "markdown",
   "metadata": {},
   "source": [
    "### Prepare networks for BikewaySim"
   ]
  },
  {
   "cell_type": "code",
   "execution_count": 4,
   "metadata": {
    "scrolled": false
   },
   "outputs": [
    {
     "name": "stdout",
     "output_type": "stream",
     "text": [
      "** Initialize BikewaySim network **\n"
     ]
    },
    {
     "ename": "FileNotFoundError",
     "evalue": "[WinError 2] The system cannot find the file specified: 'C:\\\\Users\\\\tpassmore6/Documents/GitHub/BikewaySimDev\\\\build_graph'",
     "output_type": "error",
     "traceback": [
      "\u001b[1;31m---------------------------------------------------------------------------\u001b[0m",
      "\u001b[1;31mFileNotFoundError\u001b[0m                         Traceback (most recent call last)",
      "\u001b[1;32mC:\\Users\\TPASSM~1\\AppData\\Local\\Temp/ipykernel_296568/4094072279.py\u001b[0m in \u001b[0;36m<module>\u001b[1;34m\u001b[0m\n\u001b[0;32m      1\u001b[0m \u001b[1;31m# prepare networks\u001b[0m\u001b[1;33m\u001b[0m\u001b[1;33m\u001b[0m\u001b[0m\n\u001b[1;32m----> 2\u001b[1;33m \u001b[0mdf_links\u001b[0m\u001b[1;33m,\u001b[0m \u001b[0mdict_bike\u001b[0m \u001b[1;33m=\u001b[0m \u001b[0mbws\u001b[0m\u001b[1;33m.\u001b[0m\u001b[0mprepare_network\u001b[0m\u001b[1;33m(\u001b[0m\u001b[0mgrid_size\u001b[0m\u001b[1;33m=\u001b[0m\u001b[1;36m10000\u001b[0m\u001b[1;33m)\u001b[0m\u001b[1;33m\u001b[0m\u001b[1;33m\u001b[0m\u001b[0m\n\u001b[0m\u001b[0;32m      3\u001b[0m \u001b[1;31m# print default settings\u001b[0m\u001b[1;33m\u001b[0m\u001b[1;33m\u001b[0m\u001b[0m\n",
      "\u001b[1;32m~\\Documents\\GitHub\\BikewaySimDev\\core_script\\getPaths_transportSim.py\u001b[0m in \u001b[0;36mtimed\u001b[1;34m(*args, **kw)\u001b[0m\n\u001b[0;32m     11\u001b[0m     \u001b[1;32mdef\u001b[0m \u001b[0mtimed\u001b[0m\u001b[1;33m(\u001b[0m\u001b[1;33m*\u001b[0m\u001b[0margs\u001b[0m\u001b[1;33m,\u001b[0m \u001b[1;33m**\u001b[0m\u001b[0mkw\u001b[0m\u001b[1;33m)\u001b[0m\u001b[1;33m:\u001b[0m\u001b[1;33m\u001b[0m\u001b[1;33m\u001b[0m\u001b[0m\n\u001b[0;32m     12\u001b[0m         \u001b[0mts\u001b[0m \u001b[1;33m=\u001b[0m \u001b[0mtime\u001b[0m\u001b[1;33m.\u001b[0m\u001b[0mtime\u001b[0m\u001b[1;33m(\u001b[0m\u001b[1;33m)\u001b[0m\u001b[1;33m\u001b[0m\u001b[1;33m\u001b[0m\u001b[0m\n\u001b[1;32m---> 13\u001b[1;33m         \u001b[0mresult\u001b[0m \u001b[1;33m=\u001b[0m \u001b[0mmethod\u001b[0m\u001b[1;33m(\u001b[0m\u001b[1;33m*\u001b[0m\u001b[0margs\u001b[0m\u001b[1;33m,\u001b[0m \u001b[1;33m**\u001b[0m\u001b[0mkw\u001b[0m\u001b[1;33m)\u001b[0m\u001b[1;33m\u001b[0m\u001b[1;33m\u001b[0m\u001b[0m\n\u001b[0m\u001b[0;32m     14\u001b[0m         \u001b[0mte\u001b[0m \u001b[1;33m=\u001b[0m \u001b[0mtime\u001b[0m\u001b[1;33m.\u001b[0m\u001b[0mtime\u001b[0m\u001b[1;33m(\u001b[0m\u001b[1;33m)\u001b[0m\u001b[1;33m\u001b[0m\u001b[1;33m\u001b[0m\u001b[0m\n\u001b[0;32m     15\u001b[0m         \u001b[1;32mif\u001b[0m \u001b[1;34m'log_time'\u001b[0m \u001b[1;32min\u001b[0m \u001b[0mkw\u001b[0m\u001b[1;33m:\u001b[0m\u001b[1;33m\u001b[0m\u001b[1;33m\u001b[0m\u001b[0m\n",
      "\u001b[1;32m~\\Documents\\GitHub\\BikewaySimDev\\core_script\\getPaths_transportSim.py\u001b[0m in \u001b[0;36mprepare_network\u001b[1;34m(self, grid_size)\u001b[0m\n\u001b[0;32m    102\u001b[0m             \u001b[1;31m# change to graph directory\u001b[0m\u001b[1;33m\u001b[0m\u001b[1;33m\u001b[0m\u001b[0m\n\u001b[0;32m    103\u001b[0m             \u001b[0mdir_path\u001b[0m \u001b[1;33m=\u001b[0m \u001b[0mos\u001b[0m\u001b[1;33m.\u001b[0m\u001b[0mpath\u001b[0m\u001b[1;33m.\u001b[0m\u001b[0mjoin\u001b[0m\u001b[1;33m(\u001b[0m\u001b[0mself\u001b[0m\u001b[1;33m.\u001b[0m\u001b[0mproj_lib\u001b[0m\u001b[1;33m,\u001b[0m \u001b[1;34m'build_graph'\u001b[0m\u001b[1;33m)\u001b[0m\u001b[1;33m\u001b[0m\u001b[1;33m\u001b[0m\u001b[0m\n\u001b[1;32m--> 104\u001b[1;33m             \u001b[0mos\u001b[0m\u001b[1;33m.\u001b[0m\u001b[0mchdir\u001b[0m\u001b[1;33m(\u001b[0m\u001b[0mdir_path\u001b[0m\u001b[1;33m)\u001b[0m\u001b[1;33m\u001b[0m\u001b[1;33m\u001b[0m\u001b[0m\n\u001b[0m\u001b[0;32m    105\u001b[0m             \u001b[0mdf_links\u001b[0m \u001b[1;33m=\u001b[0m \u001b[0minitialize_abm15_links\u001b[0m\u001b[1;33m(\u001b[0m\u001b[1;33m)\u001b[0m\u001b[1;33m\u001b[0m\u001b[1;33m\u001b[0m\u001b[0m\n\u001b[0;32m    106\u001b[0m             \u001b[1;31m# save file to .gdb for reuse\u001b[0m\u001b[1;33m\u001b[0m\u001b[1;33m\u001b[0m\u001b[0m\n",
      "\u001b[1;31mFileNotFoundError\u001b[0m: [WinError 2] The system cannot find the file specified: 'C:\\\\Users\\\\tpassmore6/Documents/GitHub/BikewaySimDev\\\\build_graph'"
     ]
    }
   ],
   "source": [
    "# prepare networks\n",
    "df_links, dict_bike = bws.prepare_network(grid_size=10000)\n",
    "# print default settings"
   ]
  },
  {
   "cell_type": "code",
   "execution_count": 21,
   "metadata": {},
   "outputs": [
    {
     "name": "stdout",
     "output_type": "stream",
     "text": [
      "Set/Update BikewaySim dict_settings!\n"
     ]
    }
   ],
   "source": [
    "# strategy: 1. given origin time find earliest arrival\n",
    "#           2. given expected arrival time find latest departure time\n",
    "dict_settings = {'walk_speed': 2.0,  # people's walking speed 2 mph\n",
    "                 'grid_size': 10000.0,  # for searching nearby links by grouping links to grids with width 10000 ft. for efficiency in searching\n",
    "                 'ntp_dist_thresh': 5280.0,  # node to point (maximum distance access to network from origin/destination); (walking) distance threshold\n",
    "                 'network': {'bike': dict_bike},  # dump in networks and modes\n",
    "                 # strategy determines network link's direction.\n",
    "                 # Strategy 1: Find earliest arrival given query time as departure time\n",
    "                 # Strategy 2: Find latest departure time given query time as arrival time\n",
    "             \n",
    "                 'strategy': {'bike': 1},  # 1. find earliest arrival 2. find latest departure\n",
    "                 'query_time': [8],  # departure time or arrival time of a trip, depends on the strategy\n",
    "                 \n",
    "                 'walk_thresh': {'bike': 0.1},  # walking threshold is 0.1 miles\n",
    "                 'num_options': {'bike': 1},  # if set to 2, return 2-shortest paths\n",
    "                 'plot_all': False,  # if True, plot results and save plots for all routes found #this is broken now\n",
    "                 'one_by_one': False  # set time and strategy one by one\n",
    "                 }\n",
    "# load dict_settings to the sws object\n",
    "bws.dict_settings = dict_settings"
   ]
  },
  {
   "cell_type": "code",
   "execution_count": 22,
   "metadata": {
    "scrolled": false
   },
   "outputs": [
    {
     "name": "stdout",
     "output_type": "stream",
     "text": [
      "** load trip data & prepare sample **\n",
      "It takes 0.004 seconds to run the function 'prepare_trips()'!\n"
     ]
    },
    {
     "data": {
      "text/html": [
       "<div>\n",
       "<style scoped>\n",
       "    .dataframe tbody tr th:only-of-type {\n",
       "        vertical-align: middle;\n",
       "    }\n",
       "\n",
       "    .dataframe tbody tr th {\n",
       "        vertical-align: top;\n",
       "    }\n",
       "\n",
       "    .dataframe thead th {\n",
       "        text-align: right;\n",
       "    }\n",
       "</style>\n",
       "<table border=\"1\" class=\"dataframe\">\n",
       "  <thead>\n",
       "    <tr style=\"text-align: right;\">\n",
       "      <th></th>\n",
       "      <th>trip_id</th>\n",
       "      <th>ori_lat</th>\n",
       "      <th>ori_lon</th>\n",
       "      <th>dest_lat</th>\n",
       "      <th>dest_lon</th>\n",
       "      <th>geometry</th>\n",
       "      <th>ox</th>\n",
       "      <th>oy</th>\n",
       "      <th>ox_sq</th>\n",
       "      <th>oy_sq</th>\n",
       "      <th>o_node</th>\n",
       "      <th>o_t</th>\n",
       "      <th>o_d</th>\n",
       "      <th>dx</th>\n",
       "      <th>dy</th>\n",
       "      <th>dx_sq</th>\n",
       "      <th>dy_sq</th>\n",
       "      <th>d_node</th>\n",
       "      <th>d_t</th>\n",
       "      <th>d_d</th>\n",
       "      <th>sample</th>\n",
       "    </tr>\n",
       "  </thead>\n",
       "  <tbody>\n",
       "    <tr>\n",
       "      <th>0</th>\n",
       "      <td>565_496</td>\n",
       "      <td>33.780671</td>\n",
       "      <td>-84.370917</td>\n",
       "      <td>33.783959</td>\n",
       "      <td>-84.39495</td>\n",
       "      <td>POINT (2227222.72935231 1376527.138044648)</td>\n",
       "      <td>2.234522e+06</td>\n",
       "      <td>1.375315e+06</td>\n",
       "      <td>223.0</td>\n",
       "      <td>138.0</td>\n",
       "      <td>110299693</td>\n",
       "      <td>0.038204</td>\n",
       "      <td>0.076407</td>\n",
       "      <td>2.227223e+06</td>\n",
       "      <td>1.376527e+06</td>\n",
       "      <td>223.0</td>\n",
       "      <td>138.0</td>\n",
       "      <td>210811082760</td>\n",
       "      <td>0.044035</td>\n",
       "      <td>0.088071</td>\n",
       "      <td>test_nodes_node</td>\n",
       "    </tr>\n",
       "  </tbody>\n",
       "</table>\n",
       "</div>"
      ],
      "text/plain": [
       "   trip_id    ori_lat    ori_lon   dest_lat  dest_lon  \\\n",
       "0  565_496  33.780671 -84.370917  33.783959 -84.39495   \n",
       "\n",
       "                                     geometry            ox            oy  \\\n",
       "0  POINT (2227222.72935231 1376527.138044648)  2.234522e+06  1.375315e+06   \n",
       "\n",
       "   ox_sq  oy_sq     o_node       o_t       o_d            dx            dy  \\\n",
       "0  223.0  138.0  110299693  0.038204  0.076407  2.227223e+06  1.376527e+06   \n",
       "\n",
       "   dx_sq  dy_sq        d_node       d_t       d_d           sample  \n",
       "0  223.0  138.0  210811082760  0.044035  0.088071  test_nodes_node  "
      ]
     },
     "metadata": {},
     "output_type": "display_data"
    }
   ],
   "source": [
    "df_points = bws.prepare_trips(option='bike')\n",
    "display(df_points.head())"
   ]
  },
  {
   "cell_type": "code",
   "execution_count": 23,
   "metadata": {
    "scrolled": false
   },
   "outputs": [
    {
     "name": "stdout",
     "output_type": "stream",
     "text": [
      "**for each trip, find k-shortest paths**\n",
      "PATH #: 0\n",
      "['110299693', '110265227', '110280594', '11052239', '3212278', '3212270', '3212265', '3211999', '3211943', '3211932', '110299695', '11051969', '11051966', '11010854', '11010856', '11051960', '110232926', '110232927', '11051939', '110276966', '110232928', '11051936', '110299664', '11051934', '110233609', '110285795', '11051928', '11051842', '110502440', '11051841', '11051838', '11051836', '110232956', '11051835', '110299648', '11051812', '110299645', '11051805', '2101181587665', '2101181587667', '21044579950', '21044579955', '21044579956', '2101181587656', '11051819', '11051824', '11051826', '21044579979', '210811082760']\n",
      "It takes 0.130 seconds to run the function 'run_all()'!\n"
     ]
    }
   ],
   "source": [
    "# run all queries\n",
    "bws.run_all()"
   ]
  },
  {
   "cell_type": "markdown",
   "metadata": {},
   "source": [
    "# Results\n",
    "\n",
    "The trip inputs & results are stored in ' ***/trips_bws/results*** '\n",
    "\n",
    "### Columns defintion of the output results\n",
    "Every row correpsonds to a link<br>\n",
    "**A**: origin node id<br>\n",
    "**B**: destination node id<br>\n",
    "**dist**: distances<br>\n",
    "**mode**: mode of transportation (e.g., walk, bike, etc.)<br>\n",
    "**strategy**: chosen strategy<br>\n",
    "**route_num**: the k number of k-shortest routes return for each link<br>\n",
    "**sequence**: the trip segment number in a sequence of trips<br>\n",
    "**time**: time it takes to travel through the link<br>\n",
    "**timeStamp**: accumulative time of the current trip (in hours)<br>\n",
    "**trip_id**: trip id (from the trip query)<br>\n",
    "**route**: if there is a crosswalk, which crosswalk it uses<br>\n",
    "\n",
    "### For graph outputs\n",
    "\n",
    "***BikeSim/build_graph/results_routes***\n",
    "\n",
    "naming rule:\n",
    "\n",
    "{trip_id}_{(k-1)th route}.PNG\n",
    "\n",
    "e.g.,\n",
    "\n",
    "{4001880_1_1}_{0}.PNG"
   ]
  },
  {
   "cell_type": "code",
   "execution_count": null,
   "metadata": {},
   "outputs": [],
   "source": []
  }
 ],
 "metadata": {
  "kernelspec": {
   "display_name": "Python 3 (ipykernel)",
   "language": "python",
   "name": "python3"
  },
  "language_info": {
   "codemirror_mode": {
    "name": "ipython",
    "version": 3
   },
   "file_extension": ".py",
   "mimetype": "text/x-python",
   "name": "python",
   "nbconvert_exporter": "python",
   "pygments_lexer": "ipython3",
   "version": "3.9.7"
  },
  "varInspector": {
   "cols": {
    "lenName": 16,
    "lenType": 16,
    "lenVar": 40
   },
   "kernels_config": {
    "python": {
     "delete_cmd_postfix": "",
     "delete_cmd_prefix": "del ",
     "library": "var_list.py",
     "varRefreshCmd": "print(var_dic_list())"
    },
    "r": {
     "delete_cmd_postfix": ") ",
     "delete_cmd_prefix": "rm(",
     "library": "var_list.r",
     "varRefreshCmd": "cat(var_dic_list()) "
    }
   },
   "types_to_exclude": [
    "module",
    "function",
    "builtin_function_or_method",
    "instance",
    "_Feature"
   ],
   "window_display": false
  }
 },
 "nbformat": 4,
 "nbformat_minor": 4
}

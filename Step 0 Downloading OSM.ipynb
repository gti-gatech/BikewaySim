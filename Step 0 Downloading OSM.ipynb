{
 "cells": [
  {
   "attachments": {},
   "cell_type": "markdown",
   "id": "27c63a10",
   "metadata": {},
   "source": [
    "# OSM Downloading"
   ]
  },
  {
   "cell_type": "markdown",
   "id": "5dc15aaa",
   "metadata": {},
   "source": [
    "## Import Packages"
   ]
  },
  {
   "cell_type": "code",
   "execution_count": null,
   "id": "259b1425",
   "metadata": {},
   "outputs": [],
   "source": [
    "import os\n",
    "import geopandas as gpd\n",
    "import numpy as np\n",
    "import pandas as pd\n",
    "import pickle\n",
    "from pathlib import Path\n",
    "import networkx as nx\n",
    "import matplotlib.pyplot as plt\n",
    "import contextily as cx\n"
   ]
  },
  {
   "cell_type": "markdown",
   "id": "a134c74c",
   "metadata": {},
   "source": [
    "## Import custom modules"
   ]
  },
  {
   "cell_type": "code",
   "execution_count": null,
   "id": "c578881d",
   "metadata": {},
   "outputs": [],
   "source": [
    "from osm_dwnld import * #contains functions for downloaded data from OSMnx and Overpass API"
   ]
  },
  {
   "cell_type": "markdown",
   "id": "35042208",
   "metadata": {},
   "source": [
    "## Choose Study Area"
   ]
  },
  {
   "cell_type": "code",
   "execution_count": null,
   "id": "7f7976bc",
   "metadata": {},
   "outputs": [],
   "source": [
    "#give filepath of a shapefile/geojson/geopackage and study area name\n",
    "\n",
    "studyarea_fp = Path.home() / Path('Documents/NewBikewaySimData/Data/Study Areas/bikewaysim_studyarea.geojson')\n",
    "studyarea_name = 'bikewaysim'\n",
    "crs = \"epsg:2240\"\n",
    "export_fp = Path.home() / Path('Documents/NewBikewaySimData/Data')\n",
    "\n",
    "#studyareafp = r'base_shapefiles/bikewaysim_study_area/bikewaysim_study_area.shp'\n",
    "#studyareaname = 'bikewaysim'\n",
    "\n",
    "#studyareafp = r'base_shapefiles/studyareas/ITS4US_StudyBoundary.shp'\n",
    "#studyareaname = 'its4us'\n",
    "\n",
    "#studyareafp = r'base_shapefiles/coa/Atlanta_City_Limits.shp'\n",
    "#studyareaname = 'coa'\n",
    "\n",
    "#studyareafp = r'base_shapefiles/arc/arc_bounds.shp'\n",
    "#studyareaname = 'arc'\n",
    "\n",
    "#studyareafp = r'base_shapefiles/studyareas/marta.gpkg'\n",
    "#studyareaname = 'marta'\n",
    "\n",
    "#studyareafp = r'base_shapefiles/studyareas/atl_district5.gpkg'\n",
    "#studyareaname = 'atl_district5'\n",
    "\n",
    "#read in study area polygon and convert to WGS 84\n",
    "gdf = gpd.read_file(studyarea_fp).to_crs(epsg=4326)\n",
    "ax = gdf.plot(figsize=(10,10),alpha=0.5,edgecolor='k')\n",
    "cx.add_basemap(ax, crs=gdf.crs)"
   ]
  },
  {
   "cell_type": "code",
   "execution_count": null,
   "id": "e76480b2",
   "metadata": {},
   "outputs": [],
   "source": [
    "export_dir = export_fp / Path(f'osm')\n",
    "\n",
    "#create osm folder if it doesn't exist already\n",
    "if not export_dir.exists():\n",
    "    export_dir.mkdir()"
   ]
  },
  {
   "attachments": {},
   "cell_type": "markdown",
   "id": "401d88cf",
   "metadata": {},
   "source": [
    "## Download OSM geometry using OSMnx and attribute data using Overpass API\n",
    "More info about OSMnx: https://geoffboeing.com/2016/11/osmnx-python-street-networks/  \n",
    "OSMnx documentation: https://osmnx.readthedocs.io/en/stable/index.html"
   ]
  },
  {
   "cell_type": "code",
   "execution_count": null,
   "id": "ff22a237",
   "metadata": {},
   "outputs": [],
   "source": [
    "osm_nodes, osm_links = download_osm(gdf)"
   ]
  },
  {
   "cell_type": "code",
   "execution_count": null,
   "id": "52e7b949",
   "metadata": {},
   "outputs": [],
   "source": [
    "osm_nodes.head()"
   ]
  },
  {
   "cell_type": "code",
   "execution_count": null,
   "id": "5c50401e",
   "metadata": {},
   "outputs": [],
   "source": [
    "osm_links.head()"
   ]
  },
  {
   "cell_type": "markdown",
   "id": "df39b5eb",
   "metadata": {},
   "source": [
    "### Which columns to keep?\n",
    "1. Check for commpletion\n",
    "1. Check for desired attributes (speed, bike lanes, etc.)\n",
    "1. Filter to just those"
   ]
  },
  {
   "cell_type": "code",
   "execution_count": null,
   "id": "288354be",
   "metadata": {},
   "outputs": [],
   "source": [
    "#project to desired crs\n",
    "network_length = osm_links.to_crs(crs).length\n",
    "total_network_length = osm_links.to_crs(crs).length.sum()\n",
    "\n",
    "#get pct complete weighted by total distance\n",
    "attr_completion = osm_links.notna().apply(lambda col: col*network_length,axis=0).sum() / total_network_length\n",
    "attr_completion.name = 'prop_complete'\n",
    "\n",
    "#retrieve all complete fields\n",
    "complete = list(attr_completion[attr_completion>0.95].index)\n",
    "less_complete = list(attr_completion[attr_completion<=0.95].index)\n",
    "\n",
    "#export attr completion csv\n",
    "attr_completion.to_csv(export_fp / Path(f'osm/{studyarea_name}_attr_completion.csv'))"
   ]
  },
  {
   "cell_type": "markdown",
   "id": "d853fbac",
   "metadata": {},
   "source": [
    "### Most attributes in OSM are empty"
   ]
  },
  {
   "cell_type": "code",
   "execution_count": null,
   "id": "70b2247b",
   "metadata": {},
   "outputs": [],
   "source": [
    "# Make boxplot\n",
    "marks = np.array(attr_completion)\n",
    "\n",
    "fig, axis = plt.subplots(figsize =(10, 5))\n",
    "axis.hist(marks, bins = np.array([x for x in range(0, 110, 10)]) / 100)\n",
    "plt.xlabel('Proportion of Attribute Complete')\n",
    "plt.ylabel('Frequency')\n",
    "# Displaying the graph\n",
    "plt.show()"
   ]
  },
  {
   "attachments": {},
   "cell_type": "markdown",
   "id": "4f73957c",
   "metadata": {},
   "source": [
    "### Examine which attributes are present\n",
    "Try 'maxspeed' or 'lanes'"
   ]
  },
  {
   "cell_type": "code",
   "execution_count": null,
   "id": "a9596572",
   "metadata": {},
   "outputs": [],
   "source": [
    "#others to check: 'cycleway','lanes'\n",
    "attributes_to_check = ['maxspeed']\n",
    "osm_links.loc[osm_links[attributes_to_check].notna().any(axis=1),attributes_to_check+['geometry']].explore()"
   ]
  },
  {
   "attachments": {},
   "cell_type": "markdown",
   "id": "a302d13e",
   "metadata": {},
   "source": [
    "## Look at value counts to look at possible attribute values"
   ]
  },
  {
   "cell_type": "code",
   "execution_count": null,
   "id": "c6b47195",
   "metadata": {},
   "outputs": [],
   "source": [
    "osm_links['lanes'].value_counts()"
   ]
  },
  {
   "attachments": {},
   "cell_type": "markdown",
   "id": "bc3879f9",
   "metadata": {},
   "source": [
    "# Attributes to Export (reduces size of geopackage)\n",
    "Add more as needed"
   ]
  },
  {
   "cell_type": "code",
   "execution_count": null,
   "id": "b31e3fcf",
   "metadata": {},
   "outputs": [],
   "source": [
    "# road attributes\n",
    "road_columns = ['name','highway_1','oneway','lanes','maxspeed','bridge','crossing','sidewalk']\n",
    "\n",
    "# parking attributes\n",
    "parking_columns = [x for x in osm_links.columns.to_list() if 'parking' in x]\n",
    "\n",
    "# bike attributes\n",
    "bike_columns = [x for x in osm_links.columns.to_list() if (('cycle' in x) | ('bike' in x)) & ('motorcycle' not in x)]\n",
    "foot_columns = [x for x in osm_links.columns.to_list() if ('foot' in x)]\n",
    "bike_columns = bike_columns + foot_columns + ['lit']"
   ]
  },
  {
   "cell_type": "code",
   "execution_count": null,
   "id": "7052891c",
   "metadata": {},
   "outputs": [],
   "source": [
    "osm_export = osm_links[complete+bike_columns+road_columns+parking_columns]\n",
    "\n",
    "#remove columns with lists in them (handle these later)\n",
    "for col in osm_export.columns.tolist():\n",
    "    if list in [type(x) for x in osm_links.loc[:,col]]:\n",
    "        osm_export.drop(columns=col,inplace=True)\n",
    "        print(f\"{col} column removed...\")   "
   ]
  },
  {
   "cell_type": "markdown",
   "id": "c4cdc70a",
   "metadata": {},
   "source": [
    "# Filter and Export"
   ]
  },
  {
   "cell_type": "code",
   "execution_count": null,
   "id": "84304730",
   "metadata": {},
   "outputs": [],
   "source": [
    "osm_nodes.to_file(export_fp / Path(f'osm/{studyarea_name}.gpkg'),layer='nodes')\n",
    "osm_export.to_file(export_fp / Path(f'osm/{studyarea_name}.gpkg'),layer='links')"
   ]
  },
  {
   "cell_type": "markdown",
   "id": "b87b7cb2",
   "metadata": {},
   "source": [
    "# Just Bike Infrastructure"
   ]
  },
  {
   "cell_type": "code",
   "execution_count": null,
   "id": "4b9e687c",
   "metadata": {},
   "outputs": [],
   "source": [
    "#create copy\n",
    "bike_lanes = osm_links.copy()\n",
    "\n",
    "#drop no bicycle\n",
    "bike_lanes = bike_lanes[bike_lanes['bicycle']!='no']\n",
    "bike_lanes = bike_lanes[bike_lanes['lit']!='no']\n",
    "\n",
    "#drop shared lanes\n",
    "not_sharedlane = (bike_lanes[bike_columns] != 'shared_lane').all(axis=1)\n",
    "bike_lanes = bike_lanes.loc[not_sharedlane,:]\n",
    "\n",
    "#remove sidewalks unless bikes explicitly allowed\n",
    "remove_sidewalks = (bike_lanes['footway'].isin(['sidewalk','crossing'])) & (bike_lanes['bicycle'] != 'yes')\n",
    "bike_lanes = bike_lanes[-remove_sidewalks] \n",
    "\n",
    "#drop the bicycle column\n",
    "#bike_lanes.drop(columns=['bicycle','maxspeed:bicycle'],inplace=True)\n",
    "\n",
    "#filter on bike specific columns\n",
    "#drop_na = bike_lanes[filt].notna().any(axis=1)\n",
    "#not_no = (bike_lanes[filt] != 'no').all(axis=1)\n",
    "\n",
    "\n",
    "#bike_lanes = bike_lanes.loc[drop_na & not_no & not_sharedlane,filt+['geometry','highway']].copy()\n",
    "#bike_lanes = bike_lanes.loc[:,filt+['geometry','highway','highway_1']]\n",
    "\n",
    "#specific bike columns\n",
    "\n",
    "#drop the bicycle yes values\n",
    "#bike_lanes = bike_lanes[bike_lanes['bicycle']!='yes']\n",
    "\n",
    "#need beltline and stuff\n",
    "bike_lanes.explore()"
   ]
  },
  {
   "attachments": {},
   "cell_type": "markdown",
   "id": "e5fa5e87",
   "metadata": {},
   "source": [
    "## Pickle all the attributes"
   ]
  },
  {
   "cell_type": "code",
   "execution_count": null,
   "id": "6c14b333",
   "metadata": {},
   "outputs": [],
   "source": [
    "with (export_fp / Path(f'osm/{studyarea_name}_all_attr.pkl')).open('wb') as fh:\n",
    "        pickle.dump(osm_links,fh)"
   ]
  },
  {
   "cell_type": "markdown",
   "id": "2d9548e6",
   "metadata": {},
   "source": [
    "Remove columns with unsupported datatypes"
   ]
  },
  {
   "cell_type": "code",
   "execution_count": null,
   "id": "8ec95647",
   "metadata": {},
   "outputs": [],
   "source": [
    "for col in osm_links.columns.tolist():\n",
    "    if list in [type(x) for x in osm_links.loc[:,col]]:\n",
    "        osm_links.drop(columns=col,inplace=True)\n",
    "        print(f\"{col} column removed...\")        "
   ]
  },
  {
   "cell_type": "markdown",
   "id": "638a7cf3",
   "metadata": {},
   "source": [
    "#### Preprocess\n",
    "- Remove controlled access roads\n",
    "- Remove sidewalks and crosswalks unless they explicitly allow bikes"
   ]
  },
  {
   "attachments": {},
   "cell_type": "markdown",
   "id": "29ddf07b",
   "metadata": {},
   "source": [
    "# Quick Export\n",
    "- Remove restricted access roads\n",
    "- Remove sidewalks"
   ]
  },
  {
   "cell_type": "code",
   "execution_count": null,
   "id": "039a5e1e",
   "metadata": {},
   "outputs": [],
   "source": [
    "#remove restricted access roads + sidewalks\n",
    "restr_access = links['highway'].isin(['motorway','motorway_link'])\n",
    "links = links[-restr_access]\n",
    "\n",
    "#remove sidewalks unless bikes explicitly allowed\n",
    "remove_sidewalks = (links['footway'].isin(['sidewalk','crossing'])) & (links['bicycle'] != 'yes')\n",
    "links = links[-remove_sidewalks]    \n",
    "\n",
    "#find service links that still have a name\n",
    "service_links_with_name = links[ (links['highway'] == 'service') & (links['name'].isnull() == False) ]\n",
    "\n",
    "osm_filter_method = ['primary','primary_link','residential','secondary','secondary_link',\n",
    "                    'tertiary','tertiary_link','trunk','trunk_link','cycleway','footway','path','pedestrian','steps'] \n",
    "\n",
    "links = links[links[\"highway\"].isin(osm_filter_method)]\n",
    "\n",
    "#add back in service links with a name\n",
    "links = links.append(service_links_with_name)\n",
    "\n",
    "#remove nodes that aren't in filtered links\n",
    "nodes = osm_links_filt['A'].append(osm_links_filt['B']).unique()\n",
    "osm_nodes_filt = osm_nodes[osm_nodes['osmid'].isin(nodes)]\n",
    "\n",
    "#export these two"
   ]
  },
  {
   "cell_type": "markdown",
   "id": "d6aab63f",
   "metadata": {},
   "source": [
    "Sometimes, there are duplicate attribute names in OSM. The below code drops duplicate column names by first appearance"
   ]
  },
  {
   "cell_type": "code",
   "execution_count": null,
   "id": "096c0b84",
   "metadata": {},
   "outputs": [],
   "source": [
    "#get rid of duplicate columns names\n",
    "#overpass_links = overpass_links.iloc[:,overpass_links.columns.str.lower().duplicated(keep='first') == False]\n"
   ]
  }
 ],
 "metadata": {
  "kernelspec": {
   "display_name": "Python 3 (ipykernel)",
   "language": "python",
   "name": "python3"
  },
  "language_info": {
   "codemirror_mode": {
    "name": "ipython",
    "version": 3
   },
   "file_extension": ".py",
   "mimetype": "text/x-python",
   "name": "python",
   "nbconvert_exporter": "python",
   "pygments_lexer": "ipython3",
   "version": "3.9.13"
  },
  "varInspector": {
   "cols": {
    "lenName": 16,
    "lenType": 16,
    "lenVar": 40
   },
   "kernels_config": {
    "python": {
     "delete_cmd_postfix": "",
     "delete_cmd_prefix": "del ",
     "library": "var_list.py",
     "varRefreshCmd": "print(var_dic_list())"
    },
    "r": {
     "delete_cmd_postfix": ") ",
     "delete_cmd_prefix": "rm(",
     "library": "var_list.r",
     "varRefreshCmd": "cat(var_dic_list()) "
    }
   },
   "types_to_exclude": [
    "module",
    "function",
    "builtin_function_or_method",
    "instance",
    "_Feature"
   ],
   "window_display": false
  }
 },
 "nbformat": 4,
 "nbformat_minor": 5
}

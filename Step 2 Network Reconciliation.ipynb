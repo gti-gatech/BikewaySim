{
 "cells": [
  {
   "attachments": {},
   "cell_type": "markdown",
   "id": "b3a0e84c",
   "metadata": {},
   "source": [
    "## Step 2 Network Reconciliation\n",
    "---\n",
    "Use this notebook to setup a semi-automated reconciliation process using functions available in 'conflation_tools.py' and 'network_reconcile.py.' Unlike the other notebooks, this can't just be run block by block.\n",
    "\n",
    "In general, you want to select one network to act as the base network (ground-truth) and add network data/attributes from the other networks.\n",
    "\n",
    "These are the main functions in the conflation_tools module (type help(function_name) for a detailed description):\n",
    "- match_nodes: finds node pairs between base and join network\n",
    "- split_lines_create_points: Uses points from the join network to split links in the base network\n",
    "- add_split_links: add the split links \n",
    "\n",
    "From network_filter\n",
    "- add_ref_ids: adds new reference ids from teh nodes layer\n",
    "\n",
    "The network_reconcile module contains functions for dealing with attribute data\n",
    "- add_attributes: Uses a buffer and difference in heading method to determine link pairs from one network to another\n",
    "\n",
    "The following three functions add attribute data back into the network and pre-processes it to match up with the desired impedance columns. These are custom network specific functions, so if adding a new network, will need to make another specific function.\n",
    "- add_osm_attr\n",
    "- add_here_attr\n",
    "- add_abm_attr\n",
    "\n",
    "Once finished reconciling, network can be exported for manual reconciling or it can be prepped for network routing in BikewaySim.\n",
    "\n",
    "type \"help(insert_name_of_function)\" to get more information about what the function does."
   ]
  },
  {
   "attachments": {},
   "cell_type": "markdown",
   "id": "31b74c49",
   "metadata": {},
   "source": [
    "## Import Modules"
   ]
  },
  {
   "cell_type": "code",
   "execution_count": 2,
   "id": "a7001d7f",
   "metadata": {},
   "outputs": [],
   "source": [
    "from pathlib import Path\n",
    "import geopandas as gpd\n",
    "import pandas as pd\n",
    "\n",
    "from conflation_tools import *\n",
    "from network_filter import *\n",
    "from network_reconcile import *"
   ]
  },
  {
   "attachments": {},
   "cell_type": "markdown",
   "id": "4ffa2e1b",
   "metadata": {},
   "source": [
    "# Network Reconciliation for NCST Project Bike Portion\n",
    "---\n",
    "This workflow was used in reconciling the network used in the second part of the NCST project.\n",
    "\n",
    "In the bike portion, the OSM network serves as the base network, and the HERE road network is used to add additional road attributes on speed, the number of lanes, etc. The HERE attributes will only be added to the OSM road layer to minimize incorrect matches. (NOTE: attribute matches will need to be QA/QC'd manually, this function just serves to populate a base network with the most likely match)\n",
    "   \n",
    "In addition, a non-network geojson file of the Atlanta Regional Comission's Regional Bikeway Inventory 2022 will be used to add additional info to the network.\n",
    "\n",
    "Workflow:\n",
    "- Import OSM road and bike layers\n",
    "- Connect OSM road and bike layers via the dead end links in the bike layer\n",
    "- Add attributes from HERE data and supplemental data on cycling infrastructure from the ARC 2022 Bicycle Facility Inventory\n",
    "- Resolve and simpilify attribute data for impedance calculation in the next notebook\n",
    "- Export"
   ]
  },
  {
   "attachments": {},
   "cell_type": "markdown",
   "id": "0e8b11fa",
   "metadata": {},
   "source": [
    "## Import OSM road and bike layers"
   ]
  },
  {
   "cell_type": "code",
   "execution_count": null,
   "id": "db7ed6d0",
   "metadata": {},
   "outputs": [],
   "source": [
    "# project directory\n",
    "filepath = Path.home() / 'Documents/NewBikewaySimData/networks'\n",
    "\n",
    "#import road layer\n",
    "road_links = gpd.read_file(filepath / 'filtered.gpkg',layer='osm_links_road')\n",
    "road_nodes = gpd.read_file(filepath / 'filtered.gpkg',layer='osm_nodes_road')\n",
    "\n",
    "#import bike layer\n",
    "bike_links = gpd.read_file(filepath / 'filtered.gpkg',layer='osm_links_bike')\n",
    "bike_nodes = gpd.read_file(filepath / 'filtered.gpkg',layer='osm_nodes_bike')"
   ]
  },
  {
   "attachments": {},
   "cell_type": "markdown",
   "id": "3eac25ae",
   "metadata": {},
   "source": [
    "## Connect OSM road and bike layers via the dead end links in the bike layer\n",
    "In this cell, the OSM road and bike layers are reconnected to form one network. To do this, dead end nodes on the bike layer are used to split osm final and create new nodes if no node is near."
   ]
  },
  {
   "cell_type": "code",
   "execution_count": null,
   "id": "27b77f12",
   "metadata": {},
   "outputs": [],
   "source": [
    "#get node count to find dead ends\n",
    "bike_nodes['num_links'] = bike_nodes['osm_N'].map(pd.concat([bike_links['osm_A'],bike_links['osm_B']],ignore_index=True).value_counts())\n",
    "dead_ends = bike_nodes[bike_nodes['num_links']==1]\n",
    "\n",
    "#remove dead ends already connected to road network\n",
    "dead_ends = dead_ends[-dead_ends['osm_N'].isin(road_nodes['osm_N'])]\n",
    "\n",
    "#split osm road links\n",
    "split_lines, split_points, unmatched_join_nodes = split_lines_create_points(dead_ends, 'osm', road_links, 'osm', 40)\n",
    "\n",
    "#add bike nodes to road nodes\n",
    "road_nodes = pd.concat([road_nodes,split_points,bike_nodes],ignore_index=True).drop_duplicates()\n",
    "\n",
    "#add ref ids to split links and then add to road links (replaces the links that were split)\n",
    "split_lines = add_ref_ids(split_lines,road_nodes,'osm')\n",
    "road_links= add_split_links(road_links,split_lines,'osm')\n",
    "\n",
    "#add bike links to road links\n",
    "road_links = pd.concat([road_links,bike_links],ignore_index=True)"
   ]
  },
  {
   "attachments": {},
   "cell_type": "markdown",
   "id": "e1c96358",
   "metadata": {},
   "source": [
    "## Add supplemental attributes to OSM network from HERE and the ARC bicycle inventory"
   ]
  },
  {
   "cell_type": "code",
   "execution_count": null,
   "id": "67220544",
   "metadata": {},
   "outputs": [],
   "source": [
    "help(add_attributes)"
   ]
  },
  {
   "cell_type": "code",
   "execution_count": null,
   "id": "2378e6a9",
   "metadata": {},
   "outputs": [],
   "source": [
    "#add attribute data back to OSM\n",
    "osm = add_osm_attr(road_links,working_dir / f\"{studyarea_name}/osm.pkl\")\n",
    "\n",
    "#import here data and attribute data\n",
    "here = gpd.read_file(working_dir / \"{studyarea_name}/filtered.gpkg\",layer='here_links_road')\n",
    "here = add_here_attr(here,working_dir / f\"{studyarea_name}/here.pkl\")\n",
    "\n",
    "#import arc bicycle inventory data\n",
    "arc_bike = gpd.read_file(working_dir / 'Data/ARC/Regional_Bikeway_Inventory_2022.geojson').to_crs('epsg:2240')\n",
    "\n",
    "#add here road attributes to osm\n",
    "osm = add_attributes(osm, here, 'here', 25 0.9,, dissolve=True)\n",
    "\n",
    "#add arc bike attributes to osm\n",
    "final = add_attributes(road_links, arc_bike, 'arc_bike', 50, 0.9, dissolve=False)"
   ]
  },
  {
   "attachments": {},
   "cell_type": "markdown",
   "id": "0ec550c1",
   "metadata": {},
   "source": [
    "### Reconcile attributes\n",
    "Before exporting to file, we want to simplify the attributes so that an impedance function can be easily applied. In this code block, the lane attributes are "
   ]
  },
  {
   "cell_type": "code",
   "execution_count": null,
   "id": "5228bf7b",
   "metadata": {},
   "outputs": [],
   "source": [
    "networks = ['osm','here','arc']\n",
    "cols = ['bl','pbl','mu','<25mph','25-30mph','>30mph','1lpd','2-3lpd','>4lpd']\n",
    "\n",
    "for col in cols:\n",
    "    final[col] = 0\n",
    "    final[col+'_check'] = final[[ x for x in final.columns.tolist() if col in x]].sum(axis=1)\n",
    "\n",
    "#bike facil (go with osm values for multi-use)\n",
    "final.loc[final['osm_mu'] == 1, 'mu'] = 1\n",
    "final.loc[final['pbl_check'] > 0,'pbl'] = 1\n",
    "final.loc[final['bl_check'] > 0,'bl'] = 1\n",
    "\n",
    "#get bike facilites and export\n",
    "final['bike_facil'] = None\n",
    "final.loc[final['mu'] == 1, 'bike_facil'] = 'Multi-Use Path'\n",
    "final.loc[final['bl'] == 1, 'bike_facil'] = 'Bike Lane'\n",
    "final.loc[final['pbl'] == 1, 'bike_facil'] = 'Protected Bike Lane'\n",
    "\n",
    "#speed (go with here values)\n",
    "final.loc[final['here_<25mph'] == 1, '<25mph'] = 1\n",
    "final.loc[final['here_25-30mph'] == 1, '25-30mph'] = 1\n",
    "final.loc[final['here_>30mph'] == 1, '>30mph'] = 1\n",
    "\n",
    "#lanes (go with here values)\n",
    "final.loc[final['here_1lpd'] == 1, '1lpd'] = 1\n",
    "final.loc[final['here_2-3lpd'] == 1, '2-3lpd'] = 1\n",
    "final.loc[final['here_>4lpd'] == 1, '>4lpd'] = 1\n",
    "\n",
    "#make all other 0 if mu\n",
    "new_cols = ['bl','pbl','<25mph','25-30mph','>30mph','1lpd','2-3lpd','>4lpd']\n",
    "final.loc[final['mu']==1,new_cols] = 0\n",
    "\n",
    "#have pbl over bl\n",
    "final.loc[(final['bl']==1) & (final['pbl']==1),'bl'] = 0\n",
    "\n",
    "#links with no attributes (use highway tag to impute)\n",
    "no_values = final[cols].sum(axis=1) == 0\n",
    "final.loc[no_values & (final['highway']=='residential'),'25-30mph'] = 1\n",
    "final.loc[no_values & (final['highway']=='residential'),'1lpd'] = 1\n",
    "\n",
    "final.loc[no_values & (final['highway']=='service'),'<25mph'] = 1\n",
    "final.loc[no_values & (final['highway']=='service'),'1lpd'] = 1\n",
    "\n",
    "#make this more advanced later\n",
    "others = ['secondary','trunk','trunk_link','tertiary','tertiary_link','primary','secondary_link','primary_link']\n",
    "final.loc[no_values & (final['highway'].isin(others)),'25-30mph'] = 1\n",
    "final.loc[no_values & (final['highway'].isin(others)),'2-3lpd'] = 1\n",
    "\n",
    "final = final[['osm_A','osm_B','osm_A_B','name','highway','oneway','ST_NAME','FUNC_CLASS','DIR_TRAVEL','bike_facil','geometry']+cols]"
   ]
  },
  {
   "attachments": {},
   "cell_type": "markdown",
   "id": "d10cc760",
   "metadata": {},
   "source": [
    "## Export for next step"
   ]
  },
  {
   "cell_type": "code",
   "execution_count": null,
   "id": "b5b0ad05",
   "metadata": {},
   "outputs": [],
   "source": [
    "final.to_file(working_dir / studyarea_name / 'reconciled_network.gpkg',layer='links')\n",
    "road_nodes.to_file(working_dir / studyarea_name / 'reconciled_network.gpkg',layer='nodes')"
   ]
  },
  {
   "attachments": {},
   "cell_type": "markdown",
   "id": "720d4f6d",
   "metadata": {},
   "source": [
    "## Look at where the bike facilities were added"
   ]
  },
  {
   "cell_type": "code",
   "execution_count": null,
   "id": "3fde1eca",
   "metadata": {},
   "outputs": [],
   "source": [
    "final.explore('bike_facil')"
   ]
  },
  {
   "attachments": {},
   "cell_type": "markdown",
   "id": "f19056ac",
   "metadata": {},
   "source": [
    "# NCST Project Workflow for Transit Part\n",
    "---\n",
    "This workflow was used in reconciling the network used in the second part of the NCST project.\n",
    "\n",
    "- Import OSM road and bike layers\n",
    "- Find dead end bike nodes that aren't already present in the road layer\n",
    "- Split road links by these dead ends and add new split links to road layer\n",
    "- Add OSM attributes back to the road network\n",
    "- Export\n",
    "- Create LTS version by taking out stressful links\n",
    "- Export"
   ]
  },
  {
   "cell_type": "code",
   "execution_count": 3,
   "id": "9b7617b8",
   "metadata": {},
   "outputs": [],
   "source": [
    "# project directory\n",
    "filepath = Path.home() / 'Documents/TransitSimData/networks'\n",
    "\n",
    "#import road layer\n",
    "road_links = gpd.read_file(filepath / 'filtered.gpkg',layer='osm_links_road')\n",
    "road_nodes = gpd.read_file(filepath / 'filtered.gpkg',layer='osm_nodes_road')\n",
    "\n",
    "#import bike layer\n",
    "bike_links = gpd.read_file(filepath / 'filtered.gpkg',layer='osm_links_bike')\n",
    "bike_nodes = gpd.read_file(filepath / 'filtered.gpkg',layer='osm_nodes_bike')"
   ]
  },
  {
   "attachments": {},
   "cell_type": "markdown",
   "id": "991444b8",
   "metadata": {},
   "source": [
    "In this cell, the OSM road and bike layers are reconnected to form one network. To do this, dead end nodes on the bike layer are used to split osm final and create new nodes if no node is near."
   ]
  },
  {
   "cell_type": "code",
   "execution_count": null,
   "id": "08ada00b",
   "metadata": {},
   "outputs": [],
   "source": [
    "#get node count to find dead ends\n",
    "bike_nodes['num_links'] = bike_nodes['osm_N'].map(pd.concat([bike_links['osm_A'],bike_links['osm_B']],ignore_index=True).value_counts())\n",
    "dead_ends = bike_nodes[bike_nodes['num_links']==1]\n",
    "\n",
    "#remove dead ends already connected to road network\n",
    "dead_ends = dead_ends[-dead_ends['osm_N'].isin(road_nodes['osm_N'])]\n",
    "\n",
    "#split osm road links\n",
    "split_lines, split_points, unmatched_join_nodes = split_lines_create_points(dead_ends, 'osm', road_links, 'osm', 40)\n",
    "\n",
    "#add bike nodes to road nodes\n",
    "road_nodes = pd.concat([road_nodes,split_points,bike_nodes],ignore_index=True).drop_duplicates()\n",
    "\n",
    "#add ref ids to split links and then add to road links (replaces the links that were split)\n",
    "split_lines = add_ref_ids(split_lines,road_nodes,'osm')\n",
    "road_links= add_split_links(road_links,split_lines,'osm')\n",
    "\n",
    "#add bike links to road links\n",
    "road_links= pd.concat([road_links,bike_links],ignore_index=True)"
   ]
  },
  {
   "cell_type": "code",
   "execution_count": 5,
   "id": "de7a38d7",
   "metadata": {},
   "outputs": [],
   "source": [
    "#add attributes back\n",
    "osm = add_osm_attr(road_links, filepath / 'osm.pkl')\n",
    "\n",
    "#export\n",
    "osm.to_file(filepath / 'reconciled_network.gpkg',layer='links')\n",
    "road_nodes.to_file(filepath / 'reconciled_network.gpkg',layer='nodes')"
   ]
  },
  {
   "cell_type": "code",
   "execution_count": 4,
   "id": "2d6697e5",
   "metadata": {},
   "outputs": [],
   "source": [
    "#add attributes back\n",
    "osm = add_osm_attr(road_links, filepath / 'osm.pkl')\n",
    "\n",
    "#drop stressful links unless they have bike infra\n",
    "stressful = osm['highway'].isin(['primary','primary_link','secondary','secondary_link','tertiary_link','trunk','trunk_link'])\n",
    "bike_infra = osm[['osm_pbl','osm_mu','osm_bl']].sum(axis=1) > 0\n",
    "new_osm = osm[-stressful | bike_infra]\n",
    "\n",
    "#retrieve nodes\n",
    "new_nodes = road_nodes[road_nodes['osm_N'].isin(new_osm['osm_A'].append(new_osm['osm_B']).drop_duplicates())]\n",
    "\n",
    "#export\n",
    "new_osm.to_file(filepath / 'lowstress_network.gpkg',layer='links')\n",
    "new_nodes.to_file(filepath / 'lowstress_network.gpkg',layer='nodes')"
   ]
  }
 ],
 "metadata": {
  "kernelspec": {
   "display_name": "Python 3 (ipykernel)",
   "language": "python",
   "name": "python3"
  },
  "language_info": {
   "codemirror_mode": {
    "name": "ipython",
    "version": 3
   },
   "file_extension": ".py",
   "mimetype": "text/x-python",
   "name": "python",
   "nbconvert_exporter": "python",
   "pygments_lexer": "ipython3",
   "version": "3.9.13"
  },
  "varInspector": {
   "cols": {
    "lenName": 16,
    "lenType": 16,
    "lenVar": 40
   },
   "kernels_config": {
    "python": {
     "delete_cmd_postfix": "",
     "delete_cmd_prefix": "del ",
     "library": "var_list.py",
     "varRefreshCmd": "print(var_dic_list())"
    },
    "r": {
     "delete_cmd_postfix": ") ",
     "delete_cmd_prefix": "rm(",
     "library": "var_list.r",
     "varRefreshCmd": "cat(var_dic_list()) "
    }
   },
   "types_to_exclude": [
    "module",
    "function",
    "builtin_function_or_method",
    "instance",
    "_Feature"
   ],
   "window_display": false
  }
 },
 "nbformat": 4,
 "nbformat_minor": 5
}

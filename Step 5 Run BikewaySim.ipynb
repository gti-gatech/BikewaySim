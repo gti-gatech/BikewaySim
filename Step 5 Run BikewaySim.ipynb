{
 "cells": [
  {
   "cell_type": "markdown",
   "metadata": {},
   "source": [
    "## Step 5 Run BikewaySim\n",
    "\n",
    "1. Process network spatial data into a routable network graph format\n",
    "2. Reconcile networks into one through node and link overlap conflation\n",
    "3. Create final network graph and calculate link costs\n",
    "4. Create OD tables\n",
    "5. __Run BikewaySim__"
   ]
  },
  {
   "attachments": {},
   "cell_type": "markdown",
   "metadata": {},
   "source": [
    "## Import Modules"
   ]
  },
  {
   "cell_type": "code",
   "execution_count": null,
   "metadata": {},
   "outputs": [],
   "source": [
    "import geopandas as gpd\n",
    "from pathlib import Path"
   ]
  },
  {
   "cell_type": "code",
   "execution_count": null,
   "metadata": {},
   "outputs": [],
   "source": [
    "from bikewaysim_lite import *"
   ]
  },
  {
   "attachments": {},
   "cell_type": "markdown",
   "metadata": {},
   "source": [
    "## Import Files"
   ]
  },
  {
   "cell_type": "code",
   "execution_count": null,
   "metadata": {},
   "outputs": [],
   "source": [
    "#define fp names\n",
    "import_fp = Path.home() / Path('Documents/BikewaySimData')\n",
    "export_fp = Path.home() / Path('Documents/BikewaySimData/transport_geos')\n",
    "\n",
    "ods = pd.read_csv(r'bikewaysim_outputs/samples_in/all_tazs.csv')\n",
    "links = gpd.read_file(r'trb2023/network.gpkg',layer='links')\n",
    "improved_links = gpd.read_file('trb2023/network.gpkg',layer='imp_links')\n",
    "#should also have a seperate layer of improved nodes\n",
    "#imp_nodes = gpd.read_file('trb2023/network.gpkg',layer='imp_nodes')\n",
    "nodes = gpd.read_file(r'trb2023/network.gpkg',layer='nodes')\n",
    "tazs = gpd.read_file(r'trb2023/tazs.gpkg',layer='tazs')\n",
    "\n",
    "#reduce size (for testing)\n",
    "#ods=ods.iloc[0:100,:]"
   ]
  },
  {
   "attachments": {},
   "cell_type": "markdown",
   "metadata": {},
   "source": [
    "## Snapping"
   ]
  },
  {
   "cell_type": "code",
   "execution_count": null,
   "metadata": {},
   "outputs": [],
   "source": [
    "#get network nodes\n",
    "ods = snap_ods_to_network(ods,nodes)\n",
    "#need one for improved nodes\n",
    "#ods_improved = snap_ods_to_network(ods,improved_nodes)"
   ]
  },
  {
   "cell_type": "code",
   "execution_count": null,
   "metadata": {},
   "outputs": [],
   "source": [
    "#shortest distance version\n",
    "ods_dist, links = find_shortest(links, nodes, ods, 'dist')"
   ]
  },
  {
   "cell_type": "code",
   "execution_count": null,
   "metadata": {},
   "outputs": [],
   "source": [
    "\n",
    "#impedance version\n",
    "ods_imp, links = find_shortest(links, nodes, ods, 'imp')"
   ]
  },
  {
   "cell_type": "code",
   "execution_count": null,
   "metadata": {},
   "outputs": [],
   "source": [
    "\n",
    "#network improvements (replace with imp_nodes)\n",
    "ods_improved, improved_links = find_shortest(improved_links, nodes, ods, 'imp')"
   ]
  },
  {
   "attachments": {},
   "cell_type": "markdown",
   "metadata": {},
   "source": [
    "## Betweenness Centrality"
   ]
  },
  {
   "cell_type": "code",
   "execution_count": null,
   "metadata": {},
   "outputs": [],
   "source": [
    "#find difference in btw centrality\n",
    "links['btw_difference'] = links['dist_btw_cntrlty'] - links['per_dist_btw_cntrlty']"
   ]
  },
  {
   "attachments": {},
   "cell_type": "markdown",
   "metadata": {},
   "source": [
    "## Percent Detour"
   ]
  },
  {
   "cell_type": "code",
   "execution_count": null,
   "metadata": {},
   "outputs": [],
   "source": [
    "#cacluate pct detour\n",
    "ods_imp, by_taz_imp = percent_detour(ods_dist,ods_imp,tazs)\n",
    "ods_improved, by_taz_improved = percent_detour(ods_dist,ods_imp,tazs)"
   ]
  },
  {
   "attachments": {},
   "cell_type": "markdown",
   "metadata": {},
   "source": [
    "## Basic Stats"
   ]
  },
  {
   "cell_type": "code",
   "execution_count": null,
   "metadata": {},
   "outputs": [],
   "source": [
    "#basic stats\n",
    "#find avg impedance\n",
    "ods.dist.mean()\n",
    "ods.per_dist.mean()\n",
    "ods.imp_dist.mean()"
   ]
  },
  {
   "attachments": {},
   "cell_type": "markdown",
   "metadata": {},
   "source": [
    "# Bikesheds"
   ]
  },
  {
   "cell_type": "code",
   "execution_count": null,
   "metadata": {},
   "outputs": [],
   "source": [
    "bikeshed = {}\n",
    "taz = '553'\n",
    "radius = 10\n",
    "buffer_size = 100\n",
    "\n",
    "#distance impedance\n",
    "bikeshed, bikeshed_node = make_bikeshed(links,nodes,taz,ods,radius,buffer_size,'dist')\n",
    "\n",
    "#attribute impedance\n",
    "bikeshed, bikeshed_node = make_bikeshed(links,nodes,taz,ods,radius,buffer_size,'dist')\n",
    "\n",
    "#network improvement\n",
    "bikeshed, bikeshed_node = make_bikeshed(imp_links,nodes,taz,ods,radius,buffer_size,'dist')\n",
    "\n",
    "bikeshed_node.to_file(output_fp/Path('bikesheds.gpkg'),layer='node',driver='GPKG')"
   ]
  },
  {
   "cell_type": "markdown",
   "metadata": {},
   "source": [
    "### Find Changes in Bikesheds"
   ]
  },
  {
   "cell_type": "code",
   "execution_count": null,
   "metadata": {},
   "outputs": [],
   "source": [
    "\n",
    "#find removed links\n",
    "rem_links = bikeshed['dist'][-(bikeshed['dist']['A_B'].isin(bikeshed['per_dist']['A_B']))]\n",
    "rem_links.to_file(output_fp/Path('bikesheds.gpkg'),layer='removed')\n",
    "\n",
    "#find added links\n",
    "add_links = bikeshed['per_dist'][-bikeshed['per_dist']['A_B'].isin(bikeshed['dist']['A_B'])]\n",
    "add_links.to_file(output_fp/Path('bikesheds.gpkg'),layer='add')\n",
    "\n",
    "#find added links from improvement\n",
    "add_impr = bikeshed['imp_dist'][-bikeshed['imp_dist']['A_B'].isin(bikeshed['per_dist']['A_B'])]\n",
    "add_impr.to_file(output_fp/Path('bikesheds.gpkg'),layer='imp add')"
   ]
  }
 ],
 "metadata": {
  "language_info": {
   "name": "python"
  },
  "orig_nbformat": 4
 },
 "nbformat": 4,
 "nbformat_minor": 2
}

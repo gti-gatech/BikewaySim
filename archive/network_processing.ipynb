{
 "cells": [
  {
   "cell_type": "markdown",
   "id": "38567b57",
   "metadata": {},
   "source": [
    "# Network Processing\n",
    "---\n",
    "\n",
    "## Run this code block by block to convert a road network(s) in ESRI Shapefile or GeoJSON format into a routable and conflated network graph to use in BikewaySim.\n",
    "\n",
    "Note that three networks were used in this project. While code to obtain OSM GeoJSONs has been included with osm_processing notebook, the ABM and HERE networks need to be sourced from the Atlanta Regional Commission and HERE respectively. You can run most of this code with only OSM data, but you'll need to skip the conflation section."
   ]
  },
  {
   "cell_type": "markdown",
   "id": "b88b22d1",
   "metadata": {},
   "source": [
    "## Import/install the following packages:\n"
   ]
  },
  {
   "cell_type": "code",
   "execution_count": 11,
   "id": "81ad7abf",
   "metadata": {},
   "outputs": [],
   "source": [
    "import os\n",
    "from pathlib import Path\n",
    "import time\n",
    "import geopandas as gpd\n",
    "import pickle"
   ]
  },
  {
   "cell_type": "markdown",
   "id": "b03212d3",
   "metadata": {},
   "source": [
    "## Import Network Filter Module:"
   ]
  },
  {
   "cell_type": "code",
   "execution_count": 12,
   "id": "b9828c49",
   "metadata": {},
   "outputs": [],
   "source": [
    "from network_filter import *"
   ]
  },
  {
   "cell_type": "markdown",
   "id": "4715c76b",
   "metadata": {},
   "source": [
    "## Set Directory:\n",
    "### Modify this directory to where you stored your network shapefiles."
   ]
  },
  {
   "cell_type": "code",
   "execution_count": 14,
   "id": "1fbb0f7f",
   "metadata": {},
   "outputs": [],
   "source": [
    "user_directory = os.fspath(Path.home()) #get home directory and convert to path string\n",
    "file_directory = r\"/Documents/BikewaySimData\" #directory of bikewaysim outputs\n",
    "os.chdir(user_directory+file_directory)"
   ]
  },
  {
   "cell_type": "markdown",
   "id": "4faa757d",
   "metadata": {},
   "source": [
    "### Choose desired projected coordinate reference system (CRS) to work with\n",
    "This needs to be set to check that all the data is in the same CRS. The one used for this study was EPSG 2240 (https://spatialreference.org/ref/epsg/nad83-georgia-west-ftus/)"
   ]
  },
  {
   "cell_type": "code",
   "execution_count": 15,
   "id": "847d41d0",
   "metadata": {},
   "outputs": [],
   "source": [
    "desired_crs = \"EPSG:2240\""
   ]
  },
  {
   "cell_type": "markdown",
   "id": "4b8199e3",
   "metadata": {},
   "source": [
    "## Choose study area (needs to be spatial file with single polygon):\n",
    "Specify what area you want to mask the network data by. Only network links that are partially or fully within the study area will be imported. Note: Network links are NOT clipped (because this creates new nodes), any links that are at least partially within the study area are brought in."
   ]
  },
  {
   "cell_type": "code",
   "execution_count": 16,
   "id": "64370402",
   "metadata": {},
   "outputs": [
    {
     "name": "stdout",
     "output_type": "stream",
     "text": [
      "The area of the bikewaysim study area is 12.4 square miles.\n"
     ]
    },
    {
     "data": {
      "image/png": "[encoded data removed]",
      "text/plain": [
       "<Figure size 432x288 with 1 Axes>"
      ]
     },
     "metadata": {
      "needs_background": "light"
     },
     "output_type": "display_data"
    }
   ],
   "source": [
    "studyareafp = r'base_shapefiles/bikewaysim_study_area/bikewaysim_study_area.shp'\n",
    "studyarea_name = 'bikewaysim'\n",
    "#city_of_atlantafp = r'base_shapefiles/coa/Atlanta_City_Limits.shp'\n",
    "#atlanta_regional_commissionfp = r'base_shapefiles/arc/arc_bounds.shp'\n",
    "\n",
    "#add new study areas if desired\n",
    "studyarea = import_study_area(studyareafp, studyarea_name, desired_crs)"
   ]
  },
  {
   "cell_type": "markdown",
   "id": "c91a615f",
   "metadata": {},
   "source": [
    "## Network Mapper\n",
    "This is how network node ID's will be identified and coded\n",
    "- the first number in the node ID represents its origin network\n",
    "- all numbers after that are the original network ID. we did this to make sure that there are no duplicate network ids and to make it easy to retreive the original network id."
   ]
  },
  {
   "cell_type": "code",
   "execution_count": 17,
   "id": "bd6f7839",
   "metadata": {},
   "outputs": [],
   "source": [
    "network_mapper = {\n",
    "    \"abm\": \"1\",\n",
    "    \"here\": \"2\",\n",
    "    \"osm\": \"3\",\n",
    "    \"original\": \"0\",\n",
    "    \"generated\": \"1\"\n",
    "}"
   ]
  },
  {
   "cell_type": "markdown",
   "id": "49506ea4",
   "metadata": {},
   "source": [
    "## Network Data Filepaths:"
   ]
  },
  {
   "cell_type": "code",
   "execution_count": 18,
   "id": "cee736d7",
   "metadata": {},
   "outputs": [],
   "source": [
    "abmfp = r'base_shapefiles/arc/ABM2020-TIP20-2020-150kShapefiles-outputs.gdb'\n",
    "abmnodesfp = r'base_shapefiles/arc/ABM2020-TIP20-2020-150kShapefiles-outputs.gdb'\n",
    "herefp = r'base_shapefiles/here/Streets.shp'\n",
    "osmfp = r'base_shapefiles/osm/osm_network_bikewaysim.gpkg'\n",
    "osmnodesfp = r'base_shapefiles/osm/osm_network_bikewaysim.gpkg'"
   ]
  },
  {
   "cell_type": "code",
   "execution_count": 19,
   "id": "bd25ffaf",
   "metadata": {},
   "outputs": [
    {
     "ename": "DriverError",
     "evalue": "base_shapefiles/arc/ABM2020-TIP20-2020-150kShapefiles-outputs.gdb: No such file or directory",
     "output_type": "error",
     "traceback": [
      "\u001b[0;31m---------------------------------------------------------------------------\u001b[0m",
      "\u001b[0;31mCPLE_OpenFailedError\u001b[0m                      Traceback (most recent call last)",
      "File \u001b[0;32mfiona/_shim.pyx:83\u001b[0m, in \u001b[0;36mfiona._shim.gdal_open_vector\u001b[0;34m()\u001b[0m\n",
      "File \u001b[0;32mfiona/_err.pyx:291\u001b[0m, in \u001b[0;36mfiona._err.exc_wrap_pointer\u001b[0;34m()\u001b[0m\n",
      "\u001b[0;31mCPLE_OpenFailedError\u001b[0m: base_shapefiles/arc/ABM2020-TIP20-2020-150kShapefiles-outputs.gdb: No such file or directory",
      "\nDuring handling of the above exception, another exception occurred:\n",
      "\u001b[0;31mDriverError\u001b[0m                               Traceback (most recent call last)",
      "Input \u001b[0;32mIn [19]\u001b[0m, in \u001b[0;36m<module>\u001b[0;34m\u001b[0m\n\u001b[1;32m      1\u001b[0m \u001b[38;5;66;03m#Use to list layers if needed for ESRI geodatabase files or Geopackages\u001b[39;00m\n\u001b[1;32m      2\u001b[0m \u001b[38;5;28;01mimport\u001b[39;00m \u001b[38;5;21;01mfiona\u001b[39;00m\n\u001b[0;32m----> 3\u001b[0m \u001b[43mfiona\u001b[49m\u001b[38;5;241;43m.\u001b[39;49m\u001b[43mlistlayers\u001b[49m\u001b[43m(\u001b[49m\u001b[38;5;124;43m'\u001b[39;49m\u001b[38;5;124;43mbase_shapefiles/arc/ABM2020-TIP20-2020-150kShapefiles-outputs.gdb\u001b[39;49m\u001b[38;5;124;43m'\u001b[39;49m\u001b[43m)\u001b[49m\n",
      "File \u001b[0;32m~/opt/anaconda3/envs/geo-env/lib/python3.9/site-packages/fiona/env.py:417\u001b[0m, in \u001b[0;36mensure_env_with_credentials.<locals>.wrapper\u001b[0;34m(*args, **kwargs)\u001b[0m\n\u001b[1;32m    415\u001b[0m \u001b[38;5;28;01mwith\u001b[39;00m Env\u001b[38;5;241m.\u001b[39mfrom_defaults(session\u001b[38;5;241m=\u001b[39msession):\n\u001b[1;32m    416\u001b[0m     log\u001b[38;5;241m.\u001b[39mdebug(\u001b[38;5;124m\"\u001b[39m\u001b[38;5;124mCredentialized: \u001b[39m\u001b[38;5;132;01m{!r}\u001b[39;00m\u001b[38;5;124m\"\u001b[39m\u001b[38;5;241m.\u001b[39mformat(getenv()))\n\u001b[0;32m--> 417\u001b[0m     \u001b[38;5;28;01mreturn\u001b[39;00m \u001b[43mf\u001b[49m\u001b[43m(\u001b[49m\u001b[38;5;241;43m*\u001b[39;49m\u001b[43margs\u001b[49m\u001b[43m,\u001b[49m\u001b[43m \u001b[49m\u001b[38;5;241;43m*\u001b[39;49m\u001b[38;5;241;43m*\u001b[39;49m\u001b[43mkwargs\u001b[49m\u001b[43m)\u001b[49m\n",
      "File \u001b[0;32m~/opt/anaconda3/envs/geo-env/lib/python3.9/site-packages/fiona/__init__.py:354\u001b[0m, in \u001b[0;36mlistlayers\u001b[0;34m(fp, vfs)\u001b[0m\n\u001b[1;32m    351\u001b[0m \u001b[38;5;28;01melse\u001b[39;00m:\n\u001b[1;32m    352\u001b[0m     pobj \u001b[38;5;241m=\u001b[39m parse_path(fp)\n\u001b[0;32m--> 354\u001b[0m \u001b[38;5;28;01mreturn\u001b[39;00m \u001b[43m_listlayers\u001b[49m\u001b[43m(\u001b[49m\u001b[43mvsi_path\u001b[49m\u001b[43m(\u001b[49m\u001b[43mpobj\u001b[49m\u001b[43m)\u001b[49m\u001b[43m)\u001b[49m\n",
      "File \u001b[0;32mfiona/ogrext.pyx:1659\u001b[0m, in \u001b[0;36mfiona.ogrext._listlayers\u001b[0;34m()\u001b[0m\n",
      "File \u001b[0;32mfiona/_shim.pyx:90\u001b[0m, in \u001b[0;36mfiona._shim.gdal_open_vector\u001b[0;34m()\u001b[0m\n",
      "\u001b[0;31mDriverError\u001b[0m: base_shapefiles/arc/ABM2020-TIP20-2020-150kShapefiles-outputs.gdb: No such file or directory"
     ]
    }
   ],
   "source": [
    "#Use to list layers if needed for ESRI geodatabase files or Geopackages\n",
    "import fiona\n",
    "fiona.listlayers('base_shapefiles/arc/ABM2020-TIP20-2020-150kShapefiles-outputs.gdb')"
   ]
  },
  {
   "cell_type": "markdown",
   "id": "16726331",
   "metadata": {},
   "source": [
    "## Set Network Import Settings\n",
    "#### Create a dictionary for use in filter networks function. \n",
    "#### For new networks follow this format:\n",
    "```python\n",
    "network = {\n",
    "       \"studyarea\": studyarea, #geodataframe of the study area\n",
    "       \"studyarea_name\": studyarea_name, #name for the study area\n",
    "       \"networkfp\": networkfp, #filepath for the network, specified earlier\n",
    "       \"network_name\": 'abm', #name for the network being evaluated\n",
    "       \"network_mapper\": network_mapper, #leave this, edit in the block above\n",
    "       \"A\": \"A\", #column with the starting node id; replace with None if there isn't a column\n",
    "       \"B\": \"B\", #column with the ending node id; replace with None if there isn't a column\n",
    "       \"layer\": 0 #if network has layers, then specify which layer to look at; if no layers then leave as 0 \n",
    "       }\n",
    "```"
   ]
  },
  {
   "cell_type": "code",
   "execution_count": 20,
   "id": "79467d56",
   "metadata": {},
   "outputs": [],
   "source": [
    "#abm inputs\n",
    "abm = {\n",
    "       \"studyarea\": studyarea,\n",
    "       \"studyarea_name\": studyarea_name,\n",
    "       \"networkfp\": abmfp,\n",
    "       \"network_name\": 'abm',\n",
    "       \"network_mapper\": network_mapper,\n",
    "       \"layer\": \"DAILY_Link\",\n",
    "       \"desired_crs\": \"epsg:2240\",\n",
    "       \"nodesfp\": abmnodesfp,\n",
    "       \"nodes_layer\":\"DAILY_Node\",\n",
    "       \"node_id\": 'N',\n",
    "       \"A\": \"A\",\n",
    "       \"B\": \"B\"\n",
    "       }\n",
    "\n",
    "#here inputs\n",
    "here = {\n",
    "       \"studyarea\": studyarea,\n",
    "       \"studyarea_name\": studyarea_name,\n",
    "       \"networkfp\": herefp,\n",
    "       \"network_name\": 'here',\n",
    "       \"network_mapper\": network_mapper,\n",
    "       \"layer\":None,\n",
    "       \"desired_crs\":\"epsg:2240\",\n",
    "       \"nodesfp\":None,\n",
    "       \"nodes_layer\":None,\n",
    "       \"node_id\": None,\n",
    "       \"A\": \"REF_IN_ID\",\n",
    "       \"B\": \"NREF_IN_ID\"\n",
    "       }\n",
    "\n",
    "osm = {\n",
    "      \"studyarea\": studyarea,\n",
    "       \"studyarea_name\": studyarea_name,\n",
    "       \"networkfp\": osmfp,\n",
    "       \"network_name\": 'osm',\n",
    "       \"network_mapper\": network_mapper,\n",
    "       \"layer\":\"links\",\n",
    "       \"desired_crs\":\"epsg:2240\",\n",
    "       \"nodesfp\":osmnodesfp,\n",
    "       \"nodes_layer\":\"nodes\",\n",
    "       \"node_id\": \"osmid\",\n",
    "       \"A\": \"A\",\n",
    "       \"B\": \"B\"\n",
    "       }"
   ]
  },
  {
   "cell_type": "markdown",
   "id": "b0afe599",
   "metadata": {},
   "source": [
    "## Run Network Filter Module to Create Initial Subnetworks\n",
    "From the network_filter.py file run the filter networks function. This will first import the spatial data and then filter the data into a base, road, bike, or serivce link. \n",
    "**Note: If this is the a new network that is not OSM, HERE, or ABM then specify a new filter method by going into the network_filter.py file.** Otherwise, none of the links will be filtered into road/bike/service links. **Also note: all spatial files are being projected to EPSG 2240 right now.** Need to modify later.\n"
   ]
  },
  {
   "cell_type": "markdown",
   "id": "8274c1ce",
   "metadata": {},
   "source": [
    "## Filter ABM"
   ]
  },
  {
   "cell_type": "code",
   "execution_count": 10,
   "id": "d880d7a4",
   "metadata": {},
   "outputs": [],
   "source": [
    "#filter_networks(**abm)"
   ]
  },
  {
   "cell_type": "markdown",
   "id": "b53c4b2a",
   "metadata": {},
   "source": [
    "## Filter HERE"
   ]
  },
  {
   "cell_type": "code",
   "execution_count": 11,
   "id": "a0ff8c53",
   "metadata": {},
   "outputs": [],
   "source": [
    "#filter_networks(**here)"
   ]
  },
  {
   "cell_type": "markdown",
   "id": "3c52d3cb",
   "metadata": {},
   "source": [
    "## Filter OSM"
   ]
  },
  {
   "cell_type": "code",
   "execution_count": 21,
   "id": "0ec22fc8",
   "metadata": {},
   "outputs": [
    {
     "name": "stderr",
     "output_type": "stream",
     "text": [
      "/Users/tannerpassmore/Documents/GitHub/BikewaySimDev/network_filter.py:77: FutureWarning: Currently, index_parts defaults to True, but in the future, it will default to False to be consistent with Pandas. Use `index_parts=True` to keep the current behavior and True/False to silence the warning.\n",
      "  links = gpd.read_file(networkfp, mask = studyarea, layer = layer).explode().droplevel(level=1).to_crs(desired_crs)\n"
     ]
    },
    {
     "name": "stdout",
     "output_type": "stream",
     "text": [
      "Cleaning measures applied for osm...\n",
      "osm road filter applied...\n",
      "osm bike filter applied...\n",
      "osm service filter applied...\n",
      "osm imported... took 0.24 minutes\n"
     ]
    }
   ],
   "source": [
    "filter_networks(**osm)"
   ]
  },
  {
   "cell_type": "markdown",
   "id": "b2b87e35",
   "metadata": {},
   "source": [
    "## Summurize filtered networks\n",
    "#### Prints out:\n",
    "- Number of nodes\n",
    "- Number of links\n",
    "- Total length of all links\n",
    "- Average link length\n",
    "\n",
    "#### Exports:\n",
    "- CSV file with all the network statistics."
   ]
  },
  {
   "cell_type": "code",
   "execution_count": 13,
   "id": "573a85c8",
   "metadata": {},
   "outputs": [
    {
     "name": "stdout",
     "output_type": "stream",
     "text": [
      "  network name link_type num_links num_nodes  tot_link_length  avg_link_length\n",
      "0          abm      base      1661      1519             88.0            278.3\n",
      "1          abm      road      1661      1519             88.0            278.3\n",
      "2         here      base     12080      9364            386.0            168.8\n",
      "3         here      road      5575      4771            225.0            213.4\n",
      "4         here      bike      2025      1791             47.0            122.8\n",
      "5         here   service      4480      4813            114.0            134.1\n",
      "6          osm      base     17641     14933            430.0            128.8\n",
      "7          osm      road      6838      6013            218.0            168.1\n",
      "8          osm      bike      3296      3145             63.0            100.4\n",
      "9          osm   service      7514      8559            150.0            105.4\n"
     ]
    }
   ],
   "source": [
    "from network_summary_stats import * \n",
    "\n",
    "#network names to look for, will search your directory for network name\n",
    "networks = [\"abm\",\"here\",\"osm\"]\n",
    "studyarea_name = \"bikewaysim\"\n",
    "\n",
    "#summurize networks and export summary as \"network_summary.csv in the working directory\n",
    "sum_all_networks(networks, studyarea_name)"
   ]
  },
  {
   "cell_type": "markdown",
   "id": "68d38476",
   "metadata": {},
   "source": [
    "## Conflation Process\n",
    "In this step, the networks are conflated to each other by utilizing functions in the network_conflation.py module"
   ]
  },
  {
   "cell_type": "markdown",
   "id": "c09507c7",
   "metadata": {},
   "source": [
    "I like to remove all of the columns that aren't related to node_id or geometry for this step. To make sure we preserve link information I also make a A_B column\n",
    "\n",
    "\n",
    "There are three main functions in conflation module:\n",
    "- The first just matches nearest points\n",
    "- The second will find the nearest spot on a link from a different network node and create a new node\n",
    "- The last is a function that deals with removing links/nodes that have already been considered, so they aren't duplicated"
   ]
  },
  {
   "cell_type": "markdown",
   "id": "afffb025",
   "metadata": {},
   "source": [
    "\n",
    "#only select columns that correspond to A, B, and geo\n",
    "\n",
    "#create an A_B column\n",
    "\n",
    "#determine what you want the base network to be, and which order you want to conflate in\n",
    "#for this project, ABM was the base with HERE followed by OSM as the joining ones.\n",
    "\n",
    "\n",
    "\n",
    "\n",
    "#do this step outside of the function\n",
    "\n",
    "#Filter joining network\n",
    "This should make it so that the only joining nodes that the base nodes can join to represent real intersections\n",
    "<code>joining_nodes = joining_nodes[joining_nodes[f'{joining_name}_num_links'] != 2 ].reset_index(drop=True)<code>\n"
   ]
  },
  {
   "cell_type": "code",
   "execution_count": 14,
   "id": "0e8f2161",
   "metadata": {},
   "outputs": [],
   "source": [
    "from conflation_tools import *"
   ]
  },
  {
   "cell_type": "markdown",
   "id": "7b3e48ea",
   "metadata": {},
   "source": [
    "### Links and Nodes to Conflate"
   ]
  },
  {
   "cell_type": "code",
   "execution_count": 15,
   "id": "a02c827f",
   "metadata": {},
   "outputs": [],
   "source": [
    "base_name = \"abm\"\n",
    "join_name = \"here\"\n",
    "\n",
    "#road layers\n",
    "base_links = gpd.read_file(r\"processed_shapefiles/abm/abm_bikewaysim_road_links.geojson\")\n",
    "base_nodes = gpd.read_file(r\"processed_shapefiles/abm/abm_bikewaysim_road_nodes.geojson\")\n",
    "join_links = gpd.read_file(r\"processed_shapefiles/here/here_bikewaysim_road_links.geojson\")\n",
    "join_nodes = gpd.read_file(r\"processed_shapefiles/here/here_bikewaysim_road_nodes.geojson\")"
   ]
  },
  {
   "cell_type": "markdown",
   "id": "c352c106",
   "metadata": {},
   "source": [
    "### Cleaning to get rid of excess columns"
   ]
  },
  {
   "cell_type": "code",
   "execution_count": 16,
   "id": "e6a033c5",
   "metadata": {},
   "outputs": [],
   "source": [
    "base_links, base_nodes = cleaning_process(base_links,base_nodes,base_name)\n",
    "join_links, join_nodes = cleaning_process(join_links,join_nodes,join_name)"
   ]
  },
  {
   "cell_type": "markdown",
   "id": "f22be951",
   "metadata": {},
   "source": [
    "### Node Matching\n",
    "This function matches nodes within a set tolerence (in feet) that are likely to be the same nodes. This function is intended for matching road intersections or road termini since these are likely to be in both networks. This function can be applied with an iteratively increasing tolerance if you're not sure what's a good tolerance. At some point, the number of matched nodes will not increase by much.\n",
    "\n",
    "The match results will get printed out.\n",
    "\n",
    "#### NOTE: This function handles duplicate matches (i.e. when two or more nodes share a nearest node in the other network) by selecting the one with the shorter match distance. The duplicates won't be rematched unless you run the matching process again.\n",
    "\n",
    "#### When looping match function, feed outputs from previous\n",
    "\n",
    "### Function Inputs\n",
    "- base_nodes, base_name, join_nodes, join_name # self explanatory\n",
    "- tolerance_ft: the match tolerance in units of feet\n",
    "- prev_matched_nodes: geodataframe of the list of currently matched nodes, set to none for first run\n",
    "- remove_duplicates: if set to 'True' (default), then remove duplicate matches. If set to false, duplicate matches will be returned in the matched_nodes gdf.\n",
    "- export_error_lines: if set to 'False', a geojson of linestrings visualizing the matches will be written.\n",
    "- export_unmatched: if you want a geojson of the nodes that didn't match in each network set this to true (False by default).\n",
    "\n",
    "### Function Outputs\n",
    "- matched_nodes: a df of matched nodes, just the node ids.\n",
    "- unmatched_base_nodes: a gdf of the base nodes that weren't matched.\n",
    "- unmatched_join_nodes: a gdf of the join nodes that weren't matched."
   ]
  },
  {
   "cell_type": "code",
   "execution_count": 17,
   "id": "0e4dfaaa",
   "metadata": {},
   "outputs": [
    {
     "name": "stdout",
     "output_type": "stream",
     "text": [
      "1422 initial matches\n",
      "There were 12 duplicates, now there are 1416 matches.\n",
      "There are 103 abm nodes and 3355 here nodes remaining\n",
      "1416 node pairs have been matched so far.\n"
     ]
    }
   ],
   "source": [
    "#first match the nodes, can repeat this by adding in previously matched_nodes\n",
    "tolerance_ft = 25\n",
    "matched_nodes, unmatched_base_nodes, unmatched_join_nodes = match_nodes(base_nodes,\n",
    "                                                                        base_name,\n",
    "                                                                        join_nodes,\n",
    "                                                                        join_name,\n",
    "                                                                        tolerance_ft,\n",
    "                                                                        prev_matched_nodes=None\n",
    "                                                                       )"
   ]
  },
  {
   "cell_type": "code",
   "execution_count": 18,
   "id": "73e4fc3e",
   "metadata": {},
   "outputs": [],
   "source": [
    "#base_nodes = base_nodes[-base_nodes[f'{base_name}_ID'].isin(matched_nodes[f'{base_name}_ID'])]\n",
    "#join_nodes = join_nodes[-join_nodes[f'{join_name}_ID'].isin(matched_nodes[f'{join_name}_ID'])]\n",
    "#matched_nodes is not None"
   ]
  },
  {
   "cell_type": "code",
   "execution_count": 19,
   "id": "250cbead",
   "metadata": {},
   "outputs": [
    {
     "name": "stdout",
     "output_type": "stream",
     "text": [
      "0 initial matches\n",
      "There were 0 duplicates, now there are 0 matches.\n",
      "There are 103 abm nodes and 3355 here nodes remaining\n",
      "1416 node pairs have been matched so far.\n",
      "17 initial matches\n",
      "There were 0 duplicates, now there are 17 matches.\n",
      "There are 86 abm nodes and 3338 here nodes remaining\n",
      "1433 node pairs have been matched so far.\n"
     ]
    }
   ],
   "source": [
    "#second iteration example with same tolerance\n",
    "matched_nodes, unmatched_base_nodes, unmatched_join_nodes = match_nodes(base_nodes,\n",
    "                                                                        base_name,\n",
    "                                                                        join_nodes,\n",
    "                                                                        join_name,\n",
    "                                                                        tolerance_ft,\n",
    "                                                                        prev_matched_nodes=matched_nodes\n",
    "                                                                       )\n",
    "\n",
    "#third iteration example wiht larger tolerance\n",
    "tolerance_ft = 30\n",
    "matched_nodes, unmatched_base_nodes, unmatched_join_nodes = match_nodes(base_nodes,\n",
    "                                                                        base_name,\n",
    "                                                                        join_nodes,\n",
    "                                                                        join_name,\n",
    "                                                                        tolerance_ft,\n",
    "                                                                        prev_matched_nodes=matched_nodes\n",
    "                                                                       )\n",
    "\n",
    "#join the matched nodes to the base nodes once done with matching\n",
    "matched_nodes_final = pd.merge(base_nodes, matched_nodes, on = f'{base_name}_ID', how = \"left\")"
   ]
  },
  {
   "cell_type": "markdown",
   "id": "9a78fd0c",
   "metadata": {},
   "source": [
    "### Link Splitting and Add New Links and Nodes\n",
    "This function will split links in the base network if there's a node in the join network that is within a certain tolerance. This creates new nodes and links on the base network. The original base links are then replaced with these new links/nodes.\n",
    "\n",
    "#### NOTE: This may create way more links/nodes than neccessary.\n",
    "\n",
    "It may be wise to consider limiting the kind of join nodes that can split a base link. For instance, OSM has lots of additional links and nodes because there are sidewalks. The nodes used to access these sidewalks will split the base link, which creates additional link where there otherwise would be none. These added links/nodes can slow down computational time for shortest path calculation. However, it could be adventageous in the attribute transfer process.\n",
    "\n",
    "#### Looping\n",
    "This function can be looped if unsure what tolerance or nodes to use. \n",
    "\n",
    "### Function Inputs\n",
    "- unmatched_join_nodes: These are the join nodes that weren't matched to base nodes in the previous step\n",
    "- join_name, base_links, base_name: self-explanatory\n",
    "- tolerance_ft: the matching tolerance in feet\n",
    "- export: set to 'True' to get a GeoJSON of new links and nodes that were created\n",
    "\n",
    "### Function Outputs\n",
    "- split_lines: a gdf of just the new base links\n",
    "- split_nodes: a gdf of jsut the new base nodes\n",
    "- unmathced_join_nodes: a gdf of the join nodes that didn't match"
   ]
  },
  {
   "cell_type": "code",
   "execution_count": 20,
   "id": "a6cc6403",
   "metadata": {},
   "outputs": [
    {
     "data": {
      "text/html": [
       "<div>\n",
       "<style scoped>\n",
       "    .dataframe tbody tr th:only-of-type {\n",
       "        vertical-align: middle;\n",
       "    }\n",
       "\n",
       "    .dataframe tbody tr th {\n",
       "        vertical-align: top;\n",
       "    }\n",
       "\n",
       "    .dataframe thead th {\n",
       "        text-align: right;\n",
       "    }\n",
       "</style>\n",
       "<table border=\"1\" class=\"dataframe\">\n",
       "  <thead>\n",
       "    <tr style=\"text-align: right;\">\n",
       "      <th></th>\n",
       "      <th>here_ID</th>\n",
       "      <th>here_point_geo</th>\n",
       "    </tr>\n",
       "  </thead>\n",
       "  <tbody>\n",
       "    <tr>\n",
       "      <th>0</th>\n",
       "      <td>201000979665</td>\n",
       "      <td>POINT (2227264.443 1380228.027)</td>\n",
       "    </tr>\n",
       "    <tr>\n",
       "      <th>1</th>\n",
       "      <td>201000979666</td>\n",
       "      <td>POINT (2227334.325 1380231.511)</td>\n",
       "    </tr>\n",
       "    <tr>\n",
       "      <th>2</th>\n",
       "      <td>201000979668</td>\n",
       "      <td>POINT (2227392.047 1380231.383)</td>\n",
       "    </tr>\n",
       "    <tr>\n",
       "      <th>4</th>\n",
       "      <td>201008606020</td>\n",
       "      <td>POINT (2236530.936 1371032.021)</td>\n",
       "    </tr>\n",
       "    <tr>\n",
       "      <th>5</th>\n",
       "      <td>201008606022</td>\n",
       "      <td>POINT (2236628.236 1371060.944)</td>\n",
       "    </tr>\n",
       "  </tbody>\n",
       "</table>\n",
       "</div>"
      ],
      "text/plain": [
       "        here_ID                   here_point_geo\n",
       "0  201000979665  POINT (2227264.443 1380228.027)\n",
       "1  201000979666  POINT (2227334.325 1380231.511)\n",
       "2  201000979668  POINT (2227392.047 1380231.383)\n",
       "4  201008606020  POINT (2236530.936 1371032.021)\n",
       "5  201008606022  POINT (2236628.236 1371060.944)"
      ]
     },
     "execution_count": 20,
     "metadata": {},
     "output_type": "execute_result"
    }
   ],
   "source": [
    "unmatched_join_nodes.head()"
   ]
  },
  {
   "cell_type": "code",
   "execution_count": 21,
   "id": "502d1457",
   "metadata": {},
   "outputs": [
    {
     "name": "stdout",
     "output_type": "stream",
     "text": [
      "There are 1352 here points matching to 674 abm links\n",
      "There are 1986 here nodes remaining\n",
      "There were 1982 new lines created.\n"
     ]
    },
    {
     "name": "stderr",
     "output_type": "stream",
     "text": [
      "C:\\Users\\tpassmore6\\Documents\\GitHub\\BikewaySimDev\\conflation_tools.py:217: FutureWarning: Currently, index_parts defaults to True, but in the future, it will default to False to be consistent with Pandas. Use `index_parts=True` to keep the current behavior and True/False to silence the warning.\n",
      "  df_split = df_split.explode().reset_index(drop=True)\n"
     ]
    },
    {
     "data": {
      "text/html": [
       "<div>\n",
       "<style scoped>\n",
       "    .dataframe tbody tr th:only-of-type {\n",
       "        vertical-align: middle;\n",
       "    }\n",
       "\n",
       "    .dataframe tbody tr th {\n",
       "        vertical-align: top;\n",
       "    }\n",
       "\n",
       "    .dataframe thead th {\n",
       "        text-align: right;\n",
       "    }\n",
       "</style>\n",
       "<table border=\"1\" class=\"dataframe\">\n",
       "  <thead>\n",
       "    <tr style=\"text-align: right;\">\n",
       "      <th></th>\n",
       "      <th>abm_A_B</th>\n",
       "      <th>abm_line_geo</th>\n",
       "    </tr>\n",
       "  </thead>\n",
       "  <tbody>\n",
       "    <tr>\n",
       "      <th>0</th>\n",
       "      <td>1051440_10233760</td>\n",
       "      <td>LINESTRING (2232771.147 1365480.263, 2232767.7...</td>\n",
       "    </tr>\n",
       "    <tr>\n",
       "      <th>1</th>\n",
       "      <td>1051440_10233760</td>\n",
       "      <td>LINESTRING (2232767.750 1365283.029, 2232767.7...</td>\n",
       "    </tr>\n",
       "    <tr>\n",
       "      <th>2</th>\n",
       "      <td>1051440_10233760</td>\n",
       "      <td>LINESTRING (2232761.131 1365039.274, 2232761.0...</td>\n",
       "    </tr>\n",
       "    <tr>\n",
       "      <th>3</th>\n",
       "      <td>1051792_1051798</td>\n",
       "      <td>LINESTRING (2228604.215 1373941.731, 2228586.2...</td>\n",
       "    </tr>\n",
       "    <tr>\n",
       "      <th>4</th>\n",
       "      <td>1051792_1051798</td>\n",
       "      <td>LINESTRING (2228585.852 1374072.203, 2228571.3...</td>\n",
       "    </tr>\n",
       "  </tbody>\n",
       "</table>\n",
       "</div>"
      ],
      "text/plain": [
       "            abm_A_B                                       abm_line_geo\n",
       "0  1051440_10233760  LINESTRING (2232771.147 1365480.263, 2232767.7...\n",
       "1  1051440_10233760  LINESTRING (2232767.750 1365283.029, 2232767.7...\n",
       "2  1051440_10233760  LINESTRING (2232761.131 1365039.274, 2232761.0...\n",
       "3   1051792_1051798  LINESTRING (2228604.215 1373941.731, 2228586.2...\n",
       "4   1051792_1051798  LINESTRING (2228585.852 1374072.203, 2228571.3..."
      ]
     },
     "execution_count": 21,
     "metadata": {},
     "output_type": "execute_result"
    }
   ],
   "source": [
    "#create new node and lines from the base links by splitting lines can repeat after the add_new_links_nodes function\n",
    "tolerance_ft = 25\n",
    "split_lines, split_nodes, unmatched_join_nodes = split_lines_create_points(unmatched_join_nodes,\n",
    "                                                                           join_name,\n",
    "                                                                           base_links,\n",
    "                                                                           base_name,\n",
    "                                                                           tolerance_ft,\n",
    "                                                                           export = False)\n",
    "split_lines.head()"
   ]
  },
  {
   "cell_type": "code",
   "execution_count": 22,
   "id": "28112007",
   "metadata": {},
   "outputs": [
    {
     "data": {
      "text/html": [
       "<div>\n",
       "<style scoped>\n",
       "    .dataframe tbody tr th:only-of-type {\n",
       "        vertical-align: middle;\n",
       "    }\n",
       "\n",
       "    .dataframe tbody tr th {\n",
       "        vertical-align: top;\n",
       "    }\n",
       "\n",
       "    .dataframe thead th {\n",
       "        text-align: right;\n",
       "    }\n",
       "</style>\n",
       "<table border=\"1\" class=\"dataframe\">\n",
       "  <thead>\n",
       "    <tr style=\"text-align: right;\">\n",
       "      <th></th>\n",
       "      <th>abm_A_B</th>\n",
       "      <th>abm_line_geo</th>\n",
       "    </tr>\n",
       "  </thead>\n",
       "  <tbody>\n",
       "    <tr>\n",
       "      <th>1</th>\n",
       "      <td>1010848_10340018</td>\n",
       "      <td>LINESTRING (2233265.865 1384662.528, 2233329.3...</td>\n",
       "    </tr>\n",
       "    <tr>\n",
       "      <th>3</th>\n",
       "      <td>1010854_1010856</td>\n",
       "      <td>LINESTRING (2231248.476 1375719.070, 2231166.4...</td>\n",
       "    </tr>\n",
       "    <tr>\n",
       "      <th>6</th>\n",
       "      <td>1013524_1053435</td>\n",
       "      <td>LINESTRING (2239431.313 1375903.192, 2239373.5...</td>\n",
       "    </tr>\n",
       "    <tr>\n",
       "      <th>7</th>\n",
       "      <td>1013524_10299911</td>\n",
       "      <td>LINESTRING (2239431.313 1375903.192, 2239452.5...</td>\n",
       "    </tr>\n",
       "    <tr>\n",
       "      <th>9</th>\n",
       "      <td>1013525_1053438</td>\n",
       "      <td>LINESTRING (2239619.442 1375764.578, 2239568.0...</td>\n",
       "    </tr>\n",
       "  </tbody>\n",
       "</table>\n",
       "</div>"
      ],
      "text/plain": [
       "            abm_A_B                                       abm_line_geo\n",
       "1  1010848_10340018  LINESTRING (2233265.865 1384662.528, 2233329.3...\n",
       "3   1010854_1010856  LINESTRING (2231248.476 1375719.070, 2231166.4...\n",
       "6   1013524_1053435  LINESTRING (2239431.313 1375903.192, 2239373.5...\n",
       "7  1013524_10299911  LINESTRING (2239431.313 1375903.192, 2239452.5...\n",
       "9   1013525_1053438  LINESTRING (2239619.442 1375764.578, 2239568.0..."
      ]
     },
     "execution_count": 22,
     "metadata": {},
     "output_type": "execute_result"
    }
   ],
   "source": [
    "#add new links and nodes to the base links and nodes created from split_lines_create_points function\n",
    "new_links, new_nodes = add_new_links_nodes(base_links, matched_nodes_final, split_lines, split_nodes, base_name)\n",
    "new_links.head()"
   ]
  },
  {
   "cell_type": "markdown",
   "id": "7f88f580",
   "metadata": {},
   "source": [
    "### Attribute Transfer\n",
    "In the previous steps, we found geometric commonalties between the networks. In this step, we want to transfer attribute information from the join network into the base network. Link attributes are based on a link's reference ids, but the current set of links may not have reference ids that correspond to a join network link.\n",
    "\n",
    "To address this, we buffer the base links and intersect them with the join links. We then measure the length of the resulting linestrings. The attribute information from the join links that have the maximum length (i.e. the maximum amount of overlap with the base link) is tranferred. This ensures that each base link is associated with only one join link's attributes.\n",
    "\n",
    "### NOTE: The buffer here needs to be smaller\n",
    "If it's larger, then a longer join node could be selected as the join link with most overlap.\n",
    "\n",
    "This process will likely change in the future. A different approach might be to look at all the base links with at least one join node in the reference id column, and then look up all the links in the join network associated with that node (there should only be a few). Using other reference node that doesn't have a join node id, the nearest node in that lookup table could be found."
   ]
  },
  {
   "cell_type": "code",
   "execution_count": 23,
   "id": "665c4987",
   "metadata": {},
   "outputs": [
    {
     "data": {
      "text/html": [
       "<div>\n",
       "<style scoped>\n",
       "    .dataframe tbody tr th:only-of-type {\n",
       "        vertical-align: middle;\n",
       "    }\n",
       "\n",
       "    .dataframe tbody tr th {\n",
       "        vertical-align: top;\n",
       "    }\n",
       "\n",
       "    .dataframe thead th {\n",
       "        text-align: right;\n",
       "    }\n",
       "</style>\n",
       "<table border=\"1\" class=\"dataframe\">\n",
       "  <thead>\n",
       "    <tr style=\"text-align: right;\">\n",
       "      <th></th>\n",
       "      <th>abm_A_B</th>\n",
       "      <th>abm_line_geo</th>\n",
       "      <th>here_A_B</th>\n",
       "    </tr>\n",
       "  </thead>\n",
       "  <tbody>\n",
       "    <tr>\n",
       "      <th>0</th>\n",
       "      <td>1010848_10340018</td>\n",
       "      <td>LINESTRING (2233265.865 1384662.528, 2233329.3...</td>\n",
       "      <td>201063859187_2017289087</td>\n",
       "    </tr>\n",
       "    <tr>\n",
       "      <th>1</th>\n",
       "      <td>1010854_1010856</td>\n",
       "      <td>LINESTRING (2231248.476 1375719.070, 2231166.4...</td>\n",
       "      <td>2017289109_2017289100</td>\n",
       "    </tr>\n",
       "    <tr>\n",
       "      <th>2</th>\n",
       "      <td>1013524_1053435</td>\n",
       "      <td>LINESTRING (2239431.313 1375903.192, 2239373.5...</td>\n",
       "      <td>2044584013_2030636889</td>\n",
       "    </tr>\n",
       "    <tr>\n",
       "      <th>3</th>\n",
       "      <td>1013524_10299911</td>\n",
       "      <td>LINESTRING (2239431.313 1375903.192, 2239452.5...</td>\n",
       "      <td>2030636889_2044584017</td>\n",
       "    </tr>\n",
       "    <tr>\n",
       "      <th>4</th>\n",
       "      <td>1013525_1053438</td>\n",
       "      <td>LINESTRING (2239619.442 1375764.578, 2239568.0...</td>\n",
       "      <td>201181585260_2044584017</td>\n",
       "    </tr>\n",
       "  </tbody>\n",
       "</table>\n",
       "</div>"
      ],
      "text/plain": [
       "            abm_A_B                                       abm_line_geo  \\\n",
       "0  1010848_10340018  LINESTRING (2233265.865 1384662.528, 2233329.3...   \n",
       "1   1010854_1010856  LINESTRING (2231248.476 1375719.070, 2231166.4...   \n",
       "2   1013524_1053435  LINESTRING (2239431.313 1375903.192, 2239373.5...   \n",
       "3  1013524_10299911  LINESTRING (2239431.313 1375903.192, 2239452.5...   \n",
       "4   1013525_1053438  LINESTRING (2239619.442 1375764.578, 2239568.0...   \n",
       "\n",
       "                  here_A_B  \n",
       "0  201063859187_2017289087  \n",
       "1    2017289109_2017289100  \n",
       "2    2044584013_2030636889  \n",
       "3    2030636889_2044584017  \n",
       "4  201181585260_2044584017  "
      ]
     },
     "execution_count": 23,
     "metadata": {},
     "output_type": "execute_result"
    }
   ],
   "source": [
    "#match attribute information with greatest overlap from joining links\n",
    "buffer_ft = 30\n",
    "new_base_links_w_attr = add_attributes(new_links, base_name, join_links, join_name, buffer_ft)\n",
    "new_base_links_w_attr.head()"
   ]
  },
  {
   "cell_type": "markdown",
   "id": "1491c88d",
   "metadata": {},
   "source": [
    "### Add rest of features\n",
    "Now that we've settled the geometric and attribute commonalities between the base and join networks, we can add in the join network features that aren't represented in the base network. This is done using a buffer. If a join link is covered at least 95% by a base link, then it is left out."
   ]
  },
  {
   "cell_type": "code",
   "execution_count": 24,
   "id": "ac75302e",
   "metadata": {},
   "outputs": [
    {
     "name": "stderr",
     "output_type": "stream",
     "text": [
      "C:\\Users\\tpassmore6\\Anaconda3\\envs\\geo-env\\lib\\site-packages\\pandas\\core\\dtypes\\cast.py:118: ShapelyDeprecationWarning: The array interface is deprecated and will no longer work in Shapely 2.0. Convert the '.coords' to a numpy array instead.\n",
      "  arr = construct_1d_object_array_from_listlike(values)\n",
      "C:\\Users\\tpassmore6\\Anaconda3\\envs\\geo-env\\lib\\site-packages\\pandas\\core\\dtypes\\cast.py:118: ShapelyDeprecationWarning: The array interface is deprecated and will no longer work in Shapely 2.0. Convert the '.coords' to a numpy array instead.\n",
      "  arr = construct_1d_object_array_from_listlike(values)\n"
     ]
    }
   ],
   "source": [
    "#add unrepresented features from joining by looking at the attributes added in previous step for links and the list of matched nodes\n",
    "added_base_links, added_base_nodes = add_rest_of_features(new_base_links_w_attr,new_nodes,base_name,join_links,join_nodes,join_name)\n",
    "\n",
    "#create new abmhere column with id and geo\n",
    "final_links, final_nodes = fin_subnetwork(added_base_links,added_base_nodes,base_name,join_name)\n",
    "\n",
    "final_links.to_file(rf'processed_shapefiles/conflation/{base_name+join_name}_links.geojson')\n",
    "final_nodes.to_file(rf'processed_shapefiles/conflation/{base_name+join_name}_nodes.geojson')"
   ]
  },
  {
   "cell_type": "markdown",
   "id": "a57f17a6",
   "metadata": {},
   "source": [
    "### Save as pickle, this is more of a progress save"
   ]
  },
  {
   "cell_type": "code",
   "execution_count": 25,
   "id": "7fc36d8d",
   "metadata": {},
   "outputs": [],
   "source": [
    "#pickle.dump(added_base_links, open(\"processed_shapefiles/conflation/inter/abm_here_road.p\",\"wb\"))\n",
    "#pickle.dump(added_base_nodes, open(\"processed_shapefiles/conflation/inter/abm_here_road.p\",\"wb\"))"
   ]
  },
  {
   "cell_type": "markdown",
   "id": "98878a6f",
   "metadata": {},
   "source": [
    "### Repeat for OSM\n",
    "Now that we've resovled ABM and HERE, we can add the second join network."
   ]
  },
  {
   "cell_type": "code",
   "execution_count": 26,
   "id": "adf8cc04",
   "metadata": {},
   "outputs": [],
   "source": [
    "base_name = \"abmhere\"\n",
    "base_links = final_links\n",
    "base_nodes = final_nodes\n",
    "\n",
    "join_name = \"osm\"\n",
    "join_links = gpd.read_file(r\"processed_shapefiles/osm/osm_bikewaysim_road_links.geojson\")\n",
    "join_nodes = gpd.read_file(r\"processed_shapefiles/osm/osm_bikewaysim_road_nodes.geojson\")"
   ]
  },
  {
   "cell_type": "code",
   "execution_count": 27,
   "id": "12dcfbf6",
   "metadata": {},
   "outputs": [],
   "source": [
    "#clean join links (no need to clean base links)\n",
    "join_links, join_nodes = cleaning_process(join_links,join_nodes,join_name)"
   ]
  },
  {
   "cell_type": "code",
   "execution_count": 28,
   "id": "4fe661ad",
   "metadata": {},
   "outputs": [
    {
     "name": "stdout",
     "output_type": "stream",
     "text": [
      "3008 initial matches\n",
      "There were 206 duplicates, now there are 2928 matches.\n",
      "There are 1929 abmhere nodes and 3112 osm nodes remaining\n",
      "2928 node pairs have been matched so far.\n"
     ]
    }
   ],
   "source": [
    "#first match the nodes, can repeat this by adding in previously matched_nodes\n",
    "tolerance_ft = 25\n",
    "matched_nodes, unmatched_base_nodes, unmatched_join_nodes = match_nodes(base_nodes, base_name, join_nodes, join_name, tolerance_ft, prev_matched_nodes=None)\n",
    "\n",
    "#join the matched nodes to the base nodes once done with matching\n",
    "matched_nodes_final = pd.merge(base_nodes, matched_nodes, on = f'{base_name}_ID', how = \"left\")"
   ]
  },
  {
   "cell_type": "code",
   "execution_count": 29,
   "id": "8908a500",
   "metadata": {},
   "outputs": [
    {
     "name": "stdout",
     "output_type": "stream",
     "text": [
      "There are 2835 osm points matching to 1695 abmhere links\n",
      "There are 277 osm nodes remaining\n"
     ]
    },
    {
     "name": "stderr",
     "output_type": "stream",
     "text": [
      "C:\\Users\\tpassmore6\\Documents\\GitHub\\BikewaySimDev\\conflation_tools.py:217: FutureWarning: Currently, index_parts defaults to True, but in the future, it will default to False to be consistent with Pandas. Use `index_parts=True` to keep the current behavior and True/False to silence the warning.\n",
      "  df_split = df_split.explode().reset_index(drop=True)\n"
     ]
    },
    {
     "name": "stdout",
     "output_type": "stream",
     "text": [
      "There were 4014 new lines created.\n"
     ]
    }
   ],
   "source": [
    "#create new node and lines from the base links by splitting lines can repeat after the add_new_links_nodes function\n",
    "tolerance_ft = 25\n",
    "split_lines, split_nodes, unmatched_join_nodes = split_lines_create_points(unmatched_join_nodes,\n",
    "                                                                           join_name,\n",
    "                                                                           base_links,\n",
    "                                                                           base_name,\n",
    "                                                                           tolerance_ft,\n",
    "                                                                           export = False)\n",
    "split_lines.head()\n",
    "split_lines.to_file('processed_shapefiles/conflation/split_lines.geojson')"
   ]
  },
  {
   "cell_type": "code",
   "execution_count": 30,
   "id": "c8cf7c36",
   "metadata": {},
   "outputs": [
    {
     "data": {
      "text/html": [
       "<div>\n",
       "<style scoped>\n",
       "    .dataframe tbody tr th:only-of-type {\n",
       "        vertical-align: middle;\n",
       "    }\n",
       "\n",
       "    .dataframe tbody tr th {\n",
       "        vertical-align: top;\n",
       "    }\n",
       "\n",
       "    .dataframe thead th {\n",
       "        text-align: right;\n",
       "    }\n",
       "</style>\n",
       "<table border=\"1\" class=\"dataframe\">\n",
       "  <thead>\n",
       "    <tr style=\"text-align: right;\">\n",
       "      <th></th>\n",
       "      <th>abm_A_B</th>\n",
       "      <th>abmhere_line_geo</th>\n",
       "      <th>here_A_B</th>\n",
       "      <th>abmhere_A_B</th>\n",
       "    </tr>\n",
       "  </thead>\n",
       "  <tbody>\n",
       "    <tr>\n",
       "      <th>0</th>\n",
       "      <td>1010848_10340018</td>\n",
       "      <td>LINESTRING (2233265.865 1384662.528, 2233329.3...</td>\n",
       "      <td>201063859187_2017289087</td>\n",
       "      <td>1010848_10340018</td>\n",
       "    </tr>\n",
       "    <tr>\n",
       "      <th>1</th>\n",
       "      <td>1010854_1010856</td>\n",
       "      <td>LINESTRING (2231248.476 1375719.070, 2231166.4...</td>\n",
       "      <td>2017289109_2017289100</td>\n",
       "      <td>1010854_1010856</td>\n",
       "    </tr>\n",
       "    <tr>\n",
       "      <th>3</th>\n",
       "      <td>1013524_10299911</td>\n",
       "      <td>LINESTRING (2239431.313 1375903.192, 2239452.5...</td>\n",
       "      <td>2030636889_2044584017</td>\n",
       "      <td>1013524_10299911</td>\n",
       "    </tr>\n",
       "    <tr>\n",
       "      <th>8</th>\n",
       "      <td>1048680_10300690</td>\n",
       "      <td>LINESTRING (2223786.066 1373104.741, 2223813.3...</td>\n",
       "      <td>20979792205_2044571513</td>\n",
       "      <td>1048680_10300690</td>\n",
       "    </tr>\n",
       "    <tr>\n",
       "      <th>10</th>\n",
       "      <td>1048684_1048699</td>\n",
       "      <td>LINESTRING (2223553.208 1373585.593, 2223610.6...</td>\n",
       "      <td>2044571548_2044571524</td>\n",
       "      <td>1048684_1048699</td>\n",
       "    </tr>\n",
       "  </tbody>\n",
       "</table>\n",
       "</div>"
      ],
      "text/plain": [
       "             abm_A_B                                   abmhere_line_geo  \\\n",
       "0   1010848_10340018  LINESTRING (2233265.865 1384662.528, 2233329.3...   \n",
       "1    1010854_1010856  LINESTRING (2231248.476 1375719.070, 2231166.4...   \n",
       "3   1013524_10299911  LINESTRING (2239431.313 1375903.192, 2239452.5...   \n",
       "8   1048680_10300690  LINESTRING (2223786.066 1373104.741, 2223813.3...   \n",
       "10   1048684_1048699  LINESTRING (2223553.208 1373585.593, 2223610.6...   \n",
       "\n",
       "                   here_A_B       abmhere_A_B  \n",
       "0   201063859187_2017289087  1010848_10340018  \n",
       "1     2017289109_2017289100   1010854_1010856  \n",
       "3     2030636889_2044584017  1013524_10299911  \n",
       "8    20979792205_2044571513  1048680_10300690  \n",
       "10    2044571548_2044571524   1048684_1048699  "
      ]
     },
     "execution_count": 30,
     "metadata": {},
     "output_type": "execute_result"
    }
   ],
   "source": [
    "#add new links and nodes to the base links and nodes created from split_lines_create_points function\n",
    "new_links, new_nodes = add_new_links_nodes(base_links, matched_nodes_final, split_lines, split_nodes, base_name)\n",
    "new_links.head()"
   ]
  },
  {
   "cell_type": "code",
   "execution_count": 31,
   "id": "69b5dbf6",
   "metadata": {},
   "outputs": [
    {
     "data": {
      "text/html": [
       "<div>\n",
       "<style scoped>\n",
       "    .dataframe tbody tr th:only-of-type {\n",
       "        vertical-align: middle;\n",
       "    }\n",
       "\n",
       "    .dataframe tbody tr th {\n",
       "        vertical-align: top;\n",
       "    }\n",
       "\n",
       "    .dataframe thead th {\n",
       "        text-align: right;\n",
       "    }\n",
       "</style>\n",
       "<table border=\"1\" class=\"dataframe\">\n",
       "  <thead>\n",
       "    <tr style=\"text-align: right;\">\n",
       "      <th></th>\n",
       "      <th>abm_A_B</th>\n",
       "      <th>abmhere_line_geo</th>\n",
       "      <th>here_A_B</th>\n",
       "      <th>abmhere_A_B</th>\n",
       "      <th>osm_A_B</th>\n",
       "    </tr>\n",
       "  </thead>\n",
       "  <tbody>\n",
       "    <tr>\n",
       "      <th>0</th>\n",
       "      <td>1010848_10340018</td>\n",
       "      <td>LINESTRING (2233265.865 1384662.528, 2233329.3...</td>\n",
       "      <td>201063859187_2017289087</td>\n",
       "      <td>1010848_10340018</td>\n",
       "      <td>304616440440_306003270865</td>\n",
       "    </tr>\n",
       "    <tr>\n",
       "      <th>1</th>\n",
       "      <td>1010854_1010856</td>\n",
       "      <td>LINESTRING (2231248.476 1375719.070, 2231166.4...</td>\n",
       "      <td>2017289109_2017289100</td>\n",
       "      <td>1010854_1010856</td>\n",
       "      <td>302508783158_305416547103</td>\n",
       "    </tr>\n",
       "    <tr>\n",
       "      <th>2</th>\n",
       "      <td>1013524_10299911</td>\n",
       "      <td>LINESTRING (2239431.313 1375903.192, 2239452.5...</td>\n",
       "      <td>2030636889_2044584017</td>\n",
       "      <td>1013524_10299911</td>\n",
       "      <td>3069151116_308750722897</td>\n",
       "    </tr>\n",
       "    <tr>\n",
       "      <th>3</th>\n",
       "      <td>1048680_10300690</td>\n",
       "      <td>LINESTRING (2223786.066 1373104.741, 2223813.3...</td>\n",
       "      <td>20979792205_2044571513</td>\n",
       "      <td>1048680_10300690</td>\n",
       "      <td>3069175030_3069576878</td>\n",
       "    </tr>\n",
       "    <tr>\n",
       "      <th>4</th>\n",
       "      <td>1048684_1048699</td>\n",
       "      <td>LINESTRING (2223553.208 1373585.593, 2223610.6...</td>\n",
       "      <td>2044571548_2044571524</td>\n",
       "      <td>1048684_1048699</td>\n",
       "      <td>3069116075_3069516241</td>\n",
       "    </tr>\n",
       "  </tbody>\n",
       "</table>\n",
       "</div>"
      ],
      "text/plain": [
       "            abm_A_B                                   abmhere_line_geo  \\\n",
       "0  1010848_10340018  LINESTRING (2233265.865 1384662.528, 2233329.3...   \n",
       "1   1010854_1010856  LINESTRING (2231248.476 1375719.070, 2231166.4...   \n",
       "2  1013524_10299911  LINESTRING (2239431.313 1375903.192, 2239452.5...   \n",
       "3  1048680_10300690  LINESTRING (2223786.066 1373104.741, 2223813.3...   \n",
       "4   1048684_1048699  LINESTRING (2223553.208 1373585.593, 2223610.6...   \n",
       "\n",
       "                  here_A_B       abmhere_A_B                    osm_A_B  \n",
       "0  201063859187_2017289087  1010848_10340018  304616440440_306003270865  \n",
       "1    2017289109_2017289100   1010854_1010856  302508783158_305416547103  \n",
       "2    2030636889_2044584017  1013524_10299911    3069151116_308750722897  \n",
       "3   20979792205_2044571513  1048680_10300690      3069175030_3069576878  \n",
       "4    2044571548_2044571524   1048684_1048699      3069116075_3069516241  "
      ]
     },
     "execution_count": 31,
     "metadata": {},
     "output_type": "execute_result"
    }
   ],
   "source": [
    "#match attribute information with greatest overlap from joining links\n",
    "buffer_ft = 30\n",
    "new_base_links_w_attr = add_attributes(new_links, base_name, join_links, join_name, buffer_ft)\n",
    "new_base_links_w_attr.head()"
   ]
  },
  {
   "cell_type": "code",
   "execution_count": 32,
   "id": "066f5482",
   "metadata": {},
   "outputs": [
    {
     "name": "stderr",
     "output_type": "stream",
     "text": [
      "C:\\Users\\tpassmore6\\Anaconda3\\envs\\geo-env\\lib\\site-packages\\pandas\\core\\dtypes\\cast.py:118: ShapelyDeprecationWarning: The array interface is deprecated and will no longer work in Shapely 2.0. Convert the '.coords' to a numpy array instead.\n",
      "  arr = construct_1d_object_array_from_listlike(values)\n",
      "C:\\Users\\tpassmore6\\Anaconda3\\envs\\geo-env\\lib\\site-packages\\pandas\\core\\dtypes\\cast.py:118: ShapelyDeprecationWarning: The array interface is deprecated and will no longer work in Shapely 2.0. Convert the '.coords' to a numpy array instead.\n",
      "  arr = construct_1d_object_array_from_listlike(values)\n"
     ]
    }
   ],
   "source": [
    "#add unrepresented features from joining by looking at the attributes added in previous step for links and the list of matched nodes\n",
    "added_base_links, added_base_nodes = add_rest_of_features(new_base_links_w_attr,new_nodes,base_name,join_links,join_nodes,join_name)\n",
    "\n",
    "#create new abmhere column with id and geo\n",
    "final_links, final_nodes = fin_subnetwork(added_base_links,added_base_nodes,base_name,join_name)"
   ]
  },
  {
   "cell_type": "code",
   "execution_count": 33,
   "id": "87c5d215",
   "metadata": {},
   "outputs": [],
   "source": [
    "final_links.to_file(rf'processed_shapefiles/conflation/{base_name+join_name}_links.geojson')\n",
    "final_nodes.to_file(rf'processed_shapefiles/conflation/{base_name+join_name}_nodes.geojson')"
   ]
  },
  {
   "cell_type": "markdown",
   "id": "29262bc7",
   "metadata": {},
   "source": [
    "# Bike Subnetworks"
   ]
  },
  {
   "cell_type": "code",
   "execution_count": 34,
   "id": "aa9a2042",
   "metadata": {},
   "outputs": [],
   "source": [
    "#bike layers\n",
    "bike_links = gpd.read_file(r'processed_shapefiles/here/here_bikewaysim_bike_links.geojson')\n",
    "bike_nodes = gpd.read_file(r'processed_shapefiles/here/here_bikewaysim_bike_nodes.geojson')\n",
    "bike_name = 'here'"
   ]
  },
  {
   "cell_type": "code",
   "execution_count": 35,
   "id": "5ffa772c",
   "metadata": {},
   "outputs": [],
   "source": [
    "#clean excess columns\n",
    "bike_links, bike_nodes = cleaning_process(bike_links,bike_nodes,bike_name)"
   ]
  },
  {
   "cell_type": "markdown",
   "id": "894883dd",
   "metadata": {},
   "source": [
    "### Merge with other networks"
   ]
  },
  {
   "cell_type": "code",
   "execution_count": 36,
   "id": "5d474276",
   "metadata": {},
   "outputs": [
    {
     "name": "stdout",
     "output_type": "stream",
     "text": [
      "390 nodes already in the base network\n",
      "True\n",
      "here_ID_bike           False\n",
      "here_point_geo_bike    False\n",
      "dtype: bool\n"
     ]
    },
    {
     "name": "stderr",
     "output_type": "stream",
     "text": [
      "C:\\Users\\tpassmore6\\Anaconda3\\envs\\geo-env\\lib\\site-packages\\pandas\\core\\dtypes\\cast.py:118: ShapelyDeprecationWarning: The array interface is deprecated and will no longer work in Shapely 2.0. Convert the '.coords' to a numpy array instead.\n",
      "  arr = construct_1d_object_array_from_listlike(values)\n",
      "C:\\Users\\tpassmore6\\Anaconda3\\envs\\geo-env\\lib\\site-packages\\pandas\\core\\dtypes\\cast.py:118: ShapelyDeprecationWarning: The array interface is deprecated and will no longer work in Shapely 2.0. Convert the '.coords' to a numpy array instead.\n",
      "  arr = construct_1d_object_array_from_listlike(values)\n"
     ]
    }
   ],
   "source": [
    "tolerance_ft = 25\n",
    "merged_links, merged_nodes = merge_diff_networks(added_base_links, added_base_nodes, 'road', bike_links, bike_nodes, 'bike', tolerance_ft)"
   ]
  },
  {
   "cell_type": "markdown",
   "id": "9566e2a8",
   "metadata": {},
   "source": [
    "### Add reference IDs"
   ]
  },
  {
   "cell_type": "code",
   "execution_count": 37,
   "id": "f57ea721",
   "metadata": {},
   "outputs": [
    {
     "name": "stderr",
     "output_type": "stream",
     "text": [
      "C:\\Users\\tpassmore6\\Anaconda3\\envs\\geo-env\\lib\\site-packages\\pandas\\core\\dtypes\\cast.py:118: ShapelyDeprecationWarning: The array interface is deprecated and will no longer work in Shapely 2.0. Convert the '.coords' to a numpy array instead.\n",
      "  arr = construct_1d_object_array_from_listlike(values)\n",
      "C:\\Users\\tpassmore6\\Anaconda3\\envs\\geo-env\\lib\\site-packages\\pandas\\core\\dtypes\\cast.py:118: ShapelyDeprecationWarning: The array interface is deprecated and will no longer work in Shapely 2.0. Convert the '.coords' to a numpy array instead.\n",
      "  arr = construct_1d_object_array_from_listlike(values)\n"
     ]
    }
   ],
   "source": [
    "# match reference IDs based on all the id in the nodes\n",
    "refid_base_links = add_reference_ids(merged_links, merged_nodes)"
   ]
  },
  {
   "cell_type": "code",
   "execution_count": 38,
   "id": "0e1a1a5c",
   "metadata": {},
   "outputs": [
    {
     "data": {
      "text/html": [
       "<div>\n",
       "<style scoped>\n",
       "    .dataframe tbody tr th:only-of-type {\n",
       "        vertical-align: middle;\n",
       "    }\n",
       "\n",
       "    .dataframe tbody tr th {\n",
       "        vertical-align: top;\n",
       "    }\n",
       "\n",
       "    .dataframe thead th {\n",
       "        text-align: right;\n",
       "    }\n",
       "</style>\n",
       "<table border=\"1\" class=\"dataframe\">\n",
       "  <thead>\n",
       "    <tr style=\"text-align: right;\">\n",
       "      <th></th>\n",
       "      <th>abm_A_B</th>\n",
       "      <th>abmhereosm_line_geo</th>\n",
       "      <th>here_A_B</th>\n",
       "      <th>abmhere_A_B</th>\n",
       "      <th>osm_A_B</th>\n",
       "      <th>abmhereosm_A_B</th>\n",
       "      <th>abm_A</th>\n",
       "      <th>here_A</th>\n",
       "      <th>abmhere_A</th>\n",
       "      <th>osm_A</th>\n",
       "      <th>abmhereosm_A</th>\n",
       "      <th>abm_B</th>\n",
       "      <th>here_B</th>\n",
       "      <th>abmhere_B</th>\n",
       "      <th>osm_B</th>\n",
       "      <th>abmhereosm_B</th>\n",
       "    </tr>\n",
       "  </thead>\n",
       "  <tbody>\n",
       "    <tr>\n",
       "      <th>0</th>\n",
       "      <td>1010848_10340018</td>\n",
       "      <td>LINESTRING (2233265.865 1384662.528, 2233329.3...</td>\n",
       "      <td>201063859187_2017289087</td>\n",
       "      <td>1010848_10340018</td>\n",
       "      <td>304616440440_306003270865</td>\n",
       "      <td>1010848_10340018</td>\n",
       "      <td>1010848</td>\n",
       "      <td>2017289087</td>\n",
       "      <td>1010848</td>\n",
       "      <td>304616440440</td>\n",
       "      <td>1010848</td>\n",
       "      <td>10340018</td>\n",
       "      <td>201063859187</td>\n",
       "      <td>10340018</td>\n",
       "      <td>NaN</td>\n",
       "      <td>10340018</td>\n",
       "    </tr>\n",
       "    <tr>\n",
       "      <th>1</th>\n",
       "      <td>1010854_1010856</td>\n",
       "      <td>LINESTRING (2231248.476 1375719.070, 2231166.4...</td>\n",
       "      <td>2017289109_2017289100</td>\n",
       "      <td>1010854_1010856</td>\n",
       "      <td>302508783158_305416547103</td>\n",
       "      <td>1010854_1010856</td>\n",
       "      <td>1010854</td>\n",
       "      <td>2017289100</td>\n",
       "      <td>1010854</td>\n",
       "      <td>302508783158</td>\n",
       "      <td>1010854</td>\n",
       "      <td>1010856</td>\n",
       "      <td>2017289109</td>\n",
       "      <td>1010856</td>\n",
       "      <td>NaN</td>\n",
       "      <td>1010856</td>\n",
       "    </tr>\n",
       "    <tr>\n",
       "      <th>2</th>\n",
       "      <td>1013524_10299911</td>\n",
       "      <td>LINESTRING (2239431.313 1375903.192, 2239452.5...</td>\n",
       "      <td>2030636889_2044584017</td>\n",
       "      <td>1013524_10299911</td>\n",
       "      <td>3069151116_308750722897</td>\n",
       "      <td>1013524_10299911</td>\n",
       "      <td>1013524</td>\n",
       "      <td>2030636889</td>\n",
       "      <td>1013524</td>\n",
       "      <td>3069151116</td>\n",
       "      <td>1013524</td>\n",
       "      <td>10299911</td>\n",
       "      <td>NaN</td>\n",
       "      <td>10299911</td>\n",
       "      <td>NaN</td>\n",
       "      <td>10299911</td>\n",
       "    </tr>\n",
       "    <tr>\n",
       "      <th>3</th>\n",
       "      <td>1048680_10300690</td>\n",
       "      <td>LINESTRING (2223786.066 1373104.741, 2223813.3...</td>\n",
       "      <td>20979792205_2044571513</td>\n",
       "      <td>1048680_10300690</td>\n",
       "      <td>3069175030_3069576878</td>\n",
       "      <td>1048680_10300690</td>\n",
       "      <td>1048680</td>\n",
       "      <td>2044571513</td>\n",
       "      <td>1048680</td>\n",
       "      <td>3069175030</td>\n",
       "      <td>1048680</td>\n",
       "      <td>10300690</td>\n",
       "      <td>20979792205</td>\n",
       "      <td>10300690</td>\n",
       "      <td>NaN</td>\n",
       "      <td>10300690</td>\n",
       "    </tr>\n",
       "    <tr>\n",
       "      <th>4</th>\n",
       "      <td>1048684_1048699</td>\n",
       "      <td>LINESTRING (2223553.208 1373585.593, 2223610.6...</td>\n",
       "      <td>2044571548_2044571524</td>\n",
       "      <td>1048684_1048699</td>\n",
       "      <td>3069116075_3069516241</td>\n",
       "      <td>1048684_1048699</td>\n",
       "      <td>1048684</td>\n",
       "      <td>2044571524</td>\n",
       "      <td>1048684</td>\n",
       "      <td>3069116075</td>\n",
       "      <td>1048684</td>\n",
       "      <td>1048699</td>\n",
       "      <td>2044571548</td>\n",
       "      <td>1048699</td>\n",
       "      <td>3069516241</td>\n",
       "      <td>1048699</td>\n",
       "    </tr>\n",
       "  </tbody>\n",
       "</table>\n",
       "</div>"
      ],
      "text/plain": [
       "            abm_A_B                                abmhereosm_line_geo  \\\n",
       "0  1010848_10340018  LINESTRING (2233265.865 1384662.528, 2233329.3...   \n",
       "1   1010854_1010856  LINESTRING (2231248.476 1375719.070, 2231166.4...   \n",
       "2  1013524_10299911  LINESTRING (2239431.313 1375903.192, 2239452.5...   \n",
       "3  1048680_10300690  LINESTRING (2223786.066 1373104.741, 2223813.3...   \n",
       "4   1048684_1048699  LINESTRING (2223553.208 1373585.593, 2223610.6...   \n",
       "\n",
       "                  here_A_B       abmhere_A_B                    osm_A_B  \\\n",
       "0  201063859187_2017289087  1010848_10340018  304616440440_306003270865   \n",
       "1    2017289109_2017289100   1010854_1010856  302508783158_305416547103   \n",
       "2    2030636889_2044584017  1013524_10299911    3069151116_308750722897   \n",
       "3   20979792205_2044571513  1048680_10300690      3069175030_3069576878   \n",
       "4    2044571548_2044571524   1048684_1048699      3069116075_3069516241   \n",
       "\n",
       "     abmhereosm_A_B    abm_A      here_A abmhere_A         osm_A abmhereosm_A  \\\n",
       "0  1010848_10340018  1010848  2017289087   1010848  304616440440      1010848   \n",
       "1   1010854_1010856  1010854  2017289100   1010854  302508783158      1010854   \n",
       "2  1013524_10299911  1013524  2030636889   1013524    3069151116      1013524   \n",
       "3  1048680_10300690  1048680  2044571513   1048680    3069175030      1048680   \n",
       "4   1048684_1048699  1048684  2044571524   1048684    3069116075      1048684   \n",
       "\n",
       "      abm_B        here_B abmhere_B       osm_B abmhereosm_B  \n",
       "0  10340018  201063859187  10340018         NaN     10340018  \n",
       "1   1010856    2017289109   1010856         NaN      1010856  \n",
       "2  10299911           NaN  10299911         NaN     10299911  \n",
       "3  10300690   20979792205  10300690         NaN     10300690  \n",
       "4   1048699    2044571548   1048699  3069516241      1048699  "
      ]
     },
     "execution_count": 38,
     "metadata": {},
     "output_type": "execute_result"
    }
   ],
   "source": [
    "refid_base_links.head()"
   ]
  },
  {
   "cell_type": "code",
   "execution_count": null,
   "id": "9a28f36d",
   "metadata": {},
   "outputs": [],
   "source": []
  },
  {
   "cell_type": "markdown",
   "id": "6c3f350e",
   "metadata": {},
   "source": [
    "### Export"
   ]
  },
  {
   "cell_type": "code",
   "execution_count": 39,
   "id": "238351f7",
   "metadata": {},
   "outputs": [],
   "source": [
    "refid_base_links.to_file(r'processed_shapefiles\\conflation\\final_links.geojson', driver = 'GeoJSON')\n",
    "merged_nodes.to_file(r'processed_shapefiles\\conflation\\final_nodes.geojson', driver = 'GeoJSON')"
   ]
  },
  {
   "cell_type": "markdown",
   "id": "0679bb5c",
   "metadata": {},
   "source": [
    "## Convert for use in BikewaySim\n",
    "\n",
    "This last section focusses on making sure that the conflated network is readable by BikewaySim. After this is completed, you can run the Running BikwaySim notebook."
   ]
  },
  {
   "cell_type": "code",
   "execution_count": 40,
   "id": "b515e7d7",
   "metadata": {},
   "outputs": [],
   "source": [
    "import os\n",
    "from pathlib import Path\n",
    "import time\n",
    "import pandas as pd\n",
    "import geopandas as gpd\n",
    "import pickle\n",
    "\n",
    "#make directory/pathing more intuitive later\n",
    "file_dir = r\"C:\\Users\\tpassmore6\\Documents\\BikewaySimData\" #directory of bikewaysim network processing code\n",
    "\n",
    "#change this to where you stored this folder\n",
    "os.chdir(file_dir)"
   ]
  },
  {
   "cell_type": "markdown",
   "id": "a6cc0b46",
   "metadata": {},
   "source": [
    "### Specify filepaths"
   ]
  },
  {
   "cell_type": "code",
   "execution_count": 41,
   "id": "7b157ae9",
   "metadata": {},
   "outputs": [
    {
     "ename": "NameError",
     "evalue": "name 'conflated_linksfp' is not defined",
     "output_type": "error",
     "traceback": [
      "\u001b[1;31m---------------------------------------------------------------------------\u001b[0m",
      "\u001b[1;31mNameError\u001b[0m                                 Traceback (most recent call last)",
      "\u001b[1;32mC:\\Users\\TPASSM~1\\AppData\\Local\\Temp/ipykernel_159944/1865880099.py\u001b[0m in \u001b[0;36m<module>\u001b[1;34m\u001b[0m\n\u001b[0;32m      1\u001b[0m \u001b[1;31m#filepath for just OSM network\u001b[0m\u001b[1;33m\u001b[0m\u001b[1;33m\u001b[0m\u001b[0m\n\u001b[1;32m----> 2\u001b[1;33m \u001b[0mconflated_linksfp\u001b[0m\u001b[1;33m\u001b[0m\u001b[1;33m\u001b[0m\u001b[0m\n\u001b[0m\u001b[0;32m      3\u001b[0m \u001b[0mconflated_nodesfp\u001b[0m\u001b[1;33m\u001b[0m\u001b[1;33m\u001b[0m\u001b[0m\n\u001b[0;32m      4\u001b[0m \u001b[1;33m\u001b[0m\u001b[0m\n\u001b[0;32m      5\u001b[0m \u001b[1;31m#filepath for conflated network\u001b[0m\u001b[1;33m\u001b[0m\u001b[1;33m\u001b[0m\u001b[0m\n",
      "\u001b[1;31mNameError\u001b[0m: name 'conflated_linksfp' is not defined"
     ]
    }
   ],
   "source": [
    "#filepath for just OSM network\n",
    "conflated_linksfp\n",
    "conflated_nodesfp\n",
    "\n",
    "#filepath for conflated network\n",
    "#conflated_linksfp = r'processed_shapefiles\\conflation\\final_links.geojson'\n",
    "#conflated_nodesfp = r'processed_shapefiles\\conflation\\final_nodes.geojson'\n",
    "\n",
    "#filepaths for network attribute data (doesn't have to be a shapefile)\n",
    "abm_linksfp = r'processed_shapefiles\\abm\\abm_bikewaysim_base_links.geojson'\n",
    "here_linksfp = r'processed_shapefiles\\here\\here_bikewaysim_base_links.geojson'\n",
    "osm_linksfp = r'base_shapefiles\\osm\\osm_links_attr.p'"
   ]
  },
  {
   "cell_type": "markdown",
   "id": "4da76942",
   "metadata": {},
   "source": [
    "#### Node cleaning and export"
   ]
  },
  {
   "cell_type": "code",
   "execution_count": null,
   "id": "5c8c0521",
   "metadata": {},
   "outputs": [],
   "source": [
    "#import conflated nodes\n",
    "conflated_nodes = gpd.read_file(conflated_nodesfp)\n",
    "\n",
    "#drop the num links columns\n",
    "conflated_nodes = conflated_nodes.drop(columns=['abm_num_links','here_num_links'])\n",
    "\n",
    "#create an N column that takes the abm_id if avaiable followed by the here_id\n",
    "func = lambda row: row['here_ID'] if row['abm_ID'] == None else row['abm_ID']\n",
    "conflated_nodes['N'] = conflated_nodes.apply(func,axis=1)\n",
    "\n",
    "#create UTM coords columns\n",
    "conflated_nodes['X'] = conflated_nodes.geometry.x\n",
    "conflated_nodes['Y'] = conflated_nodes.geometry.y\n",
    "\n",
    "#reproject and find latlon\n",
    "conflated_nodes = conflated_nodes.to_crs(epsg=4326)\n",
    "conflated_nodes['lon'] = conflated_nodes.geometry.x\n",
    "conflated_nodes['lat'] = conflated_nodes.geometry.y\n",
    "\n",
    "#filter\n",
    "conflated_nodes = conflated_nodes[['N','X','Y','lon','lat','geometry']]\n",
    "\n",
    "#export\n",
    "conflated_nodes.to_file(r'processed_shapefiles\\prepared_network\\nodes\\nodes.geojson',driver='GeoJSON')\n",
    "conlfated_nodes = conflated_nodes.drop(columns=['geometry'])\n",
    "conflated_nodes.to_csv(r'processed_shapefiles\\prepared_network\\nodes\\nodes.csv')"
   ]
  },
  {
   "cell_type": "markdown",
   "id": "d853787a",
   "metadata": {},
   "source": [
    "### Link cleaning and export"
   ]
  },
  {
   "cell_type": "code",
   "execution_count": null,
   "id": "fb2ed80a",
   "metadata": {},
   "outputs": [],
   "source": [
    "#import conflated network\n",
    "conflated_links = gpd.read_file(conflated_linksfp)"
   ]
  },
  {
   "cell_type": "markdown",
   "id": "a9f73aec",
   "metadata": {},
   "source": [
    "#### Merging function"
   ]
  },
  {
   "cell_type": "code",
   "execution_count": null,
   "id": "6ea37fab",
   "metadata": {},
   "outputs": [],
   "source": [
    "def merge_network_and_attributes(conflated_links,attr_network,cols_to_keep):\n",
    "    #find the shared columns between conflated network and attribute network\n",
    "    shared_cols = list(conflated_links.columns[conflated_links.columns.isin(attr_network.columns)])\n",
    "\n",
    "    if len(shared_cols) > 2:\n",
    "        #merge based on shared columns\n",
    "        conflated_links = pd.merge(conflated_links,attr_network[cols_to_keep + shared_cols],on=shared_cols,how='left')\n",
    "        print(conflated_links.head(20))\n",
    "    else:\n",
    "        print(f'Attr_network columns not in conflated network')\n",
    "    return conflated_links"
   ]
  },
  {
   "cell_type": "code",
   "execution_count": null,
   "id": "83f5be50",
   "metadata": {},
   "outputs": [],
   "source": [
    "#import data with attributes, don't bring in geometry\n",
    "abm_links = gpd.read_file(abm_linksfp,ignore_geometry=True)\n",
    "\n",
    "#specify which columns you need\n",
    "cols_to_keep = ['NAME','SPEEDLIMIT','two_way']\n",
    "\n",
    "#perform the merge\n",
    "conflated_links = merge_network_and_attributes(conflated_links,abm_links,cols_to_keep)\n",
    "\n",
    "#delete data with attributes to free up memory\n",
    "del(abm_links)"
   ]
  },
  {
   "cell_type": "code",
   "execution_count": null,
   "id": "03ea9b67",
   "metadata": {},
   "outputs": [],
   "source": [
    "here_links = gpd.read_file(here_linksfp,ignore_geometry=True)\n",
    "\n",
    "cols_to_keep = ['ST_NAME','DIR_TRAVEL']\n",
    "\n",
    "conflated_links = merge_network_and_attributes(conflated_links,here_links,cols_to_keep)\n",
    "del(here_links)"
   ]
  },
  {
   "cell_type": "code",
   "execution_count": null,
   "id": "be1ba1e3",
   "metadata": {},
   "outputs": [],
   "source": [
    "osm_links = pickle.load(open(osm_linksfp,\"rb\"))\n",
    "\n",
    "cols_to_keep = ['name']\n",
    "\n",
    "conflated_links = merge_network_and_attributes(conflated_links,osm_links,cols_to_keep)\n",
    "del(osm_links)"
   ]
  },
  {
   "cell_type": "code",
   "execution_count": null,
   "id": "7e66608a",
   "metadata": {},
   "outputs": [],
   "source": [
    "conflated_links.head()"
   ]
  },
  {
   "cell_type": "markdown",
   "id": "74bf9121",
   "metadata": {},
   "source": [
    "### Data Merging\n",
    "In this case we're just using street names and speed limit, but this section is dedicated for dealing with duplicate and/or missing data."
   ]
  },
  {
   "cell_type": "code",
   "execution_count": null,
   "id": "b85a5f3b",
   "metadata": {},
   "outputs": [],
   "source": [
    "#streetnames\n",
    "#if abm name is present use that, else use the HERE name\n",
    "conflated_links['name'] = conflated_links.apply(lambda row: row['ST_NAME'] if row['NAME'] == None else row['NAME'], axis=1)\n",
    "#if no streetname exists then put in \"placeholder\" as the streetname\n",
    "conflated_links['name'] = conflated_links.apply(lambda row: 'placeholder' if pd.isna(row['name']) else row['name'], axis=1)\n",
    "\n",
    "#speed limits\n",
    "#use the ABM speed limit, if none present assume 30mph\n",
    "conflated_links['speedlimit'] = conflated_links['SPEEDLIMIT'].apply(lambda row: row if row == row else 30)\n",
    "\n",
    "#drop old columns\n",
    "conflated_links = conflated_links.drop(columns=['NAME','SPEEDLIMIT','ST_NAME'])"
   ]
  },
  {
   "cell_type": "markdown",
   "id": "f79e1f65",
   "metadata": {},
   "source": [
    "### Create A and B column\n",
    "If ABM ID in A column then go with that, else go with HERE ID."
   ]
  },
  {
   "cell_type": "code",
   "execution_count": null,
   "id": "187fa963",
   "metadata": {},
   "outputs": [],
   "source": [
    "conflated_links['A'] = conflated_links.apply(lambda row: row['here_A'] if row['abm_A'] == None else row['abm_A'], axis=1)\n",
    "conflated_links['B'] = conflated_links.apply(lambda row: row['here_B'] if row['abm_B'] == None else row['abm_B'], axis=1)\n",
    "conflated_links.head()"
   ]
  },
  {
   "cell_type": "markdown",
   "id": "39007741",
   "metadata": {},
   "source": [
    "### Create reverse links for two way streets and calculate distance"
   ]
  },
  {
   "cell_type": "code",
   "execution_count": null,
   "id": "33a1791b",
   "metadata": {},
   "outputs": [],
   "source": [
    "conflated_links_rev = conflated_links.copy().rename(columns={'A':'B','B':'A'})\n",
    "\n",
    "#filter to those that are two way\n",
    "conflated_links_rev = conflated_links_rev[(conflated_links_rev['two_way'] != False) &\n",
    "                                            (conflated_links_rev['DIR_TRAVEL'] != 'F') &\n",
    "                                            (conflated_links_rev['DIR_TRAVEL'] != 'T')                            \n",
    "                                            ]\n",
    "\n",
    "conflated_links = conflated_links.append(conflated_links_rev).reset_index()\n",
    "\n",
    "#create A_B column\n",
    "conflated_links['A_B'] = conflated_links['A'] + '_' + conflated_links['B']\n",
    "\n",
    "#drop uneeded cols\n",
    "conflated_links = conflated_links.drop(columns=['two_way','DIR_TRAVEL'])\n",
    "\n",
    "#calculate distance\n",
    "conflated_links['distance'] = conflated_links.length\n",
    "\n",
    "conflated_links.head()"
   ]
  },
  {
   "cell_type": "markdown",
   "id": "574ceff5",
   "metadata": {},
   "source": [
    "### Export"
   ]
  },
  {
   "cell_type": "code",
   "execution_count": null,
   "id": "15192d04",
   "metadata": {},
   "outputs": [],
   "source": [
    "conflated_links.to_file(r'processed_shapefiles\\prepared_network\\links\\links.geojson',driver='GeoJSON')"
   ]
  },
  {
   "cell_type": "code",
   "execution_count": null,
   "id": "3890daed",
   "metadata": {},
   "outputs": [],
   "source": []
  },
  {
   "cell_type": "code",
   "execution_count": null,
   "id": "0ec0fafe",
   "metadata": {},
   "outputs": [],
   "source": []
  }
 ],
 "metadata": {
  "kernelspec": {
   "display_name": "Python 3 (ipykernel)",
   "language": "python",
   "name": "python3"
  },
  "language_info": {
   "codemirror_mode": {
    "name": "ipython",
    "version": 3
   },
   "file_extension": ".py",
   "mimetype": "text/x-python",
   "name": "python",
   "nbconvert_exporter": "python",
   "pygments_lexer": "ipython3",
   "version": "3.9.7"
  },
  "varInspector": {
   "cols": {
    "lenName": 16,
    "lenType": 16,
    "lenVar": 40
   },
   "kernels_config": {
    "python": {
     "delete_cmd_postfix": "",
     "delete_cmd_prefix": "del ",
     "library": "var_list.py",
     "varRefreshCmd": "print(var_dic_list())"
    },
    "r": {
     "delete_cmd_postfix": ") ",
     "delete_cmd_prefix": "rm(",
     "library": "var_list.r",
     "varRefreshCmd": "cat(var_dic_list()) "
    }
   },
   "position": {
    "height": "488.85px",
    "left": "1510px",
    "right": "20px",
    "top": "112px",
    "width": "329px"
   },
   "types_to_exclude": [
    "module",
    "function",
    "builtin_function_or_method",
    "instance",
    "_Feature"
   ],
   "window_display": false
  }
 },
 "nbformat": 4,
 "nbformat_minor": 5
}

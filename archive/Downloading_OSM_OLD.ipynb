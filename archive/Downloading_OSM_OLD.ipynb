{
 "cells": [
  {
   "attachments": {},
   "cell_type": "markdown",
   "id": "27c63a10",
   "metadata": {},
   "source": [
    "# OSM Downloading"
   ]
  },
  {
   "attachments": {},
   "cell_type": "markdown",
   "id": "5dc15aaa",
   "metadata": {},
   "source": [
    "## Import Packages"
   ]
  },
  {
   "cell_type": "code",
   "execution_count": null,
   "id": "259b1425",
   "metadata": {},
   "outputs": [],
   "source": [
    "import geopandas as gpd\n",
    "import pandas as pd\n",
    "from pathlib import Path\n",
    "import matplotlib.pyplot as plt\n",
    "import importlib\n",
    "import numpy as np\n",
    "import pickle\n",
    "\n",
    "#custom\n",
    "import osm_download_functions #contains functions for downloaded data from OSMnx and Overpass API"
   ]
  },
  {
   "attachments": {},
   "cell_type": "markdown",
   "id": "35042208",
   "metadata": {},
   "source": [
    "# Filepaths and Desired Projection"
   ]
  },
  {
   "cell_type": "code",
   "execution_count": null,
   "id": "f2f0dba2",
   "metadata": {},
   "outputs": [],
   "source": [
    "# #mgarber\n",
    "# #or input a geodataframe\n",
    "# studyarea_fp = Path.home() / 'Downloads/mgarber/monpon_sf_6mi.shp'\n",
    "# studyarea_or_bbox = gpd.read_file(studyarea_fp)\n",
    "# export_folder = Path.home() / 'Downloads/mgarber'\n",
    "# crs = \"epsg:4326\""
   ]
  },
  {
   "cell_type": "code",
   "execution_count": null,
   "id": "355452fb",
   "metadata": {},
   "outputs": [],
   "source": [
    "# #either input a bounding box in (xmin, ymin, xmax, ymax) format (must be a geographic projection)\n",
    "# studyarea_or_bbox = (-84.38923551270372,33.74521971907766,-84.37570780621328,33.75884348028874)\n",
    "# export_folder = Path.home() / 'Downloads'\n",
    "# crs = \"epsg:2240\"\n",
    "\n",
    "# #or input a geodataframe\n",
    "# studyarea_fp = Path.home() / 'Documents/BikewaySimData/Data/Study Areas/itp.gpkg'\n",
    "# studyarea_or_bbox = gpd.read_file(studyarea_fp)\n",
    "# export_folder = Path.home() / 'Documents/BikewaySimData/Projects/gdot/networks'\n",
    "# crs = \"epsg:2240\"\n",
    "\n",
    "#or input a geodataframe\n",
    "studyarea_fp = Path.home() / 'Documents/BikewaySimData/Data/Study Areas/bikewaysim_studyarea.geojson'\n",
    "studyarea_or_bbox = gpd.read_file(studyarea_fp)\n",
    "export_folder = Path.home() / 'Documents/BikewaySimData/Projects/test/networks'\n",
    "crs = \"epsg:2240\"\n",
    "\n",
    "# studyarea_fp = (Path.home() / 'Documents/TransitSimData/Data/base_layers.gpkg','studyarea')\n",
    "# studyarea_or_bbox = gpd.read_file(studyarea_fp)\n",
    "# export_folder = Path.home() / 'Documents/TransitSimData/Data/networks'\n",
    "# crs = \"epsg:2240\""
   ]
  },
  {
   "attachments": {},
   "cell_type": "markdown",
   "id": "401d88cf",
   "metadata": {},
   "source": [
    "## Download OSM geometry using OSMnx and attribute data using Overpass API\n",
    "More info about OSMnx: https://geoffboeing.com/2016/11/osmnx-python-street-networks/  \n",
    "OSMnx documentation: https://osmnx.readthedocs.io/en/stable/index.html\n",
    "\n",
    "If you already know all the OSM edge attributes you want to retain. Provide it as a list of string in the \"desired_osm_attributes\" argument in the the download_osm function.\n",
    "\n",
    "NOTE: For large scale study areas (countries/states/etc.) it is likely better to download an OSM planet file and then use OSMnx to process it (this feature will be added in the future)."
   ]
  },
  {
   "cell_type": "code",
   "execution_count": null,
   "id": "ff22a237",
   "metadata": {},
   "outputs": [],
   "source": [
    "osmnx_nodes, osmnx_links, overpass_links = osm_download_functions.download_osm(studyarea_or_bbox,crs)"
   ]
  },
  {
   "cell_type": "code",
   "execution_count": null,
   "id": "cfd1149e",
   "metadata": {},
   "outputs": [],
   "source": [
    "#merge osmnx and overpass data on link id\n",
    "osm_links = pd.merge(osmnx_links, overpass_links, left_on=('osmid'), right_on=('id'), how = 'left')\n",
    "\n",
    "# #pickle all attributes as is\n",
    "# with (export_folder/'osm.pkl').open('wb') as fh:\n",
    "#     pickle.dump(osm_links,fh)\n",
    "\n",
    "# #remove columns with lists in them (handle these later)\n",
    "# for col in osm_links.columns.tolist():\n",
    "#     if list in [type(x) for x in osm_links.loc[:,col]]:\n",
    "#         osm_links.drop(columns=col,inplace=True)\n",
    "#         print(f\"{col} column removed for containing a list\")"
   ]
  },
  {
   "cell_type": "markdown",
   "id": "cbd6d151",
   "metadata": {},
   "source": [
    "## Export"
   ]
  },
  {
   "cell_type": "code",
   "execution_count": null,
   "id": "f79faedd",
   "metadata": {},
   "outputs": [],
   "source": [
    "osmnx_links.explore()"
   ]
  },
  {
   "cell_type": "code",
   "execution_count": null,
   "id": "86da3601",
   "metadata": {},
   "outputs": [],
   "source": [
    "#pickle all attributes as is\n",
    "with (export_folder/'osm_nodes.pkl').open('wb') as fh:\n",
    "    pickle.dump(osmnx_nodes,fh)"
   ]
  },
  {
   "cell_type": "code",
   "execution_count": null,
   "id": "9f60e8f7",
   "metadata": {},
   "outputs": [],
   "source": [
    "#pickle all attributes as is\n",
    "with (export_folder/'osm_links.pkl').open('wb') as fh:\n",
    "    pickle.dump(osm_links,fh)"
   ]
  },
  {
   "cell_type": "code",
   "execution_count": null,
   "id": "fe774398",
   "metadata": {},
   "outputs": [],
   "source": []
  }
 ],
 "metadata": {
  "kernelspec": {
   "display_name": "Python 3 (ipykernel)",
   "language": "python",
   "name": "python3"
  },
  "language_info": {
   "codemirror_mode": {
    "name": "ipython",
    "version": 3
   },
   "file_extension": ".py",
   "mimetype": "text/x-python",
   "name": "python",
   "nbconvert_exporter": "python",
   "pygments_lexer": "ipython3",
   "version": "3.9.13"
  },
  "varInspector": {
   "cols": {
    "lenName": 16,
    "lenType": 16,
    "lenVar": 40
   },
   "kernels_config": {
    "python": {
     "delete_cmd_postfix": "",
     "delete_cmd_prefix": "del ",
     "library": "var_list.py",
     "varRefreshCmd": "print(var_dic_list())"
    },
    "r": {
     "delete_cmd_postfix": ") ",
     "delete_cmd_prefix": "rm(",
     "library": "var_list.r",
     "varRefreshCmd": "cat(var_dic_list()) "
    }
   },
   "types_to_exclude": [
    "module",
    "function",
    "builtin_function_or_method",
    "instance",
    "_Feature"
   ],
   "window_display": false
  }
 },
 "nbformat": 4,
 "nbformat_minor": 5
}

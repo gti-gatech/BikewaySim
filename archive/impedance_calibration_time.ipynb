{
 "cells": [
  {
   "cell_type": "markdown",
   "metadata": {},
   "source": [
    "# Impedance Calibration Test Run"
   ]
  },
  {
   "cell_type": "markdown",
   "metadata": {},
   "source": [
    "### Overview:\n",
    "1. Network Preperation\n",
    "1. Import Matched Trace Data\n",
    "2. Specify Calibration Parameters\n",
    "    - Link Impedance Function\n",
    "    - Turn Impedance Function\n",
    "    - Objective Function\n",
    "        - Exact Overlap\n",
    "        - Buffer Overlap (in progress)\n",
    "        - Frechet Distance (in progress)\n",
    "3. Run Calibration (in progress)\n",
    "4. Export Results to Examine"
   ]
  },
  {
   "cell_type": "code",
   "execution_count": null,
   "metadata": {},
   "outputs": [],
   "source": [
    "from pathlib import Path\n",
    "import time\n",
    "import pandas as pd\n",
    "import geopandas as gpd\n",
    "import numpy as np\n",
    "import pickle\n",
    "import networkx as nx\n",
    "from stochopy.optimize import minimize\n",
    "import stochastic_optimization\n",
    "from tqdm import tqdm\n",
    "import similaritymeasures\n",
    "import random\n",
    "\n",
    "from shapely.ops import LineString, MultiLineString\n",
    "\n",
    "import sys\n",
    "sys.path.insert(0,str(Path.cwd().parent))\n",
    "from network.src import modeling_turns\n",
    "import speedfactor"
   ]
  },
  {
   "cell_type": "code",
   "execution_count": null,
   "metadata": {},
   "outputs": [],
   "source": [
    "import json\n",
    "config = json.load((Path.cwd().parent / 'config.json').open('rb'))\n",
    "calibration_fp = Path(config['project_directory']) / 'Calibration'\n",
    "cycleatl_fp = Path(config['project_directory']) / 'CycleAtlanta'\n",
    "matching_fp = Path(config['project_directory']) / 'Map_Matching'\n",
    "network_fp = Path(config['project_directory']) / 'Network'\n",
    "if calibration_fp.exists() == False:\n",
    "    calibration_fp.mkdir()"
   ]
  },
  {
   "cell_type": "markdown",
   "metadata": {},
   "source": [
    "# Network Preperation"
   ]
  },
  {
   "cell_type": "code",
   "execution_count": null,
   "metadata": {},
   "outputs": [],
   "source": [
    "turns = pd.read_parquet(network_fp/'turns_df.parquet')\n",
    "links = gpd.read_file(network_fp/'final_network.gpkg',layer='edges')\n",
    "turn_G = modeling_turns.make_turn_graph(turns)"
   ]
  },
  {
   "cell_type": "code",
   "execution_count": null,
   "metadata": {},
   "outputs": [],
   "source": [
    "geo_dict = dict(zip(links['linkid'],links['geometry']))"
   ]
  },
  {
   "cell_type": "code",
   "execution_count": null,
   "metadata": {},
   "outputs": [],
   "source": [
    "#added a major/minor classification, everything else is just left as \"road\"\n",
    "major_road = ['primary','secondary']\n",
    "major_road = major_road + [item + '_link' for item in major_road]\n",
    "minor_road = ['tertiary','unclassified','residential','service','trunk','living_street']\n",
    "major_road = major_road + [item + '_link' for item in minor_road]\n",
    "links.loc[links['highway'].isin(major_road),'link_type_new'] = 'major_road'\n",
    "links.loc[links['highway'].isin(minor_road),'link_type_new'] = 'minor_road'\n",
    "links.loc[links['link_type_new'].isna(),'link_type_new'] = links.loc[links['link_type_new'].isna(),'link_type']"
   ]
  },
  {
   "cell_type": "code",
   "execution_count": null,
   "metadata": {},
   "outputs": [],
   "source": [
    "#links['link_type_new'].unique()\n",
    "links['high_traffic_stress'] = links['link_type_new'] == 'major_road'"
   ]
  },
  {
   "cell_type": "markdown",
   "metadata": {},
   "source": [
    "Format variables (in progress)"
   ]
  },
  {
   "cell_type": "code",
   "execution_count": null,
   "metadata": {},
   "outputs": [],
   "source": [
    "#links['high_traffic_stress'] = links['highway'] == 'primary'\n",
    "# df_edges['bike_facility_type'].value_counts()\n",
    "# df_edges['high_traffic_stress'] = df_edges['bike_facility_type'].isna() & (df_edges['highway'].map(levels) > 4 | df_edges['speed limit'] > 30)"
   ]
  },
  {
   "cell_type": "markdown",
   "metadata": {},
   "source": [
    "Format turn variables (in progress)"
   ]
  },
  {
   "cell_type": "code",
   "execution_count": null,
   "metadata": {},
   "outputs": [],
   "source": [
    "turns['left'] = turns['turn_type'] == 'left'\n",
    "turns['right'] = turns['turn_type'] == 'right'"
   ]
  },
  {
   "cell_type": "code",
   "execution_count": null,
   "metadata": {},
   "outputs": [],
   "source": [
    "speedfactor.calculate_adjusted_speed(links,9)"
   ]
  },
  {
   "cell_type": "markdown",
   "metadata": {},
   "source": [
    "# Specify Link Impedance Functions"
   ]
  },
  {
   "cell_type": "markdown",
   "metadata": {},
   "source": [
    "## BicyclingPlus Demo Impedance Functions"
   ]
  },
  {
   "cell_type": "markdown",
   "metadata": {},
   "source": [
    "Turn Only Impedance"
   ]
  },
  {
   "cell_type": "code",
   "execution_count": null,
   "metadata": {},
   "outputs": [],
   "source": [
    "#TODO allow for certain impedance functions to be left out"
   ]
  },
  {
   "cell_type": "code",
   "execution_count": null,
   "metadata": {},
   "outputs": [],
   "source": [
    "#have position of beta next to name of variable\n",
    "betas_links = {} \n",
    "betas_turns = {\n",
    "    0 : 'right',\n",
    "    1 : 'left',\n",
    "}\n",
    "\n",
    "'''\n",
    "Currently works with binary and numeric variables. Categoricals will have to be\n",
    "cast into a different format for now.\n",
    "\n",
    "Link impedance is weighted by the length of the link, turns are just the impedance associated\n",
    "'''\n",
    "\n",
    "#customize this function to change impedance formula\n",
    "#TODO streamline process of trying out new impedance functions\n",
    "def link_impedance_function(betas,beta_links,links):\n",
    "    #prevent mutating the original links gdf\n",
    "    links = links.copy()\n",
    "    \n",
    "    links['link_cost'] = links['adj_travel_time_min']\n",
    "    \n",
    "    return links\n",
    "\n",
    "def turn_impedance_function(betas,beta_turns,turns):\n",
    "    #use beta coefficient to calculate turn cost\n",
    "    #base_turn_cost = 30 # from Lowry et al 2016 DOI: http://dx.doi.org/10.1016/j.tra.2016.02.003\n",
    "    # turn_costs = {\n",
    "    #     'left': betas[1] * base_turn_cost,\n",
    "    #     'right': betas[1] * base_turn_cost,\n",
    "    #     'straight': betas[1] * base_turn_cost\n",
    "    # }\n",
    "    #turns['turn_cost'] = turns['turn_type'].map(turn_costs)\n",
    "\n",
    "    turns = turns.copy()\n",
    "\n",
    "    turns['turn_cost'] = 0\n",
    "\n",
    "    for key, item in beta_turns.items():\n",
    "        turns['turn_cost'] = turns['turn_cost'] + (betas[key] * turns[item])\n",
    "\n",
    "    turns['turn_cost'] = turns['turn_cost'].astype(float)\n",
    "\n",
    "    return turns"
   ]
  },
  {
   "cell_type": "markdown",
   "metadata": {},
   "source": [
    "Stree Impedance"
   ]
  },
  {
   "cell_type": "code",
   "execution_count": null,
   "metadata": {},
   "outputs": [],
   "source": [
    "# #have position of beta next to name of variable\n",
    "# betas_links = {} \n",
    "# betas_turns = {\n",
    "#     0 : 'right',\n",
    "#     1 : 'left',\n",
    "# }\n",
    "\n",
    "# '''\n",
    "# Currently works with binary and numeric variables. Categoricals will have to be\n",
    "# cast into a different format for now.\n",
    "\n",
    "# Link impedance is weighted by the length of the link, turns are just the impedance associated\n",
    "# '''\n",
    "\n",
    "# #customize this function to change impedance formula\n",
    "# #TODO streamline process of trying out new impedance functions\n",
    "# def link_impedance_function(betas,beta_links,links):\n",
    "#     #prevent mutating the original links gdf\n",
    "#     links = links.copy()\n",
    "    \n",
    "#     links['link_cost'] = links['adj_travel_time_min']\n",
    "    \n",
    "#     return links\n",
    "\n",
    "# def turn_impedance_function(betas,beta_turns,turns):\n",
    "#     #use beta coefficient to calculate turn cost\n",
    "#     base_turn_cost = 30 # from Lowry et al 2016 DOI: http://dx.doi.org/10.1016/j.tra.2016.02.003\n",
    "#     # turn_costs = {\n",
    "#     #     'left': betas[1] * base_turn_cost,\n",
    "#     #     'right': betas[1] * base_turn_cost,\n",
    "#     #     'straight': betas[1] * base_turn_cost\n",
    "#     # }\n",
    "#     #turns['turn_cost'] = turns['turn_type'].map(turn_costs)\n",
    "\n",
    "#     turns = turns.copy()\n",
    "\n",
    "#     turns['turn_cost'] = 0\n",
    "\n",
    "#     for key, item in beta_turns.items():\n",
    "#         turns['turn_cost'] = turns['turn_cost'] + (betas[key] * turns[item])\n",
    "\n",
    "#     turns['turn_cost'] = turns['turn_cost'].astype(float)\n",
    "\n",
    "#     return turns"
   ]
  },
  {
   "cell_type": "markdown",
   "metadata": {},
   "source": [
    "## Thesis Impedance Functions"
   ]
  },
  {
   "cell_type": "code",
   "execution_count": null,
   "metadata": {},
   "outputs": [],
   "source": [
    "# #have position of beta next to name of variable\n",
    "# betas_links = {\n",
    "#     0 : 'ascent_grade',\n",
    "#     1 : 'high_traffic_stress',\n",
    "# }\n",
    "\n",
    "# betas_turns = {\n",
    "#     2 : 'signalized',\n",
    "#     3 : 'unsignalized',\n",
    "#     4 : 'left',\n",
    "# }\n",
    "\n",
    "# '''\n",
    "# Currently works with binary and numeric variables. Categoricals will have to be\n",
    "# cast into a different format for now.\n",
    "\n",
    "# Link impedance is weighted by the length of the link, turns are just the impedance associated\n",
    "# '''\n",
    "\n",
    "# #customize this function to change impedance formula\n",
    "# #TODO streamline process of trying out new impedance functions\n",
    "# def link_impedance_function(betas,beta_links,links):\n",
    "#     #prevent mutating the original links gdf\n",
    "#     links = links.copy()\n",
    "    \n",
    "#     links['attr_multiplier'] = 0\n",
    "\n",
    "#     for key, item in beta_links.items():\n",
    "#         links['attr_multiplier'] = links['attr_multiplier'] + (betas[key] * links[item])\n",
    "\n",
    "#     links['link_cost'] = links['length_ft'] * (1 + links['attr_multiplier'])\n",
    "    \n",
    "#     return links\n",
    "\n",
    "# def turn_impedance_function(betas,beta_turns,turns):\n",
    "#     #use beta coefficient to calculate turn cost\n",
    "#     base_turn_cost = 30 # from Lowry et al 2016 DOI: http://dx.doi.org/10.1016/j.tra.2016.02.003\n",
    "#     # turn_costs = {\n",
    "#     #     'left': betas[1] * base_turn_cost,\n",
    "#     #     'right': betas[1] * base_turn_cost,\n",
    "#     #     'straight': betas[1] * base_turn_cost\n",
    "#     # }\n",
    "#     #turns['turn_cost'] = turns['turn_type'].map(turn_costs)\n",
    "\n",
    "#     turns = turns.copy()\n",
    "\n",
    "#     turns['turn_cost'] = 0\n",
    "\n",
    "#     for key, item in beta_turns.items():\n",
    "#         turns['turn_cost'] = turns['turn_cost'] + (betas[key] * turns[item])\n",
    "\n",
    "#     turns['turn_cost'] = turns['turn_cost'].astype(float)\n",
    "\n",
    "#     return turns"
   ]
  },
  {
   "cell_type": "markdown",
   "metadata": {},
   "source": [
    "# Import Training Set"
   ]
  },
  {
   "cell_type": "code",
   "execution_count": null,
   "metadata": {},
   "outputs": [],
   "source": [
    "with (calibration_fp/'test_set.pkl').open('rb') as fh:\n",
    "    test_set = pickle.load(fh)\n",
    "with (calibration_fp/'train_set.pkl').open('rb') as fh:\n",
    "    train_set = pickle.load(fh)"
   ]
  },
  {
   "cell_type": "code",
   "execution_count": null,
   "metadata": {},
   "outputs": [],
   "source": [
    "import stochastic_optimization\n",
    "from importlib import reload\n",
    "reload(stochastic_optimization)"
   ]
  },
  {
   "cell_type": "code",
   "execution_count": null,
   "metadata": {},
   "outputs": [],
   "source": [
    "ods = stochastic_optimization.match_results_to_ods(train_set)\n",
    "test_ods = stochastic_optimization.match_results_to_ods(test_set)\n",
    "\n",
    "# objective_function = stochastic_optimization.exact_overlap\n",
    "# objective_function_args = {'length_dict':length_dict,'standardize':True}\n",
    "\n",
    "objective_function = stochastic_optimization.buffer_overlap\n",
    "objective_function_kwargs = {'geo_dict':geo_dict,'buffer_ft':50,'standardize':True}\n",
    "\n",
    "#not really sure how to best set boundary conditions yet\n",
    "num_of_coefs = len(betas_links) + len(betas_turns)\n",
    "bounds = [[0, 50] for _ in range(0, num_of_coefs)]"
   ]
  },
  {
   "cell_type": "code",
   "execution_count": null,
   "metadata": {},
   "outputs": [],
   "source": [
    "past_betas = []\n",
    "past_vals = []\n",
    "args = (\n",
    "    past_betas,\n",
    "    past_vals,\n",
    "    betas_links,betas_turns,\n",
    "    ods,train_set,\n",
    "    link_impedance_function,\n",
    "    turn_impedance_function,\n",
    "    links,turns,turn_G,\n",
    "    objective_function,\n",
    "    objective_function_kwargs\n",
    ")"
   ]
  },
  {
   "cell_type": "code",
   "execution_count": null,
   "metadata": {},
   "outputs": [],
   "source": [
    "from importlib import reload\n",
    "reload(stochastic_optimization)\n",
    "reload(speedfactor)\n",
    "start = time.time()\n",
    "# args = (df_edges,turns,turn_G,matched_traces,False)\n",
    "x = minimize(stochastic_optimization.impedance_calibration, bounds=bounds, args=args, method='pso', options={'maxiter':5})\n",
    "end = time.time()\n",
    "print(f'Took {(end-start)/60/60} hours')"
   ]
  },
  {
   "cell_type": "code",
   "execution_count": null,
   "metadata": {},
   "outputs": [],
   "source": [
    "np.array(past_vals).min()"
   ]
  },
  {
   "cell_type": "code",
   "execution_count": null,
   "metadata": {},
   "outputs": [],
   "source": [
    "past_betas[np.array(past_vals).argmin()]"
   ]
  },
  {
   "cell_type": "code",
   "execution_count": null,
   "metadata": {},
   "outputs": [],
   "source": [
    "x"
   ]
  },
  {
   "cell_type": "markdown",
   "metadata": {},
   "source": [
    "Create GIFs"
   ]
  },
  {
   "cell_type": "code",
   "execution_count": null,
   "metadata": {},
   "outputs": [],
   "source": [
    "import geopandas as gpd\n",
    "import matplotlib.pyplot as plt\n",
    "import imageio\n",
    "from io import BytesIO\n",
    "\n",
    "# Function to plot a GeoSeries and save the plot\n",
    "def plot_geoseries(geoseries,other_geoseries,i,past_val):\n",
    "    fig, ax = plt.subplots(figsize=(20, 20))\n",
    "    #cx.add_basemap(ax)\n",
    "    other_geoseries.plot(ax=ax,color='blue',weight=1)\n",
    "    geoseries.plot(ax=ax,color='red')\n",
    "    ax.set_title(f\"Iter:{i} Overlap Function:{past_val}\")\n",
    "    ax.set_axis_off()\n",
    "    img_bytes = BytesIO()\n",
    "    plt.savefig(img_bytes, format='png', bbox_inches='tight')\n",
    "    plt.close()\n",
    "    return img_bytes.getvalue()"
   ]
  },
  {
   "cell_type": "code",
   "execution_count": null,
   "metadata": {},
   "outputs": [],
   "source": [
    "# num_trips = 20\n",
    "\n",
    "# for z in range(0,num_trips):\n",
    "\n",
    "#     #choose a random tripid\n",
    "#     tripid = random.choice(list(train_set.keys()))\n",
    "#     start_node = train_set[tripid]['start_node']\n",
    "#     end_node = train_set[tripid]['end_node']\n",
    "\n",
    "#     matched_edges = train_set[tripid]['matched_edges']\n",
    "#     matched_edges = np.array(matched_edges)\n",
    "#     matched_line = MultiLineString([geo_dict[linkid] for linkid, reverse_link in matched_edges])\n",
    "#     matched_line = gpd.GeoSeries(matched_line,crs='epsg:2240')\n",
    "#     matched_line = matched_line.to_crs('epsg:4326')\n",
    "\n",
    "#     modeled_lines = []\n",
    "\n",
    "#     for betas in past_betas:\n",
    "#         #update network with the correct impedances\n",
    "#         stochastic_optimization.impedance_update(betas,betas_links,betas_turns,\n",
    "#                                 link_impedance_function,\n",
    "#                                 turn_impedance_function,\n",
    "#                                 links,turns,turn_G)\n",
    "#         #find shortest path\n",
    "#         modeled_edges = stochastic_optimization.impedance_path(turns,turn_G,start_node,end_node)['edge_list']\n",
    "#         modeled_line = MultiLineString([geo_dict[linkid] for linkid, reverse_link in modeled_edges])\n",
    "#         modeled_line = gpd.GeoSeries(modeled_line,crs='epsg:2240')\n",
    "#         modeled_line = modeled_line.to_crs('epsg:4326')\n",
    "#         modeled_lines.append(modeled_line)\n",
    "\n",
    "#     # List of GeoSeries (Replace this with your own GeoSeries list)\n",
    "#     geoseries_list = modeled_lines\n",
    "\n",
    "#     # Loop through the list of GeoSeries, plot each one, and save the plot\n",
    "#     images = []\n",
    "#     for i, geoseries in enumerate(geoseries_list):\n",
    "#         past_val = past_vals[i]\n",
    "#         image_bytes = plot_geoseries(geoseries,matched_line,i,past_val)\n",
    "#         images.append(imageio.imread(BytesIO(image_bytes)))\n",
    "\n",
    "#     # Path for saving the GIF\n",
    "#     gif_path = f\"animations/turn_calibrate_{z}.gif\"\n",
    "\n",
    "#     # Save the images as a GIF\n",
    "#     imageio.mimsave(Path.cwd()/gif_path, images, format='gif', duration=2)\n"
   ]
  },
  {
   "cell_type": "markdown",
   "metadata": {},
   "source": [
    "#### Calculate overlap for test set\n",
    "Need to use best set of betas to "
   ]
  },
  {
   "cell_type": "code",
   "execution_count": null,
   "metadata": {},
   "outputs": [],
   "source": [
    "#link_impedance_col = \"adj_travel_time_min\"\n",
    "\n",
    "#update impedances\n",
    "betas = x.x\n",
    "stochastic_optimization.impedance_update(betas,betas_links,betas_turns,\n",
    "                          link_impedance_function,\n",
    "                          turn_impedance_function,\n",
    "                          links,turns,turn_G)\n",
    "\n",
    "#find shortest path\n",
    "results_dict = {(start_node,end_node):stochastic_optimization.impedance_path(turns,turn_G,start_node,end_node) for start_node, end_node in test_ods}\n",
    "\n",
    "#calulate objective function\n",
    "val_to_minimize = objective_function(test_set,results_dict,**objective_function_kwargs)\n",
    "print('Test set overlap:',np.abs(np.round(val_to_minimize,2)))"
   ]
  },
  {
   "cell_type": "markdown",
   "metadata": {},
   "source": [
    "## Visualize random trip"
   ]
  },
  {
   "cell_type": "code",
   "execution_count": null,
   "metadata": {},
   "outputs": [],
   "source": [
    "# #retrieve chosen path linkids and convert them to tuple\n",
    "# chosen = [tuple(row) for row in match_results[tripid]['matched_edges'].to_numpy()]\n",
    "# shortest = [tuple(row) for row in match_results[tripid]['shortest_edges'].to_numpy()]\n",
    "# #retrieve modeled path linkids\n",
    "# modeled_edges = results_dict[(start_node,end_node)]['edge_list']\n",
    "\n",
    "# #get geos (non-directional)\n",
    "# chosen_geo = [geo_dict[linkid[0]] for linkid in chosen]\n",
    "# shortest_geo = [geo_dict[linkid[0]] for linkid in shortest]\n",
    "# modeled_geo = [geo_dict[linkid[0]] for linkid in modeled_edges]\n",
    "\n",
    "# chosen_lines = gpd.GeoSeries(chosen_geo,crs='epsg:2240')\n",
    "# shortest_lines = gpd.GeoSeries(shortest_geo,crs='epsg:2240')\n",
    "# modeled_lines = gpd.GeoSeries(modeled_geo,crs='epsg:2240')\n",
    "\n",
    "# stochastic_optimization.visualize_three_no_legend(chosen_lines,shortest_lines,modeled_lines)"
   ]
  }
 ],
 "metadata": {
  "kernelspec": {
   "display_name": "Python 3 (ipykernel)",
   "language": "python",
   "name": "python3"
  },
  "language_info": {
   "codemirror_mode": {
    "name": "ipython",
    "version": 3
   },
   "file_extension": ".py",
   "mimetype": "text/x-python",
   "name": "python",
   "nbconvert_exporter": "python",
   "pygments_lexer": "ipython3",
   "version": "3.9.13"
  },
  "varInspector": {
   "cols": {
    "lenName": 16,
    "lenType": 16,
    "lenVar": 40
   },
   "kernels_config": {
    "python": {
     "delete_cmd_postfix": "",
     "delete_cmd_prefix": "del ",
     "library": "var_list.py",
     "varRefreshCmd": "print(var_dic_list())"
    },
    "r": {
     "delete_cmd_postfix": ") ",
     "delete_cmd_prefix": "rm(",
     "library": "var_list.r",
     "varRefreshCmd": "cat(var_dic_list()) "
    }
   },
   "types_to_exclude": [
    "module",
    "function",
    "builtin_function_or_method",
    "instance",
    "_Feature"
   ],
   "window_display": false
  }
 },
 "nbformat": 4,
 "nbformat_minor": 2
}

{
 "cells": [
  {
   "cell_type": "markdown",
   "metadata": {},
   "source": [
    "# Scratch code for examining OSM attribute completion"
   ]
  },
  {
   "cell_type": "code",
   "execution_count": null,
   "metadata": {},
   "outputs": [],
   "source": [
    "from pathlib import Path\n",
    "import geopandas as gpd\n",
    "import matplotlib.pyplot as plt\n",
    "import numpy as np\n",
    "import pickle\n",
    "import pandas as pd"
   ]
  },
  {
   "cell_type": "code",
   "execution_count": null,
   "metadata": {},
   "outputs": [],
   "source": [
    "fp = Path.home() / 'Documents/TransitSimData/networks'\n",
    "\n",
    "with (fp/'osm.pkl').open('rb') as fh:\n",
    "    osm = pickle.load(fh)"
   ]
  },
  {
   "cell_type": "code",
   "execution_count": null,
   "metadata": {},
   "outputs": [],
   "source": [
    "len(osm.columns)"
   ]
  },
  {
   "cell_type": "markdown",
   "metadata": {},
   "source": [
    "Public roads not including Interstates"
   ]
  },
  {
   "cell_type": "code",
   "execution_count": null,
   "metadata": {},
   "outputs": [],
   "source": [
    "public_roads = ['primary','primary_link','residential','secondary','secondary_link',\n",
    "                            'tertiary','tertiary_link','trunk','trunk_link']\n",
    "osm = osm[osm['highway'].isin(public_roads)].copy()"
   ]
  },
  {
   "cell_type": "markdown",
   "metadata": {},
   "source": [
    "Drop completely empty columns"
   ]
  },
  {
   "cell_type": "code",
   "execution_count": null,
   "metadata": {},
   "outputs": [],
   "source": [
    "osm = osm.loc[:,~osm.isna().all()].copy()\n",
    "print(osm.shape[1])"
   ]
  },
  {
   "cell_type": "code",
   "execution_count": null,
   "metadata": {},
   "outputs": [],
   "source": [
    "# Get the network length and total network length\n",
    "network_length = osm.length\n",
    "total_network_length = osm.length.sum()\n",
    "\n",
    "# Calculate attribute completion percentage\n",
    "attr_completion = osm.notna().apply(lambda col: col * network_length, axis=0).sum() / total_network_length * 100\n",
    "attr_completion.name = 'pct_complete'\n",
    "\n",
    "# Define intervals and labels\n",
    "intervals = list(range(0,110,10))\n",
    "labels = list(range(0,100,10))\n",
    "labels = [f'{x+1}-{x+10}' for x in labels]\n",
    "labels[0] = '0-10'\n",
    "\n",
    "# Create categories using .cut\n",
    "categories = pd.cut(attr_completion, bins=intervals, labels=labels)\n",
    "category_counts = categories.value_counts().sort_index()\n",
    "\n",
    "# Create bar chart\n",
    "plt.figure(figsize=(10, 5))\n",
    "bar_plot = category_counts.plot(kind='bar', color='maroon')\n",
    "bar_plot.set_xticklabels(bar_plot.get_xticklabels(), rotation=0)\n",
    "plt.xlabel('Percent of Attribute Complete (%)')\n",
    "plt.ylabel('Number of Attributes')\n",
    "plt.show()"
   ]
  },
  {
   "cell_type": "code",
   "execution_count": null,
   "metadata": {},
   "outputs": [],
   "source": []
  },
  {
   "cell_type": "code",
   "execution_count": null,
   "metadata": {},
   "outputs": [],
   "source": [
    "osm['length_ft'] = osm.length"
   ]
  },
  {
   "cell_type": "markdown",
   "metadata": {},
   "source": [
    "Speed Limit"
   ]
  },
  {
   "cell_type": "code",
   "execution_count": null,
   "metadata": {},
   "outputs": [],
   "source": [
    "speed_limit_cols = [col for col in osm.columns if 'speed' in col]\n",
    "speed_limit_cols"
   ]
  },
  {
   "cell_type": "code",
   "execution_count": null,
   "metadata": {},
   "outputs": [],
   "source": [
    "# speed_limit = osm[['name','highway']+speed_limit_cols+['geometry']].copy()\n",
    "# speed_limit.loc[~speed_limit['speed_limit_cols'].isna().all(axis=1),:].explore()"
   ]
  },
  {
   "cell_type": "code",
   "execution_count": null,
   "metadata": {},
   "outputs": [],
   "source": [
    "osm['has_speed_limit'] = False\n",
    "osm.loc[osm['maxspeed'].notna(),'has_speed_limit'] = True"
   ]
  },
  {
   "cell_type": "markdown",
   "metadata": {},
   "source": [
    "Lanes"
   ]
  },
  {
   "cell_type": "code",
   "execution_count": null,
   "metadata": {},
   "outputs": [],
   "source": [
    "lane_cols = [col for col in osm.columns if 'lane' in col]\n",
    "lane_cols"
   ]
  },
  {
   "cell_type": "code",
   "execution_count": null,
   "metadata": {},
   "outputs": [],
   "source": [
    "# lanes = osm[['name','highway']+lane_cols+['geometry']].copy()\n",
    "# lanes.loc[~lanes[lane_cols].isna().all(axis=1),:].explore()"
   ]
  },
  {
   "cell_type": "code",
   "execution_count": null,
   "metadata": {},
   "outputs": [],
   "source": [
    "osm['has_lanes'] = False\n",
    "osm.loc[osm['lanes'].notna(),'has_lanes'] = True"
   ]
  },
  {
   "cell_type": "markdown",
   "metadata": {},
   "source": [
    "Sidewalks"
   ]
  },
  {
   "cell_type": "code",
   "execution_count": null,
   "metadata": {},
   "outputs": [],
   "source": [
    "sidewalk_cols = [col for col in osm.columns if 'sidewalk' in col]\n",
    "sidewalk_cols"
   ]
  },
  {
   "cell_type": "code",
   "execution_count": null,
   "metadata": {},
   "outputs": [],
   "source": [
    "sidewalk_cols = ['sidewalk',\n",
    " 'sidewalk:both',\n",
    " 'sidewalk:left',\n",
    " 'sidewalk:right',\n",
    " 'sidewalk_1']"
   ]
  },
  {
   "cell_type": "code",
   "execution_count": null,
   "metadata": {},
   "outputs": [],
   "source": [
    "#osm.loc[osm['sidewalk'].isna() & osm[sidewalk_cols].notna().any(axis=1),sidewalk_cols+['sidewalk','geometry']].explore()"
   ]
  },
  {
   "cell_type": "code",
   "execution_count": null,
   "metadata": {},
   "outputs": [],
   "source": [
    "#osm.loc[osm['sidewalk_1'].notna(),['sidewalk_1','geometry']].explore()"
   ]
  },
  {
   "cell_type": "code",
   "execution_count": null,
   "metadata": {},
   "outputs": [],
   "source": [
    "osm['has_sidewalk'] = False\n",
    "osm.loc[osm[sidewalk_cols].notna().all(axis=1),'has_sidewalk'] = True"
   ]
  },
  {
   "cell_type": "markdown",
   "metadata": {},
   "source": [
    "Parking"
   ]
  },
  {
   "cell_type": "code",
   "execution_count": null,
   "metadata": {},
   "outputs": [],
   "source": [
    "parking_cols = [col for col in osm.columns if 'parking' in col]\n",
    "parking_cols"
   ]
  },
  {
   "cell_type": "code",
   "execution_count": null,
   "metadata": {},
   "outputs": [],
   "source": [
    "#osm.loc[osm[parking_cols].notna().any(axis=1),['name','geometry']+parking_cols].explore()"
   ]
  },
  {
   "cell_type": "code",
   "execution_count": null,
   "metadata": {},
   "outputs": [],
   "source": [
    "osm['has_parking'] = False\n",
    "osm.loc[osm[parking_cols].notna().any(axis=1),'has_parking'] = True"
   ]
  },
  {
   "cell_type": "code",
   "execution_count": null,
   "metadata": {},
   "outputs": [],
   "source": [
    "presence_cols = ['has_lanes','has_speed_limit','has_sidewalk','has_parking']\n",
    "presence_df = osm[presence_cols+['length_ft']]\n",
    "\n",
    "test = {}\n",
    "for col in presence_cols:\n",
    "    test[col] = osm.loc[osm[col]==True,'length_ft'].sum() / osm['length_ft'].sum() * 100\n",
    "test = pd.Series(test)"
   ]
  },
  {
   "cell_type": "code",
   "execution_count": null,
   "metadata": {},
   "outputs": [],
   "source": [
    "test.rename('attribute completion')\n",
    "test.round(1)"
   ]
  },
  {
   "cell_type": "markdown",
   "metadata": {},
   "source": [
    "Important variables in figure: lanes, speed limit, sidewalk presence, parking (then mention grade)"
   ]
  },
  {
   "cell_type": "code",
   "execution_count": null,
   "metadata": {},
   "outputs": [],
   "source": [
    "#get length and total length\n",
    "network_length = osm_links.length\n",
    "total_network_length = osm_links.length.sum()\n",
    "attr_completion = osm.notna().apply(lambda col: col*network_length,axis=0).sum() / total_network_length * 100\n",
    "attr_completion.name = 'pct_complete'\n",
    "\n",
    "# Make boxplot of attribute completion\n",
    "marks = np.array(attr_completion)\n",
    "\n",
    "fig, axis = plt.subplots(figsize =(10, 5))\n",
    "axis.hist(marks, bins = np.array([x for x in range(0, 110, 10)]) / 100)\n",
    "plt.xlabel('Percent of Attribute Complete')\n",
    "plt.ylabel('Frequency')\n",
    "# Displaying the graph\n",
    "plt.show()"
   ]
  },
  {
   "cell_type": "code",
   "execution_count": null,
   "metadata": {},
   "outputs": [],
   "source": [
    "## Reduce attributes\n"
   ]
  },
  {
   "cell_type": "code",
   "execution_count": null,
   "metadata": {},
   "outputs": [],
   "source": [
    "#set cutoff\n",
    "percent_complete_cutoff=10\n",
    "\n",
    "#get length and total length\n",
    "network_length = osm_links.length\n",
    "total_network_length = osm_links.length.sum()\n",
    "\n",
    "#get percent complete weighted by total distance\n",
    "attr_completion = osm_links.notna().apply(lambda col: col*network_length,axis=0).sum() / total_network_length * 100\n",
    "attr_completion.name = 'percent_complete'\n",
    "\n",
    "#retrieve all complete* fields\n",
    "complete = list(attr_completion[attr_completion>percent_complete_cutoff].index)\n",
    "#less_complete = list(attr_completion[attr_completion<=percent_complete_cutoff].index)\n",
    "\n",
    "# road attributes to retreive\n",
    "road_columns = ['highway','name','highway_1','oneway','lanes','maxspeed','bridge','tunnel','crossing','sidewalk']\n",
    "\n",
    "# parking attributes\n",
    "parking_columns = [x for x in osm_links.columns.to_list() if 'parking' in x]\n",
    "\n",
    "# bike attributes\n",
    "bike_columns = [x for x in osm_links.columns.to_list() if (('cycle' in x) | ('bike' in x)) & ('motorcycle' not in x)]\n",
    "foot_columns = [x for x in osm_links.columns.to_list() if ('foot' in x)]\n",
    "bike_columns = bike_columns + foot_columns\n",
    "\n",
    "#keep these columns\n",
    "keep = complete+bike_columns+road_columns+parking_columns\n",
    "\n",
    "#remove excess columns\n",
    "osm_export = osm_links[set(osm_links.columns) & set(keep)]\n",
    "\n",
    "# Make boxplot of attribute completion\n",
    "marks = np.array(attr_completion)\n",
    "\n",
    "#removed columns\n",
    "removed_cols = [ x for x in osm_links.columns if x not in keep]"
   ]
  },
  {
   "cell_type": "code",
   "execution_count": null,
   "metadata": {},
   "outputs": [],
   "source": [
    "## Attribute Completion"
   ]
  },
  {
   "cell_type": "code",
   "execution_count": null,
   "metadata": {},
   "outputs": [],
   "source": [
    "fig, axis = plt.subplots(figsize =(10, 5))\n",
    "axis.hist(marks, bins = np.array([x for x in range(0, 110, 10)]) / 100)\n",
    "plt.xlabel('Percent of Attribute Complete')\n",
    "plt.ylabel('Frequency')\n",
    "# Displaying the graph\n",
    "plt.show()"
   ]
  },
  {
   "cell_type": "code",
   "execution_count": null,
   "metadata": {},
   "outputs": [],
   "source": [
    "## Examining Results"
   ]
  },
  {
   "cell_type": "code",
   "execution_count": null,
   "metadata": {},
   "outputs": [],
   "source": [
    "#don't run if large network\n",
    "#osm_links.explore()"
   ]
  },
  {
   "cell_type": "code",
   "execution_count": null,
   "metadata": {},
   "outputs": [],
   "source": [
    "### Which columns to keep?\n",
    "1. Check for completion\n",
    "1. Check for desired attributes (speed, bike lanes, etc.)\n",
    "1. Filter to just those"
   ]
  },
  {
   "cell_type": "code",
   "execution_count": null,
   "metadata": {},
   "outputs": [],
   "source": [
    "### Examine which attributes are present\n",
    "Try 'maxspeed' or 'lanes'"
   ]
  },
  {
   "cell_type": "code",
   "execution_count": null,
   "metadata": {},
   "outputs": [],
   "source": [
    "#others to check: 'cycleway','lanes'\n",
    "attributes_to_check = ['maxspeed']\n",
    "osm_links.loc[osm_links[attributes_to_check].notna().any(axis=1),attributes_to_check+['geometry']].explore()"
   ]
  },
  {
   "cell_type": "code",
   "execution_count": null,
   "metadata": {},
   "outputs": [],
   "source": [
    "## Look at value counts to look at possible attribute values"
   ]
  },
  {
   "cell_type": "code",
   "execution_count": null,
   "metadata": {},
   "outputs": [],
   "source": [
    "osm_links['lanes'].value_counts()"
   ]
  },
  {
   "cell_type": "code",
   "execution_count": null,
   "metadata": {},
   "outputs": [],
   "source": [
    "# Just Bike Infrastructure"
   ]
  },
  {
   "cell_type": "code",
   "execution_count": null,
   "metadata": {},
   "outputs": [],
   "source": [
    "#create copy\n",
    "bike_lanes = osm_links.copy()\n",
    "\n",
    "#drop if no on bicycle\n",
    "bike_lanes = bike_lanes[bike_lanes['bicycle']!='no']\n",
    "\n",
    "#drop shared lanes \"sharrows\"\n",
    "not_sharedlane = (-bike_lanes[bike_columns].isin(['shared_lane'])).all(axis=1)\n",
    "bike_lanes = bike_lanes[not_sharedlane]\n",
    "\n",
    "#remove sidewalks unless bikes explicitly allowed\n",
    "remove_sidewalks = (bike_lanes['footway'].isin(['sidewalk','crossing'])) & (bike_lanes['bicycle'] != 'yes')\n",
    "bike_lanes = bike_lanes[-remove_sidewalks]\n",
    "\n",
    "#drop unless at least one bike attribute or if cycleway is present in highway or highway_1\n",
    "bike_lanes = bike_lanes[~(bike_lanes[bike_columns].isna().all(axis=1)) | (bike_lanes['highway']=='cycleway')]\n",
    "\n",
    "#need beltline and stuff\n",
    "bike_lanes[['name','highway']+bike_columns+['geometry']].explore()"
   ]
  },
  {
   "cell_type": "code",
   "execution_count": null,
   "metadata": {},
   "outputs": [],
   "source": []
  },
  {
   "cell_type": "code",
   "execution_count": null,
   "metadata": {},
   "outputs": [],
   "source": []
  },
  {
   "cell_type": "code",
   "execution_count": null,
   "metadata": {},
   "outputs": [],
   "source": []
  },
  {
   "cell_type": "code",
   "execution_count": null,
   "metadata": {},
   "outputs": [],
   "source": []
  },
  {
   "cell_type": "code",
   "execution_count": null,
   "metadata": {},
   "outputs": [],
   "source": []
  },
  {
   "cell_type": "code",
   "execution_count": null,
   "metadata": {},
   "outputs": [],
   "source": []
  }
 ],
 "metadata": {
  "kernelspec": {
   "display_name": "Python 3",
   "language": "python",
   "name": "python3"
  },
  "language_info": {
   "codemirror_mode": {
    "name": "ipython",
    "version": 3
   },
   "file_extension": ".py",
   "mimetype": "text/x-python",
   "name": "python",
   "nbconvert_exporter": "python",
   "pygments_lexer": "ipython3",
   "version": "3.9.13"
  }
 },
 "nbformat": 4,
 "nbformat_minor": 2
}

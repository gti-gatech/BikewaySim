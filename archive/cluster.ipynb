{
 "cells": [
  {
   "cell_type": "markdown",
   "metadata": {},
   "source": [
    "# Creating Clusters for Stochastic Optimization\n",
    "---"
   ]
  },
  {
   "cell_type": "markdown",
   "metadata": {},
   "source": [
    "Import packages"
   ]
  },
  {
   "cell_type": "code",
   "execution_count": null,
   "metadata": {},
   "outputs": [],
   "source": [
    "from pathlib import Path\n",
    "import pickle\n",
    "import pandas as pd\n",
    "import geopandas as gpd\n",
    "import json\n",
    "import numpy as np\n",
    "import matplotlib.pyplot as plt\n",
    "import datetime\n",
    "from tqdm import tqdm\n",
    "import contextily as cx"
   ]
  },
  {
   "cell_type": "code",
   "execution_count": null,
   "metadata": {},
   "outputs": [],
   "source": [
    "import matplotlib.pyplot as plt\n",
    "\n",
    "# Assuming coords is your DataFrame\n",
    "plt.hist(coords['speed_mph'], bins=range(0, 105, 2), edgecolor='black')\n",
    "plt.xlabel('Speed (mph)')\n",
    "plt.ylabel('Frequency')\n",
    "plt.title('Histogram of Speeds with Bin Size of  mph')\n",
    "plt.xlim(0, 30)  # Set the x-axis limits to 0 and 100\n",
    "plt.show()"
   ]
  },
  {
   "cell_type": "code",
   "execution_count": null,
   "metadata": {},
   "outputs": [],
   "source": [
    "#%% remove trips with excessive speed\n",
    "\n",
    "# '''\n",
    "# These are ad hoc methods to remove obvious exercise trips\n",
    "\n",
    "# if average gps speed reported is larger than 20 mph\n",
    "# AND there are points above 30 mph then it's probably\n",
    "# not on bike or is part of a very fast road ride\n",
    "\n",
    "# Only about 90 trips affected by this\n",
    "# '''\n",
    "\n",
    "# avg_speed_max = 16\n",
    "# max_speed_max = 30\n",
    "\n",
    "# #TODO doesn't look like i got to this?\n",
    "# test = coords.groupby('tripid')['speed_mph'].agg(['mean','max'])\n",
    "\n",
    "# (test['mean'] > avg_speed_max).sum()\n",
    "# (test['max'] > max_speed_max).sum()"
   ]
  },
  {
   "cell_type": "markdown",
   "metadata": {},
   "source": [
    "Import cleaned traces"
   ]
  },
  {
   "cell_type": "code",
   "execution_count": null,
   "metadata": {},
   "outputs": [],
   "source": [
    "export_fp = Path.home() / 'Downloads/cleaned_trips'\n",
    "\n",
    "#load all traces for comparisons\n",
    "with (export_fp/'cleaned_traces.pkl').open('rb') as fh:\n",
    "    coords_dict, trips_df = pickle.load(fh)"
   ]
  },
  {
   "cell_type": "code",
   "execution_count": null,
   "metadata": {},
   "outputs": [],
   "source": [
    "#calculate min, avg, max for speed_mph and add to trips_df\n",
    "for tripid, coords in tqdm(coords_dict.items()):\n",
    "    trips_df.at[trips_df['tripid']==tripid,'min_speed_mph_gps'] = coords['speed_mph'].min()\n",
    "    trips_df.at[trips_df['tripid']==tripid,'avg_speed_mph_gps'] = coords['speed_mph'].mean()\n",
    "    trips_df.at[trips_df['tripid']==tripid,'max_speed_mph_gps'] = coords['speed_mph'].max()"
   ]
  },
  {
   "cell_type": "code",
   "execution_count": null,
   "metadata": {},
   "outputs": [],
   "source": [
    "fig, ax = plt.subplots(ncols=3, figsize=(20, 6))\n",
    "\n",
    "ax[0].hist(trips_df['min_speed_mph_gps'], bins=50, label='GPS Average Speed', color='skyblue', alpha=0.7)\n",
    "ax[0].hist(trips_df['min_speed_mph'], bins=50, label='Calculated Average Speed', color='lightcoral', alpha=0.7)\n",
    "ax[0].set_title('Distribution of Min Speeds', fontsize=16)\n",
    "ax[0].set_xlabel('Speed (mph)', fontsize=14)\n",
    "ax[0].set_ylabel('Frequency', fontsize=14)\n",
    "ax[0].legend()\n",
    "\n",
    "ax[1].hist(trips_df['avg_speed_mph_gps'], bins=50, label='GPS Average Speed', color='skyblue', alpha=0.7)\n",
    "ax[1].hist(trips_df['avg_speed_mph'], bins=50, label='Calculated Average Speed', color='lightcoral', alpha=0.7)\n",
    "ax[1].set_title('Distribution of Average Speeds', fontsize=16)\n",
    "ax[1].set_xlabel('Speed (mph)', fontsize=14)\n",
    "ax[1].set_ylabel('Frequency', fontsize=14)\n",
    "ax[1].legend()\n",
    "\n",
    "ax[2].hist(trips_df['max_speed_mph_gps'], bins=50, label='GPS Average Speed', color='skyblue', alpha=0.7)\n",
    "ax[2].hist(trips_df['max_speed_mph'], bins=50, label='Calculated Average Speed', color='lightcoral', alpha=0.7)\n",
    "ax[2].set_title('Distribution of Max Speeds', fontsize=16)\n",
    "ax[2].set_xlabel('Speed (mph)', fontsize=14)\n",
    "ax[2].set_ylabel('Frequency', fontsize=14)\n",
    "ax[2].legend()\n",
    "\n",
    "# Displaying the plot\n",
    "plt.show()\n"
   ]
  },
  {
   "cell_type": "code",
   "execution_count": null,
   "metadata": {},
   "outputs": [],
   "source": [
    "#load raw version for kalman filtering\n",
    "with (export_fp/'raw_coords.pkl').open('rb') as fh:\n",
    "    raw_coords_dict, _ = pickle.load(fh)\n",
    "del _"
   ]
  },
  {
   "cell_type": "code",
   "execution_count": null,
   "metadata": {},
   "outputs": [],
   "source": [
    "#tripid = 10803\n",
    "tripid = trips_df['tripid'].sample(1).item()\n",
    "kalman_trip = raw_coords_dict[tripid]\n",
    "cleaned_trip = coords_dict[tripid].iloc[1:,:]"
   ]
  },
  {
   "cell_type": "code",
   "execution_count": null,
   "metadata": {},
   "outputs": [],
   "source": [
    "kalman_trip.loc[kalman_trip['speed_mph']<0,'speed_mph'] = np.nan\n",
    "cleaned_trip.loc[cleaned_trip['speed_mph']<0,'speed_mph'] = np.nan\n",
    "#make a time elapsed in seconds column\n",
    "cleaned_trip['time_elapsed'] = cleaned_trip['datetime'].apply(lambda x: int((x - cleaned_trip['datetime'].min()).total_seconds()))"
   ]
  },
  {
   "cell_type": "code",
   "execution_count": null,
   "metadata": {},
   "outputs": [],
   "source": [
    "kalman_trip[['hAccuracy_ft','geometry']].explore()"
   ]
  },
  {
   "cell_type": "code",
   "execution_count": null,
   "metadata": {},
   "outputs": [],
   "source": [
    "#plot cleaned vs raw data\n",
    "fig, ax = plt.subplots(figsize=(20,15))\n",
    "kalman_trip.plot(ax=ax,color='red',label='Raw Points')\n",
    "cleaned_trip.plot(ax=ax,color='black',label='Filtered Points')\n",
    "#ax.plot(kalman_trip.geometry,label='Smoothed Displacement',alpha=0.5)\n",
    "#ax.plot(cleaned_trip.geometry,label='Calculated Speed',alpha=0.5)\n",
    "ax.set_xlabel('X')\n",
    "ax.set_ylabel('Y')\n",
    "ax.legend()\n",
    "ax.set_title(f'Raw vs Filtered for Trip {tripid}')\n",
    "cx.add_basemap(ax,crs=kalman_trip.crs,source=cx.providers.CartoDB.Positron)\n",
    "plt.show()"
   ]
  },
  {
   "cell_type": "markdown",
   "metadata": {},
   "source": [
    "Try kalman filter"
   ]
  },
  {
   "cell_type": "code",
   "execution_count": null,
   "metadata": {},
   "outputs": [],
   "source": [
    "from pykalman import KalmanFilter\n",
    "import numpy.ma as ma\n",
    "\n",
    "#convert mph to fps\n",
    "kalman_trip['speed_fps'] = kalman_trip['speed_mph'] * 1.46667\n",
    "\n",
    "#make a time elapsed in seconds column (and round to nearest second)\n",
    "kalman_trip['time_elapsed'] = kalman_trip['datetime'].apply(lambda x: int((x - kalman_trip['datetime'].min()).total_seconds()))\n",
    "\n",
    "#create nan entries to fill in missing data\n",
    "fill = pd.DataFrame(data={'time_elapsed':range(0,kalman_trip['time_elapsed'].max()+1)})\n",
    "fill = pd.merge(fill,kalman_trip,on='time_elapsed',how='left')\n",
    "\n",
    "#convert our observations to numpy array\n",
    "observations = fill['speed_fps'].to_numpy()\n",
    "\n",
    "#use np.ma to mask missing data\n",
    "observations = ma.masked_array(observations , mask=np.isnan(observations))\n",
    "\n",
    "# the initial state of the cyclist (traveling at constant speed starting a displacement zero)\n",
    "initial_state_mean = [0,0,0]\n",
    "\n",
    "#these are the kinematics of how we're moving\n",
    "transition_matrix = [[1,1,1/2], # velocity\n",
    "                     [0,1,1], # acceleration\n",
    "                     [0,0,1]] # jerk\n",
    "\n",
    "observation_matrix = [1,0,0] # we only measure velocity\n",
    "\n",
    "observation_covariance = np.eye(1) * (2 * 1.46667)\n",
    "\n",
    "#using just this estimate a kalman filter\n",
    "kf1 = KalmanFilter(transition_matrices = transition_matrix,\n",
    "                  observation_matrices = observation_matrix,\n",
    "                  initial_state_mean = initial_state_mean,\n",
    "                  observation_covariance = observation_covariance,\n",
    "                  em_vars=['transition_covariance']\n",
    "                  )\n",
    "\n",
    "kf1 = kf1.em(observations, n_iter=20)\n",
    "(smoothed_state_means, smoothed_state_covariances) = kf1.smooth(observations)\n",
    "\n",
    "#convert back to dataframe\n",
    "smoothed = pd.DataFrame(smoothed_state_means,columns=['v','a','j'])\n",
    "smoothed['v_mph'] = smoothed['v'] / 1.46667\n",
    "smoothed.reset_index(inplace=True)\n",
    "smoothed.rename(columns={'index':'time'},inplace=True)"
   ]
  },
  {
   "cell_type": "code",
   "execution_count": null,
   "metadata": {},
   "outputs": [],
   "source": [
    "# from pykalman import KalmanFilter\n",
    "# import numpy.ma as ma\n",
    "\n",
    "# #convert mph to fps\n",
    "# kalman_trip['speed_fps'] = kalman_trip['speed_mph'] * 1.46667\n",
    "\n",
    "# #make a time elapsed in seconds column (and round to nearest second)\n",
    "# kalman_trip['time_elapsed'] = kalman_trip['datetime'].apply(lambda x: int((x - kalman_trip['datetime'].min()).total_seconds()))\n",
    "\n",
    "# #create nan entries to fill in missing data\n",
    "# fill = pd.DataFrame(data={'time_elapsed':range(0,kalman_trip['time_elapsed'].max()+1)})\n",
    "# fill = pd.merge(fill,kalman_trip,on='time_elapsed',how='left')\n",
    "\n",
    "# #convert our observations to numpy array\n",
    "# observations = fill['speed_fps'].to_numpy()\n",
    "\n",
    "# #use np.ma to mask missing data\n",
    "# observations = ma.masked_array(observations , mask=np.isnan(observations))\n",
    "\n",
    "# # the initial state of the cyclist (traveling at constant speed starting a displacement zero)\n",
    "# initial_state_mean = [0,observations[0],0,0]\n",
    "\n",
    "# #these are the kinematics of how we're moving\n",
    "# transition_matrix = [[1,1,1/2,1/6], # position/diplacement\n",
    "#                      [0,1,1,1/2], # velocity\n",
    "#                      [0,0,1,1], # acceleration\n",
    "#                      [0,0,0,1]] # jerk\n",
    "\n",
    "# observation_matrix = [0,1,0,0] # we only measure velocity\n",
    "\n",
    "# observation_covariance = np.eye(1) * (2 * 1.46667)\n",
    "\n",
    "# #using just this estimate a kalman filter\n",
    "# kf1 = KalmanFilter(transition_matrices = transition_matrix,\n",
    "#                   observation_matrices = observation_matrix,\n",
    "#                   initial_state_mean = initial_state_mean,\n",
    "#                   observation_covariance = observation_covariance,\n",
    "#                   em_vars=['transition_covariance']\n",
    "#                   )\n",
    "\n",
    "# kf1 = kf1.em(observations, n_iter=20)\n",
    "# (smoothed_state_means, smoothed_state_covariances) = kf1.smooth(observations)\n",
    "\n",
    "# #convert back to dataframe\n",
    "# smoothed = pd.DataFrame(smoothed_state_means,columns=['x','v','a','j'])\n",
    "# smoothed['v_mph'] = smoothed['v'] / 1.46667\n",
    "# smoothed.reset_index(inplace=True)\n",
    "# smoothed.rename(columns={'index':'time'},inplace=True)"
   ]
  },
  {
   "cell_type": "code",
   "execution_count": null,
   "metadata": {},
   "outputs": [],
   "source": [
    "fig, axs = plt.subplots(3, 1, figsize=(20, 15))\n",
    "\n",
    "# # First subplot\n",
    "# axs[0].plot(smoothed['time'], smoothed['x'] / 5280, label='Smoothed Displacement', alpha=0.5)\n",
    "# axs[0].set_xlabel('Time (s)')\n",
    "# axs[0].set_ylabel('Displacement (mi)')\n",
    "# axs[0].set_title(f'Displacement vs. Time for Trip {tripid}')\n",
    "\n",
    "# Second subplot\n",
    "axs[0].plot(kalman_trip['time_elapsed'], kalman_trip['speed_mph'], label='Measured Speed', alpha=0.5)\n",
    "axs[0].plot(smoothed['time'], smoothed['v_mph'], label='Smoothed Speed', alpha=0.5)\n",
    "axs[0].plot(cleaned_trip['time_elapsed'], cleaned_trip['speed_mph'], label='Calculated Speed', alpha=0.5)\n",
    "axs[0].set_xlabel('Time (s)')\n",
    "axs[0].set_ylabel('Speed (mph)')\n",
    "axs[0].legend()\n",
    "axs[0].set_title(f'Speed vs. Time for Trip {tripid}')\n",
    "\n",
    "# Third subplot\n",
    "axs[1].plot(smoothed['time'], smoothed['a'], alpha=0.5)\n",
    "axs[1].set_xlabel('Time (s)')\n",
    "axs[1].set_ylabel('Acceleration (ft/s**2)')\n",
    "axs[1].set_title(f'Acceleration vs. Time using Kalman Smoothing for Trip {tripid}')\n",
    "\n",
    "# Fourth\n",
    "axs[2].plot(smoothed['time'], smoothed['j'], alpha=0.5)\n",
    "axs[2].set_xlabel('Time (s)')\n",
    "axs[2].set_ylabel('Jerk (ft/s**3)')\n",
    "axs[2].set_title(f'Jerk vs. Time using Kalman Smoothing for Trip {tripid}')\n",
    "\n",
    "plt.tight_layout()\n",
    "plt.show()"
   ]
  },
  {
   "cell_type": "code",
   "execution_count": null,
   "metadata": {},
   "outputs": [],
   "source": [
    "from pykalman import KalmanFilter\n",
    "import numpy.ma as ma\n",
    "\n",
    "#convert mph to fps\n",
    "kalman_trip['velocity'] = kalman_trip['speed_mph'] * 1.46667\n",
    "\n",
    "#make a time elapsed in seconds column (and round to nearest second)\n",
    "kalman_trip['time_elapsed'] = kalman_trip['datetime'].apply(lambda x: int((x - kalman_trip['datetime'].min()).total_seconds()))\n",
    "    \n",
    "#create nan entries to fill in missing data\n",
    "fill = pd.DataFrame(data={'time_elapsed':range(0,kalman_trip['time_elapsed'].max()+1)})\n",
    "fill = pd.merge(fill,kalman_trip,on='time_elapsed',how='left')\n",
    "\n",
    "#convert our observations to numpy array\n",
    "observations = fill['velocity'].to_numpy()\n",
    "\n",
    "#use np.ma to mask missing data\n",
    "observations = ma.masked_array(observations , mask=np.isnan(observations))\n",
    "\n",
    "# the initial state of the cyclist (traveling at constant speed starting a displacement zero)\n",
    "initial_state_mean = [0,0,0]\n",
    "\n",
    "#these are the kinematics of how we're moving\n",
    "transition_matrix = [[1,1,1/2], # position/diplacement\n",
    "                     [0,1,1], # velocity\n",
    "                     [0,0,1]] # acceleration\n",
    "\n",
    "observation_matrix = [0,1,0] # we only measure velocity\n",
    "\n",
    "observation_covariance = np.eye(1) * (2 * 1.46667)\n",
    "\n",
    "#using just this estimate a kalman filter\n",
    "kf1 = KalmanFilter(transition_matrices = transition_matrix,\n",
    "                  observation_matrices = observation_matrix,\n",
    "                  initial_state_mean = initial_state_mean,\n",
    "                  observation_covariance = observation_covariance,\n",
    "                  em_vars=['transition_covariance']\n",
    "                  )\n",
    "\n",
    "kf1 = kf1.em(observations, n_iter=5)\n",
    "(smoothed_state_means, smoothed_state_covariances) = kf1.smooth(observations)\n",
    "\n",
    "#convert back to dataframe\n",
    "smoothed = pd.DataFrame(smoothed_state_means,columns=['x','v','a'])\n",
    "smoothed['v_mph'] = smoothed['v'] / 1.46667\n",
    "smoothed.reset_index(inplace=True)\n",
    "smoothed.rename(columns={'index':'time'},inplace=True)\n",
    "smoothed.head()"
   ]
  },
  {
   "cell_type": "code",
   "execution_count": null,
   "metadata": {},
   "outputs": [],
   "source": [
    "fig, axs = plt.subplots(3, 1, figsize=(20, 15))\n",
    "\n",
    "# First subplot\n",
    "axs[0].plot(smoothed['time'], smoothed['x'] / 5280, label='Smoothed Displacement', alpha=0.5)\n",
    "axs[0].set_xlabel('Time (s)')\n",
    "axs[0].set_ylabel('Displacement (mi)')\n",
    "axs[0].set_title(f'Displacement vs. Time for Trip {tripid}')\n",
    "\n",
    "# Second subplot\n",
    "axs[1].plot(kalman_trip['time_elapsed'], kalman_trip['speed_mph'], label='Measured Speed', alpha=0.5)\n",
    "axs[1].plot(smoothed['time'], smoothed['v_mph'], label='Smoothed Speed', alpha=0.5)\n",
    "axs[1].plot(cleaned_trip['time_elapsed'], cleaned_trip['speed_mph'], label='Calculated Speed', alpha=0.5)\n",
    "axs[1].set_xlabel('Time (s)')\n",
    "axs[1].set_ylabel('Speed (mph)')\n",
    "axs[1].legend()\n",
    "axs[1].set_title(f'Speed vs. Time for Trip {tripid}')\n",
    "\n",
    "# Third subplot\n",
    "axs[2].plot(smoothed['time'], smoothed['a'], alpha=0.5)\n",
    "axs[2].set_xlabel('Time (s)')\n",
    "axs[2].set_ylabel('Acceleration (ft/s**2)')\n",
    "axs[2].set_title(f'Acceleration vs. Time using Kalman Smoothing for Trip {tripid}')\n",
    "\n",
    "plt.tight_layout()\n",
    "plt.show()"
   ]
  },
  {
   "cell_type": "markdown",
   "metadata": {},
   "source": [
    "# Just position and velocity"
   ]
  },
  {
   "cell_type": "code",
   "execution_count": null,
   "metadata": {},
   "outputs": [],
   "source": [
    "from pykalman import KalmanFilter\n",
    "import numpy.ma as ma\n",
    "\n",
    "#convert mph to fps\n",
    "kalman_trip['velocity'] = kalman_trip['speed_mph'] * 1.46667\n",
    "\n",
    "#make a time elapsed in seconds column (and round to nearest second)\n",
    "kalman_trip['time_elapsed'] = kalman_trip['datetime'].apply(lambda x: int((x - kalman_trip['datetime'].min()).total_seconds()))\n",
    "    \n",
    "#create nan entries to fill in missing data\n",
    "fill = pd.DataFrame(data={'time_elapsed':range(0,kalman_trip['time_elapsed'].max()+1)})\n",
    "fill = pd.merge(fill,kalman_trip,on='time_elapsed',how='left')\n",
    "\n",
    "#convert our observations to numpy array\n",
    "observations = fill['velocity'].to_numpy()\n",
    "\n",
    "#use np.ma to mask missing data\n",
    "observations = ma.masked_array(observations , mask=np.isnan(observations))\n",
    "\n",
    "# the initial state of the cyclist (traveling at constant speed starting a displacement zero)\n",
    "initial_state_mean = [0,0]\n",
    "\n",
    "#these are the kinematics of how we're moving\n",
    "transition_matrix = [[1,1], # position/diplacement\n",
    "                     [0,1]] # velocity# acceleration\n",
    "\n",
    "observation_matrix = [0,1] # we only measure velocity\n",
    "\n",
    "observation_covariance = np.eye(1) * (2 * 1.46667)\n",
    "\n",
    "#using just this estimate a kalman filter\n",
    "kf1 = KalmanFilter(transition_matrices = transition_matrix,\n",
    "                  observation_matrices = observation_matrix,\n",
    "                  initial_state_mean = initial_state_mean,\n",
    "                  observation_covariance = observation_covariance,\n",
    "                  em_vars=['transition_covariance']\n",
    "                  )\n",
    "\n",
    "kf1 = kf1.em(observations, n_iter=5)\n",
    "(smoothed_state_means, smoothed_state_covariances) = kf1.smooth(observations)\n",
    "\n",
    "#convert back to dataframe\n",
    "smoothed = pd.DataFrame(smoothed_state_means,columns=['x','v'])\n",
    "smoothed['v_mph'] = smoothed['v'] / 1.46667\n",
    "smoothed.reset_index(inplace=True)\n",
    "smoothed.rename(columns={'index':'time'},inplace=True)\n",
    "smoothed.head()"
   ]
  },
  {
   "cell_type": "code",
   "execution_count": null,
   "metadata": {},
   "outputs": [],
   "source": [
    "fig, axs = plt.subplots(2, 1, figsize=(20, 15))\n",
    "\n",
    "# First subplot\n",
    "axs[0].plot(smoothed['time'], smoothed['x'] / 5280, label='Smoothed Displacement', alpha=0.5)\n",
    "axs[0].set_xlabel('Time (s)')\n",
    "axs[0].set_ylabel('Displacement (mi)')\n",
    "axs[0].set_title(f'Displacement vs. Time for Trip {tripid}')\n",
    "\n",
    "# Second subplot\n",
    "axs[1].plot(kalman_trip['time_elapsed'], kalman_trip['speed_mph'], label='Measured Speed', alpha=0.5)\n",
    "axs[1].plot(smoothed['time'], smoothed['v_mph'], label='Smoothed Speed', alpha=0.5)\n",
    "axs[1].plot(cleaned_trip['time_elapsed'], cleaned_trip['speed_mph'], label='Calculated Speed', alpha=0.5)\n",
    "axs[1].set_xlabel('Time (s)')\n",
    "axs[1].set_ylabel('Speed (mph)')\n",
    "axs[1].legend()\n",
    "axs[1].set_title(f'Speed vs. Time for Trip {tripid}')\n",
    "\n",
    "plt.tight_layout()\n",
    "plt.show()"
   ]
  },
  {
   "cell_type": "markdown",
   "metadata": {},
   "source": [
    "# Applying Kalman Filter for All Trips"
   ]
  },
  {
   "cell_type": "code",
   "execution_count": null,
   "metadata": {},
   "outputs": [],
   "source": [
    "def kalman(trip):\n",
    "\n",
    "    #convert mph to fps\n",
    "    kalman_trip['velocity'] = kalman_trip['speed_mph'] * 1.46667\n",
    "\n",
    "    #make a time elapsed in seconds column\n",
    "    kalman_trip['time_elapsed'] = kalman_trip['datetime'].apply(lambda x: int((x - kalman_trip['datetime'].min()).total_seconds()))\n",
    "        \n",
    "    #create nan entries to fill in missing data\n",
    "    fill = pd.DataFrame(data={'time_elapsed':range(0,kalman_trip['time_elapsed'].max()+1)})\n",
    "    fill = pd.merge(fill,kalman_trip,on='time_elapsed',how='left')\n",
    "\n",
    "    #convert our observations to numpy array\n",
    "    observations = fill['velocity'].to_numpy()\n",
    "\n",
    "    #use np.ma to mask missing data\n",
    "    observations = ma.masked_array(observations , mask=np.isnan(observations))\n",
    "\n",
    "    # the initial state of the cyclist (traveling at constant speed)\n",
    "    initial_state_mean = [0,observations[0],0,0]\n",
    "\n",
    "    #these are the kinematics of how we're moving\n",
    "    transition_matrix = [[1,1,1/2,1/6], # position/diplacement\n",
    "                        [0,1,1,1/2], # velocity\n",
    "                        [0,0,1,1], # acceleration\n",
    "                        [0,0,0,1]] # jerk\n",
    "\n",
    "    observation_matrix = [0,1,0,0]\n",
    "\n",
    "    observation_covariance = np.eye(1) * np.eye(1) * (10 * 1.46667)**2\n",
    "\n",
    "    #using just this estimate a kalman filter\n",
    "    kf1 = KalmanFilter(transition_matrices = transition_matrix,\n",
    "                    observation_matrices = observation_matrix,\n",
    "                    initial_state_mean = initial_state_mean,\n",
    "                    observation_covariance = observation_covariance,\n",
    "                    em_vars=['transition_covariance']\n",
    "                    )\n",
    "\n",
    "    kf1 = kf1.em(observations, n_iter=5)\n",
    "    (smoothed_state_means, smoothed_state_covariances) = kf1.smooth(observations)\n",
    "\n",
    "    #convert back to dataframe\n",
    "    smoothed = pd.DataFrame(smoothed_state_means,columns=['x','v','a','j'])\n",
    "    smoothed['v_mph'] = smoothed['v'] / 1.46667\n",
    "    smoothed.reset_index(inplace=True)\n",
    "    smoothed.rename(columns={'index':'time'},inplace=True)\n",
    "\n",
    "    return smoothed"
   ]
  },
  {
   "cell_type": "code",
   "execution_count": null,
   "metadata": {},
   "outputs": [],
   "source": [
    "for tripid, coords in tqdm(raw_coords_dict.items()):\n",
    "    smoothed = kalman(coords)\n",
    "\n",
    "    #get min, avg, max speeds/accelerations/jerks\n",
    "    trips_df.loc[trips_df['tripid']==tripid,'speed_min'] = smoothed['v_mph'].min()\n",
    "    trips_df.loc[trips_df['tripid']==tripid,'speed_mean'] = smoothed['v_mph'].mean()\n",
    "    trips_df.loc[trips_df['tripid']==tripid,'speed_max'] = smoothed['v_mph'].max()\n",
    "\n",
    "    trips_df.loc[trips_df['tripid']==tripid,'acceleration_min'] = smoothed['a'].min()\n",
    "    trips_df.loc[trips_df['tripid']==tripid,'acceleration_mean'] = smoothed['a'].mean()\n",
    "    trips_df.loc[trips_df['tripid']==tripid,'acceleration_max'] = smoothed['a'].max()\n",
    "\n",
    "    trips_df.loc[trips_df['tripid']==tripid,'jerk_min'] = smoothed['j'].min()\n",
    "    trips_df.loc[trips_df['tripid']==tripid,'jerk_mean'] = smoothed['j'].mean()\n",
    "    trips_df.loc[trips_df['tripid']==tripid,'jerk_max'] = smoothed['j'].max()"
   ]
  },
  {
   "cell_type": "markdown",
   "metadata": {},
   "source": [
    "Plot distribution of average speed"
   ]
  },
  {
   "cell_type": "code",
   "execution_count": null,
   "metadata": {},
   "outputs": [],
   "source": []
  },
  {
   "cell_type": "markdown",
   "metadata": {},
   "source": [
    "Trip data"
   ]
  },
  {
   "cell_type": "code",
   "execution_count": null,
   "metadata": {},
   "outputs": [],
   "source": [
    "trip = pd.read_csv(export_fp/\"trip.csv\", header = None)\n",
    "col_names = ['tripid','userid','trip_type','description','starttime','endtime','num_points']\n",
    "trip.columns = col_names\n",
    "trip.drop(columns=['starttime','endtime','num_points'],inplace=True)"
   ]
  },
  {
   "cell_type": "markdown",
   "metadata": {},
   "source": [
    "User data"
   ]
  },
  {
   "cell_type": "code",
   "execution_count": null,
   "metadata": {},
   "outputs": [],
   "source": [
    "user = pd.read_csv(export_fp/\"user.csv\", header=None)\n",
    "user_col = ['userid','created_date','device','email','age',\n",
    "            'gender','income','ethnicity','homeZIP','schoolZip',\n",
    "            'workZip','cycling_freq','rider_history','rider_type','app_version']\n",
    "user.columns = user_col\n",
    "user.drop(columns=['device','app_version','app_version','email'],inplace=True)"
   ]
  },
  {
   "cell_type": "markdown",
   "metadata": {},
   "source": [
    "Add trip and user data to trips_df"
   ]
  },
  {
   "cell_type": "code",
   "execution_count": null,
   "metadata": {},
   "outputs": [],
   "source": [
    "trips_df = pd.merge(trips_df,trip,on='tripid').merge(user,on='userid').copy()"
   ]
  },
  {
   "cell_type": "code",
   "execution_count": null,
   "metadata": {},
   "outputs": [],
   "source": []
  },
  {
   "cell_type": "code",
   "execution_count": null,
   "metadata": {},
   "outputs": [],
   "source": [
    "fp = Path.home() / \"Documents/GitHub/Impedance-Calibration\"\n",
    "user_data_definitions = json.load(open(fp/'user_data_definition.json'))\n",
    "for col in trips_df.columns:\n",
    "    if col in user_data_definitions.keys():\n",
    "        trips_df[col] = trips_df[col].astype(str)\n",
    "        trips_df[col] = trips_df[col].map(user_data_definitions[col])"
   ]
  },
  {
   "cell_type": "code",
   "execution_count": null,
   "metadata": {},
   "outputs": [],
   "source": [
    "user_data_definitions['cycling_freq']"
   ]
  },
  {
   "cell_type": "markdown",
   "metadata": {},
   "source": [
    "Find Euclidean distance between origin and destination"
   ]
  },
  {
   "cell_type": "code",
   "execution_count": null,
   "metadata": {},
   "outputs": [],
   "source": [
    "for tripid, coords in coords_dict.items():\n",
    "    #get starting location\n",
    "    start_lon = coords.loc[coords['datetime'].idxmin(),'lon'].item()\n",
    "    start_lat = coords.loc[coords['datetime'].idxmin(),'lat'].item()\n",
    "\n",
    "    #get ending location\n",
    "    end_lon = coords.loc[coords['datetime'].idxmax(),'lon'].item()\n",
    "    end_lat = coords.loc[coords['datetime'].idxmax(),'lat'].item()\n",
    "\n",
    "    #assign to trips_df\n",
    "    trips_df.at[trips_df['tripid']==tripid,'start_lon'] = start_lon\n",
    "    trips_df.at[trips_df['tripid']==tripid,'start_lat'] = start_lat\n",
    "    trips_df.at[trips_df['tripid']==tripid,'end_lon'] = end_lon\n",
    "    trips_df.at[trips_df['tripid']==tripid,'end_lat'] = end_lat\n",
    "\n",
    "# find euclidean distance between start and end coord (for finding loop trips)\n",
    "start_geo = gpd.points_from_xy(trips_df['start_lon'],trips_df['start_lat'],crs='epsg:4326').to_crs('epsg:2240')\n",
    "end_geo = gpd.points_from_xy(trips_df['end_lon'],trips_df['end_lat'],crs='epsg:4326').to_crs('epsg:2240')\n",
    "trips_df['euclidean_distance'] = start_geo.distance(end_geo)"
   ]
  },
  {
   "cell_type": "markdown",
   "metadata": {},
   "source": [
    "Find origin and destination zip code"
   ]
  },
  {
   "cell_type": "code",
   "execution_count": null,
   "metadata": {},
   "outputs": [],
   "source": []
  },
  {
   "cell_type": "markdown",
   "metadata": {},
   "source": [
    "Remove loops and exercies trips"
   ]
  },
  {
   "cell_type": "code",
   "execution_count": null,
   "metadata": {},
   "outputs": [],
   "source": [
    "tolerance_ft = 1000\n",
    "self_loops = trips_df['euclidean_distance'] < tolerance_ft\n",
    "exercise = trips_df['trip_type'] == 'Exercise'\n",
    "trips_df = trips_df[~exercise & ~self_loops]\n",
    "print(self_loops.sum(),'trips were self loops')\n",
    "print(exercise.sum(),'trips were for exercise')"
   ]
  },
  {
   "cell_type": "markdown",
   "metadata": {},
   "source": [
    "What variables do we have for clustering?"
   ]
  },
  {
   "cell_type": "code",
   "execution_count": null,
   "metadata": {},
   "outputs": [],
   "source": [
    "trips_df.columns"
   ]
  },
  {
   "cell_type": "code",
   "execution_count": null,
   "metadata": {},
   "outputs": [],
   "source": [
    "trips_df[trips_df['rider_type'].isna()]"
   ]
  },
  {
   "cell_type": "code",
   "execution_count": null,
   "metadata": {},
   "outputs": [],
   "source": [
    "relveant_columns = ['tripid','userid','duration','total_distance_ft','avg_speed_mph','trip_type',\n",
    "                    'age', 'gender', 'income', 'ethnicity','homeZIP', 'schoolZip', 'workZip',\n",
    "                    'cycling_freq', 'rider_history','rider_type'\n",
    "                    ]\n",
    "trips_df = trips_df[relveant_columns].copy()"
   ]
  },
  {
   "cell_type": "markdown",
   "metadata": {},
   "source": [
    "Replace no data with np.nan"
   ]
  },
  {
   "cell_type": "code",
   "execution_count": null,
   "metadata": {},
   "outputs": [],
   "source": [
    "trips_df.replace('no data',np.NaN,inplace=True)"
   ]
  },
  {
   "cell_type": "code",
   "execution_count": null,
   "metadata": {},
   "outputs": [],
   "source": [
    "trips_df.isna().sum().sort_values(ascending=False)"
   ]
  },
  {
   "cell_type": "markdown",
   "metadata": {},
   "source": [
    "-  Continuous\n",
    "    - Travel time (minutes)\n",
    "    - Total distance traveled (feet)\n",
    "    - Average speed (miles per hour)\n",
    "    - Shortest distance (feet)\n"
   ]
  },
  {
   "cell_type": "markdown",
   "metadata": {},
   "source": [
    "\n",
    "\n",
    "- Categorical\n",
    "    - Interval\n",
    "        - Age\n",
    "        - Income\n",
    "    - Ordinal\n",
    "        - Cycling frequency\n",
    "        - Rider history\n",
    "        - Rider type\n",
    "    - Nominal\n",
    "        - Gender (M/F)\n",
    "        - Ethnicity\n",
    "        - Trip type (could simplify to utlitarian/leisure)"
   ]
  },
  {
   "cell_type": "code",
   "execution_count": null,
   "metadata": {},
   "outputs": [],
   "source": [
    "post = pd.read_csv(fp/'trips_df_postmatch.csv')\n",
    "post = post[['tripid','shortest_length','overlap_length','detour_rate']].copy()\n",
    "trips_df = trips_df.merge(post,on='tripid').copy()"
   ]
  },
  {
   "cell_type": "code",
   "execution_count": null,
   "metadata": {},
   "outputs": [],
   "source": [
    "trips_df.groupby('userid')"
   ]
  },
  {
   "cell_type": "code",
   "execution_count": null,
   "metadata": {},
   "outputs": [],
   "source": []
  }
 ],
 "metadata": {
  "kernelspec": {
   "display_name": "Python 3",
   "language": "python",
   "name": "python3"
  },
  "language_info": {
   "codemirror_mode": {
    "name": "ipython",
    "version": 3
   },
   "file_extension": ".py",
   "mimetype": "text/x-python",
   "name": "python",
   "nbconvert_exporter": "python",
   "pygments_lexer": "ipython3",
   "version": "3.9.13"
  }
 },
 "nbformat": 4,
 "nbformat_minor": 2
}

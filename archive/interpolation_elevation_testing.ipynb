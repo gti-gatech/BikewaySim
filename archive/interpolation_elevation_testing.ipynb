{
 "cells": [
  {
   "cell_type": "code",
   "execution_count": null,
   "metadata": {},
   "outputs": [],
   "source": [
    "from shapely.ops import nearest_points, LineString, Point\n",
    "from pathlib import Path\n",
    "import geopandas as gpd\n",
    "import rasterio\n",
    "\n",
    "import matplotlib.pyplot as plt\n",
    "import numpy as np\n"
   ]
  },
  {
   "cell_type": "code",
   "execution_count": null,
   "metadata": {},
   "outputs": [],
   "source": [
    "import json\n",
    "config = json.load((Path.cwd().parent / 'config.json').open('rb'))\n",
    "network_fp = Path(config['project_directory']) / 'OSM_Download'\n",
    "export_fp = Path(config['project_directory']) / 'Network'\n",
    "if network_fp.exists() == False:\n",
    "    network_fp.mkdir()\n",
    "config"
   ]
  },
  {
   "cell_type": "code",
   "execution_count": null,
   "metadata": {},
   "outputs": [],
   "source": [
    "#for storing the interpolated points with sampled elevation data\n",
    "import pickle\n",
    "with (export_fp/'spline_fit_elevation.pkl').open('rb') as fh:\n",
    "    interpolated_points_dict = pickle.load(fh)"
   ]
  },
  {
   "cell_type": "code",
   "execution_count": null,
   "metadata": {},
   "outputs": [],
   "source": [
    "raw_links = gpd.read_file(network_fp / f\"osm_{config['geofabrik_year']}.gpkg\",layer=\"raw\")\n",
    "#set the osmid as the index\n",
    "raw_links.set_index('id',inplace=True)\n",
    "raw_links = raw_links[['geometry']]"
   ]
  },
  {
   "cell_type": "code",
   "execution_count": null,
   "metadata": {},
   "outputs": [],
   "source": [
    "def alt_linemerge(multilinestring):\n",
    "    \"\"\"\n",
    "    This is a similar to linemerge but assumes that all lines in a multilinestring are already in order\n",
    "    \"\"\"\n",
    "    line_coords = [np.array(line.coords) for line in multilinestring.geoms]\n",
    "    return LineString(np.vstack(line_coords))"
   ]
  },
  {
   "cell_type": "code",
   "execution_count": null,
   "metadata": {},
   "outputs": [],
   "source": [
    "raw_links.geometry = raw_links.geometry.apply(alt_linemerge)"
   ]
  },
  {
   "cell_type": "code",
   "execution_count": null,
   "metadata": {},
   "outputs": [],
   "source": [
    "links = gpd.read_file(export_fp/'networks.gpkg',layer='osm_links')\n",
    "nodes = gpd.read_file(export_fp/'networks.gpkg',layer='osm_nodes')"
   ]
  },
  {
   "cell_type": "code",
   "execution_count": null,
   "metadata": {},
   "outputs": [],
   "source": [
    "prev_crs = links.crs\n",
    "\n",
    "tiff_links = list((Path(config['usgs']) / 'dem_files').glob('*.tif'))\n",
    "\n",
    "#open the first one to just get the crs\n",
    "src = rasterio.open(tiff_links[0])\n",
    "dem_crs = src.crs\n",
    "src.close()\n",
    "\n",
    "links.to_crs(dem_crs,inplace=True)\n",
    "nodes.to_crs(dem_crs,inplace=True)\n",
    "raw_links.to_crs(dem_crs,inplace=True)"
   ]
  },
  {
   "cell_type": "markdown",
   "metadata": {},
   "source": [
    "# Example"
   ]
  },
  {
   "cell_type": "code",
   "execution_count": null,
   "metadata": {},
   "outputs": [],
   "source": [
    "#select a link and try it\n",
    "linkid = 637636161\n",
    "link = links[links['osmid']==linkid].iloc[[0],:]\n",
    "\n",
    "#get osm line\n",
    "line = raw_links.loc[linkid,'geometry']#interpolated_points_dict[linkid]['geometry']\n",
    "line = np.array(line.coords)\n",
    "\n",
    "#get geo of start and end\n",
    "#or just use the included line to reduce memory?\n",
    "pointA = nodes[nodes['osm_N']==link['osm_A'].item()]\n",
    "pointB = nodes[nodes['osm_N']==link['osm_B'].item()]\n",
    "print(line)"
   ]
  },
  {
   "cell_type": "code",
   "execution_count": null,
   "metadata": {},
   "outputs": [],
   "source": [
    "# Define the coordinates of two additional points\n",
    "point1 = (pointA.geometry.item().x,pointA.geometry.item().y)\n",
    "point2 = (pointB.geometry.item().x,pointB.geometry.item().y)\n",
    "print(point1,point2)"
   ]
  },
  {
   "cell_type": "code",
   "execution_count": null,
   "metadata": {},
   "outputs": [],
   "source": [
    "# Plot the GeoDataFrame and the additional points\n",
    "fig, ax = plt.subplots()\n",
    "\n",
    "# plot the full link\n",
    "ax.plot(line[:,0],line[:,1], color='gray', label='full osm')\n",
    "\n",
    "link.plot(ax=ax, color='blue', label='osm segemnt')\n",
    "ax.plot(point1[0], point1[1], marker='o', color='red', markersize=10, label='Point 1')\n",
    "ax.plot(point2[0], point2[1], marker='o', color='green', markersize=10, label='Point 2')\n",
    "\n",
    "# Add labels to the additional points\n",
    "#ax.text(point1[0], point1[1], 'Point 1', fontsize=12, ha='right')\n",
    "#ax.text(point2[0], point2[1], 'Point 2', fontsize=12, ha='right')\n",
    "\n",
    "# Add legend and labels\n",
    "ax.legend()\n",
    "ax.set_xlabel('Longitude')\n",
    "ax.set_ylabel('Latitude')\n",
    "ax.set_title('GeoDataFrame with Additional Points')\n",
    "\n",
    "# Manually set limits to create a square aspect ratio\n",
    "min_x, max_x = ax.get_xlim()\n",
    "min_y, max_y = ax.get_ylim()\n",
    "width = max(max_x - min_x, max_y - min_y)\n",
    "center_x = (min_x + max_x) / 2\n",
    "center_y = (min_y + max_y) / 2\n",
    "ax.set_xlim(center_x - width / 2, center_x + width / 2)\n",
    "ax.set_ylim(center_y - width / 2, center_y + width / 2)\n",
    "\n",
    "plt.show()\n"
   ]
  },
  {
   "cell_type": "code",
   "execution_count": null,
   "metadata": {},
   "outputs": [],
   "source": [
    "# point1_geo = Point(point1)\n",
    "# point2_geo = Point(point2)\n",
    "# line_geo = LineString(line)"
   ]
  },
  {
   "cell_type": "markdown",
   "metadata": {},
   "source": [
    "Find the distance of the shapepoint on each line"
   ]
  },
  {
   "cell_type": "code",
   "execution_count": null,
   "metadata": {},
   "outputs": [],
   "source": [
    "from shapely import line_locate_point, equals_exact\n",
    "\n",
    "point1_dist = line_locate_point(LineString(line),Point(point1))\n",
    "point2_dist = line_locate_point(LineString(line),Point(point2))\n",
    "\n",
    "#scenario 1: last point intersects with early point on a line (line loops into itself)\n",
    "#so trim off the points before point 1\n",
    "if point1_dist >= point2_dist:\n",
    "    for first_i, point in enumerate(line):\n",
    "        if equals_exact(Point(point),Point(point1),tolerance=1):\n",
    "            break\n",
    "    new_line = line[first_i+1:]\n",
    "    point2_dist = line_locate_point(LineString(new_line),Point(point1))\n",
    "\n",
    "#scenario 2: first point intersect with last point on a line\n",
    "#so trim off the point at the end of the line\n",
    "if point1_dist >= point2_dist:\n",
    "    new_line = line[0:-1]\n",
    "    point1_dist = line_locate_point(LineString(new_line),Point(point1))\n",
    "    point2_dist = line_locate_point(LineString(line),Point(point1))\n",
    "    \n",
    "if point1_dist >= point2_dist:\n",
    "    print('error')\n",
    "else:\n",
    "    print(np.round(point1_dist),np.round(point2_dist))"
   ]
  },
  {
   "cell_type": "markdown",
   "metadata": {},
   "source": [
    "# Spline fit\n",
    "We need elevation data between the two points to interpolate an elevation profile for the smaller links"
   ]
  },
  {
   "cell_type": "code",
   "execution_count": null,
   "metadata": {},
   "outputs": [],
   "source": [
    "linkid"
   ]
  },
  {
   "cell_type": "code",
   "execution_count": null,
   "metadata": {},
   "outputs": [],
   "source": [
    "item = interpolated_points_dict[linkid]"
   ]
  },
  {
   "cell_type": "code",
   "execution_count": null,
   "metadata": {},
   "outputs": [],
   "source": [
    "import numpy as np\n",
    "from scipy.interpolate import splrep, splev, BSpline\n",
    "\n",
    "spline = interpolated_points_dict[linkid]['spline']\n",
    "\n",
    "new_xs = np.arange(int(point1_dist),int(point2_dist)+10,10)\n",
    "new_ys = splev(new_xs, spline)"
   ]
  },
  {
   "cell_type": "code",
   "execution_count": null,
   "metadata": {},
   "outputs": [],
   "source": [
    "new_ys"
   ]
  },
  {
   "cell_type": "code",
   "execution_count": null,
   "metadata": {},
   "outputs": [],
   "source": [
    "fig, ax = plt.subplots()\n",
    "ax.plot(item['distances'],item['elevations'],'-')\n",
    "ax.plot(new_xs,new_ys,'-.')"
   ]
  },
  {
   "cell_type": "code",
   "execution_count": null,
   "metadata": {},
   "outputs": [],
   "source": [
    "    for first_i, point in enumerate(line):\n",
    "        if equals_exact(Point(point),Point(point1),tolerance=1):\n",
    "            break\n",
    "    new_line = line[first_i+1:]\n",
    "    point2_dist = line_locate_point(LineString(new_line),Point(point1))\n",
    "    \n",
    "    \n",
    "    if first_i == (len(line) - 1):\n",
    "   \n",
    "        for first_i, point in enumerate(new_line):\n",
    "            if equals_exact(Point(point),Point(point1),tolerance=1):\n",
    "                break\n",
    "        #get dist of point on line and re-check to see if issue is fixed\n",
    "\n",
    "        if point1_dist >= point2_dist:\n",
    "            print('error')\n",
    "\n",
    "\n"
   ]
  },
  {
   "cell_type": "code",
   "execution_count": null,
   "metadata": {},
   "outputs": [],
   "source": [
    "len(new_line.coords)"
   ]
  },
  {
   "cell_type": "code",
   "execution_count": null,
   "metadata": {},
   "outputs": [],
   "source": [
    "#project point 1 (get distance along the line)\n",
    "proj1 = line_geo.project(point1_geo)\n",
    "\n",
    "\n",
    "\n",
    "#get index of point 1\n",
    "for i, point in :\n",
    "    if Point(point) == point1_geo:\n",
    "        break\n",
    "i"
   ]
  },
  {
   "cell_type": "code",
   "execution_count": null,
   "metadata": {},
   "outputs": [],
   "source": [
    "len(line)"
   ]
  },
  {
   "cell_type": "code",
   "execution_count": null,
   "metadata": {},
   "outputs": [],
   "source": [
    "\n",
    "\n"
   ]
  },
  {
   "cell_type": "code",
   "execution_count": null,
   "metadata": {},
   "outputs": [],
   "source": [
    "\n",
    "#project point 2 (get distance along the line)\n",
    "proj2 = line_geo.project(point2_geo)\n",
    "\n",
    "\n",
    "if proj1 > proj2:\n",
    "    #filter out points that are behind point1"
   ]
  },
  {
   "cell_type": "code",
   "execution_count": null,
   "metadata": {},
   "outputs": [],
   "source": [
    "# use matplot lib to visualize"
   ]
  },
  {
   "cell_type": "code",
   "execution_count": null,
   "metadata": {},
   "outputs": [],
   "source": []
  }
 ],
 "metadata": {
  "kernelspec": {
   "display_name": "Python 3",
   "language": "python",
   "name": "python3"
  },
  "language_info": {
   "codemirror_mode": {
    "name": "ipython",
    "version": 3
   },
   "file_extension": ".py",
   "mimetype": "text/x-python",
   "name": "python",
   "nbconvert_exporter": "python",
   "pygments_lexer": "ipython3",
   "version": "3.12.1"
  }
 },
 "nbformat": 4,
 "nbformat_minor": 2
}

{
 "cells": [
  {
   "cell_type": "markdown",
   "metadata": {},
   "source": [
    "# Feature Development\n",
    "See if raw GPS can be used instead of map matched traces"
   ]
  },
  {
   "cell_type": "markdown",
   "metadata": {},
   "source": [
    "# Impedance Calibration"
   ]
  },
  {
   "cell_type": "markdown",
   "metadata": {},
   "source": [
    "**Overview:**\n",
    "1. Network Preparation\n",
    "1. Import Train and Test Sets\n",
    "2. Specify Calibration Parameters\n",
    "    - Link Impedance Function\n",
    "    - Turn Impedance Function\n",
    "    - Objective/Loss Function\n",
    "        - First Preference Recovery\n",
    "        - Exact Overlap\n",
    "        - Buffer Overlap (in development)\n",
    "        - Frechet Distance/Area (in development)\n",
    "3. Run Calibration\n",
    "    - Particle Swarm Optimization (constrained & non-probabilistic)\n",
    "4. Export and Run Post Calibration\n"
   ]
  },
  {
   "cell_type": "code",
   "execution_count": null,
   "metadata": {},
   "outputs": [],
   "source": [
    "from pathlib import Path\n",
    "import time\n",
    "import pandas as pd\n",
    "import geopandas as gpd\n",
    "import numpy as np\n",
    "import pickle\n",
    "import networkx as nx\n",
    "from stochopy.optimize import minimize\n",
    "import stochastic_optimization\n",
    "from tqdm import tqdm\n",
    "import similaritymeasures\n",
    "import random\n",
    "import datetime\n",
    "\n",
    "from shapely.ops import LineString, MultiLineString\n",
    "\n",
    "import sys\n",
    "sys.path.insert(0,str(Path.cwd().parent))\n",
    "import file_structure_setup\n",
    "config = file_structure_setup.filepaths()\n",
    "\n",
    "from network.src import modeling_turns\n",
    "import speedfactor"
   ]
  },
  {
   "cell_type": "markdown",
   "metadata": {},
   "source": [
    "# Network Import"
   ]
  },
  {
   "cell_type": "code",
   "execution_count": null,
   "metadata": {},
   "outputs": [],
   "source": [
    "links, turns, length_dict, geo_dict, turn_G = stochastic_optimization.import_calibration_network(config)"
   ]
  },
  {
   "cell_type": "markdown",
   "metadata": {},
   "source": [
    "# Import Training Set"
   ]
  },
  {
   "cell_type": "code",
   "execution_count": null,
   "metadata": {},
   "outputs": [],
   "source": [
    "with (config['calibration_fp']/'ready_for_calibration.pkl').open('rb') as fh:\n",
    "    full_set = pickle.load(fh)\n",
    "# subsetting for testing purposes\n",
    "# full_set = {key:item for key, item in full_set.items() if key in list(full_set.keys())[0:20]}\n",
    "\n",
    "# with (config['cycleatl_fp']/'simplified_coords.pkl').open('rb') as fh:\n",
    "#     traces = pickle.load(fh)"
   ]
  },
  {
   "cell_type": "code",
   "execution_count": null,
   "metadata": {},
   "outputs": [],
   "source": [
    "#just try this on 10 right now"
   ]
  },
  {
   "cell_type": "markdown",
   "metadata": {},
   "source": [
    "# Specify Link Impedance Functions\n",
    "Must specifiy the column name, the type (link or turn), and the search range"
   ]
  },
  {
   "cell_type": "code",
   "execution_count": null,
   "metadata": {},
   "outputs": [],
   "source": [
    "betas_tup = (\n",
    "    {'col':'2lpd','type':'link','range':[0,2]},\n",
    "    {'col':'3+lpd','type':'link','range':[0,2]},\n",
    "    {'col':'(30,40] mph','type':'link','range':[0,2]},\n",
    "    {'col':'(40,inf) mph','type':'link','range':[0,2]},\n",
    "    {'col':'[4,6) grade','type':'link','range':[0,2]},\n",
    "    {'col':'[6,inf) grade','type':'link','range':[0,2]},\n",
    "    {'col':'bike lane','type':'link','range':[-1,0]},\n",
    "    {'col':'cycletrack','type':'link','range':[-1,0]},\n",
    "    {'col':'multi use path','type':'link','range':[-1,0]},\n",
    "    # {'col':'unsig_major_road_crossing','type':'turn','range':[0,2]}\n",
    ")"
   ]
  },
  {
   "cell_type": "markdown",
   "metadata": {},
   "source": [
    "# Calibration Settings"
   ]
  },
  {
   "cell_type": "code",
   "execution_count": null,
   "metadata": {},
   "outputs": [],
   "source": [
    "args = (\n",
    "    [], # empty list for storing past calibration results\n",
    "    betas_tup, # tuple containing the impedance spec\n",
    "    stochastic_optimization.match_results_to_ods(full_set), # list of OD network node pairs needed for shortest path routing\n",
    "    full_set, # dict containing the origin/dest node and map matched edges\n",
    "    stochastic_optimization.link_impedance_function, # link impedance function to use\n",
    "    \"travel_time_min\", # column with the base the base impedance in travel time or distance\n",
    "    stochastic_optimization.turn_impedance_function, # turn impedance function to use\n",
    "    links,turns,turn_G, # network parts\n",
    "    stochastic_optimization.buffer_overlap, # loss function to use\n",
    "    {'length_dict':length_dict,'geo_dict':geo_dict},#,'trace_dict':traces}, # keyword arguments for loss function\n",
    "    True, #whether to print the results of each iteration\n",
    "    True #whether to store calibration results\n",
    ")"
   ]
  },
  {
   "cell_type": "code",
   "execution_count": null,
   "metadata": {},
   "outputs": [],
   "source": [
    "stochastic_optimization_settings = {\n",
    "    'method':'pso',\n",
    "    'options': {'maxiter':100,'popsize':3}\n",
    "}"
   ]
  },
  {
   "cell_type": "markdown",
   "metadata": {},
   "source": [
    "# Impedance Calibration"
   ]
  },
  {
   "cell_type": "code",
   "execution_count": null,
   "metadata": {},
   "outputs": [],
   "source": [
    "from importlib import reload\n",
    "reload(stochastic_optimization)\n",
    "reload(modeling_turns)\n",
    "\n",
    "start = time.time()\n",
    "print([x['col'] for x in betas_tup]+['objective_function'])\n",
    "x = minimize(stochastic_optimization.impedance_calibration,\n",
    "             stochastic_optimization.extract_bounds(betas_tup),\n",
    "             args=args,\n",
    "             **stochastic_optimization_settings)\n",
    "end = time.time()\n",
    "print(f\"Took {str(pd.Timedelta(seconds=end-start).round('s'))} hours\")\n",
    "print(f\"{args[10].__name__}: {x.fun}\")"
   ]
  },
  {
   "cell_type": "code",
   "execution_count": null,
   "metadata": {},
   "outputs": [],
   "source": []
  },
  {
   "cell_type": "markdown",
   "metadata": {},
   "source": [
    "# Record results and store for reference"
   ]
  },
  {
   "cell_type": "code",
   "execution_count": null,
   "metadata": {},
   "outputs": [],
   "source": [
    "calibration_result = {\n",
    "    'betas_tup': tuple({**item,'beta':x.x[idx].round(4)} for idx,item in enumerate(betas_tup)), # contains the betas\n",
    "    'settings': stochastic_optimization_settings, # contains the optimization settings\n",
    "    'objective_function': args[10].__name__, # objective function used\n",
    "    'results': x, # stochastic optimization outputs\n",
    "    'trips_calibrated': set(full_set.keys()), # saves which trips were calibrated\n",
    "    'past_vals': args[0], # all of the past values/guesses\n",
    "    'runtime': pd.Timedelta(end-start),\n",
    "    'time': datetime.datetime.now()\n",
    "}"
   ]
  },
  {
   "cell_type": "code",
   "execution_count": null,
   "metadata": {},
   "outputs": [],
   "source": [
    "with (config['calibration_fp']/\"calibration_results/standard.pkl\").open('wb') as fh:\n",
    "        pickle.dump(calibration_result,fh)"
   ]
  },
  {
   "cell_type": "code",
   "execution_count": null,
   "metadata": {},
   "outputs": [],
   "source": [
    "if (config['calibration_fp']/\"calibration_results.pkl\").exists():\n",
    "    with (config['calibration_fp']/\"calibration_results.pkl\").open('rb') as fh:\n",
    "        calibration_results = pickle.load(fh)\n",
    "else:\n",
    "    calibration_results = []\n",
    "calibration_results.append(calibration_result)\n",
    "with (config['calibration_fp']/\"calibration_results.pkl\").open('wb') as fh:\n",
    "        pickle.dump(calibration_results,fh)"
   ]
  },
  {
   "cell_type": "markdown",
   "metadata": {},
   "source": [
    "# Create smaller subset of trips for testing purposes"
   ]
  },
  {
   "cell_type": "code",
   "execution_count": null,
   "metadata": {},
   "outputs": [],
   "source": [
    "len(full_set)"
   ]
  },
  {
   "cell_type": "code",
   "execution_count": null,
   "metadata": {},
   "outputs": [],
   "source": [
    "user = pd.read_pickle(config['cycleatl_fp']/'users_4.pkl')\n",
    "trip = pd.read_pickle(config['cycleatl_fp']/'trips_4.pkl')\n",
    "\n",
    "results_df = pd.read_csv(config['calibration_fp']/'objective_functions.csv')"
   ]
  },
  {
   "cell_type": "code",
   "execution_count": null,
   "metadata": {},
   "outputs": [],
   "source": [
    "results_df[results_df['index']==194]"
   ]
  },
  {
   "cell_type": "code",
   "execution_count": null,
   "metadata": {},
   "outputs": [],
   "source": [
    "results_df.sort_values('chosen_detour',ascending=False).head(50)['index'].tolist()"
   ]
  },
  {
   "cell_type": "code",
   "execution_count": null,
   "metadata": {},
   "outputs": [],
   "source": [
    "subset = trip[trip['userid'].isin(set(full_set.keys()))]"
   ]
  },
  {
   "cell_type": "markdown",
   "metadata": {},
   "source": [
    "Just retain one from each user"
   ]
  },
  {
   "cell_type": "code",
   "execution_count": null,
   "metadata": {},
   "outputs": [],
   "source": [
    "full_set[71].keys()"
   ]
  },
  {
   "cell_type": "code",
   "execution_count": null,
   "metadata": {},
   "outputs": [],
   "source": [
    "set([(3,4),(3,4)])"
   ]
  },
  {
   "cell_type": "code",
   "execution_count": null,
   "metadata": {},
   "outputs": [],
   "source": [
    "subset = trip[trip['userid'].isin(set(full_set.keys()))]\n",
    "groups = subset.groupby('userid')['trip_type'].unique()\n",
    "groups\n",
    "\n"
   ]
  },
  {
   "cell_type": "markdown",
   "metadata": {},
   "source": [
    "# Additional Calibration Runs Template"
   ]
  },
  {
   "cell_type": "markdown",
   "metadata": {},
   "source": [
    "## Using speed category instead of lanes\n",
    "Result is similar to using lanes"
   ]
  },
  {
   "cell_type": "code",
   "execution_count": null,
   "metadata": {},
   "outputs": [],
   "source": [
    "betas_tup = (\n",
    "    {'col':'multi use path','type':'link','range':[-1,1]},\n",
    "    {'col':'bike lane','type':'link','range':[-1,1]},\n",
    "    {'col':'speed','type':'link','range':[0,2]},\n",
    "    {'col':'above_4','type':'link','range':[0,2]},\n",
    "    {'col':'unsig_major_road_crossing','type':'turn','range':[0,2]}\n",
    ")\n",
    "\n",
    "args = (\n",
    "    [], # empty list for storing past calibration results\n",
    "    betas_tup, # tuple containing the impedance spec\n",
    "    stochastic_optimization.match_results_to_ods(full_set), # list of OD network node pairs needed for shortest path routing\n",
    "    full_set, # dict containing the origin/dest node and map matched edges\n",
    "    stochastic_optimization.link_impedance_function, # link impedance function to use\n",
    "    \"travel_time_min\", # column with the base the base impedance in travel time or distance\n",
    "    stochastic_optimization.turn_impedance_function, # turn impedance function to use\n",
    "    links,turns,turn_G, # network parts\n",
    "    stochastic_optimization.buffer_overlap, # loss function to use\n",
    "    {'length_dict':length_dict,'geo_dict':geo_dict}, # keyword arguments for loss function\n",
    "    True, #whether to print the results of each iteration\n",
    "    True #whether to store calibration results\n",
    ")\n",
    "\n",
    "stochastic_optimization_settings = {\n",
    "    'method':'pso',\n",
    "    'options': {'maxiter':50,'popsize':10}\n",
    "}\n",
    "\n",
    "from importlib import reload\n",
    "reload(stochastic_optimization)\n",
    "\n",
    "start = time.time()\n",
    "print([x['col'] for x in betas_tup]+['objective_function'])\n",
    "x = minimize(stochastic_optimization.impedance_calibration,\n",
    "             stochastic_optimization.extract_bounds(betas_tup),\n",
    "             args=args,\n",
    "             **stochastic_optimization_settings)\n",
    "end = time.time()\n",
    "print(f\"Took {str(pd.Timedelta(seconds=end-start).round('s'))} hours\")\n",
    "print(f\"{args[10].__name__}: {x.fun}\")\n",
    "\n",
    "calibration_result = {\n",
    "    'betas_tup': tuple({**item,'beta':x.x[idx].round(4)} for idx,item in enumerate(betas_tup)), # contains the betas\n",
    "    'settings': stochastic_optimization_settings, # contains the optimization settings\n",
    "    'objective_function': args[10].__name__, # objective function used\n",
    "    'results': x, # stochastic optimization outputs\n",
    "    'trips_calibrated': set(full_set.keys()), # saves which trips were calibrated\n",
    "    'past_vals': args[0], # all of the past values/guesses\n",
    "    'runtime': pd.Timedelta(end-start),\n",
    "    'time': datetime.datetime.now()\n",
    "}\n",
    "\n",
    "with (config['calibration_fp']/\"calibration_results/speed.pkl\").open('wb') as fh:\n",
    "        pickle.dump(calibration_result,fh)\n",
    "\n",
    "if (config['calibration_fp']/\"calibration_results.pkl\").exists():\n",
    "    with (config['calibration_fp']/\"calibration_results.pkl\").open('rb') as fh:\n",
    "        calibration_results = pickle.load(fh)\n",
    "else:\n",
    "    calibration_results = []\n",
    "calibration_results.append(calibration_result)\n",
    "with (config['calibration_fp']/\"calibration_results.pkl\").open('wb') as fh:\n",
    "        pickle.dump(calibration_results,fh)"
   ]
  },
  {
   "cell_type": "markdown",
   "metadata": {},
   "source": [
    "## Try a few combinations of lanes, speed, AADT\n"
   ]
  },
  {
   "cell_type": "markdown",
   "metadata": {},
   "source": [
    "lanes"
   ]
  },
  {
   "cell_type": "code",
   "execution_count": null,
   "metadata": {},
   "outputs": [],
   "source": []
  },
  {
   "cell_type": "markdown",
   "metadata": {},
   "source": [
    "## Run it 10 times to see how the coefficients change"
   ]
  },
  {
   "cell_type": "code",
   "execution_count": null,
   "metadata": {},
   "outputs": [],
   "source": [
    "betas_tup = (\n",
    "    {'col':'multi use path','type':'link','range':[-1,1]},\n",
    "    {'col':'bike lane','type':'link','range':[-1,1]},\n",
    "    {'col':'lanes','type':'link','range':[0,2]},\n",
    "    {'col':'above_4','type':'link','range':[0,2]},\n",
    "    {'col':'unsig_major_road_crossing','type':'turn','range':[0,2]}\n",
    ")\n",
    "\n",
    "args = (\n",
    "    [], # empty list for storing past calibration results\n",
    "    betas_tup, # tuple containing the impedance spec\n",
    "    stochastic_optimization.match_results_to_ods(full_set), # list of OD network node pairs needed for shortest path routing\n",
    "    full_set, # dict containing the origin/dest node and map matched edges\n",
    "    stochastic_optimization.link_impedance_function, # link impedance function to use\n",
    "    \"travel_time_min\", # column with the base the base impedance in travel time or distance\n",
    "    stochastic_optimization.turn_impedance_function, # turn impedance function to use\n",
    "    links,turns,turn_G, # network parts\n",
    "    stochastic_optimization.buffer_overlap, # loss function to use\n",
    "    {'length_dict':length_dict,'geo_dict':geo_dict}, # keyword arguments for loss function\n",
    "    False, #whether to print the results of each iteration\n",
    "    True #whether to store calibration results\n",
    ")\n",
    "\n",
    "stochastic_optimization_settings = {\n",
    "    'method':'pso',\n",
    "    'options': {'maxiter':50,'popsize':10}\n",
    "}\n",
    "\n",
    "from importlib import reload\n",
    "reload(stochastic_optimization)\n",
    "\n",
    "run_10_times = []\n",
    "\n",
    "for x in range(0,10):\n",
    "\n",
    "    start = time.time()\n",
    "    print([x['col'] for x in betas_tup]+['objective_function'])\n",
    "    x = minimize(stochastic_optimization.impedance_calibration,\n",
    "                stochastic_optimization.extract_bounds(betas_tup),\n",
    "                args=args,\n",
    "                **stochastic_optimization_settings)\n",
    "    end = time.time()\n",
    "    print(f\"Took {str(pd.Timedelta(seconds=end-start).round('s'))} hours\")\n",
    "    print(f\"{args[10].__name__}: {x.fun}\")\n",
    "\n",
    "    calibration_result = {\n",
    "        'betas_tup': tuple({**item,'beta':x.x[idx].round(4)} for idx,item in enumerate(betas_tup)), # contains the betas\n",
    "        'settings': stochastic_optimization_settings, # contains the optimization settings\n",
    "        'objective_function': args[10].__name__, # objective function used\n",
    "        'results': x, # stochastic optimization outputs\n",
    "        'trips_calibrated': set(full_set.keys()), # saves which trips were calibrated\n",
    "        'past_vals': args[0], # all of the past values/guesses\n",
    "        'runtime': pd.Timedelta(end-start),\n",
    "        'time': datetime.datetime.now()\n",
    "    }\n",
    "    run_10_times.append(calibration_result)\n",
    "\n",
    "    if (config['calibration_fp']/\"calibration_results.pkl\").exists():\n",
    "        with (config['calibration_fp']/\"calibration_results.pkl\").open('rb') as fh:\n",
    "            calibration_results = pickle.load(fh)\n",
    "    else:\n",
    "        calibration_results = []\n",
    "    calibration_results.append(calibration_result)\n",
    "    with (config['calibration_fp']/\"calibration_results.pkl\").open('wb') as fh:\n",
    "            pickle.dump(calibration_results,fh)"
   ]
  },
  {
   "cell_type": "code",
   "execution_count": null,
   "metadata": {},
   "outputs": [],
   "source": [
    "len(run_10_times)"
   ]
  },
  {
   "cell_type": "code",
   "execution_count": null,
   "metadata": {},
   "outputs": [],
   "source": [
    "run_10_times"
   ]
  },
  {
   "cell_type": "code",
   "execution_count": null,
   "metadata": {},
   "outputs": [],
   "source": [
    "with (config['calibration_fp']/\"calibration_results/run_10_times.pkl\").open('wb') as fh:\n",
    "        pickle.dump(run_10_times,fh)"
   ]
  },
  {
   "cell_type": "markdown",
   "metadata": {},
   "source": [
    "## Remove the grade and turn variables to see if a simpler model is better\n",
    "Slightly worse but not that much worse"
   ]
  },
  {
   "cell_type": "code",
   "execution_count": null,
   "metadata": {},
   "outputs": [],
   "source": [
    "betas_tup = (\n",
    "    {'col':'multi use path','type':'link','range':[-1,1]},\n",
    "    {'col':'bike lane','type':'link','range':[-1,1]},\n",
    "    {'col':'lanes','type':'link','range':[0,2]},\n",
    "    #{'col':'above_4','type':'link','range':[0,2]},\n",
    "    #{'col':'unsig_major_road_crossing','type':'turn','range':[0,2]}\n",
    ")\n",
    "\n",
    "args = (\n",
    "    [], # empty list for storing past calibration results\n",
    "    betas_tup, # tuple containing the impedance spec\n",
    "    stochastic_optimization.match_results_to_ods(full_set), # list of OD network node pairs needed for shortest path routing\n",
    "    full_set, # dict containing the origin/dest node and map matched edges\n",
    "    stochastic_optimization.link_impedance_function, # link impedance function to use\n",
    "    \"travel_time_min\", # column with the base the base impedance in travel time or distance\n",
    "    stochastic_optimization.turn_impedance_function, # turn impedance function to use\n",
    "    links,turns,turn_G, # network parts\n",
    "    stochastic_optimization.buffer_overlap, # loss function to use\n",
    "    {'length_dict':length_dict,'geo_dict':geo_dict}, # keyword arguments for loss function\n",
    "    True, #whether to print the results of each iteration\n",
    "    True #whether to store calibration results\n",
    ")\n",
    "\n",
    "stochastic_optimization_settings = {\n",
    "    'method':'pso',\n",
    "    'options': {'maxiter':50,'popsize':10}\n",
    "}\n",
    "\n",
    "from importlib import reload\n",
    "reload(stochastic_optimization)\n",
    "\n",
    "start = time.time()\n",
    "print([x['col'] for x in betas_tup]+['objective_function'])\n",
    "x = minimize(stochastic_optimization.impedance_calibration,\n",
    "             stochastic_optimization.extract_bounds(betas_tup),\n",
    "             args=args,\n",
    "             **stochastic_optimization_settings)\n",
    "end = time.time()\n",
    "print(f\"Took {str(pd.Timedelta(seconds=end-start).round('s'))} hours\")\n",
    "print(f\"{args[10].__name__}: {x.fun}\")\n",
    "\n",
    "calibration_result = {\n",
    "    'betas_tup': tuple({**item,'beta':x.x[idx].round(4)} for idx,item in enumerate(betas_tup)), # contains the betas\n",
    "    'settings': stochastic_optimization_settings, # contains the optimization settings\n",
    "    'objective_function': args[10].__name__, # objective function used\n",
    "    'results': x, # stochastic optimization outputs\n",
    "    'trips_calibrated': set(full_set.keys()), # saves which trips were calibrated\n",
    "    'past_vals': args[0], # all of the past values/guesses\n",
    "    'runtime': pd.Timedelta(end-start),\n",
    "    'time': datetime.datetime.now()\n",
    "}\n",
    "\n",
    "with (config['calibration_fp']/\"calibration_results/fewer_variables.pkl\").open('wb') as fh:\n",
    "        pickle.dump(calibration_result,fh)\n",
    "\n",
    "if (config['calibration_fp']/\"calibration_results.pkl\").exists():\n",
    "    with (config['calibration_fp']/\"calibration_results.pkl\").open('rb') as fh:\n",
    "        calibration_results = pickle.load(fh)\n",
    "else:\n",
    "    calibration_results = []\n",
    "calibration_results.append(calibration_result)\n",
    "with (config['calibration_fp']/\"calibration_results.pkl\").open('wb') as fh:\n",
    "        pickle.dump(calibration_results,fh)"
   ]
  },
  {
   "cell_type": "markdown",
   "metadata": {},
   "source": [
    "## Test the impact of changing the objective/loss function"
   ]
  },
  {
   "cell_type": "code",
   "execution_count": null,
   "metadata": {},
   "outputs": [],
   "source": [
    "loss_functions = [stochastic_optimization.buffer_overlap,stochastic_optimization.jaccard_index_func,stochastic_optimization.frechet_distance]\n",
    "loss_functions_results = []\n",
    "\n",
    "for loss_function in loss_functions:\n",
    "\n",
    "    betas_tup = (\n",
    "        {'col':'multi use path','type':'link','range':[-1,1]},\n",
    "        {'col':'bike lane','type':'link','range':[-1,1]},\n",
    "        {'col':'speed','type':'link','range':[0,2]},\n",
    "        {'col':'above_4','type':'link','range':[0,2]},\n",
    "        {'col':'unsig_major_road_crossing','type':'turn','range':[0,2]}\n",
    "    )\n",
    "\n",
    "    args = (\n",
    "        [], # empty list for storing past calibration results\n",
    "        betas_tup, # tuple containing the impedance spec\n",
    "        stochastic_optimization.match_results_to_ods(full_set), # list of OD network node pairs needed for shortest path routing\n",
    "        full_set, # dict containing the origin/dest node and map matched edges\n",
    "        stochastic_optimization.link_impedance_function, # link impedance function to use\n",
    "        \"travel_time_min\", # column with the base the base impedance in travel time or distance\n",
    "        stochastic_optimization.turn_impedance_function, # turn impedance function to use\n",
    "        links,turns,turn_G, # network parts\n",
    "        loss_function, # loss function to use\n",
    "        {'length_dict':length_dict,'geo_dict':geo_dict}, # keyword arguments for loss function\n",
    "        False, #whether to print the results of each iteration\n",
    "        True #whether to store calibration results\n",
    "    )\n",
    "\n",
    "    stochastic_optimization_settings = {\n",
    "        'method':'pso',\n",
    "        'options': {'maxiter':50,'popsize':10}\n",
    "    }\n",
    "\n",
    "    from importlib import reload\n",
    "    reload(stochastic_optimization)\n",
    "\n",
    "    start = time.time()\n",
    "    print([x['col'] for x in betas_tup]+['objective_function'])\n",
    "    x = minimize(stochastic_optimization.impedance_calibration,\n",
    "                stochastic_optimization.extract_bounds(betas_tup),\n",
    "                args=args,\n",
    "                **stochastic_optimization_settings)\n",
    "    end = time.time()\n",
    "    print(f\"Took {str(pd.Timedelta(seconds=end-start).round('s'))} hours\")\n",
    "    print(f\"{args[10].__name__}: {x.fun}\")\n",
    "\n",
    "    calibration_result = {\n",
    "        'betas_tup': tuple({**item,'beta':x.x[idx].round(4)} for idx,item in enumerate(betas_tup)), # contains the betas\n",
    "        'settings': stochastic_optimization_settings, # contains the optimization settings\n",
    "        'objective_function': args[10].__name__, # objective function used\n",
    "        'results': x, # stochastic optimization outputs\n",
    "        'trips_calibrated': set(full_set.keys()), # saves which trips were calibrated\n",
    "        'past_vals': args[0], # all of the past values/guesses\n",
    "        'runtime': pd.Timedelta(end-start),\n",
    "        'time': datetime.datetime.now()\n",
    "    }\n",
    "\n",
    "    if (config['calibration_fp']/\"calibration_results.pkl\").exists():\n",
    "        with (config['calibration_fp']/\"calibration_results.pkl\").open('rb') as fh:\n",
    "            calibration_results = pickle.load(fh)\n",
    "    else:\n",
    "        calibration_results = []\n",
    "    calibration_results.append(calibration_result)\n",
    "    with (config['calibration_fp']/\"calibration_results.pkl\").open('wb') as fh:\n",
    "            pickle.dump(calibration_results,fh)\n",
    "\n",
    "    loss_functions_results.append(calibration_result)"
   ]
  },
  {
   "cell_type": "code",
   "execution_count": null,
   "metadata": {},
   "outputs": [],
   "source": [
    "with (config['calibration_fp']/\"calibration_results/different_loss_functions.pkl\").open('wb') as fh:\n",
    "        pickle.dump(loss_functions_results,fh)"
   ]
  },
  {
   "cell_type": "markdown",
   "metadata": {},
   "source": [
    "## Try two grade categories"
   ]
  },
  {
   "cell_type": "code",
   "execution_count": null,
   "metadata": {},
   "outputs": [],
   "source": [
    "betas_tup = (\n",
    "    {'col':'multi use path','type':'link','range':[-1,1]},\n",
    "    {'col':'bike lane','type':'link','range':[-1,1]},\n",
    "    {'col':'lanes','type':'link','range':[0,2]},\n",
    "    #{'col':'above_4','type':'link','range':[0,2]},\n",
    "    #{'col':'unsig_major_road_crossing','type':'turn','range':[0,2]}\n",
    ")\n",
    "\n",
    "args = (\n",
    "    [], # empty list for storing past calibration results\n",
    "    betas_tup, # tuple containing the impedance spec\n",
    "    stochastic_optimization.match_results_to_ods(full_set), # list of OD network node pairs needed for shortest path routing\n",
    "    full_set, # dict containing the origin/dest node and map matched edges\n",
    "    stochastic_optimization.link_impedance_function, # link impedance function to use\n",
    "    \"travel_time_min\", # column with the base the base impedance in travel time or distance\n",
    "    stochastic_optimization.turn_impedance_function, # turn impedance function to use\n",
    "    links,turns,turn_G, # network parts\n",
    "    stochastic_optimization.buffer_overlap, # loss function to use\n",
    "    {'length_dict':length_dict,'geo_dict':geo_dict}, # keyword arguments for loss function\n",
    "    True, #whether to print the results of each iteration\n",
    "    True #whether to store calibration results\n",
    ")\n",
    "\n",
    "stochastic_optimization_settings = {\n",
    "    'method':'pso',\n",
    "    'options': {'maxiter':50,'popsize':10}\n",
    "}\n",
    "\n",
    "from importlib import reload\n",
    "reload(stochastic_optimization)\n",
    "\n",
    "start = time.time()\n",
    "print([x['col'] for x in betas_tup]+['objective_function'])\n",
    "x = minimize(stochastic_optimization.impedance_calibration,\n",
    "             stochastic_optimization.extract_bounds(betas_tup),\n",
    "             args=args,\n",
    "             **stochastic_optimization_settings)\n",
    "end = time.time()\n",
    "print(f\"Took {str(pd.Timedelta(seconds=end-start).round('s'))} hours\")\n",
    "print(f\"{args[10].__name__}: {x.fun}\")\n",
    "\n",
    "calibration_result = {\n",
    "    'betas_tup': tuple({**item,'beta':x.x[idx].round(4)} for idx,item in enumerate(betas_tup)), # contains the betas\n",
    "    'settings': stochastic_optimization_settings, # contains the optimization settings\n",
    "    'objective_function': args[10].__name__, # objective function used\n",
    "    'results': x, # stochastic optimization outputs\n",
    "    'trips_calibrated': set(full_set.keys()), # saves which trips were calibrated\n",
    "    'past_vals': args[0], # all of the past values/guesses\n",
    "    'runtime': pd.Timedelta(end-start),\n",
    "    'time': datetime.datetime.now()\n",
    "}\n",
    "\n",
    "with (config['calibration_fp']/\"calibration_results/fewer_variables.pkl\").open('wb') as fh:\n",
    "        pickle.dump(calibration_result,fh)\n",
    "\n",
    "if (config['calibration_fp']/\"calibration_results.pkl\").exists():\n",
    "    with (config['calibration_fp']/\"calibration_results.pkl\").open('rb') as fh:\n",
    "        calibration_results = pickle.load(fh)\n",
    "else:\n",
    "    calibration_results = []\n",
    "calibration_results.append(calibration_result)\n",
    "with (config['calibration_fp']/\"calibration_results.pkl\").open('wb') as fh:\n",
    "        pickle.dump(calibration_results,fh)"
   ]
  },
  {
   "cell_type": "markdown",
   "metadata": {},
   "source": [
    "MOVE TO QAQC Create GIFs"
   ]
  },
  {
   "cell_type": "code",
   "execution_count": null,
   "metadata": {},
   "outputs": [],
   "source": [
    "# import geopandas as gpd\n",
    "# import matplotlib.pyplot as plt\n",
    "# import imageio\n",
    "# from io import BytesIO\n",
    "\n",
    "# # Function to plot a GeoSeries and save the plot\n",
    "# def plot_geoseries(geoseries,other_geoseries,i,past_val):\n",
    "#     fig, ax = plt.subplots(figsize=(20, 20))\n",
    "#     #cx.add_basemap(ax)\n",
    "#     other_geoseries.plot(ax=ax,color='blue',style_kwds={'linewidth':2})\n",
    "#     geoseries.plot(ax=ax,color='red')\n",
    "#     ax.set_title(f\"Iter:{i} Overlap Function:{past_val}\")\n",
    "#     ax.set_axis_off()\n",
    "#     img_bytes = BytesIO()\n",
    "#     plt.savefig(img_bytes, format='png', bbox_inches='tight')\n",
    "#     plt.close()\n",
    "#     return img_bytes.getvalue()"
   ]
  },
  {
   "cell_type": "code",
   "execution_count": null,
   "metadata": {},
   "outputs": [],
   "source": [
    "# num_trips = 10\n",
    "\n",
    "# for z in range(0,num_trips):\n",
    "\n",
    "#     #choose a random tripid\n",
    "#     tripid = random.choice(list(full_set.keys()))\n",
    "#     start_node = full_set[tripid]['start_node']\n",
    "#     end_node = full_set[tripid]['end_node']\n",
    "\n",
    "#     matched_edges = full_set[tripid]['matched_edges']\n",
    "#     matched_edges = np.array(matched_edges)\n",
    "#     matched_line = MultiLineString([geo_dict[linkid] for linkid, reverse_link in matched_edges])\n",
    "#     matched_line = gpd.GeoSeries(matched_line,crs='epsg:2240')\n",
    "#     matched_line = matched_line.to_crs('epsg:4326')\n",
    "\n",
    "#     modeled_lines = []\n",
    "\n",
    "#     for betas in past_betas:\n",
    "#         #update network with the correct impedances\n",
    "#         stochastic_optimization.impedance_update(betas,betas_links,betas_turns,\n",
    "#                                 link_impedance_function,\n",
    "#                                 turn_impedance_function,\n",
    "#                                 links,turns,turn_G)\n",
    "#         #find shortest path\n",
    "#         modeled_edges = stochastic_optimization.impedance_path(turns,turn_G,start_node,end_node)['edge_list']\n",
    "#         modeled_line = MultiLineString([geo_dict[linkid] for linkid, reverse_link in modeled_edges])\n",
    "#         modeled_line = gpd.GeoSeries(modeled_line,crs='epsg:2240')\n",
    "#         modeled_line = modeled_line.to_crs('epsg:4326')\n",
    "#         modeled_lines.append(modeled_line)\n",
    "\n",
    "#     # List of GeoSeries (Replace this with your own GeoSeries list)\n",
    "#     geoseries_list = modeled_lines\n",
    "\n",
    "#     # Loop through the list of GeoSeries, plot each one, and save the plot\n",
    "#     images = []\n",
    "#     for i, geoseries in enumerate(geoseries_list):\n",
    "#         past_val = past_vals[i]\n",
    "#         image_bytes = plot_geoseries(geoseries,matched_line,i,past_val)\n",
    "#         images.append(imageio.imread(BytesIO(image_bytes)))\n",
    "\n",
    "#     # Path for saving the GIF\n",
    "#     gif_path = f\"animations/stress_animation_{z}.gif\"\n",
    "\n",
    "#     # Save the images as a GIF\n",
    "#     imageio.mimsave(Path.cwd()/gif_path, images, format='gif', duration=2)\n"
   ]
  },
  {
   "cell_type": "code",
   "execution_count": null,
   "metadata": {},
   "outputs": [],
   "source": [
    "# #TODO, combine these and just have the structure indicate how it works\n",
    "# betas_links = {\n",
    "#     0 : 'multi use path',\n",
    "#     1 : 'bike lane',\n",
    "#     2 : 'lanes',\n",
    "#     3 : 'above_4'\n",
    "# } \n",
    "\n",
    "# betas_turns = {\n",
    "#     4 : 'unsig_major_road_crossing'\n",
    "# }\n",
    "# # #this was only .14 overlap\n",
    "# # betas_links = {\n",
    "# #     0 : 'multi use path',\n",
    "# #     1 : 'bike lane',\n",
    "# #     2 : 'AADT',\n",
    "# #     3 : 'above_4'\n",
    "# # } \n",
    "\n",
    "# # betas_turns = {\n",
    "# #     4 : 'unsig_major_road_crossing'\n",
    "# # }\n",
    "\n",
    "\n",
    "# # #have position of beta next to name of variable\n",
    "# # #NOTE: keys must be in the currect order used\n",
    "# # betas_links = {\n",
    "# #     0 : 'mixed_traffic_no_facil',\n",
    "# #     1 : 'mixed_traffic_w_facil',\n",
    "# #     #0 : 'major_road_w_class_2',\n",
    "# #     # 1 : 'minor_road_w_class_2',\n",
    "# #     # 2 : 'major_road_no_facil',\n",
    "# #     # 3 : 'minor_road_no_facil',\n",
    "# #     2 : 'above_4'\n",
    "# #     #1 : 'motorized'\n",
    "# #     #1 : 'ascent_grade_%'\n",
    "# # } \n",
    "\n",
    "# # betas_turns = {\n",
    "# #     3 : 'unsig_major_road_crossing'\n",
    "# #     #1 : 'left',\n",
    "# #     #2 : 'right',\n",
    "# #     #3 : 'signalized'\n",
    "# # }\n",
    "\n",
    "\n",
    "# # #have position of beta next to name of variable\n",
    "# # #NOTE: keys must be in the currect order used\n",
    "# # #TODO have this be named tuples or something similar\n",
    "# # # (name=var_name,type,position=position,bounds=[0,3])\n",
    "# # betas_links = {\n",
    "# #     0 : 'AADT',\n",
    "# #     1 : 'lanes',\n",
    "# #     2 : 'here_speed',\n",
    "# #     3 : 'above_4'\n",
    "# # } \n",
    "\n",
    "# # betas_turns = {\n",
    "# #     4 : 'unsig_major_road_crossing',\n",
    "# #     5 : 'signalized'\n",
    "# # }\n",
    "\n"
   ]
  }
 ],
 "metadata": {
  "kernelspec": {
   "display_name": "Python 3 (ipykernel)",
   "language": "python",
   "name": "python3"
  },
  "language_info": {
   "codemirror_mode": {
    "name": "ipython",
    "version": 3
   },
   "file_extension": ".py",
   "mimetype": "text/x-python",
   "name": "python",
   "nbconvert_exporter": "python",
   "pygments_lexer": "ipython3",
   "version": "3.9.13"
  },
  "varInspector": {
   "cols": {
    "lenName": 16,
    "lenType": 16,
    "lenVar": 40
   },
   "kernels_config": {
    "python": {
     "delete_cmd_postfix": "",
     "delete_cmd_prefix": "del ",
     "library": "var_list.py",
     "varRefreshCmd": "print(var_dic_list())"
    },
    "r": {
     "delete_cmd_postfix": ") ",
     "delete_cmd_prefix": "rm(",
     "library": "var_list.r",
     "varRefreshCmd": "cat(var_dic_list()) "
    }
   },
   "types_to_exclude": [
    "module",
    "function",
    "builtin_function_or_method",
    "instance",
    "_Feature"
   ],
   "window_display": false
  }
 },
 "nbformat": 4,
 "nbformat_minor": 2
}

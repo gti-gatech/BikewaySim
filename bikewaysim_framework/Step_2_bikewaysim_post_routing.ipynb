{
 "cells": [
  {
   "cell_type": "markdown",
   "metadata": {},
   "source": [
    "# Post Match (aka Assessment Framework)"
   ]
  },
  {
   "cell_type": "code",
   "execution_count": null,
   "metadata": {},
   "outputs": [],
   "source": [
    "import sys\n",
    "from pathlib import Path\n",
    "import pickle\n",
    "import pandas as pd\n",
    "import geopandas as gpd\n",
    "import numpy as np\n",
    "\n",
    "import src.bikewaysim_functions as bikewaysim_functions\n",
    "\n",
    "import sys\n",
    "sys.path.insert(0,str(Path.cwd().parent))\n",
    "import file_structure_setup\n",
    "config = file_structure_setup.filepaths()\n",
    "\n",
    "import impedance_calibration.stochastic_optimization as stochastic_optimization\n",
    "from network.src import modeling_turns"
   ]
  },
  {
   "cell_type": "markdown",
   "metadata": {},
   "source": [
    "## ODS"
   ]
  },
  {
   "cell_type": "code",
   "execution_count": null,
   "metadata": {},
   "outputs": [],
   "source": [
    "# import matched ODS (i.e. already have the correct network nodes)\n",
    "od_matrix = pd.read_csv(config['bikewaysim_fp']/'od_matrix.csv')\n",
    "ods = list(set(zip(od_matrix['orig_N'],od_matrix['dest_N'])))"
   ]
  },
  {
   "cell_type": "code",
   "execution_count": null,
   "metadata": {},
   "outputs": [],
   "source": [
    "#TODO find how many ods failed to find a shortest path\n",
    "#od_matrix.loc[od_matrix['current_impedance'].isna(),'trips'].sum()"
   ]
  },
  {
   "cell_type": "code",
   "execution_count": null,
   "metadata": {},
   "outputs": [],
   "source": [
    "# import test case/ base case (think of a better word) network\n",
    "with (config['calibration_fp']/\"calibration_network.pkl\").open('rb') as fh:\n",
    "    links,turns = pickle.load(fh)\n",
    "# import the calibration results\n",
    "# with (config['calibration_fp']/\"calibration_results.pkl\").open('rb') as fh:\n",
    "#     calibration_results = pickle.load(fh)\n",
    "turn_G = modeling_turns.make_turn_graph(turns)"
   ]
  },
  {
   "cell_type": "markdown",
   "metadata": {},
   "source": [
    "## Export Existing Infra"
   ]
  },
  {
   "cell_type": "code",
   "execution_count": null,
   "metadata": {},
   "outputs": [],
   "source": [
    "existing_infra = links[links['facility_fwd'].notna()]\n",
    "existing_infra = existing_infra[['linkid','facility_fwd','geometry']].drop_duplicates()\n",
    "existing_infra.to_file(config['bikewaysim_fp']/'map_layers.gpkg',layer='Existing Bicycle Facilities')"
   ]
  },
  {
   "cell_type": "markdown",
   "metadata": {},
   "source": [
    "# Network Import"
   ]
  },
  {
   "cell_type": "code",
   "execution_count": null,
   "metadata": {},
   "outputs": [],
   "source": [
    "current_links = gpd.read_file(config['bikewaysim_fp']/'framework_results.gpkg',layer='current_network') \n",
    "improvements = gpd.read_file(config['bikewaysim_fp']/'framework_results.gpkg',layer='improvements',ignore_geometry=True)\n",
    "future_links = gpd.read_file(config['bikewaysim_fp']/'framework_results.gpkg',layer='future_network',ignore_geometry=True)\n",
    "#TODO can only do this because no new network links were added\n",
    "links = pd.merge(current_links,future_links[['linkid','reverse_link','multiplier','link_cost']],on=['linkid','reverse_link'])\n",
    "links.rename(columns={'link_cost_x':'current_link_cost','link_cost_y':'future_link_cost','multiplier_x':'current_multiplier','multiplier_y':'future_multiplier'},inplace=True)\n",
    "links = pd.merge(links,improvements,on='linkid',how='left')\n",
    "\n",
    "print(current_links.shape)\n",
    "print(future_links.shape)\n",
    "print(links.shape)\n",
    "print(improvements.shape)"
   ]
  },
  {
   "cell_type": "markdown",
   "metadata": {},
   "source": [
    "# Get link impedance reduction from improvements"
   ]
  },
  {
   "cell_type": "code",
   "execution_count": null,
   "metadata": {},
   "outputs": [],
   "source": [
    "print(links[f\"{config['mod_name']}_id\"].nunique(),'unique projects')\n",
    "links[links[f\"{config['mod_name']}_id\"].notna()].plot()"
   ]
  },
  {
   "cell_type": "markdown",
   "metadata": {},
   "source": [
    "Get base link impedance reduction"
   ]
  },
  {
   "cell_type": "code",
   "execution_count": null,
   "metadata": {},
   "outputs": [],
   "source": [
    "links['impedance_reduction'] = links['future_multiplier'] - links['current_multiplier']\n",
    "links['impedance_reduction'].describe()"
   ]
  },
  {
   "cell_type": "code",
   "execution_count": null,
   "metadata": {},
   "outputs": [],
   "source": [
    "max_impedance_reduction = links[links['impedance_reduction']<0].groupby('linkid')['impedance_reduction'].idxmin()\n",
    "link_impedance_reduction = links.loc[max_impedance_reduction]\n",
    "link_impedance_reduction.to_file(config['bikewaysim_fp']/'framework_results.gpkg',layer='link_impedance_reduction')"
   ]
  },
  {
   "cell_type": "code",
   "execution_count": null,
   "metadata": {},
   "outputs": [],
   "source": [
    "undirected_links = links[links['reverse_link']==False]"
   ]
  },
  {
   "cell_type": "markdown",
   "metadata": {},
   "source": [
    "# Import Routing Results"
   ]
  },
  {
   "cell_type": "code",
   "execution_count": null,
   "metadata": {},
   "outputs": [],
   "source": [
    "with (config['bikewaysim_fp']/\"current_shortest_results.pkl\").open('rb') as fh:\n",
    "    shortest_results_dict = pickle.load(fh)\n",
    "\n",
    "with (config['bikewaysim_fp']/\"current_results.pkl\").open('rb') as fh:\n",
    "    current_results_dict = pickle.load(fh)\n",
    "\n",
    "with (config['bikewaysim_fp']/\"future_results.pkl\").open('rb') as fh:\n",
    "    future_results_dict = pickle.load(fh)"
   ]
  },
  {
   "cell_type": "markdown",
   "metadata": {},
   "source": [
    "# Calculate trip travel time/impedance changes"
   ]
  },
  {
   "cell_type": "code",
   "execution_count": null,
   "metadata": {},
   "outputs": [],
   "source": [
    "#BUG in the travel time dict, there an int stored as an edge instead of the normal (linkid reverse link)\n",
    "#current_results_dict.get((67124310.0, 5218791368.0))['edge_list']\n",
    "x = []\n",
    "for key, item in current_results_dict.items():\n",
    "    current_results_dict[key]['edge_list'] = [edge for edge in item['edge_list'] if isinstance(edge,int)==False] "
   ]
  },
  {
   "cell_type": "code",
   "execution_count": null,
   "metadata": {},
   "outputs": [],
   "source": [
    "travel_time_dict = dict(zip(links['linkid'],links['travel_time_min']))\n",
    "\n",
    "current_tt = {key: np.sum([travel_time_dict.get(edge[0],0) for edge in item['edge_list']]) for key, item in current_results_dict.items()}\n",
    "future_tt = {key: np.sum([travel_time_dict.get(edge[0],0) for edge in item['edge_list']]) for key, item in future_results_dict.items()}\n",
    "shortest_tt = {key: np.sum([travel_time_dict.get(edge[0],0) for edge in item['edge_list']]) for key, item in shortest_results_dict.items()}\n",
    "\n",
    "od_matrix['current_tt_min'] = [current_tt.get(x,np.nan) for x in list((zip(od_matrix['orig_N'],od_matrix['dest_N'])))]\n",
    "od_matrix['future_tt_min'] = [future_tt.get(x,np.nan) for x in list((zip(od_matrix['orig_N'],od_matrix['dest_N'])))]\n",
    "od_matrix['shortest_tt_min'] = [shortest_tt.get(x,np.nan) for x in list((zip(od_matrix['orig_N'],od_matrix['dest_N'])))]\n",
    "\n",
    "current_impedance = {key:item['length'] for key, item in current_results_dict.items()}\n",
    "future_impedance = {key:item['length'] for key, item in future_results_dict.items()}\n",
    "\n",
    "od_matrix['current_impedance'] = [current_impedance.get(x,np.nan) for x in list((zip(od_matrix['orig_N'],od_matrix['dest_N'])))]\n",
    "od_matrix['future_impedance'] = [future_impedance.get(x,np.nan) for x in list((zip(od_matrix['orig_N'],od_matrix['dest_N'])))]"
   ]
  },
  {
   "cell_type": "markdown",
   "metadata": {},
   "source": [
    "# Impedance Change for trips"
   ]
  },
  {
   "cell_type": "markdown",
   "metadata": {},
   "source": [
    "Weighted reduction"
   ]
  },
  {
   "cell_type": "code",
   "execution_count": null,
   "metadata": {},
   "outputs": [],
   "source": [
    "od_matrix['impedance_reduction'] = (od_matrix['current_impedance'] - od_matrix['future_impedance'])\n",
    "maen_reduction = (od_matrix['impedance_reduction'] * od_matrix['trips']).sum() / od_matrix['trips'].sum()\n",
    "print(f'The weighted average reduction in impedance was {round(maen_reduction,2)} minutes')"
   ]
  },
  {
   "cell_type": "code",
   "execution_count": null,
   "metadata": {},
   "outputs": [],
   "source": [
    "# distribution isn't too meaningful\n",
    "# import matplotlib.pyplot as plt\n",
    "# plt.hist(od_matrix['impedance_reduction'],weights=od_matrix['trips'],bins=20)"
   ]
  },
  {
   "cell_type": "code",
   "execution_count": null,
   "metadata": {},
   "outputs": [],
   "source": [
    "max_reduction = od_matrix['impedance_reduction'].max() #* od_matrix['trips']).sum() / od_matrix['trips'].sum()\n",
    "print(f\"The max reduction in impedance was {round(max_reduction,2)} minutes\")"
   ]
  },
  {
   "cell_type": "code",
   "execution_count": null,
   "metadata": {},
   "outputs": [],
   "source": [
    "# some difference if aggregating to the destination taz but it's not too different\n",
    "# trip_impedance_reduction = od_matrix.groupby('dest_taz').apply(lambda x: ((x.current_impedance-x.future_impedance) * x.trips).sum() / x.trips.sum())\n",
    "# #studyarea = gpd.read_file(config['studyarea_fp'])\n",
    "# tazs = gpd.read_file(config['bikewaysim_fp']/'map_layers.gpkg',layer='taz_polygons')#,mask=studyarea)\n",
    "# tazs['impedance_change'] = tazs['tazid'].map(trip_impedance_reduction)\n",
    "# tazs.plot('impedance_change')"
   ]
  },
  {
   "cell_type": "code",
   "execution_count": null,
   "metadata": {},
   "outputs": [],
   "source": [
    "trip_impedance_reduction = od_matrix.groupby('orig_taz').apply(lambda x: ((x.current_impedance-x.future_impedance) * x.trips).sum() / x.trips.sum())\n",
    "#studyarea = gpd.read_file(config['studyarea_fp'])\n",
    "#tazs = gpd.read_file(config['bikewaysim_fp']/'ods.gpkg',layer='trip_origins')#,mask=studyarea)\n",
    "tazs = gpd.read_file(config['bikewaysim_fp']/'map_layers.gpkg',layer='taz_polygons')#,mask=studyarea)\n",
    "tazs['impedance_change'] = tazs['tazid'].map(trip_impedance_reduction)\n",
    "tazs.plot('impedance_change')"
   ]
  },
  {
   "cell_type": "code",
   "execution_count": null,
   "metadata": {},
   "outputs": [],
   "source": [
    "tazs[tazs['impedance_change']==0].to_file(config['bikewaysim_fp']/'framework_results.gpkg',layer='origin_weighted_impedance_nochange')\n",
    "tazs[tazs['impedance_change']>0].to_file(config['bikewaysim_fp']/'framework_results.gpkg',layer='origin_weighted_impedance_change')"
   ]
  },
  {
   "cell_type": "markdown",
   "metadata": {},
   "source": [
    "# Percent Detour"
   ]
  },
  {
   "cell_type": "code",
   "execution_count": null,
   "metadata": {},
   "outputs": [],
   "source": [
    "# od_matrix['detour'] = od_matrix['current_tt_min'] - od_matrix['shortest_tt_min']\n",
    "# detour = od_matrix.groupby('orig_taz').apply(lambda x: (x.detour * x.trips).sum() / x.trips.sum())\n",
    "# #od_matrix.hist(od_matrix['detour'],bins=50,weights=od_matrix['trips'])\n",
    "# tazs['detour'] = tazs['tazid'].map(detour)\n",
    "# tazs.plot('detour')"
   ]
  },
  {
   "cell_type": "code",
   "execution_count": null,
   "metadata": {},
   "outputs": [],
   "source": [
    "od_matrix['percent_detour'] = ((od_matrix['current_tt_min'] - od_matrix['shortest_tt_min']) / od_matrix['shortest_tt_min'] * 100)#.round(1)\n",
    "od_matrix['percent_detour'].describe()"
   ]
  },
  {
   "cell_type": "code",
   "execution_count": null,
   "metadata": {},
   "outputs": [],
   "source": [
    "import matplotlib.pyplot as plt\n",
    "plt.rcParams['font.family'] = 'Times New Roman'\n",
    "plt.hist(od_matrix['percent_detour'], bins=range(0, 50, 2), weights=od_matrix['trips'], color='grey')\n",
    "plt.grid(False)\n",
    "plt.xlabel(f\"Percent Detour (%)\")\n",
    "plt.ylabel(f\"Number of Trips (N = {od_matrix['trips'].sum():,})\")\n",
    "# Add vertical red line at the mean value\n",
    "mean_percent_detour = (od_matrix['percent_detour'] * od_matrix['trips']).sum() / od_matrix['trips'].sum()\n",
    "plt.axvline(mean_percent_detour, color='red', linestyle='dashed', linewidth=1)\n",
    "# Add label for the mean value\n",
    "plt.text(od_matrix['percent_detour'].mean() * 1.5, plt.gca().get_ylim()[1] * 0.9, f\"Mean: {mean_percent_detour:,.1f}% detour\", color='red', ha='left')\n",
    "plt.show()"
   ]
  },
  {
   "cell_type": "code",
   "execution_count": null,
   "metadata": {},
   "outputs": [],
   "source": [
    "percent_detour = od_matrix.groupby('orig_taz').apply(lambda x: (x.percent_detour * x.trips).sum() / x.trips.sum())\n",
    "percent_detour.describe()"
   ]
  },
  {
   "cell_type": "code",
   "execution_count": null,
   "metadata": {},
   "outputs": [],
   "source": [
    "# tazs = gpd.read_file(config['bikewaysim_fp']/'ods.gpkg',layer='trip_origins')\n",
    "tazs = gpd.read_file(config['bikewaysim_fp']/'map_layers.gpkg',layer='taz_polygons')#,mask=studyarea)\n",
    "tazs['percent_detour'] = tazs['tazid'].map(percent_detour)\n",
    "tazs.plot('percent_detour')"
   ]
  },
  {
   "cell_type": "code",
   "execution_count": null,
   "metadata": {},
   "outputs": [],
   "source": [
    "tazs.to_file(config['bikewaysim_fp']/'framework_results.gpkg',layer='percent_detour')"
   ]
  },
  {
   "cell_type": "markdown",
   "metadata": {},
   "source": [
    "## Percent Detour Change Due to Network Improvements (future)"
   ]
  },
  {
   "cell_type": "code",
   "execution_count": null,
   "metadata": {},
   "outputs": [],
   "source": [
    "od_matrix['improved_percent_detour'] = ((od_matrix['future_tt_min'] - od_matrix['shortest_tt_min']) / od_matrix['shortest_tt_min'] * 100)#.round(1)\n",
    "improved_percent_detour = od_matrix.groupby('orig_taz').apply(lambda x: (x.improved_percent_detour * x.trips).sum() / x.trips.sum())\n",
    "improved_percent_detour.describe()"
   ]
  },
  {
   "cell_type": "code",
   "execution_count": null,
   "metadata": {},
   "outputs": [],
   "source": [
    "# tazs['improved_percent_detour'] = tazs['tazid'].map(improved_percent_detour)\n",
    "# tazs['percent_detour_change'] = tazs['improved_percent_detour'] - tazs['percent_detour']\n",
    "# tazs['percent_detour_change'].hist()"
   ]
  },
  {
   "cell_type": "code",
   "execution_count": null,
   "metadata": {},
   "outputs": [],
   "source": [
    "# tazs.to_file(config['bikewaysim_fp']/'framework_results.gpkg',layer='percent_detour')"
   ]
  },
  {
   "cell_type": "markdown",
   "metadata": {},
   "source": [
    "# Link Betweenness Centrality (LBC)\n",
    "We need this to visualize how trips shifted and to detemrine the impedance reduction contribution of each project."
   ]
  },
  {
   "cell_type": "code",
   "execution_count": null,
   "metadata": {},
   "outputs": [],
   "source": [
    "#directed is number of trips by direction, undirected is combined number of trips\n",
    "shortest_undirected_btw_centrality = {key:0 for key in links['linkid'].tolist()}\n",
    "shortest_directed_btw_centrality = {key:0 for key in list(zip(links['linkid'],links['reverse_link']))}\n",
    "current_undirected_btw_centrality = {key:0 for key in links['linkid'].tolist()}\n",
    "current_directed_btw_centrality = {key:0 for key in list(zip(links['linkid'],links['reverse_link']))}\n",
    "future_undirected_btw_centrality = {key:0 for key in links['linkid'].tolist()}\n",
    "future_directed_btw_centrality = {key:0 for key in list(zip(links['linkid'],links['reverse_link']))}\n",
    "\n",
    "dict_keys = list(set.union(set(current_results_dict.keys()),set(future_results_dict.keys())))\n",
    "for od_pair in dict_keys:\n",
    "    #get number of trips for that origin node and destinnation node\n",
    "    o_check = od_matrix['orig_N']==od_pair[0]\n",
    "    d_check = od_matrix['dest_N']==od_pair[1]\n",
    "    num_trips = od_matrix.loc[o_check & d_check,'trips'].sum()\n",
    "    \n",
    "    #retreive the edge list\n",
    "    shortest_modeled_edges = shortest_results_dict.get(od_pair,0)\n",
    "    current_modeled_edges = current_results_dict.get(od_pair,0)\n",
    "    future_modeled_edges = future_results_dict.get(od_pair,0)\n",
    "    \n",
    "    #current\n",
    "    if shortest_modeled_edges != 0:\n",
    "        #retrieve the edge list\n",
    "        shortest_modeled_edges = [tuple(x) for x in shortest_modeled_edges['edge_list']]\n",
    "        #now add the num trips for each edge in the edge list\n",
    "        for edge in shortest_modeled_edges:\n",
    "            shortest_directed_btw_centrality[edge] += num_trips\n",
    "            shortest_undirected_btw_centrality[edge[0]] += num_trips\n",
    "\n",
    "    #current\n",
    "    if current_modeled_edges != 0:\n",
    "        #retrieve the edge list\n",
    "        current_modeled_edges = [tuple(x) for x in current_modeled_edges['edge_list']]\n",
    "        #now add the num trips for each edge in the edge list\n",
    "        for edge in current_modeled_edges:\n",
    "            current_directed_btw_centrality[edge] += num_trips\n",
    "            current_undirected_btw_centrality[edge[0]] += num_trips\n",
    "    #future\n",
    "    if future_modeled_edges != 0:\n",
    "        #retrieve the edge list\n",
    "        future_modeled_edges = [tuple(x) for x in future_modeled_edges['edge_list']]\n",
    "        #now add the num trips for each edge in the edge list\n",
    "        for edge in future_modeled_edges:\n",
    "            future_directed_btw_centrality[edge] += num_trips\n",
    "            future_undirected_btw_centrality[edge[0]] += num_trips\n",
    "\n",
    "#only keep non_zero entries\n",
    "shortest_undirected_btw_centrality = {key:item for key,item in shortest_undirected_btw_centrality.items() if item > 0}\n",
    "shortest_directed_btw_centrality = {key:item for key,item in shortest_directed_btw_centrality.items() if item > 0}\n",
    "current_undirected_btw_centrality = {key:item for key,item in current_undirected_btw_centrality.items() if item > 0}\n",
    "current_directed_btw_centrality = {key:item for key,item in current_directed_btw_centrality.items() if item > 0}\n",
    "future_undirected_btw_centrality = {key:item for key,item in future_undirected_btw_centrality.items() if item > 0}\n",
    "future_directed_btw_centrality = {key:item for key,item in future_directed_btw_centrality.items() if item > 0}            \n",
    "\n",
    "#turn to dataframe\n",
    "# directed btw centrality useful for directed bike facilities\n",
    "df0 = pd.DataFrame.from_dict(shortest_directed_btw_centrality,orient='index',columns=['shortest_btw_centrality'])\n",
    "df1 = pd.DataFrame.from_dict(current_directed_btw_centrality,orient='index',columns=['current_btw_centrality'])\n",
    "df2 = pd.DataFrame.from_dict(future_directed_btw_centrality,orient='index',columns=['future_btw_centrality'])\n",
    "directed_btw_centrality = pd.concat([df0,df1,df2],ignore_index=False,axis=1)\n",
    "directed_btw_centrality.fillna(0,inplace=True)\n",
    "\n",
    "df0 = pd.DataFrame.from_dict(shortest_undirected_btw_centrality,orient='index',columns=['shortest_btw_centrality'])\n",
    "df1 = pd.DataFrame.from_dict(current_undirected_btw_centrality,orient='index',columns=['current_btw_centrality'])\n",
    "df2 = pd.DataFrame.from_dict(future_undirected_btw_centrality,orient='index',columns=['future_btw_centrality'])\n",
    "undirected_btw_centrality = pd.concat([df0,df1,df2],ignore_index=False,axis=1)\n",
    "undirected_btw_centrality.fillna(0,inplace=True)\n",
    "undirected_btw_centrality.reset_index(inplace=True)\n",
    "undirected_btw_centrality.rename(columns={'index':'linkid'},inplace=True)\n",
    "\n",
    "#calculate the change\n",
    "directed_btw_centrality['impedance_change'] = directed_btw_centrality['current_btw_centrality'] - directed_btw_centrality['shortest_btw_centrality']\n",
    "undirected_btw_centrality['impedance_change'] = undirected_btw_centrality['current_btw_centrality'] - undirected_btw_centrality['shortest_btw_centrality']\n",
    "\n",
    "directed_btw_centrality['improvement_change'] = directed_btw_centrality['future_btw_centrality'] - directed_btw_centrality['current_btw_centrality']\n",
    "undirected_btw_centrality['improvement_change'] = undirected_btw_centrality['future_btw_centrality'] - undirected_btw_centrality['current_btw_centrality']\n",
    "\n",
    "#and pct change\n",
    "#undirected_btw_centrality['pct_change'] = undirected_btw_centrality['change'] / undirected_btw_centrality['current_btw_centrality'] * 100\n"
   ]
  },
  {
   "cell_type": "code",
   "execution_count": null,
   "metadata": {},
   "outputs": [],
   "source": [
    "#add geometry data\n",
    "undirected_btw_centrality_gdf = pd.merge(undirected_btw_centrality,undirected_links,on='linkid')\n",
    "undirected_btw_centrality_gdf = gpd.GeoDataFrame(undirected_btw_centrality_gdf,geometry='geometry',crs=config['projected_crs_epsg'])"
   ]
  },
  {
   "cell_type": "markdown",
   "metadata": {},
   "source": [
    "Plot change in LBC going from minimum travel time LBC to impedance LBC (both on current network)"
   ]
  },
  {
   "cell_type": "code",
   "execution_count": null,
   "metadata": {},
   "outputs": [],
   "source": [
    "undirected_btw_centrality_gdf[undirected_btw_centrality_gdf['impedance_change']!=0].plot('impedance_change')"
   ]
  },
  {
   "cell_type": "markdown",
   "metadata": {},
   "source": [
    "Plot change in LBC going from impednace LBC on current network to impedance LBC on future network"
   ]
  },
  {
   "cell_type": "code",
   "execution_count": null,
   "metadata": {},
   "outputs": [],
   "source": [
    "undirected_btw_centrality_gdf[undirected_btw_centrality_gdf['improvement_change']!=0].plot('improvement_change')"
   ]
  },
  {
   "cell_type": "code",
   "execution_count": null,
   "metadata": {},
   "outputs": [],
   "source": [
    "undirected_btw_centrality_gdf.describe()"
   ]
  },
  {
   "cell_type": "markdown",
   "metadata": {},
   "source": [
    "Export GPKGs for visualization in QGIS"
   ]
  },
  {
   "cell_type": "code",
   "execution_count": null,
   "metadata": {},
   "outputs": [],
   "source": [
    "#travel time lbc\n",
    "undirected_btw_centrality_gdf[undirected_btw_centrality_gdf['shortest_btw_centrality']!=0].to_file(config['bikewaysim_fp']/'framework_results.gpkg',layer='lbc_shortest')\n",
    "undirected_btw_centrality_gdf[undirected_btw_centrality_gdf['current_btw_centrality']!=0].to_file(config['bikewaysim_fp']/'framework_results.gpkg',layer='lbc_current')\n",
    "undirected_btw_centrality_gdf[undirected_btw_centrality_gdf['future_btw_centrality']!=0].to_file(config['bikewaysim_fp']/'framework_results.gpkg',layer='lbc_future')\n",
    "\n",
    "undirected_btw_centrality_gdf.to_file(config['bikewaysim_fp']/'framework_results.gpkg',layer='lbc_impedance_change')\n",
    "undirected_btw_centrality_gdf.to_file(config['bikewaysim_fp']/'framework_results.gpkg',layer='lbc_improvement_change')"
   ]
  },
  {
   "cell_type": "markdown",
   "metadata": {},
   "source": [
    "## Impedance Reduction Contribution "
   ]
  },
  {
   "cell_type": "markdown",
   "metadata": {},
   "source": [
    "### Multiply Link Impedance Reduction by Betweenness Centrality for the Improved Links\n",
    "\n",
    "$ Z_{i}=\\frac{\\sum_{l_{a}}{d}}{3} $"
   ]
  },
  {
   "cell_type": "code",
   "execution_count": null,
   "metadata": {},
   "outputs": [],
   "source": []
  },
  {
   "cell_type": "code",
   "execution_count": null,
   "metadata": {},
   "outputs": [],
   "source": [
    "undirected_btw_centrality_gdf['impedance_contribution'] = undirected_btw_centrality_gdf.length * undirected_btw_centrality_gdf['impedance_reduction'] * undirected_btw_centrality_gdf['future_btw_centrality']\n",
    "#undirected_btw_centrality_gdf['length'] = undirected_btw_centrality_gdf.length"
   ]
  },
  {
   "cell_type": "code",
   "execution_count": null,
   "metadata": {},
   "outputs": [],
   "source": [
    "undirected_btw_centrality_gdf.columns"
   ]
  },
  {
   "cell_type": "code",
   "execution_count": null,
   "metadata": {},
   "outputs": [],
   "source": [
    "undirected_btw_centrality_gdf['impedance_contribution'].min()"
   ]
  },
  {
   "cell_type": "code",
   "execution_count": null,
   "metadata": {},
   "outputs": [],
   "source": [
    "#bring in name\n",
    "facility_names = gpd.read_file(config['bicycle_facilities_fp']/'network_modifications.gpkg',layer=config['mod_name'],ignore_geometry=True)\n",
    "facility_names = facility_names[[config['mod_name']+'_id',config['mod_name']+'_name',config['mod_name']+'_facilitytype']]\n",
    "\n",
    "#merge with df\n",
    "impedance_contribution = pd.merge(undirected_btw_centrality_gdf,facility_names,on='coa_id')\n",
    "impedance_contribution = impedance_contribution[['geometry','impedance_contribution', 'length', 'coa_id','coa_name', 'coa_facilitytype']]\n",
    "impedance_contribution = impedance_contribution.dissolve(['coa_id','coa_name','coa_facilitytype'],aggfunc=[np.sum]).sort_values(('impedance_contribution', 'sum')).reset_index()\n",
    "impedance_contribution.columns = ['ID','Name','Facility Type','geometry','Impedance Contribution','Length Ft']\n",
    "impedance_contribution['Impedance Contribution per Foot'] = impedance_contribution['Impedance Contribution'] / impedance_contribution['Length Ft']"
   ]
  },
  {
   "cell_type": "code",
   "execution_count": null,
   "metadata": {},
   "outputs": [],
   "source": [
    "impedance_contribution.sort_values('Impedance Contribution per Foot',inplace=True)\n",
    "impedance_contribution['Impedance Contribution per Foot'] = impedance_contribution['Impedance Contribution per Foot'].abs().round(2)\n",
    "impedance_contribution['Impedance Contribution'] = impedance_contribution['Impedance Contribution'].abs().round(2)\n",
    "impedance_contribution['Length Ft'] = impedance_contribution['Length Ft'].round(0)\n",
    "impedance_contribution.to_file(config['bikewaysim_fp']/'framework_results.gpkg',layer='impedance_contribution')"
   ]
  },
  {
   "cell_type": "code",
   "execution_count": null,
   "metadata": {},
   "outputs": [],
   "source": [
    "impedance_contribution.plot('Impedance Contribution per Foot')"
   ]
  },
  {
   "cell_type": "code",
   "execution_count": null,
   "metadata": {},
   "outputs": [],
   "source": [
    "top_ten = impedance_contribution[impedance_contribution['Length Ft']>100]\n",
    "top_ten = top_ten.iloc[0:10]\n",
    "\n",
    "# manaully type out the descriptive names\n",
    "descriptive_names = [\n",
    "    'Ralph McGill Blvd to North Ave NE',\n",
    "    'MLK Jr Dr SW to Alabama St SW',\n",
    "    'Gilmer St SE to Ralph McGill Blvd',\n",
    "    'MLK Jr Dr SE to North Ave NE',\n",
    "    'North Ave NE to 14th St NE',\n",
    "    'Mitchell St SW to MLK Jr Drive SW',\n",
    "    'Alabama St SW to Walton St NW',\n",
    "    'Memorial Dr SW to Mitchell St SW',\n",
    "    'North Ave NE to 15th St NE',\n",
    "    'Whitehall Terr to RDA Fwy'\n",
    "]\n",
    "top_ten['Segment'] = descriptive_names\n",
    "\n",
    "top_ten.to_file(config['bikewaysim_fp']/'framework_results.gpkg',layer='top_ten_infra')"
   ]
  },
  {
   "cell_type": "code",
   "execution_count": null,
   "metadata": {},
   "outputs": [],
   "source": [
    "#turn to str to add commas\n",
    "top_ten.reset_index(inplace=True)\n",
    "top_ten[['Impedance Contribution','Impedance Contribution per Foot','Length Ft']] = top_ten[['Impedance Contribution','Impedance Contribution per Foot','Length Ft']].applymap(lambda x: f\"{x:,.0f}\")\n",
    "top_ten = top_ten[['Name','Segment','Facility Type','Impedance Contribution per Foot','Impedance Contribution','Length Ft']]\n",
    "top_ten.to_csv(config['bikewaysim_fp']/'impedance_contribution.csv',index=False)"
   ]
  },
  {
   "cell_type": "code",
   "execution_count": null,
   "metadata": {},
   "outputs": [],
   "source": [
    "impedance_contribution.explore(popup=True)"
   ]
  },
  {
   "cell_type": "code",
   "execution_count": null,
   "metadata": {},
   "outputs": [],
   "source": [
    "# bike_facility = undirected_btw_centrality_gdf[undirected_btw_centrality_gdf[f\"{config['mod_name']}_id\"].notna()]\n",
    "# bike_facility_geo = bike_facility.dissolve(f\"{config['mod_name']}_id\")[['geometry']]\n",
    "# impedance_contribution = bike_facility.groupby(f\"{config['mod_name']}_id\")[['impedance_contribution','length']].sum().abs()\n",
    "# impedance_contribution = pd.concat([impedance_contribution,bike_facility_geo],axis=1,ignore_index=False)\n",
    "# impedance_contribution['impedance_contribution_per_ft'] = impedance_contribution['impedance_contribution'] / impedance_contribution['length']\n",
    "# impedance_contribution = gpd.GeoDataFrame(impedance_contribution,crs=config['projected_crs_epsg'])\n",
    "# impedance_contribution.plot('impedance_contribution_per_ft')"
   ]
  },
  {
   "cell_type": "code",
   "execution_count": null,
   "metadata": {},
   "outputs": [],
   "source": []
  },
  {
   "cell_type": "code",
   "execution_count": null,
   "metadata": {},
   "outputs": [],
   "source": []
  },
  {
   "cell_type": "code",
   "execution_count": null,
   "metadata": {},
   "outputs": [],
   "source": [
    "impedance_contribution = impedance_contribution[['impedance_contribution_per_ft','impedance_contribution','length']]\n",
    "impedance_contribution.reset_index(inplace=True)\n",
    "impedance_contribution['impedance_contribution_per_ft'] = impedance_contribution['impedance_contribution_per_ft'].round(2)\n",
    "impedance_contribution['impedance_contribution'] = impedance_contribution['impedance_contribution'].round(2)\n",
    "impedance_contribution['length'] = impedance_contribution['length'].round(0)\n",
    "impedance_contribution.sort_values('impedance_contribution_per_ft',ascending=False,inplace=True)"
   ]
  },
  {
   "cell_type": "markdown",
   "metadata": {},
   "source": [
    "## Unfinished past here"
   ]
  },
  {
   "cell_type": "markdown",
   "metadata": {},
   "source": [
    "Merge improvement with the cycling faciliity geodataframe"
   ]
  },
  {
   "cell_type": "code",
   "execution_count": null,
   "metadata": {},
   "outputs": [],
   "source": [
    "new_facilities = gpd.read_file(config['bicycle_facilities_fp']/'network_modifications.gpkg',layer=config['mod_name'])\n",
    "new_facilities = new_facilities[[f\"{config['mod_name']}_id\",f\"{config['mod_name']}_name\",f\"{config['mod_name']}_osm_type\"]]\n",
    "impedance_contribution = pd.merge(impedance_contribution,new_facilities,on=f\"{config['mod_name']}_id\")\n",
    "#impedance_contribution = impedance_contribution[[f\"{config['mod_name']}_name\",f\"{config['mod_name']}_osm_type\",'impedance_contribution_per_ft','impedance_contribution', 'length']]"
   ]
  },
  {
   "cell_type": "markdown",
   "metadata": {},
   "source": [
    "Format and export csv"
   ]
  },
  {
   "cell_type": "code",
   "execution_count": null,
   "metadata": {},
   "outputs": [],
   "source": [
    "impedance_contribution.head()"
   ]
  },
  {
   "cell_type": "code",
   "execution_count": null,
   "metadata": {},
   "outputs": [],
   "source": [
    "impedance_contribution.to_csv(config['bikewaysim_fp']/'impedance_contribution.csv',index=False)\n",
    "impedance_contribution.head(10)"
   ]
  },
  {
   "cell_type": "code",
   "execution_count": null,
   "metadata": {},
   "outputs": [],
   "source": [
    "impedance_contribution['impedance_contribution_per_ft'] = impedance_contribution['impedance_contribution_per_ft'].astype(int)\n",
    "impedance_contribution['length'] = impedance_contribution['length'].astype(int)\n"
   ]
  },
  {
   "cell_type": "code",
   "execution_count": null,
   "metadata": {},
   "outputs": [],
   "source": [
    "impedance_contribution = bike_facility.groupby(f\"config['mod_id']}\")[['impedance_contribution','length']].sum().abs()\n",
    "#impedance_contribution = (impedance_contribution['impedance_contribution'] / impedance_contribution['length']).sort_values()"
   ]
  },
  {
   "cell_type": "code",
   "execution_count": null,
   "metadata": {},
   "outputs": [],
   "source": [
    "impedance_contribution"
   ]
  },
  {
   "cell_type": "code",
   "execution_count": null,
   "metadata": {},
   "outputs": [],
   "source": [
    "undirected_btw_centrality_gdf['improvement_impedance_reduction'] = undirected_btw_centrality_gdf['config['mod_id']'].map(test)"
   ]
  },
  {
   "cell_type": "code",
   "execution_count": null,
   "metadata": {},
   "outputs": [],
   "source": [
    "undirected_btw_centrality_gdf[undirected_btw_centrality_gdf['config['mod_id']'].notna()].to_file(config['bikewaysim_fp']/'framework_results.gpkg',layer='improvement_impedance_reduction')\n",
    "undirected_btw_centrality_gdf[undirected_btw_centrality_gdf['config['mod_id']'].isna()]"
   ]
  },
  {
   "cell_type": "code",
   "execution_count": null,
   "metadata": {},
   "outputs": [],
   "source": [
    "\n",
    "#import the ones with names too\n",
    "improvements"
   ]
  },
  {
   "cell_type": "code",
   "execution_count": null,
   "metadata": {},
   "outputs": [],
   "source": [
    "improvements[['facility_fwd_new','config['mod_id']']].drop_duplicates()"
   ]
  },
  {
   "cell_type": "code",
   "execution_count": null,
   "metadata": {},
   "outputs": [],
   "source": [
    "test['impedance_reduction'] (undirected_btw_centrality_gdf['future_link_cost'] - undirected_btw_centrality_gdf['current_link_cost'])"
   ]
  },
  {
   "cell_type": "code",
   "execution_count": null,
   "metadata": {},
   "outputs": [],
   "source": [
    "undirected_links"
   ]
  },
  {
   "cell_type": "code",
   "execution_count": null,
   "metadata": {},
   "outputs": [],
   "source": [
    "improvements.head()"
   ]
  },
  {
   "cell_type": "code",
   "execution_count": null,
   "metadata": {},
   "outputs": [],
   "source": [
    "undirected_btw_centrality_gdf.head()"
   ]
  },
  {
   "cell_type": "code",
   "execution_count": null,
   "metadata": {},
   "outputs": [],
   "source": [
    "test = pd.merge(test,facility_ids,on='linkid',how='left')"
   ]
  },
  {
   "cell_type": "code",
   "execution_count": null,
   "metadata": {},
   "outputs": [],
   "source": [
    "test['impedance_change_cont'] = test['counts'] * test['impedance_change']"
   ]
  },
  {
   "cell_type": "code",
   "execution_count": null,
   "metadata": {},
   "outputs": [],
   "source": [
    "#import the coa id back in so that we can aggregate by the faciility\n",
    "facility_ids = gpd.read_file(config['bicycle_facilities_fp']/\"network_improvements.gpkg\",layer='coa')[['config['mod_id']','linkid']]"
   ]
  },
  {
   "cell_type": "code",
   "execution_count": null,
   "metadata": {},
   "outputs": [],
   "source": []
  },
  {
   "cell_type": "code",
   "execution_count": null,
   "metadata": {},
   "outputs": [],
   "source": [
    "result = test[test['impedance_change_cont']>0].groupby(['config['mod_id']','improvement'])['impedance_change_cont'].sum().sort_values(ascending=False)\n",
    "result.reset_index(inplace=True)"
   ]
  },
  {
   "cell_type": "code",
   "execution_count": null,
   "metadata": {},
   "outputs": [],
   "source": [
    "facility_ids = gpd.read_file(config['bicycle_facilities_fp']/\"network_improvements.gpkg\",layer='coa')\n",
    "facility_ids = facility_ids.dissolve('config['mod_id']').reset_index()"
   ]
  },
  {
   "cell_type": "code",
   "execution_count": null,
   "metadata": {},
   "outputs": [],
   "source": [
    "facility_ids = pd.merge(facility_ids,result,on='config['mod_id']')\n",
    "facility_ids.explore('impedance_change_cont')"
   ]
  },
  {
   "cell_type": "code",
   "execution_count": null,
   "metadata": {},
   "outputs": [],
   "source": [
    "results_dict"
   ]
  },
  {
   "cell_type": "code",
   "execution_count": null,
   "metadata": {},
   "outputs": [],
   "source": []
  },
  {
   "cell_type": "code",
   "execution_count": null,
   "metadata": {},
   "outputs": [],
   "source": [
    "#od_matrix['current_impedance'] = \n",
    "results_dict.apply(lambda x: current_results_dict.get((x['origin_N'],),axis=1)"
   ]
  },
  {
   "cell_type": "code",
   "execution_count": null,
   "metadata": {},
   "outputs": [],
   "source": [
    "# find the impedance for each trip"
   ]
  },
  {
   "cell_type": "code",
   "execution_count": null,
   "metadata": {},
   "outputs": [],
   "source": [
    "results_dict[(6846937343, 5416049647)].keys()"
   ]
  },
  {
   "cell_type": "code",
   "execution_count": null,
   "metadata": {},
   "outputs": [],
   "source": [
    "#figure out why this is na\n",
    "pd.Series([item['length'] for key, item in results_dict.items()]).isna().sum()"
   ]
  },
  {
   "cell_type": "code",
   "execution_count": null,
   "metadata": {},
   "outputs": [],
   "source": [
    "pd.Series([item['length'] for key, item in results_dict.items()]).isna().sum()"
   ]
  },
  {
   "cell_type": "code",
   "execution_count": null,
   "metadata": {},
   "outputs": [],
   "source": [
    "len(results_dict)"
   ]
  },
  {
   "cell_type": "code",
   "execution_count": null,
   "metadata": {},
   "outputs": [],
   "source": [
    "# get the results and assigned to ods (store edge sequence in a dict soemwehre)\n",
    "ods.map(results_dict)"
   ]
  },
  {
   "cell_type": "code",
   "execution_count": null,
   "metadata": {},
   "outputs": [],
   "source": []
  },
  {
   "cell_type": "code",
   "execution_count": null,
   "metadata": {},
   "outputs": [],
   "source": [
    "# calculate btwn centrality\n",
    "\n"
   ]
  },
  {
   "cell_type": "code",
   "execution_count": null,
   "metadata": {},
   "outputs": [],
   "source": [
    "# import test case/ base case (think of a better word) network\n",
    "with (config['calibration_fp']/\"calibration_network.pkl\").open('rb') as fh:\n",
    "    links,turns = pickle.load(fh)\n",
    "# import the calibration results\n",
    "with (config['calibration_fp']/\"calibration_results.pkl\").open('rb') as fh:\n",
    "    calibration_results = pickle.load(fh)\n",
    "turn_G = modeling_turns.make_turn_graph(turns)"
   ]
  }
 ],
 "metadata": {
  "kernelspec": {
   "display_name": "Python 3",
   "language": "python",
   "name": "python3"
  },
  "language_info": {
   "codemirror_mode": {
    "name": "ipython",
    "version": 3
   },
   "file_extension": ".py",
   "mimetype": "text/x-python",
   "name": "python",
   "nbconvert_exporter": "python",
   "pygments_lexer": "ipython3",
   "version": "3.9.13"
  }
 },
 "nbformat": 4,
 "nbformat_minor": 2
}

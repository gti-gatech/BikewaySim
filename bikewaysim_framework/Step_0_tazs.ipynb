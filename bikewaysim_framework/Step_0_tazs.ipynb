{
 "cells": [
  {
   "cell_type": "markdown",
   "metadata": {},
   "source": [
    "# Prepare ODs (TAZs)"
   ]
  },
  {
   "cell_type": "code",
   "execution_count": null,
   "metadata": {},
   "outputs": [],
   "source": [
    "import geopandas as gpd\n",
    "import pandas as pd\n",
    "from pathlib import Path\n",
    "import json\n",
    "import pickle\n",
    "\n",
    "import src.bikewaysim_functions as bikewaysim_functions\n",
    "\n",
    "import sys\n",
    "sys.path.insert(0,str(Path.cwd().parent))\n",
    "import file_structure_setup\n",
    "config = file_structure_setup.filepaths()"
   ]
  },
  {
   "cell_type": "code",
   "execution_count": null,
   "metadata": {},
   "outputs": [],
   "source": [
    "taz_fp = Path(\"D:\\RAW\\Atlanta_Regional_Comission\\Model_Traffic_Analysis_Zones_2020.geojson\")\n",
    "trip_fp = [\n",
    "    r\"D:\\RAW\\Atlanta_Regional_Comission\\rtp_amd6_2030_tripData/tripData.csv\",\n",
    "    r\"D:\\RAW\\Atlanta_Regional_Comission\\rtp_amd6_2030_tripData/tripData_1.csv\",\n",
    "    r\"D:\\RAW\\Atlanta_Regional_Comission\\rtp_amd6_2030_tripData/tripData_2.csv\"\n",
    "]\n",
    "\n",
    "outputs = []"
   ]
  },
  {
   "cell_type": "markdown",
   "metadata": {},
   "source": [
    "# Initial Count"
   ]
  },
  {
   "cell_type": "code",
   "execution_count": null,
   "metadata": {},
   "outputs": [],
   "source": [
    "# to get how many tazs\n",
    "all_tazs = gpd.read_file(taz_fp,ignore_geometry=True).shape[0]\n",
    "\n",
    "### Import ARC Trip Data from TIP Amendment Six 2030 Model Run\n",
    "### https://abmfiles.atlantaregional.com/downloads/zPrevious%20Model%20-%20Loaded%20Highway%20Networks%20-%20GIS%20-%20RTP%20Amd%206%20-%202030.zip\n",
    "tripData0 = pd.read_csv(trip_fp[0],usecols=['orig_taz','dest_taz','distance','hh_id','person_id'])\n",
    "tripData1 = pd.read_csv(trip_fp[1],usecols=['orig_taz','dest_taz','distance','hh_id','person_id'])\n",
    "tripData2 = pd.read_csv(trip_fp[2],usecols=['orig_taz','dest_taz','distance','hh_id','person_id'])\n",
    "tripData = pd.concat([tripData0,tripData1,tripData2])\n",
    "del tripData0, tripData1, tripData2\n",
    "\n",
    "outputs.append([\n",
    "    all_tazs,\n",
    "    tripData.groupby(['orig_taz','dest_taz']).ngroups,\n",
    "    tripData.shape[0],\n",
    "    tripData['hh_id'].nunique(),\n",
    "    tripData['person_id'].nunique()\n",
    "])"
   ]
  },
  {
   "cell_type": "markdown",
   "metadata": {},
   "source": [
    "# Within Study Area"
   ]
  },
  {
   "cell_type": "code",
   "execution_count": null,
   "metadata": {},
   "outputs": [],
   "source": [
    "studyarea = gpd.read_file(config['studyarea_fp'])\n",
    "tazs = gpd.read_file(taz_fp,mask=studyarea)[['MTAZ10','geometry']]\n",
    "tazs.rename(columns={'MTAZ10':'tazid'},inplace=True)\n",
    "\n",
    "tripData = tripData[tripData['orig_taz'].isin(tazs['tazid']) & tripData['dest_taz'].isin(tazs['tazid'])]\n",
    "\n",
    "outputs.append([\n",
    "    tazs.shape[0],\n",
    "    tripData.groupby(['orig_taz','dest_taz']).ngroups,\n",
    "    tripData.shape[0],\n",
    "    tripData['hh_id'].nunique(),\n",
    "    tripData['person_id'].nunique()\n",
    "])"
   ]
  },
  {
   "cell_type": "markdown",
   "metadata": {},
   "source": [
    "# Remove if matching distance exceeded 500 feet\n",
    "Euclidean matching distance is less than or equal to 500 feet (~2.5 minutes walking at 2 mph)"
   ]
  },
  {
   "cell_type": "code",
   "execution_count": null,
   "metadata": {},
   "outputs": [],
   "source": [
    "## Snap TAZs to network\n",
    "nodes = gpd.read_file(config['network_fp']/\"final_network.gpkg\",layer=\"nodes\")\n",
    "with (config['calibration_fp']/\"calibration_network.pkl\").open('rb') as fh:\n",
    "    links,turns = pickle.load(fh)\n",
    "del turns\n",
    "nodes0 = links['A'].append(links['B'])\n",
    "nodes = nodes[nodes['N'].isin(nodes0)]\n",
    "tazs = bikewaysim_functions.snap_ods_to_network(tazs,nodes)\n",
    "\n",
    "#filter\n",
    "tazs = tazs[tazs['dist']<=500]\n",
    "tripData = tripData[tripData['orig_taz'].isin(tazs['tazid']) & tripData['dest_taz'].isin(tazs['tazid'])]\n",
    "\n",
    "outputs.append([\n",
    "    tazs.shape[0],\n",
    "    tripData.groupby(['orig_taz','dest_taz']).ngroups,\n",
    "    tripData.shape[0],\n",
    "    tripData['hh_id'].nunique(),\n",
    "    tripData['person_id'].nunique()\n",
    "])"
   ]
  },
  {
   "cell_type": "markdown",
   "metadata": {},
   "source": [
    "# Remove Trips Above 3 Miles\n"
   ]
  },
  {
   "cell_type": "code",
   "execution_count": null,
   "metadata": {},
   "outputs": [],
   "source": [
    "tripData = tripData[tripData['distance'] <= 3]\n",
    "\n",
    "#filter tazs\n",
    "tazs = tazs[tazs['tazid'].isin(tripData['orig_taz']) | tazs['tazid'].isin(tripData['dest_taz'])]\n",
    "\n",
    "outputs.append([\n",
    "    tazs.shape[0],\n",
    "    tripData.groupby(['orig_taz','dest_taz']).ngroups,\n",
    "    tripData.shape[0],\n",
    "    tripData['hh_id'].nunique(),\n",
    "    tripData['person_id'].nunique()\n",
    "])"
   ]
  },
  {
   "cell_type": "markdown",
   "metadata": {},
   "source": [
    "# Remove Intrazonal Trips\n"
   ]
  },
  {
   "cell_type": "code",
   "execution_count": null,
   "metadata": {},
   "outputs": [],
   "source": [
    "tripData = tripData[tripData['orig_taz'] != tripData['dest_taz']]\n",
    "\n",
    "#filter tazs\n",
    "tazs = tazs[tazs['tazid'].isin(tripData['orig_taz']) | tazs['tazid'].isin(tripData['dest_taz'])]\n",
    "\n",
    "outputs.append([\n",
    "    tazs.shape[0],\n",
    "    tripData.groupby(['orig_taz','dest_taz']).ngroups,\n",
    "    tripData.shape[0],\n",
    "    tripData['hh_id'].nunique(),\n",
    "    tripData['person_id'].nunique()\n",
    "])"
   ]
  },
  {
   "cell_type": "code",
   "execution_count": null,
   "metadata": {},
   "outputs": [],
   "source": [
    "#condense tripData\n",
    "tripData = tripData.groupby(['orig_taz','dest_taz']).size().reset_index()\n",
    "tripData.columns = ['orig_taz','dest_taz','trips']"
   ]
  },
  {
   "cell_type": "markdown",
   "metadata": {},
   "source": [
    "# Final Count"
   ]
  },
  {
   "cell_type": "code",
   "execution_count": null,
   "metadata": {},
   "outputs": [],
   "source": [
    "pd.DataFrame(outputs,columns=['Number of TAZs','Number of OD Pairs','Number of Trips','Number of Households','Number of Persons']).iloc[:,-2:]"
   ]
  },
  {
   "cell_type": "markdown",
   "metadata": {},
   "source": [
    "# add snapped nodes to trip data\n"
   ]
  },
  {
   "cell_type": "code",
   "execution_count": null,
   "metadata": {},
   "outputs": [],
   "source": [
    "snapped_ods = dict(zip(tazs['tazid'],tazs['N']))\n",
    "tripData['orig_N'] = tripData['orig_taz'].map(snapped_ods)\n",
    "tripData['dest_N'] = tripData['dest_taz'].map(snapped_ods)"
   ]
  },
  {
   "cell_type": "markdown",
   "metadata": {},
   "source": [
    "Create trips per origin/destination visual"
   ]
  },
  {
   "cell_type": "code",
   "execution_count": null,
   "metadata": {},
   "outputs": [],
   "source": [
    "# trip_origins_per_taz = tripData.groupby('orig_taz')['trips'].sum().reset_index()\n",
    "# trip_origins_per_taz.columns = ['tazid','trip_origins']\n",
    "# trip_destinations_per_taz = tripData.groupby('dest_taz')['trips'].sum().reset_index()\n",
    "# trip_destinations_per_taz.columns = ['tazid','trip_destinations']\n",
    "\n",
    "# trips_per_taz = tazs.copy()\n",
    "# trips_per_taz = trips_per_taz.merge(trip_origins_per_taz,on='tazid',how='left')\n",
    "# trips_per_taz = trips_per_taz.merge(trip_destinations_per_taz,on='tazid',how='left')\n",
    "# trips_per_taz['both'] = trips_per_taz['trip_origins'] + trips_per_taz['trip_destinations']\n",
    "# trips_per_taz.fillna(0,inplace=True)\n",
    "# ax = trips_per_taz.plot('both',cmap='YlGnBu',edgecolor='grey')\n",
    "# plt.axis('off')\n",
    "# plt.show()"
   ]
  },
  {
   "cell_type": "code",
   "execution_count": null,
   "metadata": {},
   "outputs": [],
   "source": [
    "trip_origins_per_taz = tripData.groupby('orig_taz')['trips'].sum().reset_index()\n",
    "trip_origins_per_taz.columns = ['tazid','trip_origins']\n",
    "trip_origins_per_taz = tazs.merge(trip_origins_per_taz,on='tazid')\n",
    "trip_origins_per_taz.plot('trip_origins')\n",
    "trip_origins_per_taz.to_file(config['bikewaysim_fp']/'ods.gpkg',layer='trip_origins')"
   ]
  },
  {
   "cell_type": "code",
   "execution_count": null,
   "metadata": {},
   "outputs": [],
   "source": [
    "import matplotlib.pyplot as plt\n",
    "plt.rcParams['font.family'] = 'Times New Roman'\n",
    "plt.hist(trip_origins_per_taz['trip_origins'], bins=range(0, 50000, 1000), color='grey')\n",
    "plt.grid(False)\n",
    "plt.xlabel(f\"Trip Origins Per TAZ (N = {trip_origins_per_taz['trip_origins'].sum():,})\")\n",
    "plt.ylabel(f\"Number of TAZs (N = {trip_origins_per_taz.shape[0]:,})\")\n",
    "# Add vertical red line at the mean value\n",
    "plt.axvline(trip_origins_per_taz['trip_origins'].mean(), color='red', linestyle='dashed', linewidth=1)\n",
    "# Add label for the mean value\n",
    "plt.text(trip_origins_per_taz['trip_origins'].mean() * 1.5, plt.gca().get_ylim()[1] * 0.9, f\"Mean: {trip_origins_per_taz['trip_origins'].mean():,.0f} origins\", color='red', ha='left')\n",
    "plt.show()"
   ]
  },
  {
   "cell_type": "code",
   "execution_count": null,
   "metadata": {},
   "outputs": [],
   "source": [
    "trip_origins_per_taz['trip_origins'].mean()"
   ]
  },
  {
   "cell_type": "code",
   "execution_count": null,
   "metadata": {},
   "outputs": [],
   "source": [
    "import pandas as pd\n",
    "import matplotlib.pyplot as plt\n",
    "\n",
    "# Example DataFrame\n",
    "trip_origins_per_taz = pd.DataFrame({'trip_origins': [10000, 20000, 15000, 5000, 25000]})\n",
    "\n",
    "# Set the font to Times New Roman\n",
    "plt.rcParams['font.family'] = 'Times New Roman'\n",
    "\n",
    "# Create histogram\n",
    "plt.hist(trip_origins_per_taz['trip_origins'], bins=range(0, 50000, 2000), color='grey')\n",
    "\n",
    "# Remove grid lines\n",
    "plt.grid(False)\n",
    "\n",
    "# Calculate the sum of trip origins with comma formatting\n",
    "total_trip_origins = f\"{trip_origins_per_taz['trip_origins'].sum():,}\"\n",
    "\n",
    "# Add axis labels with formatted number\n",
    "plt.xlabel(f\"Trip Origins Per TAZ (N = {total_trip_origins})\")\n",
    "plt.ylabel('Frequency')\n",
    "\n",
    "# Calculate the mean value\n",
    "mean_value = trip_origins_per_taz['trip_origins'].mean()\n",
    "\n",
    "# Add vertical red line at the mean value\n",
    "plt.axvline(mean_value, color='red', linestyle='dashed', linewidth=1)\n",
    "\n",
    "# Add label for the mean value\n",
    "plt.text(mean_value, plt.gca().get_ylim()[1] * 0.9, f'Mean: {mean_value:,.0f}', color='red', ha='center')\n",
    "\n",
    "# Show plot\n",
    "plt.show()\n"
   ]
  },
  {
   "cell_type": "code",
   "execution_count": null,
   "metadata": {},
   "outputs": [],
   "source": [
    "# trip_destinations_per_taz = tripData.groupby('dest_taz')['trips'].sum().reset_index()\n",
    "# trip_destinations_per_taz.columns = ['tazid','trip_destinations']\n",
    "# trip_destinations_per_taz = tazs.merge(trip_destinations_per_taz,on='tazid')\n",
    "# trip_destinations_per_taz.plot('trip_destinations')"
   ]
  },
  {
   "cell_type": "markdown",
   "metadata": {},
   "source": [
    "## Get the TAZs within the study area that were filtered out or had zero trips"
   ]
  },
  {
   "cell_type": "code",
   "execution_count": null,
   "metadata": {},
   "outputs": [],
   "source": [
    "studyarea = gpd.read_file(config['studyarea_fp'])\n",
    "tazs0 = gpd.read_file(taz_fp,mask=studyarea)[['MTAZ10','geometry']]\n",
    "tazs0.rename(columns={'MTAZ10':'tazid'},inplace=True)\n",
    "\n",
    "tazs0 = tazs0[tazs0['tazid'].isin(tazs['tazid'])==False]\n",
    "tazs0.plot()\n",
    "\n",
    "tazs0.to_file(config['bikewaysim_fp']/'ods.gpkg',layer='filtered_out_or_zero')"
   ]
  },
  {
   "cell_type": "code",
   "execution_count": null,
   "metadata": {},
   "outputs": [],
   "source": [
    "# # trip origins per TAZ\n",
    "\n",
    "# #export the taz areas\n",
    "# tazs.to_crs(config['projected_crs_epsg']).to_file(config['bikewaysim_fp']/'map_layers.gpkg',layer='taz_polygons')\n",
    "# #export the taz centroids\n",
    "# taz_centroids = tazs.copy().to_crs(config['projected_crs_epsg'])\n",
    "# taz_centroids.geometry = taz_centroids.geometry.centroid\n",
    "# taz_centroids.to_crs(config['projected_crs_epsg']).to_file(config['bikewaysim_fp']/'map_layers.gpkg',layer='taz_centroids')"
   ]
  },
  {
   "cell_type": "code",
   "execution_count": null,
   "metadata": {},
   "outputs": [],
   "source": [
    "#export\n",
    "tripData.to_csv(config['bikewaysim_fp']/'od_matrix.csv',index=False)"
   ]
  },
  {
   "cell_type": "markdown",
   "metadata": {},
   "source": [
    "## Exploration Past Here"
   ]
  },
  {
   "cell_type": "code",
   "execution_count": null,
   "metadata": {},
   "outputs": [],
   "source": [
    "tripData0 = pd.read_csv(trip_fp[0])"
   ]
  },
  {
   "cell_type": "code",
   "execution_count": null,
   "metadata": {},
   "outputs": [],
   "source": [
    "tripData0[['hh_id','person_id']].nunique()"
   ]
  },
  {
   "cell_type": "code",
   "execution_count": null,
   "metadata": {},
   "outputs": [],
   "source": [
    "tripData0['trip_mode'].value_counts()"
   ]
  },
  {
   "cell_type": "code",
   "execution_count": null,
   "metadata": {},
   "outputs": [],
   "source": [
    "tripData0.groupby('hh_id')['person_id'].nunique().value_counts()"
   ]
  },
  {
   "cell_type": "code",
   "execution_count": null,
   "metadata": {},
   "outputs": [],
   "source": [
    "tripData0[tripData0['person_num']>4].sort_values('hh_id').head(20)"
   ]
  },
  {
   "cell_type": "code",
   "execution_count": null,
   "metadata": {},
   "outputs": [],
   "source": [
    "tripData0.groupby('person_id')['tour_id'].nunique().value_counts()"
   ]
  },
  {
   "cell_type": "code",
   "execution_count": null,
   "metadata": {},
   "outputs": [],
   "source": [
    "tripData0.columns"
   ]
  },
  {
   "cell_type": "code",
   "execution_count": null,
   "metadata": {},
   "outputs": [],
   "source": [
    "# tazs.to_file(config['bikewaysim_fp']/'ods.gpkg',layer='tazs')\n"
   ]
  }
 ],
 "metadata": {
  "kernelspec": {
   "display_name": "Python 3",
   "language": "python",
   "name": "python3"
  },
  "language_info": {
   "codemirror_mode": {
    "name": "ipython",
    "version": 3
   },
   "file_extension": ".py",
   "mimetype": "text/x-python",
   "name": "python",
   "nbconvert_exporter": "python",
   "pygments_lexer": "ipython3",
   "version": "3.9.13"
  }
 },
 "nbformat": 4,
 "nbformat_minor": 2
}

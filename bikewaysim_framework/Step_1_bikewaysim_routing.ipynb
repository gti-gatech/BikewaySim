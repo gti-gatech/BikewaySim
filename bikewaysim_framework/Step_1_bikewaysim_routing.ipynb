{
 "cells": [
  {
   "cell_type": "markdown",
   "metadata": {},
   "source": [
    "# BikewaySim Routing"
   ]
  },
  {
   "cell_type": "code",
   "execution_count": null,
   "metadata": {},
   "outputs": [],
   "source": [
    "import sys\n",
    "from pathlib import Path\n",
    "import pickle\n",
    "import pandas as pd\n",
    "import geopandas as gpd\n",
    "\n",
    "import src.bikewaysim_functions as bikewaysim_functions\n",
    "\n",
    "import sys\n",
    "sys.path.insert(0,str(Path.cwd().parent))\n",
    "import file_structure_setup\n",
    "config = file_structure_setup.filepaths()\n",
    "\n",
    "import impedance_calibration.stochastic_optimization as stochastic_optimization\n",
    "from network.src import modeling_turns\n"
   ]
  },
  {
   "cell_type": "markdown",
   "metadata": {},
   "source": [
    "# Import ODs"
   ]
  },
  {
   "cell_type": "code",
   "execution_count": null,
   "metadata": {},
   "outputs": [],
   "source": [
    "# import matched ODS (i.e. already have the correct network nodes)\n",
    "od_matrix = pd.read_csv(config['bikewaysim_fp']/'od_matrix.csv')\n",
    "od_matrix\n"
   ]
  },
  {
   "cell_type": "code",
   "execution_count": null,
   "metadata": {},
   "outputs": [],
   "source": [
    "ods = list(set(zip(od_matrix['orig_N'],od_matrix['dest_N'])))\n"
   ]
  },
  {
   "cell_type": "markdown",
   "metadata": {},
   "source": [
    "# Select Calibration Results to Get Coefficients"
   ]
  },
  {
   "cell_type": "code",
   "execution_count": null,
   "metadata": {},
   "outputs": [],
   "source": [
    "#set calibration results\n",
    "if bool(config['use_default_calibration']) == True:\n",
    "    #calibration_result = calibration_results[-1]\n",
    "    betas = [-0.184, -0.398, 0.126, 0.325, 0.324]#list(calibration_result.values())[0:-3]\n",
    "    betas_links = {0:'multi use path',1:'bike lane',2:'lanes',3:'above_4'}\n",
    "    betas_turns = {4:'unsig_major_road_crossing'}\n",
    "else:\n",
    "    # import the calibration results\n",
    "    with (config['calibration_fp']/\"calibration_results.pkl\").open('rb') as fh:\n",
    "        calibration_results = pickle.load(fh)\n",
    "\n",
    "    #BUG saved calibration coefficients are wrong\n",
    "    calibration_result = calibration_results[-1]\n",
    "    betas = [-0.184, -0.398, 0.126, 0.325, 0.324]#list(calibration_result.values())[0:-3]\n",
    "    betas_links = calibration_result['beta_links']\n",
    "    betas_turns = calibration_result['beta_turns']\n",
    "    "
   ]
  },
  {
   "cell_type": "markdown",
   "metadata": {},
   "source": [
    "# Import Network"
   ]
  },
  {
   "cell_type": "code",
   "execution_count": null,
   "metadata": {},
   "outputs": [],
   "source": [
    "# import test case/ base case (think of a better word) network\n",
    "with (config['calibration_fp']/\"calibration_network.pkl\").open('rb') as fh:\n",
    "    links,turns = pickle.load(fh)\n",
    "\n",
    "turn_G = modeling_turns.make_turn_graph(turns)"
   ]
  },
  {
   "cell_type": "markdown",
   "metadata": {},
   "source": [
    "## Process the improvements"
   ]
  },
  {
   "cell_type": "code",
   "execution_count": null,
   "metadata": {},
   "outputs": [],
   "source": [
    "#remove improvements that aren't improvements\n",
    "links.loc[links['facility_fwd']==links['improvement'],'improvement'] = None\n",
    "# links.loc[links['improvement'].notna(),['facility_fwd','improvement']]\n",
    "\n",
    "#change cycletracks to multi use paths for now\n",
    "#TODO flip the order\n",
    "change_infra = {\n",
    "    'buffered bike lane': 'bike lane',\n",
    "    'cycletrack': 'multi use path'\n",
    "}\n",
    "links['improvement'] = links['improvement'].apply(lambda x: change_infra.get(x,x))\n",
    "links['facility_fwd'] = links['facility_fwd'].apply(lambda x: change_infra.get(x,x))\n",
    "\n",
    "#combine facilities into one\n",
    "import numpy as np\n",
    "links['facility_fwd_new'] = np.where(links['improvement'].notna(),links['improvement'],links['facility_fwd'])"
   ]
  },
  {
   "cell_type": "code",
   "execution_count": null,
   "metadata": {},
   "outputs": [],
   "source": [
    "links[links['facility_fwd_new'].notna()].plot()"
   ]
  },
  {
   "cell_type": "code",
   "execution_count": null,
   "metadata": {},
   "outputs": [],
   "source": [
    "#TODO fix this by modifying network modifications step 3\n",
    "facility_ids = gpd.read_file(config['bicycle_facilities_fp']/\"network_improvements.gpkg\",layer=config['mod_name'],ignore_geometry=True)\n",
    "facility_ids.rename(columns={'osm_linkid':'linkid'},inplace=True)"
   ]
  },
  {
   "cell_type": "code",
   "execution_count": null,
   "metadata": {},
   "outputs": [],
   "source": [
    "#import the coa id back in so that we can aggregate by the faciility\n",
    "#facility_ids = gpd.read_file(config['bicycle_facilities_fp']/\"network_improvements.gpkg\",layer=config['improvement_name'])[[f\"{config['improvement_name']}_id\",'linkid']]\n",
    "improvements = links.loc[links['improvement'].notna()].copy()\n",
    "improvements = pd.merge(improvements[['linkid','facility_fwd_new','geometry']],facility_ids,on='linkid')\n",
    "improvements.to_file(config['bikewaysim_fp']/'framework_results.gpkg',layer='improvements')"
   ]
  },
  {
   "cell_type": "code",
   "execution_count": null,
   "metadata": {},
   "outputs": [],
   "source": [
    "improvements_buffer = improvements.copy()\n",
    "improvements_buffer.geometry = improvements_buffer.buffer(400)\n",
    "improvements_buffer = improvements_buffer.dissolve([f\"{config['mod_name']}_id\",'facility_fwd_new']).reset_index()\n",
    "improvements_buffer.to_file(config['bikewaysim_fp']/'framework_results.gpkg',layer='improvements_buffer')"
   ]
  },
  {
   "cell_type": "markdown",
   "metadata": {},
   "source": [
    "# Travel Time Routing"
   ]
  },
  {
   "cell_type": "code",
   "execution_count": null,
   "metadata": {},
   "outputs": [],
   "source": [
    "from importlib import reload\n",
    "reload(stochastic_optimization)\n",
    "\n",
    "# run impedance routing on all the provided ODs 170 mins\n",
    "base_impedance_col = \"travel_time_min\"\n",
    "stochastic_optimization.back_to_base_impedance(base_impedance_col,links,turns,turn_G)\n"
   ]
  },
  {
   "cell_type": "code",
   "execution_count": null,
   "metadata": {},
   "outputs": [],
   "source": [
    "# results_dict = {(start_node,end_node):stochastic_optimization.impedance_path(turns,turn_G,links,start_node,end_node) for start_node, end_node in ods}\n",
    "# with (config['bikewaysim_fp']/\"current_shortest_results.pkl\").open('wb') as fh:\n",
    "#     pickle.dump(results_dict,fh)"
   ]
  },
  {
   "cell_type": "markdown",
   "metadata": {},
   "source": [
    "# Shortest Path Routing\n"
   ]
  },
  {
   "cell_type": "code",
   "execution_count": null,
   "metadata": {},
   "outputs": [],
   "source": [
    "# create the neccessary attributes for impednaces\n",
    "links['bike lane'] = (links['facility_fwd'] == 'bike lane').astype(int)\n",
    "links['multi use path'] = (links['facility_fwd'] == 'multi use path').astype(int)\n",
    "links.loc[links['multi use path']==1,'lanes'] = 0"
   ]
  },
  {
   "cell_type": "code",
   "execution_count": null,
   "metadata": {},
   "outputs": [],
   "source": [
    "from importlib import reload\n",
    "reload(stochastic_optimization)\n",
    " \n",
    "# run impedance routing on all the provided ODs\n",
    "base_impedance_col = \"travel_time_min\"\n",
    "stochastic_optimization.back_to_base_impedance(base_impedance_col,links,turns,turn_G)\n",
    "\n",
    "#update impedances\n",
    "print(betas)\n",
    "stochastic_optimization.impedance_update(betas,betas_links,betas_turns,\n",
    "                          stochastic_optimization.link_impedance_function,\n",
    "                          base_impedance_col,\n",
    "                          stochastic_optimization.turn_impedance_function,\n",
    "                          links,turns,turn_G)\n",
    "current_links = links.copy()"
   ]
  },
  {
   "cell_type": "code",
   "execution_count": null,
   "metadata": {},
   "outputs": [],
   "source": [
    "#export the current network\n",
    "current_links[['linkid','reverse_link']+list(betas_links.values())+['travel_time_min','multiplier','link_cost','geometry']].to_file(config['bikewaysim_fp']/'framework_results.gpkg',layer='current_network')"
   ]
  },
  {
   "cell_type": "code",
   "execution_count": null,
   "metadata": {},
   "outputs": [],
   "source": [
    "# #170 minutes\n",
    "# results_dict = {(start_node,end_node):stochastic_optimization.impedance_path(turns,turn_G,links,start_node,end_node) for start_node, end_node in ods}\n",
    "\n",
    "# with (config['bikewaysim_fp']/\"current_results.pkl\").open('wb') as fh:\n",
    "#     pickle.dump(results_dict,fh)\n"
   ]
  },
  {
   "cell_type": "markdown",
   "metadata": {},
   "source": [
    "# Repeat with Network Improvements\n"
   ]
  },
  {
   "cell_type": "code",
   "execution_count": null,
   "metadata": {},
   "outputs": [],
   "source": [
    "#update the bike lane, multi use path, and lanes attributes\n",
    "links['bike lane'] = (links['facility_fwd_new']=='bike lane').astype(int)\n",
    "links['multi use path'] = (links['facility_fwd_new']=='multi use path').astype(int)\n",
    "\n",
    "#for multiuse paths, make sure to set the lanes attribute to zero\n",
    "links.loc[links['multi use path']==1,'lanes'] = 0"
   ]
  },
  {
   "cell_type": "code",
   "execution_count": null,
   "metadata": {},
   "outputs": [],
   "source": [
    "from importlib import reload\n",
    "reload(stochastic_optimization)\n",
    "\n",
    "# run impedance routing on all the provided ODs\n",
    "base_impedance_col = \"travel_time_min\"\n",
    "stochastic_optimization.back_to_base_impedance(base_impedance_col,links,turns,turn_G)\n",
    "\n",
    "#update impedances\n",
    "#betas = #past_betas[np.array(past_vals).argmin()]#x.x\n",
    "print(betas)\n",
    "stochastic_optimization.impedance_update(betas,betas_links,betas_turns,\n",
    "                          stochastic_optimization.link_impedance_function,\n",
    "                          base_impedance_col,\n",
    "                          stochastic_optimization.turn_impedance_function,\n",
    "                          links,turns,turn_G)\n",
    "future_links = links.copy()\n"
   ]
  },
  {
   "cell_type": "code",
   "execution_count": null,
   "metadata": {},
   "outputs": [],
   "source": [
    "#export the current network\n",
    "future_links[['linkid','reverse_link']+list(betas_links.values())+['travel_time_min','multiplier','link_cost','geometry']].to_file(config['bikewaysim_fp']/'framework_results.gpkg',layer='future_network')"
   ]
  },
  {
   "cell_type": "code",
   "execution_count": null,
   "metadata": {},
   "outputs": [],
   "source": [
    "# results_dict = {(start_node,end_node):stochastic_optimization.impedance_path(turns,turn_G,links,start_node,end_node) for start_node, end_node in ods}\n",
    "# with (config['bikewaysim_fp']/\"future_results.pkl\").open('wb') as fh:\n",
    "#     pickle.dump(results_dict,fh)"
   ]
  },
  {
   "cell_type": "code",
   "execution_count": null,
   "metadata": {},
   "outputs": [],
   "source": [
    "\n"
   ]
  }
 ],
 "metadata": {
  "kernelspec": {
   "display_name": "Python 3",
   "language": "python",
   "name": "python3"
  },
  "language_info": {
   "codemirror_mode": {
    "name": "ipython",
    "version": 3
   },
   "file_extension": ".py",
   "mimetype": "text/x-python",
   "name": "python",
   "nbconvert_exporter": "python",
   "pygments_lexer": "ipython3",
   "version": "3.9.13"
  }
 },
 "nbformat": 4,
 "nbformat_minor": 2
}

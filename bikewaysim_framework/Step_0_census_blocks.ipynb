{
 "cells": [
  {
   "cell_type": "markdown",
   "metadata": {},
   "source": [
    "# Prepare Census Block OD Data"
   ]
  },
  {
   "cell_type": "code",
   "execution_count": null,
   "metadata": {},
   "outputs": [],
   "source": [
    "import geopandas as gpd\n",
    "import pandas as pd\n",
    "from pathlib import Path\n",
    "import json\n",
    "import requests\n",
    "import pickle\n",
    "\n",
    "import src.bikewaysim_functions as bikewaysim_functions\n",
    "\n",
    "import sys\n",
    "sys.path.insert(0,str(Path.cwd().parent))\n",
    "import file_structure_setup\n",
    "config = file_structure_setup.filepaths()"
   ]
  },
  {
   "cell_type": "markdown",
   "metadata": {},
   "source": [
    "# Retrieve LODES7 data"
   ]
  },
  {
   "cell_type": "code",
   "execution_count": null,
   "metadata": {},
   "outputs": [],
   "source": [
    "state_two_letter = \"ga\"\n",
    "YYYY = 2010\n",
    "lodes_url_base = f\"https://lehd.ces.census.gov/data/lodes/LODES7/{state_two_letter}/od/{state_two_letter}_od_main_JT00_{YYYY}.csv.gz\"\n",
    "lodes = pd.read_csv(lodes_url_base)\n",
    "\n",
    "#processs df\n",
    "rename_dict = {\n",
    "    'w_geocode':'work_blockid',\n",
    "    'h_geocode':'home_blockid',\n",
    "    'S000': 'total_jobs'  \n",
    "}\n",
    "lodes.rename(columns=rename_dict, inplace=True)\n",
    "lodes = lodes[['work_blockid','home_blockid','total_jobs']]\n"
   ]
  },
  {
   "cell_type": "markdown",
   "metadata": {},
   "source": [
    "# Census Blocks"
   ]
  },
  {
   "cell_type": "code",
   "execution_count": null,
   "metadata": {},
   "outputs": [],
   "source": [
    "#study area for masking blocks\n",
    "studyarea = gpd.read_file(config['studyarea_fp'])#.to_crs(config['projected_crs_epsg'])\n",
    "studyarea = studyarea.unary_union.envelope"
   ]
  },
  {
   "cell_type": "code",
   "execution_count": null,
   "metadata": {},
   "outputs": [],
   "source": [
    "#bring in census blocks (get from https://www.census.gov/cgi-bin/geo/shapefiles/index.php)\n",
    "#TODO script downloading the blocks\n",
    "blocks = gpd.read_file(\"/Users/tannerpassmore/Documents/BikewaySim/Savannah/OD Creation/tl_2010_13_tabblock10.shp\",mask=studyarea).to_crs(config['projected_crs_epsg'])\n",
    "blocks.rename(columns={'GEOID10':'blockid'},inplace=True)\n",
    "blocks = blocks[['blockid','geometry']]"
   ]
  },
  {
   "cell_type": "markdown",
   "metadata": {},
   "source": [
    "# Data Wrangling"
   ]
  },
  {
   "cell_type": "code",
   "execution_count": null,
   "metadata": {},
   "outputs": [],
   "source": [
    "#make sure type are the same\n",
    "lodes['work_blockid'] = lodes['work_blockid'].astype(int)\n",
    "lodes['home_blockid'] = lodes['home_blockid'].astype(int)\n",
    "blocks['blockid'] = blocks['blockid'].astype(int)"
   ]
  },
  {
   "cell_type": "code",
   "execution_count": null,
   "metadata": {},
   "outputs": [],
   "source": [
    "#filter lodes data\n",
    "print('lodes:',lodes.shape[0],'blocks:',blocks.shape[0])\n",
    "lodes = lodes[lodes['work_blockid'].isin(blocks['blockid']) & lodes['home_blockid'].isin(blocks['blockid'])]\n",
    "blocks = blocks[blocks['blockid'].isin(lodes['work_blockid']) | blocks['blockid'].isin(lodes['home_blockid'])]\n",
    "print('lodes:',lodes.shape[0],'blocks:',blocks.shape[0])"
   ]
  },
  {
   "cell_type": "markdown",
   "metadata": {},
   "source": [
    "Only 3 mile trips"
   ]
  },
  {
   "cell_type": "code",
   "execution_count": null,
   "metadata": {},
   "outputs": [],
   "source": [
    "block_geo = dict(zip(blocks['blockid'],blocks['geometry'].centroid))\n",
    "home = gpd.GeoSeries(lodes['home_blockid'].map(block_geo),crs=blocks.crs)\n",
    "work = gpd.GeoSeries(lodes['work_blockid'].map(block_geo),crs=blocks.crs)\n",
    "lodes = lodes[home.distance(work) <= 3 * 5280]"
   ]
  },
  {
   "cell_type": "code",
   "execution_count": null,
   "metadata": {},
   "outputs": [],
   "source": [
    "#rename to make it easier to work with teh code for tazs\n",
    "#assume home is the origin\n",
    "lodes.columns = ['dest_taz','orig_taz','trips']\n",
    "blocks.columns = ['tazid','geometry']"
   ]
  },
  {
   "cell_type": "markdown",
   "metadata": {},
   "source": [
    "# Snap to network"
   ]
  },
  {
   "cell_type": "code",
   "execution_count": null,
   "metadata": {},
   "outputs": [],
   "source": [
    "# import network nodes\n",
    "nodes = gpd.read_file(config['network_fp']/\"final_network.gpkg\",layer=\"nodes\")\n",
    "\n",
    "with (config['calibration_fp']/\"calibration_network.pkl\").open('rb') as fh:\n",
    "    links,turns = pickle.load(fh)\n",
    "del turns\n",
    "\n",
    "nodes0 = links['A'].append(links['B'])\n",
    "nodes = nodes[nodes['N'].isin(nodes0)]"
   ]
  },
  {
   "cell_type": "code",
   "execution_count": null,
   "metadata": {},
   "outputs": [],
   "source": [
    "blocks = bikewaysim_functions.snap_ods_to_network(blocks,nodes)\n",
    "\n",
    "#knock out if over 1000 feet\n",
    "blocks = blocks[blocks['dist']<=500]"
   ]
  },
  {
   "cell_type": "code",
   "execution_count": null,
   "metadata": {},
   "outputs": [],
   "source": [
    "snapped_ods = dict(zip(blocks['tazid'],blocks['N']))\n",
    "lodes['orig_N'] = lodes['orig_taz'].map(snapped_ods)\n",
    "lodes['dest_N'] = lodes['dest_taz'].map(snapped_ods)"
   ]
  },
  {
   "cell_type": "code",
   "execution_count": null,
   "metadata": {},
   "outputs": [],
   "source": [
    "lodes.dropna(inplace=True)"
   ]
  },
  {
   "cell_type": "code",
   "execution_count": null,
   "metadata": {},
   "outputs": [],
   "source": [
    "trip_origins_per_taz = lodes.groupby('orig_taz')['trips'].sum().reset_index()\n",
    "trip_origins_per_taz.columns = ['tazid','trip_origins']"
   ]
  },
  {
   "cell_type": "code",
   "execution_count": null,
   "metadata": {},
   "outputs": [],
   "source": [
    "# no trips\n",
    "no_trips = blocks[blocks['tazid'].isin(trip_origins_per_taz['tazid'])==False]\n",
    "no_trips"
   ]
  },
  {
   "cell_type": "code",
   "execution_count": null,
   "metadata": {},
   "outputs": [],
   "source": [
    "blocks = blocks.merge(trip_origins_per_taz,on='tazid')"
   ]
  },
  {
   "cell_type": "code",
   "execution_count": null,
   "metadata": {},
   "outputs": [],
   "source": [
    "blocks.to_file(config['bikewaysim_fp']/'ods.gpkg',layer='trip_origins')"
   ]
  },
  {
   "cell_type": "code",
   "execution_count": null,
   "metadata": {},
   "outputs": [],
   "source": [
    "# trip origins per TAZ\n",
    "#export the taz areas\n",
    "blocks.to_crs(config['projected_crs_epsg']).to_file(config['bikewaysim_fp']/'map_layers.gpkg',layer='taz_polygons')\n",
    "#export the taz centroids\n",
    "taz_centroids = blocks.copy().to_crs(config['projected_crs_epsg'])\n",
    "taz_centroids.geometry = taz_centroids.geometry.centroid\n",
    "taz_centroids.to_crs(config['projected_crs_epsg']).to_file(config['bikewaysim_fp']/'map_layers.gpkg',layer='taz_centroids')"
   ]
  },
  {
   "cell_type": "code",
   "execution_count": null,
   "metadata": {},
   "outputs": [],
   "source": [
    "studyarea = gpd.read_file(config['studyarea_fp'])\n",
    "blocks0 = gpd.read_file(\"/Users/tannerpassmore/Documents/BikewaySim/Savannah/OD Creation/tl_2010_13_tabblock10.shp\",mask=studyarea).to_crs(config['projected_crs_epsg'])\n",
    "blocks0.rename(columns={'GEOID10':'tazid'},inplace=True)\n",
    "blocks0['tazid'] = blocks0['tazid'].astype(int)\n",
    "blocks0 = blocks0[['tazid','geometry']]\n",
    "blocks0 = blocks0[blocks0['tazid'].isin(blocks['tazid'])==False]\n",
    "blocks0.plot()"
   ]
  },
  {
   "cell_type": "code",
   "execution_count": null,
   "metadata": {},
   "outputs": [],
   "source": [
    "blocks0.to_file(config['bikewaysim_fp']/'ods.gpkg',layer='filtered_out_or_zero')"
   ]
  },
  {
   "cell_type": "markdown",
   "metadata": {},
   "source": [
    "# Export"
   ]
  },
  {
   "cell_type": "code",
   "execution_count": null,
   "metadata": {},
   "outputs": [],
   "source": [
    "print(lodes['trips'].sum(),'trips across',lodes.shape[0],'unique OD pairs')#,tripData['hh_id'].nunique(),'persons')\n",
    "print('and',blocks.shape[0],'census blocks')"
   ]
  },
  {
   "cell_type": "code",
   "execution_count": null,
   "metadata": {},
   "outputs": [],
   "source": [
    "# #export the taz areas\n",
    "# blocks.to_file(config['bikewaysim_fp']/'map_layers.gpkg',layer='block_polygons')\n",
    "\n",
    "# #export the taz centroids\n",
    "# blocks_centroids = blocks.copy()\n",
    "# blocks_centroids.geometry = blocks_centroids.geometry.centroid\n",
    "# blocks_centroids.to_crs(config['projected_crs_epsg']).to_file(config['bikewaysim_fp']/'map_layers.gpkg',layer='block_centroids')\n",
    "\n",
    "#export the ods\n",
    "lodes.to_csv(config['bikewaysim_fp']/'od_matrix.csv',index=False)"
   ]
  },
  {
   "cell_type": "code",
   "execution_count": null,
   "metadata": {},
   "outputs": [],
   "source": []
  },
  {
   "cell_type": "markdown",
   "metadata": {},
   "source": [
    "Exploring past here"
   ]
  },
  {
   "cell_type": "code",
   "execution_count": null,
   "metadata": {},
   "outputs": [],
   "source": [
    "lodes"
   ]
  },
  {
   "cell_type": "code",
   "execution_count": null,
   "metadata": {},
   "outputs": [],
   "source": [
    "# works = lodes[['work_blockid','total_jobs']].copy()\n",
    "# works = works.groupby('work_blockid')['total_jobs'].sum().reset_index()\n",
    "# works = pd.merge(works,blocks[['blockid','geometry']],left_on=\"work_blockid\",right_on='blockid')\n",
    "# works = gpd.GeoDataFrame(works,geometry='geometry')\n",
    "# works.explore('total_jobs')\n",
    "# merged = pd.merge(lodes,blocks[['blockid','geometry']],left_on=\"work_blockid\",right_on='blockid',how='left')\n",
    "# merged.drop(columns=['blockid'],inplace=True)\n",
    "# merged.rename(columns={'geometry':'work_geo'},inplace=True)\n",
    "# merged = pd.merge(merged,blocks[['blockid','geometry']],left_on=\"home_blockid\",right_on='blockid',how='left')\n",
    "# merged.drop(columns=['blockid'],inplace=True)\n",
    "# merged.rename(columns={'geometry':'home_geo'},inplace=True)\n",
    "# merged = merged[merged['home_geo'].notna() & merged['work_geo'].notna()]\n",
    "# random_id = merged['work_blockid'].sample(1).item()\n",
    "# subset = merged.loc[merged['work_blockid']==random_id].copy()\n",
    "# subset = gpd.GeoDataFrame(subset,geometry='home_geo')\n",
    "# m = subset.explore()\n",
    "# blocks.loc[blocks['blockid']==random_id,'geometry'].explore()\n",
    "# work = blocks.loc[blocks['blockid']==random_id,'geometry'].to_crs('epsg:4326').item().centroid\n",
    "# x, y = list(work.coords)[0]\n",
    "# import folium\n",
    "# folium.Circle((y,x),radius=100,tooltip='WORK',kwargs={'color':'green'}).add_to(m)\n",
    "# m\n",
    "# merged['work_geo'] = gpd.GeoSeries(merged['work_geo']).centroid\n",
    "# merged['home_geo'] = gpd.GeoSeries(merged['home_geo']).centroid\n",
    "# # import geopandas as gpd\n",
    "# # import pandas as pd\n",
    "# # from pathlib import Path\n",
    "# # import json\n",
    "\n",
    "# # config = json.load((Path.cwd().parent / 'config.json').open('rb'))\n",
    "# # network_fp = Path(config['project_directory']) / \"Network\"\n",
    "# # osmdwnld_fp = Path(config['project_directory']) / \"OSM_Download\"\n",
    "# # elevation_fp = Path(config['project_directory']) / \"Elevation\"\n",
    "# # cyclinginfra_fp = Path(config['project_directory']) / \"Cycling_Infra_Dating\"\n",
    "# # calibration_fp = Path(config['project_directory']) / \"Calibration\"\n",
    "\n",
    "\n",
    "\n",
    "# #'foot' in blocks.crs.axis_info[0].unit_name\n",
    "\n",
    "# #df.crs.axis_info[0].unit_name"
   ]
  }
 ],
 "metadata": {
  "kernelspec": {
   "display_name": "geo-env",
   "language": "python",
   "name": "python3"
  },
  "language_info": {
   "codemirror_mode": {
    "name": "ipython",
    "version": 3
   },
   "file_extension": ".py",
   "mimetype": "text/x-python",
   "name": "python",
   "nbconvert_exporter": "python",
   "pygments_lexer": "ipython3",
   "version": "3.11.0"
  }
 },
 "nbformat": 4,
 "nbformat_minor": 2
}

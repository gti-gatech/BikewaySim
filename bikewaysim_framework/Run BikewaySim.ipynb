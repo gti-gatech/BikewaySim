{
 "cells": [
  {
   "attachments": {},
   "cell_type": "markdown",
   "metadata": {},
   "source": [
    "## Step 4 Run BikewaySim\n",
    "---\n",
    "In this last notebook, the finalized network files are used to calculate the shortest paths between origin-destination pairs. Currently, this code is set up to handle all-to-all pairings of TAZs, but will be modified in the future to take in OD trip tables. This notebook also post processes the shortest path results to calculate metrics and create shapefiles used for visualization."
   ]
  },
  {
   "attachments": {},
   "cell_type": "markdown",
   "metadata": {},
   "source": [
    "## Import Modules"
   ]
  },
  {
   "cell_type": "code",
   "execution_count": null,
   "metadata": {},
   "outputs": [],
   "source": [
    "import pandas as pd\n",
    "import geopandas as gpd\n",
    "from pathlib import Path\n",
    "import itertools\n",
    "from bikewaysim_lite import *"
   ]
  },
  {
   "attachments": {},
   "cell_type": "markdown",
   "metadata": {},
   "source": [
    "## Import Files\n",
    "---\n",
    "Need to specify the location of the final network, the link impedances to use, and the network with the improved links."
   ]
  },
  {
   "cell_type": "code",
   "execution_count": null,
   "metadata": {},
   "outputs": [],
   "source": [
    "#define fp names\n",
    "studyarea_name = 'bikewaysim'\n",
    "dir_fp = Path.home() / Path(f'Documents/NewBikewaySimData/{studyarea_name}')\n",
    "\n",
    "links = gpd.read_file(dir_fp / 'final_network.gpkg',layer='links')\n",
    "nodes = gpd.read_file(dir_fp / 'final_network.gpkg',layer='nodes')\n",
    "tazs = gpd.read_file(dir_fp / 'base_layers.gpkg',layer='tazs')\n",
    "\n",
    "#include columns with link impedance values in them\n",
    "impedances = ['costs1']\n",
    "\n",
    "#read in the improved links\n",
    "improved_links = gpd.read_file(dir_fp / Path('final_network.gpkg'),layer='improved_links')\n",
    "\n",
    "#should also have a seperate layer of improved nodes if new nodes were added\n",
    "#imp_nodes = gpd.read_file('trb2023/network.gpkg',layer='imp_nodes')"
   ]
  },
  {
   "attachments": {},
   "cell_type": "markdown",
   "metadata": {},
   "source": [
    "## All Possible Origin Destination Pairs Function\n",
    "---\n",
    "This block takes in a taz shapefile and outputs an origin-destination (OD) table for using in BikewaySim. If actual/modeled ODs are used, ignore this block and export that file to the directory at the end of this block."
   ]
  },
  {
   "cell_type": "code",
   "execution_count": null,
   "metadata": {},
   "outputs": [],
   "source": [
    "tazs_id_col = 'OBJECTID'\n",
    "\n",
    "#import study area and traffic analysis zones being used as the OD pairs\n",
    "tazs = gpd.read_file(dir_fp/'base_layers.gpkg',layer='tazs')[tazs_id_col,'geometry']]]\n",
    "\n",
    "#make sure ids are columns\n",
    "tazs['OBJECTID'] = tazs['OBJECTID'].astype(str)\n",
    "\n",
    "#get lat and lon columns\n",
    "tazs.to_crs('epsg:4326',inplace=True)\n",
    "tazs['lat'] = tazs.geometry.y\n",
    "tazs['lon'] = tazs.geometry.x\n",
    "\n",
    "#get permuations of taz ids\n",
    "perms = list(itertools.permutations(tazs[tazs_id_col],2))\n",
    "\n",
    "#make df\n",
    "od_pairs = pd.DataFrame(columns=['trip_id','ori_id','dest_id','ori_lat','ori_lon','dest_lat','dest_lon'])\n",
    "\n",
    "od_pairs['perms'] = perms\n",
    "#seperate into two columns\n",
    "\n",
    "od_pairs = pd.merge(od_pairs,tazs,left_on='ori_id',right_on=tazs_id_col)\n",
    "od_pairs.rename(columns={'lat':'ori_lat','lon':'ori_lon'},inplace=True)\n",
    "\n",
    "od_pairs = pd.merge(od_pairs,tazs,left_on='dest_id',right_on=tazs_id_col)\n",
    "od_pairs.rename(columns={'lat':'dest_lat','lon':'dest_lon'},inplace=True)\n",
    "\n",
    "od_pairs['trip_id'] = od_pairs['ori_id'] + '_' + od_pairs['dest_id']\n",
    "\n",
    "#export\n",
    "od_pairs.to_csv(dir_fp / 'od_pairs.csv', index = False)\n",
    "od_pairs.head()\n"
   ]
  },
  {
   "attachments": {},
   "cell_type": "markdown",
   "metadata": {},
   "source": [
    "## Snapping ods to network\n",
    "---\n",
    "This function finds the nearest network node from an origin/destination and calculates the time it would take walk using Euclidean distance (as the crow flies)."
   ]
  },
  {
   "cell_type": "code",
   "execution_count": null,
   "metadata": {},
   "outputs": [],
   "source": [
    "#get network nodes\n",
    "ods = snap_ods_to_network(od_pairs,nodes)\n",
    "\n",
    "#need one for improved nodes if new nodes were added\n",
    "#ods_improved = snap_ods_to_network(ods_pairs,improved_nodes)"
   ]
  },
  {
   "attachments": {},
   "cell_type": "markdown",
   "metadata": {},
   "source": [
    "# Bikesheds\n",
    "---\n",
    "This block calculates the bikesheds for a given network node, impedances, and a set of constraints."
   ]
  },
  {
   "cell_type": "code",
   "execution_count": null,
   "metadata": {},
   "outputs": [],
   "source": [
    "bikeshed = {}\n",
    "improved_bikeshed = {}\n",
    "origin = '69431331'#'2044581325' # network node to calculate bikeshed for (reference snapped ods)\n",
    "#origin = ods.loc[ods['ori_id']==taz,'o_node'].unique().item() # or use this to lookup network node given taz id\n",
    "radius = 10 # time limit in minutes\n",
    "buffer_size = 100 # if determining area instead of linear network miles, set access distance in ft\n",
    "\n",
    "#just time based\n",
    "bikeshed['mins'], bikeshed_node = make_bikeshed(links,nodes,origin,radius,buffer_size,'mins')\n",
    "bikeshed['mins'].plot()\n",
    "\n",
    "#export\n",
    "bikeshed['mins'].to_file(dir_fp / 'bikesheds.gpkg',layer='mins')\n",
    "bikeshed_node.to_file(dir_fp / 'bikesheds.gpkg',layer='origin')"
   ]
  },
  {
   "cell_type": "code",
   "execution_count": null,
   "metadata": {},
   "outputs": [],
   "source": [
    "#create a bikeshed by going through each impedance column\n",
    "for impedance in impedances:\n",
    "    bikeshed[impedance], bikeshed_node = make_bikeshed(links,nodes,taz,ods,radius,buffer_size,impedance)\n",
    "    bikeshed[impedance].to_file(dir_fp/f'{impedance}/bikesheds.gpkg',layer='bikeshed')\n",
    "\n",
    "    #find removed links (can no longer be reached)\n",
    "    rem_links = bikeshed['mins'][-(bikeshed['mins']['A_B'].isin(bikeshed[impedance]['A_B']))]\n",
    "    if rem_links.shape[0] > 0:\n",
    "        rem_links.to_file(dir_fp/f'{impedance}/bikesheds.gpkg',layer='removed')\n",
    "\n",
    "    #find added links (can now be reached)\n",
    "    add_links = bikeshed[impedance][-bikeshed[impedance]['A_B'].isin(bikeshed['mins']['A_B'])]\n",
    "    if add_links.shape[0] > 0:\n",
    "        add_links.to_file(dir_fp/f'{impedance}/bikesheds.gpkg',layer='add')"
   ]
  },
  {
   "cell_type": "code",
   "execution_count": null,
   "metadata": {},
   "outputs": [],
   "source": [
    "#for the improved network\n",
    "for impedance in impedances:\n",
    "    bikeshed['improved' + impedance], _ = make_bikeshed(improved_links,nodes,taz,ods,radius,buffer_size,impedance)\n",
    "    bikeshed['improved' + impedance].to_file(dir_fp/f'{impedance}/bikesheds.gpkg',layer='improved_bikeshed')\n",
    "\n",
    "    #find added links from improvement\n",
    "    add_impr = bikeshed['improved'+impedance]\n",
    "    add_impr = add_impr[-add_impr['A_B'].isin(bikeshed[impedance]['A_B'])]\n",
    "    if add_impr.shape[0] > 0:\n",
    "        add_impr.to_file(dir_fp/f'{impedance}/bikesheds.gpkg',layer='improvment add')\n",
    "    else:\n",
    "        print('No new links added')"
   ]
  },
  {
   "attachments": {},
   "cell_type": "markdown",
   "metadata": {},
   "source": [
    "# Run shortest path\n",
    "---\n",
    "The find shortest function finds and returns the shortest path between unique origin-destination pairs using the impedance column specified."
   ]
  },
  {
   "cell_type": "code",
   "execution_count": null,
   "metadata": {},
   "outputs": [],
   "source": [
    "#shortest distance version\n",
    "ods_dist, links, nodes = find_shortest(links, nodes, ods, 'mins')"
   ]
  },
  {
   "cell_type": "code",
   "execution_count": null,
   "metadata": {},
   "outputs": [],
   "source": [
    "#impedance version\n",
    "ods_imp, links, nodes = find_shortest(links, nodes, ods, 'costs1')"
   ]
  },
  {
   "cell_type": "code",
   "execution_count": null,
   "metadata": {},
   "outputs": [],
   "source": [
    "#network improvements (replace with imp_nodes)\n",
    "ods_improved, improved_links, nodes = find_shortest(improved_links, nodes, ods, 'costs1')"
   ]
  },
  {
   "attachments": {},
   "cell_type": "markdown",
   "metadata": {},
   "source": [
    "## Individual Routing"
   ]
  },
  {
   "cell_type": "code",
   "execution_count": null,
   "metadata": {},
   "outputs": [],
   "source": [
    "#pairs\n",
    "imp_trip = ods_imp[ods_imp['trip_id'] == \"544_630\"]\n",
    "dist_trip = ods_dist[ods_dist['trip_id'] == \"544_630\"]\n",
    "\n",
    "print(imp_trip['length'].item() / 5280)\n",
    "print(dist_trip['length'].item() / 5280)\n",
    "print((imp_trip['length'].item() - dist_trip['length'].item() ) / dist_trip['length'].item())\n",
    "\n",
    "origin = centroids[centroids['OBJECTID']==dist_trip['ori_id'].item()]\n",
    "dest = centroids[centroids['OBJECTID']==dist_trip['dest_id'].item()]\n",
    "\n",
    "imp_trip.to_file(dir_fp / \"individual_routing.gpkg\", layer = 'imp path')\n",
    "dist_trip.to_file(dir_fp / \"individual_routing.gpkg\", layer = 'dist path')\n",
    "origin[['OBJECTID','geometry']].to_file(dir_fp / \"individual_routing.gpkg\", layer = 'origin')\n",
    "dest[['OBJECTID','geometry']].to_file(dir_fp / \"individual_routing.gpkg\", layer = 'dest')"
   ]
  },
  {
   "cell_type": "code",
   "execution_count": null,
   "metadata": {},
   "outputs": [],
   "source": [
    "#pairs\n",
    "improved_trip = ods_improved[ods_improved['trip_id'] == \"562_531\"]\n",
    "imp_trip = ods_imp[ods_imp['trip_id']==\"562_531\"]\n",
    "dist_trip = ods_dist[ods_dist['trip_id'] == \"562_531\"]\n",
    "\n",
    "print(imp_trip['length'].item() / 5280)\n",
    "print(dist_trip['length'].item() / 5280)\n",
    "print(improved_trip['length'].item() / 5280)\n",
    "print((imp_trip['length'].item() - dist_trip['length'].item() ) / dist_trip['length'].item())\n",
    "print((improved_trip['length'].item() - dist_trip['length'].item() ) / dist_trip['length'].item())\n",
    "\n",
    "origin = centroids[centroids['OBJECTID']==dist_trip['ori_id'].item()]\n",
    "dest = centroids[centroids['OBJECTID']==dist_trip['dest_id'].item()]\n",
    "\n",
    "improved_trip.to_file(dir_fp / \"individual_routing_w_improvement.gpkg\", layer = 'improved path')\n",
    "imp_trip.to_file(dir_fp / \"individual_routing_w_improvement.gpkg\", layer = 'imp path')\n",
    "dist_trip.to_file(dir_fp / \"individual_routing_w_improvement.gpkg\", layer = 'dist path')\n",
    "\n",
    "origin[['OBJECTID','geometry']].to_file(dir_fp / \"individual_routing_w_improvement.gpkg\", layer = 'origin')\n",
    "dest[['OBJECTID','geometry']].to_file(dir_fp / \"individual_routing_w_improvement.gpkg\", layer = 'dest')"
   ]
  },
  {
   "attachments": {},
   "cell_type": "markdown",
   "metadata": {},
   "source": [
    "## Betweenness Centrality"
   ]
  },
  {
   "cell_type": "code",
   "execution_count": null,
   "metadata": {},
   "outputs": [],
   "source": [
    "#find difference in btw centrality\n",
    "links['btw_difference'] =  links['costs1_btw_cntrlty'] - links['mins_btw_cntrlty'] \n",
    "links['btw_diff'] = \"Small (less than 300) Change in Betweenness Centrality\"\n",
    "links.loc[links['btw_difference'] > 300,'btw_diff'] = 'Increased Betweenness Centrality'\n",
    "links.loc[links['btw_difference'] < -300,'btw_diff'] = 'Decreased Betweenness Centrality'\n",
    "\n",
    "links.to_file(dir_fp/'btw_centrality.gpkg',layer='links')\n",
    "improved_links.to_file(dir_fp/'btw_centrality.gpkg',layer='improved_links')"
   ]
  },
  {
   "cell_type": "code",
   "execution_count": null,
   "metadata": {},
   "outputs": [],
   "source": [
    "tazs = gpd.read_file(dir_fp / \"base_layers.gpkg\", layer='tazs')\n",
    "centroids = gpd.read_file(dir_fp / \"base_layers.gpkg\", layer='centroids')\n",
    "\n",
    "#make sure objectid is str\n",
    "tazs['OBJECTID'] = tazs['OBJECTID'].astype(str)"
   ]
  },
  {
   "attachments": {},
   "cell_type": "markdown",
   "metadata": {},
   "source": [
    "## Percent Detour"
   ]
  },
  {
   "cell_type": "code",
   "execution_count": null,
   "metadata": {},
   "outputs": [],
   "source": [
    "#cacluate pct detour\n",
    "by_taz_imp = percent_detour(ods_dist,ods_imp,tazs)\n",
    "by_taz_imp = gpd.GeoDataFrame(by_taz_imp,geometry='geometry',crs=ods_dist.crs)\n",
    "by_taz_imp.to_file(dir_fp/'zonal.gpkg',layer='percent_detour')\n",
    "#by_taz_improved = percent_detour(ods_dist,ods_improved,tazs)"
   ]
  },
  {
   "cell_type": "code",
   "execution_count": null,
   "metadata": {},
   "outputs": [],
   "source": [
    "by_taz_imp['percent_detour'].mean()"
   ]
  },
  {
   "attachments": {},
   "cell_type": "markdown",
   "metadata": {},
   "source": [
    "## Change in Impedance"
   ]
  },
  {
   "cell_type": "code",
   "execution_count": null,
   "metadata": {},
   "outputs": [],
   "source": [
    "by_taz_improved = impedance_change(ods_imp,ods_improved,tazs,'costs1')\n",
    "by_taz_improved = gpd.GeoDataFrame(by_taz_improved,geometry='geometry',crs=ods_dist.crs)\n",
    "by_taz_improved.to_file(dir_fp/'zonal.gpkg',layer='imp_change')"
   ]
  },
  {
   "cell_type": "code",
   "execution_count": null,
   "metadata": {},
   "outputs": [],
   "source": [
    "by_taz_just_pbl = impedance_change(ods_imp,ods_pbl,tazs,'costs1')\n",
    "by_taz_just_pbl = gpd.GeoDataFrame(by_taz_just_pbl,geometry='geometry',crs=ods_dist.crs)\n",
    "by_taz_just_pbl['imp_change'].mean()"
   ]
  },
  {
   "cell_type": "code",
   "execution_count": null,
   "metadata": {},
   "outputs": [],
   "source": [
    "by_taz_just_path = impedance_change(ods_imp,ods_path,tazs,'costs1')\n",
    "by_taz_just_path = gpd.GeoDataFrame(by_taz_just_path,geometry='geometry',crs=ods_dist.crs)\n",
    "by_taz_just_path['imp_change'].mean()"
   ]
  },
  {
   "cell_type": "code",
   "execution_count": null,
   "metadata": {},
   "outputs": [],
   "source": [
    "by_taz_improved['imp_change'].mean()"
   ]
  },
  {
   "attachments": {},
   "cell_type": "markdown",
   "metadata": {},
   "source": [
    "## Basic Stats"
   ]
  },
  {
   "cell_type": "code",
   "execution_count": null,
   "metadata": {},
   "outputs": [],
   "source": [
    "#basic stats\n",
    "#find avg impedance\n",
    "ods.dist.mean()\n",
    "ods.per_dist.mean()\n",
    "ods.imp_dist.mean()"
   ]
  },
  {
   "attachments": {},
   "cell_type": "markdown",
   "metadata": {},
   "source": [
    "Deprecated Code"
   ]
  },
  {
   "cell_type": "code",
   "execution_count": null,
   "metadata": {},
   "outputs": [],
   "source": [
    "# just_pbl = gpd.read_file(dir_fp / 'final_network.gpkg',layer='just_pbl_links')\n",
    "# just_path = gpd.read_file(dir_fp / 'final_network.gpkg',layer='just_path_links')\n",
    "\n",
    "# ods_pbl, just_pbl, nodes = find_shortest(just_pbl, nodes, ods, 'costs1')\n",
    "# ods_path, just_path, nodes = find_shortest(just_path, nodes, ods, 'costs1')"
   ]
  }
 ],
 "metadata": {
  "kernelspec": {
   "display_name": "Python 3",
   "language": "python",
   "name": "python3"
  },
  "language_info": {
   "codemirror_mode": {
    "name": "ipython",
    "version": 3
   },
   "file_extension": ".py",
   "mimetype": "text/x-python",
   "name": "python",
   "nbconvert_exporter": "python",
   "pygments_lexer": "ipython3",
   "version": "3.9.13"
  },
  "vscode": {
   "interpreter": {
    "hash": "6cbae6ef4af9527f71a5d7ac682eedcf6efda7c809549b871742018d9d043c80"
   }
  }
 },
 "nbformat": 4,
 "nbformat_minor": 2
}

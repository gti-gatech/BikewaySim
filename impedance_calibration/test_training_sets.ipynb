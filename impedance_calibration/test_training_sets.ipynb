{
 "cells": [
  {
   "cell_type": "markdown",
   "metadata": {},
   "source": [
    "# Divide data into test/training sets"
   ]
  },
  {
   "cell_type": "code",
   "execution_count": null,
   "metadata": {},
   "outputs": [],
   "source": [
    "from pathlib import Path\n",
    "import pickle"
   ]
  },
  {
   "cell_type": "code",
   "execution_count": null,
   "metadata": {},
   "outputs": [],
   "source": [
    "import json\n",
    "config = json.load((Path.cwd().parent / 'config.json').open('rb'))\n",
    "export_fp = Path(config['project_directory']) / 'Calibration'\n",
    "cycleatl_fp = Path(config['project_directory']) / 'CycleAtlanta'\n",
    "matching_fp = Path(config['project_directory']) / 'Map_Matching'\n",
    "network_fp = Path(config['project_directory']) / 'Network'\n",
    "if export_fp.exists() == False:\n",
    "    export_fp.mkdir()"
   ]
  },
  {
   "cell_type": "markdown",
   "metadata": {},
   "source": [
    "# Import Matched Trace Data\n",
    "Dictionary Containing Origins and Destinations, Matches, Shortest Paths"
   ]
  },
  {
   "cell_type": "code",
   "execution_count": null,
   "metadata": {},
   "outputs": [],
   "source": [
    "#export for impedance calibration\n",
    "with (matching_fp/'ready_for_calibration.pkl').open('rb') as fh:\n",
    "    match_results = pickle.load(fh)\n",
    "with (cycleatl_fp/'gps_traces/trips_3.pkl').open('rb') as fh:\n",
    "    reduced_trip_set = pickle.load(fh)\n",
    "filter_trips = set(reduced_trip_set['tripid'].tolist())"
   ]
  },
  {
   "cell_type": "code",
   "execution_count": null,
   "metadata": {},
   "outputs": [],
   "source": [
    "match_results = {key:item for key, item in match_results.items() if key in filter_trips}\n",
    "print(len(match_results))"
   ]
  },
  {
   "cell_type": "markdown",
   "metadata": {},
   "source": [
    "## Split the data into training and testing set\n",
    "For starters, lets select 500 random trips to go in each"
   ]
  },
  {
   "cell_type": "code",
   "execution_count": null,
   "metadata": {},
   "outputs": [],
   "source": [
    "import random\n",
    "def get_random_keys(dictionary,num_keys):\n",
    "    random_keys = set()\n",
    "    while len(random_keys) < num_keys:\n",
    "        random_key =  random.choice(list(dictionary.keys()))\n",
    "        if isinstance(dictionary.get(random_key),str):\n",
    "            continue\n",
    "        if random_key not in random_keys:\n",
    "            random_keys.add(random_key)\n",
    "    return list(random_keys)"
   ]
  },
  {
   "cell_type": "code",
   "execution_count": null,
   "metadata": {},
   "outputs": [],
   "source": [
    "total_trips = 500\n",
    "random_keys = get_random_keys(match_results,total_trips)\n",
    "\n",
    "middle_point = int(total_trips/2)\n",
    "\n",
    "train_set = random_keys[0:middle_point]\n",
    "test_set = random_keys[middle_point:]"
   ]
  },
  {
   "cell_type": "code",
   "execution_count": null,
   "metadata": {},
   "outputs": [],
   "source": [
    "#subset accordingly\n",
    "train_set = {key:item for key, item in match_results.items() if key in train_set}\n",
    "test_set = {key:item for key, item in match_results.items() if key in test_set}"
   ]
  },
  {
   "cell_type": "code",
   "execution_count": null,
   "metadata": {},
   "outputs": [],
   "source": [
    "with (fp/'gps_traces/test_set.pkl').open('wb') as fh:\n",
    "    pickle.dump(train_set,fh)\n",
    "with (fp/'gps_traces/train_set.pkl').open('wb') as fh:\n",
    "    pickle.dump(test_set,fh)"
   ]
  }
 ],
 "metadata": {
  "kernelspec": {
   "display_name": "Python 3",
   "language": "python",
   "name": "python3"
  },
  "language_info": {
   "codemirror_mode": {
    "name": "ipython",
    "version": 3
   },
   "file_extension": ".py",
   "mimetype": "text/x-python",
   "name": "python",
   "nbconvert_exporter": "python",
   "pygments_lexer": "ipython3",
   "version": "3.9.13"
  }
 },
 "nbformat": 4,
 "nbformat_minor": 2
}

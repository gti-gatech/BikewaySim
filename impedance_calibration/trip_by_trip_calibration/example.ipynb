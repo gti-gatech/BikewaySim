{
 "cells": [
  {
   "cell_type": "markdown",
   "metadata": {},
   "source": [
    "# Trip by Trip Optimization"
   ]
  },
  {
   "cell_type": "code",
   "execution_count": null,
   "metadata": {},
   "outputs": [],
   "source": [
    "from pathlib import Path\n",
    "import time\n",
    "import pandas as pd\n",
    "import pickle\n",
    "from stochopy.optimize import minimize\n",
    "import datetime\n",
    "\n",
    "import sys\n",
    "path = Path.cwd().parent.parent\n",
    "sys.path.insert(0,str(path))\n",
    "import file_structure_setup\n",
    "config = file_structure_setup.filepaths(path)\n",
    "\n",
    "import impedance_calibration.src.stochastic_optimization as stochastic_optimization"
   ]
  },
  {
   "cell_type": "markdown",
   "metadata": {},
   "source": [
    "# Edit this block"
   ]
  },
  {
   "cell_type": "code",
   "execution_count": null,
   "metadata": {},
   "outputs": [],
   "source": [
    "# determine the ouput name of the calibration outputs\n",
    "calibration_name = 'calibration8'\n",
    "\n",
    "# determine variables, impedance type, and search range\n",
    "betas_tup = (\n",
    "    {'col':'2lpd','type':'link','range':[0,3]},\n",
    "    {'col':'3+lpd','type':'link','range':[0,3]},\n",
    "    {'col':'(30,inf) mph','type':'link','range':[0,3]},\n",
    "    # {'col':'(40,inf) mph','type':'link','range':[0,3]},\n",
    "    # {'col':'[4k,10k) aadt','type':'link','range':[0,3]},\n",
    "    {'col':'[10k,inf) aadt','type':'link','range':[0,3]},\n",
    "    # {'col':'[4,6) grade','type':'link','range':[0,3]},\n",
    "    {'col':'[6,inf) grade','type':'link','range':[0,3]},\n",
    "    {'col':'bike lane','type':'link','range':[-1,0]},\n",
    "    # {'col':'cycletrack','type':'link','range':[-1,0]},\n",
    "    {'col':'multi use path and cycletrack','type':'link','range':[-1,0]},\n",
    "    {'col':'unsig_major_road_crossing','type':'turn','range':[0,2]}\n",
    ")\n",
    "# determine the objective function to use and other settings\n",
    "objective_function = stochastic_optimization.buffer_overlap\n",
    "batching = False\n",
    "stochastic_optimization_settings = {\n",
    "    'method':'pso',\n",
    "    'options': {'maxiter':100,'popsize':3}\n",
    "}"
   ]
  },
  {
   "cell_type": "markdown",
   "metadata": {},
   "source": [
    "# Just let this block run"
   ]
  },
  {
   "cell_type": "code",
   "execution_count": null,
   "metadata": {},
   "outputs": [],
   "source": [
    "links, turns, length_dict, geo_dict, turn_G = stochastic_optimization.import_calibration_network(config)\n",
    "\n",
    "with (config['calibration_fp']/'ready_for_calibration.pkl').open('rb') as fh:\n",
    "    full_set = pickle.load(fh)\n",
    "\n",
    "args = (\n",
    "    [], # empty list for storing past calibration results\n",
    "    betas_tup, # tuple containing the impedance spec\n",
    "    stochastic_optimization.match_results_to_ods(full_set), # list of OD network node pairs needed for shortest path routing\n",
    "    full_set, # dict containing the origin/dest node and map matched edges\n",
    "    stochastic_optimization.link_impedance_function, # link impedance function to use\n",
    "    \"travel_time_min\", # column with the base the base impedance in travel time or distance\n",
    "    stochastic_optimization.turn_impedance_function, # turn impedance function to use\n",
    "    links,turns,turn_G, # network parts\n",
    "    objective_function, # loss function to use\n",
    "    {'length_dict':length_dict,'geo_dict':geo_dict},#,'trace_dict':traces}, # keyword arguments for loss function\n",
    "    True, #whether to print the results of each iteration\n",
    "    True, #whether to store calibration results\n",
    "    batching # whether to batch results to help speed up computation time, if yes input the number to batch with\n",
    ")\n",
    "\n",
    "start = time.time()\n",
    "print([x['col'] for x in betas_tup]+['objective_function'])\n",
    "x = minimize(stochastic_optimization.impedance_calibration,\n",
    "             stochastic_optimization.extract_bounds(betas_tup),\n",
    "             args=args,\n",
    "             **stochastic_optimization_settings)\n",
    "end = time.time()\n",
    "print(f\"Took {str(pd.Timedelta(seconds=end-start).round('s'))} hours\")\n",
    "print(f\"{args[10].__name__}: {x.fun}\")\n",
    "print(x)\n",
    "\n",
    "calibration_result = {\n",
    "    'betas_tup': tuple({**item,'beta':x.x[idx].round(4)} for idx,item in enumerate(betas_tup)), # contains the betas\n",
    "    'settings': stochastic_optimization_settings, # contains the optimization settings\n",
    "    'objective_function': args[10].__name__, # objective function used\n",
    "    'results': x, # stochastic optimization outputs\n",
    "    'trips_calibrated': set(full_set.keys()), # saves which trips were calibrated\n",
    "    'past_vals': args[0], # all of the past values/guesses\n",
    "    'runtime': pd.Timedelta(end-start),\n",
    "    'time': datetime.datetime.now()\n",
    "}\n",
    "#export but don't overwrite\n",
    "export_fp = config['calibration_fp'] / f'calibration_results/{calibration_name}.pkl'\n",
    "with stochastic_optimization.uniquify(export_fp).open('wb') as fh:\n",
    "        pickle.dump(calibration_result,fh)"
   ]
  }
 ],
 "metadata": {
  "kernelspec": {
   "display_name": "Python 3",
   "language": "python",
   "name": "python3"
  },
  "language_info": {
   "codemirror_mode": {
    "name": "ipython",
    "version": 3
   },
   "file_extension": ".py",
   "mimetype": "text/x-python",
   "name": "python",
   "nbconvert_exporter": "python",
   "pygments_lexer": "ipython3",
   "version": "3.9.13"
  }
 },
 "nbformat": 4,
 "nbformat_minor": 2
}

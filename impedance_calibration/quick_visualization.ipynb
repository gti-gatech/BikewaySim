{
 "cells": [
  {
   "cell_type": "markdown",
   "metadata": {},
   "source": [
    "# Compare Matched Trip to Shortest/Modeled Trip\n",
    "This notebook is for cross-referencing the modeled route against the chosen route. The links attributes and turns are displayed to ensure routing is functioning properly."
   ]
  },
  {
   "cell_type": "code",
   "execution_count": null,
   "metadata": {},
   "outputs": [],
   "source": [
    "from pathlib import Path\n",
    "import time\n",
    "import pandas as pd\n",
    "import geopandas as gpd\n",
    "import numpy as np\n",
    "import pickle\n",
    "import networkx as nx\n",
    "from stochopy.optimize import minimize\n",
    "import stochastic_optimization\n",
    "from tqdm import tqdm\n",
    "import similaritymeasures\n",
    "import random\n",
    "\n",
    "from shapely.ops import LineString, MultiLineString\n",
    "\n",
    "\n",
    "import sys\n",
    "sys.path.insert(0,str(Path.cwd().parent))\n",
    "import file_structure_setup\n",
    "config = file_structure_setup.filepaths()\n",
    "from network.src import modeling_turns\n",
    "import speedfactor"
   ]
  },
  {
   "cell_type": "markdown",
   "metadata": {},
   "source": [
    "## Network Import"
   ]
  },
  {
   "cell_type": "code",
   "execution_count": null,
   "metadata": {},
   "outputs": [],
   "source": [
    "#export calibration network\n",
    "with (config['calibration_fp']/\"calibration_network.pkl\").open('rb') as fh:\n",
    "    links, turns = pickle.load(fh)\n",
    "#turn_G = modeling_turns.make_turn_graph(turns)\n",
    "links.set_index(['linkid','reverse_link'],inplace=True)\n",
    "turns.set_index(['source_linkid','source_reverse_link','target_linkid','target_reverse_link'],inplace=True)\n",
    "\n",
    "turns = turns[['source_B','turn_type','signalized','unsig_major_road_crossing']]"
   ]
  },
  {
   "cell_type": "code",
   "execution_count": null,
   "metadata": {},
   "outputs": [],
   "source": [
    "nodes = gpd.read_file(config['network_fp']/'final_network.gpkg',layer='nodes')\n",
    "nodes.set_index('N',inplace=True)"
   ]
  },
  {
   "cell_type": "code",
   "execution_count": null,
   "metadata": {},
   "outputs": [],
   "source": [
    "#add nodes geo to turns\n",
    "turns = turns.merge(nodes['geometry'],left_on='source_B',right_index=True)\n",
    "turns = gpd.GeoDataFrame(turns,crs=links.crs)"
   ]
  },
  {
   "cell_type": "markdown",
   "metadata": {},
   "source": [
    "## import route results\n"
   ]
  },
  {
   "cell_type": "code",
   "execution_count": null,
   "metadata": {},
   "outputs": [],
   "source": [
    "with (config['calibration_fp']/\"modeled_results.pkl\").open('rb') as fh:\n",
    "    modeled_results = pickle.load(fh)"
   ]
  },
  {
   "cell_type": "code",
   "execution_count": null,
   "metadata": {},
   "outputs": [],
   "source": [
    "#import \n",
    "matched_summary = gpd.read_file(config['calibration_fp']/\"route_attributes.gpkg\",layer='matched')\n",
    "modeled_summary = gpd.read_file(config['calibration_fp']/\"route_attributes.gpkg\",layer='modeled')"
   ]
  },
  {
   "cell_type": "code",
   "execution_count": null,
   "metadata": {},
   "outputs": [],
   "source": [
    "turn_dict = {\n",
    "    True: \"yellow\",\n",
    "    False: \"black\"\n",
    "}\n"
   ]
  },
  {
   "cell_type": "code",
   "execution_count": null,
   "metadata": {},
   "outputs": [],
   "source": [
    "#give each unique combo of values a random color\n",
    "links.columns"
   ]
  },
  {
   "cell_type": "code",
   "execution_count": null,
   "metadata": {},
   "outputs": [],
   "source": [
    "import random\n",
    "tripid = random.choice(list(modeled_results.keys()))\n",
    "tripid"
   ]
  },
  {
   "cell_type": "code",
   "execution_count": null,
   "metadata": {},
   "outputs": [],
   "source": [
    "links_fields = ['name','highway','AADT', 'truck_pct', 'speed', 'length_ft',\n",
    "       'lanes', 'link_type_new', 'motorized', 'facility_fwd','ascent_ft',\n",
    "       'ascent_grade_%', 'above_4', 'mixed_traffic_no_facil',\n",
    "       'mixed_traffic_w_facil']"
   ]
  },
  {
   "cell_type": "code",
   "execution_count": null,
   "metadata": {},
   "outputs": [],
   "source": [
    "links.columns"
   ]
  },
  {
   "cell_type": "code",
   "execution_count": null,
   "metadata": {},
   "outputs": [],
   "source": [
    "import folium\n",
    "\n",
    "#tripid = 71\n",
    "\n",
    "route_attribute_cols = ['length_mi']\n",
    "\n",
    "# Create copies to prevent alteration\n",
    "matched_gdf = matched_summary.copy()\n",
    "modeled_gdf = modeled_summary.copy()\n",
    "\n",
    "# Subset data to relevant trip\n",
    "matched_gdf = matched_gdf[matched_gdf['tripid']==tripid]\n",
    "modeled_gdf = modeled_gdf[modeled_gdf['tripid']==tripid]\n",
    "\n",
    "# Create a Folium map centered around the mean of the matched route\n",
    "minx, miny, maxx, maxy = matched_gdf.to_crs(epsg='4326').total_bounds\n",
    "x_mean = (maxx - minx) / 2 + minx\n",
    "y_mean = (maxy - miny) / 2 + miny\n",
    "center = [y_mean,x_mean]\n",
    "m = folium.Map(location=center, zoom_start=14, tiles=\"cartodbpositron\")\n",
    "\n",
    "# Add GeoJSON data to FeatureGroups\n",
    "folium.GeoJson(matched_gdf.to_crs(epsg='4326').to_json(),\n",
    "                name='Matched',\n",
    "                tooltip=folium.GeoJsonTooltip(fields=route_attribute_cols),\n",
    "                style_function=lambda x: {'color': 'grey','opacity':0.5}).add_to(m)\n",
    "\n",
    "folium.GeoJson(modeled_gdf.to_crs(epsg='4326').to_json(),\n",
    "                name='Modeled',\n",
    "                tooltip=folium.GeoJsonTooltip(fields=route_attribute_cols),\n",
    "                style_function=lambda x: {'color': 'orange','opacity':0.5}).add_to(m)\n",
    "\n",
    "### MATCHED ###\n",
    "matched_edges = [list(x) for x in modeled_results[tripid]['matched_edges'].values]\n",
    "matched_turns = [(matched_edges[i][0],matched_edges[i][1],matched_edges[i+1][0],matched_edges[i+1][1]) for i in range(0,len(matched_edges)-1)]\n",
    "matched_turns = turns.loc[matched_turns]\n",
    "matched_turn_type = matched_turns.loc[\n",
    "    matched_turns['turn_type'].notna() &\n",
    "    ((matched_turns['turn_type']!='straight') | (matched_turns['signalized']==True) | (matched_turns['unsig_major_road_crossing']==True))\n",
    "    ]\n",
    "folium.GeoJson(\n",
    "    links.loc[matched_edges].to_crs(epsg='4326').to_json(),\n",
    "    name='Matched Edges',\n",
    "    show=False,\n",
    "    popup=folium.GeoJsonPopup(fields=links_fields),\n",
    "    highlight_function=lambda x: {\"color\": 'yellow'},\n",
    "    style_function=lambda x: {'color':'gray'}\n",
    ").add_to(m)\n",
    "folium.GeoJson(\n",
    "    matched_turn_type.to_crs(epsg='4326').to_json(),\n",
    "    name=\"Matched Turn Types\",\n",
    "    show=False,\n",
    "    tooltip=folium.GeoJsonTooltip(fields=['turn_type','signalized','unsig_major_road_crossing']),\n",
    "    marker=folium.Circle(radius=30, fill_color=\"orange\", fill_opacity=0.5, color=\"black\", weight=0),\n",
    "    style_function=lambda x: {\n",
    "        'fillColor':turn_dict[x['properties']['signalized']]\n",
    "    }\n",
    ").add_to(m)\n",
    "\n",
    "### MODELED ####\n",
    "modeled_edges = [tuple(x) for x in modeled_results[tripid]['modeled_edges'].values]\n",
    "modeled_turns = [(modeled_edges[i][0],modeled_edges[i][1],modeled_edges[i+1][0],modeled_edges[i+1][1]) for i in range(0,len(modeled_edges)-1)]\n",
    "modeled_turns = turns.loc[modeled_turns]\n",
    "modeled_turn_type = modeled_turns.loc[\n",
    "    modeled_turns['turn_type'].notna() &\n",
    "    ((modeled_turns['turn_type']!='straight') | (modeled_turns['signalized']==True) | (matched_turns['unsig_major_road_crossing']==True))\n",
    "    ]\n",
    "folium.GeoJson(\n",
    "    links.loc[modeled_edges].to_crs(epsg='4326').to_json(),\n",
    "    name='Modeled Edges',\n",
    "    show=False,\n",
    "    popup=folium.GeoJsonPopup(fields=links_fields),\n",
    "    highlight_function=lambda x: {\"color\": 'yellow'},\n",
    "    style_function=lambda x: {'color':'orange'}\n",
    ").add_to(m)\n",
    "folium.GeoJson(\n",
    "    modeled_turn_type.to_crs(epsg='4326').to_json(),\n",
    "    name=\"Modeled Turn Types\",\n",
    "    show=False,\n",
    "    tooltip=folium.GeoJsonTooltip(fields=['turn_type','signalized','unsig_major_road_crossing']),\n",
    "    marker=folium.Circle(radius=30, fill_color=\"orange\", fill_opacity=0.5, color=\"black\", weight=0),\n",
    "    style_function=lambda x: {\n",
    "        'fillColor':turn_dict[x['properties']['signalized']]\n",
    "    }\n",
    ").add_to(m)\n",
    "\n",
    "\n",
    "\n",
    "# Get the start and end points\n",
    "start_node = modeled_results[tripid]['origin_node']\n",
    "start_node = nodes.to_crs('epsg:4326').loc[start_node,'geometry']\n",
    "folium.Circle(location=[start_node.y, start_node.x],color='green').add_to(m)\n",
    "\n",
    "end_node = modeled_results[tripid]['destination_node']\n",
    "end_node = nodes.to_crs('epsg:4326').loc[end_node,'geometry']\n",
    "folium.Circle(location=[end_node.y, end_node.x],color='red').add_to(m)\n",
    "\n",
    "# add turns\n",
    "folium.LayerControl().add_to(m)\n",
    "\n",
    "m"
   ]
  },
  {
   "cell_type": "code",
   "execution_count": null,
   "metadata": {},
   "outputs": [],
   "source": [
    "modeled_results[71].keys()"
   ]
  },
  {
   "cell_type": "code",
   "execution_count": null,
   "metadata": {},
   "outputs": [],
   "source": [
    "minx, miny, maxx, maxy = modeled_summary.to_crs(epsg='4326').total_bounds\n",
    "x_mean = (maxx - minx) / 2 + minx\n",
    "y_mean = (maxy - miny) / 2 + miny\n",
    "print(x_mean,y_mean)\n"
   ]
  },
  {
   "cell_type": "code",
   "execution_count": null,
   "metadata": {},
   "outputs": [],
   "source": [
    "modeled_results[71]['origin_node']"
   ]
  },
  {
   "cell_type": "code",
   "execution_count": null,
   "metadata": {},
   "outputs": [],
   "source": [
    "matched_summary.columns"
   ]
  },
  {
   "cell_type": "code",
   "execution_count": null,
   "metadata": {},
   "outputs": [],
   "source": [
    "tripid = 71\n",
    "edges = modeled_results[tripid]['modeled_edges']\n",
    "list_of_edges = list(zip(edges['linkid'],edges['reverse_link']))\n",
    "list_of_turns = [(list_of_edges[i][0],list_of_edges[i][1],list_of_edges[i+1][0],list_of_edges[i+1][1]) for i in range(0,len(list_of_edges)-1)]\n",
    "trip_turns = turns.loc[list_of_turns]\n",
    "\n",
    "import folium\n",
    "import folium.vector_layers\n",
    "#m = folium.Map(tiles=\"cartodbpositron\")\n",
    "test = modeled_summary.loc[modeled_summary['tripid']==tripid]\n",
    "#turn types\n",
    "turn_types = trip_turns.groupby('turn_type')['source_A'].agg(list)\n",
    "\n",
    "turn_type_colors = {\n",
    "    'left': 'orange',\n",
    "    'straight': 'black',\n",
    "    'right': 'red',\n",
    "    'u-turn': 'black'\n",
    "}\n",
    "\n",
    "minx, miny, maxx, maxy = test.to_crs(epsg='4326').total_bounds\n",
    "x_mean = (maxx - minx) / 2 + minx\n",
    "y_mean = (maxy - miny) / 2 + miny\n",
    "center = [y_mean,x_mean]\n"
   ]
  },
  {
   "cell_type": "code",
   "execution_count": null,
   "metadata": {},
   "outputs": [],
   "source": [
    "testing = trip_turns[trip_turns['turn_type'].notna()]\n",
    "testing['geometry'] = nodes.loc[testing['source_B'].tolist(),'geometry'].tolist()\n",
    "testing = gpd.GeoDataFrame(testing[['source_B','turn_type','signalized','geometry']],crs=nodes.crs)"
   ]
  },
  {
   "cell_type": "code",
   "execution_count": null,
   "metadata": {},
   "outputs": [],
   "source": [
    "m = folium.Map(location=center, zoom_start=14, tiles=\"cartodbpositron\")\n",
    "\n",
    "folium.GeoJson(test.to_crs(epsg='4326').to_json()).add_to(m)\n",
    "\n",
    "folium.GeoJson(\n",
    "    testing.to_crs(epsg='4326').to_json(),\n",
    "    name=\"Turn Types\",\n",
    "    tooltip=folium.GeoJsonTooltip(fields=['turn_type']),\n",
    "    marker=folium.Circle(radius=30, fill_color=\"orange\", fill_opacity=0.5, color=\"black\", weight=0),\n",
    "    style_function=lambda x: {\n",
    "        'fillColor':turn_type_colors[x['properties']['turn_type']]\n",
    "        'fill_opacity': \n",
    "    }\n",
    ").add_to(m)\n",
    "m"
   ]
  },
  {
   "cell_type": "code",
   "execution_count": null,
   "metadata": {},
   "outputs": [],
   "source": [
    "turn_type, node_list = turn_types.reset_index().values[0]"
   ]
  },
  {
   "cell_type": "code",
   "execution_count": null,
   "metadata": {},
   "outputs": [],
   "source": [
    "m = folium.Map(location=center, zoom_start=14, tiles=\"cartodbpositron\")\n",
    "folium.GeoJson(\n",
    "    nodes.loc[node_list].to_crs(epsg='4326').to_json(),\n",
    "    name=turn_type,\n",
    "    tooltip=turn_type,\n",
    "    marker=folium.Circle(radius=30, fill_color=\"orange\", fill_opacity=0.5, color=\"black\", weight=0),\n",
    "    style_function=lambda x: {\n",
    "        'fillColor':turn_type_colors[turn_type]\n",
    "    }\n",
    ").add_to(m)\n",
    "m"
   ]
  },
  {
   "cell_type": "code",
   "execution_count": null,
   "metadata": {},
   "outputs": [],
   "source": [
    "nodes.loc[node_list].to_crs(epsg='4326')"
   ]
  },
  {
   "cell_type": "code",
   "execution_count": null,
   "metadata": {},
   "outputs": [],
   "source": [
    "turn_type, node_list = turn_types.reset_index().values[1]\n",
    "\n",
    "folium.GeoJson(\n",
    "    nodes.loc[node_list].to_crs(epsg='4326').to_json(),\n",
    "    name=turn_type,\n",
    "    tooltip=turn_type,\n",
    "    marker=folium.Circle(radius=30, fill_color=\"orange\", fill_opacity=0.5, color=\"black\", weight=0),\n",
    "    style_function=lambda x: {\n",
    "        'fillColor':turn_type_colors[turn_type]\n",
    "    }\n",
    ").add_to(m)\n",
    "\n",
    "m"
   ]
  },
  {
   "cell_type": "code",
   "execution_count": null,
   "metadata": {},
   "outputs": [],
   "source": [
    "turn_type"
   ]
  },
  {
   "cell_type": "code",
   "execution_count": null,
   "metadata": {},
   "outputs": [],
   "source": [
    "turn_types.reset_index().values"
   ]
  },
  {
   "cell_type": "code",
   "execution_count": null,
   "metadata": {},
   "outputs": [],
   "source": [
    "nodes.loc[node_list,'geometry'].to_crs(epsg='4326').to_json()"
   ]
  },
  {
   "cell_type": "code",
   "execution_count": null,
   "metadata": {},
   "outputs": [],
   "source": [
    "\n",
    "#signals\n",
    "trip_turns.loc[trip_turns['signalized']==True,'source_A'].tolist()\n",
    "\n",
    "#unsign_major_road_crossing\n",
    "\n",
    "trip_turns.columns\n",
    "\n",
    "#trip_turns['source_B']"
   ]
  },
  {
   "cell_type": "code",
   "execution_count": null,
   "metadata": {},
   "outputs": [],
   "source": []
  },
  {
   "cell_type": "code",
   "execution_count": null,
   "metadata": {},
   "outputs": [],
   "source": [
    "turns"
   ]
  },
  {
   "cell_type": "code",
   "execution_count": null,
   "metadata": {},
   "outputs": [],
   "source": [
    "import folium\n",
    "import requests\n",
    "\n",
    "m = folium.Map(tiles=\"cartodbpositron\")\n",
    "\n",
    "# geojson_data = requests.get(\n",
    "#     \"https://raw.githubusercontent.com/python-visualization/folium-example-data/main/world_countries.json\"\n",
    "# ).json()\n",
    "\n",
    "folium.GeoJson(\n",
    "    matched_summary.iloc[0:20].to_crs(epsg='4326').to_json(),\n",
    "    name=\"hello world\",\n",
    "    tooltip=folium.GeoJsonTooltip(fields=['tripid'])).add_to(m)\n",
    "\n",
    "#folium.LayerControl().add_to(m)\n",
    "\n",
    "m\n"
   ]
  },
  {
   "cell_type": "code",
   "execution_count": null,
   "metadata": {},
   "outputs": [],
   "source": [
    "# #dicts for referencing certain link attributes quickly\n",
    "# length_dict = dict(zip(links['linkid'],links['length_ft'])) # need this for loss function\n",
    "# geo_dict = dict(zip(links['linkid'],links['geometry']))"
   ]
  },
  {
   "cell_type": "code",
   "execution_count": null,
   "metadata": {},
   "outputs": [],
   "source": []
  },
  {
   "cell_type": "markdown",
   "metadata": {},
   "source": [
    "These did well"
   ]
  },
  {
   "cell_type": "code",
   "execution_count": null,
   "metadata": {},
   "outputs": [],
   "source": [
    "fpr_results = stochastic_optimization.first_preference_recovery(train_set,results_dict,**{'length_dict':length_dict,'overlap_threshold':0.7})\n",
    "fpr_results"
   ]
  },
  {
   "cell_type": "code",
   "execution_count": null,
   "metadata": {},
   "outputs": [],
   "source": [
    "import random\n",
    "tripid = random.choice(fpr_results)\n",
    "tripid\n",
    "#retrieve chosen path linkids and convert them to tuple\n",
    "chosen = [tuple(row) for row in train_set[tripid]['matched_edges'].to_numpy()]\n",
    "shortest = [tuple(row) for row in train_set[tripid]['shortest_edges'].to_numpy()]\n",
    "\n",
    "#retrieve modeled path linkids\n",
    "start_node = train_set[tripid]['origin_node']\n",
    "end_node = train_set[tripid]['destination_node']\n",
    "modeled_edges = results_dict[(start_node,end_node)]['edge_list']\n",
    "\n",
    "#get geos (non-directional)\n",
    "chosen_geo = [geo_dict[linkid[0]] for linkid in chosen]\n",
    "shortest_geo = [geo_dict[linkid[0]] for linkid in shortest]\n",
    "modeled_geo = [geo_dict[linkid[0]] for linkid in modeled_edges]\n",
    "\n",
    "chosen_lines = gpd.GeoSeries(chosen_geo,crs='epsg:2240')\n",
    "shortest_lines = gpd.GeoSeries(shortest_geo,crs='epsg:2240')\n",
    "modeled_lines = gpd.GeoSeries(modeled_geo,crs='epsg:2240')\n",
    "\n",
    "stochastic_optimization.visualize_three_no_legend(chosen_lines,shortest_lines,modeled_lines)"
   ]
  },
  {
   "cell_type": "markdown",
   "metadata": {},
   "source": [
    "and these not so much"
   ]
  },
  {
   "cell_type": "code",
   "execution_count": null,
   "metadata": {},
   "outputs": [],
   "source": [
    "import random\n",
    "not_good = list(set(test_set.keys()) - set(fpr_results))"
   ]
  },
  {
   "cell_type": "code",
   "execution_count": null,
   "metadata": {},
   "outputs": [],
   "source": [
    "tripid = random.choice(not_good)\n",
    "tripid\n",
    "#retrieve chosen path linkids and convert them to tuple\n",
    "chosen = [tuple(row) for row in test_set[tripid]['matched_edges'].to_numpy()]\n",
    "shortest = [tuple(row) for row in test_set[tripid]['shortest_edges'].to_numpy()]\n",
    "\n",
    "#retrieve modeled path linkids\n",
    "start_node = test_set[tripid]['origin_node']\n",
    "end_node = test_set[tripid]['destination_node']\n",
    "modeled_edges = results_dict[(start_node,end_node)]['edge_list']\n",
    "\n",
    "#get geos (non-directional)\n",
    "chosen_geo = [geo_dict[linkid[0]] for linkid in chosen]\n",
    "shortest_geo = [geo_dict[linkid[0]] for linkid in shortest]\n",
    "modeled_geo = [geo_dict[linkid[0]] for linkid in modeled_edges]\n",
    "\n",
    "chosen_lines = gpd.GeoSeries(chosen_geo,crs='epsg:2240')\n",
    "shortest_lines = gpd.GeoSeries(shortest_geo,crs='epsg:2240')\n",
    "modeled_lines = gpd.GeoSeries(modeled_geo,crs='epsg:2240')\n",
    "\n",
    "stochastic_optimization.visualize_three_no_legend(chosen_lines,shortest_lines,modeled_lines)"
   ]
  },
  {
   "cell_type": "code",
   "execution_count": null,
   "metadata": {},
   "outputs": [],
   "source": []
  }
 ],
 "metadata": {
  "kernelspec": {
   "display_name": "Python 3",
   "language": "python",
   "name": "python3"
  },
  "language_info": {
   "codemirror_mode": {
    "name": "ipython",
    "version": 3
   },
   "file_extension": ".py",
   "mimetype": "text/x-python",
   "name": "python",
   "nbconvert_exporter": "python",
   "pygments_lexer": "ipython3",
   "version": "3.9.13"
  }
 },
 "nbformat": 4,
 "nbformat_minor": 2
}

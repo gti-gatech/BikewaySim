{
 "cells": [
  {
   "cell_type": "markdown",
   "metadata": {},
   "source": [
    "# Impedance Calibration Test Run"
   ]
  },
  {
   "cell_type": "markdown",
   "metadata": {},
   "source": [
    "### Overview:\n",
    "1. Network Preperation\n",
    "1. Import Matched Trace Data\n",
    "2. Specify Calibration Parameters\n",
    "    - Link Impedance Function\n",
    "    - Turn Impedance Function\n",
    "    - Objective Function\n",
    "        - Exact Overlap\n",
    "        - Buffer Overlap (in progress)\n",
    "        - Frechet Distance (in progress)\n",
    "3. Run Calibration (in progress)\n",
    "4. Export Results to Examine"
   ]
  },
  {
   "cell_type": "code",
   "execution_count": 3,
   "metadata": {},
   "outputs": [],
   "source": [
    "from pathlib import Path\n",
    "import time\n",
    "import pandas as pd\n",
    "import geopandas as gpd\n",
    "import numpy as np\n",
    "import pickle\n",
    "import networkx as nx\n",
    "from stochopy.optimize import minimize\n",
    "import stochastic_optimization\n",
    "from tqdm import tqdm\n",
    "import similaritymeasures\n",
    "import random\n",
    "\n",
    "from shapely.ops import LineString, MultiLineString\n",
    "\n",
    "import sys\n",
    "sys.path.insert(0,str(Path.cwd().parent))\n",
    "from network.src import modeling_turns\n",
    "import speedfactor"
   ]
  },
  {
   "cell_type": "code",
   "execution_count": 4,
   "metadata": {},
   "outputs": [],
   "source": [
    "import json\n",
    "config = json.load((Path.cwd().parent / 'config.json').open('rb'))\n",
    "calibration_fp = Path(config['project_directory']) / 'Calibration'\n",
    "cycleatl_fp = Path(config['project_directory']) / 'CycleAtlanta'\n",
    "matching_fp = Path(config['project_directory']) / 'Map_Matching'\n",
    "network_fp = Path(config['project_directory']) / 'Network'\n",
    "if calibration_fp.exists() == False:\n",
    "    calibration_fp.mkdir()"
   ]
  },
  {
   "cell_type": "markdown",
   "metadata": {},
   "source": [
    "# Network Preperation"
   ]
  },
  {
   "cell_type": "code",
   "execution_count": 5,
   "metadata": {},
   "outputs": [],
   "source": [
    "turns = pd.read_parquet(network_fp/'turns_df.parquet')\n",
    "links = gpd.read_file(network_fp/'final_network.gpkg',layer='edges')\n",
    "directed_links = pd.read_parquet(network_fp/'directed_edges.parquet')"
   ]
  },
  {
   "cell_type": "code",
   "execution_count": 11,
   "metadata": {},
   "outputs": [
    {
     "data": {
      "text/plain": [
       "Index(['A', 'B', 'linkid', 'link_type', 'osmid', 'timestamp', 'version',\n",
       "       'type', 'highway', 'oneway', 'name', 'bridge', 'tunnel', 'cycleway',\n",
       "       'service', 'footway', 'sidewalk', 'bicycle', 'foot', 'access', 'area',\n",
       "       'all_tags', 'geom_type', 'facility_fwd', 'facility_rev', 'year', 'lts',\n",
       "       'reverse_geometry', 'ascent_m', 'ascent_grade_%', 'descent_m',\n",
       "       'descent_grade_%', 'length_ft', 'geometry'],\n",
       "      dtype='object')"
      ]
     },
     "execution_count": 11,
     "metadata": {},
     "output_type": "execute_result"
    }
   ],
   "source": [
    "links.columns"
   ]
  },
  {
   "cell_type": "code",
   "execution_count": 10,
   "metadata": {},
   "outputs": [
    {
     "data": {
      "text/plain": [
       "Index(['source', 'target', 'linkid', 'reverse_link', 'azimuth', 'facility_fwd',\n",
       "       'facility_rev', 'ascent_m', 'ascent_grade_%', 'descent_m',\n",
       "       'descent_grade_%'],\n",
       "      dtype='object')"
      ]
     },
     "execution_count": 10,
     "metadata": {},
     "output_type": "execute_result"
    }
   ],
   "source": [
    "directed_links.columns"
   ]
  },
  {
   "cell_type": "code",
   "execution_count": 5,
   "metadata": {},
   "outputs": [],
   "source": [
    "#add highway into turns\n",
    "highway_dict = dict(zip(links['linkid'],links['link_type']))\n",
    "turns['source_link_type'] = turns['source_linkid'].map(highway_dict)\n",
    "turns['target_link_type'] = turns['target_linkid'].map(highway_dict)\n",
    "del highway_dict"
   ]
  },
  {
   "cell_type": "code",
   "execution_count": null,
   "metadata": {},
   "outputs": [],
   "source": [
    "#remove these types of links from routing\n",
    "link_types_allowed = ['bike','pedestrian','road']\n",
    "links['link_type'].unique()\n",
    "links = links[links['link_type'].isin(link_types_allowed)]\n",
    "turns = turns[turns['source_link_type'].isin(link_types_allowed) & turns['target_link_type'].isin(link_types_allowed)]"
   ]
  },
  {
   "cell_type": "markdown",
   "metadata": {},
   "source": [
    "## Only count left, right turns from road to road\n"
   ]
  },
  {
   "cell_type": "code",
   "execution_count": 7,
   "metadata": {},
   "outputs": [],
   "source": [
    "turns.loc[(turns['source_link_type']!='road') & (turns['target_link_type']!='road'),'turn_type'] = None"
   ]
  },
  {
   "cell_type": "code",
   "execution_count": 8,
   "metadata": {},
   "outputs": [],
   "source": [
    "turn_G = modeling_turns.make_turn_graph(turns)"
   ]
  },
  {
   "cell_type": "code",
   "execution_count": 9,
   "metadata": {},
   "outputs": [],
   "source": [
    "geo_dict = dict(zip(links['linkid'],links['geometry']))"
   ]
  },
  {
   "cell_type": "markdown",
   "metadata": {},
   "source": [
    "## added a major/minor road classification, everything else is just left as \"road\"\n"
   ]
  },
  {
   "cell_type": "code",
   "execution_count": 10,
   "metadata": {},
   "outputs": [],
   "source": [
    "major_road = ['primary','secondary']\n",
    "major_road = major_road + [item + '_link' for item in major_road]\n",
    "minor_road = ['tertiary','unclassified','residential','service','trunk','living_street']\n",
    "major_road = major_road + [item + '_link' for item in minor_road]\n",
    "links.loc[links['highway'].isin(major_road),'link_type_new'] = 'major_road'\n",
    "links.loc[links['highway'].isin(minor_road),'link_type_new'] = 'minor_road'\n",
    "links.loc[links['link_type_new'].isna(),'link_type_new'] = links.loc[links['link_type_new'].isna(),'link_type']"
   ]
  },
  {
   "cell_type": "code",
   "execution_count": 11,
   "metadata": {},
   "outputs": [],
   "source": [
    "#links['link_type_new'].unique()\n",
    "links['high_traffic_stress'] = links['link_type_new'] == 'major_road'"
   ]
  },
  {
   "cell_type": "code",
   "execution_count": 12,
   "metadata": {},
   "outputs": [
    {
     "data": {
      "text/plain": [
       "Index(['A', 'B', 'linkid', 'link_type', 'osmid', 'timestamp', 'version',\n",
       "       'type', 'highway', 'oneway', 'name', 'bridge', 'tunnel', 'cycleway',\n",
       "       'service', 'footway', 'sidewalk', 'bicycle', 'foot', 'access', 'area',\n",
       "       'all_tags', 'geom_type', 'facility_fwd', 'facility_rev', 'year', 'lts',\n",
       "       'reverse_geometry', 'ascent_m', 'ascent_grade_%', 'descent_m',\n",
       "       'descent_grade_%', 'length_ft', 'geometry', 'link_type_new',\n",
       "       'high_traffic_stress'],\n",
       "      dtype='object')"
      ]
     },
     "execution_count": 12,
     "metadata": {},
     "output_type": "execute_result"
    }
   ],
   "source": [
    "links.columns"
   ]
  },
  {
   "cell_type": "code",
   "execution_count": 1,
   "metadata": {},
   "outputs": [],
   "source": [
    "# Format elevation variables"
   ]
  },
  {
   "cell_type": "markdown",
   "metadata": {},
   "source": [
    "Format variables (in progress)\n",
    "HERE variables have error because of the conflation process"
   ]
  },
  {
   "cell_type": "code",
   "execution_count": 13,
   "metadata": {},
   "outputs": [],
   "source": [
    "# above_30 = links['speedlimit_range_mph'].isin(['31-40 MPH','41-54 MPH','55-64 MPH'])\n",
    "# more_than_1_lpd = links['lanes_per_direction'].isin(['2-3','> 4'])\n",
    "# no_bike_infra = links['bike_facility_type'].isna()\n",
    "# links['NACTO'] = 1\n",
    "# links.loc[(above_30 | more_than_1_lpd) & no_bike_infra,'NACTO'] = 0\n",
    "# links_geo = links['linkid'].map(geo_dict)\n",
    "# links.reset_index(drop=True,inplace=True)\n",
    "# links = gpd.GeoDataFrame(links,geometry=links_geo,crs='epsg:2240')\n",
    "# links[links['NACTO']==0].explore()"
   ]
  },
  {
   "cell_type": "markdown",
   "metadata": {},
   "source": [
    "Format turn variables (in progress)"
   ]
  },
  {
   "cell_type": "code",
   "execution_count": 15,
   "metadata": {},
   "outputs": [],
   "source": [
    "turns['left'] = turns['turn_type'] == 'left'\n",
    "turns['right'] = turns['turn_type'] == 'right'"
   ]
  },
  {
   "cell_type": "markdown",
   "metadata": {},
   "source": [
    "## Directed network"
   ]
  },
  {
   "cell_type": "code",
   "execution_count": null,
   "metadata": {},
   "outputs": [],
   "source": [
    "link_cols_drop = ['facility_fwd','facility_rev','reverse_geometry','ascent_m', 'ascent_grade_%', 'descent_m', 'descent_grade_%']\n",
    "links.drop(columns=link_cols_drop,inplace=True)"
   ]
  },
  {
   "cell_type": "code",
   "execution_count": 14,
   "metadata": {},
   "outputs": [],
   "source": [
    "links['ascent_grade_%'] = links['ascent_grade_%'].fillna(0)"
   ]
  },
  {
   "cell_type": "code",
   "execution_count": 16,
   "metadata": {},
   "outputs": [],
   "source": [
    "speedfactor.calculate_adjusted_speed(links,9)"
   ]
  },
  {
   "cell_type": "code",
   "execution_count": null,
   "metadata": {},
   "outputs": [],
   "source": [
    "#remove certain links from the routing process\n",
    "links"
   ]
  },
  {
   "cell_type": "markdown",
   "metadata": {},
   "source": [
    "# Specify Link Impedance Functions"
   ]
  },
  {
   "cell_type": "markdown",
   "metadata": {},
   "source": [
    "## BicyclingPlus Demo Impedance Functions"
   ]
  },
  {
   "cell_type": "markdown",
   "metadata": {},
   "source": [
    "Turn + Stress Impedance"
   ]
  },
  {
   "cell_type": "code",
   "execution_count": 17,
   "metadata": {},
   "outputs": [],
   "source": [
    "#TODO allow for certain impedance functions to be left out"
   ]
  },
  {
   "cell_type": "code",
   "execution_count": 18,
   "metadata": {},
   "outputs": [],
   "source": [
    "#have position of beta next to name of variable\n",
    "#NOTE: keys must be in the currect order used\n",
    "betas_links = {\n",
    "    0 : 'high_traffic_stress',\n",
    "    1 : 'ascent_grade_%'\n",
    "} \n",
    "betas_turns = {\n",
    "    2 : 'left',\n",
    "    3 : 'right',\n",
    "    4 : 'signalized'\n",
    "}\n",
    "\n",
    "'''\n",
    "Currently works with binary and numeric variables. Categoricals will have to be\n",
    "cast into a different format for now.\n",
    "\n",
    "Link impedance is weighted by the length of the link, turns are just the impedance associated\n",
    "'''\n",
    "\n",
    "#customize this function to change impedance formula\n",
    "#TODO streamline process of trying out new impedance functions\n",
    "def link_impedance_function(betas,beta_links,links):\n",
    "    #prevent mutating the original links gdf\n",
    "    links = links.copy()\n",
    "    \n",
    "    multiplier = np.zeros(links.shape[0])\n",
    "    \n",
    "    #assumes that these effects are additive\n",
    "    for key, item in beta_links.items():\n",
    "        multiplier = multiplier + (betas[key] * links[item].values)\n",
    "    \n",
    "    links['link_cost'] = links['adj_travel_time_min'] * (1+multiplier)\n",
    "\n",
    "    return links\n",
    "\n",
    "def turn_impedance_function(betas,beta_turns,turns):\n",
    "    #use beta coefficient to calculate turn cost\n",
    "    base_turn_cost = 30 # from Lowry et al 2016 DOI: http://dx.doi.org/10.1016/j.tra.2016.02.003\n",
    "    # turn_costs = {\n",
    "    #     'left': betas[1] * base_turn_cost,\n",
    "    #     'right': betas[1] * base_turn_cost,\n",
    "    #     'straight': betas[1] * base_turn_cost\n",
    "    # }\n",
    "    #turns['turn_cost'] = turns['turn_type'].map(turn_costs)\n",
    "\n",
    "    turns = turns.copy()\n",
    "\n",
    "    turns['turn_cost'] = 0\n",
    "    #instance impedance\n",
    "    for key, item in beta_turns.items():\n",
    "        turns['turn_cost'] = turns['turn_cost'] + (betas[key] * turns[item])\n",
    "\n",
    "    turns['turn_cost'] = turns['turn_cost'].astype(float)\n",
    "\n",
    "    return turns"
   ]
  },
  {
   "cell_type": "markdown",
   "metadata": {},
   "source": [
    "# Import Training Set"
   ]
  },
  {
   "cell_type": "code",
   "execution_count": 19,
   "metadata": {},
   "outputs": [],
   "source": [
    "with (calibration_fp/'test_set.pkl').open('rb') as fh:\n",
    "    test_set = pickle.load(fh)\n",
    "with (calibration_fp/'train_set.pkl').open('rb') as fh:\n",
    "    train_set = pickle.load(fh)\n",
    "\n",
    "#match the ods to the network\n",
    "train_ods = stochastic_optimization.match_results_to_ods(train_set)\n",
    "test_ods = stochastic_optimization.match_results_to_ods(test_set)"
   ]
  },
  {
   "cell_type": "code",
   "execution_count": 20,
   "metadata": {},
   "outputs": [
    {
     "data": {
      "text/plain": [
       "<module 'stochastic_optimization' from 'c:\\\\Users\\\\tpassmore6\\\\Documents\\\\GitHub\\\\BikewaySimDev\\\\impedance_calibration\\\\stochastic_optimization.py'>"
      ]
     },
     "execution_count": 20,
     "metadata": {},
     "output_type": "execute_result"
    }
   ],
   "source": [
    "import stochastic_optimization\n",
    "from importlib import reload\n",
    "reload(stochastic_optimization)"
   ]
  },
  {
   "cell_type": "code",
   "execution_count": null,
   "metadata": {},
   "outputs": [],
   "source": [
    "#TODO put the loss/objective functions in a class for documentation purposes"
   ]
  },
  {
   "cell_type": "code",
   "execution_count": 21,
   "metadata": {},
   "outputs": [],
   "source": [
    "objective_function = stochastic_optimization.first_preference_recovery\n",
    "length_dict = dict(zip(links['linkid'],links['length_ft'])) # need this for objective function\n",
    "objective_function_kwargs = {'length_dict':length_dict,'overlap_threshold':0.80}\n",
    "\n",
    "# objective_function = stochastic_optimization.buffer_overlap\n",
    "# objective_function_kwargs = {'geo_dict':geo_dict,'buffer_ft':100,'standardize':True}\n",
    "\n",
    "#not really sure how to best set boundary conditions yet\n",
    "num_of_coefs = len(betas_links) + len(betas_turns)\n",
    "bounds = [[0, 5] for _ in range(0, num_of_coefs)]\n",
    "#TODO turn to dict instead"
   ]
  },
  {
   "cell_type": "code",
   "execution_count": 22,
   "metadata": {},
   "outputs": [],
   "source": [
    "past_betas = []\n",
    "past_vals = []\n",
    "args = (\n",
    "    past_betas,\n",
    "    past_vals,\n",
    "    betas_links,betas_turns,\n",
    "    ods,train_set,\n",
    "    link_impedance_function,\n",
    "    turn_impedance_function,\n",
    "    links,turns,turn_G,\n",
    "    objective_function,\n",
    "    objective_function_kwargs\n",
    ")"
   ]
  },
  {
   "cell_type": "code",
   "execution_count": 23,
   "metadata": {},
   "outputs": [
    {
     "data": {
      "text/plain": [
       "<module 'stochastic_optimization' from 'c:\\\\Users\\\\tpassmore6\\\\Documents\\\\GitHub\\\\BikewaySimDev\\\\impedance_calibration\\\\stochastic_optimization.py'>"
      ]
     },
     "execution_count": 23,
     "metadata": {},
     "output_type": "execute_result"
    }
   ],
   "source": [
    "from importlib import reload\n",
    "reload(stochastic_optimization)"
   ]
  },
  {
   "cell_type": "code",
   "execution_count": 24,
   "metadata": {},
   "outputs": [
    {
     "name": "stdout",
     "output_type": "stream",
     "text": [
      "high stress, ascent grade %, left, right, signalized, val\n",
      "[2.3 3.1 1.1 8.4 1.3] -0.004\n",
      "[5.2 4.2 2.1 9.4 5.2] -0.002\n",
      "[0.3 5.2 4.1 7.1 2.4] -0.012\n",
      "[8.2 8.2 8.2 0.4 8. ] -0.002\n",
      "[7.3 1.4 7.1 6.2 4.1] -0.008\n",
      "[6.2 7.3 9.3 4.  0.3] -0.002\n",
      "[1.5 9.4 5.4 1.5 3.3] -0.006\n",
      "[3.  0.4 6.1 5.2 9.2] -0.002\n",
      "[9.3 2.2 0.3 3.1 7.5] -0.006\n",
      "[4.5 6.1 3.  2.3 6.2] -0.002\n",
      "Negative Impedance Coefficient Detected\n",
      "[0.3 5.4 4.9 7.  4.1] -0.008\n",
      "[0.3 5.2 4.1 7.1 2.4] -0.012\n",
      "[5.6 5.3 3.2 7.9 6.3] -0.002\n",
      "[0.9 4.2 2.9 7.5 2.1] -0.008\n",
      "Negative Impedance Coefficient Detected\n",
      "[0.1 5.1 4.8 3.6 2.5] -0.014\n",
      "[2.4 1.  4.2 3.5 1.6] -0.01\n",
      "[6.2 2.7 2.1 3.8 5.4] -0.004\n",
      "[4.2 6.  3.2 3.1 4.9] -0.002\n",
      "[1.4 3.6 5.1 4.8 2.4] -0.008\n",
      "Negative Impedance Coefficient Detected\n",
      "[0.1 5.  4.5 4.7 2.4] -0.014\n",
      "Negative Impedance Coefficient Detected\n",
      "Negative Impedance Coefficient Detected\n",
      "[2.1 5.4 5.3 4.  2.1] -0.004\n",
      "Negative Impedance Coefficient Detected\n",
      "Negative Impedance Coefficient Detected\n",
      "[5.7 2.9 1.9 5.5 3.3] -0.004\n",
      "Negative Impedance Coefficient Detected\n",
      "[0.7 2.9 5.6 3.6 2.7] -0.01\n",
      "Negative Impedance Coefficient Detected\n",
      "Negative Impedance Coefficient Detected\n",
      "Negative Impedance Coefficient Detected\n",
      "Negative Impedance Coefficient Detected\n",
      "[2.9 5.2 5.4 2.6 2.2] -0.002\n",
      "Negative Impedance Coefficient Detected\n",
      "Negative Impedance Coefficient Detected\n",
      "[4.2 3.7 3.8 6.7 7.4] -0.002\n",
      "[3.2 4.9 3.3 3.9 3.1] -0.002\n",
      "Negative Impedance Coefficient Detected\n",
      "[ 0.8  4.9  4.  10.1  3.9] -0.01\n",
      "Negative Impedance Coefficient Detected\n",
      "Negative Impedance Coefficient Detected\n",
      "[1.7 2.4 4.4 5.7 3.2] -0.006\n",
      "[2.4 5.2 4.8 2.8 2.3] -0.002\n",
      "[1.4 7.3 5.1 3.  3.1] -0.006\n",
      "[4.4 2.5 5.4 4.6 3.5] -0.002\n",
      "[3.7 5.3 5.3 0.5 4.4] -0.002\n",
      "[2.1 5.3 3.7 3.2 3.7] -0.002\n",
      "Took 2.032667878402604 hours\n"
     ]
    }
   ],
   "source": [
    "start = time.time()\n",
    "# args = (df_edges,turns,turn_G,matched_traces,False)\n",
    "print('high stress,','ascent grade %,','left,','right,','signalized,','val')\n",
    "x = minimize(stochastic_optimization.impedance_calibration, bounds, args=args, method='pso', options={'maxiter':5})\n",
    "end = time.time()\n",
    "print(f'Took {(end-start)/60/60} hours')"
   ]
  },
  {
   "cell_type": "code",
   "execution_count": 25,
   "metadata": {},
   "outputs": [
    {
     "data": {
      "text/plain": [
       "     fun: -0.014\n",
       " message: 'maximum number of iterations is reached'\n",
       "    nfev: 50\n",
       "     nit: 5\n",
       "  status: -1\n",
       " success: False\n",
       "       x: array([0.05424486, 5.04365132, 4.54454701, 4.72097365, 2.44650265])"
      ]
     },
     "execution_count": 25,
     "metadata": {},
     "output_type": "execute_result"
    }
   ],
   "source": [
    "x"
   ]
  },
  {
   "cell_type": "code",
   "execution_count": 26,
   "metadata": {},
   "outputs": [
    {
     "data": {
      "text/plain": [
       "-0.014"
      ]
     },
     "execution_count": 26,
     "metadata": {},
     "output_type": "execute_result"
    }
   ],
   "source": [
    "np.array(past_vals).min()"
   ]
  },
  {
   "cell_type": "code",
   "execution_count": 27,
   "metadata": {},
   "outputs": [
    {
     "data": {
      "text/plain": [
       "(0.1, 5.1, 4.8, 3.6, 2.5)"
      ]
     },
     "execution_count": 27,
     "metadata": {},
     "output_type": "execute_result"
    }
   ],
   "source": [
    "past_betas[np.array(past_vals).argmin()]"
   ]
  },
  {
   "cell_type": "markdown",
   "metadata": {},
   "source": [
    "Create GIFs"
   ]
  },
  {
   "cell_type": "code",
   "execution_count": 28,
   "metadata": {},
   "outputs": [],
   "source": [
    "import geopandas as gpd\n",
    "import matplotlib.pyplot as plt\n",
    "import imageio\n",
    "from io import BytesIO\n",
    "\n",
    "# Function to plot a GeoSeries and save the plot\n",
    "def plot_geoseries(geoseries,other_geoseries,i,past_val):\n",
    "    fig, ax = plt.subplots(figsize=(20, 20))\n",
    "    #cx.add_basemap(ax)\n",
    "    other_geoseries.plot(ax=ax,color='blue',style_kwds={'linewidth':2})\n",
    "    geoseries.plot(ax=ax,color='red')\n",
    "    ax.set_title(f\"Iter:{i} Overlap Function:{past_val}\")\n",
    "    ax.set_axis_off()\n",
    "    img_bytes = BytesIO()\n",
    "    plt.savefig(img_bytes, format='png', bbox_inches='tight')\n",
    "    plt.close()\n",
    "    return img_bytes.getvalue()"
   ]
  },
  {
   "cell_type": "code",
   "execution_count": 29,
   "metadata": {},
   "outputs": [],
   "source": [
    "# num_trips = 10\n",
    "\n",
    "# for z in range(0,num_trips):\n",
    "\n",
    "#     #choose a random tripid\n",
    "#     tripid = random.choice(list(train_set.keys()))\n",
    "#     start_node = train_set[tripid]['start_node']\n",
    "#     end_node = train_set[tripid]['end_node']\n",
    "\n",
    "#     matched_edges = train_set[tripid]['matched_edges']\n",
    "#     matched_edges = np.array(matched_edges)\n",
    "#     matched_line = MultiLineString([geo_dict[linkid] for linkid, reverse_link in matched_edges])\n",
    "#     matched_line = gpd.GeoSeries(matched_line,crs='epsg:2240')\n",
    "#     matched_line = matched_line.to_crs('epsg:4326')\n",
    "\n",
    "#     modeled_lines = []\n",
    "\n",
    "#     for betas in past_betas:\n",
    "#         #update network with the correct impedances\n",
    "#         stochastic_optimization.impedance_update(betas,betas_links,betas_turns,\n",
    "#                                 link_impedance_function,\n",
    "#                                 turn_impedance_function,\n",
    "#                                 links,turns,turn_G)\n",
    "#         #find shortest path\n",
    "#         modeled_edges = stochastic_optimization.impedance_path(turns,turn_G,start_node,end_node)['edge_list']\n",
    "#         modeled_line = MultiLineString([geo_dict[linkid] for linkid, reverse_link in modeled_edges])\n",
    "#         modeled_line = gpd.GeoSeries(modeled_line,crs='epsg:2240')\n",
    "#         modeled_line = modeled_line.to_crs('epsg:4326')\n",
    "#         modeled_lines.append(modeled_line)\n",
    "\n",
    "#     # List of GeoSeries (Replace this with your own GeoSeries list)\n",
    "#     geoseries_list = modeled_lines\n",
    "\n",
    "#     # Loop through the list of GeoSeries, plot each one, and save the plot\n",
    "#     images = []\n",
    "#     for i, geoseries in enumerate(geoseries_list):\n",
    "#         past_val = past_vals[i]\n",
    "#         image_bytes = plot_geoseries(geoseries,matched_line,i,past_val)\n",
    "#         images.append(imageio.imread(BytesIO(image_bytes)))\n",
    "\n",
    "#     # Path for saving the GIF\n",
    "#     gif_path = f\"animations/stress_animation_{z}.gif\"\n",
    "\n",
    "#     # Save the images as a GIF\n",
    "#     imageio.mimsave(Path.cwd()/gif_path, images, format='gif', duration=2)\n"
   ]
  },
  {
   "cell_type": "markdown",
   "metadata": {},
   "source": [
    "#### Calculate overlap for test set\n",
    "Need to use best set of betas to "
   ]
  },
  {
   "cell_type": "code",
   "execution_count": 75,
   "metadata": {},
   "outputs": [],
   "source": [
    "link_impedance_col = \"adj_travel_time_min\"\n",
    "\n",
    "#update impedances\n",
    "betas = past_betas[np.array(past_vals).argmin()]#x.x\n",
    "print(betas)\n",
    "stochastic_optimization.impedance_update(betas,betas_links,betas_turns,\n",
    "                          link_impedance_function,\n",
    "                          turn_impedance_function,\n",
    "                          links,turns,turn_G)\n",
    "\n",
    "#find shortest path\n",
    "results_dict = {(start_node,end_node):stochastic_optimization.impedance_path(turns,turn_G,start_node,end_node) for start_node, end_node in test_ods}\n",
    "\n",
    "# #calulate objective function\n",
    "# val_to_minimize = objective_function(test_set,results_dict,**objective_function_kwargs)\n",
    "# np.round(val_to_minimize,2)"
   ]
  },
  {
   "cell_type": "code",
   "execution_count": null,
   "metadata": {},
   "outputs": [],
   "source": []
  },
  {
   "cell_type": "code",
   "execution_count": 76,
   "metadata": {},
   "outputs": [],
   "source": [
    "def first_preference_recovery(match_results,results_dict,**kwargs):\n",
    "    '''\n",
    "    Seen in Meister et al. 2024: https://doi.org/10.1016/j.jcmr.2024.100018\n",
    "\n",
    "    \"FPR is the percentage of correct predictions assuming that the predicted choice\n",
    "    is the one with the highest choice probability\"\n",
    "\n",
    "    This has been modified to look at the similarity between the modeled route\n",
    "    and the chosen route instead of choice probabilities. A correct modeled route will\n",
    "    contain all or most of the links included in the map matched trip. An overlap threshold\n",
    "    controls what percentage of intersection between the chosen and modeled route is\n",
    "    needed to be considered a match. A 100% overlap threshold means that the modeled\n",
    "    route contains all of the links included in the chosen route. A 0% overlap threshold\n",
    "    means that the modeled route doesn't need to contain any of links in the chosen route\n",
    "    to count. Length is used to weight the overlap appropriately (i.e., missing short links\n",
    "    isn't as big of a deal as long ones).\n",
    "\n",
    "    This function returns a 1 or a 0 depending on the overlap threshold set. The average is\n",
    "    taken across all the trips, hence it will be between 0 and 1.\n",
    "\n",
    "    '''\n",
    "\n",
    "    result = []\n",
    "    \n",
    "    for tripid, item in match_results.items():\n",
    "\n",
    "        start_node = item['origin_node']\n",
    "        end_node = item['destination_node']\n",
    "\n",
    "        #retrieve linkids in (linkid:int,reverse_link:boolean) format\n",
    "        chosen = [tuple(row) for row in match_results[tripid]['matched_edges'].to_numpy()]\n",
    "        modeled_edges = results_dict[(start_node,end_node)]['edge_list']\n",
    "\n",
    "        #get lengths (non-directional)\n",
    "        chosen_length = np.sum([kwargs['length_dict'][linkid[0]] for linkid in chosen])\n",
    "        #modeled_length = np.sum([kwargs['length_dict'][linkid[0]] for linkid in modeled_edges])\n",
    "\n",
    "        #convert to sets\n",
    "        chosen = set(chosen)\n",
    "        modeled_edges = set(modeled_edges)\n",
    "\n",
    "        #find intersection of sets\n",
    "        shared = list(set.intersection(chosen,modeled_edges))\n",
    "\n",
    "        #find intersection length\n",
    "        intersection_length = np.sum([kwargs['length_dict'][linkid[0]] for linkid in shared])\n",
    "\n",
    "        # result.append((intersection_length,chosen_length))\n",
    "        #result.append((intersection_length,chosen_length))\n",
    "\n",
    "        overlap_calc = intersection_length / chosen_length\n",
    "\n",
    "        if overlap_calc >= kwargs['overlap_threshold']:\n",
    "            result.append(tripid)\n",
    "    \n",
    "    #TODO another interpretation could be percentage of all currect?\n",
    "    result = np.array(result)\n",
    "    \n",
    "    #result = len(result) / len(match_results)\n",
    "\n",
    "    # if kwargs['standardize']:\n",
    "    #     #average intersect over chosen length\n",
    "    #     result = np.mean(result[:,0] / result[:,1])\n",
    "    # else:\n",
    "    #     #total intersect over total chosen length\n",
    "    #     result = np.sum(result[:,0]) / np.sum(result)\n",
    "    \n",
    "    #return negative result because we want to minimize\n",
    "    return result"
   ]
  },
  {
   "cell_type": "code",
   "execution_count": 77,
   "metadata": {},
   "outputs": [],
   "source": [
    "#calculate for each one\n",
    "vals_to_minimize = first_preference_recovery(test_set,results_dict,**objective_function_kwargs)"
   ]
  },
  {
   "cell_type": "code",
   "execution_count": 36,
   "metadata": {},
   "outputs": [
    {
     "data": {
      "text/plain": [
       "dict_keys([80, 104, 107, 118, 120, 133, 134, 136, 142, 155, 167, 168, 177, 188, 197, 212, 231, 243, 261, 267, 274, 281, 282, 293, 304, 306, 309, 322, 324, 356, 369, 370, 371, 381, 382, 395, 403, 406, 409, 411, 423, 428, 441, 458, 462, 468, 469, 483, 487, 488, 501, 503, 504, 521, 547, 557, 559, 562, 571, 588, 594, 597, 607, 615, 663, 666, 677, 678, 691, 704, 707, 715, 735, 782, 784, 812, 821, 831, 837, 841, 846, 861, 911, 933, 939, 2053, 2068, 2069, 2104, 2110, 2127, 2128, 2130, 2164, 2168, 2173, 2193, 2200, 2208, 2212, 2232, 2233, 2235, 2311, 2323, 2379, 2398, 2424, 2453, 2469, 2477, 2484, 2505, 2508, 2512, 2548, 2551, 2559, 2573, 2582, 2587, 2589, 2591, 2594, 2621, 2660, 2699, 2753, 2820, 2822, 2870, 2879, 2914, 2937, 2947, 2953, 2963, 2982, 2986, 4109, 4113, 4137, 4143, 4169, 4220, 4221, 4269, 4291, 4292, 4296, 4318, 4335, 4410, 4425, 4489, 4492, 4533, 4535, 4640, 4657, 4670, 4674, 4691, 4750, 4755, 4759, 4768, 4773, 4792, 4794, 4808, 4812, 4865, 4881, 4886, 4892, 4902, 4921, 4938, 4966, 5032, 5036, 6163, 6164, 6165, 6192, 6243, 6261, 6313, 6347, 6375, 6376, 6478, 6543, 6548, 6568, 6587, 6600, 6601, 6735, 6753, 6755, 6766, 6834, 6837, 6840, 6841, 6864, 6865, 6903, 6982, 6988, 6989, 7016, 7017, 7027, 7044, 8203, 8232, 8258, 8259, 8275, 8282, 8343, 8385, 8386, 8448, 8452, 8455, 8459, 8483, 8485, 8491, 8538, 8587, 8594, 8636, 8642, 8645, 8646, 8650, 8658, 8666, 8668, 8768, 8777, 8802, 8810, 8822, 8881, 8882, 8888, 8893, 8907, 8937, 8959, 8979, 9022, 9044, 10343, 10346, 10500, 10510, 10525, 10532, 10556, 10606, 10669, 10690, 10702, 10708, 10799, 10879, 10924, 11004, 11043, 11053, 11057, 11060, 11083, 11129, 11130, 11142, 11144, 11147, 11173, 12302, 12316, 12345, 12385, 12422, 12429, 12458, 12471, 12514, 12517, 12666, 12672, 12681, 12742, 12744, 12772, 12783, 12811, 12902, 12933, 13002, 13012, 13113, 13119, 13123, 13165, 13182, 13203, 13206, 14442, 14496, 14531, 14590, 14606, 14678, 14691, 14714, 14744, 14768, 14876, 14882, 14928, 14952, 14976, 14981, 14994, 14999, 15035, 15040, 15054, 15063, 15127, 15129, 15155, 15195, 15258, 16390, 16400, 16454, 16458, 16462, 16481, 16490, 16516, 16597, 16787, 16828, 16855, 16869, 16914, 16941, 17006, 17042, 17094, 17100, 17128, 17129, 17229, 17264, 17265, 17277, 17287, 17295, 18529, 18539, 24608, 24629, 24645, 24690, 24697, 24704, 24768, 24828, 24884, 24995, 25004, 25026, 25086, 25104, 25107, 25108, 25133, 25148, 25164, 25193, 25249, 25268, 25294, 25310, 25313, 25379, 25402, 25406, 25412, 25464, 25498, 25507, 26639, 26697, 26702, 26705, 26710, 26827, 26834, 26845, 26846, 26878, 26885, 26886, 27026, 27028, 27037, 27138, 27156, 27214, 27219, 27272, 27275, 27290, 27310, 27316, 27325, 27341, 27393, 27418, 27476, 27505, 27550, 28725, 28900, 28925, 28975, 28989, 29071, 29104, 29139, 29143, 29264, 29274, 29304, 29310, 29325, 29330, 29332, 29349, 29394, 29463, 29483, 29546, 29562, 29573, 29608, 29614, 30727, 30729, 30789, 30790, 30842, 30845, 30940, 30943, 31022, 31031, 31070, 31077, 31130, 31283, 31284, 31314, 31325, 31393, 31412, 31429, 31440, 31499, 32769, 32870, 32881, 32915, 32966, 32979, 32992, 33134, 33160, 33232, 33301, 33310, 33401, 33452, 33525, 33545, 33569, 33604, 33669])"
      ]
     },
     "execution_count": 36,
     "metadata": {},
     "output_type": "execute_result"
    }
   ],
   "source": [
    "test_set.keys()"
   ]
  },
  {
   "cell_type": "code",
   "execution_count": 37,
   "metadata": {},
   "outputs": [
    {
     "data": {
      "text/plain": [
       "array([  735,  8881,  9022, 14744])"
      ]
     },
     "execution_count": 37,
     "metadata": {},
     "output_type": "execute_result"
    }
   ],
   "source": [
    "vals_to_minimize"
   ]
  },
  {
   "cell_type": "markdown",
   "metadata": {},
   "source": [
    "# Compare against shortest path results (training set)"
   ]
  },
  {
   "cell_type": "markdown",
   "metadata": {},
   "source": [
    "Calculate overlap for shortest path"
   ]
  },
  {
   "cell_type": "code",
   "execution_count": 53,
   "metadata": {},
   "outputs": [
    {
     "name": "stdout",
     "output_type": "stream",
     "text": [
      "-0.052\n"
     ]
    }
   ],
   "source": [
    "# link_impedance_col = \"adj_travel_time_min\"\n",
    "\n",
    "# #update\n",
    "# stochastic_optimization.back_to_base_impedance(link_impedance_col,links,turns,turn_G)\n",
    "\n",
    "# #find shortest path\n",
    "# results_dict = {(start_node,end_node):stochastic_optimization.impedance_path(turns,turn_G,start_node,end_node) for start_node, end_node in ods}\n",
    "\n",
    "# #calulate objective function\n",
    "# val_to_minimize = objective_function(train_set,results_dict,**objective_function_kwargs)\n",
    "# print(val_to_minimize)"
   ]
  },
  {
   "cell_type": "markdown",
   "metadata": {},
   "source": [
    "Calculate for shortest path (no elevation adjustment)"
   ]
  },
  {
   "cell_type": "code",
   "execution_count": 64,
   "metadata": {},
   "outputs": [
    {
     "ename": "KeyError",
     "evalue": "(69531971, 5416216875)",
     "output_type": "error",
     "traceback": [
      "\u001b[1;31m---------------------------------------------------------------------------\u001b[0m",
      "\u001b[1;31mKeyError\u001b[0m                                  Traceback (most recent call last)",
      "Cell \u001b[1;32mIn [64], line 10\u001b[0m\n\u001b[0;32m      7\u001b[0m results_dict \u001b[38;5;241m=\u001b[39m {(start_node,end_node):stochastic_optimization\u001b[38;5;241m.\u001b[39mimpedance_path(turns,turn_G,start_node,end_node) \u001b[38;5;28;01mfor\u001b[39;00m start_node, end_node \u001b[38;5;129;01min\u001b[39;00m test_ods}\n\u001b[0;32m      9\u001b[0m \u001b[38;5;66;03m#calulate objective function\u001b[39;00m\n\u001b[1;32m---> 10\u001b[0m val_to_minimize \u001b[38;5;241m=\u001b[39m objective_function(train_set,results_dict,\u001b[38;5;241m*\u001b[39m\u001b[38;5;241m*\u001b[39mobjective_function_kwargs)\n\u001b[0;32m     11\u001b[0m \u001b[38;5;28mprint\u001b[39m(val_to_minimize)\n",
      "File \u001b[1;32mc:\\Users\\tpassmore6\\Documents\\GitHub\\BikewaySimDev\\impedance_calibration\\stochastic_optimization.py:357\u001b[0m, in \u001b[0;36mfirst_preference_recovery\u001b[1;34m(match_results, results_dict, **kwargs)\u001b[0m\n\u001b[0;32m    355\u001b[0m \u001b[38;5;66;03m#retrieve linkids in (linkid:int,reverse_link:boolean) format\u001b[39;00m\n\u001b[0;32m    356\u001b[0m chosen \u001b[38;5;241m=\u001b[39m [\u001b[38;5;28mtuple\u001b[39m(row) \u001b[38;5;28;01mfor\u001b[39;00m row \u001b[38;5;129;01min\u001b[39;00m match_results[tripid][\u001b[38;5;124m'\u001b[39m\u001b[38;5;124mmatched_edges\u001b[39m\u001b[38;5;124m'\u001b[39m]\u001b[38;5;241m.\u001b[39mto_numpy()]\n\u001b[1;32m--> 357\u001b[0m modeled_edges \u001b[38;5;241m=\u001b[39m \u001b[43mresults_dict\u001b[49m\u001b[43m[\u001b[49m\u001b[43m(\u001b[49m\u001b[43mstart_node\u001b[49m\u001b[43m,\u001b[49m\u001b[43mend_node\u001b[49m\u001b[43m)\u001b[49m\u001b[43m]\u001b[49m[\u001b[38;5;124m'\u001b[39m\u001b[38;5;124medge_list\u001b[39m\u001b[38;5;124m'\u001b[39m]\n\u001b[0;32m    359\u001b[0m \u001b[38;5;66;03m#get lengths (non-directional)\u001b[39;00m\n\u001b[0;32m    360\u001b[0m chosen_length \u001b[38;5;241m=\u001b[39m np\u001b[38;5;241m.\u001b[39msum([kwargs[\u001b[38;5;124m'\u001b[39m\u001b[38;5;124mlength_dict\u001b[39m\u001b[38;5;124m'\u001b[39m][linkid[\u001b[38;5;241m0\u001b[39m]] \u001b[38;5;28;01mfor\u001b[39;00m linkid \u001b[38;5;129;01min\u001b[39;00m chosen])\n",
      "\u001b[1;31mKeyError\u001b[0m: (69531971, 5416216875)"
     ]
    }
   ],
   "source": [
    "# link_impedance_col = \"travel_time_min\"\n",
    "\n",
    "# #update\n",
    "# stochastic_optimization.back_to_base_impedance(link_impedance_col,links,turns,turn_G)\n",
    "\n",
    "# #find shortest path\n",
    "# results_dict = {(start_node,end_node):stochastic_optimization.impedance_path(turns,turn_G,start_node,end_node) for start_node, end_node in ods}\n",
    "\n",
    "# #calulate objective function\n",
    "# val_to_minimize = objective_function(train_set,results_dict,**objective_function_kwargs)\n",
    "# print(val_to_minimize)"
   ]
  },
  {
   "cell_type": "markdown",
   "metadata": {},
   "source": [
    "## Visualize random trip"
   ]
  },
  {
   "cell_type": "code",
   "execution_count": 65,
   "metadata": {},
   "outputs": [
    {
     "data": {
      "text/plain": [
       "array([  735,  8881,  9022, 14744])"
      ]
     },
     "execution_count": 65,
     "metadata": {},
     "output_type": "execute_result"
    }
   ],
   "source": [
    "vals_to_minimize"
   ]
  },
  {
   "cell_type": "markdown",
   "metadata": {},
   "source": [
    "These did well"
   ]
  },
  {
   "cell_type": "code",
   "execution_count": 68,
   "metadata": {},
   "outputs": [
    {
     "data": {
      "text/html": [
       "<div style=\"width:100%;\"><div style=\"position:relative;width:100%;height:0;padding-bottom:60%;\"><span style=\"color:#565656\">Make this Notebook Trusted to load map: File -> Trust Notebook</span><iframe srcdoc=\"&lt;!DOCTYPE html&gt;\n",
       "&lt;head&gt;    \n",
       "    &lt;meta http-equiv=&quot;content-type&quot; content=&quot;text/html; charset=UTF-8&quot; /&gt;\n",
       "    \n",
       "        &lt;script&gt;\n",
       "            L_NO_TOUCH = false;\n",
       "            L_DISABLE_3D = false;\n",
       "        &lt;/script&gt;\n",
       "    \n",
       "    &lt;style&gt;html, body {width: 100%;height: 100%;margin: 0;padding: 0;}&lt;/style&gt;\n",
       "    &lt;style&gt;#map {position:absolute;top:0;bottom:0;right:0;left:0;}&lt;/style&gt;\n",
       "    &lt;script src=&quot;https://cdn.jsdelivr.net/npm/leaflet@1.6.0/dist/leaflet.js&quot;&gt;&lt;/script&gt;\n",
       "    &lt;script src=&quot;https://code.jquery.com/jquery-1.12.4.min.js&quot;&gt;&lt;/script&gt;\n",
       "    &lt;script src=&quot;https://maxcdn.bootstrapcdn.com/bootstrap/3.2.0/js/bootstrap.min.js&quot;&gt;&lt;/script&gt;\n",
       "    &lt;script src=&quot;https://cdnjs.cloudflare.com/ajax/libs/Leaflet.awesome-markers/2.0.2/leaflet.awesome-markers.js&quot;&gt;&lt;/script&gt;\n",
       "    &lt;link rel=&quot;stylesheet&quot; href=&quot;https://cdn.jsdelivr.net/npm/leaflet@1.6.0/dist/leaflet.css&quot;/&gt;\n",
       "    &lt;link rel=&quot;stylesheet&quot; href=&quot;https://maxcdn.bootstrapcdn.com/bootstrap/3.2.0/css/bootstrap.min.css&quot;/&gt;\n",
       "    &lt;link rel=&quot;stylesheet&quot; href=&quot;https://maxcdn.bootstrapcdn.com/bootstrap/3.2.0/css/bootstrap-theme.min.css&quot;/&gt;\n",
       "    &lt;link rel=&quot;stylesheet&quot; href=&quot;https://maxcdn.bootstrapcdn.com/font-awesome/4.6.3/css/font-awesome.min.css&quot;/&gt;\n",
       "    &lt;link rel=&quot;stylesheet&quot; href=&quot;https://cdnjs.cloudflare.com/ajax/libs/Leaflet.awesome-markers/2.0.2/leaflet.awesome-markers.css&quot;/&gt;\n",
       "    &lt;link rel=&quot;stylesheet&quot; href=&quot;https://cdn.jsdelivr.net/gh/python-visualization/folium/folium/templates/leaflet.awesome.rotate.min.css&quot;/&gt;\n",
       "    \n",
       "            &lt;meta name=&quot;viewport&quot; content=&quot;width=device-width,\n",
       "                initial-scale=1.0, maximum-scale=1.0, user-scalable=no&quot; /&gt;\n",
       "            &lt;style&gt;\n",
       "                #map_4cdd3fdd8f48289323e1041663a6127a {\n",
       "                    position: relative;\n",
       "                    width: 100.0%;\n",
       "                    height: 100.0%;\n",
       "                    left: 0.0%;\n",
       "                    top: 0.0%;\n",
       "                }\n",
       "            &lt;/style&gt;\n",
       "        \n",
       "&lt;/head&gt;\n",
       "&lt;body&gt;    \n",
       "    \n",
       "            &lt;div class=&quot;folium-map&quot; id=&quot;map_4cdd3fdd8f48289323e1041663a6127a&quot; &gt;&lt;/div&gt;\n",
       "        \n",
       "&lt;/body&gt;\n",
       "&lt;script&gt;    \n",
       "    \n",
       "            var map_4cdd3fdd8f48289323e1041663a6127a = L.map(\n",
       "                &quot;map_4cdd3fdd8f48289323e1041663a6127a&quot;,\n",
       "                {\n",
       "                    center: [33.82218229791914, -84.37820063153438],\n",
       "                    crs: L.CRS.EPSG3857,\n",
       "                    zoom: 13,\n",
       "                    zoomControl: true,\n",
       "                    preferCanvas: false,\n",
       "                }\n",
       "            );\n",
       "\n",
       "            \n",
       "\n",
       "        \n",
       "    \n",
       "            var tile_layer_9e35803b1009ae76e054340a3e4cee32 = L.tileLayer(\n",
       "                &quot;https://{s}.tile.openstreetmap.org/{z}/{x}/{y}.png&quot;,\n",
       "                {&quot;attribution&quot;: &quot;Data by \\u0026copy; \\u003ca href=\\&quot;http://openstreetmap.org\\&quot;\\u003eOpenStreetMap\\u003c/a\\u003e, under \\u003ca href=\\&quot;http://www.openstreetmap.org/copyright\\&quot;\\u003eODbL\\u003c/a\\u003e.&quot;, &quot;detectRetina&quot;: false, &quot;maxNativeZoom&quot;: 18, &quot;maxZoom&quot;: 18, &quot;minZoom&quot;: 0, &quot;noWrap&quot;: false, &quot;opacity&quot;: 1, &quot;subdomains&quot;: &quot;abc&quot;, &quot;tms&quot;: false}\n",
       "            ).addTo(map_4cdd3fdd8f48289323e1041663a6127a);\n",
       "        \n",
       "    \n",
       "            var feature_group_932aa92e2049e3ae2b69cfc7abb05b4b = L.featureGroup(\n",
       "                {}\n",
       "            ).addTo(map_4cdd3fdd8f48289323e1041663a6127a);\n",
       "        \n",
       "    \n",
       "        function geo_json_991ac1f5dd9156d88275c984e9a69fbc_styler(feature) {\n",
       "            switch(feature.id) {\n",
       "                default:\n",
       "                    return {&quot;color&quot;: &quot;#fc8d62&quot;, &quot;weight&quot;: 12};\n",
       "            }\n",
       "        }\n",
       "\n",
       "        function geo_json_991ac1f5dd9156d88275c984e9a69fbc_onEachFeature(feature, layer) {\n",
       "            layer.on({\n",
       "            });\n",
       "        };\n",
       "        var geo_json_991ac1f5dd9156d88275c984e9a69fbc = L.geoJson(null, {\n",
       "                onEachFeature: geo_json_991ac1f5dd9156d88275c984e9a69fbc_onEachFeature,\n",
       "            \n",
       "                style: geo_json_991ac1f5dd9156d88275c984e9a69fbc_styler,\n",
       "        });\n",
       "\n",
       "        function geo_json_991ac1f5dd9156d88275c984e9a69fbc_add (data) {\n",
       "            geo_json_991ac1f5dd9156d88275c984e9a69fbc\n",
       "                .addData(data)\n",
       "                .addTo(feature_group_932aa92e2049e3ae2b69cfc7abb05b4b);\n",
       "        }\n",
       "            geo_json_991ac1f5dd9156d88275c984e9a69fbc_add({&quot;bbox&quot;: [-84.3875026, 33.8209406, -84.3698987, 33.82286499999999], &quot;features&quot;: [{&quot;bbox&quot;: [-84.3875026, 33.8228395, -84.3866703, 33.82286499999999], &quot;geometry&quot;: {&quot;coordinates&quot;: [[-84.3866703, 33.822840400000004], [-84.3870279, 33.8228395], [-84.3873931, 33.8228452], [-84.3875026, 33.82286499999999]], &quot;type&quot;: &quot;LineString&quot;}, &quot;id&quot;: &quot;0&quot;, &quot;properties&quot;: {}, &quot;type&quot;: &quot;Feature&quot;}, {&quot;bbox&quot;: [-84.3866703, 33.822840400000004, -84.3864005, 33.822841000000004], &quot;geometry&quot;: {&quot;coordinates&quot;: [[-84.3866703, 33.822840400000004], [-84.3864005, 33.822841000000004]], &quot;type&quot;: &quot;LineString&quot;}, &quot;id&quot;: &quot;1&quot;, &quot;properties&quot;: {}, &quot;type&quot;: &quot;Feature&quot;}, {&quot;bbox&quot;: [-84.3864005, 33.8228368, -84.3860095, 33.822841000000004], &quot;geometry&quot;: {&quot;coordinates&quot;: [[-84.3860095, 33.8228368], [-84.3864005, 33.822841000000004]], &quot;type&quot;: &quot;LineString&quot;}, &quot;id&quot;: &quot;2&quot;, &quot;properties&quot;: {}, &quot;type&quot;: &quot;Feature&quot;}, {&quot;bbox&quot;: [-84.3860095, 33.82281799999999, -84.384249, 33.8228368], &quot;geometry&quot;: {&quot;coordinates&quot;: [[-84.3860095, 33.8228368], [-84.384249, 33.82281799999999]], &quot;type&quot;: &quot;LineString&quot;}, &quot;id&quot;: &quot;3&quot;, &quot;properties&quot;: {}, &quot;type&quot;: &quot;Feature&quot;}, {&quot;bbox&quot;: [-84.384249, 33.822817400000005, -84.3839717, 33.82281799999999], &quot;geometry&quot;: {&quot;coordinates&quot;: [[-84.3839717, 33.822817400000005], [-84.384249, 33.82281799999999]], &quot;type&quot;: &quot;LineString&quot;}, &quot;id&quot;: &quot;4&quot;, &quot;properties&quot;: {}, &quot;type&quot;: &quot;Feature&quot;}, {&quot;bbox&quot;: [-84.3839717, 33.822816, -84.38326, 33.822817400000005], &quot;geometry&quot;: {&quot;coordinates&quot;: [[-84.3839717, 33.822817400000005], [-84.38326, 33.822816]], &quot;type&quot;: &quot;LineString&quot;}, &quot;id&quot;: &quot;5&quot;, &quot;properties&quot;: {}, &quot;type&quot;: &quot;Feature&quot;}, {&quot;bbox&quot;: [-84.38326, 33.822812000000006, -84.381787, 33.822816], &quot;geometry&quot;: {&quot;coordinates&quot;: [[-84.381787, 33.822812000000006], [-84.38326, 33.822816]], &quot;type&quot;: &quot;LineString&quot;}, &quot;id&quot;: &quot;6&quot;, &quot;properties&quot;: {}, &quot;type&quot;: &quot;Feature&quot;}, {&quot;bbox&quot;: [-84.381787, 33.82281, -84.380697, 33.822812000000006], &quot;geometry&quot;: {&quot;coordinates&quot;: [[-84.380697, 33.82281], [-84.381787, 33.822812000000006]], &quot;type&quot;: &quot;LineString&quot;}, &quot;id&quot;: &quot;7&quot;, &quot;properties&quot;: {}, &quot;type&quot;: &quot;Feature&quot;}, {&quot;bbox&quot;: [-84.380697, 33.822806, -84.3799824, 33.82281], &quot;geometry&quot;: {&quot;coordinates&quot;: [[-84.380697, 33.82281], [-84.3799824, 33.822806]], &quot;type&quot;: &quot;LineString&quot;}, &quot;id&quot;: &quot;8&quot;, &quot;properties&quot;: {}, &quot;type&quot;: &quot;Feature&quot;}, {&quot;bbox&quot;: [-84.3799824, 33.822806, -84.3795543, 33.822808], &quot;geometry&quot;: {&quot;coordinates&quot;: [[-84.3795543, 33.822808], [-84.3799824, 33.822806]], &quot;type&quot;: &quot;LineString&quot;}, &quot;id&quot;: &quot;9&quot;, &quot;properties&quot;: {}, &quot;type&quot;: &quot;Feature&quot;}, {&quot;bbox&quot;: [-84.3795543, 33.822808, -84.37845600000001, 33.8228178], &quot;geometry&quot;: {&quot;coordinates&quot;: [[-84.3795543, 33.822808], [-84.37845600000001, 33.8228178]], &quot;type&quot;: &quot;LineString&quot;}, &quot;id&quot;: &quot;10&quot;, &quot;properties&quot;: {}, &quot;type&quot;: &quot;Feature&quot;}, {&quot;bbox&quot;: [-84.37845600000001, 33.82276089999999, -84.3779315, 33.8228178], &quot;geometry&quot;: {&quot;coordinates&quot;: [[-84.3779315, 33.82276089999999], [-84.3779552, 33.82276860000001], [-84.3780485, 33.82278530000001], [-84.3781537, 33.8228005], [-84.3782706, 33.8228093], [-84.37845600000001, 33.8228178]], &quot;type&quot;: &quot;LineString&quot;}, &quot;id&quot;: &quot;11&quot;, &quot;properties&quot;: {}, &quot;type&quot;: &quot;Feature&quot;}, {&quot;bbox&quot;: [-84.3779315, 33.82259959999998, -84.3775763, 33.82276089999999], &quot;geometry&quot;: {&quot;coordinates&quot;: [[-84.3779315, 33.82276089999999], [-84.3778797, 33.822743900000006], [-84.3777967, 33.8227127], [-84.3777212, 33.8226732], [-84.3775763, 33.82259959999998]], &quot;type&quot;: &quot;LineString&quot;}, &quot;id&quot;: &quot;12&quot;, &quot;properties&quot;: {}, &quot;type&quot;: &quot;Feature&quot;}, {&quot;bbox&quot;: [-84.3775763, 33.82212059999999, -84.3766139, 33.82259959999998], &quot;geometry&quot;: {&quot;coordinates&quot;: [[-84.3775763, 33.82259959999998], [-84.3766139, 33.82212059999999]], &quot;type&quot;: &quot;LineString&quot;}, &quot;id&quot;: &quot;13&quot;, &quot;properties&quot;: {}, &quot;type&quot;: &quot;Feature&quot;}, {&quot;bbox&quot;: [-84.3766139, 33.82188409999999, -84.3761843, 33.82212059999999], &quot;geometry&quot;: {&quot;coordinates&quot;: [[-84.3761843, 33.82188409999999], [-84.3766139, 33.82212059999999]], &quot;type&quot;: &quot;LineString&quot;}, &quot;id&quot;: &quot;14&quot;, &quot;properties&quot;: {}, &quot;type&quot;: &quot;Feature&quot;}, {&quot;bbox&quot;: [-84.3761843, 33.82163, -84.375674, 33.82188409999999], &quot;geometry&quot;: {&quot;coordinates&quot;: [[-84.3761843, 33.82188409999999], [-84.3760679, 33.8218124], [-84.375674, 33.82163]], &quot;type&quot;: &quot;LineString&quot;}, &quot;id&quot;: &quot;15&quot;, &quot;properties&quot;: {}, &quot;type&quot;: &quot;Feature&quot;}, {&quot;bbox&quot;: [-84.375674, 33.8212991, -84.3746929, 33.82163], &quot;geometry&quot;: {&quot;coordinates&quot;: [[-84.3746929, 33.8212991], [-84.3751434, 33.8214255], [-84.3753505, 33.82149630000001], [-84.375674, 33.82163]], &quot;type&quot;: &quot;LineString&quot;}, &quot;id&quot;: &quot;16&quot;, &quot;properties&quot;: {}, &quot;type&quot;: &quot;Feature&quot;}, {&quot;bbox&quot;: [-84.3746929, 33.8212732, -84.3746549, 33.8212991], &quot;geometry&quot;: {&quot;coordinates&quot;: [[-84.3746929, 33.8212991], [-84.3746549, 33.8212732]], &quot;type&quot;: &quot;LineString&quot;}, &quot;id&quot;: &quot;17&quot;, &quot;properties&quot;: {}, &quot;type&quot;: &quot;Feature&quot;}, {&quot;bbox&quot;: [-84.3746549, 33.821185899999996, -84.3742552, 33.8212732], &quot;geometry&quot;: {&quot;coordinates&quot;: [[-84.3746549, 33.8212732], [-84.3742552, 33.821185899999996]], &quot;type&quot;: &quot;LineString&quot;}, &quot;id&quot;: &quot;18&quot;, &quot;properties&quot;: {}, &quot;type&quot;: &quot;Feature&quot;}, {&quot;bbox&quot;: [-84.3742552, 33.8211689, -84.3741707, 33.821185899999996], &quot;geometry&quot;: {&quot;coordinates&quot;: [[-84.3742552, 33.821185899999996], [-84.3741707, 33.8211689]], &quot;type&quot;: &quot;LineString&quot;}, &quot;id&quot;: &quot;19&quot;, &quot;properties&quot;: {}, &quot;type&quot;: &quot;Feature&quot;}, {&quot;bbox&quot;: [-84.3741707, 33.821148799999996, -84.3740708, 33.8211689], &quot;geometry&quot;: {&quot;coordinates&quot;: [[-84.3741707, 33.8211689], [-84.3740708, 33.821148799999996]], &quot;type&quot;: &quot;LineString&quot;}, &quot;id&quot;: &quot;20&quot;, &quot;properties&quot;: {}, &quot;type&quot;: &quot;Feature&quot;}, {&quot;bbox&quot;: [-84.3740708, 33.821082999999994, -84.3736591, 33.821148799999996], &quot;geometry&quot;: {&quot;coordinates&quot;: [[-84.3740708, 33.821148799999996], [-84.3737568, 33.821082999999994], [-84.3736591, 33.8210878]], &quot;type&quot;: &quot;LineString&quot;}, &quot;id&quot;: &quot;21&quot;, &quot;properties&quot;: {}, &quot;type&quot;: &quot;Feature&quot;}, {&quot;bbox&quot;: [-84.3736591, 33.821025, -84.3734552, 33.8210878], &quot;geometry&quot;: {&quot;coordinates&quot;: [[-84.3734552, 33.821025], [-84.3736591, 33.8210878]], &quot;type&quot;: &quot;LineString&quot;}, &quot;id&quot;: &quot;22&quot;, &quot;properties&quot;: {}, &quot;type&quot;: &quot;Feature&quot;}, {&quot;bbox&quot;: [-84.3734552, 33.820968699999995, -84.3731754, 33.821025], &quot;geometry&quot;: {&quot;coordinates&quot;: [[-84.3734552, 33.821025], [-84.3731754, 33.820968699999995]], &quot;type&quot;: &quot;LineString&quot;}, &quot;id&quot;: &quot;23&quot;, &quot;properties&quot;: {}, &quot;type&quot;: &quot;Feature&quot;}, {&quot;bbox&quot;: [-84.3731754, 33.8209646, -84.3729848, 33.820968699999995], &quot;geometry&quot;: {&quot;coordinates&quot;: [[-84.3729848, 33.8209646], [-84.3731754, 33.820968699999995]], &quot;type&quot;: &quot;LineString&quot;}, &quot;id&quot;: &quot;24&quot;, &quot;properties&quot;: {}, &quot;type&quot;: &quot;Feature&quot;}, {&quot;bbox&quot;: [-84.3729848, 33.8209437, -84.3721565, 33.8209646], &quot;geometry&quot;: {&quot;coordinates&quot;: [[-84.3729848, 33.8209646], [-84.3728216, 33.820960199999995], [-84.3726352, 33.8209487], [-84.3721565, 33.8209437]], &quot;type&quot;: &quot;LineString&quot;}, &quot;id&quot;: &quot;25&quot;, &quot;properties&quot;: {}, &quot;type&quot;: &quot;Feature&quot;}, {&quot;bbox&quot;: [-84.3721565, 33.8209406, -84.3714325, 33.820956200000005], &quot;geometry&quot;: {&quot;coordinates&quot;: [[-84.3721565, 33.8209437], [-84.371933, 33.8209406], [-84.3717645, 33.8209411], [-84.3714325, 33.820956200000005]], &quot;type&quot;: &quot;LineString&quot;}, &quot;id&quot;: &quot;26&quot;, &quot;properties&quot;: {}, &quot;type&quot;: &quot;Feature&quot;}, {&quot;bbox&quot;: [-84.3714325, 33.820956200000005, -84.3713669, 33.8216191], &quot;geometry&quot;: {&quot;coordinates&quot;: [[-84.3713669, 33.8216191], [-84.3714209, 33.8210737], [-84.3714325, 33.820956200000005]], &quot;type&quot;: &quot;LineString&quot;}, &quot;id&quot;: &quot;27&quot;, &quot;properties&quot;: {}, &quot;type&quot;: &quot;Feature&quot;}, {&quot;bbox&quot;: [-84.3713669, 33.8215333, -84.370083, 33.8216191], &quot;geometry&quot;: {&quot;coordinates&quot;: [[-84.370083, 33.8215333], [-84.3712626, 33.821612300000005], [-84.3713669, 33.8216191]], &quot;type&quot;: &quot;LineString&quot;}, &quot;id&quot;: &quot;28&quot;, &quot;properties&quot;: {}, &quot;type&quot;: &quot;Feature&quot;}, {&quot;bbox&quot;: [-84.370083, 33.8215333, -84.3699924, 33.821833500000004], &quot;geometry&quot;: {&quot;coordinates&quot;: [[-84.3699924, 33.821833500000004], [-84.370083, 33.8215333]], &quot;type&quot;: &quot;LineString&quot;}, &quot;id&quot;: &quot;29&quot;, &quot;properties&quot;: {}, &quot;type&quot;: &quot;Feature&quot;}, {&quot;bbox&quot;: [-84.3699924, 33.821833500000004, -84.3699101, 33.822134600000005], &quot;geometry&quot;: {&quot;coordinates&quot;: [[-84.3699924, 33.821833500000004], [-84.3699101, 33.822134600000005]], &quot;type&quot;: &quot;LineString&quot;}, &quot;id&quot;: &quot;30&quot;, &quot;properties&quot;: {}, &quot;type&quot;: &quot;Feature&quot;}, {&quot;bbox&quot;: [-84.3699101, 33.822134600000005, -84.3698987, 33.8221762], &quot;geometry&quot;: {&quot;coordinates&quot;: [[-84.3698987, 33.8221762], [-84.3699101, 33.822134600000005]], &quot;type&quot;: &quot;LineString&quot;}, &quot;id&quot;: &quot;31&quot;, &quot;properties&quot;: {}, &quot;type&quot;: &quot;Feature&quot;}], &quot;type&quot;: &quot;FeatureCollection&quot;});\n",
       "\n",
       "        \n",
       "    \n",
       "            var feature_group_b3d25556bd83ea58fd06da4d3f8fad26 = L.featureGroup(\n",
       "                {}\n",
       "            ).addTo(map_4cdd3fdd8f48289323e1041663a6127a);\n",
       "        \n",
       "    \n",
       "        function geo_json_b8c878efb3b2b8009fd2bc1d1750970d_styler(feature) {\n",
       "            switch(feature.id) {\n",
       "                default:\n",
       "                    return {&quot;color&quot;: &quot;#66c2a5&quot;, &quot;weight&quot;: 8};\n",
       "            }\n",
       "        }\n",
       "\n",
       "        function geo_json_b8c878efb3b2b8009fd2bc1d1750970d_onEachFeature(feature, layer) {\n",
       "            layer.on({\n",
       "            });\n",
       "        };\n",
       "        var geo_json_b8c878efb3b2b8009fd2bc1d1750970d = L.geoJson(null, {\n",
       "                onEachFeature: geo_json_b8c878efb3b2b8009fd2bc1d1750970d_onEachFeature,\n",
       "            \n",
       "                style: geo_json_b8c878efb3b2b8009fd2bc1d1750970d_styler,\n",
       "        });\n",
       "\n",
       "        function geo_json_b8c878efb3b2b8009fd2bc1d1750970d_add (data) {\n",
       "            geo_json_b8c878efb3b2b8009fd2bc1d1750970d\n",
       "                .addData(data)\n",
       "                .addTo(feature_group_b3d25556bd83ea58fd06da4d3f8fad26);\n",
       "        }\n",
       "            geo_json_b8c878efb3b2b8009fd2bc1d1750970d_add({&quot;bbox&quot;: [-84.3875026, 33.8209406, -84.3698987, 33.82286499999999], &quot;features&quot;: [{&quot;bbox&quot;: [-84.3875026, 33.8228395, -84.3866703, 33.82286499999999], &quot;geometry&quot;: {&quot;coordinates&quot;: [[-84.3866703, 33.822840400000004], [-84.3870279, 33.8228395], [-84.3873931, 33.8228452], [-84.3875026, 33.82286499999999]], &quot;type&quot;: &quot;LineString&quot;}, &quot;id&quot;: &quot;0&quot;, &quot;properties&quot;: {}, &quot;type&quot;: &quot;Feature&quot;}, {&quot;bbox&quot;: [-84.3866703, 33.822840400000004, -84.3864005, 33.822841000000004], &quot;geometry&quot;: {&quot;coordinates&quot;: [[-84.3866703, 33.822840400000004], [-84.3864005, 33.822841000000004]], &quot;type&quot;: &quot;LineString&quot;}, &quot;id&quot;: &quot;1&quot;, &quot;properties&quot;: {}, &quot;type&quot;: &quot;Feature&quot;}, {&quot;bbox&quot;: [-84.3864005, 33.8228368, -84.3860095, 33.822841000000004], &quot;geometry&quot;: {&quot;coordinates&quot;: [[-84.3860095, 33.8228368], [-84.3864005, 33.822841000000004]], &quot;type&quot;: &quot;LineString&quot;}, &quot;id&quot;: &quot;2&quot;, &quot;properties&quot;: {}, &quot;type&quot;: &quot;Feature&quot;}, {&quot;bbox&quot;: [-84.3860095, 33.82281799999999, -84.384249, 33.8228368], &quot;geometry&quot;: {&quot;coordinates&quot;: [[-84.3860095, 33.8228368], [-84.384249, 33.82281799999999]], &quot;type&quot;: &quot;LineString&quot;}, &quot;id&quot;: &quot;3&quot;, &quot;properties&quot;: {}, &quot;type&quot;: &quot;Feature&quot;}, {&quot;bbox&quot;: [-84.384249, 33.822817400000005, -84.3839717, 33.82281799999999], &quot;geometry&quot;: {&quot;coordinates&quot;: [[-84.3839717, 33.822817400000005], [-84.384249, 33.82281799999999]], &quot;type&quot;: &quot;LineString&quot;}, &quot;id&quot;: &quot;4&quot;, &quot;properties&quot;: {}, &quot;type&quot;: &quot;Feature&quot;}, {&quot;bbox&quot;: [-84.3839717, 33.822816, -84.38326, 33.822817400000005], &quot;geometry&quot;: {&quot;coordinates&quot;: [[-84.3839717, 33.822817400000005], [-84.38326, 33.822816]], &quot;type&quot;: &quot;LineString&quot;}, &quot;id&quot;: &quot;5&quot;, &quot;properties&quot;: {}, &quot;type&quot;: &quot;Feature&quot;}, {&quot;bbox&quot;: [-84.38326, 33.822812000000006, -84.381787, 33.822816], &quot;geometry&quot;: {&quot;coordinates&quot;: [[-84.381787, 33.822812000000006], [-84.38326, 33.822816]], &quot;type&quot;: &quot;LineString&quot;}, &quot;id&quot;: &quot;6&quot;, &quot;properties&quot;: {}, &quot;type&quot;: &quot;Feature&quot;}, {&quot;bbox&quot;: [-84.381787, 33.82281, -84.380697, 33.822812000000006], &quot;geometry&quot;: {&quot;coordinates&quot;: [[-84.380697, 33.82281], [-84.381787, 33.822812000000006]], &quot;type&quot;: &quot;LineString&quot;}, &quot;id&quot;: &quot;7&quot;, &quot;properties&quot;: {}, &quot;type&quot;: &quot;Feature&quot;}, {&quot;bbox&quot;: [-84.380697, 33.822806, -84.3799824, 33.82281], &quot;geometry&quot;: {&quot;coordinates&quot;: [[-84.380697, 33.82281], [-84.3799824, 33.822806]], &quot;type&quot;: &quot;LineString&quot;}, &quot;id&quot;: &quot;8&quot;, &quot;properties&quot;: {}, &quot;type&quot;: &quot;Feature&quot;}, {&quot;bbox&quot;: [-84.3799824, 33.822806, -84.3795543, 33.822808], &quot;geometry&quot;: {&quot;coordinates&quot;: [[-84.3795543, 33.822808], [-84.3799824, 33.822806]], &quot;type&quot;: &quot;LineString&quot;}, &quot;id&quot;: &quot;9&quot;, &quot;properties&quot;: {}, &quot;type&quot;: &quot;Feature&quot;}, {&quot;bbox&quot;: [-84.3795543, 33.822808, -84.37845600000001, 33.8228178], &quot;geometry&quot;: {&quot;coordinates&quot;: [[-84.3795543, 33.822808], [-84.37845600000001, 33.8228178]], &quot;type&quot;: &quot;LineString&quot;}, &quot;id&quot;: &quot;10&quot;, &quot;properties&quot;: {}, &quot;type&quot;: &quot;Feature&quot;}, {&quot;bbox&quot;: [-84.37845600000001, 33.82276089999999, -84.3779315, 33.8228178], &quot;geometry&quot;: {&quot;coordinates&quot;: [[-84.3779315, 33.82276089999999], [-84.3779552, 33.82276860000001], [-84.3780485, 33.82278530000001], [-84.3781537, 33.8228005], [-84.3782706, 33.8228093], [-84.37845600000001, 33.8228178]], &quot;type&quot;: &quot;LineString&quot;}, &quot;id&quot;: &quot;11&quot;, &quot;properties&quot;: {}, &quot;type&quot;: &quot;Feature&quot;}, {&quot;bbox&quot;: [-84.3779315, 33.82259959999998, -84.3775763, 33.82276089999999], &quot;geometry&quot;: {&quot;coordinates&quot;: [[-84.3779315, 33.82276089999999], [-84.3778797, 33.822743900000006], [-84.3777967, 33.8227127], [-84.3777212, 33.8226732], [-84.3775763, 33.82259959999998]], &quot;type&quot;: &quot;LineString&quot;}, &quot;id&quot;: &quot;12&quot;, &quot;properties&quot;: {}, &quot;type&quot;: &quot;Feature&quot;}, {&quot;bbox&quot;: [-84.3775763, 33.82212059999999, -84.3766139, 33.82259959999998], &quot;geometry&quot;: {&quot;coordinates&quot;: [[-84.3775763, 33.82259959999998], [-84.3766139, 33.82212059999999]], &quot;type&quot;: &quot;LineString&quot;}, &quot;id&quot;: &quot;13&quot;, &quot;properties&quot;: {}, &quot;type&quot;: &quot;Feature&quot;}, {&quot;bbox&quot;: [-84.3766139, 33.82188409999999, -84.3761843, 33.82212059999999], &quot;geometry&quot;: {&quot;coordinates&quot;: [[-84.3761843, 33.82188409999999], [-84.3766139, 33.82212059999999]], &quot;type&quot;: &quot;LineString&quot;}, &quot;id&quot;: &quot;14&quot;, &quot;properties&quot;: {}, &quot;type&quot;: &quot;Feature&quot;}, {&quot;bbox&quot;: [-84.3761843, 33.82163, -84.375674, 33.82188409999999], &quot;geometry&quot;: {&quot;coordinates&quot;: [[-84.3761843, 33.82188409999999], [-84.3760679, 33.8218124], [-84.375674, 33.82163]], &quot;type&quot;: &quot;LineString&quot;}, &quot;id&quot;: &quot;15&quot;, &quot;properties&quot;: {}, &quot;type&quot;: &quot;Feature&quot;}, {&quot;bbox&quot;: [-84.375674, 33.8212991, -84.3746929, 33.82163], &quot;geometry&quot;: {&quot;coordinates&quot;: [[-84.3746929, 33.8212991], [-84.3751434, 33.8214255], [-84.3753505, 33.82149630000001], [-84.375674, 33.82163]], &quot;type&quot;: &quot;LineString&quot;}, &quot;id&quot;: &quot;16&quot;, &quot;properties&quot;: {}, &quot;type&quot;: &quot;Feature&quot;}, {&quot;bbox&quot;: [-84.3746929, 33.8212732, -84.3746549, 33.8212991], &quot;geometry&quot;: {&quot;coordinates&quot;: [[-84.3746929, 33.8212991], [-84.3746549, 33.8212732]], &quot;type&quot;: &quot;LineString&quot;}, &quot;id&quot;: &quot;17&quot;, &quot;properties&quot;: {}, &quot;type&quot;: &quot;Feature&quot;}, {&quot;bbox&quot;: [-84.3746549, 33.821185899999996, -84.3742552, 33.8212732], &quot;geometry&quot;: {&quot;coordinates&quot;: [[-84.3746549, 33.8212732], [-84.3742552, 33.821185899999996]], &quot;type&quot;: &quot;LineString&quot;}, &quot;id&quot;: &quot;18&quot;, &quot;properties&quot;: {}, &quot;type&quot;: &quot;Feature&quot;}, {&quot;bbox&quot;: [-84.3742552, 33.8211689, -84.3741707, 33.821185899999996], &quot;geometry&quot;: {&quot;coordinates&quot;: [[-84.3742552, 33.821185899999996], [-84.3741707, 33.8211689]], &quot;type&quot;: &quot;LineString&quot;}, &quot;id&quot;: &quot;19&quot;, &quot;properties&quot;: {}, &quot;type&quot;: &quot;Feature&quot;}, {&quot;bbox&quot;: [-84.3741707, 33.821148799999996, -84.3740708, 33.8211689], &quot;geometry&quot;: {&quot;coordinates&quot;: [[-84.3741707, 33.8211689], [-84.3740708, 33.821148799999996]], &quot;type&quot;: &quot;LineString&quot;}, &quot;id&quot;: &quot;20&quot;, &quot;properties&quot;: {}, &quot;type&quot;: &quot;Feature&quot;}, {&quot;bbox&quot;: [-84.3740708, 33.821082999999994, -84.3736591, 33.821148799999996], &quot;geometry&quot;: {&quot;coordinates&quot;: [[-84.3740708, 33.821148799999996], [-84.3737568, 33.821082999999994], [-84.3736591, 33.8210878]], &quot;type&quot;: &quot;LineString&quot;}, &quot;id&quot;: &quot;21&quot;, &quot;properties&quot;: {}, &quot;type&quot;: &quot;Feature&quot;}, {&quot;bbox&quot;: [-84.3736591, 33.821025, -84.3734552, 33.8210878], &quot;geometry&quot;: {&quot;coordinates&quot;: [[-84.3734552, 33.821025], [-84.3736591, 33.8210878]], &quot;type&quot;: &quot;LineString&quot;}, &quot;id&quot;: &quot;22&quot;, &quot;properties&quot;: {}, &quot;type&quot;: &quot;Feature&quot;}, {&quot;bbox&quot;: [-84.3734552, 33.820968699999995, -84.3731754, 33.821025], &quot;geometry&quot;: {&quot;coordinates&quot;: [[-84.3734552, 33.821025], [-84.3731754, 33.820968699999995]], &quot;type&quot;: &quot;LineString&quot;}, &quot;id&quot;: &quot;23&quot;, &quot;properties&quot;: {}, &quot;type&quot;: &quot;Feature&quot;}, {&quot;bbox&quot;: [-84.3731754, 33.8209646, -84.3729848, 33.820968699999995], &quot;geometry&quot;: {&quot;coordinates&quot;: [[-84.3729848, 33.8209646], [-84.3731754, 33.820968699999995]], &quot;type&quot;: &quot;LineString&quot;}, &quot;id&quot;: &quot;24&quot;, &quot;properties&quot;: {}, &quot;type&quot;: &quot;Feature&quot;}, {&quot;bbox&quot;: [-84.3729848, 33.8209437, -84.3721565, 33.8209646], &quot;geometry&quot;: {&quot;coordinates&quot;: [[-84.3729848, 33.8209646], [-84.3728216, 33.820960199999995], [-84.3726352, 33.8209487], [-84.3721565, 33.8209437]], &quot;type&quot;: &quot;LineString&quot;}, &quot;id&quot;: &quot;25&quot;, &quot;properties&quot;: {}, &quot;type&quot;: &quot;Feature&quot;}, {&quot;bbox&quot;: [-84.3721565, 33.8209406, -84.3714325, 33.820956200000005], &quot;geometry&quot;: {&quot;coordinates&quot;: [[-84.3721565, 33.8209437], [-84.371933, 33.8209406], [-84.3717645, 33.8209411], [-84.3714325, 33.820956200000005]], &quot;type&quot;: &quot;LineString&quot;}, &quot;id&quot;: &quot;26&quot;, &quot;properties&quot;: {}, &quot;type&quot;: &quot;Feature&quot;}, {&quot;bbox&quot;: [-84.3714325, 33.820956200000005, -84.3701765, 33.8210705], &quot;geometry&quot;: {&quot;coordinates&quot;: [[-84.3701765, 33.8210705], [-84.3702834, 33.82106640000001], [-84.3714325, 33.820956200000005]], &quot;type&quot;: &quot;LineString&quot;}, &quot;id&quot;: &quot;27&quot;, &quot;properties&quot;: {}, &quot;type&quot;: &quot;Feature&quot;}, {&quot;bbox&quot;: [-84.3701765, 33.8210705, -84.370083, 33.8215333], &quot;geometry&quot;: {&quot;coordinates&quot;: [[-84.370083, 33.8215333], [-84.3701683, 33.8211902], [-84.370176, 33.821131400000006], [-84.3701765, 33.8210705]], &quot;type&quot;: &quot;LineString&quot;}, &quot;id&quot;: &quot;28&quot;, &quot;properties&quot;: {}, &quot;type&quot;: &quot;Feature&quot;}, {&quot;bbox&quot;: [-84.370083, 33.8215333, -84.3699924, 33.821833500000004], &quot;geometry&quot;: {&quot;coordinates&quot;: [[-84.3699924, 33.821833500000004], [-84.370083, 33.8215333]], &quot;type&quot;: &quot;LineString&quot;}, &quot;id&quot;: &quot;29&quot;, &quot;properties&quot;: {}, &quot;type&quot;: &quot;Feature&quot;}, {&quot;bbox&quot;: [-84.3699924, 33.821833500000004, -84.3699101, 33.822134600000005], &quot;geometry&quot;: {&quot;coordinates&quot;: [[-84.3699924, 33.821833500000004], [-84.3699101, 33.822134600000005]], &quot;type&quot;: &quot;LineString&quot;}, &quot;id&quot;: &quot;30&quot;, &quot;properties&quot;: {}, &quot;type&quot;: &quot;Feature&quot;}, {&quot;bbox&quot;: [-84.3699101, 33.822134600000005, -84.3698987, 33.8221762], &quot;geometry&quot;: {&quot;coordinates&quot;: [[-84.3698987, 33.8221762], [-84.3699101, 33.822134600000005]], &quot;type&quot;: &quot;LineString&quot;}, &quot;id&quot;: &quot;31&quot;, &quot;properties&quot;: {}, &quot;type&quot;: &quot;Feature&quot;}], &quot;type&quot;: &quot;FeatureCollection&quot;});\n",
       "\n",
       "        \n",
       "    \n",
       "            var feature_group_f25ada762e5e43b0793b08d8230834ce = L.featureGroup(\n",
       "                {}\n",
       "            ).addTo(map_4cdd3fdd8f48289323e1041663a6127a);\n",
       "        \n",
       "    \n",
       "        function geo_json_14b3ea411a788beec7718a5114aa51af_styler(feature) {\n",
       "            switch(feature.id) {\n",
       "                default:\n",
       "                    return {&quot;color&quot;: &quot;#8da0cb&quot;, &quot;weight&quot;: 8};\n",
       "            }\n",
       "        }\n",
       "\n",
       "        function geo_json_14b3ea411a788beec7718a5114aa51af_onEachFeature(feature, layer) {\n",
       "            layer.on({\n",
       "            });\n",
       "        };\n",
       "        var geo_json_14b3ea411a788beec7718a5114aa51af = L.geoJson(null, {\n",
       "                onEachFeature: geo_json_14b3ea411a788beec7718a5114aa51af_onEachFeature,\n",
       "            \n",
       "                style: geo_json_14b3ea411a788beec7718a5114aa51af_styler,\n",
       "        });\n",
       "\n",
       "        function geo_json_14b3ea411a788beec7718a5114aa51af_add (data) {\n",
       "            geo_json_14b3ea411a788beec7718a5114aa51af\n",
       "                .addData(data)\n",
       "                .addTo(feature_group_f25ada762e5e43b0793b08d8230834ce);\n",
       "        }\n",
       "            geo_json_14b3ea411a788beec7718a5114aa51af_add({&quot;bbox&quot;: [-84.3875026, 33.8209406, -84.3698987, 33.82286499999999], &quot;features&quot;: [{&quot;bbox&quot;: [-84.3875026, 33.8228395, -84.3866703, 33.82286499999999], &quot;geometry&quot;: {&quot;coordinates&quot;: [[-84.3866703, 33.822840400000004], [-84.3870279, 33.8228395], [-84.3873931, 33.8228452], [-84.3875026, 33.82286499999999]], &quot;type&quot;: &quot;LineString&quot;}, &quot;id&quot;: &quot;0&quot;, &quot;properties&quot;: {}, &quot;type&quot;: &quot;Feature&quot;}, {&quot;bbox&quot;: [-84.3866703, 33.822840400000004, -84.3864005, 33.822841000000004], &quot;geometry&quot;: {&quot;coordinates&quot;: [[-84.3866703, 33.822840400000004], [-84.3864005, 33.822841000000004]], &quot;type&quot;: &quot;LineString&quot;}, &quot;id&quot;: &quot;1&quot;, &quot;properties&quot;: {}, &quot;type&quot;: &quot;Feature&quot;}, {&quot;bbox&quot;: [-84.3864005, 33.8228368, -84.3860095, 33.822841000000004], &quot;geometry&quot;: {&quot;coordinates&quot;: [[-84.3860095, 33.8228368], [-84.3864005, 33.822841000000004]], &quot;type&quot;: &quot;LineString&quot;}, &quot;id&quot;: &quot;2&quot;, &quot;properties&quot;: {}, &quot;type&quot;: &quot;Feature&quot;}, {&quot;bbox&quot;: [-84.3860095, 33.82281799999999, -84.384249, 33.8228368], &quot;geometry&quot;: {&quot;coordinates&quot;: [[-84.3860095, 33.8228368], [-84.384249, 33.82281799999999]], &quot;type&quot;: &quot;LineString&quot;}, &quot;id&quot;: &quot;3&quot;, &quot;properties&quot;: {}, &quot;type&quot;: &quot;Feature&quot;}, {&quot;bbox&quot;: [-84.384249, 33.822817400000005, -84.3839717, 33.82281799999999], &quot;geometry&quot;: {&quot;coordinates&quot;: [[-84.3839717, 33.822817400000005], [-84.384249, 33.82281799999999]], &quot;type&quot;: &quot;LineString&quot;}, &quot;id&quot;: &quot;4&quot;, &quot;properties&quot;: {}, &quot;type&quot;: &quot;Feature&quot;}, {&quot;bbox&quot;: [-84.3839717, 33.822816, -84.38326, 33.822817400000005], &quot;geometry&quot;: {&quot;coordinates&quot;: [[-84.3839717, 33.822817400000005], [-84.38326, 33.822816]], &quot;type&quot;: &quot;LineString&quot;}, &quot;id&quot;: &quot;5&quot;, &quot;properties&quot;: {}, &quot;type&quot;: &quot;Feature&quot;}, {&quot;bbox&quot;: [-84.38326, 33.822812000000006, -84.381787, 33.822816], &quot;geometry&quot;: {&quot;coordinates&quot;: [[-84.381787, 33.822812000000006], [-84.38326, 33.822816]], &quot;type&quot;: &quot;LineString&quot;}, &quot;id&quot;: &quot;6&quot;, &quot;properties&quot;: {}, &quot;type&quot;: &quot;Feature&quot;}, {&quot;bbox&quot;: [-84.381787, 33.82281, -84.380697, 33.822812000000006], &quot;geometry&quot;: {&quot;coordinates&quot;: [[-84.380697, 33.82281], [-84.381787, 33.822812000000006]], &quot;type&quot;: &quot;LineString&quot;}, &quot;id&quot;: &quot;7&quot;, &quot;properties&quot;: {}, &quot;type&quot;: &quot;Feature&quot;}, {&quot;bbox&quot;: [-84.380697, 33.822806, -84.3799824, 33.82281], &quot;geometry&quot;: {&quot;coordinates&quot;: [[-84.380697, 33.82281], [-84.3799824, 33.822806]], &quot;type&quot;: &quot;LineString&quot;}, &quot;id&quot;: &quot;8&quot;, &quot;properties&quot;: {}, &quot;type&quot;: &quot;Feature&quot;}, {&quot;bbox&quot;: [-84.3799824, 33.822806, -84.3795543, 33.822808], &quot;geometry&quot;: {&quot;coordinates&quot;: [[-84.3795543, 33.822808], [-84.3799824, 33.822806]], &quot;type&quot;: &quot;LineString&quot;}, &quot;id&quot;: &quot;9&quot;, &quot;properties&quot;: {}, &quot;type&quot;: &quot;Feature&quot;}, {&quot;bbox&quot;: [-84.3795543, 33.822808, -84.37845600000001, 33.8228178], &quot;geometry&quot;: {&quot;coordinates&quot;: [[-84.3795543, 33.822808], [-84.37845600000001, 33.8228178]], &quot;type&quot;: &quot;LineString&quot;}, &quot;id&quot;: &quot;10&quot;, &quot;properties&quot;: {}, &quot;type&quot;: &quot;Feature&quot;}, {&quot;bbox&quot;: [-84.37845600000001, 33.82276089999999, -84.3779315, 33.8228178], &quot;geometry&quot;: {&quot;coordinates&quot;: [[-84.3779315, 33.82276089999999], [-84.3779552, 33.82276860000001], [-84.3780485, 33.82278530000001], [-84.3781537, 33.8228005], [-84.3782706, 33.8228093], [-84.37845600000001, 33.8228178]], &quot;type&quot;: &quot;LineString&quot;}, &quot;id&quot;: &quot;11&quot;, &quot;properties&quot;: {}, &quot;type&quot;: &quot;Feature&quot;}, {&quot;bbox&quot;: [-84.3779315, 33.82259959999998, -84.3775763, 33.82276089999999], &quot;geometry&quot;: {&quot;coordinates&quot;: [[-84.3779315, 33.82276089999999], [-84.3778797, 33.822743900000006], [-84.3777967, 33.8227127], [-84.3777212, 33.8226732], [-84.3775763, 33.82259959999998]], &quot;type&quot;: &quot;LineString&quot;}, &quot;id&quot;: &quot;12&quot;, &quot;properties&quot;: {}, &quot;type&quot;: &quot;Feature&quot;}, {&quot;bbox&quot;: [-84.3775763, 33.82212059999999, -84.3766139, 33.82259959999998], &quot;geometry&quot;: {&quot;coordinates&quot;: [[-84.3775763, 33.82259959999998], [-84.3766139, 33.82212059999999]], &quot;type&quot;: &quot;LineString&quot;}, &quot;id&quot;: &quot;13&quot;, &quot;properties&quot;: {}, &quot;type&quot;: &quot;Feature&quot;}, {&quot;bbox&quot;: [-84.3766139, 33.82188409999999, -84.3761843, 33.82212059999999], &quot;geometry&quot;: {&quot;coordinates&quot;: [[-84.3761843, 33.82188409999999], [-84.3766139, 33.82212059999999]], &quot;type&quot;: &quot;LineString&quot;}, &quot;id&quot;: &quot;14&quot;, &quot;properties&quot;: {}, &quot;type&quot;: &quot;Feature&quot;}, {&quot;bbox&quot;: [-84.3761843, 33.82163, -84.375674, 33.82188409999999], &quot;geometry&quot;: {&quot;coordinates&quot;: [[-84.3761843, 33.82188409999999], [-84.3760679, 33.8218124], [-84.375674, 33.82163]], &quot;type&quot;: &quot;LineString&quot;}, &quot;id&quot;: &quot;15&quot;, &quot;properties&quot;: {}, &quot;type&quot;: &quot;Feature&quot;}, {&quot;bbox&quot;: [-84.375674, 33.8212991, -84.3746929, 33.82163], &quot;geometry&quot;: {&quot;coordinates&quot;: [[-84.3746929, 33.8212991], [-84.3751434, 33.8214255], [-84.3753505, 33.82149630000001], [-84.375674, 33.82163]], &quot;type&quot;: &quot;LineString&quot;}, &quot;id&quot;: &quot;16&quot;, &quot;properties&quot;: {}, &quot;type&quot;: &quot;Feature&quot;}, {&quot;bbox&quot;: [-84.3746929, 33.8212732, -84.3746549, 33.8212991], &quot;geometry&quot;: {&quot;coordinates&quot;: [[-84.3746929, 33.8212991], [-84.3746549, 33.8212732]], &quot;type&quot;: &quot;LineString&quot;}, &quot;id&quot;: &quot;17&quot;, &quot;properties&quot;: {}, &quot;type&quot;: &quot;Feature&quot;}, {&quot;bbox&quot;: [-84.3746549, 33.821185899999996, -84.3742552, 33.8212732], &quot;geometry&quot;: {&quot;coordinates&quot;: [[-84.3746549, 33.8212732], [-84.3742552, 33.821185899999996]], &quot;type&quot;: &quot;LineString&quot;}, &quot;id&quot;: &quot;18&quot;, &quot;properties&quot;: {}, &quot;type&quot;: &quot;Feature&quot;}, {&quot;bbox&quot;: [-84.3742552, 33.8211689, -84.3741707, 33.821185899999996], &quot;geometry&quot;: {&quot;coordinates&quot;: [[-84.3742552, 33.821185899999996], [-84.3741707, 33.8211689]], &quot;type&quot;: &quot;LineString&quot;}, &quot;id&quot;: &quot;19&quot;, &quot;properties&quot;: {}, &quot;type&quot;: &quot;Feature&quot;}, {&quot;bbox&quot;: [-84.3741707, 33.821148799999996, -84.3740708, 33.8211689], &quot;geometry&quot;: {&quot;coordinates&quot;: [[-84.3741707, 33.8211689], [-84.3740708, 33.821148799999996]], &quot;type&quot;: &quot;LineString&quot;}, &quot;id&quot;: &quot;20&quot;, &quot;properties&quot;: {}, &quot;type&quot;: &quot;Feature&quot;}, {&quot;bbox&quot;: [-84.3740708, 33.821082999999994, -84.3736591, 33.821148799999996], &quot;geometry&quot;: {&quot;coordinates&quot;: [[-84.3740708, 33.821148799999996], [-84.3737568, 33.821082999999994], [-84.3736591, 33.8210878]], &quot;type&quot;: &quot;LineString&quot;}, &quot;id&quot;: &quot;21&quot;, &quot;properties&quot;: {}, &quot;type&quot;: &quot;Feature&quot;}, {&quot;bbox&quot;: [-84.3736591, 33.821025, -84.3734552, 33.8210878], &quot;geometry&quot;: {&quot;coordinates&quot;: [[-84.3734552, 33.821025], [-84.3736591, 33.8210878]], &quot;type&quot;: &quot;LineString&quot;}, &quot;id&quot;: &quot;22&quot;, &quot;properties&quot;: {}, &quot;type&quot;: &quot;Feature&quot;}, {&quot;bbox&quot;: [-84.3734552, 33.820968699999995, -84.3731754, 33.821025], &quot;geometry&quot;: {&quot;coordinates&quot;: [[-84.3734552, 33.821025], [-84.3731754, 33.820968699999995]], &quot;type&quot;: &quot;LineString&quot;}, &quot;id&quot;: &quot;23&quot;, &quot;properties&quot;: {}, &quot;type&quot;: &quot;Feature&quot;}, {&quot;bbox&quot;: [-84.3731754, 33.8209646, -84.3729848, 33.820968699999995], &quot;geometry&quot;: {&quot;coordinates&quot;: [[-84.3729848, 33.8209646], [-84.3731754, 33.820968699999995]], &quot;type&quot;: &quot;LineString&quot;}, &quot;id&quot;: &quot;24&quot;, &quot;properties&quot;: {}, &quot;type&quot;: &quot;Feature&quot;}, {&quot;bbox&quot;: [-84.3729848, 33.8209437, -84.3721565, 33.8209646], &quot;geometry&quot;: {&quot;coordinates&quot;: [[-84.3729848, 33.8209646], [-84.3728216, 33.820960199999995], [-84.3726352, 33.8209487], [-84.3721565, 33.8209437]], &quot;type&quot;: &quot;LineString&quot;}, &quot;id&quot;: &quot;25&quot;, &quot;properties&quot;: {}, &quot;type&quot;: &quot;Feature&quot;}, {&quot;bbox&quot;: [-84.3721565, 33.8209406, -84.3714325, 33.820956200000005], &quot;geometry&quot;: {&quot;coordinates&quot;: [[-84.3721565, 33.8209437], [-84.371933, 33.8209406], [-84.3717645, 33.8209411], [-84.3714325, 33.820956200000005]], &quot;type&quot;: &quot;LineString&quot;}, &quot;id&quot;: &quot;26&quot;, &quot;properties&quot;: {}, &quot;type&quot;: &quot;Feature&quot;}, {&quot;bbox&quot;: [-84.3714325, 33.820956200000005, -84.3701765, 33.8210705], &quot;geometry&quot;: {&quot;coordinates&quot;: [[-84.3701765, 33.8210705], [-84.3702834, 33.82106640000001], [-84.3714325, 33.820956200000005]], &quot;type&quot;: &quot;LineString&quot;}, &quot;id&quot;: &quot;27&quot;, &quot;properties&quot;: {}, &quot;type&quot;: &quot;Feature&quot;}, {&quot;bbox&quot;: [-84.3701765, 33.8210705, -84.370083, 33.8215333], &quot;geometry&quot;: {&quot;coordinates&quot;: [[-84.370083, 33.8215333], [-84.3701683, 33.8211902], [-84.370176, 33.821131400000006], [-84.3701765, 33.8210705]], &quot;type&quot;: &quot;LineString&quot;}, &quot;id&quot;: &quot;28&quot;, &quot;properties&quot;: {}, &quot;type&quot;: &quot;Feature&quot;}, {&quot;bbox&quot;: [-84.370083, 33.8215333, -84.3699924, 33.821833500000004], &quot;geometry&quot;: {&quot;coordinates&quot;: [[-84.3699924, 33.821833500000004], [-84.370083, 33.8215333]], &quot;type&quot;: &quot;LineString&quot;}, &quot;id&quot;: &quot;29&quot;, &quot;properties&quot;: {}, &quot;type&quot;: &quot;Feature&quot;}, {&quot;bbox&quot;: [-84.3699924, 33.821833500000004, -84.3699101, 33.822134600000005], &quot;geometry&quot;: {&quot;coordinates&quot;: [[-84.3699924, 33.821833500000004], [-84.3699101, 33.822134600000005]], &quot;type&quot;: &quot;LineString&quot;}, &quot;id&quot;: &quot;30&quot;, &quot;properties&quot;: {}, &quot;type&quot;: &quot;Feature&quot;}, {&quot;bbox&quot;: [-84.3699101, 33.822134600000005, -84.3698987, 33.8221762], &quot;geometry&quot;: {&quot;coordinates&quot;: [[-84.3698987, 33.8221762], [-84.3699101, 33.822134600000005]], &quot;type&quot;: &quot;LineString&quot;}, &quot;id&quot;: &quot;31&quot;, &quot;properties&quot;: {}, &quot;type&quot;: &quot;Feature&quot;}], &quot;type&quot;: &quot;FeatureCollection&quot;});\n",
       "\n",
       "        \n",
       "    \n",
       "            var marker_b636e3050308d6d227a3a9df7e6ef73f = L.marker(\n",
       "                [33.822840400000004, -84.3866703],\n",
       "                {}\n",
       "            ).addTo(map_4cdd3fdd8f48289323e1041663a6127a);\n",
       "        \n",
       "    \n",
       "            var icon_2448e76be4cfceab068c62bdb0d376ee = L.AwesomeMarkers.icon(\n",
       "                {&quot;extraClasses&quot;: &quot;fa-rotate-0&quot;, &quot;icon&quot;: &quot;play&quot;, &quot;iconColor&quot;: &quot;white&quot;, &quot;markerColor&quot;: &quot;green&quot;, &quot;prefix&quot;: &quot;fa&quot;}\n",
       "            );\n",
       "            marker_b636e3050308d6d227a3a9df7e6ef73f.setIcon(icon_2448e76be4cfceab068c62bdb0d376ee);\n",
       "        \n",
       "    \n",
       "            var marker_a1a4bcf233bf095c8720f80b1fc7e8aa = L.marker(\n",
       "                [33.822134600000005, -84.3699101],\n",
       "                {}\n",
       "            ).addTo(map_4cdd3fdd8f48289323e1041663a6127a);\n",
       "        \n",
       "    \n",
       "            var icon_457e532575675dc6cb38df21a804fe50 = L.AwesomeMarkers.icon(\n",
       "                {&quot;extraClasses&quot;: &quot;fa-rotate-0&quot;, &quot;icon&quot;: &quot;stop&quot;, &quot;iconColor&quot;: &quot;white&quot;, &quot;markerColor&quot;: &quot;red&quot;, &quot;prefix&quot;: &quot;fa&quot;}\n",
       "            );\n",
       "            marker_a1a4bcf233bf095c8720f80b1fc7e8aa.setIcon(icon_457e532575675dc6cb38df21a804fe50);\n",
       "        \n",
       "    \n",
       "            var layer_control_faa23b1e60c64a3b5a870beb711e71a8 = {\n",
       "                base_layers : {\n",
       "                    &quot;openstreetmap&quot; : tile_layer_9e35803b1009ae76e054340a3e4cee32,\n",
       "                },\n",
       "                overlays :  {\n",
       "                    &quot;Chosen Path&quot; : feature_group_932aa92e2049e3ae2b69cfc7abb05b4b,\n",
       "                    &quot;Shortest Path&quot; : feature_group_b3d25556bd83ea58fd06da4d3f8fad26,\n",
       "                    &quot;Modeled Path&quot; : feature_group_f25ada762e5e43b0793b08d8230834ce,\n",
       "                },\n",
       "            };\n",
       "            L.control.layers(\n",
       "                layer_control_faa23b1e60c64a3b5a870beb711e71a8.base_layers,\n",
       "                layer_control_faa23b1e60c64a3b5a870beb711e71a8.overlays,\n",
       "                {&quot;autoZIndex&quot;: true, &quot;collapsed&quot;: true, &quot;position&quot;: &quot;topright&quot;}\n",
       "            ).addTo(map_4cdd3fdd8f48289323e1041663a6127a);\n",
       "        \n",
       "&lt;/script&gt;\" style=\"position:absolute;width:100%;height:100%;left:0;top:0;border:none !important;\" allowfullscreen webkitallowfullscreen mozallowfullscreen></iframe></div></div>"
      ],
      "text/plain": [
       "<folium.folium.Map at 0x22602857640>"
      ]
     },
     "execution_count": 68,
     "metadata": {},
     "output_type": "execute_result"
    }
   ],
   "source": [
    "import random\n",
    "tripid = random.choice(vals_to_minimize)\n",
    "tripid\n",
    "#retrieve chosen path linkids and convert them to tuple\n",
    "chosen = [tuple(row) for row in test_set[tripid]['matched_edges'].to_numpy()]\n",
    "shortest = [tuple(row) for row in test_set[tripid]['shortest_edges'].to_numpy()]\n",
    "\n",
    "#retrieve modeled path linkids\n",
    "start_node = test_set[tripid]['origin_node']\n",
    "end_node = test_set[tripid]['destination_node']\n",
    "modeled_edges = results_dict[(start_node,end_node)]['edge_list']\n",
    "\n",
    "#get geos (non-directional)\n",
    "chosen_geo = [geo_dict[linkid[0]] for linkid in chosen]\n",
    "shortest_geo = [geo_dict[linkid[0]] for linkid in shortest]\n",
    "modeled_geo = [geo_dict[linkid[0]] for linkid in modeled_edges]\n",
    "\n",
    "chosen_lines = gpd.GeoSeries(chosen_geo,crs='epsg:2240')\n",
    "shortest_lines = gpd.GeoSeries(shortest_geo,crs='epsg:2240')\n",
    "modeled_lines = gpd.GeoSeries(modeled_geo,crs='epsg:2240')\n",
    "\n",
    "stochastic_optimization.visualize_three_no_legend(chosen_lines,shortest_lines,modeled_lines)"
   ]
  },
  {
   "cell_type": "markdown",
   "metadata": {},
   "source": [
    "and these not so much"
   ]
  },
  {
   "cell_type": "code",
   "execution_count": 78,
   "metadata": {},
   "outputs": [],
   "source": [
    "import random\n",
    "\n",
    "not_good = list(set(test_set.keys()) - set(vals_to_minimize))"
   ]
  },
  {
   "cell_type": "code",
   "execution_count": 79,
   "metadata": {},
   "outputs": [
    {
     "data": {
      "text/html": [
       "<div style=\"width:100%;\"><div style=\"position:relative;width:100%;height:0;padding-bottom:60%;\"><span style=\"color:#565656\">Make this Notebook Trusted to load map: File -> Trust Notebook</span><iframe srcdoc=\"&lt;!DOCTYPE html&gt;\n",
       "&lt;head&gt;    \n",
       "    &lt;meta http-equiv=&quot;content-type&quot; content=&quot;text/html; charset=UTF-8&quot; /&gt;\n",
       "    \n",
       "        &lt;script&gt;\n",
       "            L_NO_TOUCH = false;\n",
       "            L_DISABLE_3D = false;\n",
       "        &lt;/script&gt;\n",
       "    \n",
       "    &lt;style&gt;html, body {width: 100%;height: 100%;margin: 0;padding: 0;}&lt;/style&gt;\n",
       "    &lt;style&gt;#map {position:absolute;top:0;bottom:0;right:0;left:0;}&lt;/style&gt;\n",
       "    &lt;script src=&quot;https://cdn.jsdelivr.net/npm/leaflet@1.6.0/dist/leaflet.js&quot;&gt;&lt;/script&gt;\n",
       "    &lt;script src=&quot;https://code.jquery.com/jquery-1.12.4.min.js&quot;&gt;&lt;/script&gt;\n",
       "    &lt;script src=&quot;https://maxcdn.bootstrapcdn.com/bootstrap/3.2.0/js/bootstrap.min.js&quot;&gt;&lt;/script&gt;\n",
       "    &lt;script src=&quot;https://cdnjs.cloudflare.com/ajax/libs/Leaflet.awesome-markers/2.0.2/leaflet.awesome-markers.js&quot;&gt;&lt;/script&gt;\n",
       "    &lt;link rel=&quot;stylesheet&quot; href=&quot;https://cdn.jsdelivr.net/npm/leaflet@1.6.0/dist/leaflet.css&quot;/&gt;\n",
       "    &lt;link rel=&quot;stylesheet&quot; href=&quot;https://maxcdn.bootstrapcdn.com/bootstrap/3.2.0/css/bootstrap.min.css&quot;/&gt;\n",
       "    &lt;link rel=&quot;stylesheet&quot; href=&quot;https://maxcdn.bootstrapcdn.com/bootstrap/3.2.0/css/bootstrap-theme.min.css&quot;/&gt;\n",
       "    &lt;link rel=&quot;stylesheet&quot; href=&quot;https://maxcdn.bootstrapcdn.com/font-awesome/4.6.3/css/font-awesome.min.css&quot;/&gt;\n",
       "    &lt;link rel=&quot;stylesheet&quot; href=&quot;https://cdnjs.cloudflare.com/ajax/libs/Leaflet.awesome-markers/2.0.2/leaflet.awesome-markers.css&quot;/&gt;\n",
       "    &lt;link rel=&quot;stylesheet&quot; href=&quot;https://cdn.jsdelivr.net/gh/python-visualization/folium/folium/templates/leaflet.awesome.rotate.min.css&quot;/&gt;\n",
       "    \n",
       "            &lt;meta name=&quot;viewport&quot; content=&quot;width=device-width,\n",
       "                initial-scale=1.0, maximum-scale=1.0, user-scalable=no&quot; /&gt;\n",
       "            &lt;style&gt;\n",
       "                #map_ae314076cb0548fe65e65126af6dd741 {\n",
       "                    position: relative;\n",
       "                    width: 100.0%;\n",
       "                    height: 100.0%;\n",
       "                    left: 0.0%;\n",
       "                    top: 0.0%;\n",
       "                }\n",
       "            &lt;/style&gt;\n",
       "        \n",
       "&lt;/head&gt;\n",
       "&lt;body&gt;    \n",
       "    \n",
       "            &lt;div class=&quot;folium-map&quot; id=&quot;map_ae314076cb0548fe65e65126af6dd741&quot; &gt;&lt;/div&gt;\n",
       "        \n",
       "&lt;/body&gt;\n",
       "&lt;script&gt;    \n",
       "    \n",
       "            var map_ae314076cb0548fe65e65126af6dd741 = L.map(\n",
       "                &quot;map_ae314076cb0548fe65e65126af6dd741&quot;,\n",
       "                {\n",
       "                    center: [33.783659943561325, -84.40256656176881],\n",
       "                    crs: L.CRS.EPSG3857,\n",
       "                    zoom: 13,\n",
       "                    zoomControl: true,\n",
       "                    preferCanvas: false,\n",
       "                }\n",
       "            );\n",
       "\n",
       "            \n",
       "\n",
       "        \n",
       "    \n",
       "            var tile_layer_8ee2bdbeb160acc2da9ee67dc5b67384 = L.tileLayer(\n",
       "                &quot;https://{s}.tile.openstreetmap.org/{z}/{x}/{y}.png&quot;,\n",
       "                {&quot;attribution&quot;: &quot;Data by \\u0026copy; \\u003ca href=\\&quot;http://openstreetmap.org\\&quot;\\u003eOpenStreetMap\\u003c/a\\u003e, under \\u003ca href=\\&quot;http://www.openstreetmap.org/copyright\\&quot;\\u003eODbL\\u003c/a\\u003e.&quot;, &quot;detectRetina&quot;: false, &quot;maxNativeZoom&quot;: 18, &quot;maxZoom&quot;: 18, &quot;minZoom&quot;: 0, &quot;noWrap&quot;: false, &quot;opacity&quot;: 1, &quot;subdomains&quot;: &quot;abc&quot;, &quot;tms&quot;: false}\n",
       "            ).addTo(map_ae314076cb0548fe65e65126af6dd741);\n",
       "        \n",
       "    \n",
       "            var feature_group_6931c5cb247153557798252bc345f00c = L.featureGroup(\n",
       "                {}\n",
       "            ).addTo(map_ae314076cb0548fe65e65126af6dd741);\n",
       "        \n",
       "    \n",
       "        function geo_json_68bbaadb61248f7cae0943a18f5a8696_styler(feature) {\n",
       "            switch(feature.id) {\n",
       "                default:\n",
       "                    return {&quot;color&quot;: &quot;#fc8d62&quot;, &quot;weight&quot;: 12};\n",
       "            }\n",
       "        }\n",
       "\n",
       "        function geo_json_68bbaadb61248f7cae0943a18f5a8696_onEachFeature(feature, layer) {\n",
       "            layer.on({\n",
       "            });\n",
       "        };\n",
       "        var geo_json_68bbaadb61248f7cae0943a18f5a8696 = L.geoJson(null, {\n",
       "                onEachFeature: geo_json_68bbaadb61248f7cae0943a18f5a8696_onEachFeature,\n",
       "            \n",
       "                style: geo_json_68bbaadb61248f7cae0943a18f5a8696_styler,\n",
       "        });\n",
       "\n",
       "        function geo_json_68bbaadb61248f7cae0943a18f5a8696_add (data) {\n",
       "            geo_json_68bbaadb61248f7cae0943a18f5a8696\n",
       "                .addData(data)\n",
       "                .addTo(feature_group_6931c5cb247153557798252bc345f00c);\n",
       "        }\n",
       "            geo_json_68bbaadb61248f7cae0943a18f5a8696_add({&quot;bbox&quot;: [-84.416128, 33.7712346, -84.3867647, 33.797123000000006], &quot;features&quot;: [{&quot;bbox&quot;: [-84.3873096, 33.771288000000006, -84.3867647, 33.77130699999999], &quot;geometry&quot;: {&quot;coordinates&quot;: [[-84.3873096, 33.771288000000006], [-84.386887, 33.77130699999999], [-84.3867647, 33.77130580000001]], &quot;type&quot;: &quot;LineString&quot;}, &quot;id&quot;: &quot;0&quot;, &quot;properties&quot;: {}, &quot;type&quot;: &quot;Feature&quot;}, {&quot;bbox&quot;: [-84.38742100000002, 33.771271, -84.3873096, 33.771288000000006], &quot;geometry&quot;: {&quot;coordinates&quot;: [[-84.3873096, 33.771288000000006], [-84.38742100000002, 33.771271]], &quot;type&quot;: &quot;LineString&quot;}, &quot;id&quot;: &quot;1&quot;, &quot;properties&quot;: {}, &quot;type&quot;: &quot;Feature&quot;}, {&quot;bbox&quot;: [-84.3875684, 33.7712346, -84.38742100000002, 33.771271], &quot;geometry&quot;: {&quot;coordinates&quot;: [[-84.3875684, 33.7712346], [-84.38742100000002, 33.771271]], &quot;type&quot;: &quot;LineString&quot;}, &quot;id&quot;: &quot;2&quot;, &quot;properties&quot;: {}, &quot;type&quot;: &quot;Feature&quot;}, {&quot;bbox&quot;: [-84.3882313, 33.7712346, -84.3875684, 33.7712346], &quot;geometry&quot;: {&quot;coordinates&quot;: [[-84.3875684, 33.7712346], [-84.3882313, 33.7712346]], &quot;type&quot;: &quot;LineString&quot;}, &quot;id&quot;: &quot;3&quot;, &quot;properties&quot;: {}, &quot;type&quot;: &quot;Feature&quot;}, {&quot;bbox&quot;: [-84.3887542, 33.7712346, -84.3882313, 33.7712383], &quot;geometry&quot;: {&quot;coordinates&quot;: [[-84.3887542, 33.7712383], [-84.3882313, 33.7712346]], &quot;type&quot;: &quot;LineString&quot;}, &quot;id&quot;: &quot;4&quot;, &quot;properties&quot;: {}, &quot;type&quot;: &quot;Feature&quot;}, {&quot;bbox&quot;: [-84.388845, 33.7712383, -84.3887542, 33.771239], &quot;geometry&quot;: {&quot;coordinates&quot;: [[-84.3887542, 33.7712383], [-84.388845, 33.771239]], &quot;type&quot;: &quot;LineString&quot;}, &quot;id&quot;: &quot;5&quot;, &quot;properties&quot;: {}, &quot;type&quot;: &quot;Feature&quot;}, {&quot;bbox&quot;: [-84.3889541, 33.771239, -84.388845, 33.77123999999999], &quot;geometry&quot;: {&quot;coordinates&quot;: [[-84.3889541, 33.77123999999999], [-84.388845, 33.771239]], &quot;type&quot;: &quot;LineString&quot;}, &quot;id&quot;: &quot;6&quot;, &quot;properties&quot;: {}, &quot;type&quot;: &quot;Feature&quot;}, {&quot;bbox&quot;: [-84.3890883, 33.77123999999999, -84.3889541, 33.7712412], &quot;geometry&quot;: {&quot;coordinates&quot;: [[-84.3889541, 33.77123999999999], [-84.3890883, 33.7712412]], &quot;type&quot;: &quot;LineString&quot;}, &quot;id&quot;: &quot;7&quot;, &quot;properties&quot;: {}, &quot;type&quot;: &quot;Feature&quot;}, {&quot;bbox&quot;: [-84.3894719, 33.7712412, -84.3890883, 33.77124580000001], &quot;geometry&quot;: {&quot;coordinates&quot;: [[-84.3890883, 33.7712412], [-84.38941, 33.77124400000001], [-84.3894719, 33.77124580000001]], &quot;type&quot;: &quot;LineString&quot;}, &quot;id&quot;: &quot;8&quot;, &quot;properties&quot;: {}, &quot;type&quot;: &quot;Feature&quot;}, {&quot;bbox&quot;: [-84.3895103, 33.77124580000001, -84.3894719, 33.7712469], &quot;geometry&quot;: {&quot;coordinates&quot;: [[-84.3895103, 33.7712469], [-84.3894719, 33.77124580000001]], &quot;type&quot;: &quot;LineString&quot;}, &quot;id&quot;: &quot;9&quot;, &quot;properties&quot;: {}, &quot;type&quot;: &quot;Feature&quot;}, {&quot;bbox&quot;: [-84.3896501, 33.7712469, -84.3895103, 33.77125110000001], &quot;geometry&quot;: {&quot;coordinates&quot;: [[-84.3895103, 33.7712469], [-84.3896501, 33.77125110000001]], &quot;type&quot;: &quot;LineString&quot;}, &quot;id&quot;: &quot;10&quot;, &quot;properties&quot;: {}, &quot;type&quot;: &quot;Feature&quot;}, {&quot;bbox&quot;: [-84.389735, 33.77125110000001, -84.3896501, 33.7712536], &quot;geometry&quot;: {&quot;coordinates&quot;: [[-84.389735, 33.7712536], [-84.3896501, 33.77125110000001]], &quot;type&quot;: &quot;LineString&quot;}, &quot;id&quot;: &quot;11&quot;, &quot;properties&quot;: {}, &quot;type&quot;: &quot;Feature&quot;}, {&quot;bbox&quot;: [-84.3898027, 33.7712536, -84.389735, 33.7712556], &quot;geometry&quot;: {&quot;coordinates&quot;: [[-84.389735, 33.7712536], [-84.3898027, 33.7712556]], &quot;type&quot;: &quot;LineString&quot;}, &quot;id&quot;: &quot;12&quot;, &quot;properties&quot;: {}, &quot;type&quot;: &quot;Feature&quot;}, {&quot;bbox&quot;: [-84.3906612, 33.7712556, -84.3898027, 33.77128110000001], &quot;geometry&quot;: {&quot;coordinates&quot;: [[-84.3906612, 33.77128110000001], [-84.3898027, 33.7712556]], &quot;type&quot;: &quot;LineString&quot;}, &quot;id&quot;: &quot;13&quot;, &quot;properties&quot;: {}, &quot;type&quot;: &quot;Feature&quot;}, {&quot;bbox&quot;: [-84.39071860000001, 33.77128110000001, -84.3906612, 33.77128729999999], &quot;geometry&quot;: {&quot;coordinates&quot;: [[-84.3906612, 33.77128110000001], [-84.39071860000001, 33.77128729999999]], &quot;type&quot;: &quot;LineString&quot;}, &quot;id&quot;: &quot;14&quot;, &quot;properties&quot;: {}, &quot;type&quot;: &quot;Feature&quot;}, {&quot;bbox&quot;: [-84.3908454, 33.77128729999999, -84.39071860000001, 33.771290400000005], &quot;geometry&quot;: {&quot;coordinates&quot;: [[-84.3908454, 33.771290400000005], [-84.39071860000001, 33.77128729999999]], &quot;type&quot;: &quot;LineString&quot;}, &quot;id&quot;: &quot;15&quot;, &quot;properties&quot;: {}, &quot;type&quot;: &quot;Feature&quot;}, {&quot;bbox&quot;: [-84.3911308, 33.771290400000005, -84.3908454, 33.771294299999994], &quot;geometry&quot;: {&quot;coordinates&quot;: [[-84.3908454, 33.771290400000005], [-84.3909901, 33.77129390000001], [-84.3911308, 33.771294299999994]], &quot;type&quot;: &quot;LineString&quot;}, &quot;id&quot;: &quot;16&quot;, &quot;properties&quot;: {}, &quot;type&quot;: &quot;Feature&quot;}, {&quot;bbox&quot;: [-84.3917302, 33.771294299999994, -84.3911308, 33.7712986], &quot;geometry&quot;: {&quot;coordinates&quot;: [[-84.3917302, 33.7712986], [-84.3911308, 33.771294299999994]], &quot;type&quot;: &quot;LineString&quot;}, &quot;id&quot;: &quot;17&quot;, &quot;properties&quot;: {}, &quot;type&quot;: &quot;Feature&quot;}, {&quot;bbox&quot;: [-84.3919079, 33.7712941, -84.3917302, 33.7712986], &quot;geometry&quot;: {&quot;coordinates&quot;: [[-84.3919079, 33.7712941], [-84.3917302, 33.7712986]], &quot;type&quot;: &quot;LineString&quot;}, &quot;id&quot;: &quot;18&quot;, &quot;properties&quot;: {}, &quot;type&quot;: &quot;Feature&quot;}, {&quot;bbox&quot;: [-84.3920541, 33.7712937, -84.3919079, 33.7712941], &quot;geometry&quot;: {&quot;coordinates&quot;: [[-84.3919079, 33.7712941], [-84.3920541, 33.7712937]], &quot;type&quot;: &quot;LineString&quot;}, &quot;id&quot;: &quot;19&quot;, &quot;properties&quot;: {}, &quot;type&quot;: &quot;Feature&quot;}, {&quot;bbox&quot;: [-84.3920541, 33.7712937, -84.3920342, 33.771398999999995], &quot;geometry&quot;: {&quot;coordinates&quot;: [[-84.3920342, 33.771398999999995], [-84.3920541, 33.7712937]], &quot;type&quot;: &quot;LineString&quot;}, &quot;id&quot;: &quot;20&quot;, &quot;properties&quot;: {}, &quot;type&quot;: &quot;Feature&quot;}, {&quot;bbox&quot;: [-84.3920342, 33.771398999999995, -84.3920119, 33.771606799999994], &quot;geometry&quot;: {&quot;coordinates&quot;: [[-84.3920342, 33.771398999999995], [-84.3920293, 33.7714464], [-84.3920119, 33.771606799999994]], &quot;type&quot;: &quot;LineString&quot;}, &quot;id&quot;: &quot;21&quot;, &quot;properties&quot;: {}, &quot;type&quot;: &quot;Feature&quot;}, {&quot;bbox&quot;: [-84.3920119, 33.771606799999994, -84.3920074, 33.771648699999986], &quot;geometry&quot;: {&quot;coordinates&quot;: [[-84.3920074, 33.771648699999986], [-84.3920119, 33.771606799999994]], &quot;type&quot;: &quot;LineString&quot;}, &quot;id&quot;: &quot;22&quot;, &quot;properties&quot;: {}, &quot;type&quot;: &quot;Feature&quot;}, {&quot;bbox&quot;: [-84.3920074, 33.771648699999986, -84.3920039, 33.771931800000004], &quot;geometry&quot;: {&quot;coordinates&quot;: [[-84.3920074, 33.771648699999986], [-84.3920052, 33.7718169], [-84.3920039, 33.771931800000004]], &quot;type&quot;: &quot;LineString&quot;}, &quot;id&quot;: &quot;23&quot;, &quot;properties&quot;: {}, &quot;type&quot;: &quot;Feature&quot;}, {&quot;bbox&quot;: [-84.3920039, 33.771931800000004, -84.3919999, 33.77207390000001], &quot;geometry&quot;: {&quot;coordinates&quot;: [[-84.3920039, 33.771931800000004], [-84.3919999, 33.77207390000001]], &quot;type&quot;: &quot;LineString&quot;}, &quot;id&quot;: &quot;24&quot;, &quot;properties&quot;: {}, &quot;type&quot;: &quot;Feature&quot;}, {&quot;bbox&quot;: [-84.3919999, 33.77207390000001, -84.3919943, 33.7729958], &quot;geometry&quot;: {&quot;coordinates&quot;: [[-84.3919943, 33.7729958], [-84.3919982, 33.77262029999999], [-84.391995, 33.77223609999999], [-84.3919999, 33.77207390000001]], &quot;type&quot;: &quot;LineString&quot;}, &quot;id&quot;: &quot;25&quot;, &quot;properties&quot;: {}, &quot;type&quot;: &quot;Feature&quot;}, {&quot;bbox&quot;: [-84.3919943, 33.7729958, -84.3919866, 33.7737099], &quot;geometry&quot;: {&quot;coordinates&quot;: [[-84.3919943, 33.7729958], [-84.3919866, 33.7737099]], &quot;type&quot;: &quot;LineString&quot;}, &quot;id&quot;: &quot;26&quot;, &quot;properties&quot;: {}, &quot;type&quot;: &quot;Feature&quot;}, {&quot;bbox&quot;: [-84.3919866, 33.7737099, -84.3919816, 33.7738441], &quot;geometry&quot;: {&quot;coordinates&quot;: [[-84.3919816, 33.7738441], [-84.3919856, 33.77379959999999], [-84.3919866, 33.7737099]], &quot;type&quot;: &quot;LineString&quot;}, &quot;id&quot;: &quot;27&quot;, &quot;properties&quot;: {}, &quot;type&quot;: &quot;Feature&quot;}, {&quot;bbox&quot;: [-84.3919823, 33.7738441, -84.3919816, 33.773909], &quot;geometry&quot;: {&quot;coordinates&quot;: [[-84.3919816, 33.7738441], [-84.3919823, 33.773909]], &quot;type&quot;: &quot;LineString&quot;}, &quot;id&quot;: &quot;28&quot;, &quot;properties&quot;: {}, &quot;type&quot;: &quot;Feature&quot;}, {&quot;bbox&quot;: [-84.3919858, 33.773909, -84.3919823, 33.77396730000002], &quot;geometry&quot;: {&quot;coordinates&quot;: [[-84.3919858, 33.77396730000002], [-84.3919823, 33.773909]], &quot;type&quot;: &quot;LineString&quot;}, &quot;id&quot;: &quot;29&quot;, &quot;properties&quot;: {}, &quot;type&quot;: &quot;Feature&quot;}, {&quot;bbox&quot;: [-84.3919858, 33.77396730000002, -84.3919853, 33.77399930000001], &quot;geometry&quot;: {&quot;coordinates&quot;: [[-84.3919858, 33.77396730000002], [-84.3919853, 33.77399930000001]], &quot;type&quot;: &quot;LineString&quot;}, &quot;id&quot;: &quot;30&quot;, &quot;properties&quot;: {}, &quot;type&quot;: &quot;Feature&quot;}, {&quot;bbox&quot;: [-84.3919853, 33.77399930000001, -84.391981, 33.774401], &quot;geometry&quot;: {&quot;coordinates&quot;: [[-84.3919853, 33.77399930000001], [-84.391981, 33.774401]], &quot;type&quot;: &quot;LineString&quot;}, &quot;id&quot;: &quot;31&quot;, &quot;properties&quot;: {}, &quot;type&quot;: &quot;Feature&quot;}, {&quot;bbox&quot;: [-84.391981, 33.774401, -84.3919782, 33.7747046], &quot;geometry&quot;: {&quot;coordinates&quot;: [[-84.391981, 33.774401], [-84.3919782, 33.7747046]], &quot;type&quot;: &quot;LineString&quot;}, &quot;id&quot;: &quot;32&quot;, &quot;properties&quot;: {}, &quot;type&quot;: &quot;Feature&quot;}, {&quot;bbox&quot;: [-84.3919782, 33.7747046, -84.3919776, 33.7748583], &quot;geometry&quot;: {&quot;coordinates&quot;: [[-84.3919776, 33.7748583], [-84.3919782, 33.7747046]], &quot;type&quot;: &quot;LineString&quot;}, &quot;id&quot;: &quot;33&quot;, &quot;properties&quot;: {}, &quot;type&quot;: &quot;Feature&quot;}, {&quot;bbox&quot;: [-84.3919776, 33.7748583, -84.39197440000001, 33.7749953], &quot;geometry&quot;: {&quot;coordinates&quot;: [[-84.39197440000001, 33.7749953], [-84.3919776, 33.7748583]], &quot;type&quot;: &quot;LineString&quot;}, &quot;id&quot;: &quot;34&quot;, &quot;properties&quot;: {}, &quot;type&quot;: &quot;Feature&quot;}, {&quot;bbox&quot;: [-84.39197440000001, 33.7749953, -84.3919741, 33.7750628], &quot;geometry&quot;: {&quot;coordinates&quot;: [[-84.3919741, 33.7750628], [-84.39197440000001, 33.7749953]], &quot;type&quot;: &quot;LineString&quot;}, &quot;id&quot;: &quot;35&quot;, &quot;properties&quot;: {}, &quot;type&quot;: &quot;Feature&quot;}, {&quot;bbox&quot;: [-84.3919752, 33.7750628, -84.3919741, 33.7751418], &quot;geometry&quot;: {&quot;coordinates&quot;: [[-84.3919741, 33.7750628], [-84.3919752, 33.7751418]], &quot;type&quot;: &quot;LineString&quot;}, &quot;id&quot;: &quot;36&quot;, &quot;properties&quot;: {}, &quot;type&quot;: &quot;Feature&quot;}, {&quot;bbox&quot;: [-84.3919752, 33.7751418, -84.3919734, 33.7752563], &quot;geometry&quot;: {&quot;coordinates&quot;: [[-84.3919734, 33.7752563], [-84.3919752, 33.7751418]], &quot;type&quot;: &quot;LineString&quot;}, &quot;id&quot;: &quot;37&quot;, &quot;properties&quot;: {}, &quot;type&quot;: &quot;Feature&quot;}, {&quot;bbox&quot;: [-84.3919779, 33.7752563, -84.3919734, 33.7754132], &quot;geometry&quot;: {&quot;coordinates&quot;: [[-84.3919734, 33.7752563], [-84.3919779, 33.7754132]], &quot;type&quot;: &quot;LineString&quot;}, &quot;id&quot;: &quot;38&quot;, &quot;properties&quot;: {}, &quot;type&quot;: &quot;Feature&quot;}, {&quot;bbox&quot;: [-84.3919779, 33.7754132, -84.3919753, 33.775439600000006], &quot;geometry&quot;: {&quot;coordinates&quot;: [[-84.3919753, 33.775439600000006], [-84.3919779, 33.7754132]], &quot;type&quot;: &quot;LineString&quot;}, &quot;id&quot;: &quot;39&quot;, &quot;properties&quot;: {}, &quot;type&quot;: &quot;Feature&quot;}, {&quot;bbox&quot;: [-84.3919912, 33.775439600000006, -84.3919749, 33.7758473], &quot;geometry&quot;: {&quot;coordinates&quot;: [[-84.3919912, 33.7758473], [-84.3919867, 33.7757922], [-84.391976, 33.775570099999996], [-84.3919749, 33.775501299999995], [-84.3919753, 33.775439600000006]], &quot;type&quot;: &quot;LineString&quot;}, &quot;id&quot;: &quot;40&quot;, &quot;properties&quot;: {}, &quot;type&quot;: &quot;Feature&quot;}, {&quot;bbox&quot;: [-84.3920459, 33.7758473, -84.3919912, 33.77629160000001], &quot;geometry&quot;: {&quot;coordinates&quot;: [[-84.3919912, 33.7758473], [-84.3920459, 33.77629160000001]], &quot;type&quot;: &quot;LineString&quot;}, &quot;id&quot;: &quot;41&quot;, &quot;properties&quot;: {}, &quot;type&quot;: &quot;Feature&quot;}, {&quot;bbox&quot;: [-84.3920631, 33.77629160000001, -84.3920459, 33.776446699999994], &quot;geometry&quot;: {&quot;coordinates&quot;: [[-84.3920631, 33.776446699999994], [-84.3920459, 33.77629160000001]], &quot;type&quot;: &quot;LineString&quot;}, &quot;id&quot;: &quot;42&quot;, &quot;properties&quot;: {}, &quot;type&quot;: &quot;Feature&quot;}, {&quot;bbox&quot;: [-84.3921018, 33.776446699999994, -84.3920631, 33.776820699999995], &quot;geometry&quot;: {&quot;coordinates&quot;: [[-84.3921018, 33.776820699999995], [-84.3920978, 33.776729100000004], [-84.3920894, 33.77662749999999], [-84.3920631, 33.776446699999994]], &quot;type&quot;: &quot;LineString&quot;}, &quot;id&quot;: &quot;43&quot;, &quot;properties&quot;: {}, &quot;type&quot;: &quot;Feature&quot;}, {&quot;bbox&quot;: [-84.3921018, 33.776820699999995, -84.3921012, 33.7769008], &quot;geometry&quot;: {&quot;coordinates&quot;: [[-84.3921018, 33.776820699999995], [-84.3921012, 33.7769008]], &quot;type&quot;: &quot;LineString&quot;}, &quot;id&quot;: &quot;44&quot;, &quot;properties&quot;: {}, &quot;type&quot;: &quot;Feature&quot;}, {&quot;bbox&quot;: [-84.3921785, 33.7769008, -84.3921012, 33.7769027], &quot;geometry&quot;: {&quot;coordinates&quot;: [[-84.3921785, 33.7769027], [-84.3921012, 33.7769008]], &quot;type&quot;: &quot;LineString&quot;}, &quot;id&quot;: &quot;45&quot;, &quot;properties&quot;: {}, &quot;type&quot;: &quot;Feature&quot;}, {&quot;bbox&quot;: [-84.3928241, 33.7769027, -84.3921785, 33.77691349999999], &quot;geometry&quot;: {&quot;coordinates&quot;: [[-84.3921785, 33.7769027], [-84.3928241, 33.77691349999999]], &quot;type&quot;: &quot;LineString&quot;}, &quot;id&quot;: &quot;46&quot;, &quot;properties&quot;: {}, &quot;type&quot;: &quot;Feature&quot;}, {&quot;bbox&quot;: [-84.3930433, 33.77691349999999, -84.3928241, 33.776916699999994], &quot;geometry&quot;: {&quot;coordinates&quot;: [[-84.3930433, 33.776916699999994], [-84.3928241, 33.77691349999999]], &quot;type&quot;: &quot;LineString&quot;}, &quot;id&quot;: &quot;47&quot;, &quot;properties&quot;: {}, &quot;type&quot;: &quot;Feature&quot;}, {&quot;bbox&quot;: [-84.3935664, 33.776916699999994, -84.3930433, 33.77692729999999], &quot;geometry&quot;: {&quot;coordinates&quot;: [[-84.3935664, 33.77692729999999], [-84.3930433, 33.776916699999994]], &quot;type&quot;: &quot;LineString&quot;}, &quot;id&quot;: &quot;48&quot;, &quot;properties&quot;: {}, &quot;type&quot;: &quot;Feature&quot;}, {&quot;bbox&quot;: [-84.393635, 33.77692729999999, -84.3935664, 33.776928999999996], &quot;geometry&quot;: {&quot;coordinates&quot;: [[-84.3935664, 33.77692729999999], [-84.393635, 33.776928999999996]], &quot;type&quot;: &quot;LineString&quot;}, &quot;id&quot;: &quot;49&quot;, &quot;properties&quot;: {}, &quot;type&quot;: &quot;Feature&quot;}, {&quot;bbox&quot;: [-84.3937217, 33.776928999999996, -84.393635, 33.7769296], &quot;geometry&quot;: {&quot;coordinates&quot;: [[-84.3937217, 33.7769296], [-84.393635, 33.776928999999996]], &quot;type&quot;: &quot;LineString&quot;}, &quot;id&quot;: &quot;50&quot;, &quot;properties&quot;: {}, &quot;type&quot;: &quot;Feature&quot;}, {&quot;bbox&quot;: [-84.394304, 33.7769296, -84.3937217, 33.7769368], &quot;geometry&quot;: {&quot;coordinates&quot;: [[-84.394304, 33.7769368], [-84.3941803, 33.77693510000001], [-84.3940566, 33.7769334], [-84.3938589, 33.7769311], [-84.3937217, 33.7769296]], &quot;type&quot;: &quot;LineString&quot;}, &quot;id&quot;: &quot;51&quot;, &quot;properties&quot;: {}, &quot;type&quot;: &quot;Feature&quot;}, {&quot;bbox&quot;: [-84.3951058, 33.7769368, -84.394304, 33.77695670000001], &quot;geometry&quot;: {&quot;coordinates&quot;: [[-84.3951058, 33.77695670000001], [-84.3950398, 33.7769507], [-84.3947869, 33.7769445], [-84.394304, 33.7769368]], &quot;type&quot;: &quot;LineString&quot;}, &quot;id&quot;: &quot;52&quot;, &quot;properties&quot;: {}, &quot;type&quot;: &quot;Feature&quot;}, {&quot;bbox&quot;: [-84.3954475, 33.77695670000001, -84.3951058, 33.7771585], &quot;geometry&quot;: {&quot;coordinates&quot;: [[-84.3951058, 33.77695670000001], [-84.3951436, 33.776960100000004], [-84.395269, 33.7770097], [-84.3953492, 33.77705220000001], [-84.395379, 33.777077500000004], [-84.3954153, 33.7771092], [-84.3954475, 33.7771585]], &quot;type&quot;: &quot;LineString&quot;}, &quot;id&quot;: &quot;53&quot;, &quot;properties&quot;: {}, &quot;type&quot;: &quot;Feature&quot;}, {&quot;bbox&quot;: [-84.3956999, 33.7771585, -84.3954475, 33.7775438], &quot;geometry&quot;: {&quot;coordinates&quot;: [[-84.3954475, 33.7771585], [-84.3956548, 33.777476], [-84.3956999, 33.7775438]], &quot;type&quot;: &quot;LineString&quot;}, &quot;id&quot;: &quot;54&quot;, &quot;properties&quot;: {}, &quot;type&quot;: &quot;Feature&quot;}, {&quot;bbox&quot;: [-84.395719, 33.7775438, -84.3956999, 33.7775754], &quot;geometry&quot;: {&quot;coordinates&quot;: [[-84.3956999, 33.7775438], [-84.395719, 33.7775754]], &quot;type&quot;: &quot;LineString&quot;}, &quot;id&quot;: &quot;55&quot;, &quot;properties&quot;: {}, &quot;type&quot;: &quot;Feature&quot;}, {&quot;bbox&quot;: [-84.3957622, 33.7775754, -84.395719, 33.7776404], &quot;geometry&quot;: {&quot;coordinates&quot;: [[-84.395719, 33.7775754], [-84.3957622, 33.7776404]], &quot;type&quot;: &quot;LineString&quot;}, &quot;id&quot;: &quot;56&quot;, &quot;properties&quot;: {}, &quot;type&quot;: &quot;Feature&quot;}, {&quot;bbox&quot;: [-84.3963674, 33.7776404, -84.3957622, 33.7781263], &quot;geometry&quot;: {&quot;coordinates&quot;: [[-84.3963674, 33.7781263], [-84.3962263, 33.7780607], [-84.3960941, 33.777984000000004], [-84.39604, 33.777948], [-84.3959872, 33.7779122], [-84.3959408, 33.777871], [-84.3958983, 33.7778274], [-84.3958312, 33.7777408], [-84.3957622, 33.7776404]], &quot;type&quot;: &quot;LineString&quot;}, &quot;id&quot;: &quot;57&quot;, &quot;properties&quot;: {}, &quot;type&quot;: &quot;Feature&quot;}, {&quot;bbox&quot;: [-84.396432, 33.7781263, -84.3963674, 33.778152999999996], &quot;geometry&quot;: {&quot;coordinates&quot;: [[-84.3963674, 33.7781263], [-84.396432, 33.778152999999996]], &quot;type&quot;: &quot;LineString&quot;}, &quot;id&quot;: &quot;58&quot;, &quot;properties&quot;: {}, &quot;type&quot;: &quot;Feature&quot;}, {&quot;bbox&quot;: [-84.3965384, 33.778152999999996, -84.396432, 33.77818750000001], &quot;geometry&quot;: {&quot;coordinates&quot;: [[-84.3965384, 33.77818750000001], [-84.396432, 33.778152999999996]], &quot;type&quot;: &quot;LineString&quot;}, &quot;id&quot;: &quot;59&quot;, &quot;properties&quot;: {}, &quot;type&quot;: &quot;Feature&quot;}, {&quot;bbox&quot;: [-84.3971253, 33.77818750000001, -84.3965384, 33.7782478], &quot;geometry&quot;: {&quot;coordinates&quot;: [[-84.3971253, 33.7782478], [-84.3968249, 33.7782402], [-84.3967154, 33.778227699999995], [-84.3966072, 33.7782066], [-84.3965384, 33.77818750000001]], &quot;type&quot;: &quot;LineString&quot;}, &quot;id&quot;: &quot;60&quot;, &quot;properties&quot;: {}, &quot;type&quot;: &quot;Feature&quot;}, {&quot;bbox&quot;: [-84.3971864, 33.7782478, -84.3971253, 33.7782483], &quot;geometry&quot;: {&quot;coordinates&quot;: [[-84.3971253, 33.7782478], [-84.3971864, 33.7782483]], &quot;type&quot;: &quot;LineString&quot;}, &quot;id&quot;: &quot;61&quot;, &quot;properties&quot;: {}, &quot;type&quot;: &quot;Feature&quot;}, {&quot;bbox&quot;: [-84.3976873, 33.7782483, -84.3971864, 33.7782505], &quot;geometry&quot;: {&quot;coordinates&quot;: [[-84.3971864, 33.7782483], [-84.3974584, 33.77824879999999], [-84.3976074, 33.77825030000001], [-84.3976873, 33.7782505]], &quot;type&quot;: &quot;LineString&quot;}, &quot;id&quot;: &quot;62&quot;, &quot;properties&quot;: {}, &quot;type&quot;: &quot;Feature&quot;}, {&quot;bbox&quot;: [-84.3977891, 33.7782505, -84.3976873, 33.77825070000001], &quot;geometry&quot;: {&quot;coordinates&quot;: [[-84.3976873, 33.7782505], [-84.3977891, 33.77825070000001]], &quot;type&quot;: &quot;LineString&quot;}, &quot;id&quot;: &quot;63&quot;, &quot;properties&quot;: {}, &quot;type&quot;: &quot;Feature&quot;}, {&quot;bbox&quot;: [-84.3990595, 33.77825070000001, -84.3977891, 33.778271800000006], &quot;geometry&quot;: {&quot;coordinates&quot;: [[-84.3990595, 33.778271800000006], [-84.3981831, 33.7782559], [-84.39788970000001, 33.778252], [-84.3977891, 33.77825070000001]], &quot;type&quot;: &quot;LineString&quot;}, &quot;id&quot;: &quot;64&quot;, &quot;properties&quot;: {}, &quot;type&quot;: &quot;Feature&quot;}, {&quot;bbox&quot;: [-84.399181, 33.778271800000006, -84.3990595, 33.77827400000001], &quot;geometry&quot;: {&quot;coordinates&quot;: [[-84.3990595, 33.778271800000006], [-84.399181, 33.77827400000001]], &quot;type&quot;: &quot;LineString&quot;}, &quot;id&quot;: &quot;65&quot;, &quot;properties&quot;: {}, &quot;type&quot;: &quot;Feature&quot;}, {&quot;bbox&quot;: [-84.399181, 33.77827400000001, -84.3991277, 33.778377400000004], &quot;geometry&quot;: {&quot;coordinates&quot;: [[-84.399181, 33.77827400000001], [-84.3991277, 33.778377400000004]], &quot;type&quot;: &quot;LineString&quot;}, &quot;id&quot;: &quot;66&quot;, &quot;properties&quot;: {}, &quot;type&quot;: &quot;Feature&quot;}, {&quot;bbox&quot;: [-84.3991277, 33.778377400000004, -84.399104, 33.7792968], &quot;geometry&quot;: {&quot;coordinates&quot;: [[-84.3991277, 33.778377400000004], [-84.3991269, 33.7789155], [-84.3991175, 33.77909789999999], [-84.399104, 33.7792968]], &quot;type&quot;: &quot;LineString&quot;}, &quot;id&quot;: &quot;67&quot;, &quot;properties&quot;: {}, &quot;type&quot;: &quot;Feature&quot;}, {&quot;bbox&quot;: [-84.399104, 33.7792968, -84.3990898, 33.7795529], &quot;geometry&quot;: {&quot;coordinates&quot;: [[-84.399104, 33.7792968], [-84.3990949, 33.77943139999999], [-84.3990898, 33.7795529]], &quot;type&quot;: &quot;LineString&quot;}, &quot;id&quot;: &quot;68&quot;, &quot;properties&quot;: {}, &quot;type&quot;: &quot;Feature&quot;}, {&quot;bbox&quot;: [-84.3990898, 33.7795529, -84.3990861, 33.7796289], &quot;geometry&quot;: {&quot;coordinates&quot;: [[-84.3990898, 33.7795529], [-84.3990861, 33.7796289]], &quot;type&quot;: &quot;LineString&quot;}, &quot;id&quot;: &quot;69&quot;, &quot;properties&quot;: {}, &quot;type&quot;: &quot;Feature&quot;}, {&quot;bbox&quot;: [-84.3990865, 33.7796289, -84.3990817, 33.7801858], &quot;geometry&quot;: {&quot;coordinates&quot;: [[-84.3990861, 33.7796289], [-84.3990838, 33.77968109999999], [-84.3990817, 33.7797281], [-84.3990865, 33.7801858]], &quot;type&quot;: &quot;LineString&quot;}, &quot;id&quot;: &quot;70&quot;, &quot;properties&quot;: {}, &quot;type&quot;: &quot;Feature&quot;}, {&quot;bbox&quot;: [-84.3990891, 33.7801858, -84.3990865, 33.78043410000001], &quot;geometry&quot;: {&quot;coordinates&quot;: [[-84.3990865, 33.7801858], [-84.3990891, 33.78043410000001]], &quot;type&quot;: &quot;LineString&quot;}, &quot;id&quot;: &quot;71&quot;, &quot;properties&quot;: {}, &quot;type&quot;: &quot;Feature&quot;}, {&quot;bbox&quot;: [-84.399141, 33.78043410000001, -84.3990891, 33.780508499999996], &quot;geometry&quot;: {&quot;coordinates&quot;: [[-84.3990891, 33.78043410000001], [-84.3990893, 33.78045209999999], [-84.399141, 33.780508499999996]], &quot;type&quot;: &quot;LineString&quot;}, &quot;id&quot;: &quot;72&quot;, &quot;properties&quot;: {}, &quot;type&quot;: &quot;Feature&quot;}, {&quot;bbox&quot;: [-84.3991462, 33.780508499999996, -84.399141, 33.781173300000006], &quot;geometry&quot;: {&quot;coordinates&quot;: [[-84.3991462, 33.781173300000006], [-84.399141, 33.780508499999996]], &quot;type&quot;: &quot;LineString&quot;}, &quot;id&quot;: &quot;73&quot;, &quot;properties&quot;: {}, &quot;type&quot;: &quot;Feature&quot;}, {&quot;bbox&quot;: [-84.3991484, 33.781173300000006, -84.3991462, 33.78144600000001], &quot;geometry&quot;: {&quot;coordinates&quot;: [[-84.3991484, 33.78144600000001], [-84.3991462, 33.781173300000006]], &quot;type&quot;: &quot;LineString&quot;}, &quot;id&quot;: &quot;74&quot;, &quot;properties&quot;: {}, &quot;type&quot;: &quot;Feature&quot;}, {&quot;bbox&quot;: [-84.3991489, 33.78144600000001, -84.3991484, 33.78151019999999], &quot;geometry&quot;: {&quot;coordinates&quot;: [[-84.3991484, 33.78144600000001], [-84.3991489, 33.78151019999999]], &quot;type&quot;: &quot;LineString&quot;}, &quot;id&quot;: &quot;75&quot;, &quot;properties&quot;: {}, &quot;type&quot;: &quot;Feature&quot;}, {&quot;bbox&quot;: [-84.3991489, 33.78151019999999, -84.3991418, 33.7815877], &quot;geometry&quot;: {&quot;coordinates&quot;: [[-84.3991418, 33.7815877], [-84.3991489, 33.78151019999999]], &quot;type&quot;: &quot;LineString&quot;}, &quot;id&quot;: &quot;76&quot;, &quot;properties&quot;: {}, &quot;type&quot;: &quot;Feature&quot;}, {&quot;bbox&quot;: [-84.3991418, 33.7815877, -84.3991133, 33.781897], &quot;geometry&quot;: {&quot;coordinates&quot;: [[-84.3991418, 33.7815877], [-84.3991133, 33.781897]], &quot;type&quot;: &quot;LineString&quot;}, &quot;id&quot;: &quot;77&quot;, &quot;properties&quot;: {}, &quot;type&quot;: &quot;Feature&quot;}, {&quot;bbox&quot;: [-84.3991133, 33.781897, -84.3991059, 33.7819769], &quot;geometry&quot;: {&quot;coordinates&quot;: [[-84.3991133, 33.781897], [-84.3991059, 33.7819769]], &quot;type&quot;: &quot;LineString&quot;}, &quot;id&quot;: &quot;78&quot;, &quot;properties&quot;: {}, &quot;type&quot;: &quot;Feature&quot;}, {&quot;bbox&quot;: [-84.3991059, 33.7819769, -84.399062, 33.782454], &quot;geometry&quot;: {&quot;coordinates&quot;: [[-84.3991059, 33.7819769], [-84.399062, 33.782454]], &quot;type&quot;: &quot;LineString&quot;}, &quot;id&quot;: &quot;79&quot;, &quot;properties&quot;: {}, &quot;type&quot;: &quot;Feature&quot;}, {&quot;bbox&quot;: [-84.399062, 33.782454, -84.399028, 33.782831], &quot;geometry&quot;: {&quot;coordinates&quot;: [[-84.399028, 33.782831], [-84.399062, 33.782454]], &quot;type&quot;: &quot;LineString&quot;}, &quot;id&quot;: &quot;80&quot;, &quot;properties&quot;: {}, &quot;type&quot;: &quot;Feature&quot;}, {&quot;bbox&quot;: [-84.399028, 33.782831, -84.3990221, 33.7828972], &quot;geometry&quot;: {&quot;coordinates&quot;: [[-84.3990221, 33.7828972], [-84.399028, 33.782831]], &quot;type&quot;: &quot;LineString&quot;}, &quot;id&quot;: &quot;81&quot;, &quot;properties&quot;: {}, &quot;type&quot;: &quot;Feature&quot;}, {&quot;bbox&quot;: [-84.3990221, 33.7828972, -84.398983, 33.78333849999999], &quot;geometry&quot;: {&quot;coordinates&quot;: [[-84.3990221, 33.7828972], [-84.398983, 33.78333849999999]], &quot;type&quot;: &quot;LineString&quot;}, &quot;id&quot;: &quot;82&quot;, &quot;properties&quot;: {}, &quot;type&quot;: &quot;Feature&quot;}, {&quot;bbox&quot;: [-84.398983, 33.78333849999999, -84.39898, 33.783372], &quot;geometry&quot;: {&quot;coordinates&quot;: [[-84.398983, 33.78333849999999], [-84.39898, 33.783372]], &quot;type&quot;: &quot;LineString&quot;}, &quot;id&quot;: &quot;83&quot;, &quot;properties&quot;: {}, &quot;type&quot;: &quot;Feature&quot;}, {&quot;bbox&quot;: [-84.39898, 33.783372, -84.3989764, 33.7834112], &quot;geometry&quot;: {&quot;coordinates&quot;: [[-84.3989764, 33.7834112], [-84.39898, 33.783372]], &quot;type&quot;: &quot;LineString&quot;}, &quot;id&quot;: &quot;84&quot;, &quot;properties&quot;: {}, &quot;type&quot;: &quot;Feature&quot;}, {&quot;bbox&quot;: [-84.3989764, 33.7834112, -84.3989567, 33.7836226], &quot;geometry&quot;: {&quot;coordinates&quot;: [[-84.3989567, 33.7836226], [-84.3989764, 33.7834112]], &quot;type&quot;: &quot;LineString&quot;}, &quot;id&quot;: &quot;85&quot;, &quot;properties&quot;: {}, &quot;type&quot;: &quot;Feature&quot;}, {&quot;bbox&quot;: [-84.3989567, 33.7836226, -84.398954, 33.783652000000004], &quot;geometry&quot;: {&quot;coordinates&quot;: [[-84.3989567, 33.7836226], [-84.398954, 33.783652000000004]], &quot;type&quot;: &quot;LineString&quot;}, &quot;id&quot;: &quot;86&quot;, &quot;properties&quot;: {}, &quot;type&quot;: &quot;Feature&quot;}, {&quot;bbox&quot;: [-84.398954, 33.783652000000004, -84.3989507, 33.78368900000002], &quot;geometry&quot;: {&quot;coordinates&quot;: [[-84.3989507, 33.78368900000002], [-84.398954, 33.783652000000004]], &quot;type&quot;: &quot;LineString&quot;}, &quot;id&quot;: &quot;87&quot;, &quot;properties&quot;: {}, &quot;type&quot;: &quot;Feature&quot;}, {&quot;bbox&quot;: [-84.3989507, 33.78368900000002, -84.39890600000001, 33.78418700000002], &quot;geometry&quot;: {&quot;coordinates&quot;: [[-84.3989507, 33.78368900000002], [-84.39890600000001, 33.78418700000002]], &quot;type&quot;: &quot;LineString&quot;}, &quot;id&quot;: &quot;88&quot;, &quot;properties&quot;: {}, &quot;type&quot;: &quot;Feature&quot;}, {&quot;bbox&quot;: [-84.39890600000001, 33.78418700000002, -84.3988349, 33.7849771], &quot;geometry&quot;: {&quot;coordinates&quot;: [[-84.3988349, 33.7849771], [-84.39890600000001, 33.78418700000002]], &quot;type&quot;: &quot;LineString&quot;}, &quot;id&quot;: &quot;89&quot;, &quot;properties&quot;: {}, &quot;type&quot;: &quot;Feature&quot;}, {&quot;bbox&quot;: [-84.3988349, 33.7849771, -84.3987399, 33.78603270000001], &quot;geometry&quot;: {&quot;coordinates&quot;: [[-84.3988349, 33.7849771], [-84.3987399, 33.78603270000001]], &quot;type&quot;: &quot;LineString&quot;}, &quot;id&quot;: &quot;90&quot;, &quot;properties&quot;: {}, &quot;type&quot;: &quot;Feature&quot;}, {&quot;bbox&quot;: [-84.3987399, 33.78603270000001, -84.3987361, 33.78612079999999], &quot;geometry&quot;: {&quot;coordinates&quot;: [[-84.3987361, 33.78612079999999], [-84.398737, 33.786065], [-84.3987399, 33.78603270000001]], &quot;type&quot;: &quot;LineString&quot;}, &quot;id&quot;: &quot;91&quot;, &quot;properties&quot;: {}, &quot;type&quot;: &quot;Feature&quot;}, {&quot;bbox&quot;: [-84.3987361, 33.78612079999999, -84.398735, 33.786193], &quot;geometry&quot;: {&quot;coordinates&quot;: [[-84.3987361, 33.78612079999999], [-84.398735, 33.786193]], &quot;type&quot;: &quot;LineString&quot;}, &quot;id&quot;: &quot;92&quot;, &quot;properties&quot;: {}, &quot;type&quot;: &quot;Feature&quot;}, {&quot;bbox&quot;: [-84.3988282, 33.786193, -84.398735, 33.7861934], &quot;geometry&quot;: {&quot;coordinates&quot;: [[-84.3988282, 33.7861934], [-84.398735, 33.786193]], &quot;type&quot;: &quot;LineString&quot;}, &quot;id&quot;: &quot;93&quot;, &quot;properties&quot;: {}, &quot;type&quot;: &quot;Feature&quot;}, {&quot;bbox&quot;: [-84.3989662, 33.7861934, -84.3988282, 33.7861939], &quot;geometry&quot;: {&quot;coordinates&quot;: [[-84.3988282, 33.7861934], [-84.3989662, 33.7861939]], &quot;type&quot;: &quot;LineString&quot;}, &quot;id&quot;: &quot;94&quot;, &quot;properties&quot;: {}, &quot;type&quot;: &quot;Feature&quot;}, {&quot;bbox&quot;: [-84.398995, 33.7861939, -84.3989662, 33.786194], &quot;geometry&quot;: {&quot;coordinates&quot;: [[-84.398995, 33.786194], [-84.3989662, 33.7861939]], &quot;type&quot;: &quot;LineString&quot;}, &quot;id&quot;: &quot;95&quot;, &quot;properties&quot;: {}, &quot;type&quot;: &quot;Feature&quot;}, {&quot;bbox&quot;: [-84.3994948, 33.786194, -84.398995, 33.7861958], &quot;geometry&quot;: {&quot;coordinates&quot;: [[-84.398995, 33.786194], [-84.3994948, 33.7861958]], &quot;type&quot;: &quot;LineString&quot;}, &quot;id&quot;: &quot;96&quot;, &quot;properties&quot;: {}, &quot;type&quot;: &quot;Feature&quot;}, {&quot;bbox&quot;: [-84.399807, 33.7861958, -84.3994948, 33.78619700000001], &quot;geometry&quot;: {&quot;coordinates&quot;: [[-84.3994948, 33.7861958], [-84.399807, 33.78619700000001]], &quot;type&quot;: &quot;LineString&quot;}, &quot;id&quot;: &quot;97&quot;, &quot;properties&quot;: {}, &quot;type&quot;: &quot;Feature&quot;}, {&quot;bbox&quot;: [-84.3998726, 33.78619700000001, -84.399807, 33.7861973], &quot;geometry&quot;: {&quot;coordinates&quot;: [[-84.3998726, 33.7861973], [-84.399807, 33.78619700000001]], &quot;type&quot;: &quot;LineString&quot;}, &quot;id&quot;: &quot;98&quot;, &quot;properties&quot;: {}, &quot;type&quot;: &quot;Feature&quot;}, {&quot;bbox&quot;: [-84.400655, 33.7861973, -84.3998726, 33.78620099999999], &quot;geometry&quot;: {&quot;coordinates&quot;: [[-84.3998726, 33.7861973], [-84.400655, 33.78620099999999]], &quot;type&quot;: &quot;LineString&quot;}, &quot;id&quot;: &quot;99&quot;, &quot;properties&quot;: {}, &quot;type&quot;: &quot;Feature&quot;}, {&quot;bbox&quot;: [-84.400825, 33.78620099999999, -84.400655, 33.7862041], &quot;geometry&quot;: {&quot;coordinates&quot;: [[-84.400825, 33.7862041], [-84.400655, 33.78620099999999]], &quot;type&quot;: &quot;LineString&quot;}, &quot;id&quot;: &quot;100&quot;, &quot;properties&quot;: {}, &quot;type&quot;: &quot;Feature&quot;}, {&quot;bbox&quot;: [-84.4011182, 33.7862041, -84.400825, 33.7862095], &quot;geometry&quot;: {&quot;coordinates&quot;: [[-84.400825, 33.7862041], [-84.4011182, 33.7862095]], &quot;type&quot;: &quot;LineString&quot;}, &quot;id&quot;: &quot;101&quot;, &quot;properties&quot;: {}, &quot;type&quot;: &quot;Feature&quot;}, {&quot;bbox&quot;: [-84.401881, 33.78620599999999, -84.4011182, 33.7862095], &quot;geometry&quot;: {&quot;coordinates&quot;: [[-84.401881, 33.78620599999999], [-84.4011182, 33.7862095]], &quot;type&quot;: &quot;LineString&quot;}, &quot;id&quot;: &quot;102&quot;, &quot;properties&quot;: {}, &quot;type&quot;: &quot;Feature&quot;}, {&quot;bbox&quot;: [-84.4020125, 33.78620599999999, -84.401881, 33.7862066], &quot;geometry&quot;: {&quot;coordinates&quot;: [[-84.4020125, 33.7862066], [-84.401881, 33.78620599999999]], &quot;type&quot;: &quot;LineString&quot;}, &quot;id&quot;: &quot;103&quot;, &quot;properties&quot;: {}, &quot;type&quot;: &quot;Feature&quot;}, {&quot;bbox&quot;: [-84.402813, 33.7862066, -84.4020125, 33.786210000000004], &quot;geometry&quot;: {&quot;coordinates&quot;: [[-84.4020125, 33.7862066], [-84.402813, 33.786210000000004]], &quot;type&quot;: &quot;LineString&quot;}, &quot;id&quot;: &quot;104&quot;, &quot;properties&quot;: {}, &quot;type&quot;: &quot;Feature&quot;}, {&quot;bbox&quot;: [-84.4036353, 33.786210000000004, -84.402813, 33.7862165], &quot;geometry&quot;: {&quot;coordinates&quot;: [[-84.4036353, 33.7862165], [-84.402813, 33.786210000000004]], &quot;type&quot;: &quot;LineString&quot;}, &quot;id&quot;: &quot;105&quot;, &quot;properties&quot;: {}, &quot;type&quot;: &quot;Feature&quot;}, {&quot;bbox&quot;: [-84.403992, 33.7862165, -84.4036353, 33.7862193], &quot;geometry&quot;: {&quot;coordinates&quot;: [[-84.403992, 33.7862193], [-84.4036353, 33.7862165]], &quot;type&quot;: &quot;LineString&quot;}, &quot;id&quot;: &quot;106&quot;, &quot;properties&quot;: {}, &quot;type&quot;: &quot;Feature&quot;}, {&quot;bbox&quot;: [-84.404246, 33.786215, -84.403992, 33.7862193], &quot;geometry&quot;: {&quot;coordinates&quot;: [[-84.403992, 33.7862193], [-84.404246, 33.786215]], &quot;type&quot;: &quot;LineString&quot;}, &quot;id&quot;: &quot;107&quot;, &quot;properties&quot;: {}, &quot;type&quot;: &quot;Feature&quot;}, {&quot;bbox&quot;: [-84.405228, 33.786215, -84.404246, 33.78621900000001], &quot;geometry&quot;: {&quot;coordinates&quot;: [[-84.405228, 33.78621900000001], [-84.404899, 33.786218], [-84.404246, 33.786215]], &quot;type&quot;: &quot;LineString&quot;}, &quot;id&quot;: &quot;108&quot;, &quot;properties&quot;: {}, &quot;type&quot;: &quot;Feature&quot;}, {&quot;bbox&quot;: [-84.405661, 33.78621900000001, -84.405228, 33.7862211], &quot;geometry&quot;: {&quot;coordinates&quot;: [[-84.405661, 33.7862211], [-84.405228, 33.78621900000001]], &quot;type&quot;: &quot;LineString&quot;}, &quot;id&quot;: &quot;109&quot;, &quot;properties&quot;: {}, &quot;type&quot;: &quot;Feature&quot;}, {&quot;bbox&quot;: [-84.405801, 33.7862211, -84.405661, 33.78622180000001], &quot;geometry&quot;: {&quot;coordinates&quot;: [[-84.405661, 33.7862211], [-84.405801, 33.78622180000001]], &quot;type&quot;: &quot;LineString&quot;}, &quot;id&quot;: &quot;110&quot;, &quot;properties&quot;: {}, &quot;type&quot;: &quot;Feature&quot;}, {&quot;bbox&quot;: [-84.40606, 33.78622180000001, -84.405801, 33.78622299999999], &quot;geometry&quot;: {&quot;coordinates&quot;: [[-84.405801, 33.78622180000001], [-84.40606, 33.78622299999999]], &quot;type&quot;: &quot;LineString&quot;}, &quot;id&quot;: &quot;111&quot;, &quot;properties&quot;: {}, &quot;type&quot;: &quot;Feature&quot;}, {&quot;bbox&quot;: [-84.4064528, 33.7862212, -84.40606, 33.78622299999999], &quot;geometry&quot;: {&quot;coordinates&quot;: [[-84.4064528, 33.7862212], [-84.40606, 33.78622299999999]], &quot;type&quot;: &quot;LineString&quot;}, &quot;id&quot;: &quot;112&quot;, &quot;properties&quot;: {}, &quot;type&quot;: &quot;Feature&quot;}, {&quot;bbox&quot;: [-84.406879, 33.7862212, -84.4064528, 33.78622959999999], &quot;geometry&quot;: {&quot;coordinates&quot;: [[-84.406879, 33.78622959999999], [-84.4064528, 33.7862212]], &quot;type&quot;: &quot;LineString&quot;}, &quot;id&quot;: &quot;113&quot;, &quot;properties&quot;: {}, &quot;type&quot;: &quot;Feature&quot;}, {&quot;bbox&quot;: [-84.4069763, 33.78622959999999, -84.406879, 33.7862315], &quot;geometry&quot;: {&quot;coordinates&quot;: [[-84.406879, 33.78622959999999], [-84.4069763, 33.7862315]], &quot;type&quot;: &quot;LineString&quot;}, &quot;id&quot;: &quot;114&quot;, &quot;properties&quot;: {}, &quot;type&quot;: &quot;Feature&quot;}, {&quot;bbox&quot;: [-84.4070851, 33.7862315, -84.4069763, 33.7862324], &quot;geometry&quot;: {&quot;coordinates&quot;: [[-84.4070851, 33.7862324], [-84.4069763, 33.7862315]], &quot;type&quot;: &quot;LineString&quot;}, &quot;id&quot;: &quot;115&quot;, &quot;properties&quot;: {}, &quot;type&quot;: &quot;Feature&quot;}, {&quot;bbox&quot;: [-84.40731480000001, 33.7862324, -84.4070851, 33.786234300000004], &quot;geometry&quot;: {&quot;coordinates&quot;: [[-84.4070851, 33.7862324], [-84.40731480000001, 33.786234300000004]], &quot;type&quot;: &quot;LineString&quot;}, &quot;id&quot;: &quot;116&quot;, &quot;properties&quot;: {}, &quot;type&quot;: &quot;Feature&quot;}, {&quot;bbox&quot;: [-84.40738, 33.786234300000004, -84.40731480000001, 33.7862348], &quot;geometry&quot;: {&quot;coordinates&quot;: [[-84.40731480000001, 33.786234300000004], [-84.40738, 33.7862348]], &quot;type&quot;: &quot;LineString&quot;}, &quot;id&quot;: &quot;117&quot;, &quot;properties&quot;: {}, &quot;type&quot;: &quot;Feature&quot;}, {&quot;bbox&quot;: [-84.4075195, 33.7862348, -84.40738, 33.7862359], &quot;geometry&quot;: {&quot;coordinates&quot;: [[-84.40738, 33.7862348], [-84.4075195, 33.7862359]], &quot;type&quot;: &quot;LineString&quot;}, &quot;id&quot;: &quot;118&quot;, &quot;properties&quot;: {}, &quot;type&quot;: &quot;Feature&quot;}, {&quot;bbox&quot;: [-84.4075993, 33.7862359, -84.4075195, 33.786236], &quot;geometry&quot;: {&quot;coordinates&quot;: [[-84.4075993, 33.786236], [-84.4075195, 33.7862359]], &quot;type&quot;: &quot;LineString&quot;}, &quot;id&quot;: &quot;119&quot;, &quot;properties&quot;: {}, &quot;type&quot;: &quot;Feature&quot;}, {&quot;bbox&quot;: [-84.4077112, 33.786236, -84.4075993, 33.7862362], &quot;geometry&quot;: {&quot;coordinates&quot;: [[-84.4077112, 33.7862362], [-84.4075993, 33.786236]], &quot;type&quot;: &quot;LineString&quot;}, &quot;id&quot;: &quot;120&quot;, &quot;properties&quot;: {}, &quot;type&quot;: &quot;Feature&quot;}, {&quot;bbox&quot;: [-84.4081725, 33.7862362, -84.4077112, 33.786237400000005], &quot;geometry&quot;: {&quot;coordinates&quot;: [[-84.4081725, 33.786237400000005], [-84.4077112, 33.7862362]], &quot;type&quot;: &quot;LineString&quot;}, &quot;id&quot;: &quot;121&quot;, &quot;properties&quot;: {}, &quot;type&quot;: &quot;Feature&quot;}, {&quot;bbox&quot;: [-84.408445, 33.786215, -84.4081725, 33.786237400000005], &quot;geometry&quot;: {&quot;coordinates&quot;: [[-84.4081725, 33.786237400000005], [-84.40822020000002, 33.7862369], [-84.408445, 33.786215]], &quot;type&quot;: &quot;LineString&quot;}, &quot;id&quot;: &quot;122&quot;, &quot;properties&quot;: {}, &quot;type&quot;: &quot;Feature&quot;}, {&quot;bbox&quot;: [-84.4087299, 33.78618, -84.408445, 33.786215], &quot;geometry&quot;: {&quot;coordinates&quot;: [[-84.4087299, 33.78618], [-84.408671, 33.78619], [-84.408445, 33.786215]], &quot;type&quot;: &quot;LineString&quot;}, &quot;id&quot;: &quot;123&quot;, &quot;properties&quot;: {}, &quot;type&quot;: &quot;Feature&quot;}, {&quot;bbox&quot;: [-84.4089675, 33.786135699999996, -84.4087299, 33.78618], &quot;geometry&quot;: {&quot;coordinates&quot;: [[-84.4089675, 33.786135699999996], [-84.408882, 33.786153999999996], [-84.4087299, 33.78618]], &quot;type&quot;: &quot;LineString&quot;}, &quot;id&quot;: &quot;124&quot;, &quot;properties&quot;: {}, &quot;type&quot;: &quot;Feature&quot;}, {&quot;bbox&quot;: [-84.4092315, 33.786068400000005, -84.4089675, 33.786135699999996], &quot;geometry&quot;: {&quot;coordinates&quot;: [[-84.4092315, 33.786068400000005], [-84.409078, 33.786111999999996], [-84.4089675, 33.786135699999996]], &quot;type&quot;: &quot;LineString&quot;}, &quot;id&quot;: &quot;125&quot;, &quot;properties&quot;: {}, &quot;type&quot;: &quot;Feature&quot;}, {&quot;bbox&quot;: [-84.4094255, 33.7860133, -84.4092315, 33.786068400000005], &quot;geometry&quot;: {&quot;coordinates&quot;: [[-84.4092315, 33.786068400000005], [-84.4094255, 33.7860133]], &quot;type&quot;: &quot;LineString&quot;}, &quot;id&quot;: &quot;126&quot;, &quot;properties&quot;: {}, &quot;type&quot;: &quot;Feature&quot;}, {&quot;bbox&quot;: [-84.409809, 33.785910699999995, -84.4094255, 33.7860133], &quot;geometry&quot;: {&quot;coordinates&quot;: [[-84.4094255, 33.7860133], [-84.40962, 33.785957999999994], [-84.409809, 33.785910699999995]], &quot;type&quot;: &quot;LineString&quot;}, &quot;id&quot;: &quot;127&quot;, &quot;properties&quot;: {}, &quot;type&quot;: &quot;Feature&quot;}, {&quot;bbox&quot;: [-84.4101388, 33.7858513, -84.409809, 33.785910699999995], &quot;geometry&quot;: {&quot;coordinates&quot;: [[-84.4101388, 33.7858513], [-84.410071, 33.78586], [-84.40982400000001, 33.785907], [-84.409809, 33.785910699999995]], &quot;type&quot;: &quot;LineString&quot;}, &quot;id&quot;: &quot;128&quot;, &quot;properties&quot;: {}, &quot;type&quot;: &quot;Feature&quot;}, {&quot;bbox&quot;: [-84.410321, 33.785828, -84.4101388, 33.7858513], &quot;geometry&quot;: {&quot;coordinates&quot;: [[-84.4101388, 33.7858513], [-84.410321, 33.785828]], &quot;type&quot;: &quot;LineString&quot;}, &quot;id&quot;: &quot;129&quot;, &quot;properties&quot;: {}, &quot;type&quot;: &quot;Feature&quot;}, {&quot;bbox&quot;: [-84.4110071, 33.7858081, -84.410321, 33.785828], &quot;geometry&quot;: {&quot;coordinates&quot;: [[-84.4110071, 33.7858081], [-84.4106968, 33.7858132], [-84.410613, 33.785814599999995], [-84.410321, 33.785828]], &quot;type&quot;: &quot;LineString&quot;}, &quot;id&quot;: &quot;130&quot;, &quot;properties&quot;: {}, &quot;type&quot;: &quot;Feature&quot;}, {&quot;bbox&quot;: [-84.4115649, 33.78579980000001, -84.4110071, 33.7858081], &quot;geometry&quot;: {&quot;coordinates&quot;: [[-84.4110071, 33.7858081], [-84.411514, 33.78579980000001], [-84.4115649, 33.78580019999999]], &quot;type&quot;: &quot;LineString&quot;}, &quot;id&quot;: &quot;131&quot;, &quot;properties&quot;: {}, &quot;type&quot;: &quot;Feature&quot;}, {&quot;bbox&quot;: [-84.411655, 33.78580019999999, -84.4115649, 33.785801], &quot;geometry&quot;: {&quot;coordinates&quot;: [[-84.4115649, 33.78580019999999], [-84.411655, 33.785801]], &quot;type&quot;: &quot;LineString&quot;}, &quot;id&quot;: &quot;132&quot;, &quot;properties&quot;: {}, &quot;type&quot;: &quot;Feature&quot;}, {&quot;bbox&quot;: [-84.411655, 33.785801, -84.4116529, 33.785843], &quot;geometry&quot;: {&quot;coordinates&quot;: [[-84.4116529, 33.785843], [-84.411655, 33.785801]], &quot;type&quot;: &quot;LineString&quot;}, &quot;id&quot;: &quot;133&quot;, &quot;properties&quot;: {}, &quot;type&quot;: &quot;Feature&quot;}, {&quot;bbox&quot;: [-84.4116757, 33.785843, -84.4116529, 33.786302], &quot;geometry&quot;: {&quot;coordinates&quot;: [[-84.4116529, 33.785843], [-84.4116757, 33.786302]], &quot;type&quot;: &quot;LineString&quot;}, &quot;id&quot;: &quot;134&quot;, &quot;properties&quot;: {}, &quot;type&quot;: &quot;Feature&quot;}, {&quot;bbox&quot;: [-84.41170510000002, 33.786302, -84.4116757, 33.7866978], &quot;geometry&quot;: {&quot;coordinates&quot;: [[-84.4116757, 33.786302], [-84.41170510000002, 33.7866978]], &quot;type&quot;: &quot;LineString&quot;}, &quot;id&quot;: &quot;135&quot;, &quot;properties&quot;: {}, &quot;type&quot;: &quot;Feature&quot;}, {&quot;bbox&quot;: [-84.4117098, 33.7866978, -84.41170510000002, 33.7867391], &quot;geometry&quot;: {&quot;coordinates&quot;: [[-84.4117098, 33.7867391], [-84.41170510000002, 33.7866978]], &quot;type&quot;: &quot;LineString&quot;}, &quot;id&quot;: &quot;136&quot;, &quot;properties&quot;: {}, &quot;type&quot;: &quot;Feature&quot;}, {&quot;bbox&quot;: [-84.4117556, 33.7867391, -84.4117098, 33.78708890000001], &quot;geometry&quot;: {&quot;coordinates&quot;: [[-84.4117556, 33.78708890000001], [-84.4117363, 33.78695199999999], [-84.4117098, 33.7867391]], &quot;type&quot;: &quot;LineString&quot;}, &quot;id&quot;: &quot;137&quot;, &quot;properties&quot;: {}, &quot;type&quot;: &quot;Feature&quot;}, {&quot;bbox&quot;: [-84.4117752, 33.78708890000001, -84.4117556, 33.78722629999999], &quot;geometry&quot;: {&quot;coordinates&quot;: [[-84.4117556, 33.78708890000001], [-84.4117752, 33.78722629999999]], &quot;type&quot;: &quot;LineString&quot;}, &quot;id&quot;: &quot;138&quot;, &quot;properties&quot;: {}, &quot;type&quot;: &quot;Feature&quot;}, {&quot;bbox&quot;: [-84.4118234, 33.78722629999999, -84.4117752, 33.787712400000004], &quot;geometry&quot;: {&quot;coordinates&quot;: [[-84.4118234, 33.787712400000004], [-84.4117752, 33.78722629999999]], &quot;type&quot;: &quot;LineString&quot;}, &quot;id&quot;: &quot;139&quot;, &quot;properties&quot;: {}, &quot;type&quot;: &quot;Feature&quot;}, {&quot;bbox&quot;: [-84.4118299, 33.787712400000004, -84.4118234, 33.7877787], &quot;geometry&quot;: {&quot;coordinates&quot;: [[-84.4118234, 33.787712400000004], [-84.4118299, 33.7877787]], &quot;type&quot;: &quot;LineString&quot;}, &quot;id&quot;: &quot;140&quot;, &quot;properties&quot;: {}, &quot;type&quot;: &quot;Feature&quot;}, {&quot;bbox&quot;: [-84.412001, 33.7877787, -84.4118299, 33.790124299999995], &quot;geometry&quot;: {&quot;coordinates&quot;: [[-84.412001, 33.790124299999995], [-84.411977, 33.78991399999999], [-84.4118299, 33.7877787]], &quot;type&quot;: &quot;LineString&quot;}, &quot;id&quot;: &quot;141&quot;, &quot;properties&quot;: {}, &quot;type&quot;: &quot;Feature&quot;}, {&quot;bbox&quot;: [-84.41205, 33.790124299999995, -84.412001, 33.79040899999999], &quot;geometry&quot;: {&quot;coordinates&quot;: [[-84.412001, 33.790124299999995], [-84.41202, 33.79029], [-84.41205, 33.79040899999999]], &quot;type&quot;: &quot;LineString&quot;}, &quot;id&quot;: &quot;142&quot;, &quot;properties&quot;: {}, &quot;type&quot;: &quot;Feature&quot;}, {&quot;bbox&quot;: [-84.4132464, 33.79040899999999, -84.41205, 33.7920064], &quot;geometry&quot;: {&quot;coordinates&quot;: [[-84.4132464, 33.7920064], [-84.412489, 33.791072], [-84.41212300000001, 33.79055399999999], [-84.41205, 33.79040899999999]], &quot;type&quot;: &quot;LineString&quot;}, &quot;id&quot;: &quot;143&quot;, &quot;properties&quot;: {}, &quot;type&quot;: &quot;Feature&quot;}, {&quot;bbox&quot;: [-84.4139471, 33.7920064, -84.4132464, 33.792934300000006], &quot;geometry&quot;: {&quot;coordinates&quot;: [[-84.4139471, 33.792934300000006], [-84.413721, 33.792611], [-84.413439, 33.79224399999999], [-84.4132464, 33.7920064]], &quot;type&quot;: &quot;LineString&quot;}, &quot;id&quot;: &quot;144&quot;, &quot;properties&quot;: {}, &quot;type&quot;: &quot;Feature&quot;}, {&quot;bbox&quot;: [-84.4140243, 33.792934300000006, -84.4139471, 33.79305070000001], &quot;geometry&quot;: {&quot;coordinates&quot;: [[-84.4139471, 33.792934300000006], [-84.413998, 33.793007], [-84.4140243, 33.79305070000001]], &quot;type&quot;: &quot;LineString&quot;}, &quot;id&quot;: &quot;145&quot;, &quot;properties&quot;: {}, &quot;type&quot;: &quot;Feature&quot;}, {&quot;bbox&quot;: [-84.414082, 33.79305070000001, -84.4140243, 33.79314639999999], &quot;geometry&quot;: {&quot;coordinates&quot;: [[-84.4140243, 33.79305070000001], [-84.414082, 33.79314639999999]], &quot;type&quot;: &quot;LineString&quot;}, &quot;id&quot;: &quot;146&quot;, &quot;properties&quot;: {}, &quot;type&quot;: &quot;Feature&quot;}, {&quot;bbox&quot;: [-84.4142551, 33.79314639999999, -84.414082, 33.793427900000005], &quot;geometry&quot;: {&quot;coordinates&quot;: [[-84.414082, 33.79314639999999], [-84.4142551, 33.793427900000005]], &quot;type&quot;: &quot;LineString&quot;}, &quot;id&quot;: &quot;147&quot;, &quot;properties&quot;: {}, &quot;type&quot;: &quot;Feature&quot;}, {&quot;bbox&quot;: [-84.4145863, 33.793427900000005, -84.4142551, 33.793946], &quot;geometry&quot;: {&quot;coordinates&quot;: [[-84.4145863, 33.793946], [-84.4142551, 33.793427900000005]], &quot;type&quot;: &quot;LineString&quot;}, &quot;id&quot;: &quot;148&quot;, &quot;properties&quot;: {}, &quot;type&quot;: &quot;Feature&quot;}, {&quot;bbox&quot;: [-84.4146811, 33.793946, -84.4145863, 33.7940943], &quot;geometry&quot;: {&quot;coordinates&quot;: [[-84.4146811, 33.7940943], [-84.4145863, 33.793946]], &quot;type&quot;: &quot;LineString&quot;}, &quot;id&quot;: &quot;149&quot;, &quot;properties&quot;: {}, &quot;type&quot;: &quot;Feature&quot;}, {&quot;bbox&quot;: [-84.414826, 33.7940943, -84.4146811, 33.794320899999995], &quot;geometry&quot;: {&quot;coordinates&quot;: [[-84.414826, 33.794320899999995], [-84.4146811, 33.7940943]], &quot;type&quot;: &quot;LineString&quot;}, &quot;id&quot;: &quot;150&quot;, &quot;properties&quot;: {}, &quot;type&quot;: &quot;Feature&quot;}, {&quot;bbox&quot;: [-84.4149459, 33.794320899999995, -84.414826, 33.7945164], &quot;geometry&quot;: {&quot;coordinates&quot;: [[-84.414826, 33.794320899999995], [-84.414835, 33.794335], [-84.4149459, 33.7945164]], &quot;type&quot;: &quot;LineString&quot;}, &quot;id&quot;: &quot;151&quot;, &quot;properties&quot;: {}, &quot;type&quot;: &quot;Feature&quot;}, {&quot;bbox&quot;: [-84.4150062, 33.7945164, -84.4149459, 33.7946149], &quot;geometry&quot;: {&quot;coordinates&quot;: [[-84.4149459, 33.7945164], [-84.4150062, 33.7946149]], &quot;type&quot;: &quot;LineString&quot;}, &quot;id&quot;: &quot;152&quot;, &quot;properties&quot;: {}, &quot;type&quot;: &quot;Feature&quot;}, {&quot;bbox&quot;: [-84.4151483, 33.7946149, -84.4150062, 33.79484719999999], &quot;geometry&quot;: {&quot;coordinates&quot;: [[-84.4150062, 33.7946149], [-84.4151483, 33.79484719999999]], &quot;type&quot;: &quot;LineString&quot;}, &quot;id&quot;: &quot;153&quot;, &quot;properties&quot;: {}, &quot;type&quot;: &quot;Feature&quot;}, {&quot;bbox&quot;: [-84.41538490000002, 33.79484719999999, -84.4151483, 33.79521590000001], &quot;geometry&quot;: {&quot;coordinates&quot;: [[-84.41538490000002, 33.79521590000001], [-84.4151483, 33.79484719999999]], &quot;type&quot;: &quot;LineString&quot;}, &quot;id&quot;: &quot;154&quot;, &quot;properties&quot;: {}, &quot;type&quot;: &quot;Feature&quot;}, {&quot;bbox&quot;: [-84.415472, 33.79521590000001, -84.41538490000002, 33.79537700000001], &quot;geometry&quot;: {&quot;coordinates&quot;: [[-84.41538490000002, 33.79521590000001], [-84.415472, 33.79537700000001]], &quot;type&quot;: &quot;LineString&quot;}, &quot;id&quot;: &quot;155&quot;, &quot;properties&quot;: {}, &quot;type&quot;: &quot;Feature&quot;}, {&quot;bbox&quot;: [-84.4156196, 33.79537700000001, -84.415472, 33.795632999999995], &quot;geometry&quot;: {&quot;coordinates&quot;: [[-84.4156196, 33.795632999999995], [-84.415472, 33.79537700000001]], &quot;type&quot;: &quot;LineString&quot;}, &quot;id&quot;: &quot;156&quot;, &quot;properties&quot;: {}, &quot;type&quot;: &quot;Feature&quot;}, {&quot;bbox&quot;: [-84.4157152, 33.795632999999995, -84.4156196, 33.7958039], &quot;geometry&quot;: {&quot;coordinates&quot;: [[-84.4156196, 33.795632999999995], [-84.415701, 33.795774], [-84.4157152, 33.7958039]], &quot;type&quot;: &quot;LineString&quot;}, &quot;id&quot;: &quot;157&quot;, &quot;properties&quot;: {}, &quot;type&quot;: &quot;Feature&quot;}, {&quot;bbox&quot;: [-84.4157414, 33.7958039, -84.4157152, 33.795859], &quot;geometry&quot;: {&quot;coordinates&quot;: [[-84.4157414, 33.795859], [-84.4157152, 33.7958039]], &quot;type&quot;: &quot;LineString&quot;}, &quot;id&quot;: &quot;158&quot;, &quot;properties&quot;: {}, &quot;type&quot;: &quot;Feature&quot;}, {&quot;bbox&quot;: [-84.415861, 33.795859, -84.4157414, 33.796134], &quot;geometry&quot;: {&quot;coordinates&quot;: [[-84.4157414, 33.795859], [-84.415786, 33.795953000000004], [-84.415861, 33.796134]], &quot;type&quot;: &quot;LineString&quot;}, &quot;id&quot;: &quot;159&quot;, &quot;properties&quot;: {}, &quot;type&quot;: &quot;Feature&quot;}, {&quot;bbox&quot;: [-84.4159873, 33.796134, -84.415861, 33.79654359999999], &quot;geometry&quot;: {&quot;coordinates&quot;: [[-84.4159873, 33.79654359999999], [-84.415943, 33.79637900000001], [-84.415861, 33.796134]], &quot;type&quot;: &quot;LineString&quot;}, &quot;id&quot;: &quot;160&quot;, &quot;properties&quot;: {}, &quot;type&quot;: &quot;Feature&quot;}, {&quot;bbox&quot;: [-84.416068, 33.79654359999999, -84.4159873, 33.79684300000001], &quot;geometry&quot;: {&quot;coordinates&quot;: [[-84.4159873, 33.79654359999999], [-84.416068, 33.79684300000001]], &quot;type&quot;: &quot;LineString&quot;}, &quot;id&quot;: &quot;161&quot;, &quot;properties&quot;: {}, &quot;type&quot;: &quot;Feature&quot;}, {&quot;bbox&quot;: [-84.416128, 33.79684300000001, -84.416068, 33.797106], &quot;geometry&quot;: {&quot;coordinates&quot;: [[-84.416128, 33.797106], [-84.416068, 33.79684300000001]], &quot;type&quot;: &quot;LineString&quot;}, &quot;id&quot;: &quot;162&quot;, &quot;properties&quot;: {}, &quot;type&quot;: &quot;Feature&quot;}, {&quot;bbox&quot;: [-84.416128, 33.797106, -84.415696, 33.797123000000006], &quot;geometry&quot;: {&quot;coordinates&quot;: [[-84.415696, 33.7971141], [-84.41601500000002, 33.797123000000006], [-84.416128, 33.797106]], &quot;type&quot;: &quot;LineString&quot;}, &quot;id&quot;: &quot;163&quot;, &quot;properties&quot;: {}, &quot;type&quot;: &quot;Feature&quot;}, {&quot;bbox&quot;: [-84.415696, 33.7971116, -84.4156074, 33.7971141], &quot;geometry&quot;: {&quot;coordinates&quot;: [[-84.415696, 33.7971141], [-84.4156074, 33.7971116]], &quot;type&quot;: &quot;LineString&quot;}, &quot;id&quot;: &quot;164&quot;, &quot;properties&quot;: {}, &quot;type&quot;: &quot;Feature&quot;}, {&quot;bbox&quot;: [-84.4156074, 33.79708, -84.414484, 33.7971116], &quot;geometry&quot;: {&quot;coordinates&quot;: [[-84.4156074, 33.7971116], [-84.414484, 33.79708]], &quot;type&quot;: &quot;LineString&quot;}, &quot;id&quot;: &quot;165&quot;, &quot;properties&quot;: {}, &quot;type&quot;: &quot;Feature&quot;}, {&quot;bbox&quot;: [-84.414484, 33.797033, -84.412742, 33.79708], &quot;geometry&quot;: {&quot;coordinates&quot;: [[-84.414484, 33.79708], [-84.412742, 33.797033]], &quot;type&quot;: &quot;LineString&quot;}, &quot;id&quot;: &quot;166&quot;, &quot;properties&quot;: {}, &quot;type&quot;: &quot;Feature&quot;}], &quot;type&quot;: &quot;FeatureCollection&quot;});\n",
       "\n",
       "        \n",
       "    \n",
       "            var feature_group_cc0bf5ec0f11ae5d146e5a93c140550b = L.featureGroup(\n",
       "                {}\n",
       "            ).addTo(map_ae314076cb0548fe65e65126af6dd741);\n",
       "        \n",
       "    \n",
       "        function geo_json_88936500c81afd07d4da858faae60b34_styler(feature) {\n",
       "            switch(feature.id) {\n",
       "                default:\n",
       "                    return {&quot;color&quot;: &quot;#66c2a5&quot;, &quot;weight&quot;: 8};\n",
       "            }\n",
       "        }\n",
       "\n",
       "        function geo_json_88936500c81afd07d4da858faae60b34_onEachFeature(feature, layer) {\n",
       "            layer.on({\n",
       "            });\n",
       "        };\n",
       "        var geo_json_88936500c81afd07d4da858faae60b34 = L.geoJson(null, {\n",
       "                onEachFeature: geo_json_88936500c81afd07d4da858faae60b34_onEachFeature,\n",
       "            \n",
       "                style: geo_json_88936500c81afd07d4da858faae60b34_styler,\n",
       "        });\n",
       "\n",
       "        function geo_json_88936500c81afd07d4da858faae60b34_add (data) {\n",
       "            geo_json_88936500c81afd07d4da858faae60b34\n",
       "                .addData(data)\n",
       "                .addTo(feature_group_cc0bf5ec0f11ae5d146e5a93c140550b);\n",
       "        }\n",
       "            geo_json_88936500c81afd07d4da858faae60b34_add({&quot;bbox&quot;: [-84.4159873, 33.7712346, -84.3867647, 33.7971141], &quot;features&quot;: [{&quot;bbox&quot;: [-84.3873096, 33.771288000000006, -84.3867647, 33.77130699999999], &quot;geometry&quot;: {&quot;coordinates&quot;: [[-84.3873096, 33.771288000000006], [-84.386887, 33.77130699999999], [-84.3867647, 33.77130580000001]], &quot;type&quot;: &quot;LineString&quot;}, &quot;id&quot;: &quot;0&quot;, &quot;properties&quot;: {}, &quot;type&quot;: &quot;Feature&quot;}, {&quot;bbox&quot;: [-84.38742100000002, 33.771271, -84.3873096, 33.771288000000006], &quot;geometry&quot;: {&quot;coordinates&quot;: [[-84.3873096, 33.771288000000006], [-84.38742100000002, 33.771271]], &quot;type&quot;: &quot;LineString&quot;}, &quot;id&quot;: &quot;1&quot;, &quot;properties&quot;: {}, &quot;type&quot;: &quot;Feature&quot;}, {&quot;bbox&quot;: [-84.3875684, 33.7712346, -84.38742100000002, 33.771271], &quot;geometry&quot;: {&quot;coordinates&quot;: [[-84.3875684, 33.7712346], [-84.38742100000002, 33.771271]], &quot;type&quot;: &quot;LineString&quot;}, &quot;id&quot;: &quot;2&quot;, &quot;properties&quot;: {}, &quot;type&quot;: &quot;Feature&quot;}, {&quot;bbox&quot;: [-84.3882313, 33.7712346, -84.3875684, 33.7712346], &quot;geometry&quot;: {&quot;coordinates&quot;: [[-84.3875684, 33.7712346], [-84.3882313, 33.7712346]], &quot;type&quot;: &quot;LineString&quot;}, &quot;id&quot;: &quot;3&quot;, &quot;properties&quot;: {}, &quot;type&quot;: &quot;Feature&quot;}, {&quot;bbox&quot;: [-84.3887542, 33.7712346, -84.3882313, 33.7712383], &quot;geometry&quot;: {&quot;coordinates&quot;: [[-84.3887542, 33.7712383], [-84.3882313, 33.7712346]], &quot;type&quot;: &quot;LineString&quot;}, &quot;id&quot;: &quot;4&quot;, &quot;properties&quot;: {}, &quot;type&quot;: &quot;Feature&quot;}, {&quot;bbox&quot;: [-84.388845, 33.7712383, -84.3887542, 33.771239], &quot;geometry&quot;: {&quot;coordinates&quot;: [[-84.3887542, 33.7712383], [-84.388845, 33.771239]], &quot;type&quot;: &quot;LineString&quot;}, &quot;id&quot;: &quot;5&quot;, &quot;properties&quot;: {}, &quot;type&quot;: &quot;Feature&quot;}, {&quot;bbox&quot;: [-84.3889541, 33.771239, -84.388845, 33.77123999999999], &quot;geometry&quot;: {&quot;coordinates&quot;: [[-84.3889541, 33.77123999999999], [-84.388845, 33.771239]], &quot;type&quot;: &quot;LineString&quot;}, &quot;id&quot;: &quot;6&quot;, &quot;properties&quot;: {}, &quot;type&quot;: &quot;Feature&quot;}, {&quot;bbox&quot;: [-84.3890883, 33.77123999999999, -84.3889541, 33.7712412], &quot;geometry&quot;: {&quot;coordinates&quot;: [[-84.3889541, 33.77123999999999], [-84.3890883, 33.7712412]], &quot;type&quot;: &quot;LineString&quot;}, &quot;id&quot;: &quot;7&quot;, &quot;properties&quot;: {}, &quot;type&quot;: &quot;Feature&quot;}, {&quot;bbox&quot;: [-84.3894719, 33.7712412, -84.3890883, 33.77124580000001], &quot;geometry&quot;: {&quot;coordinates&quot;: [[-84.3890883, 33.7712412], [-84.38941, 33.77124400000001], [-84.3894719, 33.77124580000001]], &quot;type&quot;: &quot;LineString&quot;}, &quot;id&quot;: &quot;8&quot;, &quot;properties&quot;: {}, &quot;type&quot;: &quot;Feature&quot;}, {&quot;bbox&quot;: [-84.3895103, 33.77124580000001, -84.3894719, 33.7712469], &quot;geometry&quot;: {&quot;coordinates&quot;: [[-84.3895103, 33.7712469], [-84.3894719, 33.77124580000001]], &quot;type&quot;: &quot;LineString&quot;}, &quot;id&quot;: &quot;9&quot;, &quot;properties&quot;: {}, &quot;type&quot;: &quot;Feature&quot;}, {&quot;bbox&quot;: [-84.3896501, 33.7712469, -84.3895103, 33.77125110000001], &quot;geometry&quot;: {&quot;coordinates&quot;: [[-84.3895103, 33.7712469], [-84.3896501, 33.77125110000001]], &quot;type&quot;: &quot;LineString&quot;}, &quot;id&quot;: &quot;10&quot;, &quot;properties&quot;: {}, &quot;type&quot;: &quot;Feature&quot;}, {&quot;bbox&quot;: [-84.389735, 33.77125110000001, -84.3896501, 33.7712536], &quot;geometry&quot;: {&quot;coordinates&quot;: [[-84.389735, 33.7712536], [-84.3896501, 33.77125110000001]], &quot;type&quot;: &quot;LineString&quot;}, &quot;id&quot;: &quot;11&quot;, &quot;properties&quot;: {}, &quot;type&quot;: &quot;Feature&quot;}, {&quot;bbox&quot;: [-84.3898027, 33.7712536, -84.389735, 33.7712556], &quot;geometry&quot;: {&quot;coordinates&quot;: [[-84.389735, 33.7712536], [-84.3898027, 33.7712556]], &quot;type&quot;: &quot;LineString&quot;}, &quot;id&quot;: &quot;12&quot;, &quot;properties&quot;: {}, &quot;type&quot;: &quot;Feature&quot;}, {&quot;bbox&quot;: [-84.3906612, 33.7712556, -84.3898027, 33.77128110000001], &quot;geometry&quot;: {&quot;coordinates&quot;: [[-84.3906612, 33.77128110000001], [-84.3898027, 33.7712556]], &quot;type&quot;: &quot;LineString&quot;}, &quot;id&quot;: &quot;13&quot;, &quot;properties&quot;: {}, &quot;type&quot;: &quot;Feature&quot;}, {&quot;bbox&quot;: [-84.39071860000001, 33.77128110000001, -84.3906612, 33.77128729999999], &quot;geometry&quot;: {&quot;coordinates&quot;: [[-84.3906612, 33.77128110000001], [-84.39071860000001, 33.77128729999999]], &quot;type&quot;: &quot;LineString&quot;}, &quot;id&quot;: &quot;14&quot;, &quot;properties&quot;: {}, &quot;type&quot;: &quot;Feature&quot;}, {&quot;bbox&quot;: [-84.3908454, 33.77128729999999, -84.39071860000001, 33.771290400000005], &quot;geometry&quot;: {&quot;coordinates&quot;: [[-84.3908454, 33.771290400000005], [-84.39071860000001, 33.77128729999999]], &quot;type&quot;: &quot;LineString&quot;}, &quot;id&quot;: &quot;15&quot;, &quot;properties&quot;: {}, &quot;type&quot;: &quot;Feature&quot;}, {&quot;bbox&quot;: [-84.3911308, 33.771290400000005, -84.3908454, 33.771294299999994], &quot;geometry&quot;: {&quot;coordinates&quot;: [[-84.3908454, 33.771290400000005], [-84.3909901, 33.77129390000001], [-84.3911308, 33.771294299999994]], &quot;type&quot;: &quot;LineString&quot;}, &quot;id&quot;: &quot;16&quot;, &quot;properties&quot;: {}, &quot;type&quot;: &quot;Feature&quot;}, {&quot;bbox&quot;: [-84.3917302, 33.771294299999994, -84.3911308, 33.7712986], &quot;geometry&quot;: {&quot;coordinates&quot;: [[-84.3917302, 33.7712986], [-84.3911308, 33.771294299999994]], &quot;type&quot;: &quot;LineString&quot;}, &quot;id&quot;: &quot;17&quot;, &quot;properties&quot;: {}, &quot;type&quot;: &quot;Feature&quot;}, {&quot;bbox&quot;: [-84.3919079, 33.7712941, -84.3917302, 33.7712986], &quot;geometry&quot;: {&quot;coordinates&quot;: [[-84.3919079, 33.7712941], [-84.3917302, 33.7712986]], &quot;type&quot;: &quot;LineString&quot;}, &quot;id&quot;: &quot;18&quot;, &quot;properties&quot;: {}, &quot;type&quot;: &quot;Feature&quot;}, {&quot;bbox&quot;: [-84.3920541, 33.7712937, -84.3919079, 33.7712941], &quot;geometry&quot;: {&quot;coordinates&quot;: [[-84.3919079, 33.7712941], [-84.3920541, 33.7712937]], &quot;type&quot;: &quot;LineString&quot;}, &quot;id&quot;: &quot;19&quot;, &quot;properties&quot;: {}, &quot;type&quot;: &quot;Feature&quot;}, {&quot;bbox&quot;: [-84.3922533, 33.7712886, -84.3920541, 33.7712937], &quot;geometry&quot;: {&quot;coordinates&quot;: [[-84.3922533, 33.7712886], [-84.3920541, 33.7712937]], &quot;type&quot;: &quot;LineString&quot;}, &quot;id&quot;: &quot;20&quot;, &quot;properties&quot;: {}, &quot;type&quot;: &quot;Feature&quot;}, {&quot;bbox&quot;: [-84.3929145, 33.7712855, -84.3922533, 33.7712886], &quot;geometry&quot;: {&quot;coordinates&quot;: [[-84.3922533, 33.7712886], [-84.3929145, 33.7712855]], &quot;type&quot;: &quot;LineString&quot;}, &quot;id&quot;: &quot;21&quot;, &quot;properties&quot;: {}, &quot;type&quot;: &quot;Feature&quot;}, {&quot;bbox&quot;: [-84.39297060000001, 33.7712855, -84.3929145, 33.77128880000001], &quot;geometry&quot;: {&quot;coordinates&quot;: [[-84.39297060000001, 33.77128880000001], [-84.3929145, 33.7712855]], &quot;type&quot;: &quot;LineString&quot;}, &quot;id&quot;: &quot;22&quot;, &quot;properties&quot;: {}, &quot;type&quot;: &quot;Feature&quot;}, {&quot;bbox&quot;: [-84.3932194, 33.77128880000001, -84.39297060000001, 33.7713034], &quot;geometry&quot;: {&quot;coordinates&quot;: [[-84.3932194, 33.7713034], [-84.39297060000001, 33.77128880000001]], &quot;type&quot;: &quot;LineString&quot;}, &quot;id&quot;: &quot;23&quot;, &quot;properties&quot;: {}, &quot;type&quot;: &quot;Feature&quot;}, {&quot;bbox&quot;: [-84.3934241, 33.7713034, -84.3932194, 33.771315], &quot;geometry&quot;: {&quot;coordinates&quot;: [[-84.3932194, 33.7713034], [-84.3934241, 33.771315]], &quot;type&quot;: &quot;LineString&quot;}, &quot;id&quot;: &quot;24&quot;, &quot;properties&quot;: {}, &quot;type&quot;: &quot;Feature&quot;}, {&quot;bbox&quot;: [-84.3937114, 33.771315, -84.3934241, 33.7713171], &quot;geometry&quot;: {&quot;coordinates&quot;: [[-84.3937114, 33.7713171], [-84.3934241, 33.771315]], &quot;type&quot;: &quot;LineString&quot;}, &quot;id&quot;: &quot;25&quot;, &quot;properties&quot;: {}, &quot;type&quot;: &quot;Feature&quot;}, {&quot;bbox&quot;: [-84.3949143, 33.7713171, -84.3937114, 33.7713261], &quot;geometry&quot;: {&quot;coordinates&quot;: [[-84.3937114, 33.7713171], [-84.3937642, 33.77131750000001], [-84.394655, 33.771322999999995], [-84.3949143, 33.7713261]], &quot;type&quot;: &quot;LineString&quot;}, &quot;id&quot;: &quot;26&quot;, &quot;properties&quot;: {}, &quot;type&quot;: &quot;Feature&quot;}, {&quot;bbox&quot;: [-84.395517, 33.7713261, -84.3949143, 33.771328], &quot;geometry&quot;: {&quot;coordinates&quot;: [[-84.3949143, 33.7713261], [-84.395517, 33.771328]], &quot;type&quot;: &quot;LineString&quot;}, &quot;id&quot;: &quot;27&quot;, &quot;properties&quot;: {}, &quot;type&quot;: &quot;Feature&quot;}, {&quot;bbox&quot;: [-84.396009, 33.771328, -84.395517, 33.77133820000001], &quot;geometry&quot;: {&quot;coordinates&quot;: [[-84.396009, 33.77133820000001], [-84.395939, 33.771330000000006], [-84.395517, 33.771328]], &quot;type&quot;: &quot;LineString&quot;}, &quot;id&quot;: &quot;28&quot;, &quot;properties&quot;: {}, &quot;type&quot;: &quot;Feature&quot;}, {&quot;bbox&quot;: [-84.3961144, 33.77133820000001, -84.396009, 33.7713491], &quot;geometry&quot;: {&quot;coordinates&quot;: [[-84.396009, 33.77133820000001], [-84.3961144, 33.7713491]], &quot;type&quot;: &quot;LineString&quot;}, &quot;id&quot;: &quot;29&quot;, &quot;properties&quot;: {}, &quot;type&quot;: &quot;Feature&quot;}, {&quot;bbox&quot;: [-84.3961678, 33.7713491, -84.3961144, 33.7714336], &quot;geometry&quot;: {&quot;coordinates&quot;: [[-84.3961678, 33.7714336], [-84.3961144, 33.7713491]], &quot;type&quot;: &quot;LineString&quot;}, &quot;id&quot;: &quot;30&quot;, &quot;properties&quot;: {}, &quot;type&quot;: &quot;Feature&quot;}, {&quot;bbox&quot;: [-84.3963346, 33.7714336, -84.3961678, 33.7714485], &quot;geometry&quot;: {&quot;coordinates&quot;: [[-84.3961678, 33.7714336], [-84.3963346, 33.7714485]], &quot;type&quot;: &quot;LineString&quot;}, &quot;id&quot;: &quot;31&quot;, &quot;properties&quot;: {}, &quot;type&quot;: &quot;Feature&quot;}, {&quot;bbox&quot;: [-84.39697910000001, 33.7714485, -84.3963346, 33.7723223], &quot;geometry&quot;: {&quot;coordinates&quot;: [[-84.3963346, 33.7714485], [-84.3963512, 33.7714819], [-84.3964709, 33.771662400000004], [-84.3965951, 33.77185690000001], [-84.39665480000001, 33.77194370000001], [-84.3967386, 33.772049599999995], [-84.39697910000001, 33.7723223]], &quot;type&quot;: &quot;LineString&quot;}, &quot;id&quot;: &quot;32&quot;, &quot;properties&quot;: {}, &quot;type&quot;: &quot;Feature&quot;}, {&quot;bbox&quot;: [-84.3972867, 33.7723223, -84.39697910000001, 33.7725456], &quot;geometry&quot;: {&quot;coordinates&quot;: [[-84.3972867, 33.7725456], [-84.3972276, 33.7725099], [-84.3971022, 33.7724274], [-84.39697910000001, 33.7723223]], &quot;type&quot;: &quot;LineString&quot;}, &quot;id&quot;: &quot;33&quot;, &quot;properties&quot;: {}, &quot;type&quot;: &quot;Feature&quot;}, {&quot;bbox&quot;: [-84.3980924, 33.7725456, -84.3972867, 33.7727984], &quot;geometry&quot;: {&quot;coordinates&quot;: [[-84.3972867, 33.7725456], [-84.3974508, 33.7726286], [-84.397738, 33.772726999999996], [-84.3980924, 33.7727984]], &quot;type&quot;: &quot;LineString&quot;}, &quot;id&quot;: &quot;34&quot;, &quot;properties&quot;: {}, &quot;type&quot;: &quot;Feature&quot;}, {&quot;bbox&quot;: [-84.3990836, 33.7727984, -84.3980924, 33.7729572], &quot;geometry&quot;: {&quot;coordinates&quot;: [[-84.3990836, 33.7729572], [-84.3980924, 33.7727984]], &quot;type&quot;: &quot;LineString&quot;}, &quot;id&quot;: &quot;35&quot;, &quot;properties&quot;: {}, &quot;type&quot;: &quot;Feature&quot;}, {&quot;bbox&quot;: [-84.3991829, 33.7729572, -84.3990836, 33.7729731], &quot;geometry&quot;: {&quot;coordinates&quot;: [[-84.3990836, 33.7729572], [-84.3991829, 33.7729731]], &quot;type&quot;: &quot;LineString&quot;}, &quot;id&quot;: &quot;36&quot;, &quot;properties&quot;: {}, &quot;type&quot;: &quot;Feature&quot;}, {&quot;bbox&quot;: [-84.4002578, 33.7729731, -84.3991829, 33.7731458], &quot;geometry&quot;: {&quot;coordinates&quot;: [[-84.4002578, 33.7731458], [-84.3991829, 33.7729731]], &quot;type&quot;: &quot;LineString&quot;}, &quot;id&quot;: &quot;37&quot;, &quot;properties&quot;: {}, &quot;type&quot;: &quot;Feature&quot;}, {&quot;bbox&quot;: [-84.4003584, 33.7731458, -84.4002578, 33.77316139999999], &quot;geometry&quot;: {&quot;coordinates&quot;: [[-84.4003584, 33.77316139999999], [-84.4002578, 33.7731458]], &quot;type&quot;: &quot;LineString&quot;}, &quot;id&quot;: &quot;38&quot;, &quot;properties&quot;: {}, &quot;type&quot;: &quot;Feature&quot;}, {&quot;bbox&quot;: [-84.4025348, 33.77316139999999, -84.4003584, 33.773647000000004], &quot;geometry&quot;: {&quot;coordinates&quot;: [[-84.4003584, 33.77316139999999], [-84.401645, 33.773361099999995], [-84.4020573, 33.77347550000001], [-84.4025348, 33.773647000000004]], &quot;type&quot;: &quot;LineString&quot;}, &quot;id&quot;: &quot;39&quot;, &quot;properties&quot;: {}, &quot;type&quot;: &quot;Feature&quot;}, {&quot;bbox&quot;: [-84.4027008, 33.773647000000004, -84.4025348, 33.77372290000001], &quot;geometry&quot;: {&quot;coordinates&quot;: [[-84.4027008, 33.77372290000001], [-84.402691, 33.77371840000001], [-84.4025348, 33.773647000000004]], &quot;type&quot;: &quot;LineString&quot;}, &quot;id&quot;: &quot;40&quot;, &quot;properties&quot;: {}, &quot;type&quot;: &quot;Feature&quot;}, {&quot;bbox&quot;: [-84.4027856, 33.77369670000001, -84.4027008, 33.77372290000001], &quot;geometry&quot;: {&quot;coordinates&quot;: [[-84.4027008, 33.77372290000001], [-84.4027856, 33.77369670000001]], &quot;type&quot;: &quot;LineString&quot;}, &quot;id&quot;: &quot;41&quot;, &quot;properties&quot;: {}, &quot;type&quot;: &quot;Feature&quot;}, {&quot;bbox&quot;: [-84.4028587, 33.77369670000001, -84.4027856, 33.77371829999999], &quot;geometry&quot;: {&quot;coordinates&quot;: [[-84.4028587, 33.77371829999999], [-84.4027856, 33.77369670000001]], &quot;type&quot;: &quot;LineString&quot;}, &quot;id&quot;: &quot;42&quot;, &quot;properties&quot;: {}, &quot;type&quot;: &quot;Feature&quot;}, {&quot;bbox&quot;: [-84.4030112, 33.77371829999999, -84.4028587, 33.7737718], &quot;geometry&quot;: {&quot;coordinates&quot;: [[-84.4028587, 33.77371829999999], [-84.4030112, 33.7737718]], &quot;type&quot;: &quot;LineString&quot;}, &quot;id&quot;: &quot;43&quot;, &quot;properties&quot;: {}, &quot;type&quot;: &quot;Feature&quot;}, {&quot;bbox&quot;: [-84.4052854, 33.7737718, -84.4030112, 33.77553580000001], &quot;geometry&quot;: {&quot;coordinates&quot;: [[-84.4052854, 33.77553580000001], [-84.4043563, 33.7747734], [-84.4037545, 33.7742827], [-84.403563, 33.7741247], [-84.4033371, 33.773967799999994], [-84.4030312, 33.77379319999999], [-84.4030112, 33.7737718]], &quot;type&quot;: &quot;LineString&quot;}, &quot;id&quot;: &quot;44&quot;, &quot;properties&quot;: {}, &quot;type&quot;: &quot;Feature&quot;}, {&quot;bbox&quot;: [-84.4056967, 33.77553580000001, -84.4052854, 33.7758913], &quot;geometry&quot;: {&quot;coordinates&quot;: [[-84.4056967, 33.7758913], [-84.4052854, 33.77553580000001]], &quot;type&quot;: &quot;LineString&quot;}, &quot;id&quot;: &quot;45&quot;, &quot;properties&quot;: {}, &quot;type&quot;: &quot;Feature&quot;}, {&quot;bbox&quot;: [-84.40729, 33.7758913, -84.4056967, 33.777547999999996], &quot;geometry&quot;: {&quot;coordinates&quot;: [[-84.40729, 33.77754289999999], [-84.4072238, 33.777547999999996], [-84.4072108, 33.77754180000001], [-84.4070462, 33.77727260000001], [-84.4067789, 33.776889799999985], [-84.4065206, 33.776585100000005], [-84.4060133, 33.776144200000005], [-84.4056967, 33.7758913]], &quot;type&quot;: &quot;LineString&quot;}, &quot;id&quot;: &quot;46&quot;, &quot;properties&quot;: {}, &quot;type&quot;: &quot;Feature&quot;}, {&quot;bbox&quot;: [-84.4073457, 33.77753640000001, -84.40729, 33.77754289999999], &quot;geometry&quot;: {&quot;coordinates&quot;: [[-84.4073457, 33.77753640000001], [-84.40729, 33.77754289999999]], &quot;type&quot;: &quot;LineString&quot;}, &quot;id&quot;: &quot;47&quot;, &quot;properties&quot;: {}, &quot;type&quot;: &quot;Feature&quot;}, {&quot;bbox&quot;: [-84.40739560000002, 33.7775326, -84.4073457, 33.77753640000001], &quot;geometry&quot;: {&quot;coordinates&quot;: [[-84.4073457, 33.77753640000001], [-84.40739560000002, 33.7775326]], &quot;type&quot;: &quot;LineString&quot;}, &quot;id&quot;: &quot;48&quot;, &quot;properties&quot;: {}, &quot;type&quot;: &quot;Feature&quot;}, {&quot;bbox&quot;: [-84.4074226, 33.7775326, -84.40739560000002, 33.777618], &quot;geometry&quot;: {&quot;coordinates&quot;: [[-84.40739560000002, 33.7775326], [-84.4074226, 33.777618]], &quot;type&quot;: &quot;LineString&quot;}, &quot;id&quot;: &quot;49&quot;, &quot;properties&quot;: {}, &quot;type&quot;: &quot;Feature&quot;}, {&quot;bbox&quot;: [-84.4075277, 33.777549799999996, -84.4074226, 33.777618], &quot;geometry&quot;: {&quot;coordinates&quot;: [[-84.4074226, 33.777618], [-84.4074747, 33.7775825], [-84.4075277, 33.777549799999996]], &quot;type&quot;: &quot;LineString&quot;}, &quot;id&quot;: &quot;50&quot;, &quot;properties&quot;: {}, &quot;type&quot;: &quot;Feature&quot;}, {&quot;bbox&quot;: [-84.4078282, 33.777549799999996, -84.4075277, 33.777890899999996], &quot;geometry&quot;: {&quot;coordinates&quot;: [[-84.4078282, 33.777890899999996], [-84.4075277, 33.777549799999996]], &quot;type&quot;: &quot;LineString&quot;}, &quot;id&quot;: &quot;51&quot;, &quot;properties&quot;: {}, &quot;type&quot;: &quot;Feature&quot;}, {&quot;bbox&quot;: [-84.4093125, 33.777890899999996, -84.4078282, 33.7796033], &quot;geometry&quot;: {&quot;coordinates&quot;: [[-84.4078282, 33.777890899999996], [-84.408361, 33.77848000000001], [-84.408522, 33.778626], [-84.409067, 33.77924099999999], [-84.409297, 33.779568], [-84.4093125, 33.7796033]], &quot;type&quot;: &quot;LineString&quot;}, &quot;id&quot;: &quot;52&quot;, &quot;properties&quot;: {}, &quot;type&quot;: &quot;Feature&quot;}, {&quot;bbox&quot;: [-84.409321, 33.7796033, -84.4093125, 33.779653], &quot;geometry&quot;: {&quot;coordinates&quot;: [[-84.409321, 33.779653], [-84.4093125, 33.7796033]], &quot;type&quot;: &quot;LineString&quot;}, &quot;id&quot;: &quot;53&quot;, &quot;properties&quot;: {}, &quot;type&quot;: &quot;Feature&quot;}, {&quot;bbox&quot;: [-84.4102403, 33.779653, -84.409321, 33.779658], &quot;geometry&quot;: {&quot;coordinates&quot;: [[-84.4102403, 33.779653], [-84.410098, 33.779658], [-84.409321, 33.779653]], &quot;type&quot;: &quot;LineString&quot;}, &quot;id&quot;: &quot;54&quot;, &quot;properties&quot;: {}, &quot;type&quot;: &quot;Feature&quot;}, {&quot;bbox&quot;: [-84.4105567, 33.779653, -84.4102403, 33.78033400000001], &quot;geometry&quot;: {&quot;coordinates&quot;: [[-84.4105567, 33.78033400000001], [-84.4102403, 33.779653]], &quot;type&quot;: &quot;LineString&quot;}, &quot;id&quot;: &quot;55&quot;, &quot;properties&quot;: {}, &quot;type&quot;: &quot;Feature&quot;}, {&quot;bbox&quot;: [-84.41069, 33.78033400000001, -84.4105567, 33.780621], &quot;geometry&quot;: {&quot;coordinates&quot;: [[-84.4105567, 33.78033400000001], [-84.41069, 33.780621]], &quot;type&quot;: &quot;LineString&quot;}, &quot;id&quot;: &quot;56&quot;, &quot;properties&quot;: {}, &quot;type&quot;: &quot;Feature&quot;}, {&quot;bbox&quot;: [-84.4111502, 33.780621, -84.41069, 33.781577999999996], &quot;geometry&quot;: {&quot;coordinates&quot;: [[-84.4111502, 33.781577999999996], [-84.4111091, 33.78149890000001], [-84.4108935, 33.7810527], [-84.41069, 33.780621]], &quot;type&quot;: &quot;LineString&quot;}, &quot;id&quot;: &quot;57&quot;, &quot;properties&quot;: {}, &quot;type&quot;: &quot;Feature&quot;}, {&quot;bbox&quot;: [-84.4113716, 33.781577999999996, -84.4111502, 33.78201000000001], &quot;geometry&quot;: {&quot;coordinates&quot;: [[-84.4113716, 33.78201000000001], [-84.411302, 33.781862700000005], [-84.4112207, 33.7817086], [-84.4111502, 33.781577999999996]], &quot;type&quot;: &quot;LineString&quot;}, &quot;id&quot;: &quot;58&quot;, &quot;properties&quot;: {}, &quot;type&quot;: &quot;Feature&quot;}, {&quot;bbox&quot;: [-84.4115983, 33.78201000000001, -84.4113716, 33.7827367], &quot;geometry&quot;: {&quot;coordinates&quot;: [[-84.4115983, 33.7827367], [-84.411578, 33.78260540000001], [-84.4115488, 33.78249970000001], [-84.4115096, 33.7823756], [-84.411451, 33.78219810000001], [-84.4113716, 33.78201000000001]], &quot;type&quot;: &quot;LineString&quot;}, &quot;id&quot;: &quot;59&quot;, &quot;properties&quot;: {}, &quot;type&quot;: &quot;Feature&quot;}, {&quot;bbox&quot;: [-84.4116471, 33.7827367, -84.4115983, 33.7828627], &quot;geometry&quot;: {&quot;coordinates&quot;: [[-84.4115983, 33.7827367], [-84.4116471, 33.7828627]], &quot;type&quot;: &quot;LineString&quot;}, &quot;id&quot;: &quot;60&quot;, &quot;properties&quot;: {}, &quot;type&quot;: &quot;Feature&quot;}, {&quot;bbox&quot;: [-84.41168380000002, 33.7828627, -84.4116471, 33.78299659999999], &quot;geometry&quot;: {&quot;coordinates&quot;: [[-84.41168380000002, 33.78299659999999], [-84.4116471, 33.7828627]], &quot;type&quot;: &quot;LineString&quot;}, &quot;id&quot;: &quot;61&quot;, &quot;properties&quot;: {}, &quot;type&quot;: &quot;Feature&quot;}, {&quot;bbox&quot;: [-84.4119182, 33.78299659999999, -84.41168380000002, 33.7840183], &quot;geometry&quot;: {&quot;coordinates&quot;: [[-84.4119182, 33.7840183], [-84.411905, 33.783948200000005], [-84.41188190000001, 33.783811099999994], [-84.41182850000001, 33.783568], [-84.4117412, 33.7832118], [-84.41168380000002, 33.78299659999999]], &quot;type&quot;: &quot;LineString&quot;}, &quot;id&quot;: &quot;62&quot;, &quot;properties&quot;: {}, &quot;type&quot;: &quot;Feature&quot;}, {&quot;bbox&quot;: [-84.4119182, 33.7840183, -84.4118993, 33.784378], &quot;geometry&quot;: {&quot;coordinates&quot;: [[-84.4118993, 33.784378], [-84.4119179, 33.784228000000006], [-84.4119182, 33.7840183]], &quot;type&quot;: &quot;LineString&quot;}, &quot;id&quot;: &quot;63&quot;, &quot;properties&quot;: {}, &quot;type&quot;: &quot;Feature&quot;}, {&quot;bbox&quot;: [-84.4118993, 33.784378, -84.4118455, 33.7846912], &quot;geometry&quot;: {&quot;coordinates&quot;: [[-84.4118455, 33.7846912], [-84.4118993, 33.784378]], &quot;type&quot;: &quot;LineString&quot;}, &quot;id&quot;: &quot;64&quot;, &quot;properties&quot;: {}, &quot;type&quot;: &quot;Feature&quot;}, {&quot;bbox&quot;: [-84.4118455, 33.7846912, -84.4118266, 33.784801200000004], &quot;geometry&quot;: {&quot;coordinates&quot;: [[-84.4118266, 33.784801200000004], [-84.4118455, 33.7846912]], &quot;type&quot;: &quot;LineString&quot;}, &quot;id&quot;: &quot;65&quot;, &quot;properties&quot;: {}, &quot;type&quot;: &quot;Feature&quot;}, {&quot;bbox&quot;: [-84.4118266, 33.784801200000004, -84.4118067, 33.7849172], &quot;geometry&quot;: {&quot;coordinates&quot;: [[-84.4118266, 33.784801200000004], [-84.4118067, 33.7849172]], &quot;type&quot;: &quot;LineString&quot;}, &quot;id&quot;: &quot;66&quot;, &quot;properties&quot;: {}, &quot;type&quot;: &quot;Feature&quot;}, {&quot;bbox&quot;: [-84.4118067, 33.7849172, -84.4117288, 33.785371000000005], &quot;geometry&quot;: {&quot;coordinates&quot;: [[-84.4117288, 33.785371000000005], [-84.411781, 33.78506720000001], [-84.4118067, 33.7849172]], &quot;type&quot;: &quot;LineString&quot;}, &quot;id&quot;: &quot;67&quot;, &quot;properties&quot;: {}, &quot;type&quot;: &quot;Feature&quot;}, {&quot;bbox&quot;: [-84.4117288, 33.785371000000005, -84.4116842, 33.7856309], &quot;geometry&quot;: {&quot;coordinates&quot;: [[-84.4116842, 33.7856309], [-84.4117288, 33.785371000000005]], &quot;type&quot;: &quot;LineString&quot;}, &quot;id&quot;: &quot;68&quot;, &quot;properties&quot;: {}, &quot;type&quot;: &quot;Feature&quot;}, {&quot;bbox&quot;: [-84.4116842, 33.7856309, -84.4116749, 33.7856851], &quot;geometry&quot;: {&quot;coordinates&quot;: [[-84.4116749, 33.7856851], [-84.4116842, 33.7856309]], &quot;type&quot;: &quot;LineString&quot;}, &quot;id&quot;: &quot;69&quot;, &quot;properties&quot;: {}, &quot;type&quot;: &quot;Feature&quot;}, {&quot;bbox&quot;: [-84.4116749, 33.7856851, -84.411655, 33.785801], &quot;geometry&quot;: {&quot;coordinates&quot;: [[-84.4116749, 33.7856851], [-84.411655, 33.785801]], &quot;type&quot;: &quot;LineString&quot;}, &quot;id&quot;: &quot;70&quot;, &quot;properties&quot;: {}, &quot;type&quot;: &quot;Feature&quot;}, {&quot;bbox&quot;: [-84.411655, 33.785801, -84.4116529, 33.785843], &quot;geometry&quot;: {&quot;coordinates&quot;: [[-84.4116529, 33.785843], [-84.411655, 33.785801]], &quot;type&quot;: &quot;LineString&quot;}, &quot;id&quot;: &quot;71&quot;, &quot;properties&quot;: {}, &quot;type&quot;: &quot;Feature&quot;}, {&quot;bbox&quot;: [-84.4116757, 33.785843, -84.4116529, 33.786302], &quot;geometry&quot;: {&quot;coordinates&quot;: [[-84.4116529, 33.785843], [-84.4116757, 33.786302]], &quot;type&quot;: &quot;LineString&quot;}, &quot;id&quot;: &quot;72&quot;, &quot;properties&quot;: {}, &quot;type&quot;: &quot;Feature&quot;}, {&quot;bbox&quot;: [-84.41170510000002, 33.786302, -84.4116757, 33.7866978], &quot;geometry&quot;: {&quot;coordinates&quot;: [[-84.4116757, 33.786302], [-84.41170510000002, 33.7866978]], &quot;type&quot;: &quot;LineString&quot;}, &quot;id&quot;: &quot;73&quot;, &quot;properties&quot;: {}, &quot;type&quot;: &quot;Feature&quot;}, {&quot;bbox&quot;: [-84.4117098, 33.7866978, -84.41170510000002, 33.7867391], &quot;geometry&quot;: {&quot;coordinates&quot;: [[-84.4117098, 33.7867391], [-84.41170510000002, 33.7866978]], &quot;type&quot;: &quot;LineString&quot;}, &quot;id&quot;: &quot;74&quot;, &quot;properties&quot;: {}, &quot;type&quot;: &quot;Feature&quot;}, {&quot;bbox&quot;: [-84.4117556, 33.7867391, -84.4117098, 33.78708890000001], &quot;geometry&quot;: {&quot;coordinates&quot;: [[-84.4117556, 33.78708890000001], [-84.4117363, 33.78695199999999], [-84.4117098, 33.7867391]], &quot;type&quot;: &quot;LineString&quot;}, &quot;id&quot;: &quot;75&quot;, &quot;properties&quot;: {}, &quot;type&quot;: &quot;Feature&quot;}, {&quot;bbox&quot;: [-84.4117752, 33.78708890000001, -84.4117556, 33.78722629999999], &quot;geometry&quot;: {&quot;coordinates&quot;: [[-84.4117556, 33.78708890000001], [-84.4117752, 33.78722629999999]], &quot;type&quot;: &quot;LineString&quot;}, &quot;id&quot;: &quot;76&quot;, &quot;properties&quot;: {}, &quot;type&quot;: &quot;Feature&quot;}, {&quot;bbox&quot;: [-84.4118234, 33.78722629999999, -84.4117752, 33.787712400000004], &quot;geometry&quot;: {&quot;coordinates&quot;: [[-84.4118234, 33.787712400000004], [-84.4117752, 33.78722629999999]], &quot;type&quot;: &quot;LineString&quot;}, &quot;id&quot;: &quot;77&quot;, &quot;properties&quot;: {}, &quot;type&quot;: &quot;Feature&quot;}, {&quot;bbox&quot;: [-84.4118299, 33.787712400000004, -84.4118234, 33.7877787], &quot;geometry&quot;: {&quot;coordinates&quot;: [[-84.4118234, 33.787712400000004], [-84.4118299, 33.7877787]], &quot;type&quot;: &quot;LineString&quot;}, &quot;id&quot;: &quot;78&quot;, &quot;properties&quot;: {}, &quot;type&quot;: &quot;Feature&quot;}, {&quot;bbox&quot;: [-84.412001, 33.7877787, -84.4118299, 33.790124299999995], &quot;geometry&quot;: {&quot;coordinates&quot;: [[-84.412001, 33.790124299999995], [-84.411977, 33.78991399999999], [-84.4118299, 33.7877787]], &quot;type&quot;: &quot;LineString&quot;}, &quot;id&quot;: &quot;79&quot;, &quot;properties&quot;: {}, &quot;type&quot;: &quot;Feature&quot;}, {&quot;bbox&quot;: [-84.41205, 33.790124299999995, -84.412001, 33.79040899999999], &quot;geometry&quot;: {&quot;coordinates&quot;: [[-84.412001, 33.790124299999995], [-84.41202, 33.79029], [-84.41205, 33.79040899999999]], &quot;type&quot;: &quot;LineString&quot;}, &quot;id&quot;: &quot;80&quot;, &quot;properties&quot;: {}, &quot;type&quot;: &quot;Feature&quot;}, {&quot;bbox&quot;: [-84.4132464, 33.79040899999999, -84.41205, 33.7920064], &quot;geometry&quot;: {&quot;coordinates&quot;: [[-84.4132464, 33.7920064], [-84.412489, 33.791072], [-84.41212300000001, 33.79055399999999], [-84.41205, 33.79040899999999]], &quot;type&quot;: &quot;LineString&quot;}, &quot;id&quot;: &quot;81&quot;, &quot;properties&quot;: {}, &quot;type&quot;: &quot;Feature&quot;}, {&quot;bbox&quot;: [-84.4139471, 33.7920064, -84.4132464, 33.792934300000006], &quot;geometry&quot;: {&quot;coordinates&quot;: [[-84.4139471, 33.792934300000006], [-84.413721, 33.792611], [-84.413439, 33.79224399999999], [-84.4132464, 33.7920064]], &quot;type&quot;: &quot;LineString&quot;}, &quot;id&quot;: &quot;82&quot;, &quot;properties&quot;: {}, &quot;type&quot;: &quot;Feature&quot;}, {&quot;bbox&quot;: [-84.4140243, 33.792934300000006, -84.4139471, 33.79305070000001], &quot;geometry&quot;: {&quot;coordinates&quot;: [[-84.4139471, 33.792934300000006], [-84.413998, 33.793007], [-84.4140243, 33.79305070000001]], &quot;type&quot;: &quot;LineString&quot;}, &quot;id&quot;: &quot;83&quot;, &quot;properties&quot;: {}, &quot;type&quot;: &quot;Feature&quot;}, {&quot;bbox&quot;: [-84.414082, 33.79305070000001, -84.4140243, 33.79314639999999], &quot;geometry&quot;: {&quot;coordinates&quot;: [[-84.4140243, 33.79305070000001], [-84.414082, 33.79314639999999]], &quot;type&quot;: &quot;LineString&quot;}, &quot;id&quot;: &quot;84&quot;, &quot;properties&quot;: {}, &quot;type&quot;: &quot;Feature&quot;}, {&quot;bbox&quot;: [-84.4142551, 33.79314639999999, -84.414082, 33.793427900000005], &quot;geometry&quot;: {&quot;coordinates&quot;: [[-84.414082, 33.79314639999999], [-84.4142551, 33.793427900000005]], &quot;type&quot;: &quot;LineString&quot;}, &quot;id&quot;: &quot;85&quot;, &quot;properties&quot;: {}, &quot;type&quot;: &quot;Feature&quot;}, {&quot;bbox&quot;: [-84.4145863, 33.793427900000005, -84.4142551, 33.793946], &quot;geometry&quot;: {&quot;coordinates&quot;: [[-84.4145863, 33.793946], [-84.4142551, 33.793427900000005]], &quot;type&quot;: &quot;LineString&quot;}, &quot;id&quot;: &quot;86&quot;, &quot;properties&quot;: {}, &quot;type&quot;: &quot;Feature&quot;}, {&quot;bbox&quot;: [-84.4146811, 33.793946, -84.4145863, 33.7940943], &quot;geometry&quot;: {&quot;coordinates&quot;: [[-84.4146811, 33.7940943], [-84.4145863, 33.793946]], &quot;type&quot;: &quot;LineString&quot;}, &quot;id&quot;: &quot;87&quot;, &quot;properties&quot;: {}, &quot;type&quot;: &quot;Feature&quot;}, {&quot;bbox&quot;: [-84.414826, 33.7940943, -84.4146811, 33.794320899999995], &quot;geometry&quot;: {&quot;coordinates&quot;: [[-84.414826, 33.794320899999995], [-84.4146811, 33.7940943]], &quot;type&quot;: &quot;LineString&quot;}, &quot;id&quot;: &quot;88&quot;, &quot;properties&quot;: {}, &quot;type&quot;: &quot;Feature&quot;}, {&quot;bbox&quot;: [-84.4149459, 33.794320899999995, -84.414826, 33.7945164], &quot;geometry&quot;: {&quot;coordinates&quot;: [[-84.414826, 33.794320899999995], [-84.414835, 33.794335], [-84.4149459, 33.7945164]], &quot;type&quot;: &quot;LineString&quot;}, &quot;id&quot;: &quot;89&quot;, &quot;properties&quot;: {}, &quot;type&quot;: &quot;Feature&quot;}, {&quot;bbox&quot;: [-84.4150062, 33.7945164, -84.4149459, 33.7946149], &quot;geometry&quot;: {&quot;coordinates&quot;: [[-84.4149459, 33.7945164], [-84.4150062, 33.7946149]], &quot;type&quot;: &quot;LineString&quot;}, &quot;id&quot;: &quot;90&quot;, &quot;properties&quot;: {}, &quot;type&quot;: &quot;Feature&quot;}, {&quot;bbox&quot;: [-84.4151483, 33.7946149, -84.4150062, 33.79484719999999], &quot;geometry&quot;: {&quot;coordinates&quot;: [[-84.4150062, 33.7946149], [-84.4151483, 33.79484719999999]], &quot;type&quot;: &quot;LineString&quot;}, &quot;id&quot;: &quot;91&quot;, &quot;properties&quot;: {}, &quot;type&quot;: &quot;Feature&quot;}, {&quot;bbox&quot;: [-84.41538490000002, 33.79484719999999, -84.4151483, 33.79521590000001], &quot;geometry&quot;: {&quot;coordinates&quot;: [[-84.41538490000002, 33.79521590000001], [-84.4151483, 33.79484719999999]], &quot;type&quot;: &quot;LineString&quot;}, &quot;id&quot;: &quot;92&quot;, &quot;properties&quot;: {}, &quot;type&quot;: &quot;Feature&quot;}, {&quot;bbox&quot;: [-84.415472, 33.79521590000001, -84.41538490000002, 33.79537700000001], &quot;geometry&quot;: {&quot;coordinates&quot;: [[-84.41538490000002, 33.79521590000001], [-84.415472, 33.79537700000001]], &quot;type&quot;: &quot;LineString&quot;}, &quot;id&quot;: &quot;93&quot;, &quot;properties&quot;: {}, &quot;type&quot;: &quot;Feature&quot;}, {&quot;bbox&quot;: [-84.4156196, 33.79537700000001, -84.415472, 33.795632999999995], &quot;geometry&quot;: {&quot;coordinates&quot;: [[-84.4156196, 33.795632999999995], [-84.415472, 33.79537700000001]], &quot;type&quot;: &quot;LineString&quot;}, &quot;id&quot;: &quot;94&quot;, &quot;properties&quot;: {}, &quot;type&quot;: &quot;Feature&quot;}, {&quot;bbox&quot;: [-84.4157152, 33.795632999999995, -84.4156196, 33.7958039], &quot;geometry&quot;: {&quot;coordinates&quot;: [[-84.4156196, 33.795632999999995], [-84.415701, 33.795774], [-84.4157152, 33.7958039]], &quot;type&quot;: &quot;LineString&quot;}, &quot;id&quot;: &quot;95&quot;, &quot;properties&quot;: {}, &quot;type&quot;: &quot;Feature&quot;}, {&quot;bbox&quot;: [-84.4157414, 33.7958039, -84.4157152, 33.795859], &quot;geometry&quot;: {&quot;coordinates&quot;: [[-84.4157414, 33.795859], [-84.4157152, 33.7958039]], &quot;type&quot;: &quot;LineString&quot;}, &quot;id&quot;: &quot;96&quot;, &quot;properties&quot;: {}, &quot;type&quot;: &quot;Feature&quot;}, {&quot;bbox&quot;: [-84.415861, 33.795859, -84.4157414, 33.796134], &quot;geometry&quot;: {&quot;coordinates&quot;: [[-84.4157414, 33.795859], [-84.415786, 33.795953000000004], [-84.415861, 33.796134]], &quot;type&quot;: &quot;LineString&quot;}, &quot;id&quot;: &quot;97&quot;, &quot;properties&quot;: {}, &quot;type&quot;: &quot;Feature&quot;}, {&quot;bbox&quot;: [-84.4159873, 33.796134, -84.415861, 33.79654359999999], &quot;geometry&quot;: {&quot;coordinates&quot;: [[-84.4159873, 33.79654359999999], [-84.415943, 33.79637900000001], [-84.415861, 33.796134]], &quot;type&quot;: &quot;LineString&quot;}, &quot;id&quot;: &quot;98&quot;, &quot;properties&quot;: {}, &quot;type&quot;: &quot;Feature&quot;}, {&quot;bbox&quot;: [-84.4159873, 33.79654359999999, -84.4156817, 33.7965975], &quot;geometry&quot;: {&quot;coordinates&quot;: [[-84.4156817, 33.7965975], [-84.4159873, 33.79654359999999]], &quot;type&quot;: &quot;LineString&quot;}, &quot;id&quot;: &quot;99&quot;, &quot;properties&quot;: {}, &quot;type&quot;: &quot;Feature&quot;}, {&quot;bbox&quot;: [-84.4156934, 33.7965975, -84.4156817, 33.7970207], &quot;geometry&quot;: {&quot;coordinates&quot;: [[-84.4156934, 33.7970207], [-84.4156817, 33.7965975]], &quot;type&quot;: &quot;LineString&quot;}, &quot;id&quot;: &quot;100&quot;, &quot;properties&quot;: {}, &quot;type&quot;: &quot;Feature&quot;}, {&quot;bbox&quot;: [-84.415696, 33.7970207, -84.4156934, 33.7971141], &quot;geometry&quot;: {&quot;coordinates&quot;: [[-84.4156934, 33.7970207], [-84.415696, 33.7971141]], &quot;type&quot;: &quot;LineString&quot;}, &quot;id&quot;: &quot;101&quot;, &quot;properties&quot;: {}, &quot;type&quot;: &quot;Feature&quot;}, {&quot;bbox&quot;: [-84.415696, 33.7971116, -84.4156074, 33.7971141], &quot;geometry&quot;: {&quot;coordinates&quot;: [[-84.415696, 33.7971141], [-84.4156074, 33.7971116]], &quot;type&quot;: &quot;LineString&quot;}, &quot;id&quot;: &quot;102&quot;, &quot;properties&quot;: {}, &quot;type&quot;: &quot;Feature&quot;}, {&quot;bbox&quot;: [-84.4156074, 33.79708, -84.414484, 33.7971116], &quot;geometry&quot;: {&quot;coordinates&quot;: [[-84.4156074, 33.7971116], [-84.414484, 33.79708]], &quot;type&quot;: &quot;LineString&quot;}, &quot;id&quot;: &quot;103&quot;, &quot;properties&quot;: {}, &quot;type&quot;: &quot;Feature&quot;}], &quot;type&quot;: &quot;FeatureCollection&quot;});\n",
       "\n",
       "        \n",
       "    \n",
       "            var feature_group_3dbbb86b933e04135f9a50ea650649a3 = L.featureGroup(\n",
       "                {}\n",
       "            ).addTo(map_ae314076cb0548fe65e65126af6dd741);\n",
       "        \n",
       "    \n",
       "        function geo_json_4acbd1df2a3f5a4b5cdc36dd90007c51_styler(feature) {\n",
       "            switch(feature.id) {\n",
       "                default:\n",
       "                    return {&quot;color&quot;: &quot;#8da0cb&quot;, &quot;weight&quot;: 8};\n",
       "            }\n",
       "        }\n",
       "\n",
       "        function geo_json_4acbd1df2a3f5a4b5cdc36dd90007c51_onEachFeature(feature, layer) {\n",
       "            layer.on({\n",
       "            });\n",
       "        };\n",
       "        var geo_json_4acbd1df2a3f5a4b5cdc36dd90007c51 = L.geoJson(null, {\n",
       "                onEachFeature: geo_json_4acbd1df2a3f5a4b5cdc36dd90007c51_onEachFeature,\n",
       "            \n",
       "                style: geo_json_4acbd1df2a3f5a4b5cdc36dd90007c51_styler,\n",
       "        });\n",
       "\n",
       "        function geo_json_4acbd1df2a3f5a4b5cdc36dd90007c51_add (data) {\n",
       "            geo_json_4acbd1df2a3f5a4b5cdc36dd90007c51\n",
       "                .addData(data)\n",
       "                .addTo(feature_group_3dbbb86b933e04135f9a50ea650649a3);\n",
       "        }\n",
       "            geo_json_4acbd1df2a3f5a4b5cdc36dd90007c51_add({&quot;bbox&quot;: [-84.416128, 33.771288000000006, -84.3843022, 33.797123000000006], &quot;features&quot;: [{&quot;bbox&quot;: [-84.3873096, 33.771288000000006, -84.3867647, 33.77130699999999], &quot;geometry&quot;: {&quot;coordinates&quot;: [[-84.3873096, 33.771288000000006], [-84.386887, 33.77130699999999], [-84.3867647, 33.77130580000001]], &quot;type&quot;: &quot;LineString&quot;}, &quot;id&quot;: &quot;0&quot;, &quot;properties&quot;: {}, &quot;type&quot;: &quot;Feature&quot;}, {&quot;bbox&quot;: [-84.3873142, 33.771288000000006, -84.3873096, 33.77142529999999], &quot;geometry&quot;: {&quot;coordinates&quot;: [[-84.3873101, 33.77142529999999], [-84.3873142, 33.7713961], [-84.3873096, 33.771288000000006]], &quot;type&quot;: &quot;LineString&quot;}, &quot;id&quot;: &quot;1&quot;, &quot;properties&quot;: {}, &quot;type&quot;: &quot;Feature&quot;}, {&quot;bbox&quot;: [-84.3874186, 33.7714054, -84.3873101, 33.7714261], &quot;geometry&quot;: {&quot;coordinates&quot;: [[-84.3874186, 33.7714054], [-84.3873608, 33.7714261], [-84.3873101, 33.77142529999999]], &quot;type&quot;: &quot;LineString&quot;}, &quot;id&quot;: &quot;2&quot;, &quot;properties&quot;: {}, &quot;type&quot;: &quot;Feature&quot;}, {&quot;bbox&quot;: [-84.3875718, 33.7713553, -84.3874186, 33.7714054], &quot;geometry&quot;: {&quot;coordinates&quot;: [[-84.3875718, 33.7713553], [-84.3875146, 33.771373999999994], [-84.3874186, 33.7714054]], &quot;type&quot;: &quot;LineString&quot;}, &quot;id&quot;: &quot;3&quot;, &quot;properties&quot;: {}, &quot;type&quot;: &quot;Feature&quot;}, {&quot;bbox&quot;: [-84.3875718, 33.7713553, -84.387489, 33.7721757], &quot;geometry&quot;: {&quot;coordinates&quot;: [[-84.387489, 33.7721757], [-84.3875718, 33.7713553]], &quot;type&quot;: &quot;LineString&quot;}, &quot;id&quot;: &quot;4&quot;, &quot;properties&quot;: {}, &quot;type&quot;: &quot;Feature&quot;}, {&quot;bbox&quot;: [-84.387489, 33.7721757, -84.3874805, 33.7722715], &quot;geometry&quot;: {&quot;coordinates&quot;: [[-84.387489, 33.7721757], [-84.3874805, 33.7722715]], &quot;type&quot;: &quot;LineString&quot;}, &quot;id&quot;: &quot;5&quot;, &quot;properties&quot;: {}, &quot;type&quot;: &quot;Feature&quot;}, {&quot;bbox&quot;: [-84.3874805, 33.7722715, -84.3874789, 33.7723282], &quot;geometry&quot;: {&quot;coordinates&quot;: [[-84.3874805, 33.7722715], [-84.38748, 33.7722893], [-84.3874789, 33.7723282]], &quot;type&quot;: &quot;LineString&quot;}, &quot;id&quot;: &quot;6&quot;, &quot;properties&quot;: {}, &quot;type&quot;: &quot;Feature&quot;}, {&quot;bbox&quot;: [-84.3874789, 33.7723282, -84.387478, 33.7724065], &quot;geometry&quot;: {&quot;coordinates&quot;: [[-84.3874789, 33.7723282], [-84.3874786, 33.7723567], [-84.387478, 33.7724065]], &quot;type&quot;: &quot;LineString&quot;}, &quot;id&quot;: &quot;7&quot;, &quot;properties&quot;: {}, &quot;type&quot;: &quot;Feature&quot;}, {&quot;bbox&quot;: [-84.387478, 33.77240429999999, -84.3873503, 33.7724065], &quot;geometry&quot;: {&quot;coordinates&quot;: [[-84.387478, 33.7724065], [-84.3874273, 33.772405600000006], [-84.3873503, 33.77240429999999]], &quot;type&quot;: &quot;LineString&quot;}, &quot;id&quot;: &quot;8&quot;, &quot;properties&quot;: {}, &quot;type&quot;: &quot;Feature&quot;}, {&quot;bbox&quot;: [-84.3873503, 33.7724034, -84.3872438, 33.77240429999999], &quot;geometry&quot;: {&quot;coordinates&quot;: [[-84.3872438, 33.7724034], [-84.3872884, 33.772403700000005], [-84.3873503, 33.77240429999999]], &quot;type&quot;: &quot;LineString&quot;}, &quot;id&quot;: &quot;9&quot;, &quot;properties&quot;: {}, &quot;type&quot;: &quot;Feature&quot;}, {&quot;bbox&quot;: [-84.3872438, 33.7724034, -84.3872025, 33.7734652], &quot;geometry&quot;: {&quot;coordinates&quot;: [[-84.3872438, 33.7724034], [-84.3872246, 33.772744], [-84.3872129, 33.77322730000001], [-84.3872025, 33.7734652]], &quot;type&quot;: &quot;LineString&quot;}, &quot;id&quot;: &quot;10&quot;, &quot;properties&quot;: {}, &quot;type&quot;: &quot;Feature&quot;}, {&quot;bbox&quot;: [-84.3872025, 33.7734652, -84.3871909, 33.77372389999999], &quot;geometry&quot;: {&quot;coordinates&quot;: [[-84.3872025, 33.7734652], [-84.3871909, 33.77372389999999]], &quot;type&quot;: &quot;LineString&quot;}, &quot;id&quot;: &quot;11&quot;, &quot;properties&quot;: {}, &quot;type&quot;: &quot;Feature&quot;}, {&quot;bbox&quot;: [-84.3871909, 33.77372389999999, -84.3871905, 33.77373850000001], &quot;geometry&quot;: {&quot;coordinates&quot;: [[-84.3871909, 33.77372389999999], [-84.3871905, 33.77373850000001]], &quot;type&quot;: &quot;LineString&quot;}, &quot;id&quot;: &quot;12&quot;, &quot;properties&quot;: {}, &quot;type&quot;: &quot;Feature&quot;}, {&quot;bbox&quot;: [-84.3871905, 33.77373850000001, -84.3871882, 33.773813], &quot;geometry&quot;: {&quot;coordinates&quot;: [[-84.3871905, 33.77373850000001], [-84.3871893, 33.7737758], [-84.3871882, 33.773813]], &quot;type&quot;: &quot;LineString&quot;}, &quot;id&quot;: &quot;13&quot;, &quot;properties&quot;: {}, &quot;type&quot;: &quot;Feature&quot;}, {&quot;bbox&quot;: [-84.3871882, 33.773813, -84.3871857, 33.7738918], &quot;geometry&quot;: {&quot;coordinates&quot;: [[-84.3871857, 33.7738918], [-84.3871868, 33.77385619999999], [-84.3871882, 33.773813]], &quot;type&quot;: &quot;LineString&quot;}, &quot;id&quot;: &quot;14&quot;, &quot;properties&quot;: {}, &quot;type&quot;: &quot;Feature&quot;}, {&quot;bbox&quot;: [-84.3872108, 33.7738918, -84.3871857, 33.7739153], &quot;geometry&quot;: {&quot;coordinates&quot;: [[-84.3871857, 33.7738918], [-84.3872108, 33.7739153]], &quot;type&quot;: &quot;LineString&quot;}, &quot;id&quot;: &quot;15&quot;, &quot;properties&quot;: {}, &quot;type&quot;: &quot;Feature&quot;}, {&quot;bbox&quot;: [-84.3872108, 33.7739153, -84.3872071, 33.7747375], &quot;geometry&quot;: {&quot;coordinates&quot;: [[-84.3872071, 33.7747375], [-84.3872108, 33.7739153]], &quot;type&quot;: &quot;LineString&quot;}, &quot;id&quot;: &quot;16&quot;, &quot;properties&quot;: {}, &quot;type&quot;: &quot;Feature&quot;}, {&quot;bbox&quot;: [-84.3872071, 33.7747375, -84.3871925, 33.77502809999999], &quot;geometry&quot;: {&quot;coordinates&quot;: [[-84.3871925, 33.77502809999999], [-84.3872071, 33.7747375]], &quot;type&quot;: &quot;LineString&quot;}, &quot;id&quot;: &quot;17&quot;, &quot;properties&quot;: {}, &quot;type&quot;: &quot;Feature&quot;}, {&quot;bbox&quot;: [-84.3871925, 33.7749885, -84.3866611, 33.77502809999999], &quot;geometry&quot;: {&quot;coordinates&quot;: [[-84.3871925, 33.77502809999999], [-84.3866611, 33.7749885]], &quot;type&quot;: &quot;LineString&quot;}, &quot;id&quot;: &quot;18&quot;, &quot;properties&quot;: {}, &quot;type&quot;: &quot;Feature&quot;}, {&quot;bbox&quot;: [-84.3866611, 33.774946000000014, -84.38622990000002, 33.7749885], &quot;geometry&quot;: {&quot;coordinates&quot;: [[-84.3866611, 33.7749885], [-84.38622990000002, 33.774946000000014]], &quot;type&quot;: &quot;LineString&quot;}, &quot;id&quot;: &quot;19&quot;, &quot;properties&quot;: {}, &quot;type&quot;: &quot;Feature&quot;}, {&quot;bbox&quot;: [-84.38622990000002, 33.7749382, -84.3861218, 33.774946000000014], &quot;geometry&quot;: {&quot;coordinates&quot;: [[-84.3861218, 33.7749382], [-84.38622990000002, 33.774946000000014]], &quot;type&quot;: &quot;LineString&quot;}, &quot;id&quot;: &quot;20&quot;, &quot;properties&quot;: {}, &quot;type&quot;: &quot;Feature&quot;}, {&quot;bbox&quot;: [-84.3861218, 33.7749345, -84.3860664, 33.7749382], &quot;geometry&quot;: {&quot;coordinates&quot;: [[-84.3861218, 33.7749382], [-84.3860664, 33.7749345]], &quot;type&quot;: &quot;LineString&quot;}, &quot;id&quot;: &quot;21&quot;, &quot;properties&quot;: {}, &quot;type&quot;: &quot;Feature&quot;}, {&quot;bbox&quot;: [-84.3860664, 33.7749345, -84.3860287, 33.774945800000005], &quot;geometry&quot;: {&quot;coordinates&quot;: [[-84.3860287, 33.774945800000005], [-84.3860664, 33.7749345]], &quot;type&quot;: &quot;LineString&quot;}, &quot;id&quot;: &quot;22&quot;, &quot;properties&quot;: {}, &quot;type&quot;: &quot;Feature&quot;}, {&quot;bbox&quot;: [-84.3860287, 33.77485990000001, -84.3847605, 33.774945800000005], &quot;geometry&quot;: {&quot;coordinates&quot;: [[-84.3860287, 33.774945800000005], [-84.3847605, 33.77485990000001]], &quot;type&quot;: &quot;LineString&quot;}, &quot;id&quot;: &quot;23&quot;, &quot;properties&quot;: {}, &quot;type&quot;: &quot;Feature&quot;}, {&quot;bbox&quot;: [-84.3847605, 33.77485990000001, -84.3847415, 33.7748752], &quot;geometry&quot;: {&quot;coordinates&quot;: [[-84.3847605, 33.77485990000001], [-84.3847415, 33.7748752]], &quot;type&quot;: &quot;LineString&quot;}, &quot;id&quot;: &quot;24&quot;, &quot;properties&quot;: {}, &quot;type&quot;: &quot;Feature&quot;}, {&quot;bbox&quot;: [-84.3847415, 33.7748752, -84.3847376, 33.7749212], &quot;geometry&quot;: {&quot;coordinates&quot;: [[-84.3847376, 33.7749212], [-84.3847415, 33.7748752]], &quot;type&quot;: &quot;LineString&quot;}, &quot;id&quot;: &quot;25&quot;, &quot;properties&quot;: {}, &quot;type&quot;: &quot;Feature&quot;}, {&quot;bbox&quot;: [-84.3847376, 33.7749212, -84.3847336, 33.7749663], &quot;geometry&quot;: {&quot;coordinates&quot;: [[-84.3847376, 33.7749212], [-84.3847336, 33.7749663]], &quot;type&quot;: &quot;LineString&quot;}, &quot;id&quot;: &quot;26&quot;, &quot;properties&quot;: {}, &quot;type&quot;: &quot;Feature&quot;}, {&quot;bbox&quot;: [-84.3847336, 33.7749663, -84.3847329, 33.775006999999995], &quot;geometry&quot;: {&quot;coordinates&quot;: [[-84.3847329, 33.775006999999995], [-84.3847336, 33.7749663]], &quot;type&quot;: &quot;LineString&quot;}, &quot;id&quot;: &quot;27&quot;, &quot;properties&quot;: {}, &quot;type&quot;: &quot;Feature&quot;}, {&quot;bbox&quot;: [-84.3847329, 33.775006999999995, -84.3846398, 33.7760951], &quot;geometry&quot;: {&quot;coordinates&quot;: [[-84.3847329, 33.775006999999995], [-84.3846772, 33.77578079999999], [-84.3846398, 33.7760951]], &quot;type&quot;: &quot;LineString&quot;}, &quot;id&quot;: &quot;28&quot;, &quot;properties&quot;: {}, &quot;type&quot;: &quot;Feature&quot;}, {&quot;bbox&quot;: [-84.3846398, 33.7760951, -84.3846245, 33.7761137], &quot;geometry&quot;: {&quot;coordinates&quot;: [[-84.3846245, 33.7761137], [-84.3846398, 33.7760951]], &quot;type&quot;: &quot;LineString&quot;}, &quot;id&quot;: &quot;29&quot;, &quot;properties&quot;: {}, &quot;type&quot;: &quot;Feature&quot;}, {&quot;bbox&quot;: [-84.3846245, 33.7761137, -84.3846188, 33.7761609], &quot;geometry&quot;: {&quot;coordinates&quot;: [[-84.3846245, 33.7761137], [-84.3846188, 33.7761609]], &quot;type&quot;: &quot;LineString&quot;}, &quot;id&quot;: &quot;30&quot;, &quot;properties&quot;: {}, &quot;type&quot;: &quot;Feature&quot;}, {&quot;bbox&quot;: [-84.3846188, 33.7761609, -84.3846128, 33.776212], &quot;geometry&quot;: {&quot;coordinates&quot;: [[-84.3846128, 33.776212], [-84.3846188, 33.7761609]], &quot;type&quot;: &quot;LineString&quot;}, &quot;id&quot;: &quot;31&quot;, &quot;properties&quot;: {}, &quot;type&quot;: &quot;Feature&quot;}, {&quot;bbox&quot;: [-84.3846196, 33.776212, -84.3846128, 33.7762251], &quot;geometry&quot;: {&quot;coordinates&quot;: [[-84.3846128, 33.776212], [-84.3846196, 33.7762251]], &quot;type&quot;: &quot;LineString&quot;}, &quot;id&quot;: &quot;32&quot;, &quot;properties&quot;: {}, &quot;type&quot;: &quot;Feature&quot;}, {&quot;bbox&quot;: [-84.3846196, 33.7762251, -84.3845604, 33.776957100000004], &quot;geometry&quot;: {&quot;coordinates&quot;: [[-84.3845604, 33.776957100000004], [-84.3846196, 33.7762251]], &quot;type&quot;: &quot;LineString&quot;}, &quot;id&quot;: &quot;33&quot;, &quot;properties&quot;: {}, &quot;type&quot;: &quot;Feature&quot;}, {&quot;bbox&quot;: [-84.3845604, 33.776957100000004, -84.3845068, 33.77733030000001], &quot;geometry&quot;: {&quot;coordinates&quot;: [[-84.3845604, 33.776957100000004], [-84.3845068, 33.77733030000001]], &quot;type&quot;: &quot;LineString&quot;}, &quot;id&quot;: &quot;34&quot;, &quot;properties&quot;: {}, &quot;type&quot;: &quot;Feature&quot;}, {&quot;bbox&quot;: [-84.3845068, 33.77733030000001, -84.384504, 33.777361899999995], &quot;geometry&quot;: {&quot;coordinates&quot;: [[-84.384504, 33.777361899999995], [-84.3845068, 33.77733030000001]], &quot;type&quot;: &quot;LineString&quot;}, &quot;id&quot;: &quot;35&quot;, &quot;properties&quot;: {}, &quot;type&quot;: &quot;Feature&quot;}, {&quot;bbox&quot;: [-84.384504, 33.777361899999995, -84.3844999, 33.7774101], &quot;geometry&quot;: {&quot;coordinates&quot;: [[-84.3844999, 33.7774101], [-84.384504, 33.777361899999995]], &quot;type&quot;: &quot;LineString&quot;}, &quot;id&quot;: &quot;36&quot;, &quot;properties&quot;: {}, &quot;type&quot;: &quot;Feature&quot;}, {&quot;bbox&quot;: [-84.3845208, 33.7774101, -84.3844999, 33.77744160000001], &quot;geometry&quot;: {&quot;coordinates&quot;: [[-84.3845208, 33.77744160000001], [-84.3844999, 33.7774101]], &quot;type&quot;: &quot;LineString&quot;}, &quot;id&quot;: &quot;37&quot;, &quot;properties&quot;: {}, &quot;type&quot;: &quot;Feature&quot;}, {&quot;bbox&quot;: [-84.3845208, 33.77744160000001, -84.3844865, 33.7776841], &quot;geometry&quot;: {&quot;coordinates&quot;: [[-84.3845208, 33.77744160000001], [-84.3845097, 33.7774551], [-84.3845062, 33.7774741], [-84.3844865, 33.7776841]], &quot;type&quot;: &quot;LineString&quot;}, &quot;id&quot;: &quot;38&quot;, &quot;properties&quot;: {}, &quot;type&quot;: &quot;Feature&quot;}, {&quot;bbox&quot;: [-84.3844865, 33.7776841, -84.3844839, 33.777708399999995], &quot;geometry&quot;: {&quot;coordinates&quot;: [[-84.3844839, 33.777708399999995], [-84.3844865, 33.7776841]], &quot;type&quot;: &quot;LineString&quot;}, &quot;id&quot;: &quot;39&quot;, &quot;properties&quot;: {}, &quot;type&quot;: &quot;Feature&quot;}, {&quot;bbox&quot;: [-84.3844839, 33.777708399999995, -84.3844799, 33.777746400000005], &quot;geometry&quot;: {&quot;coordinates&quot;: [[-84.3844839, 33.777708399999995], [-84.3844799, 33.777746400000005]], &quot;type&quot;: &quot;LineString&quot;}, &quot;id&quot;: &quot;40&quot;, &quot;properties&quot;: {}, &quot;type&quot;: &quot;Feature&quot;}, {&quot;bbox&quot;: [-84.3844853, 33.777746400000005, -84.3844579, 33.7784398], &quot;geometry&quot;: {&quot;coordinates&quot;: [[-84.3844799, 33.777746400000005], [-84.3844691, 33.7778386], [-84.3844637, 33.77788030000001], [-84.384466, 33.7779142], [-84.3844745, 33.777937900000005], [-84.3844853, 33.7779666], [-84.38447460000002, 33.778048], [-84.3844672, 33.77822689999999], [-84.3844699, 33.7782815], [-84.3844579, 33.7784398]], &quot;type&quot;: &quot;LineString&quot;}, &quot;id&quot;: &quot;41&quot;, &quot;properties&quot;: {}, &quot;type&quot;: &quot;Feature&quot;}, {&quot;bbox&quot;: [-84.3844579, 33.7784398, -84.3844424, 33.77848829999999], &quot;geometry&quot;: {&quot;coordinates&quot;: [[-84.3844424, 33.77848829999999], [-84.3844579, 33.7784398]], &quot;type&quot;: &quot;LineString&quot;}, &quot;id&quot;: &quot;42&quot;, &quot;properties&quot;: {}, &quot;type&quot;: &quot;Feature&quot;}, {&quot;bbox&quot;: [-84.3844424, 33.77848829999999, -84.3844381, 33.77851940000001], &quot;geometry&quot;: {&quot;coordinates&quot;: [[-84.3844381, 33.77851940000001], [-84.3844424, 33.77848829999999]], &quot;type&quot;: &quot;LineString&quot;}, &quot;id&quot;: &quot;43&quot;, &quot;properties&quot;: {}, &quot;type&quot;: &quot;Feature&quot;}, {&quot;bbox&quot;: [-84.3844381, 33.77851940000001, -84.3844317, 33.7785663], &quot;geometry&quot;: {&quot;coordinates&quot;: [[-84.3844381, 33.77851940000001], [-84.3844317, 33.7785663]], &quot;type&quot;: &quot;LineString&quot;}, &quot;id&quot;: &quot;44&quot;, &quot;properties&quot;: {}, &quot;type&quot;: &quot;Feature&quot;}, {&quot;bbox&quot;: [-84.3844317, 33.7785663, -84.3844258, 33.7785939], &quot;geometry&quot;: {&quot;coordinates&quot;: [[-84.3844317, 33.7785663], [-84.3844258, 33.7785939]], &quot;type&quot;: &quot;LineString&quot;}, &quot;id&quot;: &quot;45&quot;, &quot;properties&quot;: {}, &quot;type&quot;: &quot;Feature&quot;}, {&quot;bbox&quot;: [-84.3844258, 33.7785939, -84.3843022, 33.7794849], &quot;geometry&quot;: {&quot;coordinates&quot;: [[-84.3844258, 33.7785939], [-84.3844188, 33.77860399999999], [-84.3844135, 33.7786174], [-84.3843022, 33.7794849]], &quot;type&quot;: &quot;LineString&quot;}, &quot;id&quot;: &quot;46&quot;, &quot;properties&quot;: {}, &quot;type&quot;: &quot;Feature&quot;}, {&quot;bbox&quot;: [-84.385078, 33.7794849, -84.3843022, 33.7794914], &quot;geometry&quot;: {&quot;coordinates&quot;: [[-84.385078, 33.7794914], [-84.3843022, 33.7794849]], &quot;type&quot;: &quot;LineString&quot;}, &quot;id&quot;: &quot;47&quot;, &quot;properties&quot;: {}, &quot;type&quot;: &quot;Feature&quot;}, {&quot;bbox&quot;: [-84.3852729, 33.7794914, -84.385078, 33.77949499999999], &quot;geometry&quot;: {&quot;coordinates&quot;: [[-84.3852729, 33.77949499999999], [-84.385078, 33.7794914]], &quot;type&quot;: &quot;LineString&quot;}, &quot;id&quot;: &quot;48&quot;, &quot;properties&quot;: {}, &quot;type&quot;: &quot;Feature&quot;}, {&quot;bbox&quot;: [-84.3856447, 33.77949499999999, -84.3852729, 33.7794975], &quot;geometry&quot;: {&quot;coordinates&quot;: [[-84.3852729, 33.77949499999999], [-84.3856447, 33.7794975]], &quot;type&quot;: &quot;LineString&quot;}, &quot;id&quot;: &quot;49&quot;, &quot;properties&quot;: {}, &quot;type&quot;: &quot;Feature&quot;}, {&quot;bbox&quot;: [-84.385691, 33.7794975, -84.3856447, 33.77949840000001], &quot;geometry&quot;: {&quot;coordinates&quot;: [[-84.3856447, 33.7794975], [-84.385691, 33.77949840000001]], &quot;type&quot;: &quot;LineString&quot;}, &quot;id&quot;: &quot;50&quot;, &quot;properties&quot;: {}, &quot;type&quot;: &quot;Feature&quot;}, {&quot;bbox&quot;: [-84.3857476, 33.77949840000001, -84.385691, 33.77949950000001], &quot;geometry&quot;: {&quot;coordinates&quot;: [[-84.3857476, 33.77949950000001], [-84.385691, 33.77949840000001]], &quot;type&quot;: &quot;LineString&quot;}, &quot;id&quot;: &quot;51&quot;, &quot;properties&quot;: {}, &quot;type&quot;: &quot;Feature&quot;}, {&quot;bbox&quot;: [-84.3857476, 33.77949950000001, -84.385745, 33.7795463], &quot;geometry&quot;: {&quot;coordinates&quot;: [[-84.385745, 33.7795463], [-84.3857476, 33.77949950000001]], &quot;type&quot;: &quot;LineString&quot;}, &quot;id&quot;: &quot;52&quot;, &quot;properties&quot;: {}, &quot;type&quot;: &quot;Feature&quot;}, {&quot;bbox&quot;: [-84.385745, 33.7795463, -84.38573960000001, 33.77961609999999], &quot;geometry&quot;: {&quot;coordinates&quot;: [[-84.385745, 33.7795463], [-84.38573960000001, 33.77961609999999]], &quot;type&quot;: &quot;LineString&quot;}, &quot;id&quot;: &quot;53&quot;, &quot;properties&quot;: {}, &quot;type&quot;: &quot;Feature&quot;}, {&quot;bbox&quot;: [-84.3857782, 33.77961609999999, -84.38573960000001, 33.7796211], &quot;geometry&quot;: {&quot;coordinates&quot;: [[-84.38573960000001, 33.77961609999999], [-84.3857782, 33.7796211]], &quot;type&quot;: &quot;LineString&quot;}, &quot;id&quot;: &quot;54&quot;, &quot;properties&quot;: {}, &quot;type&quot;: &quot;Feature&quot;}, {&quot;bbox&quot;: [-84.3871503, 33.7796211, -84.3857782, 33.77963020000001], &quot;geometry&quot;: {&quot;coordinates&quot;: [[-84.3871503, 33.77963020000001], [-84.3857782, 33.7796211]], &quot;type&quot;: &quot;LineString&quot;}, &quot;id&quot;: &quot;55&quot;, &quot;properties&quot;: {}, &quot;type&quot;: &quot;Feature&quot;}, {&quot;bbox&quot;: [-84.3871503, 33.77963020000001, -84.3871497, 33.7796564], &quot;geometry&quot;: {&quot;coordinates&quot;: [[-84.3871497, 33.7796564], [-84.3871503, 33.77963020000001]], &quot;type&quot;: &quot;LineString&quot;}, &quot;id&quot;: &quot;56&quot;, &quot;properties&quot;: {}, &quot;type&quot;: &quot;Feature&quot;}, {&quot;bbox&quot;: [-84.3872136, 33.7796564, -84.3871497, 33.7796578], &quot;geometry&quot;: {&quot;coordinates&quot;: [[-84.3872136, 33.7796578], [-84.3871497, 33.7796564]], &quot;type&quot;: &quot;LineString&quot;}, &quot;id&quot;: &quot;57&quot;, &quot;properties&quot;: {}, &quot;type&quot;: &quot;Feature&quot;}, {&quot;bbox&quot;: [-84.3872726, 33.7796417, -84.3872136, 33.7796578], &quot;geometry&quot;: {&quot;coordinates&quot;: [[-84.3872136, 33.7796578], [-84.3872726, 33.7796417]], &quot;type&quot;: &quot;LineString&quot;}, &quot;id&quot;: &quot;58&quot;, &quot;properties&quot;: {}, &quot;type&quot;: &quot;Feature&quot;}, {&quot;bbox&quot;: [-84.3873643, 33.7796176, -84.3872726, 33.7796417], &quot;geometry&quot;: {&quot;coordinates&quot;: [[-84.3873643, 33.7796176], [-84.3872726, 33.7796417]], &quot;type&quot;: &quot;LineString&quot;}, &quot;id&quot;: &quot;59&quot;, &quot;properties&quot;: {}, &quot;type&quot;: &quot;Feature&quot;}, {&quot;bbox&quot;: [-84.3874079, 33.779607500000004, -84.3873643, 33.7796176], &quot;geometry&quot;: {&quot;coordinates&quot;: [[-84.3873643, 33.7796176], [-84.3874079, 33.779607500000004]], &quot;type&quot;: &quot;LineString&quot;}, &quot;id&quot;: &quot;60&quot;, &quot;properties&quot;: {}, &quot;type&quot;: &quot;Feature&quot;}, {&quot;bbox&quot;: [-84.3875877, 33.779607500000004, -84.3874079, 33.7806425], &quot;geometry&quot;: {&quot;coordinates&quot;: [[-84.3874079, 33.779607500000004], [-84.3874086, 33.7797821], [-84.3874281, 33.7800832], [-84.3874666, 33.780274399999996], [-84.3875877, 33.7806425]], &quot;type&quot;: &quot;LineString&quot;}, &quot;id&quot;: &quot;61&quot;, &quot;properties&quot;: {}, &quot;type&quot;: &quot;Feature&quot;}, {&quot;bbox&quot;: [-84.3876154, 33.7806425, -84.3875877, 33.780718199999995], &quot;geometry&quot;: {&quot;coordinates&quot;: [[-84.3875877, 33.7806425], [-84.3875991, 33.7806735], [-84.3876154, 33.780718199999995]], &quot;type&quot;: &quot;LineString&quot;}, &quot;id&quot;: &quot;62&quot;, &quot;properties&quot;: {}, &quot;type&quot;: &quot;Feature&quot;}, {&quot;bbox&quot;: [-84.3876382, 33.780718199999995, -84.3876154, 33.780775699999985], &quot;geometry&quot;: {&quot;coordinates&quot;: [[-84.3876154, 33.780718199999995], [-84.3876382, 33.780775699999985]], &quot;type&quot;: &quot;LineString&quot;}, &quot;id&quot;: &quot;63&quot;, &quot;properties&quot;: {}, &quot;type&quot;: &quot;Feature&quot;}, {&quot;bbox&quot;: [-84.3876707, 33.780775699999985, -84.3876382, 33.7807909], &quot;geometry&quot;: {&quot;coordinates&quot;: [[-84.3876707, 33.7807909], [-84.3876382, 33.780775699999985]], &quot;type&quot;: &quot;LineString&quot;}, &quot;id&quot;: &quot;64&quot;, &quot;properties&quot;: {}, &quot;type&quot;: &quot;Feature&quot;}, {&quot;bbox&quot;: [-84.3879178, 33.7807909, -84.3876707, 33.7813916], &quot;geometry&quot;: {&quot;coordinates&quot;: [[-84.3876707, 33.7807909], [-84.3877946, 33.7810795], [-84.3879178, 33.7813916]], &quot;type&quot;: &quot;LineString&quot;}, &quot;id&quot;: &quot;65&quot;, &quot;properties&quot;: {}, &quot;type&quot;: &quot;Feature&quot;}, {&quot;bbox&quot;: [-84.3879372, 33.781391400000004, -84.3879178, 33.7813916], &quot;geometry&quot;: {&quot;coordinates&quot;: [[-84.3879178, 33.7813916], [-84.3879372, 33.781391400000004]], &quot;type&quot;: &quot;LineString&quot;}, &quot;id&quot;: &quot;66&quot;, &quot;properties&quot;: {}, &quot;type&quot;: &quot;Feature&quot;}, {&quot;bbox&quot;: [-84.3890368, 33.7813856, -84.3879372, 33.78139169999999], &quot;geometry&quot;: {&quot;coordinates&quot;: [[-84.3890368, 33.7813856], [-84.3889511, 33.78139149999999], [-84.3887727, 33.78139169999999], [-84.3879372, 33.781391400000004]], &quot;type&quot;: &quot;LineString&quot;}, &quot;id&quot;: &quot;67&quot;, &quot;properties&quot;: {}, &quot;type&quot;: &quot;Feature&quot;}, {&quot;bbox&quot;: [-84.389146, 33.7813856, -84.3890368, 33.781387], &quot;geometry&quot;: {&quot;coordinates&quot;: [[-84.389146, 33.781387], [-84.3890368, 33.7813856]], &quot;type&quot;: &quot;LineString&quot;}, &quot;id&quot;: &quot;68&quot;, &quot;properties&quot;: {}, &quot;type&quot;: &quot;Feature&quot;}, {&quot;bbox&quot;: [-84.3892787, 33.781386499999996, -84.389146, 33.7815071], &quot;geometry&quot;: {&quot;coordinates&quot;: [[-84.3892787, 33.7815071], [-84.3892617, 33.781386499999996], [-84.389146, 33.781387]], &quot;type&quot;: &quot;LineString&quot;}, &quot;id&quot;: &quot;69&quot;, &quot;properties&quot;: {}, &quot;type&quot;: &quot;Feature&quot;}, {&quot;bbox&quot;: [-84.3893874, 33.7815071, -84.3892787, 33.78150759999999], &quot;geometry&quot;: {&quot;coordinates&quot;: [[-84.3892787, 33.7815071], [-84.3893874, 33.78150759999999]], &quot;type&quot;: &quot;LineString&quot;}, &quot;id&quot;: &quot;70&quot;, &quot;properties&quot;: {}, &quot;type&quot;: &quot;Feature&quot;}, {&quot;bbox&quot;: [-84.3896381, 33.78150759999999, -84.3893874, 33.781509899999996], &quot;geometry&quot;: {&quot;coordinates&quot;: [[-84.3896381, 33.781509899999996], [-84.38954, 33.781508], [-84.3893874, 33.78150759999999]], &quot;type&quot;: &quot;LineString&quot;}, &quot;id&quot;: &quot;71&quot;, &quot;properties&quot;: {}, &quot;type&quot;: &quot;Feature&quot;}, {&quot;bbox&quot;: [-84.389785, 33.781509899999996, -84.3896381, 33.78151269999999], &quot;geometry&quot;: {&quot;coordinates&quot;: [[-84.389785, 33.78151269999999], [-84.3896381, 33.781509899999996]], &quot;type&quot;: &quot;LineString&quot;}, &quot;id&quot;: &quot;72&quot;, &quot;properties&quot;: {}, &quot;type&quot;: &quot;Feature&quot;}, {&quot;bbox&quot;: [-84.3900285, 33.78151269999999, -84.389785, 33.781517400000006], &quot;geometry&quot;: {&quot;coordinates&quot;: [[-84.389785, 33.78151269999999], [-84.3900285, 33.781517400000006]], &quot;type&quot;: &quot;LineString&quot;}, &quot;id&quot;: &quot;73&quot;, &quot;properties&quot;: {}, &quot;type&quot;: &quot;Feature&quot;}, {&quot;bbox&quot;: [-84.3904707, 33.781517400000006, -84.3900285, 33.78152579999999], &quot;geometry&quot;: {&quot;coordinates&quot;: [[-84.3904707, 33.78152579999999], [-84.3900285, 33.781517400000006]], &quot;type&quot;: &quot;LineString&quot;}, &quot;id&quot;: &quot;74&quot;, &quot;properties&quot;: {}, &quot;type&quot;: &quot;Feature&quot;}, {&quot;bbox&quot;: [-84.39058600000001, 33.78152579999999, -84.3904707, 33.781527999999994], &quot;geometry&quot;: {&quot;coordinates&quot;: [[-84.3904707, 33.78152579999999], [-84.39058600000001, 33.781527999999994]], &quot;type&quot;: &quot;LineString&quot;}, &quot;id&quot;: &quot;75&quot;, &quot;properties&quot;: {}, &quot;type&quot;: &quot;Feature&quot;}, {&quot;bbox&quot;: [-84.3906839, 33.781527999999994, -84.39058600000001, 33.7815294], &quot;geometry&quot;: {&quot;coordinates&quot;: [[-84.3906839, 33.7815294], [-84.39058600000001, 33.781527999999994]], &quot;type&quot;: &quot;LineString&quot;}, &quot;id&quot;: &quot;76&quot;, &quot;properties&quot;: {}, &quot;type&quot;: &quot;Feature&quot;}, {&quot;bbox&quot;: [-84.3914124, 33.7815294, -84.3906839, 33.781538000000005], &quot;geometry&quot;: {&quot;coordinates&quot;: [[-84.3906839, 33.7815294], [-84.3914124, 33.781538000000005]], &quot;type&quot;: &quot;LineString&quot;}, &quot;id&quot;: &quot;77&quot;, &quot;properties&quot;: {}, &quot;type&quot;: &quot;Feature&quot;}, {&quot;bbox&quot;: [-84.391609, 33.7815362, -84.3914124, 33.781538000000005], &quot;geometry&quot;: {&quot;coordinates&quot;: [[-84.3914124, 33.781538000000005], [-84.391609, 33.7815362]], &quot;type&quot;: &quot;LineString&quot;}, &quot;id&quot;: &quot;78&quot;, &quot;properties&quot;: {}, &quot;type&quot;: &quot;Feature&quot;}, {&quot;bbox&quot;: [-84.391747, 33.7815362, -84.391609, 33.7815371], &quot;geometry&quot;: {&quot;coordinates&quot;: [[-84.391747, 33.7815371], [-84.391609, 33.7815362]], &quot;type&quot;: &quot;LineString&quot;}, &quot;id&quot;: &quot;79&quot;, &quot;properties&quot;: {}, &quot;type&quot;: &quot;Feature&quot;}, {&quot;bbox&quot;: [-84.3919471, 33.7815371, -84.391747, 33.7815385], &quot;geometry&quot;: {&quot;coordinates&quot;: [[-84.391747, 33.7815371], [-84.3919471, 33.7815385]], &quot;type&quot;: &quot;LineString&quot;}, &quot;id&quot;: &quot;80&quot;, &quot;properties&quot;: {}, &quot;type&quot;: &quot;Feature&quot;}, {&quot;bbox&quot;: [-84.3920772, 33.7815385, -84.3919471, 33.78154020000001], &quot;geometry&quot;: {&quot;coordinates&quot;: [[-84.3920772, 33.78154020000001], [-84.3919471, 33.7815385]], &quot;type&quot;: &quot;LineString&quot;}, &quot;id&quot;: &quot;81&quot;, &quot;properties&quot;: {}, &quot;type&quot;: &quot;Feature&quot;}, {&quot;bbox&quot;: [-84.3924957, 33.78154020000001, -84.3920772, 33.78154580000001], &quot;geometry&quot;: {&quot;coordinates&quot;: [[-84.3920772, 33.78154020000001], [-84.3924957, 33.78154580000001]], &quot;type&quot;: &quot;LineString&quot;}, &quot;id&quot;: &quot;82&quot;, &quot;properties&quot;: {}, &quot;type&quot;: &quot;Feature&quot;}, {&quot;bbox&quot;: [-84.3933805, 33.78151830000001, -84.3924957, 33.78154580000001], &quot;geometry&quot;: {&quot;coordinates&quot;: [[-84.3933805, 33.78151830000001], [-84.3924957, 33.78154580000001]], &quot;type&quot;: &quot;LineString&quot;}, &quot;id&quot;: &quot;83&quot;, &quot;properties&quot;: {}, &quot;type&quot;: &quot;Feature&quot;}, {&quot;bbox&quot;: [-84.3934669, 33.78151419999999, -84.3933805, 33.78151830000001], &quot;geometry&quot;: {&quot;coordinates&quot;: [[-84.3934669, 33.78151419999999], [-84.3933805, 33.78151830000001]], &quot;type&quot;: &quot;LineString&quot;}, &quot;id&quot;: &quot;84&quot;, &quot;properties&quot;: {}, &quot;type&quot;: &quot;Feature&quot;}, {&quot;bbox&quot;: [-84.3934669, 33.78151419999999, -84.3934439, 33.7816192], &quot;geometry&quot;: {&quot;coordinates&quot;: [[-84.3934439, 33.7816192], [-84.3934669, 33.78151419999999]], &quot;type&quot;: &quot;LineString&quot;}, &quot;id&quot;: &quot;85&quot;, &quot;properties&quot;: {}, &quot;type&quot;: &quot;Feature&quot;}, {&quot;bbox&quot;: [-84.3935703, 33.7816183, -84.3934439, 33.7816192], &quot;geometry&quot;: {&quot;coordinates&quot;: [[-84.3934439, 33.7816192], [-84.3935703, 33.7816183]], &quot;type&quot;: &quot;LineString&quot;}, &quot;id&quot;: &quot;86&quot;, &quot;properties&quot;: {}, &quot;type&quot;: &quot;Feature&quot;}, {&quot;bbox&quot;: [-84.3936838, 33.78161589999999, -84.3935703, 33.7816183], &quot;geometry&quot;: {&quot;coordinates&quot;: [[-84.3936838, 33.78161589999999], [-84.3935703, 33.7816183]], &quot;type&quot;: &quot;LineString&quot;}, &quot;id&quot;: &quot;87&quot;, &quot;properties&quot;: {}, &quot;type&quot;: &quot;Feature&quot;}, {&quot;bbox&quot;: [-84.3936838, 33.7815076, -84.3936667, 33.78161589999999], &quot;geometry&quot;: {&quot;coordinates&quot;: [[-84.3936838, 33.78161589999999], [-84.3936667, 33.7815076]], &quot;type&quot;: &quot;LineString&quot;}, &quot;id&quot;: &quot;88&quot;, &quot;properties&quot;: {}, &quot;type&quot;: &quot;Feature&quot;}, {&quot;bbox&quot;: [-84.3936667, 33.781426800000006, -84.3936612, 33.7815076], &quot;geometry&quot;: {&quot;coordinates&quot;: [[-84.3936667, 33.7815076], [-84.3936612, 33.781426800000006]], &quot;type&quot;: &quot;LineString&quot;}, &quot;id&quot;: &quot;89&quot;, &quot;properties&quot;: {}, &quot;type&quot;: &quot;Feature&quot;}, {&quot;bbox&quot;: [-84.3937158, 33.7814228, -84.3936612, 33.781426800000006], &quot;geometry&quot;: {&quot;coordinates&quot;: [[-84.3936612, 33.781426800000006], [-84.3937158, 33.7814228]], &quot;type&quot;: &quot;LineString&quot;}, &quot;id&quot;: &quot;90&quot;, &quot;properties&quot;: {}, &quot;type&quot;: &quot;Feature&quot;}, {&quot;bbox&quot;: [-84.3948918, 33.7814228, -84.3937158, 33.781434100000006], &quot;geometry&quot;: {&quot;coordinates&quot;: [[-84.3937158, 33.7814228], [-84.3937775, 33.7814306], [-84.3941852, 33.7814317], [-84.3946895, 33.7814317], [-84.3948918, 33.781434100000006]], &quot;type&quot;: &quot;LineString&quot;}, &quot;id&quot;: &quot;91&quot;, &quot;properties&quot;: {}, &quot;type&quot;: &quot;Feature&quot;}, {&quot;bbox&quot;: [-84.3964356, 33.781434100000006, -84.3948918, 33.7814372], &quot;geometry&quot;: {&quot;coordinates&quot;: [[-84.3964356, 33.7814372], [-84.3949765, 33.781435099999996], [-84.3948918, 33.781434100000006]], &quot;type&quot;: &quot;LineString&quot;}, &quot;id&quot;: &quot;92&quot;, &quot;properties&quot;: {}, &quot;type&quot;: &quot;Feature&quot;}, {&quot;bbox&quot;: [-84.3964827, 33.7814372, -84.3964356, 33.781437300000015], &quot;geometry&quot;: {&quot;coordinates&quot;: [[-84.3964356, 33.7814372], [-84.3964745, 33.78143729999999], [-84.3964827, 33.781437300000015]], &quot;type&quot;: &quot;LineString&quot;}, &quot;id&quot;: &quot;93&quot;, &quot;properties&quot;: {}, &quot;type&quot;: &quot;Feature&quot;}, {&quot;bbox&quot;: [-84.3967485, 33.7814367, -84.3964827, 33.781437300000015], &quot;geometry&quot;: {&quot;coordinates&quot;: [[-84.3967485, 33.7814367], [-84.3964827, 33.781437300000015]], &quot;type&quot;: &quot;LineString&quot;}, &quot;id&quot;: &quot;94&quot;, &quot;properties&quot;: {}, &quot;type&quot;: &quot;Feature&quot;}, {&quot;bbox&quot;: [-84.3971522, 33.781436199999995, -84.3967485, 33.78143690000001], &quot;geometry&quot;: {&quot;coordinates&quot;: [[-84.3971522, 33.78143690000001], [-84.3969452, 33.781436199999995], [-84.3967485, 33.7814367]], &quot;type&quot;: &quot;LineString&quot;}, &quot;id&quot;: &quot;95&quot;, &quot;properties&quot;: {}, &quot;type&quot;: &quot;Feature&quot;}, {&quot;bbox&quot;: [-84.3976275, 33.78143690000001, -84.3971522, 33.78143839999999], &quot;geometry&quot;: {&quot;coordinates&quot;: [[-84.3971522, 33.78143690000001], [-84.3976251, 33.78143839999999], [-84.3976275, 33.78143839999999]], &quot;type&quot;: &quot;LineString&quot;}, &quot;id&quot;: &quot;96&quot;, &quot;properties&quot;: {}, &quot;type&quot;: &quot;Feature&quot;}, {&quot;bbox&quot;: [-84.3976286, 33.78143839999999, -84.3976275, 33.7815062], &quot;geometry&quot;: {&quot;coordinates&quot;: [[-84.3976275, 33.78143839999999], [-84.3976286, 33.7815062]], &quot;type&quot;: &quot;LineString&quot;}, &quot;id&quot;: &quot;97&quot;, &quot;properties&quot;: {}, &quot;type&quot;: &quot;Feature&quot;}, {&quot;bbox&quot;: [-84.3976302, 33.7815062, -84.3976286, 33.7815949], &quot;geometry&quot;: {&quot;coordinates&quot;: [[-84.3976286, 33.7815062], [-84.3976302, 33.7815949]], &quot;type&quot;: &quot;LineString&quot;}, &quot;id&quot;: &quot;98&quot;, &quot;properties&quot;: {}, &quot;type&quot;: &quot;Feature&quot;}, {&quot;bbox&quot;: [-84.3977248, 33.7815914, -84.3976302, 33.7815949], &quot;geometry&quot;: {&quot;coordinates&quot;: [[-84.3976302, 33.7815949], [-84.3977248, 33.7815914]], &quot;type&quot;: &quot;LineString&quot;}, &quot;id&quot;: &quot;99&quot;, &quot;properties&quot;: {}, &quot;type&quot;: &quot;Feature&quot;}, {&quot;bbox&quot;: [-84.3977791, 33.7815914, -84.3977248, 33.7815917], &quot;geometry&quot;: {&quot;coordinates&quot;: [[-84.3977791, 33.7815917], [-84.3977248, 33.7815914]], &quot;type&quot;: &quot;LineString&quot;}, &quot;id&quot;: &quot;100&quot;, &quot;properties&quot;: {}, &quot;type&quot;: &quot;Feature&quot;}, {&quot;bbox&quot;: [-84.3984864, 33.7815917, -84.3977791, 33.781596], &quot;geometry&quot;: {&quot;coordinates&quot;: [[-84.3977791, 33.7815917], [-84.3984864, 33.781596]], &quot;type&quot;: &quot;LineString&quot;}, &quot;id&quot;: &quot;101&quot;, &quot;properties&quot;: {}, &quot;type&quot;: &quot;Feature&quot;}, {&quot;bbox&quot;: [-84.399057, 33.7815831, -84.3984864, 33.781596], &quot;geometry&quot;: {&quot;coordinates&quot;: [[-84.3984864, 33.781596], [-84.399057, 33.7815831]], &quot;type&quot;: &quot;LineString&quot;}, &quot;id&quot;: &quot;102&quot;, &quot;properties&quot;: {}, &quot;type&quot;: &quot;Feature&quot;}, {&quot;bbox&quot;: [-84.3990598, 33.781510000000004, -84.399057, 33.7815831], &quot;geometry&quot;: {&quot;coordinates&quot;: [[-84.3990598, 33.781510000000004], [-84.399057, 33.7815831]], &quot;type&quot;: &quot;LineString&quot;}, &quot;id&quot;: &quot;103&quot;, &quot;properties&quot;: {}, &quot;type&quot;: &quot;Feature&quot;}, {&quot;bbox&quot;: [-84.3990634, 33.7814424, -84.3990598, 33.781510000000004], &quot;geometry&quot;: {&quot;coordinates&quot;: [[-84.3990598, 33.781510000000004], [-84.3990634, 33.7814424]], &quot;type&quot;: &quot;LineString&quot;}, &quot;id&quot;: &quot;104&quot;, &quot;properties&quot;: {}, &quot;type&quot;: &quot;Feature&quot;}, {&quot;bbox&quot;: [-84.3991484, 33.7814424, -84.3990634, 33.78144600000001], &quot;geometry&quot;: {&quot;coordinates&quot;: [[-84.3991484, 33.78144600000001], [-84.3990634, 33.7814424]], &quot;type&quot;: &quot;LineString&quot;}, &quot;id&quot;: &quot;105&quot;, &quot;properties&quot;: {}, &quot;type&quot;: &quot;Feature&quot;}, {&quot;bbox&quot;: [-84.3992414, 33.78144600000001, -84.3991484, 33.78145], &quot;geometry&quot;: {&quot;coordinates&quot;: [[-84.3991484, 33.78144600000001], [-84.3992414, 33.78145]], &quot;type&quot;: &quot;LineString&quot;}, &quot;id&quot;: &quot;106&quot;, &quot;properties&quot;: {}, &quot;type&quot;: &quot;Feature&quot;}, {&quot;bbox&quot;: [-84.3999111, 33.78144759999999, -84.3992414, 33.78145], &quot;geometry&quot;: {&quot;coordinates&quot;: [[-84.3992414, 33.78145], [-84.3999111, 33.78144759999999]], &quot;type&quot;: &quot;LineString&quot;}, &quot;id&quot;: &quot;107&quot;, &quot;properties&quot;: {}, &quot;type&quot;: &quot;Feature&quot;}, {&quot;bbox&quot;: [-84.3999704, 33.78144759999999, -84.3999111, 33.781447799999995], &quot;geometry&quot;: {&quot;coordinates&quot;: [[-84.3999704, 33.781447799999995], [-84.3999111, 33.78144759999999]], &quot;type&quot;: &quot;LineString&quot;}, &quot;id&quot;: &quot;108&quot;, &quot;properties&quot;: {}, &quot;type&quot;: &quot;Feature&quot;}, {&quot;bbox&quot;: [-84.4008336, 33.781447799999995, -84.3999704, 33.781451199999985], &quot;geometry&quot;: {&quot;coordinates&quot;: [[-84.3999704, 33.781447799999995], [-84.4008336, 33.781451199999985]], &quot;type&quot;: &quot;LineString&quot;}, &quot;id&quot;: &quot;109&quot;, &quot;properties&quot;: {}, &quot;type&quot;: &quot;Feature&quot;}, {&quot;bbox&quot;: [-84.4008895, 33.781451199999985, -84.4008336, 33.7814514], &quot;geometry&quot;: {&quot;coordinates&quot;: [[-84.4008895, 33.7814514], [-84.4008336, 33.781451199999985]], &quot;type&quot;: &quot;LineString&quot;}, &quot;id&quot;: &quot;110&quot;, &quot;properties&quot;: {}, &quot;type&quot;: &quot;Feature&quot;}, {&quot;bbox&quot;: [-84.40182470000002, 33.7814514, -84.4008895, 33.78145510000001], &quot;geometry&quot;: {&quot;coordinates&quot;: [[-84.40182470000002, 33.78145510000001], [-84.4008895, 33.7814514]], &quot;type&quot;: &quot;LineString&quot;}, &quot;id&quot;: &quot;111&quot;, &quot;properties&quot;: {}, &quot;type&quot;: &quot;Feature&quot;}, {&quot;bbox&quot;: [-84.4022001, 33.78145510000001, -84.40182470000002, 33.78145800000001], &quot;geometry&quot;: {&quot;coordinates&quot;: [[-84.4022001, 33.78145800000001], [-84.4020187, 33.7814559], [-84.40182470000002, 33.78145510000001]], &quot;type&quot;: &quot;LineString&quot;}, &quot;id&quot;: &quot;112&quot;, &quot;properties&quot;: {}, &quot;type&quot;: &quot;Feature&quot;}, {&quot;bbox&quot;: [-84.4026333, 33.78145800000001, -84.4022001, 33.781463099999996], &quot;geometry&quot;: {&quot;coordinates&quot;: [[-84.4022001, 33.78145800000001], [-84.4026333, 33.781463099999996]], &quot;type&quot;: &quot;LineString&quot;}, &quot;id&quot;: &quot;113&quot;, &quot;properties&quot;: {}, &quot;type&quot;: &quot;Feature&quot;}, {&quot;bbox&quot;: [-84.402702, 33.78146189999999, -84.4026333, 33.781463099999996], &quot;geometry&quot;: {&quot;coordinates&quot;: [[-84.4026333, 33.781463099999996], [-84.402702, 33.78146189999999]], &quot;type&quot;: &quot;LineString&quot;}, &quot;id&quot;: &quot;114&quot;, &quot;properties&quot;: {}, &quot;type&quot;: &quot;Feature&quot;}, {&quot;bbox&quot;: [-84.4027135, 33.7812145, -84.4026948, 33.78146189999999], &quot;geometry&quot;: {&quot;coordinates&quot;: [[-84.4027135, 33.7812145], [-84.4026948, 33.7813656], [-84.402702, 33.78146189999999]], &quot;type&quot;: &quot;LineString&quot;}, &quot;id&quot;: &quot;115&quot;, &quot;properties&quot;: {}, &quot;type&quot;: &quot;Feature&quot;}, {&quot;bbox&quot;: [-84.4027328, 33.780996, -84.4027135, 33.7812145], &quot;geometry&quot;: {&quot;coordinates&quot;: [[-84.4027135, 33.7812145], [-84.40272489999998, 33.7811221], [-84.4027307, 33.7810294], [-84.4027328, 33.780996]], &quot;type&quot;: &quot;LineString&quot;}, &quot;id&quot;: &quot;116&quot;, &quot;properties&quot;: {}, &quot;type&quot;: &quot;Feature&quot;}, {&quot;bbox&quot;: [-84.4028331, 33.780996, -84.4027328, 33.78099640000001], &quot;geometry&quot;: {&quot;coordinates&quot;: [[-84.4028331, 33.78099640000001], [-84.4027497, 33.7809961], [-84.4027328, 33.780996]], &quot;type&quot;: &quot;LineString&quot;}, &quot;id&quot;: &quot;117&quot;, &quot;properties&quot;: {}, &quot;type&quot;: &quot;Feature&quot;}, {&quot;bbox&quot;: [-84.4035894, 33.78097779999999, -84.4028331, 33.7809994], &quot;geometry&quot;: {&quot;coordinates&quot;: [[-84.4028331, 33.78099640000001], [-84.4034899, 33.7809994], [-84.4035894, 33.78097779999999]], &quot;type&quot;: &quot;LineString&quot;}, &quot;id&quot;: &quot;118&quot;, &quot;properties&quot;: {}, &quot;type&quot;: &quot;Feature&quot;}, {&quot;bbox&quot;: [-84.4040142, 33.78097779999999, -84.4035894, 33.78146069999999], &quot;geometry&quot;: {&quot;coordinates&quot;: [[-84.4035894, 33.78097779999999], [-84.403957, 33.781382300000004], [-84.4040028, 33.7814298], [-84.4040142, 33.78146069999999]], &quot;type&quot;: &quot;LineString&quot;}, &quot;id&quot;: &quot;119&quot;, &quot;properties&quot;: {}, &quot;type&quot;: &quot;Feature&quot;}, {&quot;bbox&quot;: [-84.40408030000002, 33.78146069999999, -84.4040142, 33.7815447], &quot;geometry&quot;: {&quot;coordinates&quot;: [[-84.4040142, 33.78146069999999], [-84.40408030000002, 33.7815447]], &quot;type&quot;: &quot;LineString&quot;}, &quot;id&quot;: &quot;120&quot;, &quot;properties&quot;: {}, &quot;type&quot;: &quot;Feature&quot;}, {&quot;bbox&quot;: [-84.4041228, 33.7815447, -84.40408030000002, 33.781610400000005], &quot;geometry&quot;: {&quot;coordinates&quot;: [[-84.4041228, 33.781610400000005], [-84.40408030000002, 33.7815447]], &quot;type&quot;: &quot;LineString&quot;}, &quot;id&quot;: &quot;121&quot;, &quot;properties&quot;: {}, &quot;type&quot;: &quot;Feature&quot;}, {&quot;bbox&quot;: [-84.4041511, 33.781610400000005, -84.4041228, 33.7816117], &quot;geometry&quot;: {&quot;coordinates&quot;: [[-84.4041511, 33.7816117], [-84.4041228, 33.781610400000005]], &quot;type&quot;: &quot;LineString&quot;}, &quot;id&quot;: &quot;122&quot;, &quot;properties&quot;: {}, &quot;type&quot;: &quot;Feature&quot;}, {&quot;bbox&quot;: [-84.4042427, 33.7816117, -84.4041511, 33.781616], &quot;geometry&quot;: {&quot;coordinates&quot;: [[-84.4041511, 33.7816117], [-84.4042427, 33.781616]], &quot;type&quot;: &quot;LineString&quot;}, &quot;id&quot;: &quot;123&quot;, &quot;properties&quot;: {}, &quot;type&quot;: &quot;Feature&quot;}, {&quot;bbox&quot;: [-84.4042894, 33.781616, -84.4042427, 33.7816889], &quot;geometry&quot;: {&quot;coordinates&quot;: [[-84.4042427, 33.781616], [-84.4042894, 33.7816889]], &quot;type&quot;: &quot;LineString&quot;}, &quot;id&quot;: &quot;124&quot;, &quot;properties&quot;: {}, &quot;type&quot;: &quot;Feature&quot;}, {&quot;bbox&quot;: [-84.4043351, 33.7816889, -84.4042894, 33.7817658], &quot;geometry&quot;: {&quot;coordinates&quot;: [[-84.4043351, 33.7817658], [-84.4042894, 33.7816889]], &quot;type&quot;: &quot;LineString&quot;}, &quot;id&quot;: &quot;125&quot;, &quot;properties&quot;: {}, &quot;type&quot;: &quot;Feature&quot;}, {&quot;bbox&quot;: [-84.4046014, 33.7817658, -84.4043351, 33.78221340000001], &quot;geometry&quot;: {&quot;coordinates&quot;: [[-84.4046014, 33.78221340000001], [-84.4043351, 33.7817658]], &quot;type&quot;: &quot;LineString&quot;}, &quot;id&quot;: &quot;126&quot;, &quot;properties&quot;: {}, &quot;type&quot;: &quot;Feature&quot;}, {&quot;bbox&quot;: [-84.4054084, 33.78221340000001, -84.4046014, 33.78356990000001], &quot;geometry&quot;: {&quot;coordinates&quot;: [[-84.4046014, 33.78221340000001], [-84.4054084, 33.78356990000001]], &quot;type&quot;: &quot;LineString&quot;}, &quot;id&quot;: &quot;127&quot;, &quot;properties&quot;: {}, &quot;type&quot;: &quot;Feature&quot;}, {&quot;bbox&quot;: [-84.4059976, 33.78356990000001, -84.4054084, 33.7845363], &quot;geometry&quot;: {&quot;coordinates&quot;: [[-84.4054084, 33.78356990000001], [-84.4059976, 33.7845363]], &quot;type&quot;: &quot;LineString&quot;}, &quot;id&quot;: &quot;128&quot;, &quot;properties&quot;: {}, &quot;type&quot;: &quot;Feature&quot;}, {&quot;bbox&quot;: [-84.4060584, 33.7845363, -84.4059976, 33.7846729], &quot;geometry&quot;: {&quot;coordinates&quot;: [[-84.4060584, 33.7846729], [-84.4059976, 33.7845363]], &quot;type&quot;: &quot;LineString&quot;}, &quot;id&quot;: &quot;129&quot;, &quot;properties&quot;: {}, &quot;type&quot;: &quot;Feature&quot;}, {&quot;bbox&quot;: [-84.4061736, 33.7846729, -84.4060584, 33.7848685], &quot;geometry&quot;: {&quot;coordinates&quot;: [[-84.4061736, 33.7848685], [-84.4060584, 33.7846729]], &quot;type&quot;: &quot;LineString&quot;}, &quot;id&quot;: &quot;130&quot;, &quot;properties&quot;: {}, &quot;type&quot;: &quot;Feature&quot;}, {&quot;bbox&quot;: [-84.4064145, 33.7848685, -84.4061736, 33.78527750000001], &quot;geometry&quot;: {&quot;coordinates&quot;: [[-84.4061736, 33.7848685], [-84.4064145, 33.78527750000001]], &quot;type&quot;: &quot;LineString&quot;}, &quot;id&quot;: &quot;131&quot;, &quot;properties&quot;: {}, &quot;type&quot;: &quot;Feature&quot;}, {&quot;bbox&quot;: [-84.4066858, 33.78527750000001, -84.4064145, 33.7857383], &quot;geometry&quot;: {&quot;coordinates&quot;: [[-84.4066858, 33.7857383], [-84.4064145, 33.78527750000001]], &quot;type&quot;: &quot;LineString&quot;}, &quot;id&quot;: &quot;132&quot;, &quot;properties&quot;: {}, &quot;type&quot;: &quot;Feature&quot;}, {&quot;bbox&quot;: [-84.4067865, 33.7857383, -84.4066858, 33.78590930000001], &quot;geometry&quot;: {&quot;coordinates&quot;: [[-84.4067865, 33.78590930000001], [-84.4066858, 33.7857383]], &quot;type&quot;: &quot;LineString&quot;}, &quot;id&quot;: &quot;133&quot;, &quot;properties&quot;: {}, &quot;type&quot;: &quot;Feature&quot;}, {&quot;bbox&quot;: [-84.4068362, 33.78590930000001, -84.4067865, 33.785993700000006], &quot;geometry&quot;: {&quot;coordinates&quot;: [[-84.4067865, 33.78590930000001], [-84.4068362, 33.785993700000006]], &quot;type&quot;: &quot;LineString&quot;}, &quot;id&quot;: &quot;134&quot;, &quot;properties&quot;: {}, &quot;type&quot;: &quot;Feature&quot;}, {&quot;bbox&quot;: [-84.4069317, 33.785993700000006, -84.4068362, 33.7861558], &quot;geometry&quot;: {&quot;coordinates&quot;: [[-84.4069317, 33.7861558], [-84.4068362, 33.785993700000006]], &quot;type&quot;: &quot;LineString&quot;}, &quot;id&quot;: &quot;135&quot;, &quot;properties&quot;: {}, &quot;type&quot;: &quot;Feature&quot;}, {&quot;bbox&quot;: [-84.4070192, 33.7861558, -84.4069317, 33.786157499999995], &quot;geometry&quot;: {&quot;coordinates&quot;: [[-84.4070192, 33.786157499999995], [-84.4069317, 33.7861558]], &quot;type&quot;: &quot;LineString&quot;}, &quot;id&quot;: &quot;136&quot;, &quot;properties&quot;: {}, &quot;type&quot;: &quot;Feature&quot;}, {&quot;bbox&quot;: [-84.4073144, 33.786157499999995, -84.4070192, 33.786160599999995], &quot;geometry&quot;: {&quot;coordinates&quot;: [[-84.4070192, 33.786157499999995], [-84.4073144, 33.786160599999995]], &quot;type&quot;: &quot;LineString&quot;}, &quot;id&quot;: &quot;137&quot;, &quot;properties&quot;: {}, &quot;type&quot;: &quot;Feature&quot;}, {&quot;bbox&quot;: [-84.40731480000001, 33.786160599999995, -84.4073144, 33.786234300000004], &quot;geometry&quot;: {&quot;coordinates&quot;: [[-84.40731480000001, 33.786234300000004], [-84.4073144, 33.786160599999995]], &quot;type&quot;: &quot;LineString&quot;}, &quot;id&quot;: &quot;138&quot;, &quot;properties&quot;: {}, &quot;type&quot;: &quot;Feature&quot;}, {&quot;bbox&quot;: [-84.40731480000001, 33.786234300000004, -84.4073138, 33.78631399999999], &quot;geometry&quot;: {&quot;coordinates&quot;: [[-84.4073138, 33.78631399999999], [-84.40731480000001, 33.786234300000004]], &quot;type&quot;: &quot;LineString&quot;}, &quot;id&quot;: &quot;139&quot;, &quot;properties&quot;: {}, &quot;type&quot;: &quot;Feature&quot;}, {&quot;bbox&quot;: [-84.4073797, 33.7863105, -84.4073138, 33.78631399999999], &quot;geometry&quot;: {&quot;coordinates&quot;: [[-84.4073797, 33.7863105], [-84.4073138, 33.78631399999999]], &quot;type&quot;: &quot;LineString&quot;}, &quot;id&quot;: &quot;140&quot;, &quot;properties&quot;: {}, &quot;type&quot;: &quot;Feature&quot;}, {&quot;bbox&quot;: [-84.4075207, 33.7863097, -84.4073797, 33.7863105], &quot;geometry&quot;: {&quot;coordinates&quot;: [[-84.4075207, 33.7863097], [-84.4073797, 33.7863105]], &quot;type&quot;: &quot;LineString&quot;}, &quot;id&quot;: &quot;141&quot;, &quot;properties&quot;: {}, &quot;type&quot;: &quot;Feature&quot;}, {&quot;bbox&quot;: [-84.407594, 33.7863097, -84.4075207, 33.786311399999995], &quot;geometry&quot;: {&quot;coordinates&quot;: [[-84.407594, 33.786311399999995], [-84.4075207, 33.7863097]], &quot;type&quot;: &quot;LineString&quot;}, &quot;id&quot;: &quot;142&quot;, &quot;properties&quot;: {}, &quot;type&quot;: &quot;Feature&quot;}, {&quot;bbox&quot;: [-84.408154, 33.786311399999995, -84.407594, 33.7910626], &quot;geometry&quot;: {&quot;coordinates&quot;: [[-84.408154, 33.7910626], [-84.4081085, 33.791040499999994], [-84.4080907, 33.7910119], [-84.4080807, 33.7909759], [-84.4080796, 33.790722900000006], [-84.4080427, 33.7901807], [-84.407802, 33.7888357], [-84.4076214, 33.7875435], [-84.4076037, 33.78712960000001], [-84.4075994, 33.7868685], [-84.407594, 33.786311399999995]], &quot;type&quot;: &quot;LineString&quot;}, &quot;id&quot;: &quot;143&quot;, &quot;properties&quot;: {}, &quot;type&quot;: &quot;Feature&quot;}, {&quot;bbox&quot;: [-84.408154, 33.7910626, -84.4081418, 33.7911128], &quot;geometry&quot;: {&quot;coordinates&quot;: [[-84.4081418, 33.7911128], [-84.408154, 33.7910626]], &quot;type&quot;: &quot;LineString&quot;}, &quot;id&quot;: &quot;144&quot;, &quot;properties&quot;: {}, &quot;type&quot;: &quot;Feature&quot;}, {&quot;bbox&quot;: [-84.4083297, 33.7911128, -84.4081418, 33.7911403], &quot;geometry&quot;: {&quot;coordinates&quot;: [[-84.4083297, 33.7911403], [-84.4082547, 33.791136900000005], [-84.4081769, 33.791124], [-84.4081418, 33.7911128]], &quot;type&quot;: &quot;LineString&quot;}, &quot;id&quot;: &quot;145&quot;, &quot;properties&quot;: {}, &quot;type&quot;: &quot;Feature&quot;}, {&quot;bbox&quot;: [-84.4087673, 33.791016, -84.4083297, 33.7911403], &quot;geometry&quot;: {&quot;coordinates&quot;: [[-84.4087673, 33.791016], [-84.4085062, 33.7910817], [-84.4083297, 33.7911403]], &quot;type&quot;: &quot;LineString&quot;}, &quot;id&quot;: &quot;146&quot;, &quot;properties&quot;: {}, &quot;type&quot;: &quot;Feature&quot;}, {&quot;bbox&quot;: [-84.409274, 33.79088699999999, -84.4087673, 33.791016], &quot;geometry&quot;: {&quot;coordinates&quot;: [[-84.4087673, 33.791016], [-84.409274, 33.79088699999999]], &quot;type&quot;: &quot;LineString&quot;}, &quot;id&quot;: &quot;147&quot;, &quot;properties&quot;: {}, &quot;type&quot;: &quot;Feature&quot;}, {&quot;bbox&quot;: [-84.410595, 33.79066, -84.409274, 33.79088699999999], &quot;geometry&quot;: {&quot;coordinates&quot;: [[-84.410595, 33.79066], [-84.409274, 33.79088699999999]], &quot;type&quot;: &quot;LineString&quot;}, &quot;id&quot;: &quot;148&quot;, &quot;properties&quot;: {}, &quot;type&quot;: &quot;Feature&quot;}, {&quot;bbox&quot;: [-84.41205, 33.79040899999999, -84.410595, 33.79066], &quot;geometry&quot;: {&quot;coordinates&quot;: [[-84.410595, 33.79066], [-84.4113245, 33.7905425], [-84.4119436, 33.7904327], [-84.41205, 33.79040899999999]], &quot;type&quot;: &quot;LineString&quot;}, &quot;id&quot;: &quot;149&quot;, &quot;properties&quot;: {}, &quot;type&quot;: &quot;Feature&quot;}, {&quot;bbox&quot;: [-84.4132464, 33.79040899999999, -84.41205, 33.7920064], &quot;geometry&quot;: {&quot;coordinates&quot;: [[-84.4132464, 33.7920064], [-84.412489, 33.791072], [-84.41212300000001, 33.79055399999999], [-84.41205, 33.79040899999999]], &quot;type&quot;: &quot;LineString&quot;}, &quot;id&quot;: &quot;150&quot;, &quot;properties&quot;: {}, &quot;type&quot;: &quot;Feature&quot;}, {&quot;bbox&quot;: [-84.4139471, 33.7920064, -84.4132464, 33.792934300000006], &quot;geometry&quot;: {&quot;coordinates&quot;: [[-84.4139471, 33.792934300000006], [-84.413721, 33.792611], [-84.413439, 33.79224399999999], [-84.4132464, 33.7920064]], &quot;type&quot;: &quot;LineString&quot;}, &quot;id&quot;: &quot;151&quot;, &quot;properties&quot;: {}, &quot;type&quot;: &quot;Feature&quot;}, {&quot;bbox&quot;: [-84.4140243, 33.792934300000006, -84.4139471, 33.79305070000001], &quot;geometry&quot;: {&quot;coordinates&quot;: [[-84.4139471, 33.792934300000006], [-84.413998, 33.793007], [-84.4140243, 33.79305070000001]], &quot;type&quot;: &quot;LineString&quot;}, &quot;id&quot;: &quot;152&quot;, &quot;properties&quot;: {}, &quot;type&quot;: &quot;Feature&quot;}, {&quot;bbox&quot;: [-84.414082, 33.79305070000001, -84.4140243, 33.79314639999999], &quot;geometry&quot;: {&quot;coordinates&quot;: [[-84.4140243, 33.79305070000001], [-84.414082, 33.79314639999999]], &quot;type&quot;: &quot;LineString&quot;}, &quot;id&quot;: &quot;153&quot;, &quot;properties&quot;: {}, &quot;type&quot;: &quot;Feature&quot;}, {&quot;bbox&quot;: [-84.4142551, 33.79314639999999, -84.414082, 33.793427900000005], &quot;geometry&quot;: {&quot;coordinates&quot;: [[-84.414082, 33.79314639999999], [-84.4142551, 33.793427900000005]], &quot;type&quot;: &quot;LineString&quot;}, &quot;id&quot;: &quot;154&quot;, &quot;properties&quot;: {}, &quot;type&quot;: &quot;Feature&quot;}, {&quot;bbox&quot;: [-84.4145863, 33.793427900000005, -84.4142551, 33.793946], &quot;geometry&quot;: {&quot;coordinates&quot;: [[-84.4145863, 33.793946], [-84.4142551, 33.793427900000005]], &quot;type&quot;: &quot;LineString&quot;}, &quot;id&quot;: &quot;155&quot;, &quot;properties&quot;: {}, &quot;type&quot;: &quot;Feature&quot;}, {&quot;bbox&quot;: [-84.4146811, 33.793946, -84.4145863, 33.7940943], &quot;geometry&quot;: {&quot;coordinates&quot;: [[-84.4146811, 33.7940943], [-84.4145863, 33.793946]], &quot;type&quot;: &quot;LineString&quot;}, &quot;id&quot;: &quot;156&quot;, &quot;properties&quot;: {}, &quot;type&quot;: &quot;Feature&quot;}, {&quot;bbox&quot;: [-84.414826, 33.7940943, -84.4146811, 33.794320899999995], &quot;geometry&quot;: {&quot;coordinates&quot;: [[-84.414826, 33.794320899999995], [-84.4146811, 33.7940943]], &quot;type&quot;: &quot;LineString&quot;}, &quot;id&quot;: &quot;157&quot;, &quot;properties&quot;: {}, &quot;type&quot;: &quot;Feature&quot;}, {&quot;bbox&quot;: [-84.4149459, 33.794320899999995, -84.414826, 33.7945164], &quot;geometry&quot;: {&quot;coordinates&quot;: [[-84.414826, 33.794320899999995], [-84.414835, 33.794335], [-84.4149459, 33.7945164]], &quot;type&quot;: &quot;LineString&quot;}, &quot;id&quot;: &quot;158&quot;, &quot;properties&quot;: {}, &quot;type&quot;: &quot;Feature&quot;}, {&quot;bbox&quot;: [-84.4150062, 33.7945164, -84.4149459, 33.7946149], &quot;geometry&quot;: {&quot;coordinates&quot;: [[-84.4149459, 33.7945164], [-84.4150062, 33.7946149]], &quot;type&quot;: &quot;LineString&quot;}, &quot;id&quot;: &quot;159&quot;, &quot;properties&quot;: {}, &quot;type&quot;: &quot;Feature&quot;}, {&quot;bbox&quot;: [-84.4151483, 33.7946149, -84.4150062, 33.79484719999999], &quot;geometry&quot;: {&quot;coordinates&quot;: [[-84.4150062, 33.7946149], [-84.4151483, 33.79484719999999]], &quot;type&quot;: &quot;LineString&quot;}, &quot;id&quot;: &quot;160&quot;, &quot;properties&quot;: {}, &quot;type&quot;: &quot;Feature&quot;}, {&quot;bbox&quot;: [-84.41538490000002, 33.79484719999999, -84.4151483, 33.79521590000001], &quot;geometry&quot;: {&quot;coordinates&quot;: [[-84.41538490000002, 33.79521590000001], [-84.4151483, 33.79484719999999]], &quot;type&quot;: &quot;LineString&quot;}, &quot;id&quot;: &quot;161&quot;, &quot;properties&quot;: {}, &quot;type&quot;: &quot;Feature&quot;}, {&quot;bbox&quot;: [-84.415472, 33.79521590000001, -84.41538490000002, 33.79537700000001], &quot;geometry&quot;: {&quot;coordinates&quot;: [[-84.41538490000002, 33.79521590000001], [-84.415472, 33.79537700000001]], &quot;type&quot;: &quot;LineString&quot;}, &quot;id&quot;: &quot;162&quot;, &quot;properties&quot;: {}, &quot;type&quot;: &quot;Feature&quot;}, {&quot;bbox&quot;: [-84.4156196, 33.79537700000001, -84.415472, 33.795632999999995], &quot;geometry&quot;: {&quot;coordinates&quot;: [[-84.4156196, 33.795632999999995], [-84.415472, 33.79537700000001]], &quot;type&quot;: &quot;LineString&quot;}, &quot;id&quot;: &quot;163&quot;, &quot;properties&quot;: {}, &quot;type&quot;: &quot;Feature&quot;}, {&quot;bbox&quot;: [-84.4157152, 33.795632999999995, -84.4156196, 33.7958039], &quot;geometry&quot;: {&quot;coordinates&quot;: [[-84.4156196, 33.795632999999995], [-84.415701, 33.795774], [-84.4157152, 33.7958039]], &quot;type&quot;: &quot;LineString&quot;}, &quot;id&quot;: &quot;164&quot;, &quot;properties&quot;: {}, &quot;type&quot;: &quot;Feature&quot;}, {&quot;bbox&quot;: [-84.4157414, 33.7958039, -84.4157152, 33.795859], &quot;geometry&quot;: {&quot;coordinates&quot;: [[-84.4157414, 33.795859], [-84.4157152, 33.7958039]], &quot;type&quot;: &quot;LineString&quot;}, &quot;id&quot;: &quot;165&quot;, &quot;properties&quot;: {}, &quot;type&quot;: &quot;Feature&quot;}, {&quot;bbox&quot;: [-84.415861, 33.795859, -84.4157414, 33.796134], &quot;geometry&quot;: {&quot;coordinates&quot;: [[-84.4157414, 33.795859], [-84.415786, 33.795953000000004], [-84.415861, 33.796134]], &quot;type&quot;: &quot;LineString&quot;}, &quot;id&quot;: &quot;166&quot;, &quot;properties&quot;: {}, &quot;type&quot;: &quot;Feature&quot;}, {&quot;bbox&quot;: [-84.4159873, 33.796134, -84.415861, 33.79654359999999], &quot;geometry&quot;: {&quot;coordinates&quot;: [[-84.4159873, 33.79654359999999], [-84.415943, 33.79637900000001], [-84.415861, 33.796134]], &quot;type&quot;: &quot;LineString&quot;}, &quot;id&quot;: &quot;167&quot;, &quot;properties&quot;: {}, &quot;type&quot;: &quot;Feature&quot;}, {&quot;bbox&quot;: [-84.416068, 33.79654359999999, -84.4159873, 33.79684300000001], &quot;geometry&quot;: {&quot;coordinates&quot;: [[-84.4159873, 33.79654359999999], [-84.416068, 33.79684300000001]], &quot;type&quot;: &quot;LineString&quot;}, &quot;id&quot;: &quot;168&quot;, &quot;properties&quot;: {}, &quot;type&quot;: &quot;Feature&quot;}, {&quot;bbox&quot;: [-84.416128, 33.79684300000001, -84.416068, 33.797106], &quot;geometry&quot;: {&quot;coordinates&quot;: [[-84.416128, 33.797106], [-84.416068, 33.79684300000001]], &quot;type&quot;: &quot;LineString&quot;}, &quot;id&quot;: &quot;169&quot;, &quot;properties&quot;: {}, &quot;type&quot;: &quot;Feature&quot;}, {&quot;bbox&quot;: [-84.416128, 33.797106, -84.415696, 33.797123000000006], &quot;geometry&quot;: {&quot;coordinates&quot;: [[-84.415696, 33.7971141], [-84.41601500000002, 33.797123000000006], [-84.416128, 33.797106]], &quot;type&quot;: &quot;LineString&quot;}, &quot;id&quot;: &quot;170&quot;, &quot;properties&quot;: {}, &quot;type&quot;: &quot;Feature&quot;}, {&quot;bbox&quot;: [-84.415696, 33.7971116, -84.4156074, 33.7971141], &quot;geometry&quot;: {&quot;coordinates&quot;: [[-84.415696, 33.7971141], [-84.4156074, 33.7971116]], &quot;type&quot;: &quot;LineString&quot;}, &quot;id&quot;: &quot;171&quot;, &quot;properties&quot;: {}, &quot;type&quot;: &quot;Feature&quot;}, {&quot;bbox&quot;: [-84.4156074, 33.79708, -84.414484, 33.7971116], &quot;geometry&quot;: {&quot;coordinates&quot;: [[-84.4156074, 33.7971116], [-84.414484, 33.79708]], &quot;type&quot;: &quot;LineString&quot;}, &quot;id&quot;: &quot;172&quot;, &quot;properties&quot;: {}, &quot;type&quot;: &quot;Feature&quot;}], &quot;type&quot;: &quot;FeatureCollection&quot;});\n",
       "\n",
       "        \n",
       "    \n",
       "            var marker_19c8aaf80f5ff5fe91b1a6a979a2ada9 = L.marker(\n",
       "                [33.771288000000006, -84.3873096],\n",
       "                {}\n",
       "            ).addTo(map_ae314076cb0548fe65e65126af6dd741);\n",
       "        \n",
       "    \n",
       "            var icon_ae9a83aaf80cd4fcef7daede0f26bbf3 = L.AwesomeMarkers.icon(\n",
       "                {&quot;extraClasses&quot;: &quot;fa-rotate-0&quot;, &quot;icon&quot;: &quot;play&quot;, &quot;iconColor&quot;: &quot;white&quot;, &quot;markerColor&quot;: &quot;green&quot;, &quot;prefix&quot;: &quot;fa&quot;}\n",
       "            );\n",
       "            marker_19c8aaf80f5ff5fe91b1a6a979a2ada9.setIcon(icon_ae9a83aaf80cd4fcef7daede0f26bbf3);\n",
       "        \n",
       "    \n",
       "            var marker_1b9a89b4c88c827219c6df2824e2015f = L.marker(\n",
       "                [33.797033, -84.412742],\n",
       "                {}\n",
       "            ).addTo(map_ae314076cb0548fe65e65126af6dd741);\n",
       "        \n",
       "    \n",
       "            var icon_46efff3b801468eb25d56e7f06af6afe = L.AwesomeMarkers.icon(\n",
       "                {&quot;extraClasses&quot;: &quot;fa-rotate-0&quot;, &quot;icon&quot;: &quot;stop&quot;, &quot;iconColor&quot;: &quot;white&quot;, &quot;markerColor&quot;: &quot;red&quot;, &quot;prefix&quot;: &quot;fa&quot;}\n",
       "            );\n",
       "            marker_1b9a89b4c88c827219c6df2824e2015f.setIcon(icon_46efff3b801468eb25d56e7f06af6afe);\n",
       "        \n",
       "    \n",
       "            var layer_control_7a1c1b0d4025161dbfe18fa7f42b3dcd = {\n",
       "                base_layers : {\n",
       "                    &quot;openstreetmap&quot; : tile_layer_8ee2bdbeb160acc2da9ee67dc5b67384,\n",
       "                },\n",
       "                overlays :  {\n",
       "                    &quot;Chosen Path&quot; : feature_group_6931c5cb247153557798252bc345f00c,\n",
       "                    &quot;Shortest Path&quot; : feature_group_cc0bf5ec0f11ae5d146e5a93c140550b,\n",
       "                    &quot;Modeled Path&quot; : feature_group_3dbbb86b933e04135f9a50ea650649a3,\n",
       "                },\n",
       "            };\n",
       "            L.control.layers(\n",
       "                layer_control_7a1c1b0d4025161dbfe18fa7f42b3dcd.base_layers,\n",
       "                layer_control_7a1c1b0d4025161dbfe18fa7f42b3dcd.overlays,\n",
       "                {&quot;autoZIndex&quot;: true, &quot;collapsed&quot;: true, &quot;position&quot;: &quot;topright&quot;}\n",
       "            ).addTo(map_ae314076cb0548fe65e65126af6dd741);\n",
       "        \n",
       "&lt;/script&gt;\" style=\"position:absolute;width:100%;height:100%;left:0;top:0;border:none !important;\" allowfullscreen webkitallowfullscreen mozallowfullscreen></iframe></div></div>"
      ],
      "text/plain": [
       "<folium.folium.Map at 0x226049993a0>"
      ]
     },
     "execution_count": 79,
     "metadata": {},
     "output_type": "execute_result"
    }
   ],
   "source": [
    "tripid = random.choice(not_good)\n",
    "tripid\n",
    "#retrieve chosen path linkids and convert them to tuple\n",
    "chosen = [tuple(row) for row in test_set[tripid]['matched_edges'].to_numpy()]\n",
    "shortest = [tuple(row) for row in test_set[tripid]['shortest_edges'].to_numpy()]\n",
    "\n",
    "#retrieve modeled path linkids\n",
    "start_node = test_set[tripid]['origin_node']\n",
    "end_node = test_set[tripid]['destination_node']\n",
    "modeled_edges = results_dict[(start_node,end_node)]['edge_list']\n",
    "\n",
    "#get geos (non-directional)\n",
    "chosen_geo = [geo_dict[linkid[0]] for linkid in chosen]\n",
    "shortest_geo = [geo_dict[linkid[0]] for linkid in shortest]\n",
    "modeled_geo = [geo_dict[linkid[0]] for linkid in modeled_edges]\n",
    "\n",
    "chosen_lines = gpd.GeoSeries(chosen_geo,crs='epsg:2240')\n",
    "shortest_lines = gpd.GeoSeries(shortest_geo,crs='epsg:2240')\n",
    "modeled_lines = gpd.GeoSeries(modeled_geo,crs='epsg:2240')\n",
    "\n",
    "stochastic_optimization.visualize_three_no_legend(chosen_lines,shortest_lines,modeled_lines)"
   ]
  },
  {
   "cell_type": "code",
   "execution_count": null,
   "metadata": {},
   "outputs": [],
   "source": []
  }
 ],
 "metadata": {
  "kernelspec": {
   "display_name": "Python 3 (ipykernel)",
   "language": "python",
   "name": "python3"
  },
  "language_info": {
   "codemirror_mode": {
    "name": "ipython",
    "version": 3
   },
   "file_extension": ".py",
   "mimetype": "text/x-python",
   "name": "python",
   "nbconvert_exporter": "python",
   "pygments_lexer": "ipython3",
   "version": "3.9.13"
  },
  "varInspector": {
   "cols": {
    "lenName": 16,
    "lenType": 16,
    "lenVar": 40
   },
   "kernels_config": {
    "python": {
     "delete_cmd_postfix": "",
     "delete_cmd_prefix": "del ",
     "library": "var_list.py",
     "varRefreshCmd": "print(var_dic_list())"
    },
    "r": {
     "delete_cmd_postfix": ") ",
     "delete_cmd_prefix": "rm(",
     "library": "var_list.r",
     "varRefreshCmd": "cat(var_dic_list()) "
    }
   },
   "types_to_exclude": [
    "module",
    "function",
    "builtin_function_or_method",
    "instance",
    "_Feature"
   ],
   "window_display": false
  }
 },
 "nbformat": 4,
 "nbformat_minor": 2
}

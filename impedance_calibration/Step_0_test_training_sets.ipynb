{
 "cells": [
  {
   "cell_type": "markdown",
   "metadata": {},
   "source": [
    "# Divide data into test/training sets"
   ]
  },
  {
   "cell_type": "code",
   "execution_count": null,
   "metadata": {},
   "outputs": [],
   "source": [
    "from pathlib import Path\n",
    "import pickle"
   ]
  },
  {
   "cell_type": "code",
   "execution_count": null,
   "metadata": {},
   "outputs": [],
   "source": [
    "import sys\n",
    "sys.path.insert(0,str(Path.cwd().parent))\n",
    "import file_structure_setup\n",
    "config = file_structure_setup.filepaths()"
   ]
  },
  {
   "cell_type": "markdown",
   "metadata": {},
   "source": [
    "# Import Matched Trace Data\n",
    "Dictionary Containing Origins and Destinations, Matches, Shortest Paths"
   ]
  },
  {
   "cell_type": "code",
   "execution_count": null,
   "metadata": {},
   "outputs": [],
   "source": [
    "#export for impedance calibration\n",
    "with (config['calibration_fp']/'ready_for_calibration.pkl').open('rb') as fh:\n",
    "    match_results = pickle.load(fh)\n",
    "with (config['cycleatl_fp']/'trips_3.pkl').open('rb') as fh:\n",
    "    reduced_trip_set = pickle.load(fh)\n",
    "filter_trips = set(reduced_trip_set['tripid'].tolist())"
   ]
  },
  {
   "cell_type": "code",
   "execution_count": null,
   "metadata": {},
   "outputs": [],
   "source": [
    "match_results = {key:item for key, item in match_results.items() if key in filter_trips}\n",
    "print(len(match_results))"
   ]
  },
  {
   "cell_type": "code",
   "execution_count": null,
   "metadata": {},
   "outputs": [],
   "source": [
    "def aggregate_trips_to_links(links,matched_traces,tripids,name):\n",
    "    if tripids is not None:\n",
    "        #use list of tripids to subset dict of matched traces\n",
    "        filtered_dict = {key:item for key,item in matched_traces.items() if key in set(tripids)}\n",
    "    else:\n",
    "        filtered_dict = matched_traces\n",
    "    #make one large series\n",
    "    list_of_links = [item['edges'] for key, item in filtered_dict.items()]\n",
    "    list_of_links = list(itertools.chain(*list_of_links))\n",
    "    series_of_links = pd.Series(list_of_links)\n",
    "    links[name] = links['linkid'].map(series_of_links.value_counts())\n",
    "    return links"
   ]
  },
  {
   "cell_type": "code",
   "execution_count": null,
   "metadata": {},
   "outputs": [],
   "source": [
    "import pandas as pd\n",
    "directed_links = pd.read_parquet(config['network_fp']/'directed_edges.parquet')\n",
    "\n",
    "aggregated_undirected_matched = { key : [] for key in directed_links['linkid'].tolist()}\n",
    "aggregated_directed_matched = { key : [] for key in list(zip(directed_links['linkid'],directed_links['reverse_link']))}"
   ]
  },
  {
   "cell_type": "code",
   "execution_count": null,
   "metadata": {},
   "outputs": [],
   "source": [
    "for tripid, item in match_results.items():\n",
    "    matched_edges = item['matched_edges']\n",
    "    matched_edges = [tuple(x) for x in matched_edges.values]\n",
    "    for edge in matched_edges:\n",
    "        aggregated_directed_matched[edge].append(tripid)\n",
    "    \n",
    "    matched_edges = item['matched_edges']\n",
    "    matched_edges = matched_edges['linkid'].tolist()\n",
    "    for edge in matched_edges:\n",
    "        aggregated_undirected_matched[edge].append(tripid)\n",
    "    \n"
   ]
  },
  {
   "cell_type": "code",
   "execution_count": null,
   "metadata": {},
   "outputs": [],
   "source": [
    "#filter to only links where trips were observed\n",
    "aggregated_directed_matched = {key:item for key, item in aggregated_directed_matched.items() if len(item) > 0}\n",
    "aggregated_undirected_matched = {key:item for key, item in aggregated_undirected_matched.items() if len(item) > 0}"
   ]
  },
  {
   "cell_type": "code",
   "execution_count": null,
   "metadata": {},
   "outputs": [],
   "source": [
    "aggregated_undirected_matched"
   ]
  },
  {
   "cell_type": "code",
   "execution_count": null,
   "metadata": {},
   "outputs": [],
   "source": [
    "import geopandas as gpd\n",
    "links = gpd.read_file(config['network_fp']/'final_network.gpkg',layer='edges')\n"
   ]
  },
  {
   "cell_type": "code",
   "execution_count": null,
   "metadata": {},
   "outputs": [],
   "source": [
    "#add basic count\n",
    "#links.set_index('linkid',inplace=True)\n",
    "links['trips'] = links['linkid'].apply(lambda x: len(aggregated_undirected_matched.get(x,[])))\n",
    "links['trips'].describe()"
   ]
  },
  {
   "cell_type": "code",
   "execution_count": null,
   "metadata": {},
   "outputs": [],
   "source": [
    "only_trips = links[links['trips']>0]\n",
    "only_trips.to_file(config['calibration_fp']/'scratch.gpkg',layer='link_counts')"
   ]
  },
  {
   "cell_type": "code",
   "execution_count": null,
   "metadata": {},
   "outputs": [],
   "source": [
    "only_trips.columns"
   ]
  },
  {
   "cell_type": "code",
   "execution_count": null,
   "metadata": {},
   "outputs": [],
   "source": [
    "only_trips.groupby('highway')[['trips','length_ft']].sum().sort_values('length_ft')"
   ]
  },
  {
   "cell_type": "markdown",
   "metadata": {},
   "source": [
    "## Split the data into training and testing set\n",
    "Think more about how to split the data"
   ]
  },
  {
   "cell_type": "code",
   "execution_count": null,
   "metadata": {},
   "outputs": [],
   "source": [
    "# import random\n",
    "# def get_random_keys(dictionary,num_keys):\n",
    "#     random_keys = set()\n",
    "#     while len(random_keys) < num_keys:\n",
    "#         random_key =  random.choice(list(dictionary.keys()))\n",
    "#         if isinstance(dictionary.get(random_key),str):\n",
    "#             continue\n",
    "#         if random_key not in random_keys:\n",
    "#             random_keys.add(random_key)\n",
    "#     return list(random_keys)"
   ]
  },
  {
   "cell_type": "code",
   "execution_count": null,
   "metadata": {},
   "outputs": [],
   "source": [
    "# total_trips = 1000\n",
    "# random_keys = get_random_keys(match_results,total_trips)\n",
    "\n",
    "# middle_point = int(total_trips/2)\n",
    "\n",
    "# train_set = random_keys[0:middle_point]\n",
    "# test_set = random_keys[middle_point:]"
   ]
  },
  {
   "cell_type": "code",
   "execution_count": null,
   "metadata": {},
   "outputs": [],
   "source": [
    "# #subset accordingly\n",
    "# train_set = {key:item for key, item in match_results.items() if key in train_set}\n",
    "# test_set = {key:item for key, item in match_results.items() if key in test_set}"
   ]
  },
  {
   "cell_type": "code",
   "execution_count": null,
   "metadata": {},
   "outputs": [],
   "source": [
    "with (config['calibration_fp']/'full_set.pkl').open('wb') as fh:\n",
    "    pickle.dump(match_results,fh)\n",
    "# with (config['calibration_fp']/'test_set.pkl').open('wb') as fh:\n",
    "#     pickle.dump(train_set,fh)\n",
    "# with (config['calibration_fp']/'train_set.pkl').open('wb') as fh:\n",
    "#     pickle.dump(test_set,fh)"
   ]
  }
 ],
 "metadata": {
  "kernelspec": {
   "display_name": "Python 3",
   "language": "python",
   "name": "python3"
  },
  "language_info": {
   "codemirror_mode": {
    "name": "ipython",
    "version": 3
   },
   "file_extension": ".py",
   "mimetype": "text/x-python",
   "name": "python",
   "nbconvert_exporter": "python",
   "pygments_lexer": "ipython3",
   "version": "3.9.13"
  }
 },
 "nbformat": 4,
 "nbformat_minor": 2
}

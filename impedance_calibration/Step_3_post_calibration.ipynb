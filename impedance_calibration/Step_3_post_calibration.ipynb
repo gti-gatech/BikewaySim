{
 "cells": [
  {
   "cell_type": "markdown",
   "metadata": {},
   "source": [
    "# Post Calibration\n",
    "1. Assess Results\n",
    "    - Recalculate results for training set using best coefficients\n",
    "    - Use best coefficients to calculate objective function for the test set\n",
    "    - Compare against the shortest path results (with and without the elevation correction) using both training and testing sets\n",
    "1. Look at where calibrated function did the best/worst job for both the training/testing set\n",
    "1. Cluster/segment results based on loss function value?\n",
    "4. Export for application in BikewaySim"
   ]
  },
  {
   "cell_type": "code",
   "execution_count": 114,
   "metadata": {},
   "outputs": [],
   "source": [
    "from pathlib import Path\n",
    "import time\n",
    "import pandas as pd\n",
    "import geopandas as gpd\n",
    "import numpy as np\n",
    "import pickle\n",
    "import networkx as nx\n",
    "from stochopy.optimize import minimize\n",
    "import stochastic_optimization\n",
    "from tqdm import tqdm\n",
    "import similaritymeasures\n",
    "import random\n",
    "import matplotlib.pyplot as plt\n",
    "\n",
    "from shapely.ops import LineString, MultiLineString\n",
    "\n",
    "import sys\n",
    "sys.path.insert(0,str(Path.cwd().parent))\n",
    "from network.src import modeling_turns\n",
    "import speedfactor"
   ]
  },
  {
   "cell_type": "code",
   "execution_count": 115,
   "metadata": {},
   "outputs": [],
   "source": [
    "import json\n",
    "config = json.load((Path.cwd().parent / 'config.json').open('rb'))\n",
    "calibration_fp = Path(config['project_directory']) / 'Calibration'\n",
    "cycleatl_fp = Path(config['project_directory']) / 'CycleAtlanta'\n",
    "matching_fp = Path(config['project_directory']) / 'Map_Matching'\n",
    "network_fp = Path(config['project_directory']) / 'Network'\n",
    "if calibration_fp.exists() == False:\n",
    "    calibration_fp.mkdir()"
   ]
  },
  {
   "cell_type": "markdown",
   "metadata": {},
   "source": [
    "# Import Calibration Results and Calibration Network"
   ]
  },
  {
   "cell_type": "code",
   "execution_count": 116,
   "metadata": {},
   "outputs": [],
   "source": [
    "with (calibration_fp/\"calibration_network.pkl\").open('rb') as fh:\n",
    "    links,turns = pickle.load(fh)\n",
    "with (calibration_fp/\"calibration_results.pkl\").open('rb') as fh:\n",
    "    calibration_results = pickle.load(fh)\n",
    "turn_G = modeling_turns.make_turn_graph(turns)"
   ]
  },
  {
   "cell_type": "code",
   "execution_count": 117,
   "metadata": {},
   "outputs": [],
   "source": [
    "#dicts for referencing certain link attributes quickly\n",
    "length_dict = dict(zip(links['linkid'],links['length_ft'])) # need this for loss function\n",
    "geo_dict = dict(zip(links['linkid'],links['geometry']))"
   ]
  },
  {
   "cell_type": "code",
   "execution_count": 118,
   "metadata": {},
   "outputs": [],
   "source": [
    "with (calibration_fp/'test_set.pkl').open('rb') as fh:\n",
    "    test_set = pickle.load(fh)\n",
    "with (calibration_fp/'train_set.pkl').open('rb') as fh:\n",
    "    train_set = pickle.load(fh)\n",
    "\n",
    "# import random\n",
    "# random_trip = 1797#random.choice(list(train_set.keys()))\n",
    "# train_set = {random_trip:train_set[random_trip]}\n",
    "\n",
    "#match the ods to the network\n",
    "train_ods = stochastic_optimization.match_results_to_ods(train_set)\n",
    "test_ods = stochastic_optimization.match_results_to_ods(test_set)"
   ]
  },
  {
   "cell_type": "code",
   "execution_count": 119,
   "metadata": {},
   "outputs": [],
   "source": [
    "\n",
    "'''\n",
    "Currently works with binary and numeric variables. Categorical data will have to be\n",
    "cast into a different format for now.\n",
    "\n",
    "Link impedance is weighted by the length of the link, turns are just the impedance associated\n",
    "'''\n",
    "\n",
    "#customize this function to change impedance formula\n",
    "#TODO streamline process of trying out new impedance functions\n",
    "def link_impedance_function(betas,beta_links,links,base_impedance_col):\n",
    "    #prevent mutating the original links gdf\n",
    "    links = links.copy()\n",
    "    \n",
    "    multiplier = np.zeros(links.shape[0])\n",
    "    \n",
    "    if len(beta_links) > 0:\n",
    "        #assumes that these effects are additive\n",
    "        #TODO i think this can be done as a matrix product\n",
    "        for key, item in beta_links.items():\n",
    "            multiplier = multiplier + (betas[key] * links[item].values)\n",
    "    \n",
    "        links['link_cost'] = links[base_impedance_col] * (1 + multiplier) #removeing the + 1 for now\n",
    "\n",
    "    else:\n",
    "        links['link_cost'] = links[base_impedance_col]\n",
    "\n",
    "    return links\n",
    "\n",
    "def turn_impedance_function(betas,beta_turns,turns):\n",
    "    #use beta coefficient to calculate turn cost\n",
    "    # base_turn_cost = 30 # from Lowry et al 2016 DOI: http://dx.doi.org/10.1016/j.tra.2016.02.003\n",
    "    # turn_costs = {\n",
    "    #     'left': betas[1] * base_turn_cost,\n",
    "    #     'right': betas[1] * base_turn_cost,\n",
    "    #     'straight': betas[1] * base_turn_cost\n",
    "    # }\n",
    "    #turns['turn_cost'] = turns['turn_type'].map(turn_costs)\n",
    "\n",
    "    turns = turns.copy()\n",
    "    turns['turn_cost'] = 0\n",
    "\n",
    "    if len(beta_turns) > 0:\n",
    "        #instance impedance\n",
    "        for key, item in beta_turns.items():\n",
    "            turns['turn_cost'] = turns['turn_cost'] + (betas[key] * turns[item])\n",
    "\n",
    "    #not sure if needed\n",
    "    turns['turn_cost'] = turns['turn_cost'].astype(float)\n",
    "\n",
    "    return turns"
   ]
  },
  {
   "cell_type": "markdown",
   "metadata": {},
   "source": [
    "# Shortest Path Comparison"
   ]
  },
  {
   "cell_type": "code",
   "execution_count": 120,
   "metadata": {},
   "outputs": [],
   "source": [
    "loss_function = stochastic_optimization.jaccard_index\n",
    "loss_function_kwargs = {'length_dict':length_dict}\n",
    "base_impedance_col = \"travel_time_min\""
   ]
  },
  {
   "cell_type": "code",
   "execution_count": 121,
   "metadata": {},
   "outputs": [
    {
     "name": "stdout",
     "output_type": "stream",
     "text": [
      "0.29911\n"
     ]
    }
   ],
   "source": [
    "#shortest path results here for comparison\n",
    "stochastic_optimization.back_to_base_impedance(base_impedance_col,links,turns,turn_G)\n",
    "results_dict = {(start_node,end_node):stochastic_optimization.impedance_path(turns,turn_G,start_node,end_node) for start_node, end_node in train_ods}\n",
    "loss_shortest_train = loss_function(train_set,results_dict,**loss_function_kwargs)\n",
    "print(loss_shortest_train.mean().round(5))\n",
    "# 0.29911"
   ]
  },
  {
   "cell_type": "code",
   "execution_count": 122,
   "metadata": {},
   "outputs": [
    {
     "data": {
      "text/plain": [
       "(array([163.,  91.,  68.,  39.,  27.,  25.,  15.,  14.,  21.,  37.]),\n",
       " array([0. , 0.1, 0.2, 0.3, 0.4, 0.5, 0.6, 0.7, 0.8, 0.9, 1. ]),\n",
       " <BarContainer object of 10 artists>)"
      ]
     },
     "execution_count": 122,
     "metadata": {},
     "output_type": "execute_result"
    },
    {
     "data": {
      "image/png": "[encoded data removed]",
      "text/plain": [
       "<Figure size 640x480 with 1 Axes>"
      ]
     },
     "metadata": {},
     "output_type": "display_data"
    }
   ],
   "source": [
    "plt.hist(loss_shortest_train)"
   ]
  },
  {
   "cell_type": "code",
   "execution_count": 123,
   "metadata": {},
   "outputs": [
    {
     "name": "stdout",
     "output_type": "stream",
     "text": [
      "0.3053\n"
     ]
    }
   ],
   "source": [
    "stochastic_optimization.back_to_base_impedance(base_impedance_col,links,turns,turn_G)\n",
    "results_dict = {(start_node,end_node):stochastic_optimization.impedance_path(turns,turn_G,start_node,end_node) for start_node, end_node in test_ods}\n",
    "loss_shortest_test = loss_function(test_set,results_dict,**loss_function_kwargs)\n",
    "print(loss_shortest_test.mean().round(5))\n",
    "# 0.3053"
   ]
  },
  {
   "cell_type": "code",
   "execution_count": 124,
   "metadata": {},
   "outputs": [
    {
     "data": {
      "text/plain": [
       "(array([161.,  92.,  53.,  41.,  43.,  21.,  18.,  20.,  20.,  31.]),\n",
       " array([0. , 0.1, 0.2, 0.3, 0.4, 0.5, 0.6, 0.7, 0.8, 0.9, 1. ]),\n",
       " <BarContainer object of 10 artists>)"
      ]
     },
     "execution_count": 124,
     "metadata": {},
     "output_type": "execute_result"
    },
    {
     "data": {
      "image/png": "[encoded data removed]",
      "text/plain": [
       "<Figure size 640x480 with 1 Axes>"
      ]
     },
     "metadata": {},
     "output_type": "display_data"
    }
   ],
   "source": [
    "plt.hist(loss_shortest_test)"
   ]
  },
  {
   "cell_type": "code",
   "execution_count": 125,
   "metadata": {},
   "outputs": [],
   "source": [
    "# #shortest path results here for comparison\n",
    "# stochastic_optimization.back_to_base_impedance(\"adj_travel_time_min\",links,turns,turn_G)\n",
    "# results_dict = {(start_node,end_node):stochastic_optimization.impedance_path(turns,turn_G,start_node,end_node) for start_node, end_node in train_ods}\n",
    "# loss_values = loss_function(train_set,results_dict,**loss_function_kwargs)\n",
    "# print(loss_values.mean().round(5))\n",
    "# # 0.31022"
   ]
  },
  {
   "cell_type": "code",
   "execution_count": 126,
   "metadata": {},
   "outputs": [],
   "source": [
    "# stochastic_optimization.back_to_base_impedance(\"adj_travel_time_min\",links,turns,turn_G)\n",
    "# results_dict = {(start_node,end_node):stochastic_optimization.impedance_path(turns,turn_G,start_node,end_node) for start_node, end_node in test_ods}\n",
    "# loss_values = loss_function(test_set,results_dict,**loss_function_kwargs)\n",
    "# print(loss_values.mean().round(5))\n",
    "# # 0.30337"
   ]
  },
  {
   "cell_type": "markdown",
   "metadata": {
    "vscode": {
     "languageId": "plaintext"
    }
   },
   "source": [
    "# Generate Shortest Paths from Calibrated Coefficients"
   ]
  },
  {
   "cell_type": "code",
   "execution_count": 127,
   "metadata": {},
   "outputs": [
    {
     "data": {
      "text/plain": [
       "[{'high_traffic_stress': 0.0661610119497198,\n",
       "  'left': 2.363333949708205,\n",
       "  'right': 2.875007430851495,\n",
       "  'signalized': 1.0893697547325298,\n",
       "  'loss': -0.31058206517829084},\n",
       " {'class_1': 0.2308230358521835,\n",
       "  'class_2': 1.2595525736224469,\n",
       "  'class_3': 1.6777012261955218,\n",
       "  'high_traffic_stress': 1.3901822221263547,\n",
       "  'loss': -0.058962721570665844},\n",
       " {'major_road_w_class_2': 0.009352298764821576,\n",
       "  'minor_road_w_class_2': 0.7192848670201979,\n",
       "  'major_road_no_facil': 1.0242846535338108,\n",
       "  'minor_road_no_facil': 1.4280555289480468,\n",
       "  'above_4': 1.5152250035581623,\n",
       "  'unsig_major_road_crossing': 0.012773275662048,\n",
       "  'loss': -0.2903367458779148,\n",
       "  'beta_links': {0: 'major_road_w_class_2',\n",
       "   1: 'minor_road_w_class_2',\n",
       "   2: 'major_road_no_facil',\n",
       "   3: 'minor_road_no_facil',\n",
       "   4: 'above_4'},\n",
       "  'beta_turns': {5: 'unsig_major_road_crossing'}},\n",
       " {'mixed_traffic_no_facil': 0.46263003513032264,\n",
       "  'mixed_traffic_w_facil': 0.12362448102583937,\n",
       "  'above_4': 1.5311721170426633,\n",
       "  'unsig_major_road_crossing': 1.3426500745160708,\n",
       "  'loss': -0.31513428304183927,\n",
       "  'beta_links': {0: 'mixed_traffic_no_facil',\n",
       "   1: 'mixed_traffic_w_facil',\n",
       "   2: 'above_4'},\n",
       "  'beta_turns': {3: 'unsig_major_road_crossing'}}]"
      ]
     },
     "execution_count": 127,
     "metadata": {},
     "output_type": "execute_result"
    }
   ],
   "source": [
    "calibration_results"
   ]
  },
  {
   "cell_type": "code",
   "execution_count": 133,
   "metadata": {},
   "outputs": [
    {
     "data": {
      "text/plain": [
       "{'mixed_traffic_no_facil': 0.46263003513032264,\n",
       " 'mixed_traffic_w_facil': 0.12362448102583937,\n",
       " 'above_4': 1.5311721170426633,\n",
       " 'unsig_major_road_crossing': 1.3426500745160708,\n",
       " 'loss': -0.31513428304183927,\n",
       " 'beta_links': {0: 'mixed_traffic_no_facil',\n",
       "  1: 'mixed_traffic_w_facil',\n",
       "  2: 'above_4'},\n",
       " 'beta_turns': {3: 'unsig_major_road_crossing'}}"
      ]
     },
     "execution_count": 133,
     "metadata": {},
     "output_type": "execute_result"
    }
   ],
   "source": [
    "calibration_result = calibration_results[-1]\n",
    "calibration_result\n"
   ]
  },
  {
   "cell_type": "code",
   "execution_count": 138,
   "metadata": {},
   "outputs": [
    {
     "data": {
      "text/plain": [
       "[0.46263003513032264,\n",
       " 0.12362448102583937,\n",
       " 1.5311721170426633,\n",
       " 1.3426500745160708]"
      ]
     },
     "execution_count": 138,
     "metadata": {},
     "output_type": "execute_result"
    }
   ],
   "source": [
    "betas = list(calibration_result.values())[0:-3]\n",
    "betas_links = calibration_result['beta_links']\n",
    "betas_turns = calibration_result['beta_turns']\n",
    "# betas_links = {\n",
    "#     0 : 'major_road_w_class_2',\n",
    "#     1 : 'minor_road_w_class_2',\n",
    "#     2 : 'major_road_no_facil',\n",
    "#     3 : 'minor_road_no_facil',\n",
    "# }\n",
    "# betas_turns = {\n",
    "#     4 : 'unsig_major_road_crossing'\n",
    "# }\n",
    "betas"
   ]
  },
  {
   "cell_type": "code",
   "execution_count": 139,
   "metadata": {},
   "outputs": [
    {
     "name": "stdout",
     "output_type": "stream",
     "text": [
      "[0.46263003513032264, 0.12362448102583937, 1.5311721170426633, 1.3426500745160708]\n"
     ]
    },
    {
     "data": {
      "text/plain": [
       "0.31513428304183927"
      ]
     },
     "execution_count": 139,
     "metadata": {},
     "output_type": "execute_result"
    }
   ],
   "source": [
    "#link_impedance_col = \"adj_travel_time_min\"\n",
    "base_impedance_col = \"travel_time_min\"\n",
    "stochastic_optimization.back_to_base_impedance(base_impedance_col,links,turns,turn_G)\n",
    "\n",
    "#update impedances\n",
    "#betas = #past_betas[np.array(past_vals).argmin()]#x.x\n",
    "print(betas)\n",
    "stochastic_optimization.impedance_update(betas,betas_links,betas_turns,\n",
    "                          link_impedance_function,\n",
    "                          base_impedance_col,\n",
    "                          turn_impedance_function,\n",
    "                          links,turns,turn_G)\n",
    "\n",
    "#find shortest path\n",
    "results_dict = {(start_node,end_node):stochastic_optimization.impedance_path(turns,turn_G,start_node,end_node) for start_node, end_node in train_ods}\n",
    "\n",
    "#calulate objective function\n",
    "loss_train = loss_function(train_set,results_dict,**loss_function_kwargs)\n",
    "loss_train.mean()"
   ]
  },
  {
   "cell_type": "code",
   "execution_count": 59,
   "metadata": {},
   "outputs": [
    {
     "data": {
      "text/plain": [
       "(array([168.,  90.,  55.,  50.,  30.,  24.,  20.,  16.,  16.,  31.]),\n",
       " array([0. , 0.1, 0.2, 0.3, 0.4, 0.5, 0.6, 0.7, 0.8, 0.9, 1. ]),\n",
       " <BarContainer object of 10 artists>)"
      ]
     },
     "execution_count": 59,
     "metadata": {},
     "output_type": "execute_result"
    },
    {
     "data": {
      "image/png": "[encoded data removed]",
      "text/plain": [
       "<Figure size 640x480 with 1 Axes>"
      ]
     },
     "metadata": {},
     "output_type": "display_data"
    }
   ],
   "source": [
    "import matplotlib.pyplot as plt\n",
    "plt.hist(loss_train)"
   ]
  },
  {
   "cell_type": "code",
   "execution_count": 140,
   "metadata": {},
   "outputs": [
    {
     "name": "stdout",
     "output_type": "stream",
     "text": [
      "[0.46263003513032264, 0.12362448102583937, 1.5311721170426633, 1.3426500745160708]\n"
     ]
    },
    {
     "data": {
      "text/plain": [
       "0.3317244178557114"
      ]
     },
     "execution_count": 140,
     "metadata": {},
     "output_type": "execute_result"
    }
   ],
   "source": [
    "#link_impedance_col = \"adj_travel_time_min\"\n",
    "base_impedance_col = \"travel_time_min\"\n",
    "stochastic_optimization.back_to_base_impedance(base_impedance_col,links,turns,turn_G)\n",
    "\n",
    "#update impedances\n",
    "#betas = #past_betas[np.array(past_vals).argmin()]#x.x\n",
    "print(betas)\n",
    "stochastic_optimization.impedance_update(betas,betas_links,betas_turns,\n",
    "                          link_impedance_function,\n",
    "                          base_impedance_col,\n",
    "                          turn_impedance_function,\n",
    "                          links,turns,turn_G)\n",
    "\n",
    "#find shortest path\n",
    "results_dict = {(start_node,end_node):stochastic_optimization.impedance_path(turns,turn_G,start_node,end_node) for start_node, end_node in test_ods}\n",
    "\n",
    "#calulate objective function\n",
    "loss_test = loss_function(test_set,results_dict,**loss_function_kwargs)\n",
    "loss_test.mean()"
   ]
  },
  {
   "cell_type": "code",
   "execution_count": 150,
   "metadata": {},
   "outputs": [],
   "source": [
    "#make dataframe and export\n",
    "testing = pd.DataFrame({'shortest':loss_shortest_test,'impedance':loss_test})\n",
    "testing.to_csv(calibration_fp/'testing_results.csv',index=False)\n",
    "training = pd.DataFrame({'shortest':loss_shortest_train,'impedance':loss_train})\n",
    "training.to_csv(calibration_fp/'training_results.csv',index=False)"
   ]
  },
  {
   "cell_type": "code",
   "execution_count": 141,
   "metadata": {},
   "outputs": [
    {
     "data": {
      "text/plain": [
       "(array([133.,  64.,  68.,  63.,  51.,  30.,  27.,  16.,  19.,  29.]),\n",
       " array([0. , 0.1, 0.2, 0.3, 0.4, 0.5, 0.6, 0.7, 0.8, 0.9, 1. ]),\n",
       " <BarContainer object of 10 artists>)"
      ]
     },
     "execution_count": 141,
     "metadata": {},
     "output_type": "execute_result"
    },
    {
     "data": {
      "image/png": "[encoded data removed]",
      "text/plain": [
       "<Figure size 640x480 with 1 Axes>"
      ]
     },
     "metadata": {},
     "output_type": "display_data"
    }
   ],
   "source": [
    "import matplotlib.pyplot as plt\n",
    "plt.hist(loss_test)"
   ]
  },
  {
   "cell_type": "markdown",
   "metadata": {
    "vscode": {
     "languageId": "plaintext"
    }
   },
   "source": [
    "# Distribution of Loss Function"
   ]
  },
  {
   "cell_type": "markdown",
   "metadata": {
    "vscode": {
     "languageId": "plaintext"
    }
   },
   "source": [
    "# Export to get route attributes"
   ]
  },
  {
   "cell_type": "markdown",
   "metadata": {},
   "source": [
    "# Using BRouter Results\n",
    "To compare across we'll use Frechet distance. Will need to use next time."
   ]
  },
  {
   "cell_type": "code",
   "execution_count": 90,
   "metadata": {},
   "outputs": [
    {
     "data": {
      "text/plain": [
       "991"
      ]
     },
     "execution_count": 90,
     "metadata": {},
     "output_type": "execute_result"
    }
   ],
   "source": [
    "with (calibration_fp/'brouter_links.txt').open('r') as file:\n",
    "    my_list = file.readlines()\n",
    "    # Remove any extra whitespace or newline characters\n",
    "    my_list = [line.strip() for line in my_list]\n",
    "len(my_list)"
   ]
  },
  {
   "cell_type": "code",
   "execution_count": 91,
   "metadata": {},
   "outputs": [],
   "source": [
    "geojsons = list((calibration_fp/'GeoJSON_Out').glob('*.geojson'))"
   ]
  },
  {
   "cell_type": "code",
   "execution_count": 75,
   "metadata": {},
   "outputs": [
    {
     "data": {
      "text/plain": [
       "989"
      ]
     },
     "execution_count": 75,
     "metadata": {},
     "output_type": "execute_result"
    }
   ],
   "source": [
    "both_ods = list(set.union(set(train_ods),set(test_ods)))\n",
    "len(both_ods)"
   ]
  },
  {
   "cell_type": "code",
   "execution_count": 77,
   "metadata": {},
   "outputs": [
    {
     "data": {
      "text/plain": [
       "991"
      ]
     },
     "execution_count": 77,
     "metadata": {},
     "output_type": "execute_result"
    }
   ],
   "source": [
    "len(geojsons)"
   ]
  },
  {
   "cell_type": "code",
   "execution_count": 113,
   "metadata": {},
   "outputs": [
    {
     "data": {
      "text/plain": [
       "{'length': 23.4,\n",
       " 'edge_list': [(1125760528, False),\n",
       "  (1125760532, False),\n",
       "  (1125760521, True),\n",
       "  (1125760514, True),\n",
       "  (1125760444, True),\n",
       "  (1125760439, True),\n",
       "  (1125760449, True),\n",
       "  (1125760450, True),\n",
       "  (1125760436, True),\n",
       "  (1125760429, True),\n",
       "  (1125760291, True),\n",
       "  (1125760274, True),\n",
       "  (1125760278, True),\n",
       "  (1125760294, True),\n",
       "  (1125760296, True),\n",
       "  (1125760300, True),\n",
       "  (1125760301, True),\n",
       "  (1125760303, True),\n",
       "  (1125760305, True),\n",
       "  (1125760307, True),\n",
       "  (1125761489, True),\n",
       "  (1125761486, True),\n",
       "  (1125761483, True),\n",
       "  (1125761480, True),\n",
       "  (1125761476, True),\n",
       "  (1125761471, True),\n",
       "  (1125760798, True),\n",
       "  (1125760790, True),\n",
       "  (1125760785, True),\n",
       "  (1125760777, True),\n",
       "  (1125760776, True),\n",
       "  (1125761359, True),\n",
       "  (1125760131, True),\n",
       "  (1125761305, True),\n",
       "  (1125760130, True),\n",
       "  (1125760148, True),\n",
       "  (1125760768, True),\n",
       "  (1125760757, True),\n",
       "  (1125760749, True),\n",
       "  (1125760739, True),\n",
       "  (1125760149, True),\n",
       "  (1125760151, True),\n",
       "  (1125759954, True),\n",
       "  (1125766052, True),\n",
       "  (1125766050, True),\n",
       "  (1125766046, True),\n",
       "  (1125759951, True),\n",
       "  (1125759944, False),\n",
       "  (1125765439, True),\n",
       "  (1125759940, True),\n",
       "  (1125765435, True),\n",
       "  (1125765433, True),\n",
       "  (1125765432, True),\n",
       "  (1125765422, True),\n",
       "  (1125765421, True),\n",
       "  (1125765419, True),\n",
       "  (1125765469, True),\n",
       "  (1125765466, True),\n",
       "  (1125765679, True),\n",
       "  (1125765677, True),\n",
       "  (1125765673, True),\n",
       "  (1125765668, True),\n",
       "  (1125765741, True),\n",
       "  (1125765472, True),\n",
       "  (1125765444, True),\n",
       "  (1125765442, False),\n",
       "  (1125765412, True),\n",
       "  (1125762542, True),\n",
       "  (1125762524, True),\n",
       "  (1125763109, True)]}"
      ]
     },
     "execution_count": 113,
     "metadata": {},
     "output_type": "execute_result"
    }
   ],
   "source": [
    "#use the results dict combined with the geo dict one\n",
    "results_dict[(68166811, 8789832117)]\n",
    "#"
   ]
  },
  {
   "cell_type": "code",
   "execution_count": 111,
   "metadata": {},
   "outputs": [],
   "source": [
    "geojson_geos = []\n",
    "for geojson in geojsons:\n",
    "    geojson_geo = gpd.read_file(geojson).to_crs(config['projected_crs_epsg'])\n",
    "    geojson_geo = np.array(geojson_geo.geometry.item().coords)\n",
    "    # geojson_geo = [(x, y) for x, y, z in geojson_geo.coords]\n",
    "    # geojson_geo = LineString(geojson_geo)\n",
    "    geojson_geos.append(geojson_geo)"
   ]
  },
  {
   "cell_type": "code",
   "execution_count": null,
   "metadata": {},
   "outputs": [],
   "source": [
    "frechet_distance = similaritymeasures.frechet_dist(chosen_coords,modeled_coords)"
   ]
  },
  {
   "cell_type": "code",
   "execution_count": 108,
   "metadata": {},
   "outputs": [
    {
     "data": {
      "text/plain": [
       "[(2235730.589335955, 1366548.8726989387),\n",
       " (2235722.0962178116, 1366557.6220891697),\n",
       " (2235712.9846300976, 1366560.9146435678),\n",
       " (2235423.044373836, 1366566.9382367416),\n",
       " (2235405.417044448, 1366567.336576209),\n",
       " (2235410.009065115, 1366739.8017288041),\n",
       " (2235414.265835654, 1366896.2572918013),\n",
       " (2235414.919899986, 1366919.907531587),\n",
       " (2235415.5796504775, 1366946.4687167078),\n",
       " (2235421.779350321, 1367164.050580961),\n",
       " (2235424.72507782, 1367271.7502139185),\n",
       " (2235431.61495892, 1367531.5396371153),\n",
       " (2235433.5934286844, 1367610.8593477465),\n",
       " (2235437.101697713, 1367851.0064598424),\n",
       " (2235437.801214831, 1367897.9442805026),\n",
       " (2235440.7077528015, 1367985.631192954),\n",
       " (2235442.400983305, 1368230.1483304019),\n",
       " (2235442.1276262277, 1368245.7952633654),\n",
       " (2235443.0948035032, 1368274.1752122461),\n",
       " (2235471.358913126, 1368274.1199729599),\n",
       " (2235519.682842508, 1368274.7533273527),\n",
       " (2235908.0892177173, 1368275.452887525),\n",
       " (2235914.7753504696, 1368275.4399170876),\n",
       " (2236145.4462260376, 1368274.6294423973),\n",
       " (2236158.8184914654, 1368274.60360425),\n",
       " (2236154.909035428, 1368296.0794698799),\n",
       " (2236154.605822905, 1368296.4439254287)]"
      ]
     },
     "execution_count": 108,
     "metadata": {},
     "output_type": "execute_result"
    }
   ],
   "source": [
    "#import and compare frechet distance across them with geodict?\n",
    "list(geojson_geo.coords)"
   ]
  }
 ],
 "metadata": {
  "kernelspec": {
   "display_name": "Python 3",
   "language": "python",
   "name": "python3"
  },
  "language_info": {
   "codemirror_mode": {
    "name": "ipython",
    "version": 3
   },
   "file_extension": ".py",
   "mimetype": "text/x-python",
   "name": "python",
   "nbconvert_exporter": "python",
   "pygments_lexer": "ipython3",
   "version": "3.9.13"
  }
 },
 "nbformat": 4,
 "nbformat_minor": 2
}

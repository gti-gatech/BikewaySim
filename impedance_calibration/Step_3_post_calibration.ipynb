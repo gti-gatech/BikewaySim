{
 "cells": [
  {
   "cell_type": "markdown",
   "metadata": {},
   "source": [
    "# Post Calibration\n",
    "1. Assess Results\n",
    "    - Recalculate results for training set using best coefficients\n",
    "    - Use best coefficients to calculate objective function for the test set\n",
    "    - Compare against the shortest path results (with and without the elevation correction) using both training and testing sets\n",
    "1. Look at where calibrated function did the best/worst job for both the training/testing set\n",
    "1. Cluster/segment results based on loss function value?\n",
    "4. Export for application in BikewaySim"
   ]
  },
  {
   "cell_type": "code",
   "execution_count": 1,
   "metadata": {},
   "outputs": [],
   "source": [
    "from pathlib import Path\n",
    "import time\n",
    "import pandas as pd\n",
    "import geopandas as gpd\n",
    "import numpy as np\n",
    "import pickle\n",
    "import networkx as nx\n",
    "from stochopy.optimize import minimize\n",
    "import stochastic_optimization\n",
    "from tqdm import tqdm\n",
    "import similaritymeasures\n",
    "import random\n",
    "import matplotlib.pyplot as plt\n",
    "\n",
    "from shapely.ops import LineString, MultiLineString\n",
    "\n",
    "import sys\n",
    "sys.path.insert(0,str(Path.cwd().parent))\n",
    "from network.src import modeling_turns\n",
    "import speedfactor"
   ]
  },
  {
   "cell_type": "code",
   "execution_count": 2,
   "metadata": {},
   "outputs": [],
   "source": [
    "import json\n",
    "config = json.load((Path.cwd().parent / 'config.json').open('rb'))\n",
    "calibration_fp = Path(config['project_directory']) / 'Calibration'\n",
    "cycleatl_fp = Path(config['project_directory']) / 'CycleAtlanta'\n",
    "matching_fp = Path(config['project_directory']) / 'Map_Matching'\n",
    "network_fp = Path(config['project_directory']) / 'Network'\n",
    "if calibration_fp.exists() == False:\n",
    "    calibration_fp.mkdir()"
   ]
  },
  {
   "cell_type": "markdown",
   "metadata": {},
   "source": [
    "# Import Calibration Results and Calibration Network"
   ]
  },
  {
   "cell_type": "code",
   "execution_count": 3,
   "metadata": {},
   "outputs": [],
   "source": [
    "with (calibration_fp/\"calibration_network.pkl\").open('rb') as fh:\n",
    "    links,turns = pickle.load(fh)\n",
    "with (calibration_fp/\"calibration_results.pkl\").open('rb') as fh:\n",
    "    calibration_results = pickle.load(fh)\n",
    "turn_G = modeling_turns.make_turn_graph(turns)"
   ]
  },
  {
   "cell_type": "code",
   "execution_count": 4,
   "metadata": {},
   "outputs": [],
   "source": [
    "#dicts for referencing certain link attributes quickly\n",
    "length_dict = dict(zip(links['linkid'],links['length_ft'])) # need this for loss function\n",
    "geo_dict = dict(zip(links['linkid'],links['geometry']))"
   ]
  },
  {
   "cell_type": "code",
   "execution_count": 5,
   "metadata": {},
   "outputs": [],
   "source": [
    "with (calibration_fp/'test_set.pkl').open('rb') as fh:\n",
    "    test_set = pickle.load(fh)\n",
    "with (calibration_fp/'train_set.pkl').open('rb') as fh:\n",
    "    train_set = pickle.load(fh)\n",
    "\n",
    "# import random\n",
    "# random_trip = 1797#random.choice(list(train_set.keys()))\n",
    "# train_set = {random_trip:train_set[random_trip]}\n",
    "\n",
    "#match the ods to the network\n",
    "train_ods = stochastic_optimization.match_results_to_ods(train_set)\n",
    "test_ods = stochastic_optimization.match_results_to_ods(test_set)"
   ]
  },
  {
   "cell_type": "code",
   "execution_count": 6,
   "metadata": {},
   "outputs": [],
   "source": [
    "\n",
    "'''\n",
    "Currently works with binary and numeric variables. Categorical data will have to be\n",
    "cast into a different format for now.\n",
    "\n",
    "Link impedance is weighted by the length of the link, turns are just the impedance associated\n",
    "'''\n",
    "\n",
    "#customize this function to change impedance formula\n",
    "#TODO streamline process of trying out new impedance functions\n",
    "def link_impedance_function(betas,beta_links,links,base_impedance_col):\n",
    "    #prevent mutating the original links gdf\n",
    "    links = links.copy()\n",
    "    \n",
    "    multiplier = np.zeros(links.shape[0])\n",
    "    \n",
    "    if len(beta_links) > 0:\n",
    "        #assumes that these effects are additive\n",
    "        #TODO i think this can be done as a matrix product\n",
    "        for key, item in beta_links.items():\n",
    "            multiplier = multiplier + (betas[key] * links[item].values)\n",
    "    \n",
    "        links['link_cost'] = links[base_impedance_col] * (1 + multiplier) #removeing the + 1 for now\n",
    "\n",
    "    else:\n",
    "        links['link_cost'] = links[base_impedance_col]\n",
    "\n",
    "    return links\n",
    "\n",
    "def turn_impedance_function(betas,beta_turns,turns):\n",
    "    #use beta coefficient to calculate turn cost\n",
    "    # base_turn_cost = 30 # from Lowry et al 2016 DOI: http://dx.doi.org/10.1016/j.tra.2016.02.003\n",
    "    # turn_costs = {\n",
    "    #     'left': betas[1] * base_turn_cost,\n",
    "    #     'right': betas[1] * base_turn_cost,\n",
    "    #     'straight': betas[1] * base_turn_cost\n",
    "    # }\n",
    "    #turns['turn_cost'] = turns['turn_type'].map(turn_costs)\n",
    "\n",
    "    turns = turns.copy()\n",
    "    turns['turn_cost'] = 0\n",
    "\n",
    "    if len(beta_turns) > 0:\n",
    "        #instance impedance\n",
    "        for key, item in beta_turns.items():\n",
    "            turns['turn_cost'] = turns['turn_cost'] + (betas[key] * turns[item])\n",
    "\n",
    "    #not sure if needed\n",
    "    turns['turn_cost'] = turns['turn_cost'].astype(float)\n",
    "\n",
    "    return turns"
   ]
  },
  {
   "cell_type": "markdown",
   "metadata": {},
   "source": [
    "# Shortest Path Comparison"
   ]
  },
  {
   "cell_type": "code",
   "execution_count": 7,
   "metadata": {},
   "outputs": [],
   "source": [
    "loss_function = stochastic_optimization.jaccard_index\n",
    "loss_function_kwargs = {'length_dict':length_dict}\n",
    "base_impedance_col = \"travel_time_min\""
   ]
  },
  {
   "cell_type": "code",
   "execution_count": 8,
   "metadata": {},
   "outputs": [
    {
     "name": "stdout",
     "output_type": "stream",
     "text": [
      "0.29911\n"
     ]
    }
   ],
   "source": [
    "#shortest path results here for comparison\n",
    "stochastic_optimization.back_to_base_impedance(base_impedance_col,links,turns,turn_G)\n",
    "results_dict = {(start_node,end_node):stochastic_optimization.impedance_path(turns,turn_G,start_node,end_node) for start_node, end_node in train_ods}\n",
    "loss_shortest_train = loss_function(train_set,results_dict,**loss_function_kwargs)\n",
    "print(loss_shortest_train.mean().round(5))\n",
    "# 0.29911"
   ]
  },
  {
   "cell_type": "code",
   "execution_count": null,
   "metadata": {},
   "outputs": [],
   "source": []
  },
  {
   "cell_type": "code",
   "execution_count": 9,
   "metadata": {},
   "outputs": [
    {
     "name": "stdout",
     "output_type": "stream",
     "text": [
      "0.3053\n"
     ]
    }
   ],
   "source": [
    "stochastic_optimization.back_to_base_impedance(base_impedance_col,links,turns,turn_G)\n",
    "results_dict = {(start_node,end_node):stochastic_optimization.impedance_path(turns,turn_G,start_node,end_node) for start_node, end_node in test_ods}\n",
    "loss_shortest_test = loss_function(test_set,results_dict,**loss_function_kwargs)\n",
    "print(loss_shortest_test.mean().round(5))\n",
    "# 0.3053"
   ]
  },
  {
   "cell_type": "code",
   "execution_count": 10,
   "metadata": {},
   "outputs": [
    {
     "data": {
      "text/plain": [
       "(array([161.,  92.,  53.,  41.,  43.,  21.,  18.,  20.,  20.,  31.]),\n",
       " array([0. , 0.1, 0.2, 0.3, 0.4, 0.5, 0.6, 0.7, 0.8, 0.9, 1. ]),\n",
       " <BarContainer object of 10 artists>)"
      ]
     },
     "execution_count": 10,
     "metadata": {},
     "output_type": "execute_result"
    },
    {
     "data": {
      "image/png": "[encoded data removed]",
      "text/plain": [
       "<Figure size 640x480 with 1 Axes>"
      ]
     },
     "metadata": {},
     "output_type": "display_data"
    }
   ],
   "source": [
    "plt.hist(loss_shortest_test)"
   ]
  },
  {
   "cell_type": "code",
   "execution_count": 11,
   "metadata": {},
   "outputs": [],
   "source": [
    "# #shortest path results here for comparison\n",
    "# stochastic_optimization.back_to_base_impedance(\"adj_travel_time_min\",links,turns,turn_G)\n",
    "# results_dict = {(start_node,end_node):stochastic_optimization.impedance_path(turns,turn_G,start_node,end_node) for start_node, end_node in train_ods}\n",
    "# loss_values = loss_function(train_set,results_dict,**loss_function_kwargs)\n",
    "# print(loss_values.mean().round(5))\n",
    "# # 0.31022"
   ]
  },
  {
   "cell_type": "code",
   "execution_count": 12,
   "metadata": {},
   "outputs": [],
   "source": [
    "# stochastic_optimization.back_to_base_impedance(\"adj_travel_time_min\",links,turns,turn_G)\n",
    "# results_dict = {(start_node,end_node):stochastic_optimization.impedance_path(turns,turn_G,start_node,end_node) for start_node, end_node in test_ods}\n",
    "# loss_values = loss_function(test_set,results_dict,**loss_function_kwargs)\n",
    "# print(loss_values.mean().round(5))\n",
    "# # 0.30337"
   ]
  },
  {
   "cell_type": "markdown",
   "metadata": {
    "vscode": {
     "languageId": "plaintext"
    }
   },
   "source": [
    "# Generate Shortest Paths from Calibrated Coefficients"
   ]
  },
  {
   "cell_type": "code",
   "execution_count": 13,
   "metadata": {},
   "outputs": [
    {
     "data": {
      "text/plain": [
       "[{'high_traffic_stress': 0.0661610119497198,\n",
       "  'left': 2.363333949708205,\n",
       "  'right': 2.875007430851495,\n",
       "  'signalized': 1.0893697547325298,\n",
       "  'loss': -0.31058206517829084},\n",
       " {'class_1': 0.2308230358521835,\n",
       "  'class_2': 1.2595525736224469,\n",
       "  'class_3': 1.6777012261955218,\n",
       "  'high_traffic_stress': 1.3901822221263547,\n",
       "  'loss': -0.058962721570665844},\n",
       " {'major_road_w_class_2': 0.009352298764821576,\n",
       "  'minor_road_w_class_2': 0.7192848670201979,\n",
       "  'major_road_no_facil': 1.0242846535338108,\n",
       "  'minor_road_no_facil': 1.4280555289480468,\n",
       "  'above_4': 1.5152250035581623,\n",
       "  'unsig_major_road_crossing': 0.012773275662048,\n",
       "  'loss': -0.2903367458779148,\n",
       "  'beta_links': {0: 'major_road_w_class_2',\n",
       "   1: 'minor_road_w_class_2',\n",
       "   2: 'major_road_no_facil',\n",
       "   3: 'minor_road_no_facil',\n",
       "   4: 'above_4'},\n",
       "  'beta_turns': {5: 'unsig_major_road_crossing'}},\n",
       " {'mixed_traffic_no_facil': 0.46263003513032264,\n",
       "  'mixed_traffic_w_facil': 0.12362448102583937,\n",
       "  'above_4': 1.5311721170426633,\n",
       "  'unsig_major_road_crossing': 1.3426500745160708,\n",
       "  'loss': -0.31513428304183927,\n",
       "  'beta_links': {0: 'mixed_traffic_no_facil',\n",
       "   1: 'mixed_traffic_w_facil',\n",
       "   2: 'above_4'},\n",
       "  'beta_turns': {3: 'unsig_major_road_crossing'}}]"
      ]
     },
     "execution_count": 13,
     "metadata": {},
     "output_type": "execute_result"
    }
   ],
   "source": [
    "calibration_results"
   ]
  },
  {
   "cell_type": "code",
   "execution_count": 14,
   "metadata": {},
   "outputs": [
    {
     "data": {
      "text/plain": [
       "{'mixed_traffic_no_facil': 0.46263003513032264,\n",
       " 'mixed_traffic_w_facil': 0.12362448102583937,\n",
       " 'above_4': 1.5311721170426633,\n",
       " 'unsig_major_road_crossing': 1.3426500745160708,\n",
       " 'loss': -0.31513428304183927,\n",
       " 'beta_links': {0: 'mixed_traffic_no_facil',\n",
       "  1: 'mixed_traffic_w_facil',\n",
       "  2: 'above_4'},\n",
       " 'beta_turns': {3: 'unsig_major_road_crossing'}}"
      ]
     },
     "execution_count": 14,
     "metadata": {},
     "output_type": "execute_result"
    }
   ],
   "source": [
    "calibration_result = calibration_results[-1]\n",
    "calibration_result\n"
   ]
  },
  {
   "cell_type": "code",
   "execution_count": 15,
   "metadata": {},
   "outputs": [
    {
     "data": {
      "text/plain": [
       "[0.46263003513032264,\n",
       " 0.12362448102583937,\n",
       " 1.5311721170426633,\n",
       " 1.3426500745160708]"
      ]
     },
     "execution_count": 15,
     "metadata": {},
     "output_type": "execute_result"
    }
   ],
   "source": [
    "betas = list(calibration_result.values())[0:-3]\n",
    "betas_links = calibration_result['beta_links']\n",
    "betas_turns = calibration_result['beta_turns']\n",
    "# betas_links = {\n",
    "#     0 : 'major_road_w_class_2',\n",
    "#     1 : 'minor_road_w_class_2',\n",
    "#     2 : 'major_road_no_facil',\n",
    "#     3 : 'minor_road_no_facil',\n",
    "# }\n",
    "# betas_turns = {\n",
    "#     4 : 'unsig_major_road_crossing'\n",
    "# }\n",
    "betas"
   ]
  },
  {
   "cell_type": "code",
   "execution_count": 16,
   "metadata": {},
   "outputs": [
    {
     "name": "stdout",
     "output_type": "stream",
     "text": [
      "[0.46263003513032264, 0.12362448102583937, 1.5311721170426633, 1.3426500745160708]\n"
     ]
    },
    {
     "data": {
      "text/plain": [
       "0.31513428304183927"
      ]
     },
     "execution_count": 16,
     "metadata": {},
     "output_type": "execute_result"
    }
   ],
   "source": [
    "#link_impedance_col = \"adj_travel_time_min\"\n",
    "base_impedance_col = \"travel_time_min\"\n",
    "stochastic_optimization.back_to_base_impedance(base_impedance_col,links,turns,turn_G)\n",
    "\n",
    "#update impedances\n",
    "#betas = #past_betas[np.array(past_vals).argmin()]#x.x\n",
    "print(betas)\n",
    "stochastic_optimization.impedance_update(betas,betas_links,betas_turns,\n",
    "                          link_impedance_function,\n",
    "                          base_impedance_col,\n",
    "                          turn_impedance_function,\n",
    "                          links,turns,turn_G)\n",
    "\n",
    "#find shortest path\n",
    "results_dict = {(start_node,end_node):stochastic_optimization.impedance_path(turns,turn_G,start_node,end_node) for start_node, end_node in train_ods}\n",
    "\n",
    "#calulate objective function\n",
    "loss_train = loss_function(train_set,results_dict,**loss_function_kwargs)\n",
    "loss_train.mean()"
   ]
  },
  {
   "cell_type": "code",
   "execution_count": 17,
   "metadata": {},
   "outputs": [
    {
     "data": {
      "text/plain": [
       "array([4.26217290e-02, 5.03563514e-01, 3.99908704e-01, 1.88000121e-02,\n",
       "       6.90454006e-01, 7.21419782e-02, 1.40919168e-01, 1.65826970e-01,\n",
       "       1.00000000e+00, 7.46157317e-01, 8.40440100e-02, 2.09710978e-01,\n",
       "       0.00000000e+00, 3.58259018e-01, 5.71818931e-02, 7.08699291e-03,\n",
       "       2.27937657e-01, 1.46945137e-01, 4.80763695e-02, 1.20489160e-01,\n",
       "       1.68555558e-01, 1.48409347e-01, 1.27419912e-01, 7.54722480e-01,\n",
       "       5.03251434e-01, 8.64934134e-01, 2.79386359e-01, 2.58005877e-01,\n",
       "       1.28435633e-01, 5.76391499e-02, 0.00000000e+00, 8.60381412e-01,\n",
       "       1.16910499e-01, 1.47436558e-01, 7.03756191e-01, 3.43617459e-01,\n",
       "       5.82283421e-01, 3.77839830e-02, 3.41193841e-01, 6.55460352e-02,\n",
       "       2.56423069e-02, 1.96353798e-01, 8.54630815e-02, 2.38359169e-02,\n",
       "       1.72011507e-01, 9.91378673e-02, 1.88612490e-02, 7.09152672e-02,\n",
       "       1.64302996e-02, 1.12751276e-01, 2.46129004e-01, 2.03125388e-01,\n",
       "       3.80230281e-01, 1.30706093e-01, 1.99352550e-01, 2.38437911e-01,\n",
       "       5.60456419e-01, 0.00000000e+00, 4.30165935e-01, 6.36610243e-01,\n",
       "       1.11786518e-02, 2.58603132e-01, 8.29985693e-03, 2.01155750e-02,\n",
       "       2.72299874e-03, 7.00095425e-02, 3.20393917e-01, 1.35679024e-01,\n",
       "       4.88941811e-01, 2.90261729e-01, 4.29770706e-02, 4.52247845e-01,\n",
       "       2.67475961e-01, 9.73272249e-01, 1.02447761e-01, 1.54528397e-01,\n",
       "       4.25441950e-01, 2.70079110e-01, 6.68662721e-02, 3.97319692e-03,\n",
       "       6.51364905e-01, 9.54909857e-01, 3.92191722e-01, 8.14317764e-01,\n",
       "       3.40009202e-01, 5.62816577e-01, 1.17090363e-01, 9.37409878e-01,\n",
       "       3.02319468e-02, 7.73867144e-02, 6.16688346e-01, 1.65029921e-02,\n",
       "       9.87582111e-01, 5.32444045e-02, 2.06511436e-01, 5.66131220e-02,\n",
       "       3.06186097e-04, 7.08717422e-01, 3.29992890e-01, 1.14603360e-02,\n",
       "       4.61462065e-02, 2.63175600e-02, 7.93783615e-01, 1.00000000e+00,\n",
       "       8.45423507e-01, 2.24639181e-01, 4.64549378e-02, 6.21673081e-02,\n",
       "       3.68909225e-02, 2.57127821e-02, 2.44489213e-01, 1.01655709e-01,\n",
       "       1.45747691e-01, 9.68847258e-01, 4.78681858e-01, 2.55501259e-01,\n",
       "       8.01194599e-01, 6.94877654e-01, 3.98236877e-01, 4.75810758e-02,\n",
       "       2.03264687e-01, 2.21724853e-01, 1.68027007e-01, 3.84917325e-01,\n",
       "       9.54454995e-01, 9.03368371e-01, 9.21473806e-02, 3.59801750e-02,\n",
       "       2.78639666e-02, 1.21396673e-01, 1.17957757e-01, 2.55271493e-01,\n",
       "       4.75091241e-01, 1.99799079e-01, 5.49728182e-01, 4.10127277e-01,\n",
       "       8.54150596e-01, 6.23817878e-02, 2.97866989e-01, 2.75639093e-01,\n",
       "       3.64819117e-01, 1.87724913e-01, 2.64699661e-01, 5.45054843e-02,\n",
       "       2.73297393e-01, 6.07637535e-02, 1.31955162e-01, 1.82803189e-01,\n",
       "       4.49000627e-02, 8.46336763e-01, 9.37652005e-01, 2.27924838e-01,\n",
       "       4.07318626e-02, 2.14994486e-01, 4.06918071e-02, 1.60488318e-01,\n",
       "       9.90875233e-01, 4.01510221e-02, 9.82454200e-01, 5.21971603e-02,\n",
       "       2.52637549e-02, 5.37238509e-01, 2.46545554e-02, 1.38906733e-03,\n",
       "       5.93692089e-01, 9.52294661e-01, 2.77260284e-01, 8.05932647e-01,\n",
       "       9.91994219e-01, 2.79347361e-01, 4.15474030e-04, 2.25958479e-01,\n",
       "       8.70060439e-01, 7.01850748e-02, 2.09058546e-01, 3.50995147e-01,\n",
       "       3.32792024e-01, 2.96663698e-01, 1.48391650e-02, 9.02413495e-01,\n",
       "       5.34316520e-01, 2.70479551e-01, 6.48111812e-02, 1.00801573e-01,\n",
       "       5.42347101e-01, 1.86505679e-01, 2.46534367e-02, 3.23325380e-01,\n",
       "       3.22065897e-01, 6.98843381e-02, 4.20480585e-01, 8.27125960e-01,\n",
       "       9.16255820e-01, 2.59818689e-03, 6.15652668e-01, 5.80781620e-01,\n",
       "       8.08067129e-03, 6.02268786e-01, 1.70846091e-01, 2.46737229e-02,\n",
       "       1.94507911e-01, 5.05257140e-02, 8.00845868e-01, 3.83626039e-02,\n",
       "       1.07296966e-01, 7.20937501e-01, 1.36067456e-01, 4.59848037e-01,\n",
       "       2.44515330e-02, 7.02376694e-01, 6.66403937e-01, 9.28512102e-01,\n",
       "       1.52726031e-01, 3.49976392e-01, 1.40611477e-03, 6.99398868e-02,\n",
       "       4.90357252e-01, 4.34562866e-03, 3.17620910e-01, 6.24000159e-01,\n",
       "       7.13199288e-02, 9.60781158e-01, 2.50959154e-01, 6.97910646e-02,\n",
       "       4.24838259e-01, 2.32180470e-02, 9.09141984e-01, 1.96743740e-01,\n",
       "       3.54336666e-01, 1.00000000e+00, 9.12581460e-01, 6.46959645e-02,\n",
       "       2.11677404e-02, 1.79617943e-01, 1.22304241e-02, 7.19027331e-01,\n",
       "       1.95205147e-01, 4.85305514e-01, 8.67867504e-02, 7.04394394e-01,\n",
       "       5.50742555e-01, 6.90572050e-02, 7.05019637e-02, 2.29145830e-01,\n",
       "       1.88929743e-01, 2.15197861e-01, 7.33840555e-02, 8.22733774e-01,\n",
       "       4.17658527e-02, 2.44687064e-01, 1.02456932e-01, 9.32439721e-01,\n",
       "       9.03777379e-01, 8.03859970e-01, 1.95806206e-01, 6.72640020e-02,\n",
       "       2.86768526e-02, 4.21409529e-04, 4.94038946e-01, 1.52122829e-01,\n",
       "       4.12583429e-02, 2.66458820e-01, 3.60825539e-02, 3.82357198e-01,\n",
       "       9.41261115e-01, 2.59608204e-01, 9.43341101e-02, 1.83388346e-01,\n",
       "       5.98169810e-01, 1.33817370e-01, 3.29536709e-01, 4.61982187e-02,\n",
       "       1.73460800e-01, 0.00000000e+00, 5.24859261e-02, 1.71427002e-01,\n",
       "       1.07593228e-01, 2.77311939e-01, 2.28164902e-01, 3.53516132e-01,\n",
       "       1.57130753e-01, 5.74986274e-03, 2.60210456e-01, 9.50480032e-01,\n",
       "       2.11720696e-01, 1.10985925e-01, 3.10813867e-01, 1.48204622e-01,\n",
       "       1.70636589e-01, 1.93051205e-01, 3.39405060e-01, 5.25194411e-01,\n",
       "       3.38755062e-01, 5.15362315e-01, 2.64386948e-02, 7.55631584e-01,\n",
       "       7.34668978e-02, 6.21021451e-01, 8.82972429e-01, 2.46783950e-02,\n",
       "       1.15995820e-01, 1.52051749e-01, 1.70742818e-01, 5.56657658e-02,\n",
       "       1.66588470e-01, 9.06765188e-02, 3.76295143e-01, 3.95304039e-02,\n",
       "       4.93549875e-02, 9.50498396e-01, 7.54298558e-01, 6.87628280e-02,\n",
       "       1.85141749e-01, 3.54535947e-01, 9.64479470e-02, 9.60174490e-02,\n",
       "       9.35333201e-01, 7.43483465e-02, 1.07588071e-01, 2.29629800e-01,\n",
       "       1.75214900e-03, 8.61275944e-01, 1.70748606e-01, 8.13155041e-02,\n",
       "       2.36920494e-02, 1.41833545e-01, 9.83526946e-02, 6.09819250e-02,\n",
       "       1.61620780e-01, 5.29092824e-02, 5.32432364e-01, 0.00000000e+00,\n",
       "       1.91580801e-01, 6.60805858e-03, 5.46606683e-02, 2.30619570e-01,\n",
       "       8.44832483e-02, 9.95217293e-02, 5.10742301e-02, 4.74214317e-01,\n",
       "       1.55299273e-01, 4.12721532e-01, 1.56345855e-01, 3.10193358e-01,\n",
       "       4.88949975e-02, 1.05938337e-01, 4.03785169e-01, 0.00000000e+00,\n",
       "       1.41316580e-01, 5.04670616e-01, 4.02670478e-02, 2.86429278e-01,\n",
       "       9.42942664e-01, 2.27139077e-02, 8.72479348e-03, 7.69289599e-02,\n",
       "       8.38446754e-01, 4.16753359e-02, 1.23318636e-01, 2.57376391e-02,\n",
       "       7.36327095e-02, 6.56412385e-02, 1.30376712e-03, 1.37610038e-01,\n",
       "       9.23953174e-02, 2.89946570e-01, 1.17962064e-01, 2.90731451e-01,\n",
       "       4.74331120e-01, 4.51430641e-01, 8.35077564e-01, 2.20676460e-01,\n",
       "       8.56805298e-01, 1.19856644e-01, 2.25821581e-01, 3.20251033e-01,\n",
       "       0.00000000e+00, 1.18774874e-01, 4.42387874e-01, 5.41938947e-04,\n",
       "       5.18440414e-01, 9.83199807e-01, 9.74546042e-01, 3.18220980e-02,\n",
       "       6.81885530e-01, 5.12335915e-01, 5.39481949e-01, 6.10806549e-01,\n",
       "       9.45256880e-01, 4.41947130e-01, 8.55584016e-02, 2.87077206e-01,\n",
       "       4.80302072e-01, 9.80475836e-02, 4.83408524e-02, 3.95466398e-01,\n",
       "       7.57606806e-01, 1.31762603e-01, 7.79686100e-01, 3.45509353e-01,\n",
       "       2.45862292e-01, 2.22398188e-01, 6.80341030e-01, 6.18453352e-03,\n",
       "       3.76822330e-02, 1.00000000e+00, 2.58379422e-01, 4.51094329e-01,\n",
       "       1.33337537e-01, 9.12551722e-01, 5.02600011e-01, 4.84249586e-02,\n",
       "       1.67824471e-01, 7.52953745e-04, 5.64997604e-02, 3.37231045e-01,\n",
       "       0.00000000e+00, 9.64313286e-02, 3.62042676e-02, 1.06048013e-01,\n",
       "       3.26028119e-01, 2.55674840e-01, 4.02156861e-02, 1.76424410e-02,\n",
       "       5.90057998e-02, 5.10597103e-02, 1.36504878e-01, 1.76872084e-02,\n",
       "       1.50980497e-01, 1.57716270e-01, 1.07660862e-02, 6.23816887e-01,\n",
       "       1.60165613e-01, 2.03846215e-01, 1.60362893e-01, 5.55821926e-01,\n",
       "       2.82042663e-01, 2.25792020e-01, 2.92357673e-01, 7.41003080e-04,\n",
       "       9.16170843e-01, 2.78422809e-01, 2.44091036e-01, 3.77153949e-01,\n",
       "       7.08875813e-02, 1.25514994e-01, 4.25086124e-01, 2.08182250e-01,\n",
       "       4.08518817e-01, 7.87660664e-03, 3.55900413e-02, 9.20948526e-02,\n",
       "       1.40407641e-01, 1.18032571e-02, 7.73955434e-02, 2.80205239e-01,\n",
       "       1.91340723e-01, 2.97519893e-01, 3.25494405e-01, 9.44226046e-01,\n",
       "       9.67469031e-01, 4.30783286e-01, 2.78416342e-01, 2.93998939e-01,\n",
       "       1.77463612e-01, 9.90451117e-01, 9.09462833e-02, 3.50702222e-01,\n",
       "       2.42044537e-01, 1.78130568e-01, 1.68488078e-01, 1.17991592e-01,\n",
       "       4.16732014e-01, 5.44755622e-01, 1.77781038e-01, 8.28470033e-01,\n",
       "       4.34078148e-01, 8.00501697e-02, 1.14091390e-02, 8.21599044e-01,\n",
       "       2.04144175e-01, 3.38735711e-01, 2.82477175e-02, 6.56691777e-02,\n",
       "       6.23105185e-01, 1.85938073e-01, 7.30150054e-01, 1.18179927e-01,\n",
       "       5.51122584e-01, 2.21073753e-01, 8.67739962e-01, 3.44045829e-01,\n",
       "       5.23906889e-01, 2.51338184e-02, 3.17755211e-01, 2.72720221e-02,\n",
       "       3.48456976e-02, 7.58899354e-03, 2.60944480e-01, 2.12161538e-01])"
      ]
     },
     "execution_count": 17,
     "metadata": {},
     "output_type": "execute_result"
    }
   ],
   "source": [
    "loss_shortest_train"
   ]
  },
  {
   "cell_type": "code",
   "execution_count": null,
   "metadata": {},
   "outputs": [],
   "source": []
  },
  {
   "cell_type": "code",
   "execution_count": 33,
   "metadata": {},
   "outputs": [
    {
     "data": {
      "image/png": "[encoded data removed]",
      "text/plain": [
       "<Figure size 1200x1200 with 1 Axes>"
      ]
     },
     "metadata": {},
     "output_type": "display_data"
    }
   ],
   "source": [
    "import pandas as pd\n",
    "loss_data = pd.DataFrame({'loss_shortest_train':loss_shortest_train,'loss_train':loss_train})\n",
    "\n",
    "import matplotlib.pyplot as plt\n",
    "# Create the histogram\n",
    "#ax = loss_train_df.plot.hist(stacked=True, bins=20, figsize=(12, 12), color=['grey', 'lightgrey'])\n",
    "\n",
    "# Create the histogram\n",
    "plt.figure(figsize=(12, 12))\n",
    "plt.hist(loss_data['loss_shortest_train'], bins=20, alpha=0.5, label='Shortest Path Overlap', color='grey')\n",
    "plt.hist(loss_data['loss_train'], bins=20, alpha=0.3, label='Calibrated Overlap', color='blue')\n",
    "\n",
    "# Adding labels, title, and legend with font size adjustments\n",
    "plt.xlabel('Overlap', fontsize=22)\n",
    "plt.ylabel('Frequency', fontsize=22)\n",
    "#plt.title('Histogram of Training Losses', fontsize=16)\n",
    "plt.legend(title='Training Overlap', fontsize=22, title_fontsize=22)\n",
    "\n",
    "# Adjusting the font size of the tick labels\n",
    "plt.xticks(fontsize=22)\n",
    "plt.yticks(fontsize=22)\n",
    "\n",
    "# Show the plot\n",
    "plt.show()"
   ]
  },
  {
   "cell_type": "code",
   "execution_count": 19,
   "metadata": {},
   "outputs": [
    {
     "data": {
      "text/plain": [
       "(array([148.,  70.,  69.,  49.,  44.,  39.,  17.,  21.,  18.,  25.]),\n",
       " array([0. , 0.1, 0.2, 0.3, 0.4, 0.5, 0.6, 0.7, 0.8, 0.9, 1. ]),\n",
       " <BarContainer object of 10 artists>)"
      ]
     },
     "execution_count": 19,
     "metadata": {},
     "output_type": "execute_result"
    },
    {
     "data": {
      "image/png": "[encoded data removed]",
      "text/plain": [
       "<Figure size 640x480 with 1 Axes>"
      ]
     },
     "metadata": {},
     "output_type": "display_data"
    }
   ],
   "source": [
    "import matplotlib.pyplot as plt\n",
    "plt.hist(loss_train)"
   ]
  },
  {
   "cell_type": "code",
   "execution_count": 20,
   "metadata": {},
   "outputs": [
    {
     "name": "stdout",
     "output_type": "stream",
     "text": [
      "[0.46263003513032264, 0.12362448102583937, 1.5311721170426633, 1.3426500745160708]\n"
     ]
    },
    {
     "data": {
      "text/plain": [
       "0.3317244178557114"
      ]
     },
     "execution_count": 20,
     "metadata": {},
     "output_type": "execute_result"
    }
   ],
   "source": [
    "#link_impedance_col = \"adj_travel_time_min\"\n",
    "base_impedance_col = \"travel_time_min\"\n",
    "stochastic_optimization.back_to_base_impedance(base_impedance_col,links,turns,turn_G)\n",
    "\n",
    "#update impedances\n",
    "#betas = #past_betas[np.array(past_vals).argmin()]#x.x\n",
    "print(betas)\n",
    "stochastic_optimization.impedance_update(betas,betas_links,betas_turns,\n",
    "                          link_impedance_function,\n",
    "                          base_impedance_col,\n",
    "                          turn_impedance_function,\n",
    "                          links,turns,turn_G)\n",
    "\n",
    "#find shortest path\n",
    "results_dict = {(start_node,end_node):stochastic_optimization.impedance_path(turns,turn_G,start_node,end_node) for start_node, end_node in test_ods}\n",
    "\n",
    "#calulate objective function\n",
    "loss_test = loss_function(test_set,results_dict,**loss_function_kwargs)\n",
    "loss_test.mean()"
   ]
  },
  {
   "cell_type": "code",
   "execution_count": 32,
   "metadata": {},
   "outputs": [
    {
     "data": {
      "image/png": "[encoded data removed]",
      "text/plain": [
       "<Figure size 1200x1200 with 1 Axes>"
      ]
     },
     "metadata": {},
     "output_type": "display_data"
    }
   ],
   "source": [
    "loss_data = pd.DataFrame({'loss_shortest_test':loss_shortest_test,'loss_test':loss_test})\n",
    "\n",
    "import matplotlib.pyplot as plt\n",
    "# Create the histogram\n",
    "#ax = loss_train_df.plot.hist(stacked=True, bins=20, figsize=(12, 12), color=['grey', 'lightgrey'])\n",
    "\n",
    "# Create the histogram\n",
    "plt.figure(figsize=(12, 12))\n",
    "plt.hist(loss_data['loss_shortest_test'], bins=20, alpha=0.5, label='Shortest Path Overlap', color='grey')\n",
    "plt.hist(loss_data['loss_test'], bins=20, alpha=0.3, label='Calibrated Overlap', color='blue')\n",
    "\n",
    "# Adding labels, title, and legend with font size adjustments\n",
    "plt.xlabel('Overlap', fontsize=22)\n",
    "plt.ylabel('Frequency', fontsize=22)\n",
    "#plt.title('Histogram of Training Losses', fontsize=16)\n",
    "plt.legend(title='Testing Overlap', fontsize=22, title_fontsize=22)\n",
    "\n",
    "# Adjusting the font size of the tick labels\n",
    "plt.xticks(fontsize=22)\n",
    "plt.yticks(fontsize=22)\n",
    "\n",
    "# Show the plot\n",
    "plt.show()"
   ]
  },
  {
   "cell_type": "code",
   "execution_count": null,
   "metadata": {},
   "outputs": [],
   "source": [
    "#make dataframe and export\n",
    "testing = pd.DataFrame({'shortest':loss_shortest_test,'impedance':loss_test})\n",
    "testing.to_csv(calibration_fp/'testing_results.csv',index=False)\n",
    "training = pd.DataFrame({'shortest':loss_shortest_train,'impedance':loss_train})\n",
    "training.to_csv(calibration_fp/'training_results.csv',index=False)"
   ]
  },
  {
   "cell_type": "code",
   "execution_count": null,
   "metadata": {},
   "outputs": [],
   "source": [
    "import matplotlib.pyplot as plt\n",
    "plt.hist(loss_test)"
   ]
  },
  {
   "cell_type": "markdown",
   "metadata": {
    "vscode": {
     "languageId": "plaintext"
    }
   },
   "source": [
    "# Distribution of Loss Function"
   ]
  },
  {
   "cell_type": "markdown",
   "metadata": {
    "vscode": {
     "languageId": "plaintext"
    }
   },
   "source": [
    "# Export to get route attributes"
   ]
  },
  {
   "cell_type": "markdown",
   "metadata": {},
   "source": [
    "# Using BRouter Results\n",
    "To compare across we'll use Frechet distance. Will need to use next time."
   ]
  },
  {
   "cell_type": "code",
   "execution_count": null,
   "metadata": {},
   "outputs": [],
   "source": [
    "with (calibration_fp/'brouter_links.txt').open('r') as file:\n",
    "    my_list = file.readlines()\n",
    "    # Remove any extra whitespace or newline characters\n",
    "    my_list = [line.strip() for line in my_list]\n",
    "len(my_list)"
   ]
  },
  {
   "cell_type": "code",
   "execution_count": null,
   "metadata": {},
   "outputs": [],
   "source": [
    "geojsons = list((calibration_fp/'GeoJSON_Out').glob('*.geojson'))"
   ]
  },
  {
   "cell_type": "code",
   "execution_count": null,
   "metadata": {},
   "outputs": [],
   "source": [
    "both_ods = list(set.union(set(train_ods),set(test_ods)))\n",
    "len(both_ods)"
   ]
  },
  {
   "cell_type": "code",
   "execution_count": null,
   "metadata": {},
   "outputs": [],
   "source": [
    "len(geojsons)"
   ]
  },
  {
   "cell_type": "code",
   "execution_count": null,
   "metadata": {},
   "outputs": [],
   "source": [
    "#use the results dict combined with the geo dict one\n",
    "results_dict[(68166811, 8789832117)]\n",
    "#"
   ]
  },
  {
   "cell_type": "code",
   "execution_count": null,
   "metadata": {},
   "outputs": [],
   "source": [
    "geojson_geos = []\n",
    "for geojson in geojsons:\n",
    "    geojson_geo = gpd.read_file(geojson).to_crs(config['projected_crs_epsg'])\n",
    "    geojson_geo = np.array(geojson_geo.geometry.item().coords)\n",
    "    # geojson_geo = [(x, y) for x, y, z in geojson_geo.coords]\n",
    "    # geojson_geo = LineString(geojson_geo)\n",
    "    geojson_geos.append(geojson_geo)"
   ]
  },
  {
   "cell_type": "code",
   "execution_count": null,
   "metadata": {},
   "outputs": [],
   "source": [
    "frechet_distance = similaritymeasures.frechet_dist(chosen_coords,modeled_coords)"
   ]
  },
  {
   "cell_type": "code",
   "execution_count": null,
   "metadata": {},
   "outputs": [],
   "source": [
    "#import and compare frechet distance across them with geodict?\n",
    "list(geojson_geo.coords)"
   ]
  }
 ],
 "metadata": {
  "kernelspec": {
   "display_name": "Python 3",
   "language": "python",
   "name": "python3"
  },
  "language_info": {
   "codemirror_mode": {
    "name": "ipython",
    "version": 3
   },
   "file_extension": ".py",
   "mimetype": "text/x-python",
   "name": "python",
   "nbconvert_exporter": "python",
   "pygments_lexer": "ipython3",
   "version": "3.9.13"
  }
 },
 "nbformat": 4,
 "nbformat_minor": 2
}

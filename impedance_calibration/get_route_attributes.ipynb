{
 "cells": [
  {
   "cell_type": "markdown",
   "metadata": {},
   "source": [
    "# Retrieve Route Attributes from List of Edges IDs and the Direction Travelled\n",
    "We have a list of edges or turns (depending on the settings) from Dijkstra, and we need to get the route attributes (how many turns, how much feet up, miles of bike facility, etc) to report the route characterstics of a trip."
   ]
  },
  {
   "cell_type": "code",
   "execution_count": 75,
   "metadata": {},
   "outputs": [],
   "source": [
    "from pathlib import Path\n",
    "import time\n",
    "import geopandas as gpd\n",
    "import numpy as np\n",
    "import pickle\n",
    "import networkx as nx\n",
    "from shapely.ops import MultiLineString\n",
    "import pandas as pd\n",
    "import math\n",
    "import matplotlib.pyplot as plt\n",
    "\n",
    "import summarize_route"
   ]
  },
  {
   "cell_type": "code",
   "execution_count": 76,
   "metadata": {},
   "outputs": [],
   "source": [
    "import sys\n",
    "sys.path.insert(0,str(Path.cwd().parent))\n",
    "import file_structure_setup\n",
    "config = file_structure_setup.filepaths()"
   ]
  },
  {
   "cell_type": "code",
   "execution_count": 77,
   "metadata": {},
   "outputs": [
    {
     "name": "stdout",
     "output_type": "stream",
     "text": [
      "1936 trips\n",
      "721 users\n",
      "586 users\n"
     ]
    }
   ],
   "source": [
    "with (config['calibration_fp']/'ready_for_calibration.pkl').open('rb') as fh:\n",
    "    ready_for_calibration = pickle.load(fh)\n",
    "print(len(ready_for_calibration),'trips')\n",
    "\n",
    "#new pickles\n",
    "with (config['cycleatl_fp']/'trips_4.pkl').open('rb') as fh:\n",
    "    trips = pickle.load(fh)\n",
    "trips = trips[trips['tripid'].isin(ready_for_calibration.keys())]\n",
    "\n",
    "with (config['cycleatl_fp']/'users_4.pkl').open('rb') as fh:\n",
    "    users = pickle.load(fh)\n",
    "print(users.shape[0],'users')\n",
    "users = users[users['userid'].isin(trips['userid'])]\n",
    "print(users.shape[0],'users')\n",
    "\n",
    "#recalculate the number trips\n",
    "users['matched_trips'] = users['userid'].map(trips.groupby('userid').size())"
   ]
  },
  {
   "cell_type": "markdown",
   "metadata": {},
   "source": [
    "# Barplot on trips per user"
   ]
  },
  {
   "cell_type": "code",
   "execution_count": 78,
   "metadata": {},
   "outputs": [
    {
     "name": "stdout",
     "output_type": "stream",
     "text": [
      "26 users had above 10 trips\n"
     ]
    }
   ],
   "source": [
    "print((users['matched_trips'] > 10).sum(),'users had above 10 trips')"
   ]
  },
  {
   "cell_type": "code",
   "execution_count": 79,
   "metadata": {},
   "outputs": [
    {
     "data": {
      "image/png": "[encoded data removed]",
      "text/plain": [
       "<Figure size 640x480 with 1 Axes>"
      ]
     },
     "metadata": {},
     "output_type": "display_data"
    }
   ],
   "source": [
    "\n",
    "# Count the number of users for each number of trips matched\n",
    "trip_counts = users['matched_trips'].value_counts().sort_index()\n",
    "\n",
    "# Create bar plot\n",
    "fig, ax = plt.subplots()\n",
    "ax.bar(trip_counts.index, trip_counts.values, color='grey')\n",
    "\n",
    "# Set axis labels\n",
    "ax.set_xlabel(f'Number of Trips (N={trips.shape[0]})')\n",
    "ax.set_ylabel(f'Number of Users (N={users.shape[0]})')\n",
    "\n",
    "# Set x-axis ticks every 5 bins\n",
    "#ax.set_xticks(range(trip_counts.index.min(), trip_counts.index.max() + 1, 5))\n",
    "ax.set_xticks(range(0, trip_counts.index.max() + 5, 5))\n",
    "\n",
    "plt.show()"
   ]
  },
  {
   "cell_type": "markdown",
   "metadata": {},
   "source": [
    "# User Characterstics"
   ]
  },
  {
   "cell_type": "code",
   "execution_count": 80,
   "metadata": {},
   "outputs": [],
   "source": [
    "#TODO make a more elegant solution that auto creates the table in the report\n",
    "# users['gender'].value_counts()\n",
    "# users['age'].value_counts()\n",
    "# users['income'].value_counts()\n",
    "# users['rider_type'].value_counts()"
   ]
  },
  {
   "cell_type": "markdown",
   "metadata": {},
   "source": [
    "# Trip Characterstics"
   ]
  },
  {
   "cell_type": "code",
   "execution_count": 81,
   "metadata": {},
   "outputs": [],
   "source": [
    "#trips['trip_type'].value_counts()"
   ]
  },
  {
   "cell_type": "markdown",
   "metadata": {},
   "source": [
    "# Network Import"
   ]
  },
  {
   "cell_type": "code",
   "execution_count": 82,
   "metadata": {},
   "outputs": [],
   "source": [
    "#export calibration network\n",
    "with (config['calibration_fp']/\"calibration_network.pkl\").open('rb') as fh:\n",
    "    links, turns_df = pickle.load(fh)\n",
    "\n",
    "#set index for quick retrieval\n",
    "links.set_index(['linkid','reverse_link'],inplace=True)\n",
    "turns_df.set_index(['source_linkid','source_reverse_link','target_linkid','target_reverse_link'],inplace=True)"
   ]
  },
  {
   "cell_type": "code",
   "execution_count": 83,
   "metadata": {},
   "outputs": [
    {
     "data": {
      "text/plain": [
       "Index(['A', 'B', 'link_type', 'osmid', 'highway', 'oneway', 'name', 'year',\n",
       "       'AADT', 'truck_pct', 'speed', 'length_ft', 'lanes', 'link_type_new',\n",
       "       'motorized', 'facility_fwd', 'improvement', 'ascent_ft',\n",
       "       'ascent_grade_%', 'above_4', 'mixed_traffic_no_facil',\n",
       "       'mixed_traffic_w_facil', 'travel_time_min', 'test_column', 'length_mi',\n",
       "       'geometry'],\n",
       "      dtype='object')"
      ]
     },
     "execution_count": 83,
     "metadata": {},
     "output_type": "execute_result"
    }
   ],
   "source": [
    "links.columns"
   ]
  },
  {
   "cell_type": "code",
   "execution_count": 84,
   "metadata": {},
   "outputs": [],
   "source": [
    "#other attributes\n",
    "gdot_lanes = gpd.read_file(config['network_fp']/\"conflation.gpkg\",layer='gdot_lanes')\n"
   ]
  },
  {
   "cell_type": "code",
   "execution_count": 85,
   "metadata": {},
   "outputs": [
    {
     "data": {
      "text/html": [
       "<div>\n",
       "<style scoped>\n",
       "    .dataframe tbody tr th:only-of-type {\n",
       "        vertical-align: middle;\n",
       "    }\n",
       "\n",
       "    .dataframe tbody tr th {\n",
       "        vertical-align: top;\n",
       "    }\n",
       "\n",
       "    .dataframe thead th {\n",
       "        text-align: right;\n",
       "    }\n",
       "</style>\n",
       "<table border=\"1\" class=\"dataframe\">\n",
       "  <thead>\n",
       "    <tr style=\"text-align: right;\">\n",
       "      <th></th>\n",
       "      <th>osmid</th>\n",
       "      <th>route_type</th>\n",
       "      <th>gdot_lanes</th>\n",
       "      <th>geometry</th>\n",
       "    </tr>\n",
       "  </thead>\n",
       "  <tbody>\n",
       "    <tr>\n",
       "      <th>0</th>\n",
       "      <td>9106184</td>\n",
       "      <td>Non-Interstate</td>\n",
       "      <td>1.0</td>\n",
       "      <td>MULTILINESTRING ((2212222.427 1326354.289, 221...</td>\n",
       "    </tr>\n",
       "    <tr>\n",
       "      <th>1</th>\n",
       "      <td>9106187</td>\n",
       "      <td>Non-Interstate</td>\n",
       "      <td>1.0</td>\n",
       "      <td>LINESTRING (2211492.670 1326020.809, 2211522.6...</td>\n",
       "    </tr>\n",
       "    <tr>\n",
       "      <th>2</th>\n",
       "      <td>9106206</td>\n",
       "      <td>Non-Interstate</td>\n",
       "      <td>1.0</td>\n",
       "      <td>LINESTRING (2209989.752 1323728.890, 2210008.8...</td>\n",
       "    </tr>\n",
       "    <tr>\n",
       "      <th>3</th>\n",
       "      <td>9106226</td>\n",
       "      <td>Non-Interstate</td>\n",
       "      <td>1.0</td>\n",
       "      <td>MULTILINESTRING ((2214111.451 1319254.189, 221...</td>\n",
       "    </tr>\n",
       "    <tr>\n",
       "      <th>4</th>\n",
       "      <td>9106247</td>\n",
       "      <td>Non-Interstate</td>\n",
       "      <td>1.0</td>\n",
       "      <td>MULTILINESTRING ((2212466.471 1323277.490, 221...</td>\n",
       "    </tr>\n",
       "    <tr>\n",
       "      <th>...</th>\n",
       "      <td>...</td>\n",
       "      <td>...</td>\n",
       "      <td>...</td>\n",
       "      <td>...</td>\n",
       "    </tr>\n",
       "    <tr>\n",
       "      <th>18546</th>\n",
       "      <td>1123600932</td>\n",
       "      <td>Non-Interstate</td>\n",
       "      <td>1.0</td>\n",
       "      <td>LINESTRING (2224698.425 1364502.911, 2224676.5...</td>\n",
       "    </tr>\n",
       "    <tr>\n",
       "      <th>18547</th>\n",
       "      <td>1123605049</td>\n",
       "      <td>State Route</td>\n",
       "      <td>2.0</td>\n",
       "      <td>MULTILINESTRING ((2241145.961 1371398.028, 224...</td>\n",
       "    </tr>\n",
       "    <tr>\n",
       "      <th>18548</th>\n",
       "      <td>1123605050</td>\n",
       "      <td>State Route</td>\n",
       "      <td>1.0</td>\n",
       "      <td>MULTILINESTRING ((2241108.732 1371430.988, 224...</td>\n",
       "    </tr>\n",
       "    <tr>\n",
       "      <th>18549</th>\n",
       "      <td>1124407873</td>\n",
       "      <td>Non-Interstate</td>\n",
       "      <td>2.0</td>\n",
       "      <td>LINESTRING (2226812.870 1368235.907, 2226843.8...</td>\n",
       "    </tr>\n",
       "    <tr>\n",
       "      <th>18550</th>\n",
       "      <td>1125125860</td>\n",
       "      <td>Non-Interstate</td>\n",
       "      <td>2.0</td>\n",
       "      <td>LINESTRING (2203067.058 1408797.766, 2203067.9...</td>\n",
       "    </tr>\n",
       "  </tbody>\n",
       "</table>\n",
       "<p>18551 rows × 4 columns</p>\n",
       "</div>"
      ],
      "text/plain": [
       "            osmid      route_type  gdot_lanes  \\\n",
       "0         9106184  Non-Interstate         1.0   \n",
       "1         9106187  Non-Interstate         1.0   \n",
       "2         9106206  Non-Interstate         1.0   \n",
       "3         9106226  Non-Interstate         1.0   \n",
       "4         9106247  Non-Interstate         1.0   \n",
       "...           ...             ...         ...   \n",
       "18546  1123600932  Non-Interstate         1.0   \n",
       "18547  1123605049     State Route         2.0   \n",
       "18548  1123605050     State Route         1.0   \n",
       "18549  1124407873  Non-Interstate         2.0   \n",
       "18550  1125125860  Non-Interstate         2.0   \n",
       "\n",
       "                                                geometry  \n",
       "0      MULTILINESTRING ((2212222.427 1326354.289, 221...  \n",
       "1      LINESTRING (2211492.670 1326020.809, 2211522.6...  \n",
       "2      LINESTRING (2209989.752 1323728.890, 2210008.8...  \n",
       "3      MULTILINESTRING ((2214111.451 1319254.189, 221...  \n",
       "4      MULTILINESTRING ((2212466.471 1323277.490, 221...  \n",
       "...                                                  ...  \n",
       "18546  LINESTRING (2224698.425 1364502.911, 2224676.5...  \n",
       "18547  MULTILINESTRING ((2241145.961 1371398.028, 224...  \n",
       "18548  MULTILINESTRING ((2241108.732 1371430.988, 224...  \n",
       "18549  LINESTRING (2226812.870 1368235.907, 2226843.8...  \n",
       "18550  LINESTRING (2203067.058 1408797.766, 2203067.9...  \n",
       "\n",
       "[18551 rows x 4 columns]"
      ]
     },
     "execution_count": 85,
     "metadata": {},
     "output_type": "execute_result"
    }
   ],
   "source": [
    "gdot_lanes"
   ]
  },
  {
   "cell_type": "markdown",
   "metadata": {},
   "source": [
    "# Import Map Matched and Shortest Path Data (and impedance calibrated in the future)\n",
    "This is where we want to look at the makeup of the chosen routes to know what to include in the impedance function. Because route atttributes have to be aggregated from the links, continuous variables have to be averaged or split into ordinal variables in order to represented.\n",
    "\n",
    "In most cases, it seems "
   ]
  },
  {
   "cell_type": "code",
   "execution_count": null,
   "metadata": {},
   "outputs": [],
   "source": []
  },
  {
   "cell_type": "code",
   "execution_count": 86,
   "metadata": {},
   "outputs": [],
   "source": [
    "links['length_mi'] = links['length_ft'] / 5280"
   ]
  },
  {
   "cell_type": "code",
   "execution_count": 87,
   "metadata": {},
   "outputs": [],
   "source": [
    "cols_to_summarize = {\n",
    "    'facility_fwd': \"category\",\n",
    "    'AADT': (\"threshold\",[10000]), # above 10000 since this was the value used in broach\n",
    "    'truck_pct': (\"threshold\",[5]),\n",
    "    'speed': \"category\",\n",
    "    'lanes': \"category\",\n",
    "    'above_4': \"boolean\"\n",
    "    #'mixed_traffic_no_facil': \"boolean\",\n",
    "    #'mixed_traffic_w_facil': \"boolean\"\n",
    "}"
   ]
  },
  {
   "cell_type": "code",
   "execution_count": 88,
   "metadata": {},
   "outputs": [
    {
     "data": {
      "text/html": [
       "<div>\n",
       "<style scoped>\n",
       "    .dataframe tbody tr th:only-of-type {\n",
       "        vertical-align: middle;\n",
       "    }\n",
       "\n",
       "    .dataframe tbody tr th {\n",
       "        vertical-align: top;\n",
       "    }\n",
       "\n",
       "    .dataframe thead th {\n",
       "        text-align: right;\n",
       "    }\n",
       "</style>\n",
       "<table border=\"1\" class=\"dataframe\">\n",
       "  <thead>\n",
       "    <tr style=\"text-align: right;\">\n",
       "      <th></th>\n",
       "      <th>length_mi</th>\n",
       "      <th>travel_time_min</th>\n",
       "      <th>ascent_ft</th>\n",
       "      <th>(0,4]_prop</th>\n",
       "      <th>(4,8]_prop</th>\n",
       "      <th>(8,inf]_prop</th>\n",
       "      <th>AADT_10000_prop</th>\n",
       "      <th>facility_fwd_bike lane_prop</th>\n",
       "      <th>facility_fwd_buffered bike lane_prop</th>\n",
       "      <th>facility_fwd_cycletrack_prop</th>\n",
       "      <th>...</th>\n",
       "      <th>lanes_2_prop</th>\n",
       "      <th>lanes_3_prop</th>\n",
       "      <th>left</th>\n",
       "      <th>right</th>\n",
       "      <th>signalized</th>\n",
       "      <th>speed_0_prop</th>\n",
       "      <th>speed_1_prop</th>\n",
       "      <th>straight</th>\n",
       "      <th>truck_pct_5_prop</th>\n",
       "      <th>uturn</th>\n",
       "    </tr>\n",
       "  </thead>\n",
       "  <tbody>\n",
       "    <tr>\n",
       "      <th>count</th>\n",
       "      <td>1936.000000</td>\n",
       "      <td>1936.000000</td>\n",
       "      <td>1936.000000</td>\n",
       "      <td>1936.000000</td>\n",
       "      <td>1936.000000</td>\n",
       "      <td>1936.000000</td>\n",
       "      <td>1936.000000</td>\n",
       "      <td>1936.000000</td>\n",
       "      <td>1936.000000</td>\n",
       "      <td>1936.000000</td>\n",
       "      <td>...</td>\n",
       "      <td>1936.0</td>\n",
       "      <td>1936.0</td>\n",
       "      <td>1936.000000</td>\n",
       "      <td>1936.000000</td>\n",
       "      <td>1936.000000</td>\n",
       "      <td>1936.0</td>\n",
       "      <td>1936.0</td>\n",
       "      <td>1936.000000</td>\n",
       "      <td>1936.000000</td>\n",
       "      <td>1936.000000</td>\n",
       "    </tr>\n",
       "    <tr>\n",
       "      <th>mean</th>\n",
       "      <td>3.884213</td>\n",
       "      <td>25.901383</td>\n",
       "      <td>293.833678</td>\n",
       "      <td>0.959742</td>\n",
       "      <td>0.035615</td>\n",
       "      <td>0.004267</td>\n",
       "      <td>0.227805</td>\n",
       "      <td>0.105444</td>\n",
       "      <td>0.010687</td>\n",
       "      <td>0.011720</td>\n",
       "      <td>...</td>\n",
       "      <td>0.0</td>\n",
       "      <td>0.0</td>\n",
       "      <td>1.358161</td>\n",
       "      <td>1.448864</td>\n",
       "      <td>2.605837</td>\n",
       "      <td>0.0</td>\n",
       "      <td>0.0</td>\n",
       "      <td>28.099277</td>\n",
       "      <td>0.000811</td>\n",
       "      <td>0.008006</td>\n",
       "    </tr>\n",
       "    <tr>\n",
       "      <th>std</th>\n",
       "      <td>2.026984</td>\n",
       "      <td>13.516684</td>\n",
       "      <td>172.367594</td>\n",
       "      <td>0.033458</td>\n",
       "      <td>0.031829</td>\n",
       "      <td>0.008833</td>\n",
       "      <td>0.255771</td>\n",
       "      <td>0.134438</td>\n",
       "      <td>0.048343</td>\n",
       "      <td>0.033492</td>\n",
       "      <td>...</td>\n",
       "      <td>0.0</td>\n",
       "      <td>0.0</td>\n",
       "      <td>0.761160</td>\n",
       "      <td>0.777373</td>\n",
       "      <td>1.737812</td>\n",
       "      <td>0.0</td>\n",
       "      <td>0.0</td>\n",
       "      <td>12.142527</td>\n",
       "      <td>0.007247</td>\n",
       "      <td>0.055153</td>\n",
       "    </tr>\n",
       "    <tr>\n",
       "      <th>min</th>\n",
       "      <td>0.577992</td>\n",
       "      <td>3.854267</td>\n",
       "      <td>17.000000</td>\n",
       "      <td>0.770000</td>\n",
       "      <td>0.000000</td>\n",
       "      <td>0.000000</td>\n",
       "      <td>0.000000</td>\n",
       "      <td>0.000000</td>\n",
       "      <td>0.000000</td>\n",
       "      <td>0.000000</td>\n",
       "      <td>...</td>\n",
       "      <td>0.0</td>\n",
       "      <td>0.0</td>\n",
       "      <td>0.000000</td>\n",
       "      <td>0.000000</td>\n",
       "      <td>0.000000</td>\n",
       "      <td>0.0</td>\n",
       "      <td>0.0</td>\n",
       "      <td>0.000000</td>\n",
       "      <td>0.000000</td>\n",
       "      <td>0.000000</td>\n",
       "    </tr>\n",
       "    <tr>\n",
       "      <th>25%</th>\n",
       "      <td>2.232958</td>\n",
       "      <td>14.890198</td>\n",
       "      <td>161.000000</td>\n",
       "      <td>0.940000</td>\n",
       "      <td>0.010000</td>\n",
       "      <td>0.000000</td>\n",
       "      <td>0.020000</td>\n",
       "      <td>0.000000</td>\n",
       "      <td>0.000000</td>\n",
       "      <td>0.000000</td>\n",
       "      <td>...</td>\n",
       "      <td>0.0</td>\n",
       "      <td>0.0</td>\n",
       "      <td>0.800000</td>\n",
       "      <td>0.900000</td>\n",
       "      <td>1.400000</td>\n",
       "      <td>0.0</td>\n",
       "      <td>0.0</td>\n",
       "      <td>19.300000</td>\n",
       "      <td>0.000000</td>\n",
       "      <td>0.000000</td>\n",
       "    </tr>\n",
       "    <tr>\n",
       "      <th>50%</th>\n",
       "      <td>3.480148</td>\n",
       "      <td>23.206926</td>\n",
       "      <td>261.000000</td>\n",
       "      <td>0.970000</td>\n",
       "      <td>0.030000</td>\n",
       "      <td>0.000000</td>\n",
       "      <td>0.130000</td>\n",
       "      <td>0.060000</td>\n",
       "      <td>0.000000</td>\n",
       "      <td>0.000000</td>\n",
       "      <td>...</td>\n",
       "      <td>0.0</td>\n",
       "      <td>0.0</td>\n",
       "      <td>1.300000</td>\n",
       "      <td>1.400000</td>\n",
       "      <td>2.200000</td>\n",
       "      <td>0.0</td>\n",
       "      <td>0.0</td>\n",
       "      <td>27.700000</td>\n",
       "      <td>0.000000</td>\n",
       "      <td>0.000000</td>\n",
       "    </tr>\n",
       "    <tr>\n",
       "      <th>75%</th>\n",
       "      <td>5.134436</td>\n",
       "      <td>34.238339</td>\n",
       "      <td>387.000000</td>\n",
       "      <td>0.980000</td>\n",
       "      <td>0.050000</td>\n",
       "      <td>0.010000</td>\n",
       "      <td>0.370000</td>\n",
       "      <td>0.160000</td>\n",
       "      <td>0.000000</td>\n",
       "      <td>0.000000</td>\n",
       "      <td>...</td>\n",
       "      <td>0.0</td>\n",
       "      <td>0.0</td>\n",
       "      <td>1.800000</td>\n",
       "      <td>1.900000</td>\n",
       "      <td>3.500000</td>\n",
       "      <td>0.0</td>\n",
       "      <td>0.0</td>\n",
       "      <td>36.425000</td>\n",
       "      <td>0.000000</td>\n",
       "      <td>0.000000</td>\n",
       "    </tr>\n",
       "    <tr>\n",
       "      <th>max</th>\n",
       "      <td>10.628288</td>\n",
       "      <td>70.873397</td>\n",
       "      <td>1350.000000</td>\n",
       "      <td>1.000000</td>\n",
       "      <td>0.220000</td>\n",
       "      <td>0.120000</td>\n",
       "      <td>1.000000</td>\n",
       "      <td>0.860000</td>\n",
       "      <td>0.800000</td>\n",
       "      <td>0.370000</td>\n",
       "      <td>...</td>\n",
       "      <td>0.0</td>\n",
       "      <td>0.0</td>\n",
       "      <td>5.100000</td>\n",
       "      <td>6.800000</td>\n",
       "      <td>9.900000</td>\n",
       "      <td>0.0</td>\n",
       "      <td>0.0</td>\n",
       "      <td>75.100000</td>\n",
       "      <td>0.130000</td>\n",
       "      <td>0.900000</td>\n",
       "    </tr>\n",
       "  </tbody>\n",
       "</table>\n",
       "<p>8 rows × 23 columns</p>\n",
       "</div>"
      ],
      "text/plain": [
       "         length_mi  travel_time_min    ascent_ft   (0,4]_prop   (4,8]_prop  \\\n",
       "count  1936.000000      1936.000000  1936.000000  1936.000000  1936.000000   \n",
       "mean      3.884213        25.901383   293.833678     0.959742     0.035615   \n",
       "std       2.026984        13.516684   172.367594     0.033458     0.031829   \n",
       "min       0.577992         3.854267    17.000000     0.770000     0.000000   \n",
       "25%       2.232958        14.890198   161.000000     0.940000     0.010000   \n",
       "50%       3.480148        23.206926   261.000000     0.970000     0.030000   \n",
       "75%       5.134436        34.238339   387.000000     0.980000     0.050000   \n",
       "max      10.628288        70.873397  1350.000000     1.000000     0.220000   \n",
       "\n",
       "       (8,inf]_prop  AADT_10000_prop  facility_fwd_bike lane_prop  \\\n",
       "count   1936.000000      1936.000000                  1936.000000   \n",
       "mean       0.004267         0.227805                     0.105444   \n",
       "std        0.008833         0.255771                     0.134438   \n",
       "min        0.000000         0.000000                     0.000000   \n",
       "25%        0.000000         0.020000                     0.000000   \n",
       "50%        0.000000         0.130000                     0.060000   \n",
       "75%        0.010000         0.370000                     0.160000   \n",
       "max        0.120000         1.000000                     0.860000   \n",
       "\n",
       "       facility_fwd_buffered bike lane_prop  facility_fwd_cycletrack_prop  \\\n",
       "count                           1936.000000                   1936.000000   \n",
       "mean                               0.010687                      0.011720   \n",
       "std                                0.048343                      0.033492   \n",
       "min                                0.000000                      0.000000   \n",
       "25%                                0.000000                      0.000000   \n",
       "50%                                0.000000                      0.000000   \n",
       "75%                                0.000000                      0.000000   \n",
       "max                                0.800000                      0.370000   \n",
       "\n",
       "       ...  lanes_2_prop  lanes_3_prop         left        right   signalized  \\\n",
       "count  ...        1936.0        1936.0  1936.000000  1936.000000  1936.000000   \n",
       "mean   ...           0.0           0.0     1.358161     1.448864     2.605837   \n",
       "std    ...           0.0           0.0     0.761160     0.777373     1.737812   \n",
       "min    ...           0.0           0.0     0.000000     0.000000     0.000000   \n",
       "25%    ...           0.0           0.0     0.800000     0.900000     1.400000   \n",
       "50%    ...           0.0           0.0     1.300000     1.400000     2.200000   \n",
       "75%    ...           0.0           0.0     1.800000     1.900000     3.500000   \n",
       "max    ...           0.0           0.0     5.100000     6.800000     9.900000   \n",
       "\n",
       "       speed_0_prop  speed_1_prop     straight  truck_pct_5_prop        uturn  \n",
       "count        1936.0        1936.0  1936.000000       1936.000000  1936.000000  \n",
       "mean            0.0           0.0    28.099277          0.000811     0.008006  \n",
       "std             0.0           0.0    12.142527          0.007247     0.055153  \n",
       "min             0.0           0.0     0.000000          0.000000     0.000000  \n",
       "25%             0.0           0.0    19.300000          0.000000     0.000000  \n",
       "50%             0.0           0.0    27.700000          0.000000     0.000000  \n",
       "75%             0.0           0.0    36.425000          0.000000     0.000000  \n",
       "max             0.0           0.0    75.100000          0.130000     0.900000  \n",
       "\n",
       "[8 rows x 23 columns]"
      ]
     },
     "execution_count": 88,
     "metadata": {},
     "output_type": "execute_result"
    }
   ],
   "source": [
    "matched_summary = [summarize_route.route_attributes(key,item,'matched_edges',cols_to_summarize,links,turns_df) for key, item in ready_for_calibration.items()]\n",
    "matched_summary = summarize_route.procees_summary_results(matched_summary,config['projected_crs_epsg'])\n",
    "matched_summary.drop(columns=['tripid','geometry']).describe()"
   ]
  },
  {
   "cell_type": "code",
   "execution_count": 89,
   "metadata": {},
   "outputs": [
    {
     "data": {
      "image/png": "[encoded data removed]",
      "text/plain": [
       "<Figure size 640x480 with 1 Axes>"
      ]
     },
     "metadata": {},
     "output_type": "display_data"
    }
   ],
   "source": [
    "fig, ax = plt. subplots()\n",
    "ax.hist(matched_summary['length_mi'],color='grey')\n",
    "\n",
    "# Set axis labels\n",
    "ax.set_xlabel(f'Length in Miles')\n",
    "ax.set_ylabel(f'Number of Trips (N={trips.shape[0]})')\n",
    "\n",
    "# Set x-axis ticks every 5 bins\n",
    "#ax.set_xticks(range(trip_counts.index.min(), trip_counts.index.max() + 1, 5))\n",
    "#ax.set_xticks(range(0, int(matched_summary['length_mi'].max()) + 5, 1))\n",
    "\n",
    "plt.show()\n"
   ]
  },
  {
   "cell_type": "code",
   "execution_count": 90,
   "metadata": {},
   "outputs": [
    {
     "data": {
      "text/html": [
       "<div>\n",
       "<style scoped>\n",
       "    .dataframe tbody tr th:only-of-type {\n",
       "        vertical-align: middle;\n",
       "    }\n",
       "\n",
       "    .dataframe tbody tr th {\n",
       "        vertical-align: top;\n",
       "    }\n",
       "\n",
       "    .dataframe thead th {\n",
       "        text-align: right;\n",
       "    }\n",
       "</style>\n",
       "<table border=\"1\" class=\"dataframe\">\n",
       "  <thead>\n",
       "    <tr style=\"text-align: right;\">\n",
       "      <th></th>\n",
       "      <th>length_mi</th>\n",
       "      <th>travel_time_min</th>\n",
       "      <th>ascent_ft</th>\n",
       "      <th>(0,4]_prop</th>\n",
       "      <th>(4,8]_prop</th>\n",
       "      <th>(8,inf]_prop</th>\n",
       "      <th>AADT_10000_prop</th>\n",
       "      <th>facility_fwd_bike lane_prop</th>\n",
       "      <th>facility_fwd_buffered bike lane_prop</th>\n",
       "      <th>facility_fwd_cycletrack_prop</th>\n",
       "      <th>...</th>\n",
       "      <th>lanes_2_prop</th>\n",
       "      <th>lanes_3_prop</th>\n",
       "      <th>left</th>\n",
       "      <th>right</th>\n",
       "      <th>signalized</th>\n",
       "      <th>speed_0_prop</th>\n",
       "      <th>speed_1_prop</th>\n",
       "      <th>straight</th>\n",
       "      <th>truck_pct_5_prop</th>\n",
       "      <th>uturn</th>\n",
       "    </tr>\n",
       "  </thead>\n",
       "  <tbody>\n",
       "    <tr>\n",
       "      <th>count</th>\n",
       "      <td>1936.000000</td>\n",
       "      <td>1936.000000</td>\n",
       "      <td>1936.000000</td>\n",
       "      <td>1936.000000</td>\n",
       "      <td>1936.000000</td>\n",
       "      <td>1936.000000</td>\n",
       "      <td>1936.000000</td>\n",
       "      <td>1936.000000</td>\n",
       "      <td>1936.000000</td>\n",
       "      <td>1936.000000</td>\n",
       "      <td>...</td>\n",
       "      <td>1936.0</td>\n",
       "      <td>1936.0</td>\n",
       "      <td>1936.000000</td>\n",
       "      <td>1936.000000</td>\n",
       "      <td>1936.000000</td>\n",
       "      <td>1936.0</td>\n",
       "      <td>1936.0</td>\n",
       "      <td>1936.000000</td>\n",
       "      <td>1936.000000</td>\n",
       "      <td>1936.000000</td>\n",
       "    </tr>\n",
       "    <tr>\n",
       "      <th>mean</th>\n",
       "      <td>3.092897</td>\n",
       "      <td>20.624591</td>\n",
       "      <td>234.900826</td>\n",
       "      <td>0.952510</td>\n",
       "      <td>0.042076</td>\n",
       "      <td>0.005196</td>\n",
       "      <td>0.329928</td>\n",
       "      <td>0.083786</td>\n",
       "      <td>0.013001</td>\n",
       "      <td>0.010114</td>\n",
       "      <td>...</td>\n",
       "      <td>0.0</td>\n",
       "      <td>0.0</td>\n",
       "      <td>1.425981</td>\n",
       "      <td>1.473760</td>\n",
       "      <td>3.108781</td>\n",
       "      <td>0.0</td>\n",
       "      <td>0.0</td>\n",
       "      <td>32.871023</td>\n",
       "      <td>0.001240</td>\n",
       "      <td>0.002221</td>\n",
       "    </tr>\n",
       "    <tr>\n",
       "      <th>std</th>\n",
       "      <td>1.634428</td>\n",
       "      <td>10.898980</td>\n",
       "      <td>140.795732</td>\n",
       "      <td>0.039893</td>\n",
       "      <td>0.037770</td>\n",
       "      <td>0.009907</td>\n",
       "      <td>0.270975</td>\n",
       "      <td>0.128081</td>\n",
       "      <td>0.049523</td>\n",
       "      <td>0.042340</td>\n",
       "      <td>...</td>\n",
       "      <td>0.0</td>\n",
       "      <td>0.0</td>\n",
       "      <td>0.828910</td>\n",
       "      <td>0.833791</td>\n",
       "      <td>1.745416</td>\n",
       "      <td>0.0</td>\n",
       "      <td>0.0</td>\n",
       "      <td>11.074132</td>\n",
       "      <td>0.013621</td>\n",
       "      <td>0.029644</td>\n",
       "    </tr>\n",
       "    <tr>\n",
       "      <th>min</th>\n",
       "      <td>0.330734</td>\n",
       "      <td>2.205457</td>\n",
       "      <td>11.000000</td>\n",
       "      <td>0.720000</td>\n",
       "      <td>0.000000</td>\n",
       "      <td>0.000000</td>\n",
       "      <td>0.000000</td>\n",
       "      <td>0.000000</td>\n",
       "      <td>0.000000</td>\n",
       "      <td>0.000000</td>\n",
       "      <td>...</td>\n",
       "      <td>0.0</td>\n",
       "      <td>0.0</td>\n",
       "      <td>0.000000</td>\n",
       "      <td>0.000000</td>\n",
       "      <td>0.000000</td>\n",
       "      <td>0.0</td>\n",
       "      <td>0.0</td>\n",
       "      <td>0.000000</td>\n",
       "      <td>0.000000</td>\n",
       "      <td>0.000000</td>\n",
       "    </tr>\n",
       "    <tr>\n",
       "      <th>25%</th>\n",
       "      <td>1.810800</td>\n",
       "      <td>12.075091</td>\n",
       "      <td>132.000000</td>\n",
       "      <td>0.930000</td>\n",
       "      <td>0.020000</td>\n",
       "      <td>0.000000</td>\n",
       "      <td>0.080000</td>\n",
       "      <td>0.000000</td>\n",
       "      <td>0.000000</td>\n",
       "      <td>0.000000</td>\n",
       "      <td>...</td>\n",
       "      <td>0.0</td>\n",
       "      <td>0.0</td>\n",
       "      <td>0.900000</td>\n",
       "      <td>0.900000</td>\n",
       "      <td>1.975000</td>\n",
       "      <td>0.0</td>\n",
       "      <td>0.0</td>\n",
       "      <td>25.900000</td>\n",
       "      <td>0.000000</td>\n",
       "      <td>0.000000</td>\n",
       "    </tr>\n",
       "    <tr>\n",
       "      <th>50%</th>\n",
       "      <td>2.752826</td>\n",
       "      <td>18.356873</td>\n",
       "      <td>203.000000</td>\n",
       "      <td>0.960000</td>\n",
       "      <td>0.030000</td>\n",
       "      <td>0.000000</td>\n",
       "      <td>0.290000</td>\n",
       "      <td>0.020000</td>\n",
       "      <td>0.000000</td>\n",
       "      <td>0.000000</td>\n",
       "      <td>...</td>\n",
       "      <td>0.0</td>\n",
       "      <td>0.0</td>\n",
       "      <td>1.300000</td>\n",
       "      <td>1.400000</td>\n",
       "      <td>2.800000</td>\n",
       "      <td>0.0</td>\n",
       "      <td>0.0</td>\n",
       "      <td>33.100000</td>\n",
       "      <td>0.000000</td>\n",
       "      <td>0.000000</td>\n",
       "    </tr>\n",
       "    <tr>\n",
       "      <th>75%</th>\n",
       "      <td>4.018002</td>\n",
       "      <td>26.793540</td>\n",
       "      <td>305.500000</td>\n",
       "      <td>0.980000</td>\n",
       "      <td>0.060000</td>\n",
       "      <td>0.010000</td>\n",
       "      <td>0.530000</td>\n",
       "      <td>0.120000</td>\n",
       "      <td>0.000000</td>\n",
       "      <td>0.000000</td>\n",
       "      <td>...</td>\n",
       "      <td>0.0</td>\n",
       "      <td>0.0</td>\n",
       "      <td>1.900000</td>\n",
       "      <td>1.900000</td>\n",
       "      <td>4.000000</td>\n",
       "      <td>0.0</td>\n",
       "      <td>0.0</td>\n",
       "      <td>40.600000</td>\n",
       "      <td>0.000000</td>\n",
       "      <td>0.000000</td>\n",
       "    </tr>\n",
       "    <tr>\n",
       "      <th>max</th>\n",
       "      <td>8.947385</td>\n",
       "      <td>59.664508</td>\n",
       "      <td>880.000000</td>\n",
       "      <td>1.000000</td>\n",
       "      <td>0.280000</td>\n",
       "      <td>0.070000</td>\n",
       "      <td>1.000000</td>\n",
       "      <td>0.880000</td>\n",
       "      <td>0.900000</td>\n",
       "      <td>0.540000</td>\n",
       "      <td>...</td>\n",
       "      <td>0.0</td>\n",
       "      <td>0.0</td>\n",
       "      <td>6.000000</td>\n",
       "      <td>5.900000</td>\n",
       "      <td>10.700000</td>\n",
       "      <td>0.0</td>\n",
       "      <td>0.0</td>\n",
       "      <td>63.700000</td>\n",
       "      <td>0.470000</td>\n",
       "      <td>0.600000</td>\n",
       "    </tr>\n",
       "  </tbody>\n",
       "</table>\n",
       "<p>8 rows × 23 columns</p>\n",
       "</div>"
      ],
      "text/plain": [
       "         length_mi  travel_time_min    ascent_ft   (0,4]_prop   (4,8]_prop  \\\n",
       "count  1936.000000      1936.000000  1936.000000  1936.000000  1936.000000   \n",
       "mean      3.092897        20.624591   234.900826     0.952510     0.042076   \n",
       "std       1.634428        10.898980   140.795732     0.039893     0.037770   \n",
       "min       0.330734         2.205457    11.000000     0.720000     0.000000   \n",
       "25%       1.810800        12.075091   132.000000     0.930000     0.020000   \n",
       "50%       2.752826        18.356873   203.000000     0.960000     0.030000   \n",
       "75%       4.018002        26.793540   305.500000     0.980000     0.060000   \n",
       "max       8.947385        59.664508   880.000000     1.000000     0.280000   \n",
       "\n",
       "       (8,inf]_prop  AADT_10000_prop  facility_fwd_bike lane_prop  \\\n",
       "count   1936.000000      1936.000000                  1936.000000   \n",
       "mean       0.005196         0.329928                     0.083786   \n",
       "std        0.009907         0.270975                     0.128081   \n",
       "min        0.000000         0.000000                     0.000000   \n",
       "25%        0.000000         0.080000                     0.000000   \n",
       "50%        0.000000         0.290000                     0.020000   \n",
       "75%        0.010000         0.530000                     0.120000   \n",
       "max        0.070000         1.000000                     0.880000   \n",
       "\n",
       "       facility_fwd_buffered bike lane_prop  facility_fwd_cycletrack_prop  \\\n",
       "count                           1936.000000                   1936.000000   \n",
       "mean                               0.013001                      0.010114   \n",
       "std                                0.049523                      0.042340   \n",
       "min                                0.000000                      0.000000   \n",
       "25%                                0.000000                      0.000000   \n",
       "50%                                0.000000                      0.000000   \n",
       "75%                                0.000000                      0.000000   \n",
       "max                                0.900000                      0.540000   \n",
       "\n",
       "       ...  lanes_2_prop  lanes_3_prop         left        right   signalized  \\\n",
       "count  ...        1936.0        1936.0  1936.000000  1936.000000  1936.000000   \n",
       "mean   ...           0.0           0.0     1.425981     1.473760     3.108781   \n",
       "std    ...           0.0           0.0     0.828910     0.833791     1.745416   \n",
       "min    ...           0.0           0.0     0.000000     0.000000     0.000000   \n",
       "25%    ...           0.0           0.0     0.900000     0.900000     1.975000   \n",
       "50%    ...           0.0           0.0     1.300000     1.400000     2.800000   \n",
       "75%    ...           0.0           0.0     1.900000     1.900000     4.000000   \n",
       "max    ...           0.0           0.0     6.000000     5.900000    10.700000   \n",
       "\n",
       "       speed_0_prop  speed_1_prop     straight  truck_pct_5_prop        uturn  \n",
       "count        1936.0        1936.0  1936.000000       1936.000000  1936.000000  \n",
       "mean            0.0           0.0    32.871023          0.001240     0.002221  \n",
       "std             0.0           0.0    11.074132          0.013621     0.029644  \n",
       "min             0.0           0.0     0.000000          0.000000     0.000000  \n",
       "25%             0.0           0.0    25.900000          0.000000     0.000000  \n",
       "50%             0.0           0.0    33.100000          0.000000     0.000000  \n",
       "75%             0.0           0.0    40.600000          0.000000     0.000000  \n",
       "max             0.0           0.0    63.700000          0.470000     0.600000  \n",
       "\n",
       "[8 rows x 23 columns]"
      ]
     },
     "execution_count": 90,
     "metadata": {},
     "output_type": "execute_result"
    }
   ],
   "source": [
    "shortest_summary = [summarize_route.route_attributes(key,item,'shortest_edges',cols_to_summarize,links,turns_df) for key, item in ready_for_calibration.items()]\n",
    "shortest_summary = summarize_route.procees_summary_results(shortest_summary,config['projected_crs_epsg'])\n",
    "shortest_summary.drop(columns=['tripid','geometry']).describe()"
   ]
  },
  {
   "cell_type": "markdown",
   "metadata": {},
   "source": [
    "### Export"
   ]
  },
  {
   "cell_type": "code",
   "execution_count": 91,
   "metadata": {},
   "outputs": [],
   "source": [
    "matched_summary.to_file(config['calibration_fp']/\"route_attributes.gpkg\",layer=\"matched\")\n",
    "shortest_summary.to_file(config['calibration_fp']/\"route_attributes.gpkg\",layer=\"shortest\")"
   ]
  },
  {
   "cell_type": "markdown",
   "metadata": {},
   "source": [
    "# Visualize Chosen Attributes"
   ]
  },
  {
   "cell_type": "code",
   "execution_count": 92,
   "metadata": {},
   "outputs": [],
   "source": [
    "# for making graphs\n",
    "renaming_dict = {\n",
    "    '(0,2]_prop': \"0-2% grade\", \n",
    "    '(2,4]_prop': \"2-4% grade\", \n",
    "    '(4,6]_prop': \"4-6% grade\", \n",
    "    '(6,inf)_prop': \"> 6% grade\", \n",
    "    '(4,inf)_prop': \"> 4% grade\",\n",
    "    'ascent_ft': \"Ascent (ft)\",\n",
    "    'descent_ft': \"Descent (ft)\", \n",
    "    'beltline_prop': \"On BeltLine\", \n",
    "    'facility_fwd_bike lane_prop': \"Bike Lane\",\n",
    "    'facility_fwd_buffered bike lane_prop': \"Buffered Bike Lane\", \n",
    "    'facility_fwd_cycletrack_prop': \"Cycletrack\",\n",
    "    'facility_fwd_multi use path_prop': \"Multi-Use Path\", \n",
    "    'facility_fwd_sharrow_prop': \"Sharrow or Bike Route\", \n",
    "    'left': \"Left Turn (per mi)\",\n",
    "    'length_mi': \"Length (mi)\", \n",
    "    'right': \"Right Turn (per mi)\", \n",
    "    'straight': \"Straight\", \n",
    "    'uturn': \" U-Turn (per mi)\", \n",
    "    'vehicle_traffic_prop': \"Vehicle Traffic Allowed\",\n",
    "    'lts_0_prop': \"LTS Not Rated\",\n",
    "    'lts_1_prop': \"LTS 1\",\n",
    "    'lts_2_prop': \"LTS 2\",\n",
    "    'lts_3_prop': \"LTS 3\",\n",
    "    'lts_4_prop': \"LTS 4\",\n",
    "}"
   ]
  },
  {
   "cell_type": "code",
   "execution_count": 93,
   "metadata": {},
   "outputs": [],
   "source": [
    "x_axes_limits = {\n",
    "    # '(0,2]_prop': \"0-2% grade\", \n",
    "    # '(2,4]_prop': \"2-4% grade\", \n",
    "    # '(4,6]_prop': \"4-6% grade\", \n",
    "    # '(6,inf)_prop': \"> 6% grade\", \n",
    "    '(4,inf)_prop': (-0.2,0.2),\n",
    "    'ascent_ft': (-1000,1000),\n",
    "    #'descent_ft': \"Descent (ft)\", \n",
    "    'beltline_prop': (-0.6,0.6), \n",
    "    'facility_fwd_bike lane_prop': (-0.4,0.4),\n",
    "    'facility_fwd_buffered bike lane_prop': (-0.1,0.1), \n",
    "    'facility_fwd_cycletrack_prop': (-0.5,0.5),\n",
    "    'facility_fwd_multi use path_prop': (-0.6,0.6), \n",
    "    'facility_fwd_sharrow_prop': (-0.3,0.3), \n",
    "    #'left': \"Left Turn\",\n",
    "    'length_mi': (0,6), \n",
    "    #'right': \"Right Turn\", \n",
    "    #'straight': \"Straight\", \n",
    "    #'uturn': \" U-Turn\", \n",
    "    'vehicle_traffic_true_prop': (-0.75,0.75),\n",
    "    #'lts': \"LTS\"\n",
    "}"
   ]
  },
  {
   "cell_type": "code",
   "execution_count": 94,
   "metadata": {},
   "outputs": [
    {
     "data": {
      "text/plain": [
       "Index(['A', 'B', 'link_type', 'osmid', 'highway', 'oneway', 'name', 'year',\n",
       "       'AADT', 'truck_pct', 'speed', 'length_ft', 'lanes', 'link_type_new',\n",
       "       'motorized', 'facility_fwd', 'improvement', 'ascent_ft',\n",
       "       'ascent_grade_%', 'above_4', 'mixed_traffic_no_facil',\n",
       "       'mixed_traffic_w_facil', 'travel_time_min', 'test_column', 'length_mi',\n",
       "       'geometry'],\n",
       "      dtype='object')"
      ]
     },
     "execution_count": 94,
     "metadata": {},
     "output_type": "execute_result"
    }
   ],
   "source": [
    "links.columns"
   ]
  },
  {
   "cell_type": "code",
   "execution_count": 95,
   "metadata": {},
   "outputs": [
    {
     "ename": "SyntaxError",
     "evalue": "invalid syntax (124536299.py, line 1)",
     "output_type": "error",
     "traceback": [
      "\u001b[1;36m  Cell \u001b[1;32mIn [95], line 1\u001b[1;36m\u001b[0m\n\u001b[1;33m    summarize_route.\u001b[0m\n\u001b[1;37m                    ^\u001b[0m\n\u001b[1;31mSyntaxError\u001b[0m\u001b[1;31m:\u001b[0m invalid syntax\n"
     ]
    }
   ],
   "source": [
    "summarize_route."
   ]
  },
  {
   "cell_type": "code",
   "execution_count": null,
   "metadata": {},
   "outputs": [],
   "source": [
    "#select which differences to plot and what order to plot\n",
    "# cols_to_plot = ['length_mi', 'ascent_ft',\n",
    "#        '(4,inf)_prop', 'vehicle_traffic_prop', 'beltline_prop', \n",
    "#        'facility_fwd_sharrow_prop','facility_fwd_bike lane_prop',\n",
    "#        'facility_fwd_buffered bike lane_prop',\n",
    "#        'facility_fwd_cycletrack_prop', 'facility_fwd_multi use path_prop',\n",
    "#        'lts_1_prop','lts_2_prop','lts_3_prop','lts_4_prop',\n",
    "#        'uturn', 'straight', 'right', 'left','signalized'\n",
    "# ]\n",
    "\n",
    "cols_to_plot = ['facility_fwd_bike lane_prop','lanes','speed','above_4']\n"
   ]
  },
  {
   "cell_type": "code",
   "execution_count": null,
   "metadata": {},
   "outputs": [],
   "source": [
    "import seaborn as sns\n",
    "import matplotlib.pyplot as plt\n",
    "import pandas as pd\n",
    "\n",
    "\n",
    "# Define the variables to plot\n",
    "variables = cols_to_plot\n",
    "\n",
    "# Number of variables\n",
    "num_vars = len(variables)\n",
    "\n",
    "# Determine grid size (e.g., 2x2)\n",
    "ncols = 3\n",
    "nrows = (num_vars // ncols) + (num_vars % ncols > 0)\n",
    "\n",
    "# Create subplots\n",
    "fig, axes = plt.subplots(nrows=nrows, ncols=ncols, figsize=(15, 18), constrained_layout=True)\n",
    "\n",
    "# Set the background color of the figure\n",
    "sns.set_style(\"darkgrid\")\n",
    "\n",
    "# Flatten the axes array for easier iteration\n",
    "axes = axes.flatten()\n",
    "\n",
    "# Plot each KDE plot on a separate subplot\n",
    "for ax, variable in zip(axes, variables):\n",
    "    sns.kdeplot(data=matched_summary, x=variable, fill=True, ax=ax, cut=0, bw_adjust=0.5)\n",
    "    #ax.set_title(renaming_dict.get(variable,variable))\n",
    "    ax.set_xlabel(renaming_dict.get(variable,variable))\n",
    "\n",
    "    # # Get the min and max values of the variable\n",
    "    # min_val = matched_summary[variable].min()\n",
    "    # max_val = matched_summary[variable].max()\n",
    "    \n",
    "    # # Calculate symmetric limits around zero\n",
    "    # max_abs_val = max(abs(min_val), abs(max_val))\n",
    "    # x_lim = (-max_abs_val, max_abs_val)\n",
    "\n",
    "    # # #set varaible specific limits\n",
    "    # # if x_axes_limits.get(variable,False) != False:\n",
    "    # #     x_lim = x_axes_limits.get(variable,x_lim)\n",
    "    \n",
    "    # ax.set_xlim(x_lim)\n",
    "    ax.axvline(0, color='k', linestyle='--', alpha = 0.5)  # Optional: add a vertical line at zero for reference\n",
    "\n",
    "    # Set the background color of the axes\n",
    "    #ax.set_facecolor('grey')\n",
    "    #ax.grid(True, color='white')\n",
    "\n",
    "# Remove any empty subplots\n",
    "for ax in axes[len(variables):]:\n",
    "    fig.delaxes(ax)\n",
    "\n",
    "# Show the plot\n",
    "plt.show()\n"
   ]
  },
  {
   "cell_type": "markdown",
   "metadata": {},
   "source": [
    "# Visualize Path Attribute Differences (Chosen - Shortest)\n",
    "Re-create the plots that were in Dillon's paper."
   ]
  },
  {
   "cell_type": "code",
   "execution_count": null,
   "metadata": {},
   "outputs": [],
   "source": [
    "import seaborn as sns\n",
    "import matplotlib.pyplot as plt\n",
    "import pandas as pd"
   ]
  },
  {
   "cell_type": "code",
   "execution_count": null,
   "metadata": {},
   "outputs": [],
   "source": [
    "differences = matched_summary.iloc[:,2:] - shortest_summary.iloc[:,2:]"
   ]
  },
  {
   "cell_type": "code",
   "execution_count": null,
   "metadata": {},
   "outputs": [],
   "source": [
    "import seaborn as sns\n",
    "import matplotlib.pyplot as plt\n",
    "import pandas as pd\n",
    "\n",
    "\n",
    "# Define the variables to plot\n",
    "variables = cols_to_plot\n",
    "\n",
    "# Number of variables\n",
    "num_vars = len(variables)\n",
    "\n",
    "# Determine grid size (e.g., 2x2)\n",
    "ncols = 3\n",
    "nrows = (num_vars // ncols) + (num_vars % ncols > 0)\n",
    "\n",
    "# Create subplots\n",
    "fig, axes = plt.subplots(nrows=nrows, ncols=ncols, figsize=(15, 18), constrained_layout=True)\n",
    "\n",
    "# Set the background color of the figure\n",
    "sns.set_style(\"darkgrid\")\n",
    "\n",
    "# Flatten the axes array for easier iteration\n",
    "axes = axes.flatten()\n",
    "\n",
    "# Plot each KDE plot on a separate subplot\n",
    "for ax, variable in zip(axes, variables):\n",
    "    sns.kdeplot(data=differences, x=variable, fill=True, ax=ax, cut=0, bw_adjust=0.5)\n",
    "    #ax.set_title(renaming_dict.get(variable,variable))\n",
    "    ax.set_xlabel(renaming_dict.get(variable,variable))\n",
    "\n",
    "    # Get the min and max values of the variable\n",
    "    min_val = differences[variable].min()\n",
    "    max_val = differences[variable].max()\n",
    "    \n",
    "    # Calculate symmetric limits around zero\n",
    "    max_abs_val = max(abs(min_val), abs(max_val))\n",
    "    x_lim = (-max_abs_val, max_abs_val)\n",
    "\n",
    "    #set varaible specific limits\n",
    "    if x_axes_limits.get(variable,False) != False:\n",
    "        x_lim = x_axes_limits.get(variable,x_lim)\n",
    "    \n",
    "    ax.set_xlim(x_lim)\n",
    "    ax.axvline(0, color='k', linestyle='--', alpha = 0.5)  # Optional: add a vertical line at zero for reference\n",
    "\n",
    "    # Set the background color of the axes\n",
    "    #ax.set_facecolor('grey')\n",
    "    #ax.grid(True, color='white')\n",
    "\n",
    "# Remove any empty subplots\n",
    "for ax in axes[len(variables):]:\n",
    "    fig.delaxes(ax)\n",
    "\n",
    "# Show the plot\n",
    "plt.show()\n"
   ]
  },
  {
   "cell_type": "code",
   "execution_count": null,
   "metadata": {},
   "outputs": [],
   "source": [
    "differences.rename(columns=renaming_dict).describe().round(2)"
   ]
  },
  {
   "cell_type": "markdown",
   "metadata": {},
   "source": [
    "# Cross Tabs"
   ]
  },
  {
   "cell_type": "code",
   "execution_count": null,
   "metadata": {},
   "outputs": [],
   "source": [
    "with (cycleatl_fp/'trips_3.pkl').open('rb') as fh:\n",
    "    trips = pickle.load(fh)\n",
    "with (cycleatl_fp/'users_0.pkl').open('rb') as fh:\n",
    "    users = pickle.load(fh)"
   ]
  },
  {
   "cell_type": "code",
   "execution_count": null,
   "metadata": {},
   "outputs": [],
   "source": [
    "trips.columns"
   ]
  },
  {
   "cell_type": "code",
   "execution_count": null,
   "metadata": {},
   "outputs": [],
   "source": [
    "users.columns"
   ]
  },
  {
   "cell_type": "code",
   "execution_count": null,
   "metadata": {},
   "outputs": [],
   "source": [
    "#pretend they're not the same person for now and then later fix the cycleatl data processing code"
   ]
  },
  {
   "cell_type": "code",
   "execution_count": null,
   "metadata": {},
   "outputs": [],
   "source": [
    "differences['tripid'] = matched_summary['tripid']"
   ]
  },
  {
   "cell_type": "code",
   "execution_count": null,
   "metadata": {},
   "outputs": [],
   "source": [
    "differences_w_info = differences.merge(pd.merge(trips,users,on='userid'),on='tripid')"
   ]
  },
  {
   "cell_type": "code",
   "execution_count": null,
   "metadata": {},
   "outputs": [],
   "source": [
    "differences_w_info['rider_type'].value_counts()"
   ]
  },
  {
   "cell_type": "code",
   "execution_count": null,
   "metadata": {},
   "outputs": [],
   "source": [
    "trips.columns"
   ]
  },
  {
   "cell_type": "code",
   "execution_count": null,
   "metadata": {},
   "outputs": [],
   "source": [
    "users.columns"
   ]
  },
  {
   "cell_type": "code",
   "execution_count": null,
   "metadata": {},
   "outputs": [],
   "source": [
    "hue = \"rider_type\""
   ]
  },
  {
   "cell_type": "code",
   "execution_count": null,
   "metadata": {},
   "outputs": [],
   "source": [
    "import seaborn as sns\n",
    "import matplotlib.pyplot as plt\n",
    "import pandas as pd\n",
    "\n",
    "\n",
    "# Define the variables to plot\n",
    "variables = cols_to_plot\n",
    "\n",
    "# Number of variables\n",
    "num_vars = len(variables)\n",
    "\n",
    "# Determine grid size (e.g., 2x2)\n",
    "ncols = 3\n",
    "nrows = (num_vars // ncols) + (num_vars % ncols > 0)\n",
    "\n",
    "# Create subplots\n",
    "fig, axes = plt.subplots(nrows=nrows, ncols=ncols, figsize=(15, 20), constrained_layout=True)\n",
    "\n",
    "# Set the background color of the figure\n",
    "sns.set_style(\"darkgrid\")\n",
    "\n",
    "# Flatten the axes array for easier iteration\n",
    "axes = axes.flatten()\n",
    "\n",
    "# Plot each KDE plot on a separate subplot\n",
    "i = 0\n",
    "for ax, variable in zip(axes, variables):\n",
    "    if i == 0:\n",
    "        sns.kdeplot(data=differences_w_info, x=variable, fill=False, ax=ax, cut=0, bw_adjust=0.5, hue=hue)\n",
    "        i += 1\n",
    "    else:\n",
    "        sns.kdeplot(data=differences_w_info, x=variable, fill=False, ax=ax, cut=0, bw_adjust=0.5, hue=hue, legend = False)\n",
    "    #ax.set_title(renaming_dict.get(variable,variable))\n",
    "    ax.set_xlabel(renaming_dict.get(variable,variable))\n",
    "\n",
    "    # Get the min and max values of the variable\n",
    "    min_val = differences_w_info[variable].min()\n",
    "    max_val = differences_w_info[variable].max()\n",
    "    \n",
    "    # Calculate symmetric limits around zero\n",
    "    max_abs_val = max(abs(min_val), abs(max_val))\n",
    "    x_lim = (-max_abs_val, max_abs_val)\n",
    "\n",
    "    #set varaible specific limits\n",
    "    if x_axes_limits.get(variable,False) != False:\n",
    "        x_lim = x_axes_limits.get(variable,x_lim)\n",
    "    \n",
    "    ax.set_xlim(x_lim)\n",
    "    ax.axvline(0, color='k', linestyle='--', alpha = 0.5)  # Optional: add a vertical line at zero for reference\n",
    "\n",
    "# Remove any empty subplots\n",
    "for ax in axes[len(variables):]:\n",
    "    fig.delaxes(ax)\n",
    "\n",
    "# Show the plot\n",
    "plt.show()\n"
   ]
  },
  {
   "cell_type": "code",
   "execution_count": null,
   "metadata": {},
   "outputs": [],
   "source": [
    "#multiple_entries = users['userid'].apply(lambda x: isinstance(x,list))\n",
    "\n",
    "#users['rider_type'].apply()\n",
    "# def list_to_single(row):\n",
    "#     if isinstance(row['userid'],list) == False:\n",
    "#         return row\n",
    "    \n",
    "#     #remove nulls\n",
    "#     if isinstance(row['rider_type'],list):\n",
    "\n",
    "\n",
    "#     row[\"rider_type\"]\n"
   ]
  },
  {
   "cell_type": "code",
   "execution_count": null,
   "metadata": {},
   "outputs": [],
   "source": [
    "#have a bad elevation link\n",
    "edges_w_attr.loc[edges_w_attr['ascent_ft'].sort_values(ascending=False).head(10).index,['name','ascent_ft','descent_ft','geometry']].explore()"
   ]
  },
  {
   "cell_type": "code",
   "execution_count": null,
   "metadata": {},
   "outputs": [],
   "source": [
    "matched_summary.loc[[matched_summary['ascent_ft'].idxmax()]].explore()"
   ]
  },
  {
   "cell_type": "code",
   "execution_count": null,
   "metadata": {},
   "outputs": [],
   "source": [
    "differences.sort_values('ascent_ft',ascending=False).head(10)"
   ]
  },
  {
   "cell_type": "code",
   "execution_count": null,
   "metadata": {},
   "outputs": [],
   "source": [
    "sns.kdeplot(data=matched_summary[link_type_new],cut=0,bw_adjust=5)"
   ]
  },
  {
   "cell_type": "markdown",
   "metadata": {},
   "source": [
    "# Deprecated past here"
   ]
  },
  {
   "cell_type": "code",
   "execution_count": null,
   "metadata": {},
   "outputs": [],
   "source": [
    "import pandas as pd\n",
    "from sklearn.model_selection import train_test_split\n",
    "from sklearn.tree import DecisionTreeRegressor\n",
    "from sklearn.metrics import mean_squared_error, r2_score\n",
    "\n",
    "df = summary_df.copy()\n",
    "\n",
    "# Assuming your dataframe is named df\n",
    "# Drop any rows with missing values (if any)\n",
    "df.fillna(0,inplace=True)\n",
    "\n",
    "# Define features and target variable\n",
    "X = df.drop(columns=['tripid', 'geometry', 'length_ft'])\n",
    "y = df['length_ft']\n",
    "\n",
    "# Split the data into training and testing sets\n",
    "X_train, X_test, y_train, y_test = train_test_split(X, y, test_size=0.2, random_state=42)\n",
    "\n",
    "# Initialize the model\n",
    "regressor = DecisionTreeRegressor(random_state=42)\n",
    "\n",
    "# Train the model\n",
    "regressor.fit(X_train, y_train)\n",
    "\n",
    "# Predict on the test set\n",
    "y_pred = regressor.predict(X_test)\n",
    "\n",
    "# Evaluate the model\n",
    "mse = mean_squared_error(y_test, y_pred)\n",
    "r2 = r2_score(y_test, y_pred)\n",
    "\n",
    "print(f\"Mean Squared Error: {mse}\")\n",
    "print(f\"R^2 Score: {r2}\")\n"
   ]
  },
  {
   "cell_type": "code",
   "execution_count": null,
   "metadata": {},
   "outputs": [],
   "source": [
    "from sklearn.tree import plot_tree\n",
    "import matplotlib.pyplot as plt\n",
    "\n",
    "plt.figure(figsize=(20,10))\n",
    "plot_tree(regressor, feature_names=X.columns, filled=True, rounded=True)\n",
    "plt.show()\n"
   ]
  },
  {
   "cell_type": "code",
   "execution_count": null,
   "metadata": {},
   "outputs": [],
   "source": [
    "feature_importances = pd.Series(regressor.feature_importances_, index=X.columns).sort_values(ascending=False)\n",
    "print(feature_importances)\n"
   ]
  },
  {
   "cell_type": "code",
   "execution_count": null,
   "metadata": {},
   "outputs": [],
   "source": [
    "import random\n",
    "testtrip = random.choice(list(matched_traces_dict.keys()))\n",
    "testtrip = matched_traces_dict[testtrip]"
   ]
  },
  {
   "cell_type": "code",
   "execution_count": null,
   "metadata": {},
   "outputs": [],
   "source": [
    "summary_dict = {}\n",
    "\n",
    "#get edges\n",
    "route = testtrip['edges']\n"
   ]
  },
  {
   "cell_type": "code",
   "execution_count": null,
   "metadata": {},
   "outputs": [],
   "source": [
    "#get route and turns\n",
    "route = [tuple(x) for x in testtrip['edges'].values]\n",
    "turns = [(route[i][0],route[i][1],route[i+1][0],route[i+1][1]) for i in range(0,len(route)-1)]"
   ]
  },
  {
   "cell_type": "code",
   "execution_count": null,
   "metadata": {},
   "outputs": [],
   "source": [
    "'''\n",
    "Two different types of summarization:\n",
    "\n",
    "Instance based (turns, signals, bridges, etc)\n",
    "\n",
    "Length based on certain tag (bike facilities)\n",
    "\n",
    "Cumulative (length,elevation)\n",
    "\n",
    "'''\n",
    "\n",
    "summary_attributes = {}\n",
    "\n",
    "#get trip date for the bike facility check\n",
    "trip_date_year = testtrip['trace'].iloc[0,2].year\n",
    "\n",
    "#get route and turns\n",
    "route = testtrip['edges']\n",
    "turns = [(route.values[i][0],route.values[i][1],route.values[i+1][0],route.values[i+1][1]) for i in range(0,len(route.values)-1)]\n",
    "turns = pd.DataFrame(turns,columns=['source_linkid','source_reverse_link','target_linkid','target_reverse_link'])\n"
   ]
  },
  {
   "cell_type": "code",
   "execution_count": null,
   "metadata": {},
   "outputs": [],
   "source": [
    "\n",
    "#retrieve attributes\n",
    "route_w_attr = pd.merge(route,edges_w_attr,on='linkid')\n",
    "turns_w_attr = pd.merge(turns,turns_df,on=['source_linkid','source_reverse_link','target_linkid','target_reverse_link'])\n",
    "\n",
    "#turn to gdf\n",
    "route_w_attr = gpd.GeoDataFrame(route_w_attr,geometry='geometry',crs=config['projected_crs_epsg'])\n",
    "summary_attributes[\"geometry\"] = MultiLineString(route_w_attr['geometry'].tolist())\n",
    "\n",
    "#flip relevant attributes\n",
    "route_w_attr.loc[route_w_attr['reverse_link']==True,ascent_columns+descent_columns+bike_facils] = \\\n",
    "    route_w_attr.loc[route_w_attr['reverse_link']==True,descent_columns+ascent_columns+bike_facils[::-1]].values\n",
    "\n",
    "#set the bike facility to na if the trip date was before the bike facility\n",
    "route_w_attr.loc[route_w_attr['year'] > trip_date_year,bike_facils] = np.nan\n",
    "\n",
    "#summary columns\n",
    "summary_attributes[\"length_ft\"] = route_w_attr['length_ft'].sum().round(0)\n",
    "summary_attributes[\"ascent_m\"] = route_w_attr['ascent_m'].sum().round(0)\n",
    "summary_attributes[\"descent_m\"] = route_w_attr['descent_m'].sum().round(0)\n",
    "\n",
    "# average grade by category (from broach)\n",
    "zero_to_two = (route_w_attr['ascent_grade_%'] > 0) & (route_w_attr['ascent_grade_%'] <= 2)\n",
    "two_to_four = (route_w_attr['ascent_grade_%'] > 2) & (route_w_attr['ascent_grade_%'] <= 4)\n",
    "four_to_six = (route_w_attr['ascent_grade_%'] > 4) & (route_w_attr['ascent_grade_%'] <= 6)\n",
    "six_and_beyond = (route_w_attr['ascent_grade_%'] > 6)\n",
    "summary_attributes[\"zero_to_two_%_ft\"] = route_w_attr.loc[zero_to_two,'length_ft'].sum().round(0)\n",
    "summary_attributes[\"two_to_four_%_ft\"] = route_w_attr.loc[two_to_four,'length_ft'].sum().round(0)\n",
    "summary_attributes[\"four_to_six_%_ft\"] = route_w_attr.loc[four_to_six,'length_ft'].sum().round(0)\n",
    "summary_attributes[\"six_and_beyond_%_ft\"] = route_w_attr.loc[six_and_beyond,'length_ft'].sum().round(0)\n",
    "\n",
    "#TODO add this back in the elevation step and use the same limits?\n",
    "#add meters on grade segments (i.e. add all in length along x to x)\n",
    "#could possibly be a more accurate represntation of steep roads\n",
    "\n",
    "# #instance columns to summarize\n",
    "# count_cols = ['bridge','tunnel']\n",
    "# for count_col in count_cols:\n",
    "#     summary_attributes[count_col] = (route_w_attr[count_col]==True).sum().round(0)\n",
    "\n",
    "# length of route columns to summarize\n",
    "cols = ['link_type_new','facility_fwd']#['link_type','highway']#,'speedlimit_range_mph','lanes_per_direction']\n",
    "for col in cols:\n",
    "    #make a summary column for every unique value in that column\n",
    "    for unique_val in route_w_attr[col].unique():\n",
    "        #skip if nan\n",
    "        if isinstance(unique_val,str) == False:\n",
    "            continue\n",
    "        summary_attributes[col+'.'+unique_val+'_ft'] = route_w_attr.loc[route_w_attr[col]==unique_val,'length_ft'].sum().round(0)\n",
    "        \n",
    "# turns\n",
    "summary_attributes.update(turns_w_attr['turn_type'].value_counts().to_dict())\n"
   ]
  },
  {
   "cell_type": "code",
   "execution_count": null,
   "metadata": {},
   "outputs": [],
   "source": []
  },
  {
   "cell_type": "code",
   "execution_count": null,
   "metadata": {},
   "outputs": [],
   "source": [
    "summary_attributes"
   ]
  },
  {
   "cell_type": "code",
   "execution_count": null,
   "metadata": {},
   "outputs": [],
   "source": [
    "df_edges['tup'] = list(zip(df_edges['linkid'],df_edges['reverse_link']))\n",
    "chosen_links = df_edges.set_index('tup').loc[list_of_edges]\n",
    "list_of_turns = [(list_of_edges[i][0],list_of_edges[i][1],list_of_edges[i+1][0],list_of_edges[i+1][1]) for i in range(0,len(list_of_edges)-1)]\n",
    "chosen_turns = pseudo_df.set_index(['source_linkid','source_reverse_link','target_linkid','target_reverse_link']).loc[list_of_turns]\n",
    "chosen_links.columns\n"
   ]
  },
  {
   "cell_type": "code",
   "execution_count": null,
   "metadata": {},
   "outputs": [],
   "source": [
    "#intialize summary dict\n",
    "summary_attributes = {}\n"
   ]
  },
  {
   "cell_type": "code",
   "execution_count": null,
   "metadata": {},
   "outputs": [],
   "source": [
    "\n",
    "#trip distance\n",
    "summary_attributes['trip_distance_ft'] = chosen_links['length_ft'].sum()\n"
   ]
  },
  {
   "cell_type": "code",
   "execution_count": null,
   "metadata": {},
   "outputs": [],
   "source": [
    "\n",
    "#instance columns to summarize\n",
    "count_cols = ['bridge','tunnel']\n",
    "for count_col in count_cols:\n",
    "    summary_attributes[count_col] = (chosen_links[count_col]==True).sum()\n",
    "\n",
    "#general elevation\n",
    "total_ascent = (chosen_links['ascent_m'].sum() / 3.28).round(0)\n",
    "summary_attributes['ascent_ft'] = total_ascent \n",
    "summary_attributes['avg_ascent_grade'] = (total_ascent / chosen_links['length_ft'].sum() * 100).round(1)\n",
    "\n",
    "#elevation broken by segment\n",
    "elev_cols = ['(0,2]_ascent','(2,4]_ascent', '(4,6]_ascent', '(6,10]_ascent', '(10,15]_ascent','(15,inf]_ascent']\n",
    "for elev_col in elev_cols:\n",
    "    total_length = (chosen_links[elev_col].sum() / 3.28).round(0)\n",
    "    summary_attributes[elev_col+'_ft'] = total_length\n",
    "\n",
    "#pct of route columns to summarize\n",
    "cols = ['link_type','highway','bike_facility_type','speedlimit_range_mph','lanes_per_direction']\n",
    "for col in cols:\n",
    "    #make a summary column for every unique value in that column\n",
    "    for unique_val in chosen_links[col].unique():\n",
    "        if (unique_val != None) | (unique_val == np.nan):\n",
    "            total_length = chosen_links[chosen_links[col] == unique_val]['length_ft'].sum()\n",
    "        else:\n",
    "            continue\n",
    "        if isinstance(unique_val,str) == False:\n",
    "            unique_val = str(unique_val)\n",
    "        summary_attributes[col+'.'+unique_val] = np.round(total_length/chosen_links['length_ft'].sum(),2)\n",
    "\n",
    "# signalized and turns\n",
    "summary_attributes['signalized'] = (chosen_turns['signalized']==True).sum()\n",
    "summary_attributes['unsignalized'] = (chosen_turns['unsignalized']==True).sum()\n",
    "turn_dict = chosen_turns['turn_type'].value_counts().to_dict()\n",
    "summary_attributes.update(turn_dict)\n",
    "\n",
    "summary_dict[tripid] = summary_attributes\n",
    "\n"
   ]
  },
  {
   "cell_type": "code",
   "execution_count": null,
   "metadata": {},
   "outputs": [],
   "source": [
    "summary_attributes"
   ]
  },
  {
   "cell_type": "code",
   "execution_count": null,
   "metadata": {},
   "outputs": [],
   "source": [
    "#turn into geodataframe\n",
    "trips_df_info = pd.DataFrame.from_dict(summary_dict,orient='index')\n",
    "trips_df_info.fillna(0,inplace=True)"
   ]
  },
  {
   "cell_type": "code",
   "execution_count": null,
   "metadata": {},
   "outputs": [],
   "source": [
    "trips_df_info"
   ]
  },
  {
   "cell_type": "code",
   "execution_count": null,
   "metadata": {},
   "outputs": [],
   "source": [
    "trips_df = trips_df.merge(trips_df_info,left_on='tripid',right_index=True)"
   ]
  },
  {
   "cell_type": "code",
   "execution_count": null,
   "metadata": {},
   "outputs": [],
   "source": [
    "#TODO find the visualiztion code that we had already made"
   ]
  },
  {
   "cell_type": "code",
   "execution_count": null,
   "metadata": {},
   "outputs": [],
   "source": [
    "# list_of_edges = list(zip(edges['linkid'],edges['reverse_link']))\n",
    "# list_of_turns = [(list_of_edges[i][0],list_of_edges[i][1],list_of_edges[i+1][0],list_of_edges[i+1][1]) for i in range(0,len(list_of_edges)-1)]\n",
    "\n",
    "# chosen_links = df_edges.set_index(['linkid','reverse_link'],drop=False).loc[list_of_edges]\n",
    "\n",
    "# chosen_links['bridge'].value_counts()"
   ]
  },
  {
   "cell_type": "code",
   "execution_count": null,
   "metadata": {},
   "outputs": [],
   "source": [
    "#add user info\n",
    "trip_and_user = pd.read_pickle(fp/'gps_traces/trip_and_user.pkl')\n",
    "\n",
    "trips_df = trips_df_info.merge(trip_and_user,left_index=True,right_on='tripid')"
   ]
  },
  {
   "cell_type": "code",
   "execution_count": null,
   "metadata": {},
   "outputs": [],
   "source": [
    "trips_df.to_csv(fp/'all_attrs.csv',index=False)"
   ]
  },
  {
   "cell_type": "code",
   "execution_count": null,
   "metadata": {},
   "outputs": [],
   "source": [
    "#instead of visualizing here visualize elsewhere?"
   ]
  },
  {
   "cell_type": "code",
   "execution_count": null,
   "metadata": {},
   "outputs": [],
   "source": []
  },
  {
   "cell_type": "code",
   "execution_count": null,
   "metadata": {},
   "outputs": [],
   "source": [
    "\n",
    "#import stochastic_optimization\n"
   ]
  },
  {
   "cell_type": "code",
   "execution_count": null,
   "metadata": {},
   "outputs": [],
   "source": [
    "# fp = Path.home() / 'Documents/BikewaySimData/Projects/gdot'\n",
    "# #fp = Path.home() / 'Library/CloudStorage/OneDrive-GeorgiaInstituteofTechnology/BikewaySim/Data'\n",
    "\n",
    "# with (fp / 'impedance_calibration.pkl').open('rb') as fh:\n",
    "#     (df_edges,pseudo_df,pseudo_G) = pickle.load(fh)"
   ]
  },
  {
   "cell_type": "code",
   "execution_count": null,
   "metadata": {},
   "outputs": [],
   "source": [
    "# Retrieve link/turn costs\n",
    "# default below is link distance\n",
    "# link_costs = dict(zip(list(zip(df_edges['source'],df_edges['target'],df_edges['linkid'])),df_edges['length_ft']))\n",
    "# tup = list(zip(pseudo_df['source_A'],pseudo_df['source_B'],pseudo_df['source_linkid']))\n",
    "# pseudo_df['source_cost'] = list(map(link_costs.get,tup))\n",
    "# tup = list(zip(pseudo_df['target_A'],pseudo_df['target_B'],pseudo_df['target_linkid']))\n",
    "\n",
    "# pseudo_df['target_cost'] = list(map(link_costs.get,tup))\n",
    "# pseudo_df['total_cost'] = pseudo_df['source_cost'] + pseudo_df['target_cost'] #+turn_cost\n",
    "\n",
    "# costs = pseudo_df.groupby(['source','target'])['total_cost'].min()\n",
    "# nx.set_edge_attributes(pseudo_G,values=costs,name='weight')\n",
    "# source = list(pseudo_G.nodes())[0]\n",
    "# target = list(pseudo_G.nodes())[420]\n",
    "# print(source,target)\n",
    "# import networkx as nx\n",
    "# length, edge_list = nx.single_source_dijkstra(pseudo_G,source,target,weight=\"weight\")\n",
    "# turn_list = [[edge_list[i][0],edge_list[i][1],edge_list[i+1][0],edge_list[i+1][1]] for i in range(len(edge_list)-1)]\n",
    "\n",
    "# turn_cols = ['turn_type','signalized_left_straight','unsignalized_left_straight_nonlocal']\n",
    "# linkid_cols = ['source_linkid','source_reverse_link','target_linkid','target_reverse_link']\n",
    "# chosen_turns = pseudo_df.set_index(['source_A','source_B','target_A','target_B'],drop=False).loc[turn_list,linkid_cols+turn_cols]\n",
    "\n",
    "# tripid = 302\n",
    "\n",
    "# #make a single row dataframe to attach to trips_df\n",
    "# stats_dict = {}\n",
    "# stats_dict[tripid] = {\n",
    "#     'tripid':tripid,\n",
    "#     'signalized_left_straight': chosen_turns['signalized_left_straight'].sum(),\n",
    "#     'unsignalized_left_straight_nonlocal': chosen_turns['unsignalized_left_straight_nonlocal'].sum()\n",
    "# }\n",
    "# turn_dict = chosen_turns['turn_type'].value_counts().to_dict()\n",
    "# stats_dict[tripid].update(turn_dict)"
   ]
  },
  {
   "cell_type": "markdown",
   "metadata": {},
   "source": [
    "# Case 1: Need to run shortest paths to create link sequence"
   ]
  },
  {
   "cell_type": "code",
   "execution_count": null,
   "metadata": {},
   "outputs": [],
   "source": [
    "# source_links = chosen_turns[['source_linkid','source_reverse_link']]\n",
    "# target_links = chosen_turns[['target_linkid','target_reverse_link']]\n",
    "# source_links.columns = ['linkid','reverse_link']\n",
    "# target_links.columns = ['linkid','reverse_link']\n",
    "# linkids = pd.concat([source_links,target_links],ignore_index=True).drop_duplicates()\n",
    "# chosen_links = df_edges.merge(linkids,on=['linkid','reverse_link'])"
   ]
  },
  {
   "cell_type": "code",
   "execution_count": null,
   "metadata": {},
   "outputs": [],
   "source": []
  },
  {
   "cell_type": "code",
   "execution_count": null,
   "metadata": {},
   "outputs": [],
   "source": []
  },
  {
   "cell_type": "code",
   "execution_count": null,
   "metadata": {},
   "outputs": [],
   "source": []
  },
  {
   "cell_type": "code",
   "execution_count": null,
   "metadata": {},
   "outputs": [],
   "source": [
    "#TODO recalculate bearing\n",
    "#create pseudo graph for modeling turns\n",
    "df_edges, pseudo_links, pseudo_G = modeling_turns.create_pseudo_dual_graph(links,'A','B','linkid','oneway')\n"
   ]
  },
  {
   "cell_type": "code",
   "execution_count": null,
   "metadata": {},
   "outputs": [],
   "source": [
    "source = list(pseudo_G.nodes())[0]\n",
    "target = list(pseudo_G.nodes())[420]"
   ]
  },
  {
   "cell_type": "code",
   "execution_count": null,
   "metadata": {},
   "outputs": [],
   "source": [
    "source = (68209677, 68209675)\n",
    "target = (69200243, 69465418)\n",
    "\n",
    "import networkx as nx\n",
    "length, path = nx.single_source_dijkstra(pseudo_G,source,target)"
   ]
  },
  {
   "cell_type": "code",
   "execution_count": null,
   "metadata": {},
   "outputs": [],
   "source": [
    "edge_list = [(linkids[i],linkids[i+1]) for i in range(len(linkids)-1)]\n",
    "edge_list"
   ]
  },
  {
   "cell_type": "code",
   "execution_count": null,
   "metadata": {},
   "outputs": [],
   "source": [
    "edge_list = [(*path[i],*path[i+1]) for i in range(len(path)-1)]\n",
    "edge_list"
   ]
  },
  {
   "cell_type": "code",
   "execution_count": null,
   "metadata": {},
   "outputs": [],
   "source": [
    "pseudo_links.columns"
   ]
  },
  {
   "cell_type": "code",
   "execution_count": null,
   "metadata": {},
   "outputs": [],
   "source": [
    "pseudo_links.set_index(['source_A','source_B','target_A','target_B']).loc[edge_list,'turn_type'].value_counts()"
   ]
  },
  {
   "cell_type": "code",
   "execution_count": null,
   "metadata": {},
   "outputs": [],
   "source": []
  },
  {
   "cell_type": "code",
   "execution_count": null,
   "metadata": {},
   "outputs": [],
   "source": []
  },
  {
   "cell_type": "code",
   "execution_count": null,
   "metadata": {},
   "outputs": [],
   "source": []
  },
  {
   "cell_type": "code",
   "execution_count": null,
   "metadata": {},
   "outputs": [],
   "source": []
  },
  {
   "cell_type": "code",
   "execution_count": null,
   "metadata": {},
   "outputs": [],
   "source": []
  },
  {
   "cell_type": "code",
   "execution_count": null,
   "metadata": {},
   "outputs": [],
   "source": []
  },
  {
   "cell_type": "code",
   "execution_count": null,
   "metadata": {},
   "outputs": [],
   "source": []
  },
  {
   "cell_type": "code",
   "execution_count": null,
   "metadata": {},
   "outputs": [],
   "source": []
  },
  {
   "cell_type": "code",
   "execution_count": null,
   "metadata": {},
   "outputs": [],
   "source": []
  },
  {
   "cell_type": "code",
   "execution_count": null,
   "metadata": {},
   "outputs": [],
   "source": []
  }
 ],
 "metadata": {
  "kernelspec": {
   "display_name": "Python 3",
   "language": "python",
   "name": "python3"
  },
  "language_info": {
   "codemirror_mode": {
    "name": "ipython",
    "version": 3
   },
   "file_extension": ".py",
   "mimetype": "text/x-python",
   "name": "python",
   "nbconvert_exporter": "python",
   "pygments_lexer": "ipython3",
   "version": "3.9.13"
  }
 },
 "nbformat": 4,
 "nbformat_minor": 2
}

{
 "cells": [
  {
   "cell_type": "code",
   "execution_count": null,
   "metadata": {},
   "outputs": [],
   "source": [
    "import pickle\n",
    "from pathlib import Path\n",
    "\n",
    "from bikewaysim.paths import config\n",
    "from bikewaysim.impedance_calibration import stochastic_optimization\n",
    "\n",
    "# Get the script name (with the full path)\n",
    "calibration_name = Path(__file__).stem\n",
    "\n",
    "if __name__ == '__main__':\n",
    "    # determine variables, impedance type, and search range\n",
    "    betas_tup = (\n",
    "        {'col':'2lpd','type':'link','range':[0,3]},\n",
    "        {'col':'3+lpd','type':'link','range':[0,3]},\n",
    "        {'col':'(30,40] mph','type':'link','range':[0,3]},\n",
    "        {'col':'(40,inf) mph','type':'link','range':[0,3]},\n",
    "        {'col':'[4k,10k) aadt','type':'link','range':[0,3]},\n",
    "        {'col':'[10k,inf) aadt','type':'link','range':[0,3]},\n",
    "        {'col':'[4,6) grade','type':'link','range':[0,3]},\n",
    "        {'col':'[6,inf) grade','type':'link','range':[0,3]},\n",
    "        {'col':'bike lane','type':'link','range':[-1,0]},\n",
    "        # {'col':'cycletrack','type':'link','range':[-1,0]},\n",
    "        # {'col':'multi use path','type':'link','range':[-1,0]},\n",
    "        {'col':'multi use path_original','type':'link','range':[-1,1]},\n",
    "        # {'col':'unsig_major_road_crossing','type':'turn','range':[0,2]}\n",
    "    )\n",
    "    set_to_zero = []#['bike lane']\n",
    "    set_to_inf = []#['multi use path_original']\n",
    "\n",
    "    # determine the objective function to use and other settings\n",
    "    objective_function = stochastic_optimization.jaccard_buffer_mean\n",
    "    batching = False\n",
    "    stochastic_optimization_settings = {\n",
    "        'method':'pso',\n",
    "        'options': {'maxiter':100,'popsize':3}\n",
    "        }\n",
    "    print_results = False\n",
    "\n",
    "    with (config['calibration_fp']/'ready_for_calibration.pkl').open('rb') as fh:\n",
    "        full_set = pickle.load(fh)\n",
    "\n",
    "    stochastic_optimization.full_impedance_calibration(\n",
    "        betas_tup,\n",
    "        set_to_zero,\n",
    "        set_to_inf,\n",
    "        objective_function,\n",
    "        batching,\n",
    "        stochastic_optimization_settings,\n",
    "        full_set,\n",
    "        print_results,\n",
    "        calibration_name\n",
    "        )\n"
   ]
  }
 ],
 "metadata": {
  "kernelspec": {
   "display_name": "Python 3",
   "language": "python",
   "name": "python3"
  },
  "language_info": {
   "codemirror_mode": {
    "name": "ipython",
    "version": 3
   },
   "file_extension": ".py",
   "mimetype": "text/x-python",
   "name": "python",
   "nbconvert_exporter": "python",
   "pygments_lexer": "ipython3",
   "version": "3.9.13"
  }
 },
 "nbformat": 4,
 "nbformat_minor": 2
}
